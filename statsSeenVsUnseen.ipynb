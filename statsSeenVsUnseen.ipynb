{
 "cells": [
  {
   "cell_type": "code",
   "execution_count": 1,
   "id": "82b48721-36af-4e11-8e63-585b02ab7638",
   "metadata": {},
   "outputs": [],
   "source": [
    "import pandas as pd "
   ]
  },
  {
   "cell_type": "code",
   "execution_count": 5,
   "id": "cb6b3536-8cc6-4db9-92d0-5c8678707578",
   "metadata": {},
   "outputs": [],
   "source": [
    "unseen_csv = pd.read_csv('get_unseen_fresh_samples/updated_species_samples.csv')\n",
    "seen_csv = pd.read_csv('only_five_missing.csv')"
   ]
  },
  {
   "cell_type": "code",
   "execution_count": 14,
   "id": "acd3467d-20ac-45c2-933a-a8c178cf203b",
   "metadata": {},
   "outputs": [
    {
     "data": {
      "text/plain": [
       "Index(['processid', 'sampleid', 'recordID', 'catalognum', 'fieldnum',\n",
       "       'institution_storing', 'bin_uri', 'phylum_taxID', 'phylum_name',\n",
       "       'class_taxID', 'class_name', 'order_taxID', 'order_name',\n",
       "       'family_taxID', 'family_name', 'subfamily_taxID', 'subfamily_name',\n",
       "       'genus_taxID', 'genus_name', 'species_taxID', 'species_name',\n",
       "       'subspecies_taxID', 'subspecies_name', 'identification_provided_by',\n",
       "       'voucher_type', 'tissue_type', 'collectors', 'collectiondate',\n",
       "       'lifestage', 'sex', 'reproduction', 'extrainfo', 'notes', 'lat', 'lon',\n",
       "       'coord_source', 'coord_accuracy', 'country', 'province', 'region',\n",
       "       'exactsite', 'image_ids', 'image_urls', 'copyright_licenses',\n",
       "       'trace_ids', 'trace_links', 'run_dates', 'sequencing_centers',\n",
       "       'directions', 'seq_primers', 'marker_codes', 'nucleotide'],\n",
       "      dtype='object')"
      ]
     },
     "execution_count": 14,
     "metadata": {},
     "output_type": "execute_result"
    }
   ],
   "source": [
    "(unseen_csv.columns)"
   ]
  },
  {
   "cell_type": "code",
   "execution_count": 13,
   "id": "70a44de7-0cf3-47c4-bab0-af0b4c6c2cc9",
   "metadata": {},
   "outputs": [
    {
     "data": {
      "text/plain": [
       "Index(['Unnamed: 0', 'processid', 'sampleid', 'recordID', 'catalognum',\n",
       "       'fieldnum', 'institution_storing', 'bin_uri', 'phylum_taxID',\n",
       "       'phylum_name', 'class_taxID', 'class_name', 'order_taxID', 'order_name',\n",
       "       'family_taxID', 'family_name', 'subfamily_taxID', 'subfamily_name',\n",
       "       'genus_taxID', 'genus_name', 'species_taxID', 'species_name',\n",
       "       'subspecies_taxID', 'subspecies_name', 'identification_provided_by',\n",
       "       'voucher_type', 'tissue_type', 'collectors', 'collectiondate',\n",
       "       'lifestage', 'sex', 'reproduction', 'extrainfo', 'notes', 'lat', 'lon',\n",
       "       'coord_source', 'coord_accuracy', 'country', 'province', 'region',\n",
       "       'exactsite', 'image_ids', 'image_urls', 'copyright_licenses',\n",
       "       'trace_ids', 'trace_links', 'run_dates', 'sequencing_centers',\n",
       "       'directions', 'seq_primers', 'marker_codes', 'nucleotide'],\n",
       "      dtype='object')"
      ]
     },
     "execution_count": 13,
     "metadata": {},
     "output_type": "execute_result"
    }
   ],
   "source": [
    "(seen_csv.columns)"
   ]
  },
  {
   "cell_type": "code",
   "execution_count": 17,
   "id": "761119b7-1a79-40ed-8de2-94b02d90f668",
   "metadata": {},
   "outputs": [
    {
     "data": {
      "text/plain": [
       "array(['United States', 'Canada', 'China', 'Russia', 'Spain', 'Japan',\n",
       "       'Germany', 'Kyrgyzstan', 'Sweden', 'Norway', 'Pakistan', 'Ecuador',\n",
       "       'Costa Rica', 'Mexico', 'French Guiana', 'Honduras', 'Puerto Rico',\n",
       "       'Argentina', 'Italy', 'Guatemala', 'South Africa',\n",
       "       'Czech Republic', 'Trinidad and Tobago', 'Peru', 'Thailand',\n",
       "       'Poland', 'Australia', 'Montenegro', 'Greece', 'Tanzania',\n",
       "       'Lesotho', 'Chile', 'Colombia', 'Lebanon', 'Georgia', 'Bulgaria',\n",
       "       'Brazil', 'Finland', 'Mozambique', 'Kenya', 'Morocco', 'Jamaica',\n",
       "       'Venezuela', 'Panama', 'France', 'Madagascar', 'Gabon', 'Cameroon',\n",
       "       'Ghana', 'Bangladesh', 'Bolivia', 'Armenia', 'North Macedonia',\n",
       "       'Romania', 'Kazakhstan', 'Azerbaijan', 'Iran', 'Malaysia',\n",
       "       'Austria', 'Turkey', 'Croatia', 'Belgium', 'Hungary', 'Vietnam',\n",
       "       'Indonesia', 'Papua New Guinea', 'French Polynesia', 'Egypt',\n",
       "       'Greenland', 'Switzerland', 'Philippines', 'Israel', 'Suriname',\n",
       "       'Uganda', 'New Zealand', 'Saudi Arabia', 'Cyprus', 'Portugal',\n",
       "       'British Virgin Islands', 'Namibia', 'Albania', 'Ethiopia',\n",
       "       'Democratic Republic of the Congo', 'Guinea', 'Sri Lanka',\n",
       "       'Bhutan', 'Gambia', 'Central African Republic', 'Nicaragua', ' ',\n",
       "       'Iceland', 'Belize', 'Bahamas', 'Taiwan', 'Netherlands',\n",
       "       'United Kingdom', 'Nigeria', 'Malawi', 'Tunisia', 'El Salvador',\n",
       "       'Paraguay', 'Pacific Ocean', 'Fiji', 'Singapore', 'Haiti',\n",
       "       'Cambodia', 'India', 'Oman', 'Mongolia', 'Belarus', 'Reunion',\n",
       "       \"Cote d'Ivoire\", 'Yemen', 'South Korea', 'Eswatini',\n",
       "       'United Arab Emirates'], dtype=object)"
      ]
     },
     "execution_count": 17,
     "metadata": {},
     "output_type": "execute_result"
    }
   ],
   "source": [
    "unseen_csv['country'].unique()"
   ]
  },
  {
   "cell_type": "code",
   "execution_count": 20,
   "id": "fa4ddf5f-ffa3-4ec0-8cd6-03a74d30905c",
   "metadata": {},
   "outputs": [
    {
     "data": {
      "text/plain": [
       "array(['Australia', 'Czech Republic', 'Germany', 'Costa Rica',\n",
       "       'United Kingdom', 'Finland', 'Sweden', 'United States', 'Canada',\n",
       "       'Italy', 'Austria', 'Norway', 'France', 'Nicaragua', 'Belgium',\n",
       "       'Brazil', 'Venezuela', 'Greece', 'Mexico', 'Netherlands',\n",
       "       'Ecuador', 'Peru', 'China', 'New Zealand', 'Macedonia', 'Estonia',\n",
       "       'Pakistan', 'Thailand', 'Greenland', 'Slovenia', 'Russia', 'Spain',\n",
       "       'Denmark', 'Portugal', 'Bulgaria', 'South Africa', 'Georgia',\n",
       "       'Israel', 'Turkey', 'Croatia', 'Panama', 'Mongolia', 'Taiwan',\n",
       "       'Switzerland', 'Slovakia', 'Cyprus', 'Morocco',\n",
       "       'United Arab Emirates', 'Ireland', 'Hungary', 'Laos', 'Honduras',\n",
       "       'Gabon', 'Poland', 'Namibia', 'Japan', 'Iran', 'Azerbaijan',\n",
       "       'Kazakhstan', 'Egypt', 'Puerto Rico', 'Guatemala', 'Cuba',\n",
       "       'Argentina', 'Paraguay', 'Vanuatu', 'Trinidad and Tobago',\n",
       "       'Papua New Guinea', 'Malaysia', 'Iceland', 'Tuvalu'], dtype=object)"
      ]
     },
     "execution_count": 20,
     "metadata": {},
     "output_type": "execute_result"
    }
   ],
   "source": [
    "seen_csv['country'].unique()"
   ]
  },
  {
   "cell_type": "code",
   "execution_count": 55,
   "id": "52e7552f-1247-4ef2-9c5d-d5f88ccec409",
   "metadata": {},
   "outputs": [
    {
     "data": {
      "text/plain": [
       "52"
      ]
     },
     "execution_count": 55,
     "metadata": {},
     "output_type": "execute_result"
    }
   ],
   "source": []
  },
  {
   "cell_type": "code",
   "execution_count": 88,
   "id": "894ede1d-fd6a-416a-975f-efa74f5ab088",
   "metadata": {},
   "outputs": [
    {
     "data": {
      "image/png": "[encoded data removed]",
      "text/plain": [
       "<Figure size 640x480 with 1 Axes>"
      ]
     },
     "metadata": {},
     "output_type": "display_data"
    }
   ],
   "source": [
    "import matplotlib.pyplot as plt \n",
    "country_counts = unseen_csv['country'].value_counts()\n",
    "filtered_counts = country_counts[country_counts >= country_counts.iloc[15]]\n",
    "filtered_counts.plot(kind='bar', color='skyblue', edgecolor='black')\n",
    "\n",
    "# Add labels and title\n",
    "plt.title('Unseen Number of Records Per Country')\n",
    "plt.xlabel('Country')\n",
    "plt.ylabel('Count')\n",
    "plt.xticks(rotation=45)\n",
    "plt.show()"
   ]
  },
  {
   "cell_type": "code",
   "execution_count": 89,
   "id": "4e6a0b96-5ff7-430a-8480-80c08ccfb0ed",
   "metadata": {},
   "outputs": [
    {
     "data": {
      "image/png": "[encoded data removed]",
      "text/plain": [
       "<Figure size 640x480 with 1 Axes>"
      ]
     },
     "metadata": {},
     "output_type": "display_data"
    }
   ],
   "source": [
    "import matplotlib.pyplot as plt \n",
    "country_counts = seen_csv['country'].value_counts()\n",
    "filtered_counts = country_counts[country_counts >= country_counts.iloc[15]]\n",
    "filtered_counts.plot(kind='bar', color='skyblue', edgecolor='black')\n",
    "\n",
    "# Add labels and title\n",
    "plt.title('Seen Number of Records Per Country')\n",
    "plt.xlabel('Country')\n",
    "plt.ylabel('Count')\n",
    "plt.xticks(rotation=45)\n",
    "plt.show()"
   ]
  },
  {
   "cell_type": "code",
   "execution_count": 84,
   "id": "a073b90a-9455-4e21-8519-5154dc3aad28",
   "metadata": {},
   "outputs": [
    {
     "name": "stdout",
     "output_type": "stream",
     "text": [
      "median of unseen latitudes:33.9972\n",
      "median of seen latitudes:29.955\n"
     ]
    }
   ],
   "source": [
    "import numpy as np\n",
    "print(f\"median of unseen latitudes:{np.median(unseen_csv['lat'].loc[unseen_csv['lat']!=' '].to_numpy().astype(float))}\")\n",
    "print(f\"median of seen latitudes:{np.median(seen_csv['lat'].loc[seen_csv['lat']!=' '].to_numpy().astype(float))}\")\n"
   ]
  },
  {
   "cell_type": "code",
   "execution_count": 86,
   "id": "a43491d7-3193-4797-bf7a-f803d94a60bf",
   "metadata": {},
   "outputs": [
    {
     "name": "stdout",
     "output_type": "stream",
     "text": [
      "mean of unseen latitudes:27.734960780260614\n",
      "mean of seen latitudes:26.43742045306947\n"
     ]
    }
   ],
   "source": [
    "print(f\"mean of unseen latitudes:{np.mean(unseen_csv['lat'].loc[unseen_csv['lat']!=' '].to_numpy().astype(float))}\")\n",
    "print(f\"mean of seen latitudes:{np.mean(seen_csv['lat'].loc[seen_csv['lat']!=' '].to_numpy().astype(float))}\")\n"
   ]
  },
  {
   "cell_type": "code",
   "execution_count": null,
   "id": "430e9997-0d18-4d33-af83-2b891e373886",
   "metadata": {},
   "outputs": [],
   "source": [
    "n"
   ]
  },
  {
   "cell_type": "code",
   "execution_count": null,
   "id": "874c075f-23f2-4925-9485-73c0ad3518ae",
   "metadata": {},
   "outputs": [],
   "source": []
  },
  {
   "cell_type": "code",
   "execution_count": 75,
   "id": "a4a91e52-8633-4118-ac04-803f5e46cb87",
   "metadata": {},
   "outputs": [
    {
     "data": {
      "text/plain": [
       "-51.548755121215876"
      ]
     },
     "execution_count": 75,
     "metadata": {},
     "output_type": "execute_result"
    }
   ],
   "source": [
    "\n",
    "(unseen_csv['lon'].loc[unseen_csv['lat']!=' '].to_numpy().astype(float)).mean()"
   ]
  },
  {
   "cell_type": "code",
   "execution_count": 76,
   "id": "d4b66631-a2be-44c2-9663-89dfa374324e",
   "metadata": {},
   "outputs": [
    {
     "data": {
      "text/plain": [
       "-28.36496979050541"
      ]
     },
     "execution_count": 76,
     "metadata": {},
     "output_type": "execute_result"
    }
   ],
   "source": [
    "\n",
    "(seen_csv['lon'].loc[seen_csv['lat']!=' '].to_numpy().astype(float)).mean()"
   ]
  },
  {
   "cell_type": "code",
   "execution_count": 90,
   "id": "ec767476-1251-4e06-8717-ae74d4964700",
   "metadata": {},
   "outputs": [
    {
     "ename": "SyntaxError",
     "evalue": "unterminated string literal (detected at line 1) (3228319797.py, line 1)",
     "output_type": "error",
     "traceback": [
      "\u001b[0;36m  Cell \u001b[0;32mIn[90], line 1\u001b[0;36m\u001b[0m\n\u001b[0;31m    institution_storing', 'bin_uri', 'phylum_taxID', 'phylum_name',\u001b[0m\n\u001b[0m                                                                 ^\u001b[0m\n\u001b[0;31mSyntaxError\u001b[0m\u001b[0;31m:\u001b[0m unterminated string literal (detected at line 1)\n"
     ]
    }
   ],
   "source": []
  },
  {
   "cell_type": "code",
   "execution_count": 112,
   "id": "b6c5876c-c911-4851-8783-83ae2df5ed54",
   "metadata": {},
   "outputs": [
    {
     "data": {
      "text/plain": [
       "0        COI-5P|COI-5P|COI-5P|COI-5P\n",
       "1                      COI-5P|COI-5P\n",
       "2                      COI-5P|COI-5P\n",
       "3                      COI-5P|COI-5P\n",
       "4                      COI-5P|COI-5P\n",
       "                    ...             \n",
       "27354                  COI-5P|COI-5P\n",
       "27355                  COI-5P|COI-5P\n",
       "27356                  COI-5P|COI-5P\n",
       "27357                  COI-5P|COI-5P\n",
       "27358                  COI-5P|COI-5P\n",
       "Name: marker_codes, Length: 27359, dtype: object"
      ]
     },
     "execution_count": 112,
     "metadata": {},
     "output_type": "execute_result"
    }
   ],
   "source": [
    "seen_csv['marker_codes']"
   ]
  },
  {
   "cell_type": "code",
   "execution_count": 116,
   "id": "b41cd3d2-7ccc-4a06-8952-e4337da6e78c",
   "metadata": {
    "scrolled": true
   },
   "outputs": [],
   "source": [
    "unseen_genuses = set(unseen_csv['genus_name'].unique())"
   ]
  },
  {
   "cell_type": "code",
   "execution_count": 120,
   "id": "bd3a241f-d5f9-454a-9926-df7c9a61f391",
   "metadata": {
    "scrolled": true
   },
   "outputs": [],
   "source": [
    "seen_genuses = set(seen_csv['genus_name'].unique())"
   ]
  },
  {
   "cell_type": "code",
   "execution_count": 121,
   "id": "38d1dec3-963a-4bd8-9db2-f174d935b3df",
   "metadata": {},
   "outputs": [
    {
     "data": {
      "text/plain": [
       "set()"
      ]
     },
     "execution_count": 121,
     "metadata": {},
     "output_type": "execute_result"
    }
   ],
   "source": [
    "unseen_genuses - seen_genuses"
   ]
  },
  {
   "cell_type": "code",
   "execution_count": 127,
   "id": "20e880fa-8ccd-4836-bb8d-4219311a360d",
   "metadata": {},
   "outputs": [
    {
     "data": {
      "text/plain": [
       "373"
      ]
     },
     "execution_count": 127,
     "metadata": {},
     "output_type": "execute_result"
    }
   ],
   "source": [
    "len(seen_genuses)"
   ]
  },
  {
   "cell_type": "code",
   "execution_count": 128,
   "id": "387233d8-e5f9-44e4-a0ce-f4ad9b6c5bf3",
   "metadata": {},
   "outputs": [
    {
     "data": {
      "text/plain": [
       "293"
      ]
     },
     "execution_count": 128,
     "metadata": {},
     "output_type": "execute_result"
    }
   ],
   "source": [
    "len(unseen_genuses)"
   ]
  },
  {
   "cell_type": "code",
   "execution_count": 126,
   "id": "5e774691-3d1b-4f98-af83-0156479d4e80",
   "metadata": {},
   "outputs": [
    {
     "data": {
      "text/plain": [
       "80"
      ]
     },
     "execution_count": 126,
     "metadata": {},
     "output_type": "execute_result"
    }
   ],
   "source": [
    "len(seen_genuses - unseen_genuses)"
   ]
  },
  {
   "cell_type": "code",
   "execution_count": 123,
   "id": "0b623767-aa61-4e61-9cda-b0f0d10edcd9",
   "metadata": {
    "scrolled": true
   },
   "outputs": [
    {
     "data": {
      "text/plain": [
       "{'Acleris',\n",
       " 'Acordulecera',\n",
       " 'Acrolophus',\n",
       " 'Acronicta',\n",
       " 'Adalia',\n",
       " 'Adelpha',\n",
       " 'Aedes',\n",
       " 'Agabus',\n",
       " 'Agonum',\n",
       " 'Agriophara',\n",
       " 'Agriotes',\n",
       " 'Agrotis',\n",
       " 'Agrypnus',\n",
       " 'Aleochara',\n",
       " 'Aloconota',\n",
       " 'Amara',\n",
       " 'Amaxia',\n",
       " 'Ametastegia',\n",
       " 'Amischa',\n",
       " 'Ammophila',\n",
       " 'Amorbia',\n",
       " 'Ampedus',\n",
       " 'Andrena',\n",
       " 'Anisodactylus',\n",
       " 'Anisotoma',\n",
       " 'Anomis',\n",
       " 'Anopheles',\n",
       " 'Antaeotricha',\n",
       " 'Anthicus',\n",
       " 'Anthidium',\n",
       " 'Aoplus',\n",
       " 'Apamea',\n",
       " 'Apion',\n",
       " 'Aproaerema',\n",
       " 'Ardozyga',\n",
       " 'Arge',\n",
       " 'Argyrotaenia',\n",
       " 'Arhopalus',\n",
       " 'Armigeres',\n",
       " 'Astraptes',\n",
       " 'Athalia',\n",
       " 'Atheta',\n",
       " 'Athous',\n",
       " 'Atomaria',\n",
       " 'Aulacophora',\n",
       " 'Automeris',\n",
       " 'Bactrocera',\n",
       " 'Bembidion',\n",
       " 'Bembix',\n",
       " 'Bledius',\n",
       " 'Blennocampa',\n",
       " 'Boloria',\n",
       " 'Brachinus',\n",
       " 'Brachypogon',\n",
       " 'Brachypterus',\n",
       " 'Bradycellus',\n",
       " 'Bradysia',\n",
       " 'Calathus',\n",
       " 'Calliphora',\n",
       " 'Campiglossa',\n",
       " 'Cantharis',\n",
       " 'Carpelimus',\n",
       " 'Cecharismena',\n",
       " 'Cecrita',\n",
       " 'Cerceris',\n",
       " 'Ceutorhynchus',\n",
       " 'Chaetocnema',\n",
       " 'Chaoborus',\n",
       " 'Chionodes',\n",
       " 'Chironomus',\n",
       " 'Chlamydastis',\n",
       " 'Chloroclystis',\n",
       " 'Choristoneura',\n",
       " 'Chrysolina',\n",
       " 'Chrysomela',\n",
       " 'Chrysomya',\n",
       " 'Cicindela',\n",
       " 'Cis',\n",
       " 'Cisthene',\n",
       " 'Clemensia',\n",
       " 'Cleora',\n",
       " 'Clinocera',\n",
       " 'Clivina',\n",
       " 'Coccinella',\n",
       " 'Cochliomyia',\n",
       " 'Coelioxys',\n",
       " 'Coleophora',\n",
       " 'Colletes',\n",
       " 'Condica',\n",
       " 'Contacyphon',\n",
       " 'Crambus',\n",
       " 'Cratyna',\n",
       " 'Cricotopus',\n",
       " 'Crossocerus',\n",
       " 'Cryptocephalus',\n",
       " 'Cryptophasa',\n",
       " 'Cryptus',\n",
       " 'Culex',\n",
       " 'Cydia',\n",
       " 'Dasytes',\n",
       " 'Delia',\n",
       " 'Diamesa',\n",
       " 'Dichromodes',\n",
       " 'Dicrotendipes',\n",
       " 'Diplolepis',\n",
       " 'Dolerus',\n",
       " 'Donacia',\n",
       " 'Drosophila',\n",
       " 'Dryocoetes',\n",
       " 'Ectemnius',\n",
       " 'Eilema',\n",
       " 'Elaphria',\n",
       " 'Elaphrus',\n",
       " 'Eleodes',\n",
       " 'Empria',\n",
       " 'Epinotia',\n",
       " 'Episyrphus',\n",
       " 'Epuraea',\n",
       " 'Erebia',\n",
       " 'Eristalis',\n",
       " 'Ethmia',\n",
       " 'Eublemma',\n",
       " 'Eucereon',\n",
       " 'Eudonia',\n",
       " 'Euglyphis',\n",
       " 'Eulepidotis',\n",
       " 'Eupeodes',\n",
       " 'Eupithecia',\n",
       " 'Eurytoma',\n",
       " 'Eusterinx',\n",
       " 'Eutomostethus',\n",
       " 'Euura',\n",
       " 'Euxoa',\n",
       " 'Exochomus',\n",
       " 'Galerucella',\n",
       " 'Garrha',\n",
       " 'Gastrophysa',\n",
       " 'Gorytes',\n",
       " 'Gyrinus',\n",
       " 'Gyrophaena',\n",
       " 'Halictus',\n",
       " 'Halysidota',\n",
       " 'Harpalus',\n",
       " 'Helina',\n",
       " 'Hemiceras',\n",
       " 'Hemicrepidius',\n",
       " 'Heriades',\n",
       " 'Herpetogramma',\n",
       " 'Hippodamia',\n",
       " 'Hoplitis',\n",
       " 'Hydroporus',\n",
       " 'Hydrotaea',\n",
       " 'Hylaeus',\n",
       " 'Hylesia',\n",
       " 'Hylobius',\n",
       " 'Hypera',\n",
       " 'Hyposoter',\n",
       " 'Ichneumon',\n",
       " 'Idaea',\n",
       " 'Ilybius',\n",
       " 'Isodontia',\n",
       " 'Lagria',\n",
       " 'Lasioglossum',\n",
       " 'Lathrobium',\n",
       " 'Lebia',\n",
       " 'Lesmone',\n",
       " 'Lestica',\n",
       " 'Leucania',\n",
       " 'Limnophila',\n",
       " 'Limnophyes',\n",
       " 'Limonius',\n",
       " 'Liotryphon',\n",
       " 'Litargus',\n",
       " 'Lochmaea',\n",
       " 'Longitarsus',\n",
       " 'Lucilia',\n",
       " 'Macaria',\n",
       " 'Macrophya',\n",
       " 'Malocampa',\n",
       " 'Megachile',\n",
       " 'Megaselia',\n",
       " 'Memphis',\n",
       " 'Metriocnemus',\n",
       " 'Micropsectra',\n",
       " 'Mimesa',\n",
       " 'Mocis',\n",
       " 'Mordella',\n",
       " 'Mycetophagus',\n",
       " 'Mycetophila',\n",
       " 'Myrmica',\n",
       " 'Mythimna',\n",
       " 'Nebria',\n",
       " 'Nebrioporus',\n",
       " 'Neocrepidodera',\n",
       " 'Neomyia',\n",
       " 'Nephrotoma',\n",
       " 'Noctua',\n",
       " 'Nola',\n",
       " 'Notiophilus',\n",
       " 'Notoxus',\n",
       " 'Nysson',\n",
       " 'Nystalea',\n",
       " 'Oedemera',\n",
       " 'Olibrus',\n",
       " 'Omalium',\n",
       " 'Omiodes',\n",
       " 'Orthocladius',\n",
       " 'Osmia',\n",
       " 'Oulema',\n",
       " 'Oulimnius',\n",
       " 'Oxybelus',\n",
       " 'Oxypoda',\n",
       " 'Oxytenis',\n",
       " 'Paederus',\n",
       " 'Palpita',\n",
       " 'Pamphilius',\n",
       " 'Paratanytarsus',\n",
       " 'Parides',\n",
       " 'Phaedon',\n",
       " 'Pheidole',\n",
       " 'Philanthus',\n",
       " 'Philonthus',\n",
       " 'Phobocampe',\n",
       " 'Phratora',\n",
       " 'Phyllotreta',\n",
       " 'Phymatodes',\n",
       " 'Pimpla',\n",
       " 'Platycheirus',\n",
       " 'Poecilus',\n",
       " 'Pogonus',\n",
       " 'Polistes',\n",
       " 'Polydrusus',\n",
       " 'Polypedilum',\n",
       " 'Ponometia',\n",
       " 'Praxis',\n",
       " 'Prionocera',\n",
       " 'Pristiphora',\n",
       " 'Protapion',\n",
       " 'Proteinus',\n",
       " 'Proteuxoa',\n",
       " 'Pseudosmittia',\n",
       " 'Psychoda',\n",
       " 'Psylliodes',\n",
       " 'Pterostichus',\n",
       " 'Pyrausta',\n",
       " 'Quedius',\n",
       " 'Renia',\n",
       " 'Rhagonycha',\n",
       " 'Rhimphoctona',\n",
       " 'Rugilus',\n",
       " 'Scaptomyza',\n",
       " 'Scathophaga',\n",
       " 'Sciara',\n",
       " 'Scopaeus',\n",
       " 'Scoparia',\n",
       " 'Scopula',\n",
       " 'Sepedophilus',\n",
       " 'Sericomyia',\n",
       " 'Simulium',\n",
       " 'Sitona',\n",
       " 'Smittia',\n",
       " 'Sphecodes',\n",
       " 'Spilogona',\n",
       " 'Spilosoma',\n",
       " 'Steganopsis',\n",
       " 'Stenoma',\n",
       " 'Stenurella',\n",
       " 'Stenus',\n",
       " 'Stictochironomus',\n",
       " 'Strophosoma',\n",
       " 'Symplecta',\n",
       " 'Syritta',\n",
       " 'Syrphus',\n",
       " 'Tachinus',\n",
       " 'Tachyta',\n",
       " 'Tanypus',\n",
       " 'Tanytarsus',\n",
       " 'Tenthredo',\n",
       " 'Tenthredopsis',\n",
       " 'Tetartopeus',\n",
       " 'Tetrastichus',\n",
       " 'Tipula',\n",
       " 'Toxomerus',\n",
       " 'Trichosia',\n",
       " 'Trixagus',\n",
       " 'Trypoxylon',\n",
       " 'Udea',\n",
       " 'Uloma',\n",
       " 'Urbanus',\n",
       " 'Xanthorhoe',\n",
       " 'Xestia',\n",
       " 'Xylorycta',\n",
       " 'Zaprionus'}"
      ]
     },
     "execution_count": 123,
     "metadata": {},
     "output_type": "execute_result"
    }
   ],
   "source": [
    "unseen_genuses"
   ]
  },
  {
   "cell_type": "code",
   "execution_count": 124,
   "id": "3b8211b9-7540-430a-93e9-84f3c2c61431",
   "metadata": {
    "scrolled": true
   },
   "outputs": [
    {
     "data": {
      "text/plain": [
       "{'Abax',\n",
       " 'Acleris',\n",
       " 'Acordulecera',\n",
       " 'Acrolophus',\n",
       " 'Acronicta',\n",
       " 'Adalia',\n",
       " 'Adelpha',\n",
       " 'Adrastus',\n",
       " 'Aedes',\n",
       " 'Agabus',\n",
       " 'Agonum',\n",
       " 'Agriophara',\n",
       " 'Agriotes',\n",
       " 'Agrotis',\n",
       " 'Agrypnus',\n",
       " 'Aleochara',\n",
       " 'Aloconota',\n",
       " 'Alosterna',\n",
       " 'Amara',\n",
       " 'Amaxia',\n",
       " 'Ametastegia',\n",
       " 'Amischa',\n",
       " 'Ammophila',\n",
       " 'Amorbia',\n",
       " 'Ampedus',\n",
       " 'Amphimallon',\n",
       " 'Anastrangalia',\n",
       " 'Andrena',\n",
       " 'Anisodactylus',\n",
       " 'Anisotoma',\n",
       " 'Anomis',\n",
       " 'Anopheles',\n",
       " 'Anoplodera',\n",
       " 'Antaeotricha',\n",
       " 'Anthicus',\n",
       " 'Anthidium',\n",
       " 'Anthobium',\n",
       " 'Aoplus',\n",
       " 'Apamea',\n",
       " 'Apion',\n",
       " 'Aplotarsus',\n",
       " 'Aproaerema',\n",
       " 'Araptus',\n",
       " 'Ardozyga',\n",
       " 'Arge',\n",
       " 'Argyrotaenia',\n",
       " 'Arhopalus',\n",
       " 'Armigeres',\n",
       " 'Astraptes',\n",
       " 'Athalia',\n",
       " 'Atheta',\n",
       " 'Athous',\n",
       " 'Atomaria',\n",
       " 'Aulacophora',\n",
       " 'Automeris',\n",
       " 'Bactrocera',\n",
       " 'Bembidion',\n",
       " 'Bembix',\n",
       " 'Betulapion',\n",
       " 'Bitoma',\n",
       " 'Bledius',\n",
       " 'Blennocampa',\n",
       " 'Bodilopsis',\n",
       " 'Boloria',\n",
       " 'Brachinus',\n",
       " 'Brachypogon',\n",
       " 'Brachypterus',\n",
       " 'Brachyta',\n",
       " 'Bradycellus',\n",
       " 'Bradysia',\n",
       " 'Calathus',\n",
       " 'Callidium',\n",
       " 'Calliphora',\n",
       " 'Campiglossa',\n",
       " 'Cantharis',\n",
       " 'Carpelimus',\n",
       " 'Cecharismena',\n",
       " 'Cecrita',\n",
       " 'Cecropterus',\n",
       " 'Cephus',\n",
       " 'Cerceris',\n",
       " 'Cercyon',\n",
       " 'Cerylon',\n",
       " 'Ceutorhynchus',\n",
       " 'Chaetarthria',\n",
       " 'Chaetocnema',\n",
       " 'Chaoborus',\n",
       " 'Charopus',\n",
       " 'Chilothorax',\n",
       " 'Chionodes',\n",
       " 'Chironomus',\n",
       " 'Chlamydastis',\n",
       " 'Chloroclystis',\n",
       " 'Choristoneura',\n",
       " 'Chrysolina',\n",
       " 'Chrysomela',\n",
       " 'Chrysomya',\n",
       " 'Cicindela',\n",
       " 'Cis',\n",
       " 'Cisthene',\n",
       " 'Clemensia',\n",
       " 'Cleora',\n",
       " 'Clinocera',\n",
       " 'Clivina',\n",
       " 'Cnesia',\n",
       " 'Coccinella',\n",
       " 'Coccinula',\n",
       " 'Cochliomyia',\n",
       " 'Coelioxys',\n",
       " 'Coelosynapha',\n",
       " 'Coleophora',\n",
       " 'Colletes',\n",
       " 'Condica',\n",
       " 'Contacyphon',\n",
       " 'Cordylepherus',\n",
       " 'Crambus',\n",
       " 'Cratyna',\n",
       " 'Cricotopus',\n",
       " 'Crossocerus',\n",
       " 'Crypticus',\n",
       " 'Cryptocephalus',\n",
       " 'Cryptophasa',\n",
       " 'Cryptus',\n",
       " 'Culex',\n",
       " 'Cydia',\n",
       " 'Dasytes',\n",
       " 'Delia',\n",
       " 'Demetrias',\n",
       " 'Diamesa',\n",
       " 'Dichromodes',\n",
       " 'Dicrotendipes',\n",
       " 'Diplolepis',\n",
       " 'Dolerus',\n",
       " 'Donacia',\n",
       " 'Drosophila',\n",
       " 'Dryocoetes',\n",
       " 'Dryophthorus',\n",
       " 'Dunama',\n",
       " 'Ectemnius',\n",
       " 'Eilema',\n",
       " 'Elaphria',\n",
       " 'Elaphrus',\n",
       " 'Eleodes',\n",
       " 'Empria',\n",
       " 'Epinotia',\n",
       " 'Episyrphus',\n",
       " 'Epuraea',\n",
       " 'Erebia',\n",
       " 'Eristalis',\n",
       " 'Ethmia',\n",
       " 'Eublemma',\n",
       " 'Eucereon',\n",
       " 'Eudonia',\n",
       " 'Euglyphis',\n",
       " 'Eulepidotis',\n",
       " 'Eupeodes',\n",
       " 'Eupithecia',\n",
       " 'Eupsophulus',\n",
       " 'Eurytoma',\n",
       " 'Eusterinx',\n",
       " 'Eutomostethus',\n",
       " 'Euura',\n",
       " 'Euxoa',\n",
       " 'Exochomus',\n",
       " 'Galerucella',\n",
       " 'Garrha',\n",
       " 'Gastrophysa',\n",
       " 'Ginaldia',\n",
       " 'Gonioctena',\n",
       " 'Gonodonta',\n",
       " 'Gorytes',\n",
       " 'Gyrinus',\n",
       " 'Gyrophaena',\n",
       " 'Habrocerus',\n",
       " 'Halictus',\n",
       " 'Halysidota',\n",
       " 'Harpalus',\n",
       " 'Helina',\n",
       " 'Hemiceras',\n",
       " 'Hemichroa',\n",
       " 'Hemicrepidius',\n",
       " 'Heriades',\n",
       " 'Herpetogramma',\n",
       " 'Heterarthrus',\n",
       " 'Hippodamia',\n",
       " 'Hoplia',\n",
       " 'Hoplitis',\n",
       " 'Hydroporus',\n",
       " 'Hydrotaea',\n",
       " 'Hylaeus',\n",
       " 'Hylesia',\n",
       " 'Hylobius',\n",
       " 'Hypera',\n",
       " 'Hyposoter',\n",
       " 'Ichneumon',\n",
       " 'Idaea',\n",
       " 'Idolus',\n",
       " 'Ilybius',\n",
       " 'Isodontia',\n",
       " 'Lagria',\n",
       " 'Laguerreius',\n",
       " 'Lasioglossum',\n",
       " 'Lathrobium',\n",
       " 'Lebia',\n",
       " 'Leistus',\n",
       " 'Lesmone',\n",
       " 'Lestica',\n",
       " 'Leucania',\n",
       " 'Limnophila',\n",
       " 'Limnophyes',\n",
       " 'Limodromus',\n",
       " 'Limonius',\n",
       " 'Liotryphon',\n",
       " 'Litargus',\n",
       " 'Lochmaea',\n",
       " 'Longitarsus',\n",
       " 'Lucilia',\n",
       " 'Lygistopterus',\n",
       " 'Macaria',\n",
       " 'Macrophya',\n",
       " 'Malocampa',\n",
       " 'Mecinus',\n",
       " 'Megachile',\n",
       " 'Megaselia',\n",
       " 'Memphis',\n",
       " 'Metriocnemus',\n",
       " 'Micropsectra',\n",
       " 'Mimesa',\n",
       " 'Mocis',\n",
       " 'Mordella',\n",
       " 'Mycetophagus',\n",
       " 'Mycetophila',\n",
       " 'Myrmica',\n",
       " 'Mythimna',\n",
       " 'Nebria',\n",
       " 'Nebrioporus',\n",
       " 'Nedyus',\n",
       " 'Neocoenorrhinus',\n",
       " 'Neocrepidodera',\n",
       " 'Neomyia',\n",
       " 'Nephrotoma',\n",
       " 'Nesoselandria',\n",
       " 'Nimbus',\n",
       " 'Noctua',\n",
       " 'Nola',\n",
       " 'Notiophilus',\n",
       " 'Notoxus',\n",
       " 'Nysson',\n",
       " 'Nystalea',\n",
       " 'Oedemera',\n",
       " 'Olibrus',\n",
       " 'Olla',\n",
       " 'Omalium',\n",
       " 'Omiodes',\n",
       " 'Ophonus',\n",
       " 'Orthocladius',\n",
       " 'Oryzaephilus',\n",
       " 'Osmia',\n",
       " 'Oulema',\n",
       " 'Oulimnius',\n",
       " 'Oxybelus',\n",
       " 'Oxypoda',\n",
       " 'Oxypselaphus',\n",
       " 'Oxystoma',\n",
       " 'Oxytenis',\n",
       " 'Paederus',\n",
       " 'Palpita',\n",
       " 'Pamphilius',\n",
       " 'Paradromius',\n",
       " 'Paratanytarsus',\n",
       " 'Parides',\n",
       " 'Perineura',\n",
       " 'Phaedon',\n",
       " 'Pheidole',\n",
       " 'Philanthus',\n",
       " 'Philonthus',\n",
       " 'Philopedon',\n",
       " 'Phloeostiba',\n",
       " 'Phobocampe',\n",
       " 'Phratora',\n",
       " 'Phyllobius',\n",
       " 'Phyllopertha',\n",
       " 'Phyllotreta',\n",
       " 'Phymatodes',\n",
       " 'Pimpla',\n",
       " 'Platycheirus',\n",
       " 'Poecilus',\n",
       " 'Pogonus',\n",
       " 'Polistes',\n",
       " 'Polydrusus',\n",
       " 'Polypedilum',\n",
       " 'Ponometia',\n",
       " 'Prasocuris',\n",
       " 'Praxis',\n",
       " 'Prionocera',\n",
       " 'Pristiphora',\n",
       " 'Proatta',\n",
       " 'Protapion',\n",
       " 'Proteinus',\n",
       " 'Proteuxoa',\n",
       " 'Protophormia',\n",
       " 'Pselaphus',\n",
       " 'Pseudocistela',\n",
       " 'Pseudosmittia',\n",
       " 'Psychoda',\n",
       " 'Psylliodes',\n",
       " 'Pterostichus',\n",
       " 'Ptinomorphus',\n",
       " 'Pyrausta',\n",
       " 'Pyrochroa',\n",
       " 'Pyropterus',\n",
       " 'Quedius',\n",
       " 'Renia',\n",
       " 'Rhagium',\n",
       " 'Rhagonycha',\n",
       " 'Rhimphoctona',\n",
       " 'Rhyzopertha',\n",
       " 'Rugilus',\n",
       " 'Saperda',\n",
       " 'Scaptomyza',\n",
       " 'Scathophaga',\n",
       " 'Schizotus',\n",
       " 'Sciara',\n",
       " 'Scopaeus',\n",
       " 'Scoparia',\n",
       " 'Scopula',\n",
       " 'Sepedophilus',\n",
       " 'Sericomyia',\n",
       " 'Simulium',\n",
       " 'Sitona',\n",
       " 'Smaragdina',\n",
       " 'Smittia',\n",
       " 'Sphecodes',\n",
       " 'Spilogona',\n",
       " 'Spilosoma',\n",
       " 'Spodoptera',\n",
       " 'Steganopsis',\n",
       " 'Stenoma',\n",
       " 'Stenurella',\n",
       " 'Stenus',\n",
       " 'Stereonychus',\n",
       " 'Stethomostus',\n",
       " 'Stictochironomus',\n",
       " 'Strophosoma',\n",
       " 'Symplecta',\n",
       " 'Syntomus',\n",
       " 'Syritta',\n",
       " 'Syrphus',\n",
       " 'Tachinus',\n",
       " 'Tachyta',\n",
       " 'Tanypus',\n",
       " 'Tanytarsus',\n",
       " 'Telegonus',\n",
       " 'Tenthredo',\n",
       " 'Tenthredopsis',\n",
       " 'Tetartopeus',\n",
       " 'Tetrastichus',\n",
       " 'Thinodromus',\n",
       " 'Tipula',\n",
       " 'Toxomerus',\n",
       " 'Trichocoelina',\n",
       " 'Trichosia',\n",
       " 'Trixagus',\n",
       " 'Trypoxylon',\n",
       " 'Tyrus',\n",
       " 'Udea',\n",
       " 'Uloma',\n",
       " 'Urbanus',\n",
       " 'Vincenzellus',\n",
       " 'Xanthorhoe',\n",
       " 'Xestia',\n",
       " 'Xylorycta',\n",
       " 'Zaprionus'}"
      ]
     },
     "execution_count": 124,
     "metadata": {},
     "output_type": "execute_result"
    }
   ],
   "source": [
    "seen_genuses"
   ]
  },
  {
   "cell_type": "code",
   "execution_count": 129,
   "id": "94ced45c-fb63-4a79-87e8-297f02c56325",
   "metadata": {},
   "outputs": [
    {
     "data": {
      "text/plain": [
       "(41572, 52)"
      ]
     },
     "execution_count": 129,
     "metadata": {},
     "output_type": "execute_result"
    }
   ],
   "source": [
    "unseen_csv.shape"
   ]
  }
 ],
 "metadata": {
  "kernelspec": {
   "display_name": "Python 3 (ipykernel)",
   "language": "python",
   "name": "python3"
  },
  "language_info": {
   "codemirror_mode": {
    "name": "ipython",
    "version": 3
   },
   "file_extension": ".py",
   "mimetype": "text/x-python",
   "name": "python",
   "nbconvert_exporter": "python",
   "pygments_lexer": "ipython3",
   "version": "3.12.2"
  }
 },
 "nbformat": 4,
 "nbformat_minor": 5
}
