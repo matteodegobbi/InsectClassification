{
 "cells": [
  {
   "cell_type": "code",
   "execution_count": 1,
   "id": "4cf46788-78b9-4fc6-854e-9ca43ad24494",
   "metadata": {},
   "outputs": [],
   "source": [
    "\n",
    "import torch\n",
    "import torchvision\n",
    "from torch import nn \n",
    "#from torch.utils.tensorboard import SummaryWriter\n",
    "from torchvision import transforms\n",
    "import matplotlib.pyplot as plt\n",
    "import pandas as pd\n",
    "from IPython.display import Image \n",
    "import numpy as np\n",
    "import random\n",
    "import dataset_utils\n",
    "from torch.utils.data import Dataset, DataLoader"
   ]
  },
  {
   "cell_type": "code",
   "execution_count": 2,
   "id": "9618d03d-1cbb-490f-a824-b31a67e1c3c1",
   "metadata": {},
   "outputs": [],
   "source": [
    "df = pd.read_csv('final_dataset.csv',index_col=0)\n",
    "tform = transforms.Compose([transforms.Resize((64,64)),transforms.PILToTensor(),transforms.ConvertImageDtype(torch.float),transforms.Normalize(0.5,0.5)])\n",
    "image_dataset = torchvision.datasets.ImageFolder(\"image_dataset/\",transform=tform)\n",
    "species2genus = dataset_utils.species_label_to_genus_label(df,image_dataset)"
   ]
  },
  {
   "cell_type": "code",
   "execution_count": 3,
   "id": "fcb36af0-7a0d-4d79-a25b-0a8a266aade3",
   "metadata": {},
   "outputs": [
    {
     "name": "stdout",
     "output_type": "stream",
     "text": [
      "365    Bembidion normannum\n",
      "292       Bledius gallicus\n",
      "321       Praxis edwardsii\n",
      "352        Andrena pilipes\n",
      "18     Automeris managuana\n",
      "              ...         \n",
      "412         Hemiceras losa\n",
      "413         Hemiceras losa\n",
      "417     Hemiceras punctata\n",
      "418         Hemiceras losa\n",
      "421     Hemiceras punctata\n",
      "Name: species_name, Length: 9991, dtype: object\n"
     ]
    },
    {
     "data": {
      "text/plain": [
       "'from torch.utils.data import Dataset, DataLoader\\n \\nclass WholeDataset(Dataset):\\n    def __init__(self, data, transform=None):\\n        self.data = data\\n        self.targets = data.targets#torch.tensor(targets)\\n        #self.transform = transform\\n        \\n    def __getitem__(self, index):\\n        x = self.data[index][0]\\n        y = self.targets[index]\\n        \\n        return x, y\\n    \\n    def __len__(self):\\n        return len(self.data)\\n        \\nwhole_dataset = WholeDataset(image_dataset)\\nn_classes = np.unique(whole_dataset.targets).shape[0]\\nprint(len(test_indices+val_indices+train_indices))\\nlen(whole_dataset)\\n\\ntrain_imgs = torch.utils.data.Subset(whole_dataset, train_indices)\\nval_imgs = torch.utils.data.Subset(whole_dataset, val_indices)\\ntest_imgs = torch.utils.data.Subset(whole_dataset, test_indices)\\nlen(train_imgs)+len(val_imgs)+len(test_imgs)\\ntrain_loader = torch.utils.data.DataLoader(train_imgs, batch_size=batch_size,shuffle=False, num_workers=2)\\nval_loader = torch.utils.data.DataLoader(val_imgs, batch_size=2000,shuffle=False, num_workers=2)\\ntest_loader = torch.utils.data.DataLoader(test_imgs, batch_size=4,shuffle=False, num_workers=2)\\ndel test_loader\\ndataloaders = {\"train\":train_loader,\"val\":val_loader}\\ndataset_sizes = {\\'train\\': len(train_imgs.indices), \\'val\\':len(val_imgs.indices)}\\n\\ndescribed_species_labels = np.array([image_dataset.targets[i] for i in train_indices])\\ndescribed_species_labels = np.unique(described_species_labels)'"
      ]
     },
     "execution_count": 3,
     "metadata": {},
     "output_type": "execute_result"
    }
   ],
   "source": [
    "\n",
    "batch_size = 1000 \n",
    "import random\n",
    "import dataset_utils\n",
    "img2dna = dataset_utils.get_imgs_bold_id(image_dataset,df)\n",
    "\n",
    "nucleotides = df[['nucleotide','species_name','genus_name','processid','image_urls']]\n",
    "colonna_dna = df.loc[:,\"nucleotide\"]\n",
    "nucleotides.loc[:,'nucleotide'] = colonna_dna.apply(dataset_utils.one_hot_encoding)\n",
    "random.seed(42)\n",
    "\n",
    "X_train_val, X_test, y_train_val, y_test = dataset_utils.data_split(nucleotides,0.2,random_state=42)\n",
    "print(y_test)\n",
    "train_data = X_train_val\n",
    "train_data['species_name'] = y_train_val\n",
    "\n",
    "X_train, X_validation, y_train, y_validation = dataset_utils.data_split(train_data,0.2,drop_labels=False,random_state=42)\n",
    "train_indices, val_indices, test_indices = dataset_utils.image_splits_from_df(X_train,X_validation,X_test,image_dataset)\n",
    "'''from torch.utils.data import Dataset, DataLoader\n",
    " \n",
    "class WholeDataset(Dataset):\n",
    "    def __init__(self, data, transform=None):\n",
    "        self.data = data\n",
    "        self.targets = data.targets#torch.tensor(targets)\n",
    "        #self.transform = transform\n",
    "        \n",
    "    def __getitem__(self, index):\n",
    "        x = self.data[index][0]\n",
    "        y = self.targets[index]\n",
    "        \n",
    "        return x, y\n",
    "    \n",
    "    def __len__(self):\n",
    "        return len(self.data)\n",
    "        \n",
    "whole_dataset = WholeDataset(image_dataset)\n",
    "n_classes = np.unique(whole_dataset.targets).shape[0]\n",
    "print(len(test_indices+val_indices+train_indices))\n",
    "len(whole_dataset)\n",
    "\n",
    "train_imgs = torch.utils.data.Subset(whole_dataset, train_indices)\n",
    "val_imgs = torch.utils.data.Subset(whole_dataset, val_indices)\n",
    "test_imgs = torch.utils.data.Subset(whole_dataset, test_indices)\n",
    "len(train_imgs)+len(val_imgs)+len(test_imgs)\n",
    "train_loader = torch.utils.data.DataLoader(train_imgs, batch_size=batch_size,shuffle=False, num_workers=2)\n",
    "val_loader = torch.utils.data.DataLoader(val_imgs, batch_size=2000,shuffle=False, num_workers=2)\n",
    "test_loader = torch.utils.data.DataLoader(test_imgs, batch_size=4,shuffle=False, num_workers=2)\n",
    "del test_loader\n",
    "dataloaders = {\"train\":train_loader,\"val\":val_loader}\n",
    "dataset_sizes = {'train': len(train_imgs.indices), 'val':len(val_imgs.indices)}\n",
    "\n",
    "described_species_labels = np.array([image_dataset.targets[i] for i in train_indices])\n",
    "described_species_labels = np.unique(described_species_labels)'''"
   ]
  },
  {
   "cell_type": "code",
   "execution_count": 4,
   "id": "5bf67c4e-0e21-4fa2-afe2-133ebb405c5a",
   "metadata": {},
   "outputs": [],
   "source": [
    "train_labels = np.array(image_dataset.imgs)[train_indices][:,1].astype(int)\n",
    "val_labels = np.array(image_dataset.imgs)[val_indices][:,1].astype(int)"
   ]
  },
  {
   "cell_type": "code",
   "execution_count": 5,
   "id": "414ae9bb-ce3f-43ae-b5cd-a662520fd5a7",
   "metadata": {},
   "outputs": [
    {
     "data": {
      "text/plain": [
       "array([   1,    1,    2, ..., 1049, 1049, 1049])"
      ]
     },
     "execution_count": 5,
     "metadata": {},
     "output_type": "execute_result"
    }
   ],
   "source": [
    "val_labels"
   ]
  },
  {
   "cell_type": "code",
   "execution_count": 6,
   "id": "608d767a-49c3-4a4b-990a-38736b52756c",
   "metadata": {},
   "outputs": [],
   "source": [
    "\n",
    "y_train = y_train.apply(lambda x: image_dataset.class_to_idx[x.replace(' ','_')])\n",
    "y_test = y_test.apply(lambda x: image_dataset.class_to_idx[x.replace(' ','_')])\n",
    "y_validation= y_validation.apply(lambda x: image_dataset.class_to_idx[x.replace(' ','_')])\n",
    "y_train_val = y_train_val.apply(lambda x: image_dataset.class_to_idx[x.replace(' ','_')])"
   ]
  },
  {
   "cell_type": "code",
   "execution_count": 7,
   "id": "eacc7654-b640-4e14-8578-88a000b8385b",
   "metadata": {},
   "outputs": [
    {
     "name": "stdout",
     "output_type": "stream",
     "text": [
      "650\n",
      "132\n",
      "797\n",
      "215\n"
     ]
    }
   ],
   "source": [
    "###ROBA NUOVA AAA\n",
    "n_described_val = 0\n",
    "n_undescribed_val = 0\n",
    "for vv in np.unique(y_validation):\n",
    "    if vv in np.unique(y_train):\n",
    "        n_described_val +=1\n",
    "    else:\n",
    "        n_undescribed_val +=1\n",
    "\n",
    "print(n_described_val)\n",
    "print(n_undescribed_val)\n",
    "n_described_test = 0\n",
    "n_undescribed_test = 0\n",
    "for vv in np.unique(y_test):\n",
    "    if vv in np.unique(y_train_val):\n",
    "        n_described_test +=1\n",
    "    else:\n",
    "        n_undescribed_test +=1\n",
    "\n",
    "print(n_described_test)\n",
    "print(n_undescribed_test)"
   ]
  },
  {
   "cell_type": "code",
   "execution_count": null,
   "id": "07ad41c3-b1db-44c1-bc3a-2f82e14f92a9",
   "metadata": {},
   "outputs": [],
   "source": []
  },
  {
   "cell_type": "code",
   "execution_count": 8,
   "id": "57f0a331-9bf5-4585-90d9-b9cf222637fa",
   "metadata": {},
   "outputs": [],
   "source": [
    "class DNAdataset(Dataset):\n",
    "    def __init__(self, data, targets, transform=None):\n",
    "        self.data = data\n",
    "        self.targets = torch.tensor(targets)\n",
    "        #self.transform = transform\n",
    "        \n",
    "    def __getitem__(self, index):\n",
    "        x = torch.tensor(np.float32(self.data[index][0])).unsqueeze(0)\n",
    "        y = self.targets[index]\n",
    "        \n",
    "        #if self.transform:\n",
    "        #    x = Image.fromarray(self.data[index].astype(np.uint8).transpose(1,2,0))\n",
    "        #    x = self.transform(x)\n",
    "        \n",
    "        return x, y\n",
    "    \n",
    "    def __len__(self):\n",
    "        return len(self.data)\n",
    "d_train = DNAdataset(X_train.values, y_train.values)\n",
    "d_val = DNAdataset(X_validation.values, y_validation.values)\n",
    "d_test = DNAdataset(X_test.values, y_test.values)"
   ]
  },
  {
   "cell_type": "code",
   "execution_count": 9,
   "id": "3063cd5d-4739-4ced-a505-90e9c6d1aea0",
   "metadata": {
    "scrolled": true
   },
   "outputs": [],
   "source": [
    "dataloader_train = DataLoader(d_train, batch_size=32,shuffle=True)\n",
    "dataloader_val = DataLoader(d_val, batch_size=32,shuffle=True)\n",
    "dataloaders = {'train':dataloader_train,'val':dataloader_val}\n",
    "dataset_sizes = {'train': d_train.data.shape[0], 'val':d_val.data.shape[0]}"
   ]
  },
  {
   "cell_type": "code",
   "execution_count": 10,
   "id": "dc9a2c52-5750-4cbf-9b0f-6cd915b0f83f",
   "metadata": {},
   "outputs": [],
   "source": [
    "\n",
    "from tqdm.notebook import tqdm\n",
    "def fit(epochs,dataloaders,optimizer,model,start_idx=0):\n",
    "    criterion = torch.nn.CrossEntropyLoss()\n",
    "    device = torch.device(\"cuda:0\" if torch.cuda.is_available() else \"cpu\")\n",
    "    torch.cuda.empty_cache()\n",
    "    \n",
    "    train_losses = []\n",
    "    train_scores = []\n",
    "    val_losses = []\n",
    "    val_scores = []\n",
    "    for epoch in range(epochs):\n",
    "        running_train_corrects = 0\n",
    "        for dnas,labels in tqdm(dataloaders['train']):\n",
    "            model.train()\n",
    "            dnas = dnas.to(device)\n",
    "            labels = labels.to(device)\n",
    "            optimizer.zero_grad()\n",
    "            \n",
    "            predicted_labels = model(dnas)\n",
    "            train_loss = criterion(predicted_labels,labels)\n",
    "            train_loss.backward()\n",
    "            optimizer.step()\n",
    "            \n",
    "            _, preds = torch.max(predicted_labels, 1)\n",
    "            #print(preds)\n",
    "            #print(labels.data)\n",
    "            running_train_corrects += torch.sum(preds == labels.data)\n",
    "        train_losses.append(train_loss)\n",
    "        \n",
    "        running_val_corrects = 0\n",
    "        for dnas,labels in tqdm(dataloaders['val']):\n",
    "            \n",
    "            model.eval()\n",
    "            with torch.no_grad():\n",
    "                dnas = dnas.to(device)\n",
    "                labels = labels.to(device)\n",
    "                optimizer.zero_grad()\n",
    "                \n",
    "                predicted_labels = model(dnas)\n",
    "                val_loss = criterion(predicted_labels,labels)\n",
    "                \n",
    "                _, preds = torch.max(predicted_labels, 1)\n",
    "                #print(preds)\n",
    "                #print(labels.data)\n",
    "                running_val_corrects += torch.sum(preds == labels.data)\n",
    "        val_losses.append(val_loss)\n",
    "        \n",
    "        \n",
    "        \n",
    "        #real_scores.append(real_score)\n",
    "        #fit_p.writer.add_scalar('loss_g', loss_g, epoch)\n",
    "        # Log losses & scores (last batch)\n",
    "        \n",
    "        epoch_train_acc = running_train_corrects.double() / dataset_sizes['train']\n",
    "        epoch_val_acc = running_val_corrects.double() / dataset_sizes['val']\n",
    "        print(\"Epoch [{}/{}], train_loss: {:.4f},  train_score: {:.4f},val_loss: {:.4f},  val_score: {:.4f}\".format(\n",
    "            epoch+1, epochs, train_loss, epoch_train_acc,val_loss,epoch_val_acc))\n",
    "        #print(f\"class accuracy real {class_accuracy_real}\")\n",
    "    \n",
    "    return train_losses"
   ]
  },
  {
   "cell_type": "code",
   "execution_count": 11,
   "id": "5d03c6b5-08eb-4727-9c6c-eb7dd8bd103b",
   "metadata": {},
   "outputs": [],
   "source": [
    "class TinyModel(torch.nn.Module):\n",
    "\n",
    "    def __init__(self):\n",
    "        super(TinyModel, self).__init__()\n",
    "\n",
    "        #self.linear1 = torch.nn.Linear(658, 200)\n",
    "        self.conv1 = torch.nn.Conv2d(1,8,(5,1))\n",
    "        self.activation1 = torch.nn.LeakyReLU()\n",
    "        self.norm1 = torch.nn.BatchNorm2d(8)\n",
    "        self.conv2 = torch.nn.Conv2d(8,1,(5,1))\n",
    "        self.activation2 = torch.nn.LeakyReLU()\n",
    "        self.norm2 = torch.nn.BatchNorm2d(1)\n",
    "        #self.conv2 = torch.nn.Conv2d(2, 2,1)\n",
    "        #self.conv2 = torch.nn.Conv2d(5,1,(3,1))\n",
    "        #self.activation2 = torch.nn.LeakyReLU()\n",
    "        #self.norm2 = torch.nn.BatchNorm2d(1)\n",
    "        self.flat = torch.nn.Flatten()\n",
    "        self.linear = torch.nn.Linear(3250,1500)\n",
    "        self.dropout1= torch.nn.Dropout(0.70)\n",
    "        self.dropout2= torch.nn.Dropout(0.70)\n",
    "        self.activation3 = torch.nn.LeakyReLU()\n",
    "        self.linear2 = torch.nn.Linear(1500,1050)\n",
    "        #self.softmax = torch.nn.Softmax()\n",
    "    def forward(self, x):\n",
    "        #print(x.shape)\n",
    "        x = self.conv1(x)\n",
    "        x = self.activation1(x)\n",
    "        x = self.norm1(x)\n",
    "        x = self.conv2(x)\n",
    "        x = self.activation2(x)\n",
    "        x = self.norm2(x)\n",
    "        x = self.dropout1(x)\n",
    "        #x = self.conv2(x)\n",
    "        #x = self.activation2(x)\n",
    "        #x = self.norm2(x)\n",
    "        x = self.flat(x)\n",
    "        x = self.linear(x)\n",
    "        x = self.dropout2(x)\n",
    "        x = self.activation3(x)\n",
    "        x = self.linear2(x)\n",
    "        #x = self.softmax(x)\n",
    "        return x\n",
    "    def feature_extract(self,x):\n",
    "        print(x.shape)\n",
    "\n",
    "        x = self.conv1(x)\n",
    "        x = self.activation1(x)\n",
    "        x = self.norm1(x)\n",
    "        x = self.conv2(x)\n",
    "        #x = self.activation2(x)\n",
    "        #x = self.norm2(x)\n",
    "\n",
    "        x = self.flat(x)\n",
    "        #x = self.linear(x)\n",
    "        return x\n",
    "\n",
    "tinymodel = TinyModel()\n",
    "tinymodel.cuda()\n",
    " \n",
    "optimizer = torch.optim.Adam(tinymodel.parameters(),weight_decay=1e-5)\n"
   ]
  },
  {
   "cell_type": "code",
   "execution_count": 12,
   "id": "f3d18e57-859d-4c3b-85e8-313e68ced127",
   "metadata": {
    "scrolled": true
   },
   "outputs": [
    {
     "data": {
      "application/vnd.jupyter.widget-view+json": {
       "model_id": "5eeb7a0114f547b3b2956a7299393f37",
       "version_major": 2,
       "version_minor": 0
      },
      "text/plain": [
       "  0%|          | 0/339 [00:00<?, ?it/s]"
      ]
     },
     "metadata": {},
     "output_type": "display_data"
    },
    {
     "data": {
      "application/vnd.jupyter.widget-view+json": {
       "model_id": "dc2455c75fb44a87a50cf1ed9c70fe0e",
       "version_major": 2,
       "version_minor": 0
      },
      "text/plain": [
       "  0%|          | 0/177 [00:00<?, ?it/s]"
      ]
     },
     "metadata": {},
     "output_type": "display_data"
    },
    {
     "name": "stdout",
     "output_type": "stream",
     "text": [
      "Epoch [1/100], train_loss: 5.4487,  train_score: 0.1139,val_loss: 7.7747,  val_score: 0.1835\n"
     ]
    },
    {
     "data": {
      "application/vnd.jupyter.widget-view+json": {
       "model_id": "c2fb576e465a49c58199c617807cc08f",
       "version_major": 2,
       "version_minor": 0
      },
      "text/plain": [
       "  0%|          | 0/339 [00:00<?, ?it/s]"
      ]
     },
     "metadata": {},
     "output_type": "display_data"
    },
    {
     "data": {
      "application/vnd.jupyter.widget-view+json": {
       "model_id": "29f406c608134f4b8656d873d2d1d878",
       "version_major": 2,
       "version_minor": 0
      },
      "text/plain": [
       "  0%|          | 0/177 [00:00<?, ?it/s]"
      ]
     },
     "metadata": {},
     "output_type": "display_data"
    },
    {
     "name": "stdout",
     "output_type": "stream",
     "text": [
      "Epoch [2/100], train_loss: 4.1204,  train_score: 0.2715,val_loss: 6.2927,  val_score: 0.3036\n"
     ]
    },
    {
     "data": {
      "application/vnd.jupyter.widget-view+json": {
       "model_id": "b6433c04f3c64c1baa9b87b9acc2ec6f",
       "version_major": 2,
       "version_minor": 0
      },
      "text/plain": [
       "  0%|          | 0/339 [00:00<?, ?it/s]"
      ]
     },
     "metadata": {},
     "output_type": "display_data"
    },
    {
     "data": {
      "application/vnd.jupyter.widget-view+json": {
       "model_id": "2500b98fa3ab4df6ac203ddccd21f887",
       "version_major": 2,
       "version_minor": 0
      },
      "text/plain": [
       "  0%|          | 0/177 [00:00<?, ?it/s]"
      ]
     },
     "metadata": {},
     "output_type": "display_data"
    },
    {
     "name": "stdout",
     "output_type": "stream",
     "text": [
      "Epoch [3/100], train_loss: 1.8900,  train_score: 0.4258,val_loss: 7.4481,  val_score: 0.3853\n"
     ]
    },
    {
     "data": {
      "application/vnd.jupyter.widget-view+json": {
       "model_id": "7e2df5a43839489cbb646f32ef4c0249",
       "version_major": 2,
       "version_minor": 0
      },
      "text/plain": [
       "  0%|          | 0/339 [00:00<?, ?it/s]"
      ]
     },
     "metadata": {},
     "output_type": "display_data"
    },
    {
     "data": {
      "application/vnd.jupyter.widget-view+json": {
       "model_id": "98d9404482bc49bea6ef1357db0ffe35",
       "version_major": 2,
       "version_minor": 0
      },
      "text/plain": [
       "  0%|          | 0/177 [00:00<?, ?it/s]"
      ]
     },
     "metadata": {},
     "output_type": "display_data"
    },
    {
     "name": "stdout",
     "output_type": "stream",
     "text": [
      "Epoch [4/100], train_loss: 2.2350,  train_score: 0.5317,val_loss: 5.8867,  val_score: 0.4181\n"
     ]
    },
    {
     "data": {
      "application/vnd.jupyter.widget-view+json": {
       "model_id": "054d2a27958c4d35a898c0d7817b1d3e",
       "version_major": 2,
       "version_minor": 0
      },
      "text/plain": [
       "  0%|          | 0/339 [00:00<?, ?it/s]"
      ]
     },
     "metadata": {},
     "output_type": "display_data"
    },
    {
     "data": {
      "application/vnd.jupyter.widget-view+json": {
       "model_id": "6f10417471844fd4850039061de50b9b",
       "version_major": 2,
       "version_minor": 0
      },
      "text/plain": [
       "  0%|          | 0/177 [00:00<?, ?it/s]"
      ]
     },
     "metadata": {},
     "output_type": "display_data"
    },
    {
     "name": "stdout",
     "output_type": "stream",
     "text": [
      "Epoch [5/100], train_loss: 2.1383,  train_score: 0.6347,val_loss: 4.3675,  val_score: 0.4413\n"
     ]
    },
    {
     "data": {
      "application/vnd.jupyter.widget-view+json": {
       "model_id": "4935311d73b448ab8be48351384e1ffb",
       "version_major": 2,
       "version_minor": 0
      },
      "text/plain": [
       "  0%|          | 0/339 [00:00<?, ?it/s]"
      ]
     },
     "metadata": {},
     "output_type": "display_data"
    },
    {
     "data": {
      "application/vnd.jupyter.widget-view+json": {
       "model_id": "a1f77882c0d748918af449e306338d90",
       "version_major": 2,
       "version_minor": 0
      },
      "text/plain": [
       "  0%|          | 0/177 [00:00<?, ?it/s]"
      ]
     },
     "metadata": {},
     "output_type": "display_data"
    },
    {
     "name": "stdout",
     "output_type": "stream",
     "text": [
      "Epoch [6/100], train_loss: 1.5118,  train_score: 0.7012,val_loss: 5.2390,  val_score: 0.4485\n"
     ]
    },
    {
     "data": {
      "application/vnd.jupyter.widget-view+json": {
       "model_id": "5f9142294c5b4f81b00e407e8acc7b5f",
       "version_major": 2,
       "version_minor": 0
      },
      "text/plain": [
       "  0%|          | 0/339 [00:00<?, ?it/s]"
      ]
     },
     "metadata": {},
     "output_type": "display_data"
    },
    {
     "data": {
      "application/vnd.jupyter.widget-view+json": {
       "model_id": "7db37e8c3caf473b9abd5d321e776f7a",
       "version_major": 2,
       "version_minor": 0
      },
      "text/plain": [
       "  0%|          | 0/177 [00:00<?, ?it/s]"
      ]
     },
     "metadata": {},
     "output_type": "display_data"
    },
    {
     "name": "stdout",
     "output_type": "stream",
     "text": [
      "Epoch [7/100], train_loss: 0.9878,  train_score: 0.7541,val_loss: 6.4476,  val_score: 0.4585\n"
     ]
    },
    {
     "data": {
      "application/vnd.jupyter.widget-view+json": {
       "model_id": "8d2121ab2f344bfc875186b61d7a1b43",
       "version_major": 2,
       "version_minor": 0
      },
      "text/plain": [
       "  0%|          | 0/339 [00:00<?, ?it/s]"
      ]
     },
     "metadata": {},
     "output_type": "display_data"
    },
    {
     "data": {
      "application/vnd.jupyter.widget-view+json": {
       "model_id": "eb709e246fa14ebfb7946114dd569611",
       "version_major": 2,
       "version_minor": 0
      },
      "text/plain": [
       "  0%|          | 0/177 [00:00<?, ?it/s]"
      ]
     },
     "metadata": {},
     "output_type": "display_data"
    },
    {
     "name": "stdout",
     "output_type": "stream",
     "text": [
      "Epoch [8/100], train_loss: 1.0842,  train_score: 0.8012,val_loss: 3.8681,  val_score: 0.4638\n"
     ]
    },
    {
     "data": {
      "application/vnd.jupyter.widget-view+json": {
       "model_id": "d34d15e186ef4bf9b64fe7ded8c27c48",
       "version_major": 2,
       "version_minor": 0
      },
      "text/plain": [
       "  0%|          | 0/339 [00:00<?, ?it/s]"
      ]
     },
     "metadata": {},
     "output_type": "display_data"
    },
    {
     "data": {
      "application/vnd.jupyter.widget-view+json": {
       "model_id": "fa491842795341589e48e77199581d56",
       "version_major": 2,
       "version_minor": 0
      },
      "text/plain": [
       "  0%|          | 0/177 [00:00<?, ?it/s]"
      ]
     },
     "metadata": {},
     "output_type": "display_data"
    },
    {
     "name": "stdout",
     "output_type": "stream",
     "text": [
      "Epoch [9/100], train_loss: 0.9944,  train_score: 0.8204,val_loss: 6.2166,  val_score: 0.4641\n"
     ]
    },
    {
     "data": {
      "application/vnd.jupyter.widget-view+json": {
       "model_id": "eb0b198b1c664c75991c0ec524568c1d",
       "version_major": 2,
       "version_minor": 0
      },
      "text/plain": [
       "  0%|          | 0/339 [00:00<?, ?it/s]"
      ]
     },
     "metadata": {},
     "output_type": "display_data"
    },
    {
     "data": {
      "application/vnd.jupyter.widget-view+json": {
       "model_id": "4e8860fd0b254043a41e8e1de94bc2de",
       "version_major": 2,
       "version_minor": 0
      },
      "text/plain": [
       "  0%|          | 0/177 [00:00<?, ?it/s]"
      ]
     },
     "metadata": {},
     "output_type": "display_data"
    },
    {
     "name": "stdout",
     "output_type": "stream",
     "text": [
      "Epoch [10/100], train_loss: 0.9651,  train_score: 0.8476,val_loss: 7.4983,  val_score: 0.4657\n"
     ]
    },
    {
     "data": {
      "application/vnd.jupyter.widget-view+json": {
       "model_id": "4e04a9f9172f473b990cb51ebd60bb60",
       "version_major": 2,
       "version_minor": 0
      },
      "text/plain": [
       "  0%|          | 0/339 [00:00<?, ?it/s]"
      ]
     },
     "metadata": {},
     "output_type": "display_data"
    },
    {
     "data": {
      "application/vnd.jupyter.widget-view+json": {
       "model_id": "f1bf2d50612e4f6aae8e849014fecd28",
       "version_major": 2,
       "version_minor": 0
      },
      "text/plain": [
       "  0%|          | 0/177 [00:00<?, ?it/s]"
      ]
     },
     "metadata": {},
     "output_type": "display_data"
    },
    {
     "name": "stdout",
     "output_type": "stream",
     "text": [
      "Epoch [11/100], train_loss: 0.6697,  train_score: 0.8660,val_loss: 5.7542,  val_score: 0.4664\n"
     ]
    },
    {
     "data": {
      "application/vnd.jupyter.widget-view+json": {
       "model_id": "4413418475d24978b068c2a102f4962e",
       "version_major": 2,
       "version_minor": 0
      },
      "text/plain": [
       "  0%|          | 0/339 [00:00<?, ?it/s]"
      ]
     },
     "metadata": {},
     "output_type": "display_data"
    },
    {
     "data": {
      "application/vnd.jupyter.widget-view+json": {
       "model_id": "82e88688afc24aee9328fac6f703ab33",
       "version_major": 2,
       "version_minor": 0
      },
      "text/plain": [
       "  0%|          | 0/177 [00:00<?, ?it/s]"
      ]
     },
     "metadata": {},
     "output_type": "display_data"
    },
    {
     "name": "stdout",
     "output_type": "stream",
     "text": [
      "Epoch [12/100], train_loss: 1.0389,  train_score: 0.8786,val_loss: 6.7873,  val_score: 0.4678\n"
     ]
    },
    {
     "data": {
      "application/vnd.jupyter.widget-view+json": {
       "model_id": "c7fcba9507264153b739d14d3f8c7d15",
       "version_major": 2,
       "version_minor": 0
      },
      "text/plain": [
       "  0%|          | 0/339 [00:00<?, ?it/s]"
      ]
     },
     "metadata": {},
     "output_type": "display_data"
    },
    {
     "data": {
      "application/vnd.jupyter.widget-view+json": {
       "model_id": "d335d46d48844f5b96d18593ab9953d8",
       "version_major": 2,
       "version_minor": 0
      },
      "text/plain": [
       "  0%|          | 0/177 [00:00<?, ?it/s]"
      ]
     },
     "metadata": {},
     "output_type": "display_data"
    },
    {
     "name": "stdout",
     "output_type": "stream",
     "text": [
      "Epoch [13/100], train_loss: 0.3567,  train_score: 0.8899,val_loss: 5.4094,  val_score: 0.4689\n"
     ]
    },
    {
     "data": {
      "application/vnd.jupyter.widget-view+json": {
       "model_id": "b101a2db6cd847bda4a524fff8437743",
       "version_major": 2,
       "version_minor": 0
      },
      "text/plain": [
       "  0%|          | 0/339 [00:00<?, ?it/s]"
      ]
     },
     "metadata": {},
     "output_type": "display_data"
    },
    {
     "data": {
      "application/vnd.jupyter.widget-view+json": {
       "model_id": "15f56abf5ad748e88a322cd5a0b6d9d0",
       "version_major": 2,
       "version_minor": 0
      },
      "text/plain": [
       "  0%|          | 0/177 [00:00<?, ?it/s]"
      ]
     },
     "metadata": {},
     "output_type": "display_data"
    },
    {
     "name": "stdout",
     "output_type": "stream",
     "text": [
      "Epoch [14/100], train_loss: 0.4296,  train_score: 0.8994,val_loss: 5.0200,  val_score: 0.4696\n"
     ]
    },
    {
     "data": {
      "application/vnd.jupyter.widget-view+json": {
       "model_id": "d2b2e323a05c4598b3edddc43e32cab3",
       "version_major": 2,
       "version_minor": 0
      },
      "text/plain": [
       "  0%|          | 0/339 [00:00<?, ?it/s]"
      ]
     },
     "metadata": {},
     "output_type": "display_data"
    },
    {
     "data": {
      "application/vnd.jupyter.widget-view+json": {
       "model_id": "059f9ac97f0e4d3ba942ce380b9490fa",
       "version_major": 2,
       "version_minor": 0
      },
      "text/plain": [
       "  0%|          | 0/177 [00:00<?, ?it/s]"
      ]
     },
     "metadata": {},
     "output_type": "display_data"
    },
    {
     "name": "stdout",
     "output_type": "stream",
     "text": [
      "Epoch [15/100], train_loss: 0.2868,  train_score: 0.9075,val_loss: 8.3565,  val_score: 0.4689\n"
     ]
    },
    {
     "data": {
      "application/vnd.jupyter.widget-view+json": {
       "model_id": "a34b162d20bf489b82c27392153e77fe",
       "version_major": 2,
       "version_minor": 0
      },
      "text/plain": [
       "  0%|          | 0/339 [00:00<?, ?it/s]"
      ]
     },
     "metadata": {},
     "output_type": "display_data"
    },
    {
     "data": {
      "application/vnd.jupyter.widget-view+json": {
       "model_id": "0e758137d6e2412fb8aca45765de7375",
       "version_major": 2,
       "version_minor": 0
      },
      "text/plain": [
       "  0%|          | 0/177 [00:00<?, ?it/s]"
      ]
     },
     "metadata": {},
     "output_type": "display_data"
    },
    {
     "name": "stdout",
     "output_type": "stream",
     "text": [
      "Epoch [16/100], train_loss: 0.1364,  train_score: 0.9149,val_loss: 5.9339,  val_score: 0.4693\n"
     ]
    },
    {
     "data": {
      "application/vnd.jupyter.widget-view+json": {
       "model_id": "f9ca2e53f40c4c98aec5d69ee187860f",
       "version_major": 2,
       "version_minor": 0
      },
      "text/plain": [
       "  0%|          | 0/339 [00:00<?, ?it/s]"
      ]
     },
     "metadata": {},
     "output_type": "display_data"
    },
    {
     "data": {
      "application/vnd.jupyter.widget-view+json": {
       "model_id": "a10f67a4c5cd441da2af5e5f1a2de317",
       "version_major": 2,
       "version_minor": 0
      },
      "text/plain": [
       "  0%|          | 0/177 [00:00<?, ?it/s]"
      ]
     },
     "metadata": {},
     "output_type": "display_data"
    },
    {
     "name": "stdout",
     "output_type": "stream",
     "text": [
      "Epoch [17/100], train_loss: 0.8066,  train_score: 0.9181,val_loss: 5.4353,  val_score: 0.4694\n"
     ]
    },
    {
     "data": {
      "application/vnd.jupyter.widget-view+json": {
       "model_id": "a292c1e9c0dd4d4389a0b2949dc86b03",
       "version_major": 2,
       "version_minor": 0
      },
      "text/plain": [
       "  0%|          | 0/339 [00:00<?, ?it/s]"
      ]
     },
     "metadata": {},
     "output_type": "display_data"
    },
    {
     "data": {
      "application/vnd.jupyter.widget-view+json": {
       "model_id": "66b96cba283c4ccaa322d95a327b2cb5",
       "version_major": 2,
       "version_minor": 0
      },
      "text/plain": [
       "  0%|          | 0/177 [00:00<?, ?it/s]"
      ]
     },
     "metadata": {},
     "output_type": "display_data"
    },
    {
     "name": "stdout",
     "output_type": "stream",
     "text": [
      "Epoch [18/100], train_loss: 0.3983,  train_score: 0.9295,val_loss: 6.1560,  val_score: 0.4705\n"
     ]
    },
    {
     "data": {
      "application/vnd.jupyter.widget-view+json": {
       "model_id": "dfbc502c62424b619860ad4e74126fb1",
       "version_major": 2,
       "version_minor": 0
      },
      "text/plain": [
       "  0%|          | 0/339 [00:00<?, ?it/s]"
      ]
     },
     "metadata": {},
     "output_type": "display_data"
    },
    {
     "data": {
      "application/vnd.jupyter.widget-view+json": {
       "model_id": "6a0204bdaadc47df8b50e02b83bafb03",
       "version_major": 2,
       "version_minor": 0
      },
      "text/plain": [
       "  0%|          | 0/177 [00:00<?, ?it/s]"
      ]
     },
     "metadata": {},
     "output_type": "display_data"
    },
    {
     "name": "stdout",
     "output_type": "stream",
     "text": [
      "Epoch [19/100], train_loss: 0.5485,  train_score: 0.9291,val_loss: 3.4537,  val_score: 0.4705\n"
     ]
    },
    {
     "data": {
      "application/vnd.jupyter.widget-view+json": {
       "model_id": "66712b1e8b6341af992d7a7abad5ba2a",
       "version_major": 2,
       "version_minor": 0
      },
      "text/plain": [
       "  0%|          | 0/339 [00:00<?, ?it/s]"
      ]
     },
     "metadata": {},
     "output_type": "display_data"
    },
    {
     "data": {
      "application/vnd.jupyter.widget-view+json": {
       "model_id": "3bfc630fbf6c481fb3e26f687c549de0",
       "version_major": 2,
       "version_minor": 0
      },
      "text/plain": [
       "  0%|          | 0/177 [00:00<?, ?it/s]"
      ]
     },
     "metadata": {},
     "output_type": "display_data"
    },
    {
     "name": "stdout",
     "output_type": "stream",
     "text": [
      "Epoch [20/100], train_loss: 0.1623,  train_score: 0.9313,val_loss: 3.2467,  val_score: 0.4700\n"
     ]
    },
    {
     "data": {
      "application/vnd.jupyter.widget-view+json": {
       "model_id": "70eef6bac35b471eb52471680275ff96",
       "version_major": 2,
       "version_minor": 0
      },
      "text/plain": [
       "  0%|          | 0/339 [00:00<?, ?it/s]"
      ]
     },
     "metadata": {},
     "output_type": "display_data"
    },
    {
     "data": {
      "application/vnd.jupyter.widget-view+json": {
       "model_id": "6eb2af78179b45fa9b638d895c939150",
       "version_major": 2,
       "version_minor": 0
      },
      "text/plain": [
       "  0%|          | 0/177 [00:00<?, ?it/s]"
      ]
     },
     "metadata": {},
     "output_type": "display_data"
    },
    {
     "name": "stdout",
     "output_type": "stream",
     "text": [
      "Epoch [21/100], train_loss: 0.2679,  train_score: 0.9321,val_loss: 3.1834,  val_score: 0.4702\n"
     ]
    },
    {
     "data": {
      "application/vnd.jupyter.widget-view+json": {
       "model_id": "bda6c9f3887d470689fe6385c4bafb11",
       "version_major": 2,
       "version_minor": 0
      },
      "text/plain": [
       "  0%|          | 0/339 [00:00<?, ?it/s]"
      ]
     },
     "metadata": {},
     "output_type": "display_data"
    },
    {
     "data": {
      "application/vnd.jupyter.widget-view+json": {
       "model_id": "08d2e36d3b0a401ebb9f913f1579b8e8",
       "version_major": 2,
       "version_minor": 0
      },
      "text/plain": [
       "  0%|          | 0/177 [00:00<?, ?it/s]"
      ]
     },
     "metadata": {},
     "output_type": "display_data"
    },
    {
     "name": "stdout",
     "output_type": "stream",
     "text": [
      "Epoch [22/100], train_loss: 0.0431,  train_score: 0.9405,val_loss: 4.8480,  val_score: 0.4702\n"
     ]
    },
    {
     "data": {
      "application/vnd.jupyter.widget-view+json": {
       "model_id": "d84578072db24538828958afd1d83eaa",
       "version_major": 2,
       "version_minor": 0
      },
      "text/plain": [
       "  0%|          | 0/339 [00:00<?, ?it/s]"
      ]
     },
     "metadata": {},
     "output_type": "display_data"
    },
    {
     "data": {
      "application/vnd.jupyter.widget-view+json": {
       "model_id": "0b64cc55825d4b31bd55ceefed00a4c7",
       "version_major": 2,
       "version_minor": 0
      },
      "text/plain": [
       "  0%|          | 0/177 [00:00<?, ?it/s]"
      ]
     },
     "metadata": {},
     "output_type": "display_data"
    },
    {
     "name": "stdout",
     "output_type": "stream",
     "text": [
      "Epoch [23/100], train_loss: 0.1735,  train_score: 0.9439,val_loss: 6.7882,  val_score: 0.4702\n"
     ]
    },
    {
     "data": {
      "application/vnd.jupyter.widget-view+json": {
       "model_id": "e8a614886c3b4da8a92a9b66db314167",
       "version_major": 2,
       "version_minor": 0
      },
      "text/plain": [
       "  0%|          | 0/339 [00:00<?, ?it/s]"
      ]
     },
     "metadata": {},
     "output_type": "display_data"
    },
    {
     "data": {
      "application/vnd.jupyter.widget-view+json": {
       "model_id": "bc8cba7b214e496db2c815c0139619ba",
       "version_major": 2,
       "version_minor": 0
      },
      "text/plain": [
       "  0%|          | 0/177 [00:00<?, ?it/s]"
      ]
     },
     "metadata": {},
     "output_type": "display_data"
    },
    {
     "name": "stdout",
     "output_type": "stream",
     "text": [
      "Epoch [24/100], train_loss: 0.0916,  train_score: 0.9454,val_loss: 6.8841,  val_score: 0.4700\n"
     ]
    },
    {
     "data": {
      "application/vnd.jupyter.widget-view+json": {
       "model_id": "b94eb82288fb4b21b298667399916afa",
       "version_major": 2,
       "version_minor": 0
      },
      "text/plain": [
       "  0%|          | 0/339 [00:00<?, ?it/s]"
      ]
     },
     "metadata": {},
     "output_type": "display_data"
    },
    {
     "data": {
      "application/vnd.jupyter.widget-view+json": {
       "model_id": "36ad66f68bb74f519898f9cf056de838",
       "version_major": 2,
       "version_minor": 0
      },
      "text/plain": [
       "  0%|          | 0/177 [00:00<?, ?it/s]"
      ]
     },
     "metadata": {},
     "output_type": "display_data"
    },
    {
     "name": "stdout",
     "output_type": "stream",
     "text": [
      "Epoch [25/100], train_loss: 0.2510,  train_score: 0.9438,val_loss: 7.2452,  val_score: 0.4705\n"
     ]
    },
    {
     "data": {
      "application/vnd.jupyter.widget-view+json": {
       "model_id": "92ae1b7d837f491fb5a200aa038836b8",
       "version_major": 2,
       "version_minor": 0
      },
      "text/plain": [
       "  0%|          | 0/339 [00:00<?, ?it/s]"
      ]
     },
     "metadata": {},
     "output_type": "display_data"
    },
    {
     "data": {
      "application/vnd.jupyter.widget-view+json": {
       "model_id": "ef5ac4c3ef4149588ec3d339a8473eca",
       "version_major": 2,
       "version_minor": 0
      },
      "text/plain": [
       "  0%|          | 0/177 [00:00<?, ?it/s]"
      ]
     },
     "metadata": {},
     "output_type": "display_data"
    },
    {
     "name": "stdout",
     "output_type": "stream",
     "text": [
      "Epoch [26/100], train_loss: 0.0081,  train_score: 0.9482,val_loss: 5.3748,  val_score: 0.4705\n"
     ]
    },
    {
     "data": {
      "application/vnd.jupyter.widget-view+json": {
       "model_id": "df814dd6763b4766b662165cc81b3d2c",
       "version_major": 2,
       "version_minor": 0
      },
      "text/plain": [
       "  0%|          | 0/339 [00:00<?, ?it/s]"
      ]
     },
     "metadata": {},
     "output_type": "display_data"
    },
    {
     "data": {
      "application/vnd.jupyter.widget-view+json": {
       "model_id": "2a2c482ebf5e440f80a460fc19a41dd0",
       "version_major": 2,
       "version_minor": 0
      },
      "text/plain": [
       "  0%|          | 0/177 [00:00<?, ?it/s]"
      ]
     },
     "metadata": {},
     "output_type": "display_data"
    },
    {
     "name": "stdout",
     "output_type": "stream",
     "text": [
      "Epoch [27/100], train_loss: 0.0248,  train_score: 0.9528,val_loss: 5.0389,  val_score: 0.4705\n"
     ]
    },
    {
     "data": {
      "application/vnd.jupyter.widget-view+json": {
       "model_id": "b1b7ba97b66d45238fb8798cf8922466",
       "version_major": 2,
       "version_minor": 0
      },
      "text/plain": [
       "  0%|          | 0/339 [00:00<?, ?it/s]"
      ]
     },
     "metadata": {},
     "output_type": "display_data"
    },
    {
     "data": {
      "application/vnd.jupyter.widget-view+json": {
       "model_id": "f4e6e47b6dd64e118080db748ea0e62d",
       "version_major": 2,
       "version_minor": 0
      },
      "text/plain": [
       "  0%|          | 0/177 [00:00<?, ?it/s]"
      ]
     },
     "metadata": {},
     "output_type": "display_data"
    },
    {
     "name": "stdout",
     "output_type": "stream",
     "text": [
      "Epoch [28/100], train_loss: 0.4752,  train_score: 0.9525,val_loss: 7.7192,  val_score: 0.4703\n"
     ]
    },
    {
     "data": {
      "application/vnd.jupyter.widget-view+json": {
       "model_id": "99a8748499a04a2caf662a356716cb9d",
       "version_major": 2,
       "version_minor": 0
      },
      "text/plain": [
       "  0%|          | 0/339 [00:00<?, ?it/s]"
      ]
     },
     "metadata": {},
     "output_type": "display_data"
    },
    {
     "data": {
      "application/vnd.jupyter.widget-view+json": {
       "model_id": "e7abfa8d2bbe491eb6ec5b504800ebfa",
       "version_major": 2,
       "version_minor": 0
      },
      "text/plain": [
       "  0%|          | 0/177 [00:00<?, ?it/s]"
      ]
     },
     "metadata": {},
     "output_type": "display_data"
    },
    {
     "name": "stdout",
     "output_type": "stream",
     "text": [
      "Epoch [29/100], train_loss: 0.0315,  train_score: 0.9489,val_loss: 5.5353,  val_score: 0.4705\n"
     ]
    },
    {
     "data": {
      "application/vnd.jupyter.widget-view+json": {
       "model_id": "e01e322f4a374c5c8cb421902b8b9435",
       "version_major": 2,
       "version_minor": 0
      },
      "text/plain": [
       "  0%|          | 0/339 [00:00<?, ?it/s]"
      ]
     },
     "metadata": {},
     "output_type": "display_data"
    },
    {
     "data": {
      "application/vnd.jupyter.widget-view+json": {
       "model_id": "a627851b176d4836ab92f8a268978d40",
       "version_major": 2,
       "version_minor": 0
      },
      "text/plain": [
       "  0%|          | 0/177 [00:00<?, ?it/s]"
      ]
     },
     "metadata": {},
     "output_type": "display_data"
    },
    {
     "name": "stdout",
     "output_type": "stream",
     "text": [
      "Epoch [30/100], train_loss: 0.0166,  train_score: 0.9547,val_loss: 8.5181,  val_score: 0.4703\n"
     ]
    },
    {
     "data": {
      "application/vnd.jupyter.widget-view+json": {
       "model_id": "d4b64368a22c496f8418b0cef39e06be",
       "version_major": 2,
       "version_minor": 0
      },
      "text/plain": [
       "  0%|          | 0/339 [00:00<?, ?it/s]"
      ]
     },
     "metadata": {},
     "output_type": "display_data"
    },
    {
     "data": {
      "application/vnd.jupyter.widget-view+json": {
       "model_id": "a4de497789b94f42931022bf4001161d",
       "version_major": 2,
       "version_minor": 0
      },
      "text/plain": [
       "  0%|          | 0/177 [00:00<?, ?it/s]"
      ]
     },
     "metadata": {},
     "output_type": "display_data"
    },
    {
     "name": "stdout",
     "output_type": "stream",
     "text": [
      "Epoch [31/100], train_loss: 0.4911,  train_score: 0.9561,val_loss: 9.4198,  val_score: 0.4710\n"
     ]
    },
    {
     "data": {
      "application/vnd.jupyter.widget-view+json": {
       "model_id": "07bbbbfeedb34feb891c100512a4b975",
       "version_major": 2,
       "version_minor": 0
      },
      "text/plain": [
       "  0%|          | 0/339 [00:00<?, ?it/s]"
      ]
     },
     "metadata": {},
     "output_type": "display_data"
    },
    {
     "data": {
      "application/vnd.jupyter.widget-view+json": {
       "model_id": "83dc0c7107604fbebff4e63d6ca515b9",
       "version_major": 2,
       "version_minor": 0
      },
      "text/plain": [
       "  0%|          | 0/177 [00:00<?, ?it/s]"
      ]
     },
     "metadata": {},
     "output_type": "display_data"
    },
    {
     "name": "stdout",
     "output_type": "stream",
     "text": [
      "Epoch [32/100], train_loss: 0.0078,  train_score: 0.9565,val_loss: 7.8892,  val_score: 0.4705\n"
     ]
    },
    {
     "data": {
      "application/vnd.jupyter.widget-view+json": {
       "model_id": "dadc26cfb9284c37927c847a10c9d9dc",
       "version_major": 2,
       "version_minor": 0
      },
      "text/plain": [
       "  0%|          | 0/339 [00:00<?, ?it/s]"
      ]
     },
     "metadata": {},
     "output_type": "display_data"
    },
    {
     "data": {
      "application/vnd.jupyter.widget-view+json": {
       "model_id": "abec8f43ca364378a4a22974ad50889d",
       "version_major": 2,
       "version_minor": 0
      },
      "text/plain": [
       "  0%|          | 0/177 [00:00<?, ?it/s]"
      ]
     },
     "metadata": {},
     "output_type": "display_data"
    },
    {
     "name": "stdout",
     "output_type": "stream",
     "text": [
      "Epoch [33/100], train_loss: 0.1222,  train_score: 0.9589,val_loss: 6.3249,  val_score: 0.4705\n"
     ]
    },
    {
     "data": {
      "application/vnd.jupyter.widget-view+json": {
       "model_id": "af7699c7115642d6a9148961589a1f91",
       "version_major": 2,
       "version_minor": 0
      },
      "text/plain": [
       "  0%|          | 0/339 [00:00<?, ?it/s]"
      ]
     },
     "metadata": {},
     "output_type": "display_data"
    },
    {
     "data": {
      "application/vnd.jupyter.widget-view+json": {
       "model_id": "79e2c6dc469a45659a365a128b95d970",
       "version_major": 2,
       "version_minor": 0
      },
      "text/plain": [
       "  0%|          | 0/177 [00:00<?, ?it/s]"
      ]
     },
     "metadata": {},
     "output_type": "display_data"
    },
    {
     "name": "stdout",
     "output_type": "stream",
     "text": [
      "Epoch [34/100], train_loss: 0.0006,  train_score: 0.9586,val_loss: 4.5457,  val_score: 0.4702\n"
     ]
    },
    {
     "data": {
      "application/vnd.jupyter.widget-view+json": {
       "model_id": "694eadf519fe4f94a5aea67a732c9955",
       "version_major": 2,
       "version_minor": 0
      },
      "text/plain": [
       "  0%|          | 0/339 [00:00<?, ?it/s]"
      ]
     },
     "metadata": {},
     "output_type": "display_data"
    },
    {
     "data": {
      "application/vnd.jupyter.widget-view+json": {
       "model_id": "88a3963074dc4da2b08ebfcb613bc620",
       "version_major": 2,
       "version_minor": 0
      },
      "text/plain": [
       "  0%|          | 0/177 [00:00<?, ?it/s]"
      ]
     },
     "metadata": {},
     "output_type": "display_data"
    },
    {
     "name": "stdout",
     "output_type": "stream",
     "text": [
      "Epoch [35/100], train_loss: 0.1134,  train_score: 0.9640,val_loss: 2.5392,  val_score: 0.4709\n"
     ]
    },
    {
     "data": {
      "application/vnd.jupyter.widget-view+json": {
       "model_id": "08db7b9451a242899857863cd0c5a06b",
       "version_major": 2,
       "version_minor": 0
      },
      "text/plain": [
       "  0%|          | 0/339 [00:00<?, ?it/s]"
      ]
     },
     "metadata": {},
     "output_type": "display_data"
    },
    {
     "data": {
      "application/vnd.jupyter.widget-view+json": {
       "model_id": "91c6ae2f8c534e9cba2af56af2ceba35",
       "version_major": 2,
       "version_minor": 0
      },
      "text/plain": [
       "  0%|          | 0/177 [00:00<?, ?it/s]"
      ]
     },
     "metadata": {},
     "output_type": "display_data"
    },
    {
     "name": "stdout",
     "output_type": "stream",
     "text": [
      "Epoch [36/100], train_loss: 0.4618,  train_score: 0.9622,val_loss: 6.7108,  val_score: 0.4702\n"
     ]
    },
    {
     "data": {
      "application/vnd.jupyter.widget-view+json": {
       "model_id": "7bdc302da44f444a951a5c37ab18215c",
       "version_major": 2,
       "version_minor": 0
      },
      "text/plain": [
       "  0%|          | 0/339 [00:00<?, ?it/s]"
      ]
     },
     "metadata": {},
     "output_type": "display_data"
    },
    {
     "data": {
      "application/vnd.jupyter.widget-view+json": {
       "model_id": "7faed42b71cc496caa3aeaf1955c7f6f",
       "version_major": 2,
       "version_minor": 0
      },
      "text/plain": [
       "  0%|          | 0/177 [00:00<?, ?it/s]"
      ]
     },
     "metadata": {},
     "output_type": "display_data"
    },
    {
     "name": "stdout",
     "output_type": "stream",
     "text": [
      "Epoch [37/100], train_loss: 0.0262,  train_score: 0.9630,val_loss: 2.6862,  val_score: 0.4703\n"
     ]
    },
    {
     "data": {
      "application/vnd.jupyter.widget-view+json": {
       "model_id": "fb5f0eb2e6dd481eae876a61f49be367",
       "version_major": 2,
       "version_minor": 0
      },
      "text/plain": [
       "  0%|          | 0/339 [00:00<?, ?it/s]"
      ]
     },
     "metadata": {},
     "output_type": "display_data"
    },
    {
     "data": {
      "application/vnd.jupyter.widget-view+json": {
       "model_id": "f0a9bfc69e404fa79c26a8d5e145cab2",
       "version_major": 2,
       "version_minor": 0
      },
      "text/plain": [
       "  0%|          | 0/177 [00:00<?, ?it/s]"
      ]
     },
     "metadata": {},
     "output_type": "display_data"
    },
    {
     "name": "stdout",
     "output_type": "stream",
     "text": [
      "Epoch [38/100], train_loss: 0.0257,  train_score: 0.9636,val_loss: 4.3469,  val_score: 0.4703\n"
     ]
    },
    {
     "data": {
      "application/vnd.jupyter.widget-view+json": {
       "model_id": "4ab78bd657d04036a22ee8653cdbd679",
       "version_major": 2,
       "version_minor": 0
      },
      "text/plain": [
       "  0%|          | 0/339 [00:00<?, ?it/s]"
      ]
     },
     "metadata": {},
     "output_type": "display_data"
    },
    {
     "data": {
      "application/vnd.jupyter.widget-view+json": {
       "model_id": "2128f764fc9b480083c3388d66430ef4",
       "version_major": 2,
       "version_minor": 0
      },
      "text/plain": [
       "  0%|          | 0/177 [00:00<?, ?it/s]"
      ]
     },
     "metadata": {},
     "output_type": "display_data"
    },
    {
     "name": "stdout",
     "output_type": "stream",
     "text": [
      "Epoch [39/100], train_loss: 0.0776,  train_score: 0.9654,val_loss: 6.8404,  val_score: 0.4705\n"
     ]
    },
    {
     "data": {
      "application/vnd.jupyter.widget-view+json": {
       "model_id": "cbab2cbf0e3844fda40a6cef88901807",
       "version_major": 2,
       "version_minor": 0
      },
      "text/plain": [
       "  0%|          | 0/339 [00:00<?, ?it/s]"
      ]
     },
     "metadata": {},
     "output_type": "display_data"
    },
    {
     "data": {
      "application/vnd.jupyter.widget-view+json": {
       "model_id": "23719ddea3cf4dbbaa36e7e01fa05355",
       "version_major": 2,
       "version_minor": 0
      },
      "text/plain": [
       "  0%|          | 0/177 [00:00<?, ?it/s]"
      ]
     },
     "metadata": {},
     "output_type": "display_data"
    },
    {
     "name": "stdout",
     "output_type": "stream",
     "text": [
      "Epoch [40/100], train_loss: 0.0273,  train_score: 0.9664,val_loss: 6.1075,  val_score: 0.4702\n"
     ]
    },
    {
     "data": {
      "application/vnd.jupyter.widget-view+json": {
       "model_id": "b03cd3cc076d4ba8837b47dd0f502ceb",
       "version_major": 2,
       "version_minor": 0
      },
      "text/plain": [
       "  0%|          | 0/339 [00:00<?, ?it/s]"
      ]
     },
     "metadata": {},
     "output_type": "display_data"
    },
    {
     "data": {
      "application/vnd.jupyter.widget-view+json": {
       "model_id": "169aa1e4fcfe4aeb9d5e65b269e03a2f",
       "version_major": 2,
       "version_minor": 0
      },
      "text/plain": [
       "  0%|          | 0/177 [00:00<?, ?it/s]"
      ]
     },
     "metadata": {},
     "output_type": "display_data"
    },
    {
     "name": "stdout",
     "output_type": "stream",
     "text": [
      "Epoch [41/100], train_loss: 0.0030,  train_score: 0.9649,val_loss: 4.2248,  val_score: 0.4703\n"
     ]
    },
    {
     "data": {
      "application/vnd.jupyter.widget-view+json": {
       "model_id": "44def2ca32f54df9a5863377e4d10f6b",
       "version_major": 2,
       "version_minor": 0
      },
      "text/plain": [
       "  0%|          | 0/339 [00:00<?, ?it/s]"
      ]
     },
     "metadata": {},
     "output_type": "display_data"
    },
    {
     "data": {
      "application/vnd.jupyter.widget-view+json": {
       "model_id": "62d92d34809546b798cf923205b5d43f",
       "version_major": 2,
       "version_minor": 0
      },
      "text/plain": [
       "  0%|          | 0/177 [00:00<?, ?it/s]"
      ]
     },
     "metadata": {},
     "output_type": "display_data"
    },
    {
     "name": "stdout",
     "output_type": "stream",
     "text": [
      "Epoch [42/100], train_loss: 0.0310,  train_score: 0.9673,val_loss: 5.0675,  val_score: 0.4703\n"
     ]
    },
    {
     "data": {
      "application/vnd.jupyter.widget-view+json": {
       "model_id": "6d9178bdd7b54139a354e0747b3d0255",
       "version_major": 2,
       "version_minor": 0
      },
      "text/plain": [
       "  0%|          | 0/339 [00:00<?, ?it/s]"
      ]
     },
     "metadata": {},
     "output_type": "display_data"
    },
    {
     "data": {
      "application/vnd.jupyter.widget-view+json": {
       "model_id": "d4cc9d149057447ab6e5245c969a6a97",
       "version_major": 2,
       "version_minor": 0
      },
      "text/plain": [
       "  0%|          | 0/177 [00:00<?, ?it/s]"
      ]
     },
     "metadata": {},
     "output_type": "display_data"
    },
    {
     "name": "stdout",
     "output_type": "stream",
     "text": [
      "Epoch [43/100], train_loss: 0.1864,  train_score: 0.9641,val_loss: 10.3268,  val_score: 0.4705\n"
     ]
    },
    {
     "data": {
      "application/vnd.jupyter.widget-view+json": {
       "model_id": "96f4c2c791434c5da2ce32ec089febcf",
       "version_major": 2,
       "version_minor": 0
      },
      "text/plain": [
       "  0%|          | 0/339 [00:00<?, ?it/s]"
      ]
     },
     "metadata": {},
     "output_type": "display_data"
    },
    {
     "data": {
      "application/vnd.jupyter.widget-view+json": {
       "model_id": "fc5aa925c0474acc8435bc0d6f490fc7",
       "version_major": 2,
       "version_minor": 0
      },
      "text/plain": [
       "  0%|          | 0/177 [00:00<?, ?it/s]"
      ]
     },
     "metadata": {},
     "output_type": "display_data"
    },
    {
     "name": "stdout",
     "output_type": "stream",
     "text": [
      "Epoch [44/100], train_loss: 0.0727,  train_score: 0.9634,val_loss: 6.6179,  val_score: 0.4703\n"
     ]
    },
    {
     "data": {
      "application/vnd.jupyter.widget-view+json": {
       "model_id": "c8001010f7ab49ddac9209e46ff8e0f8",
       "version_major": 2,
       "version_minor": 0
      },
      "text/plain": [
       "  0%|          | 0/339 [00:00<?, ?it/s]"
      ]
     },
     "metadata": {},
     "output_type": "display_data"
    },
    {
     "data": {
      "application/vnd.jupyter.widget-view+json": {
       "model_id": "7308bce0742d44779694e03afb1d98a5",
       "version_major": 2,
       "version_minor": 0
      },
      "text/plain": [
       "  0%|          | 0/177 [00:00<?, ?it/s]"
      ]
     },
     "metadata": {},
     "output_type": "display_data"
    },
    {
     "name": "stdout",
     "output_type": "stream",
     "text": [
      "Epoch [45/100], train_loss: 0.3847,  train_score: 0.9661,val_loss: 1.2146,  val_score: 0.4709\n"
     ]
    },
    {
     "data": {
      "application/vnd.jupyter.widget-view+json": {
       "model_id": "b59d0a2930fc46d6be525a2cb1d5aae5",
       "version_major": 2,
       "version_minor": 0
      },
      "text/plain": [
       "  0%|          | 0/339 [00:00<?, ?it/s]"
      ]
     },
     "metadata": {},
     "output_type": "display_data"
    },
    {
     "data": {
      "application/vnd.jupyter.widget-view+json": {
       "model_id": "43baafd402ef4406a7f5f8272d860e1b",
       "version_major": 2,
       "version_minor": 0
      },
      "text/plain": [
       "  0%|          | 0/177 [00:00<?, ?it/s]"
      ]
     },
     "metadata": {},
     "output_type": "display_data"
    },
    {
     "name": "stdout",
     "output_type": "stream",
     "text": [
      "Epoch [46/100], train_loss: 0.0798,  train_score: 0.9676,val_loss: 9.0109,  val_score: 0.4705\n"
     ]
    },
    {
     "data": {
      "application/vnd.jupyter.widget-view+json": {
       "model_id": "4e18166edf684312a863cae8d96efa93",
       "version_major": 2,
       "version_minor": 0
      },
      "text/plain": [
       "  0%|          | 0/339 [00:00<?, ?it/s]"
      ]
     },
     "metadata": {},
     "output_type": "display_data"
    },
    {
     "data": {
      "application/vnd.jupyter.widget-view+json": {
       "model_id": "0c220be40683405a8667f50c72f98714",
       "version_major": 2,
       "version_minor": 0
      },
      "text/plain": [
       "  0%|          | 0/177 [00:00<?, ?it/s]"
      ]
     },
     "metadata": {},
     "output_type": "display_data"
    },
    {
     "name": "stdout",
     "output_type": "stream",
     "text": [
      "Epoch [47/100], train_loss: 0.1177,  train_score: 0.9661,val_loss: 8.6940,  val_score: 0.4709\n"
     ]
    },
    {
     "data": {
      "application/vnd.jupyter.widget-view+json": {
       "model_id": "0be75049893b4832b4e627c5800894f9",
       "version_major": 2,
       "version_minor": 0
      },
      "text/plain": [
       "  0%|          | 0/339 [00:00<?, ?it/s]"
      ]
     },
     "metadata": {},
     "output_type": "display_data"
    },
    {
     "data": {
      "application/vnd.jupyter.widget-view+json": {
       "model_id": "4fe2f80a40ed4c04a81ced4678926a86",
       "version_major": 2,
       "version_minor": 0
      },
      "text/plain": [
       "  0%|          | 0/177 [00:00<?, ?it/s]"
      ]
     },
     "metadata": {},
     "output_type": "display_data"
    },
    {
     "name": "stdout",
     "output_type": "stream",
     "text": [
      "Epoch [48/100], train_loss: 0.0260,  train_score: 0.9689,val_loss: 4.9363,  val_score: 0.4705\n"
     ]
    },
    {
     "data": {
      "application/vnd.jupyter.widget-view+json": {
       "model_id": "f1fbb3ec5ac44e08b5fc75920b8cf7ff",
       "version_major": 2,
       "version_minor": 0
      },
      "text/plain": [
       "  0%|          | 0/339 [00:00<?, ?it/s]"
      ]
     },
     "metadata": {},
     "output_type": "display_data"
    },
    {
     "data": {
      "application/vnd.jupyter.widget-view+json": {
       "model_id": "ee2756d5dd494e5085f325cdb4e1bc0f",
       "version_major": 2,
       "version_minor": 0
      },
      "text/plain": [
       "  0%|          | 0/177 [00:00<?, ?it/s]"
      ]
     },
     "metadata": {},
     "output_type": "display_data"
    },
    {
     "name": "stdout",
     "output_type": "stream",
     "text": [
      "Epoch [49/100], train_loss: 0.0049,  train_score: 0.9686,val_loss: 5.2964,  val_score: 0.4705\n"
     ]
    },
    {
     "data": {
      "application/vnd.jupyter.widget-view+json": {
       "model_id": "bd55845b95e24edc8ba139149423b796",
       "version_major": 2,
       "version_minor": 0
      },
      "text/plain": [
       "  0%|          | 0/339 [00:00<?, ?it/s]"
      ]
     },
     "metadata": {},
     "output_type": "display_data"
    },
    {
     "data": {
      "application/vnd.jupyter.widget-view+json": {
       "model_id": "ea2817be937443c4a6f397276dc1fbc5",
       "version_major": 2,
       "version_minor": 0
      },
      "text/plain": [
       "  0%|          | 0/177 [00:00<?, ?it/s]"
      ]
     },
     "metadata": {},
     "output_type": "display_data"
    },
    {
     "name": "stdout",
     "output_type": "stream",
     "text": [
      "Epoch [50/100], train_loss: 0.0822,  train_score: 0.9683,val_loss: 4.5546,  val_score: 0.4705\n"
     ]
    },
    {
     "data": {
      "application/vnd.jupyter.widget-view+json": {
       "model_id": "867427c4cb13438cb78c8a7e8a633e4c",
       "version_major": 2,
       "version_minor": 0
      },
      "text/plain": [
       "  0%|          | 0/339 [00:00<?, ?it/s]"
      ]
     },
     "metadata": {},
     "output_type": "display_data"
    },
    {
     "data": {
      "application/vnd.jupyter.widget-view+json": {
       "model_id": "768ee13ed1e9441097775027bc1a489a",
       "version_major": 2,
       "version_minor": 0
      },
      "text/plain": [
       "  0%|          | 0/177 [00:00<?, ?it/s]"
      ]
     },
     "metadata": {},
     "output_type": "display_data"
    },
    {
     "name": "stdout",
     "output_type": "stream",
     "text": [
      "Epoch [51/100], train_loss: 0.0414,  train_score: 0.9706,val_loss: 3.1737,  val_score: 0.4705\n"
     ]
    },
    {
     "data": {
      "application/vnd.jupyter.widget-view+json": {
       "model_id": "534d826ab475499f9e9e3a11e0e664d0",
       "version_major": 2,
       "version_minor": 0
      },
      "text/plain": [
       "  0%|          | 0/339 [00:00<?, ?it/s]"
      ]
     },
     "metadata": {},
     "output_type": "display_data"
    },
    {
     "data": {
      "application/vnd.jupyter.widget-view+json": {
       "model_id": "b01a333e2d294ef6aa6f6f6c0609e322",
       "version_major": 2,
       "version_minor": 0
      },
      "text/plain": [
       "  0%|          | 0/177 [00:00<?, ?it/s]"
      ]
     },
     "metadata": {},
     "output_type": "display_data"
    },
    {
     "name": "stdout",
     "output_type": "stream",
     "text": [
      "Epoch [52/100], train_loss: 0.0003,  train_score: 0.9694,val_loss: 9.4550,  val_score: 0.4705\n"
     ]
    },
    {
     "data": {
      "application/vnd.jupyter.widget-view+json": {
       "model_id": "395481747b2e414a96c464edd22ed6f4",
       "version_major": 2,
       "version_minor": 0
      },
      "text/plain": [
       "  0%|          | 0/339 [00:00<?, ?it/s]"
      ]
     },
     "metadata": {},
     "output_type": "display_data"
    },
    {
     "data": {
      "application/vnd.jupyter.widget-view+json": {
       "model_id": "8980c4f8520e40de82e58392e455a872",
       "version_major": 2,
       "version_minor": 0
      },
      "text/plain": [
       "  0%|          | 0/177 [00:00<?, ?it/s]"
      ]
     },
     "metadata": {},
     "output_type": "display_data"
    },
    {
     "name": "stdout",
     "output_type": "stream",
     "text": [
      "Epoch [53/100], train_loss: 0.2346,  train_score: 0.9685,val_loss: 3.5298,  val_score: 0.4705\n"
     ]
    },
    {
     "data": {
      "application/vnd.jupyter.widget-view+json": {
       "model_id": "c655c4e865e24bdfbc68e296d8b5de3f",
       "version_major": 2,
       "version_minor": 0
      },
      "text/plain": [
       "  0%|          | 0/339 [00:00<?, ?it/s]"
      ]
     },
     "metadata": {},
     "output_type": "display_data"
    },
    {
     "data": {
      "application/vnd.jupyter.widget-view+json": {
       "model_id": "4f3f691aeefa436eb55ac9426846b21c",
       "version_major": 2,
       "version_minor": 0
      },
      "text/plain": [
       "  0%|          | 0/177 [00:00<?, ?it/s]"
      ]
     },
     "metadata": {},
     "output_type": "display_data"
    },
    {
     "name": "stdout",
     "output_type": "stream",
     "text": [
      "Epoch [54/100], train_loss: 0.2886,  train_score: 0.9726,val_loss: 2.6576,  val_score: 0.4709\n"
     ]
    },
    {
     "data": {
      "application/vnd.jupyter.widget-view+json": {
       "model_id": "d16d4afe9a1d43f5a0cad2d2d945cec6",
       "version_major": 2,
       "version_minor": 0
      },
      "text/plain": [
       "  0%|          | 0/339 [00:00<?, ?it/s]"
      ]
     },
     "metadata": {},
     "output_type": "display_data"
    },
    {
     "data": {
      "application/vnd.jupyter.widget-view+json": {
       "model_id": "602ad3f1835542bfb1355fc7d0d3425a",
       "version_major": 2,
       "version_minor": 0
      },
      "text/plain": [
       "  0%|          | 0/177 [00:00<?, ?it/s]"
      ]
     },
     "metadata": {},
     "output_type": "display_data"
    },
    {
     "name": "stdout",
     "output_type": "stream",
     "text": [
      "Epoch [55/100], train_loss: 0.0077,  train_score: 0.9727,val_loss: 3.9500,  val_score: 0.4705\n"
     ]
    },
    {
     "data": {
      "application/vnd.jupyter.widget-view+json": {
       "model_id": "2d6908fe0a994247a930d136aad3f674",
       "version_major": 2,
       "version_minor": 0
      },
      "text/plain": [
       "  0%|          | 0/339 [00:00<?, ?it/s]"
      ]
     },
     "metadata": {},
     "output_type": "display_data"
    },
    {
     "data": {
      "application/vnd.jupyter.widget-view+json": {
       "model_id": "81821670f6d74899bb43239e067f98f3",
       "version_major": 2,
       "version_minor": 0
      },
      "text/plain": [
       "  0%|          | 0/177 [00:00<?, ?it/s]"
      ]
     },
     "metadata": {},
     "output_type": "display_data"
    },
    {
     "name": "stdout",
     "output_type": "stream",
     "text": [
      "Epoch [56/100], train_loss: 0.2888,  train_score: 0.9725,val_loss: 5.2859,  val_score: 0.4703\n"
     ]
    },
    {
     "data": {
      "application/vnd.jupyter.widget-view+json": {
       "model_id": "6908e7940e254da6818a3060dbd83105",
       "version_major": 2,
       "version_minor": 0
      },
      "text/plain": [
       "  0%|          | 0/339 [00:00<?, ?it/s]"
      ]
     },
     "metadata": {},
     "output_type": "display_data"
    },
    {
     "data": {
      "application/vnd.jupyter.widget-view+json": {
       "model_id": "8558050e55334edfbc25ecd388c33372",
       "version_major": 2,
       "version_minor": 0
      },
      "text/plain": [
       "  0%|          | 0/177 [00:00<?, ?it/s]"
      ]
     },
     "metadata": {},
     "output_type": "display_data"
    },
    {
     "name": "stdout",
     "output_type": "stream",
     "text": [
      "Epoch [57/100], train_loss: 0.1088,  train_score: 0.9740,val_loss: 5.5782,  val_score: 0.4705\n"
     ]
    },
    {
     "data": {
      "application/vnd.jupyter.widget-view+json": {
       "model_id": "ab37649a9ad44ea48260b9aeb3065041",
       "version_major": 2,
       "version_minor": 0
      },
      "text/plain": [
       "  0%|          | 0/339 [00:00<?, ?it/s]"
      ]
     },
     "metadata": {},
     "output_type": "display_data"
    },
    {
     "data": {
      "application/vnd.jupyter.widget-view+json": {
       "model_id": "2c58098301804b3abdc837fda7826e1f",
       "version_major": 2,
       "version_minor": 0
      },
      "text/plain": [
       "  0%|          | 0/177 [00:00<?, ?it/s]"
      ]
     },
     "metadata": {},
     "output_type": "display_data"
    },
    {
     "name": "stdout",
     "output_type": "stream",
     "text": [
      "Epoch [58/100], train_loss: 0.2536,  train_score: 0.9739,val_loss: 4.2209,  val_score: 0.4705\n"
     ]
    },
    {
     "data": {
      "application/vnd.jupyter.widget-view+json": {
       "model_id": "206679207eb0423a8d4ef5256c2f45f6",
       "version_major": 2,
       "version_minor": 0
      },
      "text/plain": [
       "  0%|          | 0/339 [00:00<?, ?it/s]"
      ]
     },
     "metadata": {},
     "output_type": "display_data"
    },
    {
     "data": {
      "application/vnd.jupyter.widget-view+json": {
       "model_id": "5388261146454b80a79928b87deb477a",
       "version_major": 2,
       "version_minor": 0
      },
      "text/plain": [
       "  0%|          | 0/177 [00:00<?, ?it/s]"
      ]
     },
     "metadata": {},
     "output_type": "display_data"
    },
    {
     "name": "stdout",
     "output_type": "stream",
     "text": [
      "Epoch [59/100], train_loss: 0.0097,  train_score: 0.9723,val_loss: 4.4504,  val_score: 0.4705\n"
     ]
    },
    {
     "data": {
      "application/vnd.jupyter.widget-view+json": {
       "model_id": "25f782f0a694486bab4960c2066e14ee",
       "version_major": 2,
       "version_minor": 0
      },
      "text/plain": [
       "  0%|          | 0/339 [00:00<?, ?it/s]"
      ]
     },
     "metadata": {},
     "output_type": "display_data"
    },
    {
     "data": {
      "application/vnd.jupyter.widget-view+json": {
       "model_id": "2d8165d4c56c4fe0978c1b15d11713b4",
       "version_major": 2,
       "version_minor": 0
      },
      "text/plain": [
       "  0%|          | 0/177 [00:00<?, ?it/s]"
      ]
     },
     "metadata": {},
     "output_type": "display_data"
    },
    {
     "name": "stdout",
     "output_type": "stream",
     "text": [
      "Epoch [60/100], train_loss: 0.0413,  train_score: 0.9744,val_loss: 5.7727,  val_score: 0.4709\n"
     ]
    },
    {
     "data": {
      "application/vnd.jupyter.widget-view+json": {
       "model_id": "936670cc5d5d4848a2ced04dac097891",
       "version_major": 2,
       "version_minor": 0
      },
      "text/plain": [
       "  0%|          | 0/339 [00:00<?, ?it/s]"
      ]
     },
     "metadata": {},
     "output_type": "display_data"
    },
    {
     "data": {
      "application/vnd.jupyter.widget-view+json": {
       "model_id": "c41e881bb7984734a49c1bbbea598367",
       "version_major": 2,
       "version_minor": 0
      },
      "text/plain": [
       "  0%|          | 0/177 [00:00<?, ?it/s]"
      ]
     },
     "metadata": {},
     "output_type": "display_data"
    },
    {
     "name": "stdout",
     "output_type": "stream",
     "text": [
      "Epoch [61/100], train_loss: 0.0264,  train_score: 0.9739,val_loss: 6.1973,  val_score: 0.4709\n"
     ]
    },
    {
     "data": {
      "application/vnd.jupyter.widget-view+json": {
       "model_id": "749ce021a6c74c97b96de57325731b42",
       "version_major": 2,
       "version_minor": 0
      },
      "text/plain": [
       "  0%|          | 0/339 [00:00<?, ?it/s]"
      ]
     },
     "metadata": {},
     "output_type": "display_data"
    },
    {
     "data": {
      "application/vnd.jupyter.widget-view+json": {
       "model_id": "3fb3c32598b844b9a86330343562d1cb",
       "version_major": 2,
       "version_minor": 0
      },
      "text/plain": [
       "  0%|          | 0/177 [00:00<?, ?it/s]"
      ]
     },
     "metadata": {},
     "output_type": "display_data"
    },
    {
     "name": "stdout",
     "output_type": "stream",
     "text": [
      "Epoch [62/100], train_loss: 0.0519,  train_score: 0.9729,val_loss: 5.4399,  val_score: 0.4702\n"
     ]
    },
    {
     "data": {
      "application/vnd.jupyter.widget-view+json": {
       "model_id": "b3eaa749b27040a3aa3e1c6d03f1468b",
       "version_major": 2,
       "version_minor": 0
      },
      "text/plain": [
       "  0%|          | 0/339 [00:00<?, ?it/s]"
      ]
     },
     "metadata": {},
     "output_type": "display_data"
    },
    {
     "data": {
      "application/vnd.jupyter.widget-view+json": {
       "model_id": "52b074b86d4e4f41b5cf3c1d7e9fb92b",
       "version_major": 2,
       "version_minor": 0
      },
      "text/plain": [
       "  0%|          | 0/177 [00:00<?, ?it/s]"
      ]
     },
     "metadata": {},
     "output_type": "display_data"
    },
    {
     "name": "stdout",
     "output_type": "stream",
     "text": [
      "Epoch [63/100], train_loss: 0.0438,  train_score: 0.9750,val_loss: 3.7645,  val_score: 0.4702\n"
     ]
    },
    {
     "data": {
      "application/vnd.jupyter.widget-view+json": {
       "model_id": "e370179d36f34f6eaa21dec62787d9ea",
       "version_major": 2,
       "version_minor": 0
      },
      "text/plain": [
       "  0%|          | 0/339 [00:00<?, ?it/s]"
      ]
     },
     "metadata": {},
     "output_type": "display_data"
    },
    {
     "data": {
      "application/vnd.jupyter.widget-view+json": {
       "model_id": "d63f37b597144a99865da6d9c7c2e955",
       "version_major": 2,
       "version_minor": 0
      },
      "text/plain": [
       "  0%|          | 0/177 [00:00<?, ?it/s]"
      ]
     },
     "metadata": {},
     "output_type": "display_data"
    },
    {
     "name": "stdout",
     "output_type": "stream",
     "text": [
      "Epoch [64/100], train_loss: 0.0952,  train_score: 0.9729,val_loss: 3.3187,  val_score: 0.4705\n"
     ]
    },
    {
     "data": {
      "application/vnd.jupyter.widget-view+json": {
       "model_id": "860e0bf6553144a29377215035a5b099",
       "version_major": 2,
       "version_minor": 0
      },
      "text/plain": [
       "  0%|          | 0/339 [00:00<?, ?it/s]"
      ]
     },
     "metadata": {},
     "output_type": "display_data"
    },
    {
     "data": {
      "application/vnd.jupyter.widget-view+json": {
       "model_id": "12ef5234c0b049bfbe5bab31ce05dfb5",
       "version_major": 2,
       "version_minor": 0
      },
      "text/plain": [
       "  0%|          | 0/177 [00:00<?, ?it/s]"
      ]
     },
     "metadata": {},
     "output_type": "display_data"
    },
    {
     "name": "stdout",
     "output_type": "stream",
     "text": [
      "Epoch [65/100], train_loss: 0.0117,  train_score: 0.9739,val_loss: 3.8100,  val_score: 0.4705\n"
     ]
    },
    {
     "data": {
      "application/vnd.jupyter.widget-view+json": {
       "model_id": "fcdfe6e4daaf457ea5f64a32cfaabb9e",
       "version_major": 2,
       "version_minor": 0
      },
      "text/plain": [
       "  0%|          | 0/339 [00:00<?, ?it/s]"
      ]
     },
     "metadata": {},
     "output_type": "display_data"
    },
    {
     "data": {
      "application/vnd.jupyter.widget-view+json": {
       "model_id": "60441615673746949c8711cf0313080c",
       "version_major": 2,
       "version_minor": 0
      },
      "text/plain": [
       "  0%|          | 0/177 [00:00<?, ?it/s]"
      ]
     },
     "metadata": {},
     "output_type": "display_data"
    },
    {
     "name": "stdout",
     "output_type": "stream",
     "text": [
      "Epoch [66/100], train_loss: 0.0224,  train_score: 0.9737,val_loss: 2.2338,  val_score: 0.4705\n"
     ]
    },
    {
     "data": {
      "application/vnd.jupyter.widget-view+json": {
       "model_id": "53fd9bbf2cba4e3485c0f1cdc832a9cf",
       "version_major": 2,
       "version_minor": 0
      },
      "text/plain": [
       "  0%|          | 0/339 [00:00<?, ?it/s]"
      ]
     },
     "metadata": {},
     "output_type": "display_data"
    },
    {
     "data": {
      "application/vnd.jupyter.widget-view+json": {
       "model_id": "fd26ccd7baf94f659b1d97d17cecbe9d",
       "version_major": 2,
       "version_minor": 0
      },
      "text/plain": [
       "  0%|          | 0/177 [00:00<?, ?it/s]"
      ]
     },
     "metadata": {},
     "output_type": "display_data"
    },
    {
     "name": "stdout",
     "output_type": "stream",
     "text": [
      "Epoch [67/100], train_loss: 0.0650,  train_score: 0.9734,val_loss: 11.1844,  val_score: 0.4705\n"
     ]
    },
    {
     "data": {
      "application/vnd.jupyter.widget-view+json": {
       "model_id": "755e62dfb3ec4988bc041a7dd881442b",
       "version_major": 2,
       "version_minor": 0
      },
      "text/plain": [
       "  0%|          | 0/339 [00:00<?, ?it/s]"
      ]
     },
     "metadata": {},
     "output_type": "display_data"
    },
    {
     "data": {
      "application/vnd.jupyter.widget-view+json": {
       "model_id": "8d86a598692a465b94dac2ae63dc8d5d",
       "version_major": 2,
       "version_minor": 0
      },
      "text/plain": [
       "  0%|          | 0/177 [00:00<?, ?it/s]"
      ]
     },
     "metadata": {},
     "output_type": "display_data"
    },
    {
     "name": "stdout",
     "output_type": "stream",
     "text": [
      "Epoch [68/100], train_loss: 0.5469,  train_score: 0.9741,val_loss: 4.2956,  val_score: 0.4705\n"
     ]
    },
    {
     "data": {
      "application/vnd.jupyter.widget-view+json": {
       "model_id": "8e9e80f6feb145ee8b2e7bdb8f865692",
       "version_major": 2,
       "version_minor": 0
      },
      "text/plain": [
       "  0%|          | 0/339 [00:00<?, ?it/s]"
      ]
     },
     "metadata": {},
     "output_type": "display_data"
    },
    {
     "data": {
      "application/vnd.jupyter.widget-view+json": {
       "model_id": "d8edb5abb47c47f5bff483e364f3c830",
       "version_major": 2,
       "version_minor": 0
      },
      "text/plain": [
       "  0%|          | 0/177 [00:00<?, ?it/s]"
      ]
     },
     "metadata": {},
     "output_type": "display_data"
    },
    {
     "name": "stdout",
     "output_type": "stream",
     "text": [
      "Epoch [69/100], train_loss: 0.1933,  train_score: 0.9774,val_loss: 7.0910,  val_score: 0.4705\n"
     ]
    },
    {
     "data": {
      "application/vnd.jupyter.widget-view+json": {
       "model_id": "8eadf6cb5d9c498e876658893adf6a30",
       "version_major": 2,
       "version_minor": 0
      },
      "text/plain": [
       "  0%|          | 0/339 [00:00<?, ?it/s]"
      ]
     },
     "metadata": {},
     "output_type": "display_data"
    },
    {
     "data": {
      "application/vnd.jupyter.widget-view+json": {
       "model_id": "9bd02fdafda143e0af38b843b076e8ed",
       "version_major": 2,
       "version_minor": 0
      },
      "text/plain": [
       "  0%|          | 0/177 [00:00<?, ?it/s]"
      ]
     },
     "metadata": {},
     "output_type": "display_data"
    },
    {
     "name": "stdout",
     "output_type": "stream",
     "text": [
      "Epoch [70/100], train_loss: 0.2602,  train_score: 0.9761,val_loss: 7.5344,  val_score: 0.4705\n"
     ]
    },
    {
     "data": {
      "application/vnd.jupyter.widget-view+json": {
       "model_id": "694398d28c4b4f09a2bb2af19e1771d9",
       "version_major": 2,
       "version_minor": 0
      },
      "text/plain": [
       "  0%|          | 0/339 [00:00<?, ?it/s]"
      ]
     },
     "metadata": {},
     "output_type": "display_data"
    },
    {
     "data": {
      "application/vnd.jupyter.widget-view+json": {
       "model_id": "913957b81bc64b22b0885acee42df0bb",
       "version_major": 2,
       "version_minor": 0
      },
      "text/plain": [
       "  0%|          | 0/177 [00:00<?, ?it/s]"
      ]
     },
     "metadata": {},
     "output_type": "display_data"
    },
    {
     "name": "stdout",
     "output_type": "stream",
     "text": [
      "Epoch [71/100], train_loss: 0.2365,  train_score: 0.9758,val_loss: 7.2609,  val_score: 0.4705\n"
     ]
    },
    {
     "data": {
      "application/vnd.jupyter.widget-view+json": {
       "model_id": "b023439810dc4334847e32bbc7e03535",
       "version_major": 2,
       "version_minor": 0
      },
      "text/plain": [
       "  0%|          | 0/339 [00:00<?, ?it/s]"
      ]
     },
     "metadata": {},
     "output_type": "display_data"
    },
    {
     "data": {
      "application/vnd.jupyter.widget-view+json": {
       "model_id": "e93cf7b5c67049249bc10e61097b62ec",
       "version_major": 2,
       "version_minor": 0
      },
      "text/plain": [
       "  0%|          | 0/177 [00:00<?, ?it/s]"
      ]
     },
     "metadata": {},
     "output_type": "display_data"
    },
    {
     "name": "stdout",
     "output_type": "stream",
     "text": [
      "Epoch [72/100], train_loss: 0.0110,  train_score: 0.9770,val_loss: 6.7150,  val_score: 0.4702\n"
     ]
    },
    {
     "data": {
      "application/vnd.jupyter.widget-view+json": {
       "model_id": "cecda3986b2d4d07a4b7fa5463d775d4",
       "version_major": 2,
       "version_minor": 0
      },
      "text/plain": [
       "  0%|          | 0/339 [00:00<?, ?it/s]"
      ]
     },
     "metadata": {},
     "output_type": "display_data"
    },
    {
     "data": {
      "application/vnd.jupyter.widget-view+json": {
       "model_id": "5ff17c041b92420b87730375b0a47521",
       "version_major": 2,
       "version_minor": 0
      },
      "text/plain": [
       "  0%|          | 0/177 [00:00<?, ?it/s]"
      ]
     },
     "metadata": {},
     "output_type": "display_data"
    },
    {
     "name": "stdout",
     "output_type": "stream",
     "text": [
      "Epoch [73/100], train_loss: 0.0094,  train_score: 0.9770,val_loss: 8.6144,  val_score: 0.4705\n"
     ]
    },
    {
     "data": {
      "application/vnd.jupyter.widget-view+json": {
       "model_id": "f0a86a2fbcd94b6aae5e709ffb2a0d15",
       "version_major": 2,
       "version_minor": 0
      },
      "text/plain": [
       "  0%|          | 0/339 [00:00<?, ?it/s]"
      ]
     },
     "metadata": {},
     "output_type": "display_data"
    },
    {
     "data": {
      "application/vnd.jupyter.widget-view+json": {
       "model_id": "8326fd6dd63648f2b98326891655f3f4",
       "version_major": 2,
       "version_minor": 0
      },
      "text/plain": [
       "  0%|          | 0/177 [00:00<?, ?it/s]"
      ]
     },
     "metadata": {},
     "output_type": "display_data"
    },
    {
     "name": "stdout",
     "output_type": "stream",
     "text": [
      "Epoch [74/100], train_loss: 0.0079,  train_score: 0.9773,val_loss: 5.8390,  val_score: 0.4705\n"
     ]
    },
    {
     "data": {
      "application/vnd.jupyter.widget-view+json": {
       "model_id": "57b91a4baa7a4d68a169e6e36b58fd4f",
       "version_major": 2,
       "version_minor": 0
      },
      "text/plain": [
       "  0%|          | 0/339 [00:00<?, ?it/s]"
      ]
     },
     "metadata": {},
     "output_type": "display_data"
    },
    {
     "data": {
      "application/vnd.jupyter.widget-view+json": {
       "model_id": "0a47e457e3b24d169a5d182ae6a336a9",
       "version_major": 2,
       "version_minor": 0
      },
      "text/plain": [
       "  0%|          | 0/177 [00:00<?, ?it/s]"
      ]
     },
     "metadata": {},
     "output_type": "display_data"
    },
    {
     "name": "stdout",
     "output_type": "stream",
     "text": [
      "Epoch [75/100], train_loss: 0.0072,  train_score: 0.9747,val_loss: 6.7984,  val_score: 0.4705\n"
     ]
    },
    {
     "data": {
      "application/vnd.jupyter.widget-view+json": {
       "model_id": "eb0e81626ac94aa58206597e19a05268",
       "version_major": 2,
       "version_minor": 0
      },
      "text/plain": [
       "  0%|          | 0/339 [00:00<?, ?it/s]"
      ]
     },
     "metadata": {},
     "output_type": "display_data"
    },
    {
     "data": {
      "application/vnd.jupyter.widget-view+json": {
       "model_id": "603b70a52c8647799176692e1f55ff2c",
       "version_major": 2,
       "version_minor": 0
      },
      "text/plain": [
       "  0%|          | 0/177 [00:00<?, ?it/s]"
      ]
     },
     "metadata": {},
     "output_type": "display_data"
    },
    {
     "name": "stdout",
     "output_type": "stream",
     "text": [
      "Epoch [76/100], train_loss: 0.0694,  train_score: 0.9775,val_loss: 4.5856,  val_score: 0.4705\n"
     ]
    },
    {
     "data": {
      "application/vnd.jupyter.widget-view+json": {
       "model_id": "57f1c9859b1843c6810509c3f2c5e656",
       "version_major": 2,
       "version_minor": 0
      },
      "text/plain": [
       "  0%|          | 0/339 [00:00<?, ?it/s]"
      ]
     },
     "metadata": {},
     "output_type": "display_data"
    },
    {
     "data": {
      "application/vnd.jupyter.widget-view+json": {
       "model_id": "4f04c245424d403f9242030729304176",
       "version_major": 2,
       "version_minor": 0
      },
      "text/plain": [
       "  0%|          | 0/177 [00:00<?, ?it/s]"
      ]
     },
     "metadata": {},
     "output_type": "display_data"
    },
    {
     "name": "stdout",
     "output_type": "stream",
     "text": [
      "Epoch [77/100], train_loss: 0.0463,  train_score: 0.9764,val_loss: 6.0051,  val_score: 0.4705\n"
     ]
    },
    {
     "data": {
      "application/vnd.jupyter.widget-view+json": {
       "model_id": "94dc74a407444fa6a210d1d705a30aa4",
       "version_major": 2,
       "version_minor": 0
      },
      "text/plain": [
       "  0%|          | 0/339 [00:00<?, ?it/s]"
      ]
     },
     "metadata": {},
     "output_type": "display_data"
    },
    {
     "data": {
      "application/vnd.jupyter.widget-view+json": {
       "model_id": "86006e2a033c48178986382ce99c798a",
       "version_major": 2,
       "version_minor": 0
      },
      "text/plain": [
       "  0%|          | 0/177 [00:00<?, ?it/s]"
      ]
     },
     "metadata": {},
     "output_type": "display_data"
    },
    {
     "name": "stdout",
     "output_type": "stream",
     "text": [
      "Epoch [78/100], train_loss: 0.0335,  train_score: 0.9756,val_loss: 8.6627,  val_score: 0.4705\n"
     ]
    },
    {
     "data": {
      "application/vnd.jupyter.widget-view+json": {
       "model_id": "1fdcd29443bb4f80b74e022d3385834b",
       "version_major": 2,
       "version_minor": 0
      },
      "text/plain": [
       "  0%|          | 0/339 [00:00<?, ?it/s]"
      ]
     },
     "metadata": {},
     "output_type": "display_data"
    },
    {
     "data": {
      "application/vnd.jupyter.widget-view+json": {
       "model_id": "2cbfc22197514152b43a2b21dd5609fc",
       "version_major": 2,
       "version_minor": 0
      },
      "text/plain": [
       "  0%|          | 0/177 [00:00<?, ?it/s]"
      ]
     },
     "metadata": {},
     "output_type": "display_data"
    },
    {
     "name": "stdout",
     "output_type": "stream",
     "text": [
      "Epoch [79/100], train_loss: 0.0114,  train_score: 0.9769,val_loss: 4.6035,  val_score: 0.4705\n"
     ]
    },
    {
     "data": {
      "application/vnd.jupyter.widget-view+json": {
       "model_id": "434eca0b2db94d3e91616c60c926fc99",
       "version_major": 2,
       "version_minor": 0
      },
      "text/plain": [
       "  0%|          | 0/339 [00:00<?, ?it/s]"
      ]
     },
     "metadata": {},
     "output_type": "display_data"
    },
    {
     "data": {
      "application/vnd.jupyter.widget-view+json": {
       "model_id": "70bb8926d5d54c8c9c58c8bd06b65ba6",
       "version_major": 2,
       "version_minor": 0
      },
      "text/plain": [
       "  0%|          | 0/177 [00:00<?, ?it/s]"
      ]
     },
     "metadata": {},
     "output_type": "display_data"
    },
    {
     "name": "stdout",
     "output_type": "stream",
     "text": [
      "Epoch [80/100], train_loss: 0.0118,  train_score: 0.9771,val_loss: 6.4059,  val_score: 0.4705\n"
     ]
    },
    {
     "data": {
      "application/vnd.jupyter.widget-view+json": {
       "model_id": "05e7ea0070f04e4b8d535d4c2e63efff",
       "version_major": 2,
       "version_minor": 0
      },
      "text/plain": [
       "  0%|          | 0/339 [00:00<?, ?it/s]"
      ]
     },
     "metadata": {},
     "output_type": "display_data"
    },
    {
     "data": {
      "application/vnd.jupyter.widget-view+json": {
       "model_id": "2415aa006c8d45599cb988ff584ca0d2",
       "version_major": 2,
       "version_minor": 0
      },
      "text/plain": [
       "  0%|          | 0/177 [00:00<?, ?it/s]"
      ]
     },
     "metadata": {},
     "output_type": "display_data"
    },
    {
     "name": "stdout",
     "output_type": "stream",
     "text": [
      "Epoch [81/100], train_loss: 0.0118,  train_score: 0.9780,val_loss: 6.7588,  val_score: 0.4705\n"
     ]
    },
    {
     "data": {
      "application/vnd.jupyter.widget-view+json": {
       "model_id": "820f7ac3a46b4583912e1a634e6a91e6",
       "version_major": 2,
       "version_minor": 0
      },
      "text/plain": [
       "  0%|          | 0/339 [00:00<?, ?it/s]"
      ]
     },
     "metadata": {},
     "output_type": "display_data"
    },
    {
     "data": {
      "application/vnd.jupyter.widget-view+json": {
       "model_id": "ae6db3c47a93480facfc41c0e2317b28",
       "version_major": 2,
       "version_minor": 0
      },
      "text/plain": [
       "  0%|          | 0/177 [00:00<?, ?it/s]"
      ]
     },
     "metadata": {},
     "output_type": "display_data"
    },
    {
     "name": "stdout",
     "output_type": "stream",
     "text": [
      "Epoch [82/100], train_loss: 0.2010,  train_score: 0.9742,val_loss: 5.2071,  val_score: 0.4705\n"
     ]
    },
    {
     "data": {
      "application/vnd.jupyter.widget-view+json": {
       "model_id": "5c0ebab06c1243eda2a146244cc2fd3f",
       "version_major": 2,
       "version_minor": 0
      },
      "text/plain": [
       "  0%|          | 0/339 [00:00<?, ?it/s]"
      ]
     },
     "metadata": {},
     "output_type": "display_data"
    },
    {
     "data": {
      "application/vnd.jupyter.widget-view+json": {
       "model_id": "072027eb47884b009cd1c29bc22973e1",
       "version_major": 2,
       "version_minor": 0
      },
      "text/plain": [
       "  0%|          | 0/177 [00:00<?, ?it/s]"
      ]
     },
     "metadata": {},
     "output_type": "display_data"
    },
    {
     "name": "stdout",
     "output_type": "stream",
     "text": [
      "Epoch [83/100], train_loss: 0.0092,  train_score: 0.9780,val_loss: 3.6275,  val_score: 0.4705\n"
     ]
    },
    {
     "data": {
      "application/vnd.jupyter.widget-view+json": {
       "model_id": "542549341e2842668cdc44345b6439c9",
       "version_major": 2,
       "version_minor": 0
      },
      "text/plain": [
       "  0%|          | 0/339 [00:00<?, ?it/s]"
      ]
     },
     "metadata": {},
     "output_type": "display_data"
    },
    {
     "data": {
      "application/vnd.jupyter.widget-view+json": {
       "model_id": "132f87be1e704ea9892689530362a5b2",
       "version_major": 2,
       "version_minor": 0
      },
      "text/plain": [
       "  0%|          | 0/177 [00:00<?, ?it/s]"
      ]
     },
     "metadata": {},
     "output_type": "display_data"
    },
    {
     "name": "stdout",
     "output_type": "stream",
     "text": [
      "Epoch [84/100], train_loss: 0.5488,  train_score: 0.9767,val_loss: 5.7712,  val_score: 0.4705\n"
     ]
    },
    {
     "data": {
      "application/vnd.jupyter.widget-view+json": {
       "model_id": "875d3eb9cdcd4cd0a9c7bc076193880f",
       "version_major": 2,
       "version_minor": 0
      },
      "text/plain": [
       "  0%|          | 0/339 [00:00<?, ?it/s]"
      ]
     },
     "metadata": {},
     "output_type": "display_data"
    },
    {
     "data": {
      "application/vnd.jupyter.widget-view+json": {
       "model_id": "b1b14f7c31de47eea8a2d572d15f7c73",
       "version_major": 2,
       "version_minor": 0
      },
      "text/plain": [
       "  0%|          | 0/177 [00:00<?, ?it/s]"
      ]
     },
     "metadata": {},
     "output_type": "display_data"
    },
    {
     "name": "stdout",
     "output_type": "stream",
     "text": [
      "Epoch [85/100], train_loss: 0.0005,  train_score: 0.9796,val_loss: 6.2560,  val_score: 0.4705\n"
     ]
    },
    {
     "data": {
      "application/vnd.jupyter.widget-view+json": {
       "model_id": "cb1a4f92dc08434fa2e9fa212f66739e",
       "version_major": 2,
       "version_minor": 0
      },
      "text/plain": [
       "  0%|          | 0/339 [00:00<?, ?it/s]"
      ]
     },
     "metadata": {},
     "output_type": "display_data"
    },
    {
     "data": {
      "application/vnd.jupyter.widget-view+json": {
       "model_id": "bbef777ea5224bc580d4745d4f3a7a52",
       "version_major": 2,
       "version_minor": 0
      },
      "text/plain": [
       "  0%|          | 0/177 [00:00<?, ?it/s]"
      ]
     },
     "metadata": {},
     "output_type": "display_data"
    },
    {
     "name": "stdout",
     "output_type": "stream",
     "text": [
      "Epoch [86/100], train_loss: 0.1672,  train_score: 0.9762,val_loss: 3.5681,  val_score: 0.4705\n"
     ]
    },
    {
     "data": {
      "application/vnd.jupyter.widget-view+json": {
       "model_id": "7e8df6b581e2444c849b88dccd667fad",
       "version_major": 2,
       "version_minor": 0
      },
      "text/plain": [
       "  0%|          | 0/339 [00:00<?, ?it/s]"
      ]
     },
     "metadata": {},
     "output_type": "display_data"
    },
    {
     "data": {
      "application/vnd.jupyter.widget-view+json": {
       "model_id": "e0f150fa05474d6190c8d64fd60d448e",
       "version_major": 2,
       "version_minor": 0
      },
      "text/plain": [
       "  0%|          | 0/177 [00:00<?, ?it/s]"
      ]
     },
     "metadata": {},
     "output_type": "display_data"
    },
    {
     "name": "stdout",
     "output_type": "stream",
     "text": [
      "Epoch [87/100], train_loss: 0.0563,  train_score: 0.9791,val_loss: 7.0852,  val_score: 0.4705\n"
     ]
    },
    {
     "data": {
      "application/vnd.jupyter.widget-view+json": {
       "model_id": "9dd4a76c997a43cdb82d02e15b12a6bf",
       "version_major": 2,
       "version_minor": 0
      },
      "text/plain": [
       "  0%|          | 0/339 [00:00<?, ?it/s]"
      ]
     },
     "metadata": {},
     "output_type": "display_data"
    },
    {
     "data": {
      "application/vnd.jupyter.widget-view+json": {
       "model_id": "1e7ed8a6ed864e14bdec0e45ba8941f3",
       "version_major": 2,
       "version_minor": 0
      },
      "text/plain": [
       "  0%|          | 0/177 [00:00<?, ?it/s]"
      ]
     },
     "metadata": {},
     "output_type": "display_data"
    },
    {
     "name": "stdout",
     "output_type": "stream",
     "text": [
      "Epoch [88/100], train_loss: 0.0060,  train_score: 0.9794,val_loss: 6.8518,  val_score: 0.4705\n"
     ]
    },
    {
     "data": {
      "application/vnd.jupyter.widget-view+json": {
       "model_id": "a8a74645941f471198d51c54b62fd868",
       "version_major": 2,
       "version_minor": 0
      },
      "text/plain": [
       "  0%|          | 0/339 [00:00<?, ?it/s]"
      ]
     },
     "metadata": {},
     "output_type": "display_data"
    },
    {
     "data": {
      "application/vnd.jupyter.widget-view+json": {
       "model_id": "f78e0cffd034416abd71343de8707865",
       "version_major": 2,
       "version_minor": 0
      },
      "text/plain": [
       "  0%|          | 0/177 [00:00<?, ?it/s]"
      ]
     },
     "metadata": {},
     "output_type": "display_data"
    },
    {
     "name": "stdout",
     "output_type": "stream",
     "text": [
      "Epoch [89/100], train_loss: 0.0038,  train_score: 0.9793,val_loss: 4.8823,  val_score: 0.4702\n"
     ]
    },
    {
     "data": {
      "application/vnd.jupyter.widget-view+json": {
       "model_id": "fae58f12039346e09bf55cf546b4a6c5",
       "version_major": 2,
       "version_minor": 0
      },
      "text/plain": [
       "  0%|          | 0/339 [00:00<?, ?it/s]"
      ]
     },
     "metadata": {},
     "output_type": "display_data"
    },
    {
     "data": {
      "application/vnd.jupyter.widget-view+json": {
       "model_id": "6114085173ab4730baa476a3ef88ecc2",
       "version_major": 2,
       "version_minor": 0
      },
      "text/plain": [
       "  0%|          | 0/177 [00:00<?, ?it/s]"
      ]
     },
     "metadata": {},
     "output_type": "display_data"
    },
    {
     "name": "stdout",
     "output_type": "stream",
     "text": [
      "Epoch [90/100], train_loss: 0.1693,  train_score: 0.9753,val_loss: 4.0691,  val_score: 0.4705\n"
     ]
    },
    {
     "data": {
      "application/vnd.jupyter.widget-view+json": {
       "model_id": "bbbdb28743e64b5b9afc387bde85ab13",
       "version_major": 2,
       "version_minor": 0
      },
      "text/plain": [
       "  0%|          | 0/339 [00:00<?, ?it/s]"
      ]
     },
     "metadata": {},
     "output_type": "display_data"
    },
    {
     "data": {
      "application/vnd.jupyter.widget-view+json": {
       "model_id": "39924ba04bee436a8b5c78b0fabcdcac",
       "version_major": 2,
       "version_minor": 0
      },
      "text/plain": [
       "  0%|          | 0/177 [00:00<?, ?it/s]"
      ]
     },
     "metadata": {},
     "output_type": "display_data"
    },
    {
     "name": "stdout",
     "output_type": "stream",
     "text": [
      "Epoch [91/100], train_loss: 0.0092,  train_score: 0.9777,val_loss: 5.8544,  val_score: 0.4703\n"
     ]
    },
    {
     "data": {
      "application/vnd.jupyter.widget-view+json": {
       "model_id": "4bf6782f1fd040078d2d3b8b21d3f23d",
       "version_major": 2,
       "version_minor": 0
      },
      "text/plain": [
       "  0%|          | 0/339 [00:00<?, ?it/s]"
      ]
     },
     "metadata": {},
     "output_type": "display_data"
    },
    {
     "data": {
      "application/vnd.jupyter.widget-view+json": {
       "model_id": "bb007e60ae5e4ecf828b8d36427816ea",
       "version_major": 2,
       "version_minor": 0
      },
      "text/plain": [
       "  0%|          | 0/177 [00:00<?, ?it/s]"
      ]
     },
     "metadata": {},
     "output_type": "display_data"
    },
    {
     "name": "stdout",
     "output_type": "stream",
     "text": [
      "Epoch [92/100], train_loss: 0.0475,  train_score: 0.9794,val_loss: 4.4507,  val_score: 0.4709\n"
     ]
    },
    {
     "data": {
      "application/vnd.jupyter.widget-view+json": {
       "model_id": "5d6f7986a5b24899bf8634d416cc6c6d",
       "version_major": 2,
       "version_minor": 0
      },
      "text/plain": [
       "  0%|          | 0/339 [00:00<?, ?it/s]"
      ]
     },
     "metadata": {},
     "output_type": "display_data"
    },
    {
     "data": {
      "application/vnd.jupyter.widget-view+json": {
       "model_id": "a9f8bdd6bfed4d93a709c267ab4ecd82",
       "version_major": 2,
       "version_minor": 0
      },
      "text/plain": [
       "  0%|          | 0/177 [00:00<?, ?it/s]"
      ]
     },
     "metadata": {},
     "output_type": "display_data"
    },
    {
     "name": "stdout",
     "output_type": "stream",
     "text": [
      "Epoch [93/100], train_loss: 0.0448,  train_score: 0.9780,val_loss: 8.6361,  val_score: 0.4703\n"
     ]
    },
    {
     "data": {
      "application/vnd.jupyter.widget-view+json": {
       "model_id": "1742d3d1c766492fba75abdab2ba91f5",
       "version_major": 2,
       "version_minor": 0
      },
      "text/plain": [
       "  0%|          | 0/339 [00:00<?, ?it/s]"
      ]
     },
     "metadata": {},
     "output_type": "display_data"
    },
    {
     "data": {
      "application/vnd.jupyter.widget-view+json": {
       "model_id": "62d06ef3e27e4c71a5bbc352df751b57",
       "version_major": 2,
       "version_minor": 0
      },
      "text/plain": [
       "  0%|          | 0/177 [00:00<?, ?it/s]"
      ]
     },
     "metadata": {},
     "output_type": "display_data"
    },
    {
     "name": "stdout",
     "output_type": "stream",
     "text": [
      "Epoch [94/100], train_loss: 0.0447,  train_score: 0.9763,val_loss: 4.8898,  val_score: 0.4705\n"
     ]
    },
    {
     "data": {
      "application/vnd.jupyter.widget-view+json": {
       "model_id": "adb9ac65bfab4567878bdfe1d407c8b6",
       "version_major": 2,
       "version_minor": 0
      },
      "text/plain": [
       "  0%|          | 0/339 [00:00<?, ?it/s]"
      ]
     },
     "metadata": {},
     "output_type": "display_data"
    },
    {
     "data": {
      "application/vnd.jupyter.widget-view+json": {
       "model_id": "2ca213a63647400b8292a4d76bf5fa29",
       "version_major": 2,
       "version_minor": 0
      },
      "text/plain": [
       "  0%|          | 0/177 [00:00<?, ?it/s]"
      ]
     },
     "metadata": {},
     "output_type": "display_data"
    },
    {
     "name": "stdout",
     "output_type": "stream",
     "text": [
      "Epoch [95/100], train_loss: 0.1709,  train_score: 0.9763,val_loss: 3.2220,  val_score: 0.4705\n"
     ]
    },
    {
     "data": {
      "application/vnd.jupyter.widget-view+json": {
       "model_id": "622b606d91f1489ca321704180708e57",
       "version_major": 2,
       "version_minor": 0
      },
      "text/plain": [
       "  0%|          | 0/339 [00:00<?, ?it/s]"
      ]
     },
     "metadata": {},
     "output_type": "display_data"
    },
    {
     "data": {
      "application/vnd.jupyter.widget-view+json": {
       "model_id": "e6ed7754cf084c979fa8d7e85ca22dd1",
       "version_major": 2,
       "version_minor": 0
      },
      "text/plain": [
       "  0%|          | 0/177 [00:00<?, ?it/s]"
      ]
     },
     "metadata": {},
     "output_type": "display_data"
    },
    {
     "name": "stdout",
     "output_type": "stream",
     "text": [
      "Epoch [96/100], train_loss: 0.0748,  train_score: 0.9798,val_loss: 3.7444,  val_score: 0.4705\n"
     ]
    },
    {
     "data": {
      "application/vnd.jupyter.widget-view+json": {
       "model_id": "e7f5f6e00f1a4c709bf516d8ee287f78",
       "version_major": 2,
       "version_minor": 0
      },
      "text/plain": [
       "  0%|          | 0/339 [00:00<?, ?it/s]"
      ]
     },
     "metadata": {},
     "output_type": "display_data"
    },
    {
     "data": {
      "application/vnd.jupyter.widget-view+json": {
       "model_id": "2f8631a55d2d48af9d609689a3339518",
       "version_major": 2,
       "version_minor": 0
      },
      "text/plain": [
       "  0%|          | 0/177 [00:00<?, ?it/s]"
      ]
     },
     "metadata": {},
     "output_type": "display_data"
    },
    {
     "name": "stdout",
     "output_type": "stream",
     "text": [
      "Epoch [97/100], train_loss: 0.0043,  train_score: 0.9802,val_loss: 4.5242,  val_score: 0.4705\n"
     ]
    },
    {
     "data": {
      "application/vnd.jupyter.widget-view+json": {
       "model_id": "d843522702b34dcd8c5682890b9b2703",
       "version_major": 2,
       "version_minor": 0
      },
      "text/plain": [
       "  0%|          | 0/339 [00:00<?, ?it/s]"
      ]
     },
     "metadata": {},
     "output_type": "display_data"
    },
    {
     "data": {
      "application/vnd.jupyter.widget-view+json": {
       "model_id": "617ae0cdba614a09abbc471c953c89ce",
       "version_major": 2,
       "version_minor": 0
      },
      "text/plain": [
       "  0%|          | 0/177 [00:00<?, ?it/s]"
      ]
     },
     "metadata": {},
     "output_type": "display_data"
    },
    {
     "name": "stdout",
     "output_type": "stream",
     "text": [
      "Epoch [98/100], train_loss: 0.1881,  train_score: 0.9775,val_loss: 3.6933,  val_score: 0.4705\n"
     ]
    },
    {
     "data": {
      "application/vnd.jupyter.widget-view+json": {
       "model_id": "dc08282ddae34454aa4f86de12f3af25",
       "version_major": 2,
       "version_minor": 0
      },
      "text/plain": [
       "  0%|          | 0/339 [00:00<?, ?it/s]"
      ]
     },
     "metadata": {},
     "output_type": "display_data"
    },
    {
     "data": {
      "application/vnd.jupyter.widget-view+json": {
       "model_id": "a78f66f76cc94ec4877ad514a0372a68",
       "version_major": 2,
       "version_minor": 0
      },
      "text/plain": [
       "  0%|          | 0/177 [00:00<?, ?it/s]"
      ]
     },
     "metadata": {},
     "output_type": "display_data"
    },
    {
     "name": "stdout",
     "output_type": "stream",
     "text": [
      "Epoch [99/100], train_loss: 0.0753,  train_score: 0.9798,val_loss: 4.8481,  val_score: 0.4705\n"
     ]
    },
    {
     "data": {
      "application/vnd.jupyter.widget-view+json": {
       "model_id": "a22abdb76c254e908f570b8003e3abf7",
       "version_major": 2,
       "version_minor": 0
      },
      "text/plain": [
       "  0%|          | 0/339 [00:00<?, ?it/s]"
      ]
     },
     "metadata": {},
     "output_type": "display_data"
    },
    {
     "data": {
      "application/vnd.jupyter.widget-view+json": {
       "model_id": "cabf610b05e34c2493808a06a88609d6",
       "version_major": 2,
       "version_minor": 0
      },
      "text/plain": [
       "  0%|          | 0/177 [00:00<?, ?it/s]"
      ]
     },
     "metadata": {},
     "output_type": "display_data"
    },
    {
     "name": "stdout",
     "output_type": "stream",
     "text": [
      "Epoch [100/100], train_loss: 0.0507,  train_score: 0.9776,val_loss: 4.7050,  val_score: 0.4705\n"
     ]
    },
    {
     "data": {
      "text/plain": [
       "[tensor(5.4487, device='cuda:0', grad_fn=<NllLossBackward0>),\n",
       " tensor(4.1204, device='cuda:0', grad_fn=<NllLossBackward0>),\n",
       " tensor(1.8900, device='cuda:0', grad_fn=<NllLossBackward0>),\n",
       " tensor(2.2350, device='cuda:0', grad_fn=<NllLossBackward0>),\n",
       " tensor(2.1383, device='cuda:0', grad_fn=<NllLossBackward0>),\n",
       " tensor(1.5118, device='cuda:0', grad_fn=<NllLossBackward0>),\n",
       " tensor(0.9878, device='cuda:0', grad_fn=<NllLossBackward0>),\n",
       " tensor(1.0842, device='cuda:0', grad_fn=<NllLossBackward0>),\n",
       " tensor(0.9944, device='cuda:0', grad_fn=<NllLossBackward0>),\n",
       " tensor(0.9651, device='cuda:0', grad_fn=<NllLossBackward0>),\n",
       " tensor(0.6697, device='cuda:0', grad_fn=<NllLossBackward0>),\n",
       " tensor(1.0389, device='cuda:0', grad_fn=<NllLossBackward0>),\n",
       " tensor(0.3567, device='cuda:0', grad_fn=<NllLossBackward0>),\n",
       " tensor(0.4296, device='cuda:0', grad_fn=<NllLossBackward0>),\n",
       " tensor(0.2868, device='cuda:0', grad_fn=<NllLossBackward0>),\n",
       " tensor(0.1364, device='cuda:0', grad_fn=<NllLossBackward0>),\n",
       " tensor(0.8066, device='cuda:0', grad_fn=<NllLossBackward0>),\n",
       " tensor(0.3983, device='cuda:0', grad_fn=<NllLossBackward0>),\n",
       " tensor(0.5485, device='cuda:0', grad_fn=<NllLossBackward0>),\n",
       " tensor(0.1623, device='cuda:0', grad_fn=<NllLossBackward0>),\n",
       " tensor(0.2679, device='cuda:0', grad_fn=<NllLossBackward0>),\n",
       " tensor(0.0431, device='cuda:0', grad_fn=<NllLossBackward0>),\n",
       " tensor(0.1735, device='cuda:0', grad_fn=<NllLossBackward0>),\n",
       " tensor(0.0916, device='cuda:0', grad_fn=<NllLossBackward0>),\n",
       " tensor(0.2510, device='cuda:0', grad_fn=<NllLossBackward0>),\n",
       " tensor(0.0081, device='cuda:0', grad_fn=<NllLossBackward0>),\n",
       " tensor(0.0248, device='cuda:0', grad_fn=<NllLossBackward0>),\n",
       " tensor(0.4752, device='cuda:0', grad_fn=<NllLossBackward0>),\n",
       " tensor(0.0315, device='cuda:0', grad_fn=<NllLossBackward0>),\n",
       " tensor(0.0166, device='cuda:0', grad_fn=<NllLossBackward0>),\n",
       " tensor(0.4911, device='cuda:0', grad_fn=<NllLossBackward0>),\n",
       " tensor(0.0078, device='cuda:0', grad_fn=<NllLossBackward0>),\n",
       " tensor(0.1222, device='cuda:0', grad_fn=<NllLossBackward0>),\n",
       " tensor(0.0006, device='cuda:0', grad_fn=<NllLossBackward0>),\n",
       " tensor(0.1134, device='cuda:0', grad_fn=<NllLossBackward0>),\n",
       " tensor(0.4618, device='cuda:0', grad_fn=<NllLossBackward0>),\n",
       " tensor(0.0262, device='cuda:0', grad_fn=<NllLossBackward0>),\n",
       " tensor(0.0257, device='cuda:0', grad_fn=<NllLossBackward0>),\n",
       " tensor(0.0776, device='cuda:0', grad_fn=<NllLossBackward0>),\n",
       " tensor(0.0273, device='cuda:0', grad_fn=<NllLossBackward0>),\n",
       " tensor(0.0030, device='cuda:0', grad_fn=<NllLossBackward0>),\n",
       " tensor(0.0310, device='cuda:0', grad_fn=<NllLossBackward0>),\n",
       " tensor(0.1864, device='cuda:0', grad_fn=<NllLossBackward0>),\n",
       " tensor(0.0727, device='cuda:0', grad_fn=<NllLossBackward0>),\n",
       " tensor(0.3847, device='cuda:0', grad_fn=<NllLossBackward0>),\n",
       " tensor(0.0798, device='cuda:0', grad_fn=<NllLossBackward0>),\n",
       " tensor(0.1177, device='cuda:0', grad_fn=<NllLossBackward0>),\n",
       " tensor(0.0260, device='cuda:0', grad_fn=<NllLossBackward0>),\n",
       " tensor(0.0049, device='cuda:0', grad_fn=<NllLossBackward0>),\n",
       " tensor(0.0822, device='cuda:0', grad_fn=<NllLossBackward0>),\n",
       " tensor(0.0414, device='cuda:0', grad_fn=<NllLossBackward0>),\n",
       " tensor(0.0003, device='cuda:0', grad_fn=<NllLossBackward0>),\n",
       " tensor(0.2346, device='cuda:0', grad_fn=<NllLossBackward0>),\n",
       " tensor(0.2886, device='cuda:0', grad_fn=<NllLossBackward0>),\n",
       " tensor(0.0077, device='cuda:0', grad_fn=<NllLossBackward0>),\n",
       " tensor(0.2888, device='cuda:0', grad_fn=<NllLossBackward0>),\n",
       " tensor(0.1088, device='cuda:0', grad_fn=<NllLossBackward0>),\n",
       " tensor(0.2536, device='cuda:0', grad_fn=<NllLossBackward0>),\n",
       " tensor(0.0097, device='cuda:0', grad_fn=<NllLossBackward0>),\n",
       " tensor(0.0413, device='cuda:0', grad_fn=<NllLossBackward0>),\n",
       " tensor(0.0264, device='cuda:0', grad_fn=<NllLossBackward0>),\n",
       " tensor(0.0519, device='cuda:0', grad_fn=<NllLossBackward0>),\n",
       " tensor(0.0438, device='cuda:0', grad_fn=<NllLossBackward0>),\n",
       " tensor(0.0952, device='cuda:0', grad_fn=<NllLossBackward0>),\n",
       " tensor(0.0117, device='cuda:0', grad_fn=<NllLossBackward0>),\n",
       " tensor(0.0224, device='cuda:0', grad_fn=<NllLossBackward0>),\n",
       " tensor(0.0650, device='cuda:0', grad_fn=<NllLossBackward0>),\n",
       " tensor(0.5469, device='cuda:0', grad_fn=<NllLossBackward0>),\n",
       " tensor(0.1933, device='cuda:0', grad_fn=<NllLossBackward0>),\n",
       " tensor(0.2602, device='cuda:0', grad_fn=<NllLossBackward0>),\n",
       " tensor(0.2365, device='cuda:0', grad_fn=<NllLossBackward0>),\n",
       " tensor(0.0110, device='cuda:0', grad_fn=<NllLossBackward0>),\n",
       " tensor(0.0094, device='cuda:0', grad_fn=<NllLossBackward0>),\n",
       " tensor(0.0079, device='cuda:0', grad_fn=<NllLossBackward0>),\n",
       " tensor(0.0072, device='cuda:0', grad_fn=<NllLossBackward0>),\n",
       " tensor(0.0694, device='cuda:0', grad_fn=<NllLossBackward0>),\n",
       " tensor(0.0463, device='cuda:0', grad_fn=<NllLossBackward0>),\n",
       " tensor(0.0335, device='cuda:0', grad_fn=<NllLossBackward0>),\n",
       " tensor(0.0114, device='cuda:0', grad_fn=<NllLossBackward0>),\n",
       " tensor(0.0118, device='cuda:0', grad_fn=<NllLossBackward0>),\n",
       " tensor(0.0118, device='cuda:0', grad_fn=<NllLossBackward0>),\n",
       " tensor(0.2010, device='cuda:0', grad_fn=<NllLossBackward0>),\n",
       " tensor(0.0092, device='cuda:0', grad_fn=<NllLossBackward0>),\n",
       " tensor(0.5488, device='cuda:0', grad_fn=<NllLossBackward0>),\n",
       " tensor(0.0005, device='cuda:0', grad_fn=<NllLossBackward0>),\n",
       " tensor(0.1672, device='cuda:0', grad_fn=<NllLossBackward0>),\n",
       " tensor(0.0563, device='cuda:0', grad_fn=<NllLossBackward0>),\n",
       " tensor(0.0060, device='cuda:0', grad_fn=<NllLossBackward0>),\n",
       " tensor(0.0038, device='cuda:0', grad_fn=<NllLossBackward0>),\n",
       " tensor(0.1693, device='cuda:0', grad_fn=<NllLossBackward0>),\n",
       " tensor(0.0092, device='cuda:0', grad_fn=<NllLossBackward0>),\n",
       " tensor(0.0475, device='cuda:0', grad_fn=<NllLossBackward0>),\n",
       " tensor(0.0448, device='cuda:0', grad_fn=<NllLossBackward0>),\n",
       " tensor(0.0447, device='cuda:0', grad_fn=<NllLossBackward0>),\n",
       " tensor(0.1709, device='cuda:0', grad_fn=<NllLossBackward0>),\n",
       " tensor(0.0748, device='cuda:0', grad_fn=<NllLossBackward0>),\n",
       " tensor(0.0043, device='cuda:0', grad_fn=<NllLossBackward0>),\n",
       " tensor(0.1881, device='cuda:0', grad_fn=<NllLossBackward0>),\n",
       " tensor(0.0753, device='cuda:0', grad_fn=<NllLossBackward0>),\n",
       " tensor(0.0507, device='cuda:0', grad_fn=<NllLossBackward0>)]"
      ]
     },
     "execution_count": 12,
     "metadata": {},
     "output_type": "execute_result"
    }
   ],
   "source": [
    "fit(100,dataloaders,optimizer,tinymodel)"
   ]
  },
  {
   "cell_type": "code",
   "execution_count": 14,
   "id": "ce7ac7f7-d3e4-4589-a47d-9242b385dd01",
   "metadata": {},
   "outputs": [
    {
     "name": "stdout",
     "output_type": "stream",
     "text": [
      "365    Bembidion normannum\n",
      "292       Bledius gallicus\n",
      "321       Praxis edwardsii\n",
      "352        Andrena pilipes\n",
      "18     Automeris managuana\n",
      "              ...         \n",
      "412         Hemiceras losa\n",
      "413         Hemiceras losa\n",
      "417     Hemiceras punctata\n",
      "418         Hemiceras losa\n",
      "421     Hemiceras punctata\n",
      "Name: species_name, Length: 9991, dtype: object\n",
      "torch.Size([10840, 1, 658, 5])\n",
      "torch.Size([5645, 1, 658, 5])\n",
      "torch.Size([9991, 1, 658, 5])\n"
     ]
    },
    {
     "name": "stderr",
     "output_type": "stream",
     "text": [
      "/home/fogliodicarta/Desktop/InsectClassification/extract_features.py:248: UserWarning: To copy construct from a tensor, it is recommended to use sourceTensor.clone().detach() or sourceTensor.clone().detach().requires_grad_(True), rather than torch.tensor(sourceTensor).\n",
      "  torch.save(torch.tensor(expanded_train_dna_features),save_name_prefix+'dna_train_features.pt')\n",
      "/home/fogliodicarta/Desktop/InsectClassification/extract_features.py:249: UserWarning: To copy construct from a tensor, it is recommended to use sourceTensor.clone().detach() or sourceTensor.clone().detach().requires_grad_(True), rather than torch.tensor(sourceTensor).\n",
      "  torch.save(torch.tensor(expanded_train_dna_labels),save_name_prefix+'dna_train_labels')\n",
      "/home/fogliodicarta/Desktop/InsectClassification/extract_features.py:250: UserWarning: To copy construct from a tensor, it is recommended to use sourceTensor.clone().detach() or sourceTensor.clone().detach().requires_grad_(True), rather than torch.tensor(sourceTensor).\n",
      "  torch.save(torch.tensor(expanded_val_dna_features),save_name_prefix+'dna_val_features.pt')\n",
      "/home/fogliodicarta/Desktop/InsectClassification/extract_features.py:251: UserWarning: To copy construct from a tensor, it is recommended to use sourceTensor.clone().detach() or sourceTensor.clone().detach().requires_grad_(True), rather than torch.tensor(sourceTensor).\n",
      "  torch.save(torch.tensor(expanded_val_dna_labels),save_name_prefix+'dna_val_labels')\n",
      "/home/fogliodicarta/Desktop/InsectClassification/extract_features.py:252: UserWarning: To copy construct from a tensor, it is recommended to use sourceTensor.clone().detach() or sourceTensor.clone().detach().requires_grad_(True), rather than torch.tensor(sourceTensor).\n",
      "  torch.save(torch.tensor(expanded_test_dna_features),save_name_prefix+'dna_test_features.pt')\n",
      "/home/fogliodicarta/Desktop/InsectClassification/extract_features.py:253: UserWarning: To copy construct from a tensor, it is recommended to use sourceTensor.clone().detach() or sourceTensor.clone().detach().requires_grad_(True), rather than torch.tensor(sourceTensor).\n",
      "  torch.save(torch.tensor(expanded_test_dna_labels),save_name_prefix+'dna_test_labels')\n"
     ]
    }
   ],
   "source": [
    "device = torch.device(\"cuda:0\" if torch.cuda.is_available() else \"cpu\")\n",
    "import importlib \n",
    "import extract_features\n",
    "importlib.reload(extract_features)\n",
    "((expanded_train_dna_features,expanded_train_dna_labels),\n",
    " (expanded_val_dna_features,expanded_val_dna_labels), \n",
    " (expanded_test_dna_features,expanded_test_dna_labels)) = extract_features.extract_expanded_dna_features(tinymodel,device,save_to_disk=True)"
   ]
  },
  {
   "cell_type": "markdown",
   "id": "f202d507-5f55-461b-97e9-a545536f9f80",
   "metadata": {},
   "source": [
    "# parte dopo non usabile perche in questo branch ho diviso una funzione extract features a parte"
   ]
  },
  {
   "cell_type": "markdown",
   "id": "63279f87-b19c-4043-83e6-6ae92653bfea",
   "metadata": {},
   "source": [
    "# Random Forest"
   ]
  },
  {
   "cell_type": "code",
   "execution_count": 15,
   "id": "ba8bca5a-97ef-4e99-9fd7-b0e1d756c6fd",
   "metadata": {},
   "outputs": [
    {
     "ename": "NameError",
     "evalue": "name 'train_dna_features' is not defined",
     "output_type": "error",
     "traceback": [
      "\u001b[0;31m---------------------------------------------------------------------------\u001b[0m",
      "\u001b[0;31mNameError\u001b[0m                                 Traceback (most recent call last)",
      "Cell \u001b[0;32mIn[15], line 7\u001b[0m\n\u001b[1;32m      4\u001b[0m \u001b[38;5;28;01mfrom\u001b[39;00m \u001b[38;5;21;01msklearn\u001b[39;00m\u001b[38;5;21;01m.\u001b[39;00m\u001b[38;5;21;01mensemble\u001b[39;00m \u001b[38;5;28;01mimport\u001b[39;00m BaggingClassifier \n\u001b[1;32m      6\u001b[0m clf \u001b[38;5;241m=\u001b[39m RandomForestClassifier(min_samples_leaf\u001b[38;5;241m=\u001b[39m\u001b[38;5;241m2\u001b[39m,n_jobs\u001b[38;5;241m=\u001b[39m\u001b[38;5;241m-\u001b[39m\u001b[38;5;241m1\u001b[39m)\n\u001b[0;32m----> 7\u001b[0m clf \u001b[38;5;241m=\u001b[39m clf\u001b[38;5;241m.\u001b[39mfit(train_dna_features,train_dna_labels )\n",
      "\u001b[0;31mNameError\u001b[0m: name 'train_dna_features' is not defined"
     ]
    }
   ],
   "source": [
    "from sklearn.multioutput import MultiOutputClassifier\n",
    "from sklearn.svm import LinearSVC,SVC\n",
    "from sklearn.ensemble import RandomForestClassifier\n",
    "from sklearn.ensemble import BaggingClassifier \n",
    "\n",
    "clf = RandomForestClassifier(min_samples_leaf=2,n_jobs=-1)\n",
    "clf = clf.fit(train_dna_features,train_dna_labels )"
   ]
  },
  {
   "cell_type": "code",
   "execution_count": 18,
   "id": "75af3100-2f89-49e6-b8e9-343cb639d732",
   "metadata": {},
   "outputs": [
    {
     "name": "stdout",
     "output_type": "stream",
     "text": [
      "Training species accuracy:0.9996155916045206\n"
     ]
    }
   ],
   "source": [
    "train_predicted_labels = clf.predict(train_dna_features)\n",
    "print(f\"Training species accuracy:{np.count_nonzero(train_predicted_labels==train_dna_labels.numpy())/len(train_dna_labels)}\")"
   ]
  },
  {
   "cell_type": "code",
   "execution_count": 19,
   "id": "9e10ab3c-55bf-4ca3-b95c-e978d565b13e",
   "metadata": {},
   "outputs": [
    {
     "name": "stdout",
     "output_type": "stream",
     "text": [
      "Validation species accuracy:0.6063022019741837\n"
     ]
    }
   ],
   "source": [
    "val_predicted_labels= clf.predict(val_dna_features)\n",
    "print(f\"Validation species accuracy:{np.count_nonzero(val_predicted_labels==val_dna_labels.numpy())/len(val_dna_labels)}\")"
   ]
  },
  {
   "cell_type": "code",
   "execution_count": 20,
   "id": "56f0cc56-6f2f-4a32-9997-b89ba87fa3a1",
   "metadata": {},
   "outputs": [
    {
     "name": "stdout",
     "output_type": "stream",
     "text": [
      "Validation genus accuracy: 0.8194760820045558\n"
     ]
    }
   ],
   "source": [
    "\n",
    "temp_val_predicted_probs = clf.predict_proba(val_dna_features)\n",
    "val_predicted_probs = np.zeros((len(temp_val_predicted_probs),1050))\n",
    "for i, cls in enumerate(np.arange(1050)):\n",
    "    if cls in clf.classes_:\n",
    "        val_predicted_probs[:, cls] = temp_val_predicted_probs[:, list(clf.classes_).index(cls)]\n",
    "import math\n",
    "n_correct_genus = 0\n",
    "for i in range(len(val_dna_labels)):\n",
    "    #label_best_specie = val_predicted_probs[i].argmax()\n",
    "    label_best_specie = val_predicted_labels[i]\n",
    "    assert(val_predicted_labels[i]==val_predicted_probs[i].argmax())\n",
    "    genus_of_best_species = species2genus[label_best_specie.item()]\n",
    "    #species_same_genus = [k for k,v in species2genus.items() if v == genus_of_best_species]\n",
    "    #reduced_species = val_predicted_probs[i][species_same_genus]\n",
    "    #normalized_reduced_species = reduced_species/(reduced_species.sum())\n",
    "    \n",
    "    real_genus = species2genus[val_dna_labels[i].item()]\n",
    "    predicted_genus = genus_of_best_species\n",
    "    if real_genus == predicted_genus:\n",
    "        n_correct_genus+=1\n",
    "print(f\"Validation genus accuracy: {n_correct_genus/len(val_dna_labels)}\")\n"
   ]
  },
  {
   "cell_type": "code",
   "execution_count": 21,
   "id": "7472a2b4-22d6-41a8-94b6-568485773a87",
   "metadata": {},
   "outputs": [],
   "source": [
    "def entropy_per_symbol(v):\n",
    "    if len(v)==1:\n",
    "        return 0.0\n",
    "    entropy = 0 \n",
    "    n_zeros = 0\n",
    "    for p in v:\n",
    "        if p != 0:\n",
    "            entropy-=p*math.log(p,2)\n",
    "        else:\n",
    "            n_zeros +=1\n",
    "    #print(f\"n_zeros:{n_zeros}\")\n",
    "    #FORSE VA TOLTO N_ZEROS DALLA LENGTH\n",
    "    mean_symbol_entropy = entropy/math.log(len(normalized_reduced_species),2)\n",
    "    return mean_symbol_entropy"
   ]
  },
  {
   "cell_type": "code",
   "execution_count": 22,
   "id": "f85c2cfa-f3c1-4632-bbec-2d3ba6f0a589",
   "metadata": {},
   "outputs": [],
   "source": [
    "\n",
    "described_species_labels = np.array([image_dataset.targets[i] for i in train_indices])\n",
    "described_species_labels = np.unique(described_species_labels)\n",
    "tprs = []\n",
    "fprs = []\n",
    "correct_genus_rate = []\n",
    "correct_species_rate = []\n",
    "for t in range(0,100,1):\n",
    "    entropy_threshold = t/100.0\n",
    "    #print(val_predicted_probs.shape)\n",
    "    n_undescribed_samples = 0\n",
    "    n_described_samples = 0\n",
    "    n_correct_undescribed_samples = 0\n",
    "    n_correct_described_samples = 0\n",
    "    n_correct_genus = 0 \n",
    "    n_correct_species = 0 \n",
    "    for i in range(len(val_dna_labels)):\n",
    "        #label_best_specie = val_predicted_probs[i].argmax()\n",
    "        label_best_specie = val_predicted_labels[i]\n",
    "        assert(val_predicted_labels[i]==val_predicted_probs[i].argmax())\n",
    "        genus_of_best_species = species2genus[label_best_specie.item()]\n",
    "        species_same_genus = [k for k,v in species2genus.items() if v == genus_of_best_species]\n",
    "        #print(val_labels[i])\n",
    "        #print(label_best_specie)\n",
    "        #print(species_same_genus)\n",
    "        reduced_species = val_predicted_probs[i][species_same_genus]\n",
    "        normalized_reduced_species = reduced_species/(reduced_species.sum())\n",
    "        #print(normalized_reduced_species)\n",
    "        H_s = entropy_per_symbol(normalized_reduced_species)\n",
    "        #print(H_s)\n",
    "        #print(\"Genus\" if H_s > entropy_threshold else \"Species\")\n",
    "        #input() \n",
    "        if val_dna_labels[i].item() in described_species_labels:\n",
    "            #tn\n",
    "            n_described_samples +=1\n",
    "            if H_s < entropy_threshold:\n",
    "                n_correct_described_samples+=1\n",
    "                if label_best_specie == val_dna_labels[i]:\n",
    "                    n_correct_species+=1\n",
    "        else:\n",
    "            #tp\n",
    "            n_undescribed_samples+=1\n",
    "            if H_s >= entropy_threshold:\n",
    "                n_correct_undescribed_samples+=1\n",
    "                real_genus = species2genus[val_dna_labels[i].item()]\n",
    "                predicted_genus = genus_of_best_species\n",
    "                if real_genus == predicted_genus:\n",
    "                    n_correct_genus+=1\n",
    "            \n",
    "        \n",
    "            \n",
    "    tprs.append(n_correct_undescribed_samples/n_undescribed_samples)#TPR = recall = sensitivity\n",
    "    fprs.append(1-n_correct_described_samples/n_described_samples)#1-TNR = 1 - specificity\n",
    "    correct_genus_rate.append(n_correct_genus/n_undescribed_samples)\n",
    "    correct_species_rate.append(n_correct_species/n_described_samples)"
   ]
  },
  {
   "cell_type": "code",
   "execution_count": 23,
   "id": "dd95d3e4-0b4a-4d6c-9035-01d3ecd7357c",
   "metadata": {},
   "outputs": [
    {
     "data": {
      "text/plain": [
       "(0.0, 1.0)"
      ]
     },
     "execution_count": 23,
     "metadata": {},
     "output_type": "execute_result"
    },
    {
     "data": {
      "image/png": "[encoded data removed]",
      "text/plain": [
       "<Figure size 640x480 with 1 Axes>"
      ]
     },
     "metadata": {},
     "output_type": "display_data"
    }
   ],
   "source": [
    "\n",
    "plt.plot(fprs,tprs)\n",
    "plt.xlim([0, 1])\n",
    "plt.ylim([0, 1])"
   ]
  },
  {
   "cell_type": "code",
   "execution_count": 24,
   "id": "456267fb-c979-4cf4-b07d-6302e64f43c4",
   "metadata": {},
   "outputs": [
    {
     "data": {
      "text/plain": [
       "0.19409412488465083"
      ]
     },
     "execution_count": 24,
     "metadata": {},
     "output_type": "execute_result"
    }
   ],
   "source": [
    "fprs[1]"
   ]
  },
  {
   "cell_type": "code",
   "execution_count": 25,
   "id": "de061570-9002-4398-99eb-8dab548eeab9",
   "metadata": {},
   "outputs": [
    {
     "data": {
      "text/plain": [
       "0.8458106098165592"
      ]
     },
     "execution_count": 25,
     "metadata": {},
     "output_type": "execute_result"
    }
   ],
   "source": [
    "tprs[1]"
   ]
  },
  {
   "cell_type": "code",
   "execution_count": 26,
   "id": "ad28b274-ba46-4ebd-91bb-7595f4b1b737",
   "metadata": {},
   "outputs": [
    {
     "data": {
      "text/plain": [
       "torch.Size([13007])"
      ]
     },
     "execution_count": 26,
     "metadata": {},
     "output_type": "execute_result"
    }
   ],
   "source": [
    "train_dna_labels.shape"
   ]
  },
  {
   "cell_type": "code",
   "execution_count": 27,
   "id": "60ca7012-d4e5-4ace-8ec5-8bf2300b1cf1",
   "metadata": {},
   "outputs": [
    {
     "data": {
      "text/plain": [
       "[<matplotlib.lines.Line2D at 0x7108ab2a10a0>]"
      ]
     },
     "execution_count": 27,
     "metadata": {},
     "output_type": "execute_result"
    },
    {
     "data": {
      "image/png": "[encoded data removed]",
      "text/plain": [
       "<Figure size 640x480 with 1 Axes>"
      ]
     },
     "metadata": {},
     "output_type": "display_data"
    }
   ],
   "source": [
    "plt.plot(correct_genus_rate)"
   ]
  },
  {
   "cell_type": "code",
   "execution_count": 28,
   "id": "b37c77b8-43b0-46b2-bd89-740e1a9b5012",
   "metadata": {},
   "outputs": [
    {
     "data": {
      "text/plain": [
       "[<matplotlib.lines.Line2D at 0x710871e1a420>]"
      ]
     },
     "execution_count": 28,
     "metadata": {},
     "output_type": "execute_result"
    },
    {
     "data": {
      "image/png": "[encoded data removed]",
      "text/plain": [
       "<Figure size 640x480 with 1 Axes>"
      ]
     },
     "metadata": {},
     "output_type": "display_data"
    }
   ],
   "source": [
    "plt.plot(correct_species_rate)"
   ]
  },
  {
   "cell_type": "code",
   "execution_count": 35,
   "id": "c4bb1707-bd50-45e9-bc13-be8e509ed662",
   "metadata": {},
   "outputs": [
    {
     "data": {
      "text/plain": [
       "0.9477083974161796"
      ]
     },
     "execution_count": 35,
     "metadata": {},
     "output_type": "execute_result"
    }
   ],
   "source": [
    "chhh = 12\n",
    "correct_species_rate[chhh]"
   ]
  },
  {
   "cell_type": "code",
   "execution_count": 36,
   "id": "23f52108-3240-475f-a1b3-abc0a3df2818",
   "metadata": {},
   "outputs": [
    {
     "data": {
      "text/plain": [
       "0.5399107585523054"
      ]
     },
     "execution_count": 36,
     "metadata": {},
     "output_type": "execute_result"
    }
   ],
   "source": [
    "correct_genus_rate[chhh]"
   ]
  },
  {
   "cell_type": "code",
   "execution_count": 33,
   "id": "63fbae7c-c441-4ed0-a592-c8f0ab8cb497",
   "metadata": {},
   "outputs": [
    {
     "data": {
      "text/plain": [
       "torch.Size([10840, 3250])"
      ]
     },
     "execution_count": 33,
     "metadata": {},
     "output_type": "execute_result"
    }
   ],
   "source": [
    "train_dna_features.shape"
   ]
  },
  {
   "cell_type": "code",
   "execution_count": null,
   "id": "8cc80eb4-400f-498f-8566-31e6d7bc0aa2",
   "metadata": {
    "scrolled": true
   },
   "outputs": [
    {
     "name": "stdout",
     "output_type": "stream",
     "text": [
      "0\n",
      "http://v3.boldsystems.org/pics/ANICL/10ANIC_08059+1288052608.jpg\n"
     ]
    }
   ],
   "source": [
    "for i,row in enumerate(df['image_urls']):\n",
    "    print(i,sep=\" \")\n",
    "    print(row)\n",
    "    input()"
   ]
  },
  {
   "cell_type": "code",
   "execution_count": 108,
   "id": "a1c01783-d4f8-4dbb-8264-b48b20c38ca8",
   "metadata": {},
   "outputs": [
    {
     "data": {
      "text/plain": [
       "'DIRTT100-14'"
      ]
     },
     "execution_count": 108,
     "metadata": {},
     "output_type": "execute_result"
    }
   ],
   "source": [
    "img2dna[list(img2dna)[38]]\n"
   ]
  },
  {
   "cell_type": "code",
   "execution_count": 113,
   "id": "d95a8825-1986-48a8-b9b1-0c8c30477a64",
   "metadata": {
    "scrolled": true
   },
   "outputs": [
    {
     "data": {
      "text/plain": [
       "{'image_dataset/Leucania_cruegeri/10ANIC_08059+1288052608.jpg': 'ANICL062-10',\n",
       " 'image_dataset/Lestica_alata/BC_ZSM_HYM_24216+1440710108.jpg': 'BCHYM11106-15',\n",
       " 'image_dataset/Liotryphon_punctulatus/BC-ZSM-HYM-27761-D07+1429045164.jpg': 'BCHYM7643-15',\n",
       " 'image_dataset/Lesmone_formularis/06-SRNP-109430_DHJ609430+1199992320.jpg': 'BLPBC407-07',\n",
       " 'image_dataset/Lesmone_formularis/07-SRNP-101378_DHJ611342+1174583648.jpg': 'BLPBE439-07',\n",
       " 'image_dataset/Lesmone_formularis/07-SRNP-106954_DHJ616918+1188495614.jpg': 'BLPCC469-08',\n",
       " 'image_dataset/Lesmone_formularis/07-SRNP-112250_DHJ622214+1202911152.jpg': 'BLPCI125-08',\n",
       " 'image_dataset/Lesmone_formularis/07-SRNP-113574_DHJ623538+1204038314.jpg': 'BLPCJ509-08',\n",
       " 'image_dataset/Lesmone_formularis/08-SRNP-108981-DHJ633045+1364926698.jpg': 'BLPDE146-09',\n",
       " 'image_dataset/Lesmone_gentilis/12-SRNP-100569-DHJ667502+1344956152.JPG': 'BLPEE570-12',\n",
       " 'image_dataset/Leucania_comma/IMG_9917+1238606356.JPG': 'CGUKC237-09',\n",
       " 'image_dataset/Limodromus_assimilis/ZMUO.003008+1335376308.JPG': 'COLFC443-12',\n",
       " 'image_dataset/Longitarsus_luridus/ZMUO.003858+1350573868.JPG': 'COLFD438-12',\n",
       " 'image_dataset/Limodromus_assimilis/ZMUO.004405+1350330438.JPG': 'COLFD605-12',\n",
       " 'image_dataset/Longitarsus_luridus/ZMUO.004819+1358948634.JPG': 'COLFD829-12',\n",
       " 'image_dataset/Litargus_connexus/ZMUO.004472+1361902940.JPG': 'COLFD862-12',\n",
       " 'image_dataset/Longitarsus_luridus/ZMUO.007266+1367984782.JPG': 'COLFE1471-13',\n",
       " 'image_dataset/Longitarsus_exsoletus/ZMUO.007303+1367984908.JPG': 'COLFE1508-13',\n",
       " 'image_dataset/Longitarsus_exsoletus/BFB_Col_FK_9399+1357863364.jpg': 'FBCOK754-13',\n",
       " 'image_dataset/Limodromus_assimilis/GBOL_Col_FK_6327+1362417160.jpg': 'GBCOE627-13',\n",
       " 'image_dataset/Longitarsus_exsoletus/GBOL_Col_FK_4191+1367676862.jpg': 'GBCOG011-13',\n",
       " 'image_dataset/Lesmone_griseipennis/IMG_8933+1240847400.JPG': 'IAWL163-09',\n",
       " 'image_dataset/Leucania_incognita/08-SRNP-100151_DHJ624215+1207770338.jpg': 'IBOLG152-08',\n",
       " 'image_dataset/Leucania_diatrecta/06-NSWE-00500+1140441934.jpg': 'LNSWE500-06',\n",
       " 'image_dataset/Liotryphon_punctulatus/BC-ZSM-HYM-27761-C04+1429045156.jpg': 'BCHYM7628-15',\n",
       " 'image_dataset/Liotryphon_punctulatus/BC-ZSM-HYM-27761-D04+1429045162.jpg': 'BCHYM7640-15',\n",
       " 'image_dataset/Lesmone_gentilis/06-SRNP-100410_DHJ600410+1144165846.jpg': 'BLPAA411-06',\n",
       " 'image_dataset/Leucania_incognita/06-SRNP-106051_DHJ606051+1201560780.jpg': 'BLPAG412-07',\n",
       " 'image_dataset/Leucania_incognita/06-SRNP-106934_DHJ606934+1162410050.jpg': 'BLPAH355-07',\n",
       " 'image_dataset/Lesmone_formularis/06-SRNP-109866_DHJ609866+1199992380.jpg': 'BLPBC843-07',\n",
       " 'image_dataset/Lesmone_formularis/07-SRNP-101379_DHJ611343+1174583676.jpg': 'BLPBE440-07',\n",
       " 'image_dataset/Macaria_nundinata/07-SRNP-103977_DHJ613941+1182540992.jpg': 'BLPBH218-07',\n",
       " 'image_dataset/Lesmone_formularis/07-SRNP-105057_DHJ615021+1342713340.jpg': 'BLPCA452-08',\n",
       " 'image_dataset/Lesmone_gentilis/07-SRNP-105458_DHJ615422+1342713374.jpg': 'BLPCA853-08',\n",
       " 'image_dataset/Lesmone_formularis/07-SRNP-105478_DHJ615442+1342713376.jpg': 'BLPCA873-08',\n",
       " 'image_dataset/Lesmone_formularis/07-SRNP-106873_DHJ616837+1188402588.jpg': 'BLPCC388-08',\n",
       " 'image_dataset/Lesmone_formularis/08-SRNP-105849-DHJ629913+1364925982.jpg': 'BLPDA774-09',\n",
       " 'image_dataset/Lesmone_formularis/08-SRNP-107183-DHJ631247+1364926290.jpg': 'BLPDC228-09',\n",
       " 'image_dataset/Lucilia_sericata/Green_Bottle_Fly_Dorsal+1398869200.jpg': 'DIRTT100-14',\n",
       " 'image_dataset/Lucilia_sericata/Green_Bottle_Fly_Lateral+1398869216.jpg': 'DIRTT100-14',\n",
       " 'image_dataset/Lestica_alata/BC_ZSM_HYM_04413+1309803780.jpg': 'FBACA138-10',\n",
       " 'image_dataset/Longitarsus_luridus/GBOL_Col_FK_6455+1378759890.jpg': 'GBCOU1325-13',\n",
       " 'image_dataset/Leucania_dasycnema/IMG_8614+1204578590.JPG': 'IMLQ417-08',\n",
       " 'image_dataset/Limnophila_poetica/10PROBE-10675+1295817558.jpg': 'JWDCF420-10',\n",
       " 'image_dataset/Leucania_comma/TLMF_Lep_10543+1378750984.JPG': 'LEATB366-13',\n",
       " 'image_dataset/Leucania_stenographa/AM_2320_B_2590_E05+1196216694.jpg': 'LNSWC599-08',\n",
       " 'image_dataset/Leucania_stenographa/IMG_6434+1201708722.JPG': 'NSWBB712-08',\n",
       " 'image_dataset/Leucania_diatrecta/IMG_4952+1304504964.JPG': 'NSWHM683-11',\n",
       " 'image_dataset/Leucania_stenographa/IMG_7658+1343232922.JPG': 'PHSAU242-12',\n",
       " 'image_dataset/Leucania_incognita/IMG_0854+1255024884.JPG': 'BBLSX696-09',\n",
       " 'image_dataset/Liotryphon_punctulatus/BC-ZSM-HYM-27761-D06+1429045164.jpg': 'BCHYM7642-15',\n",
       " 'image_dataset/Lesmone_formularis/06-SRNP-109429_DHJ609429+1199992320.jpg': 'BLPBC406-07',\n",
       " 'image_dataset/Lesmone_formularis/07-SRNP-106956_DHJ616920+1188495660.jpg': 'BLPCC471-08',\n",
       " 'image_dataset/Lesmone_formularis/07-SRNP-108766_DHJ618730+1193088516.jpg': 'BLPCE401-08',\n",
       " 'image_dataset/Lesmone_formularis/07-SRNP-113139_DHJ623103+1203611080.jpg': 'BLPCJ074-08',\n",
       " 'image_dataset/Lesmone_formularis/07-SRNP-113597_DHJ623561+1204223530.jpg': 'BLPCJ532-08',\n",
       " 'image_dataset/Lesmone_formularis/08-SRNP-108544-DHJ632608+1364926616.jpg': 'BLPDD649-09',\n",
       " 'image_dataset/Lesmone_formularis/08-SRNP-108548-DHJ632612+1364926616.jpg': 'BLPDD653-09',\n",
       " 'image_dataset/Limnophyes_edwardsi/Fi322+1346872818.jpg': 'CHRFI374-11',\n",
       " 'image_dataset/Lygistopterus_sanguineus/ZMUO.005901+1360868156.JPG': 'COLFF383-13',\n",
       " 'image_dataset/Limodromus_assimilis/BCZSMCOLWL0006+1295264306.JPG': 'FBCOD006-11',\n",
       " 'image_dataset/Limonius_poneli/BFB_Col_FK_10220+1369086258.jpg': 'FBCOP221-13',\n",
       " 'image_dataset/Limonius_poneli/BFB_Col_FK_10512+1367881574.jpg': 'FBCOQ062-13',\n",
       " 'image_dataset/Longitarsus_exsoletus/GBOL_Col_FK_2597+1365437648.jpg': 'GBCOD697-13',\n",
       " 'image_dataset/Lochmaea_caprea/GBOL_Col_FK_6799+1378230932.jpg': 'GBCOU2239-13',\n",
       " 'image_dataset/Limodromus_assimilis/GBOL01730+1373750852.jpg': 'GBCOU682-13',\n",
       " 'image_dataset/Lesmone_griseipennis/IMG_8925+1240847042.JPG': 'IAWL156-09',\n",
       " 'image_dataset/Limnophila_poetica/10PROBE-10428+1290015058.jpg': 'JWDCF173-10',\n",
       " 'image_dataset/Lesmone_griseipennis/IMG_2882+1243359668.JPG': 'LMEMB211-09',\n",
       " 'image_dataset/Leucania_dasycnema/IMG_6152+1305813678.JPG': 'NSWHN351-11',\n",
       " 'image_dataset/Leucania_diatrecta/IMG_4179+1314035298.JPG': 'PHLCC978-11',\n",
       " 'image_dataset/Leucania_diatrecta/IMG_5941+1343061400.jpg': 'PHLCD433-12',\n",
       " 'image_dataset/Leucania_stenographa/IMG_5693+1365100448.jpg': 'WALPA5334-13',\n",
       " 'image_dataset/Leucania_cruegeri/10ANIC_08058+1288052596.jpg': 'ANICL061-10',\n",
       " 'image_dataset/Leucania_dasycnema/10ANIC_08094+1288053466.jpg': 'ANICL097-10',\n",
       " 'image_dataset/Leucania_dasycnema/10ANIC_08095+1288053482.jpg': 'ANICL098-10',\n",
       " 'image_dataset/Limnophyes_edwardsi/AT211+1377788500.jpg': 'ATNA211-09',\n",
       " 'image_dataset/Liotryphon_punctulatus/BC-ZSM-HYM-27761-D12+1429045168.jpg': 'BCHYM7648-15',\n",
       " 'image_dataset/Leucania_incognita/06-SRNP-105470_DHJ605470+1159365686.jpg': 'BLPAF771-07',\n",
       " 'image_dataset/Lesmone_formularis/07-SRNP-105059_DHJ615023+1342713340.jpg': 'BLPCA454-08',\n",
       " 'image_dataset/Lesmone_formularis/07-SRNP-107846_DHJ617810+1191434662.jpg': 'BLPCD421-08',\n",
       " 'image_dataset/Lesmone_formularis/08-SRNP-108547-DHJ632611+1364926616.jpg': 'BLPDD652-09',\n",
       " 'image_dataset/Lesmone_formularis/08-SRNP-109150-DHJ633214+1364926790.jpg': 'BLPDE315-09',\n",
       " 'image_dataset/Litargus_connexus/ccdb-06277-050+1272994700.JPG': 'COLFA050-10',\n",
       " 'image_dataset/Longitarsus_luridus/ZMUO.001081+1331751344.JPG': 'COLFB606-12',\n",
       " 'image_dataset/Litargus_connexus/ZMUO.004901+1358795820.JPG': 'COLFE341-12',\n",
       " 'image_dataset/Litargus_connexus/BC_ZSM_COL_05805+1338577654.JPG': 'FBCOG295-12',\n",
       " 'image_dataset/Leucania_diatrecta/IMG_7412+1229971416.JPG': 'IMLR684-08',\n",
       " 'image_dataset/Lucilia_sericata/JMCA-0694-D+1363150748.JPG': 'JMFLY059-13',\n",
       " 'image_dataset/Lucilia_sericata/JMCA-0694-L+1363150288.JPG': 'JMFLY059-13',\n",
       " 'image_dataset/Lucilia_sericata/JMCA-0694-V+1363803754.JPG': 'JMFLY059-13',\n",
       " 'image_dataset/Limnophila_poetica/10PROBE-10672+1295378048.jpg': 'JWDCF417-10',\n",
       " 'image_dataset/Lesmone_formularis/97-srnp-9573-dhj320252+1140463210.jpg': 'MHAUC595-06',\n",
       " 'image_dataset/Lesmone_formularis/97-srnp-9573-dhj320253+1140463212.jpg': 'MHAUC595-06',\n",
       " 'image_dataset/Leucania_stenographa/IMG_6709+1201806062.JPG': 'NSWBB950-08',\n",
       " 'image_dataset/Leucania_dasycnema/IMG_5989+1305554742.JPG': 'NSWHN238-11',\n",
       " 'image_dataset/Leucania_dasycnema/BIOUG04701-B05+1360245268.JPG': 'NSWLP207-13',\n",
       " 'image_dataset/Lucilia_sericata/TDWG-0790+1287762442.jpg': 'TDWGB654-10',\n",
       " 'image_dataset/Leucania_diatrecta/BIOUG04674-E07+1361980576.JPG': 'WALPA3475-13',\n",
       " 'image_dataset/Leucania_diatrecta/BIOUG12060-H05+1400075018.JPG': 'WALPB2497-14',\n",
       " 'image_dataset/Leucania_cruegeri/BIOUG08996-F04+1385757590.JPG': 'WALPB444-13',\n",
       " 'image_dataset/Limnophyes_edwardsi/AT214+1377789194.jpg': 'ATNA214-09',\n",
       " 'image_dataset/Liotryphon_punctulatus/BC-ZSM-HYM-27761-A03+1429045148.jpg': 'BCHYM7603-15',\n",
       " 'image_dataset/Lesmone_formularis/07-SRNP-107847_DHJ617811+1191434696.jpg': 'BLPCD422-08',\n",
       " 'image_dataset/Lesmone_formularis/08-SRNP-106635-DHJ630699+1364926142.jpg': 'BLPDB620-09',\n",
       " 'image_dataset/Lesmone_formularis/08-SRNP-106637-DHJ630701+1364926142.jpg': 'BLPDB622-09',\n",
       " 'image_dataset/Leucania_comma/IMG_1396+1238688658.JPG': 'CGUKA779-09',\n",
       " 'image_dataset/Leucania_comma/IMG_0105+1238597674.JPG': 'CGUKB935-09',\n",
       " 'image_dataset/Leucania_comma/IMG_3446+1239027704.JPG': 'CGUKD348-09',\n",
       " 'image_dataset/Limodromus_assimilis/ZMUO.004909+1358795832.JPG': 'COLFE349-12',\n",
       " 'image_dataset/Limodromus_assimilis/BCZSMCOLA00189+1280478996.JPG': 'FBCOB094-10',\n",
       " 'image_dataset/Litargus_connexus/GBOL_Col_FK_1448+1340978162.jpg': 'GBCOB878-12',\n",
       " 'image_dataset/Lygistopterus_sanguineus/GBOL_Col_FK_7832+1378847250.jpg': 'GBCOU1847-13',\n",
       " 'image_dataset/Lygistopterus_sanguineus/GBOL_Col_FK_6984+1377801604.jpg': 'GBCOU2329-13',\n",
       " 'image_dataset/Limodromus_assimilis/GBOL_Col_FK_8626+1381516988.jpg': 'GBCOU3401-13',\n",
       " 'image_dataset/Lesmone_griseipennis/IAWAZ-1198+1311688346.JPG': 'IAWLB290-11',\n",
       " 'image_dataset/Lesmone_gentilis/98-srnp-8888-dhj320240+1140463654.jpg': 'MHAUC589-06',\n",
       " 'image_dataset/Lesmone_gentilis/98-srnp-8888-dhj320241+1140463656.jpg': 'MHAUC589-06',\n",
       " 'image_dataset/Limnophyes_edwardsi/SOE152+1204136636.jpg': 'MIDGE556-08',\n",
       " 'image_dataset/Lygistopterus_sanguineus/NOCOL1649+1572379034.jpg': 'NOCLP1623-19',\n",
       " 'image_dataset/Leucania_dasycnema/IMG_9811+1231941724.JPG': 'NSWHH301-09',\n",
       " 'image_dataset/Leucania_dasycnema/BIOUG04703-E02+1360771616.jpg': 'NSWLP430-13',\n",
       " 'image_dataset/Leucania_diatrecta/IMG_5975+1343061636.jpg': 'PHLCD461-12',\n",
       " 'image_dataset/Leucania_stenographa/IMG_8655+1343652668.jpg': 'PHSAU723-12',\n",
       " 'image_dataset/Leucania_cruegeri/BIOUG04674-D08+1361988658.jpg': 'WALPA3464-13',\n",
       " 'image_dataset/Leucania_stenographa/BIOUG08996-F07+1385757594.JPG': 'WALPB447-13',\n",
       " 'image_dataset/Leucania_cruegeri/BIOUG20227-D01+1426819800.JPG': 'WALPC5359-15',\n",
       " 'image_dataset/Limnophyes_edwardsi/AT215+1377789508.jpg': 'ATNA215-09',\n",
       " 'image_dataset/Leucania_incognita/IMG_7541+1252591252.JPG': 'BBLSW845-09',\n",
       " 'image_dataset/Lestica_alata/BC_ZSM_HYM_19857+1384885470.jpg': 'BCHYM1522-14',\n",
       " 'image_dataset/Macaria_nundinata/06-SRNP-105769_DHJ605769+1201560780.jpg': 'BLPAG130-07',\n",
       " 'image_dataset/Macaria_nundinata/07-SRNP-103992_DHJ613956+1182541384.jpg': 'BLPBH233-07',\n",
       " 'image_dataset/Macaria_nundinata/07-SRNP-104571_DHJ614535+1183222174.jpg': 'BLPBH812-07',\n",
       " 'image_dataset/Lesmone_formularis/08-SRNP-100931_DHJ624995+1214060658.jpg': 'BLPCK838-08',\n",
       " 'image_dataset/Leucania_comma/IMG_1998+1238787528.JPG': 'CGUKC333-09',\n",
       " 'image_dataset/Litargus_connexus/ZMUO.003903+1346678590.JPG': 'COLFD008-12',\n",
       " 'image_dataset/Longitarsus_exsoletus/ZMUO.007679+1371668824.JPG': 'COLFG281-13',\n",
       " 'image_dataset/Lygistopterus_sanguineus/BCZSMCOL01918+1284714522.JPG': 'FBCOC493-10',\n",
       " 'image_dataset/Lochmaea_caprea/BC_ZSM_COL_03053+1312806420.jpg': 'FBCOD488-11',\n",
       " 'image_dataset/Lochmaea_caprea/BFB_Col_FK_7105+1347210626.jpg': 'FBCOI550-12',\n",
       " 'image_dataset/Lestica_alata/BC_ZSM_HYM_17659+1363019072.jpg': 'GBACU3409-13',\n",
       " 'image_dataset/Lestica_alata/BC_ZSM_HYM_17661+1363019114.jpg': 'GBACU3411-13',\n",
       " 'image_dataset/Lesmone_griseipennis/IMG_2878+1243359598.JPG': 'LMEMB207-09',\n",
       " 'image_dataset/Leucania_diatrecta/06-NSWE-00300+1140098240.jpg': 'LNSWE300-06',\n",
       " 'image_dataset/Leucania_dasycnema/06-NSWE-01129+1141849356.jpg': 'LNSWF189-06',\n",
       " 'image_dataset/Leucania_stenographa/IMG_6682+1176739506.JPG': 'LOTSC457-07',\n",
       " 'image_dataset/Leucania_stenographa/IMG_4987+1342722856.jpg': 'PHLCD1205-12',\n",
       " 'image_dataset/Leucania_stenographa/BIOUG04674-A05+1361987828.JPG': 'WALPA3425-13',\n",
       " 'image_dataset/Leucania_cruegeri/BIOUG04674-B01+1361989256.jpg': 'WALPA3433-13',\n",
       " 'image_dataset/Leucania_cruegeri/BIOUG11097-F06+1393350198.JPG': 'WALPB1714-14',\n",
       " 'image_dataset/Leucania_cruegeri/BIOUG08996-A11+1385757408.JPG': 'WALPB391-13',\n",
       " 'image_dataset/Leucania_cruegeri/BIOUG20227-G06+1426819860.JPG': 'WALPC5400-15',\n",
       " 'image_dataset/Lesmone_gentilis/06-SRNP-104414_DHJ604414+1197404880.jpg': 'BLPAE655-06',\n",
       " 'image_dataset/Macaria_nundinata/06-SRNP-104482_DHJ604482+1197404940.jpg': 'BLPAE723-06',\n",
       " 'image_dataset/Macaria_nundinata/06-SRNP-105766_DHJ605766+1201560780.jpg': 'BLPAG127-07',\n",
       " 'image_dataset/Lesmone_formularis/06-SRNP-109865_DHJ609865+1199992380.jpg': 'BLPBC842-07',\n",
       " 'image_dataset/Macaria_nundinata/07-SRNP-103090_DHJ613054+1178899568.jpg': 'BLPBG271-07',\n",
       " 'image_dataset/Lesmone_formularis/11-SRNP-103238_DHJ663908+1349455160.jpg': 'BLPEC681-11',\n",
       " 'image_dataset/Leucania_incognita/12-SRNP-100937-DHJ667870+1344956158.JPG': 'BLPEE938-12',\n",
       " 'image_dataset/Lygistopterus_sanguineus/ZMUO.003149+1335798298.JPG': 'COLFC584-12',\n",
       " 'image_dataset/Lygistopterus_sanguineus/ZMUO.005253+1360614520.JPG': 'COLFE028-12',\n",
       " 'image_dataset/Limonius_poneli/BCZSMCOL00869+1280306614.JPG': 'FBCOB109-10',\n",
       " 'image_dataset/Longitarsus_exsoletus/BFB_Col_FK_9400+1357863430.jpg': 'FBCOK755-13',\n",
       " 'image_dataset/Limonius_poneli/GBOL_Col_FK_2498+1351535592.jpg': 'GBCOD123-13',\n",
       " 'image_dataset/Limodromus_assimilis/GBOL_Col_FK_3898+1367698684.jpg': 'GBCOG098-13',\n",
       " 'image_dataset/Lochmaea_caprea/GBOL_Col_FK_2327+1342211874.jpg': 'GBCOL142-12',\n",
       " 'image_dataset/Longitarsus_exsoletus/GBOL_Col_FK_7140+1378220224.jpg': 'GBCOU2485-13',\n",
       " 'image_dataset/Lesmone_formularis/BC_ZSM_Lep_52669+1317748920.JPG': 'GWOSU368-11',\n",
       " 'image_dataset/Limnophila_poetica/10PROBE-10251+1289932226.jpg': 'JWDCE946-10',\n",
       " 'image_dataset/Limnophila_poetica/10PROBE-13757+1295457156.jpg': 'JWDCI367-10',\n",
       " 'image_dataset/Lesmone_griseipennis/IMG_2879+1243359614.JPG': 'LMEMB208-09',\n",
       " 'image_dataset/Leucania_diatrecta/06-NSWE-01406+1142342854.jpg': 'LNSWF466-06',\n",
       " 'image_dataset/Leucania_stenographa/IMG_6264_+1201720170.JPG': 'NSWBB498-08',\n",
       " 'image_dataset/Leucania_diatrecta/BIOUG04673-H08+1361556278.JPG': 'WALPA3417-13',\n",
       " 'image_dataset/Leucania_cruegeri/BIOUG04674-A12+1361987310.JPG': 'WALPA3432-13',\n",
       " 'image_dataset/Macaria_nundinata/06-SRNP-105022_DHJ605022+1158607046.jpg': 'BLPAF323-07',\n",
       " 'image_dataset/Lesmone_gentilis/07-SRNP-107808_DHJ617772+1191432804.jpg': 'BLPCD383-08',\n",
       " 'image_dataset/Lesmone_formularis/07-SRNP-107848_DHJ617812+1191434726.jpg': 'BLPCD423-08',\n",
       " 'image_dataset/Lesmone_formularis/08-SRNP-108542-DHJ632606+1364926616.jpg': 'BLPDD647-09',\n",
       " 'image_dataset/Lesmone_formularis/10-SRNP-115328_DHJ660203+1309189820.jpg': 'BLPDY776-11',\n",
       " 'image_dataset/Lochmaea_caprea/ZMUO.003930+1346680168.JPG': 'COLFD035-12',\n",
       " 'image_dataset/Litargus_connexus/BC_ZSM_COL_05485+1338577126.JPG': 'FBCOF1115-12',\n",
       " 'image_dataset/Lochmaea_caprea/BFB_Col_FK_4572+1338215520.JPG': 'FBCOF392-12',\n",
       " 'image_dataset/Longitarsus_exsoletus/BFB_Col_FK_10858+1366409092.jpg': 'FBCON788-13',\n",
       " 'image_dataset/Lochmaea_caprea/BFB_Col_FK_11112+1366905602.jpg': 'FBCOP543-13',\n",
       " 'image_dataset/Leucania_stenographa/IMG_2173+1212510226.JPG': 'IMLQ762-08',\n",
       " 'image_dataset/Leucania_stenographa/IMG_7093+1229703922.JPG': 'IMLR325-08',\n",
       " 'image_dataset/Leucania_stenographa/CCDB-28563-B09+1444934640.JPG': 'LNAUU306-15',\n",
       " 'image_dataset/Lesmone_gentilis/98-srnp-1174-dhj320234+1140463416.jpg': 'MHAUC586-06',\n",
       " 'image_dataset/Lesmone_gentilis/98-srnp-1174-dhj320235+1140463418.jpg': 'MHAUC586-06',\n",
       " 'image_dataset/Leucania_dasycnema/IMG_6810_+1201876516.JPG': 'NSWBB1034-08',\n",
       " 'image_dataset/Leucania_stenographa/IMG_4879+1342718718.JPG': 'PHLCD2428-12',\n",
       " 'image_dataset/Leucania_stenographa/IMG_0038+1343656676.jpg': 'PHSAU1756-12',\n",
       " 'image_dataset/Leucania_incognita/CNC_Noctuoidea12899+1168960316.jpg': 'RDNMD567-06',\n",
       " 'image_dataset/Leucania_stenographa/BIOUG04673-H10+1361556128.JPG': 'WALPA3419-13',\n",
       " 'image_dataset/Leucania_diatrecta/BIOUG04674-A06+1361987730.JPG': 'WALPA3426-13',\n",
       " 'image_dataset/Leucania_cruegeri/BIOUG04674-D07+1361989586.jpg': 'WALPA3463-13',\n",
       " 'image_dataset/Leucania_diatrecta/BIOUG04674-D12+1361981076.JPG': 'WALPA3468-13',\n",
       " 'image_dataset/Leucania_cruegeri/BIOUG09012-D12+1386176004.JPG': 'WALPB713-13',\n",
       " 'image_dataset/Leucania_cruegeri/BIOUG17341-F11+1417035780.JPG': 'WALPC451-14',\n",
       " 'image_dataset/Leucania_stenographa/10ANIC_08060+1288052628.jpg': 'ANICL063-10',\n",
       " 'image_dataset/Leucania_stenographa/10ANIC_08062+1288052658.jpg': 'ANICL065-10',\n",
       " 'image_dataset/Liotryphon_punctulatus/BC-ZSM-HYM-27595-E07+1429045062.jpg': 'BCHYM8130-15',\n",
       " 'image_dataset/Liotryphon_punctulatus/BC-ZSM-HYM-27590-D02+1429044660.jpg': 'BCHYM8493-15',\n",
       " 'image_dataset/Macaria_nundinata/06-SRNP-106615_DHJ606615+1201560960.jpg': 'BLPAH036-07',\n",
       " 'image_dataset/Lesmone_formularis/07-SRNP-113138_DHJ623102+1203611046.jpg': 'BLPCJ073-08',\n",
       " 'image_dataset/Lesmone_formularis/08-SRNP-105407-DHJ629471+1364925844.jpg': 'BLPDA332-09',\n",
       " 'image_dataset/Lesmone_formularis/08-SRNP-106419-DHJ630483+1364926136.jpg': 'BLPDB404-09',\n",
       " 'image_dataset/Lesmone_formularis/08-SRNP-108545-DHJ632609+1364926616.jpg': 'BLPDD650-09',\n",
       " 'image_dataset/Leucania_comma/IMG_0943+1238697024.JPG': 'CGUKB269-09',\n",
       " 'image_dataset/Limnophyes_edwardsi/TRD-CH54+1396371058.jpg': 'CHMNO054-14',\n",
       " 'image_dataset/Lesmone_griseipennis/IMG_2982+1331926906.JPG': 'CMAZA1019-12',\n",
       " 'image_dataset/Lygistopterus_sanguineus/ZMUO.001444+1331662166.JPG': 'COLFB114-12',\n",
       " 'image_dataset/Longitarsus_luridus/ZMUO.007267+1367984786.JPG': 'COLFE1472-13',\n",
       " 'image_dataset/Longitarsus_exsoletus/ZMUO.007678+1371668822.JPG': 'COLFG280-13',\n",
       " 'image_dataset/Lucilia_sericata/IMG_7208+1284668726.jpg': 'DIPUS364-10',\n",
       " 'image_dataset/Lestica_alata/BC_ZSM_HYM_04416+1309803780.jpg': 'FBACA141-10',\n",
       " 'image_dataset/Limonius_poneli/BCZSMCOL01008+1281429000.JPG': 'FBCOB248-10',\n",
       " 'image_dataset/Limonius_poneli/GBOL_Col_FK_3812+1355773264.jpg': 'GBCOD297-13',\n",
       " 'image_dataset/Limodromus_assimilis/GBOL_Col_FK_3749+1349718930.jpg': 'GBCOL899-12',\n",
       " 'image_dataset/Lygistopterus_sanguineus/GBOL_Col_FK_6985+1377801606.jpg': 'GBCOU2330-13',\n",
       " 'image_dataset/Limnophila_poetica/10PROBE-13632+1295457094.jpg': 'JWDCI242-10',\n",
       " 'image_dataset/Leucania_stenographa/BIOUG12058-G05+1399915532.JPG': 'WALPB2580-14',\n",
       " 'image_dataset/Leucania_diatrecta/BIOUG19081-A06+1423163402.JPG': 'WALPC3048-15',\n",
       " 'image_dataset/Lesmone_gentilis/06-SRNP-104416_DHJ604416+1197404880.jpg': 'BLPAE657-06',\n",
       " 'image_dataset/Lesmone_formularis/08-SRNP-106632-DHJ630696+1364926142.jpg': 'BLPDB617-09',\n",
       " 'image_dataset/Lesmone_formularis/08-SRNP-107220-DHJ631284+1364926292.jpg': 'BLPDC265-09',\n",
       " 'image_dataset/Lesmone_formularis/08-SRNP-107221-DHJ631285+1364926292.jpg': 'BLPDC266-09',\n",
       " 'image_dataset/Lesmone_formularis/08-SRNP-107601-DHJ631665+1364926368.jpg': 'BLPDC646-09',\n",
       " 'image_dataset/Lesmone_formularis/08-SRNP-107605-DHJ631669+1364926368.jpg': 'BLPDC650-09',\n",
       " 'image_dataset/Lesmone_formularis/08-SRNP-107859-DHJ631923+1364926444.jpg': 'BLPDC904-09',\n",
       " 'image_dataset/Lesmone_formularis/08-SRNP-108971-DHJ633035+1364926696.jpg': 'BLPDE136-09',\n",
       " 'image_dataset/Lesmone_gentilis/09-SRNP-102513_DHJ635748+1237652528.jpg': 'BLPDH029-09',\n",
       " 'image_dataset/Lesmone_formularis/10-SRNP-110590_DHJ655465+1309874698.jpg': 'BLPDU1168-11',\n",
       " 'image_dataset/Lesmone_formularis/10-SRNP-110590_DHJ655465+1309192862.jpg': 'BLPDU1168-11',\n",
       " 'image_dataset/Lesmone_gentilis/11-SRNP-105853-DHJ666523+1331928312.JPG': 'BLPED2251-12',\n",
       " 'image_dataset/Leucania_comma/IMG_1379+1238688516.JPG': 'CGUKA764-09',\n",
       " 'image_dataset/Lesmone_griseipennis/CMAZ-0805+1286913030.JPG': 'CMAZA805-10',\n",
       " 'image_dataset/Lesmone_griseipennis/BIOUG02040-F10+1331841590.JPG': 'CMAZA919-12',\n",
       " 'image_dataset/Litargus_connexus/BCZSMCOL00298+1277899148.JPG': 'FBCOA393-10',\n",
       " 'image_dataset/Longitarsus_luridus/BFB_Col_FK_8584+1336516094.jpg': 'FBCOI604-12',\n",
       " 'image_dataset/Lestica_alata/BC_ZSM_HYM_17660+1363019094.jpg': 'GBACU3410-13',\n",
       " 'image_dataset/Lochmaea_caprea/GBOL_Col_FK_6734+1378399960.jpg': 'GBCOU1604-13',\n",
       " 'image_dataset/Limnophila_poetica/10PROBE-11186+1289920764.jpg': 'JWDCF931-10',\n",
       " 'image_dataset/Limnophila_poetica/10PROBE-13758+1295457154.jpg': 'JWDCI368-10',\n",
       " 'image_dataset/Leucania_diatrecta/IMG_4211+1314035592.JPG': 'PHLCC1008-11',\n",
       " 'image_dataset/Leucania_diatrecta/IMG_4085+1314037732.JPG': 'PHLCC891-11',\n",
       " 'image_dataset/Leucania_stenographa/BIOUG04674-A03+1361987936.JPG': 'WALPA3423-13',\n",
       " 'image_dataset/Leucania_stenographa/BIOUG04674-A04+1361987878.JPG': 'WALPA3424-13',\n",
       " 'image_dataset/Leucania_cruegeri/BIOUG08996-F05+1385757592.JPG': 'WALPB445-13',\n",
       " 'image_dataset/Leucania_incognita/IMG_0857+1255024912.JPG': 'BBLSX699-09',\n",
       " 'image_dataset/Macaria_nundinata/06-SRNP-105994_DHJ605994+1201560780.jpg': 'BLPAG355-07',\n",
       " 'image_dataset/Macaria_nundinata/07-SRNP-103974_DHJ613938+1182540906.jpg': 'BLPBH215-07',\n",
       " 'image_dataset/Leucania_incognita/08-SRNP-105550-DHJ629614+1364925914.jpg': 'BLPDA475-09',\n",
       " 'image_dataset/Lestica_alata/BC_ZSM_HYM_04415+1309803780.jpg': 'FBACA140-10',\n",
       " 'image_dataset/Limonius_poneli/BCZSMCOL00445+1278497566.JPG': 'FBCOA540-10',\n",
       " 'image_dataset/Limonius_poneli/BCZSMCOL00699+1280931462.JPG': 'FBCOA794-10',\n",
       " 'image_dataset/Longitarsus_luridus/BCZSMCOL02202+1286804456.JPG': 'FBCOC777-10',\n",
       " 'image_dataset/Longitarsus_luridus/BC_ZSM_COL_05225+1338835330.JPG': 'FBCOF855-12',\n",
       " 'image_dataset/Longitarsus_luridus/GBOL_Col_FK_8025+1378930966.jpg': 'GBCOU2040-13',\n",
       " 'image_dataset/Lygistopterus_sanguineus/GBOL_Col_FK_7241+1378150452.jpg': 'GBCOU2586-13',\n",
       " 'image_dataset/Limnophila_poetica/10PROBE-11129+1289916302.jpg': 'JWDCF874-10',\n",
       " 'image_dataset/Limnophila_poetica/10PROBE-11183+1295376148.jpg': 'JWDCF928-10',\n",
       " 'image_dataset/Leucania_comma/TLMF_Lep_18948+1443033376.jpg': 'LEATJ1088-15',\n",
       " 'image_dataset/Lygistopterus_sanguineus/NOCOL1650+1572379034.jpg': 'NOCLP1624-19',\n",
       " 'image_dataset/Leucania_dasycnema/BIOUG04699-C08+1359993302.JPG': 'NSWLP032-13',\n",
       " 'image_dataset/Leucania_diatrecta/BIOUG04700-E12+1360259602.JPG': 'NSWLP155-13',\n",
       " 'image_dataset/Leucania_comma/TLMF_Lep_00422+1260820734.JPG': 'PHLAA382-09',\n",
       " 'image_dataset/Lesmone_griseipennis/CNCLEP_80258+1294327594.jpg': 'RDNMJ350-11',\n",
       " 'image_dataset/Lesmone_griseipennis/CNCLEP_80177+1294784590.jpg': 'RDNMJ743-11',\n",
       " 'image_dataset/Leucania_stenographa/BIOUG04673-H11+1361562916.JPG': 'WALPA3420-13',\n",
       " 'image_dataset/Leucania_cruegeri/BIOUG04674-A09+1361987528.JPG': 'WALPA3429-13',\n",
       " 'image_dataset/Leucania_cruegeri/BIOUG04674-D06+1361989562.jpg': 'WALPA3462-13',\n",
       " 'image_dataset/Leucania_cruegeri/BIOUG04674-D11+1361981142.JPG': 'WALPA3467-13',\n",
       " 'image_dataset/Leucania_cruegeri/BIOUG18346-A03+1421460240.JPG': 'WALPB5702-15',\n",
       " 'image_dataset/Liotryphon_punctulatus/BC-ZSM-HYM-27761-A09+1429045150.jpg': 'BCHYM7609-15',\n",
       " 'image_dataset/Lesmone_gentilis/06-SRNP-104417_DHJ604417+1197404880.jpg': 'BLPAE658-06',\n",
       " 'image_dataset/Leucania_incognita/08-SRNP-100850_DHJ624914+1214015542.jpg': 'BLPCK757-08',\n",
       " 'image_dataset/Lesmone_formularis/08-SRNP-103617_DHJ627681+1221750762.jpg': 'BLPCO140-08',\n",
       " 'image_dataset/Lesmone_formularis/08-SRNP-107411-DHJ631475+1364926362.jpg': 'BLPDC456-09',\n",
       " 'image_dataset/Leucania_incognita/12-SRNP-101333-DHJ668266+1344956290.JPG': 'BLPEE1334-12',\n",
       " 'image_dataset/Leucania_comma/IMG_2009+1238709076.JPG': 'CGUKC344-09',\n",
       " 'image_dataset/Lesmone_griseipennis/IMG_1326+1261060726.JPG': 'CMAZA041-09',\n",
       " 'image_dataset/Lesmone_griseipennis/CMAZ-0788+1286910454.JPG': 'CMAZA788-10',\n",
       " 'image_dataset/Lochmaea_caprea/ZMUO.003927+1346680144.JPG': 'COLFD032-12',\n",
       " 'image_dataset/Longitarsus_exsoletus/BCZSMCOL01097+1282651502.JPG': 'FBCOB337-10',\n",
       " 'image_dataset/Leucania_stenographa/IMG_8577+1204578568.JPG': 'IMLQ398-08',\n",
       " 'image_dataset/Limnophila_poetica/10PROBE-10563+1295369702.jpg': 'JWDCF308-10',\n",
       " 'image_dataset/Leucania_comma/TLMF_Lep_10544+1378750972.JPG': 'LEATB367-13',\n",
       " 'image_dataset/Lesmone_griseipennis/IMG_2880+1243359632.JPG': 'LMEMB209-09',\n",
       " 'image_dataset/Macaria_nundinata/04-SRNP-47457-DHJ357666+1175909692.jpg': 'MHMXG059-07',\n",
       " 'image_dataset/Leucania_dasycnema/IMG_0041+1232038018.JPG': 'NSWHH421-09',\n",
       " 'image_dataset/Leucania_dasycnema/IMG_5923+1305552190.JPG': 'NSWHN201-11',\n",
       " 'image_dataset/Leucania_comma/CNC_Noctuoidea12695+1155844564.jpg': 'RDNMD363-06',\n",
       " 'image_dataset/Leucania_cruegeri/BIOUG04674-A11+1361987370.JPG': 'WALPA3431-13',\n",
       " 'image_dataset/Leucania_diatrecta/BIOUG04674-E06+1361980648.JPG': 'WALPA3474-13',\n",
       " 'image_dataset/Leucania_diatrecta/BIOUG04674-E08+1361980534.JPG': 'WALPA3476-13',\n",
       " 'image_dataset/Leucania_diatrecta/BIOUG04674-E10+1361980438.JPG': 'WALPA3478-13',\n",
       " 'image_dataset/Leucania_diatrecta/IMG_3807+1363804258.jpg': 'WALPA4179-13',\n",
       " 'image_dataset/Leucania_stenographa/10ANIC_08061+1288052646.jpg': 'ANICL064-10',\n",
       " 'image_dataset/Macaria_nundinata/06-SRNP-100574_DHJ600574+1144769252.jpg': 'BLPAA575-06',\n",
       " 'image_dataset/Lesmone_formularis/06-SRNP-108769_DHJ608769+1199992200.jpg': 'BLPBB686-07',\n",
       " 'image_dataset/Macaria_nundinata/07-SRNP-104570_DHJ614534+1183222142.jpg': 'BLPBH811-07',\n",
       " 'image_dataset/Leucania_incognita/07-SRNP-105093_DHJ615057+1342713342.jpg': 'BLPCA488-08',\n",
       " 'image_dataset/Lesmone_formularis/07-SRNP-106955_DHJ616919+1188495636.jpg': 'BLPCC470-08',\n",
       " 'image_dataset/Lesmone_gentilis/07-SRNP-113146_DHJ623110+1203611414.jpg': 'BLPCJ081-08',\n",
       " 'image_dataset/Lesmone_formularis/08-SRNP-107219-DHJ631283+1364926292.jpg': 'BLPDC264-09',\n",
       " 'image_dataset/Leucania_comma/IMG_0662+1238511788.JPG': 'CGUKA265-09',\n",
       " 'image_dataset/Leucania_comma/IMG_1439+1238689060.JPG': 'CGUKA819-09',\n",
       " 'image_dataset/Limonius_poneli/BFB_Col_FK_11543+1365000124.jpg': 'FBCOO333-13',\n",
       " 'image_dataset/Longitarsus_exsoletus/BFB_Col_FK_10559+1367965148.jpg': 'FBCOP370-13',\n",
       " 'image_dataset/Leucania_comma/BC_ZSM_Lep_28080+1251278148.jpg': 'FBLMV100-09',\n",
       " 'image_dataset/Leucania_stenographa/IMG_0928+1212436870.JPG': 'IMLR046-08',\n",
       " 'image_dataset/Limnophila_poetica/10PROBE-11982+1295448496.jpg': 'JWDCG587-10',\n",
       " 'image_dataset/Macaria_nundinata/02-SRNP-11349-DHJ325684+1365105662.jpg': 'MHAGA681-06',\n",
       " 'image_dataset/Macaria_nundinata/02-SRNP-11349-DHJ325685+1365105662.jpg': 'MHAGA681-06',\n",
       " 'image_dataset/Limnophyes_edwardsi/SOE330+1204146132.jpg': 'MIDGE835-08',\n",
       " 'image_dataset/Leucania_diatrecta/BIOUG04700-C10+1360258606.JPG': 'NSWLP129-13',\n",
       " 'image_dataset/Leucania_diatrecta/IMG_5563+1342810508.jpg': 'PHLCD1703-12',\n",
       " 'image_dataset/Leucania_incognita/CNC_Noctuoidea12900+1168960316.jpg': 'RDNMD568-06',\n",
       " 'image_dataset/Lesmone_griseipennis/CNCLEP_80084+1294760194.jpg': 'RDNMJ556-11',\n",
       " 'image_dataset/Leucania_stenographa/BIOUG04674-A02+1361988008.JPG': 'WALPA3422-13',\n",
       " 'image_dataset/Leucania_cruegeri/BIOUG11096-C09+1393269454.jpg': 'WALPB1586-14',\n",
       " 'image_dataset/Liotryphon_punctulatus/BC-ZSM-HYM-27761-A06+1429045150.jpg': 'BCHYM7606-15',\n",
       " 'image_dataset/Liotryphon_punctulatus/BC-ZSM-HYM-27761-A08+1429045150.jpg': 'BCHYM7608-15',\n",
       " 'image_dataset/Leucania_incognita/06-SRNP-100526_DHJ600526+1144682362.jpg': 'BLPAA527-06',\n",
       " 'image_dataset/Lesmone_gentilis/06-SRNP-104722_DHJ604722+1158070802.jpg': 'BLPAF023-07',\n",
       " 'image_dataset/Lesmone_formularis/06-SRNP-109379_DHJ609379+1199992320.jpg': 'BLPBC356-07',\n",
       " 'image_dataset/Leucania_incognita/07-SRNP-102949_DHJ612913+1178800576.jpg': 'BLPBG130-07',\n",
       " 'image_dataset/Macaria_nundinata/07-SRNP-103975_DHJ613939+1182540928.jpg': 'BLPBH216-07',\n",
       " 'image_dataset/Lesmone_formularis/07-SRNP-108765_DHJ618729+1193088418.jpg': 'BLPCE400-08',\n",
       " 'image_dataset/Leucania_incognita/08-SRNP-105813-DHJ629877+1364925980.jpg': 'BLPDA738-09',\n",
       " 'image_dataset/Lesmone_formularis/08-SRNP-105815-DHJ629879+1364925980.jpg': 'BLPDA740-09',\n",
       " 'image_dataset/Lesmone_formularis/08-SRNP-108972-DHJ633036+1364926696.jpg': 'BLPDE137-09',\n",
       " 'image_dataset/Limodromus_assimilis/ZMUO.004697+1358538914.JPG': 'COLFD707-12',\n",
       " 'image_dataset/Longitarsus_exsoletus/ZMUO.007677+1371668820.JPG': 'COLFG279-13',\n",
       " 'image_dataset/Leucania_comma/BC_ZSM_Lep_21747+1236849076.JPG': 'GWORK417-09',\n",
       " 'image_dataset/Lesmone_griseipennis/IMG_8926+1240847116.JPG': 'IAWL157-09',\n",
       " 'image_dataset/Leucania_incognita/08-SRNP-100147_DHJ624211+1206984216.jpg': 'IBOLG148-08',\n",
       " 'image_dataset/Leucania_stenographa/IMG_7632+1230040976.JPG': 'IMLR869-08',\n",
       " 'image_dataset/Limnophila_poetica/10PROBE-15956+1294323538.jpg': 'JWDCK001-11',\n",
       " 'image_dataset/Leucania_diatrecta/06-NSWE-02051+1144171372.jpg': 'LNSWG171-06',\n",
       " 'image_dataset/Lesmone_gentilis/98-srnp-1172-dhj320236+1140463412.jpg': 'MHAUC587-06',\n",
       " 'image_dataset/Lesmone_gentilis/98-srnp-1172-dhj320237+1140463414.jpg': 'MHAUC587-06',\n",
       " 'image_dataset/Lesmone_gentilis/01-srnp-13194-dhj320242+1140446468.jpg': 'MHAUC590-06',\n",
       " 'image_dataset/Lesmone_gentilis/01-srnp-13194-dhj320243+1140446470.jpg': 'MHAUC590-06',\n",
       " 'image_dataset/Leucania_diatrecta/IMG_5512+1342810166.jpg': 'PHLCD1656-12',\n",
       " 'image_dataset/Lucilia_sericata/IMG_9500+1287587236.jpg': 'TDWGB112-10',\n",
       " 'image_dataset/Leucania_cruegeri/BIOUG18085-A11+1420730468.JPG': 'WALPC1477-14',\n",
       " 'image_dataset/Leucania_diatrecta/10ANIC_08076+1287774416.JPG': 'ANICL079-10',\n",
       " 'image_dataset/Lestica_alata/BC_ZSM_HYM_19856+1384885418.jpg': 'BCHYM1521-14',\n",
       " 'image_dataset/Macaria_nundinata/06-SRNP-108221_DHJ608221+1176732884.jpg': 'BLPBB138-07',\n",
       " 'image_dataset/Macaria_nundinata/07-SRNP-104569_DHJ614533+1183222114.jpg': 'BLPBH810-07',\n",
       " 'image_dataset/Lesmone_gentilis/07-SRNP-112255_DHJ622219+1202911210.jpg': 'BLPCI130-08',\n",
       " 'image_dataset/Lesmone_formularis/08-SRNP-106633-DHJ630697+1364926142.jpg': 'BLPDB618-09',\n",
       " 'image_dataset/Lesmone_formularis/08-SRNP-107606-DHJ631670+1364926368.jpg': 'BLPDC651-09',\n",
       " 'image_dataset/Lesmone_formularis/08-SRNP-108549-DHJ632613+1364926616.jpg': 'BLPDD654-09',\n",
       " 'image_dataset/Limodromus_assimilis/ZMUO.007245+1367984716.JPG': 'COLFE1450-13',\n",
       " 'image_dataset/Lygistopterus_sanguineus/BCZSMCOL01917+1284714504.JPG': 'FBCOC492-10',\n",
       " 'image_dataset/Limnophila_poetica/10PROBE-10786+1295819236.jpg': 'JWDCF531-10',\n",
       " 'image_dataset/Limnophila_poetica/10PROBE-11214+1295823056.jpg': 'JWDCG009-10',\n",
       " 'image_dataset/Limnophila_poetica/10PROBE-11226+1295454720.jpg': 'JWDCG021-10',\n",
       " 'image_dataset/Leucania_diatrecta/06-NSWE-00474+1140210864.jpg': 'LNSWE474-06',\n",
       " 'image_dataset/Leucania_dasycnema/06-NSWE-00519+1140469772.jpg': 'LNSWE519-06',\n",
       " 'image_dataset/Limnophyes_edwardsi/SOE194+1204136606.jpg': 'MIDGE598-08',\n",
       " 'image_dataset/Leucania_stenographa/IMG_6123+1201538736.JPG': 'NSWBB576-08',\n",
       " 'image_dataset/Leucania_diatrecta/IMG_8728+1310587344.jpg': 'PHLCC653-11',\n",
       " 'image_dataset/Leucania_diatrecta/IMG_8029+1343322774.jpg': 'PHLCD2897-12',\n",
       " 'image_dataset/Leucania_diatrecta/IMG_5952+1343061456.jpg': 'PHLCD442-12',\n",
       " 'image_dataset/Leucania_stenographa/IMG_0201+1343659014.jpg': 'PHSAU1905-12',\n",
       " 'image_dataset/Leucania_cruegeri/BIOUG09010-B06+1385999092.jpg': 'WALPB493-13',\n",
       " 'image_dataset/Leucania_cruegeri/BIOUG18347-A07+1422559740.JPG': 'WALPC2004-15',\n",
       " 'image_dataset/Leucania_stenographa/BIOUG17341-E05+1417014308.JPG': 'WALPC433-14',\n",
       " 'image_dataset/Lucilia_sericata/BCFORENSIK0759+1442843062.jpg': 'BCFOR750-15',\n",
       " 'image_dataset/Lesmone_formularis/07-SRNP-105058_DHJ615022+1342713340.jpg': 'BLPCA453-08',\n",
       " 'image_dataset/Lesmone_gentilis/07-SRNP-105513_DHJ615477+1342713376.jpg': 'BLPCA908-08',\n",
       " 'image_dataset/Lesmone_formularis/07-SRNP-107177_DHJ617141+1189007466.jpg': 'BLPCC692-08',\n",
       " 'image_dataset/Lesmone_formularis/08-SRNP-100788_DHJ624852+1214014746.jpg': 'BLPCK695-08',\n",
       " 'image_dataset/Longitarsus_luridus/BC_ZSM_COL_3240+1317126994.jpg': 'FBCOD960-11',\n",
       " 'image_dataset/Lestica_alata/BC_ZSM_HYM_17662+1363019146.jpg': 'GBACU3412-13',\n",
       " 'image_dataset/Limodromus_assimilis/GBOL_Col_FK_7293+1378227750.jpg': 'GBCOU2638-13',\n",
       " 'image_dataset/Lesmone_formularis/BC_ZSM_Lep_52668+1317748680.JPG': 'GWOSU367-11',\n",
       " 'image_dataset/Limnophila_poetica/10PROBE-10250+1289932170.jpg': 'JWDCE945-10',\n",
       " 'image_dataset/Limnophila_poetica/10PROBE-11218+1295454456.jpg': 'JWDCG013-10',\n",
       " 'image_dataset/Limnophyes_edwardsi/SOE313+1204146108.jpg': 'MIDGE818-08',\n",
       " 'image_dataset/Limnophyes_edwardsi/SOE367+1204146172.jpg': 'MIDGE872-08',\n",
       " 'image_dataset/Limnophyes_edwardsi/SOE375+1204146180.jpg': 'MIDGE880-08',\n",
       " 'image_dataset/Leucania_dasycnema/IMG_6192+1201538780.JPG': 'NSWBB629-08',\n",
       " 'image_dataset/Leucania_diatrecta/BIOUG04673-H07+1361556342.JPG': 'WALPA3416-13',\n",
       " 'image_dataset/Leucania_cruegeri/BIOUG04674-A10+1361987450.JPG': 'WALPA3430-13',\n",
       " 'image_dataset/Leucania_cruegeri/BIOUG04674-B02+1361988428.jpg': 'WALPA3434-13',\n",
       " 'image_dataset/Leucania_diatrecta/BIOUG04674-D02+1361981810.JPG': 'WALPA3458-13',\n",
       " 'image_dataset/Leucania_diatrecta/BIOUG04036-E09+1353944126.JPG': 'WALPA437-12',\n",
       " 'image_dataset/Leucania_diatrecta/IMG_5695+1365100606.jpg': 'WALPA5336-13',\n",
       " 'image_dataset/Leucania_cruegeri/bioug10399-c02+1391091948.jpg': 'WALPB1389-14',\n",
       " 'image_dataset/Leucania_cruegeri/BIOUG11096-A05+1393013168.JPG': 'WALPB1558-14',\n",
       " 'image_dataset/Leucania_cruegeri/BIOUG18346-D02+1421460240.JPG': 'WALPB5737-15',\n",
       " 'image_dataset/Leucania_incognita/06-SRNP-100456_DHJ600456+1144266766.jpg': 'BLPAA457-06',\n",
       " 'image_dataset/Macaria_nundinata/06-SRNP-100677_DHJ600677+1145477852.jpg': 'BLPAA678-06',\n",
       " 'image_dataset/Macaria_nundinata/06-SRNP-105767_DHJ605767+1201560780.jpg': 'BLPAG128-07',\n",
       " 'image_dataset/Lesmone_formularis/07-SRNP-101377_DHJ611341+1174583622.jpg': 'BLPBE438-07',\n",
       " 'image_dataset/Macaria_nundinata/07-SRNP-103089_DHJ613053+1178899554.jpg': 'BLPBG270-07',\n",
       " 'image_dataset/Macaria_nundinata/07-SRNP-103976_DHJ613940+1182540976.jpg': 'BLPBH217-07',\n",
       " 'image_dataset/Macaria_nundinata/07-SRNP-104572_DHJ614536+1183222374.jpg': 'BLPBH813-07',\n",
       " 'image_dataset/Leucania_incognita/07-SRNP-105092_DHJ615056+1342713342.jpg': 'BLPCA487-08',\n",
       " 'image_dataset/Lesmone_formularis/08-SRNP-100787_DHJ624851+1214014736.jpg': 'BLPCK694-08',\n",
       " 'image_dataset/Lesmone_formularis/08-SRNP-108980-DHJ633044+1364926698.jpg': 'BLPDE145-09',\n",
       " 'image_dataset/Leucania_comma/IMG_0679+1238437882.JPG': 'CGUKA278-09',\n",
       " 'image_dataset/Lesmone_griseipennis/IMG_0192+1264526292.JPG': 'CMAZA110-09',\n",
       " 'image_dataset/Lygistopterus_sanguineus/IMG_4109+1272649098.JPG': 'COLFA125-10',\n",
       " 'image_dataset/Limodromus_assimilis/ZMUO.004698+1358538920.JPG': 'COLFD708-12',\n",
       " 'image_dataset/Limodromus_assimilis/BCZSMCOL00716+1280932188.JPG': 'FBCOA811-10',\n",
       " 'image_dataset/Longitarsus_exsoletus/GBOL_Col_FK_2596+1365437646.jpg': 'GBCOD696-13',\n",
       " 'image_dataset/Limonius_poneli/GBOL_Col_FK_5210+1362439190.jpg': 'GBCOE840-13',\n",
       " 'image_dataset/Lygistopterus_sanguineus/GBOL_Col_FK_7126+1378220210.jpg': 'GBCOU2471-13',\n",
       " 'image_dataset/Lygistopterus_sanguineus/GBOL_Col_FK_7242+1378150452.jpg': 'GBCOU2587-13',\n",
       " 'image_dataset/Leucania_dasycnema/BIOUG04700-F01+1360259642.JPG': 'NSWLP156-13',\n",
       " 'image_dataset/Leucania_diatrecta/IMG_4141+1314038296.JPG': 'PHLCC941-11',\n",
       " 'image_dataset/Leucania_diatrecta/IMG_6010+1343061910.jpg': 'PHLCD495-12',\n",
       " 'image_dataset/Leucania_cruegeri/BIOUG11096-B09+1393249962.JPG': 'WALPB1574-14',\n",
       " 'image_dataset/Leucania_cruegeri/BIOUG12059-D05+1399987110.JPG': 'WALPB2354-14',\n",
       " 'image_dataset/Leucania_cruegeri/10ANIC_08057+1288052586.jpg': 'ANICL060-10',\n",
       " 'image_dataset/Lestica_alata/BC_ZSM_HYM_24215+1440710108.jpg': 'BCHYM11105-15',\n",
       " 'image_dataset/Lesmone_gentilis/06-SRNP-104413_DHJ604413+1197404880.jpg': 'BLPAE654-06',\n",
       " 'image_dataset/Lesmone_formularis/06-SRNP-109380_DHJ609380+1199992320.jpg': 'BLPBC357-07',\n",
       " 'image_dataset/Lesmone_formularis/08-SRNP-100213_DHJ624277+1213750566.jpg': 'BLPCK120-08',\n",
       " 'image_dataset/Leucania_incognita/08-SRNP-105857-DHJ629921+1364925982.jpg': 'BLPDA782-09',\n",
       " 'image_dataset/Leucania_incognita/08-SRNP-108969-DHJ633033+1364926696.jpg': 'BLPDE134-09',\n",
       " 'image_dataset/Leucania_comma/IMG_0827+1238692380.JPG': 'CGUKB174-09',\n",
       " 'image_dataset/Limnophyes_edwardsi/Fi300+1346872788.jpg': 'CHRFI340-11',\n",
       " 'image_dataset/Lochmaea_caprea/ZMUO.000510+1328285376.JPG': 'COLFA470-12',\n",
       " 'image_dataset/Longitarsus_exsoletus/ZMUO.007301+1367984902.JPG': 'COLFE1506-13',\n",
       " 'image_dataset/Lestica_alata/BC_ZSM_HYM_04414+1309803780.jpg': 'FBACA139-10',\n",
       " 'image_dataset/Longitarsus_luridus/BFB_Col_FK_5921+1333039222.jpg': 'FBCOH602-12',\n",
       " 'image_dataset/Limodromus_assimilis/BFB_Col_FK_8552+1336510680.jpg': 'FBCOI572-12',\n",
       " 'image_dataset/Limonius_poneli/BFB_Col_FK_10749+1366479986.jpg': 'FBCON204-13',\n",
       " 'image_dataset/Limnophila_poetica/10PROBE-11981+1295448434.jpg': 'JWDCG586-10',\n",
       " 'image_dataset/Lesmone_gentilis/06-SRNP-15258-DHJ366096+1220035076.jpg': 'MHAUG704-07',\n",
       " 'image_dataset/Lesmone_gentilis/06-SRNP-15258-DHJ366097+1220035076.jpg': 'MHAUG704-07',\n",
       " 'image_dataset/Leucania_stenographa/IMG_6679+1201791116.JPG': 'NSWBB926-08',\n",
       " 'image_dataset/Leucania_stenographa/IMG_6680+1201791118.JPG': 'NSWBB927-08',\n",
       " 'image_dataset/Leucania_dasycnema/IMG_4680+1304443164.JPG': 'NSWHM1670-11',\n",
       " 'image_dataset/Leucania_comma/CNC_Noctuoidea12694+1155844564.jpg': 'RDNMD362-06',\n",
       " 'image_dataset/Leucania_diatrecta/BIOUG04673-H09+1361556208.JPG': 'WALPA3418-13',\n",
       " 'image_dataset/Leucania_stenographa/BIOUG04674-A01+1361976510.JPG': 'WALPA3421-13',\n",
       " 'image_dataset/Leucania_diatrecta/BIOUG04674-C09+1361982224.JPG': 'WALPA3453-13',\n",
       " 'image_dataset/Liotryphon_punctulatus/BC-ZSM-HYM-27761-B06+1429045154.jpg': 'BCHYM7618-15',\n",
       " 'image_dataset/Leucania_incognita/06-SRNP-100183_DHJ600183+1140706126.jpg': 'BLPAA184-06',\n",
       " 'image_dataset/Lesmone_formularis/06-SRNP-109867_DHJ609867+1199992380.jpg': 'BLPBC844-07',\n",
       " 'image_dataset/Lesmone_formularis/07-SRNP-111774_DHJ621738+1202143986.jpg': 'BLPCH589-08',\n",
       " 'image_dataset/Lesmone_formularis/08-SRNP-108546-DHJ632610+1364926616.jpg': 'BLPDD651-09',\n",
       " 'image_dataset/Lochmaea_caprea/ZMUO.005441+1360618270.JPG': 'COLFE596-13',\n",
       " 'image_dataset/Litargus_connexus/BFB_Col_FK_7320+1337469718.jpg': 'FBCOI860-12',\n",
       " 'image_dataset/Longitarsus_exsoletus/BFB_Col_FK_10412+1367955774.jpg': 'FBCOQ152-13',\n",
       " 'image_dataset/Litargus_connexus/GBOL_Col_FK_1027+1341161928.jpg': 'GBCOB457-12',\n",
       " 'image_dataset/Litargus_connexus/GBOL_Col_FK_2805+1348852284.jpg': 'GBCOL240-12',\n",
       " 'image_dataset/Lesmone_formularis/IMG_3929+1277826214.jpg': 'INCTA242-10',\n",
       " 'image_dataset/Lesmone_griseipennis/IMG_2881+1243359652.JPG': 'LMEMB210-09',\n",
       " 'image_dataset/Leucania_diatrecta/06-NSWE-00504+1140442078.jpg': 'LNSWE504-06',\n",
       " 'image_dataset/Leucania_diatrecta/06-NSWE-01368+1142281266.jpg': 'LNSWF428-06',\n",
       " 'image_dataset/Lesmone_gentilis/97-srnp-238-dhj320238+1140463100.jpg': 'MHAUC588-06',\n",
       " 'image_dataset/Lesmone_gentilis/97-srnp-238-dhj320239+1140463102.jpg': 'MHAUC588-06',\n",
       " 'image_dataset/Lesmone_formularis/06-SRNP-47-DHJ409313+1365550100.jpg': 'MHMXD729-06',\n",
       " 'image_dataset/Lesmone_formularis/06-SRNP-47-DHJ409321+1365550100.jpg': 'MHMXD729-06',\n",
       " 'image_dataset/Lesmone_formularis/06-SRNP-47-DHJ409319+1365550100.jpg': 'MHMXD729-06',\n",
       " 'image_dataset/Lesmone_formularis/06-SRNP-47-DHJ409322+1365550100.jpg': 'MHMXD729-06',\n",
       " 'image_dataset/Lesmone_formularis/06-SRNP-47-DHJ344896+1365545444.jpg': 'MHMXD729-06',\n",
       " 'image_dataset/Lesmone_formularis/06-SRNP-47-DHJ344897+1365545444.jpg': 'MHMXD729-06',\n",
       " 'image_dataset/Lesmone_formularis/06-SRNP-47-DHJ409314+1365550100.jpg': 'MHMXD729-06',\n",
       " 'image_dataset/Lesmone_formularis/06-SRNP-47-DHJ409315+1365550100.jpg': 'MHMXD729-06',\n",
       " 'image_dataset/Lesmone_formularis/06-SRNP-47-DHJ409320+1365550100.jpg': 'MHMXD729-06',\n",
       " 'image_dataset/Lesmone_formularis/06-SRNP-47-DHJ409316+1365550100.jpg': 'MHMXD729-06',\n",
       " 'image_dataset/Lesmone_formularis/06-SRNP-47-DHJ409318+1365550100.jpg': 'MHMXD729-06',\n",
       " 'image_dataset/Lesmone_formularis/06-SRNP-47-DHJ409317+1365550100.jpg': 'MHMXD729-06',\n",
       " 'image_dataset/Limnophyes_edwardsi/SOE193+1204136606.jpg': 'MIDGE597-08',\n",
       " 'image_dataset/Limnophyes_edwardsi/SOE354+1204149762.jpg': 'MIDGE859-08',\n",
       " 'image_dataset/Leucania_dasycnema/BIOUG04701-C04+1360245532.jpg': 'NSWLP218-13',\n",
       " 'image_dataset/Leucania_comma/TLMF_Lep_09226+1364238082.JPG': 'PHLAI663-13',\n",
       " 'image_dataset/Lesmone_griseipennis/CNCLEP_70141_resize+1294762790.jpg': 'RDNMJ113-10',\n",
       " 'image_dataset/Lucilia_sericata/IMG_6668+1252418876.JPG': 'USDIP248-09',\n",
       " 'image_dataset/Leucania_diatrecta/BIOUG04674-C11+1361982056.JPG': 'WALPA3455-13',\n",
       " 'image_dataset/Leucania_diatrecta/BIOUG04674-E09+1361980492.JPG': 'WALPA3477-13',\n",
       " 'image_dataset/Leucania_cruegeri/BIOUG11099-F08+1393533220.jpg': 'WALPB1906-14',\n",
       " 'image_dataset/Lesmone_formularis/BC_ZSM_Lep_32214+1259931158.JPG': 'GWORR718-10',\n",
       " 'image_dataset/Leucania_diatrecta/B-0167_E02+1191561138.jpg': 'LNSWC654-08',\n",
       " 'image_dataset/Leucania_diatrecta/06-NSWE-02179+1144333382.jpg': 'LNSWG299-06',\n",
       " 'image_dataset/Leucania_dasycnema/IMG_6232+1201544010.JPG': 'NSWBB473-08',\n",
       " 'image_dataset/Eublemma_anachoresis/10ANIC_06760+1287792298.jpg': 'ANICJ763-10',\n",
       " 'image_dataset/Ethmia_hammella/INB0004238426-EPR000284+1327348798.JPG': 'ASARD142-11',\n",
       " 'image_dataset/Ethmia_laphamorum/06-SRNP-104469_DHJ604469+1197404880.jpg': 'BLPAE710-06',\n",
       " 'image_dataset/Ethmia_mnesicosma/06-SRNP-105503_DHJ605503+1159370338.jpg': 'BLPAF804-07',\n",
       " 'image_dataset/Ethmia_scythropa/07-SRNP-109612_DHJ619576+1199756248.jpg': 'BLPCF307-08',\n",
       " 'image_dataset/Ethmia_miriamschulmanae/07-SRNP-113409_DHJ623373+1203966232.jpg': 'BLPCJ344-08',\n",
       " 'image_dataset/Ethmia_scythropa/07-SRNP-114003_DHJ623967+1204651900.jpg': 'BLPCJ938-08',\n",
       " 'image_dataset/Ethmia_scythropa/08-SRNP-100234_DHJ624298+1213752552.jpg': 'BLPCK141-08',\n",
       " 'image_dataset/Ethmia_hammella/10-SRNP-102165-DHJ647040+1364927516.jpg': 'BLPDN1990-10',\n",
       " 'image_dataset/Ethmia_stephenrumseyi/10-SRNP-109721_DHJ654596+1309192516.jpg': 'BLPDU299-11',\n",
       " 'image_dataset/Ethmia_stephenrumseyi/10-SRNP-109721_DHJ654596+1309874362.jpg': 'BLPDU299-11',\n",
       " 'image_dataset/Ethmia_scythropa/10-SRNP-110183_DHJ655058+1309192642.jpg': 'BLPDU761-11',\n",
       " 'image_dataset/Ethmia_stephenrumseyi/10-SRNP-111507_DHJ656382+1309193104.jpg': 'BLPDV850-11',\n",
       " 'image_dataset/Ethmia_stephenrumseyi/10-SRNP-111507_DHJ656382+1309874930.jpg': 'BLPDV850-11',\n",
       " 'image_dataset/Ethmia_hammella/10-SRNP-113520_DHJ658395+1309896702.jpg': 'BLPDX393-11',\n",
       " 'image_dataset/Ethmia_mnesicosma/10-SRNP-115642_DHJ660517+1309189958.jpg': 'BLPDZ235-11',\n",
       " 'image_dataset/Ethmia_laphamorum/11-SRNP-103375_DHJ664045+1349455162.jpg': 'BLPEC818-11',\n",
       " 'image_dataset/Ethmia_helenmillerae/11-SRNP-103735-DHJ664405+1332184876.jpg': 'BLPED133-11',\n",
       " 'image_dataset/Ethmia_helenmillerae/11-SRNP-103737-DHJ664407+1332184878.jpg': 'BLPED135-11',\n",
       " 'image_dataset/Ethmia_laphamorum/11-SRNP-105666-DHJ666336+1331927914.JPG': 'BLPED2064-12',\n",
       " 'image_dataset/Ethmia_helenmillerae/11-SRNP-103886-DHJ664556+1332184894.jpg': 'BLPED284-11',\n",
       " 'image_dataset/Ethmia_hammella/11-SRNP-104212-DHJ664882+1332185326.jpg': 'BLPED610-11',\n",
       " 'image_dataset/Ethmia_randyjonesi/12-SRNP-103634-DHJ670567+1364927922.JPG': 'BLPEF1450-12',\n",
       " 'image_dataset/Ethmia_lichyi/04-SRNP-27125-DHJ338874+1365544654.jpg': 'MHAYA162-06',\n",
       " 'image_dataset/Ethmia_lichyi/04-SRNP-27125-DHJ338875+1365544654.jpg': 'MHAYA162-06',\n",
       " 'image_dataset/Ethmia_lichyi/06-SRNP-30891-DHJ349992+1175950414.jpg': 'MHMXD1155-06',\n",
       " 'image_dataset/Ethmia_lichyi/06-SRNP-30891-DHJ349993+1175950416.jpg': 'MHMXD1155-06',\n",
       " 'image_dataset/Eublemma_anachoresis/BIOUG08827-F02+1385143606.jpg': 'WALPB157-13',\n",
       " 'image_dataset/Eublemma_anachoresis/10ANIC_06758+1287792254.jpg': 'ANICJ761-10',\n",
       " 'image_dataset/Ethmia_hammella/INB0004263678-EPR000744+1327350036.JPG': 'ASARD371-11',\n",
       " 'image_dataset/Ethmia_randyjonesi/07-SRNP-106731_DHJ616695+1188328198.jpg': 'BLPCC246-08',\n",
       " 'image_dataset/Ethmia_randyjonesi/07-SRNP-108189_DHJ618153+1191609782.jpg': 'BLPCD764-08',\n",
       " 'image_dataset/Ethmia_scythropa/07-SRNP-110890_DHJ620854+1200676246.jpg': 'BLPCG645-08',\n",
       " 'image_dataset/Ethmia_laphamorum/07-SRNP-112628_DHJ622592+1203104624.jpg': 'BLPCI503-08',\n",
       " 'image_dataset/Ethmia_scythropa/08-SRNP-104018_DHJ628082+1221834780.jpg': 'BLPCO541-08',\n",
       " 'image_dataset/Ethmia_laphamorum/08-SRNP-109049-DHJ633113+1364926788.jpg': 'BLPDE214-09',\n",
       " 'image_dataset/Ethmia_helenmillerae/09-SRNP-105790_DHJ639025+1249396338.jpg': 'BLPDK862-09',\n",
       " 'image_dataset/Ethmia_scythropa/09-SRNP-110356-DHJ643591+1364927002.jpg': 'BLPDM979-10',\n",
       " 'image_dataset/Ethmia_hammella/10-SRNP-105838_DHJ650713+1274825866.jpg': 'BLPDR213-10',\n",
       " 'image_dataset/Ethmia_scythropa/10-SRNP-106843_DHJ651718+1275663812.jpg': 'BLPDS219-10',\n",
       " 'image_dataset/Ethmia_hammella/10-SRNP-113600_DHJ658475+1309896806.jpg': 'BLPDX473-11',\n",
       " 'image_dataset/Ethmia_scythropa/11-SRNP-100048_DHJ660718+1309185556.jpg': 'BLPDZ436-11',\n",
       " 'image_dataset/Ethmia_laphamorum/11-SRNP-103376_DHJ664046+1349455162.jpg': 'BLPEC819-11',\n",
       " 'image_dataset/Ethmia_laphamorum/11-SRNP-105836-DHJ666506+1331928312.JPG': 'BLPED2234-12',\n",
       " 'image_dataset/Ethmia_laphamorum/11-SRNP-106004-DHJ666674+1331928330.JPG': 'BLPED2402-12',\n",
       " 'image_dataset/Ethmia_miriamschulmanae/11-SRNP-106210-DHJ666880+1331928354.JPG': 'BLPED2608-12',\n",
       " 'image_dataset/Ethmia_miriamschulmanae/11-SRNP-104250-DHJ664920+1332185332.JPG': 'BLPED648-11',\n",
       " 'image_dataset/Ethmia_randyjonesi/12-SRNP-101658-DHJ668591+1344956436.JPG': 'BLPEE1659-12',\n",
       " 'image_dataset/Ethmia_randyjonesi/12-SRNP-102378-DHJ669311+1364927618.JPG': 'BLPEF194-12',\n",
       " 'image_dataset/Eublemma_anachoresis/IM10_0120+1304430978.JPG': 'IMLR1339-11',\n",
       " 'image_dataset/Ethmia_lichyi/06-SRNP-5344-DHJ354386+1175950442.jpg': 'MHMXF078-07',\n",
       " 'image_dataset/Ethmia_lichyi/09-SRNP-4051-DHJ513093+1260287102.jpg': 'MHMYE1621-09',\n",
       " 'image_dataset/Ethmia_laphamorum/06-SRNP-104470_DHJ604470+1197404880.jpg': 'BLPAE711-06',\n",
       " 'image_dataset/Ethmia_laphamorum/07-SRNP-112633_DHJ622597+1203104738.jpg': 'BLPCI508-08',\n",
       " 'image_dataset/Ethmia_scythropa/09-SRNP-101597_DHJ634832+1237060028.jpg': 'BLPDG053-09',\n",
       " 'image_dataset/Ethmia_miriamschulmanae/09-SRNP-109301_DHJ642536+1257439180.jpg': 'BLPDL1919-10',\n",
       " 'image_dataset/Ethmia_laphamorum/09-SRNP-111111-DHJ644346+1364927130.jpg': 'BLPDM1734-10',\n",
       " 'image_dataset/Ethmia_laphamorum/09-SRNP-111287-DHJ644522+1364927208.jpg': 'BLPDM1910-10',\n",
       " 'image_dataset/Ethmia_laphamorum/09-SRNP-110090-DHJ643325+1364926994.jpg': 'BLPDM713-10',\n",
       " 'image_dataset/Ethmia_hammella/10-SRNP-102880-DHJ647755+1268259300.jpg': 'BLPDO298-10',\n",
       " 'image_dataset/Ethmia_scythropa/10-SRNP-111815_DHJ656690+1309193216.jpg': 'BLPDV1158-11',\n",
       " 'image_dataset/Ethmia_scythropa/10-SRNP-111815_DHJ656690+1309875040.jpg': 'BLPDV1158-11',\n",
       " 'image_dataset/Ethmia_hammella/10-SRNP-111904_DHJ656779+1309193218.jpg': 'BLPDW012-11',\n",
       " 'image_dataset/Ethmia_hammella/10-SRNP-111904_DHJ656779+1309875044.jpg': 'BLPDW012-11',\n",
       " 'image_dataset/Ethmia_scythropa/11-SRNP-101557_DHJ662227+1303239860.jpg': 'BLPEB045-11',\n",
       " 'image_dataset/Ethmia_scythropa/11-SRNP-102528_DHJ663198+1305594420.jpg': 'BLPEB1016-11',\n",
       " 'image_dataset/Ethmia_hammella/11-SRNP-101729_DHJ662399+1303327400.jpg': 'BLPEB217-11',\n",
       " 'image_dataset/Ethmia_laphamorum/11-SRNP-103377_DHJ664047+1349455162.jpg': 'BLPEC820-11',\n",
       " 'image_dataset/Ethmia_laphamorum/11-SRNP-103655-DHJ664325+1332184486.jpg': 'BLPED053-11',\n",
       " 'image_dataset/Ethmia_laphamorum/11-SRNP-105730-DHJ666400+1331927922.JPG': 'BLPED2128-12',\n",
       " 'image_dataset/Ethmia_laphamorum/11-SRNP-105761-DHJ666431+1331927924.JPG': 'BLPED2159-12',\n",
       " 'image_dataset/Ethmia_miriamschulmanae/11-SRNP-105769-DHJ666439+1331927926.JPG': 'BLPED2167-12',\n",
       " 'image_dataset/Ethmia_laphamorum/11-SRNP-106187-DHJ666857+1331928350.JPG': 'BLPED2585-12',\n",
       " 'image_dataset/Ethmia_randyjonesi/12-SRNP-103633-DHJ670566+1364927922.JPG': 'BLPEF1449-12',\n",
       " 'image_dataset/Ethmia_scythropa/05-SRNP-22123-DHJ338833+1365544650.jpg': 'MHAYA141-06',\n",
       " 'image_dataset/Ethmia_scythropa/05-SRNP-22123-DHJ338832+1365544650.jpg': 'MHAYA141-06',\n",
       " 'image_dataset/Ethmia_scythropa/05-SRNP-22638-DHJ338835+1365544652.jpg': 'MHAYA142-06',\n",
       " 'image_dataset/Ethmia_scythropa/05-SRNP-22638-DHJ338834+1365544652.jpg': 'MHAYA142-06',\n",
       " 'image_dataset/Ethmia_lichyi/05-SRNP-3596-DHJ338873+1365544652.jpg': 'MHAYA161-06',\n",
       " 'image_dataset/Ethmia_lichyi/05-SRNP-3596-DHJ338872+1365544652.jpg': 'MHAYA161-06',\n",
       " 'image_dataset/Eublemma_anachoresis/BIOUG18084-B05+1420765080.JPG': 'WALPC1388-14',\n",
       " 'image_dataset/Ethmia_hammella/INB0004238425-EPR000282+1327348798.JPG': 'ASARD141-11',\n",
       " 'image_dataset/Ethmia_hammella/INB0003230769-EPR000355+1327348772.JPG': 'ASARD177-11',\n",
       " 'image_dataset/Ethmia_hammella/INB0003230769-EPR000354+1327348772.JPG': 'ASARD177-11',\n",
       " 'image_dataset/Ethmia_laphamorum/06-SRNP-100149_DHJ600149+1140706032.jpg': 'BLPAA150-06',\n",
       " 'image_dataset/Ethmia_scythropa/06-SRNP-109030_DHJ609030+1199992260.jpg': 'BLPBC007-07',\n",
       " 'image_dataset/Ethmia_lichyi/07-SRNP-100482_DHJ610446+1179495268.jpg': 'BLPBD483-07',\n",
       " 'image_dataset/Ethmia_scythropa/07-SRNP-108184_DHJ618148+1191609524.jpg': 'BLPCD759-08',\n",
       " 'image_dataset/Ethmia_helenmillerae/09-SRNP-104289_DHJ637524+1244134480.JPG': 'BLPDI857-09',\n",
       " 'image_dataset/Ethmia_laphamorum/09-SRNP-104660_DHJ637895+1245342536.JPG': 'BLPDJ278-09',\n",
       " 'image_dataset/Ethmia_helenmillerae/09-SRNP-104719_DHJ637954+1245428358.JPG': 'BLPDJ337-09',\n",
       " 'image_dataset/Ethmia_miriamschulmanae/09-SRNP-104889_DHJ638124+1245688444.JPG': 'BLPDJ507-09',\n",
       " 'image_dataset/Ethmia_helenmillerae/09-SRNP-105816_DHJ639051+1249398758.jpg': 'BLPDK888-09',\n",
       " 'image_dataset/Ethmia_scythropa/09-SRNP-110525-DHJ643760+1364927008.jpg': 'BLPDM1148-10',\n",
       " 'image_dataset/Ethmia_hammella/10-SRNP-102291-DHJ647166+1364927520.jpg': 'BLPDN2116-10',\n",
       " 'image_dataset/Ethmia_hammella/10-SRNP-102373-DHJ647248+1364927524.jpg': 'BLPDN2198-10',\n",
       " 'image_dataset/Ethmia_stephenrumseyi/10-SRNP-111148_DHJ656023+1309192990.jpg': 'BLPDV491-11',\n",
       " 'image_dataset/Ethmia_stephenrumseyi/10-SRNP-111148_DHJ656023+1309874820.jpg': 'BLPDV491-11',\n",
       " 'image_dataset/Ethmia_hammella/10-SRNP-111207_DHJ656082+1309192992.jpg': 'BLPDV550-11',\n",
       " 'image_dataset/Ethmia_hammella/10-SRNP-111207_DHJ656082+1309874822.jpg': 'BLPDV550-11',\n",
       " 'image_dataset/Ethmia_mnesicosma/11-SRNP-100967_DHJ661637+1301420748.jpg': 'BLPEA500-11',\n",
       " 'image_dataset/Ethmia_scythropa/11-SRNP-102657_DHJ663327+1305681494.jpg': 'BLPEC100-11',\n",
       " 'image_dataset/Ethmia_miriamschulmanae/11-SRNP-103439_DHJ664109+1349455212.jpg': 'BLPEC882-11',\n",
       " 'image_dataset/Ethmia_miriamschulmanae/11-SRNP-106115-DHJ666785+1331928342.JPG': 'BLPED2513-12',\n",
       " 'image_dataset/Ethmia_helenmillerae/11-SRNP-103910-DHJ664580+1332184898.jpg': 'BLPED308-11',\n",
       " 'image_dataset/Ethmia_lichyi/06-SRNP-30714-DHJ338552+1365544650.jpg': 'MHAYA001-06',\n",
       " 'image_dataset/Ethmia_lichyi/06-SRNP-30714-DHJ338553+1365544650.jpg': 'MHAYA001-06',\n",
       " 'image_dataset/Ethmia_lichyi/06-SRNP-34073-DHJ354388+1175950424.jpg': 'MHMXF080-07',\n",
       " 'image_dataset/Ethmia_mnesicosma/06-SRNP-16419-DHJ354402+1175950412.jpg': 'MHMXF094-07',\n",
       " 'image_dataset/Ethmia_lichyi/09-SRNP-23038-DHJ520140+1274984246.jpg': 'MHMYG2174-10',\n",
       " 'image_dataset/Ethmia_lichyi/09-SRNP-23038-DHJ520141+1274984328.jpg': 'MHMYG2174-10',\n",
       " 'image_dataset/Ethmia_stephenrumseyi/INB0004078533-EPR000359+1327348780.JPG': 'ASARD179-11',\n",
       " 'image_dataset/Ethmia_stephenrumseyi/INB0004078533-EPR000358+1327348780.JPG': 'ASARD179-11',\n",
       " 'image_dataset/Ethmia_laphamorum/06-SRNP-105501_DHJ605501+1159370306.jpg': 'BLPAF802-07',\n",
       " 'image_dataset/Ethmia_scythropa/07-SRNP-101025_DHJ610989+1173901934.jpg': 'BLPBE086-07',\n",
       " 'image_dataset/Ethmia_scythropa/07-SRNP-108185_DHJ618149+1191609574.jpg': 'BLPCD760-08',\n",
       " 'image_dataset/Ethmia_laphamorum/07-SRNP-112630_DHJ622594+1203104670.jpg': 'BLPCI505-08',\n",
       " 'image_dataset/Ethmia_laphamorum/09-SRNP-104516_DHJ637751+1245247532.JPG': 'BLPDJ134-09',\n",
       " 'image_dataset/Ethmia_mnesicosma/09-SRNP-109244_DHJ642479+1257370938.jpg': 'BLPDL1862-10',\n",
       " 'image_dataset/Ethmia_hammella/10-SRNP-106845_DHJ651720+1275663882.jpg': 'BLPDS221-10',\n",
       " 'image_dataset/Ethmia_scythropa/10-SRNP-109720_DHJ654595+1309192516.jpg': 'BLPDU298-11',\n",
       " 'image_dataset/Ethmia_scythropa/10-SRNP-109720_DHJ654595+1309874362.jpg': 'BLPDU298-11',\n",
       " 'image_dataset/Ethmia_stephenrumseyi/10-SRNP-111813_DHJ656688+1309193216.jpg': 'BLPDV1156-11',\n",
       " 'image_dataset/Ethmia_stephenrumseyi/10-SRNP-111813_DHJ656688+1309875040.jpg': 'BLPDV1156-11',\n",
       " 'image_dataset/Ethmia_stephenrumseyi/10-SRNP-112268_DHJ657143+1309896330.jpg': 'BLPDW376-11',\n",
       " 'image_dataset/Ethmia_stephenrumseyi/10-SRNP-112268_DHJ657143+1309806226.jpg': 'BLPDW376-11',\n",
       " 'image_dataset/Ethmia_hammella/11-SRNP-101563_DHJ662233+1303240226.jpg': 'BLPEB051-11',\n",
       " 'image_dataset/Ethmia_hammella/11-SRNP-102115_DHJ662785+1303919858.jpg': 'BLPEB603-11',\n",
       " 'image_dataset/Ethmia_hammella/11-SRNP-102974_DHJ663644+1305828322.jpg': 'BLPEC417-11',\n",
       " 'image_dataset/Ethmia_helenmillerae/11-SRNP-103509_DHJ664179+1349455212.jpg': 'BLPEC952-11',\n",
       " 'image_dataset/Ethmia_helenmillerae/11-SRNP-103734-DHJ664404+1332184876.jpg': 'BLPED132-11',\n",
       " 'image_dataset/Ethmia_miriamschulmanae/11-SRNP-105569-DHJ666239+1331927902.JPG': 'BLPED1967-12',\n",
       " 'image_dataset/Ethmia_laphamorum/11-SRNP-105665-DHJ666335+1331927914.JPG': 'BLPED2063-12',\n",
       " 'image_dataset/Ethmia_helenmillerae/11-SRNP-103927-DHJ664597+1332184900.jpg': 'BLPED325-11',\n",
       " 'image_dataset/Ethmia_miriamschulmanae/12-SRNP-102025-DHJ668958+1344956490.JPG': 'BLPEE2026-12',\n",
       " 'image_dataset/Ethmia_randyjonesi/12-SRNP-103635-DHJ670568+1364927922.JPG': 'BLPEF1451-12',\n",
       " 'image_dataset/Ethmia_scythropa/05-SRNP-22148-DHJ338824+1365544650.jpg': 'MHAYA137-06',\n",
       " 'image_dataset/Ethmia_scythropa/05-SRNP-22148-DHJ338825+1365544650.jpg': 'MHAYA137-06',\n",
       " 'image_dataset/Ethmia_scythropa/06-SRNP-31571-DHJ354380+1175950422.jpg': 'MHMXF072-07',\n",
       " 'image_dataset/Ethmia_lichyi/06-SRNP-5343-DHJ354391+1175950440.jpg': 'MHMXF083-07',\n",
       " 'image_dataset/Eublemma_anachoresis/BIOUG18346-A01+1421460240.JPG': 'WALPB5700-15',\n",
       " 'image_dataset/Ethmia_hammella/INB0004263681-EPR000750+1327350040.JPG': 'ASARD374-11',\n",
       " 'image_dataset/Ethmia_scythropa/07-SRNP-100481_DHJ610445+1179495200.jpg': 'BLPBD482-07',\n",
       " 'image_dataset/Ethmia_laphamorum/07-SRNP-105354_DHJ615318+1342713374.jpg': 'BLPCA749-08',\n",
       " 'image_dataset/Ethmia_laphamorum/07-SRNP-112632_DHJ622596+1203104718.jpg': 'BLPCI507-08',\n",
       " 'image_dataset/Ethmia_laphamorum/08-SRNP-108647-DHJ632711+1364926686.jpg': 'BLPDD752-09',\n",
       " 'image_dataset/Ethmia_laphamorum/09-SRNP-104659_DHJ637894+1245342296.JPG': 'BLPDJ277-09',\n",
       " 'image_dataset/Ethmia_helenmillerae/09-SRNP-104718_DHJ637953+1245427868.JPG': 'BLPDJ336-09',\n",
       " 'image_dataset/Ethmia_helenmillerae/09-SRNP-107864_DHJ641099+1252772582.jpg': 'BLPDL482-10',\n",
       " 'image_dataset/Ethmia_helenmillerae/09-SRNP-107963_DHJ641198+1254839108.jpg': 'BLPDL581-10',\n",
       " 'image_dataset/Ethmia_hammella/10-SRNP-106253_DHJ651128+1274989924.jpg': 'BLPDR628-10',\n",
       " 'image_dataset/Ethmia_lichyi/10-SRNP-109148_DHJ654023+1309969248.jpg': 'BLPDT1721-10',\n",
       " 'image_dataset/Ethmia_stephenrumseyi/10-SRNP-111145_DHJ656020+1309192990.jpg': 'BLPDV488-11',\n",
       " 'image_dataset/Ethmia_stephenrumseyi/10-SRNP-111145_DHJ656020+1309874820.jpg': 'BLPDV488-11',\n",
       " 'image_dataset/Ethmia_stephenrumseyi/10-SRNP-111509_DHJ656384+1309193104.jpg': 'BLPDV852-11',\n",
       " 'image_dataset/Ethmia_stephenrumseyi/10-SRNP-111509_DHJ656384+1309874930.jpg': 'BLPDV852-11',\n",
       " 'image_dataset/Ethmia_stephenrumseyi/10-SRNP-112788_DHJ657663+1309806356.jpg': 'BLPDW896-11',\n",
       " 'image_dataset/Ethmia_stephenrumseyi/10-SRNP-112788_DHJ657663+1309896452.jpg': 'BLPDW896-11',\n",
       " 'image_dataset/Ethmia_laphamorum/11-SRNP-103654-DHJ664324+1332184486.jpg': 'BLPED052-11',\n",
       " 'image_dataset/Ethmia_helenmillerae/11-SRNP-103738-DHJ664408+1332184878.jpg': 'BLPED136-11',\n",
       " 'image_dataset/Ethmia_laphamorum/11-SRNP-105667-DHJ666337+1331927914.JPG': 'BLPED2065-12',\n",
       " 'image_dataset/Ethmia_laphamorum/11-SRNP-104110-DHJ664780+1332184926.jpg': 'BLPED508-11',\n",
       " 'image_dataset/Ethmia_hammella/11-SRNP-104246-DHJ664916+1332185332.JPG': 'BLPED644-11',\n",
       " 'image_dataset/Ethmia_laphamorum/11-SRNP-104252-DHJ664922+1332185332.JPG': 'BLPED650-11',\n",
       " 'image_dataset/Ethmia_lichyi/05-SRNP-3595-DHJ338871+1365544652.jpg': 'MHAYA160-06',\n",
       " 'image_dataset/Ethmia_lichyi/05-SRNP-3595-DHJ338870+1365544652.jpg': 'MHAYA160-06',\n",
       " 'image_dataset/Ethmia_lichyi/05-SRNP-22648-DHJ338879+1365544654.jpg': 'MHAYA164-06',\n",
       " 'image_dataset/Ethmia_lichyi/05-SRNP-22648-DHJ338878+1365544654.jpg': 'MHAYA164-06',\n",
       " 'image_dataset/Ethmia_lichyi/07-SRNP-31214-DHJ372053+1190650056.jpg': 'MHMXL755-07',\n",
       " 'image_dataset/Ethmia_lichyi/07-SRNP-31214-DHJ372052+1190649864.jpg': 'MHMXL755-07',\n",
       " 'image_dataset/Ethmia_lichyi/09-SRNP-23036-DHJ520142+1274984200.jpg': 'MHMYG2175-10',\n",
       " 'image_dataset/Ethmia_lichyi/09-SRNP-23036-DHJ520143+1274984222.jpg': 'MHMYG2175-10',\n",
       " 'image_dataset/Eublemma_anachoresis/BIOUG08829-D10+1385745162.jpg': 'WALPB331-13',\n",
       " 'image_dataset/Ethmia_hammella/INB0004166236-EPR000350+1327348782.JPG': 'ASARD175-11',\n",
       " 'image_dataset/Ethmia_hammella/INB0004166236-EPR000351+1327348782.JPG': 'ASARD175-11',\n",
       " 'image_dataset/Ethmia_lichyi/INB0003230743-EPR000371+1327348772.JPG': 'ASARD185-11',\n",
       " 'image_dataset/Ethmia_lichyi/INB0003230743-EPR000370+1327348772.JPG': 'ASARD185-11',\n",
       " 'image_dataset/Ethmia_hammella/INB0004263682-EPR000752+1327350040.JPG': 'ASARD375-11',\n",
       " 'image_dataset/Ethmia_scythropa/07-SRNP-109611_DHJ619575+1199756222.jpg': 'BLPCF306-08',\n",
       " 'image_dataset/Ethmia_laphamorum/07-SRNP-112359_DHJ622323+1203012758.jpg': 'BLPCI234-08',\n",
       " 'image_dataset/Ethmia_scythropa/08-SRNP-101760_DHJ625824+1219415922.jpg': 'BLPCM163-08',\n",
       " 'image_dataset/Ethmia_laphamorum/09-SRNP-104663_DHJ637898+1245342598.JPG': 'BLPDJ281-09',\n",
       " 'image_dataset/Ethmia_hammella/10-SRNP-105523-DHJ650398+1274374216.jpg': 'BLPDQ897-10',\n",
       " 'image_dataset/Ethmia_hammella/10-SRNP-107360_DHJ652235+1277571822.jpg': 'BLPDS736-10',\n",
       " 'image_dataset/Ethmia_stephenrumseyi/10-SRNP-111146_DHJ656021+1309192990.jpg': 'BLPDV489-11',\n",
       " 'image_dataset/Ethmia_stephenrumseyi/10-SRNP-111146_DHJ656021+1309874820.jpg': 'BLPDV489-11',\n",
       " 'image_dataset/Ethmia_hammella/11-SRNP-102543_DHJ663213+1305594864.jpg': 'BLPEB1031-11',\n",
       " 'image_dataset/Ethmia_laphamorum/11-SRNP-103565_DHJ664235+1349455214.jpg': 'BLPEC1008-11',\n",
       " 'image_dataset/Ethmia_laphamorum/11-SRNP-103658-DHJ664328+1332184486.jpg': 'BLPED056-11',\n",
       " 'image_dataset/Ethmia_laphamorum/11-SRNP-105670-DHJ666340+1331927914.JPG': 'BLPED2068-12',\n",
       " 'image_dataset/Ethmia_laphamorum/11-SRNP-105671-DHJ666341+1331927914.JPG': 'BLPED2069-12',\n",
       " 'image_dataset/Ethmia_helenmillerae/11-SRNP-104007-DHJ664677+1332184910.jpg': 'BLPED405-11',\n",
       " 'image_dataset/Ethmia_miriamschulmanae/11-SRNP-104082-DHJ664752+1332184922.jpg': 'BLPED480-11',\n",
       " 'image_dataset/Ethmia_scythropa/05-SRNP-22063-DHJ338839+1365544652.jpg': 'MHAYA144-06',\n",
       " 'image_dataset/Ethmia_scythropa/05-SRNP-22063-DHJ338838+1365544652.jpg': 'MHAYA144-06',\n",
       " 'image_dataset/Ethmia_mnesicosma/04-SRNP-45698-DHJ338849+1365544652.jpg': 'MHAYA149-06',\n",
       " 'image_dataset/Ethmia_mnesicosma/04-SRNP-45698-DHJ338848+1365544652.jpg': 'MHAYA149-06',\n",
       " 'image_dataset/Ethmia_lichyi/03-SRNP-29318-DHJ338876+1365544654.jpg': 'MHAYA163-06',\n",
       " 'image_dataset/Ethmia_lichyi/03-SRNP-29318-DHJ338877+1365544654.jpg': 'MHAYA163-06',\n",
       " 'image_dataset/Ethmia_lichyi/07-SRNP-31216-DHJ372045+1190650062.jpg': 'MHMXL748-07',\n",
       " 'image_dataset/Eublemma_anachoresis/BIOUG08829-C11+1385737662.jpg': 'WALPB320-13',\n",
       " 'image_dataset/Eublemma_anachoresis/BIOUG17529-E02+1419020820.JPG': 'WALPC1326-14',\n",
       " 'image_dataset/Ethmia_laphamorum/07-SRNP-104583_DHJ614547+1183222782.jpg': 'BLPBH824-07',\n",
       " 'image_dataset/Ethmia_scythropa/07-SRNP-108186_DHJ618150+1191609652.jpg': 'BLPCD761-08',\n",
       " 'image_dataset/Ethmia_randyjonesi/08-SRNP-104951_DHJ629015+1225141656.jpg': 'BLPCP534-08',\n",
       " 'image_dataset/Ethmia_scythropa/08-SRNP-106235-DHJ630299+1364926064.jpg': 'BLPDB220-09',\n",
       " 'image_dataset/Ethmia_scythropa/08-SRNP-107095-DHJ631159+1364926286.jpg': 'BLPDC140-09',\n",
       " 'image_dataset/Ethmia_scythropa/08-SRNP-107759-DHJ631823+1364926440.jpg': 'BLPDC804-09',\n",
       " 'image_dataset/Ethmia_stephenrumseyi/09-SRNP-106458_DHJ639693+1250100242.jpg': 'BLPDK1530-09',\n",
       " 'image_dataset/Ethmia_helenmillerae/09-SRNP-107868_DHJ641103+1252772804.jpg': 'BLPDL486-10',\n",
       " 'image_dataset/Ethmia_miriamschulmanae/09-SRNP-109518-DHJ642753+1364926902.jpg': 'BLPDM141-10',\n",
       " 'image_dataset/Ethmia_hammella/10-SRNP-102476-DHJ647351+1364927528.jpg': 'BLPDN2301-10',\n",
       " 'image_dataset/Ethmia_hammella/10-SRNP-103124-DHJ647999+1269380168.jpg': 'BLPDO542-10',\n",
       " 'image_dataset/Ethmia_lichyi/10-SRNP-109046_DHJ653921+1309969244.jpg': 'BLPDT1619-10',\n",
       " 'image_dataset/Ethmia_stephenrumseyi/10-SRNP-109722_DHJ654597+1309874362.jpg': 'BLPDU300-11',\n",
       " 'image_dataset/Ethmia_stephenrumseyi/10-SRNP-109722_DHJ654597+1309192516.jpg': 'BLPDU300-11',\n",
       " 'image_dataset/Ethmia_scythropa/10-SRNP-109780_DHJ654655+1309192520.jpg': 'BLPDU358-11',\n",
       " 'image_dataset/Ethmia_scythropa/10-SRNP-109780_DHJ654655+1309874364.jpg': 'BLPDU358-11',\n",
       " 'image_dataset/Ethmia_stephenrumseyi/10-SRNP-109882_DHJ654757+1309192632.jpg': 'BLPDU460-11',\n",
       " 'image_dataset/Ethmia_scythropa/10-SRNP-110089_DHJ654964+1309192638.jpg': 'BLPDU667-11',\n",
       " 'image_dataset/Ethmia_hammella/10-SRNP-111816_DHJ656691+1309875040.jpg': 'BLPDV1159-11',\n",
       " 'image_dataset/Ethmia_hammella/10-SRNP-111816_DHJ656691+1309193216.jpg': 'BLPDV1159-11',\n",
       " 'image_dataset/Ethmia_stephenrumseyi/10-SRNP-111508_DHJ656383+1309193104.jpg': 'BLPDV851-11',\n",
       " 'image_dataset/Ethmia_stephenrumseyi/10-SRNP-111508_DHJ656383+1309874930.jpg': 'BLPDV851-11',\n",
       " 'image_dataset/Ethmia_stephenrumseyi/10-SRNP-112265_DHJ657140+1309896330.jpg': 'BLPDW373-11',\n",
       " 'image_dataset/Ethmia_stephenrumseyi/10-SRNP-112265_DHJ657140+1309806226.jpg': 'BLPDW373-11',\n",
       " 'image_dataset/Ethmia_mnesicosma/10-SRNP-115520_DHJ660395+1309189954.jpg': 'BLPDZ113-11',\n",
       " 'image_dataset/Ethmia_scythropa/11-SRNP-102267_DHJ662937+1303937784.jpg': 'BLPEB755-11',\n",
       " 'image_dataset/Ethmia_laphamorum/11-SRNP-105929-DHJ666599+1331928318.JPG': 'BLPED2327-12',\n",
       " 'image_dataset/Ethmia_helenmillerae/11-SRNP-103895-DHJ664565+1332184896.jpg': 'BLPED293-11',\n",
       " 'image_dataset/Ethmia_hammella/11-SRNP-104288-DHJ664958+1332185338.JPG': 'BLPED686-11',\n",
       " 'image_dataset/Ethmia_hammella/INB0003231100-EPR000352+1327348774.JPG': 'ASARD176-11',\n",
       " 'image_dataset/Ethmia_scythropa/07-SRNP-100480_DHJ610444+1179495106.jpg': 'BLPBD481-07',\n",
       " 'image_dataset/Ethmia_scythropa/08-SRNP-104677_DHJ628741+1224781200.jpg': 'BLPCP260-08',\n",
       " 'image_dataset/Ethmia_laphamorum/09-SRNP-104302_DHJ637537+1244134042.JPG': 'BLPDI870-09',\n",
       " 'image_dataset/Ethmia_mnesicosma/09-SRNP-105559_DHJ638794+1247684924.jpg': 'BLPDK631-09',\n",
       " 'image_dataset/Ethmia_miriamschulmanae/09-SRNP-108939_DHJ642174+1256848754.jpg': 'BLPDL1557-10',\n",
       " 'image_dataset/Ethmia_laphamorum/09-SRNP-110089-DHJ643324+1364926994.jpg': 'BLPDM712-10',\n",
       " 'image_dataset/Ethmia_lichyi/09-SRNP-110143-DHJ643378+1364926996.jpg': 'BLPDM766-10',\n",
       " 'image_dataset/Ethmia_randyjonesi/09-SRNP-110144-DHJ643379+1364926996.jpg': 'BLPDM767-10',\n",
       " 'image_dataset/Ethmia_scythropa/09-SRNP-110145-DHJ643380+1364926996.jpg': 'BLPDM768-10',\n",
       " 'image_dataset/Ethmia_hammella/10-SRNP-102295-DHJ647170+1364927522.jpg': 'BLPDN2120-10',\n",
       " 'image_dataset/Ethmia_scythropa/10-SRNP-107205_DHJ652080+1277488458.jpg': 'BLPDS581-10',\n",
       " 'image_dataset/Ethmia_scythropa/10-SRNP-107206_DHJ652081+1277488486.jpg': 'BLPDS582-10',\n",
       " 'image_dataset/Ethmia_stephenrumseyi/10-SRNP-110929_DHJ655804+1309874710.jpg': 'BLPDV272-11',\n",
       " 'image_dataset/Ethmia_stephenrumseyi/10-SRNP-110929_DHJ655804+1309192874.jpg': 'BLPDV272-11',\n",
       " 'image_dataset/Ethmia_stephenrumseyi/10-SRNP-112267_DHJ657142+1309896330.jpg': 'BLPDW375-11',\n",
       " 'image_dataset/Ethmia_stephenrumseyi/10-SRNP-112267_DHJ657142+1309806226.jpg': 'BLPDW375-11',\n",
       " 'image_dataset/Ethmia_helenmillerae/11-SRNP-103265_DHJ663935+1349455160.jpg': 'BLPEC708-11',\n",
       " 'image_dataset/Ethmia_laphamorum/11-SRNP-105664-DHJ666334+1331927914.JPG': 'BLPED2062-12',\n",
       " 'image_dataset/Ethmia_randyjonesi/12-SRNP-101744-DHJ668677+1344956438.JPG': 'BLPEE1745-12',\n",
       " 'image_dataset/Ethmia_randyjonesi/12-SRNP-102167-DHJ669100+1344956552.JPG': 'BLPEE2168-12',\n",
       " 'image_dataset/Ethmia_randyjonesi/12-SRNP-102376-DHJ669309+1364927618.JPG': 'BLPEF192-12',\n",
       " 'image_dataset/Ethmia_hammella/CCDB-23274-D05+1416356580.JPG': 'LNAUT2511-14',\n",
       " 'image_dataset/Ethmia_lichyi/05-SRNP-46876-DHJ344280+1365545274.jpg': 'MHMXD139-06',\n",
       " 'image_dataset/Ethmia_lichyi/05-SRNP-46876-DHJ344281+1365545274.jpg': 'MHMXD139-06',\n",
       " 'image_dataset/Ethmia_scythropa/06-SRNP-31481-DHJ354379+1175950418.jpg': 'MHMXF071-07',\n",
       " 'image_dataset/Eublemma_anachoresis/BIOUG18084-B07+1420765080.JPG': 'WALPC1390-14',\n",
       " 'image_dataset/Ethmia_hammella/INB0004263680-EPR000748+1327350038.JPG': 'ASARD373-11',\n",
       " 'image_dataset/Ethmia_scythropa/06-SRNP-103085_DHJ603085+1197404760.JPG': 'BLPAD266-06',\n",
       " 'image_dataset/Ethmia_laphamorum/06-SRNP-104468_DHJ604468+1197404880.jpg': 'BLPAE709-06',\n",
       " 'image_dataset/Ethmia_laphamorum/09-SRNP-104427_DHJ637662+1244472122.JPG': 'BLPDJ045-09',\n",
       " 'image_dataset/Ethmia_helenmillerae/09-SRNP-105795_DHJ639030+1249396700.jpg': 'BLPDK867-09',\n",
       " 'image_dataset/Ethmia_miriamschulmanae/09-SRNP-109077_DHJ642312+1257278060.jpg': 'BLPDL1695-10',\n",
       " 'image_dataset/Ethmia_scythropa/09-SRNP-110774-DHJ644009+1364927114.jpg': 'BLPDM1397-10',\n",
       " 'image_dataset/Ethmia_laphamorum/09-SRNP-111288-DHJ644523+1364927208.jpg': 'BLPDM1911-10',\n",
       " 'image_dataset/Ethmia_scythropa/10-SRNP-102464-DHJ647339+1364927526.jpg': 'BLPDN2289-10',\n",
       " 'image_dataset/Ethmia_hammella/10-SRNP-106755_DHJ651630+1275601416.jpg': 'BLPDS131-10',\n",
       " 'image_dataset/Ethmia_hammella/10-SRNP-106848_DHJ651723+1275663982.jpg': 'BLPDS224-10',\n",
       " 'image_dataset/Ethmia_scythropa/10-SRNP-107283_DHJ652158+1277496910.jpg': 'BLPDS659-10',\n",
       " 'image_dataset/Ethmia_lichyi/10-SRNP-115291_DHJ660166+1309189818.jpg': 'BLPDY739-11',\n",
       " 'image_dataset/Ethmia_laphamorum/11-SRNP-103656-DHJ664326+1332184486.jpg': 'BLPED054-11',\n",
       " 'image_dataset/Ethmia_mnesicosma/11-SRNP-104651-DHJ665321+1331927060.JPG': 'BLPED1049-12',\n",
       " 'image_dataset/Ethmia_miriamschulmanae/11-SRNP-103729-DHJ664399+1332184876.jpg': 'BLPED127-11',\n",
       " 'image_dataset/Ethmia_laphamorum/11-SRNP-105731-DHJ666401+1331927922.JPG': 'BLPED2129-12',\n",
       " 'image_dataset/Ethmia_laphamorum/11-SRNP-104472-DHJ665142+1331926662.JPG': 'BLPED870-11',\n",
       " 'image_dataset/Ethmia_randyjonesi/12-SRNP-102377-DHJ669310+1364927618.JPG': 'BLPEF193-12',\n",
       " 'image_dataset/Ethmia_randyjonesi/12-SRNP-102379-DHJ669312+1364927618.JPG': 'BLPEF195-12',\n",
       " 'image_dataset/Ethmia_scythropa/02-SRNP-16119-DHJ338830+1365105668.jpg': 'MHAYA140-06',\n",
       " 'image_dataset/Ethmia_scythropa/02-SRNP-16119-DHJ338831+1365105668.jpg': 'MHAYA140-06',\n",
       " 'image_dataset/Ethmia_lichyi/06-SRNP-5348-DHJ354389+1175950444.jpg': 'MHMXF081-07',\n",
       " 'image_dataset/Ethmia_mnesicosma/06-SRNP-16307-DHJ354400+1175950410.jpg': 'MHMXF092-07',\n",
       " 'image_dataset/Ethmia_lichyi/07-SRNP-1750-DHJ372043+1190649742.jpg': 'MHMXL746-07',\n",
       " 'image_dataset/Ethmia_lichyi/07-SRNP-31215-DHJ372054+1190650060.jpg': 'MHMXL756-07',\n",
       " 'image_dataset/Ethmia_lichyi/07-SRNP-31215-DHJ372055+1190650062.jpg': 'MHMXL756-07',\n",
       " 'image_dataset/Ethmia_hammella/INB0004238424-EPR000280+1327348798.JPG': 'ASARD140-11',\n",
       " 'image_dataset/Ethmia_laphamorum/06-SRNP-100141_DHJ600141+1140706010.jpg': 'BLPAA142-06',\n",
       " 'image_dataset/Ethmia_scythropa/06-SRNP-103002_DHJ603002+1197404700.JPG': 'BLPAD183-06',\n",
       " 'image_dataset/Ethmia_laphamorum/06-SRNP-104473_DHJ604473+1197404880.jpg': 'BLPAE714-06',\n",
       " 'image_dataset/Ethmia_mnesicosma/09-SRNP-101923_DHJ635158+1237385316.jpg': 'BLPDG379-09',\n",
       " 'image_dataset/Ethmia_laphamorum/09-SRNP-104303_DHJ637538+1244134032.JPG': 'BLPDI871-09',\n",
       " 'image_dataset/Ethmia_laphamorum/09-SRNP-105753_DHJ638988+1249321698.jpg': 'BLPDK825-09',\n",
       " 'image_dataset/Ethmia_scythropa/09-SRNP-110146-DHJ643381+1364926996.jpg': 'BLPDM769-10',\n",
       " 'image_dataset/Ethmia_hammella/10-SRNP-102359-DHJ647234+1364927524.jpg': 'BLPDN2184-10',\n",
       " 'image_dataset/Ethmia_hammella/10-SRNP-102757-DHJ647632+1268239930.jpg': 'BLPDO175-10',\n",
       " 'image_dataset/Ethmia_hammella/10-SRNP-106266_DHJ651141+1274990452.jpg': 'BLPDR641-10',\n",
       " 'image_dataset/Ethmia_scythropa/10-SRNP-107207_DHJ652082+1277488510.jpg': 'BLPDS583-10',\n",
       " 'image_dataset/Ethmia_hammella/10-SRNP-107303_DHJ652178+1277501438.jpg': 'BLPDS679-10',\n",
       " 'image_dataset/Ethmia_hammella/10-SRNP-109753_DHJ654628+1309192518.jpg': 'BLPDU331-11',\n",
       " 'image_dataset/Ethmia_hammella/10-SRNP-109753_DHJ654628+1309874364.jpg': 'BLPDU331-11',\n",
       " 'image_dataset/Ethmia_stephenrumseyi/10-SRNP-110349_DHJ655224+1309192748.jpg': 'BLPDU927-11',\n",
       " 'image_dataset/Ethmia_stephenrumseyi/10-SRNP-110349_DHJ655224+1309874590.jpg': 'BLPDU927-11',\n",
       " 'image_dataset/Ethmia_stephenrumseyi/10-SRNP-112269_DHJ657144+1309896330.jpg': 'BLPDW377-11',\n",
       " 'image_dataset/Ethmia_stephenrumseyi/10-SRNP-112269_DHJ657144+1309806226.jpg': 'BLPDW377-11',\n",
       " 'image_dataset/Ethmia_mnesicosma/10-SRNP-114769_DHJ659644+1309189678.jpg': 'BLPDY217-11',\n",
       " 'image_dataset/Ethmia_helenmillerae/11-SRNP-103264_DHJ663934+1349455160.jpg': 'BLPEC707-11',\n",
       " 'image_dataset/Ethmia_helenmillerae/11-SRNP-103266_DHJ663936+1349455160.jpg': 'BLPEC709-11',\n",
       " 'image_dataset/Ethmia_laphamorum/11-SRNP-103657-DHJ664327+1332184486.jpg': 'BLPED055-11',\n",
       " 'image_dataset/Ethmia_helenmillerae/11-SRNP-103739-DHJ664409+1332184878.jpg': 'BLPED137-11',\n",
       " 'image_dataset/Ethmia_laphamorum/11-SRNP-104251-DHJ664921+1332185332.JPG': 'BLPED649-11',\n",
       " 'image_dataset/Ethmia_scythropa/05-SRNP-22159-DHJ338837+1365544652.jpg': 'MHAYA143-06',\n",
       " 'image_dataset/Ethmia_scythropa/05-SRNP-22159-DHJ338836+1365544652.jpg': 'MHAYA143-06',\n",
       " 'image_dataset/Ethmia_scythropa/03-SRNP-15570-DHJ338842+1365106026.jpg': 'MHAYA146-06',\n",
       " 'image_dataset/Ethmia_scythropa/03-SRNP-15570-DHJ338843+1365106026.jpg': 'MHAYA146-06',\n",
       " 'image_dataset/Ethmia_mnesicosma/04-SRNP-45699-DHJ338846+1365544652.jpg': 'MHAYA148-06',\n",
       " 'image_dataset/Ethmia_mnesicosma/04-SRNP-45699-DHJ338847+1365544652.jpg': 'MHAYA148-06',\n",
       " 'image_dataset/Ethmia_scythropa/06-SRNP-106171_DHJ606171+1201560840.jpg': 'BLPAG532-07',\n",
       " 'image_dataset/Ethmia_scythropa/09-SRNP-100619-DHJ633854+1364926894.jpg': 'BLPDF015-09',\n",
       " 'image_dataset/Ethmia_laphamorum/09-SRNP-104662_DHJ637897+1245342578.JPG': 'BLPDJ280-09',\n",
       " 'image_dataset/Ethmia_laphamorum/09-SRNP-104843_DHJ638078+1245682738.JPG': 'BLPDJ461-09',\n",
       " 'image_dataset/Ethmia_miriamschulmanae/09-SRNP-104888_DHJ638123+1245688392.JPG': 'BLPDJ506-09',\n",
       " 'image_dataset/Ethmia_helenmillerae/09-SRNP-107975_DHJ641210+1254839872.jpg': 'BLPDL593-10',\n",
       " 'image_dataset/Ethmia_scythropa/09-SRNP-110389-DHJ643624+1364927004.jpg': 'BLPDM1012-10',\n",
       " 'image_dataset/Ethmia_scythropa/09-SRNP-110524-DHJ643759+1364927008.jpg': 'BLPDM1147-10',\n",
       " 'image_dataset/Ethmia_randyjonesi/09-SRNP-109980-DHJ643215+1364926992.jpg': 'BLPDM603-10',\n",
       " 'image_dataset/Ethmia_scythropa/10-SRNP-106189_DHJ651064+1274976604.jpg': 'BLPDR564-10',\n",
       " 'image_dataset/Ethmia_stephenrumseyi/10-SRNP-111147_DHJ656022+1309192990.jpg': 'BLPDV490-11',\n",
       " 'image_dataset/Ethmia_stephenrumseyi/10-SRNP-111147_DHJ656022+1309874820.jpg': 'BLPDV490-11',\n",
       " 'image_dataset/Ethmia_stephenrumseyi/10-SRNP-112266_DHJ657141+1309896330.jpg': 'BLPDW374-11',\n",
       " 'image_dataset/Ethmia_stephenrumseyi/10-SRNP-112266_DHJ657141+1309806226.jpg': 'BLPDW374-11',\n",
       " 'image_dataset/Ethmia_stephenrumseyi/11-SRNP-100049_DHJ660719+1309185556.jpg': 'BLPDZ437-11',\n",
       " 'image_dataset/Ethmia_laphamorum/11-SRNP-103653-DHJ664323+1332184486.jpg': 'BLPED051-11',\n",
       " 'image_dataset/Ethmia_miriamschulmanae/11-SRNP-103731-DHJ664401+1332184876.jpg': 'BLPED129-11',\n",
       " 'image_dataset/Ethmia_laphamorum/11-SRNP-105668-DHJ666338+1331927914.JPG': 'BLPED2066-12',\n",
       " 'image_dataset/Ethmia_laphamorum/11-SRNP-105732-DHJ666402+1331927922.JPG': 'BLPED2130-12',\n",
       " 'image_dataset/Ethmia_scythropa/11-SRNP-104165-DHJ664835+1332185324.jpg': 'BLPED563-11',\n",
       " 'image_dataset/Ethmia_miriamschulmanae/12-SRNP-102646-DHJ669579+1364927690.JPG': 'BLPEF462-12',\n",
       " 'image_dataset/Ethmia_lichyi/06-SRNP-30523-DHJ338554+1365544650.jpg': 'MHAYA002-06',\n",
       " 'image_dataset/Ethmia_lichyi/06-SRNP-30523-DHJ338555+1365544650.jpg': 'MHAYA002-06',\n",
       " 'image_dataset/Ethmia_lichyi/06-SRNP-30720-DHJ338556+1365544650.jpg': 'MHAYA003-06',\n",
       " 'image_dataset/Ethmia_lichyi/06-SRNP-30720-DHJ338557+1365544650.jpg': 'MHAYA003-06',\n",
       " 'image_dataset/Ethmia_lichyi/05-SRNP-45034-DHJ407893+1365550032.jpg': 'MHAYA159-06',\n",
       " 'image_dataset/Ethmia_lichyi/05-SRNP-45034-DHJ338868+1365544652.jpg': 'MHAYA159-06',\n",
       " 'image_dataset/Ethmia_lichyi/05-SRNP-45034-DHJ407894+1365550032.jpg': 'MHAYA159-06',\n",
       " 'image_dataset/Ethmia_lichyi/05-SRNP-45034-DHJ407892+1365550032.jpg': 'MHAYA159-06',\n",
       " 'image_dataset/Ethmia_lichyi/05-SRNP-45034-DHJ338869+1365544652.jpg': 'MHAYA159-06',\n",
       " 'image_dataset/Ethmia_lichyi/05-SRNP-46875-DHJ344282+1365545274.jpg': 'MHMXD140-06',\n",
       " 'image_dataset/Ethmia_lichyi/05-SRNP-46875-DHJ344283+1365545274.jpg': 'MHMXD140-06',\n",
       " 'image_dataset/Ethmia_mnesicosma/06-SRNP-16314-DHJ354403+1175950412.jpg': 'MHMXF095-07',\n",
       " 'image_dataset/Ethmia_laphamorum/06-SRNP-104471_DHJ604471+1197404880.jpg': 'BLPAE712-06',\n",
       " 'image_dataset/Ethmia_scythropa/07-SRNP-101026_DHJ610990+1173901962.jpg': 'BLPBE087-07',\n",
       " 'image_dataset/Ethmia_laphamorum/07-SRNP-104585_DHJ614549+1183222838.jpg': 'BLPBH826-07',\n",
       " 'image_dataset/Ethmia_laphamorum/08-SRNP-109048-DHJ633112+1364926788.jpg': 'BLPDE213-09',\n",
       " 'image_dataset/Ethmia_helenmillerae/09-SRNP-104554_DHJ637789+1245424508.JPG': 'BLPDJ172-09',\n",
       " 'image_dataset/Ethmia_stephenrumseyi/09-SRNP-106457_DHJ639692+1250100206.jpg': 'BLPDK1529-09',\n",
       " 'image_dataset/Ethmia_miriamschulmanae/09-SRNP-105899_DHJ639134+1249661456.jpg': 'BLPDK971-09',\n",
       " 'image_dataset/Ethmia_lichyi/09-SRNP-111487-DHJ644722+1364927214.jpg': 'BLPDM2110-10',\n",
       " 'image_dataset/Ethmia_laphamorum/09-SRNP-110088-DHJ643323+1364926994.jpg': 'BLPDM711-10',\n",
       " 'image_dataset/Ethmia_lichyi/10-SRNP-102776-DHJ647651+1268241008.jpg': 'BLPDO194-10',\n",
       " 'image_dataset/Ethmia_hammella/10-SRNP-103031-DHJ647906+1268345002.jpg': 'BLPDO449-10',\n",
       " 'image_dataset/Ethmia_hammella/10-SRNP-112364_DHJ657239+1309896334.jpg': 'BLPDW472-11',\n",
       " 'image_dataset/Ethmia_hammella/10-SRNP-112364_DHJ657239+1309806230.jpg': 'BLPDW472-11',\n",
       " 'image_dataset/Ethmia_hammella/10-SRNP-112370_DHJ657245+1309896334.jpg': 'BLPDW478-11',\n",
       " 'image_dataset/Ethmia_hammella/10-SRNP-112370_DHJ657245+1309806230.jpg': 'BLPDW478-11',\n",
       " 'image_dataset/Ethmia_scythropa/10-SRNP-112789_DHJ657664+1309896452.jpg': 'BLPDW897-11',\n",
       " 'image_dataset/Ethmia_scythropa/10-SRNP-112789_DHJ657664+1309806356.jpg': 'BLPDW897-11',\n",
       " 'image_dataset/Ethmia_scythropa/11-SRNP-102660_DHJ663330+1305681546.jpg': 'BLPEC103-11',\n",
       " 'image_dataset/Ethmia_laphamorum/11-SRNP-103440_DHJ664110+1349455212.jpg': 'BLPEC883-11',\n",
       " 'image_dataset/Ethmia_randyjonesi/11-SRNP-104713-DHJ665383+1331927064.JPG': 'BLPED1111-12',\n",
       " 'image_dataset/Ethmia_miriamschulmanae/11-SRNP-105282-DHJ665952+1331927500.JPG': 'BLPED1680-12',\n",
       " 'image_dataset/Ethmia_mnesicosma/12-SRNP-102301-DHJ669234+1364927616.JPG': 'BLPEF117-12',\n",
       " 'image_dataset/Ethmia_lichyi/06-SRNP-30526-DHJ338558+1365544650.jpg': 'MHAYA004-06',\n",
       " 'image_dataset/Ethmia_lichyi/06-SRNP-30526-DHJ338559+1365544650.jpg': 'MHAYA004-06',\n",
       " 'image_dataset/Ethmia_scythropa/05-SRNP-22416.1-DHJ338840+1365544652.jpg': 'MHAYA145-06',\n",
       " 'image_dataset/Ethmia_scythropa/05-SRNP-22416.1-DHJ338841+1365544652.jpg': 'MHAYA145-06',\n",
       " 'image_dataset/Ethmia_lichyi/05-SRNP-22361-DHJ338864+1365544652.jpg': 'MHAYA157-06',\n",
       " 'image_dataset/Ethmia_lichyi/05-SRNP-22361-DHJ338865+1365544652.jpg': 'MHAYA157-06',\n",
       " 'image_dataset/Ethmia_lichyi/07-SRNP-30826-DHJ367605+1190649778.jpg': 'MHMXI896-07',\n",
       " 'image_dataset/Ethmia_lichyi/07-SRNP-30826-DHJ367604+1190649776.jpg': 'MHMXI896-07',\n",
       " 'image_dataset/Ethmia_hammella/INB0004238428-EPR000288+1327348798.JPG': 'ASARD144-11',\n",
       " 'image_dataset/Ethmia_lichyi/07-SRNP-109613_DHJ619577+1199756266.jpg': 'BLPCF308-08',\n",
       " 'image_dataset/Ethmia_mnesicosma/07-SRNP-110961_DHJ620925+1200952956.jpg': 'BLPCG716-08',\n",
       " 'image_dataset/Ethmia_mnesicosma/08-SRNP-108697-DHJ632761+1364926688.jpg': 'BLPDD802-09',\n",
       " 'image_dataset/Ethmia_lichyi/09-SRNP-105561_DHJ638796+1247685004.jpg': 'BLPDK633-09',\n",
       " 'image_dataset/Ethmia_miriamschulmanae/09-SRNP-109122_DHJ642357+1257351204.jpg': 'BLPDL1740-10',\n",
       " 'image_dataset/Ethmia_scythropa/10-SRNP-104634-DHJ649509+1273023128.jpg': 'BLPDQ008-10',\n",
       " 'image_dataset/Ethmia_hammella/10-SRNP-105006-DHJ649881+1273192620.jpg': 'BLPDQ380-10',\n",
       " 'image_dataset/Ethmia_hammella/10-SRNP-106240_DHJ651115+1274989428.jpg': 'BLPDR615-10',\n",
       " 'image_dataset/Ethmia_hammella/10-SRNP-106267_DHJ651142+1274990490.jpg': 'BLPDR642-10',\n",
       " 'image_dataset/Ethmia_scythropa/10-SRNP-106837_DHJ651712+1275663588.jpg': 'BLPDS213-10',\n",
       " 'image_dataset/Ethmia_scythropa/10-SRNP-110067_DHJ654942+1309192638.jpg': 'BLPDU645-11',\n",
       " 'image_dataset/Ethmia_stephenrumseyi/10-SRNP-112787_DHJ657662+1309896452.jpg': 'BLPDW895-11',\n",
       " 'image_dataset/Ethmia_stephenrumseyi/10-SRNP-112787_DHJ657662+1309806356.jpg': 'BLPDW895-11',\n",
       " 'image_dataset/Ethmia_randyjonesi/10-SRNP-114011_DHJ658886+1309896922.jpg': 'BLPDX884-11',\n",
       " 'image_dataset/Ethmia_hammella/11-SRNP-100394_DHJ661064+1309185668.jpg': 'BLPDZ782-11',\n",
       " 'image_dataset/Ethmia_helenmillerae/11-SRNP-103736-DHJ664406+1332184876.jpg': 'BLPED134-11',\n",
       " 'image_dataset/Ethmia_laphamorum/11-SRNP-105669-DHJ666339+1331927914.JPG': 'BLPED2067-12',\n",
       " 'image_dataset/Ethmia_laphamorum/11-SRNP-105733-DHJ666403+1331927922.JPG': 'BLPED2131-12',\n",
       " 'image_dataset/Ethmia_laphamorum/11-SRNP-105835-DHJ666505+1331928312.JPG': 'BLPED2233-12',\n",
       " 'image_dataset/Ethmia_helenmillerae/11-SRNP-103888-DHJ664558+1332184894.jpg': 'BLPED286-11',\n",
       " 'image_dataset/Ethmia_randyjonesi/12-SRNP-101745-DHJ668678+1344956438.JPG': 'BLPEE1746-12',\n",
       " 'image_dataset/Ethmia_mnesicosma/04-SRNP-45695-DHJ338844+1365544652.jpg': 'MHAYA147-06',\n",
       " 'image_dataset/Ethmia_mnesicosma/04-SRNP-45695-DHJ338845+1365544652.jpg': 'MHAYA147-06',\n",
       " 'image_dataset/Ethmia_lichyi/06-SRNP-31744-DHJ349994+1175950422.jpg': 'MHMXD1156-06',\n",
       " 'image_dataset/Ethmia_lichyi/06-SRNP-31744-DHJ349995+1175950422.jpg': 'MHMXD1156-06',\n",
       " 'image_dataset/Ethmia_lichyi/06-SRNP-5347-DHJ354390+1175950444.jpg': 'MHMXF082-07',\n",
       " 'image_dataset/Ethmia_hammella/INB0004263679-EPR000746+1327350038.JPG': 'ASARD372-11',\n",
       " 'image_dataset/Ethmia_laphamorum/07-SRNP-112629_DHJ622593+1203104644.jpg': 'BLPCI504-08',\n",
       " 'image_dataset/Ethmia_laphamorum/07-SRNP-112631_DHJ622595+1203104696.jpg': 'BLPCI506-08',\n",
       " 'image_dataset/Ethmia_scythropa/09-SRNP-100617-DHJ633852+1364926894.jpg': 'BLPDF013-09',\n",
       " 'image_dataset/Ethmia_scythropa/09-SRNP-107083_DHJ640318+1251920182.jpg': 'BLPDK2155-09',\n",
       " 'image_dataset/Ethmia_mnesicosma/09-SRNP-105307_DHJ638542+1247254826.jpg': 'BLPDK379-09',\n",
       " 'image_dataset/Ethmia_laphamorum/09-SRNP-111273-DHJ644508+1364927208.jpg': 'BLPDM1896-10',\n",
       " 'image_dataset/Ethmia_hammella/10-SRNP-107256_DHJ652131+1277495390.jpg': 'BLPDS632-10',\n",
       " 'image_dataset/Ethmia_randyjonesi/10-SRNP-109304_DHJ654179+1309969254.jpg': 'BLPDT1877-10',\n",
       " 'image_dataset/Ethmia_stephenrumseyi/10-SRNP-111810_DHJ656685+1309193216.jpg': 'BLPDV1153-11',\n",
       " 'image_dataset/Ethmia_stephenrumseyi/10-SRNP-111810_DHJ656685+1309875040.jpg': 'BLPDV1153-11',\n",
       " 'image_dataset/Ethmia_stephenrumseyi/10-SRNP-111811_DHJ656686+1309193216.jpg': 'BLPDV1154-11',\n",
       " 'image_dataset/Ethmia_stephenrumseyi/10-SRNP-111811_DHJ656686+1309875040.jpg': 'BLPDV1154-11',\n",
       " 'image_dataset/Ethmia_stephenrumseyi/10-SRNP-111812_DHJ656687+1309193216.jpg': 'BLPDV1155-11',\n",
       " 'image_dataset/Ethmia_stephenrumseyi/10-SRNP-111812_DHJ656687+1309875040.jpg': 'BLPDV1155-11',\n",
       " 'image_dataset/Ethmia_randyjonesi/10-SRNP-114012_DHJ658887+1309896922.jpg': 'BLPDX885-11',\n",
       " 'image_dataset/Ethmia_lichyi/10-SRNP-115548_DHJ660423+1309189954.jpg': 'BLPDZ141-11',\n",
       " 'image_dataset/Ethmia_lichyi/11-SRNP-100806_DHJ661476+1298484196.jpg': 'BLPEA339-11',\n",
       " 'image_dataset/Ethmia_hammella/11-SRNP-102544_DHJ663214+1305594904.jpg': 'BLPEB1032-11',\n",
       " 'image_dataset/Ethmia_stephenrumseyi/11-SRNP-102109_DHJ662779+1303919872.jpg': 'BLPEB597-11',\n",
       " 'image_dataset/Ethmia_scythropa/11-SRNP-104166-DHJ664836+1332185324.jpg': 'BLPED564-11',\n",
       " 'image_dataset/Ethmia_randyjonesi/12-SRNP-103207-DHJ670140+1364927774.JPG': 'BLPEF1023-12',\n",
       " 'image_dataset/Ethmia_scythropa/02-SRNP-16140-DHJ338828+1365105668.jpg': 'MHAYA139-06',\n",
       " 'image_dataset/Ethmia_scythropa/02-SRNP-16140-DHJ338829+1365105668.jpg': 'MHAYA139-06',\n",
       " 'image_dataset/Ethmia_lichyi/04-SRNP-23311-DHJ338867+1365544652.jpg': 'MHAYA158-06',\n",
       " 'image_dataset/Ethmia_lichyi/04-SRNP-23311-DHJ338866+1365544652.jpg': 'MHAYA158-06',\n",
       " 'image_dataset/Ethmia_scythropa/06-SRNP-31484-DHJ354381+1175950420.jpg': 'MHMXF073-07',\n",
       " 'image_dataset/Ethmia_lichyi/06-SRNP-5349-DHJ354392+1175950446.jpg': 'MHMXF084-07',\n",
       " 'image_dataset/Ethmia_mnesicosma/06-SRNP-16281-DHJ354401+1175950408.jpg': 'MHMXF093-07',\n",
       " 'image_dataset/Eublemma_anachoresis/10ANIC_06759+1287792278.jpg': 'ANICJ762-10',\n",
       " 'image_dataset/Ethmia_lichyi/INB0004222455-EPR002004+1327428536.JPG': 'ASARD992-11',\n",
       " 'image_dataset/Ethmia_lichyi/INB0004222455-EPR002005+1327428536.JPG': 'ASARD992-11',\n",
       " 'image_dataset/Ethmia_scythropa/06-SRNP-102759_DHJ602759+1197404700.JPG': 'BLPAC880-06',\n",
       " 'image_dataset/Ethmia_scythropa/06-SRNP-103001_DHJ603001+1197404700.JPG': 'BLPAD182-06',\n",
       " 'image_dataset/Ethmia_randyjonesi/07-SRNP-102811_DHJ612775+1178718022.jpg': 'BLPBF932-07',\n",
       " 'image_dataset/Ethmia_laphamorum/07-SRNP-112358_DHJ622322+1203012726.jpg': 'BLPCI233-08',\n",
       " 'image_dataset/Ethmia_randyjonesi/08-SRNP-101529_DHJ625593+1214577410.jpg': 'BLPCL430-08',\n",
       " 'image_dataset/Ethmia_laphamorum/09-SRNP-104517_DHJ637752+1245247556.JPG': 'BLPDJ135-09',\n",
       " 'image_dataset/Ethmia_helenmillerae/09-SRNP-105938_DHJ639173+1249506680.jpg': 'BLPDK1010-09',\n",
       " 'image_dataset/Ethmia_scythropa/10-SRNP-101553-DHJ646428+1364927390.jpg': 'BLPDN1378-10',\n",
       " 'image_dataset/Ethmia_scythropa/10-SRNP-101161-DHJ646036+1364927374.jpg': 'BLPDN986-10',\n",
       " 'image_dataset/Ethmia_lichyi/10-SRNP-109045_DHJ653920+1309969244.jpg': 'BLPDT1618-10',\n",
       " 'image_dataset/Ethmia_lichyi/10-SRNP-109305_DHJ654180+1309969254.jpg': 'BLPDT1878-10',\n",
       " 'image_dataset/Ethmia_stephenrumseyi/10-SRNP-111809_DHJ656684+1309193216.jpg': 'BLPDV1152-11',\n",
       " 'image_dataset/Ethmia_stephenrumseyi/10-SRNP-111809_DHJ656684+1309875040.jpg': 'BLPDV1152-11',\n",
       " 'image_dataset/Ethmia_randyjonesi/10-SRNP-111814_DHJ656689+1309193216.jpg': 'BLPDV1157-11',\n",
       " 'image_dataset/Ethmia_randyjonesi/10-SRNP-111814_DHJ656689+1309875040.jpg': 'BLPDV1157-11',\n",
       " 'image_dataset/Ethmia_helenmillerae/11-SRNP-103510_DHJ664180+1349455212.jpg': 'BLPEC953-11',\n",
       " 'image_dataset/Ethmia_laphamorum/11-SRNP-105838-DHJ666508+1331928312.JPG': 'BLPED2236-12',\n",
       " 'image_dataset/Ethmia_helenmillerae/11-SRNP-103902-DHJ664572+1332184896.jpg': 'BLPED300-11',\n",
       " 'image_dataset/Ethmia_miriamschulmanae/11-SRNP-103998-DHJ664668+1332184910.jpg': 'BLPED396-11',\n",
       " 'image_dataset/Ethmia_miriamschulmanae/12-SRNP-102147-DHJ669080+1344956492.JPG': 'BLPEE2148-12',\n",
       " 'image_dataset/Ethmia_scythropa/05-SRNP-22150-DHJ338826+1365544650.jpg': 'MHAYA138-06',\n",
       " 'image_dataset/Ethmia_scythropa/05-SRNP-22150-DHJ338827+1365544650.jpg': 'MHAYA138-06',\n",
       " 'image_dataset/Ethmia_mnesicosma/05-SRNP-34751-DHJ338550+1365544650.jpg': 'MHMXC376-06',\n",
       " 'image_dataset/Ethmia_mnesicosma/05-SRNP-34751-DHJ338551+1365544650.jpg': 'MHMXC376-06',\n",
       " 'image_dataset/Ethmia_mnesicosma/06-SRNP-16295-DHJ354399+1175950408.jpg': 'MHMXF091-07',\n",
       " 'image_dataset/Ethmia_lichyi/07-SRNP-31106-DHJ367607+1190649810.jpg': 'MHMXI897-07',\n",
       " 'image_dataset/Ethmia_lichyi/07-SRNP-31106-DHJ367606+1190649808.jpg': 'MHMXI897-07',\n",
       " 'image_dataset/Ethmia_stephenrumseyi/INB0004239174-EPR000398+1327349640.JPG': 'ASARD199-11',\n",
       " 'image_dataset/Ethmia_stephenrumseyi/INB0004239174-EPR000399+1327349640.JPG': 'ASARD199-11',\n",
       " 'image_dataset/Ethmia_laphamorum/06-SRNP-104282_DHJ604282+1197404880.jpg': 'BLPAE523-06',\n",
       " 'image_dataset/Ethmia_laphamorum/09-SRNP-104301_DHJ637536+1244134070.JPG': 'BLPDI869-09',\n",
       " 'image_dataset/Ethmia_hammella/10-SRNP-107407_DHJ652282+1277579166.jpg': 'BLPDS783-10',\n",
       " 'image_dataset/Ethmia_stephenrumseyi/10-SRNP-110495_DHJ655370+1309192754.jpg': 'BLPDU1073-11',\n",
       " 'image_dataset/Ethmia_stephenrumseyi/10-SRNP-110495_DHJ655370+1309874596.jpg': 'BLPDU1073-11',\n",
       " 'image_dataset/Ethmia_hammella/10-SRNP-112880_DHJ657755+1309896570.jpg': 'BLPDW988-11',\n",
       " 'image_dataset/Ethmia_randyjonesi/10-SRNP-114465_DHJ659340+1309897038.jpg': 'BLPDX1338-11',\n",
       " 'image_dataset/Ethmia_laphamorum/11-SRNP-103564_DHJ664234+1349455214.jpg': 'BLPEC1007-11',\n",
       " 'image_dataset/Ethmia_laphamorum/11-SRNP-106186-DHJ666856+1331928350.JPG': 'BLPED2584-12',\n",
       " 'image_dataset/Ethmia_scythropa/06-SRNP-31486-DHJ354382+1175950420.jpg': 'MHMXF074-07',\n",
       " 'image_dataset/Ethmia_lichyi/06-SRNP-5342-DHJ354384+1175950440.jpg': 'MHMXF076-07',\n",
       " 'image_dataset/Ethmia_lichyi/06-SRNP-6458-DHJ354398+1175950446.jpg': 'MHMXF090-07',\n",
       " 'image_dataset/Condica_cupentia/06-SRNP-100844_DHJ600844+2147483647.jpg': 'BLPAA845-06',\n",
       " 'image_dataset/Coleophora_serratella/IMG_1301+1238788212.JPG': 'CGUKC757-09',\n",
       " 'image_dataset/Colletes_cunicularius/BC_ZSM_HYM_13861+1341927840.jpg': 'GBACU1606-12',\n",
       " 'image_dataset/Colletes_daviesanus/BC_ZSM_HYM_17265+1362506154.jpg': 'GBACU3680-13',\n",
       " 'image_dataset/Coleophora_sylvaticella/TLMF_Lep_11697+1380722406.jpg': 'LEATE285-13',\n",
       " 'image_dataset/Coleophora_trifolii/TLMF_Lep_12102+1381247810.jpg': 'LEATE690-13',\n",
       " 'image_dataset/Coleophora_sylvaticella/TLMF_Lep_17881+1442524644.jpg': 'LEATJ306-15',\n",
       " 'image_dataset/Coleophora_prepostera/CNCLEP00008553+1169742938.jpg': 'LNAEM340-07',\n",
       " 'image_dataset/Coleophora_prepostera/CNCLEP00008566+1169743688.jpg': 'LNAEM353-07',\n",
       " 'image_dataset/Coleophora_serratella/CNCLEP00024801+1166538420.jpg': 'LNAEN944-07',\n",
       " 'image_dataset/Coleophora_trifolii/CNCLEP00020131+1161002122.jpg': 'LNEL203-06',\n",
       " 'image_dataset/Coleophora_texanella/BIOUG07782-B03+1380305050.jpg': 'LOCBF2698-13',\n",
       " 'image_dataset/Coleophora_texanella/BIOUG07782-C11+1380305480.jpg': 'LOCBF2718-13',\n",
       " 'image_dataset/Coleophora_texanella/BIOUG07782-E10+1380305940.jpg': 'LOCBF2741-13',\n",
       " 'image_dataset/Coleophora_texanella/BIOUG07782-F02+1380306036.jpg': 'LOCBF2745-13',\n",
       " 'image_dataset/Coleophora_texanella/BIOUG07782-F04+1380306078.jpg': 'LOCBF2747-13',\n",
       " 'image_dataset/Coleophora_texanella/BIOUG07782-G01+1380300910.jpg': 'LOCBF2756-13',\n",
       " 'image_dataset/Coleophora_texanella/BIOUG07782-G08+1380301890.jpg': 'LOCBF2763-13',\n",
       " 'image_dataset/Coleophora_texanella/bioug06257-f09+1371212398.jpg': 'LOCBF639-13',\n",
       " 'image_dataset/Coleophora_tiliaefoliella/CNCLEP00040689+1212698594.jpg': 'MNAF704-08',\n",
       " 'image_dataset/Coleophora_wyethiae/CNCLEP00000934+1248186555.JPG': 'MNAG905-08',\n",
       " 'image_dataset/Coleophora_wyethiae/CNCLEP00000969+1248186816.JPG': 'MNAG912-08',\n",
       " 'image_dataset/Colletes_cunicularius/NHMO_APO00040+1375712778.jpg': 'NOBEE040-09',\n",
       " 'image_dataset/Condica_aroana/IMG_9731+1231873750.JPG': 'NSWHH249-09',\n",
       " 'image_dataset/Condica_cupentia/06-SRNP-104640_DHJ604640+1197404940.jpg': 'BLPAE881-07',\n",
       " 'image_dataset/Coleophora_texanella/MM21630+1342195656.JPG': 'ELACA2076-12',\n",
       " 'image_dataset/Colletes_cunicularius/BC_ZSM_HYM00675+1243550580.JPG': 'FBHAP200-09',\n",
       " 'image_dataset/Colletes_cunicularius/BC_ZSM_HYM_13860+1341927678.jpg': 'GBACU1605-12',\n",
       " 'image_dataset/Colletes_fodiens/BC_ZSM_HYM_14926+1347049300.jpg': 'GBACU961-12',\n",
       " 'image_dataset/Coleophora_sylvaticella/15523+1413288370.JPG': 'LEATH311-14',\n",
       " 'image_dataset/Coleophora_sylvaticella/TLMF_Lep_18052+1442524672.jpg': 'LEATJ477-15',\n",
       " 'image_dataset/Coleophora_prepostera/CNCLEP00008550+1169742784.jpg': 'LNAEM337-07',\n",
       " 'image_dataset/Coleophora_prepostera/CNCLEP00008561+1169743356.jpg': 'LNAEM348-07',\n",
       " 'image_dataset/Coleophora_texanella/BIOUG06606-H07+1374865714.jpg': 'LOCBF1254-13',\n",
       " ...}"
      ]
     },
     "execution_count": 113,
     "metadata": {},
     "output_type": "execute_result"
    }
   ],
   "source": [
    "(img2dna)\n"
   ]
  },
  {
   "cell_type": "code",
   "execution_count": 15,
   "id": "ea1aa8dd-53c3-458a-bfa7-bf381fdcde1d",
   "metadata": {
    "scrolled": true
   },
   "outputs": [
    {
     "data": {
      "text/plain": [
       "(9991, 5)"
      ]
     },
     "execution_count": 15,
     "metadata": {},
     "output_type": "execute_result"
    }
   ],
   "source": [
    "X_test.shape"
   ]
  },
  {
   "cell_type": "code",
   "execution_count": 18,
   "id": "515a342d-a730-4f10-b7db-d97325e18fc1",
   "metadata": {},
   "outputs": [
    {
     "data": {
      "text/plain": [
       "12430"
      ]
     },
     "execution_count": 18,
     "metadata": {},
     "output_type": "execute_result"
    }
   ],
   "source": [
    "n_"
   ]
  },
  {
   "cell_type": "code",
   "execution_count": 173,
   "id": "c637ede3-24bf-4f04-93c2-d442e74ef1ae",
   "metadata": {
    "scrolled": true
   },
   "outputs": [
    {
     "data": {
      "text/plain": [
       "10839"
      ]
     },
     "execution_count": 173,
     "metadata": {},
     "output_type": "execute_result"
    }
   ],
   "source": [
    "len(np.unique(list(img2dna_indices.values())))"
   ]
  },
  {
   "cell_type": "code",
   "execution_count": 176,
   "id": "3576dcd3-9c5d-41b5-bf20-e27cade35933",
   "metadata": {},
   "outputs": [
    {
     "data": {
      "text/plain": [
       "(array([1235., 1246., 1355., 1434., 1079., 1326., 1337., 1478., 1444.,\n",
       "        1105.]),\n",
       " array([    0. ,  3242.3,  6484.6,  9726.9, 12969.2, 16211.5, 19453.8,\n",
       "        22696.1, 25938.4, 29180.7, 32423. ]),\n",
       " <BarContainer object of 10 artists>)"
      ]
     },
     "execution_count": 176,
     "metadata": {},
     "output_type": "execute_result"
    },
    {
     "data": {
      "image/png": "[encoded data removed]",
      "text/plain": [
       "<Figure size 640x480 with 1 Axes>"
      ]
     },
     "metadata": {},
     "output_type": "display_data"
    }
   ],
   "source": [
    "\n",
    "plt.hist(np.unique(list(img2dna_indices.keys())))"
   ]
  },
  {
   "cell_type": "code",
   "execution_count": null,
   "id": "da092e66-8c27-4b22-ad87-4f880da5efcf",
   "metadata": {},
   "outputs": [],
   "source": []
  }
 ],
 "metadata": {
  "kernelspec": {
   "display_name": "Python 3 (ipykernel)",
   "language": "python",
   "name": "python3"
  },
  "language_info": {
   "codemirror_mode": {
    "name": "ipython",
    "version": 3
   },
   "file_extension": ".py",
   "mimetype": "text/x-python",
   "name": "python",
   "nbconvert_exporter": "python",
   "pygments_lexer": "ipython3",
   "version": "3.12.2"
  }
 },
 "nbformat": 4,
 "nbformat_minor": 5
}
