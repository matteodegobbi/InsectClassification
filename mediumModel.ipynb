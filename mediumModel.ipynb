{
 "cells": [
  {
   "cell_type": "code",
   "execution_count": 19,
   "id": "4cf46788-78b9-4fc6-854e-9ca43ad24494",
   "metadata": {},
   "outputs": [],
   "source": [
    "import torch\n",
    "import torchvision\n",
    "from torch import nn \n",
    "#from torch.utils.tensorboard import SummaryWriter\n",
    "from torchvision import transforms\n",
    "import matplotlib.pyplot as plt\n",
    "import pandas as pd\n",
    "from IPython.display import Image \n",
    "import numpy as np\n",
    "import random\n",
    "import dataset_utils\n",
    "from torch.utils.data import Dataset, DataLoader\n",
    "import tqdm"
   ]
  },
  {
   "cell_type": "code",
   "execution_count": 20,
   "id": "9618d03d-1cbb-490f-a824-b31a67e1c3c1",
   "metadata": {},
   "outputs": [],
   "source": [
    "all_images = torch.load('tensor_dataset/all_images.pt')\n",
    "all_dnas = torch.load('tensor_dataset/all_dnas.pt')\n",
    "all_labels = torch.load('tensor_dataset/all_labels.pt')\n",
    "train_loc = torch.load('tensor_dataset/train_loc.pt')\n",
    "val_seen_loc = torch.load('tensor_dataset/val_seen_loc.pt')\n",
    "val_unseen_loc = torch.load('tensor_dataset/val_unseen_loc.pt')\n",
    "test_seen_loc = torch.load('tensor_dataset/test_seen_loc.pt')\n",
    "test_unseen_loc = torch.load('tensor_dataset/test_unseen_loc.pt')\n",
    "species2genus = torch.load('tensor_dataset/species2genus.pt')\n"
   ]
  },
  {
   "cell_type": "code",
   "execution_count": 21,
   "id": "891fe873-b7f8-46af-83dd-1af17c01682a",
   "metadata": {},
   "outputs": [
    {
     "data": {
      "text/plain": [
       "torch.Size([2])"
      ]
     },
     "execution_count": 21,
     "metadata": {},
     "output_type": "execute_result"
    }
   ],
   "source": [
    "all_dnas.unique().shape"
   ]
  },
  {
   "cell_type": "code",
   "execution_count": 22,
   "id": "f691ccd5-27f9-4d10-b511-ee4e3e503100",
   "metadata": {},
   "outputs": [],
   "source": [
    "dna_train = torch.clone(all_dnas[train_loc].data)\n",
    "dna_val = torch.clone(torch.cat((all_dnas[val_seen_loc],all_dnas[val_unseen_loc])).data)\n",
    "dna_test = torch.clone(torch.cat((all_dnas[test_seen_loc],all_dnas[test_unseen_loc])).data)\n",
    "\n",
    "labels_train = torch.clone(all_labels[train_loc].data)\n",
    "labels_val = torch.clone(torch.cat((all_labels[val_seen_loc],all_labels[val_unseen_loc])).data)\n",
    "labels_test = torch.clone(torch.cat((all_labels[test_seen_loc],all_labels[test_unseen_loc])).data)\n",
    "#un_train = torch.unique(dna_train.view(dna_train.size(0), -1), dim=0)\n",
    "#un_val = torch.unique(dna_val.view(dna_val.size(0), -1), dim=0)\n",
    "#un_test = torch.unique(dna_test.view(dna_test.size(0), -1), dim=0)"
   ]
  },
  {
   "cell_type": "code",
   "execution_count": 23,
   "id": "3354e694-3b29-48d0-898c-8b1e9c034bad",
   "metadata": {},
   "outputs": [
    {
     "data": {
      "text/plain": [
       "'i = 0 \\nj = 0 \\nsames = dict()\\nsame_counter = 0\\nfor tr in un_train:\\n    #print (tr.shape)\\n    if i%500==0:\\n        print(i)\\n    j=0\\n    for va in un_test:\\n        #assert not (tr==va).all(), f\"train i={i} is equal to val j={j}\"\\n        if (tr==va).all():\\n            same_counter+=1\\n            sames[i]=j\\n            break\\n        j+=1\\n    i+=1\\n'"
      ]
     },
     "execution_count": 23,
     "metadata": {},
     "output_type": "execute_result"
    }
   ],
   "source": [
    "'''i = 0 \n",
    "j = 0 \n",
    "sames = dict()\n",
    "same_counter = 0\n",
    "for tr in un_train:\n",
    "    #print (tr.shape)\n",
    "    if i%500==0:\n",
    "        print(i)\n",
    "    j=0\n",
    "    for va in un_test:\n",
    "        #assert not (tr==va).all(), f\"train i={i} is equal to val j={j}\"\n",
    "        if (tr==va).all():\n",
    "            same_counter+=1\n",
    "            sames[i]=j\n",
    "            break\n",
    "        j+=1\n",
    "    i+=1\n",
    "'''"
   ]
  },
  {
   "cell_type": "code",
   "execution_count": 24,
   "id": "57f0a331-9bf5-4585-90d9-b9cf222637fa",
   "metadata": {},
   "outputs": [
    {
     "name": "stderr",
     "output_type": "stream",
     "text": [
      "/tmp/ipykernel_13056/1547906167.py:4: UserWarning: To copy construct from a tensor, it is recommended to use sourceTensor.clone().detach() or sourceTensor.clone().detach().requires_grad_(True), rather than torch.tensor(sourceTensor).\n",
      "  self.targets = torch.tensor(targets.clone().detach())\n"
     ]
    }
   ],
   "source": [
    "class DNAdataset(Dataset):\n",
    "    def __init__(self, data, targets):\n",
    "        self.data = data.float()\n",
    "        self.targets = torch.tensor(targets.clone().detach())\n",
    "        \n",
    "    def __getitem__(self, index):\n",
    "        x = self.data[index].unsqueeze(0)\n",
    "        y = self.targets[index]\n",
    "        return x, y\n",
    "    def __len__(self):\n",
    "        return len(self.data)\n",
    "        \n",
    "d_train = DNAdataset(dna_train, labels_train)\n",
    "d_val = DNAdataset(dna_val, labels_val)\n",
    "d_train_val = DNAdataset(torch.cat((dna_train,dna_val)), torch.cat((labels_train,labels_val)))\n",
    "d_test = DNAdataset(dna_test,labels_test)"
   ]
  },
  {
   "cell_type": "code",
   "execution_count": null,
   "id": "c3c77361-74c0-486f-a264-8149b922ae82",
   "metadata": {
    "scrolled": true
   },
   "outputs": [],
   "source": []
  },
  {
   "cell_type": "code",
   "execution_count": 25,
   "id": "90033644-2ac6-49f9-9412-0fb513bc1fd2",
   "metadata": {},
   "outputs": [
    {
     "data": {
      "text/plain": [
       "(tensor([[[1., 0., 0., 0., 0.],\n",
       "          [1., 0., 0., 0., 0.],\n",
       "          [0., 1., 0., 0., 0.],\n",
       "          ...,\n",
       "          [0., 0., 0., 1., 0.],\n",
       "          [0., 0., 0., 1., 0.],\n",
       "          [0., 0., 0., 1., 0.]]]),\n",
       " tensor(0))"
      ]
     },
     "execution_count": 25,
     "metadata": {},
     "output_type": "execute_result"
    }
   ],
   "source": [
    "d_train[0]"
   ]
  },
  {
   "cell_type": "code",
   "execution_count": 26,
   "id": "3063cd5d-4739-4ced-a505-90e9c6d1aea0",
   "metadata": {
    "scrolled": true
   },
   "outputs": [],
   "source": [
    "dataloader_train = DataLoader(d_train, batch_size=32,shuffle=True)\n",
    "dataloader_val = DataLoader(d_val, batch_size=32,shuffle=True)\n",
    "dataloader_train_val = DataLoader(d_train_val, batch_size=32,shuffle=True)\n",
    "dataloader_test = DataLoader(d_test, batch_size=32,shuffle=True)\n",
    "dataloaders = {'train':dataloader_train,'val':dataloader_val,'train_val':dataloader_train_val,'test':dataloader_test}\n",
    "dataset_sizes = {'train': d_train.data.shape[0], 'val':d_val.data.shape[0],'train_val':d_train_val.data.shape[0],'test':d_test.data.shape[0]}"
   ]
  },
  {
   "cell_type": "code",
   "execution_count": null,
   "id": "9878c159-7371-4f31-8a15-75c7fa046d71",
   "metadata": {},
   "outputs": [],
   "source": []
  },
  {
   "cell_type": "code",
   "execution_count": 27,
   "id": "e3abc1bb-7db2-477f-b0ed-d2254bc5d2a5",
   "metadata": {},
   "outputs": [
    {
     "name": "stdout",
     "output_type": "stream",
     "text": [
      "ATTENZIONE A STA ROBA NON DIMENTICARE!!!!!!!!!!!!!!!!!!!!!!!!!!!!!!!\n"
     ]
    }
   ],
   "source": [
    "is_train_val = False\n",
    "if is_train_val:\n",
    "    dataloaders['train'] = dataloaders['train_val']\n",
    "    dataloaders['val'] = dataloaders['test']\n",
    "    dataset_sizes['train'] = dataset_sizes['train_val']\n",
    "    dataset_sizes['val'] = dataset_sizes['test']\n",
    "print(\"ATTENZIONE A STA ROBA NON DIMENTICARE!!!!!!!!!!!!!!!!!!!!!!!!!!!!!!!\")"
   ]
  },
  {
   "cell_type": "code",
   "execution_count": 28,
   "id": "dc9a2c52-5750-4cbf-9b0f-6cd915b0f83f",
   "metadata": {},
   "outputs": [],
   "source": [
    "\n",
    "from tqdm.notebook import tqdm\n",
    "def fit(epochs,dataloaders,optimizer,model,start_idx=0):\n",
    "    criterion = torch.nn.CrossEntropyLoss()\n",
    "    device = torch.device(\"cuda:0\" if torch.cuda.is_available() else \"cpu\")\n",
    "    torch.cuda.empty_cache()\n",
    "    \n",
    "    train_losses = []\n",
    "    train_scores = []\n",
    "    val_losses = []\n",
    "    val_scores = []\n",
    "    for epoch in range(epochs):\n",
    "        running_train_corrects = 0\n",
    "        for dnas,labels in tqdm(dataloaders['train']):\n",
    "            model.train()\n",
    "            dnas = dnas.to(device)\n",
    "            labels = labels.to(device)\n",
    "            optimizer.zero_grad()\n",
    "            #print(dnas.shape)\n",
    "            predicted_labels = model(dnas)\n",
    "            train_loss = criterion(predicted_labels,labels)\n",
    "            train_loss.backward()\n",
    "            optimizer.step()\n",
    "            \n",
    "            _, preds = torch.max(predicted_labels, 1)\n",
    "            #print(preds)\n",
    "            #print(labels.data)\n",
    "            running_train_corrects += torch.sum(preds == labels.data)\n",
    "        train_losses.append(train_loss)\n",
    "        \n",
    "        running_val_corrects = 0\n",
    "        for dnas,labels in tqdm(dataloaders['val']):\n",
    "            \n",
    "            model.eval()\n",
    "            with torch.no_grad():\n",
    "                dnas = dnas.to(device)\n",
    "                labels = labels.to(device)\n",
    "                optimizer.zero_grad()\n",
    "                \n",
    "                predicted_labels = model(dnas)\n",
    "                val_loss = criterion(predicted_labels,labels)\n",
    "                \n",
    "                _, preds = torch.max(predicted_labels, 1)\n",
    "                #print(preds)\n",
    "                #print(labels.data)\n",
    "                running_val_corrects += torch.sum(preds == labels.data)\n",
    "        val_losses.append(val_loss)\n",
    "        \n",
    "        \n",
    "        \n",
    "        #real_scores.append(real_score)\n",
    "        #fit_p.writer.add_scalar('loss_g', loss_g, epoch)\n",
    "        # Log losses & scores (last batch)\n",
    "        \n",
    "        epoch_train_acc = running_train_corrects.double() / dataset_sizes['train']\n",
    "        epoch_val_acc = running_val_corrects.double() / dataset_sizes['val']\n",
    "        print(\"Epoch [{}/{}], train_loss: {:.4f},  train_score: {:.4f},val_loss: {:.4f},  val_score: {:.4f}\".format(\n",
    "            epoch+1, epochs, train_loss, epoch_train_acc,val_loss,epoch_val_acc))\n",
    "        #print(f\"class accuracy real {class_accuracy_real}\")\n",
    "    \n",
    "    return train_losses"
   ]
  },
  {
   "cell_type": "code",
   "execution_count": 38,
   "id": "5d03c6b5-08eb-4727-9c6c-eb7dd8bd103b",
   "metadata": {},
   "outputs": [
    {
     "name": "stdout",
     "output_type": "stream",
     "text": [
      "6452761\n"
     ]
    }
   ],
   "source": [
    "''' def __init__(self):\n",
    "        super(TinyModel, self).__init__()\n",
    "\n",
    "        #self.linear1 = torch.nn.Linear(658, 200)\n",
    "        self.conv1 = torch.nn.Conv2d(1,16,(5,1))\n",
    "        self.activation1 = torch.nn.LeakyReLU()\n",
    "        self.norm1 = torch.nn.BatchNorm2d(16)\n",
    "        self.conv2 = torch.nn.Conv2d(16,1,(5,1))\n",
    "        self.activation2 = torch.nn.LeakyReLU()\n",
    "        self.norm2 = torch.nn.BatchNorm2d(1)\n",
    "        #self.conv2 = torch.nn.Conv2d(2, 2,1)\n",
    "        #self.conv2 = torch.nn.Conv2d(5,1,(3,1))\n",
    "        #self.activation2 = torch.nn.LeakyReLU()\n",
    "        #self.norm2 = torch.nn.BatchNorm2d(1)\n",
    "        self.flat = torch.nn.Flatten()\n",
    "        self.linear = torch.nn.Linear(3250,1500)\n",
    "        self.dropout1= torch.nn.Dropout(0.70)\n",
    "        self.dropout2= torch.nn.Dropout(0.70)\n",
    "        self.activation3 = torch.nn.LeakyReLU()\n",
    "        self.linear2 = torch.nn.Linear(1500,1050)\n",
    "        #self.softmax = torch.nn.Softmax()'''\n",
    "class TinyModel(torch.nn.Module):\n",
    "    def __init__(self):\n",
    "        super(TinyModel, self).__init__()\n",
    "\n",
    "        #self.linear1 = torch.nn.Linear(658, 200)\n",
    "        self.conv1 = torch.nn.Conv2d(1,16,(5,1))\n",
    "        self.activation1 = torch.nn.LeakyReLU()\n",
    "        self.norm1 = torch.nn.BatchNorm2d(16)\n",
    "        self.conv2 = torch.nn.Conv2d(16,1,(5,1))\n",
    "        self.activation2 = torch.nn.LeakyReLU()\n",
    "        self.norm2 = torch.nn.BatchNorm2d(1)\n",
    "        #self.conv2 = torch.nn.Conv2d(2, 2,1)\n",
    "        #self.conv2 = torch.nn.Conv2d(5,1,(3,1))\n",
    "        #self.activation2 = torch.nn.LeakyReLU()\n",
    "        #self.norm2 = torch.nn.BatchNorm2d(1)\n",
    "        self.flat = torch.nn.Flatten()\n",
    "        self.linear = torch.nn.Linear(3250,1500)\n",
    "        self.dropout1= torch.nn.Dropout(0.70)\n",
    "        self.dropout2= torch.nn.Dropout(0.70)\n",
    "        self.activation3 = torch.nn.LeakyReLU()\n",
    "        self.linear2 = torch.nn.Linear(1500,1050)\n",
    "        #self.softmax = torch.nn.Softmax()\n",
    "    def forward(self, x):\n",
    "        #print(x.shape)\n",
    "        x = self.conv1(x)\n",
    "        x = self.activation1(x)\n",
    "        x = self.norm1(x)\n",
    "        x = self.conv2(x)\n",
    "        x = self.activation2(x)\n",
    "        x = self.norm2(x)\n",
    "        x = self.dropout1(x)\n",
    "        #x = self.conv2(x)\n",
    "        #x = self.activation2(x)\n",
    "        #x = self.norm2(x)\n",
    "        x = self.flat(x)\n",
    "        x = self.linear(x)\n",
    "        x = self.dropout2(x)\n",
    "        x = self.activation3(x)\n",
    "        x = self.linear2(x)\n",
    "        #x = self.softmax(x)\n",
    "        return x\n",
    "    def feature_extract(self,x):\n",
    "        #print(x.shape)\n",
    "\n",
    "        x = self.conv1(x)\n",
    "        x = self.activation1(x)\n",
    "        x = self.norm1(x)\n",
    "        x = self.conv2(x)\n",
    "        #x = self.activation2(x)\n",
    "        #x = self.norm2(x)\n",
    "\n",
    "        x = self.flat(x)\n",
    "        #x = self.linear(x)\n",
    "        return x\n",
    "\n",
    "import importlib\n",
    "import inception_blocks\n",
    "importlib.reload(inception_blocks)\n",
    "from inception_blocks import inceptionBlock\n",
    "\n",
    "'''class InceptionModel(torch.nn.Module):\n",
    "    def __init__(self):\n",
    "        super(InceptionModel, self).__init__()\n",
    "        self.inc1 = inceptionBlock(1,10)\n",
    "        self.inc2 = inceptionBlock(10,10)\n",
    "        self.inc3 = inceptionBlock(10,40)\n",
    "        self.dropout1 = torch.nn.Dropout(0.70)\n",
    "        self.inc4 = inceptionBlock(40,80)\n",
    "        self.inc5 = inceptionBlock(80,1)\n",
    "\n",
    "        self.flat = torch.nn.Flatten()\n",
    "        self.linear = torch.nn.Linear(3290,1000)\n",
    "        self.dropout2= torch.nn.Dropout(0.70)\n",
    "        self.activation = torch.nn.LeakyReLU()\n",
    "        self.linear2 = torch.nn.Linear(1000,1050)\n",
    "        #self.softmax = torch.nn.Softmax()\n",
    "    def forward(self, x):\n",
    "        #print(x.shape)\n",
    "        x = self.inc1(x)\n",
    "        x = self.inc2(x)\n",
    "        x = self.inc3(x)\n",
    "        x = self.dropout1(x)\n",
    "        x = self.inc4(x)\n",
    "        x = self.inc5(x)\n",
    "        x=self.flat(x)\n",
    "        x=self.linear(x)\n",
    "        x=self.dropout2(x)\n",
    "        x=self.activation(x)\n",
    "        x=self.linear2(x)\n",
    "        return x\n",
    "    def feature_extract(self,x):\n",
    "        #print(x.shape)\n",
    "        x = self.inc1(x)\n",
    "        x = self.inc2(x)\n",
    "        x = self.inc3(x)\n",
    "        x = self.inc4(x)\n",
    "        x = self.inc5(x)\n",
    "        x = self.flat(x)\n",
    "        #x = self.linear(x)\n",
    "        return x'''\n",
    "tinymodel = TinyModel()\n",
    "tinymodel.cuda()\n",
    " \n",
    "optimizer = torch.optim.Adam(tinymodel.parameters(),weight_decay=1e-5)\n",
    "n_params = dataset_utils.count_trainable_parameters(tinymodel);\n",
    "print(n_params)"
   ]
  },
  {
   "cell_type": "code",
   "execution_count": 39,
   "id": "f3d18e57-859d-4c3b-85e8-313e68ced127",
   "metadata": {
    "scrolled": true
   },
   "outputs": [
    {
     "data": {
      "application/vnd.jupyter.widget-view+json": {
       "model_id": "ae4931b5c7aa46b9969e4bd00aad2742",
       "version_major": 2,
       "version_minor": 0
      },
      "text/plain": [
       "  0%|          | 0/408 [00:00<?, ?it/s]"
      ]
     },
     "metadata": {},
     "output_type": "display_data"
    },
    {
     "data": {
      "application/vnd.jupyter.widget-view+json": {
       "model_id": "175274e2faae4e57a4443e9bb8b96b66",
       "version_major": 2,
       "version_minor": 0
      },
      "text/plain": [
       "  0%|          | 0/218 [00:00<?, ?it/s]"
      ]
     },
     "metadata": {},
     "output_type": "display_data"
    },
    {
     "name": "stdout",
     "output_type": "stream",
     "text": [
      "Epoch [1/50], train_loss: 3.1442,  train_score: 0.1795,val_loss: 8.5754,  val_score: 0.2154\n"
     ]
    },
    {
     "data": {
      "application/vnd.jupyter.widget-view+json": {
       "model_id": "86a21f5e6a7d4ba7b1a93c752765566c",
       "version_major": 2,
       "version_minor": 0
      },
      "text/plain": [
       "  0%|          | 0/408 [00:00<?, ?it/s]"
      ]
     },
     "metadata": {},
     "output_type": "display_data"
    },
    {
     "data": {
      "application/vnd.jupyter.widget-view+json": {
       "model_id": "0f54118c3f23486cbe914b44774ec317",
       "version_major": 2,
       "version_minor": 0
      },
      "text/plain": [
       "  0%|          | 0/218 [00:00<?, ?it/s]"
      ]
     },
     "metadata": {},
     "output_type": "display_data"
    },
    {
     "name": "stdout",
     "output_type": "stream",
     "text": [
      "Epoch [2/50], train_loss: 2.5322,  train_score: 0.4064,val_loss: 7.2358,  val_score: 0.3534\n"
     ]
    },
    {
     "data": {
      "application/vnd.jupyter.widget-view+json": {
       "model_id": "ec7d6ee03fa24dcc9af52134a0ace938",
       "version_major": 2,
       "version_minor": 0
      },
      "text/plain": [
       "  0%|          | 0/408 [00:00<?, ?it/s]"
      ]
     },
     "metadata": {},
     "output_type": "display_data"
    },
    {
     "data": {
      "application/vnd.jupyter.widget-view+json": {
       "model_id": "6d937018d45441d3b0e7ffaee88feb09",
       "version_major": 2,
       "version_minor": 0
      },
      "text/plain": [
       "  0%|          | 0/218 [00:00<?, ?it/s]"
      ]
     },
     "metadata": {},
     "output_type": "display_data"
    },
    {
     "name": "stdout",
     "output_type": "stream",
     "text": [
      "Epoch [3/50], train_loss: 1.6094,  train_score: 0.5671,val_loss: 6.4114,  val_score: 0.4142\n"
     ]
    },
    {
     "data": {
      "application/vnd.jupyter.widget-view+json": {
       "model_id": "68ee6ac7e4614ef98bac5f2aad409a67",
       "version_major": 2,
       "version_minor": 0
      },
      "text/plain": [
       "  0%|          | 0/408 [00:00<?, ?it/s]"
      ]
     },
     "metadata": {},
     "output_type": "display_data"
    },
    {
     "data": {
      "application/vnd.jupyter.widget-view+json": {
       "model_id": "fb1c9763aee741f88315321c30411745",
       "version_major": 2,
       "version_minor": 0
      },
      "text/plain": [
       "  0%|          | 0/218 [00:00<?, ?it/s]"
      ]
     },
     "metadata": {},
     "output_type": "display_data"
    },
    {
     "name": "stdout",
     "output_type": "stream",
     "text": [
      "Epoch [4/50], train_loss: 1.1068,  train_score: 0.6782,val_loss: 1.9590,  val_score: 0.4365\n"
     ]
    },
    {
     "data": {
      "application/vnd.jupyter.widget-view+json": {
       "model_id": "9459a3b91c8c44feac8cc3b7cd67b7c8",
       "version_major": 2,
       "version_minor": 0
      },
      "text/plain": [
       "  0%|          | 0/408 [00:00<?, ?it/s]"
      ]
     },
     "metadata": {},
     "output_type": "display_data"
    },
    {
     "data": {
      "application/vnd.jupyter.widget-view+json": {
       "model_id": "10af7d0c6f364ba684b93cd1c9146b50",
       "version_major": 2,
       "version_minor": 0
      },
      "text/plain": [
       "  0%|          | 0/218 [00:00<?, ?it/s]"
      ]
     },
     "metadata": {},
     "output_type": "display_data"
    },
    {
     "name": "stdout",
     "output_type": "stream",
     "text": [
      "Epoch [5/50], train_loss: 1.3544,  train_score: 0.7589,val_loss: 5.3681,  val_score: 0.4462\n"
     ]
    },
    {
     "data": {
      "application/vnd.jupyter.widget-view+json": {
       "model_id": "22c9afdca830492b895d7abe1188bd35",
       "version_major": 2,
       "version_minor": 0
      },
      "text/plain": [
       "  0%|          | 0/408 [00:00<?, ?it/s]"
      ]
     },
     "metadata": {},
     "output_type": "display_data"
    },
    {
     "data": {
      "application/vnd.jupyter.widget-view+json": {
       "model_id": "038be56af20e40019912e6da3bf67b96",
       "version_major": 2,
       "version_minor": 0
      },
      "text/plain": [
       "  0%|          | 0/218 [00:00<?, ?it/s]"
      ]
     },
     "metadata": {},
     "output_type": "display_data"
    },
    {
     "name": "stdout",
     "output_type": "stream",
     "text": [
      "Epoch [6/50], train_loss: 2.2022,  train_score: 0.8119,val_loss: 6.0760,  val_score: 0.4479\n"
     ]
    },
    {
     "data": {
      "application/vnd.jupyter.widget-view+json": {
       "model_id": "623b7547ff9b483ca98349edd73156ef",
       "version_major": 2,
       "version_minor": 0
      },
      "text/plain": [
       "  0%|          | 0/408 [00:00<?, ?it/s]"
      ]
     },
     "metadata": {},
     "output_type": "display_data"
    },
    {
     "data": {
      "application/vnd.jupyter.widget-view+json": {
       "model_id": "d29b9243a18b4a8284f089e578d9d3d6",
       "version_major": 2,
       "version_minor": 0
      },
      "text/plain": [
       "  0%|          | 0/218 [00:00<?, ?it/s]"
      ]
     },
     "metadata": {},
     "output_type": "display_data"
    },
    {
     "name": "stdout",
     "output_type": "stream",
     "text": [
      "Epoch [7/50], train_loss: 0.6104,  train_score: 0.8491,val_loss: 5.2105,  val_score: 0.4545\n"
     ]
    },
    {
     "data": {
      "application/vnd.jupyter.widget-view+json": {
       "model_id": "228ee8ee95514f18bc9c2a6842a253ed",
       "version_major": 2,
       "version_minor": 0
      },
      "text/plain": [
       "  0%|          | 0/408 [00:00<?, ?it/s]"
      ]
     },
     "metadata": {},
     "output_type": "display_data"
    },
    {
     "data": {
      "application/vnd.jupyter.widget-view+json": {
       "model_id": "ec6c062dc9474ae8af42c71d50770143",
       "version_major": 2,
       "version_minor": 0
      },
      "text/plain": [
       "  0%|          | 0/218 [00:00<?, ?it/s]"
      ]
     },
     "metadata": {},
     "output_type": "display_data"
    },
    {
     "name": "stdout",
     "output_type": "stream",
     "text": [
      "Epoch [8/50], train_loss: 0.3000,  train_score: 0.8753,val_loss: 8.1344,  val_score: 0.4529\n"
     ]
    },
    {
     "data": {
      "application/vnd.jupyter.widget-view+json": {
       "model_id": "bf6e0efd1c7f47418253ab14cf88758d",
       "version_major": 2,
       "version_minor": 0
      },
      "text/plain": [
       "  0%|          | 0/408 [00:00<?, ?it/s]"
      ]
     },
     "metadata": {},
     "output_type": "display_data"
    },
    {
     "data": {
      "application/vnd.jupyter.widget-view+json": {
       "model_id": "517cc4750e7648629903c1e598f3fa8a",
       "version_major": 2,
       "version_minor": 0
      },
      "text/plain": [
       "  0%|          | 0/218 [00:00<?, ?it/s]"
      ]
     },
     "metadata": {},
     "output_type": "display_data"
    },
    {
     "name": "stdout",
     "output_type": "stream",
     "text": [
      "Epoch [9/50], train_loss: 0.4339,  train_score: 0.8906,val_loss: 5.9372,  val_score: 0.4539\n"
     ]
    },
    {
     "data": {
      "application/vnd.jupyter.widget-view+json": {
       "model_id": "8c8e1e3e023b4c9d8657bd178139f77d",
       "version_major": 2,
       "version_minor": 0
      },
      "text/plain": [
       "  0%|          | 0/408 [00:00<?, ?it/s]"
      ]
     },
     "metadata": {},
     "output_type": "display_data"
    },
    {
     "data": {
      "application/vnd.jupyter.widget-view+json": {
       "model_id": "39c22192a30c41a7af743c03cba319d1",
       "version_major": 2,
       "version_minor": 0
      },
      "text/plain": [
       "  0%|          | 0/218 [00:00<?, ?it/s]"
      ]
     },
     "metadata": {},
     "output_type": "display_data"
    },
    {
     "name": "stdout",
     "output_type": "stream",
     "text": [
      "Epoch [10/50], train_loss: 0.1781,  train_score: 0.9022,val_loss: 6.7153,  val_score: 0.4545\n"
     ]
    },
    {
     "data": {
      "application/vnd.jupyter.widget-view+json": {
       "model_id": "788d27f34e594710a9a18478eea5c3d2",
       "version_major": 2,
       "version_minor": 0
      },
      "text/plain": [
       "  0%|          | 0/408 [00:00<?, ?it/s]"
      ]
     },
     "metadata": {},
     "output_type": "display_data"
    },
    {
     "data": {
      "application/vnd.jupyter.widget-view+json": {
       "model_id": "083f974415c64ceb85f31b205186a62b",
       "version_major": 2,
       "version_minor": 0
      },
      "text/plain": [
       "  0%|          | 0/218 [00:00<?, ?it/s]"
      ]
     },
     "metadata": {},
     "output_type": "display_data"
    },
    {
     "name": "stdout",
     "output_type": "stream",
     "text": [
      "Epoch [11/50], train_loss: 0.2078,  train_score: 0.9132,val_loss: 5.7854,  val_score: 0.4552\n"
     ]
    },
    {
     "data": {
      "application/vnd.jupyter.widget-view+json": {
       "model_id": "d339ded8e4c14869a54991f297e5320e",
       "version_major": 2,
       "version_minor": 0
      },
      "text/plain": [
       "  0%|          | 0/408 [00:00<?, ?it/s]"
      ]
     },
     "metadata": {},
     "output_type": "display_data"
    },
    {
     "data": {
      "application/vnd.jupyter.widget-view+json": {
       "model_id": "ef222e0786734f9a8d7e95e2bcf86dd6",
       "version_major": 2,
       "version_minor": 0
      },
      "text/plain": [
       "  0%|          | 0/218 [00:00<?, ?it/s]"
      ]
     },
     "metadata": {},
     "output_type": "display_data"
    },
    {
     "name": "stdout",
     "output_type": "stream",
     "text": [
      "Epoch [12/50], train_loss: 0.0205,  train_score: 0.9180,val_loss: 6.1489,  val_score: 0.4564\n"
     ]
    },
    {
     "data": {
      "application/vnd.jupyter.widget-view+json": {
       "model_id": "7d16001828794712b33a1fd4b5a5740c",
       "version_major": 2,
       "version_minor": 0
      },
      "text/plain": [
       "  0%|          | 0/408 [00:00<?, ?it/s]"
      ]
     },
     "metadata": {},
     "output_type": "display_data"
    },
    {
     "data": {
      "application/vnd.jupyter.widget-view+json": {
       "model_id": "ba5786a607cb4aa99aeaa6624c067ab3",
       "version_major": 2,
       "version_minor": 0
      },
      "text/plain": [
       "  0%|          | 0/218 [00:00<?, ?it/s]"
      ]
     },
     "metadata": {},
     "output_type": "display_data"
    },
    {
     "name": "stdout",
     "output_type": "stream",
     "text": [
      "Epoch [13/50], train_loss: 0.7344,  train_score: 0.9342,val_loss: 6.3222,  val_score: 0.4562\n"
     ]
    },
    {
     "data": {
      "application/vnd.jupyter.widget-view+json": {
       "model_id": "cddc07d2ed09422f99511217d9471cb9",
       "version_major": 2,
       "version_minor": 0
      },
      "text/plain": [
       "  0%|          | 0/408 [00:00<?, ?it/s]"
      ]
     },
     "metadata": {},
     "output_type": "display_data"
    },
    {
     "data": {
      "application/vnd.jupyter.widget-view+json": {
       "model_id": "0d9ae91118ae4afda1f54c563d962402",
       "version_major": 2,
       "version_minor": 0
      },
      "text/plain": [
       "  0%|          | 0/218 [00:00<?, ?it/s]"
      ]
     },
     "metadata": {},
     "output_type": "display_data"
    },
    {
     "name": "stdout",
     "output_type": "stream",
     "text": [
      "Epoch [14/50], train_loss: 0.0678,  train_score: 0.9321,val_loss: 8.2998,  val_score: 0.4561\n"
     ]
    },
    {
     "data": {
      "application/vnd.jupyter.widget-view+json": {
       "model_id": "311e3767e6544da893b6af0e64331d4c",
       "version_major": 2,
       "version_minor": 0
      },
      "text/plain": [
       "  0%|          | 0/408 [00:00<?, ?it/s]"
      ]
     },
     "metadata": {},
     "output_type": "display_data"
    },
    {
     "data": {
      "application/vnd.jupyter.widget-view+json": {
       "model_id": "1f929e68bebe4fd6acbe4b027415ff1a",
       "version_major": 2,
       "version_minor": 0
      },
      "text/plain": [
       "  0%|          | 0/218 [00:00<?, ?it/s]"
      ]
     },
     "metadata": {},
     "output_type": "display_data"
    },
    {
     "name": "stdout",
     "output_type": "stream",
     "text": [
      "Epoch [15/50], train_loss: 0.5904,  train_score: 0.9401,val_loss: 5.4802,  val_score: 0.4564\n"
     ]
    },
    {
     "data": {
      "application/vnd.jupyter.widget-view+json": {
       "model_id": "fb0ca795e2144bdeabcdf2bc56f8fbef",
       "version_major": 2,
       "version_minor": 0
      },
      "text/plain": [
       "  0%|          | 0/408 [00:00<?, ?it/s]"
      ]
     },
     "metadata": {},
     "output_type": "display_data"
    },
    {
     "data": {
      "application/vnd.jupyter.widget-view+json": {
       "model_id": "ba44c9d0cd144e7d9b7cafb7e1316d5c",
       "version_major": 2,
       "version_minor": 0
      },
      "text/plain": [
       "  0%|          | 0/218 [00:00<?, ?it/s]"
      ]
     },
     "metadata": {},
     "output_type": "display_data"
    },
    {
     "name": "stdout",
     "output_type": "stream",
     "text": [
      "Epoch [16/50], train_loss: 0.3216,  train_score: 0.9421,val_loss: 7.4965,  val_score: 0.4574\n"
     ]
    },
    {
     "data": {
      "application/vnd.jupyter.widget-view+json": {
       "model_id": "ac94515a94734e3f87448be6ead8ee14",
       "version_major": 2,
       "version_minor": 0
      },
      "text/plain": [
       "  0%|          | 0/408 [00:00<?, ?it/s]"
      ]
     },
     "metadata": {},
     "output_type": "display_data"
    },
    {
     "data": {
      "application/vnd.jupyter.widget-view+json": {
       "model_id": "7f3b3bf8dd054e50b925bbeb2150dd72",
       "version_major": 2,
       "version_minor": 0
      },
      "text/plain": [
       "  0%|          | 0/218 [00:00<?, ?it/s]"
      ]
     },
     "metadata": {},
     "output_type": "display_data"
    },
    {
     "name": "stdout",
     "output_type": "stream",
     "text": [
      "Epoch [17/50], train_loss: 0.0160,  train_score: 0.9467,val_loss: 6.4476,  val_score: 0.4574\n"
     ]
    },
    {
     "data": {
      "application/vnd.jupyter.widget-view+json": {
       "model_id": "71abc47a896c48c3b792712baa0f4b0b",
       "version_major": 2,
       "version_minor": 0
      },
      "text/plain": [
       "  0%|          | 0/408 [00:00<?, ?it/s]"
      ]
     },
     "metadata": {},
     "output_type": "display_data"
    },
    {
     "data": {
      "application/vnd.jupyter.widget-view+json": {
       "model_id": "efb7bf67e3784163bd811a7ef1c118fa",
       "version_major": 2,
       "version_minor": 0
      },
      "text/plain": [
       "  0%|          | 0/218 [00:00<?, ?it/s]"
      ]
     },
     "metadata": {},
     "output_type": "display_data"
    },
    {
     "name": "stdout",
     "output_type": "stream",
     "text": [
      "Epoch [18/50], train_loss: 0.1106,  train_score: 0.9478,val_loss: 5.8023,  val_score: 0.4574\n"
     ]
    },
    {
     "data": {
      "application/vnd.jupyter.widget-view+json": {
       "model_id": "ddd11b7dae9f4183af686e5e5fab351d",
       "version_major": 2,
       "version_minor": 0
      },
      "text/plain": [
       "  0%|          | 0/408 [00:00<?, ?it/s]"
      ]
     },
     "metadata": {},
     "output_type": "display_data"
    },
    {
     "data": {
      "application/vnd.jupyter.widget-view+json": {
       "model_id": "363678d247924b0dae9bd1dfa20347d8",
       "version_major": 2,
       "version_minor": 0
      },
      "text/plain": [
       "  0%|          | 0/218 [00:00<?, ?it/s]"
      ]
     },
     "metadata": {},
     "output_type": "display_data"
    },
    {
     "name": "stdout",
     "output_type": "stream",
     "text": [
      "Epoch [19/50], train_loss: 0.0549,  train_score: 0.9498,val_loss: 3.9970,  val_score: 0.4568\n"
     ]
    },
    {
     "data": {
      "application/vnd.jupyter.widget-view+json": {
       "model_id": "35b04b2dab724a81ac096802b04e425e",
       "version_major": 2,
       "version_minor": 0
      },
      "text/plain": [
       "  0%|          | 0/408 [00:00<?, ?it/s]"
      ]
     },
     "metadata": {},
     "output_type": "display_data"
    },
    {
     "data": {
      "application/vnd.jupyter.widget-view+json": {
       "model_id": "b94364e9831041cda812cec5e3e71569",
       "version_major": 2,
       "version_minor": 0
      },
      "text/plain": [
       "  0%|          | 0/218 [00:00<?, ?it/s]"
      ]
     },
     "metadata": {},
     "output_type": "display_data"
    },
    {
     "name": "stdout",
     "output_type": "stream",
     "text": [
      "Epoch [20/50], train_loss: 0.0312,  train_score: 0.9551,val_loss: 4.8918,  val_score: 0.4574\n"
     ]
    },
    {
     "data": {
      "application/vnd.jupyter.widget-view+json": {
       "model_id": "3c9bba2ba1014aeaba22cd71e160a58b",
       "version_major": 2,
       "version_minor": 0
      },
      "text/plain": [
       "  0%|          | 0/408 [00:00<?, ?it/s]"
      ]
     },
     "metadata": {},
     "output_type": "display_data"
    },
    {
     "data": {
      "application/vnd.jupyter.widget-view+json": {
       "model_id": "ab042fec31274485ab7d2849d37ff47e",
       "version_major": 2,
       "version_minor": 0
      },
      "text/plain": [
       "  0%|          | 0/218 [00:00<?, ?it/s]"
      ]
     },
     "metadata": {},
     "output_type": "display_data"
    },
    {
     "name": "stdout",
     "output_type": "stream",
     "text": [
      "Epoch [21/50], train_loss: 0.0127,  train_score: 0.9554,val_loss: 6.3006,  val_score: 0.4577\n"
     ]
    },
    {
     "data": {
      "application/vnd.jupyter.widget-view+json": {
       "model_id": "3e13022cd4bf4706a7184618afc68d8d",
       "version_major": 2,
       "version_minor": 0
      },
      "text/plain": [
       "  0%|          | 0/408 [00:00<?, ?it/s]"
      ]
     },
     "metadata": {},
     "output_type": "display_data"
    },
    {
     "data": {
      "application/vnd.jupyter.widget-view+json": {
       "model_id": "a3e320b40f424e0382026492c23d3700",
       "version_major": 2,
       "version_minor": 0
      },
      "text/plain": [
       "  0%|          | 0/218 [00:00<?, ?it/s]"
      ]
     },
     "metadata": {},
     "output_type": "display_data"
    },
    {
     "name": "stdout",
     "output_type": "stream",
     "text": [
      "Epoch [22/50], train_loss: 0.1154,  train_score: 0.9580,val_loss: 4.9790,  val_score: 0.4572\n"
     ]
    },
    {
     "data": {
      "application/vnd.jupyter.widget-view+json": {
       "model_id": "2ad27273029f4626862461634f22aa73",
       "version_major": 2,
       "version_minor": 0
      },
      "text/plain": [
       "  0%|          | 0/408 [00:00<?, ?it/s]"
      ]
     },
     "metadata": {},
     "output_type": "display_data"
    },
    {
     "data": {
      "application/vnd.jupyter.widget-view+json": {
       "model_id": "021b49d3cf694d019510c49333b32905",
       "version_major": 2,
       "version_minor": 0
      },
      "text/plain": [
       "  0%|          | 0/218 [00:00<?, ?it/s]"
      ]
     },
     "metadata": {},
     "output_type": "display_data"
    },
    {
     "name": "stdout",
     "output_type": "stream",
     "text": [
      "Epoch [23/50], train_loss: 0.0150,  train_score: 0.9627,val_loss: 9.8042,  val_score: 0.4579\n"
     ]
    },
    {
     "data": {
      "application/vnd.jupyter.widget-view+json": {
       "model_id": "6f9b1585ae9748d2bfd221c2ac59d524",
       "version_major": 2,
       "version_minor": 0
      },
      "text/plain": [
       "  0%|          | 0/408 [00:00<?, ?it/s]"
      ]
     },
     "metadata": {},
     "output_type": "display_data"
    },
    {
     "data": {
      "application/vnd.jupyter.widget-view+json": {
       "model_id": "378c3cc86dc54f259b65f6fda7911668",
       "version_major": 2,
       "version_minor": 0
      },
      "text/plain": [
       "  0%|          | 0/218 [00:00<?, ?it/s]"
      ]
     },
     "metadata": {},
     "output_type": "display_data"
    },
    {
     "name": "stdout",
     "output_type": "stream",
     "text": [
      "Epoch [24/50], train_loss: 0.3159,  train_score: 0.9614,val_loss: 6.1027,  val_score: 0.4575\n"
     ]
    },
    {
     "data": {
      "application/vnd.jupyter.widget-view+json": {
       "model_id": "93879deaf53948ffb2fea9315d18342d",
       "version_major": 2,
       "version_minor": 0
      },
      "text/plain": [
       "  0%|          | 0/408 [00:00<?, ?it/s]"
      ]
     },
     "metadata": {},
     "output_type": "display_data"
    },
    {
     "data": {
      "application/vnd.jupyter.widget-view+json": {
       "model_id": "907952dff90b48eb940e405215953d82",
       "version_major": 2,
       "version_minor": 0
      },
      "text/plain": [
       "  0%|          | 0/218 [00:00<?, ?it/s]"
      ]
     },
     "metadata": {},
     "output_type": "display_data"
    },
    {
     "name": "stdout",
     "output_type": "stream",
     "text": [
      "Epoch [25/50], train_loss: 0.3533,  train_score: 0.9633,val_loss: 5.0506,  val_score: 0.4575\n"
     ]
    },
    {
     "data": {
      "application/vnd.jupyter.widget-view+json": {
       "model_id": "a5f0d9e0f1fa41639838e5e929e44cfd",
       "version_major": 2,
       "version_minor": 0
      },
      "text/plain": [
       "  0%|          | 0/408 [00:00<?, ?it/s]"
      ]
     },
     "metadata": {},
     "output_type": "display_data"
    },
    {
     "data": {
      "application/vnd.jupyter.widget-view+json": {
       "model_id": "bd43893cb47e460fb65159920c01538a",
       "version_major": 2,
       "version_minor": 0
      },
      "text/plain": [
       "  0%|          | 0/218 [00:00<?, ?it/s]"
      ]
     },
     "metadata": {},
     "output_type": "display_data"
    },
    {
     "name": "stdout",
     "output_type": "stream",
     "text": [
      "Epoch [26/50], train_loss: 0.1618,  train_score: 0.9639,val_loss: 3.6325,  val_score: 0.4574\n"
     ]
    },
    {
     "data": {
      "application/vnd.jupyter.widget-view+json": {
       "model_id": "3ebd8b835caf4b19b9e27f4ce9c515c0",
       "version_major": 2,
       "version_minor": 0
      },
      "text/plain": [
       "  0%|          | 0/408 [00:00<?, ?it/s]"
      ]
     },
     "metadata": {},
     "output_type": "display_data"
    },
    {
     "data": {
      "application/vnd.jupyter.widget-view+json": {
       "model_id": "58815d3031224faa9ac4cb5a23c8c88e",
       "version_major": 2,
       "version_minor": 0
      },
      "text/plain": [
       "  0%|          | 0/218 [00:00<?, ?it/s]"
      ]
     },
     "metadata": {},
     "output_type": "display_data"
    },
    {
     "name": "stdout",
     "output_type": "stream",
     "text": [
      "Epoch [27/50], train_loss: 0.1791,  train_score: 0.9652,val_loss: 6.6373,  val_score: 0.4572\n"
     ]
    },
    {
     "data": {
      "application/vnd.jupyter.widget-view+json": {
       "model_id": "2ad9b5477e9240cbb3589c0dccf9436b",
       "version_major": 2,
       "version_minor": 0
      },
      "text/plain": [
       "  0%|          | 0/408 [00:00<?, ?it/s]"
      ]
     },
     "metadata": {},
     "output_type": "display_data"
    },
    {
     "data": {
      "application/vnd.jupyter.widget-view+json": {
       "model_id": "9dc27932603b46ffa685a1d382c0fb17",
       "version_major": 2,
       "version_minor": 0
      },
      "text/plain": [
       "  0%|          | 0/218 [00:00<?, ?it/s]"
      ]
     },
     "metadata": {},
     "output_type": "display_data"
    },
    {
     "name": "stdout",
     "output_type": "stream",
     "text": [
      "Epoch [28/50], train_loss: 0.0007,  train_score: 0.9684,val_loss: 5.7993,  val_score: 0.4577\n"
     ]
    },
    {
     "data": {
      "application/vnd.jupyter.widget-view+json": {
       "model_id": "00a8771a85ae41b1a2c59d136982442c",
       "version_major": 2,
       "version_minor": 0
      },
      "text/plain": [
       "  0%|          | 0/408 [00:00<?, ?it/s]"
      ]
     },
     "metadata": {},
     "output_type": "display_data"
    },
    {
     "data": {
      "application/vnd.jupyter.widget-view+json": {
       "model_id": "efed8a6881de40e19d153a8eb8f25478",
       "version_major": 2,
       "version_minor": 0
      },
      "text/plain": [
       "  0%|          | 0/218 [00:00<?, ?it/s]"
      ]
     },
     "metadata": {},
     "output_type": "display_data"
    },
    {
     "name": "stdout",
     "output_type": "stream",
     "text": [
      "Epoch [29/50], train_loss: 0.0053,  train_score: 0.9675,val_loss: 8.5912,  val_score: 0.4577\n"
     ]
    },
    {
     "data": {
      "application/vnd.jupyter.widget-view+json": {
       "model_id": "08a2925bbe1148fe9c2e600ce8a263f3",
       "version_major": 2,
       "version_minor": 0
      },
      "text/plain": [
       "  0%|          | 0/408 [00:00<?, ?it/s]"
      ]
     },
     "metadata": {},
     "output_type": "display_data"
    },
    {
     "data": {
      "application/vnd.jupyter.widget-view+json": {
       "model_id": "771c2daa173a48c698360bef8460283d",
       "version_major": 2,
       "version_minor": 0
      },
      "text/plain": [
       "  0%|          | 0/218 [00:00<?, ?it/s]"
      ]
     },
     "metadata": {},
     "output_type": "display_data"
    },
    {
     "name": "stdout",
     "output_type": "stream",
     "text": [
      "Epoch [30/50], train_loss: 0.6286,  train_score: 0.9674,val_loss: 6.5532,  val_score: 0.4577\n"
     ]
    },
    {
     "data": {
      "application/vnd.jupyter.widget-view+json": {
       "model_id": "a0a455772f434d2eb863b444b53d90fe",
       "version_major": 2,
       "version_minor": 0
      },
      "text/plain": [
       "  0%|          | 0/408 [00:00<?, ?it/s]"
      ]
     },
     "metadata": {},
     "output_type": "display_data"
    },
    {
     "data": {
      "application/vnd.jupyter.widget-view+json": {
       "model_id": "907be179a8ff4e489c277f4f1b4d44c1",
       "version_major": 2,
       "version_minor": 0
      },
      "text/plain": [
       "  0%|          | 0/218 [00:00<?, ?it/s]"
      ]
     },
     "metadata": {},
     "output_type": "display_data"
    },
    {
     "name": "stdout",
     "output_type": "stream",
     "text": [
      "Epoch [31/50], train_loss: 0.0658,  train_score: 0.9712,val_loss: 6.8812,  val_score: 0.4577\n"
     ]
    },
    {
     "data": {
      "application/vnd.jupyter.widget-view+json": {
       "model_id": "b0cfa82401284edab25a1bd712e002ea",
       "version_major": 2,
       "version_minor": 0
      },
      "text/plain": [
       "  0%|          | 0/408 [00:00<?, ?it/s]"
      ]
     },
     "metadata": {},
     "output_type": "display_data"
    },
    {
     "data": {
      "application/vnd.jupyter.widget-view+json": {
       "model_id": "3c57469feacb45acbd13e2e2eddd2df3",
       "version_major": 2,
       "version_minor": 0
      },
      "text/plain": [
       "  0%|          | 0/218 [00:00<?, ?it/s]"
      ]
     },
     "metadata": {},
     "output_type": "display_data"
    },
    {
     "name": "stdout",
     "output_type": "stream",
     "text": [
      "Epoch [32/50], train_loss: 0.0928,  train_score: 0.9682,val_loss: 9.2313,  val_score: 0.4578\n"
     ]
    },
    {
     "data": {
      "application/vnd.jupyter.widget-view+json": {
       "model_id": "43b259e7a92041699b5f14a4ada15cce",
       "version_major": 2,
       "version_minor": 0
      },
      "text/plain": [
       "  0%|          | 0/408 [00:00<?, ?it/s]"
      ]
     },
     "metadata": {},
     "output_type": "display_data"
    },
    {
     "data": {
      "application/vnd.jupyter.widget-view+json": {
       "model_id": "7742f0fad4c14b4a95561dddb80a78bc",
       "version_major": 2,
       "version_minor": 0
      },
      "text/plain": [
       "  0%|          | 0/218 [00:00<?, ?it/s]"
      ]
     },
     "metadata": {},
     "output_type": "display_data"
    },
    {
     "name": "stdout",
     "output_type": "stream",
     "text": [
      "Epoch [33/50], train_loss: 0.0309,  train_score: 0.9682,val_loss: 6.2037,  val_score: 0.4575\n"
     ]
    },
    {
     "data": {
      "application/vnd.jupyter.widget-view+json": {
       "model_id": "a9c44cc1feba4f8ab0b7dc9d268da3a1",
       "version_major": 2,
       "version_minor": 0
      },
      "text/plain": [
       "  0%|          | 0/408 [00:00<?, ?it/s]"
      ]
     },
     "metadata": {},
     "output_type": "display_data"
    },
    {
     "data": {
      "application/vnd.jupyter.widget-view+json": {
       "model_id": "50e3c9bdcdbe495a9e2b9dd76360c518",
       "version_major": 2,
       "version_minor": 0
      },
      "text/plain": [
       "  0%|          | 0/218 [00:00<?, ?it/s]"
      ]
     },
     "metadata": {},
     "output_type": "display_data"
    },
    {
     "name": "stdout",
     "output_type": "stream",
     "text": [
      "Epoch [34/50], train_loss: 0.4784,  train_score: 0.9712,val_loss: 6.6482,  val_score: 0.4579\n"
     ]
    },
    {
     "data": {
      "application/vnd.jupyter.widget-view+json": {
       "model_id": "9cde10ca249d408187a3f746d084051e",
       "version_major": 2,
       "version_minor": 0
      },
      "text/plain": [
       "  0%|          | 0/408 [00:00<?, ?it/s]"
      ]
     },
     "metadata": {},
     "output_type": "display_data"
    },
    {
     "data": {
      "application/vnd.jupyter.widget-view+json": {
       "model_id": "e5ad002a5e914f9e9247f35e09743751",
       "version_major": 2,
       "version_minor": 0
      },
      "text/plain": [
       "  0%|          | 0/218 [00:00<?, ?it/s]"
      ]
     },
     "metadata": {},
     "output_type": "display_data"
    },
    {
     "name": "stdout",
     "output_type": "stream",
     "text": [
      "Epoch [35/50], train_loss: 0.1254,  train_score: 0.9699,val_loss: 5.4864,  val_score: 0.4578\n"
     ]
    },
    {
     "data": {
      "application/vnd.jupyter.widget-view+json": {
       "model_id": "9df48d62da1e44c6bac3d8e7698f796a",
       "version_major": 2,
       "version_minor": 0
      },
      "text/plain": [
       "  0%|          | 0/408 [00:00<?, ?it/s]"
      ]
     },
     "metadata": {},
     "output_type": "display_data"
    },
    {
     "data": {
      "application/vnd.jupyter.widget-view+json": {
       "model_id": "546a1f928fff43c8a6537be736776832",
       "version_major": 2,
       "version_minor": 0
      },
      "text/plain": [
       "  0%|          | 0/218 [00:00<?, ?it/s]"
      ]
     },
     "metadata": {},
     "output_type": "display_data"
    },
    {
     "name": "stdout",
     "output_type": "stream",
     "text": [
      "Epoch [36/50], train_loss: 0.0203,  train_score: 0.9743,val_loss: 5.6075,  val_score: 0.4578\n"
     ]
    },
    {
     "data": {
      "application/vnd.jupyter.widget-view+json": {
       "model_id": "8f6a274fc18e470399b05a1ce2561aae",
       "version_major": 2,
       "version_minor": 0
      },
      "text/plain": [
       "  0%|          | 0/408 [00:00<?, ?it/s]"
      ]
     },
     "metadata": {},
     "output_type": "display_data"
    },
    {
     "data": {
      "application/vnd.jupyter.widget-view+json": {
       "model_id": "c19a28b2d40f43949393930f20077c69",
       "version_major": 2,
       "version_minor": 0
      },
      "text/plain": [
       "  0%|          | 0/218 [00:00<?, ?it/s]"
      ]
     },
     "metadata": {},
     "output_type": "display_data"
    },
    {
     "name": "stdout",
     "output_type": "stream",
     "text": [
      "Epoch [37/50], train_loss: 0.0001,  train_score: 0.9730,val_loss: 4.7673,  val_score: 0.4568\n"
     ]
    },
    {
     "data": {
      "application/vnd.jupyter.widget-view+json": {
       "model_id": "541e6f13204c4c94931d24e0b1814b49",
       "version_major": 2,
       "version_minor": 0
      },
      "text/plain": [
       "  0%|          | 0/408 [00:00<?, ?it/s]"
      ]
     },
     "metadata": {},
     "output_type": "display_data"
    },
    {
     "data": {
      "application/vnd.jupyter.widget-view+json": {
       "model_id": "d0696d4e611e4cd3ac7ea249d1331aec",
       "version_major": 2,
       "version_minor": 0
      },
      "text/plain": [
       "  0%|          | 0/218 [00:00<?, ?it/s]"
      ]
     },
     "metadata": {},
     "output_type": "display_data"
    },
    {
     "name": "stdout",
     "output_type": "stream",
     "text": [
      "Epoch [38/50], train_loss: 0.0131,  train_score: 0.9719,val_loss: 2.6970,  val_score: 0.4575\n"
     ]
    },
    {
     "data": {
      "application/vnd.jupyter.widget-view+json": {
       "model_id": "7f78baf55cda451a98a112b6c440c5d5",
       "version_major": 2,
       "version_minor": 0
      },
      "text/plain": [
       "  0%|          | 0/408 [00:00<?, ?it/s]"
      ]
     },
     "metadata": {},
     "output_type": "display_data"
    },
    {
     "data": {
      "application/vnd.jupyter.widget-view+json": {
       "model_id": "f51b0a24154f4c5f87adffa722708ba2",
       "version_major": 2,
       "version_minor": 0
      },
      "text/plain": [
       "  0%|          | 0/218 [00:00<?, ?it/s]"
      ]
     },
     "metadata": {},
     "output_type": "display_data"
    },
    {
     "name": "stdout",
     "output_type": "stream",
     "text": [
      "Epoch [39/50], train_loss: 0.0109,  train_score: 0.9740,val_loss: 7.2190,  val_score: 0.4577\n"
     ]
    },
    {
     "data": {
      "application/vnd.jupyter.widget-view+json": {
       "model_id": "1cf622890434423aa906bdc3e6892eab",
       "version_major": 2,
       "version_minor": 0
      },
      "text/plain": [
       "  0%|          | 0/408 [00:00<?, ?it/s]"
      ]
     },
     "metadata": {},
     "output_type": "display_data"
    },
    {
     "data": {
      "application/vnd.jupyter.widget-view+json": {
       "model_id": "1400eea2591e4110926afe7a7851b721",
       "version_major": 2,
       "version_minor": 0
      },
      "text/plain": [
       "  0%|          | 0/218 [00:00<?, ?it/s]"
      ]
     },
     "metadata": {},
     "output_type": "display_data"
    },
    {
     "name": "stdout",
     "output_type": "stream",
     "text": [
      "Epoch [40/50], train_loss: 0.0143,  train_score: 0.9732,val_loss: 5.2407,  val_score: 0.4582\n"
     ]
    },
    {
     "data": {
      "application/vnd.jupyter.widget-view+json": {
       "model_id": "3330ee4c2ee548cfaf954145ee340b77",
       "version_major": 2,
       "version_minor": 0
      },
      "text/plain": [
       "  0%|          | 0/408 [00:00<?, ?it/s]"
      ]
     },
     "metadata": {},
     "output_type": "display_data"
    },
    {
     "data": {
      "application/vnd.jupyter.widget-view+json": {
       "model_id": "7630ecb6b453461190c9c5fb6f879d69",
       "version_major": 2,
       "version_minor": 0
      },
      "text/plain": [
       "  0%|          | 0/218 [00:00<?, ?it/s]"
      ]
     },
     "metadata": {},
     "output_type": "display_data"
    },
    {
     "name": "stdout",
     "output_type": "stream",
     "text": [
      "Epoch [41/50], train_loss: 0.0011,  train_score: 0.9755,val_loss: 6.0197,  val_score: 0.4579\n"
     ]
    },
    {
     "data": {
      "application/vnd.jupyter.widget-view+json": {
       "model_id": "4c570add421841aeb25ec14dc9911072",
       "version_major": 2,
       "version_minor": 0
      },
      "text/plain": [
       "  0%|          | 0/408 [00:00<?, ?it/s]"
      ]
     },
     "metadata": {},
     "output_type": "display_data"
    },
    {
     "data": {
      "application/vnd.jupyter.widget-view+json": {
       "model_id": "1f10fb4862a54505a279120b63bd8c43",
       "version_major": 2,
       "version_minor": 0
      },
      "text/plain": [
       "  0%|          | 0/218 [00:00<?, ?it/s]"
      ]
     },
     "metadata": {},
     "output_type": "display_data"
    },
    {
     "name": "stdout",
     "output_type": "stream",
     "text": [
      "Epoch [42/50], train_loss: 0.4240,  train_score: 0.9730,val_loss: 4.5267,  val_score: 0.4577\n"
     ]
    },
    {
     "data": {
      "application/vnd.jupyter.widget-view+json": {
       "model_id": "00b7bb4c6b1047b99c8f4c052bddd673",
       "version_major": 2,
       "version_minor": 0
      },
      "text/plain": [
       "  0%|          | 0/408 [00:00<?, ?it/s]"
      ]
     },
     "metadata": {},
     "output_type": "display_data"
    },
    {
     "data": {
      "application/vnd.jupyter.widget-view+json": {
       "model_id": "d80622b0909c48d5845affaf5f3962e8",
       "version_major": 2,
       "version_minor": 0
      },
      "text/plain": [
       "  0%|          | 0/218 [00:00<?, ?it/s]"
      ]
     },
     "metadata": {},
     "output_type": "display_data"
    },
    {
     "name": "stdout",
     "output_type": "stream",
     "text": [
      "Epoch [43/50], train_loss: 0.2383,  train_score: 0.9760,val_loss: 4.3888,  val_score: 0.4578\n"
     ]
    },
    {
     "data": {
      "application/vnd.jupyter.widget-view+json": {
       "model_id": "d708175681464e859eb6a478af357fd3",
       "version_major": 2,
       "version_minor": 0
      },
      "text/plain": [
       "  0%|          | 0/408 [00:00<?, ?it/s]"
      ]
     },
     "metadata": {},
     "output_type": "display_data"
    },
    {
     "data": {
      "application/vnd.jupyter.widget-view+json": {
       "model_id": "78d4c6ac00bf4c389f43ada1a1d808ef",
       "version_major": 2,
       "version_minor": 0
      },
      "text/plain": [
       "  0%|          | 0/218 [00:00<?, ?it/s]"
      ]
     },
     "metadata": {},
     "output_type": "display_data"
    },
    {
     "name": "stdout",
     "output_type": "stream",
     "text": [
      "Epoch [44/50], train_loss: 0.0047,  train_score: 0.9761,val_loss: 6.5445,  val_score: 0.4578\n"
     ]
    },
    {
     "data": {
      "application/vnd.jupyter.widget-view+json": {
       "model_id": "5f530eb8bf684395bb87d1b7b8f49412",
       "version_major": 2,
       "version_minor": 0
      },
      "text/plain": [
       "  0%|          | 0/408 [00:00<?, ?it/s]"
      ]
     },
     "metadata": {},
     "output_type": "display_data"
    },
    {
     "data": {
      "application/vnd.jupyter.widget-view+json": {
       "model_id": "7b19aadda2db45e5a1472af89e8029e0",
       "version_major": 2,
       "version_minor": 0
      },
      "text/plain": [
       "  0%|          | 0/218 [00:00<?, ?it/s]"
      ]
     },
     "metadata": {},
     "output_type": "display_data"
    },
    {
     "name": "stdout",
     "output_type": "stream",
     "text": [
      "Epoch [45/50], train_loss: 0.0054,  train_score: 0.9758,val_loss: 3.2471,  val_score: 0.4577\n"
     ]
    },
    {
     "data": {
      "application/vnd.jupyter.widget-view+json": {
       "model_id": "bd54ed45b49645ffa17b2bda6ee32a71",
       "version_major": 2,
       "version_minor": 0
      },
      "text/plain": [
       "  0%|          | 0/408 [00:00<?, ?it/s]"
      ]
     },
     "metadata": {},
     "output_type": "display_data"
    },
    {
     "data": {
      "application/vnd.jupyter.widget-view+json": {
       "model_id": "767c28ce1664452e9877125bfb146544",
       "version_major": 2,
       "version_minor": 0
      },
      "text/plain": [
       "  0%|          | 0/218 [00:00<?, ?it/s]"
      ]
     },
     "metadata": {},
     "output_type": "display_data"
    },
    {
     "name": "stdout",
     "output_type": "stream",
     "text": [
      "Epoch [46/50], train_loss: 0.0273,  train_score: 0.9762,val_loss: 5.5566,  val_score: 0.4579\n"
     ]
    },
    {
     "data": {
      "application/vnd.jupyter.widget-view+json": {
       "model_id": "c1f099ba62e1411dbd8f9c0c9bde38c3",
       "version_major": 2,
       "version_minor": 0
      },
      "text/plain": [
       "  0%|          | 0/408 [00:00<?, ?it/s]"
      ]
     },
     "metadata": {},
     "output_type": "display_data"
    },
    {
     "data": {
      "application/vnd.jupyter.widget-view+json": {
       "model_id": "e37bd29b49374eba907ad6709640b1e2",
       "version_major": 2,
       "version_minor": 0
      },
      "text/plain": [
       "  0%|          | 0/218 [00:00<?, ?it/s]"
      ]
     },
     "metadata": {},
     "output_type": "display_data"
    },
    {
     "name": "stdout",
     "output_type": "stream",
     "text": [
      "Epoch [47/50], train_loss: 0.0031,  train_score: 0.9764,val_loss: 5.7541,  val_score: 0.4579\n"
     ]
    },
    {
     "data": {
      "application/vnd.jupyter.widget-view+json": {
       "model_id": "65b099ad37a249e7b5172ad497b9ba0e",
       "version_major": 2,
       "version_minor": 0
      },
      "text/plain": [
       "  0%|          | 0/408 [00:00<?, ?it/s]"
      ]
     },
     "metadata": {},
     "output_type": "display_data"
    },
    {
     "data": {
      "application/vnd.jupyter.widget-view+json": {
       "model_id": "3c2ee43cc59e49d188e7c0b54d392032",
       "version_major": 2,
       "version_minor": 0
      },
      "text/plain": [
       "  0%|          | 0/218 [00:00<?, ?it/s]"
      ]
     },
     "metadata": {},
     "output_type": "display_data"
    },
    {
     "name": "stdout",
     "output_type": "stream",
     "text": [
      "Epoch [48/50], train_loss: 0.0040,  train_score: 0.9769,val_loss: 4.2983,  val_score: 0.4578\n"
     ]
    },
    {
     "data": {
      "application/vnd.jupyter.widget-view+json": {
       "model_id": "47804428641a484e9a39a2358ed5e42c",
       "version_major": 2,
       "version_minor": 0
      },
      "text/plain": [
       "  0%|          | 0/408 [00:00<?, ?it/s]"
      ]
     },
     "metadata": {},
     "output_type": "display_data"
    },
    {
     "data": {
      "application/vnd.jupyter.widget-view+json": {
       "model_id": "8abe3ac14eeb4f91a935459ec5eac21c",
       "version_major": 2,
       "version_minor": 0
      },
      "text/plain": [
       "  0%|          | 0/218 [00:00<?, ?it/s]"
      ]
     },
     "metadata": {},
     "output_type": "display_data"
    },
    {
     "name": "stdout",
     "output_type": "stream",
     "text": [
      "Epoch [49/50], train_loss: 0.0059,  train_score: 0.9753,val_loss: 5.0457,  val_score: 0.4578\n"
     ]
    },
    {
     "data": {
      "application/vnd.jupyter.widget-view+json": {
       "model_id": "687b0555355542d8b8d6418ab9fa4857",
       "version_major": 2,
       "version_minor": 0
      },
      "text/plain": [
       "  0%|          | 0/408 [00:00<?, ?it/s]"
      ]
     },
     "metadata": {},
     "output_type": "display_data"
    },
    {
     "data": {
      "application/vnd.jupyter.widget-view+json": {
       "model_id": "bb1c490bea324a01ba9eca814f63204e",
       "version_major": 2,
       "version_minor": 0
      },
      "text/plain": [
       "  0%|          | 0/218 [00:00<?, ?it/s]"
      ]
     },
     "metadata": {},
     "output_type": "display_data"
    },
    {
     "name": "stdout",
     "output_type": "stream",
     "text": [
      "Epoch [50/50], train_loss: 0.8819,  train_score: 0.9775,val_loss: 7.4118,  val_score: 0.4579\n"
     ]
    },
    {
     "data": {
      "text/plain": [
       "[tensor(3.1442, device='cuda:0', grad_fn=<NllLossBackward0>),\n",
       " tensor(2.5322, device='cuda:0', grad_fn=<NllLossBackward0>),\n",
       " tensor(1.6094, device='cuda:0', grad_fn=<NllLossBackward0>),\n",
       " tensor(1.1068, device='cuda:0', grad_fn=<NllLossBackward0>),\n",
       " tensor(1.3544, device='cuda:0', grad_fn=<NllLossBackward0>),\n",
       " tensor(2.2022, device='cuda:0', grad_fn=<NllLossBackward0>),\n",
       " tensor(0.6104, device='cuda:0', grad_fn=<NllLossBackward0>),\n",
       " tensor(0.3000, device='cuda:0', grad_fn=<NllLossBackward0>),\n",
       " tensor(0.4339, device='cuda:0', grad_fn=<NllLossBackward0>),\n",
       " tensor(0.1781, device='cuda:0', grad_fn=<NllLossBackward0>),\n",
       " tensor(0.2078, device='cuda:0', grad_fn=<NllLossBackward0>),\n",
       " tensor(0.0205, device='cuda:0', grad_fn=<NllLossBackward0>),\n",
       " tensor(0.7344, device='cuda:0', grad_fn=<NllLossBackward0>),\n",
       " tensor(0.0678, device='cuda:0', grad_fn=<NllLossBackward0>),\n",
       " tensor(0.5904, device='cuda:0', grad_fn=<NllLossBackward0>),\n",
       " tensor(0.3216, device='cuda:0', grad_fn=<NllLossBackward0>),\n",
       " tensor(0.0160, device='cuda:0', grad_fn=<NllLossBackward0>),\n",
       " tensor(0.1106, device='cuda:0', grad_fn=<NllLossBackward0>),\n",
       " tensor(0.0549, device='cuda:0', grad_fn=<NllLossBackward0>),\n",
       " tensor(0.0312, device='cuda:0', grad_fn=<NllLossBackward0>),\n",
       " tensor(0.0127, device='cuda:0', grad_fn=<NllLossBackward0>),\n",
       " tensor(0.1154, device='cuda:0', grad_fn=<NllLossBackward0>),\n",
       " tensor(0.0150, device='cuda:0', grad_fn=<NllLossBackward0>),\n",
       " tensor(0.3159, device='cuda:0', grad_fn=<NllLossBackward0>),\n",
       " tensor(0.3533, device='cuda:0', grad_fn=<NllLossBackward0>),\n",
       " tensor(0.1618, device='cuda:0', grad_fn=<NllLossBackward0>),\n",
       " tensor(0.1791, device='cuda:0', grad_fn=<NllLossBackward0>),\n",
       " tensor(0.0007, device='cuda:0', grad_fn=<NllLossBackward0>),\n",
       " tensor(0.0053, device='cuda:0', grad_fn=<NllLossBackward0>),\n",
       " tensor(0.6286, device='cuda:0', grad_fn=<NllLossBackward0>),\n",
       " tensor(0.0658, device='cuda:0', grad_fn=<NllLossBackward0>),\n",
       " tensor(0.0928, device='cuda:0', grad_fn=<NllLossBackward0>),\n",
       " tensor(0.0309, device='cuda:0', grad_fn=<NllLossBackward0>),\n",
       " tensor(0.4784, device='cuda:0', grad_fn=<NllLossBackward0>),\n",
       " tensor(0.1254, device='cuda:0', grad_fn=<NllLossBackward0>),\n",
       " tensor(0.0203, device='cuda:0', grad_fn=<NllLossBackward0>),\n",
       " tensor(0.0001, device='cuda:0', grad_fn=<NllLossBackward0>),\n",
       " tensor(0.0131, device='cuda:0', grad_fn=<NllLossBackward0>),\n",
       " tensor(0.0109, device='cuda:0', grad_fn=<NllLossBackward0>),\n",
       " tensor(0.0143, device='cuda:0', grad_fn=<NllLossBackward0>),\n",
       " tensor(0.0011, device='cuda:0', grad_fn=<NllLossBackward0>),\n",
       " tensor(0.4240, device='cuda:0', grad_fn=<NllLossBackward0>),\n",
       " tensor(0.2383, device='cuda:0', grad_fn=<NllLossBackward0>),\n",
       " tensor(0.0047, device='cuda:0', grad_fn=<NllLossBackward0>),\n",
       " tensor(0.0054, device='cuda:0', grad_fn=<NllLossBackward0>),\n",
       " tensor(0.0273, device='cuda:0', grad_fn=<NllLossBackward0>),\n",
       " tensor(0.0031, device='cuda:0', grad_fn=<NllLossBackward0>),\n",
       " tensor(0.0040, device='cuda:0', grad_fn=<NllLossBackward0>),\n",
       " tensor(0.0059, device='cuda:0', grad_fn=<NllLossBackward0>),\n",
       " tensor(0.8819, device='cuda:0', grad_fn=<NllLossBackward0>)]"
      ]
     },
     "execution_count": 39,
     "metadata": {},
     "output_type": "execute_result"
    }
   ],
   "source": [
    "fit(50,dataloaders,optimizer,tinymodel)"
   ]
  },
  {
   "cell_type": "code",
   "execution_count": null,
   "id": "4188ff3a-7719-4360-8041-d04a71138424",
   "metadata": {},
   "outputs": [],
   "source": []
  },
  {
   "cell_type": "code",
   "execution_count": null,
   "id": "6943581d-d4f7-4dcf-b7f3-836c1ce4cdcb",
   "metadata": {},
   "outputs": [],
   "source": []
  },
  {
   "cell_type": "code",
   "execution_count": 40,
   "id": "fc515491-5a4b-44a2-91f8-96db76c63f8f",
   "metadata": {
    "scrolled": true
   },
   "outputs": [],
   "source": [
    "device = torch.device(\"cuda:0\" if torch.cuda.is_available() else \"cpu\")\n",
    "import importlib \n",
    "import extract_features\n",
    "importlib.reload(extract_features)\n",
    "(all_dna_features,(expanded_train_dna_features,expanded_train_dna_labels),\n",
    " (expanded_val_dna_features,expanded_val_dna_labels), \n",
    " (expanded_test_dna_features,expanded_test_dna_labels)) = \\\n",
    "extract_features.extract_expanded_dna_features(tinymodel,device,\n",
    "                                               save_to_disk=True)"
   ]
  },
  {
   "cell_type": "markdown",
   "id": "dee4df00-568b-459c-acf0-301ea50fe673",
   "metadata": {},
   "source": [
    "# Save extracted features in .mat"
   ]
  },
  {
   "cell_type": "code",
   "execution_count": 41,
   "id": "306b9931-7761-441a-9f4e-1e3304198dde",
   "metadata": {},
   "outputs": [],
   "source": [
    "import scipy.io as io\n",
    "all_dataset = io.loadmat('matlab_dataset/insect_dataset.mat')\n",
    "all_dataset['all_dna_features_cnn_new'] = all_dna_features \n",
    "io.savemat('matlab_dataset/insect_dataset.mat',all_dataset)\n"
   ]
  },
  {
   "cell_type": "code",
   "execution_count": 23,
   "id": "145896be-bd44-4c9c-af99-ec6b8ebda96e",
   "metadata": {},
   "outputs": [
    {
     "data": {
      "text/plain": [
       "tensor(True)"
      ]
     },
     "execution_count": 23,
     "metadata": {},
     "output_type": "execute_result"
    }
   ],
   "source": []
  },
  {
   "cell_type": "markdown",
   "id": "63279f87-b19c-4043-83e6-6ae92653bfea",
   "metadata": {},
   "source": [
    "# Random Forest"
   ]
  },
  {
   "cell_type": "code",
   "execution_count": 14,
   "id": "ba8bca5a-97ef-4e99-9fd7-b0e1d756c6fd",
   "metadata": {},
   "outputs": [],
   "source": [
    "from sklearn.ensemble import RandomForestClassifier\n",
    "\n",
    "clf = RandomForestClassifier(min_samples_leaf=2,n_jobs=-1)\n",
    "clf = clf.fit(expanded_train_dna_features,expanded_train_dna_labels )"
   ]
  },
  {
   "cell_type": "code",
   "execution_count": 15,
   "id": "75af3100-2f89-49e6-b8e9-343cb639d732",
   "metadata": {},
   "outputs": [
    {
     "name": "stdout",
     "output_type": "stream",
     "text": [
      "Training species accuracy:0.9993864560165657\n"
     ]
    }
   ],
   "source": [
    "train_predicted_labels = clf.predict(expanded_train_dna_features)\n",
    "print(f\"Training species accuracy:\\\n",
    "{np.count_nonzero(train_predicted_labels==expanded_train_dna_labels.numpy())/len(expanded_train_dna_labels)}\")"
   ]
  },
  {
   "cell_type": "code",
   "execution_count": 16,
   "id": "9e10ab3c-55bf-4ca3-b95c-e978d565b13e",
   "metadata": {},
   "outputs": [
    {
     "name": "stdout",
     "output_type": "stream",
     "text": [
      "Validation species accuracy:0.4567936736161035\n"
     ]
    }
   ],
   "source": [
    "val_predicted_labels= clf.predict(expanded_val_dna_features)\n",
    "print(f\"Validation species accuracy:{np.count_nonzero(val_predicted_labels==expanded_val_dna_labels.numpy())/len(expanded_val_dna_labels)}\")"
   ]
  },
  {
   "cell_type": "code",
   "execution_count": 17,
   "id": "56f0cc56-6f2f-4a32-9997-b89ba87fa3a1",
   "metadata": {},
   "outputs": [
    {
     "name": "stdout",
     "output_type": "stream",
     "text": [
      "Validation genus accuracy: 0.8046010064701653\n"
     ]
    }
   ],
   "source": [
    "\n",
    "temp_val_predicted_probs = clf.predict_proba(expanded_val_dna_features)\n",
    "val_predicted_probs = np.zeros((len(temp_val_predicted_probs),1050))\n",
    "for i, cls in enumerate(np.arange(1050)):\n",
    "    if cls in clf.classes_:\n",
    "        val_predicted_probs[:, cls] = temp_val_predicted_probs[:, list(clf.classes_).index(cls)]\n",
    "import math\n",
    "n_correct_genus = 0\n",
    "for i in range(len(expanded_val_dna_labels)):\n",
    "    #label_best_specie = val_predicted_probs[i].argmax()\n",
    "    label_best_specie = val_predicted_labels[i]\n",
    "    assert(val_predicted_labels[i]==val_predicted_probs[i].argmax())\n",
    "    #print(label_best_specie.item())\n",
    "    genus_of_best_species = species2genus[int(label_best_specie.item())]\n",
    "    #species_same_genus = [k for k,v in species2genus.items() if v == genus_of_best_species]\n",
    "    #reduced_species = val_predicted_probs[i][species_same_genus]\n",
    "    #normalized_reduced_species = reduced_species/(reduced_species.sum())\n",
    "    \n",
    "    real_genus = species2genus[int(expanded_val_dna_labels[i].item())]\n",
    "    predicted_genus = genus_of_best_species\n",
    "    if real_genus == predicted_genus:\n",
    "        n_correct_genus+=1\n",
    "print(f\"Validation genus accuracy: {n_correct_genus/len(expanded_val_dna_labels)}\")\n"
   ]
  },
  {
   "cell_type": "code",
   "execution_count": null,
   "id": "039bbdb0-aced-4c91-8628-332877a8655a",
   "metadata": {},
   "outputs": [],
   "source": []
  }
 ],
 "metadata": {
  "kernelspec": {
   "display_name": "Python 3 (ipykernel)",
   "language": "python",
   "name": "python3"
  },
  "language_info": {
   "codemirror_mode": {
    "name": "ipython",
    "version": 3
   },
   "file_extension": ".py",
   "mimetype": "text/x-python",
   "name": "python",
   "nbconvert_exporter": "python",
   "pygments_lexer": "ipython3",
   "version": "3.12.2"
  }
 },
 "nbformat": 4,
 "nbformat_minor": 5
}
