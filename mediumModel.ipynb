{
 "cells": [
  {
   "cell_type": "code",
   "execution_count": 2,
   "id": "4cf46788-78b9-4fc6-854e-9ca43ad24494",
   "metadata": {},
   "outputs": [],
   "source": [
    "import torch\n",
    "import torchvision\n",
    "from torch import nn \n",
    "#from torch.utils.tensorboard import SummaryWriter\n",
    "from torchvision import transforms\n",
    "import matplotlib.pyplot as plt\n",
    "import pandas as pd\n",
    "from IPython.display import Image \n",
    "import numpy as np\n",
    "import random\n",
    "import dataset_utils\n",
    "from torch.utils.data import Dataset, DataLoader\n",
    "import tqdm"
   ]
  },
  {
   "cell_type": "code",
   "execution_count": 3,
   "id": "9618d03d-1cbb-490f-a824-b31a67e1c3c1",
   "metadata": {},
   "outputs": [],
   "source": [
    "all_images = torch.load('tensor_dataset/all_images.pt')\n",
    "all_dnas = torch.load('tensor_dataset/all_dnas.pt')\n",
    "all_labels = torch.load('tensor_dataset/all_labels.pt')\n",
    "train_loc = torch.load('tensor_dataset/train_loc.pt')\n",
    "val_seen_loc = torch.load('tensor_dataset/val_seen_loc.pt')\n",
    "val_unseen_loc = torch.load('tensor_dataset/val_unseen_loc.pt')\n",
    "test_seen_loc = torch.load('tensor_dataset/test_seen_loc.pt')\n",
    "test_unseen_loc = torch.load('tensor_dataset/test_unseen_loc.pt')\n",
    "species2genus = torch.load('tensor_dataset/species2genus.pt')\n"
   ]
  },
  {
   "cell_type": "code",
   "execution_count": 4,
   "id": "891fe873-b7f8-46af-83dd-1af17c01682a",
   "metadata": {},
   "outputs": [
    {
     "data": {
      "text/plain": [
       "torch.Size([2])"
      ]
     },
     "execution_count": 4,
     "metadata": {},
     "output_type": "execute_result"
    }
   ],
   "source": [
    "all_dnas.unique().shape"
   ]
  },
  {
   "cell_type": "code",
   "execution_count": 5,
   "id": "f691ccd5-27f9-4d10-b511-ee4e3e503100",
   "metadata": {},
   "outputs": [],
   "source": [
    "dna_train = torch.clone(all_dnas[train_loc].data)\n",
    "dna_val = torch.clone(torch.cat((all_dnas[val_seen_loc],all_dnas[val_unseen_loc])).data)\n",
    "dna_test = torch.clone(torch.cat((all_dnas[test_seen_loc],all_dnas[test_unseen_loc])).data)\n",
    "\n",
    "labels_train = torch.clone(all_labels[train_loc].data)\n",
    "labels_val = torch.clone(torch.cat((all_labels[val_seen_loc],all_labels[val_unseen_loc])).data)\n",
    "labels_test = torch.clone(torch.cat((all_labels[test_seen_loc],all_labels[test_unseen_loc])).data)\n",
    "#un_train = torch.unique(dna_train.view(dna_train.size(0), -1), dim=0)\n",
    "#un_val = torch.unique(dna_val.view(dna_val.size(0), -1), dim=0)\n",
    "#un_test = torch.unique(dna_test.view(dna_test.size(0), -1), dim=0)"
   ]
  },
  {
   "cell_type": "code",
   "execution_count": 6,
   "id": "3354e694-3b29-48d0-898c-8b1e9c034bad",
   "metadata": {},
   "outputs": [
    {
     "data": {
      "text/plain": [
       "'i = 0 \\nj = 0 \\nsames = dict()\\nsame_counter = 0\\nfor tr in un_train:\\n    #print (tr.shape)\\n    if i%500==0:\\n        print(i)\\n    j=0\\n    for va in un_test:\\n        #assert not (tr==va).all(), f\"train i={i} is equal to val j={j}\"\\n        if (tr==va).all():\\n            same_counter+=1\\n            sames[i]=j\\n            break\\n        j+=1\\n    i+=1\\n'"
      ]
     },
     "execution_count": 6,
     "metadata": {},
     "output_type": "execute_result"
    }
   ],
   "source": [
    "'''i = 0 \n",
    "j = 0 \n",
    "sames = dict()\n",
    "same_counter = 0\n",
    "for tr in un_train:\n",
    "    #print (tr.shape)\n",
    "    if i%500==0:\n",
    "        print(i)\n",
    "    j=0\n",
    "    for va in un_test:\n",
    "        #assert not (tr==va).all(), f\"train i={i} is equal to val j={j}\"\n",
    "        if (tr==va).all():\n",
    "            same_counter+=1\n",
    "            sames[i]=j\n",
    "            break\n",
    "        j+=1\n",
    "    i+=1\n",
    "'''"
   ]
  },
  {
   "cell_type": "code",
   "execution_count": 7,
   "id": "57f0a331-9bf5-4585-90d9-b9cf222637fa",
   "metadata": {},
   "outputs": [
    {
     "name": "stderr",
     "output_type": "stream",
     "text": [
      "/tmp/ipykernel_29758/1547906167.py:4: UserWarning: To copy construct from a tensor, it is recommended to use sourceTensor.clone().detach() or sourceTensor.clone().detach().requires_grad_(True), rather than torch.tensor(sourceTensor).\n",
      "  self.targets = torch.tensor(targets.clone().detach())\n"
     ]
    }
   ],
   "source": [
    "class DNAdataset(Dataset):\n",
    "    def __init__(self, data, targets):\n",
    "        self.data = data.float()\n",
    "        self.targets = torch.tensor(targets.clone().detach())\n",
    "        \n",
    "    def __getitem__(self, index):\n",
    "        x = self.data[index].unsqueeze(0)\n",
    "        y = self.targets[index]\n",
    "        return x, y\n",
    "    def __len__(self):\n",
    "        return len(self.data)\n",
    "        \n",
    "d_train = DNAdataset(dna_train, labels_train)\n",
    "d_val = DNAdataset(dna_val, labels_val)\n",
    "d_train_val = DNAdataset(torch.cat((dna_train,dna_val)), torch.cat((labels_train,labels_val)))\n",
    "d_test = DNAdataset(dna_test,labels_test)"
   ]
  },
  {
   "cell_type": "code",
   "execution_count": null,
   "id": "c3c77361-74c0-486f-a264-8149b922ae82",
   "metadata": {
    "scrolled": true
   },
   "outputs": [],
   "source": []
  },
  {
   "cell_type": "code",
   "execution_count": 8,
   "id": "90033644-2ac6-49f9-9412-0fb513bc1fd2",
   "metadata": {},
   "outputs": [
    {
     "data": {
      "text/plain": [
       "(tensor([[[1., 0., 0., 0., 0.],\n",
       "          [1., 0., 0., 0., 0.],\n",
       "          [0., 1., 0., 0., 0.],\n",
       "          ...,\n",
       "          [0., 0., 0., 1., 0.],\n",
       "          [0., 0., 0., 1., 0.],\n",
       "          [0., 0., 0., 1., 0.]]]),\n",
       " tensor(0))"
      ]
     },
     "execution_count": 8,
     "metadata": {},
     "output_type": "execute_result"
    }
   ],
   "source": [
    "d_train[0]"
   ]
  },
  {
   "cell_type": "code",
   "execution_count": 9,
   "id": "3063cd5d-4739-4ced-a505-90e9c6d1aea0",
   "metadata": {
    "scrolled": true
   },
   "outputs": [],
   "source": [
    "dataloader_train = DataLoader(d_train, batch_size=32,shuffle=True)\n",
    "dataloader_val = DataLoader(d_val, batch_size=32,shuffle=True)\n",
    "dataloader_train_val = DataLoader(d_train_val, batch_size=32,shuffle=True)\n",
    "dataloader_test = DataLoader(d_test, batch_size=32,shuffle=True)\n",
    "dataloaders = {'train':dataloader_train,'val':dataloader_val,'train_val':dataloader_train_val,'test':dataloader_test}\n",
    "dataset_sizes = {'train': d_train.data.shape[0], 'val':d_val.data.shape[0],'train_val':d_train_val.data.shape[0],'test':d_test.data.shape[0]}"
   ]
  },
  {
   "cell_type": "code",
   "execution_count": null,
   "id": "9878c159-7371-4f31-8a15-75c7fa046d71",
   "metadata": {},
   "outputs": [],
   "source": []
  },
  {
   "cell_type": "code",
   "execution_count": 10,
   "id": "e3abc1bb-7db2-477f-b0ed-d2254bc5d2a5",
   "metadata": {},
   "outputs": [
    {
     "name": "stdout",
     "output_type": "stream",
     "text": [
      "ATTENZIONE A STA ROBA NON DIMENTICARE!!!!!!!!!!!!!!!!!!!!!!!!!!!!!!!\n"
     ]
    }
   ],
   "source": [
    "is_train_val = False\n",
    "if is_train_val:\n",
    "    dataloaders['train'] = dataloaders['train_val']\n",
    "    dataloaders['val'] = dataloaders['test']\n",
    "    dataset_sizes['train'] = dataset_sizes['train_val']\n",
    "    dataset_sizes['val'] = dataset_sizes['test']\n",
    "print(\"ATTENZIONE A STA ROBA NON DIMENTICARE!!!!!!!!!!!!!!!!!!!!!!!!!!!!!!!\")"
   ]
  },
  {
   "cell_type": "code",
   "execution_count": 11,
   "id": "dc9a2c52-5750-4cbf-9b0f-6cd915b0f83f",
   "metadata": {},
   "outputs": [],
   "source": [
    "\n",
    "from tqdm.notebook import tqdm\n",
    "def fit(epochs,dataloaders,optimizer,model,start_idx=0):\n",
    "    criterion = torch.nn.CrossEntropyLoss()\n",
    "    device = torch.device(\"cuda:0\" if torch.cuda.is_available() else \"cpu\")\n",
    "    torch.cuda.empty_cache()\n",
    "    \n",
    "    train_losses = []\n",
    "    train_scores = []\n",
    "    val_losses = []\n",
    "    val_scores = []\n",
    "    for epoch in range(epochs):\n",
    "        running_train_corrects = 0\n",
    "        for dnas,labels in tqdm(dataloaders['train']):\n",
    "            model.train()\n",
    "            dnas = dnas.to(device)\n",
    "            labels = labels.to(device)\n",
    "            optimizer.zero_grad()\n",
    "            #print(dnas.shape)\n",
    "            predicted_labels = model(dnas)\n",
    "            train_loss = criterion(predicted_labels,labels)\n",
    "            train_loss.backward()\n",
    "            optimizer.step()\n",
    "            \n",
    "            _, preds = torch.max(predicted_labels, 1)\n",
    "            #print(preds)\n",
    "            #print(labels.data)\n",
    "            running_train_corrects += torch.sum(preds == labels.data)\n",
    "        train_losses.append(train_loss)\n",
    "        \n",
    "        running_val_corrects = 0\n",
    "        for dnas,labels in tqdm(dataloaders['val']):\n",
    "            \n",
    "            model.eval()\n",
    "            with torch.no_grad():\n",
    "                dnas = dnas.to(device)\n",
    "                labels = labels.to(device)\n",
    "                optimizer.zero_grad()\n",
    "                \n",
    "                predicted_labels = model(dnas)\n",
    "                val_loss = criterion(predicted_labels,labels)\n",
    "                \n",
    "                _, preds = torch.max(predicted_labels, 1)\n",
    "                #print(preds)\n",
    "                #print(labels.data)\n",
    "                running_val_corrects += torch.sum(preds == labels.data)\n",
    "        val_losses.append(val_loss)\n",
    "        \n",
    "        \n",
    "        \n",
    "        #real_scores.append(real_score)\n",
    "        #fit_p.writer.add_scalar('loss_g', loss_g, epoch)\n",
    "        # Log losses & scores (last batch)\n",
    "        \n",
    "        epoch_train_acc = running_train_corrects.double() / dataset_sizes['train']\n",
    "        epoch_val_acc = running_val_corrects.double() / dataset_sizes['val']\n",
    "        print(\"Epoch [{}/{}], train_loss: {:.4f},  train_score: {:.4f},val_loss: {:.4f},  val_score: {:.4f}\".format(\n",
    "            epoch+1, epochs, train_loss, epoch_train_acc,val_loss,epoch_val_acc))\n",
    "        #print(f\"class accuracy real {class_accuracy_real}\")\n",
    "    \n",
    "    return train_losses"
   ]
  },
  {
   "cell_type": "code",
   "execution_count": 12,
   "id": "5d03c6b5-08eb-4727-9c6c-eb7dd8bd103b",
   "metadata": {},
   "outputs": [
    {
     "name": "stdout",
     "output_type": "stream",
     "text": [
      "6452761\n"
     ]
    }
   ],
   "source": [
    "''' def __init__(self):\n",
    "        super(TinyModel, self).__init__()\n",
    "\n",
    "        #self.linear1 = torch.nn.Linear(658, 200)\n",
    "        self.conv1 = torch.nn.Conv2d(1,16,(5,1))\n",
    "        self.activation1 = torch.nn.LeakyReLU()\n",
    "        self.norm1 = torch.nn.BatchNorm2d(16)\n",
    "        self.conv2 = torch.nn.Conv2d(16,1,(5,1))\n",
    "        self.activation2 = torch.nn.LeakyReLU()\n",
    "        self.norm2 = torch.nn.BatchNorm2d(1)\n",
    "        #self.conv2 = torch.nn.Conv2d(2, 2,1)\n",
    "        #self.conv2 = torch.nn.Conv2d(5,1,(3,1))\n",
    "        #self.activation2 = torch.nn.LeakyReLU()\n",
    "        #self.norm2 = torch.nn.BatchNorm2d(1)\n",
    "        self.flat = torch.nn.Flatten()\n",
    "        self.linear = torch.nn.Linear(3250,1500)\n",
    "        self.dropout1= torch.nn.Dropout(0.70)\n",
    "        self.dropout2= torch.nn.Dropout(0.70)\n",
    "        self.activation3 = torch.nn.LeakyReLU()\n",
    "        self.linear2 = torch.nn.Linear(1500,1050)\n",
    "        #self.softmax = torch.nn.Softmax()'''\n",
    "class TinyModel(torch.nn.Module):\n",
    "    \n",
    "\n",
    "   \n",
    "    def __init__(self):\n",
    "        super(TinyModel, self).__init__()\n",
    "\n",
    "        #self.linear1 = torch.nn.Linear(658, 200)\n",
    "        self.conv1 = torch.nn.Conv2d(1,16,(5,1))\n",
    "        self.activation1 = torch.nn.LeakyReLU()\n",
    "        self.norm1 = torch.nn.BatchNorm2d(16)\n",
    "        self.conv2 = torch.nn.Conv2d(16,1,(5,1))\n",
    "        self.activation2 = torch.nn.LeakyReLU()\n",
    "        self.norm2 = torch.nn.BatchNorm2d(1)\n",
    "        #self.conv2 = torch.nn.Conv2d(2, 2,1)\n",
    "        #self.conv2 = torch.nn.Conv2d(5,1,(3,1))\n",
    "        #self.activation2 = torch.nn.LeakyReLU()\n",
    "        #self.norm2 = torch.nn.BatchNorm2d(1)\n",
    "        self.flat = torch.nn.Flatten()\n",
    "        self.linear = torch.nn.Linear(3250,1500)\n",
    "        self.dropout1= torch.nn.Dropout(0.70)\n",
    "        self.dropout2= torch.nn.Dropout(0.70)\n",
    "        self.activation3 = torch.nn.LeakyReLU()\n",
    "        self.linear2 = torch.nn.Linear(1500,1050)\n",
    "        #self.softmax = torch.nn.Softmax()\n",
    "    def forward(self, x):\n",
    "        #print(x.shape)\n",
    "        x = self.conv1(x)\n",
    "        x = self.activation1(x)\n",
    "        x = self.norm1(x)\n",
    "        x = self.conv2(x)\n",
    "        x = self.activation2(x)\n",
    "        x = self.norm2(x)\n",
    "        x = self.dropout1(x)\n",
    "        #x = self.conv2(x)\n",
    "        #x = self.activation2(x)\n",
    "        #x = self.norm2(x)\n",
    "        x = self.flat(x)\n",
    "        x = self.linear(x)\n",
    "        x = self.dropout2(x)\n",
    "        x = self.activation3(x)\n",
    "        x = self.linear2(x)\n",
    "        #x = self.softmax(x)\n",
    "        return x\n",
    "    def feature_extract(self,x):\n",
    "        #print(x.shape)\n",
    "\n",
    "        x = self.conv1(x)\n",
    "        x = self.activation1(x)\n",
    "        x = self.norm1(x)\n",
    "        x = self.conv2(x)\n",
    "        #x = self.activation2(x)\n",
    "        #x = self.norm2(x)\n",
    "\n",
    "        x = self.flat(x)\n",
    "        #x = self.linear(x)\n",
    "        return x\n",
    "\n",
    "tinymodel = TinyModel()\n",
    "tinymodel.cuda()\n",
    " \n",
    "optimizer = torch.optim.Adam(tinymodel.parameters(),weight_decay=1e-5)\n",
    "n_params = dataset_utils.count_trainable_parameters(tinymodel);\n",
    "print(n_params)"
   ]
  },
  {
   "cell_type": "code",
   "execution_count": 13,
   "id": "f3d18e57-859d-4c3b-85e8-313e68ced127",
   "metadata": {
    "scrolled": true
   },
   "outputs": [
    {
     "data": {
      "application/vnd.jupyter.widget-view+json": {
       "model_id": "04d7c711373d40a8b8e8a7407c7c6fb9",
       "version_major": 2,
       "version_minor": 0
      },
      "text/plain": [
       "  0%|          | 0/408 [00:00<?, ?it/s]"
      ]
     },
     "metadata": {},
     "output_type": "display_data"
    },
    {
     "data": {
      "application/vnd.jupyter.widget-view+json": {
       "model_id": "25e5a1f920484f6a8a78db492697efc4",
       "version_major": 2,
       "version_minor": 0
      },
      "text/plain": [
       "  0%|          | 0/218 [00:00<?, ?it/s]"
      ]
     },
     "metadata": {},
     "output_type": "display_data"
    },
    {
     "name": "stdout",
     "output_type": "stream",
     "text": [
      "Epoch [1/50], train_loss: 3.9824,  train_score: 0.1999,val_loss: 6.9206,  val_score: 0.2388\n"
     ]
    },
    {
     "data": {
      "application/vnd.jupyter.widget-view+json": {
       "model_id": "cd7ec522401945d3ab09c8b5acea3d65",
       "version_major": 2,
       "version_minor": 0
      },
      "text/plain": [
       "  0%|          | 0/408 [00:00<?, ?it/s]"
      ]
     },
     "metadata": {},
     "output_type": "display_data"
    },
    {
     "data": {
      "application/vnd.jupyter.widget-view+json": {
       "model_id": "8aec9128066c44d1ba32721926c73741",
       "version_major": 2,
       "version_minor": 0
      },
      "text/plain": [
       "  0%|          | 0/218 [00:00<?, ?it/s]"
      ]
     },
     "metadata": {},
     "output_type": "display_data"
    },
    {
     "name": "stdout",
     "output_type": "stream",
     "text": [
      "Epoch [2/50], train_loss: 2.9467,  train_score: 0.4213,val_loss: 5.8713,  val_score: 0.3461\n"
     ]
    },
    {
     "data": {
      "application/vnd.jupyter.widget-view+json": {
       "model_id": "ad36df255841434c97aa8018b85662b1",
       "version_major": 2,
       "version_minor": 0
      },
      "text/plain": [
       "  0%|          | 0/408 [00:00<?, ?it/s]"
      ]
     },
     "metadata": {},
     "output_type": "display_data"
    },
    {
     "data": {
      "application/vnd.jupyter.widget-view+json": {
       "model_id": "2f0ee24534c749c2a9a8ab08e38e30f9",
       "version_major": 2,
       "version_minor": 0
      },
      "text/plain": [
       "  0%|          | 0/218 [00:00<?, ?it/s]"
      ]
     },
     "metadata": {},
     "output_type": "display_data"
    },
    {
     "name": "stdout",
     "output_type": "stream",
     "text": [
      "Epoch [3/50], train_loss: 2.7046,  train_score: 0.5788,val_loss: 6.7218,  val_score: 0.4095\n"
     ]
    },
    {
     "data": {
      "application/vnd.jupyter.widget-view+json": {
       "model_id": "2162affeaae7456b828f94073c7952b2",
       "version_major": 2,
       "version_minor": 0
      },
      "text/plain": [
       "  0%|          | 0/408 [00:00<?, ?it/s]"
      ]
     },
     "metadata": {},
     "output_type": "display_data"
    },
    {
     "data": {
      "application/vnd.jupyter.widget-view+json": {
       "model_id": "362c62ab85824487aa538ab689db5923",
       "version_major": 2,
       "version_minor": 0
      },
      "text/plain": [
       "  0%|          | 0/218 [00:00<?, ?it/s]"
      ]
     },
     "metadata": {},
     "output_type": "display_data"
    },
    {
     "name": "stdout",
     "output_type": "stream",
     "text": [
      "Epoch [4/50], train_loss: 1.3096,  train_score: 0.6964,val_loss: 6.7637,  val_score: 0.4388\n"
     ]
    },
    {
     "data": {
      "application/vnd.jupyter.widget-view+json": {
       "model_id": "95a2b9f274424af2bd8e904e03399ad8",
       "version_major": 2,
       "version_minor": 0
      },
      "text/plain": [
       "  0%|          | 0/408 [00:00<?, ?it/s]"
      ]
     },
     "metadata": {},
     "output_type": "display_data"
    },
    {
     "data": {
      "application/vnd.jupyter.widget-view+json": {
       "model_id": "862a72e67ce74179a6e3ea5ca7bca5e9",
       "version_major": 2,
       "version_minor": 0
      },
      "text/plain": [
       "  0%|          | 0/218 [00:00<?, ?it/s]"
      ]
     },
     "metadata": {},
     "output_type": "display_data"
    },
    {
     "name": "stdout",
     "output_type": "stream",
     "text": [
      "Epoch [5/50], train_loss: 0.4487,  train_score: 0.7820,val_loss: 6.7011,  val_score: 0.4485\n"
     ]
    },
    {
     "data": {
      "application/vnd.jupyter.widget-view+json": {
       "model_id": "1689fae36b4c4f29a375b1a578c5cf0e",
       "version_major": 2,
       "version_minor": 0
      },
      "text/plain": [
       "  0%|          | 0/408 [00:00<?, ?it/s]"
      ]
     },
     "metadata": {},
     "output_type": "display_data"
    },
    {
     "data": {
      "application/vnd.jupyter.widget-view+json": {
       "model_id": "afea4697c71d42eab30dab8f00c19614",
       "version_major": 2,
       "version_minor": 0
      },
      "text/plain": [
       "  0%|          | 0/218 [00:00<?, ?it/s]"
      ]
     },
     "metadata": {},
     "output_type": "display_data"
    },
    {
     "name": "stdout",
     "output_type": "stream",
     "text": [
      "Epoch [6/50], train_loss: 0.2149,  train_score: 0.8320,val_loss: 7.6606,  val_score: 0.4515\n"
     ]
    },
    {
     "data": {
      "application/vnd.jupyter.widget-view+json": {
       "model_id": "8511e0df68714445977586bb4a8d10e4",
       "version_major": 2,
       "version_minor": 0
      },
      "text/plain": [
       "  0%|          | 0/408 [00:00<?, ?it/s]"
      ]
     },
     "metadata": {},
     "output_type": "display_data"
    },
    {
     "data": {
      "application/vnd.jupyter.widget-view+json": {
       "model_id": "c31d96d2b81c45d6b1bef3eee09bb049",
       "version_major": 2,
       "version_minor": 0
      },
      "text/plain": [
       "  0%|          | 0/218 [00:00<?, ?it/s]"
      ]
     },
     "metadata": {},
     "output_type": "display_data"
    },
    {
     "name": "stdout",
     "output_type": "stream",
     "text": [
      "Epoch [7/50], train_loss: 0.0908,  train_score: 0.8657,val_loss: 6.8977,  val_score: 0.4536\n"
     ]
    },
    {
     "data": {
      "application/vnd.jupyter.widget-view+json": {
       "model_id": "abd9714a851b4e7fafc81e930e53b1e7",
       "version_major": 2,
       "version_minor": 0
      },
      "text/plain": [
       "  0%|          | 0/408 [00:00<?, ?it/s]"
      ]
     },
     "metadata": {},
     "output_type": "display_data"
    },
    {
     "data": {
      "application/vnd.jupyter.widget-view+json": {
       "model_id": "60359d775b604b35ab589eeaa8aa2467",
       "version_major": 2,
       "version_minor": 0
      },
      "text/plain": [
       "  0%|          | 0/218 [00:00<?, ?it/s]"
      ]
     },
     "metadata": {},
     "output_type": "display_data"
    },
    {
     "name": "stdout",
     "output_type": "stream",
     "text": [
      "Epoch [8/50], train_loss: 0.4606,  train_score: 0.8860,val_loss: 7.0616,  val_score: 0.4565\n"
     ]
    },
    {
     "data": {
      "application/vnd.jupyter.widget-view+json": {
       "model_id": "1ae5a4818f014725a6bfd5cc3affa176",
       "version_major": 2,
       "version_minor": 0
      },
      "text/plain": [
       "  0%|          | 0/408 [00:00<?, ?it/s]"
      ]
     },
     "metadata": {},
     "output_type": "display_data"
    },
    {
     "data": {
      "application/vnd.jupyter.widget-view+json": {
       "model_id": "a20eeea4bf394a58b6aa38d4dcdd3d96",
       "version_major": 2,
       "version_minor": 0
      },
      "text/plain": [
       "  0%|          | 0/218 [00:00<?, ?it/s]"
      ]
     },
     "metadata": {},
     "output_type": "display_data"
    },
    {
     "name": "stdout",
     "output_type": "stream",
     "text": [
      "Epoch [9/50], train_loss: 0.1644,  train_score: 0.9103,val_loss: 6.3836,  val_score: 0.4568\n"
     ]
    },
    {
     "data": {
      "application/vnd.jupyter.widget-view+json": {
       "model_id": "b73de34f40ae409b9b93859f2e038225",
       "version_major": 2,
       "version_minor": 0
      },
      "text/plain": [
       "  0%|          | 0/408 [00:00<?, ?it/s]"
      ]
     },
     "metadata": {},
     "output_type": "display_data"
    },
    {
     "data": {
      "application/vnd.jupyter.widget-view+json": {
       "model_id": "c31ab800f68f4a02b8d864ec94f4f444",
       "version_major": 2,
       "version_minor": 0
      },
      "text/plain": [
       "  0%|          | 0/218 [00:00<?, ?it/s]"
      ]
     },
     "metadata": {},
     "output_type": "display_data"
    },
    {
     "name": "stdout",
     "output_type": "stream",
     "text": [
      "Epoch [10/50], train_loss: 0.3058,  train_score: 0.9212,val_loss: 4.8646,  val_score: 0.4555\n"
     ]
    },
    {
     "data": {
      "application/vnd.jupyter.widget-view+json": {
       "model_id": "8588aaad1cfa40c9a9b194e8bd71c203",
       "version_major": 2,
       "version_minor": 0
      },
      "text/plain": [
       "  0%|          | 0/408 [00:00<?, ?it/s]"
      ]
     },
     "metadata": {},
     "output_type": "display_data"
    },
    {
     "data": {
      "application/vnd.jupyter.widget-view+json": {
       "model_id": "bc676f9549dc4460b7c36435913bd6b4",
       "version_major": 2,
       "version_minor": 0
      },
      "text/plain": [
       "  0%|          | 0/218 [00:00<?, ?it/s]"
      ]
     },
     "metadata": {},
     "output_type": "display_data"
    },
    {
     "name": "stdout",
     "output_type": "stream",
     "text": [
      "Epoch [11/50], train_loss: 0.2936,  train_score: 0.9321,val_loss: 8.3382,  val_score: 0.4566\n"
     ]
    },
    {
     "data": {
      "application/vnd.jupyter.widget-view+json": {
       "model_id": "5d8edf79d9514a80aec125247fffd244",
       "version_major": 2,
       "version_minor": 0
      },
      "text/plain": [
       "  0%|          | 0/408 [00:00<?, ?it/s]"
      ]
     },
     "metadata": {},
     "output_type": "display_data"
    },
    {
     "data": {
      "application/vnd.jupyter.widget-view+json": {
       "model_id": "672c0034c15948faa823393d9c7495c8",
       "version_major": 2,
       "version_minor": 0
      },
      "text/plain": [
       "  0%|          | 0/218 [00:00<?, ?it/s]"
      ]
     },
     "metadata": {},
     "output_type": "display_data"
    },
    {
     "name": "stdout",
     "output_type": "stream",
     "text": [
      "Epoch [12/50], train_loss: 0.0057,  train_score: 0.9376,val_loss: 9.2392,  val_score: 0.4566\n"
     ]
    },
    {
     "data": {
      "application/vnd.jupyter.widget-view+json": {
       "model_id": "3c3531094ebe40db9f5644309bd15400",
       "version_major": 2,
       "version_minor": 0
      },
      "text/plain": [
       "  0%|          | 0/408 [00:00<?, ?it/s]"
      ]
     },
     "metadata": {},
     "output_type": "display_data"
    },
    {
     "data": {
      "application/vnd.jupyter.widget-view+json": {
       "model_id": "5d5f31c7a13a4dbaa9039da4531b1549",
       "version_major": 2,
       "version_minor": 0
      },
      "text/plain": [
       "  0%|          | 0/218 [00:00<?, ?it/s]"
      ]
     },
     "metadata": {},
     "output_type": "display_data"
    },
    {
     "name": "stdout",
     "output_type": "stream",
     "text": [
      "Epoch [13/50], train_loss: 0.0865,  train_score: 0.9477,val_loss: 6.4101,  val_score: 0.4561\n"
     ]
    },
    {
     "data": {
      "application/vnd.jupyter.widget-view+json": {
       "model_id": "def330b6d78d4a2d87121c77493fda06",
       "version_major": 2,
       "version_minor": 0
      },
      "text/plain": [
       "  0%|          | 0/408 [00:00<?, ?it/s]"
      ]
     },
     "metadata": {},
     "output_type": "display_data"
    },
    {
     "data": {
      "application/vnd.jupyter.widget-view+json": {
       "model_id": "6f2ef21896cb439f904a7eb56ef51896",
       "version_major": 2,
       "version_minor": 0
      },
      "text/plain": [
       "  0%|          | 0/218 [00:00<?, ?it/s]"
      ]
     },
     "metadata": {},
     "output_type": "display_data"
    },
    {
     "name": "stdout",
     "output_type": "stream",
     "text": [
      "Epoch [14/50], train_loss: 0.0032,  train_score: 0.9502,val_loss: 6.0476,  val_score: 0.4577\n"
     ]
    },
    {
     "data": {
      "application/vnd.jupyter.widget-view+json": {
       "model_id": "e3aa054b09084351bbdf95b8783306aa",
       "version_major": 2,
       "version_minor": 0
      },
      "text/plain": [
       "  0%|          | 0/408 [00:00<?, ?it/s]"
      ]
     },
     "metadata": {},
     "output_type": "display_data"
    },
    {
     "data": {
      "application/vnd.jupyter.widget-view+json": {
       "model_id": "ef45e4a94ba744919143dc9394808271",
       "version_major": 2,
       "version_minor": 0
      },
      "text/plain": [
       "  0%|          | 0/218 [00:00<?, ?it/s]"
      ]
     },
     "metadata": {},
     "output_type": "display_data"
    },
    {
     "name": "stdout",
     "output_type": "stream",
     "text": [
      "Epoch [15/50], train_loss: 0.3801,  train_score: 0.9557,val_loss: 6.8781,  val_score: 0.4588\n"
     ]
    },
    {
     "data": {
      "application/vnd.jupyter.widget-view+json": {
       "model_id": "b053c60542d3478f9ea6cfc8e94c02ef",
       "version_major": 2,
       "version_minor": 0
      },
      "text/plain": [
       "  0%|          | 0/408 [00:00<?, ?it/s]"
      ]
     },
     "metadata": {},
     "output_type": "display_data"
    },
    {
     "data": {
      "application/vnd.jupyter.widget-view+json": {
       "model_id": "d8594c80a4b74676a867d740d0d6ef43",
       "version_major": 2,
       "version_minor": 0
      },
      "text/plain": [
       "  0%|          | 0/218 [00:00<?, ?it/s]"
      ]
     },
     "metadata": {},
     "output_type": "display_data"
    },
    {
     "name": "stdout",
     "output_type": "stream",
     "text": [
      "Epoch [16/50], train_loss: 0.0960,  train_score: 0.9570,val_loss: 7.1469,  val_score: 0.4590\n"
     ]
    },
    {
     "data": {
      "application/vnd.jupyter.widget-view+json": {
       "model_id": "1b6d1108a1034a3abfaa09d1db17e305",
       "version_major": 2,
       "version_minor": 0
      },
      "text/plain": [
       "  0%|          | 0/408 [00:00<?, ?it/s]"
      ]
     },
     "metadata": {},
     "output_type": "display_data"
    },
    {
     "data": {
      "application/vnd.jupyter.widget-view+json": {
       "model_id": "d6f0b78418ac48338bfe5de9a8d63f27",
       "version_major": 2,
       "version_minor": 0
      },
      "text/plain": [
       "  0%|          | 0/218 [00:00<?, ?it/s]"
      ]
     },
     "metadata": {},
     "output_type": "display_data"
    },
    {
     "name": "stdout",
     "output_type": "stream",
     "text": [
      "Epoch [17/50], train_loss: 0.0860,  train_score: 0.9600,val_loss: 4.9657,  val_score: 0.4587\n"
     ]
    },
    {
     "data": {
      "application/vnd.jupyter.widget-view+json": {
       "model_id": "ca98b33cdbe64ec9a359b9c29d5f7dac",
       "version_major": 2,
       "version_minor": 0
      },
      "text/plain": [
       "  0%|          | 0/408 [00:00<?, ?it/s]"
      ]
     },
     "metadata": {},
     "output_type": "display_data"
    },
    {
     "data": {
      "application/vnd.jupyter.widget-view+json": {
       "model_id": "744c1156fe374bf6956e0e495e343e00",
       "version_major": 2,
       "version_minor": 0
      },
      "text/plain": [
       "  0%|          | 0/218 [00:00<?, ?it/s]"
      ]
     },
     "metadata": {},
     "output_type": "display_data"
    },
    {
     "name": "stdout",
     "output_type": "stream",
     "text": [
      "Epoch [18/50], train_loss: 0.4949,  train_score: 0.9606,val_loss: 4.2229,  val_score: 0.4588\n"
     ]
    },
    {
     "data": {
      "application/vnd.jupyter.widget-view+json": {
       "model_id": "ff62bbe4e1144254a22c7ec0ac4c13c3",
       "version_major": 2,
       "version_minor": 0
      },
      "text/plain": [
       "  0%|          | 0/408 [00:00<?, ?it/s]"
      ]
     },
     "metadata": {},
     "output_type": "display_data"
    },
    {
     "data": {
      "application/vnd.jupyter.widget-view+json": {
       "model_id": "8cf805da37594c3dbdf18152c0f17a3f",
       "version_major": 2,
       "version_minor": 0
      },
      "text/plain": [
       "  0%|          | 0/218 [00:00<?, ?it/s]"
      ]
     },
     "metadata": {},
     "output_type": "display_data"
    },
    {
     "name": "stdout",
     "output_type": "stream",
     "text": [
      "Epoch [19/50], train_loss: 0.0297,  train_score: 0.9647,val_loss: 4.6080,  val_score: 0.4588\n"
     ]
    },
    {
     "data": {
      "application/vnd.jupyter.widget-view+json": {
       "model_id": "cec35d844e7b4b9d87b994788d52a72c",
       "version_major": 2,
       "version_minor": 0
      },
      "text/plain": [
       "  0%|          | 0/408 [00:00<?, ?it/s]"
      ]
     },
     "metadata": {},
     "output_type": "display_data"
    },
    {
     "data": {
      "application/vnd.jupyter.widget-view+json": {
       "model_id": "aaced26c5708431bbc8918cf09abb9a4",
       "version_major": 2,
       "version_minor": 0
      },
      "text/plain": [
       "  0%|          | 0/218 [00:00<?, ?it/s]"
      ]
     },
     "metadata": {},
     "output_type": "display_data"
    },
    {
     "name": "stdout",
     "output_type": "stream",
     "text": [
      "Epoch [20/50], train_loss: 0.0180,  train_score: 0.9641,val_loss: 4.6121,  val_score: 0.4594\n"
     ]
    },
    {
     "data": {
      "application/vnd.jupyter.widget-view+json": {
       "model_id": "c47524f95aca4dceacf17ac93dce81c5",
       "version_major": 2,
       "version_minor": 0
      },
      "text/plain": [
       "  0%|          | 0/408 [00:00<?, ?it/s]"
      ]
     },
     "metadata": {},
     "output_type": "display_data"
    },
    {
     "data": {
      "application/vnd.jupyter.widget-view+json": {
       "model_id": "036bd503a2dd43bcbcb90ae5ca553d69",
       "version_major": 2,
       "version_minor": 0
      },
      "text/plain": [
       "  0%|          | 0/218 [00:00<?, ?it/s]"
      ]
     },
     "metadata": {},
     "output_type": "display_data"
    },
    {
     "name": "stdout",
     "output_type": "stream",
     "text": [
      "Epoch [21/50], train_loss: 0.4491,  train_score: 0.9689,val_loss: 6.2250,  val_score: 0.4587\n"
     ]
    },
    {
     "data": {
      "application/vnd.jupyter.widget-view+json": {
       "model_id": "66b42f0f5632481c8a75c787caaf3cec",
       "version_major": 2,
       "version_minor": 0
      },
      "text/plain": [
       "  0%|          | 0/408 [00:00<?, ?it/s]"
      ]
     },
     "metadata": {},
     "output_type": "display_data"
    },
    {
     "data": {
      "application/vnd.jupyter.widget-view+json": {
       "model_id": "4d7adebf504f41759eb46bfa0de5eebf",
       "version_major": 2,
       "version_minor": 0
      },
      "text/plain": [
       "  0%|          | 0/218 [00:00<?, ?it/s]"
      ]
     },
     "metadata": {},
     "output_type": "display_data"
    },
    {
     "name": "stdout",
     "output_type": "stream",
     "text": [
      "Epoch [22/50], train_loss: 0.1235,  train_score: 0.9696,val_loss: 6.0383,  val_score: 0.4591\n"
     ]
    },
    {
     "data": {
      "application/vnd.jupyter.widget-view+json": {
       "model_id": "53eca15ef6a54c44990f6e158251a22d",
       "version_major": 2,
       "version_minor": 0
      },
      "text/plain": [
       "  0%|          | 0/408 [00:00<?, ?it/s]"
      ]
     },
     "metadata": {},
     "output_type": "display_data"
    },
    {
     "data": {
      "application/vnd.jupyter.widget-view+json": {
       "model_id": "2f9b793e99394db0a519a766c60fca0b",
       "version_major": 2,
       "version_minor": 0
      },
      "text/plain": [
       "  0%|          | 0/218 [00:00<?, ?it/s]"
      ]
     },
     "metadata": {},
     "output_type": "display_data"
    },
    {
     "name": "stdout",
     "output_type": "stream",
     "text": [
      "Epoch [23/50], train_loss: 0.0323,  train_score: 0.9685,val_loss: 7.6530,  val_score: 0.4584\n"
     ]
    },
    {
     "data": {
      "application/vnd.jupyter.widget-view+json": {
       "model_id": "efab7dee0b1d40b9bf642e1af1f42124",
       "version_major": 2,
       "version_minor": 0
      },
      "text/plain": [
       "  0%|          | 0/408 [00:00<?, ?it/s]"
      ]
     },
     "metadata": {},
     "output_type": "display_data"
    },
    {
     "data": {
      "application/vnd.jupyter.widget-view+json": {
       "model_id": "1ec95f91a3c944eb8a65a11f4866b688",
       "version_major": 2,
       "version_minor": 0
      },
      "text/plain": [
       "  0%|          | 0/218 [00:00<?, ?it/s]"
      ]
     },
     "metadata": {},
     "output_type": "display_data"
    },
    {
     "name": "stdout",
     "output_type": "stream",
     "text": [
      "Epoch [24/50], train_loss: 0.0822,  train_score: 0.9735,val_loss: 7.1936,  val_score: 0.4588\n"
     ]
    },
    {
     "data": {
      "application/vnd.jupyter.widget-view+json": {
       "model_id": "34dadcae17ba4762bc88d0bcdca1a762",
       "version_major": 2,
       "version_minor": 0
      },
      "text/plain": [
       "  0%|          | 0/408 [00:00<?, ?it/s]"
      ]
     },
     "metadata": {},
     "output_type": "display_data"
    },
    {
     "data": {
      "application/vnd.jupyter.widget-view+json": {
       "model_id": "04e93867956f4081b67e784d64824e4a",
       "version_major": 2,
       "version_minor": 0
      },
      "text/plain": [
       "  0%|          | 0/218 [00:00<?, ?it/s]"
      ]
     },
     "metadata": {},
     "output_type": "display_data"
    },
    {
     "name": "stdout",
     "output_type": "stream",
     "text": [
      "Epoch [25/50], train_loss: 0.0005,  train_score: 0.9718,val_loss: 8.8037,  val_score: 0.4590\n"
     ]
    },
    {
     "data": {
      "application/vnd.jupyter.widget-view+json": {
       "model_id": "41b914a79a7f469186ae52e8b84519b9",
       "version_major": 2,
       "version_minor": 0
      },
      "text/plain": [
       "  0%|          | 0/408 [00:00<?, ?it/s]"
      ]
     },
     "metadata": {},
     "output_type": "display_data"
    },
    {
     "data": {
      "application/vnd.jupyter.widget-view+json": {
       "model_id": "bec69e91a9cf45959541ecc47f10876a",
       "version_major": 2,
       "version_minor": 0
      },
      "text/plain": [
       "  0%|          | 0/218 [00:00<?, ?it/s]"
      ]
     },
     "metadata": {},
     "output_type": "display_data"
    },
    {
     "name": "stdout",
     "output_type": "stream",
     "text": [
      "Epoch [26/50], train_loss: 0.0013,  train_score: 0.9742,val_loss: 3.6580,  val_score: 0.4590\n"
     ]
    },
    {
     "data": {
      "application/vnd.jupyter.widget-view+json": {
       "model_id": "4ce2fa46cb4248d9bfc34472450de4b4",
       "version_major": 2,
       "version_minor": 0
      },
      "text/plain": [
       "  0%|          | 0/408 [00:00<?, ?it/s]"
      ]
     },
     "metadata": {},
     "output_type": "display_data"
    },
    {
     "data": {
      "application/vnd.jupyter.widget-view+json": {
       "model_id": "abf68169b3774d7d8289f31ebb8c6759",
       "version_major": 2,
       "version_minor": 0
      },
      "text/plain": [
       "  0%|          | 0/218 [00:00<?, ?it/s]"
      ]
     },
     "metadata": {},
     "output_type": "display_data"
    },
    {
     "name": "stdout",
     "output_type": "stream",
     "text": [
      "Epoch [27/50], train_loss: 0.0769,  train_score: 0.9748,val_loss: 5.9125,  val_score: 0.4595\n"
     ]
    },
    {
     "data": {
      "application/vnd.jupyter.widget-view+json": {
       "model_id": "48fffc3429af4a71853807faa4604932",
       "version_major": 2,
       "version_minor": 0
      },
      "text/plain": [
       "  0%|          | 0/408 [00:00<?, ?it/s]"
      ]
     },
     "metadata": {},
     "output_type": "display_data"
    },
    {
     "data": {
      "application/vnd.jupyter.widget-view+json": {
       "model_id": "8970ec47f8bf4e7e9125a5f6a62ff9b7",
       "version_major": 2,
       "version_minor": 0
      },
      "text/plain": [
       "  0%|          | 0/218 [00:00<?, ?it/s]"
      ]
     },
     "metadata": {},
     "output_type": "display_data"
    },
    {
     "name": "stdout",
     "output_type": "stream",
     "text": [
      "Epoch [28/50], train_loss: 0.0847,  train_score: 0.9752,val_loss: 5.8000,  val_score: 0.4591\n"
     ]
    },
    {
     "data": {
      "application/vnd.jupyter.widget-view+json": {
       "model_id": "6accd7fb5f114b498e8e7cb433c07eaa",
       "version_major": 2,
       "version_minor": 0
      },
      "text/plain": [
       "  0%|          | 0/408 [00:00<?, ?it/s]"
      ]
     },
     "metadata": {},
     "output_type": "display_data"
    },
    {
     "data": {
      "application/vnd.jupyter.widget-view+json": {
       "model_id": "ea170d0c6b96425da02ffb0889656cc4",
       "version_major": 2,
       "version_minor": 0
      },
      "text/plain": [
       "  0%|          | 0/218 [00:00<?, ?it/s]"
      ]
     },
     "metadata": {},
     "output_type": "display_data"
    },
    {
     "name": "stdout",
     "output_type": "stream",
     "text": [
      "Epoch [29/50], train_loss: 0.0354,  train_score: 0.9758,val_loss: 5.6704,  val_score: 0.4588\n"
     ]
    },
    {
     "data": {
      "application/vnd.jupyter.widget-view+json": {
       "model_id": "90c4b68c3ea1438db7b43f03f79f237d",
       "version_major": 2,
       "version_minor": 0
      },
      "text/plain": [
       "  0%|          | 0/408 [00:00<?, ?it/s]"
      ]
     },
     "metadata": {},
     "output_type": "display_data"
    },
    {
     "data": {
      "application/vnd.jupyter.widget-view+json": {
       "model_id": "ed92536378bd42408458f29946b5a67c",
       "version_major": 2,
       "version_minor": 0
      },
      "text/plain": [
       "  0%|          | 0/218 [00:00<?, ?it/s]"
      ]
     },
     "metadata": {},
     "output_type": "display_data"
    },
    {
     "name": "stdout",
     "output_type": "stream",
     "text": [
      "Epoch [30/50], train_loss: 0.0029,  train_score: 0.9778,val_loss: 9.3637,  val_score: 0.4591\n"
     ]
    },
    {
     "data": {
      "application/vnd.jupyter.widget-view+json": {
       "model_id": "2eeb2b766fcf4af4b71283115361d98a",
       "version_major": 2,
       "version_minor": 0
      },
      "text/plain": [
       "  0%|          | 0/408 [00:00<?, ?it/s]"
      ]
     },
     "metadata": {},
     "output_type": "display_data"
    },
    {
     "data": {
      "application/vnd.jupyter.widget-view+json": {
       "model_id": "0a582ad6cbc1422096b69f73bdc98757",
       "version_major": 2,
       "version_minor": 0
      },
      "text/plain": [
       "  0%|          | 0/218 [00:00<?, ?it/s]"
      ]
     },
     "metadata": {},
     "output_type": "display_data"
    },
    {
     "name": "stdout",
     "output_type": "stream",
     "text": [
      "Epoch [31/50], train_loss: 0.0222,  train_score: 0.9765,val_loss: 5.0924,  val_score: 0.4590\n"
     ]
    },
    {
     "data": {
      "application/vnd.jupyter.widget-view+json": {
       "model_id": "e7415e9783dd4fe983cf45c23653f588",
       "version_major": 2,
       "version_minor": 0
      },
      "text/plain": [
       "  0%|          | 0/408 [00:00<?, ?it/s]"
      ]
     },
     "metadata": {},
     "output_type": "display_data"
    },
    {
     "data": {
      "application/vnd.jupyter.widget-view+json": {
       "model_id": "1c13e836b86b4cd78b7c321a059afc99",
       "version_major": 2,
       "version_minor": 0
      },
      "text/plain": [
       "  0%|          | 0/218 [00:00<?, ?it/s]"
      ]
     },
     "metadata": {},
     "output_type": "display_data"
    },
    {
     "name": "stdout",
     "output_type": "stream",
     "text": [
      "Epoch [32/50], train_loss: 0.3109,  train_score: 0.9784,val_loss: 6.9415,  val_score: 0.4588\n"
     ]
    },
    {
     "data": {
      "application/vnd.jupyter.widget-view+json": {
       "model_id": "10d9c18f691d4e2bb6032ccb7c6c2b36",
       "version_major": 2,
       "version_minor": 0
      },
      "text/plain": [
       "  0%|          | 0/408 [00:00<?, ?it/s]"
      ]
     },
     "metadata": {},
     "output_type": "display_data"
    },
    {
     "data": {
      "application/vnd.jupyter.widget-view+json": {
       "model_id": "6c08496f2ff848b78c1eb03f41c3c840",
       "version_major": 2,
       "version_minor": 0
      },
      "text/plain": [
       "  0%|          | 0/218 [00:00<?, ?it/s]"
      ]
     },
     "metadata": {},
     "output_type": "display_data"
    },
    {
     "name": "stdout",
     "output_type": "stream",
     "text": [
      "Epoch [33/50], train_loss: 0.1665,  train_score: 0.9786,val_loss: 5.0630,  val_score: 0.4590\n"
     ]
    },
    {
     "data": {
      "application/vnd.jupyter.widget-view+json": {
       "model_id": "0ae8e82b409847998e40c603c981db31",
       "version_major": 2,
       "version_minor": 0
      },
      "text/plain": [
       "  0%|          | 0/408 [00:00<?, ?it/s]"
      ]
     },
     "metadata": {},
     "output_type": "display_data"
    },
    {
     "data": {
      "application/vnd.jupyter.widget-view+json": {
       "model_id": "836900ac3cc6416596a52df606c8a02d",
       "version_major": 2,
       "version_minor": 0
      },
      "text/plain": [
       "  0%|          | 0/218 [00:00<?, ?it/s]"
      ]
     },
     "metadata": {},
     "output_type": "display_data"
    },
    {
     "name": "stdout",
     "output_type": "stream",
     "text": [
      "Epoch [34/50], train_loss: 0.3360,  train_score: 0.9787,val_loss: 7.2094,  val_score: 0.4592\n"
     ]
    },
    {
     "data": {
      "application/vnd.jupyter.widget-view+json": {
       "model_id": "29771cf06f8a4c39abac90d11002cdae",
       "version_major": 2,
       "version_minor": 0
      },
      "text/plain": [
       "  0%|          | 0/408 [00:00<?, ?it/s]"
      ]
     },
     "metadata": {},
     "output_type": "display_data"
    },
    {
     "data": {
      "application/vnd.jupyter.widget-view+json": {
       "model_id": "1ae11e3d4dae438aabb34cdfd710c92a",
       "version_major": 2,
       "version_minor": 0
      },
      "text/plain": [
       "  0%|          | 0/218 [00:00<?, ?it/s]"
      ]
     },
     "metadata": {},
     "output_type": "display_data"
    },
    {
     "name": "stdout",
     "output_type": "stream",
     "text": [
      "Epoch [35/50], train_loss: 0.0006,  train_score: 0.9799,val_loss: 7.5347,  val_score: 0.4590\n"
     ]
    },
    {
     "data": {
      "application/vnd.jupyter.widget-view+json": {
       "model_id": "2a9754dc166042da98bb5d6430617f2c",
       "version_major": 2,
       "version_minor": 0
      },
      "text/plain": [
       "  0%|          | 0/408 [00:00<?, ?it/s]"
      ]
     },
     "metadata": {},
     "output_type": "display_data"
    },
    {
     "data": {
      "application/vnd.jupyter.widget-view+json": {
       "model_id": "e09a100705bb41ceaa9b38f105f2ceeb",
       "version_major": 2,
       "version_minor": 0
      },
      "text/plain": [
       "  0%|          | 0/218 [00:00<?, ?it/s]"
      ]
     },
     "metadata": {},
     "output_type": "display_data"
    },
    {
     "name": "stdout",
     "output_type": "stream",
     "text": [
      "Epoch [36/50], train_loss: 0.0000,  train_score: 0.9828,val_loss: 6.2378,  val_score: 0.4592\n"
     ]
    },
    {
     "data": {
      "application/vnd.jupyter.widget-view+json": {
       "model_id": "ace00f458c614e02a7a6641ebfdf1fda",
       "version_major": 2,
       "version_minor": 0
      },
      "text/plain": [
       "  0%|          | 0/408 [00:00<?, ?it/s]"
      ]
     },
     "metadata": {},
     "output_type": "display_data"
    },
    {
     "data": {
      "application/vnd.jupyter.widget-view+json": {
       "model_id": "4fbd66b33f584513b79b6eb83fc472de",
       "version_major": 2,
       "version_minor": 0
      },
      "text/plain": [
       "  0%|          | 0/218 [00:00<?, ?it/s]"
      ]
     },
     "metadata": {},
     "output_type": "display_data"
    },
    {
     "name": "stdout",
     "output_type": "stream",
     "text": [
      "Epoch [37/50], train_loss: 0.0028,  train_score: 0.9808,val_loss: 7.8225,  val_score: 0.4595\n"
     ]
    },
    {
     "data": {
      "application/vnd.jupyter.widget-view+json": {
       "model_id": "ffe8545ea35d4c9f82227d74da318082",
       "version_major": 2,
       "version_minor": 0
      },
      "text/plain": [
       "  0%|          | 0/408 [00:00<?, ?it/s]"
      ]
     },
     "metadata": {},
     "output_type": "display_data"
    },
    {
     "data": {
      "application/vnd.jupyter.widget-view+json": {
       "model_id": "8cebd4429d1f449e932dc92fb76aa442",
       "version_major": 2,
       "version_minor": 0
      },
      "text/plain": [
       "  0%|          | 0/218 [00:00<?, ?it/s]"
      ]
     },
     "metadata": {},
     "output_type": "display_data"
    },
    {
     "name": "stdout",
     "output_type": "stream",
     "text": [
      "Epoch [38/50], train_loss: 0.0025,  train_score: 0.9814,val_loss: 7.4333,  val_score: 0.4594\n"
     ]
    },
    {
     "data": {
      "application/vnd.jupyter.widget-view+json": {
       "model_id": "8ded0a2be17b4cb4a09ca04f2dc7a168",
       "version_major": 2,
       "version_minor": 0
      },
      "text/plain": [
       "  0%|          | 0/408 [00:00<?, ?it/s]"
      ]
     },
     "metadata": {},
     "output_type": "display_data"
    },
    {
     "data": {
      "application/vnd.jupyter.widget-view+json": {
       "model_id": "529d1530f9b0445584860d249e3191a1",
       "version_major": 2,
       "version_minor": 0
      },
      "text/plain": [
       "  0%|          | 0/218 [00:00<?, ?it/s]"
      ]
     },
     "metadata": {},
     "output_type": "display_data"
    },
    {
     "name": "stdout",
     "output_type": "stream",
     "text": [
      "Epoch [39/50], train_loss: 0.0033,  train_score: 0.9824,val_loss: 7.1450,  val_score: 0.4595\n"
     ]
    },
    {
     "data": {
      "application/vnd.jupyter.widget-view+json": {
       "model_id": "a775d70f556240f1b01e7c29a78f8d82",
       "version_major": 2,
       "version_minor": 0
      },
      "text/plain": [
       "  0%|          | 0/408 [00:00<?, ?it/s]"
      ]
     },
     "metadata": {},
     "output_type": "display_data"
    },
    {
     "data": {
      "application/vnd.jupyter.widget-view+json": {
       "model_id": "601f6fe900a54c01ac5f68a257728fdf",
       "version_major": 2,
       "version_minor": 0
      },
      "text/plain": [
       "  0%|          | 0/218 [00:00<?, ?it/s]"
      ]
     },
     "metadata": {},
     "output_type": "display_data"
    },
    {
     "name": "stdout",
     "output_type": "stream",
     "text": [
      "Epoch [40/50], train_loss: 0.0044,  train_score: 0.9803,val_loss: 7.4802,  val_score: 0.4592\n"
     ]
    },
    {
     "data": {
      "application/vnd.jupyter.widget-view+json": {
       "model_id": "632161755ccd47989e0e3dcc48da484c",
       "version_major": 2,
       "version_minor": 0
      },
      "text/plain": [
       "  0%|          | 0/408 [00:00<?, ?it/s]"
      ]
     },
     "metadata": {},
     "output_type": "display_data"
    },
    {
     "data": {
      "application/vnd.jupyter.widget-view+json": {
       "model_id": "2dd8b8ef051748d9bde1ea059bf1b079",
       "version_major": 2,
       "version_minor": 0
      },
      "text/plain": [
       "  0%|          | 0/218 [00:00<?, ?it/s]"
      ]
     },
     "metadata": {},
     "output_type": "display_data"
    },
    {
     "name": "stdout",
     "output_type": "stream",
     "text": [
      "Epoch [41/50], train_loss: 0.0003,  train_score: 0.9804,val_loss: 7.5050,  val_score: 0.4591\n"
     ]
    },
    {
     "data": {
      "application/vnd.jupyter.widget-view+json": {
       "model_id": "3b7b04ca52444b938226e6accadcf29e",
       "version_major": 2,
       "version_minor": 0
      },
      "text/plain": [
       "  0%|          | 0/408 [00:00<?, ?it/s]"
      ]
     },
     "metadata": {},
     "output_type": "display_data"
    },
    {
     "data": {
      "application/vnd.jupyter.widget-view+json": {
       "model_id": "53223b288e4946b18bc3c3a467e0278d",
       "version_major": 2,
       "version_minor": 0
      },
      "text/plain": [
       "  0%|          | 0/218 [00:00<?, ?it/s]"
      ]
     },
     "metadata": {},
     "output_type": "display_data"
    },
    {
     "name": "stdout",
     "output_type": "stream",
     "text": [
      "Epoch [42/50], train_loss: 0.0028,  train_score: 0.9830,val_loss: 5.2058,  val_score: 0.4594\n"
     ]
    },
    {
     "data": {
      "application/vnd.jupyter.widget-view+json": {
       "model_id": "91a2d487f8174ddfa9fabd13e78227c1",
       "version_major": 2,
       "version_minor": 0
      },
      "text/plain": [
       "  0%|          | 0/408 [00:00<?, ?it/s]"
      ]
     },
     "metadata": {},
     "output_type": "display_data"
    },
    {
     "data": {
      "application/vnd.jupyter.widget-view+json": {
       "model_id": "44c26a45fc02457a8a1ff34ed7f6ec52",
       "version_major": 2,
       "version_minor": 0
      },
      "text/plain": [
       "  0%|          | 0/218 [00:00<?, ?it/s]"
      ]
     },
     "metadata": {},
     "output_type": "display_data"
    },
    {
     "name": "stdout",
     "output_type": "stream",
     "text": [
      "Epoch [43/50], train_loss: 0.0679,  train_score: 0.9824,val_loss: 4.6230,  val_score: 0.4592\n"
     ]
    },
    {
     "data": {
      "application/vnd.jupyter.widget-view+json": {
       "model_id": "a0646bfde80c4e059e6ba7529016c1dc",
       "version_major": 2,
       "version_minor": 0
      },
      "text/plain": [
       "  0%|          | 0/408 [00:00<?, ?it/s]"
      ]
     },
     "metadata": {},
     "output_type": "display_data"
    },
    {
     "data": {
      "application/vnd.jupyter.widget-view+json": {
       "model_id": "8a9c65209c5f4f2aafebb1a747d373f6",
       "version_major": 2,
       "version_minor": 0
      },
      "text/plain": [
       "  0%|          | 0/218 [00:00<?, ?it/s]"
      ]
     },
     "metadata": {},
     "output_type": "display_data"
    },
    {
     "name": "stdout",
     "output_type": "stream",
     "text": [
      "Epoch [44/50], train_loss: 0.0196,  train_score: 0.9824,val_loss: 4.7358,  val_score: 0.4595\n"
     ]
    },
    {
     "data": {
      "application/vnd.jupyter.widget-view+json": {
       "model_id": "598aa4a898704069b9496986999c8041",
       "version_major": 2,
       "version_minor": 0
      },
      "text/plain": [
       "  0%|          | 0/408 [00:00<?, ?it/s]"
      ]
     },
     "metadata": {},
     "output_type": "display_data"
    },
    {
     "data": {
      "application/vnd.jupyter.widget-view+json": {
       "model_id": "f598319a6be447b58a1e584fa0d257a7",
       "version_major": 2,
       "version_minor": 0
      },
      "text/plain": [
       "  0%|          | 0/218 [00:00<?, ?it/s]"
      ]
     },
     "metadata": {},
     "output_type": "display_data"
    },
    {
     "name": "stdout",
     "output_type": "stream",
     "text": [
      "Epoch [45/50], train_loss: 0.0014,  train_score: 0.9829,val_loss: 6.9231,  val_score: 0.4592\n"
     ]
    },
    {
     "data": {
      "application/vnd.jupyter.widget-view+json": {
       "model_id": "3ac21c3a1ce04deaae77f28e35975c39",
       "version_major": 2,
       "version_minor": 0
      },
      "text/plain": [
       "  0%|          | 0/408 [00:00<?, ?it/s]"
      ]
     },
     "metadata": {},
     "output_type": "display_data"
    },
    {
     "data": {
      "application/vnd.jupyter.widget-view+json": {
       "model_id": "f68fef961d01472da6e7295dd3f3579e",
       "version_major": 2,
       "version_minor": 0
      },
      "text/plain": [
       "  0%|          | 0/218 [00:00<?, ?it/s]"
      ]
     },
     "metadata": {},
     "output_type": "display_data"
    },
    {
     "name": "stdout",
     "output_type": "stream",
     "text": [
      "Epoch [46/50], train_loss: 0.0001,  train_score: 0.9827,val_loss: 8.9796,  val_score: 0.4594\n"
     ]
    },
    {
     "data": {
      "application/vnd.jupyter.widget-view+json": {
       "model_id": "de37b09949374043bcf79211f0473e26",
       "version_major": 2,
       "version_minor": 0
      },
      "text/plain": [
       "  0%|          | 0/408 [00:00<?, ?it/s]"
      ]
     },
     "metadata": {},
     "output_type": "display_data"
    },
    {
     "data": {
      "application/vnd.jupyter.widget-view+json": {
       "model_id": "2a1d1d3d747e41aa8c8cfc63eefa2fa6",
       "version_major": 2,
       "version_minor": 0
      },
      "text/plain": [
       "  0%|          | 0/218 [00:00<?, ?it/s]"
      ]
     },
     "metadata": {},
     "output_type": "display_data"
    },
    {
     "name": "stdout",
     "output_type": "stream",
     "text": [
      "Epoch [47/50], train_loss: 0.0015,  train_score: 0.9830,val_loss: 7.4200,  val_score: 0.4592\n"
     ]
    },
    {
     "data": {
      "application/vnd.jupyter.widget-view+json": {
       "model_id": "b4d8cc568c384b15a7af54dede69d211",
       "version_major": 2,
       "version_minor": 0
      },
      "text/plain": [
       "  0%|          | 0/408 [00:00<?, ?it/s]"
      ]
     },
     "metadata": {},
     "output_type": "display_data"
    },
    {
     "data": {
      "application/vnd.jupyter.widget-view+json": {
       "model_id": "c45d3a4b538646ad9749b06bb9b77066",
       "version_major": 2,
       "version_minor": 0
      },
      "text/plain": [
       "  0%|          | 0/218 [00:00<?, ?it/s]"
      ]
     },
     "metadata": {},
     "output_type": "display_data"
    },
    {
     "name": "stdout",
     "output_type": "stream",
     "text": [
      "Epoch [48/50], train_loss: 0.0476,  train_score: 0.9828,val_loss: 6.1023,  val_score: 0.4594\n"
     ]
    },
    {
     "data": {
      "application/vnd.jupyter.widget-view+json": {
       "model_id": "13b9233a5e5e4190a3ecbe45faf6ec69",
       "version_major": 2,
       "version_minor": 0
      },
      "text/plain": [
       "  0%|          | 0/408 [00:00<?, ?it/s]"
      ]
     },
     "metadata": {},
     "output_type": "display_data"
    },
    {
     "data": {
      "application/vnd.jupyter.widget-view+json": {
       "model_id": "0a82d789ff9f428183dd1c224ffc93d2",
       "version_major": 2,
       "version_minor": 0
      },
      "text/plain": [
       "  0%|          | 0/218 [00:00<?, ?it/s]"
      ]
     },
     "metadata": {},
     "output_type": "display_data"
    },
    {
     "name": "stdout",
     "output_type": "stream",
     "text": [
      "Epoch [49/50], train_loss: 0.0152,  train_score: 0.9860,val_loss: 10.3754,  val_score: 0.4594\n"
     ]
    },
    {
     "data": {
      "application/vnd.jupyter.widget-view+json": {
       "model_id": "0552d25c69b54a6facdebbf373ced889",
       "version_major": 2,
       "version_minor": 0
      },
      "text/plain": [
       "  0%|          | 0/408 [00:00<?, ?it/s]"
      ]
     },
     "metadata": {},
     "output_type": "display_data"
    },
    {
     "data": {
      "application/vnd.jupyter.widget-view+json": {
       "model_id": "c7f68273af0a4cefaa168f5f001a6e2e",
       "version_major": 2,
       "version_minor": 0
      },
      "text/plain": [
       "  0%|          | 0/218 [00:00<?, ?it/s]"
      ]
     },
     "metadata": {},
     "output_type": "display_data"
    },
    {
     "name": "stdout",
     "output_type": "stream",
     "text": [
      "Epoch [50/50], train_loss: 0.0077,  train_score: 0.9855,val_loss: 3.7089,  val_score: 0.4594\n"
     ]
    },
    {
     "data": {
      "text/plain": [
       "[tensor(3.9824, device='cuda:0', grad_fn=<NllLossBackward0>),\n",
       " tensor(2.9467, device='cuda:0', grad_fn=<NllLossBackward0>),\n",
       " tensor(2.7046, device='cuda:0', grad_fn=<NllLossBackward0>),\n",
       " tensor(1.3096, device='cuda:0', grad_fn=<NllLossBackward0>),\n",
       " tensor(0.4487, device='cuda:0', grad_fn=<NllLossBackward0>),\n",
       " tensor(0.2149, device='cuda:0', grad_fn=<NllLossBackward0>),\n",
       " tensor(0.0908, device='cuda:0', grad_fn=<NllLossBackward0>),\n",
       " tensor(0.4606, device='cuda:0', grad_fn=<NllLossBackward0>),\n",
       " tensor(0.1644, device='cuda:0', grad_fn=<NllLossBackward0>),\n",
       " tensor(0.3058, device='cuda:0', grad_fn=<NllLossBackward0>),\n",
       " tensor(0.2936, device='cuda:0', grad_fn=<NllLossBackward0>),\n",
       " tensor(0.0057, device='cuda:0', grad_fn=<NllLossBackward0>),\n",
       " tensor(0.0865, device='cuda:0', grad_fn=<NllLossBackward0>),\n",
       " tensor(0.0032, device='cuda:0', grad_fn=<NllLossBackward0>),\n",
       " tensor(0.3801, device='cuda:0', grad_fn=<NllLossBackward0>),\n",
       " tensor(0.0960, device='cuda:0', grad_fn=<NllLossBackward0>),\n",
       " tensor(0.0860, device='cuda:0', grad_fn=<NllLossBackward0>),\n",
       " tensor(0.4949, device='cuda:0', grad_fn=<NllLossBackward0>),\n",
       " tensor(0.0297, device='cuda:0', grad_fn=<NllLossBackward0>),\n",
       " tensor(0.0180, device='cuda:0', grad_fn=<NllLossBackward0>),\n",
       " tensor(0.4491, device='cuda:0', grad_fn=<NllLossBackward0>),\n",
       " tensor(0.1235, device='cuda:0', grad_fn=<NllLossBackward0>),\n",
       " tensor(0.0323, device='cuda:0', grad_fn=<NllLossBackward0>),\n",
       " tensor(0.0822, device='cuda:0', grad_fn=<NllLossBackward0>),\n",
       " tensor(0.0005, device='cuda:0', grad_fn=<NllLossBackward0>),\n",
       " tensor(0.0013, device='cuda:0', grad_fn=<NllLossBackward0>),\n",
       " tensor(0.0769, device='cuda:0', grad_fn=<NllLossBackward0>),\n",
       " tensor(0.0847, device='cuda:0', grad_fn=<NllLossBackward0>),\n",
       " tensor(0.0354, device='cuda:0', grad_fn=<NllLossBackward0>),\n",
       " tensor(0.0029, device='cuda:0', grad_fn=<NllLossBackward0>),\n",
       " tensor(0.0222, device='cuda:0', grad_fn=<NllLossBackward0>),\n",
       " tensor(0.3109, device='cuda:0', grad_fn=<NllLossBackward0>),\n",
       " tensor(0.1665, device='cuda:0', grad_fn=<NllLossBackward0>),\n",
       " tensor(0.3360, device='cuda:0', grad_fn=<NllLossBackward0>),\n",
       " tensor(0.0006, device='cuda:0', grad_fn=<NllLossBackward0>),\n",
       " tensor(1.2525e-05, device='cuda:0', grad_fn=<NllLossBackward0>),\n",
       " tensor(0.0028, device='cuda:0', grad_fn=<NllLossBackward0>),\n",
       " tensor(0.0025, device='cuda:0', grad_fn=<NllLossBackward0>),\n",
       " tensor(0.0033, device='cuda:0', grad_fn=<NllLossBackward0>),\n",
       " tensor(0.0044, device='cuda:0', grad_fn=<NllLossBackward0>),\n",
       " tensor(0.0003, device='cuda:0', grad_fn=<NllLossBackward0>),\n",
       " tensor(0.0028, device='cuda:0', grad_fn=<NllLossBackward0>),\n",
       " tensor(0.0679, device='cuda:0', grad_fn=<NllLossBackward0>),\n",
       " tensor(0.0196, device='cuda:0', grad_fn=<NllLossBackward0>),\n",
       " tensor(0.0014, device='cuda:0', grad_fn=<NllLossBackward0>),\n",
       " tensor(5.3129e-05, device='cuda:0', grad_fn=<NllLossBackward0>),\n",
       " tensor(0.0015, device='cuda:0', grad_fn=<NllLossBackward0>),\n",
       " tensor(0.0476, device='cuda:0', grad_fn=<NllLossBackward0>),\n",
       " tensor(0.0152, device='cuda:0', grad_fn=<NllLossBackward0>),\n",
       " tensor(0.0077, device='cuda:0', grad_fn=<NllLossBackward0>)]"
      ]
     },
     "execution_count": 13,
     "metadata": {},
     "output_type": "execute_result"
    }
   ],
   "source": [
    "fit(50,dataloaders,optimizer,tinymodel)"
   ]
  },
  {
   "cell_type": "code",
   "execution_count": null,
   "id": "6943581d-d4f7-4dcf-b7f3-836c1ce4cdcb",
   "metadata": {},
   "outputs": [],
   "source": []
  },
  {
   "cell_type": "code",
   "execution_count": 16,
   "id": "fc515491-5a4b-44a2-91f8-96db76c63f8f",
   "metadata": {
    "scrolled": true
   },
   "outputs": [
    {
     "name": "stderr",
     "output_type": "stream",
     "text": [
      "/home/fogliodicarta/Desktop/InsectClassification/extract_features.py:122: UserWarning: To copy construct from a tensor, it is recommended to use sourceTensor.clone().detach() or sourceTensor.clone().detach().requires_grad_(True), rather than torch.tensor(sourceTensor).\n",
      "  torch.save(torch.tensor(expanded_train_dna_features),save_name_prefix+'dna_train_features.pt')\n",
      "/home/fogliodicarta/Desktop/InsectClassification/extract_features.py:123: UserWarning: To copy construct from a tensor, it is recommended to use sourceTensor.clone().detach() or sourceTensor.clone().detach().requires_grad_(True), rather than torch.tensor(sourceTensor).\n",
      "  torch.save(torch.tensor(expanded_train_dna_labels),save_name_prefix+'dna_train_labels.pt')\n",
      "/home/fogliodicarta/Desktop/InsectClassification/extract_features.py:124: UserWarning: To copy construct from a tensor, it is recommended to use sourceTensor.clone().detach() or sourceTensor.clone().detach().requires_grad_(True), rather than torch.tensor(sourceTensor).\n",
      "  torch.save(torch.tensor(expanded_val_dna_features),save_name_prefix+'dna_val_features.pt')\n",
      "/home/fogliodicarta/Desktop/InsectClassification/extract_features.py:125: UserWarning: To copy construct from a tensor, it is recommended to use sourceTensor.clone().detach() or sourceTensor.clone().detach().requires_grad_(True), rather than torch.tensor(sourceTensor).\n",
      "  torch.save(torch.tensor(expanded_val_dna_labels),save_name_prefix+'dna_val_labels.pt')\n",
      "/home/fogliodicarta/Desktop/InsectClassification/extract_features.py:126: UserWarning: To copy construct from a tensor, it is recommended to use sourceTensor.clone().detach() or sourceTensor.clone().detach().requires_grad_(True), rather than torch.tensor(sourceTensor).\n",
      "  torch.save(torch.tensor(expanded_test_dna_features),save_name_prefix+'dna_test_features.pt')\n",
      "/home/fogliodicarta/Desktop/InsectClassification/extract_features.py:127: UserWarning: To copy construct from a tensor, it is recommended to use sourceTensor.clone().detach() or sourceTensor.clone().detach().requires_grad_(True), rather than torch.tensor(sourceTensor).\n",
      "  torch.save(torch.tensor(expanded_test_dna_labels),save_name_prefix+'dna_test_labels.pt')\n"
     ]
    }
   ],
   "source": [
    "device = torch.device(\"cuda:0\" if torch.cuda.is_available() else \"cpu\")\n",
    "import importlib \n",
    "import extract_features\n",
    "importlib.reload(extract_features)\n",
    "(all_dna_features,(expanded_train_dna_features,expanded_train_dna_labels),\n",
    " (expanded_val_dna_features,expanded_val_dna_labels), \n",
    " (expanded_test_dna_features,expanded_test_dna_labels)) = \\\n",
    "extract_features.extract_expanded_dna_features(tinymodel,device,\n",
    "                                               save_to_disk=True)"
   ]
  },
  {
   "cell_type": "markdown",
   "id": "dee4df00-568b-459c-acf0-301ea50fe673",
   "metadata": {},
   "source": [
    "# Save extracted features in .mat"
   ]
  },
  {
   "cell_type": "code",
   "execution_count": 15,
   "id": "306b9931-7761-441a-9f4e-1e3304198dde",
   "metadata": {},
   "outputs": [],
   "source": [
    "import scipy.io as io\n",
    "all_dataset = io.loadmat('matlab_dataset/insect_dataset.mat')\n",
    "all_dataset['all_dna_features_cnn_new'] = all_dna_features \n",
    "io.savemat('matlab_dataset/insect_dataset.mat',all_dataset)\n"
   ]
  },
  {
   "cell_type": "code",
   "execution_count": 23,
   "id": "145896be-bd44-4c9c-af99-ec6b8ebda96e",
   "metadata": {},
   "outputs": [
    {
     "data": {
      "text/plain": [
       "tensor(True)"
      ]
     },
     "execution_count": 23,
     "metadata": {},
     "output_type": "execute_result"
    }
   ],
   "source": []
  },
  {
   "cell_type": "markdown",
   "id": "63279f87-b19c-4043-83e6-6ae92653bfea",
   "metadata": {},
   "source": [
    "# Random Forest"
   ]
  },
  {
   "cell_type": "code",
   "execution_count": 68,
   "id": "ba8bca5a-97ef-4e99-9fd7-b0e1d756c6fd",
   "metadata": {},
   "outputs": [],
   "source": [
    "from sklearn.ensemble import RandomForestClassifier\n",
    "\n",
    "clf = RandomForestClassifier(min_samples_leaf=2,n_jobs=-1)\n",
    "clf = clf.fit(expanded_train_dna_features,expanded_train_dna_labels )"
   ]
  },
  {
   "cell_type": "code",
   "execution_count": 69,
   "id": "75af3100-2f89-49e6-b8e9-343cb639d732",
   "metadata": {},
   "outputs": [
    {
     "name": "stdout",
     "output_type": "stream",
     "text": [
      "Training species accuracy:0.9995398420124243\n"
     ]
    }
   ],
   "source": [
    "train_predicted_labels = clf.predict(expanded_train_dna_features)\n",
    "print(f\"Training species accuracy:\\\n",
    "{np.count_nonzero(train_predicted_labels==expanded_train_dna_labels.numpy())/len(expanded_train_dna_labels)}\")"
   ]
  },
  {
   "cell_type": "code",
   "execution_count": 70,
   "id": "9e10ab3c-55bf-4ca3-b95c-e978d565b13e",
   "metadata": {},
   "outputs": [
    {
     "name": "stdout",
     "output_type": "stream",
     "text": [
      "Validation species accuracy:0.4567936736161035\n"
     ]
    }
   ],
   "source": [
    "val_predicted_labels= clf.predict(expanded_val_dna_features)\n",
    "print(f\"Validation species accuracy:{np.count_nonzero(val_predicted_labels==expanded_val_dna_labels.numpy())/len(expanded_val_dna_labels)}\")"
   ]
  },
  {
   "cell_type": "code",
   "execution_count": 80,
   "id": "56f0cc56-6f2f-4a32-9997-b89ba87fa3a1",
   "metadata": {},
   "outputs": [
    {
     "name": "stdout",
     "output_type": "stream",
     "text": [
      "Validation genus accuracy: 0.7698058950395399\n"
     ]
    }
   ],
   "source": [
    "\n",
    "temp_val_predicted_probs = clf.predict_proba(expanded_val_dna_features)\n",
    "val_predicted_probs = np.zeros((len(temp_val_predicted_probs),1050))\n",
    "for i, cls in enumerate(np.arange(1050)):\n",
    "    if cls in clf.classes_:\n",
    "        val_predicted_probs[:, cls] = temp_val_predicted_probs[:, list(clf.classes_).index(cls)]\n",
    "import math\n",
    "n_correct_genus = 0\n",
    "for i in range(len(expanded_val_dna_labels)):\n",
    "    #label_best_specie = val_predicted_probs[i].argmax()\n",
    "    label_best_specie = val_predicted_labels[i]\n",
    "    assert(val_predicted_labels[i]==val_predicted_probs[i].argmax())\n",
    "    #print(label_best_specie.item())\n",
    "    genus_of_best_species = species2genus[int(label_best_specie.item())]\n",
    "    #species_same_genus = [k for k,v in species2genus.items() if v == genus_of_best_species]\n",
    "    #reduced_species = val_predicted_probs[i][species_same_genus]\n",
    "    #normalized_reduced_species = reduced_species/(reduced_species.sum())\n",
    "    \n",
    "    real_genus = species2genus[int(expanded_val_dna_labels[i].item())]\n",
    "    predicted_genus = genus_of_best_species\n",
    "    if real_genus == predicted_genus:\n",
    "        n_correct_genus+=1\n",
    "print(f\"Validation genus accuracy: {n_correct_genus/len(expanded_val_dna_labels)}\")\n"
   ]
  }
 ],
 "metadata": {
  "kernelspec": {
   "display_name": "Python 3 (ipykernel)",
   "language": "python",
   "name": "python3"
  },
  "language_info": {
   "codemirror_mode": {
    "name": "ipython",
    "version": 3
   },
   "file_extension": ".py",
   "mimetype": "text/x-python",
   "name": "python",
   "nbconvert_exporter": "python",
   "pygments_lexer": "ipython3",
   "version": "3.12.2"
  }
 },
 "nbformat": 4,
 "nbformat_minor": 5
}
