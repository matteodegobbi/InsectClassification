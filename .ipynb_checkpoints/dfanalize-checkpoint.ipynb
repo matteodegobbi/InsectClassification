{
 "cells": [
  {
   "cell_type": "code",
   "execution_count": 2,
   "id": "34a1219f-ad23-4058-8864-58dcf08d689a",
   "metadata": {},
   "outputs": [],
   "source": [
    "import pandas as pd\n",
    "df = pd.read_csv('only_five_missing.csv')"
   ]
  },
  {
   "cell_type": "code",
   "execution_count": 3,
   "id": "fc8a8aed-24a5-49db-ab43-b4dbe5d77346",
   "metadata": {},
   "outputs": [
    {
     "data": {
      "text/plain": [
       "13015"
      ]
     },
     "execution_count": 3,
     "metadata": {},
     "output_type": "execute_result"
    }
   ],
   "source": [
    "df['nucleotide'].nunique() # number of unique nucleotide specimens (in matlab its 13007)"
   ]
  },
  {
   "cell_type": "code",
   "execution_count": 4,
   "id": "1a9eade6-743e-4ed3-b059-03c1d46e4dc6",
   "metadata": {},
   "outputs": [],
   "source": [
    "df = df.dropna(subset=['nucleotide']) #drop missing nucleotide"
   ]
  },
  {
   "cell_type": "code",
   "execution_count": 5,
   "id": "217345cf-7729-4367-b601-fa0c15afbeb0",
   "metadata": {},
   "outputs": [
    {
     "data": {
      "text/plain": [
       "False"
      ]
     },
     "execution_count": 5,
     "metadata": {},
     "output_type": "execute_result"
    }
   ],
   "source": [
    "df['nucleotide'].isnull().any()"
   ]
  },
  {
   "cell_type": "code",
   "execution_count": 6,
   "id": "cf37de22-2a83-4be4-9f4e-1fbade544495",
   "metadata": {},
   "outputs": [
    {
     "name": "stdout",
     "output_type": "stream",
     "text": [
      "Number of rows with dash:  6516\n"
     ]
    },
    {
     "data": {
      "text/plain": [
       "3        --AACTTTATATTTCATTTTTGGTATTTGAGCAGGTATAGTAGGAA...\n",
       "4        --AACTTTATATTTCATTTTTGGTATTTGAGCAGGTATAGTAGGAA...\n",
       "10       TACATTATATTTTATTTTTGGAATTTGAACTGGTATAGTAGGAACT...\n",
       "31       --AACTTTATATTTCATTTTTGGTATTTGAGCAGGTATAGTAGGAA...\n",
       "32       --AACTTTATATTTCATTTTTGGTATTTGAGCAGGTATAGTAGGAA...\n",
       "                               ...                        \n",
       "27324    -------------------------------------GTAGGAACT...\n",
       "27332    --AACATTATACTTTATTTTTGGAATTTGAGCCGGTATAGTTGGAA...\n",
       "27333    --AACATTATACTTTATTTTTGGAATTTGAGCCGGTATAGTTGGAA...\n",
       "27334    --AACATTATATTTTATTTTTGGAATTTGGGCAGGTATAGTAGGAA...\n",
       "27338    --AACATTATATTTTATTTTTGGAATTTGAGCAGGTATAGTAGGAA...\n",
       "Name: nucleotide, Length: 6516, dtype: object"
      ]
     },
     "execution_count": 6,
     "metadata": {},
     "output_type": "execute_result"
    }
   ],
   "source": [
    "rows_with_dash = df['nucleotide'].str.contains('-')\n",
    "print(\"Number of rows with dash: \",rows_with_dash.sum())\n",
    "df[rows_with_dash]['nucleotide']"
   ]
  },
  {
   "cell_type": "code",
   "execution_count": 38,
   "id": "9d7ba24a-889e-4e36-98e3-d3bfdbd926b8",
   "metadata": {},
   "outputs": [
    {
     "data": {
      "text/plain": [
       "0    658\n",
       "Name: nucleotide, dtype: int64"
      ]
     },
     "execution_count": 38,
     "metadata": {},
     "output_type": "execute_result"
    }
   ],
   "source": [
    "for i,row in enumerate(df[rows_with_dash]['nucleotide']):\n",
    "    pass\n",
    "#    print(len(row))\n",
    "df[rows_with_dash]['nucleotide'].apply(len).unique()\n",
    "df[rows_with_dash]['nucleotide'].apply(len).mode()\n"
   ]
  },
  {
   "cell_type": "code",
   "execution_count": 35,
   "id": "d3ae9871-4a8e-4b9f-9910-51adac67bd14",
   "metadata": {},
   "outputs": [
    {
     "data": {
      "text/html": [
       "<div>\n",
       "<style scoped>\n",
       "    .dataframe tbody tr th:only-of-type {\n",
       "        vertical-align: middle;\n",
       "    }\n",
       "\n",
       "    .dataframe tbody tr th {\n",
       "        vertical-align: top;\n",
       "    }\n",
       "\n",
       "    .dataframe thead th {\n",
       "        text-align: right;\n",
       "    }\n",
       "</style>\n",
       "<table border=\"1\" class=\"dataframe\">\n",
       "  <thead>\n",
       "    <tr style=\"text-align: right;\">\n",
       "      <th></th>\n",
       "      <th>Unnamed: 0</th>\n",
       "      <th>processid</th>\n",
       "      <th>sampleid</th>\n",
       "      <th>recordID</th>\n",
       "      <th>catalognum</th>\n",
       "      <th>fieldnum</th>\n",
       "      <th>institution_storing</th>\n",
       "      <th>bin_uri</th>\n",
       "      <th>phylum_taxID</th>\n",
       "      <th>phylum_name</th>\n",
       "      <th>...</th>\n",
       "      <th>image_urls</th>\n",
       "      <th>copyright_licenses</th>\n",
       "      <th>trace_ids</th>\n",
       "      <th>trace_links</th>\n",
       "      <th>run_dates</th>\n",
       "      <th>sequencing_centers</th>\n",
       "      <th>directions</th>\n",
       "      <th>seq_primers</th>\n",
       "      <th>marker_codes</th>\n",
       "      <th>nucleotide</th>\n",
       "    </tr>\n",
       "  </thead>\n",
       "  <tbody>\n",
       "    <tr>\n",
       "      <th>0</th>\n",
       "      <td>0</td>\n",
       "      <td>ANICL062-10</td>\n",
       "      <td>10ANIC-08059</td>\n",
       "      <td>1652746</td>\n",
       "      <td>10ANIC-08059</td>\n",
       "      <td></td>\n",
       "      <td>Australian National Insect Collection</td>\n",
       "      <td>BOLD:AAE3294</td>\n",
       "      <td>20</td>\n",
       "      <td>Arthropoda</td>\n",
       "      <td>...</td>\n",
       "      <td>http://v3.boldsystems.org/pics/ANICL/10ANIC_08...</td>\n",
       "      <td>CreativeCommons - Attribution</td>\n",
       "      <td>2603931|2603908|2603881|2603843</td>\n",
       "      <td>http://trace.boldsystems.org/traceIO/bold.org/...</td>\n",
       "      <td>2010-12-16 00:05:06|2010-12-15 23:19:19|2010-1...</td>\n",
       "      <td>Centre for Biodiversity Genomics|Centre for Bi...</td>\n",
       "      <td>R|F|F|R</td>\n",
       "      <td>LepR1|MLepF1|LepF1|MLepR1</td>\n",
       "      <td>COI-5P|COI-5P|COI-5P|COI-5P</td>\n",
       "      <td>TACATTATATTTTATTTTTGGAATTTGAGCTGGTATAGTTGGAACT...</td>\n",
       "    </tr>\n",
       "    <tr>\n",
       "      <th>1</th>\n",
       "      <td>1</td>\n",
       "      <td>BCHYM11106-15</td>\n",
       "      <td>BC ZSM HYM 24216</td>\n",
       "      <td>6295592</td>\n",
       "      <td>BC ZSM HYM 24216</td>\n",
       "      <td></td>\n",
       "      <td>SNSB, Zoologische Staatssammlung Muenchen</td>\n",
       "      <td>BOLD:AAM4014</td>\n",
       "      <td>20</td>\n",
       "      <td>Arthropoda</td>\n",
       "      <td>...</td>\n",
       "      <td>http://v3.boldsystems.org/pics/BCHYM/BC_ZSM_HY...</td>\n",
       "      <td>CreativeCommons - Attribution Non-Commercial S...</td>\n",
       "      <td>8474808|8474713</td>\n",
       "      <td>http://trace.boldsystems.org/traceIO/bold.org/...</td>\n",
       "      <td>2015-10-05 14:30:49|2015-10-06 05:32:19</td>\n",
       "      <td>Centre for Biodiversity Genomics|Centre for Bi...</td>\n",
       "      <td>R|F</td>\n",
       "      <td>LepR1|LepF1</td>\n",
       "      <td>COI-5P|COI-5P</td>\n",
       "      <td>AATTTTATATTTTATATTTGCTTTATGAGCAGGTATATTGGGAACA...</td>\n",
       "    </tr>\n",
       "    <tr>\n",
       "      <th>2</th>\n",
       "      <td>2</td>\n",
       "      <td>BCHYM7643-15</td>\n",
       "      <td>BC-ZSM-HYM-27761-D07</td>\n",
       "      <td>5806393</td>\n",
       "      <td>BC-ZSM-HYM-27761-D07</td>\n",
       "      <td>BC-ZSM-HYM-27761-D07</td>\n",
       "      <td>SNSB, Zoologische Staatssammlung Muenchen</td>\n",
       "      <td>BOLD:AAZ8135</td>\n",
       "      <td>20</td>\n",
       "      <td>Arthropoda</td>\n",
       "      <td>...</td>\n",
       "      <td>http://v3.boldsystems.org/pics/BCHYM/BC-ZSM-HY...</td>\n",
       "      <td>CreativeCommons - Attribution Non-Commercial S...</td>\n",
       "      <td>7816517|7816422</td>\n",
       "      <td>http://trace.boldsystems.org/traceIO/bold.org/...</td>\n",
       "      <td>2015-05-04 11:31:35|2015-05-04 12:34:37</td>\n",
       "      <td>Centre for Biodiversity Genomics|Centre for Bi...</td>\n",
       "      <td>F|R</td>\n",
       "      <td>LepF1|LepR1</td>\n",
       "      <td>COI-5P|COI-5P</td>\n",
       "      <td>AGTTTTATATTTTATTTTTGGAATATGAGCAGGAATAATTGGATCA...</td>\n",
       "    </tr>\n",
       "    <tr>\n",
       "      <th>3</th>\n",
       "      <td>3</td>\n",
       "      <td>BLPBC407-07</td>\n",
       "      <td>06-SRNP-109430</td>\n",
       "      <td>568126</td>\n",
       "      <td></td>\n",
       "      <td>06-SRNP-109430</td>\n",
       "      <td>Area de Conservacion Guanacaste</td>\n",
       "      <td>BOLD:AAA3052</td>\n",
       "      <td>20</td>\n",
       "      <td>Arthropoda</td>\n",
       "      <td>...</td>\n",
       "      <td>http://v3.boldsystems.org/pics/BLPBC/06-SRNP-1...</td>\n",
       "      <td>CreativeCommons - Attribution Non-Commercial S...</td>\n",
       "      <td>742969|742875</td>\n",
       "      <td>http://trace.boldsystems.org/traceIO/bold.org/...</td>\n",
       "      <td>2007-08-30 07:31:59|2007-08-30 06:00:49</td>\n",
       "      <td>Centre for Biodiversity Genomics|Centre for Bi...</td>\n",
       "      <td>R|F</td>\n",
       "      <td>LepR1|LepF1</td>\n",
       "      <td>COI-5P|COI-5P</td>\n",
       "      <td>--AACTTTATATTTCATTTTTGGTATTTGAGCAGGTATAGTAGGAA...</td>\n",
       "    </tr>\n",
       "    <tr>\n",
       "      <th>4</th>\n",
       "      <td>4</td>\n",
       "      <td>BLPBE439-07</td>\n",
       "      <td>07-SRNP-101378</td>\n",
       "      <td>623757</td>\n",
       "      <td></td>\n",
       "      <td>07-SRNP-101378</td>\n",
       "      <td>Area de Conservacion Guanacaste</td>\n",
       "      <td>BOLD:AAA3052</td>\n",
       "      <td>20</td>\n",
       "      <td>Arthropoda</td>\n",
       "      <td>...</td>\n",
       "      <td>http://v3.boldsystems.org/pics/BLPBE/07-SRNP-1...</td>\n",
       "      <td>CreativeCommons - Attribution Non-Commercial S...</td>\n",
       "      <td>761240|761334</td>\n",
       "      <td>http://trace.boldsystems.org/traceIO/bold.org/...</td>\n",
       "      <td>2007-09-19 13:30:42|2007-09-19 15:01:55</td>\n",
       "      <td>Centre for Biodiversity Genomics|Centre for Bi...</td>\n",
       "      <td>F|R</td>\n",
       "      <td>LepF1|LepR1</td>\n",
       "      <td>COI-5P|COI-5P</td>\n",
       "      <td>--AACTTTATATTTCATTTTTGGTATTTGAGCAGGTATAGTAGGAA...</td>\n",
       "    </tr>\n",
       "  </tbody>\n",
       "</table>\n",
       "<p>5 rows × 53 columns</p>\n",
       "</div>"
      ],
      "text/plain": [
       "   Unnamed: 0      processid              sampleid  recordID  \\\n",
       "0           0    ANICL062-10          10ANIC-08059   1652746   \n",
       "1           1  BCHYM11106-15      BC ZSM HYM 24216   6295592   \n",
       "2           2   BCHYM7643-15  BC-ZSM-HYM-27761-D07   5806393   \n",
       "3           3    BLPBC407-07        06-SRNP-109430    568126   \n",
       "4           4    BLPBE439-07        07-SRNP-101378    623757   \n",
       "\n",
       "             catalognum              fieldnum  \\\n",
       "0          10ANIC-08059                         \n",
       "1      BC ZSM HYM 24216                         \n",
       "2  BC-ZSM-HYM-27761-D07  BC-ZSM-HYM-27761-D07   \n",
       "3                              06-SRNP-109430   \n",
       "4                              07-SRNP-101378   \n",
       "\n",
       "                         institution_storing       bin_uri  phylum_taxID  \\\n",
       "0      Australian National Insect Collection  BOLD:AAE3294            20   \n",
       "1  SNSB, Zoologische Staatssammlung Muenchen  BOLD:AAM4014            20   \n",
       "2  SNSB, Zoologische Staatssammlung Muenchen  BOLD:AAZ8135            20   \n",
       "3            Area de Conservacion Guanacaste  BOLD:AAA3052            20   \n",
       "4            Area de Conservacion Guanacaste  BOLD:AAA3052            20   \n",
       "\n",
       "  phylum_name  ...                                         image_urls  \\\n",
       "0  Arthropoda  ...  http://v3.boldsystems.org/pics/ANICL/10ANIC_08...   \n",
       "1  Arthropoda  ...  http://v3.boldsystems.org/pics/BCHYM/BC_ZSM_HY...   \n",
       "2  Arthropoda  ...  http://v3.boldsystems.org/pics/BCHYM/BC-ZSM-HY...   \n",
       "3  Arthropoda  ...  http://v3.boldsystems.org/pics/BLPBC/06-SRNP-1...   \n",
       "4  Arthropoda  ...  http://v3.boldsystems.org/pics/BLPBE/07-SRNP-1...   \n",
       "\n",
       "                                  copyright_licenses  \\\n",
       "0                      CreativeCommons - Attribution   \n",
       "1  CreativeCommons - Attribution Non-Commercial S...   \n",
       "2  CreativeCommons - Attribution Non-Commercial S...   \n",
       "3  CreativeCommons - Attribution Non-Commercial S...   \n",
       "4  CreativeCommons - Attribution Non-Commercial S...   \n",
       "\n",
       "                         trace_ids  \\\n",
       "0  2603931|2603908|2603881|2603843   \n",
       "1                  8474808|8474713   \n",
       "2                  7816517|7816422   \n",
       "3                    742969|742875   \n",
       "4                    761240|761334   \n",
       "\n",
       "                                         trace_links  \\\n",
       "0  http://trace.boldsystems.org/traceIO/bold.org/...   \n",
       "1  http://trace.boldsystems.org/traceIO/bold.org/...   \n",
       "2  http://trace.boldsystems.org/traceIO/bold.org/...   \n",
       "3  http://trace.boldsystems.org/traceIO/bold.org/...   \n",
       "4  http://trace.boldsystems.org/traceIO/bold.org/...   \n",
       "\n",
       "                                           run_dates  \\\n",
       "0  2010-12-16 00:05:06|2010-12-15 23:19:19|2010-1...   \n",
       "1            2015-10-05 14:30:49|2015-10-06 05:32:19   \n",
       "2            2015-05-04 11:31:35|2015-05-04 12:34:37   \n",
       "3            2007-08-30 07:31:59|2007-08-30 06:00:49   \n",
       "4            2007-09-19 13:30:42|2007-09-19 15:01:55   \n",
       "\n",
       "                                  sequencing_centers directions  \\\n",
       "0  Centre for Biodiversity Genomics|Centre for Bi...    R|F|F|R   \n",
       "1  Centre for Biodiversity Genomics|Centre for Bi...        R|F   \n",
       "2  Centre for Biodiversity Genomics|Centre for Bi...        F|R   \n",
       "3  Centre for Biodiversity Genomics|Centre for Bi...        R|F   \n",
       "4  Centre for Biodiversity Genomics|Centre for Bi...        F|R   \n",
       "\n",
       "                 seq_primers                 marker_codes  \\\n",
       "0  LepR1|MLepF1|LepF1|MLepR1  COI-5P|COI-5P|COI-5P|COI-5P   \n",
       "1                LepR1|LepF1                COI-5P|COI-5P   \n",
       "2                LepF1|LepR1                COI-5P|COI-5P   \n",
       "3                LepR1|LepF1                COI-5P|COI-5P   \n",
       "4                LepF1|LepR1                COI-5P|COI-5P   \n",
       "\n",
       "                                          nucleotide  \n",
       "0  TACATTATATTTTATTTTTGGAATTTGAGCTGGTATAGTTGGAACT...  \n",
       "1  AATTTTATATTTTATATTTGCTTTATGAGCAGGTATATTGGGAACA...  \n",
       "2  AGTTTTATATTTTATTTTTGGAATATGAGCAGGAATAATTGGATCA...  \n",
       "3  --AACTTTATATTTCATTTTTGGTATTTGAGCAGGTATAGTAGGAA...  \n",
       "4  --AACTTTATATTTCATTTTTGGTATTTGAGCAGGTATAGTAGGAA...  \n",
       "\n",
       "[5 rows x 53 columns]"
      ]
     },
     "execution_count": 35,
     "metadata": {},
     "output_type": "execute_result"
    }
   ],
   "source": [
    "df.head()"
   ]
  }
 ],
 "metadata": {
  "kernelspec": {
   "display_name": "Python 3 (ipykernel)",
   "language": "python",
   "name": "python3"
  },
  "language_info": {
   "codemirror_mode": {
    "name": "ipython",
    "version": 3
   },
   "file_extension": ".py",
   "mimetype": "text/x-python",
   "name": "python",
   "nbconvert_exporter": "python",
   "pygments_lexer": "ipython3",
   "version": "3.12.2"
  }
 },
 "nbformat": 4,
 "nbformat_minor": 5
}
