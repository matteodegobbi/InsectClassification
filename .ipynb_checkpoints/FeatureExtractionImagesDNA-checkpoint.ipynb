{
 "cells": [
  {
   "cell_type": "code",
   "execution_count": 18,
   "id": "91ba8e41-9715-4eb3-96a2-cd0b20f8e780",
   "metadata": {},
   "outputs": [
    {
     "data": {
      "text/plain": [
       "<module 'dataset_utils' from '/home/fogliodicarta/Desktop/InsectClassification/dataset_utils.py'>"
      ]
     },
     "execution_count": 18,
     "metadata": {},
     "output_type": "execute_result"
    }
   ],
   "source": [
    "\n",
    "import torch\n",
    "import torchvision\n",
    "from torch import nn \n",
    "#from torch.utils.tensorboard import SummaryWriter\n",
    "from torchvision import transforms\n",
    "import matplotlib.pyplot as plt\n",
    "import pandas as pd\n",
    "from IPython.display import Image \n",
    "#%matplotlib inline\n",
    "import numpy as np\n",
    "import dataset_utils\n",
    "import importlib\n",
    "importlib.reload(dataset_utils)"
   ]
  },
  {
   "cell_type": "code",
   "execution_count": 19,
   "id": "83bc5978-8702-4c0b-bb03-2da59dc811e7",
   "metadata": {},
   "outputs": [
    {
     "name": "stdout",
     "output_type": "stream",
     "text": [
      "365    Bembidion normannum\n",
      "292       Bledius gallicus\n",
      "321       Praxis edwardsii\n",
      "352        Andrena pilipes\n",
      "18     Automeris managuana\n",
      "              ...         \n",
      "412         Hemiceras losa\n",
      "413         Hemiceras losa\n",
      "417     Hemiceras punctata\n",
      "418         Hemiceras losa\n",
      "421     Hemiceras punctata\n",
      "Name: species_name, Length: 9991, dtype: object\n"
     ]
    }
   ],
   "source": [
    "df = pd.read_csv('final_dataset.csv',index_col=0)\n",
    "tform = transforms.Compose([transforms.Resize((64,64)),transforms.PILToTensor(),transforms.ConvertImageDtype(torch.float),transforms.Normalize(0.5,0.5)])\n",
    "image_dataset = torchvision.datasets.ImageFolder(\"image_dataset/\",transform=tform)\n",
    "species2genus = dataset_utils.species_label_to_genus_label(df,image_dataset)\n",
    "batch_size = 1000 \n",
    "import random\n",
    "import dataset_utils\n",
    "img2dna = dataset_utils.get_imgs_bold_id(image_dataset,df)\n",
    "\n",
    "nucleotides = df[['nucleotide','species_name','genus_name','processid','image_urls']]\n",
    "colonna_dna = df.loc[:,\"nucleotide\"]\n",
    "nucleotides.loc[:,'nucleotide'] = colonna_dna.apply(dataset_utils.one_hot_encoding)\n",
    "random.seed(42)\n",
    "\n",
    "X_train_1, X_test, y_train_1, y_test = dataset_utils.data_split(nucleotides,0.2,random_state=42)\n",
    "print(y_test)\n",
    "train_data = X_train_1\n",
    "train_data['species_name'] = y_train_1\n",
    "\n",
    "X_train, X_validation, y_train, y_validation = dataset_utils.data_split(train_data,0.2,drop_labels=False,random_state=42)\n",
    "train_indices, val_indices, test_indices = dataset_utils.image_splits_from_df(X_train,X_validation,X_test,image_dataset)"
   ]
  },
  {
   "cell_type": "code",
   "execution_count": 20,
   "id": "753d3780-f09f-4efa-964e-a02585f9777d",
   "metadata": {},
   "outputs": [],
   "source": [
    "expanded_train_dna_features = torch.load('expanded_train_dna_features.pt')\n",
    "expanded_train_dna_labels = torch.load('expanded_train_dna_labels.pt')\n",
    "image_train_features = torch.load('image_train_features.pt')\n",
    "image_train_labels= torch.load('image_train_labels.pt')\n",
    "assert((image_train_labels == expanded_train_dna_labels).all())"
   ]
  },
  {
   "cell_type": "code",
   "execution_count": 21,
   "id": "0e90107d-bd50-4b49-ab4b-5c3e4af50873",
   "metadata": {},
   "outputs": [],
   "source": [
    "expanded_val_dna_features = torch.load('expanded_val_dna_features.pt')\n",
    "expanded_val_dna_labels = torch.load('expanded_val_dna_labels.pt')\n",
    "image_val_features = torch.load('image_val_features.pt')\n",
    "image_val_labels= torch.load('image_val_labels.pt')\n",
    "assert((image_val_labels == expanded_val_dna_labels).all())"
   ]
  },
  {
   "cell_type": "code",
   "execution_count": 22,
   "id": "31924296-c800-4a21-a243-753cc4edceb0",
   "metadata": {},
   "outputs": [],
   "source": [
    "complete_train_features = torch.cat((expanded_train_dna_features,image_train_features),dim=1)\n",
    "complete_val_features = torch.cat((expanded_val_dna_features,image_val_features),dim=1)"
   ]
  },
  {
   "cell_type": "code",
   "execution_count": 23,
   "id": "d5b484d3-0f45-4ef9-add4-791e6c5aedf6",
   "metadata": {},
   "outputs": [
    {
     "data": {
      "text/plain": [
       "torch.Size([13039, 7346])"
      ]
     },
     "execution_count": 23,
     "metadata": {},
     "output_type": "execute_result"
    }
   ],
   "source": [
    "expanded_train_dna_features.shape\n",
    "image_train_features.shape\n",
    "complete_train_features.shape"
   ]
  },
  {
   "cell_type": "markdown",
   "id": "0b5a5a11-04a7-4581-92f6-de3182652376",
   "metadata": {},
   "source": [
    "# Con Forest"
   ]
  },
  {
   "cell_type": "code",
   "execution_count": 105,
   "id": "770a80a8-a996-47ae-aec4-917904f03b84",
   "metadata": {},
   "outputs": [],
   "source": [
    "from sklearn.multioutput import MultiOutputClassifier\n",
    "from sklearn.svm import LinearSVC,SVC\n",
    "from sklearn.ensemble import RandomForestClassifier\n",
    "from sklearn.ensemble import BaggingClassifier \n",
    "clf = RandomForestClassifier(min_samples_leaf=2,n_jobs=-1)\n",
    "clf = clf.fit(complete_train_features, image_train_labels)"
   ]
  },
  {
   "cell_type": "code",
   "execution_count": 106,
   "id": "eb7544c9-6942-4a4f-83df-015831417938",
   "metadata": {},
   "outputs": [],
   "source": [
    "\n",
    "train_predicted_labels = clf.predict(complete_train_features)\n",
    "val_predicted_labels= clf.predict(complete_val_features)\n",
    "\n",
    "temp_val_predicted_probs = clf.predict_proba(complete_val_features)\n",
    "val_predicted_probs = np.zeros((len(temp_val_predicted_probs),1050))\n",
    "for i, cls in enumerate(np.arange(1050)):\n",
    "    if cls in clf.classes_:\n",
    "        val_predicted_probs[:, cls] = temp_val_predicted_probs[:, list(clf.classes_).index(cls)]"
   ]
  },
  {
   "cell_type": "markdown",
   "id": "4365fcc1-a945-4cac-b909-164bea6647d7",
   "metadata": {},
   "source": [
    "# Con Linear Model"
   ]
  },
  {
   "cell_type": "code",
   "execution_count": 180,
   "id": "4fad041b-8773-4d15-ba76-6b006deff99f",
   "metadata": {},
   "outputs": [],
   "source": [
    "class FeatureDataset(Dataset):\n",
    "    def __init__(self, data, targets, transform=None):\n",
    "        self.data = data\n",
    "        self.targets = targets\n",
    "        \n",
    "    def __getitem__(self, index):\n",
    "        x = self.data[index]\n",
    "        y = torch.tensor(self.targets[index],dtype=torch.long)\n",
    "        return x, y\n",
    "    \n",
    "    def __len__(self):\n",
    "        return len(self.data)\n",
    "d_train = FeatureDataset(complete_train_features, image_train_labels)\n",
    "d_val = FeatureDataset(complete_val_features, image_val_labels)"
   ]
  },
  {
   "cell_type": "code",
   "execution_count": 181,
   "id": "531a50d9-3b46-4855-b285-f3288fd6362c",
   "metadata": {},
   "outputs": [],
   "source": [
    "class LinearModel(torch.nn.Module):\n",
    "\n",
    "    def __init__(self,n_classes=1050):\n",
    "        super(LinearModel, self).__init__()\n",
    "        self.main = nn.Sequential(\n",
    "            nn.Linear(7346,5000),\n",
    "            nn.BatchNorm1d(5000),\n",
    "            nn.Dropout(),\n",
    "            nn.ReLU(),\n",
    "            nn.Linear(5000,2000),\n",
    "            nn.BatchNorm1d(2000),\n",
    "            nn.Dropout(),\n",
    "            nn.ReLU(),\n",
    "            nn.Linear(2000,1050),\n",
    "        )\n",
    "        \n",
    "    def forward(self, x):\n",
    "        x = self.main(x)\n",
    "        #x = nn.functional.softmax(x)\n",
    "        return x\n",
    "from torch.utils.data import Dataset\n",
    "from torch.utils.data import DataLoader\n",
    "linearmodel = LinearModel().cuda()\n",
    "\n",
    "dataloader_train = DataLoader(d_train, batch_size=32,shuffle=True)\n",
    "dataloader_val = DataLoader(d_val, batch_size=32,shuffle=True)\n",
    "dataloaders = {'train':dataloader_train,'val':dataloader_val}\n",
    "dataset_sizes = {'train': d_train.data.shape[0], 'val':d_val.data.shape[0]}"
   ]
  },
  {
   "cell_type": "code",
   "execution_count": 182,
   "id": "9084ae44-6f84-4fae-85fb-020bf3890ab8",
   "metadata": {},
   "outputs": [],
   "source": [
    "\n",
    "from tqdm.notebook import tqdm\n",
    "def fit(epochs,dataloaders,optimizer,model,start_idx=0):\n",
    "    criterion = torch.nn.CrossEntropyLoss()\n",
    "    device = torch.device(\"cuda:0\" if torch.cuda.is_available() else \"cpu\")\n",
    "    torch.cuda.empty_cache()\n",
    "    \n",
    "    train_losses = []\n",
    "    train_scores = []\n",
    "    val_losses = []\n",
    "    val_scores = []\n",
    "    for epoch in range(epochs):\n",
    "        running_train_corrects = 0\n",
    "        for dnas,labels in tqdm(dataloaders['train']):\n",
    "            model.train()\n",
    "            dnas = dnas.to(device)\n",
    "            labels = labels.to(device)\n",
    "            optimizer.zero_grad()\n",
    "            \n",
    "            predicted_labels = model(dnas)\n",
    "            train_loss = criterion(predicted_labels,labels)\n",
    "            train_loss.backward()\n",
    "            optimizer.step()\n",
    "            \n",
    "            _, preds = torch.max(predicted_labels, 1)\n",
    "            #print(preds)\n",
    "            #print(labels.data)\n",
    "            running_train_corrects += torch.sum(preds == labels.data)\n",
    "        train_losses.append(train_loss)\n",
    "        \n",
    "        running_val_corrects = 0\n",
    "        for dnas,labels in tqdm(dataloaders['val']):\n",
    "            \n",
    "            model.eval()\n",
    "            with torch.no_grad():\n",
    "                dnas = dnas.to(device)\n",
    "                labels = labels.to(device)\n",
    "                optimizer.zero_grad()\n",
    "                \n",
    "                predicted_labels = model(dnas)\n",
    "                val_loss = criterion(predicted_labels,labels)\n",
    "                \n",
    "                _, preds = torch.max(predicted_labels, 1)\n",
    "                #print(preds)\n",
    "                #print(labels.data)\n",
    "                running_val_corrects += torch.sum(preds == labels.data)\n",
    "        val_losses.append(val_loss)\n",
    "        \n",
    "        \n",
    "        \n",
    "        #real_scores.append(real_score)\n",
    "        #fit_p.writer.add_scalar('loss_g', loss_g, epoch)\n",
    "        # Log losses & scores (last batch)\n",
    "        \n",
    "        epoch_train_acc = running_train_corrects.double() / dataset_sizes['train']\n",
    "        epoch_val_acc = running_val_corrects.double() / dataset_sizes['val']\n",
    "        print(\"Epoch [{}/{}], train_loss: {:.4f},  train_score: {:.4f},val_loss: {:.4f},  val_score: {:.4f}\".format(\n",
    "            epoch+1, epochs, train_loss, epoch_train_acc,val_loss,epoch_val_acc))\n",
    "        #print(f\"class accuracy real {class_accuracy_real}\")\n",
    "    \n",
    "    return train_losses"
   ]
  },
  {
   "cell_type": "code",
   "execution_count": null,
   "id": "d8022b82-cae5-4bdf-81b0-1aadc08d7cb6",
   "metadata": {},
   "outputs": [],
   "source": []
  },
  {
   "cell_type": "code",
   "execution_count": 183,
   "id": "0c466f7f-6ccd-46c3-b1e6-66d8d22a2ac5",
   "metadata": {
    "scrolled": true
   },
   "outputs": [
    {
     "data": {
      "application/vnd.jupyter.widget-view+json": {
       "model_id": "890e079a31234ebf9f826a64f40b6afb",
       "version_major": 2,
       "version_minor": 0
      },
      "text/plain": [
       "  0%|          | 0/408 [00:00<?, ?it/s]"
      ]
     },
     "metadata": {},
     "output_type": "display_data"
    },
    {
     "name": "stderr",
     "output_type": "stream",
     "text": [
      "/tmp/ipykernel_33382/3859614125.py:8: UserWarning: To copy construct from a tensor, it is recommended to use sourceTensor.clone().detach() or sourceTensor.clone().detach().requires_grad_(True), rather than torch.tensor(sourceTensor).\n",
      "  y = torch.tensor(self.targets[index],dtype=torch.long)\n"
     ]
    },
    {
     "data": {
      "application/vnd.jupyter.widget-view+json": {
       "model_id": "d6543fa585e044909770701de399a347",
       "version_major": 2,
       "version_minor": 0
      },
      "text/plain": [
       "  0%|          | 0/218 [00:00<?, ?it/s]"
      ]
     },
     "metadata": {},
     "output_type": "display_data"
    },
    {
     "name": "stdout",
     "output_type": "stream",
     "text": [
      "Epoch [1/20], train_loss: 2.3089,  train_score: 0.3107,val_loss: 11.9374,  val_score: 0.2495\n"
     ]
    },
    {
     "data": {
      "application/vnd.jupyter.widget-view+json": {
       "model_id": "aa9c8e24eda344ca816ad46029f0f4b0",
       "version_major": 2,
       "version_minor": 0
      },
      "text/plain": [
       "  0%|          | 0/408 [00:00<?, ?it/s]"
      ]
     },
     "metadata": {},
     "output_type": "display_data"
    },
    {
     "data": {
      "application/vnd.jupyter.widget-view+json": {
       "model_id": "2dcb17a2a28e427981496e8226605b1c",
       "version_major": 2,
       "version_minor": 0
      },
      "text/plain": [
       "  0%|          | 0/218 [00:00<?, ?it/s]"
      ]
     },
     "metadata": {},
     "output_type": "display_data"
    },
    {
     "name": "stdout",
     "output_type": "stream",
     "text": [
      "Epoch [2/20], train_loss: 1.2046,  train_score: 0.6338,val_loss: 8.0876,  val_score: 0.3530\n"
     ]
    },
    {
     "data": {
      "application/vnd.jupyter.widget-view+json": {
       "model_id": "42590a6b66404c4fb8deea9f978678f0",
       "version_major": 2,
       "version_minor": 0
      },
      "text/plain": [
       "  0%|          | 0/408 [00:00<?, ?it/s]"
      ]
     },
     "metadata": {},
     "output_type": "display_data"
    },
    {
     "data": {
      "application/vnd.jupyter.widget-view+json": {
       "model_id": "e6ded8de22ab4be1a56ffe2b356a2c09",
       "version_major": 2,
       "version_minor": 0
      },
      "text/plain": [
       "  0%|          | 0/218 [00:00<?, ?it/s]"
      ]
     },
     "metadata": {},
     "output_type": "display_data"
    },
    {
     "name": "stdout",
     "output_type": "stream",
     "text": [
      "Epoch [3/20], train_loss: 0.3812,  train_score: 0.8166,val_loss: 11.6902,  val_score: 0.4116\n"
     ]
    },
    {
     "data": {
      "application/vnd.jupyter.widget-view+json": {
       "model_id": "ddd6d31543cc49e8b29a58e5c78d3d87",
       "version_major": 2,
       "version_minor": 0
      },
      "text/plain": [
       "  0%|          | 0/408 [00:00<?, ?it/s]"
      ]
     },
     "metadata": {},
     "output_type": "display_data"
    },
    {
     "data": {
      "application/vnd.jupyter.widget-view+json": {
       "model_id": "826b814cbf25401b803ee1492d468c3b",
       "version_major": 2,
       "version_minor": 0
      },
      "text/plain": [
       "  0%|          | 0/218 [00:00<?, ?it/s]"
      ]
     },
     "metadata": {},
     "output_type": "display_data"
    },
    {
     "name": "stdout",
     "output_type": "stream",
     "text": [
      "Epoch [4/20], train_loss: 0.1614,  train_score: 0.9089,val_loss: 7.0919,  val_score: 0.4254\n"
     ]
    },
    {
     "data": {
      "application/vnd.jupyter.widget-view+json": {
       "model_id": "962b704d0b4e4a81b278426654b8dd1d",
       "version_major": 2,
       "version_minor": 0
      },
      "text/plain": [
       "  0%|          | 0/408 [00:00<?, ?it/s]"
      ]
     },
     "metadata": {},
     "output_type": "display_data"
    },
    {
     "data": {
      "application/vnd.jupyter.widget-view+json": {
       "model_id": "96fc881526804ec2b52b2b431aa8623a",
       "version_major": 2,
       "version_minor": 0
      },
      "text/plain": [
       "  0%|          | 0/218 [00:00<?, ?it/s]"
      ]
     },
     "metadata": {},
     "output_type": "display_data"
    },
    {
     "name": "stdout",
     "output_type": "stream",
     "text": [
      "Epoch [5/20], train_loss: 0.0220,  train_score: 0.9396,val_loss: 8.1486,  val_score: 0.4377\n"
     ]
    },
    {
     "data": {
      "application/vnd.jupyter.widget-view+json": {
       "model_id": "c5b6ce8ea31a452f95c11b36be409101",
       "version_major": 2,
       "version_minor": 0
      },
      "text/plain": [
       "  0%|          | 0/408 [00:00<?, ?it/s]"
      ]
     },
     "metadata": {},
     "output_type": "display_data"
    },
    {
     "data": {
      "application/vnd.jupyter.widget-view+json": {
       "model_id": "fe2d7dfbd62848fbbd5da706208a5575",
       "version_major": 2,
       "version_minor": 0
      },
      "text/plain": [
       "  0%|          | 0/218 [00:00<?, ?it/s]"
      ]
     },
     "metadata": {},
     "output_type": "display_data"
    },
    {
     "name": "stdout",
     "output_type": "stream",
     "text": [
      "Epoch [6/20], train_loss: 0.1493,  train_score: 0.9587,val_loss: 8.4002,  val_score: 0.4424\n"
     ]
    },
    {
     "data": {
      "application/vnd.jupyter.widget-view+json": {
       "model_id": "fb631d0a037c43b59b95c66683ed0cb8",
       "version_major": 2,
       "version_minor": 0
      },
      "text/plain": [
       "  0%|          | 0/408 [00:00<?, ?it/s]"
      ]
     },
     "metadata": {},
     "output_type": "display_data"
    },
    {
     "data": {
      "application/vnd.jupyter.widget-view+json": {
       "model_id": "2ab9035c1ddc40509f006e0bcf5c8340",
       "version_major": 2,
       "version_minor": 0
      },
      "text/plain": [
       "  0%|          | 0/218 [00:00<?, ?it/s]"
      ]
     },
     "metadata": {},
     "output_type": "display_data"
    },
    {
     "name": "stdout",
     "output_type": "stream",
     "text": [
      "Epoch [7/20], train_loss: 0.0699,  train_score: 0.9561,val_loss: 4.5995,  val_score: 0.4456\n"
     ]
    },
    {
     "data": {
      "application/vnd.jupyter.widget-view+json": {
       "model_id": "ccdbadf96c6b4477874d3655609409d6",
       "version_major": 2,
       "version_minor": 0
      },
      "text/plain": [
       "  0%|          | 0/408 [00:00<?, ?it/s]"
      ]
     },
     "metadata": {},
     "output_type": "display_data"
    },
    {
     "data": {
      "application/vnd.jupyter.widget-view+json": {
       "model_id": "d5405219fa7e4f6ca325bfcb3495f1da",
       "version_major": 2,
       "version_minor": 0
      },
      "text/plain": [
       "  0%|          | 0/218 [00:00<?, ?it/s]"
      ]
     },
     "metadata": {},
     "output_type": "display_data"
    },
    {
     "name": "stdout",
     "output_type": "stream",
     "text": [
      "Epoch [8/20], train_loss: 0.2102,  train_score: 0.9639,val_loss: 9.5102,  val_score: 0.4451\n"
     ]
    },
    {
     "data": {
      "application/vnd.jupyter.widget-view+json": {
       "model_id": "b7cbd26cd4c040bfa80e57557b841b9f",
       "version_major": 2,
       "version_minor": 0
      },
      "text/plain": [
       "  0%|          | 0/408 [00:00<?, ?it/s]"
      ]
     },
     "metadata": {},
     "output_type": "display_data"
    },
    {
     "data": {
      "application/vnd.jupyter.widget-view+json": {
       "model_id": "940ef00685994ee08207009dcd3fe6c1",
       "version_major": 2,
       "version_minor": 0
      },
      "text/plain": [
       "  0%|          | 0/218 [00:00<?, ?it/s]"
      ]
     },
     "metadata": {},
     "output_type": "display_data"
    },
    {
     "name": "stdout",
     "output_type": "stream",
     "text": [
      "Epoch [9/20], train_loss: 0.0267,  train_score: 0.9674,val_loss: 8.7544,  val_score: 0.4427\n"
     ]
    },
    {
     "data": {
      "application/vnd.jupyter.widget-view+json": {
       "model_id": "60b135aa682b46638d0c9aa7ebded8f1",
       "version_major": 2,
       "version_minor": 0
      },
      "text/plain": [
       "  0%|          | 0/408 [00:00<?, ?it/s]"
      ]
     },
     "metadata": {},
     "output_type": "display_data"
    },
    {
     "data": {
      "application/vnd.jupyter.widget-view+json": {
       "model_id": "a1aae0f40a534a3cba70ac6df9cb3601",
       "version_major": 2,
       "version_minor": 0
      },
      "text/plain": [
       "  0%|          | 0/218 [00:00<?, ?it/s]"
      ]
     },
     "metadata": {},
     "output_type": "display_data"
    },
    {
     "name": "stdout",
     "output_type": "stream",
     "text": [
      "Epoch [10/20], train_loss: 0.0039,  train_score: 0.9636,val_loss: 10.1160,  val_score: 0.4433\n"
     ]
    },
    {
     "data": {
      "application/vnd.jupyter.widget-view+json": {
       "model_id": "8e2f3f90819e482a9450f7b10aa1c2bc",
       "version_major": 2,
       "version_minor": 0
      },
      "text/plain": [
       "  0%|          | 0/408 [00:00<?, ?it/s]"
      ]
     },
     "metadata": {},
     "output_type": "display_data"
    },
    {
     "data": {
      "application/vnd.jupyter.widget-view+json": {
       "model_id": "89f0984cf1844db9b573fa4e8fd0ee72",
       "version_major": 2,
       "version_minor": 0
      },
      "text/plain": [
       "  0%|          | 0/218 [00:00<?, ?it/s]"
      ]
     },
     "metadata": {},
     "output_type": "display_data"
    },
    {
     "name": "stdout",
     "output_type": "stream",
     "text": [
      "Epoch [11/20], train_loss: 0.0739,  train_score: 0.9699,val_loss: 10.9352,  val_score: 0.4457\n"
     ]
    },
    {
     "data": {
      "application/vnd.jupyter.widget-view+json": {
       "model_id": "9e1fac2f0b7d4549929a99fbe7f0f230",
       "version_major": 2,
       "version_minor": 0
      },
      "text/plain": [
       "  0%|          | 0/408 [00:00<?, ?it/s]"
      ]
     },
     "metadata": {},
     "output_type": "display_data"
    },
    {
     "data": {
      "application/vnd.jupyter.widget-view+json": {
       "model_id": "86874d97615d445f8d6d72c952d8e693",
       "version_major": 2,
       "version_minor": 0
      },
      "text/plain": [
       "  0%|          | 0/218 [00:00<?, ?it/s]"
      ]
     },
     "metadata": {},
     "output_type": "display_data"
    },
    {
     "name": "stdout",
     "output_type": "stream",
     "text": [
      "Epoch [12/20], train_loss: 0.1098,  train_score: 0.9771,val_loss: 8.8778,  val_score: 0.4456\n"
     ]
    },
    {
     "data": {
      "application/vnd.jupyter.widget-view+json": {
       "model_id": "3fa3ad90af9a4f8b9ad8ee45b38d9af8",
       "version_major": 2,
       "version_minor": 0
      },
      "text/plain": [
       "  0%|          | 0/408 [00:00<?, ?it/s]"
      ]
     },
     "metadata": {},
     "output_type": "display_data"
    },
    {
     "data": {
      "application/vnd.jupyter.widget-view+json": {
       "model_id": "4bbb2f1b92964a0197647cb790a50cd3",
       "version_major": 2,
       "version_minor": 0
      },
      "text/plain": [
       "  0%|          | 0/218 [00:00<?, ?it/s]"
      ]
     },
     "metadata": {},
     "output_type": "display_data"
    },
    {
     "name": "stdout",
     "output_type": "stream",
     "text": [
      "Epoch [13/20], train_loss: 1.0245,  train_score: 0.9742,val_loss: 10.8421,  val_score: 0.4473\n"
     ]
    },
    {
     "data": {
      "application/vnd.jupyter.widget-view+json": {
       "model_id": "c862b3717dfd4609b1b1a68b81e195eb",
       "version_major": 2,
       "version_minor": 0
      },
      "text/plain": [
       "  0%|          | 0/408 [00:00<?, ?it/s]"
      ]
     },
     "metadata": {},
     "output_type": "display_data"
    },
    {
     "data": {
      "application/vnd.jupyter.widget-view+json": {
       "model_id": "0c21227ef0c34f4baef37d2d2bddec5b",
       "version_major": 2,
       "version_minor": 0
      },
      "text/plain": [
       "  0%|          | 0/218 [00:00<?, ?it/s]"
      ]
     },
     "metadata": {},
     "output_type": "display_data"
    },
    {
     "name": "stdout",
     "output_type": "stream",
     "text": [
      "Epoch [14/20], train_loss: 0.2690,  train_score: 0.9760,val_loss: 10.4389,  val_score: 0.4472\n"
     ]
    },
    {
     "data": {
      "application/vnd.jupyter.widget-view+json": {
       "model_id": "bbcd356eb2a44fb293e9bd1ecc0af404",
       "version_major": 2,
       "version_minor": 0
      },
      "text/plain": [
       "  0%|          | 0/408 [00:00<?, ?it/s]"
      ]
     },
     "metadata": {},
     "output_type": "display_data"
    },
    {
     "data": {
      "application/vnd.jupyter.widget-view+json": {
       "model_id": "97099ff2146846f29247b064f787c515",
       "version_major": 2,
       "version_minor": 0
      },
      "text/plain": [
       "  0%|          | 0/218 [00:00<?, ?it/s]"
      ]
     },
     "metadata": {},
     "output_type": "display_data"
    },
    {
     "name": "stdout",
     "output_type": "stream",
     "text": [
      "Epoch [15/20], train_loss: 0.0016,  train_score: 0.9804,val_loss: 9.5740,  val_score: 0.4502\n"
     ]
    },
    {
     "data": {
      "application/vnd.jupyter.widget-view+json": {
       "model_id": "b172fa83c04a40288ad3ae4c7ba39d20",
       "version_major": 2,
       "version_minor": 0
      },
      "text/plain": [
       "  0%|          | 0/408 [00:00<?, ?it/s]"
      ]
     },
     "metadata": {},
     "output_type": "display_data"
    },
    {
     "data": {
      "application/vnd.jupyter.widget-view+json": {
       "model_id": "0ff72ebcb2b54285a22c5357dbe37215",
       "version_major": 2,
       "version_minor": 0
      },
      "text/plain": [
       "  0%|          | 0/218 [00:00<?, ?it/s]"
      ]
     },
     "metadata": {},
     "output_type": "display_data"
    },
    {
     "name": "stdout",
     "output_type": "stream",
     "text": [
      "Epoch [16/20], train_loss: 0.0028,  train_score: 0.9788,val_loss: 11.7474,  val_score: 0.4486\n"
     ]
    },
    {
     "data": {
      "application/vnd.jupyter.widget-view+json": {
       "model_id": "5493eda4a91f46bc91cd2acc52a7b6b2",
       "version_major": 2,
       "version_minor": 0
      },
      "text/plain": [
       "  0%|          | 0/408 [00:00<?, ?it/s]"
      ]
     },
     "metadata": {},
     "output_type": "display_data"
    },
    {
     "data": {
      "application/vnd.jupyter.widget-view+json": {
       "model_id": "ee5bbb05bfe74992a87e6fa31c99056d",
       "version_major": 2,
       "version_minor": 0
      },
      "text/plain": [
       "  0%|          | 0/218 [00:00<?, ?it/s]"
      ]
     },
     "metadata": {},
     "output_type": "display_data"
    },
    {
     "name": "stdout",
     "output_type": "stream",
     "text": [
      "Epoch [17/20], train_loss: 0.0092,  train_score: 0.9827,val_loss: 10.1141,  val_score: 0.4496\n"
     ]
    },
    {
     "data": {
      "application/vnd.jupyter.widget-view+json": {
       "model_id": "941e04bf3de34d43b46652eba8cc97d3",
       "version_major": 2,
       "version_minor": 0
      },
      "text/plain": [
       "  0%|          | 0/408 [00:00<?, ?it/s]"
      ]
     },
     "metadata": {},
     "output_type": "display_data"
    },
    {
     "data": {
      "application/vnd.jupyter.widget-view+json": {
       "model_id": "4ada773615f94c7285efaf3cfe951005",
       "version_major": 2,
       "version_minor": 0
      },
      "text/plain": [
       "  0%|          | 0/218 [00:00<?, ?it/s]"
      ]
     },
     "metadata": {},
     "output_type": "display_data"
    },
    {
     "name": "stdout",
     "output_type": "stream",
     "text": [
      "Epoch [18/20], train_loss: 0.0183,  train_score: 0.9764,val_loss: 12.2227,  val_score: 0.4466\n"
     ]
    },
    {
     "data": {
      "application/vnd.jupyter.widget-view+json": {
       "model_id": "bd4ced1e2ed4455e85ff0177cd42567d",
       "version_major": 2,
       "version_minor": 0
      },
      "text/plain": [
       "  0%|          | 0/408 [00:00<?, ?it/s]"
      ]
     },
     "metadata": {},
     "output_type": "display_data"
    },
    {
     "data": {
      "application/vnd.jupyter.widget-view+json": {
       "model_id": "56aafd698a904914b39abbf41d3da0ae",
       "version_major": 2,
       "version_minor": 0
      },
      "text/plain": [
       "  0%|          | 0/218 [00:00<?, ?it/s]"
      ]
     },
     "metadata": {},
     "output_type": "display_data"
    },
    {
     "name": "stdout",
     "output_type": "stream",
     "text": [
      "Epoch [19/20], train_loss: 0.2774,  train_score: 0.9803,val_loss: 11.6746,  val_score: 0.4463\n"
     ]
    },
    {
     "data": {
      "application/vnd.jupyter.widget-view+json": {
       "model_id": "9e8d40a4257c4b1e9bfa3d74cfd076db",
       "version_major": 2,
       "version_minor": 0
      },
      "text/plain": [
       "  0%|          | 0/408 [00:00<?, ?it/s]"
      ]
     },
     "metadata": {},
     "output_type": "display_data"
    },
    {
     "data": {
      "application/vnd.jupyter.widget-view+json": {
       "model_id": "0e5fff12c59b45bab65d03b6ee5d4f92",
       "version_major": 2,
       "version_minor": 0
      },
      "text/plain": [
       "  0%|          | 0/218 [00:00<?, ?it/s]"
      ]
     },
     "metadata": {},
     "output_type": "display_data"
    },
    {
     "name": "stdout",
     "output_type": "stream",
     "text": [
      "Epoch [20/20], train_loss: 0.4975,  train_score: 0.9821,val_loss: 11.3952,  val_score: 0.4522\n"
     ]
    },
    {
     "data": {
      "text/plain": [
       "[tensor(2.3089, device='cuda:0', grad_fn=<NllLossBackward0>),\n",
       " tensor(1.2046, device='cuda:0', grad_fn=<NllLossBackward0>),\n",
       " tensor(0.3812, device='cuda:0', grad_fn=<NllLossBackward0>),\n",
       " tensor(0.1614, device='cuda:0', grad_fn=<NllLossBackward0>),\n",
       " tensor(0.0220, device='cuda:0', grad_fn=<NllLossBackward0>),\n",
       " tensor(0.1493, device='cuda:0', grad_fn=<NllLossBackward0>),\n",
       " tensor(0.0699, device='cuda:0', grad_fn=<NllLossBackward0>),\n",
       " tensor(0.2102, device='cuda:0', grad_fn=<NllLossBackward0>),\n",
       " tensor(0.0267, device='cuda:0', grad_fn=<NllLossBackward0>),\n",
       " tensor(0.0039, device='cuda:0', grad_fn=<NllLossBackward0>),\n",
       " tensor(0.0739, device='cuda:0', grad_fn=<NllLossBackward0>),\n",
       " tensor(0.1098, device='cuda:0', grad_fn=<NllLossBackward0>),\n",
       " tensor(1.0245, device='cuda:0', grad_fn=<NllLossBackward0>),\n",
       " tensor(0.2690, device='cuda:0', grad_fn=<NllLossBackward0>),\n",
       " tensor(0.0016, device='cuda:0', grad_fn=<NllLossBackward0>),\n",
       " tensor(0.0028, device='cuda:0', grad_fn=<NllLossBackward0>),\n",
       " tensor(0.0092, device='cuda:0', grad_fn=<NllLossBackward0>),\n",
       " tensor(0.0183, device='cuda:0', grad_fn=<NllLossBackward0>),\n",
       " tensor(0.2774, device='cuda:0', grad_fn=<NllLossBackward0>),\n",
       " tensor(0.4975, device='cuda:0', grad_fn=<NllLossBackward0>)]"
      ]
     },
     "execution_count": 183,
     "metadata": {},
     "output_type": "execute_result"
    }
   ],
   "source": [
    "optimizer = torch.optim.Adam(linearmodel.parameters())\n",
    "fit(20,dataloaders,optimizer,linearmodel)"
   ]
  },
  {
   "cell_type": "code",
   "execution_count": 184,
   "id": "a6ac7b4c-1943-4218-9f0f-c6310b6e49f7",
   "metadata": {},
   "outputs": [
    {
     "name": "stderr",
     "output_type": "stream",
     "text": [
      "/tmp/ipykernel_33382/2108038175.py:3: UserWarning: Implicit dimension choice for softmax has been deprecated. Change the call to include dim=X as an argument.\n",
      "  train_predicted_labels = nn.functional.softmax(linearmodel(complete_train_features.cuda())).argmax(dim=1)\n",
      "/tmp/ipykernel_33382/2108038175.py:4: UserWarning: Implicit dimension choice for softmax has been deprecated. Change the call to include dim=X as an argument.\n",
      "  train_predicted_probs = nn.functional.softmax(linearmodel(complete_train_features.cuda())).cpu().numpy()\n",
      "/tmp/ipykernel_33382/2108038175.py:6: UserWarning: Implicit dimension choice for softmax has been deprecated. Change the call to include dim=X as an argument.\n",
      "  val_predicted_labels = nn.functional.softmax(linearmodel(complete_val_features.cuda())).argmax(dim=1)\n",
      "/tmp/ipykernel_33382/2108038175.py:7: UserWarning: Implicit dimension choice for softmax has been deprecated. Change the call to include dim=X as an argument.\n",
      "  val_predicted_probs = nn.functional.softmax(linearmodel(complete_val_features.cuda())).cpu().numpy()\n"
     ]
    }
   ],
   "source": [
    "linearmodel.eval()\n",
    "with torch.no_grad():\n",
    "    train_predicted_labels = nn.functional.softmax(linearmodel(complete_train_features.cuda())).argmax(dim=1)\n",
    "    train_predicted_probs = nn.functional.softmax(linearmodel(complete_train_features.cuda())).cpu().numpy()\n",
    "    train_predicted_labels = train_predicted_labels.cpu().numpy()\n",
    "    val_predicted_labels = nn.functional.softmax(linearmodel(complete_val_features.cuda())).argmax(dim=1)\n",
    "    val_predicted_probs = nn.functional.softmax(linearmodel(complete_val_features.cuda())).cpu().numpy()\n",
    "    val_predicted_labels = val_predicted_labels.cpu().numpy()"
   ]
  },
  {
   "cell_type": "code",
   "execution_count": null,
   "id": "32acb32b-8f1c-4bae-9735-7df12e9fef77",
   "metadata": {},
   "outputs": [],
   "source": []
  },
  {
   "cell_type": "markdown",
   "id": "8c5bf770-ef2e-42ad-8209-36d07e695848",
   "metadata": {},
   "source": [
    "# Accuracies "
   ]
  },
  {
   "cell_type": "code",
   "execution_count": 185,
   "id": "7fdf52ef-1c89-4140-b429-49b750f0f972",
   "metadata": {},
   "outputs": [
    {
     "name": "stdout",
     "output_type": "stream",
     "text": [
      "Training species accuracy:0.9962420431014648\n"
     ]
    }
   ],
   "source": [
    "\n",
    "print(f\"Training species accuracy:{np.count_nonzero(train_predicted_labels==image_train_labels.numpy())/len(image_train_labels)}\")\n",
    "\n"
   ]
  },
  {
   "cell_type": "code",
   "execution_count": 186,
   "id": "2bab737f-684f-4345-b121-ff0518bff4eb",
   "metadata": {},
   "outputs": [
    {
     "name": "stdout",
     "output_type": "stream",
     "text": [
      "Validation species accuracy:0.4521926671459382\n"
     ]
    }
   ],
   "source": [
    "print(f\"Validation species accuracy:{np.count_nonzero(val_predicted_labels==image_val_labels.numpy())/len(image_val_labels)}\")\n"
   ]
  },
  {
   "cell_type": "code",
   "execution_count": 187,
   "id": "17d1a93d-ca5d-4de7-b2b0-7e14ca3fd750",
   "metadata": {},
   "outputs": [
    {
     "name": "stdout",
     "output_type": "stream",
     "text": [
      "Validation genus accuracy: 0.796117900790798\n"
     ]
    }
   ],
   "source": [
    "\n",
    "import math\n",
    "n_correct_genus = 0\n",
    "for i in range(len(image_val_labels)):\n",
    "    #label_best_specie = val_predicted_probs[i].argmax()\n",
    "    label_best_specie = val_predicted_labels[i]\n",
    "    assert(val_predicted_labels[i]==val_predicted_probs[i].argmax())\n",
    "    genus_of_best_species = species2genus[label_best_specie.item()]\n",
    "    #species_same_genus = [k for k,v in species2genus.items() if v == genus_of_best_species]\n",
    "    #reduced_species = val_predicted_probs[i][species_same_genus]\n",
    "    #normalized_reduced_species = reduced_species/(reduced_species.sum())\n",
    "    \n",
    "    real_genus = species2genus[image_val_labels[i].item()]\n",
    "    predicted_genus = genus_of_best_species\n",
    "    if real_genus == predicted_genus:\n",
    "        n_correct_genus+=1\n",
    "print(f\"Validation genus accuracy: {n_correct_genus/len(image_val_labels)}\")"
   ]
  },
  {
   "cell_type": "code",
   "execution_count": 188,
   "id": "db9ac8e0-c994-494b-bf44-3be0203c9784",
   "metadata": {},
   "outputs": [],
   "source": [
    "def entropy_per_symbol(v):\n",
    "    if len(v)==1:\n",
    "        return 0.0\n",
    "    entropy = 0 \n",
    "    n_zeros = 0\n",
    "    for p in v:\n",
    "        if p != 0:\n",
    "            entropy-=p*math.log(p,2)\n",
    "        else:\n",
    "            n_zeros +=1\n",
    "    #print(f\"n_zeros:{n_zeros}\")\n",
    "    #FORSE VA TOLTO N_ZEROS DALLA LENGTH\n",
    "    mean_symbol_entropy = entropy/math.log(len(normalized_reduced_species),2)\n",
    "    return mean_symbol_entropy"
   ]
  },
  {
   "cell_type": "code",
   "execution_count": 189,
   "id": "6fa48a43-f9db-4ba0-92be-5d35ea587f3a",
   "metadata": {},
   "outputs": [],
   "source": [
    "\n",
    "described_species_labels = np.array([image_dataset.targets[i] for i in train_indices])\n",
    "described_species_labels = np.unique(described_species_labels)\n",
    "tprs = []\n",
    "fprs = []\n",
    "correct_genus_rate = []\n",
    "correct_species_rate = []\n",
    "for t in range(0,100,1):\n",
    "    entropy_threshold = t/100.0\n",
    "    #print(val_predicted_probs.shape)\n",
    "    n_undescribed_samples = 0\n",
    "    n_described_samples = 0\n",
    "    n_correct_undescribed_samples = 0\n",
    "    n_correct_described_samples = 0\n",
    "    n_correct_genus = 0 \n",
    "    n_correct_species = 0 \n",
    "    for i in range(len(image_val_labels)):\n",
    "        #label_best_specie = val_predicted_probs[i].argmax()\n",
    "        label_best_specie = val_predicted_labels[i]\n",
    "        assert(val_predicted_labels[i]==val_predicted_probs[i].argmax())\n",
    "        genus_of_best_species = species2genus[label_best_specie.item()]\n",
    "        species_same_genus = [k for k,v in species2genus.items() if v == genus_of_best_species]\n",
    "        #print(val_labels[i])\n",
    "        #print(label_best_specie)\n",
    "        #print(species_same_genus)\n",
    "        reduced_species = val_predicted_probs[i][species_same_genus]\n",
    "        normalized_reduced_species = reduced_species/(reduced_species.sum())\n",
    "        #print(normalized_reduced_species)\n",
    "        H_s = entropy_per_symbol(normalized_reduced_species)\n",
    "        #print(H_s)\n",
    "        #print(\"Genus\" if H_s > entropy_threshold else \"Species\")\n",
    "        #input() \n",
    "        if image_val_labels[i].item() in described_species_labels:\n",
    "            #tn\n",
    "            n_described_samples +=1\n",
    "            if H_s < entropy_threshold:\n",
    "                n_correct_described_samples+=1\n",
    "                if label_best_specie == image_val_labels[i]:\n",
    "                    n_correct_species+=1\n",
    "        else:\n",
    "            #tp\n",
    "            n_undescribed_samples+=1\n",
    "            if H_s >= entropy_threshold:\n",
    "                n_correct_undescribed_samples+=1\n",
    "                real_genus = species2genus[image_val_labels[i].item()]\n",
    "                predicted_genus = genus_of_best_species\n",
    "                if real_genus == predicted_genus:\n",
    "                    n_correct_genus+=1\n",
    "            \n",
    "        \n",
    "            \n",
    "    tprs.append(n_correct_undescribed_samples/n_undescribed_samples)#TPR = recall = sensitivity\n",
    "    fprs.append(1-n_correct_described_samples/n_described_samples)#1-TNR = 1 - specificity\n",
    "    correct_genus_rate.append(n_correct_genus/n_undescribed_samples)\n",
    "    correct_species_rate.append(n_correct_species/n_described_samples)"
   ]
  },
  {
   "cell_type": "code",
   "execution_count": 190,
   "id": "38f1b017-90a2-4320-8f91-55b844339206",
   "metadata": {},
   "outputs": [
    {
     "data": {
      "text/plain": [
       "(0.0, 1.0)"
      ]
     },
     "execution_count": 190,
     "metadata": {},
     "output_type": "execute_result"
    },
    {
     "data": {
      "image/png": "[encoded data removed]",
      "text/plain": [
       "<Figure size 640x480 with 1 Axes>"
      ]
     },
     "metadata": {},
     "output_type": "display_data"
    }
   ],
   "source": [
    "\n",
    "plt.plot(fprs,tprs)\n",
    "plt.xlim([0, 1])\n",
    "plt.ylim([0, 1])"
   ]
  },
  {
   "cell_type": "code",
   "execution_count": 193,
   "id": "f1711ff2-2bab-46bc-bb50-55393e0a64df",
   "metadata": {},
   "outputs": [
    {
     "name": "stdout",
     "output_type": "stream",
     "text": [
      "0.023191094619666064\n",
      "0.3872614888470841\n"
     ]
    }
   ],
   "source": [
    "print(fprs[5])\n",
    "print(tprs[5])"
   ]
  },
  {
   "cell_type": "code",
   "execution_count": 194,
   "id": "32b8f76a-661e-4f77-8de6-2246b7ebee46",
   "metadata": {},
   "outputs": [
    {
     "data": {
      "text/plain": [
       "[<matplotlib.lines.Line2D at 0x770bd21d1ee0>]"
      ]
     },
     "execution_count": 194,
     "metadata": {},
     "output_type": "execute_result"
    },
    {
     "data": {
      "image/png": "[encoded data removed]",
      "text/plain": [
       "<Figure size 640x480 with 1 Axes>"
      ]
     },
     "metadata": {},
     "output_type": "display_data"
    }
   ],
   "source": [
    "\n",
    "plt.plot(correct_genus_rate)"
   ]
  },
  {
   "cell_type": "code",
   "execution_count": 195,
   "id": "1fe2288d-e7c3-486a-b539-265a9c32b739",
   "metadata": {},
   "outputs": [
    {
     "data": {
      "text/plain": [
       "0.44235420585864016"
      ]
     },
     "execution_count": 195,
     "metadata": {},
     "output_type": "execute_result"
    }
   ],
   "source": [
    "correct_genus_rate[1]"
   ]
  },
  {
   "cell_type": "code",
   "execution_count": 196,
   "id": "02c75b28-749d-4f2c-be55-9677ede71fc1",
   "metadata": {},
   "outputs": [
    {
     "data": {
      "text/plain": [
       "0.9316635745207174"
      ]
     },
     "execution_count": 196,
     "metadata": {},
     "output_type": "execute_result"
    }
   ],
   "source": [
    "correct_species_rate[1]"
   ]
  },
  {
   "cell_type": "code",
   "execution_count": 197,
   "id": "78f584e3-c51b-4e5f-bf4b-006a9a1b9b6f",
   "metadata": {},
   "outputs": [
    {
     "data": {
      "image/png": "[encoded data removed]",
      "text/plain": [
       "<Figure size 640x480 with 1 Axes>"
      ]
     },
     "metadata": {},
     "output_type": "display_data"
    }
   ],
   "source": [
    "plt.plot(correct_species_rate,correct_genus_rate)\n",
    "plt.savefig(\"linearnet\")"
   ]
  },
  {
   "cell_type": "code",
   "execution_count": null,
   "id": "90485b15-93c5-4e39-a44a-5ec724a305b9",
   "metadata": {},
   "outputs": [],
   "source": []
  }
 ],
 "metadata": {
  "kernelspec": {
   "display_name": "Python 3 (ipykernel)",
   "language": "python",
   "name": "python3"
  },
  "language_info": {
   "codemirror_mode": {
    "name": "ipython",
    "version": 3
   },
   "file_extension": ".py",
   "mimetype": "text/x-python",
   "name": "python",
   "nbconvert_exporter": "python",
   "pygments_lexer": "ipython3",
   "version": "3.12.3"
  }
 },
 "nbformat": 4,
 "nbformat_minor": 5
}
