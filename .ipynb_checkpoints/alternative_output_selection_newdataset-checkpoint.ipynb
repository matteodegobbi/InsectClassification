{
 "cells": [
  {
   "cell_type": "code",
   "execution_count": 1,
   "metadata": {},
   "outputs": [
    {
     "data": {
      "text/plain": [
       "<module 'dataset_utils' from '/home/fogliodicarta/Desktop/InsectClassification/dataset_utils.py'>"
      ]
     },
     "execution_count": 1,
     "metadata": {},
     "output_type": "execute_result"
    }
   ],
   "source": [
    "import torch\n",
    "import torchvision\n",
    "from torch import nn\n",
    "from torchvision import transforms\n",
    "import matplotlib.pyplot as plt\n",
    "import pandas as pd\n",
    "from IPython.display import Image \n",
    "import numpy as np\n",
    "import dataset_utils\n",
    "import importlib\n",
    "from sklearn.multioutput import MultiOutputClassifier\n",
    "from sklearn.svm import LinearSVC,SVC\n",
    "from sklearn.ensemble import RandomForestClassifier\n",
    "from sklearn.ensemble import BaggingClassifier \n",
    "from sklearn.preprocessing import StandardScaler\n",
    "\n",
    "importlib.reload(dataset_utils)"
   ]
  },
  {
   "cell_type": "markdown",
   "metadata": {},
   "source": [
    "# Dati nostri"
   ]
  },
  {
   "cell_type": "code",
   "execution_count": 101,
   "metadata": {},
   "outputs": [],
   "source": [
    "df = pd.read_csv('final_dataset.csv',index_col=0)\n",
    "tform = transforms.Compose([transforms.Resize((64,64)),transforms.PILToTensor(),transforms.ConvertImageDtype(torch.float),transforms.Normalize(0.5,0.5)])\n",
    "image_dataset = torchvision.datasets.ImageFolder(\"image_dataset/\",transform=tform)\n",
    "species2genus = dataset_utils.species_label_to_genus_label(df,image_dataset)\n",
    "batch_size = 1000 \n",
    "import random\n",
    "import dataset_utils\n",
    "img2dna = dataset_utils.get_imgs_bold_id(image_dataset,df)\n",
    "\n",
    "nucleotides = df[['nucleotide','species_name','genus_name','processid','image_urls']]\n",
    "colonna_dna = df.loc[:,\"nucleotide\"]\n",
    "nucleotides.loc[:,'nucleotide'] = colonna_dna.apply(dataset_utils.one_hot_encoding)\n",
    "random.seed(42)\n",
    "\n",
    "X_train_1, X_test, y_train_1, y_test = dataset_utils.data_split(nucleotides,0.2,random_state=42)\n",
    "#print(y_test)\n",
    "train_data = X_train_1\n",
    "train_data['species_name'] = y_train_1\n",
    "\n",
    "X_train, X_validation, y_train, y_validation = dataset_utils.data_split(train_data,0.2,drop_labels=False,random_state=42)\n",
    "train_indices, val_indices, test_indices = dataset_utils.image_splits_from_df(X_train,X_validation,X_test,image_dataset)\n",
    "\n",
    "described_species_labels = np.array([image_dataset.targets[i] for i in train_indices])\n",
    "described_species_labels = np.unique(described_species_labels)"
   ]
  },
  {
   "cell_type": "code",
   "execution_count": 3,
   "metadata": {},
   "outputs": [],
   "source": [
    "expanded_train_dna_features = torch.load('dna_train_features.pt')\n",
    "expanded_train_dna_labels = torch.load('dna_train_labels.pt')\n",
    "image_train_features = torch.load('img_train_features.pt')\n",
    "image_train_labels= torch.load('img_train_labels.pt')\n",
    "assert((image_train_labels == expanded_train_dna_labels).all())"
   ]
  },
  {
   "cell_type": "code",
   "execution_count": 4,
   "metadata": {},
   "outputs": [],
   "source": [
    "expanded_val_dna_features = torch.load('dna_val_features.pt')\n",
    "expanded_val_dna_labels = torch.load('dna_val_labels.pt')\n",
    "image_val_features = torch.load('img_val_features.pt')\n",
    "image_val_labels = torch.load('img_val_labels.pt')\n",
    "assert((image_val_labels == expanded_val_dna_labels).all())"
   ]
  },
  {
   "cell_type": "code",
   "execution_count": 5,
   "metadata": {},
   "outputs": [],
   "source": [
    "expanded_test_dna_features = torch.load('dna_test_features.pt')\n",
    "expanded_test_dna_labels = torch.load('dna_test_labels.pt')\n",
    "image_test_features = torch.load('img_test_features.pt')\n",
    "image_test_labels = torch.load('img_test_labels.pt')\n",
    "assert((image_test_labels == expanded_test_dna_labels).all())\n",
    "n_classes = 1050"
   ]
  },
  {
   "cell_type": "code",
   "execution_count": 104,
   "metadata": {},
   "outputs": [
    {
     "data": {
      "text/html": [
       "<style>#sk-container-id-10 {color: black;}#sk-container-id-10 pre{padding: 0;}#sk-container-id-10 div.sk-toggleable {background-color: white;}#sk-container-id-10 label.sk-toggleable__label {cursor: pointer;display: block;width: 100%;margin-bottom: 0;padding: 0.3em;box-sizing: border-box;text-align: center;}#sk-container-id-10 label.sk-toggleable__label-arrow:before {content: \"▸\";float: left;margin-right: 0.25em;color: #696969;}#sk-container-id-10 label.sk-toggleable__label-arrow:hover:before {color: black;}#sk-container-id-10 div.sk-estimator:hover label.sk-toggleable__label-arrow:before {color: black;}#sk-container-id-10 div.sk-toggleable__content {max-height: 0;max-width: 0;overflow: hidden;text-align: left;background-color: #f0f8ff;}#sk-container-id-10 div.sk-toggleable__content pre {margin: 0.2em;color: black;border-radius: 0.25em;background-color: #f0f8ff;}#sk-container-id-10 input.sk-toggleable__control:checked~div.sk-toggleable__content {max-height: 200px;max-width: 100%;overflow: auto;}#sk-container-id-10 input.sk-toggleable__control:checked~label.sk-toggleable__label-arrow:before {content: \"▾\";}#sk-container-id-10 div.sk-estimator input.sk-toggleable__control:checked~label.sk-toggleable__label {background-color: #d4ebff;}#sk-container-id-10 div.sk-label input.sk-toggleable__control:checked~label.sk-toggleable__label {background-color: #d4ebff;}#sk-container-id-10 input.sk-hidden--visually {border: 0;clip: rect(1px 1px 1px 1px);clip: rect(1px, 1px, 1px, 1px);height: 1px;margin: -1px;overflow: hidden;padding: 0;position: absolute;width: 1px;}#sk-container-id-10 div.sk-estimator {font-family: monospace;background-color: #f0f8ff;border: 1px dotted black;border-radius: 0.25em;box-sizing: border-box;margin-bottom: 0.5em;}#sk-container-id-10 div.sk-estimator:hover {background-color: #d4ebff;}#sk-container-id-10 div.sk-parallel-item::after {content: \"\";width: 100%;border-bottom: 1px solid gray;flex-grow: 1;}#sk-container-id-10 div.sk-label:hover label.sk-toggleable__label {background-color: #d4ebff;}#sk-container-id-10 div.sk-serial::before {content: \"\";position: absolute;border-left: 1px solid gray;box-sizing: border-box;top: 0;bottom: 0;left: 50%;z-index: 0;}#sk-container-id-10 div.sk-serial {display: flex;flex-direction: column;align-items: center;background-color: white;padding-right: 0.2em;padding-left: 0.2em;position: relative;}#sk-container-id-10 div.sk-item {position: relative;z-index: 1;}#sk-container-id-10 div.sk-parallel {display: flex;align-items: stretch;justify-content: center;background-color: white;position: relative;}#sk-container-id-10 div.sk-item::before, #sk-container-id-10 div.sk-parallel-item::before {content: \"\";position: absolute;border-left: 1px solid gray;box-sizing: border-box;top: 0;bottom: 0;left: 50%;z-index: -1;}#sk-container-id-10 div.sk-parallel-item {display: flex;flex-direction: column;z-index: 1;position: relative;background-color: white;}#sk-container-id-10 div.sk-parallel-item:first-child::after {align-self: flex-end;width: 50%;}#sk-container-id-10 div.sk-parallel-item:last-child::after {align-self: flex-start;width: 50%;}#sk-container-id-10 div.sk-parallel-item:only-child::after {width: 0;}#sk-container-id-10 div.sk-dashed-wrapped {border: 1px dashed gray;margin: 0 0.4em 0.5em 0.4em;box-sizing: border-box;padding-bottom: 0.4em;background-color: white;}#sk-container-id-10 div.sk-label label {font-family: monospace;font-weight: bold;display: inline-block;line-height: 1.2em;}#sk-container-id-10 div.sk-label-container {text-align: center;}#sk-container-id-10 div.sk-container {/* jupyter's `normalize.less` sets `[hidden] { display: none; }` but bootstrap.min.css set `[hidden] { display: none !important; }` so we also need the `!important` here to be able to override the default hidden behavior on the sphinx rendered scikit-learn.org. See: https://github.com/scikit-learn/scikit-learn/issues/21755 */display: inline-block !important;position: relative;}#sk-container-id-10 div.sk-text-repr-fallback {display: none;}</style><div id=\"sk-container-id-10\" class=\"sk-top-container\"><div class=\"sk-text-repr-fallback\"><pre>KNeighborsClassifier(n_jobs=-1, n_neighbors=6, p=3)</pre><b>In a Jupyter environment, please rerun this cell to show the HTML representation or trust the notebook. <br />On GitHub, the HTML representation is unable to render, please try loading this page with nbviewer.org.</b></div><div class=\"sk-container\" hidden><div class=\"sk-item\"><div class=\"sk-estimator sk-toggleable\"><input class=\"sk-toggleable__control sk-hidden--visually\" id=\"sk-estimator-id-10\" type=\"checkbox\" checked><label for=\"sk-estimator-id-10\" class=\"sk-toggleable__label sk-toggleable__label-arrow\">KNeighborsClassifier</label><div class=\"sk-toggleable__content\"><pre>KNeighborsClassifier(n_jobs=-1, n_neighbors=6, p=3)</pre></div></div></div></div></div>"
      ],
      "text/plain": [
       "KNeighborsClassifier(n_jobs=-1, n_neighbors=6, p=3)"
      ]
     },
     "execution_count": 104,
     "metadata": {},
     "output_type": "execute_result"
    }
   ],
   "source": [
    "from sklearn.neighbors import KNeighborsClassifier\n",
    "cls = KNeighborsClassifier(n_neighbors=6,n_jobs=-1,p=1)\n",
    "cls.fit(complete_train_features,image_train_labels)"
   ]
  },
  {
   "cell_type": "code",
   "execution_count": null,
   "metadata": {},
   "outputs": [],
   "source": [
    "train_predicted_labels = cls.predict(complete_train_features)\n",
    "val_predicted_labels = cls.predict(complete_val_features)\n",
    "test_predicted_labels = cls.predict(complete_test_features)"
   ]
  },
  {
   "cell_type": "code",
   "execution_count": null,
   "metadata": {},
   "outputs": [],
   "source": [
    "x = cls.predict_proba(complete_val_features)"
   ]
  },
  {
   "cell_type": "code",
   "execution_count": null,
   "metadata": {},
   "outputs": [],
   "source": []
  },
  {
   "cell_type": "code",
   "execution_count": null,
   "metadata": {},
   "outputs": [],
   "source": [
    "print(f\"Training species accuracy:{np.count_nonzero(train_predicted_labels==image_train_labels.numpy())/len(image_train_labels)}\")\n",
    "\n",
    "print(f\"Validation species accuracy:{np.count_nonzero(val_predicted_labels==image_val_labels.numpy())/len(image_val_labels)}\")\n",
    "print(f\"Test species accuracy:{np.count_nonzero(test_predicted_labels==image_test_labels.numpy())/len(image_test_labels)}\")"
   ]
  },
  {
   "cell_type": "code",
   "execution_count": null,
   "metadata": {},
   "outputs": [],
   "source": [
    "genus_correct_count = 0\n",
    "for i,l in enumerate(val_predicted_labels):\n",
    "    if species2genus[l.item()]== species2genus[image_val_labels[i].item()]:\n",
    "        genus_correct_count +=1\n",
    "print(f\"Genus validation accuracy{genus_correct_count/len(image_val_labels)}\")"
   ]
  },
  {
   "cell_type": "code",
   "execution_count": null,
   "metadata": {},
   "outputs": [],
   "source": [
    "genus_correct_count = 0\n",
    "for i,l in enumerate(test_predicted_labels):\n",
    "    if species2genus[l.item()]== species2genus[image_test_labels[i].item()]:\n",
    "        genus_correct_count +=1\n",
    "print(f\"Genus test accuracy{genus_correct_count/len(image_test_labels)}\")"
   ]
  },
  {
   "cell_type": "code",
   "execution_count": 79,
   "metadata": {},
   "outputs": [
    {
     "data": {
      "text/plain": [
       "'class InsectNet(torch.nn.Module):\\n    def __init__(self):\\n        super(InsectNet, self).__init__()\\n        self.dout0 = nn.Dropout()\\n        self.linear1 = nn.Linear(5298,5000)\\n        self.act1 = nn.LeakyReLU()\\n        self.dout1 = nn.Dropout()\\n\\n        self.linearG = nn.Linear(5000,372)\\n        self.linearS = nn.Linear(5000,n_classes)\\n    def forward(self, x):\\n        x = self.dout0(x)\\n        x = self.linear1(x)\\n        x = self.act1(x)\\n        x = self.dout1(x)\\n        x_species = self.linearS(x)\\n        x_genus = self.linearG(x)\\n\\n        x_species = nn.functional.softmax(x_species)\\n        x_genus = nn.functional.softmax(x_genus)\\n        return x_species,x_genus\\n\\n#species2genus = np.array(species2genus)'"
      ]
     },
     "execution_count": 79,
     "metadata": {},
     "output_type": "execute_result"
    }
   ],
   "source": [
    "'''class InsectNet(torch.nn.Module):\n",
    "    def __init__(self):\n",
    "        super(InsectNet, self).__init__()\n",
    "        #self.drop1 = nn.Dropout(p=0.7)\n",
    "        self.linear1 = nn.Linear(3250,3000)\n",
    "        self.act1 = nn.LeakyReLU()\n",
    "        self.linear2 = nn.Linear(3000,2000)\n",
    "        self.act2 = nn.LeakyReLU()\n",
    "        self.linearHeadGenus = nn.Linear(2000,372)\n",
    "        self.linearHeadSpecies = nn.Linear(2000,n_classes)\n",
    "    def forward(self, x):\n",
    "        #x = self.drop1(x)\n",
    "        x = self.linear1(x)\n",
    "        x = self.act1(x)\n",
    "        x = self.linear2(x)\n",
    "        x = self.act2(x)\n",
    "        x_species = self.linearHeadSpecies(x)\n",
    "        x_genus = self.linearHeadGenus(x)\n",
    "        x_species = torch.nn.functional.softmax(x_species)\n",
    "        x_genus = torch.nn.functional.softmax(x_genus)\n",
    "        return x_species,x_genus\n",
    "'''\n",
    "class InsectNet(torch.nn.Module):\n",
    "    def __init__(self):\n",
    "        super(InsectNet, self).__init__()\n",
    "        self.dout = nn.Dropout(p=0.8)\n",
    "        self.linear1 = nn.Linear(5298,372)\n",
    "        self.act1 = nn.LeakyReLU()\n",
    "        self.linear2 = nn.Linear(372,n_classes)\n",
    "        self.act2 = nn.Softmax()\n",
    "    def forward(self, x):\n",
    "        x = self.dout(x)\n",
    "        x = self.linear1(x)\n",
    "        x_genus = torch.nn.functional.softmax(x)\n",
    "        x = self.act1(x)\n",
    "        x = self.linear2(x)\n",
    "        x = self.act2(x)\n",
    "        return x,x_genus\n",
    "\n",
    "'''class InsectNet(torch.nn.Module):\n",
    "    def __init__(self):\n",
    "        super(InsectNet, self).__init__()\n",
    "        self.dout0 = nn.Dropout()\n",
    "        self.linear1 = nn.Linear(5298,5000)\n",
    "        self.act1 = nn.LeakyReLU()\n",
    "        self.dout1 = nn.Dropout()\n",
    "\n",
    "        self.linearG = nn.Linear(5000,372)\n",
    "        self.linearS = nn.Linear(5000,n_classes)\n",
    "    def forward(self, x):\n",
    "        x = self.dout0(x)\n",
    "        x = self.linear1(x)\n",
    "        x = self.act1(x)\n",
    "        x = self.dout1(x)\n",
    "        x_species = self.linearS(x)\n",
    "        x_genus = self.linearG(x)\n",
    "\n",
    "        x_species = nn.functional.softmax(x_species)\n",
    "        x_genus = nn.functional.softmax(x_genus)\n",
    "        return x_species,x_genus\n",
    "\n",
    "#species2genus = np.array(species2genus)'''"
   ]
  },
  {
   "cell_type": "code",
   "execution_count": 80,
   "metadata": {},
   "outputs": [
    {
     "name": "stdout",
     "output_type": "stream",
     "text": [
      "[234 234 235 ...  44  44 311]\n"
     ]
    },
    {
     "data": {
      "text/plain": [
       "(1050, 1)"
      ]
     },
     "execution_count": 80,
     "metadata": {},
     "output_type": "execute_result"
    }
   ],
   "source": [
    "sorted_keys = sorted(species2genus.keys())\n",
    "species2genus = np.array([species2genus[key] for key in sorted_keys])\n",
    "print(species2genus)\n",
    "species2genus = species2genus[...,np.newaxis]\n",
    "species2genus.shape"
   ]
  },
  {
   "cell_type": "code",
   "execution_count": 81,
   "metadata": {},
   "outputs": [
    {
     "data": {
      "text/plain": [
       "torch.Size([13039, 2048])"
      ]
     },
     "execution_count": 81,
     "metadata": {},
     "output_type": "execute_result"
    }
   ],
   "source": [
    "image_train_features.shape"
   ]
  },
  {
   "cell_type": "code",
   "execution_count": 82,
   "metadata": {},
   "outputs": [
    {
     "data": {
      "text/plain": [
       "torch.Size([13039])"
      ]
     },
     "execution_count": 82,
     "metadata": {},
     "output_type": "execute_result"
    }
   ],
   "source": [
    "image_train_labels.shape"
   ]
  },
  {
   "cell_type": "code",
   "execution_count": 83,
   "metadata": {},
   "outputs": [
    {
     "data": {
      "text/plain": [
       "torch.Size([13039, 3250])"
      ]
     },
     "execution_count": 83,
     "metadata": {},
     "output_type": "execute_result"
    }
   ],
   "source": [
    "expanded_train_dna_features.shape"
   ]
  },
  {
   "cell_type": "code",
   "execution_count": 84,
   "metadata": {},
   "outputs": [
    {
     "data": {
      "text/plain": [
       "torch.Size([13039])"
      ]
     },
     "execution_count": 84,
     "metadata": {},
     "output_type": "execute_result"
    }
   ],
   "source": [
    "expanded_train_dna_labels.shape\n"
   ]
  },
  {
   "cell_type": "markdown",
   "metadata": {},
   "source": [
    "# CONTROLLARE STA ROBA DI TRAIN VAL PRIMA DELLO SCALER"
   ]
  },
  {
   "cell_type": "code",
   "execution_count": 85,
   "metadata": {},
   "outputs": [
    {
     "name": "stdout",
     "output_type": "stream",
     "text": [
      "ATTENZIONE A STA ROBA NON DIMENTICARE!!!!!!!!!!!!!!!!!!!!!!!!!!!!!!!\n"
     ]
    }
   ],
   "source": [
    "is_train_val = False \n",
    "print(\"ATTENZIONE A STA ROBA NON DIMENTICARE!!!!!!!!!!!!!!!!!!!!!!!!!!!!!!!\")\n",
    "complete_train_features = torch.cat((expanded_train_dna_features,image_train_features),dim=1)\n",
    "complete_val_features = torch.cat((expanded_val_dna_features,image_val_features),dim=1)\n",
    "complete_test_features = torch.cat((expanded_test_dna_features,image_test_features),dim=1)\n",
    "if is_train_val:\n",
    "    complete_train_features = torch.cat((complete_train_features,complete_val_features),dim=0)\n",
    "    complete_val_features = complete_test_features\n",
    "    image_train_labels = torch.cat((image_train_labels,image_val_labels),dim=0)\n",
    "    image_val_labels = image_test_labels\n",
    "\n",
    "scaler = StandardScaler()\n",
    "\n",
    "complete_train_features_scaled = scaler.fit_transform(complete_train_features)\n",
    "complete_val_features_scaled = scaler.transform(complete_val_features)"
   ]
  },
  {
   "cell_type": "code",
   "execution_count": 86,
   "metadata": {},
   "outputs": [
    {
     "data": {
      "text/plain": [
       "(13039, 5298)"
      ]
     },
     "execution_count": 86,
     "metadata": {},
     "output_type": "execute_result"
    }
   ],
   "source": [
    "complete_train_features_scaled.shape"
   ]
  },
  {
   "cell_type": "code",
   "execution_count": 87,
   "metadata": {},
   "outputs": [
    {
     "data": {
      "text/plain": [
       "(6955, 5298)"
      ]
     },
     "execution_count": 87,
     "metadata": {},
     "output_type": "execute_result"
    }
   ],
   "source": [
    "complete_val_features_scaled.shape"
   ]
  },
  {
   "cell_type": "code",
   "execution_count": 88,
   "metadata": {},
   "outputs": [],
   "source": [
    "from torch.utils.data import Dataset\n",
    "class FeatureDataset(Dataset):\n",
    "    def __init__(self, data, targets, transform=None):\n",
    "        self.data = data\n",
    "        self.targets = targets\n",
    "        \n",
    "    def __getitem__(self, index):\n",
    "        x = self.data[index]\n",
    "        y = self.targets[index].type(torch.LongTensor)\n",
    "        \n",
    "        #if self.transform:\n",
    "        #    x = Image.fromarray(self.data[index].astype(np.uint8).transpose(1,2,0))\n",
    "        #    x = self.transform(x)\n",
    "        \n",
    "        return x, y\n",
    "    \n",
    "    def __len__(self):\n",
    "        return len(self.data)\n",
    "complete_train_features_scaled = torch.tensor(complete_train_features_scaled,dtype=torch.float)\n",
    "complete_val_features_scaled = torch.tensor(complete_val_features_scaled,dtype=torch.float)\n",
    "\n",
    "d_train = FeatureDataset(complete_train_features_scaled,image_train_labels)\n",
    "d_val = FeatureDataset(complete_val_features_scaled,image_val_labels)"
   ]
  },
  {
   "cell_type": "code",
   "execution_count": 89,
   "metadata": {},
   "outputs": [
    {
     "data": {
      "text/plain": [
       "371"
      ]
     },
     "execution_count": 89,
     "metadata": {},
     "output_type": "execute_result"
    }
   ],
   "source": [
    "species2genus.min()\n",
    "species2genus.max()"
   ]
  },
  {
   "cell_type": "code",
   "execution_count": 90,
   "metadata": {},
   "outputs": [
    {
     "data": {
      "text/plain": [
       "(1050, 1)"
      ]
     },
     "execution_count": 90,
     "metadata": {},
     "output_type": "execute_result"
    }
   ],
   "source": [
    "species2genus.shape"
   ]
  },
  {
   "cell_type": "code",
   "execution_count": 91,
   "metadata": {},
   "outputs": [
    {
     "data": {
      "text/plain": [
       "torch.Size([13039, 5298])"
      ]
     },
     "execution_count": 91,
     "metadata": {},
     "output_type": "execute_result"
    }
   ],
   "source": [
    "complete_train_features_scaled.shape"
   ]
  },
  {
   "cell_type": "markdown",
   "metadata": {},
   "source": [
    "# Fitting model"
   ]
  },
  {
   "cell_type": "code",
   "execution_count": 92,
   "metadata": {},
   "outputs": [],
   "source": [
    "from torch.utils.data import DataLoader\n",
    "batch_size = 1000\n",
    "train_loader = DataLoader(d_train,shuffle=True,batch_size = batch_size)\n",
    "val_loader = DataLoader(d_val,shuffle=True,batch_size = batch_size)\n",
    "dataloaders = {'train':train_loader,'val':val_loader}\n",
    "dataset_sizes = {'train':len(d_train.targets),'val':len(d_val.targets)}"
   ]
  },
  {
   "cell_type": "code",
   "execution_count": 93,
   "metadata": {},
   "outputs": [],
   "source": [
    "device = torch.device(\"cuda:0\" if torch.cuda.is_available() else \"cpu\")\n",
    "model = InsectNet().to(device)\n",
    "optimizer = torch.optim.Adam(model.parameters(),weight_decay=1e-5)\n",
    "scheduler = torch.optim.lr_scheduler.CosineAnnealingLR(optimizer,T_max=2*len(train_loader))"
   ]
  },
  {
   "cell_type": "code",
   "execution_count": 94,
   "metadata": {},
   "outputs": [],
   "source": [
    "from tqdm.notebook import tqdm\n",
    "def fit(epochs,dataloaders,optimizer,model,start_idx=0):\n",
    "    criterion = torch.nn.NLLLoss()\n",
    "    if device == 'cuda:0':\n",
    "        torch.cuda.empty_cache()\n",
    "    \n",
    "    train_losses = []\n",
    "    train_scores = []\n",
    "    val_losses = []\n",
    "    val_scores = []\n",
    "    for epoch in range(epochs):\n",
    "        running_train_corrects = 0\n",
    "        running_train_corrects_genus = 0\n",
    "        for features,labels in tqdm(dataloaders['train']):\n",
    "            model.train()\n",
    "            genus_labels = torch.tensor(species2genus[labels.int()]).squeeze().to(device)\n",
    "            features = features.to(device)\n",
    "            labels = labels.type(torch.LongTensor).to(device)\n",
    "            \n",
    "            optimizer.zero_grad()\n",
    "            predicted_labels,predicted_genus_labels = model(features)\n",
    "            \n",
    "            train_loss = criterion(predicted_labels,labels)\n",
    "            train_genus_loss = criterion(predicted_genus_labels,genus_labels)\n",
    "            train_loss+=train_genus_loss\n",
    "            train_loss.backward()\n",
    "            optimizer.step()\n",
    "            scheduler.step()\n",
    "            \n",
    "            _, preds = torch.max(predicted_labels, 1)\n",
    "            _, genus_preds = torch.max(predicted_genus_labels, 1)\n",
    "            running_train_corrects += torch.sum(preds == labels.data)\n",
    "            running_train_corrects_genus += torch.sum(genus_preds == genus_labels)\n",
    "        train_losses.append(train_loss)\n",
    "        running_val_corrects = 0\n",
    "        running_val_corrects_genus = 0\n",
    "        for features,labels in tqdm(dataloaders['val']):\n",
    "            \n",
    "            model.eval()\n",
    "            with torch.no_grad():\n",
    "                genus_labels = torch.tensor(species2genus[labels.int()]).squeeze().to(device)\n",
    "                features = features.to(device)\n",
    "                labels = labels.type(torch.LongTensor).to(device)\n",
    "                optimizer.zero_grad()\n",
    "                \n",
    "                predicted_labels,predicted_genus_labels = model(features)\n",
    "                val_loss = criterion(predicted_labels,labels)\n",
    "                \n",
    "                _, preds = torch.max(predicted_labels, 1)\n",
    "                _, genus_preds = torch.max(predicted_genus_labels, 1)\n",
    "                running_val_corrects += torch.sum(preds == labels.data)\n",
    "                running_val_corrects_genus += torch.sum(genus_preds == genus_labels)\n",
    "        val_losses.append(val_loss)\n",
    "        epoch_train_acc = running_train_corrects.double() / dataset_sizes['train']\n",
    "        epoch_train_acc_genus = running_train_corrects_genus.double() / dataset_sizes['train']\n",
    "        epoch_val_acc = running_val_corrects.double() / dataset_sizes['val']\n",
    "        epoch_val_acc_genus = running_val_corrects_genus.double() / dataset_sizes['val']\n",
    "        print(\"Epoch [{}/{}], train_loss: {:.4f},  train_score: {:.4f},val_loss: {:.4f},  val_score: {:.4f}, genus train_score{:.4f}, genus val_score{:.4f}\".format(\n",
    "            epoch+1, epochs, train_loss, epoch_train_acc,val_loss,epoch_val_acc,epoch_train_acc_genus,epoch_val_acc_genus))\n",
    "    return train_losses"
   ]
  },
  {
   "cell_type": "code",
   "execution_count": 95,
   "metadata": {
    "scrolled": true
   },
   "outputs": [
    {
     "data": {
      "application/vnd.jupyter.widget-view+json": {
       "model_id": "8448b466144f429c8ad6c3782c18de10",
       "version_major": 2,
       "version_minor": 0
      },
      "text/plain": [
       "  0%|          | 0/14 [00:00<?, ?it/s]"
      ]
     },
     "metadata": {},
     "output_type": "display_data"
    },
    {
     "name": "stderr",
     "output_type": "stream",
     "text": [
      "/tmp/ipykernel_44479/509102700.py:34: UserWarning: Implicit dimension choice for softmax has been deprecated. Change the call to include dim=X as an argument.\n",
      "  x_genus = torch.nn.functional.softmax(x)\n",
      "/home/fogliodicarta/miniconda3/envs/insetti/lib/python3.12/site-packages/torch/nn/modules/module.py:1511: UserWarning: Implicit dimension choice for softmax has been deprecated. Change the call to include dim=X as an argument.\n",
      "  return self._call_impl(*args, **kwargs)\n"
     ]
    },
    {
     "data": {
      "application/vnd.jupyter.widget-view+json": {
       "model_id": "047e5236bf1d4913bdb93b24bd014171",
       "version_major": 2,
       "version_minor": 0
      },
      "text/plain": [
       "  0%|          | 0/7 [00:00<?, ?it/s]"
      ]
     },
     "metadata": {},
     "output_type": "display_data"
    },
    {
     "name": "stdout",
     "output_type": "stream",
     "text": [
      "Epoch [1/200], train_loss: -0.5409,  train_score: 0.0867,val_loss: -0.0484,  val_score: 0.0587, genus train_score0.3057, genus val_score0.5432\n"
     ]
    },
    {
     "data": {
      "application/vnd.jupyter.widget-view+json": {
       "model_id": "73bd117896b142c1ab6df15ac6767969",
       "version_major": 2,
       "version_minor": 0
      },
      "text/plain": [
       "  0%|          | 0/14 [00:00<?, ?it/s]"
      ]
     },
     "metadata": {},
     "output_type": "display_data"
    },
    {
     "data": {
      "application/vnd.jupyter.widget-view+json": {
       "model_id": "466bf71592ee44df9b72115ce4017d4c",
       "version_major": 2,
       "version_minor": 0
      },
      "text/plain": [
       "  0%|          | 0/7 [00:00<?, ?it/s]"
      ]
     },
     "metadata": {},
     "output_type": "display_data"
    },
    {
     "name": "stdout",
     "output_type": "stream",
     "text": [
      "Epoch [2/200], train_loss: -0.7719,  train_score: 0.1476,val_loss: -0.0532,  val_score: 0.0650, genus train_score0.5858, genus val_score0.6083\n"
     ]
    },
    {
     "data": {
      "application/vnd.jupyter.widget-view+json": {
       "model_id": "7c2905493e344b21885f3978cf0e7090",
       "version_major": 2,
       "version_minor": 0
      },
      "text/plain": [
       "  0%|          | 0/14 [00:00<?, ?it/s]"
      ]
     },
     "metadata": {},
     "output_type": "display_data"
    },
    {
     "data": {
      "application/vnd.jupyter.widget-view+json": {
       "model_id": "4557f03303da498b86b3576a4396e537",
       "version_major": 2,
       "version_minor": 0
      },
      "text/plain": [
       "  0%|          | 0/7 [00:00<?, ?it/s]"
      ]
     },
     "metadata": {},
     "output_type": "display_data"
    },
    {
     "name": "stdout",
     "output_type": "stream",
     "text": [
      "Epoch [3/200], train_loss: -0.7619,  train_score: 0.1578,val_loss: -0.0666,  val_score: 0.0722, genus train_score0.6231, genus val_score0.6802\n"
     ]
    },
    {
     "data": {
      "application/vnd.jupyter.widget-view+json": {
       "model_id": "a253e9c55b2044a582a2cb27be0c859c",
       "version_major": 2,
       "version_minor": 0
      },
      "text/plain": [
       "  0%|          | 0/14 [00:00<?, ?it/s]"
      ]
     },
     "metadata": {},
     "output_type": "display_data"
    },
    {
     "data": {
      "application/vnd.jupyter.widget-view+json": {
       "model_id": "73b6208405e54941a1b54166295848c6",
       "version_major": 2,
       "version_minor": 0
      },
      "text/plain": [
       "  0%|          | 0/7 [00:00<?, ?it/s]"
      ]
     },
     "metadata": {},
     "output_type": "display_data"
    },
    {
     "name": "stdout",
     "output_type": "stream",
     "text": [
      "Epoch [4/200], train_loss: -1.0286,  train_score: 0.1981,val_loss: -0.0959,  val_score: 0.1080, genus train_score0.7312, genus val_score0.7905\n"
     ]
    },
    {
     "data": {
      "application/vnd.jupyter.widget-view+json": {
       "model_id": "fe0b754ed3bb40038c980becb57231ce",
       "version_major": 2,
       "version_minor": 0
      },
      "text/plain": [
       "  0%|          | 0/14 [00:00<?, ?it/s]"
      ]
     },
     "metadata": {},
     "output_type": "display_data"
    },
    {
     "data": {
      "application/vnd.jupyter.widget-view+json": {
       "model_id": "b2ff355f1b5c485f86842ba951c8839b",
       "version_major": 2,
       "version_minor": 0
      },
      "text/plain": [
       "  0%|          | 0/7 [00:00<?, ?it/s]"
      ]
     },
     "metadata": {},
     "output_type": "display_data"
    },
    {
     "name": "stdout",
     "output_type": "stream",
     "text": [
      "Epoch [5/200], train_loss: -1.1805,  train_score: 0.2743,val_loss: -0.1292,  val_score: 0.1242, genus train_score0.8268, genus val_score0.8207\n"
     ]
    },
    {
     "data": {
      "application/vnd.jupyter.widget-view+json": {
       "model_id": "a7153afbd299435f99d929617e31ffa2",
       "version_major": 2,
       "version_minor": 0
      },
      "text/plain": [
       "  0%|          | 0/14 [00:00<?, ?it/s]"
      ]
     },
     "metadata": {},
     "output_type": "display_data"
    },
    {
     "data": {
      "application/vnd.jupyter.widget-view+json": {
       "model_id": "ca53fcc66975419592f4d50356c43017",
       "version_major": 2,
       "version_minor": 0
      },
      "text/plain": [
       "  0%|          | 0/7 [00:00<?, ?it/s]"
      ]
     },
     "metadata": {},
     "output_type": "display_data"
    },
    {
     "name": "stdout",
     "output_type": "stream",
     "text": [
      "Epoch [6/200], train_loss: -0.9904,  train_score: 0.3010,val_loss: -0.1237,  val_score: 0.1290, genus train_score0.8515, genus val_score0.8312\n"
     ]
    },
    {
     "data": {
      "application/vnd.jupyter.widget-view+json": {
       "model_id": "d2bc43be5e0e49e0a47c7524688dacdb",
       "version_major": 2,
       "version_minor": 0
      },
      "text/plain": [
       "  0%|          | 0/14 [00:00<?, ?it/s]"
      ]
     },
     "metadata": {},
     "output_type": "display_data"
    },
    {
     "data": {
      "application/vnd.jupyter.widget-view+json": {
       "model_id": "d4024b813eab4041821927bdcf205344",
       "version_major": 2,
       "version_minor": 0
      },
      "text/plain": [
       "  0%|          | 0/7 [00:00<?, ?it/s]"
      ]
     },
     "metadata": {},
     "output_type": "display_data"
    },
    {
     "name": "stdout",
     "output_type": "stream",
     "text": [
      "Epoch [7/200], train_loss: -1.3197,  train_score: 0.3047,val_loss: -0.1284,  val_score: 0.1318, genus train_score0.8596, genus val_score0.8395\n"
     ]
    },
    {
     "data": {
      "application/vnd.jupyter.widget-view+json": {
       "model_id": "6d1dec9090fb490196ea8655bf0db3d4",
       "version_major": 2,
       "version_minor": 0
      },
      "text/plain": [
       "  0%|          | 0/14 [00:00<?, ?it/s]"
      ]
     },
     "metadata": {},
     "output_type": "display_data"
    },
    {
     "data": {
      "application/vnd.jupyter.widget-view+json": {
       "model_id": "bc920d74cefa4adea90f8581fa7f3a2b",
       "version_major": 2,
       "version_minor": 0
      },
      "text/plain": [
       "  0%|          | 0/7 [00:00<?, ?it/s]"
      ]
     },
     "metadata": {},
     "output_type": "display_data"
    },
    {
     "name": "stdout",
     "output_type": "stream",
     "text": [
      "Epoch [8/200], train_loss: -1.2782,  train_score: 0.3200,val_loss: -0.1341,  val_score: 0.1390, genus train_score0.8766, genus val_score0.8569\n"
     ]
    },
    {
     "data": {
      "application/vnd.jupyter.widget-view+json": {
       "model_id": "d22331f6c43048669c9457ac40922568",
       "version_major": 2,
       "version_minor": 0
      },
      "text/plain": [
       "  0%|          | 0/14 [00:00<?, ?it/s]"
      ]
     },
     "metadata": {},
     "output_type": "display_data"
    },
    {
     "data": {
      "application/vnd.jupyter.widget-view+json": {
       "model_id": "25a12740675b4ff784d5b8fc0c31b765",
       "version_major": 2,
       "version_minor": 0
      },
      "text/plain": [
       "  0%|          | 0/7 [00:00<?, ?it/s]"
      ]
     },
     "metadata": {},
     "output_type": "display_data"
    },
    {
     "name": "stdout",
     "output_type": "stream",
     "text": [
      "Epoch [9/200], train_loss: -1.2990,  train_score: 0.3497,val_loss: -0.1456,  val_score: 0.1587, genus train_score0.8977, genus val_score0.8630\n"
     ]
    },
    {
     "data": {
      "application/vnd.jupyter.widget-view+json": {
       "model_id": "257ffe18bb1c44a2a9c4827c185bdc98",
       "version_major": 2,
       "version_minor": 0
      },
      "text/plain": [
       "  0%|          | 0/14 [00:00<?, ?it/s]"
      ]
     },
     "metadata": {},
     "output_type": "display_data"
    },
    {
     "data": {
      "application/vnd.jupyter.widget-view+json": {
       "model_id": "440b59022ebc472d83f973f159c67e83",
       "version_major": 2,
       "version_minor": 0
      },
      "text/plain": [
       "  0%|          | 0/7 [00:00<?, ?it/s]"
      ]
     },
     "metadata": {},
     "output_type": "display_data"
    },
    {
     "name": "stdout",
     "output_type": "stream",
     "text": [
      "Epoch [10/200], train_loss: -1.4208,  train_score: 0.3812,val_loss: -0.1505,  val_score: 0.1645, genus train_score0.9075, genus val_score0.8689\n"
     ]
    },
    {
     "data": {
      "application/vnd.jupyter.widget-view+json": {
       "model_id": "626e11d923b740fa886ef5b6fbe5cd06",
       "version_major": 2,
       "version_minor": 0
      },
      "text/plain": [
       "  0%|          | 0/14 [00:00<?, ?it/s]"
      ]
     },
     "metadata": {},
     "output_type": "display_data"
    },
    {
     "data": {
      "application/vnd.jupyter.widget-view+json": {
       "model_id": "1af9b4bf98d84ed48787ee6613b00ab5",
       "version_major": 2,
       "version_minor": 0
      },
      "text/plain": [
       "  0%|          | 0/7 [00:00<?, ?it/s]"
      ]
     },
     "metadata": {},
     "output_type": "display_data"
    },
    {
     "name": "stdout",
     "output_type": "stream",
     "text": [
      "Epoch [11/200], train_loss: -1.2471,  train_score: 0.3888,val_loss: -0.1646,  val_score: 0.1672, genus train_score0.9075, genus val_score0.8753\n"
     ]
    },
    {
     "data": {
      "application/vnd.jupyter.widget-view+json": {
       "model_id": "f8382db0876e4fae81c4c211d8a8d995",
       "version_major": 2,
       "version_minor": 0
      },
      "text/plain": [
       "  0%|          | 0/14 [00:00<?, ?it/s]"
      ]
     },
     "metadata": {},
     "output_type": "display_data"
    },
    {
     "data": {
      "application/vnd.jupyter.widget-view+json": {
       "model_id": "58f9f12c7dae47ab9bf1ae4edada5681",
       "version_major": 2,
       "version_minor": 0
      },
      "text/plain": [
       "  0%|          | 0/7 [00:00<?, ?it/s]"
      ]
     },
     "metadata": {},
     "output_type": "display_data"
    },
    {
     "name": "stdout",
     "output_type": "stream",
     "text": [
      "Epoch [12/200], train_loss: -1.2651,  train_score: 0.4064,val_loss: -0.1667,  val_score: 0.1777, genus train_score0.9133, genus val_score0.8857\n"
     ]
    },
    {
     "data": {
      "application/vnd.jupyter.widget-view+json": {
       "model_id": "dff1834cbd30437c87992e4d1021e659",
       "version_major": 2,
       "version_minor": 0
      },
      "text/plain": [
       "  0%|          | 0/14 [00:00<?, ?it/s]"
      ]
     },
     "metadata": {},
     "output_type": "display_data"
    },
    {
     "data": {
      "application/vnd.jupyter.widget-view+json": {
       "model_id": "2b2bcaf4abc54fd4bf574d00724037b7",
       "version_major": 2,
       "version_minor": 0
      },
      "text/plain": [
       "  0%|          | 0/7 [00:00<?, ?it/s]"
      ]
     },
     "metadata": {},
     "output_type": "display_data"
    },
    {
     "name": "stdout",
     "output_type": "stream",
     "text": [
      "Epoch [13/200], train_loss: -1.1249,  train_score: 0.4358,val_loss: -0.1834,  val_score: 0.1944, genus train_score0.9225, genus val_score0.8929\n"
     ]
    },
    {
     "data": {
      "application/vnd.jupyter.widget-view+json": {
       "model_id": "57e1ba8775e74df7ba42632f2104c559",
       "version_major": 2,
       "version_minor": 0
      },
      "text/plain": [
       "  0%|          | 0/14 [00:00<?, ?it/s]"
      ]
     },
     "metadata": {},
     "output_type": "display_data"
    },
    {
     "data": {
      "application/vnd.jupyter.widget-view+json": {
       "model_id": "c7a35f1bdc444377b2c46a5afea100ab",
       "version_major": 2,
       "version_minor": 0
      },
      "text/plain": [
       "  0%|          | 0/7 [00:00<?, ?it/s]"
      ]
     },
     "metadata": {},
     "output_type": "display_data"
    },
    {
     "name": "stdout",
     "output_type": "stream",
     "text": [
      "Epoch [14/200], train_loss: -1.4775,  train_score: 0.4599,val_loss: -0.2012,  val_score: 0.1991, genus train_score0.9256, genus val_score0.8925\n"
     ]
    },
    {
     "data": {
      "application/vnd.jupyter.widget-view+json": {
       "model_id": "cf7d03c1c58c47a882313bb6c96da6c9",
       "version_major": 2,
       "version_minor": 0
      },
      "text/plain": [
       "  0%|          | 0/14 [00:00<?, ?it/s]"
      ]
     },
     "metadata": {},
     "output_type": "display_data"
    },
    {
     "data": {
      "application/vnd.jupyter.widget-view+json": {
       "model_id": "c4131e79fdc64fcea34e2f322fcf9108",
       "version_major": 2,
       "version_minor": 0
      },
      "text/plain": [
       "  0%|          | 0/7 [00:00<?, ?it/s]"
      ]
     },
     "metadata": {},
     "output_type": "display_data"
    },
    {
     "name": "stdout",
     "output_type": "stream",
     "text": [
      "Epoch [15/200], train_loss: -1.3187,  train_score: 0.4650,val_loss: -0.1993,  val_score: 0.2022, genus train_score0.9276, genus val_score0.8940\n"
     ]
    },
    {
     "data": {
      "application/vnd.jupyter.widget-view+json": {
       "model_id": "a6d30abb51a940de93db82e7fa0cbbbb",
       "version_major": 2,
       "version_minor": 0
      },
      "text/plain": [
       "  0%|          | 0/14 [00:00<?, ?it/s]"
      ]
     },
     "metadata": {},
     "output_type": "display_data"
    },
    {
     "data": {
      "application/vnd.jupyter.widget-view+json": {
       "model_id": "bb001481a1f94b1398c3150b639a3f25",
       "version_major": 2,
       "version_minor": 0
      },
      "text/plain": [
       "  0%|          | 0/7 [00:00<?, ?it/s]"
      ]
     },
     "metadata": {},
     "output_type": "display_data"
    },
    {
     "name": "stdout",
     "output_type": "stream",
     "text": [
      "Epoch [16/200], train_loss: -1.6369,  train_score: 0.4796,val_loss: -0.2189,  val_score: 0.2154, genus train_score0.9295, genus val_score0.9008\n"
     ]
    },
    {
     "data": {
      "application/vnd.jupyter.widget-view+json": {
       "model_id": "706b85c75e824d34a25ff1e32b643d55",
       "version_major": 2,
       "version_minor": 0
      },
      "text/plain": [
       "  0%|          | 0/14 [00:00<?, ?it/s]"
      ]
     },
     "metadata": {},
     "output_type": "display_data"
    },
    {
     "data": {
      "application/vnd.jupyter.widget-view+json": {
       "model_id": "4e972f3b3c854447878273108e7ba6a1",
       "version_major": 2,
       "version_minor": 0
      },
      "text/plain": [
       "  0%|          | 0/7 [00:00<?, ?it/s]"
      ]
     },
     "metadata": {},
     "output_type": "display_data"
    },
    {
     "name": "stdout",
     "output_type": "stream",
     "text": [
      "Epoch [17/200], train_loss: -1.4304,  train_score: 0.5141,val_loss: -0.2158,  val_score: 0.2313, genus train_score0.9342, genus val_score0.9057\n"
     ]
    },
    {
     "data": {
      "application/vnd.jupyter.widget-view+json": {
       "model_id": "966cb2713b254e678d81a22e515c1d96",
       "version_major": 2,
       "version_minor": 0
      },
      "text/plain": [
       "  0%|          | 0/14 [00:00<?, ?it/s]"
      ]
     },
     "metadata": {},
     "output_type": "display_data"
    },
    {
     "data": {
      "application/vnd.jupyter.widget-view+json": {
       "model_id": "7e815da09ded4440b866367afdafc606",
       "version_major": 2,
       "version_minor": 0
      },
      "text/plain": [
       "  0%|          | 0/7 [00:00<?, ?it/s]"
      ]
     },
     "metadata": {},
     "output_type": "display_data"
    },
    {
     "name": "stdout",
     "output_type": "stream",
     "text": [
      "Epoch [18/200], train_loss: -1.5852,  train_score: 0.5316,val_loss: -0.2165,  val_score: 0.2334, genus train_score0.9376, genus val_score0.9064\n"
     ]
    },
    {
     "data": {
      "application/vnd.jupyter.widget-view+json": {
       "model_id": "2d19494292fb42faa8d617bed2c678fd",
       "version_major": 2,
       "version_minor": 0
      },
      "text/plain": [
       "  0%|          | 0/14 [00:00<?, ?it/s]"
      ]
     },
     "metadata": {},
     "output_type": "display_data"
    },
    {
     "data": {
      "application/vnd.jupyter.widget-view+json": {
       "model_id": "0c4cf0cf31bb4678bc573a0eb98829f7",
       "version_major": 2,
       "version_minor": 0
      },
      "text/plain": [
       "  0%|          | 0/7 [00:00<?, ?it/s]"
      ]
     },
     "metadata": {},
     "output_type": "display_data"
    },
    {
     "name": "stdout",
     "output_type": "stream",
     "text": [
      "Epoch [19/200], train_loss: -1.5346,  train_score: 0.5367,val_loss: -0.2146,  val_score: 0.2368, genus train_score0.9383, genus val_score0.9075\n"
     ]
    },
    {
     "data": {
      "application/vnd.jupyter.widget-view+json": {
       "model_id": "845c688630e244448abdf23f91f4f52e",
       "version_major": 2,
       "version_minor": 0
      },
      "text/plain": [
       "  0%|          | 0/14 [00:00<?, ?it/s]"
      ]
     },
     "metadata": {},
     "output_type": "display_data"
    },
    {
     "data": {
      "application/vnd.jupyter.widget-view+json": {
       "model_id": "77502957485f4354811563b6c59b96bf",
       "version_major": 2,
       "version_minor": 0
      },
      "text/plain": [
       "  0%|          | 0/7 [00:00<?, ?it/s]"
      ]
     },
     "metadata": {},
     "output_type": "display_data"
    },
    {
     "name": "stdout",
     "output_type": "stream",
     "text": [
      "Epoch [20/200], train_loss: -1.6411,  train_score: 0.5486,val_loss: -0.2422,  val_score: 0.2444, genus train_score0.9399, genus val_score0.9074\n"
     ]
    },
    {
     "data": {
      "application/vnd.jupyter.widget-view+json": {
       "model_id": "bff1f8130a7d4bccb0ed13e9a230f1f8",
       "version_major": 2,
       "version_minor": 0
      },
      "text/plain": [
       "  0%|          | 0/14 [00:00<?, ?it/s]"
      ]
     },
     "metadata": {},
     "output_type": "display_data"
    },
    {
     "data": {
      "application/vnd.jupyter.widget-view+json": {
       "model_id": "c951cd51ec7b416ba1d61036575b17b5",
       "version_major": 2,
       "version_minor": 0
      },
      "text/plain": [
       "  0%|          | 0/7 [00:00<?, ?it/s]"
      ]
     },
     "metadata": {},
     "output_type": "display_data"
    },
    {
     "name": "stdout",
     "output_type": "stream",
     "text": [
      "Epoch [21/200], train_loss: -1.5846,  train_score: 0.5714,val_loss: -0.2645,  val_score: 0.2519, genus train_score0.9430, genus val_score0.9070\n"
     ]
    },
    {
     "data": {
      "application/vnd.jupyter.widget-view+json": {
       "model_id": "8d9aed3e3fb347999c5184ea3a615e82",
       "version_major": 2,
       "version_minor": 0
      },
      "text/plain": [
       "  0%|          | 0/14 [00:00<?, ?it/s]"
      ]
     },
     "metadata": {},
     "output_type": "display_data"
    },
    {
     "data": {
      "application/vnd.jupyter.widget-view+json": {
       "model_id": "d7bdce59f264421a95900e22049ca0ca",
       "version_major": 2,
       "version_minor": 0
      },
      "text/plain": [
       "  0%|          | 0/7 [00:00<?, ?it/s]"
      ]
     },
     "metadata": {},
     "output_type": "display_data"
    },
    {
     "name": "stdout",
     "output_type": "stream",
     "text": [
      "Epoch [22/200], train_loss: -1.4419,  train_score: 0.5889,val_loss: -0.2418,  val_score: 0.2545, genus train_score0.9446, genus val_score0.9068\n"
     ]
    },
    {
     "data": {
      "application/vnd.jupyter.widget-view+json": {
       "model_id": "7443b622cbb94d3bac4ed4f05e562621",
       "version_major": 2,
       "version_minor": 0
      },
      "text/plain": [
       "  0%|          | 0/14 [00:00<?, ?it/s]"
      ]
     },
     "metadata": {},
     "output_type": "display_data"
    },
    {
     "data": {
      "application/vnd.jupyter.widget-view+json": {
       "model_id": "85d5c085ddb24f149f18fba7e2988919",
       "version_major": 2,
       "version_minor": 0
      },
      "text/plain": [
       "  0%|          | 0/7 [00:00<?, ?it/s]"
      ]
     },
     "metadata": {},
     "output_type": "display_data"
    },
    {
     "name": "stdout",
     "output_type": "stream",
     "text": [
      "Epoch [23/200], train_loss: -1.6126,  train_score: 0.5937,val_loss: -0.2675,  val_score: 0.2575, genus train_score0.9448, genus val_score0.9067\n"
     ]
    },
    {
     "data": {
      "application/vnd.jupyter.widget-view+json": {
       "model_id": "9d624d1766964ff3acdfcdc477c9d2d7",
       "version_major": 2,
       "version_minor": 0
      },
      "text/plain": [
       "  0%|          | 0/14 [00:00<?, ?it/s]"
      ]
     },
     "metadata": {},
     "output_type": "display_data"
    },
    {
     "data": {
      "application/vnd.jupyter.widget-view+json": {
       "model_id": "c28c7833053642d0bf5d45866623c48a",
       "version_major": 2,
       "version_minor": 0
      },
      "text/plain": [
       "  0%|          | 0/7 [00:00<?, ?it/s]"
      ]
     },
     "metadata": {},
     "output_type": "display_data"
    },
    {
     "name": "stdout",
     "output_type": "stream",
     "text": [
      "Epoch [24/200], train_loss: -1.4847,  train_score: 0.6059,val_loss: -0.2681,  val_score: 0.2651, genus train_score0.9454, genus val_score0.9084\n"
     ]
    },
    {
     "data": {
      "application/vnd.jupyter.widget-view+json": {
       "model_id": "40b496abf421404c90e3d8238188c0ee",
       "version_major": 2,
       "version_minor": 0
      },
      "text/plain": [
       "  0%|          | 0/14 [00:00<?, ?it/s]"
      ]
     },
     "metadata": {},
     "output_type": "display_data"
    },
    {
     "data": {
      "application/vnd.jupyter.widget-view+json": {
       "model_id": "9f349b1a3721466b99b3a28439d9b140",
       "version_major": 2,
       "version_minor": 0
      },
      "text/plain": [
       "  0%|          | 0/7 [00:00<?, ?it/s]"
      ]
     },
     "metadata": {},
     "output_type": "display_data"
    },
    {
     "name": "stdout",
     "output_type": "stream",
     "text": [
      "Epoch [25/200], train_loss: -1.5316,  train_score: 0.6208,val_loss: -0.2744,  val_score: 0.2722, genus train_score0.9488, genus val_score0.9061\n"
     ]
    },
    {
     "data": {
      "application/vnd.jupyter.widget-view+json": {
       "model_id": "51fe439e737647259d10136fc37d1fcc",
       "version_major": 2,
       "version_minor": 0
      },
      "text/plain": [
       "  0%|          | 0/14 [00:00<?, ?it/s]"
      ]
     },
     "metadata": {},
     "output_type": "display_data"
    },
    {
     "data": {
      "application/vnd.jupyter.widget-view+json": {
       "model_id": "0324fc4e61654800ad0fa92ed1a6fc44",
       "version_major": 2,
       "version_minor": 0
      },
      "text/plain": [
       "  0%|          | 0/7 [00:00<?, ?it/s]"
      ]
     },
     "metadata": {},
     "output_type": "display_data"
    },
    {
     "name": "stdout",
     "output_type": "stream",
     "text": [
      "Epoch [26/200], train_loss: -1.5620,  train_score: 0.6329,val_loss: -0.2610,  val_score: 0.2746, genus train_score0.9496, genus val_score0.9080\n"
     ]
    },
    {
     "data": {
      "application/vnd.jupyter.widget-view+json": {
       "model_id": "8fe2922d496948fa81d77c641617c8f5",
       "version_major": 2,
       "version_minor": 0
      },
      "text/plain": [
       "  0%|          | 0/14 [00:00<?, ?it/s]"
      ]
     },
     "metadata": {},
     "output_type": "display_data"
    },
    {
     "data": {
      "application/vnd.jupyter.widget-view+json": {
       "model_id": "9aa24637693c4c668b0934a01d8be5ff",
       "version_major": 2,
       "version_minor": 0
      },
      "text/plain": [
       "  0%|          | 0/7 [00:00<?, ?it/s]"
      ]
     },
     "metadata": {},
     "output_type": "display_data"
    },
    {
     "name": "stdout",
     "output_type": "stream",
     "text": [
      "Epoch [27/200], train_loss: -1.7069,  train_score: 0.6391,val_loss: -0.2699,  val_score: 0.2782, genus train_score0.9495, genus val_score0.9091\n"
     ]
    },
    {
     "data": {
      "application/vnd.jupyter.widget-view+json": {
       "model_id": "f2e5779484284dd49047bc491953e642",
       "version_major": 2,
       "version_minor": 0
      },
      "text/plain": [
       "  0%|          | 0/14 [00:00<?, ?it/s]"
      ]
     },
     "metadata": {},
     "output_type": "display_data"
    },
    {
     "data": {
      "application/vnd.jupyter.widget-view+json": {
       "model_id": "20e78c8608bb4ed08b6e1bde6e741c59",
       "version_major": 2,
       "version_minor": 0
      },
      "text/plain": [
       "  0%|          | 0/7 [00:00<?, ?it/s]"
      ]
     },
     "metadata": {},
     "output_type": "display_data"
    },
    {
     "name": "stdout",
     "output_type": "stream",
     "text": [
      "Epoch [28/200], train_loss: -1.7371,  train_score: 0.6542,val_loss: -0.2722,  val_score: 0.2881, genus train_score0.9509, genus val_score0.9114\n"
     ]
    },
    {
     "data": {
      "application/vnd.jupyter.widget-view+json": {
       "model_id": "dfcc15c2b0b340c9a92ff9e9e168fe59",
       "version_major": 2,
       "version_minor": 0
      },
      "text/plain": [
       "  0%|          | 0/14 [00:00<?, ?it/s]"
      ]
     },
     "metadata": {},
     "output_type": "display_data"
    },
    {
     "data": {
      "application/vnd.jupyter.widget-view+json": {
       "model_id": "a8eee141ae65492a98a0bcfcf636e114",
       "version_major": 2,
       "version_minor": 0
      },
      "text/plain": [
       "  0%|          | 0/7 [00:00<?, ?it/s]"
      ]
     },
     "metadata": {},
     "output_type": "display_data"
    },
    {
     "name": "stdout",
     "output_type": "stream",
     "text": [
      "Epoch [29/200], train_loss: -1.4852,  train_score: 0.6685,val_loss: -0.2970,  val_score: 0.2946, genus train_score0.9529, genus val_score0.9103\n"
     ]
    },
    {
     "data": {
      "application/vnd.jupyter.widget-view+json": {
       "model_id": "0b3355a0976e4927b623500dfeabf20e",
       "version_major": 2,
       "version_minor": 0
      },
      "text/plain": [
       "  0%|          | 0/14 [00:00<?, ?it/s]"
      ]
     },
     "metadata": {},
     "output_type": "display_data"
    },
    {
     "data": {
      "application/vnd.jupyter.widget-view+json": {
       "model_id": "67ae3c872c3c46fd972cfbd91d608bd5",
       "version_major": 2,
       "version_minor": 0
      },
      "text/plain": [
       "  0%|          | 0/7 [00:00<?, ?it/s]"
      ]
     },
     "metadata": {},
     "output_type": "display_data"
    },
    {
     "name": "stdout",
     "output_type": "stream",
     "text": [
      "Epoch [30/200], train_loss: -1.6637,  train_score: 0.6797,val_loss: -0.2887,  val_score: 0.2973, genus train_score0.9534, genus val_score0.9117\n"
     ]
    },
    {
     "data": {
      "application/vnd.jupyter.widget-view+json": {
       "model_id": "31da9ccff2f94f1c87c8e3e312acc396",
       "version_major": 2,
       "version_minor": 0
      },
      "text/plain": [
       "  0%|          | 0/14 [00:00<?, ?it/s]"
      ]
     },
     "metadata": {},
     "output_type": "display_data"
    },
    {
     "data": {
      "application/vnd.jupyter.widget-view+json": {
       "model_id": "feb6c99079c6494585307449bb42be15",
       "version_major": 2,
       "version_minor": 0
      },
      "text/plain": [
       "  0%|          | 0/7 [00:00<?, ?it/s]"
      ]
     },
     "metadata": {},
     "output_type": "display_data"
    },
    {
     "name": "stdout",
     "output_type": "stream",
     "text": [
      "Epoch [31/200], train_loss: -1.7013,  train_score: 0.6830,val_loss: -0.3061,  val_score: 0.3012, genus train_score0.9538, genus val_score0.9121\n"
     ]
    },
    {
     "data": {
      "application/vnd.jupyter.widget-view+json": {
       "model_id": "330d14e83bc0447abef0f0e61f8850f7",
       "version_major": 2,
       "version_minor": 0
      },
      "text/plain": [
       "  0%|          | 0/14 [00:00<?, ?it/s]"
      ]
     },
     "metadata": {},
     "output_type": "display_data"
    },
    {
     "data": {
      "application/vnd.jupyter.widget-view+json": {
       "model_id": "4f64d049366346b98d7ef10827c88bf4",
       "version_major": 2,
       "version_minor": 0
      },
      "text/plain": [
       "  0%|          | 0/7 [00:00<?, ?it/s]"
      ]
     },
     "metadata": {},
     "output_type": "display_data"
    },
    {
     "name": "stdout",
     "output_type": "stream",
     "text": [
      "Epoch [32/200], train_loss: -1.5011,  train_score: 0.6932,val_loss: -0.2850,  val_score: 0.3098, genus train_score0.9543, genus val_score0.9127\n"
     ]
    },
    {
     "data": {
      "application/vnd.jupyter.widget-view+json": {
       "model_id": "558fbe22543f4043916d539c643334c9",
       "version_major": 2,
       "version_minor": 0
      },
      "text/plain": [
       "  0%|          | 0/14 [00:00<?, ?it/s]"
      ]
     },
     "metadata": {},
     "output_type": "display_data"
    },
    {
     "data": {
      "application/vnd.jupyter.widget-view+json": {
       "model_id": "edb37112b52c459b856d319a77847313",
       "version_major": 2,
       "version_minor": 0
      },
      "text/plain": [
       "  0%|          | 0/7 [00:00<?, ?it/s]"
      ]
     },
     "metadata": {},
     "output_type": "display_data"
    },
    {
     "name": "stdout",
     "output_type": "stream",
     "text": [
      "Epoch [33/200], train_loss: -1.6638,  train_score: 0.7090,val_loss: -0.2961,  val_score: 0.3175, genus train_score0.9550, genus val_score0.9147\n"
     ]
    },
    {
     "data": {
      "application/vnd.jupyter.widget-view+json": {
       "model_id": "864c104a0fa1472db7e0442c122413d0",
       "version_major": 2,
       "version_minor": 0
      },
      "text/plain": [
       "  0%|          | 0/14 [00:00<?, ?it/s]"
      ]
     },
     "metadata": {},
     "output_type": "display_data"
    },
    {
     "data": {
      "application/vnd.jupyter.widget-view+json": {
       "model_id": "06ac0d70d9e74e14b608fee168481046",
       "version_major": 2,
       "version_minor": 0
      },
      "text/plain": [
       "  0%|          | 0/7 [00:00<?, ?it/s]"
      ]
     },
     "metadata": {},
     "output_type": "display_data"
    },
    {
     "name": "stdout",
     "output_type": "stream",
     "text": [
      "Epoch [34/200], train_loss: -1.6895,  train_score: 0.7182,val_loss: -0.3058,  val_score: 0.3180, genus train_score0.9566, genus val_score0.9145\n"
     ]
    },
    {
     "data": {
      "application/vnd.jupyter.widget-view+json": {
       "model_id": "e2466a49fda44aeeb39ff771c5c4f561",
       "version_major": 2,
       "version_minor": 0
      },
      "text/plain": [
       "  0%|          | 0/14 [00:00<?, ?it/s]"
      ]
     },
     "metadata": {},
     "output_type": "display_data"
    },
    {
     "data": {
      "application/vnd.jupyter.widget-view+json": {
       "model_id": "5bb7a4fcccb34bf5921aa287d8cad175",
       "version_major": 2,
       "version_minor": 0
      },
      "text/plain": [
       "  0%|          | 0/7 [00:00<?, ?it/s]"
      ]
     },
     "metadata": {},
     "output_type": "display_data"
    },
    {
     "name": "stdout",
     "output_type": "stream",
     "text": [
      "Epoch [35/200], train_loss: -1.7165,  train_score: 0.7184,val_loss: -0.3128,  val_score: 0.3183, genus train_score0.9570, genus val_score0.9126\n"
     ]
    },
    {
     "data": {
      "application/vnd.jupyter.widget-view+json": {
       "model_id": "15053134b0a246e198bb364aae2e42f0",
       "version_major": 2,
       "version_minor": 0
      },
      "text/plain": [
       "  0%|          | 0/14 [00:00<?, ?it/s]"
      ]
     },
     "metadata": {},
     "output_type": "display_data"
    },
    {
     "data": {
      "application/vnd.jupyter.widget-view+json": {
       "model_id": "4ac2c3aa51234080a64b30f60bcc7451",
       "version_major": 2,
       "version_minor": 0
      },
      "text/plain": [
       "  0%|          | 0/7 [00:00<?, ?it/s]"
      ]
     },
     "metadata": {},
     "output_type": "display_data"
    },
    {
     "name": "stdout",
     "output_type": "stream",
     "text": [
      "Epoch [36/200], train_loss: -1.5092,  train_score: 0.7245,val_loss: -0.3095,  val_score: 0.3248, genus train_score0.9577, genus val_score0.9126\n"
     ]
    },
    {
     "data": {
      "application/vnd.jupyter.widget-view+json": {
       "model_id": "3f92e8562f1640d3a0e0b1c25e686ce4",
       "version_major": 2,
       "version_minor": 0
      },
      "text/plain": [
       "  0%|          | 0/14 [00:00<?, ?it/s]"
      ]
     },
     "metadata": {},
     "output_type": "display_data"
    },
    {
     "data": {
      "application/vnd.jupyter.widget-view+json": {
       "model_id": "e7d8b0f152814bbaa07de91e35a5ab5b",
       "version_major": 2,
       "version_minor": 0
      },
      "text/plain": [
       "  0%|          | 0/7 [00:00<?, ?it/s]"
      ]
     },
     "metadata": {},
     "output_type": "display_data"
    },
    {
     "name": "stdout",
     "output_type": "stream",
     "text": [
      "Epoch [37/200], train_loss: -1.7622,  train_score: 0.7408,val_loss: -0.3031,  val_score: 0.3287, genus train_score0.9580, genus val_score0.9155\n"
     ]
    },
    {
     "data": {
      "application/vnd.jupyter.widget-view+json": {
       "model_id": "ab2799d5c8c24f5f94a19867f8e0923e",
       "version_major": 2,
       "version_minor": 0
      },
      "text/plain": [
       "  0%|          | 0/14 [00:00<?, ?it/s]"
      ]
     },
     "metadata": {},
     "output_type": "display_data"
    },
    {
     "data": {
      "application/vnd.jupyter.widget-view+json": {
       "model_id": "add881b3db3d466f942f5253dc651583",
       "version_major": 2,
       "version_minor": 0
      },
      "text/plain": [
       "  0%|          | 0/7 [00:00<?, ?it/s]"
      ]
     },
     "metadata": {},
     "output_type": "display_data"
    },
    {
     "name": "stdout",
     "output_type": "stream",
     "text": [
      "Epoch [38/200], train_loss: -1.5344,  train_score: 0.7495,val_loss: -0.3174,  val_score: 0.3300, genus train_score0.9593, genus val_score0.9152\n"
     ]
    },
    {
     "data": {
      "application/vnd.jupyter.widget-view+json": {
       "model_id": "b3b54845cdb94aca817cce732febda64",
       "version_major": 2,
       "version_minor": 0
      },
      "text/plain": [
       "  0%|          | 0/14 [00:00<?, ?it/s]"
      ]
     },
     "metadata": {},
     "output_type": "display_data"
    },
    {
     "data": {
      "application/vnd.jupyter.widget-view+json": {
       "model_id": "a4c365a7210d4491800410e6188addb2",
       "version_major": 2,
       "version_minor": 0
      },
      "text/plain": [
       "  0%|          | 0/7 [00:00<?, ?it/s]"
      ]
     },
     "metadata": {},
     "output_type": "display_data"
    },
    {
     "name": "stdout",
     "output_type": "stream",
     "text": [
      "Epoch [39/200], train_loss: -1.6591,  train_score: 0.7519,val_loss: -0.3393,  val_score: 0.3343, genus train_score0.9597, genus val_score0.9146\n"
     ]
    },
    {
     "data": {
      "application/vnd.jupyter.widget-view+json": {
       "model_id": "69e7fee745ff4fe386797d5bada6bd94",
       "version_major": 2,
       "version_minor": 0
      },
      "text/plain": [
       "  0%|          | 0/14 [00:00<?, ?it/s]"
      ]
     },
     "metadata": {},
     "output_type": "display_data"
    },
    {
     "data": {
      "application/vnd.jupyter.widget-view+json": {
       "model_id": "91edac8594d84b658b2301cad5710e11",
       "version_major": 2,
       "version_minor": 0
      },
      "text/plain": [
       "  0%|          | 0/7 [00:00<?, ?it/s]"
      ]
     },
     "metadata": {},
     "output_type": "display_data"
    },
    {
     "name": "stdout",
     "output_type": "stream",
     "text": [
      "Epoch [40/200], train_loss: -1.7110,  train_score: 0.7608,val_loss: -0.3108,  val_score: 0.3393, genus train_score0.9600, genus val_score0.9129\n"
     ]
    },
    {
     "data": {
      "application/vnd.jupyter.widget-view+json": {
       "model_id": "801d72912cd54cf4bea4a625fbf1dcea",
       "version_major": 2,
       "version_minor": 0
      },
      "text/plain": [
       "  0%|          | 0/14 [00:00<?, ?it/s]"
      ]
     },
     "metadata": {},
     "output_type": "display_data"
    },
    {
     "data": {
      "application/vnd.jupyter.widget-view+json": {
       "model_id": "06c7d5e9e8fe4b43ac3e279651cdfcb2",
       "version_major": 2,
       "version_minor": 0
      },
      "text/plain": [
       "  0%|          | 0/7 [00:00<?, ?it/s]"
      ]
     },
     "metadata": {},
     "output_type": "display_data"
    },
    {
     "name": "stdout",
     "output_type": "stream",
     "text": [
      "Epoch [41/200], train_loss: -1.7928,  train_score: 0.7686,val_loss: -0.3571,  val_score: 0.3412, genus train_score0.9611, genus val_score0.9170\n"
     ]
    },
    {
     "data": {
      "application/vnd.jupyter.widget-view+json": {
       "model_id": "af007a86377442038e65279b73a6f6ca",
       "version_major": 2,
       "version_minor": 0
      },
      "text/plain": [
       "  0%|          | 0/14 [00:00<?, ?it/s]"
      ]
     },
     "metadata": {},
     "output_type": "display_data"
    },
    {
     "data": {
      "application/vnd.jupyter.widget-view+json": {
       "model_id": "d476b5a9f9e14a4cb825ec9835257511",
       "version_major": 2,
       "version_minor": 0
      },
      "text/plain": [
       "  0%|          | 0/7 [00:00<?, ?it/s]"
      ]
     },
     "metadata": {},
     "output_type": "display_data"
    },
    {
     "name": "stdout",
     "output_type": "stream",
     "text": [
      "Epoch [42/200], train_loss: -1.7386,  train_score: 0.7734,val_loss: -0.3278,  val_score: 0.3422, genus train_score0.9620, genus val_score0.9175\n"
     ]
    },
    {
     "data": {
      "application/vnd.jupyter.widget-view+json": {
       "model_id": "3e09ec81501b4618afd1bcfc36b7ac16",
       "version_major": 2,
       "version_minor": 0
      },
      "text/plain": [
       "  0%|          | 0/14 [00:00<?, ?it/s]"
      ]
     },
     "metadata": {},
     "output_type": "display_data"
    },
    {
     "data": {
      "application/vnd.jupyter.widget-view+json": {
       "model_id": "0f058409212c45b9bee3ff0efce2a1c3",
       "version_major": 2,
       "version_minor": 0
      },
      "text/plain": [
       "  0%|          | 0/7 [00:00<?, ?it/s]"
      ]
     },
     "metadata": {},
     "output_type": "display_data"
    },
    {
     "name": "stdout",
     "output_type": "stream",
     "text": [
      "Epoch [43/200], train_loss: -1.6818,  train_score: 0.7749,val_loss: -0.3244,  val_score: 0.3436, genus train_score0.9620, genus val_score0.9168\n"
     ]
    },
    {
     "data": {
      "application/vnd.jupyter.widget-view+json": {
       "model_id": "68b56a1b082949a294af269faec9986d",
       "version_major": 2,
       "version_minor": 0
      },
      "text/plain": [
       "  0%|          | 0/14 [00:00<?, ?it/s]"
      ]
     },
     "metadata": {},
     "output_type": "display_data"
    },
    {
     "data": {
      "application/vnd.jupyter.widget-view+json": {
       "model_id": "483ba34bb2374ac987a327f78400cffb",
       "version_major": 2,
       "version_minor": 0
      },
      "text/plain": [
       "  0%|          | 0/7 [00:00<?, ?it/s]"
      ]
     },
     "metadata": {},
     "output_type": "display_data"
    },
    {
     "name": "stdout",
     "output_type": "stream",
     "text": [
      "Epoch [44/200], train_loss: -1.6610,  train_score: 0.7805,val_loss: -0.3425,  val_score: 0.3492, genus train_score0.9618, genus val_score0.9149\n"
     ]
    },
    {
     "data": {
      "application/vnd.jupyter.widget-view+json": {
       "model_id": "a091419a9ec444289f10182708ab66ed",
       "version_major": 2,
       "version_minor": 0
      },
      "text/plain": [
       "  0%|          | 0/14 [00:00<?, ?it/s]"
      ]
     },
     "metadata": {},
     "output_type": "display_data"
    },
    {
     "data": {
      "application/vnd.jupyter.widget-view+json": {
       "model_id": "da4cc96300a64e9fb84384ce7e4c8fe1",
       "version_major": 2,
       "version_minor": 0
      },
      "text/plain": [
       "  0%|          | 0/7 [00:00<?, ?it/s]"
      ]
     },
     "metadata": {},
     "output_type": "display_data"
    },
    {
     "name": "stdout",
     "output_type": "stream",
     "text": [
      "Epoch [45/200], train_loss: -1.6929,  train_score: 0.7935,val_loss: -0.3356,  val_score: 0.3527, genus train_score0.9629, genus val_score0.9113\n"
     ]
    },
    {
     "data": {
      "application/vnd.jupyter.widget-view+json": {
       "model_id": "905dfbd4ace44419abc8738b0e007592",
       "version_major": 2,
       "version_minor": 0
      },
      "text/plain": [
       "  0%|          | 0/14 [00:00<?, ?it/s]"
      ]
     },
     "metadata": {},
     "output_type": "display_data"
    },
    {
     "data": {
      "application/vnd.jupyter.widget-view+json": {
       "model_id": "150ea33d833e4dd482e840a46ebefb91",
       "version_major": 2,
       "version_minor": 0
      },
      "text/plain": [
       "  0%|          | 0/7 [00:00<?, ?it/s]"
      ]
     },
     "metadata": {},
     "output_type": "display_data"
    },
    {
     "name": "stdout",
     "output_type": "stream",
     "text": [
      "Epoch [46/200], train_loss: -1.8636,  train_score: 0.8001,val_loss: -0.3425,  val_score: 0.3543, genus train_score0.9628, genus val_score0.9111\n"
     ]
    },
    {
     "data": {
      "application/vnd.jupyter.widget-view+json": {
       "model_id": "b636aa55e46e4c6fa1cd63aea765bc84",
       "version_major": 2,
       "version_minor": 0
      },
      "text/plain": [
       "  0%|          | 0/14 [00:00<?, ?it/s]"
      ]
     },
     "metadata": {},
     "output_type": "display_data"
    },
    {
     "data": {
      "application/vnd.jupyter.widget-view+json": {
       "model_id": "158c52abd60946dfa5785cd56d4467fb",
       "version_major": 2,
       "version_minor": 0
      },
      "text/plain": [
       "  0%|          | 0/7 [00:00<?, ?it/s]"
      ]
     },
     "metadata": {},
     "output_type": "display_data"
    },
    {
     "name": "stdout",
     "output_type": "stream",
     "text": [
      "Epoch [47/200], train_loss: -1.9220,  train_score: 0.8026,val_loss: -0.3586,  val_score: 0.3554, genus train_score0.9630, genus val_score0.9124\n"
     ]
    },
    {
     "data": {
      "application/vnd.jupyter.widget-view+json": {
       "model_id": "f3f1f7087de3412ab273db8d4ca91174",
       "version_major": 2,
       "version_minor": 0
      },
      "text/plain": [
       "  0%|          | 0/14 [00:00<?, ?it/s]"
      ]
     },
     "metadata": {},
     "output_type": "display_data"
    },
    {
     "data": {
      "application/vnd.jupyter.widget-view+json": {
       "model_id": "819689c418034369b52bfe6541fbf662",
       "version_major": 2,
       "version_minor": 0
      },
      "text/plain": [
       "  0%|          | 0/7 [00:00<?, ?it/s]"
      ]
     },
     "metadata": {},
     "output_type": "display_data"
    },
    {
     "name": "stdout",
     "output_type": "stream",
     "text": [
      "Epoch [48/200], train_loss: -1.7934,  train_score: 0.8088,val_loss: -0.3691,  val_score: 0.3579, genus train_score0.9638, genus val_score0.9163\n"
     ]
    },
    {
     "data": {
      "application/vnd.jupyter.widget-view+json": {
       "model_id": "320fcb36d0214520a150be444d47855a",
       "version_major": 2,
       "version_minor": 0
      },
      "text/plain": [
       "  0%|          | 0/14 [00:00<?, ?it/s]"
      ]
     },
     "metadata": {},
     "output_type": "display_data"
    },
    {
     "data": {
      "application/vnd.jupyter.widget-view+json": {
       "model_id": "a79f3a4b07a54660b061cfb815379b2a",
       "version_major": 2,
       "version_minor": 0
      },
      "text/plain": [
       "  0%|          | 0/7 [00:00<?, ?it/s]"
      ]
     },
     "metadata": {},
     "output_type": "display_data"
    },
    {
     "name": "stdout",
     "output_type": "stream",
     "text": [
      "Epoch [49/200], train_loss: -1.7903,  train_score: 0.8190,val_loss: -0.3756,  val_score: 0.3639, genus train_score0.9640, genus val_score0.9172\n"
     ]
    },
    {
     "data": {
      "application/vnd.jupyter.widget-view+json": {
       "model_id": "f6f7b8ad590e4008b71bf1e8e2049edb",
       "version_major": 2,
       "version_minor": 0
      },
      "text/plain": [
       "  0%|          | 0/14 [00:00<?, ?it/s]"
      ]
     },
     "metadata": {},
     "output_type": "display_data"
    },
    {
     "data": {
      "application/vnd.jupyter.widget-view+json": {
       "model_id": "2ed5b457b4494c95b6ebe03c970bcf17",
       "version_major": 2,
       "version_minor": 0
      },
      "text/plain": [
       "  0%|          | 0/7 [00:00<?, ?it/s]"
      ]
     },
     "metadata": {},
     "output_type": "display_data"
    },
    {
     "name": "stdout",
     "output_type": "stream",
     "text": [
      "Epoch [50/200], train_loss: -1.7936,  train_score: 0.8260,val_loss: -0.3717,  val_score: 0.3643, genus train_score0.9641, genus val_score0.9175\n"
     ]
    },
    {
     "data": {
      "application/vnd.jupyter.widget-view+json": {
       "model_id": "aded4623f76944f3b8b84facf79965c6",
       "version_major": 2,
       "version_minor": 0
      },
      "text/plain": [
       "  0%|          | 0/14 [00:00<?, ?it/s]"
      ]
     },
     "metadata": {},
     "output_type": "display_data"
    },
    {
     "data": {
      "application/vnd.jupyter.widget-view+json": {
       "model_id": "f517ded843d94f88930d0c7a75ef1ddd",
       "version_major": 2,
       "version_minor": 0
      },
      "text/plain": [
       "  0%|          | 0/7 [00:00<?, ?it/s]"
      ]
     },
     "metadata": {},
     "output_type": "display_data"
    },
    {
     "name": "stdout",
     "output_type": "stream",
     "text": [
      "Epoch [51/200], train_loss: -1.8453,  train_score: 0.8274,val_loss: -0.3640,  val_score: 0.3661, genus train_score0.9643, genus val_score0.9170\n"
     ]
    },
    {
     "data": {
      "application/vnd.jupyter.widget-view+json": {
       "model_id": "e683616836d648f6af752551441f081c",
       "version_major": 2,
       "version_minor": 0
      },
      "text/plain": [
       "  0%|          | 0/14 [00:00<?, ?it/s]"
      ]
     },
     "metadata": {},
     "output_type": "display_data"
    },
    {
     "data": {
      "application/vnd.jupyter.widget-view+json": {
       "model_id": "5e233063cabe4824b423fef45dc11867",
       "version_major": 2,
       "version_minor": 0
      },
      "text/plain": [
       "  0%|          | 0/7 [00:00<?, ?it/s]"
      ]
     },
     "metadata": {},
     "output_type": "display_data"
    },
    {
     "name": "stdout",
     "output_type": "stream",
     "text": [
      "Epoch [52/200], train_loss: -1.8944,  train_score: 0.8318,val_loss: -0.3756,  val_score: 0.3711, genus train_score0.9640, genus val_score0.9162\n"
     ]
    },
    {
     "data": {
      "application/vnd.jupyter.widget-view+json": {
       "model_id": "ad20dd6aa012479580c27ea3a6d3d6a3",
       "version_major": 2,
       "version_minor": 0
      },
      "text/plain": [
       "  0%|          | 0/14 [00:00<?, ?it/s]"
      ]
     },
     "metadata": {},
     "output_type": "display_data"
    },
    {
     "data": {
      "application/vnd.jupyter.widget-view+json": {
       "model_id": "7618dd7cf43f4daaacac49cea9d1b6e8",
       "version_major": 2,
       "version_minor": 0
      },
      "text/plain": [
       "  0%|          | 0/7 [00:00<?, ?it/s]"
      ]
     },
     "metadata": {},
     "output_type": "display_data"
    },
    {
     "name": "stdout",
     "output_type": "stream",
     "text": [
      "Epoch [53/200], train_loss: -1.8191,  train_score: 0.8426,val_loss: -0.3330,  val_score: 0.3771, genus train_score0.9646, genus val_score0.9152\n"
     ]
    },
    {
     "data": {
      "application/vnd.jupyter.widget-view+json": {
       "model_id": "6a0157684a9a4f91b02fe6c0e03a4b5a",
       "version_major": 2,
       "version_minor": 0
      },
      "text/plain": [
       "  0%|          | 0/14 [00:00<?, ?it/s]"
      ]
     },
     "metadata": {},
     "output_type": "display_data"
    },
    {
     "data": {
      "application/vnd.jupyter.widget-view+json": {
       "model_id": "836af6bbf9e14ac19fce3959f1c43210",
       "version_major": 2,
       "version_minor": 0
      },
      "text/plain": [
       "  0%|          | 0/7 [00:00<?, ?it/s]"
      ]
     },
     "metadata": {},
     "output_type": "display_data"
    },
    {
     "name": "stdout",
     "output_type": "stream",
     "text": [
      "Epoch [54/200], train_loss: -1.7329,  train_score: 0.8489,val_loss: -0.3783,  val_score: 0.3779, genus train_score0.9646, genus val_score0.9156\n"
     ]
    },
    {
     "data": {
      "application/vnd.jupyter.widget-view+json": {
       "model_id": "50f44690c3854a558469d812043e0845",
       "version_major": 2,
       "version_minor": 0
      },
      "text/plain": [
       "  0%|          | 0/14 [00:00<?, ?it/s]"
      ]
     },
     "metadata": {},
     "output_type": "display_data"
    },
    {
     "data": {
      "application/vnd.jupyter.widget-view+json": {
       "model_id": "8a367b077f1f4d8e92d6bfc7e986aecb",
       "version_major": 2,
       "version_minor": 0
      },
      "text/plain": [
       "  0%|          | 0/7 [00:00<?, ?it/s]"
      ]
     },
     "metadata": {},
     "output_type": "display_data"
    },
    {
     "name": "stdout",
     "output_type": "stream",
     "text": [
      "Epoch [55/200], train_loss: -1.8455,  train_score: 0.8503,val_loss: -0.3980,  val_score: 0.3784, genus train_score0.9651, genus val_score0.9150\n"
     ]
    },
    {
     "data": {
      "application/vnd.jupyter.widget-view+json": {
       "model_id": "ec29cdaa8acd4cf7ba912a309e2b78c4",
       "version_major": 2,
       "version_minor": 0
      },
      "text/plain": [
       "  0%|          | 0/14 [00:00<?, ?it/s]"
      ]
     },
     "metadata": {},
     "output_type": "display_data"
    },
    {
     "data": {
      "application/vnd.jupyter.widget-view+json": {
       "model_id": "32e823f4c64c45ab9fad49f888b53dab",
       "version_major": 2,
       "version_minor": 0
      },
      "text/plain": [
       "  0%|          | 0/7 [00:00<?, ?it/s]"
      ]
     },
     "metadata": {},
     "output_type": "display_data"
    },
    {
     "name": "stdout",
     "output_type": "stream",
     "text": [
      "Epoch [56/200], train_loss: -1.8950,  train_score: 0.8523,val_loss: -0.3740,  val_score: 0.3793, genus train_score0.9651, genus val_score0.9145\n"
     ]
    },
    {
     "data": {
      "application/vnd.jupyter.widget-view+json": {
       "model_id": "36234f5c715745c59922e2321d237f17",
       "version_major": 2,
       "version_minor": 0
      },
      "text/plain": [
       "  0%|          | 0/14 [00:00<?, ?it/s]"
      ]
     },
     "metadata": {},
     "output_type": "display_data"
    },
    {
     "data": {
      "application/vnd.jupyter.widget-view+json": {
       "model_id": "52a9d54a3f11487599250d1d4a819f60",
       "version_major": 2,
       "version_minor": 0
      },
      "text/plain": [
       "  0%|          | 0/7 [00:00<?, ?it/s]"
      ]
     },
     "metadata": {},
     "output_type": "display_data"
    },
    {
     "name": "stdout",
     "output_type": "stream",
     "text": [
      "Epoch [57/200], train_loss: -1.7678,  train_score: 0.8610,val_loss: -0.3564,  val_score: 0.3882, genus train_score0.9659, genus val_score0.9121\n"
     ]
    },
    {
     "data": {
      "application/vnd.jupyter.widget-view+json": {
       "model_id": "aeb0358bf7f84380801d05a957483167",
       "version_major": 2,
       "version_minor": 0
      },
      "text/plain": [
       "  0%|          | 0/14 [00:00<?, ?it/s]"
      ]
     },
     "metadata": {},
     "output_type": "display_data"
    },
    {
     "data": {
      "application/vnd.jupyter.widget-view+json": {
       "model_id": "fb5983a538754a0e8d2c12b6f974e006",
       "version_major": 2,
       "version_minor": 0
      },
      "text/plain": [
       "  0%|          | 0/7 [00:00<?, ?it/s]"
      ]
     },
     "metadata": {},
     "output_type": "display_data"
    },
    {
     "name": "stdout",
     "output_type": "stream",
     "text": [
      "Epoch [58/200], train_loss: -1.8440,  train_score: 0.8695,val_loss: -0.3975,  val_score: 0.3894, genus train_score0.9663, genus val_score0.9127\n"
     ]
    },
    {
     "data": {
      "application/vnd.jupyter.widget-view+json": {
       "model_id": "f6bfb67b145a4cbcaaa44eb544e992d7",
       "version_major": 2,
       "version_minor": 0
      },
      "text/plain": [
       "  0%|          | 0/14 [00:00<?, ?it/s]"
      ]
     },
     "metadata": {},
     "output_type": "display_data"
    },
    {
     "data": {
      "application/vnd.jupyter.widget-view+json": {
       "model_id": "686197e54d044e8a9b3c715d4e3f7c76",
       "version_major": 2,
       "version_minor": 0
      },
      "text/plain": [
       "  0%|          | 0/7 [00:00<?, ?it/s]"
      ]
     },
     "metadata": {},
     "output_type": "display_data"
    },
    {
     "name": "stdout",
     "output_type": "stream",
     "text": [
      "Epoch [59/200], train_loss: -1.8437,  train_score: 0.8718,val_loss: -0.3974,  val_score: 0.3902, genus train_score0.9664, genus val_score0.9133\n"
     ]
    },
    {
     "data": {
      "application/vnd.jupyter.widget-view+json": {
       "model_id": "8cf71538b0a144239396f99942246115",
       "version_major": 2,
       "version_minor": 0
      },
      "text/plain": [
       "  0%|          | 0/14 [00:00<?, ?it/s]"
      ]
     },
     "metadata": {},
     "output_type": "display_data"
    },
    {
     "data": {
      "application/vnd.jupyter.widget-view+json": {
       "model_id": "62c209853475451fa2414962d0d3e320",
       "version_major": 2,
       "version_minor": 0
      },
      "text/plain": [
       "  0%|          | 0/7 [00:00<?, ?it/s]"
      ]
     },
     "metadata": {},
     "output_type": "display_data"
    },
    {
     "name": "stdout",
     "output_type": "stream",
     "text": [
      "Epoch [60/200], train_loss: -1.8388,  train_score: 0.8755,val_loss: -0.4036,  val_score: 0.3950, genus train_score0.9670, genus val_score0.9137\n"
     ]
    },
    {
     "data": {
      "application/vnd.jupyter.widget-view+json": {
       "model_id": "a14ed02a52fe46659d762d0adac0e8bb",
       "version_major": 2,
       "version_minor": 0
      },
      "text/plain": [
       "  0%|          | 0/14 [00:00<?, ?it/s]"
      ]
     },
     "metadata": {},
     "output_type": "display_data"
    },
    {
     "data": {
      "application/vnd.jupyter.widget-view+json": {
       "model_id": "67c68e3fc0c341789895981d1f822fa3",
       "version_major": 2,
       "version_minor": 0
      },
      "text/plain": [
       "  0%|          | 0/7 [00:00<?, ?it/s]"
      ]
     },
     "metadata": {},
     "output_type": "display_data"
    },
    {
     "name": "stdout",
     "output_type": "stream",
     "text": [
      "Epoch [61/200], train_loss: -1.8429,  train_score: 0.8846,val_loss: -0.4042,  val_score: 0.3965, genus train_score0.9673, genus val_score0.9149\n"
     ]
    },
    {
     "data": {
      "application/vnd.jupyter.widget-view+json": {
       "model_id": "2727b823bed7414c92d55413ce6bf2b3",
       "version_major": 2,
       "version_minor": 0
      },
      "text/plain": [
       "  0%|          | 0/14 [00:00<?, ?it/s]"
      ]
     },
     "metadata": {},
     "output_type": "display_data"
    },
    {
     "data": {
      "application/vnd.jupyter.widget-view+json": {
       "model_id": "7181eb1daa0c421d93c988fd65058786",
       "version_major": 2,
       "version_minor": 0
      },
      "text/plain": [
       "  0%|          | 0/7 [00:00<?, ?it/s]"
      ]
     },
     "metadata": {},
     "output_type": "display_data"
    },
    {
     "name": "stdout",
     "output_type": "stream",
     "text": [
      "Epoch [62/200], train_loss: -1.7684,  train_score: 0.8883,val_loss: -0.3760,  val_score: 0.3973, genus train_score0.9674, genus val_score0.9163\n"
     ]
    },
    {
     "data": {
      "application/vnd.jupyter.widget-view+json": {
       "model_id": "53eefe4807e24da6bef13b0acc8961c7",
       "version_major": 2,
       "version_minor": 0
      },
      "text/plain": [
       "  0%|          | 0/14 [00:00<?, ?it/s]"
      ]
     },
     "metadata": {},
     "output_type": "display_data"
    },
    {
     "data": {
      "application/vnd.jupyter.widget-view+json": {
       "model_id": "9d39c12bfc0344e3a31c312f377f6800",
       "version_major": 2,
       "version_minor": 0
      },
      "text/plain": [
       "  0%|          | 0/7 [00:00<?, ?it/s]"
      ]
     },
     "metadata": {},
     "output_type": "display_data"
    },
    {
     "name": "stdout",
     "output_type": "stream",
     "text": [
      "Epoch [63/200], train_loss: -1.8710,  train_score: 0.8886,val_loss: -0.3821,  val_score: 0.3974, genus train_score0.9671, genus val_score0.9172\n"
     ]
    },
    {
     "data": {
      "application/vnd.jupyter.widget-view+json": {
       "model_id": "d479bb70dde948e6a3741da1a6a93622",
       "version_major": 2,
       "version_minor": 0
      },
      "text/plain": [
       "  0%|          | 0/14 [00:00<?, ?it/s]"
      ]
     },
     "metadata": {},
     "output_type": "display_data"
    },
    {
     "data": {
      "application/vnd.jupyter.widget-view+json": {
       "model_id": "00572e6ffc2d4d9e92e01c9062c965aa",
       "version_major": 2,
       "version_minor": 0
      },
      "text/plain": [
       "  0%|          | 0/7 [00:00<?, ?it/s]"
      ]
     },
     "metadata": {},
     "output_type": "display_data"
    },
    {
     "name": "stdout",
     "output_type": "stream",
     "text": [
      "Epoch [64/200], train_loss: -1.9675,  train_score: 0.8913,val_loss: -0.3740,  val_score: 0.4004, genus train_score0.9673, genus val_score0.9146\n"
     ]
    },
    {
     "data": {
      "application/vnd.jupyter.widget-view+json": {
       "model_id": "b35946ed0f9340deabce33c45246b9f5",
       "version_major": 2,
       "version_minor": 0
      },
      "text/plain": [
       "  0%|          | 0/14 [00:00<?, ?it/s]"
      ]
     },
     "metadata": {},
     "output_type": "display_data"
    },
    {
     "data": {
      "application/vnd.jupyter.widget-view+json": {
       "model_id": "e6770ec1f374494dbacc4ef648e29016",
       "version_major": 2,
       "version_minor": 0
      },
      "text/plain": [
       "  0%|          | 0/7 [00:00<?, ?it/s]"
      ]
     },
     "metadata": {},
     "output_type": "display_data"
    },
    {
     "name": "stdout",
     "output_type": "stream",
     "text": [
      "Epoch [65/200], train_loss: -1.8958,  train_score: 0.8947,val_loss: -0.4060,  val_score: 0.4022, genus train_score0.9670, genus val_score0.9175\n"
     ]
    },
    {
     "data": {
      "application/vnd.jupyter.widget-view+json": {
       "model_id": "c5cadf91d2a9452593243b8fe2fed91e",
       "version_major": 2,
       "version_minor": 0
      },
      "text/plain": [
       "  0%|          | 0/14 [00:00<?, ?it/s]"
      ]
     },
     "metadata": {},
     "output_type": "display_data"
    },
    {
     "data": {
      "application/vnd.jupyter.widget-view+json": {
       "model_id": "2fa7e861d71e4c4b8f107ccd590e7960",
       "version_major": 2,
       "version_minor": 0
      },
      "text/plain": [
       "  0%|          | 0/7 [00:00<?, ?it/s]"
      ]
     },
     "metadata": {},
     "output_type": "display_data"
    },
    {
     "name": "stdout",
     "output_type": "stream",
     "text": [
      "Epoch [66/200], train_loss: -1.8944,  train_score: 0.8982,val_loss: -0.4221,  val_score: 0.4022, genus train_score0.9673, genus val_score0.9179\n"
     ]
    },
    {
     "data": {
      "application/vnd.jupyter.widget-view+json": {
       "model_id": "2aea7c4ad7a548bba5d1edfbc7fd2099",
       "version_major": 2,
       "version_minor": 0
      },
      "text/plain": [
       "  0%|          | 0/14 [00:00<?, ?it/s]"
      ]
     },
     "metadata": {},
     "output_type": "display_data"
    },
    {
     "data": {
      "application/vnd.jupyter.widget-view+json": {
       "model_id": "f7d36151a6a34c659c85f43a8dbb5c7e",
       "version_major": 2,
       "version_minor": 0
      },
      "text/plain": [
       "  0%|          | 0/7 [00:00<?, ?it/s]"
      ]
     },
     "metadata": {},
     "output_type": "display_data"
    },
    {
     "name": "stdout",
     "output_type": "stream",
     "text": [
      "Epoch [67/200], train_loss: -1.8968,  train_score: 0.8985,val_loss: -0.3828,  val_score: 0.4024, genus train_score0.9673, genus val_score0.9182\n"
     ]
    },
    {
     "data": {
      "application/vnd.jupyter.widget-view+json": {
       "model_id": "4b89856eb4554efa89af91627a303bd7",
       "version_major": 2,
       "version_minor": 0
      },
      "text/plain": [
       "  0%|          | 0/14 [00:00<?, ?it/s]"
      ]
     },
     "metadata": {},
     "output_type": "display_data"
    },
    {
     "data": {
      "application/vnd.jupyter.widget-view+json": {
       "model_id": "5fcc1137753e4d5aa5d71edb73b82974",
       "version_major": 2,
       "version_minor": 0
      },
      "text/plain": [
       "  0%|          | 0/7 [00:00<?, ?it/s]"
      ]
     },
     "metadata": {},
     "output_type": "display_data"
    },
    {
     "name": "stdout",
     "output_type": "stream",
     "text": [
      "Epoch [68/200], train_loss: -1.8713,  train_score: 0.9001,val_loss: -0.4009,  val_score: 0.4056, genus train_score0.9676, genus val_score0.9176\n"
     ]
    },
    {
     "data": {
      "application/vnd.jupyter.widget-view+json": {
       "model_id": "f3eec5a91fc347bca02e8d781f179530",
       "version_major": 2,
       "version_minor": 0
      },
      "text/plain": [
       "  0%|          | 0/14 [00:00<?, ?it/s]"
      ]
     },
     "metadata": {},
     "output_type": "display_data"
    },
    {
     "data": {
      "application/vnd.jupyter.widget-view+json": {
       "model_id": "f9a5c0d3e4fa49ce94a19706d0c5c5e0",
       "version_major": 2,
       "version_minor": 0
      },
      "text/plain": [
       "  0%|          | 0/7 [00:00<?, ?it/s]"
      ]
     },
     "metadata": {},
     "output_type": "display_data"
    },
    {
     "name": "stdout",
     "output_type": "stream",
     "text": [
      "Epoch [69/200], train_loss: -1.9206,  train_score: 0.9064,val_loss: -0.4167,  val_score: 0.4078, genus train_score0.9687, genus val_score0.9146\n"
     ]
    },
    {
     "data": {
      "application/vnd.jupyter.widget-view+json": {
       "model_id": "156aadce99944f639b2010b6f1c532a1",
       "version_major": 2,
       "version_minor": 0
      },
      "text/plain": [
       "  0%|          | 0/14 [00:00<?, ?it/s]"
      ]
     },
     "metadata": {},
     "output_type": "display_data"
    },
    {
     "data": {
      "application/vnd.jupyter.widget-view+json": {
       "model_id": "fca644bb58994675986675817e53dc4d",
       "version_major": 2,
       "version_minor": 0
      },
      "text/plain": [
       "  0%|          | 0/7 [00:00<?, ?it/s]"
      ]
     },
     "metadata": {},
     "output_type": "display_data"
    },
    {
     "name": "stdout",
     "output_type": "stream",
     "text": [
      "Epoch [70/200], train_loss: -1.5893,  train_score: 0.9106,val_loss: -0.4108,  val_score: 0.4083, genus train_score0.9689, genus val_score0.9149\n"
     ]
    },
    {
     "data": {
      "application/vnd.jupyter.widget-view+json": {
       "model_id": "36543b44297b4d9d9edbe49ac9c3289f",
       "version_major": 2,
       "version_minor": 0
      },
      "text/plain": [
       "  0%|          | 0/14 [00:00<?, ?it/s]"
      ]
     },
     "metadata": {},
     "output_type": "display_data"
    },
    {
     "data": {
      "application/vnd.jupyter.widget-view+json": {
       "model_id": "c9157c4c19dc46cb9f4eb4a3aba18969",
       "version_major": 2,
       "version_minor": 0
      },
      "text/plain": [
       "  0%|          | 0/7 [00:00<?, ?it/s]"
      ]
     },
     "metadata": {},
     "output_type": "display_data"
    },
    {
     "name": "stdout",
     "output_type": "stream",
     "text": [
      "Epoch [71/200], train_loss: -1.7942,  train_score: 0.9120,val_loss: -0.3967,  val_score: 0.4092, genus train_score0.9690, genus val_score0.9162\n"
     ]
    },
    {
     "data": {
      "application/vnd.jupyter.widget-view+json": {
       "model_id": "511fa3e8f9e54bca886ff2d51e55221a",
       "version_major": 2,
       "version_minor": 0
      },
      "text/plain": [
       "  0%|          | 0/14 [00:00<?, ?it/s]"
      ]
     },
     "metadata": {},
     "output_type": "display_data"
    },
    {
     "data": {
      "application/vnd.jupyter.widget-view+json": {
       "model_id": "293cf417965841fb9560a77d264ab735",
       "version_major": 2,
       "version_minor": 0
      },
      "text/plain": [
       "  0%|          | 0/7 [00:00<?, ?it/s]"
      ]
     },
     "metadata": {},
     "output_type": "display_data"
    },
    {
     "name": "stdout",
     "output_type": "stream",
     "text": [
      "Epoch [72/200], train_loss: -1.9225,  train_score: 0.9137,val_loss: -0.4075,  val_score: 0.4137, genus train_score0.9690, genus val_score0.9155\n"
     ]
    },
    {
     "data": {
      "application/vnd.jupyter.widget-view+json": {
       "model_id": "854b6423ca35466db62831039dbb4baf",
       "version_major": 2,
       "version_minor": 0
      },
      "text/plain": [
       "  0%|          | 0/14 [00:00<?, ?it/s]"
      ]
     },
     "metadata": {},
     "output_type": "display_data"
    },
    {
     "data": {
      "application/vnd.jupyter.widget-view+json": {
       "model_id": "54312d0c906d458eb1ae62cf790ddc7a",
       "version_major": 2,
       "version_minor": 0
      },
      "text/plain": [
       "  0%|          | 0/7 [00:00<?, ?it/s]"
      ]
     },
     "metadata": {},
     "output_type": "display_data"
    },
    {
     "name": "stdout",
     "output_type": "stream",
     "text": [
      "Epoch [73/200], train_loss: -1.8722,  train_score: 0.9178,val_loss: -0.4205,  val_score: 0.4145, genus train_score0.9691, genus val_score0.9156\n"
     ]
    },
    {
     "data": {
      "application/vnd.jupyter.widget-view+json": {
       "model_id": "a51bfb4193c94467bea9bfa1486c9fd1",
       "version_major": 2,
       "version_minor": 0
      },
      "text/plain": [
       "  0%|          | 0/14 [00:00<?, ?it/s]"
      ]
     },
     "metadata": {},
     "output_type": "display_data"
    },
    {
     "data": {
      "application/vnd.jupyter.widget-view+json": {
       "model_id": "606cf08fe43e4897bbbd0c3a0608633b",
       "version_major": 2,
       "version_minor": 0
      },
      "text/plain": [
       "  0%|          | 0/7 [00:00<?, ?it/s]"
      ]
     },
     "metadata": {},
     "output_type": "display_data"
    },
    {
     "name": "stdout",
     "output_type": "stream",
     "text": [
      "Epoch [74/200], train_loss: -1.9222,  train_score: 0.9187,val_loss: -0.4123,  val_score: 0.4150, genus train_score0.9690, genus val_score0.9159\n"
     ]
    },
    {
     "data": {
      "application/vnd.jupyter.widget-view+json": {
       "model_id": "b2b3e11dfaf04f1ea18ca8298c0e7563",
       "version_major": 2,
       "version_minor": 0
      },
      "text/plain": [
       "  0%|          | 0/14 [00:00<?, ?it/s]"
      ]
     },
     "metadata": {},
     "output_type": "display_data"
    },
    {
     "data": {
      "application/vnd.jupyter.widget-view+json": {
       "model_id": "7ad9157c22224def979146edb1f88cc6",
       "version_major": 2,
       "version_minor": 0
      },
      "text/plain": [
       "  0%|          | 0/7 [00:00<?, ?it/s]"
      ]
     },
     "metadata": {},
     "output_type": "display_data"
    },
    {
     "name": "stdout",
     "output_type": "stream",
     "text": [
      "Epoch [75/200], train_loss: -1.8952,  train_score: 0.9209,val_loss: -0.4338,  val_score: 0.4160, genus train_score0.9690, genus val_score0.9156\n"
     ]
    },
    {
     "data": {
      "application/vnd.jupyter.widget-view+json": {
       "model_id": "befd72c96ded48d5a18edf9c5bba9311",
       "version_major": 2,
       "version_minor": 0
      },
      "text/plain": [
       "  0%|          | 0/14 [00:00<?, ?it/s]"
      ]
     },
     "metadata": {},
     "output_type": "display_data"
    },
    {
     "data": {
      "application/vnd.jupyter.widget-view+json": {
       "model_id": "3fb3cbf213774b9596b1cbf9a7f454fa",
       "version_major": 2,
       "version_minor": 0
      },
      "text/plain": [
       "  0%|          | 0/7 [00:00<?, ?it/s]"
      ]
     },
     "metadata": {},
     "output_type": "display_data"
    },
    {
     "name": "stdout",
     "output_type": "stream",
     "text": [
      "Epoch [76/200], train_loss: -1.9224,  train_score: 0.9222,val_loss: -0.4431,  val_score: 0.4167, genus train_score0.9691, genus val_score0.9126\n"
     ]
    },
    {
     "data": {
      "application/vnd.jupyter.widget-view+json": {
       "model_id": "c10ff720a8d340a2935b140e8d962eee",
       "version_major": 2,
       "version_minor": 0
      },
      "text/plain": [
       "  0%|          | 0/14 [00:00<?, ?it/s]"
      ]
     },
     "metadata": {},
     "output_type": "display_data"
    },
    {
     "data": {
      "application/vnd.jupyter.widget-view+json": {
       "model_id": "6e0eac22ef4542528eff183a0edd6b7e",
       "version_major": 2,
       "version_minor": 0
      },
      "text/plain": [
       "  0%|          | 0/7 [00:00<?, ?it/s]"
      ]
     },
     "metadata": {},
     "output_type": "display_data"
    },
    {
     "name": "stdout",
     "output_type": "stream",
     "text": [
      "Epoch [77/200], train_loss: -1.9213,  train_score: 0.9228,val_loss: -0.4272,  val_score: 0.4180, genus train_score0.9695, genus val_score0.9107\n"
     ]
    },
    {
     "data": {
      "application/vnd.jupyter.widget-view+json": {
       "model_id": "e43bb64677cf43f58d47ba4ddf1c327f",
       "version_major": 2,
       "version_minor": 0
      },
      "text/plain": [
       "  0%|          | 0/14 [00:00<?, ?it/s]"
      ]
     },
     "metadata": {},
     "output_type": "display_data"
    },
    {
     "data": {
      "application/vnd.jupyter.widget-view+json": {
       "model_id": "746a0529065f40eda473c847fb42e988",
       "version_major": 2,
       "version_minor": 0
      },
      "text/plain": [
       "  0%|          | 0/7 [00:00<?, ?it/s]"
      ]
     },
     "metadata": {},
     "output_type": "display_data"
    },
    {
     "name": "stdout",
     "output_type": "stream",
     "text": [
      "Epoch [78/200], train_loss: -1.9227,  train_score: 0.9239,val_loss: -0.4072,  val_score: 0.4180, genus train_score0.9696, genus val_score0.9116\n"
     ]
    },
    {
     "data": {
      "application/vnd.jupyter.widget-view+json": {
       "model_id": "819f7a8f3d304949bf5b3db7fcf60312",
       "version_major": 2,
       "version_minor": 0
      },
      "text/plain": [
       "  0%|          | 0/14 [00:00<?, ?it/s]"
      ]
     },
     "metadata": {},
     "output_type": "display_data"
    },
    {
     "data": {
      "application/vnd.jupyter.widget-view+json": {
       "model_id": "97aae9fd3fbe40d192520427de97a94a",
       "version_major": 2,
       "version_minor": 0
      },
      "text/plain": [
       "  0%|          | 0/7 [00:00<?, ?it/s]"
      ]
     },
     "metadata": {},
     "output_type": "display_data"
    },
    {
     "name": "stdout",
     "output_type": "stream",
     "text": [
      "Epoch [79/200], train_loss: -1.8854,  train_score: 0.9243,val_loss: -0.4039,  val_score: 0.4183, genus train_score0.9697, genus val_score0.9124\n"
     ]
    },
    {
     "data": {
      "application/vnd.jupyter.widget-view+json": {
       "model_id": "92509676a747488b8bb141b153bcda19",
       "version_major": 2,
       "version_minor": 0
      },
      "text/plain": [
       "  0%|          | 0/14 [00:00<?, ?it/s]"
      ]
     },
     "metadata": {},
     "output_type": "display_data"
    },
    {
     "data": {
      "application/vnd.jupyter.widget-view+json": {
       "model_id": "5df2737fb0ae4c23ad9cec422da57714",
       "version_major": 2,
       "version_minor": 0
      },
      "text/plain": [
       "  0%|          | 0/7 [00:00<?, ?it/s]"
      ]
     },
     "metadata": {},
     "output_type": "display_data"
    },
    {
     "name": "stdout",
     "output_type": "stream",
     "text": [
      "Epoch [80/200], train_loss: -1.9646,  train_score: 0.9255,val_loss: -0.4137,  val_score: 0.4193, genus train_score0.9696, genus val_score0.9159\n"
     ]
    },
    {
     "data": {
      "application/vnd.jupyter.widget-view+json": {
       "model_id": "afa8c81ba4874209a3d3ef4fbf4609fc",
       "version_major": 2,
       "version_minor": 0
      },
      "text/plain": [
       "  0%|          | 0/14 [00:00<?, ?it/s]"
      ]
     },
     "metadata": {},
     "output_type": "display_data"
    },
    {
     "data": {
      "application/vnd.jupyter.widget-view+json": {
       "model_id": "9604c81c1c9b4bbca7b6126b3bf3cdf9",
       "version_major": 2,
       "version_minor": 0
      },
      "text/plain": [
       "  0%|          | 0/7 [00:00<?, ?it/s]"
      ]
     },
     "metadata": {},
     "output_type": "display_data"
    },
    {
     "name": "stdout",
     "output_type": "stream",
     "text": [
      "Epoch [81/200], train_loss: -1.7934,  train_score: 0.9262,val_loss: -0.4228,  val_score: 0.4201, genus train_score0.9695, genus val_score0.9152\n"
     ]
    },
    {
     "data": {
      "application/vnd.jupyter.widget-view+json": {
       "model_id": "ce298951165b4cf982325b84f4b90ddd",
       "version_major": 2,
       "version_minor": 0
      },
      "text/plain": [
       "  0%|          | 0/14 [00:00<?, ?it/s]"
      ]
     },
     "metadata": {},
     "output_type": "display_data"
    },
    {
     "data": {
      "application/vnd.jupyter.widget-view+json": {
       "model_id": "9699e6f7780e484b8cb889909be81c6b",
       "version_major": 2,
       "version_minor": 0
      },
      "text/plain": [
       "  0%|          | 0/7 [00:00<?, ?it/s]"
      ]
     },
     "metadata": {},
     "output_type": "display_data"
    },
    {
     "name": "stdout",
     "output_type": "stream",
     "text": [
      "Epoch [82/200], train_loss: -1.9480,  train_score: 0.9292,val_loss: -0.4156,  val_score: 0.4211, genus train_score0.9695, genus val_score0.9155\n"
     ]
    },
    {
     "data": {
      "application/vnd.jupyter.widget-view+json": {
       "model_id": "4c80d9b41db34208b971730535f9474e",
       "version_major": 2,
       "version_minor": 0
      },
      "text/plain": [
       "  0%|          | 0/14 [00:00<?, ?it/s]"
      ]
     },
     "metadata": {},
     "output_type": "display_data"
    },
    {
     "data": {
      "application/vnd.jupyter.widget-view+json": {
       "model_id": "e577f8abc71042dc919f254b664fa747",
       "version_major": 2,
       "version_minor": 0
      },
      "text/plain": [
       "  0%|          | 0/7 [00:00<?, ?it/s]"
      ]
     },
     "metadata": {},
     "output_type": "display_data"
    },
    {
     "name": "stdout",
     "output_type": "stream",
     "text": [
      "Epoch [83/200], train_loss: -1.9732,  train_score: 0.9301,val_loss: -0.4132,  val_score: 0.4214, genus train_score0.9695, genus val_score0.9153\n"
     ]
    },
    {
     "data": {
      "application/vnd.jupyter.widget-view+json": {
       "model_id": "60b96e4ec58b4aaebc4d07fb5e7fbd6c",
       "version_major": 2,
       "version_minor": 0
      },
      "text/plain": [
       "  0%|          | 0/14 [00:00<?, ?it/s]"
      ]
     },
     "metadata": {},
     "output_type": "display_data"
    },
    {
     "data": {
      "application/vnd.jupyter.widget-view+json": {
       "model_id": "280a5bf2be91456e9189b074d65568c6",
       "version_major": 2,
       "version_minor": 0
      },
      "text/plain": [
       "  0%|          | 0/7 [00:00<?, ?it/s]"
      ]
     },
     "metadata": {},
     "output_type": "display_data"
    },
    {
     "name": "stdout",
     "output_type": "stream",
     "text": [
      "Epoch [84/200], train_loss: -1.8456,  train_score: 0.9311,val_loss: -0.4281,  val_score: 0.4210, genus train_score0.9697, genus val_score0.9155\n"
     ]
    },
    {
     "data": {
      "application/vnd.jupyter.widget-view+json": {
       "model_id": "fc82c91c7333420c9356f1e2f96bbcc9",
       "version_major": 2,
       "version_minor": 0
      },
      "text/plain": [
       "  0%|          | 0/14 [00:00<?, ?it/s]"
      ]
     },
     "metadata": {},
     "output_type": "display_data"
    },
    {
     "data": {
      "application/vnd.jupyter.widget-view+json": {
       "model_id": "7b7adc1e3493412eba3d0cd6f54ff2f5",
       "version_major": 2,
       "version_minor": 0
      },
      "text/plain": [
       "  0%|          | 0/7 [00:00<?, ?it/s]"
      ]
     },
     "metadata": {},
     "output_type": "display_data"
    },
    {
     "name": "stdout",
     "output_type": "stream",
     "text": [
      "Epoch [85/200], train_loss: -1.9227,  train_score: 0.9309,val_loss: -0.4402,  val_score: 0.4217, genus train_score0.9696, genus val_score0.9163\n"
     ]
    },
    {
     "data": {
      "application/vnd.jupyter.widget-view+json": {
       "model_id": "e0ef836c5c104b12a8849bb1d168011f",
       "version_major": 2,
       "version_minor": 0
      },
      "text/plain": [
       "  0%|          | 0/14 [00:00<?, ?it/s]"
      ]
     },
     "metadata": {},
     "output_type": "display_data"
    },
    {
     "data": {
      "application/vnd.jupyter.widget-view+json": {
       "model_id": "a670049b3f7642749473e5fc7abb845e",
       "version_major": 2,
       "version_minor": 0
      },
      "text/plain": [
       "  0%|          | 0/7 [00:00<?, ?it/s]"
      ]
     },
     "metadata": {},
     "output_type": "display_data"
    },
    {
     "name": "stdout",
     "output_type": "stream",
     "text": [
      "Epoch [86/200], train_loss: -1.9450,  train_score: 0.9327,val_loss: -0.4074,  val_score: 0.4226, genus train_score0.9696, genus val_score0.9166\n"
     ]
    },
    {
     "data": {
      "application/vnd.jupyter.widget-view+json": {
       "model_id": "6647e38497194aa1b41d5aecbdc9dd62",
       "version_major": 2,
       "version_minor": 0
      },
      "text/plain": [
       "  0%|          | 0/14 [00:00<?, ?it/s]"
      ]
     },
     "metadata": {},
     "output_type": "display_data"
    },
    {
     "data": {
      "application/vnd.jupyter.widget-view+json": {
       "model_id": "1e734371640a481f80c97cd1fe44a91a",
       "version_major": 2,
       "version_minor": 0
      },
      "text/plain": [
       "  0%|          | 0/7 [00:00<?, ?it/s]"
      ]
     },
     "metadata": {},
     "output_type": "display_data"
    },
    {
     "name": "stdout",
     "output_type": "stream",
     "text": [
      "Epoch [87/200], train_loss: -1.8445,  train_score: 0.9333,val_loss: -0.4137,  val_score: 0.4233, genus train_score0.9697, genus val_score0.9163\n"
     ]
    },
    {
     "data": {
      "application/vnd.jupyter.widget-view+json": {
       "model_id": "4c657e3090c6408786c6c64354abbea1",
       "version_major": 2,
       "version_minor": 0
      },
      "text/plain": [
       "  0%|          | 0/14 [00:00<?, ?it/s]"
      ]
     },
     "metadata": {},
     "output_type": "display_data"
    },
    {
     "data": {
      "application/vnd.jupyter.widget-view+json": {
       "model_id": "b0e8dfe836604923aaf4f35d417ff9ff",
       "version_major": 2,
       "version_minor": 0
      },
      "text/plain": [
       "  0%|          | 0/7 [00:00<?, ?it/s]"
      ]
     },
     "metadata": {},
     "output_type": "display_data"
    },
    {
     "name": "stdout",
     "output_type": "stream",
     "text": [
      "Epoch [88/200], train_loss: -1.9196,  train_score: 0.9355,val_loss: -0.4247,  val_score: 0.4246, genus train_score0.9696, genus val_score0.9169\n"
     ]
    },
    {
     "data": {
      "application/vnd.jupyter.widget-view+json": {
       "model_id": "1465bca462294bd5a7da2017544374bc",
       "version_major": 2,
       "version_minor": 0
      },
      "text/plain": [
       "  0%|          | 0/14 [00:00<?, ?it/s]"
      ]
     },
     "metadata": {},
     "output_type": "display_data"
    },
    {
     "data": {
      "application/vnd.jupyter.widget-view+json": {
       "model_id": "61ca48b12e684a94bb36e1b0438b0637",
       "version_major": 2,
       "version_minor": 0
      },
      "text/plain": [
       "  0%|          | 0/7 [00:00<?, ?it/s]"
      ]
     },
     "metadata": {},
     "output_type": "display_data"
    },
    {
     "name": "stdout",
     "output_type": "stream",
     "text": [
      "Epoch [89/200], train_loss: -1.8709,  train_score: 0.9364,val_loss: -0.4280,  val_score: 0.4247, genus train_score0.9700, genus val_score0.9201\n"
     ]
    },
    {
     "data": {
      "application/vnd.jupyter.widget-view+json": {
       "model_id": "2cc19799a4664b6aac9c05593ef07e76",
       "version_major": 2,
       "version_minor": 0
      },
      "text/plain": [
       "  0%|          | 0/14 [00:00<?, ?it/s]"
      ]
     },
     "metadata": {},
     "output_type": "display_data"
    },
    {
     "data": {
      "application/vnd.jupyter.widget-view+json": {
       "model_id": "549485f42e2f44c5ae02694a110eaf9c",
       "version_major": 2,
       "version_minor": 0
      },
      "text/plain": [
       "  0%|          | 0/7 [00:00<?, ?it/s]"
      ]
     },
     "metadata": {},
     "output_type": "display_data"
    },
    {
     "name": "stdout",
     "output_type": "stream",
     "text": [
      "Epoch [90/200], train_loss: -1.9481,  train_score: 0.9373,val_loss: -0.4374,  val_score: 0.4249, genus train_score0.9704, genus val_score0.9191\n"
     ]
    },
    {
     "data": {
      "application/vnd.jupyter.widget-view+json": {
       "model_id": "0c8da826b797438d8a42e0f985e08bf4",
       "version_major": 2,
       "version_minor": 0
      },
      "text/plain": [
       "  0%|          | 0/14 [00:00<?, ?it/s]"
      ]
     },
     "metadata": {},
     "output_type": "display_data"
    },
    {
     "data": {
      "application/vnd.jupyter.widget-view+json": {
       "model_id": "6ee5a0e1a20e4a3d8f32480687930c9a",
       "version_major": 2,
       "version_minor": 0
      },
      "text/plain": [
       "  0%|          | 0/7 [00:00<?, ?it/s]"
      ]
     },
     "metadata": {},
     "output_type": "display_data"
    },
    {
     "name": "stdout",
     "output_type": "stream",
     "text": [
      "Epoch [91/200], train_loss: -1.9478,  train_score: 0.9383,val_loss: -0.4051,  val_score: 0.4254, genus train_score0.9705, genus val_score0.9192\n"
     ]
    },
    {
     "data": {
      "application/vnd.jupyter.widget-view+json": {
       "model_id": "95de482d940f48c182cb53219269036b",
       "version_major": 2,
       "version_minor": 0
      },
      "text/plain": [
       "  0%|          | 0/14 [00:00<?, ?it/s]"
      ]
     },
     "metadata": {},
     "output_type": "display_data"
    },
    {
     "data": {
      "application/vnd.jupyter.widget-view+json": {
       "model_id": "9d02a379a8ff42c5870babb81e100115",
       "version_major": 2,
       "version_minor": 0
      },
      "text/plain": [
       "  0%|          | 0/7 [00:00<?, ?it/s]"
      ]
     },
     "metadata": {},
     "output_type": "display_data"
    },
    {
     "name": "stdout",
     "output_type": "stream",
     "text": [
      "Epoch [92/200], train_loss: -1.9216,  train_score: 0.9383,val_loss: -0.4068,  val_score: 0.4260, genus train_score0.9705, genus val_score0.9173\n"
     ]
    },
    {
     "data": {
      "application/vnd.jupyter.widget-view+json": {
       "model_id": "57e57296e91b4a64a8b114296c161c54",
       "version_major": 2,
       "version_minor": 0
      },
      "text/plain": [
       "  0%|          | 0/14 [00:00<?, ?it/s]"
      ]
     },
     "metadata": {},
     "output_type": "display_data"
    },
    {
     "data": {
      "application/vnd.jupyter.widget-view+json": {
       "model_id": "4db0fb3ec9974eb8af5e06c716775f5f",
       "version_major": 2,
       "version_minor": 0
      },
      "text/plain": [
       "  0%|          | 0/7 [00:00<?, ?it/s]"
      ]
     },
     "metadata": {},
     "output_type": "display_data"
    },
    {
     "name": "stdout",
     "output_type": "stream",
     "text": [
      "Epoch [93/200], train_loss: -1.8954,  train_score: 0.9400,val_loss: -0.4405,  val_score: 0.4266, genus train_score0.9705, genus val_score0.9156\n"
     ]
    },
    {
     "data": {
      "application/vnd.jupyter.widget-view+json": {
       "model_id": "2d456fb4d9d54185b646e7b34d82b4f8",
       "version_major": 2,
       "version_minor": 0
      },
      "text/plain": [
       "  0%|          | 0/14 [00:00<?, ?it/s]"
      ]
     },
     "metadata": {},
     "output_type": "display_data"
    },
    {
     "data": {
      "application/vnd.jupyter.widget-view+json": {
       "model_id": "452a19c13d5d4b51a3a187a39375cdb8",
       "version_major": 2,
       "version_minor": 0
      },
      "text/plain": [
       "  0%|          | 0/7 [00:00<?, ?it/s]"
      ]
     },
     "metadata": {},
     "output_type": "display_data"
    },
    {
     "name": "stdout",
     "output_type": "stream",
     "text": [
      "Epoch [94/200], train_loss: -1.8712,  train_score: 0.9408,val_loss: -0.4464,  val_score: 0.4270, genus train_score0.9705, genus val_score0.9157\n"
     ]
    },
    {
     "data": {
      "application/vnd.jupyter.widget-view+json": {
       "model_id": "499e43db038d4e08a7e45760ea17eb91",
       "version_major": 2,
       "version_minor": 0
      },
      "text/plain": [
       "  0%|          | 0/14 [00:00<?, ?it/s]"
      ]
     },
     "metadata": {},
     "output_type": "display_data"
    },
    {
     "data": {
      "application/vnd.jupyter.widget-view+json": {
       "model_id": "e3e51dd46fc946e98a88ee4aa678725d",
       "version_major": 2,
       "version_minor": 0
      },
      "text/plain": [
       "  0%|          | 0/7 [00:00<?, ?it/s]"
      ]
     },
     "metadata": {},
     "output_type": "display_data"
    },
    {
     "name": "stdout",
     "output_type": "stream",
     "text": [
      "Epoch [95/200], train_loss: -1.8457,  train_score: 0.9416,val_loss: -0.4238,  val_score: 0.4272, genus train_score0.9705, genus val_score0.9166\n"
     ]
    },
    {
     "data": {
      "application/vnd.jupyter.widget-view+json": {
       "model_id": "0f21b6aad09b4121bb9fb79441886d7b",
       "version_major": 2,
       "version_minor": 0
      },
      "text/plain": [
       "  0%|          | 0/14 [00:00<?, ?it/s]"
      ]
     },
     "metadata": {},
     "output_type": "display_data"
    },
    {
     "data": {
      "application/vnd.jupyter.widget-view+json": {
       "model_id": "a626d316f17e4501a3ab3e68c098c769",
       "version_major": 2,
       "version_minor": 0
      },
      "text/plain": [
       "  0%|          | 0/7 [00:00<?, ?it/s]"
      ]
     },
     "metadata": {},
     "output_type": "display_data"
    },
    {
     "name": "stdout",
     "output_type": "stream",
     "text": [
      "Epoch [96/200], train_loss: -1.9136,  train_score: 0.9429,val_loss: -0.4318,  val_score: 0.4283, genus train_score0.9705, genus val_score0.9170\n"
     ]
    },
    {
     "data": {
      "application/vnd.jupyter.widget-view+json": {
       "model_id": "c67c35fbc27a450bb167c9f100d0881f",
       "version_major": 2,
       "version_minor": 0
      },
      "text/plain": [
       "  0%|          | 0/14 [00:00<?, ?it/s]"
      ]
     },
     "metadata": {},
     "output_type": "display_data"
    },
    {
     "data": {
      "application/vnd.jupyter.widget-view+json": {
       "model_id": "1db6b47065b64e6ebcd3a6d1ad6fdb44",
       "version_major": 2,
       "version_minor": 0
      },
      "text/plain": [
       "  0%|          | 0/7 [00:00<?, ?it/s]"
      ]
     },
     "metadata": {},
     "output_type": "display_data"
    },
    {
     "name": "stdout",
     "output_type": "stream",
     "text": [
      "Epoch [97/200], train_loss: -1.8942,  train_score: 0.9441,val_loss: -0.4423,  val_score: 0.4279, genus train_score0.9708, genus val_score0.9170\n"
     ]
    },
    {
     "data": {
      "application/vnd.jupyter.widget-view+json": {
       "model_id": "7f3e019934004f2e87b5e82c997f0fac",
       "version_major": 2,
       "version_minor": 0
      },
      "text/plain": [
       "  0%|          | 0/14 [00:00<?, ?it/s]"
      ]
     },
     "metadata": {},
     "output_type": "display_data"
    },
    {
     "data": {
      "application/vnd.jupyter.widget-view+json": {
       "model_id": "17f9fcf1859f4cc6ae9754c39ee1a3ae",
       "version_major": 2,
       "version_minor": 0
      },
      "text/plain": [
       "  0%|          | 0/7 [00:00<?, ?it/s]"
      ]
     },
     "metadata": {},
     "output_type": "display_data"
    },
    {
     "name": "stdout",
     "output_type": "stream",
     "text": [
      "Epoch [98/200], train_loss: -1.8969,  train_score: 0.9449,val_loss: -0.4322,  val_score: 0.4280, genus train_score0.9708, genus val_score0.9170\n"
     ]
    },
    {
     "data": {
      "application/vnd.jupyter.widget-view+json": {
       "model_id": "72360e2620e54fea8886c90e147d34aa",
       "version_major": 2,
       "version_minor": 0
      },
      "text/plain": [
       "  0%|          | 0/14 [00:00<?, ?it/s]"
      ]
     },
     "metadata": {},
     "output_type": "display_data"
    },
    {
     "data": {
      "application/vnd.jupyter.widget-view+json": {
       "model_id": "d1cea3340a964b71b08fc07da79eecea",
       "version_major": 2,
       "version_minor": 0
      },
      "text/plain": [
       "  0%|          | 0/7 [00:00<?, ?it/s]"
      ]
     },
     "metadata": {},
     "output_type": "display_data"
    },
    {
     "name": "stdout",
     "output_type": "stream",
     "text": [
      "Epoch [99/200], train_loss: -1.8715,  train_score: 0.9452,val_loss: -0.4359,  val_score: 0.4283, genus train_score0.9708, genus val_score0.9175\n"
     ]
    },
    {
     "data": {
      "application/vnd.jupyter.widget-view+json": {
       "model_id": "318144ed83c844dc9fb7d2d3576774e4",
       "version_major": 2,
       "version_minor": 0
      },
      "text/plain": [
       "  0%|          | 0/14 [00:00<?, ?it/s]"
      ]
     },
     "metadata": {},
     "output_type": "display_data"
    },
    {
     "data": {
      "application/vnd.jupyter.widget-view+json": {
       "model_id": "9ad5699de72343099f06b7ad07ea361d",
       "version_major": 2,
       "version_minor": 0
      },
      "text/plain": [
       "  0%|          | 0/7 [00:00<?, ?it/s]"
      ]
     },
     "metadata": {},
     "output_type": "display_data"
    },
    {
     "name": "stdout",
     "output_type": "stream",
     "text": [
      "Epoch [100/200], train_loss: -1.8969,  train_score: 0.9458,val_loss: -0.4338,  val_score: 0.4301, genus train_score0.9710, genus val_score0.9176\n"
     ]
    },
    {
     "data": {
      "application/vnd.jupyter.widget-view+json": {
       "model_id": "dfc2e395017f4d2bb1af731fdbf2e011",
       "version_major": 2,
       "version_minor": 0
      },
      "text/plain": [
       "  0%|          | 0/14 [00:00<?, ?it/s]"
      ]
     },
     "metadata": {},
     "output_type": "display_data"
    },
    {
     "data": {
      "application/vnd.jupyter.widget-view+json": {
       "model_id": "1dbfbcfb4b464711931caca6a2859889",
       "version_major": 2,
       "version_minor": 0
      },
      "text/plain": [
       "  0%|          | 0/7 [00:00<?, ?it/s]"
      ]
     },
     "metadata": {},
     "output_type": "display_data"
    },
    {
     "name": "stdout",
     "output_type": "stream",
     "text": [
      "Epoch [101/200], train_loss: -1.9728,  train_score: 0.9483,val_loss: -0.4457,  val_score: 0.4311, genus train_score0.9712, genus val_score0.9182\n"
     ]
    },
    {
     "data": {
      "application/vnd.jupyter.widget-view+json": {
       "model_id": "7e37ef31eba34fbda65f3aaf5c302809",
       "version_major": 2,
       "version_minor": 0
      },
      "text/plain": [
       "  0%|          | 0/14 [00:00<?, ?it/s]"
      ]
     },
     "metadata": {},
     "output_type": "display_data"
    },
    {
     "data": {
      "application/vnd.jupyter.widget-view+json": {
       "model_id": "1117cbef6b6b4c4498998ab8a4dd3c73",
       "version_major": 2,
       "version_minor": 0
      },
      "text/plain": [
       "  0%|          | 0/7 [00:00<?, ?it/s]"
      ]
     },
     "metadata": {},
     "output_type": "display_data"
    },
    {
     "name": "stdout",
     "output_type": "stream",
     "text": [
      "Epoch [102/200], train_loss: -1.9484,  train_score: 0.9505,val_loss: -0.4323,  val_score: 0.4312, genus train_score0.9710, genus val_score0.9173\n"
     ]
    },
    {
     "data": {
      "application/vnd.jupyter.widget-view+json": {
       "model_id": "547619c44961418eb78d35f0d45d1093",
       "version_major": 2,
       "version_minor": 0
      },
      "text/plain": [
       "  0%|          | 0/14 [00:00<?, ?it/s]"
      ]
     },
     "metadata": {},
     "output_type": "display_data"
    },
    {
     "data": {
      "application/vnd.jupyter.widget-view+json": {
       "model_id": "63a61749718b4ba1a738cd2b3d34ab3e",
       "version_major": 2,
       "version_minor": 0
      },
      "text/plain": [
       "  0%|          | 0/7 [00:00<?, ?it/s]"
      ]
     },
     "metadata": {},
     "output_type": "display_data"
    },
    {
     "name": "stdout",
     "output_type": "stream",
     "text": [
      "Epoch [103/200], train_loss: -1.9702,  train_score: 0.9508,val_loss: -0.4211,  val_score: 0.4312, genus train_score0.9709, genus val_score0.9170\n"
     ]
    },
    {
     "data": {
      "application/vnd.jupyter.widget-view+json": {
       "model_id": "9fbceb0774bc454d98dd82a92c113caa",
       "version_major": 2,
       "version_minor": 0
      },
      "text/plain": [
       "  0%|          | 0/14 [00:00<?, ?it/s]"
      ]
     },
     "metadata": {},
     "output_type": "display_data"
    },
    {
     "data": {
      "application/vnd.jupyter.widget-view+json": {
       "model_id": "3ee831f81e0c4eb08eba43a4f5b719b9",
       "version_major": 2,
       "version_minor": 0
      },
      "text/plain": [
       "  0%|          | 0/7 [00:00<?, ?it/s]"
      ]
     },
     "metadata": {},
     "output_type": "display_data"
    },
    {
     "name": "stdout",
     "output_type": "stream",
     "text": [
      "Epoch [104/200], train_loss: -1.8941,  train_score: 0.9507,val_loss: -0.4424,  val_score: 0.4309, genus train_score0.9710, genus val_score0.9156\n"
     ]
    },
    {
     "data": {
      "application/vnd.jupyter.widget-view+json": {
       "model_id": "23854bfee57a410d8918b32e10d5c418",
       "version_major": 2,
       "version_minor": 0
      },
      "text/plain": [
       "  0%|          | 0/14 [00:00<?, ?it/s]"
      ]
     },
     "metadata": {},
     "output_type": "display_data"
    },
    {
     "data": {
      "application/vnd.jupyter.widget-view+json": {
       "model_id": "44b79dda30b744b5804cdc64f0d304f1",
       "version_major": 2,
       "version_minor": 0
      },
      "text/plain": [
       "  0%|          | 0/7 [00:00<?, ?it/s]"
      ]
     },
     "metadata": {},
     "output_type": "display_data"
    },
    {
     "name": "stdout",
     "output_type": "stream",
     "text": [
      "Epoch [105/200], train_loss: -1.8709,  train_score: 0.9506,val_loss: -0.4515,  val_score: 0.4313, genus train_score0.9710, genus val_score0.9170\n"
     ]
    },
    {
     "data": {
      "application/vnd.jupyter.widget-view+json": {
       "model_id": "3ad7a1c57a54401e955857e329bf4468",
       "version_major": 2,
       "version_minor": 0
      },
      "text/plain": [
       "  0%|          | 0/14 [00:00<?, ?it/s]"
      ]
     },
     "metadata": {},
     "output_type": "display_data"
    },
    {
     "data": {
      "application/vnd.jupyter.widget-view+json": {
       "model_id": "2fc9f7827abd4158a092ae36986e2867",
       "version_major": 2,
       "version_minor": 0
      },
      "text/plain": [
       "  0%|          | 0/7 [00:00<?, ?it/s]"
      ]
     },
     "metadata": {},
     "output_type": "display_data"
    },
    {
     "name": "stdout",
     "output_type": "stream",
     "text": [
      "Epoch [106/200], train_loss: -1.8716,  train_score: 0.9510,val_loss: -0.4615,  val_score: 0.4316, genus train_score0.9709, genus val_score0.9170\n"
     ]
    },
    {
     "data": {
      "application/vnd.jupyter.widget-view+json": {
       "model_id": "51ed4c2ae57e4935ba5218dbe6f0b54e",
       "version_major": 2,
       "version_minor": 0
      },
      "text/plain": [
       "  0%|          | 0/14 [00:00<?, ?it/s]"
      ]
     },
     "metadata": {},
     "output_type": "display_data"
    },
    {
     "data": {
      "application/vnd.jupyter.widget-view+json": {
       "model_id": "22b8e820507144368b151bf37dd60c4a",
       "version_major": 2,
       "version_minor": 0
      },
      "text/plain": [
       "  0%|          | 0/7 [00:00<?, ?it/s]"
      ]
     },
     "metadata": {},
     "output_type": "display_data"
    },
    {
     "name": "stdout",
     "output_type": "stream",
     "text": [
      "Epoch [107/200], train_loss: -1.9738,  train_score: 0.9516,val_loss: -0.4198,  val_score: 0.4332, genus train_score0.9708, genus val_score0.9182\n"
     ]
    },
    {
     "data": {
      "application/vnd.jupyter.widget-view+json": {
       "model_id": "2da46743834d494b91a1359aa77f9d9a",
       "version_major": 2,
       "version_minor": 0
      },
      "text/plain": [
       "  0%|          | 0/14 [00:00<?, ?it/s]"
      ]
     },
     "metadata": {},
     "output_type": "display_data"
    },
    {
     "data": {
      "application/vnd.jupyter.widget-view+json": {
       "model_id": "6872e6ba2aa845058771ffa9f0c91583",
       "version_major": 2,
       "version_minor": 0
      },
      "text/plain": [
       "  0%|          | 0/7 [00:00<?, ?it/s]"
      ]
     },
     "metadata": {},
     "output_type": "display_data"
    },
    {
     "name": "stdout",
     "output_type": "stream",
     "text": [
      "Epoch [108/200], train_loss: -1.9970,  train_score: 0.9540,val_loss: -0.4400,  val_score: 0.4335, genus train_score0.9711, genus val_score0.9201\n"
     ]
    },
    {
     "data": {
      "application/vnd.jupyter.widget-view+json": {
       "model_id": "c1a85d1ec4a348aa9696dc9dafc1e07e",
       "version_major": 2,
       "version_minor": 0
      },
      "text/plain": [
       "  0%|          | 0/14 [00:00<?, ?it/s]"
      ]
     },
     "metadata": {},
     "output_type": "display_data"
    },
    {
     "data": {
      "application/vnd.jupyter.widget-view+json": {
       "model_id": "c92e3781eb6a463f8977e45a43363bb6",
       "version_major": 2,
       "version_minor": 0
      },
      "text/plain": [
       "  0%|          | 0/7 [00:00<?, ?it/s]"
      ]
     },
     "metadata": {},
     "output_type": "display_data"
    },
    {
     "name": "stdout",
     "output_type": "stream",
     "text": [
      "Epoch [109/200], train_loss: -1.9217,  train_score: 0.9532,val_loss: -0.4640,  val_score: 0.4332, genus train_score0.9712, genus val_score0.9185\n"
     ]
    },
    {
     "data": {
      "application/vnd.jupyter.widget-view+json": {
       "model_id": "5f8ee1a53fb24583b7af2e0c17198a5d",
       "version_major": 2,
       "version_minor": 0
      },
      "text/plain": [
       "  0%|          | 0/14 [00:00<?, ?it/s]"
      ]
     },
     "metadata": {},
     "output_type": "display_data"
    },
    {
     "data": {
      "application/vnd.jupyter.widget-view+json": {
       "model_id": "ca6ae85e25e149adb2169bdbca22ab07",
       "version_major": 2,
       "version_minor": 0
      },
      "text/plain": [
       "  0%|          | 0/7 [00:00<?, ?it/s]"
      ]
     },
     "metadata": {},
     "output_type": "display_data"
    },
    {
     "name": "stdout",
     "output_type": "stream",
     "text": [
      "Epoch [110/200], train_loss: -1.9485,  train_score: 0.9531,val_loss: -0.4318,  val_score: 0.4335, genus train_score0.9709, genus val_score0.9186\n"
     ]
    },
    {
     "data": {
      "application/vnd.jupyter.widget-view+json": {
       "model_id": "30e90979bd99420c8f799f38a19e23ac",
       "version_major": 2,
       "version_minor": 0
      },
      "text/plain": [
       "  0%|          | 0/14 [00:00<?, ?it/s]"
      ]
     },
     "metadata": {},
     "output_type": "display_data"
    },
    {
     "data": {
      "application/vnd.jupyter.widget-view+json": {
       "model_id": "59a1285d77e749a5acc551c5323f4a88",
       "version_major": 2,
       "version_minor": 0
      },
      "text/plain": [
       "  0%|          | 0/7 [00:00<?, ?it/s]"
      ]
     },
     "metadata": {},
     "output_type": "display_data"
    },
    {
     "name": "stdout",
     "output_type": "stream",
     "text": [
      "Epoch [111/200], train_loss: -1.9733,  train_score: 0.9532,val_loss: -0.4332,  val_score: 0.4335, genus train_score0.9715, genus val_score0.9191\n"
     ]
    },
    {
     "data": {
      "application/vnd.jupyter.widget-view+json": {
       "model_id": "529787f55ffb458fbb821a5365f8b36a",
       "version_major": 2,
       "version_minor": 0
      },
      "text/plain": [
       "  0%|          | 0/14 [00:00<?, ?it/s]"
      ]
     },
     "metadata": {},
     "output_type": "display_data"
    },
    {
     "data": {
      "application/vnd.jupyter.widget-view+json": {
       "model_id": "255329e665484adb80fd5954a2d6215c",
       "version_major": 2,
       "version_minor": 0
      },
      "text/plain": [
       "  0%|          | 0/7 [00:00<?, ?it/s]"
      ]
     },
     "metadata": {},
     "output_type": "display_data"
    },
    {
     "name": "stdout",
     "output_type": "stream",
     "text": [
      "Epoch [112/200], train_loss: -1.8714,  train_score: 0.9538,val_loss: -0.4376,  val_score: 0.4341, genus train_score0.9714, genus val_score0.9186\n"
     ]
    },
    {
     "data": {
      "application/vnd.jupyter.widget-view+json": {
       "model_id": "1b5773810a8f469f88c4b23891afd16c",
       "version_major": 2,
       "version_minor": 0
      },
      "text/plain": [
       "  0%|          | 0/14 [00:00<?, ?it/s]"
      ]
     },
     "metadata": {},
     "output_type": "display_data"
    },
    {
     "data": {
      "application/vnd.jupyter.widget-view+json": {
       "model_id": "ff8023eb1f894b7f9f7fb678269a9c55",
       "version_major": 2,
       "version_minor": 0
      },
      "text/plain": [
       "  0%|          | 0/7 [00:00<?, ?it/s]"
      ]
     },
     "metadata": {},
     "output_type": "display_data"
    },
    {
     "name": "stdout",
     "output_type": "stream",
     "text": [
      "Epoch [113/200], train_loss: -1.9742,  train_score: 0.9561,val_loss: -0.4401,  val_score: 0.4349, genus train_score0.9714, genus val_score0.9168\n"
     ]
    },
    {
     "data": {
      "application/vnd.jupyter.widget-view+json": {
       "model_id": "dae7373cd6ec4abe8278a18328cbef92",
       "version_major": 2,
       "version_minor": 0
      },
      "text/plain": [
       "  0%|          | 0/14 [00:00<?, ?it/s]"
      ]
     },
     "metadata": {},
     "output_type": "display_data"
    },
    {
     "data": {
      "application/vnd.jupyter.widget-view+json": {
       "model_id": "d1fce6d274fa4772addc6cfcaadb8e12",
       "version_major": 2,
       "version_minor": 0
      },
      "text/plain": [
       "  0%|          | 0/7 [00:00<?, ?it/s]"
      ]
     },
     "metadata": {},
     "output_type": "display_data"
    },
    {
     "name": "stdout",
     "output_type": "stream",
     "text": [
      "Epoch [114/200], train_loss: -1.9741,  train_score: 0.9564,val_loss: -0.4325,  val_score: 0.4351, genus train_score0.9712, genus val_score0.9172\n"
     ]
    },
    {
     "data": {
      "application/vnd.jupyter.widget-view+json": {
       "model_id": "3c393ada89d940d98501341ba8416f26",
       "version_major": 2,
       "version_minor": 0
      },
      "text/plain": [
       "  0%|          | 0/14 [00:00<?, ?it/s]"
      ]
     },
     "metadata": {},
     "output_type": "display_data"
    },
    {
     "data": {
      "application/vnd.jupyter.widget-view+json": {
       "model_id": "3ef6e6dd7fe9411d984214ab75aa3e7f",
       "version_major": 2,
       "version_minor": 0
      },
      "text/plain": [
       "  0%|          | 0/7 [00:00<?, ?it/s]"
      ]
     },
     "metadata": {},
     "output_type": "display_data"
    },
    {
     "name": "stdout",
     "output_type": "stream",
     "text": [
      "Epoch [115/200], train_loss: -1.9740,  train_score: 0.9571,val_loss: -0.4387,  val_score: 0.4349, genus train_score0.9715, genus val_score0.9178\n"
     ]
    },
    {
     "data": {
      "application/vnd.jupyter.widget-view+json": {
       "model_id": "95a6d1c4026d42ae980abe4b5d24af34",
       "version_major": 2,
       "version_minor": 0
      },
      "text/plain": [
       "  0%|          | 0/14 [00:00<?, ?it/s]"
      ]
     },
     "metadata": {},
     "output_type": "display_data"
    },
    {
     "data": {
      "application/vnd.jupyter.widget-view+json": {
       "model_id": "fff2bec6be0f470185547f9272165ec1",
       "version_major": 2,
       "version_minor": 0
      },
      "text/plain": [
       "  0%|          | 0/7 [00:00<?, ?it/s]"
      ]
     },
     "metadata": {},
     "output_type": "display_data"
    },
    {
     "name": "stdout",
     "output_type": "stream",
     "text": [
      "Epoch [116/200], train_loss: -1.8866,  train_score: 0.9577,val_loss: -0.4098,  val_score: 0.4352, genus train_score0.9720, genus val_score0.9189\n"
     ]
    },
    {
     "data": {
      "application/vnd.jupyter.widget-view+json": {
       "model_id": "ae2209f6a7d94d0eb29bdff7498ba0bf",
       "version_major": 2,
       "version_minor": 0
      },
      "text/plain": [
       "  0%|          | 0/14 [00:00<?, ?it/s]"
      ]
     },
     "metadata": {},
     "output_type": "display_data"
    },
    {
     "data": {
      "application/vnd.jupyter.widget-view+json": {
       "model_id": "47349e57f7b24e16b8f5be25c33defc9",
       "version_major": 2,
       "version_minor": 0
      },
      "text/plain": [
       "  0%|          | 0/7 [00:00<?, ?it/s]"
      ]
     },
     "metadata": {},
     "output_type": "display_data"
    },
    {
     "name": "stdout",
     "output_type": "stream",
     "text": [
      "Epoch [117/200], train_loss: -1.9224,  train_score: 0.9566,val_loss: -0.4418,  val_score: 0.4344, genus train_score0.9722, genus val_score0.9191\n"
     ]
    },
    {
     "data": {
      "application/vnd.jupyter.widget-view+json": {
       "model_id": "3252af26688c402b978c5763066938c9",
       "version_major": 2,
       "version_minor": 0
      },
      "text/plain": [
       "  0%|          | 0/14 [00:00<?, ?it/s]"
      ]
     },
     "metadata": {},
     "output_type": "display_data"
    },
    {
     "data": {
      "application/vnd.jupyter.widget-view+json": {
       "model_id": "105975d104624abf9292457b11121169",
       "version_major": 2,
       "version_minor": 0
      },
      "text/plain": [
       "  0%|          | 0/7 [00:00<?, ?it/s]"
      ]
     },
     "metadata": {},
     "output_type": "display_data"
    },
    {
     "name": "stdout",
     "output_type": "stream",
     "text": [
      "Epoch [118/200], train_loss: -1.9207,  train_score: 0.9572,val_loss: -0.4515,  val_score: 0.4351, genus train_score0.9720, genus val_score0.9191\n"
     ]
    },
    {
     "data": {
      "application/vnd.jupyter.widget-view+json": {
       "model_id": "2ba3f36e06b340d4b2abcf13ae27e87d",
       "version_major": 2,
       "version_minor": 0
      },
      "text/plain": [
       "  0%|          | 0/14 [00:00<?, ?it/s]"
      ]
     },
     "metadata": {},
     "output_type": "display_data"
    },
    {
     "data": {
      "application/vnd.jupyter.widget-view+json": {
       "model_id": "0d585bc6527f474dbec452341e9c96e3",
       "version_major": 2,
       "version_minor": 0
      },
      "text/plain": [
       "  0%|          | 0/7 [00:00<?, ?it/s]"
      ]
     },
     "metadata": {},
     "output_type": "display_data"
    },
    {
     "name": "stdout",
     "output_type": "stream",
     "text": [
      "Epoch [119/200], train_loss: -1.9738,  train_score: 0.9571,val_loss: -0.4243,  val_score: 0.4352, genus train_score0.9722, genus val_score0.9192\n"
     ]
    },
    {
     "data": {
      "application/vnd.jupyter.widget-view+json": {
       "model_id": "b846b15d29774eca8c52ff2a00434a10",
       "version_major": 2,
       "version_minor": 0
      },
      "text/plain": [
       "  0%|          | 0/14 [00:00<?, ?it/s]"
      ]
     },
     "metadata": {},
     "output_type": "display_data"
    },
    {
     "data": {
      "application/vnd.jupyter.widget-view+json": {
       "model_id": "081575c5cbed4c508350817d9b087bdf",
       "version_major": 2,
       "version_minor": 0
      },
      "text/plain": [
       "  0%|          | 0/7 [00:00<?, ?it/s]"
      ]
     },
     "metadata": {},
     "output_type": "display_data"
    },
    {
     "name": "stdout",
     "output_type": "stream",
     "text": [
      "Epoch [120/200], train_loss: -1.8345,  train_score: 0.9577,val_loss: -0.4345,  val_score: 0.4352, genus train_score0.9719, genus val_score0.9201\n"
     ]
    },
    {
     "data": {
      "application/vnd.jupyter.widget-view+json": {
       "model_id": "b885ca64105a4c5c9c7791bd7a71ad95",
       "version_major": 2,
       "version_minor": 0
      },
      "text/plain": [
       "  0%|          | 0/14 [00:00<?, ?it/s]"
      ]
     },
     "metadata": {},
     "output_type": "display_data"
    },
    {
     "data": {
      "application/vnd.jupyter.widget-view+json": {
       "model_id": "0b72a721fd7a4c4b8b1d47d4ff8da142",
       "version_major": 2,
       "version_minor": 0
      },
      "text/plain": [
       "  0%|          | 0/7 [00:00<?, ?it/s]"
      ]
     },
     "metadata": {},
     "output_type": "display_data"
    },
    {
     "name": "stdout",
     "output_type": "stream",
     "text": [
      "Epoch [121/200], train_loss: -1.8661,  train_score: 0.9562,val_loss: -0.4165,  val_score: 0.4345, genus train_score0.9719, genus val_score0.9191\n"
     ]
    },
    {
     "data": {
      "application/vnd.jupyter.widget-view+json": {
       "model_id": "24b4716ad32b415992e8162ceb6dfdc4",
       "version_major": 2,
       "version_minor": 0
      },
      "text/plain": [
       "  0%|          | 0/14 [00:00<?, ?it/s]"
      ]
     },
     "metadata": {},
     "output_type": "display_data"
    },
    {
     "data": {
      "application/vnd.jupyter.widget-view+json": {
       "model_id": "5610e662e75840ccab083fc3368feaae",
       "version_major": 2,
       "version_minor": 0
      },
      "text/plain": [
       "  0%|          | 0/7 [00:00<?, ?it/s]"
      ]
     },
     "metadata": {},
     "output_type": "display_data"
    },
    {
     "name": "stdout",
     "output_type": "stream",
     "text": [
      "Epoch [122/200], train_loss: -1.8683,  train_score: 0.9573,val_loss: -0.4087,  val_score: 0.4348, genus train_score0.9722, genus val_score0.9191\n"
     ]
    },
    {
     "data": {
      "application/vnd.jupyter.widget-view+json": {
       "model_id": "adea7cdf0fb240b1b2639c08cb648632",
       "version_major": 2,
       "version_minor": 0
      },
      "text/plain": [
       "  0%|          | 0/14 [00:00<?, ?it/s]"
      ]
     },
     "metadata": {},
     "output_type": "display_data"
    },
    {
     "data": {
      "application/vnd.jupyter.widget-view+json": {
       "model_id": "91d4d242441a44b4846531c290397a69",
       "version_major": 2,
       "version_minor": 0
      },
      "text/plain": [
       "  0%|          | 0/7 [00:00<?, ?it/s]"
      ]
     },
     "metadata": {},
     "output_type": "display_data"
    },
    {
     "name": "stdout",
     "output_type": "stream",
     "text": [
      "Epoch [123/200], train_loss: -1.9229,  train_score: 0.9578,val_loss: -0.4369,  val_score: 0.4348, genus train_score0.9721, genus val_score0.9189\n"
     ]
    },
    {
     "data": {
      "application/vnd.jupyter.widget-view+json": {
       "model_id": "84da2de05375411ca745f2827257e4e8",
       "version_major": 2,
       "version_minor": 0
      },
      "text/plain": [
       "  0%|          | 0/14 [00:00<?, ?it/s]"
      ]
     },
     "metadata": {},
     "output_type": "display_data"
    },
    {
     "data": {
      "application/vnd.jupyter.widget-view+json": {
       "model_id": "f6177be20e3f4ab5953378da0708f1df",
       "version_major": 2,
       "version_minor": 0
      },
      "text/plain": [
       "  0%|          | 0/7 [00:00<?, ?it/s]"
      ]
     },
     "metadata": {},
     "output_type": "display_data"
    },
    {
     "name": "stdout",
     "output_type": "stream",
     "text": [
      "Epoch [124/200], train_loss: -1.9465,  train_score: 0.9588,val_loss: -0.4429,  val_score: 0.4345, genus train_score0.9723, genus val_score0.9196\n"
     ]
    },
    {
     "data": {
      "application/vnd.jupyter.widget-view+json": {
       "model_id": "7bd228c3b85d424a8a07b70c8b8d0ce5",
       "version_major": 2,
       "version_minor": 0
      },
      "text/plain": [
       "  0%|          | 0/14 [00:00<?, ?it/s]"
      ]
     },
     "metadata": {},
     "output_type": "display_data"
    },
    {
     "data": {
      "application/vnd.jupyter.widget-view+json": {
       "model_id": "a60becb7050c41eeb49b2c66722abcdb",
       "version_major": 2,
       "version_minor": 0
      },
      "text/plain": [
       "  0%|          | 0/7 [00:00<?, ?it/s]"
      ]
     },
     "metadata": {},
     "output_type": "display_data"
    },
    {
     "name": "stdout",
     "output_type": "stream",
     "text": [
      "Epoch [125/200], train_loss: -1.9217,  train_score: 0.9572,val_loss: -0.4310,  val_score: 0.4349, genus train_score0.9726, genus val_score0.9186\n"
     ]
    },
    {
     "data": {
      "application/vnd.jupyter.widget-view+json": {
       "model_id": "108d9ccf8fc046c48aef7e48c2b588f6",
       "version_major": 2,
       "version_minor": 0
      },
      "text/plain": [
       "  0%|          | 0/14 [00:00<?, ?it/s]"
      ]
     },
     "metadata": {},
     "output_type": "display_data"
    },
    {
     "data": {
      "application/vnd.jupyter.widget-view+json": {
       "model_id": "3520a74ee57d4b9282cddd8b256c29a0",
       "version_major": 2,
       "version_minor": 0
      },
      "text/plain": [
       "  0%|          | 0/7 [00:00<?, ?it/s]"
      ]
     },
     "metadata": {},
     "output_type": "display_data"
    },
    {
     "name": "stdout",
     "output_type": "stream",
     "text": [
      "Epoch [126/200], train_loss: -1.9227,  train_score: 0.9583,val_loss: -0.4245,  val_score: 0.4352, genus train_score0.9727, genus val_score0.9196\n"
     ]
    },
    {
     "data": {
      "application/vnd.jupyter.widget-view+json": {
       "model_id": "d154bee6ef2e4f9fbb80b690238db575",
       "version_major": 2,
       "version_minor": 0
      },
      "text/plain": [
       "  0%|          | 0/14 [00:00<?, ?it/s]"
      ]
     },
     "metadata": {},
     "output_type": "display_data"
    },
    {
     "data": {
      "application/vnd.jupyter.widget-view+json": {
       "model_id": "ae4246dec94149069ee2437086b400e0",
       "version_major": 2,
       "version_minor": 0
      },
      "text/plain": [
       "  0%|          | 0/7 [00:00<?, ?it/s]"
      ]
     },
     "metadata": {},
     "output_type": "display_data"
    },
    {
     "name": "stdout",
     "output_type": "stream",
     "text": [
      "Epoch [127/200], train_loss: -1.9228,  train_score: 0.9585,val_loss: -0.4502,  val_score: 0.4352, genus train_score0.9727, genus val_score0.9188\n"
     ]
    },
    {
     "data": {
      "application/vnd.jupyter.widget-view+json": {
       "model_id": "07f6a42f801440ea93daf2ae7b65e357",
       "version_major": 2,
       "version_minor": 0
      },
      "text/plain": [
       "  0%|          | 0/14 [00:00<?, ?it/s]"
      ]
     },
     "metadata": {},
     "output_type": "display_data"
    },
    {
     "data": {
      "application/vnd.jupyter.widget-view+json": {
       "model_id": "b0dc604f80c243278deefb3f712d49be",
       "version_major": 2,
       "version_minor": 0
      },
      "text/plain": [
       "  0%|          | 0/7 [00:00<?, ?it/s]"
      ]
     },
     "metadata": {},
     "output_type": "display_data"
    },
    {
     "name": "stdout",
     "output_type": "stream",
     "text": [
      "Epoch [128/200], train_loss: -1.9740,  train_score: 0.9599,val_loss: -0.4493,  val_score: 0.4365, genus train_score0.9728, genus val_score0.9172\n"
     ]
    },
    {
     "data": {
      "application/vnd.jupyter.widget-view+json": {
       "model_id": "9e07e846df574de4aef6ddf3835eb061",
       "version_major": 2,
       "version_minor": 0
      },
      "text/plain": [
       "  0%|          | 0/14 [00:00<?, ?it/s]"
      ]
     },
     "metadata": {},
     "output_type": "display_data"
    },
    {
     "data": {
      "application/vnd.jupyter.widget-view+json": {
       "model_id": "fb613a31b8bb48ad9b2be314a79e5dcf",
       "version_major": 2,
       "version_minor": 0
      },
      "text/plain": [
       "  0%|          | 0/7 [00:00<?, ?it/s]"
      ]
     },
     "metadata": {},
     "output_type": "display_data"
    },
    {
     "name": "stdout",
     "output_type": "stream",
     "text": [
      "Epoch [129/200], train_loss: -1.9738,  train_score: 0.9614,val_loss: -0.4319,  val_score: 0.4364, genus train_score0.9729, genus val_score0.9155\n"
     ]
    },
    {
     "data": {
      "application/vnd.jupyter.widget-view+json": {
       "model_id": "8b34ff1b78c745b78094ad3d5d24b4ea",
       "version_major": 2,
       "version_minor": 0
      },
      "text/plain": [
       "  0%|          | 0/14 [00:00<?, ?it/s]"
      ]
     },
     "metadata": {},
     "output_type": "display_data"
    },
    {
     "data": {
      "application/vnd.jupyter.widget-view+json": {
       "model_id": "0f5e3e391948408ea31b1a8590aa3871",
       "version_major": 2,
       "version_minor": 0
      },
      "text/plain": [
       "  0%|          | 0/7 [00:00<?, ?it/s]"
      ]
     },
     "metadata": {},
     "output_type": "display_data"
    },
    {
     "name": "stdout",
     "output_type": "stream",
     "text": [
      "Epoch [130/200], train_loss: -1.9478,  train_score: 0.9613,val_loss: -0.4126,  val_score: 0.4368, genus train_score0.9727, genus val_score0.9156\n"
     ]
    },
    {
     "data": {
      "application/vnd.jupyter.widget-view+json": {
       "model_id": "2580dfe9be49422e82e9d5a26a04c299",
       "version_major": 2,
       "version_minor": 0
      },
      "text/plain": [
       "  0%|          | 0/14 [00:00<?, ?it/s]"
      ]
     },
     "metadata": {},
     "output_type": "display_data"
    },
    {
     "data": {
      "application/vnd.jupyter.widget-view+json": {
       "model_id": "84353cdb6d2f41fb9342e57c526c4981",
       "version_major": 2,
       "version_minor": 0
      },
      "text/plain": [
       "  0%|          | 0/7 [00:00<?, ?it/s]"
      ]
     },
     "metadata": {},
     "output_type": "display_data"
    },
    {
     "name": "stdout",
     "output_type": "stream",
     "text": [
      "Epoch [131/200], train_loss: -1.9485,  train_score: 0.9622,val_loss: -0.4665,  val_score: 0.4367, genus train_score0.9727, genus val_score0.9162\n"
     ]
    },
    {
     "data": {
      "application/vnd.jupyter.widget-view+json": {
       "model_id": "04ab35d6efad4841825951d2be4dfa5c",
       "version_major": 2,
       "version_minor": 0
      },
      "text/plain": [
       "  0%|          | 0/14 [00:00<?, ?it/s]"
      ]
     },
     "metadata": {},
     "output_type": "display_data"
    },
    {
     "data": {
      "application/vnd.jupyter.widget-view+json": {
       "model_id": "6acc488bc5fa466c96406b545463f697",
       "version_major": 2,
       "version_minor": 0
      },
      "text/plain": [
       "  0%|          | 0/7 [00:00<?, ?it/s]"
      ]
     },
     "metadata": {},
     "output_type": "display_data"
    },
    {
     "name": "stdout",
     "output_type": "stream",
     "text": [
      "Epoch [132/200], train_loss: -1.8902,  train_score: 0.9622,val_loss: -0.4298,  val_score: 0.4371, genus train_score0.9727, genus val_score0.9165\n"
     ]
    },
    {
     "data": {
      "application/vnd.jupyter.widget-view+json": {
       "model_id": "b92a5501a25c46f2b27950d610932c61",
       "version_major": 2,
       "version_minor": 0
      },
      "text/plain": [
       "  0%|          | 0/14 [00:00<?, ?it/s]"
      ]
     },
     "metadata": {},
     "output_type": "display_data"
    },
    {
     "data": {
      "application/vnd.jupyter.widget-view+json": {
       "model_id": "e25cd3a822064c4c84186aff6bef3ddf",
       "version_major": 2,
       "version_minor": 0
      },
      "text/plain": [
       "  0%|          | 0/7 [00:00<?, ?it/s]"
      ]
     },
     "metadata": {},
     "output_type": "display_data"
    },
    {
     "name": "stdout",
     "output_type": "stream",
     "text": [
      "Epoch [133/200], train_loss: -1.9470,  train_score: 0.9603,val_loss: -0.4318,  val_score: 0.4361, genus train_score0.9730, genus val_score0.9191\n"
     ]
    },
    {
     "data": {
      "application/vnd.jupyter.widget-view+json": {
       "model_id": "d1ae7d593f094b16969e88a2acea75b2",
       "version_major": 2,
       "version_minor": 0
      },
      "text/plain": [
       "  0%|          | 0/14 [00:00<?, ?it/s]"
      ]
     },
     "metadata": {},
     "output_type": "display_data"
    },
    {
     "data": {
      "application/vnd.jupyter.widget-view+json": {
       "model_id": "1e5010fccade4d778cfd0e4732b0f4fc",
       "version_major": 2,
       "version_minor": 0
      },
      "text/plain": [
       "  0%|          | 0/7 [00:00<?, ?it/s]"
      ]
     },
     "metadata": {},
     "output_type": "display_data"
    },
    {
     "name": "stdout",
     "output_type": "stream",
     "text": [
      "Epoch [134/200], train_loss: -1.8973,  train_score: 0.9607,val_loss: -0.4528,  val_score: 0.4362, genus train_score0.9729, genus val_score0.9185\n"
     ]
    },
    {
     "data": {
      "application/vnd.jupyter.widget-view+json": {
       "model_id": "eaedbd442bbc4c458d605fdf415a71ac",
       "version_major": 2,
       "version_minor": 0
      },
      "text/plain": [
       "  0%|          | 0/14 [00:00<?, ?it/s]"
      ]
     },
     "metadata": {},
     "output_type": "display_data"
    },
    {
     "data": {
      "application/vnd.jupyter.widget-view+json": {
       "model_id": "29eac950c9ba498e99dbafee78d13045",
       "version_major": 2,
       "version_minor": 0
      },
      "text/plain": [
       "  0%|          | 0/7 [00:00<?, ?it/s]"
      ]
     },
     "metadata": {},
     "output_type": "display_data"
    },
    {
     "name": "stdout",
     "output_type": "stream",
     "text": [
      "Epoch [135/200], train_loss: -1.9742,  train_score: 0.9609,val_loss: -0.4523,  val_score: 0.4365, genus train_score0.9729, genus val_score0.9186\n"
     ]
    },
    {
     "data": {
      "application/vnd.jupyter.widget-view+json": {
       "model_id": "441e9b5564d6453ab150d68f5ff56006",
       "version_major": 2,
       "version_minor": 0
      },
      "text/plain": [
       "  0%|          | 0/14 [00:00<?, ?it/s]"
      ]
     },
     "metadata": {},
     "output_type": "display_data"
    },
    {
     "data": {
      "application/vnd.jupyter.widget-view+json": {
       "model_id": "1c1652adaa734ce99a7117ffd24a4004",
       "version_major": 2,
       "version_minor": 0
      },
      "text/plain": [
       "  0%|          | 0/7 [00:00<?, ?it/s]"
      ]
     },
     "metadata": {},
     "output_type": "display_data"
    },
    {
     "name": "stdout",
     "output_type": "stream",
     "text": [
      "Epoch [136/200], train_loss: -1.9741,  train_score: 0.9617,val_loss: -0.4238,  val_score: 0.4370, genus train_score0.9731, genus val_score0.9178\n"
     ]
    },
    {
     "data": {
      "application/vnd.jupyter.widget-view+json": {
       "model_id": "e87f8a57c96f41b5a303c2710b24850c",
       "version_major": 2,
       "version_minor": 0
      },
      "text/plain": [
       "  0%|          | 0/14 [00:00<?, ?it/s]"
      ]
     },
     "metadata": {},
     "output_type": "display_data"
    },
    {
     "data": {
      "application/vnd.jupyter.widget-view+json": {
       "model_id": "c59a7a71fc7a48ec8a3e639d6c4bd1ce",
       "version_major": 2,
       "version_minor": 0
      },
      "text/plain": [
       "  0%|          | 0/7 [00:00<?, ?it/s]"
      ]
     },
     "metadata": {},
     "output_type": "display_data"
    },
    {
     "name": "stdout",
     "output_type": "stream",
     "text": [
      "Epoch [137/200], train_loss: -1.9740,  train_score: 0.9613,val_loss: -0.4308,  val_score: 0.4370, genus train_score0.9729, genus val_score0.9172\n"
     ]
    },
    {
     "data": {
      "application/vnd.jupyter.widget-view+json": {
       "model_id": "6e32ccfd882c49a28dc3ff1cf50d5655",
       "version_major": 2,
       "version_minor": 0
      },
      "text/plain": [
       "  0%|          | 0/14 [00:00<?, ?it/s]"
      ]
     },
     "metadata": {},
     "output_type": "display_data"
    },
    {
     "data": {
      "application/vnd.jupyter.widget-view+json": {
       "model_id": "59059ecf3f2248b08c4596267c720247",
       "version_major": 2,
       "version_minor": 0
      },
      "text/plain": [
       "  0%|          | 0/7 [00:00<?, ?it/s]"
      ]
     },
     "metadata": {},
     "output_type": "display_data"
    },
    {
     "name": "stdout",
     "output_type": "stream",
     "text": [
      "Epoch [138/200], train_loss: -1.9485,  train_score: 0.9618,val_loss: -0.4271,  val_score: 0.4370, genus train_score0.9732, genus val_score0.9162\n"
     ]
    },
    {
     "data": {
      "application/vnd.jupyter.widget-view+json": {
       "model_id": "c4caaebd91fa4cd19a39b7d952c5bcbc",
       "version_major": 2,
       "version_minor": 0
      },
      "text/plain": [
       "  0%|          | 0/14 [00:00<?, ?it/s]"
      ]
     },
     "metadata": {},
     "output_type": "display_data"
    },
    {
     "data": {
      "application/vnd.jupyter.widget-view+json": {
       "model_id": "832ffdbc9e5d43ac9cb68dee6b41f1d7",
       "version_major": 2,
       "version_minor": 0
      },
      "text/plain": [
       "  0%|          | 0/7 [00:00<?, ?it/s]"
      ]
     },
     "metadata": {},
     "output_type": "display_data"
    },
    {
     "name": "stdout",
     "output_type": "stream",
     "text": [
      "Epoch [139/200], train_loss: -1.8970,  train_score: 0.9621,val_loss: -0.4276,  val_score: 0.4371, genus train_score0.9731, genus val_score0.9163\n"
     ]
    },
    {
     "data": {
      "application/vnd.jupyter.widget-view+json": {
       "model_id": "45b27168e15d4e058d825c2bc5a40ced",
       "version_major": 2,
       "version_minor": 0
      },
      "text/plain": [
       "  0%|          | 0/14 [00:00<?, ?it/s]"
      ]
     },
     "metadata": {},
     "output_type": "display_data"
    },
    {
     "data": {
      "application/vnd.jupyter.widget-view+json": {
       "model_id": "7de41ce8e7ef4269883183cb69615910",
       "version_major": 2,
       "version_minor": 0
      },
      "text/plain": [
       "  0%|          | 0/7 [00:00<?, ?it/s]"
      ]
     },
     "metadata": {},
     "output_type": "display_data"
    },
    {
     "name": "stdout",
     "output_type": "stream",
     "text": [
      "Epoch [140/200], train_loss: -1.8711,  train_score: 0.9623,val_loss: -0.4272,  val_score: 0.4378, genus train_score0.9732, genus val_score0.9169\n"
     ]
    },
    {
     "data": {
      "application/vnd.jupyter.widget-view+json": {
       "model_id": "8afcb3f392334a498101284dcfb67a85",
       "version_major": 2,
       "version_minor": 0
      },
      "text/plain": [
       "  0%|          | 0/14 [00:00<?, ?it/s]"
      ]
     },
     "metadata": {},
     "output_type": "display_data"
    },
    {
     "data": {
      "application/vnd.jupyter.widget-view+json": {
       "model_id": "f3746c906df34662b573d77bf9273a2e",
       "version_major": 2,
       "version_minor": 0
      },
      "text/plain": [
       "  0%|          | 0/7 [00:00<?, ?it/s]"
      ]
     },
     "metadata": {},
     "output_type": "display_data"
    },
    {
     "name": "stdout",
     "output_type": "stream",
     "text": [
      "Epoch [141/200], train_loss: -1.9481,  train_score: 0.9636,val_loss: -0.4616,  val_score: 0.4384, genus train_score0.9734, genus val_score0.9146\n"
     ]
    },
    {
     "data": {
      "application/vnd.jupyter.widget-view+json": {
       "model_id": "fe50ccea546141c2adda10b478676a35",
       "version_major": 2,
       "version_minor": 0
      },
      "text/plain": [
       "  0%|          | 0/14 [00:00<?, ?it/s]"
      ]
     },
     "metadata": {},
     "output_type": "display_data"
    },
    {
     "data": {
      "application/vnd.jupyter.widget-view+json": {
       "model_id": "479316e14f7b4fd4885fa41a85140856",
       "version_major": 2,
       "version_minor": 0
      },
      "text/plain": [
       "  0%|          | 0/7 [00:00<?, ?it/s]"
      ]
     },
     "metadata": {},
     "output_type": "display_data"
    },
    {
     "name": "stdout",
     "output_type": "stream",
     "text": [
      "Epoch [142/200], train_loss: -1.9222,  train_score: 0.9650,val_loss: -0.4292,  val_score: 0.4384, genus train_score0.9734, genus val_score0.9155\n"
     ]
    },
    {
     "data": {
      "application/vnd.jupyter.widget-view+json": {
       "model_id": "7923ea8b54a345ac83b2d62ec8cd7ba5",
       "version_major": 2,
       "version_minor": 0
      },
      "text/plain": [
       "  0%|          | 0/14 [00:00<?, ?it/s]"
      ]
     },
     "metadata": {},
     "output_type": "display_data"
    },
    {
     "data": {
      "application/vnd.jupyter.widget-view+json": {
       "model_id": "9c90f41813bc406c838c48831735edae",
       "version_major": 2,
       "version_minor": 0
      },
      "text/plain": [
       "  0%|          | 0/7 [00:00<?, ?it/s]"
      ]
     },
     "metadata": {},
     "output_type": "display_data"
    },
    {
     "name": "stdout",
     "output_type": "stream",
     "text": [
      "Epoch [143/200], train_loss: -1.9873,  train_score: 0.9653,val_loss: -0.4564,  val_score: 0.4384, genus train_score0.9734, genus val_score0.9170\n"
     ]
    },
    {
     "data": {
      "application/vnd.jupyter.widget-view+json": {
       "model_id": "fdcf83005d9f4251b2872bb47752df78",
       "version_major": 2,
       "version_minor": 0
      },
      "text/plain": [
       "  0%|          | 0/14 [00:00<?, ?it/s]"
      ]
     },
     "metadata": {},
     "output_type": "display_data"
    },
    {
     "data": {
      "application/vnd.jupyter.widget-view+json": {
       "model_id": "05841cd925b24f84892148c3312fa616",
       "version_major": 2,
       "version_minor": 0
      },
      "text/plain": [
       "  0%|          | 0/7 [00:00<?, ?it/s]"
      ]
     },
     "metadata": {},
     "output_type": "display_data"
    },
    {
     "name": "stdout",
     "output_type": "stream",
     "text": [
      "Epoch [144/200], train_loss: -1.8716,  train_score: 0.9653,val_loss: -0.4236,  val_score: 0.4384, genus train_score0.9733, genus val_score0.9189\n"
     ]
    },
    {
     "data": {
      "application/vnd.jupyter.widget-view+json": {
       "model_id": "915181278210454eaa253eb2becc5e4e",
       "version_major": 2,
       "version_minor": 0
      },
      "text/plain": [
       "  0%|          | 0/14 [00:00<?, ?it/s]"
      ]
     },
     "metadata": {},
     "output_type": "display_data"
    },
    {
     "data": {
      "application/vnd.jupyter.widget-view+json": {
       "model_id": "449a73290c15432b8e0f2d4f4be5a9d8",
       "version_major": 2,
       "version_minor": 0
      },
      "text/plain": [
       "  0%|          | 0/7 [00:00<?, ?it/s]"
      ]
     },
     "metadata": {},
     "output_type": "display_data"
    },
    {
     "name": "stdout",
     "output_type": "stream",
     "text": [
      "Epoch [145/200], train_loss: -1.9985,  train_score: 0.9661,val_loss: -0.4255,  val_score: 0.4385, genus train_score0.9734, genus val_score0.9205\n"
     ]
    },
    {
     "data": {
      "application/vnd.jupyter.widget-view+json": {
       "model_id": "3390bd13144d435db1dd644a94551619",
       "version_major": 2,
       "version_minor": 0
      },
      "text/plain": [
       "  0%|          | 0/14 [00:00<?, ?it/s]"
      ]
     },
     "metadata": {},
     "output_type": "display_data"
    },
    {
     "data": {
      "application/vnd.jupyter.widget-view+json": {
       "model_id": "c63d5980a55b42ffb3d43f120b820127",
       "version_major": 2,
       "version_minor": 0
      },
      "text/plain": [
       "  0%|          | 0/7 [00:00<?, ?it/s]"
      ]
     },
     "metadata": {},
     "output_type": "display_data"
    },
    {
     "name": "stdout",
     "output_type": "stream",
     "text": [
      "Epoch [146/200], train_loss: -1.9228,  train_score: 0.9659,val_loss: -0.4585,  val_score: 0.4393, genus train_score0.9735, genus val_score0.9218\n"
     ]
    },
    {
     "data": {
      "application/vnd.jupyter.widget-view+json": {
       "model_id": "9a84f4f5da72466fa9b5a5b60476929f",
       "version_major": 2,
       "version_minor": 0
      },
      "text/plain": [
       "  0%|          | 0/14 [00:00<?, ?it/s]"
      ]
     },
     "metadata": {},
     "output_type": "display_data"
    },
    {
     "data": {
      "application/vnd.jupyter.widget-view+json": {
       "model_id": "2bb8e7221c0742b6b980f591ef8f41ac",
       "version_major": 2,
       "version_minor": 0
      },
      "text/plain": [
       "  0%|          | 0/7 [00:00<?, ?it/s]"
      ]
     },
     "metadata": {},
     "output_type": "display_data"
    },
    {
     "name": "stdout",
     "output_type": "stream",
     "text": [
      "Epoch [147/200], train_loss: -1.8973,  train_score: 0.9669,val_loss: -0.4249,  val_score: 0.4394, genus train_score0.9734, genus val_score0.9206\n"
     ]
    },
    {
     "data": {
      "application/vnd.jupyter.widget-view+json": {
       "model_id": "bdd55b3e92584c239eb40a5fd3b4ea9b",
       "version_major": 2,
       "version_minor": 0
      },
      "text/plain": [
       "  0%|          | 0/14 [00:00<?, ?it/s]"
      ]
     },
     "metadata": {},
     "output_type": "display_data"
    },
    {
     "data": {
      "application/vnd.jupyter.widget-view+json": {
       "model_id": "f521ea1be8064a47accbf641bc41bb81",
       "version_major": 2,
       "version_minor": 0
      },
      "text/plain": [
       "  0%|          | 0/7 [00:00<?, ?it/s]"
      ]
     },
     "metadata": {},
     "output_type": "display_data"
    },
    {
     "name": "stdout",
     "output_type": "stream",
     "text": [
      "Epoch [148/200], train_loss: -1.9421,  train_score: 0.9672,val_loss: -0.4230,  val_score: 0.4394, genus train_score0.9737, genus val_score0.9189\n"
     ]
    },
    {
     "data": {
      "application/vnd.jupyter.widget-view+json": {
       "model_id": "5c2d8d7644a94bb1a6113b8b8bccb06e",
       "version_major": 2,
       "version_minor": 0
      },
      "text/plain": [
       "  0%|          | 0/14 [00:00<?, ?it/s]"
      ]
     },
     "metadata": {},
     "output_type": "display_data"
    },
    {
     "data": {
      "application/vnd.jupyter.widget-view+json": {
       "model_id": "91ff70b0ce95413ba7260821e0878b62",
       "version_major": 2,
       "version_minor": 0
      },
      "text/plain": [
       "  0%|          | 0/7 [00:00<?, ?it/s]"
      ]
     },
     "metadata": {},
     "output_type": "display_data"
    },
    {
     "name": "stdout",
     "output_type": "stream",
     "text": [
      "Epoch [149/200], train_loss: -1.9483,  train_score: 0.9678,val_loss: -0.4366,  val_score: 0.4395, genus train_score0.9737, genus val_score0.9206\n"
     ]
    },
    {
     "data": {
      "application/vnd.jupyter.widget-view+json": {
       "model_id": "837e63cdf016421dab9178500dee2fae",
       "version_major": 2,
       "version_minor": 0
      },
      "text/plain": [
       "  0%|          | 0/14 [00:00<?, ?it/s]"
      ]
     },
     "metadata": {},
     "output_type": "display_data"
    },
    {
     "data": {
      "application/vnd.jupyter.widget-view+json": {
       "model_id": "8e70468a4ae447c6a014d288a3a3c8d3",
       "version_major": 2,
       "version_minor": 0
      },
      "text/plain": [
       "  0%|          | 0/7 [00:00<?, ?it/s]"
      ]
     },
     "metadata": {},
     "output_type": "display_data"
    },
    {
     "name": "stdout",
     "output_type": "stream",
     "text": [
      "Epoch [150/200], train_loss: -1.9229,  train_score: 0.9684,val_loss: -0.4315,  val_score: 0.4397, genus train_score0.9740, genus val_score0.9206\n"
     ]
    },
    {
     "data": {
      "application/vnd.jupyter.widget-view+json": {
       "model_id": "7f6a2da7545d44388763beaf228aa76a",
       "version_major": 2,
       "version_minor": 0
      },
      "text/plain": [
       "  0%|          | 0/14 [00:00<?, ?it/s]"
      ]
     },
     "metadata": {},
     "output_type": "display_data"
    },
    {
     "data": {
      "application/vnd.jupyter.widget-view+json": {
       "model_id": "bf635de0e1e443dd94d5d1b597ab0b6d",
       "version_major": 2,
       "version_minor": 0
      },
      "text/plain": [
       "  0%|          | 0/7 [00:00<?, ?it/s]"
      ]
     },
     "metadata": {},
     "output_type": "display_data"
    },
    {
     "name": "stdout",
     "output_type": "stream",
     "text": [
      "Epoch [151/200], train_loss: -1.8932,  train_score: 0.9690,val_loss: -0.4353,  val_score: 0.4404, genus train_score0.9741, genus val_score0.9218\n"
     ]
    },
    {
     "data": {
      "application/vnd.jupyter.widget-view+json": {
       "model_id": "f1a66a72ad1c4a579bfe44f898326a2f",
       "version_major": 2,
       "version_minor": 0
      },
      "text/plain": [
       "  0%|          | 0/14 [00:00<?, ?it/s]"
      ]
     },
     "metadata": {},
     "output_type": "display_data"
    },
    {
     "data": {
      "application/vnd.jupyter.widget-view+json": {
       "model_id": "855a64899efb475c8b50aec5184a28d9",
       "version_major": 2,
       "version_minor": 0
      },
      "text/plain": [
       "  0%|          | 0/7 [00:00<?, ?it/s]"
      ]
     },
     "metadata": {},
     "output_type": "display_data"
    },
    {
     "name": "stdout",
     "output_type": "stream",
     "text": [
      "Epoch [152/200], train_loss: -1.9472,  train_score: 0.9692,val_loss: -0.4403,  val_score: 0.4405, genus train_score0.9742, genus val_score0.9212\n"
     ]
    },
    {
     "data": {
      "application/vnd.jupyter.widget-view+json": {
       "model_id": "b31fbb9c17f24f15975ae05618ee1aa5",
       "version_major": 2,
       "version_minor": 0
      },
      "text/plain": [
       "  0%|          | 0/14 [00:00<?, ?it/s]"
      ]
     },
     "metadata": {},
     "output_type": "display_data"
    },
    {
     "data": {
      "application/vnd.jupyter.widget-view+json": {
       "model_id": "1715d6e92abe45dbb9789813bc0624df",
       "version_major": 2,
       "version_minor": 0
      },
      "text/plain": [
       "  0%|          | 0/7 [00:00<?, ?it/s]"
      ]
     },
     "metadata": {},
     "output_type": "display_data"
    },
    {
     "name": "stdout",
     "output_type": "stream",
     "text": [
      "Epoch [153/200], train_loss: -1.9474,  train_score: 0.9689,val_loss: -0.4351,  val_score: 0.4411, genus train_score0.9742, genus val_score0.9182\n"
     ]
    },
    {
     "data": {
      "application/vnd.jupyter.widget-view+json": {
       "model_id": "a600784322c74a8b8e073a60dc581142",
       "version_major": 2,
       "version_minor": 0
      },
      "text/plain": [
       "  0%|          | 0/14 [00:00<?, ?it/s]"
      ]
     },
     "metadata": {},
     "output_type": "display_data"
    },
    {
     "data": {
      "application/vnd.jupyter.widget-view+json": {
       "model_id": "0396edfc4b1943e3a03949cc60944545",
       "version_major": 2,
       "version_minor": 0
      },
      "text/plain": [
       "  0%|          | 0/7 [00:00<?, ?it/s]"
      ]
     },
     "metadata": {},
     "output_type": "display_data"
    },
    {
     "name": "stdout",
     "output_type": "stream",
     "text": [
      "Epoch [154/200], train_loss: -1.9980,  train_score: 0.9694,val_loss: -0.4479,  val_score: 0.4408, genus train_score0.9740, genus val_score0.9183\n"
     ]
    },
    {
     "data": {
      "application/vnd.jupyter.widget-view+json": {
       "model_id": "464022af02204188b6e1276a73afec18",
       "version_major": 2,
       "version_minor": 0
      },
      "text/plain": [
       "  0%|          | 0/14 [00:00<?, ?it/s]"
      ]
     },
     "metadata": {},
     "output_type": "display_data"
    },
    {
     "data": {
      "application/vnd.jupyter.widget-view+json": {
       "model_id": "7b191ac4defe4d4fa94375b86bb0815a",
       "version_major": 2,
       "version_minor": 0
      },
      "text/plain": [
       "  0%|          | 0/7 [00:00<?, ?it/s]"
      ]
     },
     "metadata": {},
     "output_type": "display_data"
    },
    {
     "name": "stdout",
     "output_type": "stream",
     "text": [
      "Epoch [155/200], train_loss: -1.8241,  train_score: 0.9695,val_loss: -0.4409,  val_score: 0.4408, genus train_score0.9742, genus val_score0.9185\n"
     ]
    },
    {
     "data": {
      "application/vnd.jupyter.widget-view+json": {
       "model_id": "fc88ef9196624624b8a3ca2c47cc67cb",
       "version_major": 2,
       "version_minor": 0
      },
      "text/plain": [
       "  0%|          | 0/14 [00:00<?, ?it/s]"
      ]
     },
     "metadata": {},
     "output_type": "display_data"
    },
    {
     "data": {
      "application/vnd.jupyter.widget-view+json": {
       "model_id": "7e95d0a3634e4b6792df6bfe584c6b8f",
       "version_major": 2,
       "version_minor": 0
      },
      "text/plain": [
       "  0%|          | 0/7 [00:00<?, ?it/s]"
      ]
     },
     "metadata": {},
     "output_type": "display_data"
    },
    {
     "name": "stdout",
     "output_type": "stream",
     "text": [
      "Epoch [156/200], train_loss: -1.9481,  train_score: 0.9691,val_loss: -0.4580,  val_score: 0.4403, genus train_score0.9740, genus val_score0.9149\n"
     ]
    },
    {
     "data": {
      "application/vnd.jupyter.widget-view+json": {
       "model_id": "a8e31594c56d418985ca94cf4db30197",
       "version_major": 2,
       "version_minor": 0
      },
      "text/plain": [
       "  0%|          | 0/14 [00:00<?, ?it/s]"
      ]
     },
     "metadata": {},
     "output_type": "display_data"
    },
    {
     "data": {
      "application/vnd.jupyter.widget-view+json": {
       "model_id": "5809ad3a56384e188401f29e4d3288af",
       "version_major": 2,
       "version_minor": 0
      },
      "text/plain": [
       "  0%|          | 0/7 [00:00<?, ?it/s]"
      ]
     },
     "metadata": {},
     "output_type": "display_data"
    },
    {
     "name": "stdout",
     "output_type": "stream",
     "text": [
      "Epoch [157/200], train_loss: -1.9286,  train_score: 0.9695,val_loss: -0.4393,  val_score: 0.4404, genus train_score0.9750, genus val_score0.9163\n"
     ]
    },
    {
     "data": {
      "application/vnd.jupyter.widget-view+json": {
       "model_id": "1a28e05986bb4668a0befd8ead2eab7b",
       "version_major": 2,
       "version_minor": 0
      },
      "text/plain": [
       "  0%|          | 0/14 [00:00<?, ?it/s]"
      ]
     },
     "metadata": {},
     "output_type": "display_data"
    },
    {
     "data": {
      "application/vnd.jupyter.widget-view+json": {
       "model_id": "6cae111aff5142f489407a5725b8128d",
       "version_major": 2,
       "version_minor": 0
      },
      "text/plain": [
       "  0%|          | 0/7 [00:00<?, ?it/s]"
      ]
     },
     "metadata": {},
     "output_type": "display_data"
    },
    {
     "name": "stdout",
     "output_type": "stream",
     "text": [
      "Epoch [158/200], train_loss: -1.9226,  train_score: 0.9684,val_loss: -0.4380,  val_score: 0.4400, genus train_score0.9753, genus val_score0.9166\n"
     ]
    },
    {
     "data": {
      "application/vnd.jupyter.widget-view+json": {
       "model_id": "91952150c898448ea8040fb42cb5eba0",
       "version_major": 2,
       "version_minor": 0
      },
      "text/plain": [
       "  0%|          | 0/14 [00:00<?, ?it/s]"
      ]
     },
     "metadata": {},
     "output_type": "display_data"
    },
    {
     "data": {
      "application/vnd.jupyter.widget-view+json": {
       "model_id": "b4e7d09e8ab242ba97a14ca02072233f",
       "version_major": 2,
       "version_minor": 0
      },
      "text/plain": [
       "  0%|          | 0/7 [00:00<?, ?it/s]"
      ]
     },
     "metadata": {},
     "output_type": "display_data"
    },
    {
     "name": "stdout",
     "output_type": "stream",
     "text": [
      "Epoch [159/200], train_loss: -1.9478,  train_score: 0.9689,val_loss: -0.4574,  val_score: 0.4400, genus train_score0.9755, genus val_score0.9172\n"
     ]
    },
    {
     "data": {
      "application/vnd.jupyter.widget-view+json": {
       "model_id": "5bde4236ac574f7f80008843652331bf",
       "version_major": 2,
       "version_minor": 0
      },
      "text/plain": [
       "  0%|          | 0/14 [00:00<?, ?it/s]"
      ]
     },
     "metadata": {},
     "output_type": "display_data"
    },
    {
     "data": {
      "application/vnd.jupyter.widget-view+json": {
       "model_id": "d39f66b04a4b4d6a8f55d6dfe00150d0",
       "version_major": 2,
       "version_minor": 0
      },
      "text/plain": [
       "  0%|          | 0/7 [00:00<?, ?it/s]"
      ]
     },
     "metadata": {},
     "output_type": "display_data"
    },
    {
     "name": "stdout",
     "output_type": "stream",
     "text": [
      "Epoch [160/200], train_loss: -1.9741,  train_score: 0.9702,val_loss: -0.4186,  val_score: 0.4407, genus train_score0.9758, genus val_score0.9173\n"
     ]
    },
    {
     "data": {
      "application/vnd.jupyter.widget-view+json": {
       "model_id": "4b0db76ef46d4032834bdf67f7244b6e",
       "version_major": 2,
       "version_minor": 0
      },
      "text/plain": [
       "  0%|          | 0/14 [00:00<?, ?it/s]"
      ]
     },
     "metadata": {},
     "output_type": "display_data"
    },
    {
     "data": {
      "application/vnd.jupyter.widget-view+json": {
       "model_id": "cff92bcdde8c46358e981f653feca659",
       "version_major": 2,
       "version_minor": 0
      },
      "text/plain": [
       "  0%|          | 0/7 [00:00<?, ?it/s]"
      ]
     },
     "metadata": {},
     "output_type": "display_data"
    },
    {
     "name": "stdout",
     "output_type": "stream",
     "text": [
      "Epoch [161/200], train_loss: -1.9228,  train_score: 0.9702,val_loss: -0.4334,  val_score: 0.4408, genus train_score0.9753, genus val_score0.9224\n"
     ]
    },
    {
     "data": {
      "application/vnd.jupyter.widget-view+json": {
       "model_id": "1a62f771d35749bf8a64f4fee9de3a17",
       "version_major": 2,
       "version_minor": 0
      },
      "text/plain": [
       "  0%|          | 0/14 [00:00<?, ?it/s]"
      ]
     },
     "metadata": {},
     "output_type": "display_data"
    },
    {
     "data": {
      "application/vnd.jupyter.widget-view+json": {
       "model_id": "7cb893e3265a49fd8a0749526f180166",
       "version_major": 2,
       "version_minor": 0
      },
      "text/plain": [
       "  0%|          | 0/7 [00:00<?, ?it/s]"
      ]
     },
     "metadata": {},
     "output_type": "display_data"
    },
    {
     "name": "stdout",
     "output_type": "stream",
     "text": [
      "Epoch [162/200], train_loss: -1.9432,  train_score: 0.9707,val_loss: -0.4497,  val_score: 0.4408, genus train_score0.9755, genus val_score0.9225\n"
     ]
    },
    {
     "data": {
      "application/vnd.jupyter.widget-view+json": {
       "model_id": "e09e5448ebe04e9f8ad8e368fd0a06bf",
       "version_major": 2,
       "version_minor": 0
      },
      "text/plain": [
       "  0%|          | 0/14 [00:00<?, ?it/s]"
      ]
     },
     "metadata": {},
     "output_type": "display_data"
    },
    {
     "data": {
      "application/vnd.jupyter.widget-view+json": {
       "model_id": "576d92693fbf4cc990fde528337decdb",
       "version_major": 2,
       "version_minor": 0
      },
      "text/plain": [
       "  0%|          | 0/7 [00:00<?, ?it/s]"
      ]
     },
     "metadata": {},
     "output_type": "display_data"
    },
    {
     "name": "stdout",
     "output_type": "stream",
     "text": [
      "Epoch [163/200], train_loss: -1.8678,  train_score: 0.9703,val_loss: -0.4350,  val_score: 0.4407, genus train_score0.9758, genus val_score0.9225\n"
     ]
    },
    {
     "data": {
      "application/vnd.jupyter.widget-view+json": {
       "model_id": "9e991fa11a1d4e0496e8fc76e1f26ee6",
       "version_major": 2,
       "version_minor": 0
      },
      "text/plain": [
       "  0%|          | 0/14 [00:00<?, ?it/s]"
      ]
     },
     "metadata": {},
     "output_type": "display_data"
    },
    {
     "data": {
      "application/vnd.jupyter.widget-view+json": {
       "model_id": "509632b60c3e41c38ea5430c52f8e21c",
       "version_major": 2,
       "version_minor": 0
      },
      "text/plain": [
       "  0%|          | 0/7 [00:00<?, ?it/s]"
      ]
     },
     "metadata": {},
     "output_type": "display_data"
    },
    {
     "name": "stdout",
     "output_type": "stream",
     "text": [
      "Epoch [164/200], train_loss: -1.9486,  train_score: 0.9705,val_loss: -0.4466,  val_score: 0.4408, genus train_score0.9757, genus val_score0.9208\n"
     ]
    },
    {
     "data": {
      "application/vnd.jupyter.widget-view+json": {
       "model_id": "2d1bee3f236e46be90ce54f085c7fcd1",
       "version_major": 2,
       "version_minor": 0
      },
      "text/plain": [
       "  0%|          | 0/14 [00:00<?, ?it/s]"
      ]
     },
     "metadata": {},
     "output_type": "display_data"
    },
    {
     "data": {
      "application/vnd.jupyter.widget-view+json": {
       "model_id": "bc4eac271a754632b42587101efdf47f",
       "version_major": 2,
       "version_minor": 0
      },
      "text/plain": [
       "  0%|          | 0/7 [00:00<?, ?it/s]"
      ]
     },
     "metadata": {},
     "output_type": "display_data"
    },
    {
     "name": "stdout",
     "output_type": "stream",
     "text": [
      "Epoch [165/200], train_loss: -1.8579,  train_score: 0.9703,val_loss: -0.4312,  val_score: 0.4407, genus train_score0.9761, genus val_score0.9201\n"
     ]
    },
    {
     "data": {
      "application/vnd.jupyter.widget-view+json": {
       "model_id": "bf5b92fdd5a94d709324b3a5470e4aa9",
       "version_major": 2,
       "version_minor": 0
      },
      "text/plain": [
       "  0%|          | 0/14 [00:00<?, ?it/s]"
      ]
     },
     "metadata": {},
     "output_type": "display_data"
    },
    {
     "data": {
      "application/vnd.jupyter.widget-view+json": {
       "model_id": "c90ba807d66142dc8b14b29b03afbcdd",
       "version_major": 2,
       "version_minor": 0
      },
      "text/plain": [
       "  0%|          | 0/7 [00:00<?, ?it/s]"
      ]
     },
     "metadata": {},
     "output_type": "display_data"
    },
    {
     "name": "stdout",
     "output_type": "stream",
     "text": [
      "Epoch [166/200], train_loss: -1.9484,  train_score: 0.9705,val_loss: -0.4571,  val_score: 0.4407, genus train_score0.9762, genus val_score0.9208\n"
     ]
    },
    {
     "data": {
      "application/vnd.jupyter.widget-view+json": {
       "model_id": "a83fea2cc5ee40a39c129913c0153cc5",
       "version_major": 2,
       "version_minor": 0
      },
      "text/plain": [
       "  0%|          | 0/14 [00:00<?, ?it/s]"
      ]
     },
     "metadata": {},
     "output_type": "display_data"
    },
    {
     "data": {
      "application/vnd.jupyter.widget-view+json": {
       "model_id": "7184c2a614c54c20b5366a4dd902548f",
       "version_major": 2,
       "version_minor": 0
      },
      "text/plain": [
       "  0%|          | 0/7 [00:00<?, ?it/s]"
      ]
     },
     "metadata": {},
     "output_type": "display_data"
    },
    {
     "name": "stdout",
     "output_type": "stream",
     "text": [
      "Epoch [167/200], train_loss: -1.9445,  train_score: 0.9702,val_loss: -0.4439,  val_score: 0.4407, genus train_score0.9759, genus val_score0.9221\n"
     ]
    },
    {
     "data": {
      "application/vnd.jupyter.widget-view+json": {
       "model_id": "c9977771c3b242279f9981027de59482",
       "version_major": 2,
       "version_minor": 0
      },
      "text/plain": [
       "  0%|          | 0/14 [00:00<?, ?it/s]"
      ]
     },
     "metadata": {},
     "output_type": "display_data"
    },
    {
     "data": {
      "application/vnd.jupyter.widget-view+json": {
       "model_id": "a5537fba3fd14e1f8eb69fe9f0dc94d9",
       "version_major": 2,
       "version_minor": 0
      },
      "text/plain": [
       "  0%|          | 0/7 [00:00<?, ?it/s]"
      ]
     },
     "metadata": {},
     "output_type": "display_data"
    },
    {
     "name": "stdout",
     "output_type": "stream",
     "text": [
      "Epoch [168/200], train_loss: -1.8973,  train_score: 0.9718,val_loss: -0.4391,  val_score: 0.4407, genus train_score0.9759, genus val_score0.9189\n"
     ]
    },
    {
     "data": {
      "application/vnd.jupyter.widget-view+json": {
       "model_id": "13b4980becf94e4988f083cfa86271a3",
       "version_major": 2,
       "version_minor": 0
      },
      "text/plain": [
       "  0%|          | 0/14 [00:00<?, ?it/s]"
      ]
     },
     "metadata": {},
     "output_type": "display_data"
    },
    {
     "data": {
      "application/vnd.jupyter.widget-view+json": {
       "model_id": "c7c5e4a699df47c581d4d418140ff803",
       "version_major": 2,
       "version_minor": 0
      },
      "text/plain": [
       "  0%|          | 0/7 [00:00<?, ?it/s]"
      ]
     },
     "metadata": {},
     "output_type": "display_data"
    },
    {
     "name": "stdout",
     "output_type": "stream",
     "text": [
      "Epoch [169/200], train_loss: -1.9998,  train_score: 0.9712,val_loss: -0.4369,  val_score: 0.4408, genus train_score0.9758, genus val_score0.9153\n"
     ]
    },
    {
     "data": {
      "application/vnd.jupyter.widget-view+json": {
       "model_id": "59d2f3e1edae442abe2aba7e7a2b1deb",
       "version_major": 2,
       "version_minor": 0
      },
      "text/plain": [
       "  0%|          | 0/14 [00:00<?, ?it/s]"
      ]
     },
     "metadata": {},
     "output_type": "display_data"
    },
    {
     "data": {
      "application/vnd.jupyter.widget-view+json": {
       "model_id": "0fb608ba58614e4f85a5be23c3f7fd6d",
       "version_major": 2,
       "version_minor": 0
      },
      "text/plain": [
       "  0%|          | 0/7 [00:00<?, ?it/s]"
      ]
     },
     "metadata": {},
     "output_type": "display_data"
    },
    {
     "name": "stdout",
     "output_type": "stream",
     "text": [
      "Epoch [170/200], train_loss: -1.9741,  train_score: 0.9716,val_loss: -0.4397,  val_score: 0.4408, genus train_score0.9759, genus val_score0.9162\n"
     ]
    },
    {
     "data": {
      "application/vnd.jupyter.widget-view+json": {
       "model_id": "28f073d592774425a34cc04bc55135b7",
       "version_major": 2,
       "version_minor": 0
      },
      "text/plain": [
       "  0%|          | 0/14 [00:00<?, ?it/s]"
      ]
     },
     "metadata": {},
     "output_type": "display_data"
    },
    {
     "data": {
      "application/vnd.jupyter.widget-view+json": {
       "model_id": "dd1711d9d5634a4e896954d3e20c7f1f",
       "version_major": 2,
       "version_minor": 0
      },
      "text/plain": [
       "  0%|          | 0/7 [00:00<?, ?it/s]"
      ]
     },
     "metadata": {},
     "output_type": "display_data"
    },
    {
     "name": "stdout",
     "output_type": "stream",
     "text": [
      "Epoch [171/200], train_loss: -1.9731,  train_score: 0.9715,val_loss: -0.4541,  val_score: 0.4410, genus train_score0.9758, genus val_score0.9169\n"
     ]
    },
    {
     "data": {
      "application/vnd.jupyter.widget-view+json": {
       "model_id": "bea13e0a99794290abf9616182c69db3",
       "version_major": 2,
       "version_minor": 0
      },
      "text/plain": [
       "  0%|          | 0/14 [00:00<?, ?it/s]"
      ]
     },
     "metadata": {},
     "output_type": "display_data"
    },
    {
     "data": {
      "application/vnd.jupyter.widget-view+json": {
       "model_id": "8439170cc07a48de88ab33e853456a1c",
       "version_major": 2,
       "version_minor": 0
      },
      "text/plain": [
       "  0%|          | 0/7 [00:00<?, ?it/s]"
      ]
     },
     "metadata": {},
     "output_type": "display_data"
    },
    {
     "name": "stdout",
     "output_type": "stream",
     "text": [
      "Epoch [172/200], train_loss: -1.9482,  train_score: 0.9715,val_loss: -0.4577,  val_score: 0.4410, genus train_score0.9761, genus val_score0.9205\n"
     ]
    },
    {
     "data": {
      "application/vnd.jupyter.widget-view+json": {
       "model_id": "ffc4175535d647c0b50246391ddc2a2a",
       "version_major": 2,
       "version_minor": 0
      },
      "text/plain": [
       "  0%|          | 0/14 [00:00<?, ?it/s]"
      ]
     },
     "metadata": {},
     "output_type": "display_data"
    },
    {
     "data": {
      "application/vnd.jupyter.widget-view+json": {
       "model_id": "7f8d4b18ddeb4f3db94083d3e18d2dcb",
       "version_major": 2,
       "version_minor": 0
      },
      "text/plain": [
       "  0%|          | 0/7 [00:00<?, ?it/s]"
      ]
     },
     "metadata": {},
     "output_type": "display_data"
    },
    {
     "name": "stdout",
     "output_type": "stream",
     "text": [
      "Epoch [173/200], train_loss: -1.9229,  train_score: 0.9714,val_loss: -0.4617,  val_score: 0.4408, genus train_score0.9760, genus val_score0.9225\n"
     ]
    },
    {
     "data": {
      "application/vnd.jupyter.widget-view+json": {
       "model_id": "0369bb3645cd4c2794e504b057162ef1",
       "version_major": 2,
       "version_minor": 0
      },
      "text/plain": [
       "  0%|          | 0/14 [00:00<?, ?it/s]"
      ]
     },
     "metadata": {},
     "output_type": "display_data"
    },
    {
     "data": {
      "application/vnd.jupyter.widget-view+json": {
       "model_id": "8e8976cb8794451e93aaeb9c9a53d1f8",
       "version_major": 2,
       "version_minor": 0
      },
      "text/plain": [
       "  0%|          | 0/7 [00:00<?, ?it/s]"
      ]
     },
     "metadata": {},
     "output_type": "display_data"
    },
    {
     "name": "stdout",
     "output_type": "stream",
     "text": [
      "Epoch [174/200], train_loss: -1.9741,  train_score: 0.9716,val_loss: -0.4389,  val_score: 0.4408, genus train_score0.9760, genus val_score0.9235\n"
     ]
    },
    {
     "data": {
      "application/vnd.jupyter.widget-view+json": {
       "model_id": "b32b9e483f9d44349749d3acd8da0452",
       "version_major": 2,
       "version_minor": 0
      },
      "text/plain": [
       "  0%|          | 0/14 [00:00<?, ?it/s]"
      ]
     },
     "metadata": {},
     "output_type": "display_data"
    },
    {
     "data": {
      "application/vnd.jupyter.widget-view+json": {
       "model_id": "f6260309da8044d58bcbcdbb8f671993",
       "version_major": 2,
       "version_minor": 0
      },
      "text/plain": [
       "  0%|          | 0/7 [00:00<?, ?it/s]"
      ]
     },
     "metadata": {},
     "output_type": "display_data"
    },
    {
     "name": "stdout",
     "output_type": "stream",
     "text": [
      "Epoch [175/200], train_loss: -1.9738,  train_score: 0.9719,val_loss: -0.4250,  val_score: 0.4410, genus train_score0.9761, genus val_score0.9237\n"
     ]
    },
    {
     "data": {
      "application/vnd.jupyter.widget-view+json": {
       "model_id": "b56b351259b44016bcf60ce2ff13e6ff",
       "version_major": 2,
       "version_minor": 0
      },
      "text/plain": [
       "  0%|          | 0/14 [00:00<?, ?it/s]"
      ]
     },
     "metadata": {},
     "output_type": "display_data"
    },
    {
     "data": {
      "application/vnd.jupyter.widget-view+json": {
       "model_id": "b6d351b726b74a6999dbe1ed81b99890",
       "version_major": 2,
       "version_minor": 0
      },
      "text/plain": [
       "  0%|          | 0/7 [00:00<?, ?it/s]"
      ]
     },
     "metadata": {},
     "output_type": "display_data"
    },
    {
     "name": "stdout",
     "output_type": "stream",
     "text": [
      "Epoch [176/200], train_loss: -1.9742,  train_score: 0.9715,val_loss: -0.4451,  val_score: 0.4410, genus train_score0.9762, genus val_score0.9228\n"
     ]
    },
    {
     "data": {
      "application/vnd.jupyter.widget-view+json": {
       "model_id": "dfe71f1786b943abb36cdc10602cefec",
       "version_major": 2,
       "version_minor": 0
      },
      "text/plain": [
       "  0%|          | 0/14 [00:00<?, ?it/s]"
      ]
     },
     "metadata": {},
     "output_type": "display_data"
    },
    {
     "data": {
      "application/vnd.jupyter.widget-view+json": {
       "model_id": "c78729e9091a4dddb948a050a6af03f5",
       "version_major": 2,
       "version_minor": 0
      },
      "text/plain": [
       "  0%|          | 0/7 [00:00<?, ?it/s]"
      ]
     },
     "metadata": {},
     "output_type": "display_data"
    },
    {
     "name": "stdout",
     "output_type": "stream",
     "text": [
      "Epoch [177/200], train_loss: -1.9742,  train_score: 0.9712,val_loss: -0.4507,  val_score: 0.4411, genus train_score0.9765, genus val_score0.9179\n"
     ]
    },
    {
     "data": {
      "application/vnd.jupyter.widget-view+json": {
       "model_id": "0b0549e8203b47b6a0f3f84572c59cb7",
       "version_major": 2,
       "version_minor": 0
      },
      "text/plain": [
       "  0%|          | 0/14 [00:00<?, ?it/s]"
      ]
     },
     "metadata": {},
     "output_type": "display_data"
    },
    {
     "data": {
      "application/vnd.jupyter.widget-view+json": {
       "model_id": "f5c7723a228d41cdaa3af73c45d1949a",
       "version_major": 2,
       "version_minor": 0
      },
      "text/plain": [
       "  0%|          | 0/7 [00:00<?, ?it/s]"
      ]
     },
     "metadata": {},
     "output_type": "display_data"
    },
    {
     "name": "stdout",
     "output_type": "stream",
     "text": [
      "Epoch [178/200], train_loss: -1.8972,  train_score: 0.9720,val_loss: -0.4508,  val_score: 0.4414, genus train_score0.9767, genus val_score0.9169\n"
     ]
    },
    {
     "data": {
      "application/vnd.jupyter.widget-view+json": {
       "model_id": "d97f0e5ce8764340993c043e63682820",
       "version_major": 2,
       "version_minor": 0
      },
      "text/plain": [
       "  0%|          | 0/14 [00:00<?, ?it/s]"
      ]
     },
     "metadata": {},
     "output_type": "display_data"
    },
    {
     "data": {
      "application/vnd.jupyter.widget-view+json": {
       "model_id": "17e40aa5b8b1422da5213a15e58c1982",
       "version_major": 2,
       "version_minor": 0
      },
      "text/plain": [
       "  0%|          | 0/7 [00:00<?, ?it/s]"
      ]
     },
     "metadata": {},
     "output_type": "display_data"
    },
    {
     "name": "stdout",
     "output_type": "stream",
     "text": [
      "Epoch [179/200], train_loss: -1.9230,  train_score: 0.9720,val_loss: -0.4646,  val_score: 0.4414, genus train_score0.9766, genus val_score0.9179\n"
     ]
    },
    {
     "data": {
      "application/vnd.jupyter.widget-view+json": {
       "model_id": "b39cb44627864832a729b4df1211af62",
       "version_major": 2,
       "version_minor": 0
      },
      "text/plain": [
       "  0%|          | 0/14 [00:00<?, ?it/s]"
      ]
     },
     "metadata": {},
     "output_type": "display_data"
    },
    {
     "data": {
      "application/vnd.jupyter.widget-view+json": {
       "model_id": "0e58ba9267104d18aa04a8651fd461b7",
       "version_major": 2,
       "version_minor": 0
      },
      "text/plain": [
       "  0%|          | 0/7 [00:00<?, ?it/s]"
      ]
     },
     "metadata": {},
     "output_type": "display_data"
    },
    {
     "name": "stdout",
     "output_type": "stream",
     "text": [
      "Epoch [180/200], train_loss: -1.8716,  train_score: 0.9722,val_loss: -0.4806,  val_score: 0.4410, genus train_score0.9765, genus val_score0.9192\n"
     ]
    },
    {
     "data": {
      "application/vnd.jupyter.widget-view+json": {
       "model_id": "6969c04a5c104476815c52746fc51ed7",
       "version_major": 2,
       "version_minor": 0
      },
      "text/plain": [
       "  0%|          | 0/14 [00:00<?, ?it/s]"
      ]
     },
     "metadata": {},
     "output_type": "display_data"
    },
    {
     "data": {
      "application/vnd.jupyter.widget-view+json": {
       "model_id": "805c383431be4d50bec8450f1b9f0275",
       "version_major": 2,
       "version_minor": 0
      },
      "text/plain": [
       "  0%|          | 0/7 [00:00<?, ?it/s]"
      ]
     },
     "metadata": {},
     "output_type": "display_data"
    },
    {
     "name": "stdout",
     "output_type": "stream",
     "text": [
      "Epoch [181/200], train_loss: -1.9483,  train_score: 0.9719,val_loss: -0.4175,  val_score: 0.4410, genus train_score0.9768, genus val_score0.9196\n"
     ]
    },
    {
     "data": {
      "application/vnd.jupyter.widget-view+json": {
       "model_id": "bd6fe856cf53411e832d7473cc801b3c",
       "version_major": 2,
       "version_minor": 0
      },
      "text/plain": [
       "  0%|          | 0/14 [00:00<?, ?it/s]"
      ]
     },
     "metadata": {},
     "output_type": "display_data"
    },
    {
     "data": {
      "application/vnd.jupyter.widget-view+json": {
       "model_id": "d26bd45db6af441e98c7141290c1449a",
       "version_major": 2,
       "version_minor": 0
      },
      "text/plain": [
       "  0%|          | 0/7 [00:00<?, ?it/s]"
      ]
     },
     "metadata": {},
     "output_type": "display_data"
    },
    {
     "name": "stdout",
     "output_type": "stream",
     "text": [
      "Epoch [182/200], train_loss: -1.9484,  train_score: 0.9719,val_loss: -0.4343,  val_score: 0.4410, genus train_score0.9765, genus val_score0.9198\n"
     ]
    },
    {
     "data": {
      "application/vnd.jupyter.widget-view+json": {
       "model_id": "18d3aa086f1e4a8e96b1f9cd0adcf63a",
       "version_major": 2,
       "version_minor": 0
      },
      "text/plain": [
       "  0%|          | 0/14 [00:00<?, ?it/s]"
      ]
     },
     "metadata": {},
     "output_type": "display_data"
    },
    {
     "data": {
      "application/vnd.jupyter.widget-view+json": {
       "model_id": "d9daf378883b4b26a40333370f1f1338",
       "version_major": 2,
       "version_minor": 0
      },
      "text/plain": [
       "  0%|          | 0/7 [00:00<?, ?it/s]"
      ]
     },
     "metadata": {},
     "output_type": "display_data"
    },
    {
     "name": "stdout",
     "output_type": "stream",
     "text": [
      "Epoch [183/200], train_loss: -1.9214,  train_score: 0.9722,val_loss: -0.4374,  val_score: 0.4410, genus train_score0.9766, genus val_score0.9203\n"
     ]
    },
    {
     "data": {
      "application/vnd.jupyter.widget-view+json": {
       "model_id": "449e9421819d470ba03517a8f8c39316",
       "version_major": 2,
       "version_minor": 0
      },
      "text/plain": [
       "  0%|          | 0/14 [00:00<?, ?it/s]"
      ]
     },
     "metadata": {},
     "output_type": "display_data"
    },
    {
     "data": {
      "application/vnd.jupyter.widget-view+json": {
       "model_id": "82be30c998144ccb884bd7f5b689fb62",
       "version_major": 2,
       "version_minor": 0
      },
      "text/plain": [
       "  0%|          | 0/7 [00:00<?, ?it/s]"
      ]
     },
     "metadata": {},
     "output_type": "display_data"
    },
    {
     "name": "stdout",
     "output_type": "stream",
     "text": [
      "Epoch [184/200], train_loss: -1.9715,  train_score: 0.9721,val_loss: -0.4502,  val_score: 0.4413, genus train_score0.9766, genus val_score0.9208\n"
     ]
    },
    {
     "data": {
      "application/vnd.jupyter.widget-view+json": {
       "model_id": "801e9a2c03654b9bb6932fb4cd8102ac",
       "version_major": 2,
       "version_minor": 0
      },
      "text/plain": [
       "  0%|          | 0/14 [00:00<?, ?it/s]"
      ]
     },
     "metadata": {},
     "output_type": "display_data"
    },
    {
     "data": {
      "application/vnd.jupyter.widget-view+json": {
       "model_id": "c2bfb36fc6164c3a8a271853b6732dfb",
       "version_major": 2,
       "version_minor": 0
      },
      "text/plain": [
       "  0%|          | 0/7 [00:00<?, ?it/s]"
      ]
     },
     "metadata": {},
     "output_type": "display_data"
    },
    {
     "name": "stdout",
     "output_type": "stream",
     "text": [
      "Epoch [185/200], train_loss: -1.9997,  train_score: 0.9717,val_loss: -0.4529,  val_score: 0.4417, genus train_score0.9765, genus val_score0.9186\n"
     ]
    },
    {
     "data": {
      "application/vnd.jupyter.widget-view+json": {
       "model_id": "5fe8cf1122bc4682ac3bd5f1ec7589e1",
       "version_major": 2,
       "version_minor": 0
      },
      "text/plain": [
       "  0%|          | 0/14 [00:00<?, ?it/s]"
      ]
     },
     "metadata": {},
     "output_type": "display_data"
    },
    {
     "data": {
      "application/vnd.jupyter.widget-view+json": {
       "model_id": "4986e71d054240b78a81b21e2be41cac",
       "version_major": 2,
       "version_minor": 0
      },
      "text/plain": [
       "  0%|          | 0/7 [00:00<?, ?it/s]"
      ]
     },
     "metadata": {},
     "output_type": "display_data"
    },
    {
     "name": "stdout",
     "output_type": "stream",
     "text": [
      "Epoch [186/200], train_loss: -1.9481,  train_score: 0.9725,val_loss: -0.4301,  val_score: 0.4418, genus train_score0.9764, genus val_score0.9183\n"
     ]
    },
    {
     "data": {
      "application/vnd.jupyter.widget-view+json": {
       "model_id": "cbc7f375d0664a2aa1a49f7986828585",
       "version_major": 2,
       "version_minor": 0
      },
      "text/plain": [
       "  0%|          | 0/14 [00:00<?, ?it/s]"
      ]
     },
     "metadata": {},
     "output_type": "display_data"
    },
    {
     "data": {
      "application/vnd.jupyter.widget-view+json": {
       "model_id": "4c2f5f92eb994e6eb1a309f2bd478e94",
       "version_major": 2,
       "version_minor": 0
      },
      "text/plain": [
       "  0%|          | 0/7 [00:00<?, ?it/s]"
      ]
     },
     "metadata": {},
     "output_type": "display_data"
    },
    {
     "name": "stdout",
     "output_type": "stream",
     "text": [
      "Epoch [187/200], train_loss: -1.9475,  train_score: 0.9726,val_loss: -0.4438,  val_score: 0.4418, genus train_score0.9767, genus val_score0.9186\n"
     ]
    },
    {
     "data": {
      "application/vnd.jupyter.widget-view+json": {
       "model_id": "0bb83a3697854ec69036e0933bf9b56c",
       "version_major": 2,
       "version_minor": 0
      },
      "text/plain": [
       "  0%|          | 0/14 [00:00<?, ?it/s]"
      ]
     },
     "metadata": {},
     "output_type": "display_data"
    },
    {
     "data": {
      "application/vnd.jupyter.widget-view+json": {
       "model_id": "1779a9b00d2f4371a542e2bd1a689cfa",
       "version_major": 2,
       "version_minor": 0
      },
      "text/plain": [
       "  0%|          | 0/7 [00:00<?, ?it/s]"
      ]
     },
     "metadata": {},
     "output_type": "display_data"
    },
    {
     "name": "stdout",
     "output_type": "stream",
     "text": [
      "Epoch [188/200], train_loss: -1.9229,  train_score: 0.9732,val_loss: -0.4293,  val_score: 0.4414, genus train_score0.9769, genus val_score0.9193\n"
     ]
    },
    {
     "data": {
      "application/vnd.jupyter.widget-view+json": {
       "model_id": "37b18fe72c2649a2a88cb2b8e1a0c4cd",
       "version_major": 2,
       "version_minor": 0
      },
      "text/plain": [
       "  0%|          | 0/14 [00:00<?, ?it/s]"
      ]
     },
     "metadata": {},
     "output_type": "display_data"
    },
    {
     "data": {
      "application/vnd.jupyter.widget-view+json": {
       "model_id": "5d45346ba18c419a983d4ff443b11c20",
       "version_major": 2,
       "version_minor": 0
      },
      "text/plain": [
       "  0%|          | 0/7 [00:00<?, ?it/s]"
      ]
     },
     "metadata": {},
     "output_type": "display_data"
    },
    {
     "name": "stdout",
     "output_type": "stream",
     "text": [
      "Epoch [189/200], train_loss: -1.8971,  train_score: 0.9731,val_loss: -0.4393,  val_score: 0.4413, genus train_score0.9768, genus val_score0.9206\n"
     ]
    },
    {
     "data": {
      "application/vnd.jupyter.widget-view+json": {
       "model_id": "3bf3964441d84411a671b8995dba6d0d",
       "version_major": 2,
       "version_minor": 0
      },
      "text/plain": [
       "  0%|          | 0/14 [00:00<?, ?it/s]"
      ]
     },
     "metadata": {},
     "output_type": "display_data"
    },
    {
     "data": {
      "application/vnd.jupyter.widget-view+json": {
       "model_id": "dd7c87c720dc47b4b30babfbeaf6bfd8",
       "version_major": 2,
       "version_minor": 0
      },
      "text/plain": [
       "  0%|          | 0/7 [00:00<?, ?it/s]"
      ]
     },
     "metadata": {},
     "output_type": "display_data"
    },
    {
     "name": "stdout",
     "output_type": "stream",
     "text": [
      "Epoch [190/200], train_loss: -1.9485,  train_score: 0.9731,val_loss: -0.4394,  val_score: 0.4416, genus train_score0.9766, genus val_score0.9203\n"
     ]
    },
    {
     "data": {
      "application/vnd.jupyter.widget-view+json": {
       "model_id": "cb5fa41346f84e77be637037ca30957e",
       "version_major": 2,
       "version_minor": 0
      },
      "text/plain": [
       "  0%|          | 0/14 [00:00<?, ?it/s]"
      ]
     },
     "metadata": {},
     "output_type": "display_data"
    },
    {
     "data": {
      "application/vnd.jupyter.widget-view+json": {
       "model_id": "6c3523daf2fe4f338d747d5105cc2872",
       "version_major": 2,
       "version_minor": 0
      },
      "text/plain": [
       "  0%|          | 0/7 [00:00<?, ?it/s]"
      ]
     },
     "metadata": {},
     "output_type": "display_data"
    },
    {
     "name": "stdout",
     "output_type": "stream",
     "text": [
      "Epoch [191/200], train_loss: -1.8460,  train_score: 0.9735,val_loss: -0.4497,  val_score: 0.4420, genus train_score0.9768, genus val_score0.9208\n"
     ]
    },
    {
     "data": {
      "application/vnd.jupyter.widget-view+json": {
       "model_id": "84e0d405dafc493f88bb916370105bab",
       "version_major": 2,
       "version_minor": 0
      },
      "text/plain": [
       "  0%|          | 0/14 [00:00<?, ?it/s]"
      ]
     },
     "metadata": {},
     "output_type": "display_data"
    },
    {
     "data": {
      "application/vnd.jupyter.widget-view+json": {
       "model_id": "a3db8617ded948a49fe3fcca9ac36b11",
       "version_major": 2,
       "version_minor": 0
      },
      "text/plain": [
       "  0%|          | 0/7 [00:00<?, ?it/s]"
      ]
     },
     "metadata": {},
     "output_type": "display_data"
    },
    {
     "name": "stdout",
     "output_type": "stream",
     "text": [
      "Epoch [192/200], train_loss: -1.9486,  train_score: 0.9735,val_loss: -0.4126,  val_score: 0.4424, genus train_score0.9768, genus val_score0.9211\n"
     ]
    },
    {
     "data": {
      "application/vnd.jupyter.widget-view+json": {
       "model_id": "a58ac297dfe849d6bfe16757934824fe",
       "version_major": 2,
       "version_minor": 0
      },
      "text/plain": [
       "  0%|          | 0/14 [00:00<?, ?it/s]"
      ]
     },
     "metadata": {},
     "output_type": "display_data"
    },
    {
     "data": {
      "application/vnd.jupyter.widget-view+json": {
       "model_id": "6f75a846374c4834a7d4056eef84449a",
       "version_major": 2,
       "version_minor": 0
      },
      "text/plain": [
       "  0%|          | 0/7 [00:00<?, ?it/s]"
      ]
     },
     "metadata": {},
     "output_type": "display_data"
    },
    {
     "name": "stdout",
     "output_type": "stream",
     "text": [
      "Epoch [193/200], train_loss: -1.8969,  train_score: 0.9738,val_loss: -0.4617,  val_score: 0.4424, genus train_score0.9771, genus val_score0.9219\n"
     ]
    },
    {
     "data": {
      "application/vnd.jupyter.widget-view+json": {
       "model_id": "3a1b0fd4646d4ac5a5aac09538bb137a",
       "version_major": 2,
       "version_minor": 0
      },
      "text/plain": [
       "  0%|          | 0/14 [00:00<?, ?it/s]"
      ]
     },
     "metadata": {},
     "output_type": "display_data"
    },
    {
     "data": {
      "application/vnd.jupyter.widget-view+json": {
       "model_id": "772da373d08342609c8b376c2d4ba0d3",
       "version_major": 2,
       "version_minor": 0
      },
      "text/plain": [
       "  0%|          | 0/7 [00:00<?, ?it/s]"
      ]
     },
     "metadata": {},
     "output_type": "display_data"
    },
    {
     "name": "stdout",
     "output_type": "stream",
     "text": [
      "Epoch [194/200], train_loss: -1.9486,  train_score: 0.9737,val_loss: -0.4481,  val_score: 0.4424, genus train_score0.9772, genus val_score0.9218\n"
     ]
    },
    {
     "data": {
      "application/vnd.jupyter.widget-view+json": {
       "model_id": "ee200f5856ff4cacb331ba7d7cd71837",
       "version_major": 2,
       "version_minor": 0
      },
      "text/plain": [
       "  0%|          | 0/14 [00:00<?, ?it/s]"
      ]
     },
     "metadata": {},
     "output_type": "display_data"
    },
    {
     "data": {
      "application/vnd.jupyter.widget-view+json": {
       "model_id": "216a7bc4296c43438f45fd38e0c32a61",
       "version_major": 2,
       "version_minor": 0
      },
      "text/plain": [
       "  0%|          | 0/7 [00:00<?, ?it/s]"
      ]
     },
     "metadata": {},
     "output_type": "display_data"
    },
    {
     "name": "stdout",
     "output_type": "stream",
     "text": [
      "Epoch [195/200], train_loss: -1.9684,  train_score: 0.9738,val_loss: -0.4377,  val_score: 0.4424, genus train_score0.9771, genus val_score0.9218\n"
     ]
    },
    {
     "data": {
      "application/vnd.jupyter.widget-view+json": {
       "model_id": "36b7e6c2f6ca48f6825a5eb847f0fd9a",
       "version_major": 2,
       "version_minor": 0
      },
      "text/plain": [
       "  0%|          | 0/14 [00:00<?, ?it/s]"
      ]
     },
     "metadata": {},
     "output_type": "display_data"
    },
    {
     "data": {
      "application/vnd.jupyter.widget-view+json": {
       "model_id": "7645157dcc0a4fb2b31fac180dd9240c",
       "version_major": 2,
       "version_minor": 0
      },
      "text/plain": [
       "  0%|          | 0/7 [00:00<?, ?it/s]"
      ]
     },
     "metadata": {},
     "output_type": "display_data"
    },
    {
     "name": "stdout",
     "output_type": "stream",
     "text": [
      "Epoch [196/200], train_loss: -1.8973,  train_score: 0.9735,val_loss: -0.4449,  val_score: 0.4418, genus train_score0.9771, genus val_score0.9225\n"
     ]
    },
    {
     "data": {
      "application/vnd.jupyter.widget-view+json": {
       "model_id": "a80a521128184c2e8d63eca0062f7102",
       "version_major": 2,
       "version_minor": 0
      },
      "text/plain": [
       "  0%|          | 0/14 [00:00<?, ?it/s]"
      ]
     },
     "metadata": {},
     "output_type": "display_data"
    },
    {
     "data": {
      "application/vnd.jupyter.widget-view+json": {
       "model_id": "f07da4f163c341718f8dddceaa26af1a",
       "version_major": 2,
       "version_minor": 0
      },
      "text/plain": [
       "  0%|          | 0/7 [00:00<?, ?it/s]"
      ]
     },
     "metadata": {},
     "output_type": "display_data"
    },
    {
     "name": "stdout",
     "output_type": "stream",
     "text": [
      "Epoch [197/200], train_loss: -1.8717,  train_score: 0.9730,val_loss: -0.4449,  val_score: 0.4421, genus train_score0.9772, genus val_score0.9231\n"
     ]
    },
    {
     "data": {
      "application/vnd.jupyter.widget-view+json": {
       "model_id": "a975a893e3814b1b86e760a887178bf0",
       "version_major": 2,
       "version_minor": 0
      },
      "text/plain": [
       "  0%|          | 0/14 [00:00<?, ?it/s]"
      ]
     },
     "metadata": {},
     "output_type": "display_data"
    },
    {
     "data": {
      "application/vnd.jupyter.widget-view+json": {
       "model_id": "f20d29ddadd340bc8bb40045c8d53f44",
       "version_major": 2,
       "version_minor": 0
      },
      "text/plain": [
       "  0%|          | 0/7 [00:00<?, ?it/s]"
      ]
     },
     "metadata": {},
     "output_type": "display_data"
    },
    {
     "name": "stdout",
     "output_type": "stream",
     "text": [
      "Epoch [198/200], train_loss: -1.9995,  train_score: 0.9732,val_loss: -0.4470,  val_score: 0.4420, genus train_score0.9771, genus val_score0.9228\n"
     ]
    },
    {
     "data": {
      "application/vnd.jupyter.widget-view+json": {
       "model_id": "9a2c9cba737a4f5ba6261aa8b4677b15",
       "version_major": 2,
       "version_minor": 0
      },
      "text/plain": [
       "  0%|          | 0/14 [00:00<?, ?it/s]"
      ]
     },
     "metadata": {},
     "output_type": "display_data"
    },
    {
     "data": {
      "application/vnd.jupyter.widget-view+json": {
       "model_id": "31329a0158fd4a15b63c9b0e7e40b428",
       "version_major": 2,
       "version_minor": 0
      },
      "text/plain": [
       "  0%|          | 0/7 [00:00<?, ?it/s]"
      ]
     },
     "metadata": {},
     "output_type": "display_data"
    },
    {
     "name": "stdout",
     "output_type": "stream",
     "text": [
      "Epoch [199/200], train_loss: -1.9482,  train_score: 0.9734,val_loss: -0.4354,  val_score: 0.4421, genus train_score0.9772, genus val_score0.9228\n"
     ]
    },
    {
     "data": {
      "application/vnd.jupyter.widget-view+json": {
       "model_id": "9742e6cc33fc4535a2c76c10af82fa02",
       "version_major": 2,
       "version_minor": 0
      },
      "text/plain": [
       "  0%|          | 0/14 [00:00<?, ?it/s]"
      ]
     },
     "metadata": {},
     "output_type": "display_data"
    },
    {
     "data": {
      "application/vnd.jupyter.widget-view+json": {
       "model_id": "31d4e35a8b8f41fd8adfe99e8b9a8a3d",
       "version_major": 2,
       "version_minor": 0
      },
      "text/plain": [
       "  0%|          | 0/7 [00:00<?, ?it/s]"
      ]
     },
     "metadata": {},
     "output_type": "display_data"
    },
    {
     "name": "stdout",
     "output_type": "stream",
     "text": [
      "Epoch [200/200], train_loss: -1.9730,  train_score: 0.9735,val_loss: -0.4261,  val_score: 0.4421, genus train_score0.9771, genus val_score0.9221\n"
     ]
    }
   ],
   "source": [
    "\n",
    "_ = fit(200,dataloaders,optimizer,model)"
   ]
  },
  {
   "cell_type": "code",
   "execution_count": 47,
   "metadata": {},
   "outputs": [
    {
     "name": "stderr",
     "output_type": "stream",
     "text": [
      "/tmp/ipykernel_26875/509102700.py:34: UserWarning: Implicit dimension choice for softmax has been deprecated. Change the call to include dim=X as an argument.\n",
      "  x_genus = torch.nn.functional.softmax(x)\n"
     ]
    }
   ],
   "source": [
    "with torch.no_grad():\n",
    "    model.eval()\n",
    "    val_predicted_probs,val_predicted_probs_genus = model(d_val.data.cuda())\n",
    "val_predicted_probs = val_predicted_probs.cpu()\n",
    "val_predicted_probs_genus = val_predicted_probs_genus.cpu()"
   ]
  },
  {
   "cell_type": "code",
   "execution_count": 48,
   "metadata": {},
   "outputs": [],
   "source": [
    "val_predicted_labels = val_predicted_probs.argmax(axis=1)\n",
    "val_predicted_labels_genus = val_predicted_probs_genus.argmax(axis=1)\n",
    "image_val_labels = image_val_labels.type(torch.LongTensor)"
   ]
  },
  {
   "cell_type": "code",
   "execution_count": null,
   "metadata": {},
   "outputs": [],
   "source": []
  },
  {
   "cell_type": "code",
   "execution_count": 49,
   "metadata": {},
   "outputs": [
    {
     "data": {
      "text/plain": [
       "'Automeris_celata'"
      ]
     },
     "execution_count": 49,
     "metadata": {},
     "output_type": "execute_result"
    }
   ],
   "source": [
    "list(image_dataset.class_to_idx.keys())[172]"
   ]
  },
  {
   "cell_type": "code",
   "execution_count": 50,
   "metadata": {},
   "outputs": [
    {
     "data": {
      "text/plain": [
       "tensor([ 15, 172])"
      ]
     },
     "execution_count": 50,
     "metadata": {},
     "output_type": "execute_result"
    }
   ],
   "source": [
    "val_predicted_probs[1000].topk(2).indices"
   ]
  },
  {
   "cell_type": "code",
   "execution_count": 51,
   "metadata": {},
   "outputs": [
    {
     "data": {
      "text/plain": [
       "tensor(176)"
      ]
     },
     "execution_count": 51,
     "metadata": {},
     "output_type": "execute_result"
    }
   ],
   "source": [
    "image_val_labels[1000]"
   ]
  },
  {
   "cell_type": "code",
   "execution_count": 52,
   "metadata": {},
   "outputs": [
    {
     "data": {
      "text/plain": [
       "array([187])"
      ]
     },
     "execution_count": 52,
     "metadata": {},
     "output_type": "execute_result"
    }
   ],
   "source": [
    "species2genus[172]"
   ]
  },
  {
   "cell_type": "code",
   "execution_count": 53,
   "metadata": {},
   "outputs": [
    {
     "data": {
      "text/plain": [
       "tensor(187)"
      ]
     },
     "execution_count": 53,
     "metadata": {},
     "output_type": "execute_result"
    }
   ],
   "source": [
    "val_predicted_labels_genus[1000]"
   ]
  },
  {
   "cell_type": "code",
   "execution_count": 54,
   "metadata": {},
   "outputs": [
    {
     "data": {
      "text/plain": [
       "[<matplotlib.lines.Line2D at 0x70804b105c70>]"
      ]
     },
     "execution_count": 54,
     "metadata": {},
     "output_type": "execute_result"
    },
    {
     "data": {
      "image/png": "[encoded data removed]",
      "text/plain": [
       "<Figure size 640x480 with 1 Axes>"
      ]
     },
     "metadata": {},
     "output_type": "display_data"
    }
   ],
   "source": [
    "plt.plot(val_predicted_probs_genus[1000].cpu())\n"
   ]
  },
  {
   "cell_type": "code",
   "execution_count": null,
   "metadata": {},
   "outputs": [],
   "source": []
  },
  {
   "cell_type": "code",
   "execution_count": null,
   "metadata": {},
   "outputs": [],
   "source": []
  },
  {
   "cell_type": "markdown",
   "metadata": {},
   "source": [
    "# Secondo top2 method"
   ]
  },
  {
   "cell_type": "code",
   "execution_count": 75,
   "metadata": {},
   "outputs": [
    {
     "name": "stderr",
     "output_type": "stream",
     "text": [
      "/tmp/ipykernel_26875/3867016436.py:23: UserWarning: To copy construct from a tensor, it is recommended to use sourceTensor.clone().detach() or sourceTensor.clone().detach().requires_grad_(True), rather than torch.tensor(sourceTensor).\n",
      "  top2 = torch.tensor(val_predicted_probs[i]).topk(2)#ATTENZIONE QUA E' DIVERSO\n"
     ]
    }
   ],
   "source": [
    "tprs = []\n",
    "fprs = []\n",
    "correct_genus_rate = []\n",
    "correct_species_rate = []\n",
    "thresholds = []\n",
    "possible_thresholds = [x / 10000 for x in range(9800, 10000, 1)]\n",
    "for t in possible_thresholds:#ATTENZIONE QUA E' DIVERSO\n",
    "    t = t * 1.005\n",
    "    thresholds.append(t)\n",
    "    #print(val_predicted_probs.shape)\n",
    "    n_undescribed_samples = 0\n",
    "    n_described_samples = 0\n",
    "    n_correct_undescribed_samples = 0\n",
    "    n_correct_described_samples = 0\n",
    "    n_correct_genus = 0 \n",
    "    n_correct_species = 0 \n",
    "    for i in range(len(image_val_labels)):\n",
    "        label_best_specie = val_predicted_labels[i]\n",
    "       \n",
    "        #assert(val_predicted_labels[i]==val_predicted_probs[i].argmax())\n",
    "        genus_of_best_species = species2genus[label_best_specie.item()]\n",
    "\n",
    "        top2 = torch.tensor(val_predicted_probs[i]).topk(2)#ATTENZIONE QUA E' DIVERSO\n",
    "        #print(top2)\n",
    "        if (top2.values[0]-top2.values[1]) >t*top2.values[0]:#species \n",
    "            if image_val_labels[i].item() in described_species_labels:#i needed to guess species\n",
    "                n_described_samples +=1\n",
    "                if label_best_specie == image_val_labels[i]:#guessed species is correct\n",
    "                    #n_correct_described_samples+=1\n",
    "                    n_correct_species+=1\n",
    "            else:# i needed to guess genus\n",
    "                n_undescribed_samples+=1\n",
    "        else:#genus\n",
    "            if image_val_labels[i].item() in described_species_labels:#i needed to guess species\n",
    "                n_described_samples +=1\n",
    "            else:# i needed to guess genus\n",
    "                n_undescribed_samples+=1\n",
    "                #if genus_of_best_species == species2genus[image_val_labels[i]]:#guessed genus is correct\n",
    "                #ATTENZIONE QUA E' DIVERSO\n",
    "                if val_predicted_labels_genus[i].item() == species2genus[image_val_labels[i]].item():#guessed genus is correct\n",
    "                    #n_correct_described_samples+=1\n",
    "                    n_correct_genus+=1\n",
    "            \n",
    "    tprs.append(n_correct_undescribed_samples/n_undescribed_samples) # TPR = recall = sensitivity\n",
    "    fprs.append(1-n_correct_described_samples/n_described_samples) # 1-TNR = 1 - specificity\n",
    "    correct_genus_rate.append(n_correct_genus/n_undescribed_samples)\n",
    "    correct_species_rate.append(n_correct_species/n_described_samples)"
   ]
  },
  {
   "cell_type": "code",
   "execution_count": 76,
   "metadata": {
    "scrolled": true
   },
   "outputs": [
    {
     "name": "stdout",
     "output_type": "stream",
     "text": [
      "0\n",
      "0.6785810266057511\n",
      "0.9594928880643167\n",
      "\n",
      "\n",
      "\n",
      "1\n",
      "0.6793872614888471\n",
      "0.9594928880643167\n",
      "\n",
      "\n",
      "\n",
      "2\n",
      "0.6804622413329751\n",
      "0.9594928880643167\n",
      "\n",
      "\n",
      "\n",
      "3\n",
      "0.6804622413329751\n",
      "0.9594928880643167\n",
      "\n",
      "\n",
      "\n",
      "4\n",
      "0.6804622413329751\n",
      "0.9594928880643167\n",
      "\n",
      "\n",
      "\n",
      "5\n",
      "0.680730986294007\n",
      "0.9594928880643167\n",
      "\n",
      "\n",
      "\n",
      "6\n",
      "0.680730986294007\n",
      "0.9591836734693877\n",
      "\n",
      "\n",
      "\n",
      "7\n",
      "0.680730986294007\n",
      "0.9591836734693877\n",
      "\n",
      "\n",
      "\n",
      "8\n",
      "0.6812684762160709\n",
      "0.9591836734693877\n",
      "\n",
      "\n",
      "\n",
      "9\n",
      "0.6815372211771029\n",
      "0.9588744588744589\n",
      "\n",
      "\n",
      "\n",
      "10\n",
      "0.6815372211771029\n",
      "0.9588744588744589\n",
      "\n",
      "\n",
      "\n",
      "11\n",
      "0.6820747110991668\n",
      "0.9588744588744589\n",
      "\n",
      "\n",
      "\n",
      "12\n",
      "0.6823434560601989\n",
      "0.9588744588744589\n",
      "\n",
      "\n",
      "\n",
      "13\n",
      "0.6828809459822628\n",
      "0.9588744588744589\n",
      "\n",
      "\n",
      "\n",
      "14\n",
      "0.6834184359043268\n",
      "0.9588744588744589\n",
      "\n",
      "\n",
      "\n",
      "15\n",
      "0.6834184359043268\n",
      "0.9588744588744589\n",
      "\n",
      "\n",
      "\n",
      "16\n",
      "0.6839559258263908\n",
      "0.95856524427953\n",
      "\n",
      "\n",
      "\n",
      "17\n",
      "0.6842246707874228\n",
      "0.95856524427953\n",
      "\n",
      "\n",
      "\n",
      "18\n",
      "0.6847621607094867\n",
      "0.95856524427953\n",
      "\n",
      "\n",
      "\n",
      "19\n",
      "0.6850309056705187\n",
      "0.95856524427953\n",
      "\n",
      "\n",
      "\n",
      "20\n",
      "0.6852996506315506\n",
      "0.95856524427953\n",
      "\n",
      "\n",
      "\n",
      "21\n",
      "0.6855683955925826\n",
      "0.95856524427953\n",
      "\n",
      "\n",
      "\n",
      "22\n",
      "0.6855683955925826\n",
      "0.95856524427953\n",
      "\n",
      "\n",
      "\n",
      "23\n",
      "0.6855683955925826\n",
      "0.95856524427953\n",
      "\n",
      "\n",
      "\n",
      "24\n",
      "0.6858371405536147\n",
      "0.95856524427953\n",
      "\n",
      "\n",
      "\n",
      "25\n",
      "0.6858371405536147\n",
      "0.95856524427953\n",
      "\n",
      "\n",
      "\n",
      "26\n",
      "0.6861058855146466\n",
      "0.95856524427953\n",
      "\n",
      "\n",
      "\n",
      "27\n",
      "0.6863746304756786\n",
      "0.95856524427953\n",
      "\n",
      "\n",
      "\n",
      "28\n",
      "0.6869121203977425\n",
      "0.95856524427953\n",
      "\n",
      "\n",
      "\n",
      "29\n",
      "0.6874496103198066\n",
      "0.95856524427953\n",
      "\n",
      "\n",
      "\n",
      "30\n",
      "0.6882558452029024\n",
      "0.95856524427953\n",
      "\n",
      "\n",
      "\n",
      "31\n",
      "0.6882558452029024\n",
      "0.95856524427953\n",
      "\n",
      "\n",
      "\n",
      "32\n",
      "0.6882558452029024\n",
      "0.95856524427953\n",
      "\n",
      "\n",
      "\n",
      "33\n",
      "0.6887933351249664\n",
      "0.95856524427953\n",
      "\n",
      "\n",
      "\n",
      "34\n",
      "0.6890620800859983\n",
      "0.9582560296846011\n",
      "\n",
      "\n",
      "\n",
      "35\n",
      "0.6895995700080624\n",
      "0.9582560296846011\n",
      "\n",
      "\n",
      "\n",
      "36\n",
      "0.6909432948132223\n",
      "0.9582560296846011\n",
      "\n",
      "\n",
      "\n",
      "37\n",
      "0.6914807847352862\n",
      "0.9582560296846011\n",
      "\n",
      "\n",
      "\n",
      "38\n",
      "0.6914807847352862\n",
      "0.9582560296846011\n",
      "\n",
      "\n",
      "\n",
      "39\n",
      "0.6920182746573502\n",
      "0.9582560296846011\n",
      "\n",
      "\n",
      "\n",
      "40\n",
      "0.6920182746573502\n",
      "0.9582560296846011\n",
      "\n",
      "\n",
      "\n",
      "41\n",
      "0.6922870196183821\n",
      "0.9582560296846011\n",
      "\n",
      "\n",
      "\n",
      "42\n",
      "0.6925557645794141\n",
      "0.9582560296846011\n",
      "\n",
      "\n",
      "\n",
      "43\n",
      "0.6933619994625101\n",
      "0.9582560296846011\n",
      "\n",
      "\n",
      "\n",
      "44\n",
      "0.6936307444235421\n",
      "0.9582560296846011\n",
      "\n",
      "\n",
      "\n",
      "45\n",
      "0.6957807041117979\n",
      "0.9582560296846011\n",
      "\n",
      "\n",
      "\n",
      "46\n",
      "0.6957807041117979\n",
      "0.9582560296846011\n",
      "\n",
      "\n",
      "\n",
      "47\n",
      "0.6963181940338619\n",
      "0.9582560296846011\n",
      "\n",
      "\n",
      "\n",
      "48\n",
      "0.6968556839559258\n",
      "0.9582560296846011\n",
      "\n",
      "\n",
      "\n",
      "49\n",
      "0.6971244289169578\n",
      "0.9582560296846011\n",
      "\n",
      "\n",
      "\n",
      "50\n",
      "0.6971244289169578\n",
      "0.9582560296846011\n",
      "\n",
      "\n",
      "\n",
      "51\n",
      "0.6976619188390217\n",
      "0.9582560296846011\n",
      "\n",
      "\n",
      "\n",
      "52\n",
      "0.6984681537221177\n",
      "0.9582560296846011\n",
      "\n",
      "\n",
      "\n",
      "53\n",
      "0.6984681537221177\n",
      "0.9582560296846011\n",
      "\n",
      "\n",
      "\n",
      "54\n",
      "0.6998118785272777\n",
      "0.9582560296846011\n",
      "\n",
      "\n",
      "\n",
      "55\n",
      "0.7006181134103736\n",
      "0.9579468150896723\n",
      "\n",
      "\n",
      "\n",
      "56\n",
      "0.7016930932545015\n",
      "0.9579468150896723\n",
      "\n",
      "\n",
      "\n",
      "57\n",
      "0.7024993281375974\n",
      "0.9579468150896723\n",
      "\n",
      "\n",
      "\n",
      "58\n",
      "0.7043805428648213\n",
      "0.9579468150896723\n",
      "\n",
      "\n",
      "\n",
      "59\n",
      "0.7043805428648213\n",
      "0.9579468150896723\n",
      "\n",
      "\n",
      "\n",
      "60\n",
      "0.7046492878258532\n",
      "0.9579468150896723\n",
      "\n",
      "\n",
      "\n",
      "61\n",
      "0.7051867777479173\n",
      "0.9579468150896723\n",
      "\n",
      "\n",
      "\n",
      "62\n",
      "0.7065305025530771\n",
      "0.9579468150896723\n",
      "\n",
      "\n",
      "\n",
      "63\n",
      "0.7065305025530771\n",
      "0.9579468150896723\n",
      "\n",
      "\n",
      "\n",
      "64\n",
      "0.7070679924751411\n",
      "0.9579468150896723\n",
      "\n",
      "\n",
      "\n",
      "65\n",
      "0.707874227358237\n",
      "0.9579468150896723\n",
      "\n",
      "\n",
      "\n",
      "66\n",
      "0.708680462241333\n",
      "0.9579468150896723\n",
      "\n",
      "\n",
      "\n",
      "67\n",
      "0.708949207202365\n",
      "0.9579468150896723\n",
      "\n",
      "\n",
      "\n",
      "68\n",
      "0.708949207202365\n",
      "0.9579468150896723\n",
      "\n",
      "\n",
      "\n",
      "69\n",
      "0.708949207202365\n",
      "0.9579468150896723\n",
      "\n",
      "\n",
      "\n",
      "70\n",
      "0.7100241870464928\n",
      "0.9579468150896723\n",
      "\n",
      "\n",
      "\n",
      "71\n",
      "0.7105616769685569\n",
      "0.9579468150896723\n",
      "\n",
      "\n",
      "\n",
      "72\n",
      "0.7110991668906208\n",
      "0.9579468150896723\n",
      "\n",
      "\n",
      "\n",
      "73\n",
      "0.7124428916957807\n",
      "0.9579468150896723\n",
      "\n",
      "\n",
      "\n",
      "74\n",
      "0.7135178715399086\n",
      "0.9579468150896723\n",
      "\n",
      "\n",
      "\n",
      "75\n",
      "0.7137866165009407\n",
      "0.9579468150896723\n",
      "\n",
      "\n",
      "\n",
      "76\n",
      "0.7143241064230046\n",
      "0.9576376004947433\n",
      "\n",
      "\n",
      "\n",
      "77\n",
      "0.7148615963450685\n",
      "0.9576376004947433\n",
      "\n",
      "\n",
      "\n",
      "78\n",
      "0.7151303413061005\n",
      "0.9576376004947433\n",
      "\n",
      "\n",
      "\n",
      "79\n",
      "0.7162053211502284\n",
      "0.9576376004947433\n",
      "\n",
      "\n",
      "\n",
      "80\n",
      "0.7172803009943564\n",
      "0.9576376004947433\n",
      "\n",
      "\n",
      "\n",
      "81\n",
      "0.7186240257995162\n",
      "0.9576376004947433\n",
      "\n",
      "\n",
      "\n",
      "82\n",
      "0.7194302606826122\n",
      "0.9576376004947433\n",
      "\n",
      "\n",
      "\n",
      "83\n",
      "0.7196990056436442\n",
      "0.9576376004947433\n",
      "\n",
      "\n",
      "\n",
      "84\n",
      "0.7205052405267401\n",
      "0.9576376004947433\n",
      "\n",
      "\n",
      "\n",
      "85\n",
      "0.720773985487772\n",
      "0.9576376004947433\n",
      "\n",
      "\n",
      "\n",
      "86\n",
      "0.7213114754098361\n",
      "0.9573283858998145\n",
      "\n",
      "\n",
      "\n",
      "87\n",
      "0.721580220370868\n",
      "0.9573283858998145\n",
      "\n",
      "\n",
      "\n",
      "88\n",
      "0.7218489653319\n",
      "0.9573283858998145\n",
      "\n",
      "\n",
      "\n",
      "89\n",
      "0.7223864552539639\n",
      "0.9573283858998145\n",
      "\n",
      "\n",
      "\n",
      "90\n",
      "0.7234614350980919\n",
      "0.9573283858998145\n",
      "\n",
      "\n",
      "\n",
      "91\n",
      "0.7242676699811879\n",
      "0.9573283858998145\n",
      "\n",
      "\n",
      "\n",
      "92\n",
      "0.7242676699811879\n",
      "0.9573283858998145\n",
      "\n",
      "\n",
      "\n",
      "93\n",
      "0.7264176296694437\n",
      "0.9573283858998145\n",
      "\n",
      "\n",
      "\n",
      "94\n",
      "0.7266863746304757\n",
      "0.9573283858998145\n",
      "\n",
      "\n",
      "\n",
      "95\n",
      "0.7269551195915077\n",
      "0.9573283858998145\n",
      "\n",
      "\n",
      "\n",
      "96\n",
      "0.7274926095135716\n",
      "0.9573283858998145\n",
      "\n",
      "\n",
      "\n",
      "97\n",
      "0.7280300994356356\n",
      "0.9573283858998145\n",
      "\n",
      "\n",
      "\n",
      "98\n",
      "0.7285675893576995\n",
      "0.9573283858998145\n",
      "\n",
      "\n",
      "\n",
      "99\n",
      "0.7299113141628595\n",
      "0.9573283858998145\n",
      "\n",
      "\n",
      "\n",
      "100\n",
      "0.7307175490459554\n",
      "0.9573283858998145\n",
      "\n",
      "\n",
      "\n",
      "101\n",
      "0.7315237839290514\n",
      "0.9573283858998145\n",
      "\n",
      "\n",
      "\n",
      "102\n",
      "0.7325987637731792\n",
      "0.9573283858998145\n",
      "\n",
      "\n",
      "\n",
      "103\n",
      "0.7328675087342112\n",
      "0.9573283858998145\n",
      "\n",
      "\n",
      "\n",
      "104\n",
      "0.7339424885783391\n",
      "0.9573283858998145\n",
      "\n",
      "\n",
      "\n",
      "105\n",
      "0.7344799785004031\n",
      "0.9573283858998145\n",
      "\n",
      "\n",
      "\n",
      "106\n",
      "0.7350174684224671\n",
      "0.9573283858998145\n",
      "\n",
      "\n",
      "\n",
      "107\n",
      "0.735554958344531\n",
      "0.9573283858998145\n",
      "\n",
      "\n",
      "\n",
      "108\n",
      "0.736629938188659\n",
      "0.9573283858998145\n",
      "\n",
      "\n",
      "\n",
      "109\n",
      "0.7390486428379468\n",
      "0.9573283858998145\n",
      "\n",
      "\n",
      "\n",
      "110\n",
      "0.7398548777210427\n",
      "0.9573283858998145\n",
      "\n",
      "\n",
      "\n",
      "111\n",
      "0.7403923676431067\n",
      "0.9573283858998145\n",
      "\n",
      "\n",
      "\n",
      "112\n",
      "0.7403923676431067\n",
      "0.9573283858998145\n",
      "\n",
      "\n",
      "\n",
      "113\n",
      "0.7411986025262026\n",
      "0.9573283858998145\n",
      "\n",
      "\n",
      "\n",
      "114\n",
      "0.7420048374092986\n",
      "0.9573283858998145\n",
      "\n",
      "\n",
      "\n",
      "115\n",
      "0.7430798172534265\n",
      "0.9570191713048856\n",
      "\n",
      "\n",
      "\n",
      "116\n",
      "0.7436173071754905\n",
      "0.9570191713048856\n",
      "\n",
      "\n",
      "\n",
      "117\n",
      "0.7444235420585864\n",
      "0.9570191713048856\n",
      "\n",
      "\n",
      "\n",
      "118\n",
      "0.7449610319806503\n",
      "0.9564007421150278\n",
      "\n",
      "\n",
      "\n",
      "119\n",
      "0.7452297769416824\n",
      "0.9564007421150278\n",
      "\n",
      "\n",
      "\n",
      "120\n",
      "0.7454985219027144\n",
      "0.9564007421150278\n",
      "\n",
      "\n",
      "\n",
      "121\n",
      "0.7476484815909702\n",
      "0.9564007421150278\n",
      "\n",
      "\n",
      "\n",
      "122\n",
      "0.7489922063961301\n",
      "0.9564007421150278\n",
      "\n",
      "\n",
      "\n",
      "123\n",
      "0.749798441279226\n",
      "0.9564007421150278\n",
      "\n",
      "\n",
      "\n",
      "124\n",
      "0.7511421660843859\n",
      "0.9564007421150278\n",
      "\n",
      "\n",
      "\n",
      "125\n",
      "0.7516796560064499\n",
      "0.956091527520099\n",
      "\n",
      "\n",
      "\n",
      "126\n",
      "0.7519484009674818\n",
      "0.9554730983302412\n",
      "\n",
      "\n",
      "\n",
      "127\n",
      "0.7535608707336737\n",
      "0.9551638837353124\n",
      "\n",
      "\n",
      "\n",
      "128\n",
      "0.7538296156947057\n",
      "0.9551638837353124\n",
      "\n",
      "\n",
      "\n",
      "129\n",
      "0.7567858102660575\n",
      "0.9548546691403834\n",
      "\n",
      "\n",
      "\n",
      "130\n",
      "0.7589357699543133\n",
      "0.9545454545454546\n",
      "\n",
      "\n",
      "\n",
      "131\n",
      "0.7616232195646332\n",
      "0.9545454545454546\n",
      "\n",
      "\n",
      "\n",
      "132\n",
      "0.7624294544477291\n",
      "0.9545454545454546\n",
      "\n",
      "\n",
      "\n",
      "133\n",
      "0.7653856490190809\n",
      "0.9542362399505256\n",
      "\n",
      "\n",
      "\n",
      "134\n",
      "0.7688793335124966\n",
      "0.9536178107606679\n",
      "\n",
      "\n",
      "\n",
      "135\n",
      "0.7699543133566246\n",
      "0.9536178107606679\n",
      "\n",
      "\n",
      "\n",
      "136\n",
      "0.7710292932007525\n",
      "0.953308596165739\n",
      "\n",
      "\n",
      "\n",
      "137\n",
      "0.7729105079279763\n",
      "0.9529993815708101\n",
      "\n",
      "\n",
      "\n",
      "138\n",
      "0.7737167428110723\n",
      "0.9520717377860235\n",
      "\n",
      "\n",
      "\n",
      "139\n",
      "0.7764041924213921\n",
      "0.9517625231910947\n",
      "\n",
      "\n",
      "\n",
      "140\n",
      "0.7793603869927439\n",
      "0.9514533085961657\n",
      "\n",
      "\n",
      "\n",
      "141\n",
      "0.7828540714861596\n",
      "0.9511440940012369\n",
      "\n",
      "\n",
      "\n",
      "142\n",
      "0.7850040311744155\n",
      "0.9502164502164502\n",
      "\n",
      "\n",
      "\n",
      "143\n",
      "0.7890352055898951\n",
      "0.9495980210265924\n",
      "\n",
      "\n",
      "\n",
      "144\n",
      "0.7922601451222789\n",
      "0.948051948051948\n",
      "\n",
      "\n",
      "\n",
      "145\n",
      "0.7976350443429185\n",
      "0.9468150896722325\n",
      "\n",
      "\n",
      "\n",
      "146\n",
      "0.8040849234076861\n",
      "0.9458874458874459\n",
      "\n",
      "\n",
      "\n",
      "147\n",
      "0.8083848427841978\n",
      "0.943104514533086\n",
      "\n",
      "\n",
      "\n",
      "148\n",
      "0.8140284869658694\n",
      "0.9397031539888683\n",
      "\n",
      "\n",
      "\n",
      "149\n",
      "0.8228970706799248\n",
      "0.9304267161410018\n",
      "\n",
      "\n",
      "\n",
      "150\n",
      "0.846546627250739\n",
      "0.8871366728509585\n",
      "\n",
      "\n",
      "\n",
      "151\n",
      "0.889545821015856\n",
      "0.0\n",
      "\n",
      "\n",
      "\n",
      "152\n",
      "0.889545821015856\n",
      "0.0\n",
      "\n",
      "\n",
      "\n",
      "153\n",
      "0.889545821015856\n",
      "0.0\n",
      "\n",
      "\n",
      "\n",
      "154\n",
      "0.889545821015856\n",
      "0.0\n",
      "\n",
      "\n",
      "\n",
      "155\n",
      "0.889545821015856\n",
      "0.0\n",
      "\n",
      "\n",
      "\n",
      "156\n",
      "0.889545821015856\n",
      "0.0\n",
      "\n",
      "\n",
      "\n",
      "157\n",
      "0.889545821015856\n",
      "0.0\n",
      "\n",
      "\n",
      "\n",
      "158\n",
      "0.889545821015856\n",
      "0.0\n",
      "\n",
      "\n",
      "\n",
      "159\n",
      "0.889545821015856\n",
      "0.0\n",
      "\n",
      "\n",
      "\n",
      "160\n",
      "0.889545821015856\n",
      "0.0\n",
      "\n",
      "\n",
      "\n",
      "161\n",
      "0.889545821015856\n",
      "0.0\n",
      "\n",
      "\n",
      "\n",
      "162\n",
      "0.889545821015856\n",
      "0.0\n",
      "\n",
      "\n",
      "\n",
      "163\n",
      "0.889545821015856\n",
      "0.0\n",
      "\n",
      "\n",
      "\n",
      "164\n",
      "0.889545821015856\n",
      "0.0\n",
      "\n",
      "\n",
      "\n",
      "165\n",
      "0.889545821015856\n",
      "0.0\n",
      "\n",
      "\n",
      "\n",
      "166\n",
      "0.889545821015856\n",
      "0.0\n",
      "\n",
      "\n",
      "\n",
      "167\n",
      "0.889545821015856\n",
      "0.0\n",
      "\n",
      "\n",
      "\n",
      "168\n",
      "0.889545821015856\n",
      "0.0\n",
      "\n",
      "\n",
      "\n",
      "169\n",
      "0.889545821015856\n",
      "0.0\n",
      "\n",
      "\n",
      "\n",
      "170\n",
      "0.889545821015856\n",
      "0.0\n",
      "\n",
      "\n",
      "\n",
      "171\n",
      "0.889545821015856\n",
      "0.0\n",
      "\n",
      "\n",
      "\n",
      "172\n",
      "0.889545821015856\n",
      "0.0\n",
      "\n",
      "\n",
      "\n",
      "173\n",
      "0.889545821015856\n",
      "0.0\n",
      "\n",
      "\n",
      "\n",
      "174\n",
      "0.889545821015856\n",
      "0.0\n",
      "\n",
      "\n",
      "\n",
      "175\n",
      "0.889545821015856\n",
      "0.0\n",
      "\n",
      "\n",
      "\n",
      "176\n",
      "0.889545821015856\n",
      "0.0\n",
      "\n",
      "\n",
      "\n",
      "177\n",
      "0.889545821015856\n",
      "0.0\n",
      "\n",
      "\n",
      "\n",
      "178\n",
      "0.889545821015856\n",
      "0.0\n",
      "\n",
      "\n",
      "\n",
      "179\n",
      "0.889545821015856\n",
      "0.0\n",
      "\n",
      "\n",
      "\n",
      "180\n",
      "0.889545821015856\n",
      "0.0\n",
      "\n",
      "\n",
      "\n",
      "181\n",
      "0.889545821015856\n",
      "0.0\n",
      "\n",
      "\n",
      "\n",
      "182\n",
      "0.889545821015856\n",
      "0.0\n",
      "\n",
      "\n",
      "\n",
      "183\n",
      "0.889545821015856\n",
      "0.0\n",
      "\n",
      "\n",
      "\n",
      "184\n",
      "0.889545821015856\n",
      "0.0\n",
      "\n",
      "\n",
      "\n",
      "185\n",
      "0.889545821015856\n",
      "0.0\n",
      "\n",
      "\n",
      "\n",
      "186\n",
      "0.889545821015856\n",
      "0.0\n",
      "\n",
      "\n",
      "\n",
      "187\n",
      "0.889545821015856\n",
      "0.0\n",
      "\n",
      "\n",
      "\n",
      "188\n",
      "0.889545821015856\n",
      "0.0\n",
      "\n",
      "\n",
      "\n",
      "189\n",
      "0.889545821015856\n",
      "0.0\n",
      "\n",
      "\n",
      "\n",
      "190\n",
      "0.889545821015856\n",
      "0.0\n",
      "\n",
      "\n",
      "\n",
      "191\n",
      "0.889545821015856\n",
      "0.0\n",
      "\n",
      "\n",
      "\n",
      "192\n",
      "0.889545821015856\n",
      "0.0\n",
      "\n",
      "\n",
      "\n",
      "193\n",
      "0.889545821015856\n",
      "0.0\n",
      "\n",
      "\n",
      "\n",
      "194\n",
      "0.889545821015856\n",
      "0.0\n",
      "\n",
      "\n",
      "\n",
      "195\n",
      "0.889545821015856\n",
      "0.0\n",
      "\n",
      "\n",
      "\n",
      "196\n",
      "0.889545821015856\n",
      "0.0\n",
      "\n",
      "\n",
      "\n",
      "197\n",
      "0.889545821015856\n",
      "0.0\n",
      "\n",
      "\n",
      "\n",
      "198\n",
      "0.889545821015856\n",
      "0.0\n",
      "\n",
      "\n",
      "\n",
      "199\n",
      "0.889545821015856\n",
      "0.0\n",
      "\n",
      "\n",
      "\n"
     ]
    }
   ],
   "source": [
    "for index in range(0,len(correct_genus_rate),1):\n",
    "    print(index)\n",
    "    print(correct_genus_rate[index])\n",
    "    print(correct_species_rate[index])\n",
    "    print('\\n\\n')"
   ]
  },
  {
   "cell_type": "code",
   "execution_count": 78,
   "metadata": {},
   "outputs": [
    {
     "data": {
      "text/plain": [
       "[<matplotlib.lines.Line2D at 0x707ffc224fb0>]"
      ]
     },
     "execution_count": 78,
     "metadata": {},
     "output_type": "execute_result"
    },
    {
     "data": {
      "image/png": "[encoded data removed]",
      "text/plain": [
       "<Figure size 640x480 with 1 Axes>"
      ]
     },
     "metadata": {},
     "output_type": "display_data"
    }
   ],
   "source": [
    "plt.plot(thresholds,correct_genus_rate[-200:])\n",
    "plt.plot(thresholds,correct_species_rate[-200:])"
   ]
  },
  {
   "cell_type": "code",
   "execution_count": 79,
   "metadata": {},
   "outputs": [
    {
     "data": {
      "text/plain": [
       "0.9996734999999999"
      ]
     },
     "execution_count": 79,
     "metadata": {},
     "output_type": "execute_result"
    }
   ],
   "source": [
    "thresholds[147]"
   ]
  },
  {
   "cell_type": "code",
   "execution_count": 52,
   "metadata": {},
   "outputs": [
    {
     "ename": "Exception",
     "evalue": "",
     "output_type": "error",
     "traceback": [
      "\u001b[0;31m---------------------------------------------------------------------------\u001b[0m",
      "\u001b[0;31mException\u001b[0m                                 Traceback (most recent call last)",
      "Cell \u001b[0;32mIn[52], line 1\u001b[0m\n\u001b[0;32m----> 1\u001b[0m \u001b[38;5;28;01mraise\u001b[39;00m \u001b[38;5;167;01mException\u001b[39;00m\n",
      "\u001b[0;31mException\u001b[0m: "
     ]
    }
   ],
   "source": []
  },
  {
   "cell_type": "code",
   "execution_count": 79,
   "metadata": {
    "scrolled": true
   },
   "outputs": [
    {
     "data": {
      "text/plain": [
       "0.988"
      ]
     },
     "execution_count": 79,
     "metadata": {},
     "output_type": "execute_result"
    }
   ],
   "source": [
    "thresholds[88]"
   ]
  },
  {
   "cell_type": "code",
   "execution_count": null,
   "metadata": {},
   "outputs": [],
   "source": []
  },
  {
   "cell_type": "markdown",
   "metadata": {},
   "source": [
    "# Random Forest"
   ]
  },
  {
   "cell_type": "code",
   "execution_count": 66,
   "metadata": {},
   "outputs": [
    {
     "name": "stdout",
     "output_type": "stream",
     "text": [
      "train\n",
      "val\n",
      "proba\n"
     ]
    }
   ],
   "source": [
    "clf = RandomForestClassifier(min_samples_leaf=2,n_jobs=-1)\n",
    "clf = clf.fit(complete_train_features_scaled, image_train_labels)\n",
    "\n",
    "train_predicted_labels = clf.predict(complete_train_features_scaled)\n",
    "print('train')\n",
    "val_predicted_labels= clf.predict(complete_val_features_scaled)\n",
    "print('val')\n",
    "temp_val_predicted_probs = clf.predict_proba(complete_val_features_scaled)\n",
    "print('proba')\n",
    "val_predicted_probs = np.zeros((len(temp_val_predicted_probs),n_classes))\n",
    "for i, cls in enumerate(np.arange(n_classes)):\n",
    "    if cls in clf.classes_:\n",
    "        val_predicted_probs[:, cls] = temp_val_predicted_probs[:, list(clf.classes_).index(cls)]"
   ]
  },
  {
   "cell_type": "code",
   "execution_count": 21,
   "metadata": {},
   "outputs": [
    {
     "data": {
      "text/plain": [
       "array([[0.        , 0.89183333, 0.        , ..., 0.        , 0.        ,\n",
       "        0.        ],\n",
       "       [0.        , 0.90766667, 0.        , ..., 0.        , 0.        ,\n",
       "        0.        ],\n",
       "       [0.        , 0.        , 0.7425    , ..., 0.        , 0.01      ,\n",
       "        0.        ],\n",
       "       ...,\n",
       "       [0.        , 0.        , 0.        , ..., 0.        , 0.        ,\n",
       "        1.        ],\n",
       "       [0.        , 0.        , 0.        , ..., 0.        , 0.        ,\n",
       "        0.8675    ],\n",
       "       [0.        , 0.        , 0.        , ..., 0.        , 0.        ,\n",
       "        0.9625    ]])"
      ]
     },
     "execution_count": 21,
     "metadata": {},
     "output_type": "execute_result"
    }
   ],
   "source": [
    "temp_val_predicted_probs"
   ]
  },
  {
   "cell_type": "code",
   "execution_count": 67,
   "metadata": {},
   "outputs": [
    {
     "data": {
      "text/plain": [
       "array([7.19860062e-05, 2.23161764e-04, 8.18849094e-05, ...,\n",
       "       2.64187911e-05, 2.17996878e-05, 1.24172694e-05])"
      ]
     },
     "execution_count": 67,
     "metadata": {},
     "output_type": "execute_result"
    }
   ],
   "source": [
    "feature_importances = clf.feature_importances_\n",
    "feature_importances"
   ]
  },
  {
   "cell_type": "code",
   "execution_count": 68,
   "metadata": {},
   "outputs": [
    {
     "data": {
      "image/png": "[encoded data removed]",
      "text/plain": [
       "<Figure size 1000x600 with 1 Axes>"
      ]
     },
     "metadata": {},
     "output_type": "display_data"
    }
   ],
   "source": [
    "feature_names = [f'Feature {i+1}' for i in range(complete_train_features.shape[1])]\n",
    "\n",
    "plt.figure(figsize=(10, 6))\n",
    "plt.bar(range(len(feature_importances)), feature_importances, align='center')\n",
    "plt.ylabel('Features Importances')\n",
    "plt.show()"
   ]
  },
  {
   "cell_type": "markdown",
   "metadata": {},
   "source": [
    "# Accuracies"
   ]
  },
  {
   "cell_type": "code",
   "execution_count": 69,
   "metadata": {},
   "outputs": [
    {
     "name": "stdout",
     "output_type": "stream",
     "text": [
      "Training species accuracy:1.0\n",
      "Validation species accuracy:0.4572250179726815\n"
     ]
    }
   ],
   "source": [
    "print(f\"Training species accuracy:{np.count_nonzero(train_predicted_labels==image_train_labels.numpy())/len(image_train_labels)}\")\n",
    "\n",
    "print(f\"Validation species accuracy:{np.count_nonzero(val_predicted_labels==image_val_labels.numpy())/len(image_val_labels)}\")"
   ]
  },
  {
   "cell_type": "code",
   "execution_count": 70,
   "metadata": {},
   "outputs": [
    {
     "name": "stdout",
     "output_type": "stream",
     "text": [
      "Validation genus accuracy: 0.8388209920920201\n"
     ]
    }
   ],
   "source": [
    "import math\n",
    "n_correct_genus = 0\n",
    "for i in range(len(image_val_labels)):\n",
    "    #label_best_specie = val_predicted_probs[i].argmax()\n",
    "    label_best_specie = val_predicted_labels[i]\n",
    "    #print(val_predicted_labels[i])\n",
    "    #print(val_predicted_probs[i].argmax())\n",
    "    #assert(val_predicted_labels[i]==val_predicted_probs[i].argmax())\n",
    "    genus_of_best_species = species2genus[label_best_specie.item()]\n",
    "    #species_same_genus = [k for k,v in species2genus.items() if v == genus_of_best_species]\n",
    "    #reduced_species = val_predicted_probs[i][species_same_genus]\n",
    "    #normalized_reduced_species = reduced_species/(reduced_species.sum())\n",
    "    \n",
    "    real_genus = species2genus[image_val_labels[i].item()]\n",
    "    predicted_genus = genus_of_best_species\n",
    "    if real_genus == predicted_genus:\n",
    "        n_correct_genus+=1\n",
    "print(f\"Validation genus accuracy: {n_correct_genus/len(image_val_labels)}\")"
   ]
  },
  {
   "cell_type": "code",
   "execution_count": null,
   "metadata": {},
   "outputs": [],
   "source": []
  },
  {
   "cell_type": "code",
   "execution_count": null,
   "metadata": {},
   "outputs": [],
   "source": []
  },
  {
   "cell_type": "code",
   "execution_count": 26,
   "metadata": {},
   "outputs": [
    {
     "data": {
      "text/plain": [
       "tensor(366)"
      ]
     },
     "execution_count": 26,
     "metadata": {},
     "output_type": "execute_result"
    }
   ],
   "source": [
    "val_predicted_labels_genus[i]"
   ]
  },
  {
   "cell_type": "code",
   "execution_count": 27,
   "metadata": {
    "scrolled": true
   },
   "outputs": [],
   "source": []
  },
  {
   "cell_type": "code",
   "execution_count": null,
   "metadata": {},
   "outputs": [],
   "source": []
  },
  {
   "cell_type": "code",
   "execution_count": 28,
   "metadata": {
    "scrolled": true
   },
   "outputs": [
    {
     "name": "stdout",
     "output_type": "stream",
     "text": [
      "0\n",
      "0.0\n",
      "0.9904666332162569\n",
      "\n",
      "\n",
      "\n",
      "1\n",
      "0.004448210124973522\n",
      "0.9904666332162569\n",
      "\n",
      "\n",
      "\n",
      "2\n",
      "0.009425969074348655\n",
      "0.9904666332162569\n",
      "\n",
      "\n",
      "\n",
      "3\n",
      "0.013238720610040246\n",
      "0.9904666332162569\n",
      "\n",
      "\n",
      "\n",
      "4\n",
      "0.01779284049989409\n",
      "0.9904666332162569\n",
      "\n",
      "\n",
      "\n",
      "5\n",
      "0.02160559203558568\n",
      "0.9904666332162569\n",
      "\n",
      "\n",
      "\n",
      "6\n",
      "0.025630163101037915\n",
      "0.9904666332162569\n",
      "\n",
      "\n",
      "\n",
      "7\n",
      "0.030502012285532724\n",
      "0.9904666332162569\n",
      "\n",
      "\n",
      "\n",
      "8\n",
      "0.03526795170514722\n",
      "0.9904666332162569\n",
      "\n",
      "\n",
      "\n",
      "9\n",
      "0.039504342300360096\n",
      "0.9902157551430005\n",
      "\n",
      "\n",
      "\n",
      "10\n",
      "0.04363482313069265\n",
      "0.9902157551430005\n",
      "\n",
      "\n",
      "\n",
      "11\n",
      "0.047553484431264566\n",
      "0.9902157551430005\n",
      "\n",
      "\n",
      "\n",
      "12\n",
      "0.05242533361575937\n",
      "0.9902157551430005\n",
      "\n",
      "\n",
      "\n",
      "13\n",
      "0.05708536327049354\n",
      "0.9902157551430005\n",
      "\n",
      "\n",
      "\n",
      "14\n",
      "0.06163948316034738\n",
      "0.9902157551430005\n",
      "\n",
      "\n",
      "\n",
      "15\n",
      "0.06619360305020122\n",
      "0.9902157551430005\n",
      "\n",
      "\n",
      "\n",
      "16\n",
      "0.0699004448210125\n",
      "0.9902157551430005\n",
      "\n",
      "\n",
      "\n",
      "17\n",
      "0.07487820377038763\n",
      "0.9902157551430005\n",
      "\n",
      "\n",
      "\n",
      "18\n",
      "0.08027960177928405\n",
      "0.9902157551430005\n",
      "\n",
      "\n",
      "\n",
      "19\n",
      "0.08652827790722305\n",
      "0.9902157551430005\n",
      "\n",
      "\n",
      "\n",
      "20\n",
      "0.09087057826731625\n",
      "0.9902157551430005\n",
      "\n",
      "\n",
      "\n",
      "21\n",
      "0.09563651768693074\n",
      "0.9902157551430005\n",
      "\n",
      "\n",
      "\n",
      "22\n",
      "0.10040245710654522\n",
      "0.9902157551430005\n",
      "\n",
      "\n",
      "\n",
      "23\n",
      "0.10601567464520228\n",
      "0.9902157551430005\n",
      "\n",
      "\n",
      "\n",
      "24\n",
      "0.11131116288921838\n",
      "0.9902157551430005\n",
      "\n",
      "\n",
      "\n",
      "25\n",
      "0.11575937301419191\n",
      "0.9902157551430005\n",
      "\n",
      "\n",
      "\n",
      "26\n",
      "0.12063122219868672\n",
      "0.9902157551430005\n",
      "\n",
      "\n",
      "\n",
      "27\n",
      "0.12592671044270282\n",
      "0.9902157551430005\n",
      "\n",
      "\n",
      "\n",
      "28\n",
      "0.13048083033255667\n",
      "0.9902157551430005\n",
      "\n",
      "\n",
      "\n",
      "29\n",
      "0.13418767210336793\n",
      "0.9902157551430005\n",
      "\n",
      "\n",
      "\n",
      "30\n",
      "0.13905952128786275\n",
      "0.9902157551430005\n",
      "\n",
      "\n",
      "\n",
      "31\n",
      "0.1442490997669985\n",
      "0.9902157551430005\n",
      "\n",
      "\n",
      "\n",
      "32\n",
      "0.1494386782461343\n",
      "0.9902157551430005\n",
      "\n",
      "\n",
      "\n",
      "33\n",
      "0.15558144460919296\n",
      "0.9902157551430005\n",
      "\n",
      "\n",
      "\n",
      "34\n",
      "0.1596060156746452\n",
      "0.9902157551430005\n",
      "\n",
      "\n",
      "\n",
      "35\n",
      "0.1653251429781826\n",
      "0.9902157551430005\n",
      "\n",
      "\n",
      "\n",
      "36\n",
      "0.170726540987079\n",
      "0.9902157551430005\n",
      "\n",
      "\n",
      "\n",
      "37\n",
      "0.17559839017157383\n",
      "0.9902157551430005\n",
      "\n",
      "\n",
      "\n",
      "38\n",
      "0.18099978818047024\n",
      "0.9899648770697441\n",
      "\n",
      "\n",
      "\n",
      "39\n",
      "0.1860834568947257\n",
      "0.9899648770697441\n",
      "\n",
      "\n",
      "\n",
      "40\n",
      "0.19127303537386148\n",
      "0.9899648770697441\n",
      "\n",
      "\n",
      "\n",
      "41\n",
      "0.19699216267739886\n",
      "0.9899648770697441\n",
      "\n",
      "\n",
      "\n",
      "42\n",
      "0.20239356068629527\n",
      "0.9899648770697441\n",
      "\n",
      "\n",
      "\n",
      "43\n",
      "0.20790086846007202\n",
      "0.9899648770697441\n",
      "\n",
      "\n",
      "\n",
      "44\n",
      "0.2121372590552849\n",
      "0.9899648770697441\n",
      "\n",
      "\n",
      "\n",
      "45\n",
      "0.21743274729930098\n",
      "0.9897139989964877\n",
      "\n",
      "\n",
      "\n",
      "46\n",
      "0.22368142342723998\n",
      "0.9897139989964877\n",
      "\n",
      "\n",
      "\n",
      "47\n",
      "0.22908282143613642\n",
      "0.9897139989964877\n",
      "\n",
      "\n",
      "\n",
      "48\n",
      "0.23469603897479346\n",
      "0.9897139989964877\n",
      "\n",
      "\n",
      "\n",
      "49\n",
      "0.23956788815928828\n",
      "0.9897139989964877\n",
      "\n",
      "\n",
      "\n",
      "50\n",
      "0.24560474475746663\n",
      "0.9897139989964877\n",
      "\n",
      "\n",
      "\n",
      "51\n",
      "0.2507943232366024\n",
      "0.9897139989964877\n",
      "\n",
      "\n",
      "\n",
      "52\n",
      "0.2567252700699004\n",
      "0.9897139989964877\n",
      "\n",
      "\n",
      "\n",
      "53\n",
      "0.2629739461978394\n",
      "0.9897139989964877\n",
      "\n",
      "\n",
      "\n",
      "54\n",
      "0.26943444185553905\n",
      "0.9897139989964877\n",
      "\n",
      "\n",
      "\n",
      "55\n",
      "0.2745181105697945\n",
      "0.9897139989964877\n",
      "\n",
      "\n",
      "\n",
      "56\n",
      "0.2801313281084516\n",
      "0.9897139989964877\n",
      "\n",
      "\n",
      "\n",
      "57\n",
      "0.28616818470662997\n",
      "0.9897139989964877\n",
      "\n",
      "\n",
      "\n",
      "58\n",
      "0.29442914636729506\n",
      "0.9894631209232313\n",
      "\n",
      "\n",
      "\n",
      "59\n",
      "0.3003600932005931\n",
      "0.9894631209232313\n",
      "\n",
      "\n",
      "\n",
      "60\n",
      "0.30671467909341243\n",
      "0.9892122428499749\n",
      "\n",
      "\n",
      "\n",
      "61\n",
      "0.31222198686718916\n",
      "0.9892122428499749\n",
      "\n",
      "\n",
      "\n",
      "62\n",
      "0.3192120313492904\n",
      "0.9892122428499749\n",
      "\n",
      "\n",
      "\n",
      "63\n",
      "0.326307985596272\n",
      "0.9892122428499749\n",
      "\n",
      "\n",
      "\n",
      "64\n",
      "0.3330862105486126\n",
      "0.9892122428499749\n",
      "\n",
      "\n",
      "\n",
      "65\n",
      "0.34018216479559416\n",
      "0.9889613647767185\n",
      "\n",
      "\n",
      "\n",
      "66\n",
      "0.34600720186401185\n",
      "0.9889613647767185\n",
      "\n",
      "\n",
      "\n",
      "67\n",
      "0.35373861470027534\n",
      "0.9889613647767185\n",
      "\n",
      "\n",
      "\n",
      "68\n",
      "0.3593518322389324\n",
      "0.9889613647767185\n",
      "\n",
      "\n",
      "\n",
      "69\n",
      "0.3663418767210337\n",
      "0.9884596086302058\n",
      "\n",
      "\n",
      "\n",
      "70\n",
      "0.3736496504977759\n",
      "0.9884596086302058\n",
      "\n",
      "\n",
      "\n",
      "71\n",
      "0.3795805973310739\n",
      "0.9884596086302058\n",
      "\n",
      "\n",
      "\n",
      "72\n",
      "0.38699428087269644\n",
      "0.9882087305569494\n",
      "\n",
      "\n",
      "\n",
      "73\n",
      "0.3958907011226435\n",
      "0.9882087305569494\n",
      "\n",
      "\n",
      "\n",
      "74\n",
      "0.40425757254818895\n",
      "0.9882087305569494\n",
      "\n",
      "\n",
      "\n",
      "75\n",
      "0.41315399279813597\n",
      "0.9882087305569494\n",
      "\n",
      "\n",
      "\n",
      "76\n",
      "0.41993221775047657\n",
      "0.9882087305569494\n",
      "\n",
      "\n",
      "\n",
      "77\n",
      "0.42692226223257784\n",
      "0.9882087305569494\n",
      "\n",
      "\n",
      "\n",
      "78\n",
      "0.4340182164795594\n",
      "0.9877069744104365\n",
      "\n",
      "\n",
      "\n",
      "79\n",
      "0.4429146367295065\n",
      "0.9877069744104365\n",
      "\n",
      "\n",
      "\n",
      "80\n",
      "0.45106968862529123\n",
      "0.9877069744104365\n",
      "\n",
      "\n",
      "\n",
      "81\n",
      "0.45975428934547763\n",
      "0.9874560963371801\n",
      "\n",
      "\n",
      "\n",
      "82\n",
      "0.46790934124126243\n",
      "0.9872052182639237\n",
      "\n",
      "\n",
      "\n",
      "83\n",
      "0.4758525736072866\n",
      "0.9869543401906673\n",
      "\n",
      "\n",
      "\n",
      "84\n",
      "0.4841135352679517\n",
      "0.9864525840441546\n",
      "\n",
      "\n",
      "\n",
      "85\n",
      "0.49195085786909554\n",
      "0.9864525840441546\n",
      "\n",
      "\n",
      "\n",
      "86\n",
      "0.5026477441220081\n",
      "0.9859508278976418\n",
      "\n",
      "\n",
      "\n",
      "87\n",
      "0.512179622961237\n",
      "0.985449071751129\n",
      "\n",
      "\n",
      "\n",
      "88\n",
      "0.5216055920355857\n",
      "0.9849473156046161\n",
      "\n",
      "\n",
      "\n",
      "89\n",
      "0.5325142978182589\n",
      "0.984194681384847\n",
      "\n",
      "\n",
      "\n",
      "90\n",
      "0.5428934547765304\n",
      "0.984194681384847\n",
      "\n",
      "\n",
      "\n",
      "91\n",
      "0.5521076043211184\n",
      "0.9834420471650778\n",
      "\n",
      "\n",
      "\n",
      "92\n",
      "0.5628044905740309\n",
      "0.982940291018565\n",
      "\n",
      "\n",
      "\n",
      "93\n",
      "0.5749841135352679\n",
      "0.9819367787255394\n",
      "\n",
      "\n",
      "\n",
      "94\n",
      "0.5877991950857869\n",
      "0.980431510286001\n",
      "\n",
      "\n",
      "\n",
      "95\n",
      "0.6034738402880746\n",
      "0.9799297541394882\n",
      "\n",
      "\n",
      "\n",
      "96\n",
      "0.620419402668926\n",
      "0.9771700953336678\n",
      "\n",
      "\n",
      "\n",
      "97\n",
      "0.6387417919932218\n",
      "0.9708981435022579\n",
      "\n",
      "\n",
      "\n",
      "98\n",
      "0.6644778648591401\n",
      "0.9661314601103863\n",
      "\n",
      "\n",
      "\n",
      "99\n",
      "0.6996399067994069\n",
      "0.9548419468138485\n",
      "\n",
      "\n",
      "\n"
     ]
    }
   ],
   "source": []
  },
  {
   "cell_type": "markdown",
   "metadata": {},
   "source": [
    "# Top-2 Method"
   ]
  },
  {
   "cell_type": "code",
   "execution_count": 31,
   "metadata": {},
   "outputs": [],
   "source": [
    "tprs = []\n",
    "fprs = []\n",
    "correct_genus_rate = []\n",
    "correct_species_rate = []\n",
    "for t in range(0,100,1):\n",
    "    entropy_threshold = t/100.0\n",
    "    #print(val_predicted_probs.shape)\n",
    "    n_undescribed_samples = 0\n",
    "    n_described_samples = 0\n",
    "    n_correct_undescribed_samples = 0\n",
    "    n_correct_described_samples = 0\n",
    "    n_correct_genus = 0 \n",
    "    n_correct_species = 0 \n",
    "    for i in range(len(image_val_labels)):\n",
    "        \n",
    "        label_best_specie = val_predicted_labels[i]\n",
    "       \n",
    "        #assert(val_predicted_labels[i]==val_predicted_probs[i].argmax())\n",
    "        genus_of_best_species = species2genus[label_best_specie.item()]\n",
    "        \n",
    "        sorted_probs = np.sort(val_predicted_probs[i])\n",
    "        sorted_probs = sorted_probs[::-1]\n",
    "        \n",
    "        prob_diff = abs(sorted_probs[0] - sorted_probs[1])\n",
    "        #print(prob_diff)\n",
    "        if image_val_labels[i].item() in described_species_labels:\n",
    "            #tn\n",
    "            n_described_samples +=1\n",
    "            if prob_diff >= entropy_threshold:\n",
    "                n_correct_described_samples+=1\n",
    "                if label_best_specie == image_val_labels[i]:\n",
    "                    n_correct_species+=1\n",
    "        else:\n",
    "            #tp\n",
    "            n_undescribed_samples+=1\n",
    "            if prob_diff < entropy_threshold:\n",
    "                n_correct_undescribed_samples+=1\n",
    "                real_genus = species2genus[image_val_labels[i].item()]\n",
    "                predicted_genus = genus_of_best_species\n",
    "                if real_genus == predicted_genus:\n",
    "                    n_correct_genus+=1\n",
    "        \n",
    "            \n",
    "    tprs.append(n_correct_undescribed_samples/n_undescribed_samples) # TPR = recall = sensitivity\n",
    "    fprs.append(1-n_correct_described_samples/n_described_samples) # 1-TNR = 1 - specificity\n",
    "    correct_genus_rate.append(n_correct_genus/n_undescribed_samples)\n",
    "    correct_species_rate.append(n_correct_species/n_described_samples)"
   ]
  },
  {
   "cell_type": "code",
   "execution_count": 42,
   "metadata": {},
   "outputs": [
    {
     "data": {
      "image/png": "[encoded data removed]",
      "text/plain": [
       "<Figure size 640x480 with 1 Axes>"
      ]
     },
     "metadata": {},
     "output_type": "display_data"
    }
   ],
   "source": [
    "from sklearn.metrics import roc_curve, auc\n",
    "\n",
    "roc_auc = auc(fprs, tprs)\n",
    "\n",
    "plt.figure()\n",
    "plt.plot(fprs, tprs, color='black', lw=2, label='ROC curve (area = %0.2f)' % roc_auc)\n",
    "plt.plot([0, 1], [0, 1], color='navy', lw=1, linestyle='--')\n",
    "plt.xlim([0, 1])\n",
    "plt.ylim([0, 1])\n",
    "plt.xlabel(\"False Positive Rate\")\n",
    "plt.ylabel(\"True Positive Rate\")\n",
    "plt.title('ROC Curve')\n",
    "plt.legend(loc=\"lower right\")\n",
    "plt.show()"
   ]
  },
  {
   "cell_type": "code",
   "execution_count": 52,
   "metadata": {},
   "outputs": [
    {
     "data": {
      "text/plain": [
       "[<matplotlib.lines.Line2D at 0x7e2610060ef0>]"
      ]
     },
     "execution_count": 52,
     "metadata": {},
     "output_type": "execute_result"
    },
    {
     "data": {
      "image/png": "[encoded data removed]",
      "text/plain": [
       "<Figure size 640x480 with 1 Axes>"
      ]
     },
     "metadata": {},
     "output_type": "display_data"
    }
   ],
   "source": [
    "plt.plot(correct_genus_rate)"
   ]
  },
  {
   "cell_type": "code",
   "execution_count": 53,
   "metadata": {},
   "outputs": [
    {
     "name": "stdout",
     "output_type": "stream",
     "text": [
      "0.04986902625680434\n"
     ]
    },
    {
     "data": {
      "text/plain": [
       "Text(0, 0.5, 'Correct Genus Rate')"
      ]
     },
     "execution_count": 53,
     "metadata": {},
     "output_type": "execute_result"
    },
    {
     "data": {
      "image/png": "[encoded data removed]",
      "text/plain": [
       "<Figure size 640x480 with 1 Axes>"
      ]
     },
     "metadata": {},
     "output_type": "display_data"
    }
   ],
   "source": [
    "area_correct = auc(correct_species_rate,correct_genus_rate)\n",
    "print(area_correct)\n",
    "\n",
    "plt.plot(correct_species_rate,correct_genus_rate)\n",
    "plt.xlabel(\"Correct Species Rate\")\n",
    "plt.ylabel(\"Correct Genus Rate\")"
   ]
  },
  {
   "cell_type": "code",
   "execution_count": 54,
   "metadata": {
    "scrolled": true
   },
   "outputs": [
    {
     "name": "stdout",
     "output_type": "stream",
     "text": [
      "0\n",
      "0.0\n",
      "0.9913854989231874\n",
      "\n",
      "\n",
      "\n",
      "1\n",
      "0.004815795810257645\n",
      "0.9913854989231874\n",
      "\n",
      "\n",
      "\n",
      "2\n",
      "0.007946063086925114\n",
      "0.9910265613783201\n",
      "\n",
      "\n",
      "\n",
      "3\n",
      "0.010835540573079701\n",
      "0.9910265613783201\n",
      "\n",
      "\n",
      "\n",
      "4\n",
      "0.01396580784974717\n",
      "0.990667623833453\n",
      "\n",
      "\n",
      "\n",
      "5\n",
      "0.01709607512641464\n",
      "0.990667623833453\n",
      "\n",
      "\n",
      "\n",
      "6\n",
      "0.019022393450517698\n",
      "0.990667623833453\n",
      "\n",
      "\n",
      "\n",
      "7\n",
      "0.020948711774620755\n",
      "0.990667623833453\n",
      "\n",
      "\n",
      "\n",
      "8\n",
      "0.02335660967974958\n",
      "0.990667623833453\n",
      "\n",
      "\n",
      "\n",
      "9\n",
      "0.027450036118468576\n",
      "0.990667623833453\n",
      "\n",
      "\n",
      "\n",
      "10\n",
      "0.031543462557187575\n",
      "0.990667623833453\n",
      "\n",
      "\n",
      "\n",
      "11\n",
      "0.036118468576932336\n",
      "0.990667623833453\n",
      "\n",
      "\n",
      "\n",
      "12\n",
      "0.03852636648206116\n",
      "0.9903086862885858\n",
      "\n",
      "\n",
      "\n",
      "13\n",
      "0.042379003130267275\n",
      "0.9903086862885858\n",
      "\n",
      "\n",
      "\n",
      "14\n",
      "0.04695400915001204\n",
      "0.9903086862885858\n",
      "\n",
      "\n",
      "\n",
      "15\n",
      "0.05249217433180833\n",
      "0.9903086862885858\n",
      "\n",
      "\n",
      "\n",
      "16\n",
      "0.05634481098001445\n",
      "0.9903086862885858\n",
      "\n",
      "\n",
      "\n",
      "17\n",
      "0.059956657837707684\n",
      "0.9899497487437185\n",
      "\n",
      "\n",
      "\n",
      "18\n",
      "0.06260534553334939\n",
      "0.9899497487437185\n",
      "\n",
      "\n",
      "\n",
      "19\n",
      "0.06501324343847821\n",
      "0.9895908111988514\n",
      "\n",
      "\n",
      "\n",
      "20\n",
      "0.06886588008668433\n",
      "0.9895908111988514\n",
      "\n",
      "\n",
      "\n",
      "21\n",
      "0.07271851673489044\n",
      "0.9895908111988514\n",
      "\n",
      "\n",
      "\n",
      "22\n",
      "0.07657115338309656\n",
      "0.9895908111988514\n",
      "\n",
      "\n",
      "\n",
      "23\n",
      "0.07970142065976403\n",
      "0.9895908111988514\n",
      "\n",
      "\n",
      "\n",
      "24\n",
      "0.08210931856489286\n",
      "0.9895908111988514\n",
      "\n",
      "\n",
      "\n",
      "25\n",
      "0.08644353479412473\n",
      "0.9895908111988514\n",
      "\n",
      "\n",
      "\n",
      "26\n",
      "0.0910185408138695\n",
      "0.9895908111988514\n",
      "\n",
      "\n",
      "\n",
      "27\n",
      "0.09535275704310137\n",
      "0.9895908111988514\n",
      "\n",
      "\n",
      "\n",
      "28\n",
      "0.0989646039007946\n",
      "0.9895908111988514\n",
      "\n",
      "\n",
      "\n",
      "29\n",
      "0.10329882013002649\n",
      "0.9895908111988514\n",
      "\n",
      "\n",
      "\n",
      "30\n",
      "0.10883698531182277\n",
      "0.9895908111988514\n",
      "\n",
      "\n",
      "\n",
      "31\n",
      "0.1126896219600289\n",
      "0.9895908111988514\n",
      "\n",
      "\n",
      "\n",
      "32\n",
      "0.11581988923669637\n",
      "0.9895908111988514\n",
      "\n",
      "\n",
      "\n",
      "33\n",
      "0.120635685046954\n",
      "0.9895908111988514\n",
      "\n",
      "\n",
      "\n",
      "34\n",
      "0.12400674211413436\n",
      "0.9895908111988514\n",
      "\n",
      "\n",
      "\n",
      "35\n",
      "0.13098964603900795\n",
      "0.988872936109117\n",
      "\n",
      "\n",
      "\n",
      "36\n",
      "0.13628702143029137\n",
      "0.988872936109117\n",
      "\n",
      "\n",
      "\n",
      "37\n",
      "0.14206597640260052\n",
      "0.988872936109117\n",
      "\n",
      "\n",
      "\n",
      "38\n",
      "0.14615940284131954\n",
      "0.988872936109117\n",
      "\n",
      "\n",
      "\n",
      "39\n",
      "0.15025282928003852\n",
      "0.988872936109117\n",
      "\n",
      "\n",
      "\n",
      "40\n",
      "0.15530941488080904\n",
      "0.988872936109117\n",
      "\n",
      "\n",
      "\n",
      "41\n",
      "0.15940284131952806\n",
      "0.988872936109117\n",
      "\n",
      "\n",
      "\n",
      "42\n",
      "0.16373705754875995\n",
      "0.988872936109117\n",
      "\n",
      "\n",
      "\n",
      "43\n",
      "0.169756802311582\n",
      "0.988872936109117\n",
      "\n",
      "\n",
      "\n",
      "44\n",
      "0.1748133879123525\n",
      "0.9885139985642498\n",
      "\n",
      "\n",
      "\n",
      "45\n",
      "0.18155550204671322\n",
      "0.9885139985642498\n",
      "\n",
      "\n",
      "\n",
      "46\n",
      "0.18540813869491934\n",
      "0.9885139985642498\n",
      "\n",
      "\n",
      "\n",
      "47\n",
      "0.1899831447146641\n",
      "0.9885139985642498\n",
      "\n",
      "\n",
      "\n",
      "48\n",
      "0.19503973031543462\n",
      "0.9885139985642498\n",
      "\n",
      "\n",
      "\n",
      "49\n",
      "0.20154105465928246\n",
      "0.9885139985642498\n",
      "\n",
      "\n",
      "\n",
      "50\n",
      "0.20635685046954008\n",
      "0.9885139985642498\n",
      "\n",
      "\n",
      "\n",
      "51\n",
      "0.21141343607031063\n",
      "0.9885139985642498\n",
      "\n",
      "\n",
      "\n",
      "52\n",
      "0.21671081146159402\n",
      "0.9877961234745154\n",
      "\n",
      "\n",
      "\n",
      "53\n",
      "0.22321213580544186\n",
      "0.9877961234745154\n",
      "\n",
      "\n",
      "\n",
      "54\n",
      "0.22995424993980254\n",
      "0.9877961234745154\n",
      "\n",
      "\n",
      "\n",
      "55\n",
      "0.23669636407416325\n",
      "0.9877961234745154\n",
      "\n",
      "\n",
      "\n",
      "56\n",
      "0.241271370093908\n",
      "0.9877961234745154\n",
      "\n",
      "\n",
      "\n",
      "57\n",
      "0.24680953527570432\n",
      "0.9877961234745154\n",
      "\n",
      "\n",
      "\n",
      "58\n",
      "0.25307006982903923\n",
      "0.9877961234745154\n",
      "\n",
      "\n",
      "\n",
      "59\n",
      "0.25692270647724536\n",
      "0.9877961234745154\n",
      "\n",
      "\n",
      "\n",
      "60\n",
      "0.2622200818685288\n",
      "0.9870782483847811\n",
      "\n",
      "\n",
      "\n",
      "61\n",
      "0.2679990368408379\n",
      "0.9870782483847811\n",
      "\n",
      "\n",
      "\n",
      "62\n",
      "0.2752227305562244\n",
      "0.9870782483847811\n",
      "\n",
      "\n",
      "\n",
      "63\n",
      "0.28172405490007224\n",
      "0.9870782483847811\n",
      "\n",
      "\n",
      "\n",
      "64\n",
      "0.2865398507103299\n",
      "0.9870782483847811\n",
      "\n",
      "\n",
      "\n",
      "65\n",
      "0.2930411750541777\n",
      "0.9870782483847811\n",
      "\n",
      "\n",
      "\n",
      "66\n",
      "0.3012280279316157\n",
      "0.9867193108399138\n",
      "\n",
      "\n",
      "\n",
      "67\n",
      "0.30700698290392486\n",
      "0.9867193108399138\n",
      "\n",
      "\n",
      "\n",
      "68\n",
      "0.31302672766674694\n",
      "0.9867193108399138\n",
      "\n",
      "\n",
      "\n",
      "69\n",
      "0.3200096315916205\n",
      "0.9860014357501795\n",
      "\n",
      "\n",
      "\n",
      "70\n",
      "0.3296412232121358\n",
      "0.9856424982053122\n",
      "\n",
      "\n",
      "\n",
      "71\n",
      "0.3361425475559836\n",
      "0.9849246231155779\n",
      "\n",
      "\n",
      "\n",
      "72\n",
      "0.3448109800144474\n",
      "0.9845656855707107\n",
      "\n",
      "\n",
      "\n",
      "73\n",
      "0.35034914519624366\n",
      "0.9842067480258435\n",
      "\n",
      "\n",
      "\n",
      "74\n",
      "0.3582952082831688\n",
      "0.9831299353912419\n",
      "\n",
      "\n",
      "\n",
      "75\n",
      "0.36672285095111967\n",
      "0.9827709978463748\n",
      "\n",
      "\n",
      "\n",
      "76\n",
      "0.37515049361907055\n",
      "0.9824120603015075\n",
      "\n",
      "\n",
      "\n",
      "77\n",
      "0.3833373464965085\n",
      "0.9824120603015075\n",
      "\n",
      "\n",
      "\n",
      "78\n",
      "0.3908018300024079\n",
      "0.9813352476669059\n",
      "\n",
      "\n",
      "\n",
      "79\n",
      "0.39802552371779437\n",
      "0.9813352476669059\n",
      "\n",
      "\n",
      "\n",
      "80\n",
      "0.40669395617625814\n",
      "0.9813352476669059\n",
      "\n",
      "\n",
      "\n",
      "81\n",
      "0.41849265591138934\n",
      "0.9809763101220388\n",
      "\n",
      "\n",
      "\n",
      "82\n",
      "0.42860582711293044\n",
      "0.9806173725771715\n",
      "\n",
      "\n",
      "\n",
      "83\n",
      "0.4394413676860101\n",
      "0.9798994974874372\n",
      "\n",
      "\n",
      "\n",
      "84\n",
      "0.4483505899349868\n",
      "0.9791816223977028\n",
      "\n",
      "\n",
      "\n",
      "85\n",
      "0.4611124488321695\n",
      "0.9777458722182341\n",
      "\n",
      "\n",
      "\n",
      "86\n",
      "0.47531904647242956\n",
      "0.9766690595836325\n",
      "\n",
      "\n",
      "\n",
      "87\n",
      "0.48735853599807366\n",
      "0.9763101220387652\n",
      "\n",
      "\n",
      "\n",
      "88\n",
      "0.498916445942692\n",
      "0.9759511844938981\n",
      "\n",
      "\n",
      "\n",
      "89\n",
      "0.5116783048398748\n",
      "0.9755922469490309\n",
      "\n",
      "\n",
      "\n",
      "90\n",
      "0.5268480616421863\n",
      "0.9745154343144293\n",
      "\n",
      "\n",
      "\n",
      "91\n",
      "0.5408138694919336\n",
      "0.9734386216798278\n",
      "\n",
      "\n",
      "\n",
      "92\n",
      "0.5528533590175777\n",
      "0.9712849964106246\n",
      "\n",
      "\n",
      "\n",
      "93\n",
      "0.5713941728870696\n",
      "0.9698492462311558\n",
      "\n",
      "\n",
      "\n",
      "94\n",
      "0.5875270888514327\n",
      "0.968413496051687\n",
      "\n",
      "\n",
      "\n",
      "95\n",
      "0.6065494823019504\n",
      "0.9655419956927495\n",
      "\n",
      "\n",
      "\n",
      "96\n",
      "0.6250902961714423\n",
      "0.9583632447954056\n",
      "\n",
      "\n",
      "\n",
      "97\n",
      "0.6498916445942692\n",
      "0.9508255563531945\n",
      "\n",
      "\n",
      "\n",
      "98\n",
      "0.676860101131712\n",
      "0.9407753050969131\n",
      "\n",
      "\n",
      "\n",
      "99\n",
      "0.7093667228509511\n",
      "0.9073941134242641\n",
      "\n",
      "\n",
      "\n"
     ]
    }
   ],
   "source": [
    "for index in range(0,100,1):\n",
    "    print(index)\n",
    "    print(correct_genus_rate[index])\n",
    "    print(correct_species_rate[index])\n",
    "    print('\\n\\n')"
   ]
  },
  {
   "cell_type": "code",
   "execution_count": 56,
   "metadata": {},
   "outputs": [
    {
     "name": "stdout",
     "output_type": "stream",
     "text": [
      "0.20635685046954008\n"
     ]
    },
    {
     "data": {
      "text/plain": [
       "0.9885139985642498"
      ]
     },
     "execution_count": 56,
     "metadata": {},
     "output_type": "execute_result"
    }
   ],
   "source": [
    "print(correct_genus_rate[50])\n",
    "correct_species_rate[50]"
   ]
  },
  {
   "cell_type": "code",
   "execution_count": null,
   "metadata": {},
   "outputs": [],
   "source": []
  },
  {
   "cell_type": "code",
   "execution_count": null,
   "metadata": {},
   "outputs": [],
   "source": []
  },
  {
   "cell_type": "code",
   "execution_count": null,
   "metadata": {},
   "outputs": [],
   "source": []
  },
  {
   "cell_type": "code",
   "execution_count": null,
   "metadata": {},
   "outputs": [],
   "source": []
  }
 ],
 "metadata": {
  "kernelspec": {
   "display_name": "Python 3 (ipykernel)",
   "language": "python",
   "name": "python3"
  },
  "language_info": {
   "codemirror_mode": {
    "name": "ipython",
    "version": 3
   },
   "file_extension": ".py",
   "mimetype": "text/x-python",
   "name": "python",
   "nbconvert_exporter": "python",
   "pygments_lexer": "ipython3",
   "version": "3.12.2"
  }
 },
 "nbformat": 4,
 "nbformat_minor": 4
}
