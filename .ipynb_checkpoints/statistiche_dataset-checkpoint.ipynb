{
 "cells": [
  {
   "cell_type": "code",
   "execution_count": 1,
   "id": "2c180527-174f-44e4-acde-f2185922911b",
   "metadata": {},
   "outputs": [],
   "source": [
    "import dataset_utils\n",
    "import pandas as pd\n",
    "from torchvision import transforms\n",
    "import torch\n",
    "import torchvision\n",
    "from dataset_utils import *\n",
    "import numpy as np\n",
    "import matplotlib.pyplot as plt\n",
    "csv_path = 'final_dataset.csv'\n",
    "image_path = 'image_dataset/'\n",
    "batch_size = 16\n",
    "shuffle_loaders = False"
   ]
  },
  {
   "cell_type": "code",
   "execution_count": null,
   "id": "2fd7232a-3a11-472d-b6ce-144ec4033c99",
   "metadata": {},
   "outputs": [],
   "source": [
    "df = pd.read_csv(csv_path,index_col=0)\n",
    "imsize = 64\n",
    "tform = transforms.Compose([transforms.Resize((imsize,imsize)),\n",
    "                            transforms.PILToTensor(),\n",
    "                            transforms.ConvertImageDtype(torch.float),\n",
    "                            transforms.Normalize(0.5,0.5)])\n",
    "image_dataset = torchvision.datasets.ImageFolder(image_path, transform=tform)\n",
    "\n",
    "img2dna = get_imgs_bold_id(image_dataset,df)\n",
    "\n",
    "nucleotides = df[['nucleotide','species_name','genus_name','processid','image_urls']]\n",
    "colonna_dna = df.loc[:,\"nucleotide\"]\n",
    "nucleotides.loc[:,'nucleotide'] = colonna_dna.apply(one_hot_encoding)\n",
    "random.seed(42)\n",
    "X_train_val, X_test, y_train_val, y_test = data_split(nucleotides,0.2,random_state=42,)\n",
    "train_data = X_train_val\n",
    "train_data['species_name'] = y_train_val\n",
    "X_train, X_validation, y_train, y_validation = data_split(train_data,0.2,drop_labels=False,random_state=42)\n",
    "train_indices, val_indices, test_indices = image_splits_from_df(X_train,X_validation,X_test,image_dataset)\n",
    " \n",
    "class WholeDataset(Dataset):\n",
    "    def __init__(self, data, transform=None):\n",
    "        self.data = data\n",
    "        self.targets = data.targets            \n",
    "    def __getitem__(self, index):\n",
    "        x = self.data[index][0]\n",
    "        y = self.targets[index]\n",
    "        return x, y\n",
    "    \n",
    "    def __len__(self):\n",
    "        return len(self.data)\n",
    "        \n",
    "whole_dataset = WholeDataset(image_dataset)\n",
    "n_classes = np.unique(whole_dataset.targets).shape[0]\n",
    "train_imgs = torch.utils.data.Subset(whole_dataset, train_indices)\n",
    "val_imgs = torch.utils.data.Subset(whole_dataset, val_indices)\n",
    "train_val_imgs = torch.utils.data.Subset(whole_dataset, train_indices+val_indices)\n",
    "test_imgs = torch.utils.data.Subset(whole_dataset, test_indices)\n",
    "\n",
    "train_loader = torch.utils.data.DataLoader(train_imgs, batch_size=batch_size,shuffle=shuffle_loaders, num_workers=2)\n",
    "val_loader = torch.utils.data.DataLoader(val_imgs, batch_size=batch_size,shuffle=shuffle_loaders, num_workers=2)\n",
    "train_val_loader = torch.utils.data.DataLoader(train_val_imgs, batch_size=batch_size,shuffle=shuffle_loaders, num_workers=2)\n",
    "test_loader = torch.utils.data.DataLoader(test_imgs, batch_size=batch_size,shuffle=shuffle_loaders, num_workers=2)\n",
    "dataloaders = {\"train\":train_loader,\"val\":val_loader,\"test\":test_loader,'train_val':train_val_loader}\n",
    "dataset_sizes = {'train': len(train_imgs.indices), 'val':len(val_imgs.indices),'test':len(test_imgs.indices),'train_val':len(train_val_imgs.indices)}\n",
    "\n"
   ]
  },
  {
   "cell_type": "code",
   "execution_count": null,
   "id": "366a3737-c177-449d-a3ae-8a297cb227f9",
   "metadata": {},
   "outputs": [],
   "source": [
    "all_species_labels = list(range(n_classes))\n",
    "described_species_labels_train = set(np.array([image_dataset.targets[i] for i in train_indices]))\n",
    "described_species_labels_trainval = set(np.array([image_dataset.targets[i] for i in train_indices+val_indices]))"
   ]
  },
  {
   "cell_type": "code",
   "execution_count": null,
   "id": "e33c4221-99bf-4cec-aac7-174b5d2384ff",
   "metadata": {
    "scrolled": true
   },
   "outputs": [],
   "source": [
    "n_seen_val = 0\n",
    "for i in val_indices:\n",
    "    if image_dataset[i][1] in described_species_labels_train:\n",
    "        n_seen_val+=1\n",
    "        "
   ]
  },
  {
   "cell_type": "code",
   "execution_count": null,
   "id": "dcdaccd9-6e5a-4a7e-855a-90c2f4661826",
   "metadata": {},
   "outputs": [],
   "source": [
    "n_seen_test = 0\n",
    "for i in test_indices:\n",
    "    if image_dataset[i][1] in described_species_labels_trainval:\n",
    "        n_seen_test+=1\n",
    "        "
   ]
  },
  {
   "cell_type": "code",
   "execution_count": null,
   "id": "6344b8df-1701-4013-9bdb-49f846f975e9",
   "metadata": {},
   "outputs": [],
   "source": [
    "print(f\"Number of seen training samples:{len(train_indices)}\")\n",
    "print(f\"Number of seen val samples:{n_seen_val}\")\n",
    "print(f\"Number of unseen val samples:{len(val_indices)-n_seen_val}\")\n",
    "print(f\"Number of seen test samples:{n_seen_test}\")\n",
    "print(f\"Number of unseen test samples:{len(test_indices)-n_seen_test}\")"
   ]
  },
  {
   "cell_type": "code",
   "execution_count": null,
   "id": "cbe45ec5-6a10-48b2-8678-ec6fdc84148c",
   "metadata": {},
   "outputs": [],
   "source": [
    "barplotlabels = [\"train\",\"val seen\",\"val unseen\",\"test seen\",\"test unseen\"]"
   ]
  },
  {
   "cell_type": "code",
   "execution_count": null,
   "id": "8e2a3a41-2a17-47ae-91af-efd87b98742c",
   "metadata": {},
   "outputs": [],
   "source": [
    "plt.bar(barplotlabels,[len(train_indices),n_seen_val,len(val_indices)-n_seen_val,n_seen_test,len(test_indices)-n_seen_test])\n",
    "plt.title(\"Nostro dataset\")"
   ]
  },
  {
   "cell_type": "code",
   "execution_count": null,
   "id": "03808a63-0b44-4e0e-8049-dcff06759470",
   "metadata": {},
   "outputs": [],
   "source": [
    "from scipy.io import loadmat\n",
    "paper_data = loadmat('data/INSECTS/data.mat')\n",
    "paper_splits = loadmat('data/INSECTS/splits.mat')\n",
    "\n",
    "train_indices = paper_splits['train_loc']-1\n",
    "image_train_features = torch.tensor(paper_data['embeddings_img'][train_indices]).squeeze()\n",
    "expanded_train_dna_features = torch.tensor(paper_data['embeddings_dna'][train_indices]).squeeze()\n",
    "image_train_labels= torch.tensor(paper_data['labels'][train_indices],dtype=int).squeeze()-1\n",
    "expanded_train_dna_labels= torch.tensor(paper_data['labels'][train_indices],dtype=int).squeeze()-1\n",
    "\n",
    "val_indices = np.concatenate((paper_splits['val_seen_loc'],paper_splits['val_unseen_loc']),axis=1)-1\n",
    "image_val_features = torch.tensor(paper_data['embeddings_img'][val_indices]).squeeze()\n",
    "expanded_val_dna_features = torch.tensor(paper_data['embeddings_dna'][val_indices]).squeeze()\n",
    "image_val_labels= torch.tensor(paper_data['labels'][val_indices],dtype=int).squeeze()-1\n",
    "expanded_val_dna_labels= torch.tensor(paper_data['labels'][val_indices],dtype=int).squeeze()-1\n",
    "\n",
    "\n",
    "test_indices = np.concatenate((paper_splits['test_seen_loc'],paper_splits['test_unseen_loc']),axis=1)-1\n",
    "image_test_features = torch.tensor(paper_data['embeddings_img'][test_indices]).squeeze()\n",
    "expanded_test_dna_features = torch.tensor(paper_data['embeddings_dna'][test_indices]).squeeze()\n",
    "image_test_labels= torch.tensor(paper_data['labels'][test_indices],dtype=int).squeeze()-1\n",
    "expanded_test_dna_labels= torch.tensor(paper_data['labels'][test_indices],dtype=int).squeeze()-1\n",
    "species2genus = paper_data['G'].astype(int) #np.vstack([-1,paper_data['G'].astype(int)])\n",
    "species2genus = species2genus - min(species2genus)\n",
    "described_species_labels = image_train_labels.unique().numpy()"
   ]
  },
  {
   "cell_type": "code",
   "execution_count": null,
   "id": "1c4fe922-580e-47fd-89de-15e09bc60f8b",
   "metadata": {},
   "outputs": [],
   "source": [
    "plt.bar(barplotlabels,[len(train_indices[0]),\n",
    "                       len(paper_splits['val_seen_loc'][0]),\n",
    "                       len(paper_splits['val_unseen_loc'][0]),\n",
    "                       len(paper_splits['test_seen_loc'][0]),\n",
    "                       len(paper_splits['test_unseen_loc'][0]),]\n",
    "                       )\n",
    "plt.title(\"Dataset del paper\")\n"
   ]
  },
  {
   "cell_type": "code",
   "execution_count": null,
   "id": "3a414741-6cf1-46a1-9ffc-d696612ae1ae",
   "metadata": {},
   "outputs": [],
   "source": [
    "len(paper_splits['val_seen_loc'][0])"
   ]
  },
  {
   "cell_type": "code",
   "execution_count": null,
   "id": "a908073b-ecbf-4496-a19d-313d543a00f0",
   "metadata": {},
   "outputs": [],
   "source": []
  }
 ],
 "metadata": {
  "kernelspec": {
   "display_name": "Python 3 (ipykernel)",
   "language": "python",
   "name": "python3"
  },
  "language_info": {
   "codemirror_mode": {
    "name": "ipython",
    "version": 3
   },
   "file_extension": ".py",
   "mimetype": "text/x-python",
   "name": "python",
   "nbconvert_exporter": "python",
   "pygments_lexer": "ipython3",
   "version": "3.12.2"
  }
 },
 "nbformat": 4,
 "nbformat_minor": 5
}
