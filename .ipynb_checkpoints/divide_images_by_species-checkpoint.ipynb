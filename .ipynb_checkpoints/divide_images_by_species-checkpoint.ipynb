{
 "cells": [
  {
   "cell_type": "code",
   "execution_count": 5,
   "id": "e4303152-e826-4880-a358-c5aa73585f08",
   "metadata": {},
   "outputs": [],
   "source": [
    "import os\n",
    "import pandas as pd"
   ]
  },
  {
   "cell_type": "code",
   "execution_count": 7,
   "id": "9121e460-5dcf-4a7a-8935-f348a6d24491",
   "metadata": {
    "scrolled": true
   },
   "outputs": [
    {
     "name": "stderr",
     "output_type": "stream",
     "text": [
      "mkdir: cannot create directory ‘image_dataset/Sericomyia_chalcopyga’: File exists\n",
      "mkdir: cannot create directory ‘image_dataset/Coleophora_deauratella’: File exists\n",
      "mkdir: cannot create directory ‘image_dataset/Drosophila_affinis’: File exists\n",
      "mkdir: cannot create directory ‘image_dataset/Cantharis_rustica’: File exists\n"
     ]
    },
    {
     "name": "stdout",
     "output_type": "stream",
     "text": [
      "4\n"
     ]
    }
   ],
   "source": [
    "df  = pd.read_csv(\"only_five_missing.csv\",index_col=0)\n",
    "n_moved_images = 0\n",
    "\n",
    "for i,row in df.iterrows():\n",
    "  img_urls = row['image_urls'].split('|')\n",
    "  #print(img_urls)\n",
    "  folder_name = row['species_name'].replace(\" \",\"_\")\n",
    "  for url in img_urls:\n",
    "    img_name = url[url.rfind('/')+1:]\n",
    "    \n",
    "    if os.path.isfile(f\"image_dataset/{img_name}\"):\n",
    "        n_moved_images+=1\n",
    "        #print(row['species_name'].replace(\" \",\"_\"))\n",
    "        \n",
    "        os.system(f\"mkdir image_dataset/{folder_name}\")\n",
    "        os.system(f\"mv image_dataset/{img_name} image_dataset/{folder_name}/{img_name}\")\n",
    "    \n",
    "    else:\n",
    "        pass\n",
    "        #print(f\"image_dataset/{img_name}\",\"not found\\n\")\n",
    "print(n_moved_images)\n"
   ]
  },
  {
   "cell_type": "code",
   "execution_count": 6,
   "id": "3b30aded-3948-49f8-b5f5-9c11564995d3",
   "metadata": {},
   "outputs": [
    {
     "data": {
      "text/plain": [
       "1820"
      ]
     },
     "execution_count": 6,
     "metadata": {},
     "output_type": "execute_result"
    }
   ],
   "source": [
    "df.loc[df['species_name']=='Eulepidotis testaceiceps'].size"
   ]
  }
 ],
 "metadata": {
  "kernelspec": {
   "display_name": "Python 3 (ipykernel)",
   "language": "python",
   "name": "python3"
  },
  "language_info": {
   "codemirror_mode": {
    "name": "ipython",
    "version": 3
   },
   "file_extension": ".py",
   "mimetype": "text/x-python",
   "name": "python",
   "nbconvert_exporter": "python",
   "pygments_lexer": "ipython3",
   "version": "3.12.2"
  }
 },
 "nbformat": 4,
 "nbformat_minor": 5
}
