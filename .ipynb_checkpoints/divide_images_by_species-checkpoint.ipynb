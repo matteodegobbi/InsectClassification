{
 "cells": [
  {
   "cell_type": "code",
   "execution_count": 148,
   "id": "e4303152-e826-4880-a358-c5aa73585f08",
   "metadata": {},
   "outputs": [],
   "source": [
    "import os\n",
    "import pandas as pd\n",
    "df = pd.read_csv(\"only_five_missing.csv\",index_col=0)\n",
    "\n",
    "#print(df.head())\n"
   ]
  },
  {
   "cell_type": "code",
   "execution_count": 149,
   "id": "546410ae-4a75-490d-bfb3-6a1a92f709ed",
   "metadata": {},
   "outputs": [
    {
     "name": "stdout",
     "output_type": "stream",
     "text": [
      "(27359, 52)\n",
      "(27354, 52)\n",
      "1051\n",
      "1051\n",
      "(26476, 52)\n",
      "1050\n",
      "1050\n"
     ]
    }
   ],
   "source": [
    "print(df.shape)\n",
    "df = df.dropna(subset=['image_urls','nucleotide','species_name','genus_name'])\n",
    "print(df.shape)\n",
    "print(df['species_name'].nunique())\n",
    "print(df['species_taxID'].nunique())\n",
    "df = df.drop(df[df['species_name']==' '].index)\n",
    "print(df.shape)\n",
    "print(df['species_name'].nunique())\n",
    "print(df['species_taxID'].nunique())\n",
    "df.to_csv(\"final_dataset.csv\")"
   ]
  },
  {
   "cell_type": "code",
   "execution_count": 133,
   "id": "fab2bbe3-2e3f-41e7-8f5b-bbb5b4563449",
   "metadata": {},
   "outputs": [],
   "source": [
    "import scipy.io as io\n",
    "matlab_data = io.loadmat('data/INSECTS/data.mat')\n",
    "matlab_species = set()\n",
    "missing_from_matlab = set()\n",
    "for specie in matlab_data['species']:\n",
    "    matlab_species.add(specie[0][0])\n",
    "    #print(specie[0][0])\n",
    "for i, row in df.iterrows():\n",
    "    if row['species_name'] not in matlab_species:\n",
    "        #print(row['species_name'])\n",
    "        missing_from_matlab.add(row['species_name'])"
   ]
  },
  {
   "cell_type": "code",
   "execution_count": 128,
   "id": "62f30889-eb5f-40b5-8a79-dff37416f08b",
   "metadata": {},
   "outputs": [],
   "source": [
    "f = open(\"cambiamenti.txt\",\"w\")\n",
    "d = dict()\n",
    "for missing_spec in missing_from_matlab:\n",
    "    missing_locs = df.loc[df['species_name']== missing_spec]\n",
    "    for i,row in missing_locs.iterrows():\n",
    "        bold_id = row['processid']\n",
    "        d[missing_spec] = matlab_data['species'][matlab_data['bold_ids'] == bold_id][0][0]\n",
    "        f.write(f\"{missing_spec}-->,{matlab_data['species'][matlab_data['bold_ids'] == bold_id][0][0]}\\n\")"
   ]
  },
  {
   "cell_type": "code",
   "execution_count": 130,
   "id": "188af45e-9b0a-489e-9217-e474b4a1a20a",
   "metadata": {},
   "outputs": [
    {
     "name": "stdout",
     "output_type": "stream",
     "text": [
      "Old species that have been divided in multiple species ['Gonodonta fulvangula']\n"
     ]
    }
   ],
   "source": [
    "rev_dict = dict()\n",
    " \n",
    "for key, value in d.items():\n",
    "    rev_dict.setdefault(value, set()).add(key)\n",
    "     \n",
    "result = [key for key, values in rev_dict.items()\n",
    "                              if len(values) > 1]\n",
    " \n",
    "print(\"Old species that have been divided in multiple species:\", str(result))"
   ]
  },
  {
   "cell_type": "code",
   "execution_count": 84,
   "id": "9121e460-5dcf-4a7a-8935-f348a6d24491",
   "metadata": {},
   "outputs": [
    {
     "data": {
      "text/plain": [
       "True"
      ]
     },
     "execution_count": 84,
     "metadata": {},
     "output_type": "execute_result"
    }
   ],
   "source": [
    "missing = 0\n",
    "\n",
    "for i,row in df.iterrows():\n",
    "  img_urls = row['image_urls'].split('|')\n",
    "  #print(img_urls)\n",
    "  for url in img_urls:\n",
    "    img_name = url[url.rfind('/')+1:]\n",
    "    if os.path.isfile(f\"image_dataset/{img_name}\"):\n",
    "      missing+=1\n",
    "print(missing)\n"
   ]
  }
 ],
 "metadata": {
  "kernelspec": {
   "display_name": "Python 3 (ipykernel)",
   "language": "python",
   "name": "python3"
  },
  "language_info": {
   "codemirror_mode": {
    "name": "ipython",
    "version": 3
   },
   "file_extension": ".py",
   "mimetype": "text/x-python",
   "name": "python",
   "nbconvert_exporter": "python",
   "pygments_lexer": "ipython3",
   "version": "3.12.2"
  }
 },
 "nbformat": 4,
 "nbformat_minor": 5
}
