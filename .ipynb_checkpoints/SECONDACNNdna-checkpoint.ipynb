{
 "cells": [
  {
   "cell_type": "code",
   "execution_count": 1,
   "id": "4cf46788-78b9-4fc6-854e-9ca43ad24494",
   "metadata": {},
   "outputs": [],
   "source": [
    "\n",
    "import torch\n",
    "import torchvision\n",
    "from torch import nn \n",
    "#from torch.utils.tensorboard import SummaryWriter\n",
    "from torchvision import transforms\n",
    "import matplotlib.pyplot as plt\n",
    "import pandas as pd\n",
    "from IPython.display import Image \n",
    "import numpy as np\n",
    "import random\n",
    "import dataset_utils\n",
    "from torch.utils.data import Dataset, DataLoader"
   ]
  },
  {
   "cell_type": "code",
   "execution_count": 2,
   "id": "9618d03d-1cbb-490f-a824-b31a67e1c3c1",
   "metadata": {},
   "outputs": [],
   "source": [
    "df = pd.read_csv('final_dataset.csv',index_col=0)\n",
    "tform = transforms.Compose([transforms.Resize((64,64)),transforms.PILToTensor(),transforms.ConvertImageDtype(torch.float),transforms.Normalize(0.5,0.5)])\n",
    "image_dataset = torchvision.datasets.ImageFolder(\"image_dataset/\",transform=tform)\n",
    "species2genus = dataset_utils.species_label_to_genus_label(df,image_dataset)"
   ]
  },
  {
   "cell_type": "code",
   "execution_count": 3,
   "id": "fcb36af0-7a0d-4d79-a25b-0a8a266aade3",
   "metadata": {},
   "outputs": [
    {
     "name": "stdout",
     "output_type": "stream",
     "text": [
      "365    Bembidion normannum\n",
      "292       Bledius gallicus\n",
      "321       Praxis edwardsii\n",
      "352        Andrena pilipes\n",
      "18     Automeris managuana\n",
      "              ...         \n",
      "412         Hemiceras losa\n",
      "413         Hemiceras losa\n",
      "417     Hemiceras punctata\n",
      "418         Hemiceras losa\n",
      "421     Hemiceras punctata\n",
      "Name: species_name, Length: 9991, dtype: object\n"
     ]
    },
    {
     "data": {
      "text/plain": [
       "'from torch.utils.data import Dataset, DataLoader\\n \\nclass WholeDataset(Dataset):\\n    def __init__(self, data, transform=None):\\n        self.data = data\\n        self.targets = data.targets#torch.tensor(targets)\\n        #self.transform = transform\\n        \\n    def __getitem__(self, index):\\n        x = self.data[index][0]\\n        y = self.targets[index]\\n        \\n        return x, y\\n    \\n    def __len__(self):\\n        return len(self.data)\\n        \\nwhole_dataset = WholeDataset(image_dataset)\\nn_classes = np.unique(whole_dataset.targets).shape[0]\\nprint(len(test_indices+val_indices+train_indices))\\nlen(whole_dataset)\\n\\ntrain_imgs = torch.utils.data.Subset(whole_dataset, train_indices)\\nval_imgs = torch.utils.data.Subset(whole_dataset, val_indices)\\ntest_imgs = torch.utils.data.Subset(whole_dataset, test_indices)\\nlen(train_imgs)+len(val_imgs)+len(test_imgs)\\ntrain_loader = torch.utils.data.DataLoader(train_imgs, batch_size=batch_size,shuffle=False, num_workers=2)\\nval_loader = torch.utils.data.DataLoader(val_imgs, batch_size=2000,shuffle=False, num_workers=2)\\ntest_loader = torch.utils.data.DataLoader(test_imgs, batch_size=4,shuffle=False, num_workers=2)\\ndel test_loader\\ndataloaders = {\"train\":train_loader,\"val\":val_loader}\\ndataset_sizes = {\\'train\\': len(train_imgs.indices), \\'val\\':len(val_imgs.indices)}\\n\\ndescribed_species_labels = np.array([image_dataset.targets[i] for i in train_indices])\\ndescribed_species_labels = np.unique(described_species_labels)'"
      ]
     },
     "execution_count": 3,
     "metadata": {},
     "output_type": "execute_result"
    }
   ],
   "source": [
    "\n",
    "batch_size = 1000 \n",
    "import random\n",
    "import dataset_utils\n",
    "img2dna = dataset_utils.get_imgs_bold_id(image_dataset,df)\n",
    "\n",
    "nucleotides = df[['nucleotide','species_name','genus_name','processid','image_urls']]\n",
    "colonna_dna = df.loc[:,\"nucleotide\"]\n",
    "nucleotides.loc[:,'nucleotide'] = colonna_dna.apply(dataset_utils.one_hot_encoding)\n",
    "random.seed(42)\n",
    "\n",
    "X_train_val, X_test, y_train_val, y_test = dataset_utils.data_split(nucleotides,0.2,random_state=42)\n",
    "print(y_test)\n",
    "train_data = X_train_val\n",
    "train_data['species_name'] = y_train_val\n",
    "\n",
    "X_train, X_validation, y_train, y_validation = dataset_utils.data_split(train_data,0.2,drop_labels=False,random_state=42)\n",
    "train_indices, val_indices, test_indices = dataset_utils.image_splits_from_df(X_train,X_validation,X_test,image_dataset)\n",
    "'''from torch.utils.data import Dataset, DataLoader\n",
    " \n",
    "class WholeDataset(Dataset):\n",
    "    def __init__(self, data, transform=None):\n",
    "        self.data = data\n",
    "        self.targets = data.targets#torch.tensor(targets)\n",
    "        #self.transform = transform\n",
    "        \n",
    "    def __getitem__(self, index):\n",
    "        x = self.data[index][0]\n",
    "        y = self.targets[index]\n",
    "        \n",
    "        return x, y\n",
    "    \n",
    "    def __len__(self):\n",
    "        return len(self.data)\n",
    "        \n",
    "whole_dataset = WholeDataset(image_dataset)\n",
    "n_classes = np.unique(whole_dataset.targets).shape[0]\n",
    "print(len(test_indices+val_indices+train_indices))\n",
    "len(whole_dataset)\n",
    "\n",
    "train_imgs = torch.utils.data.Subset(whole_dataset, train_indices)\n",
    "val_imgs = torch.utils.data.Subset(whole_dataset, val_indices)\n",
    "test_imgs = torch.utils.data.Subset(whole_dataset, test_indices)\n",
    "len(train_imgs)+len(val_imgs)+len(test_imgs)\n",
    "train_loader = torch.utils.data.DataLoader(train_imgs, batch_size=batch_size,shuffle=False, num_workers=2)\n",
    "val_loader = torch.utils.data.DataLoader(val_imgs, batch_size=2000,shuffle=False, num_workers=2)\n",
    "test_loader = torch.utils.data.DataLoader(test_imgs, batch_size=4,shuffle=False, num_workers=2)\n",
    "del test_loader\n",
    "dataloaders = {\"train\":train_loader,\"val\":val_loader}\n",
    "dataset_sizes = {'train': len(train_imgs.indices), 'val':len(val_imgs.indices)}\n",
    "\n",
    "described_species_labels = np.array([image_dataset.targets[i] for i in train_indices])\n",
    "described_species_labels = np.unique(described_species_labels)'''"
   ]
  },
  {
   "cell_type": "code",
   "execution_count": 4,
   "id": "5bf67c4e-0e21-4fa2-afe2-133ebb405c5a",
   "metadata": {},
   "outputs": [],
   "source": [
    "train_labels = np.array(image_dataset.imgs)[train_indices][:,1].astype(int)\n",
    "val_labels = np.array(image_dataset.imgs)[val_indices][:,1].astype(int)"
   ]
  },
  {
   "cell_type": "code",
   "execution_count": 5,
   "id": "608d767a-49c3-4a4b-990a-38736b52756c",
   "metadata": {},
   "outputs": [],
   "source": [
    "\n",
    "y_train = y_train.apply(lambda x: image_dataset.class_to_idx[x.replace(' ','_')])\n",
    "y_test = y_test.apply(lambda x: image_dataset.class_to_idx[x.replace(' ','_')])\n",
    "y_validation= y_validation.apply(lambda x: image_dataset.class_to_idx[x.replace(' ','_')])"
   ]
  },
  {
   "cell_type": "code",
   "execution_count": 6,
   "id": "57f0a331-9bf5-4585-90d9-b9cf222637fa",
   "metadata": {},
   "outputs": [],
   "source": [
    "class DNAdataset(Dataset):\n",
    "    def __init__(self, data, targets, transform=None):\n",
    "        self.data = data\n",
    "        self.targets = torch.tensor(targets)\n",
    "        #self.transform = transform\n",
    "        \n",
    "    def __getitem__(self, index):\n",
    "        x = torch.tensor(np.float32(self.data[index][0])).unsqueeze(0)\n",
    "        y = self.targets[index]\n",
    "        \n",
    "        #if self.transform:\n",
    "        #    x = Image.fromarray(self.data[index].astype(np.uint8).transpose(1,2,0))\n",
    "        #    x = self.transform(x)\n",
    "        \n",
    "        return x, y\n",
    "    \n",
    "    def __len__(self):\n",
    "        return len(self.data)\n",
    "d_train = DNAdataset(X_train.values, y_train.values)\n",
    "d_val = DNAdataset(X_validation.values, y_validation.values)"
   ]
  },
  {
   "cell_type": "code",
   "execution_count": 7,
   "id": "3063cd5d-4739-4ced-a505-90e9c6d1aea0",
   "metadata": {
    "scrolled": true
   },
   "outputs": [],
   "source": [
    "dataloader_train = DataLoader(d_train, batch_size=32,shuffle=True)\n",
    "dataloader_val = DataLoader(d_val, batch_size=32,shuffle=True)\n",
    "dataloaders = {'train':dataloader_train,'val':dataloader_val}\n",
    "dataset_sizes = {'train': d_train.data.shape[0], 'val':d_val.data.shape[0]}"
   ]
  },
  {
   "cell_type": "code",
   "execution_count": 8,
   "id": "dc9a2c52-5750-4cbf-9b0f-6cd915b0f83f",
   "metadata": {},
   "outputs": [],
   "source": [
    "\n",
    "from tqdm.notebook import tqdm\n",
    "def fit(epochs,dataloaders,optimizer,model,start_idx=0):\n",
    "    criterion = torch.nn.CrossEntropyLoss()\n",
    "    device = torch.device(\"cuda:0\" if torch.cuda.is_available() else \"cpu\")\n",
    "    torch.cuda.empty_cache()\n",
    "    \n",
    "    train_losses = []\n",
    "    train_scores = []\n",
    "    val_losses = []\n",
    "    val_scores = []\n",
    "    for epoch in range(epochs):\n",
    "        running_train_corrects = 0\n",
    "        for dnas,labels in tqdm(dataloaders['train']):\n",
    "            model.train()\n",
    "            dnas = dnas.to(device)\n",
    "            labels = labels.to(device)\n",
    "            optimizer.zero_grad()\n",
    "            \n",
    "            predicted_labels = model(dnas)\n",
    "            train_loss = criterion(predicted_labels,labels)\n",
    "            train_loss.backward()\n",
    "            optimizer.step()\n",
    "            \n",
    "            _, preds = torch.max(predicted_labels, 1)\n",
    "            #print(preds)\n",
    "            #print(labels.data)\n",
    "            running_train_corrects += torch.sum(preds == labels.data)\n",
    "        train_losses.append(train_loss)\n",
    "        \n",
    "        running_val_corrects = 0\n",
    "        for dnas,labels in tqdm(dataloaders['val']):\n",
    "            \n",
    "            model.eval()\n",
    "            with torch.no_grad():\n",
    "                dnas = dnas.to(device)\n",
    "                labels = labels.to(device)\n",
    "                optimizer.zero_grad()\n",
    "                \n",
    "                predicted_labels = model(dnas)\n",
    "                val_loss = criterion(predicted_labels,labels)\n",
    "                \n",
    "                _, preds = torch.max(predicted_labels, 1)\n",
    "                #print(preds)\n",
    "                #print(labels.data)\n",
    "                running_val_corrects += torch.sum(preds == labels.data)\n",
    "        val_losses.append(val_loss)\n",
    "        \n",
    "        \n",
    "        \n",
    "        #real_scores.append(real_score)\n",
    "        #fit_p.writer.add_scalar('loss_g', loss_g, epoch)\n",
    "        # Log losses & scores (last batch)\n",
    "        \n",
    "        epoch_train_acc = running_train_corrects.double() / dataset_sizes['train']\n",
    "        epoch_val_acc = running_val_corrects.double() / dataset_sizes['val']\n",
    "        print(\"Epoch [{}/{}], train_loss: {:.4f},  train_score: {:.4f},val_loss: {:.4f},  val_score: {:.4f}\".format(\n",
    "            epoch+1, epochs, train_loss, epoch_train_acc,val_loss,epoch_val_acc))\n",
    "        #print(f\"class accuracy real {class_accuracy_real}\")\n",
    "    \n",
    "    return train_losses"
   ]
  },
  {
   "cell_type": "code",
   "execution_count": 22,
   "id": "5d03c6b5-08eb-4727-9c6c-eb7dd8bd103b",
   "metadata": {},
   "outputs": [],
   "source": [
    "class TinyModel(torch.nn.Module):\n",
    "\n",
    "    def __init__(self):\n",
    "        super(TinyModel, self).__init__()\n",
    "\n",
    "        #self.linear1 = torch.nn.Linear(658, 200)\n",
    "        self.conv1 = torch.nn.Conv2d(1,8,(5,1))\n",
    "        self.activation1 = torch.nn.LeakyReLU()\n",
    "        self.norm1 = torch.nn.BatchNorm2d(8)\n",
    "        self.conv2 = torch.nn.Conv2d(8,1,(5,1))\n",
    "        self.activation2 = torch.nn.LeakyReLU()\n",
    "        self.norm2 = torch.nn.BatchNorm2d(1)\n",
    "        #self.conv2 = torch.nn.Conv2d(2, 2,1)\n",
    "        #self.conv2 = torch.nn.Conv2d(5,1,(3,1))\n",
    "        #self.activation2 = torch.nn.LeakyReLU()\n",
    "        #self.norm2 = torch.nn.BatchNorm2d(1)\n",
    "        self.flat = torch.nn.Flatten()\n",
    "        self.linear = torch.nn.Linear(3250,1500)\n",
    "        self.dropout= torch.nn.Dropout(0.70)\n",
    "        self.activation3 = torch.nn.LeakyReLU()\n",
    "        self.linear2 = torch.nn.Linear(1500,1050)\n",
    "        #self.softmax = torch.nn.Softmax()\n",
    "    def forward(self, x):\n",
    "        #print(x.shape)\n",
    "        x = self.conv1(x)\n",
    "        x = self.activation1(x)\n",
    "        x = self.norm1(x)\n",
    "        x = self.conv2(x)\n",
    "        x = self.activation2(x)\n",
    "        x = self.norm2(x)\n",
    "        #x = self.conv2(x)\n",
    "        #x = self.activation2(x)\n",
    "        #x = self.norm2(x)\n",
    "        x = self.flat(x)\n",
    "        x = self.linear(x)\n",
    "        x = self.dropout(x)\n",
    "        x = self.activation3(x)\n",
    "        x = self.linear2(x)\n",
    "        #x = self.softmax(x)\n",
    "        return x\n",
    "    def feature_extract(self,x):\n",
    "        print(x.shape)\n",
    "\n",
    "        x = self.conv1(x)\n",
    "        x = self.activation1(x)\n",
    "        x = self.norm1(x)\n",
    "        #x = self.conv2(x)\n",
    "        #x = self.activation2(x)\n",
    "        #x = self.norm2(x)\n",
    "\n",
    "        x = self.flat(x)\n",
    "        #x = self.linear(x)\n",
    "        return x\n",
    "\n",
    "tinymodel = TinyModel()\n",
    "tinymodel.cuda()\n",
    " \n",
    "optimizer = torch.optim.Adam(tinymodel.parameters(),weight_decay=1e-5)\n"
   ]
  },
  {
   "cell_type": "code",
   "execution_count": 23,
   "id": "f3d18e57-859d-4c3b-85e8-313e68ced127",
   "metadata": {
    "scrolled": true
   },
   "outputs": [
    {
     "data": {
      "application/vnd.jupyter.widget-view+json": {
       "model_id": "92ba436240bd48e88ea25f6e7f57058c",
       "version_major": 2,
       "version_minor": 0
      },
      "text/plain": [
       "  0%|          | 0/1 [00:00<?, ?it/s]"
      ]
     },
     "metadata": {},
     "output_type": "display_data"
    },
    {
     "data": {
      "application/vnd.jupyter.widget-view+json": {
       "model_id": "56fdd05d9763457196e27b465d324ca9",
       "version_major": 2,
       "version_minor": 0
      },
      "text/plain": [
       "  0%|          | 0/1 [00:00<?, ?it/s]"
      ]
     },
     "metadata": {},
     "output_type": "display_data"
    },
    {
     "name": "stdout",
     "output_type": "stream",
     "text": [
      "Epoch [1/24], train_loss: 7.0716,  train_score: 0.0005,val_loss: 6.9474,  val_score: 0.0262\n"
     ]
    },
    {
     "data": {
      "application/vnd.jupyter.widget-view+json": {
       "model_id": "fa1d697b305e42039e239bcb3b185e08",
       "version_major": 2,
       "version_minor": 0
      },
      "text/plain": [
       "  0%|          | 0/1 [00:00<?, ?it/s]"
      ]
     },
     "metadata": {},
     "output_type": "display_data"
    },
    {
     "data": {
      "application/vnd.jupyter.widget-view+json": {
       "model_id": "9f98ef281c3147e6a49cbaf313ccc050",
       "version_major": 2,
       "version_minor": 0
      },
      "text/plain": [
       "  0%|          | 0/1 [00:00<?, ?it/s]"
      ]
     },
     "metadata": {},
     "output_type": "display_data"
    },
    {
     "name": "stdout",
     "output_type": "stream",
     "text": [
      "Epoch [2/24], train_loss: 6.3469,  train_score: 0.0554,val_loss: 6.9386,  val_score: 0.0377\n"
     ]
    },
    {
     "data": {
      "application/vnd.jupyter.widget-view+json": {
       "model_id": "b925bb152b6c4ad68b3f2b3460cd5f6c",
       "version_major": 2,
       "version_minor": 0
      },
      "text/plain": [
       "  0%|          | 0/1 [00:00<?, ?it/s]"
      ]
     },
     "metadata": {},
     "output_type": "display_data"
    },
    {
     "data": {
      "application/vnd.jupyter.widget-view+json": {
       "model_id": "9fdfbdae286841d7854a90ba4341e16f",
       "version_major": 2,
       "version_minor": 0
      },
      "text/plain": [
       "  0%|          | 0/1 [00:00<?, ?it/s]"
      ]
     },
     "metadata": {},
     "output_type": "display_data"
    },
    {
     "name": "stdout",
     "output_type": "stream",
     "text": [
      "Epoch [3/24], train_loss: 5.8147,  train_score: 0.0806,val_loss: 6.9340,  val_score: 0.0516\n"
     ]
    },
    {
     "data": {
      "application/vnd.jupyter.widget-view+json": {
       "model_id": "b27f263a63fc455787a50ed64b89bff0",
       "version_major": 2,
       "version_minor": 0
      },
      "text/plain": [
       "  0%|          | 0/1 [00:00<?, ?it/s]"
      ]
     },
     "metadata": {},
     "output_type": "display_data"
    },
    {
     "data": {
      "application/vnd.jupyter.widget-view+json": {
       "model_id": "97de6be9564a4d97a0154d8c5182c34c",
       "version_major": 2,
       "version_minor": 0
      },
      "text/plain": [
       "  0%|          | 0/1 [00:00<?, ?it/s]"
      ]
     },
     "metadata": {},
     "output_type": "display_data"
    },
    {
     "name": "stdout",
     "output_type": "stream",
     "text": [
      "Epoch [4/24], train_loss: 5.3570,  train_score: 0.1342,val_loss: 6.9301,  val_score: 0.0583\n"
     ]
    },
    {
     "data": {
      "application/vnd.jupyter.widget-view+json": {
       "model_id": "b75721dbbe954a1db409210fa6db0f80",
       "version_major": 2,
       "version_minor": 0
      },
      "text/plain": [
       "  0%|          | 0/1 [00:00<?, ?it/s]"
      ]
     },
     "metadata": {},
     "output_type": "display_data"
    },
    {
     "data": {
      "application/vnd.jupyter.widget-view+json": {
       "model_id": "ea4dcdb3aa174a3c87cf429de1124a9d",
       "version_major": 2,
       "version_minor": 0
      },
      "text/plain": [
       "  0%|          | 0/1 [00:00<?, ?it/s]"
      ]
     },
     "metadata": {},
     "output_type": "display_data"
    },
    {
     "name": "stdout",
     "output_type": "stream",
     "text": [
      "Epoch [5/24], train_loss: 4.9128,  train_score: 0.2030,val_loss: 6.9300,  val_score: 0.0748\n"
     ]
    },
    {
     "data": {
      "application/vnd.jupyter.widget-view+json": {
       "model_id": "107b8b1c73824300a1aee5aa2c74578c",
       "version_major": 2,
       "version_minor": 0
      },
      "text/plain": [
       "  0%|          | 0/1 [00:00<?, ?it/s]"
      ]
     },
     "metadata": {},
     "output_type": "display_data"
    },
    {
     "data": {
      "application/vnd.jupyter.widget-view+json": {
       "model_id": "e669d90136f641a18e8fb82ad83ea8dc",
       "version_major": 2,
       "version_minor": 0
      },
      "text/plain": [
       "  0%|          | 0/1 [00:00<?, ?it/s]"
      ]
     },
     "metadata": {},
     "output_type": "display_data"
    },
    {
     "name": "stdout",
     "output_type": "stream",
     "text": [
      "Epoch [6/24], train_loss: 4.5009,  train_score: 0.2430,val_loss: 6.9338,  val_score: 0.0774\n"
     ]
    },
    {
     "data": {
      "application/vnd.jupyter.widget-view+json": {
       "model_id": "493597e48da64defa7a99f2c6612d12d",
       "version_major": 2,
       "version_minor": 0
      },
      "text/plain": [
       "  0%|          | 0/1 [00:00<?, ?it/s]"
      ]
     },
     "metadata": {},
     "output_type": "display_data"
    },
    {
     "data": {
      "application/vnd.jupyter.widget-view+json": {
       "model_id": "670e803d346c47bda20e2c4285f7e8b1",
       "version_major": 2,
       "version_minor": 0
      },
      "text/plain": [
       "  0%|          | 0/1 [00:00<?, ?it/s]"
      ]
     },
     "metadata": {},
     "output_type": "display_data"
    },
    {
     "name": "stdout",
     "output_type": "stream",
     "text": [
      "Epoch [7/24], train_loss: 4.1058,  train_score: 0.3157,val_loss: 6.9380,  val_score: 0.0889\n"
     ]
    },
    {
     "data": {
      "application/vnd.jupyter.widget-view+json": {
       "model_id": "96e48cc486ec40f195e5968010591d57",
       "version_major": 2,
       "version_minor": 0
      },
      "text/plain": [
       "  0%|          | 0/1 [00:00<?, ?it/s]"
      ]
     },
     "metadata": {},
     "output_type": "display_data"
    },
    {
     "data": {
      "application/vnd.jupyter.widget-view+json": {
       "model_id": "1760f56795ba429e87fbdf90b49753f7",
       "version_major": 2,
       "version_minor": 0
      },
      "text/plain": [
       "  0%|          | 0/1 [00:00<?, ?it/s]"
      ]
     },
     "metadata": {},
     "output_type": "display_data"
    },
    {
     "name": "stdout",
     "output_type": "stream",
     "text": [
      "Epoch [8/24], train_loss: 3.7299,  train_score: 0.3921,val_loss: 6.9428,  val_score: 0.1020\n"
     ]
    },
    {
     "data": {
      "application/vnd.jupyter.widget-view+json": {
       "model_id": "d78678a935854ddb808ddaeea27f7ce2",
       "version_major": 2,
       "version_minor": 0
      },
      "text/plain": [
       "  0%|          | 0/1 [00:00<?, ?it/s]"
      ]
     },
     "metadata": {},
     "output_type": "display_data"
    },
    {
     "data": {
      "application/vnd.jupyter.widget-view+json": {
       "model_id": "6f863c53ed3545d680917b2b237da6c9",
       "version_major": 2,
       "version_minor": 0
      },
      "text/plain": [
       "  0%|          | 0/1 [00:00<?, ?it/s]"
      ]
     },
     "metadata": {},
     "output_type": "display_data"
    },
    {
     "name": "stdout",
     "output_type": "stream",
     "text": [
      "Epoch [9/24], train_loss: 3.3583,  train_score: 0.4695,val_loss: 6.9508,  val_score: 0.1061\n"
     ]
    },
    {
     "data": {
      "application/vnd.jupyter.widget-view+json": {
       "model_id": "634076c0d0f0421f9304c8e95a21dd3c",
       "version_major": 2,
       "version_minor": 0
      },
      "text/plain": [
       "  0%|          | 0/1 [00:00<?, ?it/s]"
      ]
     },
     "metadata": {},
     "output_type": "display_data"
    },
    {
     "data": {
      "application/vnd.jupyter.widget-view+json": {
       "model_id": "f16330a488fe4f259c9a32278dcf59d4",
       "version_major": 2,
       "version_minor": 0
      },
      "text/plain": [
       "  0%|          | 0/1 [00:00<?, ?it/s]"
      ]
     },
     "metadata": {},
     "output_type": "display_data"
    },
    {
     "name": "stdout",
     "output_type": "stream",
     "text": [
      "Epoch [10/24], train_loss: 3.0117,  train_score: 0.5350,val_loss: 6.9650,  val_score: 0.1329\n"
     ]
    },
    {
     "data": {
      "application/vnd.jupyter.widget-view+json": {
       "model_id": "6592bcfa8eea476a96f63a728ccc6bcc",
       "version_major": 2,
       "version_minor": 0
      },
      "text/plain": [
       "  0%|          | 0/1 [00:00<?, ?it/s]"
      ]
     },
     "metadata": {},
     "output_type": "display_data"
    },
    {
     "data": {
      "application/vnd.jupyter.widget-view+json": {
       "model_id": "51c66ea48b9b4506a78e562ab7c4b090",
       "version_major": 2,
       "version_minor": 0
      },
      "text/plain": [
       "  0%|          | 0/1 [00:00<?, ?it/s]"
      ]
     },
     "metadata": {},
     "output_type": "display_data"
    },
    {
     "name": "stdout",
     "output_type": "stream",
     "text": [
      "Epoch [11/24], train_loss: 2.6537,  train_score: 0.6084,val_loss: 6.9848,  val_score: 0.1578\n"
     ]
    },
    {
     "data": {
      "application/vnd.jupyter.widget-view+json": {
       "model_id": "096e70829c93404cbdc06607dc0c7c8c",
       "version_major": 2,
       "version_minor": 0
      },
      "text/plain": [
       "  0%|          | 0/1 [00:00<?, ?it/s]"
      ]
     },
     "metadata": {},
     "output_type": "display_data"
    },
    {
     "data": {
      "application/vnd.jupyter.widget-view+json": {
       "model_id": "d44ed2edcc2f4846bf309a043b45c10f",
       "version_major": 2,
       "version_minor": 0
      },
      "text/plain": [
       "  0%|          | 0/1 [00:00<?, ?it/s]"
      ]
     },
     "metadata": {},
     "output_type": "display_data"
    },
    {
     "name": "stdout",
     "output_type": "stream",
     "text": [
      "Epoch [12/24], train_loss: 2.3326,  train_score: 0.6720,val_loss: 7.0081,  val_score: 0.1805\n"
     ]
    },
    {
     "data": {
      "application/vnd.jupyter.widget-view+json": {
       "model_id": "fc8f91a4feba49419ccce27eb1cdc389",
       "version_major": 2,
       "version_minor": 0
      },
      "text/plain": [
       "  0%|          | 0/1 [00:00<?, ?it/s]"
      ]
     },
     "metadata": {},
     "output_type": "display_data"
    },
    {
     "data": {
      "application/vnd.jupyter.widget-view+json": {
       "model_id": "f9ab1c7223f746a3add7492c7186bf98",
       "version_major": 2,
       "version_minor": 0
      },
      "text/plain": [
       "  0%|          | 0/1 [00:00<?, ?it/s]"
      ]
     },
     "metadata": {},
     "output_type": "display_data"
    },
    {
     "name": "stdout",
     "output_type": "stream",
     "text": [
      "Epoch [13/24], train_loss: 2.0189,  train_score: 0.7276,val_loss: 7.0347,  val_score: 0.2002\n"
     ]
    },
    {
     "data": {
      "application/vnd.jupyter.widget-view+json": {
       "model_id": "e0e5f56a7c2e4cffb278379eea06f0b6",
       "version_major": 2,
       "version_minor": 0
      },
      "text/plain": [
       "  0%|          | 0/1 [00:00<?, ?it/s]"
      ]
     },
     "metadata": {},
     "output_type": "display_data"
    },
    {
     "data": {
      "application/vnd.jupyter.widget-view+json": {
       "model_id": "cb5d9a48e01c4bb6944adfc735e9fac8",
       "version_major": 2,
       "version_minor": 0
      },
      "text/plain": [
       "  0%|          | 0/1 [00:00<?, ?it/s]"
      ]
     },
     "metadata": {},
     "output_type": "display_data"
    },
    {
     "name": "stdout",
     "output_type": "stream",
     "text": [
      "Epoch [14/24], train_loss: 1.7278,  train_score: 0.7745,val_loss: 7.0625,  val_score: 0.2244\n"
     ]
    },
    {
     "data": {
      "application/vnd.jupyter.widget-view+json": {
       "model_id": "bfeba5f66a10423e8f0035e757a02756",
       "version_major": 2,
       "version_minor": 0
      },
      "text/plain": [
       "  0%|          | 0/1 [00:00<?, ?it/s]"
      ]
     },
     "metadata": {},
     "output_type": "display_data"
    },
    {
     "data": {
      "application/vnd.jupyter.widget-view+json": {
       "model_id": "48aac6b997874f86babec7b408f67f37",
       "version_major": 2,
       "version_minor": 0
      },
      "text/plain": [
       "  0%|          | 0/1 [00:00<?, ?it/s]"
      ]
     },
     "metadata": {},
     "output_type": "display_data"
    },
    {
     "name": "stdout",
     "output_type": "stream",
     "text": [
      "Epoch [15/24], train_loss: 1.4611,  train_score: 0.8168,val_loss: 7.0855,  val_score: 0.2533\n"
     ]
    },
    {
     "data": {
      "application/vnd.jupyter.widget-view+json": {
       "model_id": "4734bb1804004e23ac84860adb1a0dc3",
       "version_major": 2,
       "version_minor": 0
      },
      "text/plain": [
       "  0%|          | 0/1 [00:00<?, ?it/s]"
      ]
     },
     "metadata": {},
     "output_type": "display_data"
    },
    {
     "data": {
      "application/vnd.jupyter.widget-view+json": {
       "model_id": "7f6a88f742b84389a5e89fe78dd85936",
       "version_major": 2,
       "version_minor": 0
      },
      "text/plain": [
       "  0%|          | 0/1 [00:00<?, ?it/s]"
      ]
     },
     "metadata": {},
     "output_type": "display_data"
    },
    {
     "name": "stdout",
     "output_type": "stream",
     "text": [
      "Epoch [16/24], train_loss: 1.2154,  train_score: 0.8538,val_loss: 7.0995,  val_score: 0.2721\n"
     ]
    },
    {
     "data": {
      "application/vnd.jupyter.widget-view+json": {
       "model_id": "fd85aa0ce72c4088872d0d62f081396d",
       "version_major": 2,
       "version_minor": 0
      },
      "text/plain": [
       "  0%|          | 0/1 [00:00<?, ?it/s]"
      ]
     },
     "metadata": {},
     "output_type": "display_data"
    },
    {
     "data": {
      "application/vnd.jupyter.widget-view+json": {
       "model_id": "e19f329553a3440fb3315ae3f65ee824",
       "version_major": 2,
       "version_minor": 0
      },
      "text/plain": [
       "  0%|          | 0/1 [00:00<?, ?it/s]"
      ]
     },
     "metadata": {},
     "output_type": "display_data"
    },
    {
     "name": "stdout",
     "output_type": "stream",
     "text": [
      "Epoch [17/24], train_loss: 1.0118,  train_score: 0.8828,val_loss: 7.1071,  val_score: 0.3061\n"
     ]
    },
    {
     "data": {
      "application/vnd.jupyter.widget-view+json": {
       "model_id": "ad76a2dcf5d94dc9ae827f30e4575514",
       "version_major": 2,
       "version_minor": 0
      },
      "text/plain": [
       "  0%|          | 0/1 [00:00<?, ?it/s]"
      ]
     },
     "metadata": {},
     "output_type": "display_data"
    },
    {
     "data": {
      "application/vnd.jupyter.widget-view+json": {
       "model_id": "7d6aa01e658d4fc1be258ea98c87c3ba",
       "version_major": 2,
       "version_minor": 0
      },
      "text/plain": [
       "  0%|          | 0/1 [00:00<?, ?it/s]"
      ]
     },
     "metadata": {},
     "output_type": "display_data"
    },
    {
     "name": "stdout",
     "output_type": "stream",
     "text": [
      "Epoch [18/24], train_loss: 0.8376,  train_score: 0.9038,val_loss: 7.1093,  val_score: 0.3378\n"
     ]
    },
    {
     "data": {
      "application/vnd.jupyter.widget-view+json": {
       "model_id": "b041e296482544b7b34a284239faca58",
       "version_major": 2,
       "version_minor": 0
      },
      "text/plain": [
       "  0%|          | 0/1 [00:00<?, ?it/s]"
      ]
     },
     "metadata": {},
     "output_type": "display_data"
    },
    {
     "data": {
      "application/vnd.jupyter.widget-view+json": {
       "model_id": "e97db910834e4ef7a65ab358124cd365",
       "version_major": 2,
       "version_minor": 0
      },
      "text/plain": [
       "  0%|          | 0/1 [00:00<?, ?it/s]"
      ]
     },
     "metadata": {},
     "output_type": "display_data"
    },
    {
     "name": "stdout",
     "output_type": "stream",
     "text": [
      "Epoch [19/24], train_loss: 0.6826,  train_score: 0.9223,val_loss: 7.1063,  val_score: 0.3651\n"
     ]
    },
    {
     "data": {
      "application/vnd.jupyter.widget-view+json": {
       "model_id": "aaf40e04125d4598b18d962a0b82ea03",
       "version_major": 2,
       "version_minor": 0
      },
      "text/plain": [
       "  0%|          | 0/1 [00:00<?, ?it/s]"
      ]
     },
     "metadata": {},
     "output_type": "display_data"
    },
    {
     "data": {
      "application/vnd.jupyter.widget-view+json": {
       "model_id": "4133e3d716b743398d7f7422ad5b502c",
       "version_major": 2,
       "version_minor": 0
      },
      "text/plain": [
       "  0%|          | 0/1 [00:00<?, ?it/s]"
      ]
     },
     "metadata": {},
     "output_type": "display_data"
    },
    {
     "name": "stdout",
     "output_type": "stream",
     "text": [
      "Epoch [20/24], train_loss: 0.5506,  train_score: 0.9343,val_loss: 7.0989,  val_score: 0.3929\n"
     ]
    },
    {
     "data": {
      "application/vnd.jupyter.widget-view+json": {
       "model_id": "fb58c8426c6f46509275e9471d426173",
       "version_major": 2,
       "version_minor": 0
      },
      "text/plain": [
       "  0%|          | 0/1 [00:00<?, ?it/s]"
      ]
     },
     "metadata": {},
     "output_type": "display_data"
    },
    {
     "data": {
      "application/vnd.jupyter.widget-view+json": {
       "model_id": "7853a991f7e746989c1cb625d0071d39",
       "version_major": 2,
       "version_minor": 0
      },
      "text/plain": [
       "  0%|          | 0/1 [00:00<?, ?it/s]"
      ]
     },
     "metadata": {},
     "output_type": "display_data"
    },
    {
     "name": "stdout",
     "output_type": "stream",
     "text": [
      "Epoch [21/24], train_loss: 0.4543,  train_score: 0.9451,val_loss: 7.0882,  val_score: 0.4151\n"
     ]
    },
    {
     "data": {
      "application/vnd.jupyter.widget-view+json": {
       "model_id": "7463385efc6341c49ee6ccab33d3ebfd",
       "version_major": 2,
       "version_minor": 0
      },
      "text/plain": [
       "  0%|          | 0/1 [00:00<?, ?it/s]"
      ]
     },
     "metadata": {},
     "output_type": "display_data"
    },
    {
     "data": {
      "application/vnd.jupyter.widget-view+json": {
       "model_id": "f5cc435508594d6dbfd0ff57b07e8dd5",
       "version_major": 2,
       "version_minor": 0
      },
      "text/plain": [
       "  0%|          | 0/1 [00:00<?, ?it/s]"
      ]
     },
     "metadata": {},
     "output_type": "display_data"
    },
    {
     "name": "stdout",
     "output_type": "stream",
     "text": [
      "Epoch [22/24], train_loss: 0.3689,  train_score: 0.9552,val_loss: 7.0731,  val_score: 0.4335\n"
     ]
    },
    {
     "data": {
      "application/vnd.jupyter.widget-view+json": {
       "model_id": "f5b22018b8ef4e0e920671b7e21c8205",
       "version_major": 2,
       "version_minor": 0
      },
      "text/plain": [
       "  0%|          | 0/1 [00:00<?, ?it/s]"
      ]
     },
     "metadata": {},
     "output_type": "display_data"
    },
    {
     "data": {
      "application/vnd.jupyter.widget-view+json": {
       "model_id": "3809cdf3aed248a4b22b2ca5bf516433",
       "version_major": 2,
       "version_minor": 0
      },
      "text/plain": [
       "  0%|          | 0/1 [00:00<?, ?it/s]"
      ]
     },
     "metadata": {},
     "output_type": "display_data"
    },
    {
     "name": "stdout",
     "output_type": "stream",
     "text": [
      "Epoch [23/24], train_loss: 0.3041,  train_score: 0.9634,val_loss: 7.0549,  val_score: 0.4450\n"
     ]
    },
    {
     "data": {
      "application/vnd.jupyter.widget-view+json": {
       "model_id": "89d67e4dba7b4fbda664fe76881883a3",
       "version_major": 2,
       "version_minor": 0
      },
      "text/plain": [
       "  0%|          | 0/1 [00:00<?, ?it/s]"
      ]
     },
     "metadata": {},
     "output_type": "display_data"
    },
    {
     "data": {
      "application/vnd.jupyter.widget-view+json": {
       "model_id": "dec932908ed44adcaf5262895cabd150",
       "version_major": 2,
       "version_minor": 0
      },
      "text/plain": [
       "  0%|          | 0/1 [00:00<?, ?it/s]"
      ]
     },
     "metadata": {},
     "output_type": "display_data"
    },
    {
     "name": "stdout",
     "output_type": "stream",
     "text": [
      "Epoch [24/24], train_loss: 0.2512,  train_score: 0.9679,val_loss: 7.0342,  val_score: 0.4496\n"
     ]
    },
    {
     "data": {
      "text/plain": [
       "[tensor(7.0716, device='cuda:0', grad_fn=<NllLossBackward0>),\n",
       " tensor(6.3469, device='cuda:0', grad_fn=<NllLossBackward0>),\n",
       " tensor(5.8147, device='cuda:0', grad_fn=<NllLossBackward0>),\n",
       " tensor(5.3570, device='cuda:0', grad_fn=<NllLossBackward0>),\n",
       " tensor(4.9128, device='cuda:0', grad_fn=<NllLossBackward0>),\n",
       " tensor(4.5009, device='cuda:0', grad_fn=<NllLossBackward0>),\n",
       " tensor(4.1058, device='cuda:0', grad_fn=<NllLossBackward0>),\n",
       " tensor(3.7299, device='cuda:0', grad_fn=<NllLossBackward0>),\n",
       " tensor(3.3583, device='cuda:0', grad_fn=<NllLossBackward0>),\n",
       " tensor(3.0117, device='cuda:0', grad_fn=<NllLossBackward0>),\n",
       " tensor(2.6537, device='cuda:0', grad_fn=<NllLossBackward0>),\n",
       " tensor(2.3326, device='cuda:0', grad_fn=<NllLossBackward0>),\n",
       " tensor(2.0189, device='cuda:0', grad_fn=<NllLossBackward0>),\n",
       " tensor(1.7278, device='cuda:0', grad_fn=<NllLossBackward0>),\n",
       " tensor(1.4611, device='cuda:0', grad_fn=<NllLossBackward0>),\n",
       " tensor(1.2154, device='cuda:0', grad_fn=<NllLossBackward0>),\n",
       " tensor(1.0118, device='cuda:0', grad_fn=<NllLossBackward0>),\n",
       " tensor(0.8376, device='cuda:0', grad_fn=<NllLossBackward0>),\n",
       " tensor(0.6826, device='cuda:0', grad_fn=<NllLossBackward0>),\n",
       " tensor(0.5506, device='cuda:0', grad_fn=<NllLossBackward0>),\n",
       " tensor(0.4543, device='cuda:0', grad_fn=<NllLossBackward0>),\n",
       " tensor(0.3689, device='cuda:0', grad_fn=<NllLossBackward0>),\n",
       " tensor(0.3041, device='cuda:0', grad_fn=<NllLossBackward0>),\n",
       " tensor(0.2512, device='cuda:0', grad_fn=<NllLossBackward0>)]"
      ]
     },
     "execution_count": 23,
     "metadata": {},
     "output_type": "execute_result"
    }
   ],
   "source": [
    "fit(24,dataloaders,optimizer,tinymodel)"
   ]
  },
  {
   "cell_type": "code",
   "execution_count": 24,
   "id": "6943581d-d4f7-4dcf-b7f3-836c1ce4cdcb",
   "metadata": {},
   "outputs": [],
   "source": [
    "\n",
    "dataloader_train = DataLoader(d_train, batch_size=len(d_train))\n",
    "dataloader_val = DataLoader(d_val, batch_size=len(d_val))\n",
    "dataloaders = {'train':dataloader_train,'val':dataloader_val}\n",
    "dataset_sizes = {'train': d_train.data.shape[0], 'val':d_val.data.shape[0]}"
   ]
  },
  {
   "cell_type": "code",
   "execution_count": 25,
   "id": "b77096dc-5c62-4435-8fc7-638ff0107b8c",
   "metadata": {},
   "outputs": [
    {
     "name": "stdout",
     "output_type": "stream",
     "text": [
      "torch.Size([10840, 1, 658, 5])\n",
      "torch.Size([5645, 1, 658, 5])\n",
      "torch.Size([10840, 26160])\n"
     ]
    }
   ],
   "source": [
    "tinymodel.eval()\n",
    "device = torch.device(\"cuda:0\" if torch.cuda.is_available() else \"cpu\")\n",
    "with torch.no_grad():\n",
    "\n",
    "    for dnas,labels in dataloaders['train']:\n",
    "        dnas = dnas.to(device)\n",
    "        train_dna_features = tinymodel.feature_extract(dnas)\n",
    "        train_dna_labels = labels\n",
    "    for dnas,labels in dataloaders['val']:\n",
    "        dnas = dnas.to(device)\n",
    "        val_dna_features = tinymodel.feature_extract(dnas)\n",
    "        val_dna_labels = labels\n",
    "print(train_dna_features.shape)\n",
    "\n",
    "train_dna_features = train_dna_features.cpu()\n",
    "val_dna_features = val_dna_features.cpu()"
   ]
  },
  {
   "cell_type": "code",
   "execution_count": null,
   "id": "f7509a2e-8550-4c83-8eaf-560d8ff1f13d",
   "metadata": {},
   "outputs": [],
   "source": []
  },
  {
   "cell_type": "code",
   "execution_count": 26,
   "id": "ba8bca5a-97ef-4e99-9fd7-b0e1d756c6fd",
   "metadata": {},
   "outputs": [],
   "source": [
    "from sklearn.multioutput import MultiOutputClassifier\n",
    "from sklearn.svm import LinearSVC,SVC\n",
    "from sklearn.ensemble import RandomForestClassifier\n",
    "from sklearn.ensemble import BaggingClassifier \n",
    "\n",
    "clf = RandomForestClassifier(min_samples_leaf=2,n_jobs=-1)\n",
    "clf = clf.fit(train_dna_features,train_dna_labels )"
   ]
  },
  {
   "cell_type": "code",
   "execution_count": 27,
   "id": "75af3100-2f89-49e6-b8e9-343cb639d732",
   "metadata": {},
   "outputs": [
    {
     "name": "stdout",
     "output_type": "stream",
     "text": [
      "Training species accuracy:0.9994464944649446\n"
     ]
    }
   ],
   "source": [
    "train_predicted_labels = clf.predict(train_dna_features)\n",
    "print(f\"Training species accuracy:{np.count_nonzero(train_predicted_labels==train_dna_labels.numpy())/len(train_dna_labels)}\")"
   ]
  },
  {
   "cell_type": "code",
   "execution_count": 28,
   "id": "9e10ab3c-55bf-4ca3-b95c-e978d565b13e",
   "metadata": {},
   "outputs": [
    {
     "name": "stdout",
     "output_type": "stream",
     "text": [
      "Validation species accuracy:0.47068201948627103\n"
     ]
    }
   ],
   "source": [
    "val_predicted_labels= clf.predict(val_dna_features)\n",
    "print(f\"Validation species accuracy:{np.count_nonzero(val_predicted_labels==val_dna_labels.numpy())/len(val_dna_labels)}\")"
   ]
  },
  {
   "cell_type": "code",
   "execution_count": 29,
   "id": "56f0cc56-6f2f-4a32-9997-b89ba87fa3a1",
   "metadata": {},
   "outputs": [
    {
     "name": "stdout",
     "output_type": "stream",
     "text": [
      "Validation genus accuracy: 0.7906111603188662\n"
     ]
    }
   ],
   "source": [
    "\n",
    "temp_val_predicted_probs = clf.predict_proba(val_dna_features)\n",
    "val_predicted_probs = np.zeros((len(temp_val_predicted_probs),1050))\n",
    "for i, cls in enumerate(np.arange(1050)):\n",
    "    if cls in clf.classes_:\n",
    "        val_predicted_probs[:, cls] = temp_val_predicted_probs[:, list(clf.classes_).index(cls)]\n",
    "import math\n",
    "n_correct_genus = 0\n",
    "for i in range(len(val_dna_labels)):\n",
    "    #label_best_specie = val_predicted_probs[i].argmax()\n",
    "    label_best_specie = val_predicted_labels[i]\n",
    "    assert(val_predicted_labels[i]==val_predicted_probs[i].argmax())\n",
    "    genus_of_best_species = species2genus[label_best_specie.item()]\n",
    "    #species_same_genus = [k for k,v in species2genus.items() if v == genus_of_best_species]\n",
    "    #reduced_species = val_predicted_probs[i][species_same_genus]\n",
    "    #normalized_reduced_species = reduced_species/(reduced_species.sum())\n",
    "    \n",
    "    real_genus = species2genus[val_dna_labels[i].item()]\n",
    "    predicted_genus = genus_of_best_species\n",
    "    if real_genus == predicted_genus:\n",
    "        n_correct_genus+=1\n",
    "print(f\"Validation genus accuracy: {n_correct_genus/len(val_dna_labels)}\")\n"
   ]
  },
  {
   "cell_type": "code",
   "execution_count": 30,
   "id": "7472a2b4-22d6-41a8-94b6-568485773a87",
   "metadata": {},
   "outputs": [],
   "source": [
    "def entropy_per_symbol(v):\n",
    "    if len(v)==1:\n",
    "        return 0.0\n",
    "    entropy = 0 \n",
    "    n_zeros = 0\n",
    "    for p in v:\n",
    "        if p != 0:\n",
    "            entropy-=p*math.log(p,2)\n",
    "        else:\n",
    "            n_zeros +=1\n",
    "    #print(f\"n_zeros:{n_zeros}\")\n",
    "    #FORSE VA TOLTO N_ZEROS DALLA LENGTH\n",
    "    mean_symbol_entropy = entropy/math.log(len(normalized_reduced_species),2)\n",
    "    return mean_symbol_entropy"
   ]
  },
  {
   "cell_type": "code",
   "execution_count": 80,
   "id": "f85c2cfa-f3c1-4632-bbec-2d3ba6f0a589",
   "metadata": {},
   "outputs": [],
   "source": [
    "\n",
    "described_species_labels = np.array([image_dataset.targets[i] for i in train_indices])\n",
    "described_species_labels = np.unique(described_species_labels)\n",
    "tprs = []\n",
    "fprs = []\n",
    "correct_genus_rate = []\n",
    "correct_species_rate = []\n",
    "for t in range(0,10,1):\n",
    "    entropy_threshold = t/10.0\n",
    "    #print(val_predicted_probs.shape)\n",
    "    n_undescribed_samples = 0\n",
    "    n_described_samples = 0\n",
    "    n_correct_undescribed_samples = 0\n",
    "    n_correct_described_samples = 0\n",
    "    n_correct_genus = 0 \n",
    "    n_correct_species = 0 \n",
    "    for i in range(len(val_dna_labels)):\n",
    "        #label_best_specie = val_predicted_probs[i].argmax()\n",
    "        label_best_specie = val_predicted_labels[i]\n",
    "        assert(val_predicted_labels[i]==val_predicted_probs[i].argmax())\n",
    "        genus_of_best_species = species2genus[label_best_specie.item()]\n",
    "        species_same_genus = [k for k,v in species2genus.items() if v == genus_of_best_species]\n",
    "        #print(val_labels[i])\n",
    "        #print(label_best_specie)\n",
    "        #print(species_same_genus)\n",
    "        reduced_species = val_predicted_probs[i][species_same_genus]\n",
    "        normalized_reduced_species = reduced_species/(reduced_species.sum())\n",
    "        #print(normalized_reduced_species)\n",
    "        H_s = entropy_per_symbol(normalized_reduced_species)\n",
    "        #print(H_s)\n",
    "        #print(\"Genus\" if H_s > entropy_threshold else \"Species\")\n",
    "        #input() \n",
    "        if val_dna_labels[i].item() in described_species_labels:\n",
    "            #tn\n",
    "            n_described_samples +=1\n",
    "            if H_s < entropy_threshold:\n",
    "                n_correct_described_samples+=1\n",
    "                if label_best_specie == val_dna_labels[i]:\n",
    "                    n_correct_species+=1\n",
    "        else:\n",
    "            #tp\n",
    "            n_undescribed_samples+=1\n",
    "            if H_s >= entropy_threshold:\n",
    "                n_correct_undescribed_samples+=1\n",
    "                real_genus = species2genus[val_dna_labels[i].item()]\n",
    "                predicted_genus = genus_of_best_species\n",
    "                if real_genus == predicted_genus:\n",
    "                    n_correct_genus+=1\n",
    "            \n",
    "        \n",
    "            \n",
    "    tprs.append(n_correct_undescribed_samples/n_undescribed_samples)#TPR = recall = sensitivity\n",
    "    fprs.append(1-n_correct_described_samples/n_described_samples)#1-TNR = 1 - specificity\n",
    "    correct_genus_rate.append(n_correct_genus/n_undescribed_samples)\n",
    "    correct_species_rate.append(n_correct_species/n_described_samples)"
   ]
  },
  {
   "cell_type": "code",
   "execution_count": 81,
   "id": "dd95d3e4-0b4a-4d6c-9035-01d3ecd7357c",
   "metadata": {},
   "outputs": [
    {
     "data": {
      "text/plain": [
       "(0.0, 1.0)"
      ]
     },
     "execution_count": 81,
     "metadata": {},
     "output_type": "execute_result"
    },
    {
     "data": {
      "image/png": "[encoded data removed]",
      "text/plain": [
       "<Figure size 640x480 with 1 Axes>"
      ]
     },
     "metadata": {},
     "output_type": "display_data"
    }
   ],
   "source": [
    "\n",
    "plt.plot(fprs,tprs)\n",
    "plt.xlim([0, 1])\n",
    "plt.ylim([0, 1])"
   ]
  },
  {
   "cell_type": "code",
   "execution_count": 82,
   "id": "456267fb-c979-4cf4-b07d-6302e64f43c4",
   "metadata": {},
   "outputs": [
    {
     "data": {
      "text/plain": [
       "0.03873109553670229"
      ]
     },
     "execution_count": 82,
     "metadata": {},
     "output_type": "execute_result"
    }
   ],
   "source": [
    "fprs[1]"
   ]
  },
  {
   "cell_type": "code",
   "execution_count": 83,
   "id": "de061570-9002-4398-99eb-8dab548eeab9",
   "metadata": {},
   "outputs": [
    {
     "data": {
      "text/plain": [
       "0.8203817314246762"
      ]
     },
     "execution_count": 83,
     "metadata": {},
     "output_type": "execute_result"
    }
   ],
   "source": [
    "tprs[1]"
   ]
  },
  {
   "cell_type": "code",
   "execution_count": 84,
   "id": "ad28b274-ba46-4ebd-91bb-7595f4b1b737",
   "metadata": {},
   "outputs": [
    {
     "data": {
      "text/plain": [
       "torch.Size([10840])"
      ]
     },
     "execution_count": 84,
     "metadata": {},
     "output_type": "execute_result"
    }
   ],
   "source": [
    "train_dna_labels.shape"
   ]
  },
  {
   "cell_type": "code",
   "execution_count": 85,
   "id": "60ca7012-d4e5-4ace-8ec5-8bf2300b1cf1",
   "metadata": {},
   "outputs": [
    {
     "data": {
      "text/plain": [
       "[<matplotlib.lines.Line2D at 0x76b6904a9400>]"
      ]
     },
     "execution_count": 85,
     "metadata": {},
     "output_type": "execute_result"
    },
    {
     "data": {
      "image/png": "[encoded data removed]",
      "text/plain": [
       "<Figure size 640x480 with 1 Axes>"
      ]
     },
     "metadata": {},
     "output_type": "display_data"
    }
   ],
   "source": [
    "plt.plot(correct_genus_rate)"
   ]
  },
  {
   "cell_type": "code",
   "execution_count": 86,
   "id": "b37c77b8-43b0-46b2-bd89-740e1a9b5012",
   "metadata": {},
   "outputs": [
    {
     "data": {
      "text/plain": [
       "[<matplotlib.lines.Line2D at 0x76b69ac6dd00>]"
      ]
     },
     "execution_count": 86,
     "metadata": {},
     "output_type": "execute_result"
    },
    {
     "data": {
      "image/png": "[encoded data removed]",
      "text/plain": [
       "<Figure size 640x480 with 1 Axes>"
      ]
     },
     "metadata": {},
     "output_type": "display_data"
    }
   ],
   "source": [
    "plt.plot(correct_species_rate)"
   ]
  },
  {
   "cell_type": "code",
   "execution_count": 87,
   "id": "c4bb1707-bd50-45e9-bc13-be8e509ed662",
   "metadata": {},
   "outputs": [
    {
     "data": {
      "text/plain": [
       "0.949465142014017"
      ]
     },
     "execution_count": 87,
     "metadata": {},
     "output_type": "execute_result"
    }
   ],
   "source": [
    "correct_species_rate[1]"
   ]
  },
  {
   "cell_type": "code",
   "execution_count": 88,
   "id": "23f52108-3240-475f-a1b3-abc0a3df2818",
   "metadata": {},
   "outputs": [
    {
     "data": {
      "text/plain": [
       "0.5835037491479209"
      ]
     },
     "execution_count": 88,
     "metadata": {},
     "output_type": "execute_result"
    }
   ],
   "source": [
    "correct_genus_rate[1]"
   ]
  },
  {
   "cell_type": "code",
   "execution_count": 90,
   "id": "63fbae7c-c441-4ed0-a592-c8f0ab8cb497",
   "metadata": {},
   "outputs": [
    {
     "data": {
      "text/plain": [
       "torch.Size([10840, 26160])"
      ]
     },
     "execution_count": 90,
     "metadata": {},
     "output_type": "execute_result"
    }
   ],
   "source": [
    "train_dna_features.shape"
   ]
  },
  {
   "cell_type": "code",
   "execution_count": 101,
   "id": "8cc80eb4-400f-498f-8566-31e6d7bc0aa2",
   "metadata": {
    "scrolled": true
   },
   "outputs": [
    {
     "name": "stdout",
     "output_type": "stream",
     "text": [
      "0\n",
      "http://v3.boldsystems.org/pics/ANICL/10ANIC_08059+1288052608.jpg\n"
     ]
    },
    {
     "name": "stdin",
     "output_type": "stream",
     "text": [
      " \n"
     ]
    },
    {
     "name": "stdout",
     "output_type": "stream",
     "text": [
      "1\n",
      "http://v3.boldsystems.org/pics/BCHYM/BC_ZSM_HYM_24216+1440710108.jpg\n"
     ]
    },
    {
     "name": "stdin",
     "output_type": "stream",
     "text": [
      " \n"
     ]
    },
    {
     "name": "stdout",
     "output_type": "stream",
     "text": [
      "2\n",
      "http://v3.boldsystems.org/pics/BCHYM/BC-ZSM-HYM-27761-D07+1429045164.jpg\n"
     ]
    },
    {
     "name": "stdin",
     "output_type": "stream",
     "text": [
      " \n"
     ]
    },
    {
     "name": "stdout",
     "output_type": "stream",
     "text": [
      "3\n",
      "http://v3.boldsystems.org/pics/BLPBC/06-SRNP-109430_DHJ609430+1199992320.jpg\n"
     ]
    },
    {
     "name": "stdin",
     "output_type": "stream",
     "text": [
      " \n"
     ]
    },
    {
     "name": "stdout",
     "output_type": "stream",
     "text": [
      "4\n",
      "http://v3.boldsystems.org/pics/BLPBE/07-SRNP-101378_DHJ611342+1174583648.jpg\n"
     ]
    },
    {
     "name": "stdin",
     "output_type": "stream",
     "text": [
      " \n"
     ]
    },
    {
     "name": "stdout",
     "output_type": "stream",
     "text": [
      "5\n",
      "http://v3.boldsystems.org/pics/BLNOA/07-SRNP-106954_DHJ616918+1188495614.jpg\n"
     ]
    },
    {
     "name": "stdin",
     "output_type": "stream",
     "text": [
      " \n"
     ]
    },
    {
     "name": "stdout",
     "output_type": "stream",
     "text": [
      "6\n",
      "http://v3.boldsystems.org/pics/BLNOA/07-SRNP-112250_DHJ622214+1202911152.jpg\n"
     ]
    },
    {
     "name": "stdin",
     "output_type": "stream",
     "text": [
      " \n"
     ]
    },
    {
     "name": "stdout",
     "output_type": "stream",
     "text": [
      "7\n",
      "http://v3.boldsystems.org/pics/BLNOA/07-SRNP-113574_DHJ623538+1204038314.jpg\n"
     ]
    },
    {
     "name": "stdin",
     "output_type": "stream",
     "text": [
      " \n"
     ]
    },
    {
     "name": "stdout",
     "output_type": "stream",
     "text": [
      "8\n",
      "http://v3.boldsystems.org/pics/BLPDE/08-SRNP-108981-DHJ633045+1364926698.jpg\n"
     ]
    },
    {
     "name": "stdin",
     "output_type": "stream",
     "text": [
      " \n"
     ]
    },
    {
     "name": "stdout",
     "output_type": "stream",
     "text": [
      "9\n",
      "http://v3.boldsystems.org/pics/BLPEE/12-SRNP-100569-DHJ667502+1344956152.JPG\n"
     ]
    },
    {
     "name": "stdin",
     "output_type": "stream",
     "text": [
      " \n"
     ]
    },
    {
     "name": "stdout",
     "output_type": "stream",
     "text": [
      "10\n",
      "http://v3.boldsystems.org/pics/CGUKC/IMG_9917+1238606356.JPG\n"
     ]
    },
    {
     "name": "stdin",
     "output_type": "stream",
     "text": [
      " \n"
     ]
    },
    {
     "name": "stdout",
     "output_type": "stream",
     "text": [
      "11\n",
      "http://v3.boldsystems.org/pics/COLFC/ZMUO.003008+1335376308.JPG\n"
     ]
    },
    {
     "name": "stdin",
     "output_type": "stream",
     "text": [
      " \n"
     ]
    },
    {
     "name": "stdout",
     "output_type": "stream",
     "text": [
      "12\n",
      "http://v3.boldsystems.org/pics/COLFD/ZMUO.003858+1350573868.JPG\n"
     ]
    },
    {
     "name": "stdin",
     "output_type": "stream",
     "text": [
      " \n"
     ]
    },
    {
     "name": "stdout",
     "output_type": "stream",
     "text": [
      "13\n",
      "http://v3.boldsystems.org/pics/COLFD/ZMUO.004405+1350330438.JPG\n"
     ]
    },
    {
     "name": "stdin",
     "output_type": "stream",
     "text": [
      " \n"
     ]
    },
    {
     "name": "stdout",
     "output_type": "stream",
     "text": [
      "14\n",
      "http://v3.boldsystems.org/pics/COLFD/ZMUO.004819+1358948634.JPG\n"
     ]
    },
    {
     "name": "stdin",
     "output_type": "stream",
     "text": [
      " \n"
     ]
    },
    {
     "name": "stdout",
     "output_type": "stream",
     "text": [
      "15\n",
      "http://v3.boldsystems.org/pics/COLFD/ZMUO.004472+1361902940.JPG\n"
     ]
    },
    {
     "name": "stdin",
     "output_type": "stream",
     "text": [
      " \n"
     ]
    },
    {
     "name": "stdout",
     "output_type": "stream",
     "text": [
      "16\n",
      "http://v3.boldsystems.org/pics/COLFE/ZMUO.007266+1367984782.JPG\n"
     ]
    },
    {
     "name": "stdin",
     "output_type": "stream",
     "text": [
      " \n"
     ]
    },
    {
     "name": "stdout",
     "output_type": "stream",
     "text": [
      "17\n",
      "http://v3.boldsystems.org/pics/COLFE/ZMUO.007303+1367984908.JPG\n"
     ]
    },
    {
     "name": "stdin",
     "output_type": "stream",
     "text": [
      " \n"
     ]
    },
    {
     "name": "stdout",
     "output_type": "stream",
     "text": [
      "18\n",
      "http://v3.boldsystems.org/pics/FBCOK/BFB_Col_FK_9399+1357863364.jpg\n"
     ]
    },
    {
     "name": "stdin",
     "output_type": "stream",
     "text": [
      " \n"
     ]
    },
    {
     "name": "stdout",
     "output_type": "stream",
     "text": [
      "19\n",
      "http://v3.boldsystems.org/pics/GBCOE/GBOL_Col_FK_6327+1362417160.jpg\n"
     ]
    },
    {
     "name": "stdin",
     "output_type": "stream",
     "text": [
      " \n"
     ]
    },
    {
     "name": "stdout",
     "output_type": "stream",
     "text": [
      "20\n",
      "http://v3.boldsystems.org/pics/GBCOG/GBOL_Col_FK_4191+1367676862.jpg\n"
     ]
    },
    {
     "name": "stdin",
     "output_type": "stream",
     "text": [
      " \n"
     ]
    },
    {
     "name": "stdout",
     "output_type": "stream",
     "text": [
      "21\n",
      "http://v3.boldsystems.org/pics/IAWL/IMG_8933+1240847400.JPG\n"
     ]
    },
    {
     "name": "stdin",
     "output_type": "stream",
     "text": [
      " \n"
     ]
    },
    {
     "name": "stdout",
     "output_type": "stream",
     "text": [
      "22\n",
      "http://v3.boldsystems.org/pics/IBOLG/08-SRNP-100151_DHJ624215+1207770338.jpg\n"
     ]
    },
    {
     "name": "stdin",
     "output_type": "stream",
     "text": [
      " \n"
     ]
    },
    {
     "name": "stdout",
     "output_type": "stream",
     "text": [
      "23\n",
      "http://v3.boldsystems.org/pics/LNSWE/06-NSWE-00500+1140441934.jpg\n"
     ]
    },
    {
     "name": "stdin",
     "output_type": "stream",
     "text": [
      " \n"
     ]
    },
    {
     "name": "stdout",
     "output_type": "stream",
     "text": [
      "24\n",
      "http://v3.boldsystems.org/pics/BCHYM/BC-ZSM-HYM-27761-C04+1429045156.jpg\n"
     ]
    },
    {
     "name": "stdin",
     "output_type": "stream",
     "text": [
      " \n"
     ]
    },
    {
     "name": "stdout",
     "output_type": "stream",
     "text": [
      "25\n",
      "http://v3.boldsystems.org/pics/BCHYM/BC-ZSM-HYM-27761-D04+1429045162.jpg\n"
     ]
    },
    {
     "name": "stdin",
     "output_type": "stream",
     "text": [
      " \n"
     ]
    },
    {
     "name": "stdout",
     "output_type": "stream",
     "text": [
      "26\n",
      "http://v3.boldsystems.org/pics/BLPAA/06-SRNP-100410_DHJ600410+1144165846.jpg\n"
     ]
    },
    {
     "name": "stdin",
     "output_type": "stream",
     "text": [
      " \n"
     ]
    },
    {
     "name": "stdout",
     "output_type": "stream",
     "text": [
      "27\n",
      "http://v3.boldsystems.org/pics/BLPAG/06-SRNP-106051_DHJ606051+1201560780.jpg\n"
     ]
    },
    {
     "name": "stdin",
     "output_type": "stream",
     "text": [
      " \n"
     ]
    },
    {
     "name": "stdout",
     "output_type": "stream",
     "text": [
      "28\n",
      "http://v3.boldsystems.org/pics/BLNOA/06-SRNP-106934_DHJ606934+1162410050.jpg\n"
     ]
    },
    {
     "name": "stdin",
     "output_type": "stream",
     "text": [
      " \n"
     ]
    },
    {
     "name": "stdout",
     "output_type": "stream",
     "text": [
      "29\n",
      "http://v3.boldsystems.org/pics/BLPBC/06-SRNP-109866_DHJ609866+1199992380.jpg\n"
     ]
    },
    {
     "name": "stdin",
     "output_type": "stream",
     "text": [
      " \n"
     ]
    },
    {
     "name": "stdout",
     "output_type": "stream",
     "text": [
      "30\n",
      "http://v3.boldsystems.org/pics/BLPBE/07-SRNP-101379_DHJ611343+1174583676.jpg\n"
     ]
    },
    {
     "name": "stdin",
     "output_type": "stream",
     "text": [
      " \n"
     ]
    },
    {
     "name": "stdout",
     "output_type": "stream",
     "text": [
      "31\n",
      "http://v3.boldsystems.org/pics/BLPBH/07-SRNP-103977_DHJ613941+1182540992.jpg\n"
     ]
    },
    {
     "name": "stdin",
     "output_type": "stream",
     "text": [
      " \n"
     ]
    },
    {
     "name": "stdout",
     "output_type": "stream",
     "text": [
      "32\n",
      "http://v3.boldsystems.org/pics/BLNOA/07-SRNP-105057_DHJ615021+1342713340.jpg\n"
     ]
    },
    {
     "name": "stdin",
     "output_type": "stream",
     "text": [
      " \n"
     ]
    },
    {
     "name": "stdout",
     "output_type": "stream",
     "text": [
      "33\n",
      "http://v3.boldsystems.org/pics/BLNOA/07-SRNP-105458_DHJ615422+1342713374.jpg\n"
     ]
    },
    {
     "name": "stdin",
     "output_type": "stream",
     "text": [
      " \n"
     ]
    },
    {
     "name": "stdout",
     "output_type": "stream",
     "text": [
      "34\n",
      "http://v3.boldsystems.org/pics/BLNOA/07-SRNP-105478_DHJ615442+1342713376.jpg\n"
     ]
    },
    {
     "name": "stdin",
     "output_type": "stream",
     "text": [
      " \n"
     ]
    },
    {
     "name": "stdout",
     "output_type": "stream",
     "text": [
      "35\n",
      "http://v3.boldsystems.org/pics/BLNOA/07-SRNP-106873_DHJ616837+1188402588.jpg\n"
     ]
    },
    {
     "name": "stdin",
     "output_type": "stream",
     "text": [
      " \n"
     ]
    },
    {
     "name": "stdout",
     "output_type": "stream",
     "text": [
      "36\n",
      "http://v3.boldsystems.org/pics/BLPDA/08-SRNP-105849-DHJ629913+1364925982.jpg\n"
     ]
    },
    {
     "name": "stdin",
     "output_type": "stream",
     "text": [
      " \n"
     ]
    },
    {
     "name": "stdout",
     "output_type": "stream",
     "text": [
      "37\n",
      "http://v3.boldsystems.org/pics/BLPDC/08-SRNP-107183-DHJ631247+1364926290.jpg\n"
     ]
    },
    {
     "name": "stdin",
     "output_type": "stream",
     "text": [
      " \n"
     ]
    },
    {
     "name": "stdout",
     "output_type": "stream",
     "text": [
      "38\n",
      "http://v3.boldsystems.org/pics/DIRTT/Green_Bottle_Fly_Dorsal+1398869200.jpg|http://v3.boldsystems.org/pics/DIRTT/Green_Bottle_Fly_Lateral+1398869216.jpg\n"
     ]
    },
    {
     "name": "stdin",
     "output_type": "stream",
     "text": [
      " \n"
     ]
    },
    {
     "name": "stdout",
     "output_type": "stream",
     "text": [
      "39\n",
      "http://v3.boldsystems.org/pics/FBACA/BC_ZSM_HYM_04413+1309803780.jpg\n"
     ]
    },
    {
     "name": "stdin",
     "output_type": "stream",
     "text": [
      " \n"
     ]
    },
    {
     "name": "stdout",
     "output_type": "stream",
     "text": [
      "40\n",
      "http://v3.boldsystems.org/pics/GBCOU/GBOL_Col_FK_6455+1378759890.jpg\n"
     ]
    },
    {
     "ename": "KeyboardInterrupt",
     "evalue": "Interrupted by user",
     "output_type": "error",
     "traceback": [
      "\u001b[0;31m---------------------------------------------------------------------------\u001b[0m",
      "\u001b[0;31mKeyboardInterrupt\u001b[0m                         Traceback (most recent call last)",
      "Cell \u001b[0;32mIn[101], line 4\u001b[0m\n\u001b[1;32m      2\u001b[0m \u001b[38;5;28mprint\u001b[39m(i,sep\u001b[38;5;241m=\u001b[39m\u001b[38;5;124m\"\u001b[39m\u001b[38;5;124m \u001b[39m\u001b[38;5;124m\"\u001b[39m)\n\u001b[1;32m      3\u001b[0m \u001b[38;5;28mprint\u001b[39m(row)\n\u001b[0;32m----> 4\u001b[0m \u001b[38;5;28minput\u001b[39m()\n",
      "File \u001b[0;32m~/miniconda3/envs/insetti/lib/python3.12/site-packages/ipykernel/kernelbase.py:1262\u001b[0m, in \u001b[0;36mKernel.raw_input\u001b[0;34m(self, prompt)\u001b[0m\n\u001b[1;32m   1260\u001b[0m     msg \u001b[38;5;241m=\u001b[39m \u001b[38;5;124m\"\u001b[39m\u001b[38;5;124mraw_input was called, but this frontend does not support input requests.\u001b[39m\u001b[38;5;124m\"\u001b[39m\n\u001b[1;32m   1261\u001b[0m     \u001b[38;5;28;01mraise\u001b[39;00m StdinNotImplementedError(msg)\n\u001b[0;32m-> 1262\u001b[0m \u001b[38;5;28;01mreturn\u001b[39;00m \u001b[38;5;28mself\u001b[39m\u001b[38;5;241m.\u001b[39m_input_request(\n\u001b[1;32m   1263\u001b[0m     \u001b[38;5;28mstr\u001b[39m(prompt),\n\u001b[1;32m   1264\u001b[0m     \u001b[38;5;28mself\u001b[39m\u001b[38;5;241m.\u001b[39m_parent_ident[\u001b[38;5;124m\"\u001b[39m\u001b[38;5;124mshell\u001b[39m\u001b[38;5;124m\"\u001b[39m],\n\u001b[1;32m   1265\u001b[0m     \u001b[38;5;28mself\u001b[39m\u001b[38;5;241m.\u001b[39mget_parent(\u001b[38;5;124m\"\u001b[39m\u001b[38;5;124mshell\u001b[39m\u001b[38;5;124m\"\u001b[39m),\n\u001b[1;32m   1266\u001b[0m     password\u001b[38;5;241m=\u001b[39m\u001b[38;5;28;01mFalse\u001b[39;00m,\n\u001b[1;32m   1267\u001b[0m )\n",
      "File \u001b[0;32m~/miniconda3/envs/insetti/lib/python3.12/site-packages/ipykernel/kernelbase.py:1305\u001b[0m, in \u001b[0;36mKernel._input_request\u001b[0;34m(self, prompt, ident, parent, password)\u001b[0m\n\u001b[1;32m   1302\u001b[0m \u001b[38;5;28;01mexcept\u001b[39;00m \u001b[38;5;167;01mKeyboardInterrupt\u001b[39;00m:\n\u001b[1;32m   1303\u001b[0m     \u001b[38;5;66;03m# re-raise KeyboardInterrupt, to truncate traceback\u001b[39;00m\n\u001b[1;32m   1304\u001b[0m     msg \u001b[38;5;241m=\u001b[39m \u001b[38;5;124m\"\u001b[39m\u001b[38;5;124mInterrupted by user\u001b[39m\u001b[38;5;124m\"\u001b[39m\n\u001b[0;32m-> 1305\u001b[0m     \u001b[38;5;28;01mraise\u001b[39;00m \u001b[38;5;167;01mKeyboardInterrupt\u001b[39;00m(msg) \u001b[38;5;28;01mfrom\u001b[39;00m \u001b[38;5;28;01mNone\u001b[39;00m\n\u001b[1;32m   1306\u001b[0m \u001b[38;5;28;01mexcept\u001b[39;00m \u001b[38;5;167;01mException\u001b[39;00m:\n\u001b[1;32m   1307\u001b[0m     \u001b[38;5;28mself\u001b[39m\u001b[38;5;241m.\u001b[39mlog\u001b[38;5;241m.\u001b[39mwarning(\u001b[38;5;124m\"\u001b[39m\u001b[38;5;124mInvalid Message:\u001b[39m\u001b[38;5;124m\"\u001b[39m, exc_info\u001b[38;5;241m=\u001b[39m\u001b[38;5;28;01mTrue\u001b[39;00m)\n",
      "\u001b[0;31mKeyboardInterrupt\u001b[0m: Interrupted by user"
     ]
    }
   ],
   "source": [
    "for i,row in enumerate(df['image_urls']):\n",
    "    print(i,sep=\" \")\n",
    "    print(row)\n",
    "    input()"
   ]
  },
  {
   "cell_type": "code",
   "execution_count": 108,
   "id": "a1c01783-d4f8-4dbb-8264-b48b20c38ca8",
   "metadata": {},
   "outputs": [
    {
     "data": {
      "text/plain": [
       "'DIRTT100-14'"
      ]
     },
     "execution_count": 108,
     "metadata": {},
     "output_type": "execute_result"
    }
   ],
   "source": [
    "img2dna[list(img2dna)[38]]\n"
   ]
  },
  {
   "cell_type": "code",
   "execution_count": 113,
   "id": "d95a8825-1986-48a8-b9b1-0c8c30477a64",
   "metadata": {
    "scrolled": true
   },
   "outputs": [
    {
     "data": {
      "text/plain": [
       "{'image_dataset/Leucania_cruegeri/10ANIC_08059+1288052608.jpg': 'ANICL062-10',\n",
       " 'image_dataset/Lestica_alata/BC_ZSM_HYM_24216+1440710108.jpg': 'BCHYM11106-15',\n",
       " 'image_dataset/Liotryphon_punctulatus/BC-ZSM-HYM-27761-D07+1429045164.jpg': 'BCHYM7643-15',\n",
       " 'image_dataset/Lesmone_formularis/06-SRNP-109430_DHJ609430+1199992320.jpg': 'BLPBC407-07',\n",
       " 'image_dataset/Lesmone_formularis/07-SRNP-101378_DHJ611342+1174583648.jpg': 'BLPBE439-07',\n",
       " 'image_dataset/Lesmone_formularis/07-SRNP-106954_DHJ616918+1188495614.jpg': 'BLPCC469-08',\n",
       " 'image_dataset/Lesmone_formularis/07-SRNP-112250_DHJ622214+1202911152.jpg': 'BLPCI125-08',\n",
       " 'image_dataset/Lesmone_formularis/07-SRNP-113574_DHJ623538+1204038314.jpg': 'BLPCJ509-08',\n",
       " 'image_dataset/Lesmone_formularis/08-SRNP-108981-DHJ633045+1364926698.jpg': 'BLPDE146-09',\n",
       " 'image_dataset/Lesmone_gentilis/12-SRNP-100569-DHJ667502+1344956152.JPG': 'BLPEE570-12',\n",
       " 'image_dataset/Leucania_comma/IMG_9917+1238606356.JPG': 'CGUKC237-09',\n",
       " 'image_dataset/Limodromus_assimilis/ZMUO.003008+1335376308.JPG': 'COLFC443-12',\n",
       " 'image_dataset/Longitarsus_luridus/ZMUO.003858+1350573868.JPG': 'COLFD438-12',\n",
       " 'image_dataset/Limodromus_assimilis/ZMUO.004405+1350330438.JPG': 'COLFD605-12',\n",
       " 'image_dataset/Longitarsus_luridus/ZMUO.004819+1358948634.JPG': 'COLFD829-12',\n",
       " 'image_dataset/Litargus_connexus/ZMUO.004472+1361902940.JPG': 'COLFD862-12',\n",
       " 'image_dataset/Longitarsus_luridus/ZMUO.007266+1367984782.JPG': 'COLFE1471-13',\n",
       " 'image_dataset/Longitarsus_exsoletus/ZMUO.007303+1367984908.JPG': 'COLFE1508-13',\n",
       " 'image_dataset/Longitarsus_exsoletus/BFB_Col_FK_9399+1357863364.jpg': 'FBCOK754-13',\n",
       " 'image_dataset/Limodromus_assimilis/GBOL_Col_FK_6327+1362417160.jpg': 'GBCOE627-13',\n",
       " 'image_dataset/Longitarsus_exsoletus/GBOL_Col_FK_4191+1367676862.jpg': 'GBCOG011-13',\n",
       " 'image_dataset/Lesmone_griseipennis/IMG_8933+1240847400.JPG': 'IAWL163-09',\n",
       " 'image_dataset/Leucania_incognita/08-SRNP-100151_DHJ624215+1207770338.jpg': 'IBOLG152-08',\n",
       " 'image_dataset/Leucania_diatrecta/06-NSWE-00500+1140441934.jpg': 'LNSWE500-06',\n",
       " 'image_dataset/Liotryphon_punctulatus/BC-ZSM-HYM-27761-C04+1429045156.jpg': 'BCHYM7628-15',\n",
       " 'image_dataset/Liotryphon_punctulatus/BC-ZSM-HYM-27761-D04+1429045162.jpg': 'BCHYM7640-15',\n",
       " 'image_dataset/Lesmone_gentilis/06-SRNP-100410_DHJ600410+1144165846.jpg': 'BLPAA411-06',\n",
       " 'image_dataset/Leucania_incognita/06-SRNP-106051_DHJ606051+1201560780.jpg': 'BLPAG412-07',\n",
       " 'image_dataset/Leucania_incognita/06-SRNP-106934_DHJ606934+1162410050.jpg': 'BLPAH355-07',\n",
       " 'image_dataset/Lesmone_formularis/06-SRNP-109866_DHJ609866+1199992380.jpg': 'BLPBC843-07',\n",
       " 'image_dataset/Lesmone_formularis/07-SRNP-101379_DHJ611343+1174583676.jpg': 'BLPBE440-07',\n",
       " 'image_dataset/Macaria_nundinata/07-SRNP-103977_DHJ613941+1182540992.jpg': 'BLPBH218-07',\n",
       " 'image_dataset/Lesmone_formularis/07-SRNP-105057_DHJ615021+1342713340.jpg': 'BLPCA452-08',\n",
       " 'image_dataset/Lesmone_gentilis/07-SRNP-105458_DHJ615422+1342713374.jpg': 'BLPCA853-08',\n",
       " 'image_dataset/Lesmone_formularis/07-SRNP-105478_DHJ615442+1342713376.jpg': 'BLPCA873-08',\n",
       " 'image_dataset/Lesmone_formularis/07-SRNP-106873_DHJ616837+1188402588.jpg': 'BLPCC388-08',\n",
       " 'image_dataset/Lesmone_formularis/08-SRNP-105849-DHJ629913+1364925982.jpg': 'BLPDA774-09',\n",
       " 'image_dataset/Lesmone_formularis/08-SRNP-107183-DHJ631247+1364926290.jpg': 'BLPDC228-09',\n",
       " 'image_dataset/Lucilia_sericata/Green_Bottle_Fly_Dorsal+1398869200.jpg': 'DIRTT100-14',\n",
       " 'image_dataset/Lucilia_sericata/Green_Bottle_Fly_Lateral+1398869216.jpg': 'DIRTT100-14',\n",
       " 'image_dataset/Lestica_alata/BC_ZSM_HYM_04413+1309803780.jpg': 'FBACA138-10',\n",
       " 'image_dataset/Longitarsus_luridus/GBOL_Col_FK_6455+1378759890.jpg': 'GBCOU1325-13',\n",
       " 'image_dataset/Leucania_dasycnema/IMG_8614+1204578590.JPG': 'IMLQ417-08',\n",
       " 'image_dataset/Limnophila_poetica/10PROBE-10675+1295817558.jpg': 'JWDCF420-10',\n",
       " 'image_dataset/Leucania_comma/TLMF_Lep_10543+1378750984.JPG': 'LEATB366-13',\n",
       " 'image_dataset/Leucania_stenographa/AM_2320_B_2590_E05+1196216694.jpg': 'LNSWC599-08',\n",
       " 'image_dataset/Leucania_stenographa/IMG_6434+1201708722.JPG': 'NSWBB712-08',\n",
       " 'image_dataset/Leucania_diatrecta/IMG_4952+1304504964.JPG': 'NSWHM683-11',\n",
       " 'image_dataset/Leucania_stenographa/IMG_7658+1343232922.JPG': 'PHSAU242-12',\n",
       " 'image_dataset/Leucania_incognita/IMG_0854+1255024884.JPG': 'BBLSX696-09',\n",
       " 'image_dataset/Liotryphon_punctulatus/BC-ZSM-HYM-27761-D06+1429045164.jpg': 'BCHYM7642-15',\n",
       " 'image_dataset/Lesmone_formularis/06-SRNP-109429_DHJ609429+1199992320.jpg': 'BLPBC406-07',\n",
       " 'image_dataset/Lesmone_formularis/07-SRNP-106956_DHJ616920+1188495660.jpg': 'BLPCC471-08',\n",
       " 'image_dataset/Lesmone_formularis/07-SRNP-108766_DHJ618730+1193088516.jpg': 'BLPCE401-08',\n",
       " 'image_dataset/Lesmone_formularis/07-SRNP-113139_DHJ623103+1203611080.jpg': 'BLPCJ074-08',\n",
       " 'image_dataset/Lesmone_formularis/07-SRNP-113597_DHJ623561+1204223530.jpg': 'BLPCJ532-08',\n",
       " 'image_dataset/Lesmone_formularis/08-SRNP-108544-DHJ632608+1364926616.jpg': 'BLPDD649-09',\n",
       " 'image_dataset/Lesmone_formularis/08-SRNP-108548-DHJ632612+1364926616.jpg': 'BLPDD653-09',\n",
       " 'image_dataset/Limnophyes_edwardsi/Fi322+1346872818.jpg': 'CHRFI374-11',\n",
       " 'image_dataset/Lygistopterus_sanguineus/ZMUO.005901+1360868156.JPG': 'COLFF383-13',\n",
       " 'image_dataset/Limodromus_assimilis/BCZSMCOLWL0006+1295264306.JPG': 'FBCOD006-11',\n",
       " 'image_dataset/Limonius_poneli/BFB_Col_FK_10220+1369086258.jpg': 'FBCOP221-13',\n",
       " 'image_dataset/Limonius_poneli/BFB_Col_FK_10512+1367881574.jpg': 'FBCOQ062-13',\n",
       " 'image_dataset/Longitarsus_exsoletus/GBOL_Col_FK_2597+1365437648.jpg': 'GBCOD697-13',\n",
       " 'image_dataset/Lochmaea_caprea/GBOL_Col_FK_6799+1378230932.jpg': 'GBCOU2239-13',\n",
       " 'image_dataset/Limodromus_assimilis/GBOL01730+1373750852.jpg': 'GBCOU682-13',\n",
       " 'image_dataset/Lesmone_griseipennis/IMG_8925+1240847042.JPG': 'IAWL156-09',\n",
       " 'image_dataset/Limnophila_poetica/10PROBE-10428+1290015058.jpg': 'JWDCF173-10',\n",
       " 'image_dataset/Lesmone_griseipennis/IMG_2882+1243359668.JPG': 'LMEMB211-09',\n",
       " 'image_dataset/Leucania_dasycnema/IMG_6152+1305813678.JPG': 'NSWHN351-11',\n",
       " 'image_dataset/Leucania_diatrecta/IMG_4179+1314035298.JPG': 'PHLCC978-11',\n",
       " 'image_dataset/Leucania_diatrecta/IMG_5941+1343061400.jpg': 'PHLCD433-12',\n",
       " 'image_dataset/Leucania_stenographa/IMG_5693+1365100448.jpg': 'WALPA5334-13',\n",
       " 'image_dataset/Leucania_cruegeri/10ANIC_08058+1288052596.jpg': 'ANICL061-10',\n",
       " 'image_dataset/Leucania_dasycnema/10ANIC_08094+1288053466.jpg': 'ANICL097-10',\n",
       " 'image_dataset/Leucania_dasycnema/10ANIC_08095+1288053482.jpg': 'ANICL098-10',\n",
       " 'image_dataset/Limnophyes_edwardsi/AT211+1377788500.jpg': 'ATNA211-09',\n",
       " 'image_dataset/Liotryphon_punctulatus/BC-ZSM-HYM-27761-D12+1429045168.jpg': 'BCHYM7648-15',\n",
       " 'image_dataset/Leucania_incognita/06-SRNP-105470_DHJ605470+1159365686.jpg': 'BLPAF771-07',\n",
       " 'image_dataset/Lesmone_formularis/07-SRNP-105059_DHJ615023+1342713340.jpg': 'BLPCA454-08',\n",
       " 'image_dataset/Lesmone_formularis/07-SRNP-107846_DHJ617810+1191434662.jpg': 'BLPCD421-08',\n",
       " 'image_dataset/Lesmone_formularis/08-SRNP-108547-DHJ632611+1364926616.jpg': 'BLPDD652-09',\n",
       " 'image_dataset/Lesmone_formularis/08-SRNP-109150-DHJ633214+1364926790.jpg': 'BLPDE315-09',\n",
       " 'image_dataset/Litargus_connexus/ccdb-06277-050+1272994700.JPG': 'COLFA050-10',\n",
       " 'image_dataset/Longitarsus_luridus/ZMUO.001081+1331751344.JPG': 'COLFB606-12',\n",
       " 'image_dataset/Litargus_connexus/ZMUO.004901+1358795820.JPG': 'COLFE341-12',\n",
       " 'image_dataset/Litargus_connexus/BC_ZSM_COL_05805+1338577654.JPG': 'FBCOG295-12',\n",
       " 'image_dataset/Leucania_diatrecta/IMG_7412+1229971416.JPG': 'IMLR684-08',\n",
       " 'image_dataset/Lucilia_sericata/JMCA-0694-D+1363150748.JPG': 'JMFLY059-13',\n",
       " 'image_dataset/Lucilia_sericata/JMCA-0694-L+1363150288.JPG': 'JMFLY059-13',\n",
       " 'image_dataset/Lucilia_sericata/JMCA-0694-V+1363803754.JPG': 'JMFLY059-13',\n",
       " 'image_dataset/Limnophila_poetica/10PROBE-10672+1295378048.jpg': 'JWDCF417-10',\n",
       " 'image_dataset/Lesmone_formularis/97-srnp-9573-dhj320252+1140463210.jpg': 'MHAUC595-06',\n",
       " 'image_dataset/Lesmone_formularis/97-srnp-9573-dhj320253+1140463212.jpg': 'MHAUC595-06',\n",
       " 'image_dataset/Leucania_stenographa/IMG_6709+1201806062.JPG': 'NSWBB950-08',\n",
       " 'image_dataset/Leucania_dasycnema/IMG_5989+1305554742.JPG': 'NSWHN238-11',\n",
       " 'image_dataset/Leucania_dasycnema/BIOUG04701-B05+1360245268.JPG': 'NSWLP207-13',\n",
       " 'image_dataset/Lucilia_sericata/TDWG-0790+1287762442.jpg': 'TDWGB654-10',\n",
       " 'image_dataset/Leucania_diatrecta/BIOUG04674-E07+1361980576.JPG': 'WALPA3475-13',\n",
       " 'image_dataset/Leucania_diatrecta/BIOUG12060-H05+1400075018.JPG': 'WALPB2497-14',\n",
       " 'image_dataset/Leucania_cruegeri/BIOUG08996-F04+1385757590.JPG': 'WALPB444-13',\n",
       " 'image_dataset/Limnophyes_edwardsi/AT214+1377789194.jpg': 'ATNA214-09',\n",
       " 'image_dataset/Liotryphon_punctulatus/BC-ZSM-HYM-27761-A03+1429045148.jpg': 'BCHYM7603-15',\n",
       " 'image_dataset/Lesmone_formularis/07-SRNP-107847_DHJ617811+1191434696.jpg': 'BLPCD422-08',\n",
       " 'image_dataset/Lesmone_formularis/08-SRNP-106635-DHJ630699+1364926142.jpg': 'BLPDB620-09',\n",
       " 'image_dataset/Lesmone_formularis/08-SRNP-106637-DHJ630701+1364926142.jpg': 'BLPDB622-09',\n",
       " 'image_dataset/Leucania_comma/IMG_1396+1238688658.JPG': 'CGUKA779-09',\n",
       " 'image_dataset/Leucania_comma/IMG_0105+1238597674.JPG': 'CGUKB935-09',\n",
       " 'image_dataset/Leucania_comma/IMG_3446+1239027704.JPG': 'CGUKD348-09',\n",
       " 'image_dataset/Limodromus_assimilis/ZMUO.004909+1358795832.JPG': 'COLFE349-12',\n",
       " 'image_dataset/Limodromus_assimilis/BCZSMCOLA00189+1280478996.JPG': 'FBCOB094-10',\n",
       " 'image_dataset/Litargus_connexus/GBOL_Col_FK_1448+1340978162.jpg': 'GBCOB878-12',\n",
       " 'image_dataset/Lygistopterus_sanguineus/GBOL_Col_FK_7832+1378847250.jpg': 'GBCOU1847-13',\n",
       " 'image_dataset/Lygistopterus_sanguineus/GBOL_Col_FK_6984+1377801604.jpg': 'GBCOU2329-13',\n",
       " 'image_dataset/Limodromus_assimilis/GBOL_Col_FK_8626+1381516988.jpg': 'GBCOU3401-13',\n",
       " 'image_dataset/Lesmone_griseipennis/IAWAZ-1198+1311688346.JPG': 'IAWLB290-11',\n",
       " 'image_dataset/Lesmone_gentilis/98-srnp-8888-dhj320240+1140463654.jpg': 'MHAUC589-06',\n",
       " 'image_dataset/Lesmone_gentilis/98-srnp-8888-dhj320241+1140463656.jpg': 'MHAUC589-06',\n",
       " 'image_dataset/Limnophyes_edwardsi/SOE152+1204136636.jpg': 'MIDGE556-08',\n",
       " 'image_dataset/Lygistopterus_sanguineus/NOCOL1649+1572379034.jpg': 'NOCLP1623-19',\n",
       " 'image_dataset/Leucania_dasycnema/IMG_9811+1231941724.JPG': 'NSWHH301-09',\n",
       " 'image_dataset/Leucania_dasycnema/BIOUG04703-E02+1360771616.jpg': 'NSWLP430-13',\n",
       " 'image_dataset/Leucania_diatrecta/IMG_5975+1343061636.jpg': 'PHLCD461-12',\n",
       " 'image_dataset/Leucania_stenographa/IMG_8655+1343652668.jpg': 'PHSAU723-12',\n",
       " 'image_dataset/Leucania_cruegeri/BIOUG04674-D08+1361988658.jpg': 'WALPA3464-13',\n",
       " 'image_dataset/Leucania_stenographa/BIOUG08996-F07+1385757594.JPG': 'WALPB447-13',\n",
       " 'image_dataset/Leucania_cruegeri/BIOUG20227-D01+1426819800.JPG': 'WALPC5359-15',\n",
       " 'image_dataset/Limnophyes_edwardsi/AT215+1377789508.jpg': 'ATNA215-09',\n",
       " 'image_dataset/Leucania_incognita/IMG_7541+1252591252.JPG': 'BBLSW845-09',\n",
       " 'image_dataset/Lestica_alata/BC_ZSM_HYM_19857+1384885470.jpg': 'BCHYM1522-14',\n",
       " 'image_dataset/Macaria_nundinata/06-SRNP-105769_DHJ605769+1201560780.jpg': 'BLPAG130-07',\n",
       " 'image_dataset/Macaria_nundinata/07-SRNP-103992_DHJ613956+1182541384.jpg': 'BLPBH233-07',\n",
       " 'image_dataset/Macaria_nundinata/07-SRNP-104571_DHJ614535+1183222174.jpg': 'BLPBH812-07',\n",
       " 'image_dataset/Lesmone_formularis/08-SRNP-100931_DHJ624995+1214060658.jpg': 'BLPCK838-08',\n",
       " 'image_dataset/Leucania_comma/IMG_1998+1238787528.JPG': 'CGUKC333-09',\n",
       " 'image_dataset/Litargus_connexus/ZMUO.003903+1346678590.JPG': 'COLFD008-12',\n",
       " 'image_dataset/Longitarsus_exsoletus/ZMUO.007679+1371668824.JPG': 'COLFG281-13',\n",
       " 'image_dataset/Lygistopterus_sanguineus/BCZSMCOL01918+1284714522.JPG': 'FBCOC493-10',\n",
       " 'image_dataset/Lochmaea_caprea/BC_ZSM_COL_03053+1312806420.jpg': 'FBCOD488-11',\n",
       " 'image_dataset/Lochmaea_caprea/BFB_Col_FK_7105+1347210626.jpg': 'FBCOI550-12',\n",
       " 'image_dataset/Lestica_alata/BC_ZSM_HYM_17659+1363019072.jpg': 'GBACU3409-13',\n",
       " 'image_dataset/Lestica_alata/BC_ZSM_HYM_17661+1363019114.jpg': 'GBACU3411-13',\n",
       " 'image_dataset/Lesmone_griseipennis/IMG_2878+1243359598.JPG': 'LMEMB207-09',\n",
       " 'image_dataset/Leucania_diatrecta/06-NSWE-00300+1140098240.jpg': 'LNSWE300-06',\n",
       " 'image_dataset/Leucania_dasycnema/06-NSWE-01129+1141849356.jpg': 'LNSWF189-06',\n",
       " 'image_dataset/Leucania_stenographa/IMG_6682+1176739506.JPG': 'LOTSC457-07',\n",
       " 'image_dataset/Leucania_stenographa/IMG_4987+1342722856.jpg': 'PHLCD1205-12',\n",
       " 'image_dataset/Leucania_stenographa/BIOUG04674-A05+1361987828.JPG': 'WALPA3425-13',\n",
       " 'image_dataset/Leucania_cruegeri/BIOUG04674-B01+1361989256.jpg': 'WALPA3433-13',\n",
       " 'image_dataset/Leucania_cruegeri/BIOUG11097-F06+1393350198.JPG': 'WALPB1714-14',\n",
       " 'image_dataset/Leucania_cruegeri/BIOUG08996-A11+1385757408.JPG': 'WALPB391-13',\n",
       " 'image_dataset/Leucania_cruegeri/BIOUG20227-G06+1426819860.JPG': 'WALPC5400-15',\n",
       " 'image_dataset/Lesmone_gentilis/06-SRNP-104414_DHJ604414+1197404880.jpg': 'BLPAE655-06',\n",
       " 'image_dataset/Macaria_nundinata/06-SRNP-104482_DHJ604482+1197404940.jpg': 'BLPAE723-06',\n",
       " 'image_dataset/Macaria_nundinata/06-SRNP-105766_DHJ605766+1201560780.jpg': 'BLPAG127-07',\n",
       " 'image_dataset/Lesmone_formularis/06-SRNP-109865_DHJ609865+1199992380.jpg': 'BLPBC842-07',\n",
       " 'image_dataset/Macaria_nundinata/07-SRNP-103090_DHJ613054+1178899568.jpg': 'BLPBG271-07',\n",
       " 'image_dataset/Lesmone_formularis/11-SRNP-103238_DHJ663908+1349455160.jpg': 'BLPEC681-11',\n",
       " 'image_dataset/Leucania_incognita/12-SRNP-100937-DHJ667870+1344956158.JPG': 'BLPEE938-12',\n",
       " 'image_dataset/Lygistopterus_sanguineus/ZMUO.003149+1335798298.JPG': 'COLFC584-12',\n",
       " 'image_dataset/Lygistopterus_sanguineus/ZMUO.005253+1360614520.JPG': 'COLFE028-12',\n",
       " 'image_dataset/Limonius_poneli/BCZSMCOL00869+1280306614.JPG': 'FBCOB109-10',\n",
       " 'image_dataset/Longitarsus_exsoletus/BFB_Col_FK_9400+1357863430.jpg': 'FBCOK755-13',\n",
       " 'image_dataset/Limonius_poneli/GBOL_Col_FK_2498+1351535592.jpg': 'GBCOD123-13',\n",
       " 'image_dataset/Limodromus_assimilis/GBOL_Col_FK_3898+1367698684.jpg': 'GBCOG098-13',\n",
       " 'image_dataset/Lochmaea_caprea/GBOL_Col_FK_2327+1342211874.jpg': 'GBCOL142-12',\n",
       " 'image_dataset/Longitarsus_exsoletus/GBOL_Col_FK_7140+1378220224.jpg': 'GBCOU2485-13',\n",
       " 'image_dataset/Lesmone_formularis/BC_ZSM_Lep_52669+1317748920.JPG': 'GWOSU368-11',\n",
       " 'image_dataset/Limnophila_poetica/10PROBE-10251+1289932226.jpg': 'JWDCE946-10',\n",
       " 'image_dataset/Limnophila_poetica/10PROBE-13757+1295457156.jpg': 'JWDCI367-10',\n",
       " 'image_dataset/Lesmone_griseipennis/IMG_2879+1243359614.JPG': 'LMEMB208-09',\n",
       " 'image_dataset/Leucania_diatrecta/06-NSWE-01406+1142342854.jpg': 'LNSWF466-06',\n",
       " 'image_dataset/Leucania_stenographa/IMG_6264_+1201720170.JPG': 'NSWBB498-08',\n",
       " 'image_dataset/Leucania_diatrecta/BIOUG04673-H08+1361556278.JPG': 'WALPA3417-13',\n",
       " 'image_dataset/Leucania_cruegeri/BIOUG04674-A12+1361987310.JPG': 'WALPA3432-13',\n",
       " 'image_dataset/Macaria_nundinata/06-SRNP-105022_DHJ605022+1158607046.jpg': 'BLPAF323-07',\n",
       " 'image_dataset/Lesmone_gentilis/07-SRNP-107808_DHJ617772+1191432804.jpg': 'BLPCD383-08',\n",
       " 'image_dataset/Lesmone_formularis/07-SRNP-107848_DHJ617812+1191434726.jpg': 'BLPCD423-08',\n",
       " 'image_dataset/Lesmone_formularis/08-SRNP-108542-DHJ632606+1364926616.jpg': 'BLPDD647-09',\n",
       " 'image_dataset/Lesmone_formularis/10-SRNP-115328_DHJ660203+1309189820.jpg': 'BLPDY776-11',\n",
       " 'image_dataset/Lochmaea_caprea/ZMUO.003930+1346680168.JPG': 'COLFD035-12',\n",
       " 'image_dataset/Litargus_connexus/BC_ZSM_COL_05485+1338577126.JPG': 'FBCOF1115-12',\n",
       " 'image_dataset/Lochmaea_caprea/BFB_Col_FK_4572+1338215520.JPG': 'FBCOF392-12',\n",
       " 'image_dataset/Longitarsus_exsoletus/BFB_Col_FK_10858+1366409092.jpg': 'FBCON788-13',\n",
       " 'image_dataset/Lochmaea_caprea/BFB_Col_FK_11112+1366905602.jpg': 'FBCOP543-13',\n",
       " 'image_dataset/Leucania_stenographa/IMG_2173+1212510226.JPG': 'IMLQ762-08',\n",
       " 'image_dataset/Leucania_stenographa/IMG_7093+1229703922.JPG': 'IMLR325-08',\n",
       " 'image_dataset/Leucania_stenographa/CCDB-28563-B09+1444934640.JPG': 'LNAUU306-15',\n",
       " 'image_dataset/Lesmone_gentilis/98-srnp-1174-dhj320234+1140463416.jpg': 'MHAUC586-06',\n",
       " 'image_dataset/Lesmone_gentilis/98-srnp-1174-dhj320235+1140463418.jpg': 'MHAUC586-06',\n",
       " 'image_dataset/Leucania_dasycnema/IMG_6810_+1201876516.JPG': 'NSWBB1034-08',\n",
       " 'image_dataset/Leucania_stenographa/IMG_4879+1342718718.JPG': 'PHLCD2428-12',\n",
       " 'image_dataset/Leucania_stenographa/IMG_0038+1343656676.jpg': 'PHSAU1756-12',\n",
       " 'image_dataset/Leucania_incognita/CNC_Noctuoidea12899+1168960316.jpg': 'RDNMD567-06',\n",
       " 'image_dataset/Leucania_stenographa/BIOUG04673-H10+1361556128.JPG': 'WALPA3419-13',\n",
       " 'image_dataset/Leucania_diatrecta/BIOUG04674-A06+1361987730.JPG': 'WALPA3426-13',\n",
       " 'image_dataset/Leucania_cruegeri/BIOUG04674-D07+1361989586.jpg': 'WALPA3463-13',\n",
       " 'image_dataset/Leucania_diatrecta/BIOUG04674-D12+1361981076.JPG': 'WALPA3468-13',\n",
       " 'image_dataset/Leucania_cruegeri/BIOUG09012-D12+1386176004.JPG': 'WALPB713-13',\n",
       " 'image_dataset/Leucania_cruegeri/BIOUG17341-F11+1417035780.JPG': 'WALPC451-14',\n",
       " 'image_dataset/Leucania_stenographa/10ANIC_08060+1288052628.jpg': 'ANICL063-10',\n",
       " 'image_dataset/Leucania_stenographa/10ANIC_08062+1288052658.jpg': 'ANICL065-10',\n",
       " 'image_dataset/Liotryphon_punctulatus/BC-ZSM-HYM-27595-E07+1429045062.jpg': 'BCHYM8130-15',\n",
       " 'image_dataset/Liotryphon_punctulatus/BC-ZSM-HYM-27590-D02+1429044660.jpg': 'BCHYM8493-15',\n",
       " 'image_dataset/Macaria_nundinata/06-SRNP-106615_DHJ606615+1201560960.jpg': 'BLPAH036-07',\n",
       " 'image_dataset/Lesmone_formularis/07-SRNP-113138_DHJ623102+1203611046.jpg': 'BLPCJ073-08',\n",
       " 'image_dataset/Lesmone_formularis/08-SRNP-105407-DHJ629471+1364925844.jpg': 'BLPDA332-09',\n",
       " 'image_dataset/Lesmone_formularis/08-SRNP-106419-DHJ630483+1364926136.jpg': 'BLPDB404-09',\n",
       " 'image_dataset/Lesmone_formularis/08-SRNP-108545-DHJ632609+1364926616.jpg': 'BLPDD650-09',\n",
       " 'image_dataset/Leucania_comma/IMG_0943+1238697024.JPG': 'CGUKB269-09',\n",
       " 'image_dataset/Limnophyes_edwardsi/TRD-CH54+1396371058.jpg': 'CHMNO054-14',\n",
       " 'image_dataset/Lesmone_griseipennis/IMG_2982+1331926906.JPG': 'CMAZA1019-12',\n",
       " 'image_dataset/Lygistopterus_sanguineus/ZMUO.001444+1331662166.JPG': 'COLFB114-12',\n",
       " 'image_dataset/Longitarsus_luridus/ZMUO.007267+1367984786.JPG': 'COLFE1472-13',\n",
       " 'image_dataset/Longitarsus_exsoletus/ZMUO.007678+1371668822.JPG': 'COLFG280-13',\n",
       " 'image_dataset/Lucilia_sericata/IMG_7208+1284668726.jpg': 'DIPUS364-10',\n",
       " 'image_dataset/Lestica_alata/BC_ZSM_HYM_04416+1309803780.jpg': 'FBACA141-10',\n",
       " 'image_dataset/Limonius_poneli/BCZSMCOL01008+1281429000.JPG': 'FBCOB248-10',\n",
       " 'image_dataset/Limonius_poneli/GBOL_Col_FK_3812+1355773264.jpg': 'GBCOD297-13',\n",
       " 'image_dataset/Limodromus_assimilis/GBOL_Col_FK_3749+1349718930.jpg': 'GBCOL899-12',\n",
       " 'image_dataset/Lygistopterus_sanguineus/GBOL_Col_FK_6985+1377801606.jpg': 'GBCOU2330-13',\n",
       " 'image_dataset/Limnophila_poetica/10PROBE-13632+1295457094.jpg': 'JWDCI242-10',\n",
       " 'image_dataset/Leucania_stenographa/BIOUG12058-G05+1399915532.JPG': 'WALPB2580-14',\n",
       " 'image_dataset/Leucania_diatrecta/BIOUG19081-A06+1423163402.JPG': 'WALPC3048-15',\n",
       " 'image_dataset/Lesmone_gentilis/06-SRNP-104416_DHJ604416+1197404880.jpg': 'BLPAE657-06',\n",
       " 'image_dataset/Lesmone_formularis/08-SRNP-106632-DHJ630696+1364926142.jpg': 'BLPDB617-09',\n",
       " 'image_dataset/Lesmone_formularis/08-SRNP-107220-DHJ631284+1364926292.jpg': 'BLPDC265-09',\n",
       " 'image_dataset/Lesmone_formularis/08-SRNP-107221-DHJ631285+1364926292.jpg': 'BLPDC266-09',\n",
       " 'image_dataset/Lesmone_formularis/08-SRNP-107601-DHJ631665+1364926368.jpg': 'BLPDC646-09',\n",
       " 'image_dataset/Lesmone_formularis/08-SRNP-107605-DHJ631669+1364926368.jpg': 'BLPDC650-09',\n",
       " 'image_dataset/Lesmone_formularis/08-SRNP-107859-DHJ631923+1364926444.jpg': 'BLPDC904-09',\n",
       " 'image_dataset/Lesmone_formularis/08-SRNP-108971-DHJ633035+1364926696.jpg': 'BLPDE136-09',\n",
       " 'image_dataset/Lesmone_gentilis/09-SRNP-102513_DHJ635748+1237652528.jpg': 'BLPDH029-09',\n",
       " 'image_dataset/Lesmone_formularis/10-SRNP-110590_DHJ655465+1309874698.jpg': 'BLPDU1168-11',\n",
       " 'image_dataset/Lesmone_formularis/10-SRNP-110590_DHJ655465+1309192862.jpg': 'BLPDU1168-11',\n",
       " 'image_dataset/Lesmone_gentilis/11-SRNP-105853-DHJ666523+1331928312.JPG': 'BLPED2251-12',\n",
       " 'image_dataset/Leucania_comma/IMG_1379+1238688516.JPG': 'CGUKA764-09',\n",
       " 'image_dataset/Lesmone_griseipennis/CMAZ-0805+1286913030.JPG': 'CMAZA805-10',\n",
       " 'image_dataset/Lesmone_griseipennis/BIOUG02040-F10+1331841590.JPG': 'CMAZA919-12',\n",
       " 'image_dataset/Litargus_connexus/BCZSMCOL00298+1277899148.JPG': 'FBCOA393-10',\n",
       " 'image_dataset/Longitarsus_luridus/BFB_Col_FK_8584+1336516094.jpg': 'FBCOI604-12',\n",
       " 'image_dataset/Lestica_alata/BC_ZSM_HYM_17660+1363019094.jpg': 'GBACU3410-13',\n",
       " 'image_dataset/Lochmaea_caprea/GBOL_Col_FK_6734+1378399960.jpg': 'GBCOU1604-13',\n",
       " 'image_dataset/Limnophila_poetica/10PROBE-11186+1289920764.jpg': 'JWDCF931-10',\n",
       " 'image_dataset/Limnophila_poetica/10PROBE-13758+1295457154.jpg': 'JWDCI368-10',\n",
       " 'image_dataset/Leucania_diatrecta/IMG_4211+1314035592.JPG': 'PHLCC1008-11',\n",
       " 'image_dataset/Leucania_diatrecta/IMG_4085+1314037732.JPG': 'PHLCC891-11',\n",
       " 'image_dataset/Leucania_stenographa/BIOUG04674-A03+1361987936.JPG': 'WALPA3423-13',\n",
       " 'image_dataset/Leucania_stenographa/BIOUG04674-A04+1361987878.JPG': 'WALPA3424-13',\n",
       " 'image_dataset/Leucania_cruegeri/BIOUG08996-F05+1385757592.JPG': 'WALPB445-13',\n",
       " 'image_dataset/Leucania_incognita/IMG_0857+1255024912.JPG': 'BBLSX699-09',\n",
       " 'image_dataset/Macaria_nundinata/06-SRNP-105994_DHJ605994+1201560780.jpg': 'BLPAG355-07',\n",
       " 'image_dataset/Macaria_nundinata/07-SRNP-103974_DHJ613938+1182540906.jpg': 'BLPBH215-07',\n",
       " 'image_dataset/Leucania_incognita/08-SRNP-105550-DHJ629614+1364925914.jpg': 'BLPDA475-09',\n",
       " 'image_dataset/Lestica_alata/BC_ZSM_HYM_04415+1309803780.jpg': 'FBACA140-10',\n",
       " 'image_dataset/Limonius_poneli/BCZSMCOL00445+1278497566.JPG': 'FBCOA540-10',\n",
       " 'image_dataset/Limonius_poneli/BCZSMCOL00699+1280931462.JPG': 'FBCOA794-10',\n",
       " 'image_dataset/Longitarsus_luridus/BCZSMCOL02202+1286804456.JPG': 'FBCOC777-10',\n",
       " 'image_dataset/Longitarsus_luridus/BC_ZSM_COL_05225+1338835330.JPG': 'FBCOF855-12',\n",
       " 'image_dataset/Longitarsus_luridus/GBOL_Col_FK_8025+1378930966.jpg': 'GBCOU2040-13',\n",
       " 'image_dataset/Lygistopterus_sanguineus/GBOL_Col_FK_7241+1378150452.jpg': 'GBCOU2586-13',\n",
       " 'image_dataset/Limnophila_poetica/10PROBE-11129+1289916302.jpg': 'JWDCF874-10',\n",
       " 'image_dataset/Limnophila_poetica/10PROBE-11183+1295376148.jpg': 'JWDCF928-10',\n",
       " 'image_dataset/Leucania_comma/TLMF_Lep_18948+1443033376.jpg': 'LEATJ1088-15',\n",
       " 'image_dataset/Lygistopterus_sanguineus/NOCOL1650+1572379034.jpg': 'NOCLP1624-19',\n",
       " 'image_dataset/Leucania_dasycnema/BIOUG04699-C08+1359993302.JPG': 'NSWLP032-13',\n",
       " 'image_dataset/Leucania_diatrecta/BIOUG04700-E12+1360259602.JPG': 'NSWLP155-13',\n",
       " 'image_dataset/Leucania_comma/TLMF_Lep_00422+1260820734.JPG': 'PHLAA382-09',\n",
       " 'image_dataset/Lesmone_griseipennis/CNCLEP_80258+1294327594.jpg': 'RDNMJ350-11',\n",
       " 'image_dataset/Lesmone_griseipennis/CNCLEP_80177+1294784590.jpg': 'RDNMJ743-11',\n",
       " 'image_dataset/Leucania_stenographa/BIOUG04673-H11+1361562916.JPG': 'WALPA3420-13',\n",
       " 'image_dataset/Leucania_cruegeri/BIOUG04674-A09+1361987528.JPG': 'WALPA3429-13',\n",
       " 'image_dataset/Leucania_cruegeri/BIOUG04674-D06+1361989562.jpg': 'WALPA3462-13',\n",
       " 'image_dataset/Leucania_cruegeri/BIOUG04674-D11+1361981142.JPG': 'WALPA3467-13',\n",
       " 'image_dataset/Leucania_cruegeri/BIOUG18346-A03+1421460240.JPG': 'WALPB5702-15',\n",
       " 'image_dataset/Liotryphon_punctulatus/BC-ZSM-HYM-27761-A09+1429045150.jpg': 'BCHYM7609-15',\n",
       " 'image_dataset/Lesmone_gentilis/06-SRNP-104417_DHJ604417+1197404880.jpg': 'BLPAE658-06',\n",
       " 'image_dataset/Leucania_incognita/08-SRNP-100850_DHJ624914+1214015542.jpg': 'BLPCK757-08',\n",
       " 'image_dataset/Lesmone_formularis/08-SRNP-103617_DHJ627681+1221750762.jpg': 'BLPCO140-08',\n",
       " 'image_dataset/Lesmone_formularis/08-SRNP-107411-DHJ631475+1364926362.jpg': 'BLPDC456-09',\n",
       " 'image_dataset/Leucania_incognita/12-SRNP-101333-DHJ668266+1344956290.JPG': 'BLPEE1334-12',\n",
       " 'image_dataset/Leucania_comma/IMG_2009+1238709076.JPG': 'CGUKC344-09',\n",
       " 'image_dataset/Lesmone_griseipennis/IMG_1326+1261060726.JPG': 'CMAZA041-09',\n",
       " 'image_dataset/Lesmone_griseipennis/CMAZ-0788+1286910454.JPG': 'CMAZA788-10',\n",
       " 'image_dataset/Lochmaea_caprea/ZMUO.003927+1346680144.JPG': 'COLFD032-12',\n",
       " 'image_dataset/Longitarsus_exsoletus/BCZSMCOL01097+1282651502.JPG': 'FBCOB337-10',\n",
       " 'image_dataset/Leucania_stenographa/IMG_8577+1204578568.JPG': 'IMLQ398-08',\n",
       " 'image_dataset/Limnophila_poetica/10PROBE-10563+1295369702.jpg': 'JWDCF308-10',\n",
       " 'image_dataset/Leucania_comma/TLMF_Lep_10544+1378750972.JPG': 'LEATB367-13',\n",
       " 'image_dataset/Lesmone_griseipennis/IMG_2880+1243359632.JPG': 'LMEMB209-09',\n",
       " 'image_dataset/Macaria_nundinata/04-SRNP-47457-DHJ357666+1175909692.jpg': 'MHMXG059-07',\n",
       " 'image_dataset/Leucania_dasycnema/IMG_0041+1232038018.JPG': 'NSWHH421-09',\n",
       " 'image_dataset/Leucania_dasycnema/IMG_5923+1305552190.JPG': 'NSWHN201-11',\n",
       " 'image_dataset/Leucania_comma/CNC_Noctuoidea12695+1155844564.jpg': 'RDNMD363-06',\n",
       " 'image_dataset/Leucania_cruegeri/BIOUG04674-A11+1361987370.JPG': 'WALPA3431-13',\n",
       " 'image_dataset/Leucania_diatrecta/BIOUG04674-E06+1361980648.JPG': 'WALPA3474-13',\n",
       " 'image_dataset/Leucania_diatrecta/BIOUG04674-E08+1361980534.JPG': 'WALPA3476-13',\n",
       " 'image_dataset/Leucania_diatrecta/BIOUG04674-E10+1361980438.JPG': 'WALPA3478-13',\n",
       " 'image_dataset/Leucania_diatrecta/IMG_3807+1363804258.jpg': 'WALPA4179-13',\n",
       " 'image_dataset/Leucania_stenographa/10ANIC_08061+1288052646.jpg': 'ANICL064-10',\n",
       " 'image_dataset/Macaria_nundinata/06-SRNP-100574_DHJ600574+1144769252.jpg': 'BLPAA575-06',\n",
       " 'image_dataset/Lesmone_formularis/06-SRNP-108769_DHJ608769+1199992200.jpg': 'BLPBB686-07',\n",
       " 'image_dataset/Macaria_nundinata/07-SRNP-104570_DHJ614534+1183222142.jpg': 'BLPBH811-07',\n",
       " 'image_dataset/Leucania_incognita/07-SRNP-105093_DHJ615057+1342713342.jpg': 'BLPCA488-08',\n",
       " 'image_dataset/Lesmone_formularis/07-SRNP-106955_DHJ616919+1188495636.jpg': 'BLPCC470-08',\n",
       " 'image_dataset/Lesmone_gentilis/07-SRNP-113146_DHJ623110+1203611414.jpg': 'BLPCJ081-08',\n",
       " 'image_dataset/Lesmone_formularis/08-SRNP-107219-DHJ631283+1364926292.jpg': 'BLPDC264-09',\n",
       " 'image_dataset/Leucania_comma/IMG_0662+1238511788.JPG': 'CGUKA265-09',\n",
       " 'image_dataset/Leucania_comma/IMG_1439+1238689060.JPG': 'CGUKA819-09',\n",
       " 'image_dataset/Limonius_poneli/BFB_Col_FK_11543+1365000124.jpg': 'FBCOO333-13',\n",
       " 'image_dataset/Longitarsus_exsoletus/BFB_Col_FK_10559+1367965148.jpg': 'FBCOP370-13',\n",
       " 'image_dataset/Leucania_comma/BC_ZSM_Lep_28080+1251278148.jpg': 'FBLMV100-09',\n",
       " 'image_dataset/Leucania_stenographa/IMG_0928+1212436870.JPG': 'IMLR046-08',\n",
       " 'image_dataset/Limnophila_poetica/10PROBE-11982+1295448496.jpg': 'JWDCG587-10',\n",
       " 'image_dataset/Macaria_nundinata/02-SRNP-11349-DHJ325684+1365105662.jpg': 'MHAGA681-06',\n",
       " 'image_dataset/Macaria_nundinata/02-SRNP-11349-DHJ325685+1365105662.jpg': 'MHAGA681-06',\n",
       " 'image_dataset/Limnophyes_edwardsi/SOE330+1204146132.jpg': 'MIDGE835-08',\n",
       " 'image_dataset/Leucania_diatrecta/BIOUG04700-C10+1360258606.JPG': 'NSWLP129-13',\n",
       " 'image_dataset/Leucania_diatrecta/IMG_5563+1342810508.jpg': 'PHLCD1703-12',\n",
       " 'image_dataset/Leucania_incognita/CNC_Noctuoidea12900+1168960316.jpg': 'RDNMD568-06',\n",
       " 'image_dataset/Lesmone_griseipennis/CNCLEP_80084+1294760194.jpg': 'RDNMJ556-11',\n",
       " 'image_dataset/Leucania_stenographa/BIOUG04674-A02+1361988008.JPG': 'WALPA3422-13',\n",
       " 'image_dataset/Leucania_cruegeri/BIOUG11096-C09+1393269454.jpg': 'WALPB1586-14',\n",
       " 'image_dataset/Liotryphon_punctulatus/BC-ZSM-HYM-27761-A06+1429045150.jpg': 'BCHYM7606-15',\n",
       " 'image_dataset/Liotryphon_punctulatus/BC-ZSM-HYM-27761-A08+1429045150.jpg': 'BCHYM7608-15',\n",
       " 'image_dataset/Leucania_incognita/06-SRNP-100526_DHJ600526+1144682362.jpg': 'BLPAA527-06',\n",
       " 'image_dataset/Lesmone_gentilis/06-SRNP-104722_DHJ604722+1158070802.jpg': 'BLPAF023-07',\n",
       " 'image_dataset/Lesmone_formularis/06-SRNP-109379_DHJ609379+1199992320.jpg': 'BLPBC356-07',\n",
       " 'image_dataset/Leucania_incognita/07-SRNP-102949_DHJ612913+1178800576.jpg': 'BLPBG130-07',\n",
       " 'image_dataset/Macaria_nundinata/07-SRNP-103975_DHJ613939+1182540928.jpg': 'BLPBH216-07',\n",
       " 'image_dataset/Lesmone_formularis/07-SRNP-108765_DHJ618729+1193088418.jpg': 'BLPCE400-08',\n",
       " 'image_dataset/Leucania_incognita/08-SRNP-105813-DHJ629877+1364925980.jpg': 'BLPDA738-09',\n",
       " 'image_dataset/Lesmone_formularis/08-SRNP-105815-DHJ629879+1364925980.jpg': 'BLPDA740-09',\n",
       " 'image_dataset/Lesmone_formularis/08-SRNP-108972-DHJ633036+1364926696.jpg': 'BLPDE137-09',\n",
       " 'image_dataset/Limodromus_assimilis/ZMUO.004697+1358538914.JPG': 'COLFD707-12',\n",
       " 'image_dataset/Longitarsus_exsoletus/ZMUO.007677+1371668820.JPG': 'COLFG279-13',\n",
       " 'image_dataset/Leucania_comma/BC_ZSM_Lep_21747+1236849076.JPG': 'GWORK417-09',\n",
       " 'image_dataset/Lesmone_griseipennis/IMG_8926+1240847116.JPG': 'IAWL157-09',\n",
       " 'image_dataset/Leucania_incognita/08-SRNP-100147_DHJ624211+1206984216.jpg': 'IBOLG148-08',\n",
       " 'image_dataset/Leucania_stenographa/IMG_7632+1230040976.JPG': 'IMLR869-08',\n",
       " 'image_dataset/Limnophila_poetica/10PROBE-15956+1294323538.jpg': 'JWDCK001-11',\n",
       " 'image_dataset/Leucania_diatrecta/06-NSWE-02051+1144171372.jpg': 'LNSWG171-06',\n",
       " 'image_dataset/Lesmone_gentilis/98-srnp-1172-dhj320236+1140463412.jpg': 'MHAUC587-06',\n",
       " 'image_dataset/Lesmone_gentilis/98-srnp-1172-dhj320237+1140463414.jpg': 'MHAUC587-06',\n",
       " 'image_dataset/Lesmone_gentilis/01-srnp-13194-dhj320242+1140446468.jpg': 'MHAUC590-06',\n",
       " 'image_dataset/Lesmone_gentilis/01-srnp-13194-dhj320243+1140446470.jpg': 'MHAUC590-06',\n",
       " 'image_dataset/Leucania_diatrecta/IMG_5512+1342810166.jpg': 'PHLCD1656-12',\n",
       " 'image_dataset/Lucilia_sericata/IMG_9500+1287587236.jpg': 'TDWGB112-10',\n",
       " 'image_dataset/Leucania_cruegeri/BIOUG18085-A11+1420730468.JPG': 'WALPC1477-14',\n",
       " 'image_dataset/Leucania_diatrecta/10ANIC_08076+1287774416.JPG': 'ANICL079-10',\n",
       " 'image_dataset/Lestica_alata/BC_ZSM_HYM_19856+1384885418.jpg': 'BCHYM1521-14',\n",
       " 'image_dataset/Macaria_nundinata/06-SRNP-108221_DHJ608221+1176732884.jpg': 'BLPBB138-07',\n",
       " 'image_dataset/Macaria_nundinata/07-SRNP-104569_DHJ614533+1183222114.jpg': 'BLPBH810-07',\n",
       " 'image_dataset/Lesmone_gentilis/07-SRNP-112255_DHJ622219+1202911210.jpg': 'BLPCI130-08',\n",
       " 'image_dataset/Lesmone_formularis/08-SRNP-106633-DHJ630697+1364926142.jpg': 'BLPDB618-09',\n",
       " 'image_dataset/Lesmone_formularis/08-SRNP-107606-DHJ631670+1364926368.jpg': 'BLPDC651-09',\n",
       " 'image_dataset/Lesmone_formularis/08-SRNP-108549-DHJ632613+1364926616.jpg': 'BLPDD654-09',\n",
       " 'image_dataset/Limodromus_assimilis/ZMUO.007245+1367984716.JPG': 'COLFE1450-13',\n",
       " 'image_dataset/Lygistopterus_sanguineus/BCZSMCOL01917+1284714504.JPG': 'FBCOC492-10',\n",
       " 'image_dataset/Limnophila_poetica/10PROBE-10786+1295819236.jpg': 'JWDCF531-10',\n",
       " 'image_dataset/Limnophila_poetica/10PROBE-11214+1295823056.jpg': 'JWDCG009-10',\n",
       " 'image_dataset/Limnophila_poetica/10PROBE-11226+1295454720.jpg': 'JWDCG021-10',\n",
       " 'image_dataset/Leucania_diatrecta/06-NSWE-00474+1140210864.jpg': 'LNSWE474-06',\n",
       " 'image_dataset/Leucania_dasycnema/06-NSWE-00519+1140469772.jpg': 'LNSWE519-06',\n",
       " 'image_dataset/Limnophyes_edwardsi/SOE194+1204136606.jpg': 'MIDGE598-08',\n",
       " 'image_dataset/Leucania_stenographa/IMG_6123+1201538736.JPG': 'NSWBB576-08',\n",
       " 'image_dataset/Leucania_diatrecta/IMG_8728+1310587344.jpg': 'PHLCC653-11',\n",
       " 'image_dataset/Leucania_diatrecta/IMG_8029+1343322774.jpg': 'PHLCD2897-12',\n",
       " 'image_dataset/Leucania_diatrecta/IMG_5952+1343061456.jpg': 'PHLCD442-12',\n",
       " 'image_dataset/Leucania_stenographa/IMG_0201+1343659014.jpg': 'PHSAU1905-12',\n",
       " 'image_dataset/Leucania_cruegeri/BIOUG09010-B06+1385999092.jpg': 'WALPB493-13',\n",
       " 'image_dataset/Leucania_cruegeri/BIOUG18347-A07+1422559740.JPG': 'WALPC2004-15',\n",
       " 'image_dataset/Leucania_stenographa/BIOUG17341-E05+1417014308.JPG': 'WALPC433-14',\n",
       " 'image_dataset/Lucilia_sericata/BCFORENSIK0759+1442843062.jpg': 'BCFOR750-15',\n",
       " 'image_dataset/Lesmone_formularis/07-SRNP-105058_DHJ615022+1342713340.jpg': 'BLPCA453-08',\n",
       " 'image_dataset/Lesmone_gentilis/07-SRNP-105513_DHJ615477+1342713376.jpg': 'BLPCA908-08',\n",
       " 'image_dataset/Lesmone_formularis/07-SRNP-107177_DHJ617141+1189007466.jpg': 'BLPCC692-08',\n",
       " 'image_dataset/Lesmone_formularis/08-SRNP-100788_DHJ624852+1214014746.jpg': 'BLPCK695-08',\n",
       " 'image_dataset/Longitarsus_luridus/BC_ZSM_COL_3240+1317126994.jpg': 'FBCOD960-11',\n",
       " 'image_dataset/Lestica_alata/BC_ZSM_HYM_17662+1363019146.jpg': 'GBACU3412-13',\n",
       " 'image_dataset/Limodromus_assimilis/GBOL_Col_FK_7293+1378227750.jpg': 'GBCOU2638-13',\n",
       " 'image_dataset/Lesmone_formularis/BC_ZSM_Lep_52668+1317748680.JPG': 'GWOSU367-11',\n",
       " 'image_dataset/Limnophila_poetica/10PROBE-10250+1289932170.jpg': 'JWDCE945-10',\n",
       " 'image_dataset/Limnophila_poetica/10PROBE-11218+1295454456.jpg': 'JWDCG013-10',\n",
       " 'image_dataset/Limnophyes_edwardsi/SOE313+1204146108.jpg': 'MIDGE818-08',\n",
       " 'image_dataset/Limnophyes_edwardsi/SOE367+1204146172.jpg': 'MIDGE872-08',\n",
       " 'image_dataset/Limnophyes_edwardsi/SOE375+1204146180.jpg': 'MIDGE880-08',\n",
       " 'image_dataset/Leucania_dasycnema/IMG_6192+1201538780.JPG': 'NSWBB629-08',\n",
       " 'image_dataset/Leucania_diatrecta/BIOUG04673-H07+1361556342.JPG': 'WALPA3416-13',\n",
       " 'image_dataset/Leucania_cruegeri/BIOUG04674-A10+1361987450.JPG': 'WALPA3430-13',\n",
       " 'image_dataset/Leucania_cruegeri/BIOUG04674-B02+1361988428.jpg': 'WALPA3434-13',\n",
       " 'image_dataset/Leucania_diatrecta/BIOUG04674-D02+1361981810.JPG': 'WALPA3458-13',\n",
       " 'image_dataset/Leucania_diatrecta/BIOUG04036-E09+1353944126.JPG': 'WALPA437-12',\n",
       " 'image_dataset/Leucania_diatrecta/IMG_5695+1365100606.jpg': 'WALPA5336-13',\n",
       " 'image_dataset/Leucania_cruegeri/bioug10399-c02+1391091948.jpg': 'WALPB1389-14',\n",
       " 'image_dataset/Leucania_cruegeri/BIOUG11096-A05+1393013168.JPG': 'WALPB1558-14',\n",
       " 'image_dataset/Leucania_cruegeri/BIOUG18346-D02+1421460240.JPG': 'WALPB5737-15',\n",
       " 'image_dataset/Leucania_incognita/06-SRNP-100456_DHJ600456+1144266766.jpg': 'BLPAA457-06',\n",
       " 'image_dataset/Macaria_nundinata/06-SRNP-100677_DHJ600677+1145477852.jpg': 'BLPAA678-06',\n",
       " 'image_dataset/Macaria_nundinata/06-SRNP-105767_DHJ605767+1201560780.jpg': 'BLPAG128-07',\n",
       " 'image_dataset/Lesmone_formularis/07-SRNP-101377_DHJ611341+1174583622.jpg': 'BLPBE438-07',\n",
       " 'image_dataset/Macaria_nundinata/07-SRNP-103089_DHJ613053+1178899554.jpg': 'BLPBG270-07',\n",
       " 'image_dataset/Macaria_nundinata/07-SRNP-103976_DHJ613940+1182540976.jpg': 'BLPBH217-07',\n",
       " 'image_dataset/Macaria_nundinata/07-SRNP-104572_DHJ614536+1183222374.jpg': 'BLPBH813-07',\n",
       " 'image_dataset/Leucania_incognita/07-SRNP-105092_DHJ615056+1342713342.jpg': 'BLPCA487-08',\n",
       " 'image_dataset/Lesmone_formularis/08-SRNP-100787_DHJ624851+1214014736.jpg': 'BLPCK694-08',\n",
       " 'image_dataset/Lesmone_formularis/08-SRNP-108980-DHJ633044+1364926698.jpg': 'BLPDE145-09',\n",
       " 'image_dataset/Leucania_comma/IMG_0679+1238437882.JPG': 'CGUKA278-09',\n",
       " 'image_dataset/Lesmone_griseipennis/IMG_0192+1264526292.JPG': 'CMAZA110-09',\n",
       " 'image_dataset/Lygistopterus_sanguineus/IMG_4109+1272649098.JPG': 'COLFA125-10',\n",
       " 'image_dataset/Limodromus_assimilis/ZMUO.004698+1358538920.JPG': 'COLFD708-12',\n",
       " 'image_dataset/Limodromus_assimilis/BCZSMCOL00716+1280932188.JPG': 'FBCOA811-10',\n",
       " 'image_dataset/Longitarsus_exsoletus/GBOL_Col_FK_2596+1365437646.jpg': 'GBCOD696-13',\n",
       " 'image_dataset/Limonius_poneli/GBOL_Col_FK_5210+1362439190.jpg': 'GBCOE840-13',\n",
       " 'image_dataset/Lygistopterus_sanguineus/GBOL_Col_FK_7126+1378220210.jpg': 'GBCOU2471-13',\n",
       " 'image_dataset/Lygistopterus_sanguineus/GBOL_Col_FK_7242+1378150452.jpg': 'GBCOU2587-13',\n",
       " 'image_dataset/Leucania_dasycnema/BIOUG04700-F01+1360259642.JPG': 'NSWLP156-13',\n",
       " 'image_dataset/Leucania_diatrecta/IMG_4141+1314038296.JPG': 'PHLCC941-11',\n",
       " 'image_dataset/Leucania_diatrecta/IMG_6010+1343061910.jpg': 'PHLCD495-12',\n",
       " 'image_dataset/Leucania_cruegeri/BIOUG11096-B09+1393249962.JPG': 'WALPB1574-14',\n",
       " 'image_dataset/Leucania_cruegeri/BIOUG12059-D05+1399987110.JPG': 'WALPB2354-14',\n",
       " 'image_dataset/Leucania_cruegeri/10ANIC_08057+1288052586.jpg': 'ANICL060-10',\n",
       " 'image_dataset/Lestica_alata/BC_ZSM_HYM_24215+1440710108.jpg': 'BCHYM11105-15',\n",
       " 'image_dataset/Lesmone_gentilis/06-SRNP-104413_DHJ604413+1197404880.jpg': 'BLPAE654-06',\n",
       " 'image_dataset/Lesmone_formularis/06-SRNP-109380_DHJ609380+1199992320.jpg': 'BLPBC357-07',\n",
       " 'image_dataset/Lesmone_formularis/08-SRNP-100213_DHJ624277+1213750566.jpg': 'BLPCK120-08',\n",
       " 'image_dataset/Leucania_incognita/08-SRNP-105857-DHJ629921+1364925982.jpg': 'BLPDA782-09',\n",
       " 'image_dataset/Leucania_incognita/08-SRNP-108969-DHJ633033+1364926696.jpg': 'BLPDE134-09',\n",
       " 'image_dataset/Leucania_comma/IMG_0827+1238692380.JPG': 'CGUKB174-09',\n",
       " 'image_dataset/Limnophyes_edwardsi/Fi300+1346872788.jpg': 'CHRFI340-11',\n",
       " 'image_dataset/Lochmaea_caprea/ZMUO.000510+1328285376.JPG': 'COLFA470-12',\n",
       " 'image_dataset/Longitarsus_exsoletus/ZMUO.007301+1367984902.JPG': 'COLFE1506-13',\n",
       " 'image_dataset/Lestica_alata/BC_ZSM_HYM_04414+1309803780.jpg': 'FBACA139-10',\n",
       " 'image_dataset/Longitarsus_luridus/BFB_Col_FK_5921+1333039222.jpg': 'FBCOH602-12',\n",
       " 'image_dataset/Limodromus_assimilis/BFB_Col_FK_8552+1336510680.jpg': 'FBCOI572-12',\n",
       " 'image_dataset/Limonius_poneli/BFB_Col_FK_10749+1366479986.jpg': 'FBCON204-13',\n",
       " 'image_dataset/Limnophila_poetica/10PROBE-11981+1295448434.jpg': 'JWDCG586-10',\n",
       " 'image_dataset/Lesmone_gentilis/06-SRNP-15258-DHJ366096+1220035076.jpg': 'MHAUG704-07',\n",
       " 'image_dataset/Lesmone_gentilis/06-SRNP-15258-DHJ366097+1220035076.jpg': 'MHAUG704-07',\n",
       " 'image_dataset/Leucania_stenographa/IMG_6679+1201791116.JPG': 'NSWBB926-08',\n",
       " 'image_dataset/Leucania_stenographa/IMG_6680+1201791118.JPG': 'NSWBB927-08',\n",
       " 'image_dataset/Leucania_dasycnema/IMG_4680+1304443164.JPG': 'NSWHM1670-11',\n",
       " 'image_dataset/Leucania_comma/CNC_Noctuoidea12694+1155844564.jpg': 'RDNMD362-06',\n",
       " 'image_dataset/Leucania_diatrecta/BIOUG04673-H09+1361556208.JPG': 'WALPA3418-13',\n",
       " 'image_dataset/Leucania_stenographa/BIOUG04674-A01+1361976510.JPG': 'WALPA3421-13',\n",
       " 'image_dataset/Leucania_diatrecta/BIOUG04674-C09+1361982224.JPG': 'WALPA3453-13',\n",
       " 'image_dataset/Liotryphon_punctulatus/BC-ZSM-HYM-27761-B06+1429045154.jpg': 'BCHYM7618-15',\n",
       " 'image_dataset/Leucania_incognita/06-SRNP-100183_DHJ600183+1140706126.jpg': 'BLPAA184-06',\n",
       " 'image_dataset/Lesmone_formularis/06-SRNP-109867_DHJ609867+1199992380.jpg': 'BLPBC844-07',\n",
       " 'image_dataset/Lesmone_formularis/07-SRNP-111774_DHJ621738+1202143986.jpg': 'BLPCH589-08',\n",
       " 'image_dataset/Lesmone_formularis/08-SRNP-108546-DHJ632610+1364926616.jpg': 'BLPDD651-09',\n",
       " 'image_dataset/Lochmaea_caprea/ZMUO.005441+1360618270.JPG': 'COLFE596-13',\n",
       " 'image_dataset/Litargus_connexus/BFB_Col_FK_7320+1337469718.jpg': 'FBCOI860-12',\n",
       " 'image_dataset/Longitarsus_exsoletus/BFB_Col_FK_10412+1367955774.jpg': 'FBCOQ152-13',\n",
       " 'image_dataset/Litargus_connexus/GBOL_Col_FK_1027+1341161928.jpg': 'GBCOB457-12',\n",
       " 'image_dataset/Litargus_connexus/GBOL_Col_FK_2805+1348852284.jpg': 'GBCOL240-12',\n",
       " 'image_dataset/Lesmone_formularis/IMG_3929+1277826214.jpg': 'INCTA242-10',\n",
       " 'image_dataset/Lesmone_griseipennis/IMG_2881+1243359652.JPG': 'LMEMB210-09',\n",
       " 'image_dataset/Leucania_diatrecta/06-NSWE-00504+1140442078.jpg': 'LNSWE504-06',\n",
       " 'image_dataset/Leucania_diatrecta/06-NSWE-01368+1142281266.jpg': 'LNSWF428-06',\n",
       " 'image_dataset/Lesmone_gentilis/97-srnp-238-dhj320238+1140463100.jpg': 'MHAUC588-06',\n",
       " 'image_dataset/Lesmone_gentilis/97-srnp-238-dhj320239+1140463102.jpg': 'MHAUC588-06',\n",
       " 'image_dataset/Lesmone_formularis/06-SRNP-47-DHJ409313+1365550100.jpg': 'MHMXD729-06',\n",
       " 'image_dataset/Lesmone_formularis/06-SRNP-47-DHJ409321+1365550100.jpg': 'MHMXD729-06',\n",
       " 'image_dataset/Lesmone_formularis/06-SRNP-47-DHJ409319+1365550100.jpg': 'MHMXD729-06',\n",
       " 'image_dataset/Lesmone_formularis/06-SRNP-47-DHJ409322+1365550100.jpg': 'MHMXD729-06',\n",
       " 'image_dataset/Lesmone_formularis/06-SRNP-47-DHJ344896+1365545444.jpg': 'MHMXD729-06',\n",
       " 'image_dataset/Lesmone_formularis/06-SRNP-47-DHJ344897+1365545444.jpg': 'MHMXD729-06',\n",
       " 'image_dataset/Lesmone_formularis/06-SRNP-47-DHJ409314+1365550100.jpg': 'MHMXD729-06',\n",
       " 'image_dataset/Lesmone_formularis/06-SRNP-47-DHJ409315+1365550100.jpg': 'MHMXD729-06',\n",
       " 'image_dataset/Lesmone_formularis/06-SRNP-47-DHJ409320+1365550100.jpg': 'MHMXD729-06',\n",
       " 'image_dataset/Lesmone_formularis/06-SRNP-47-DHJ409316+1365550100.jpg': 'MHMXD729-06',\n",
       " 'image_dataset/Lesmone_formularis/06-SRNP-47-DHJ409318+1365550100.jpg': 'MHMXD729-06',\n",
       " 'image_dataset/Lesmone_formularis/06-SRNP-47-DHJ409317+1365550100.jpg': 'MHMXD729-06',\n",
       " 'image_dataset/Limnophyes_edwardsi/SOE193+1204136606.jpg': 'MIDGE597-08',\n",
       " 'image_dataset/Limnophyes_edwardsi/SOE354+1204149762.jpg': 'MIDGE859-08',\n",
       " 'image_dataset/Leucania_dasycnema/BIOUG04701-C04+1360245532.jpg': 'NSWLP218-13',\n",
       " 'image_dataset/Leucania_comma/TLMF_Lep_09226+1364238082.JPG': 'PHLAI663-13',\n",
       " 'image_dataset/Lesmone_griseipennis/CNCLEP_70141_resize+1294762790.jpg': 'RDNMJ113-10',\n",
       " 'image_dataset/Lucilia_sericata/IMG_6668+1252418876.JPG': 'USDIP248-09',\n",
       " 'image_dataset/Leucania_diatrecta/BIOUG04674-C11+1361982056.JPG': 'WALPA3455-13',\n",
       " 'image_dataset/Leucania_diatrecta/BIOUG04674-E09+1361980492.JPG': 'WALPA3477-13',\n",
       " 'image_dataset/Leucania_cruegeri/BIOUG11099-F08+1393533220.jpg': 'WALPB1906-14',\n",
       " 'image_dataset/Lesmone_formularis/BC_ZSM_Lep_32214+1259931158.JPG': 'GWORR718-10',\n",
       " 'image_dataset/Leucania_diatrecta/B-0167_E02+1191561138.jpg': 'LNSWC654-08',\n",
       " 'image_dataset/Leucania_diatrecta/06-NSWE-02179+1144333382.jpg': 'LNSWG299-06',\n",
       " 'image_dataset/Leucania_dasycnema/IMG_6232+1201544010.JPG': 'NSWBB473-08',\n",
       " 'image_dataset/Eublemma_anachoresis/10ANIC_06760+1287792298.jpg': 'ANICJ763-10',\n",
       " 'image_dataset/Ethmia_hammella/INB0004238426-EPR000284+1327348798.JPG': 'ASARD142-11',\n",
       " 'image_dataset/Ethmia_laphamorum/06-SRNP-104469_DHJ604469+1197404880.jpg': 'BLPAE710-06',\n",
       " 'image_dataset/Ethmia_mnesicosma/06-SRNP-105503_DHJ605503+1159370338.jpg': 'BLPAF804-07',\n",
       " 'image_dataset/Ethmia_scythropa/07-SRNP-109612_DHJ619576+1199756248.jpg': 'BLPCF307-08',\n",
       " 'image_dataset/Ethmia_miriamschulmanae/07-SRNP-113409_DHJ623373+1203966232.jpg': 'BLPCJ344-08',\n",
       " 'image_dataset/Ethmia_scythropa/07-SRNP-114003_DHJ623967+1204651900.jpg': 'BLPCJ938-08',\n",
       " 'image_dataset/Ethmia_scythropa/08-SRNP-100234_DHJ624298+1213752552.jpg': 'BLPCK141-08',\n",
       " 'image_dataset/Ethmia_hammella/10-SRNP-102165-DHJ647040+1364927516.jpg': 'BLPDN1990-10',\n",
       " 'image_dataset/Ethmia_stephenrumseyi/10-SRNP-109721_DHJ654596+1309192516.jpg': 'BLPDU299-11',\n",
       " 'image_dataset/Ethmia_stephenrumseyi/10-SRNP-109721_DHJ654596+1309874362.jpg': 'BLPDU299-11',\n",
       " 'image_dataset/Ethmia_scythropa/10-SRNP-110183_DHJ655058+1309192642.jpg': 'BLPDU761-11',\n",
       " 'image_dataset/Ethmia_stephenrumseyi/10-SRNP-111507_DHJ656382+1309193104.jpg': 'BLPDV850-11',\n",
       " 'image_dataset/Ethmia_stephenrumseyi/10-SRNP-111507_DHJ656382+1309874930.jpg': 'BLPDV850-11',\n",
       " 'image_dataset/Ethmia_hammella/10-SRNP-113520_DHJ658395+1309896702.jpg': 'BLPDX393-11',\n",
       " 'image_dataset/Ethmia_mnesicosma/10-SRNP-115642_DHJ660517+1309189958.jpg': 'BLPDZ235-11',\n",
       " 'image_dataset/Ethmia_laphamorum/11-SRNP-103375_DHJ664045+1349455162.jpg': 'BLPEC818-11',\n",
       " 'image_dataset/Ethmia_helenmillerae/11-SRNP-103735-DHJ664405+1332184876.jpg': 'BLPED133-11',\n",
       " 'image_dataset/Ethmia_helenmillerae/11-SRNP-103737-DHJ664407+1332184878.jpg': 'BLPED135-11',\n",
       " 'image_dataset/Ethmia_laphamorum/11-SRNP-105666-DHJ666336+1331927914.JPG': 'BLPED2064-12',\n",
       " 'image_dataset/Ethmia_helenmillerae/11-SRNP-103886-DHJ664556+1332184894.jpg': 'BLPED284-11',\n",
       " 'image_dataset/Ethmia_hammella/11-SRNP-104212-DHJ664882+1332185326.jpg': 'BLPED610-11',\n",
       " 'image_dataset/Ethmia_randyjonesi/12-SRNP-103634-DHJ670567+1364927922.JPG': 'BLPEF1450-12',\n",
       " 'image_dataset/Ethmia_lichyi/04-SRNP-27125-DHJ338874+1365544654.jpg': 'MHAYA162-06',\n",
       " 'image_dataset/Ethmia_lichyi/04-SRNP-27125-DHJ338875+1365544654.jpg': 'MHAYA162-06',\n",
       " 'image_dataset/Ethmia_lichyi/06-SRNP-30891-DHJ349992+1175950414.jpg': 'MHMXD1155-06',\n",
       " 'image_dataset/Ethmia_lichyi/06-SRNP-30891-DHJ349993+1175950416.jpg': 'MHMXD1155-06',\n",
       " 'image_dataset/Eublemma_anachoresis/BIOUG08827-F02+1385143606.jpg': 'WALPB157-13',\n",
       " 'image_dataset/Eublemma_anachoresis/10ANIC_06758+1287792254.jpg': 'ANICJ761-10',\n",
       " 'image_dataset/Ethmia_hammella/INB0004263678-EPR000744+1327350036.JPG': 'ASARD371-11',\n",
       " 'image_dataset/Ethmia_randyjonesi/07-SRNP-106731_DHJ616695+1188328198.jpg': 'BLPCC246-08',\n",
       " 'image_dataset/Ethmia_randyjonesi/07-SRNP-108189_DHJ618153+1191609782.jpg': 'BLPCD764-08',\n",
       " 'image_dataset/Ethmia_scythropa/07-SRNP-110890_DHJ620854+1200676246.jpg': 'BLPCG645-08',\n",
       " 'image_dataset/Ethmia_laphamorum/07-SRNP-112628_DHJ622592+1203104624.jpg': 'BLPCI503-08',\n",
       " 'image_dataset/Ethmia_scythropa/08-SRNP-104018_DHJ628082+1221834780.jpg': 'BLPCO541-08',\n",
       " 'image_dataset/Ethmia_laphamorum/08-SRNP-109049-DHJ633113+1364926788.jpg': 'BLPDE214-09',\n",
       " 'image_dataset/Ethmia_helenmillerae/09-SRNP-105790_DHJ639025+1249396338.jpg': 'BLPDK862-09',\n",
       " 'image_dataset/Ethmia_scythropa/09-SRNP-110356-DHJ643591+1364927002.jpg': 'BLPDM979-10',\n",
       " 'image_dataset/Ethmia_hammella/10-SRNP-105838_DHJ650713+1274825866.jpg': 'BLPDR213-10',\n",
       " 'image_dataset/Ethmia_scythropa/10-SRNP-106843_DHJ651718+1275663812.jpg': 'BLPDS219-10',\n",
       " 'image_dataset/Ethmia_hammella/10-SRNP-113600_DHJ658475+1309896806.jpg': 'BLPDX473-11',\n",
       " 'image_dataset/Ethmia_scythropa/11-SRNP-100048_DHJ660718+1309185556.jpg': 'BLPDZ436-11',\n",
       " 'image_dataset/Ethmia_laphamorum/11-SRNP-103376_DHJ664046+1349455162.jpg': 'BLPEC819-11',\n",
       " 'image_dataset/Ethmia_laphamorum/11-SRNP-105836-DHJ666506+1331928312.JPG': 'BLPED2234-12',\n",
       " 'image_dataset/Ethmia_laphamorum/11-SRNP-106004-DHJ666674+1331928330.JPG': 'BLPED2402-12',\n",
       " 'image_dataset/Ethmia_miriamschulmanae/11-SRNP-106210-DHJ666880+1331928354.JPG': 'BLPED2608-12',\n",
       " 'image_dataset/Ethmia_miriamschulmanae/11-SRNP-104250-DHJ664920+1332185332.JPG': 'BLPED648-11',\n",
       " 'image_dataset/Ethmia_randyjonesi/12-SRNP-101658-DHJ668591+1344956436.JPG': 'BLPEE1659-12',\n",
       " 'image_dataset/Ethmia_randyjonesi/12-SRNP-102378-DHJ669311+1364927618.JPG': 'BLPEF194-12',\n",
       " 'image_dataset/Eublemma_anachoresis/IM10_0120+1304430978.JPG': 'IMLR1339-11',\n",
       " 'image_dataset/Ethmia_lichyi/06-SRNP-5344-DHJ354386+1175950442.jpg': 'MHMXF078-07',\n",
       " 'image_dataset/Ethmia_lichyi/09-SRNP-4051-DHJ513093+1260287102.jpg': 'MHMYE1621-09',\n",
       " 'image_dataset/Ethmia_laphamorum/06-SRNP-104470_DHJ604470+1197404880.jpg': 'BLPAE711-06',\n",
       " 'image_dataset/Ethmia_laphamorum/07-SRNP-112633_DHJ622597+1203104738.jpg': 'BLPCI508-08',\n",
       " 'image_dataset/Ethmia_scythropa/09-SRNP-101597_DHJ634832+1237060028.jpg': 'BLPDG053-09',\n",
       " 'image_dataset/Ethmia_miriamschulmanae/09-SRNP-109301_DHJ642536+1257439180.jpg': 'BLPDL1919-10',\n",
       " 'image_dataset/Ethmia_laphamorum/09-SRNP-111111-DHJ644346+1364927130.jpg': 'BLPDM1734-10',\n",
       " 'image_dataset/Ethmia_laphamorum/09-SRNP-111287-DHJ644522+1364927208.jpg': 'BLPDM1910-10',\n",
       " 'image_dataset/Ethmia_laphamorum/09-SRNP-110090-DHJ643325+1364926994.jpg': 'BLPDM713-10',\n",
       " 'image_dataset/Ethmia_hammella/10-SRNP-102880-DHJ647755+1268259300.jpg': 'BLPDO298-10',\n",
       " 'image_dataset/Ethmia_scythropa/10-SRNP-111815_DHJ656690+1309193216.jpg': 'BLPDV1158-11',\n",
       " 'image_dataset/Ethmia_scythropa/10-SRNP-111815_DHJ656690+1309875040.jpg': 'BLPDV1158-11',\n",
       " 'image_dataset/Ethmia_hammella/10-SRNP-111904_DHJ656779+1309193218.jpg': 'BLPDW012-11',\n",
       " 'image_dataset/Ethmia_hammella/10-SRNP-111904_DHJ656779+1309875044.jpg': 'BLPDW012-11',\n",
       " 'image_dataset/Ethmia_scythropa/11-SRNP-101557_DHJ662227+1303239860.jpg': 'BLPEB045-11',\n",
       " 'image_dataset/Ethmia_scythropa/11-SRNP-102528_DHJ663198+1305594420.jpg': 'BLPEB1016-11',\n",
       " 'image_dataset/Ethmia_hammella/11-SRNP-101729_DHJ662399+1303327400.jpg': 'BLPEB217-11',\n",
       " 'image_dataset/Ethmia_laphamorum/11-SRNP-103377_DHJ664047+1349455162.jpg': 'BLPEC820-11',\n",
       " 'image_dataset/Ethmia_laphamorum/11-SRNP-103655-DHJ664325+1332184486.jpg': 'BLPED053-11',\n",
       " 'image_dataset/Ethmia_laphamorum/11-SRNP-105730-DHJ666400+1331927922.JPG': 'BLPED2128-12',\n",
       " 'image_dataset/Ethmia_laphamorum/11-SRNP-105761-DHJ666431+1331927924.JPG': 'BLPED2159-12',\n",
       " 'image_dataset/Ethmia_miriamschulmanae/11-SRNP-105769-DHJ666439+1331927926.JPG': 'BLPED2167-12',\n",
       " 'image_dataset/Ethmia_laphamorum/11-SRNP-106187-DHJ666857+1331928350.JPG': 'BLPED2585-12',\n",
       " 'image_dataset/Ethmia_randyjonesi/12-SRNP-103633-DHJ670566+1364927922.JPG': 'BLPEF1449-12',\n",
       " 'image_dataset/Ethmia_scythropa/05-SRNP-22123-DHJ338833+1365544650.jpg': 'MHAYA141-06',\n",
       " 'image_dataset/Ethmia_scythropa/05-SRNP-22123-DHJ338832+1365544650.jpg': 'MHAYA141-06',\n",
       " 'image_dataset/Ethmia_scythropa/05-SRNP-22638-DHJ338835+1365544652.jpg': 'MHAYA142-06',\n",
       " 'image_dataset/Ethmia_scythropa/05-SRNP-22638-DHJ338834+1365544652.jpg': 'MHAYA142-06',\n",
       " 'image_dataset/Ethmia_lichyi/05-SRNP-3596-DHJ338873+1365544652.jpg': 'MHAYA161-06',\n",
       " 'image_dataset/Ethmia_lichyi/05-SRNP-3596-DHJ338872+1365544652.jpg': 'MHAYA161-06',\n",
       " 'image_dataset/Eublemma_anachoresis/BIOUG18084-B05+1420765080.JPG': 'WALPC1388-14',\n",
       " 'image_dataset/Ethmia_hammella/INB0004238425-EPR000282+1327348798.JPG': 'ASARD141-11',\n",
       " 'image_dataset/Ethmia_hammella/INB0003230769-EPR000355+1327348772.JPG': 'ASARD177-11',\n",
       " 'image_dataset/Ethmia_hammella/INB0003230769-EPR000354+1327348772.JPG': 'ASARD177-11',\n",
       " 'image_dataset/Ethmia_laphamorum/06-SRNP-100149_DHJ600149+1140706032.jpg': 'BLPAA150-06',\n",
       " 'image_dataset/Ethmia_scythropa/06-SRNP-109030_DHJ609030+1199992260.jpg': 'BLPBC007-07',\n",
       " 'image_dataset/Ethmia_lichyi/07-SRNP-100482_DHJ610446+1179495268.jpg': 'BLPBD483-07',\n",
       " 'image_dataset/Ethmia_scythropa/07-SRNP-108184_DHJ618148+1191609524.jpg': 'BLPCD759-08',\n",
       " 'image_dataset/Ethmia_helenmillerae/09-SRNP-104289_DHJ637524+1244134480.JPG': 'BLPDI857-09',\n",
       " 'image_dataset/Ethmia_laphamorum/09-SRNP-104660_DHJ637895+1245342536.JPG': 'BLPDJ278-09',\n",
       " 'image_dataset/Ethmia_helenmillerae/09-SRNP-104719_DHJ637954+1245428358.JPG': 'BLPDJ337-09',\n",
       " 'image_dataset/Ethmia_miriamschulmanae/09-SRNP-104889_DHJ638124+1245688444.JPG': 'BLPDJ507-09',\n",
       " 'image_dataset/Ethmia_helenmillerae/09-SRNP-105816_DHJ639051+1249398758.jpg': 'BLPDK888-09',\n",
       " 'image_dataset/Ethmia_scythropa/09-SRNP-110525-DHJ643760+1364927008.jpg': 'BLPDM1148-10',\n",
       " 'image_dataset/Ethmia_hammella/10-SRNP-102291-DHJ647166+1364927520.jpg': 'BLPDN2116-10',\n",
       " 'image_dataset/Ethmia_hammella/10-SRNP-102373-DHJ647248+1364927524.jpg': 'BLPDN2198-10',\n",
       " 'image_dataset/Ethmia_stephenrumseyi/10-SRNP-111148_DHJ656023+1309192990.jpg': 'BLPDV491-11',\n",
       " 'image_dataset/Ethmia_stephenrumseyi/10-SRNP-111148_DHJ656023+1309874820.jpg': 'BLPDV491-11',\n",
       " 'image_dataset/Ethmia_hammella/10-SRNP-111207_DHJ656082+1309192992.jpg': 'BLPDV550-11',\n",
       " 'image_dataset/Ethmia_hammella/10-SRNP-111207_DHJ656082+1309874822.jpg': 'BLPDV550-11',\n",
       " 'image_dataset/Ethmia_mnesicosma/11-SRNP-100967_DHJ661637+1301420748.jpg': 'BLPEA500-11',\n",
       " 'image_dataset/Ethmia_scythropa/11-SRNP-102657_DHJ663327+1305681494.jpg': 'BLPEC100-11',\n",
       " 'image_dataset/Ethmia_miriamschulmanae/11-SRNP-103439_DHJ664109+1349455212.jpg': 'BLPEC882-11',\n",
       " 'image_dataset/Ethmia_miriamschulmanae/11-SRNP-106115-DHJ666785+1331928342.JPG': 'BLPED2513-12',\n",
       " 'image_dataset/Ethmia_helenmillerae/11-SRNP-103910-DHJ664580+1332184898.jpg': 'BLPED308-11',\n",
       " 'image_dataset/Ethmia_lichyi/06-SRNP-30714-DHJ338552+1365544650.jpg': 'MHAYA001-06',\n",
       " 'image_dataset/Ethmia_lichyi/06-SRNP-30714-DHJ338553+1365544650.jpg': 'MHAYA001-06',\n",
       " 'image_dataset/Ethmia_lichyi/06-SRNP-34073-DHJ354388+1175950424.jpg': 'MHMXF080-07',\n",
       " 'image_dataset/Ethmia_mnesicosma/06-SRNP-16419-DHJ354402+1175950412.jpg': 'MHMXF094-07',\n",
       " 'image_dataset/Ethmia_lichyi/09-SRNP-23038-DHJ520140+1274984246.jpg': 'MHMYG2174-10',\n",
       " 'image_dataset/Ethmia_lichyi/09-SRNP-23038-DHJ520141+1274984328.jpg': 'MHMYG2174-10',\n",
       " 'image_dataset/Ethmia_stephenrumseyi/INB0004078533-EPR000359+1327348780.JPG': 'ASARD179-11',\n",
       " 'image_dataset/Ethmia_stephenrumseyi/INB0004078533-EPR000358+1327348780.JPG': 'ASARD179-11',\n",
       " 'image_dataset/Ethmia_laphamorum/06-SRNP-105501_DHJ605501+1159370306.jpg': 'BLPAF802-07',\n",
       " 'image_dataset/Ethmia_scythropa/07-SRNP-101025_DHJ610989+1173901934.jpg': 'BLPBE086-07',\n",
       " 'image_dataset/Ethmia_scythropa/07-SRNP-108185_DHJ618149+1191609574.jpg': 'BLPCD760-08',\n",
       " 'image_dataset/Ethmia_laphamorum/07-SRNP-112630_DHJ622594+1203104670.jpg': 'BLPCI505-08',\n",
       " 'image_dataset/Ethmia_laphamorum/09-SRNP-104516_DHJ637751+1245247532.JPG': 'BLPDJ134-09',\n",
       " 'image_dataset/Ethmia_mnesicosma/09-SRNP-109244_DHJ642479+1257370938.jpg': 'BLPDL1862-10',\n",
       " 'image_dataset/Ethmia_hammella/10-SRNP-106845_DHJ651720+1275663882.jpg': 'BLPDS221-10',\n",
       " 'image_dataset/Ethmia_scythropa/10-SRNP-109720_DHJ654595+1309192516.jpg': 'BLPDU298-11',\n",
       " 'image_dataset/Ethmia_scythropa/10-SRNP-109720_DHJ654595+1309874362.jpg': 'BLPDU298-11',\n",
       " 'image_dataset/Ethmia_stephenrumseyi/10-SRNP-111813_DHJ656688+1309193216.jpg': 'BLPDV1156-11',\n",
       " 'image_dataset/Ethmia_stephenrumseyi/10-SRNP-111813_DHJ656688+1309875040.jpg': 'BLPDV1156-11',\n",
       " 'image_dataset/Ethmia_stephenrumseyi/10-SRNP-112268_DHJ657143+1309896330.jpg': 'BLPDW376-11',\n",
       " 'image_dataset/Ethmia_stephenrumseyi/10-SRNP-112268_DHJ657143+1309806226.jpg': 'BLPDW376-11',\n",
       " 'image_dataset/Ethmia_hammella/11-SRNP-101563_DHJ662233+1303240226.jpg': 'BLPEB051-11',\n",
       " 'image_dataset/Ethmia_hammella/11-SRNP-102115_DHJ662785+1303919858.jpg': 'BLPEB603-11',\n",
       " 'image_dataset/Ethmia_hammella/11-SRNP-102974_DHJ663644+1305828322.jpg': 'BLPEC417-11',\n",
       " 'image_dataset/Ethmia_helenmillerae/11-SRNP-103509_DHJ664179+1349455212.jpg': 'BLPEC952-11',\n",
       " 'image_dataset/Ethmia_helenmillerae/11-SRNP-103734-DHJ664404+1332184876.jpg': 'BLPED132-11',\n",
       " 'image_dataset/Ethmia_miriamschulmanae/11-SRNP-105569-DHJ666239+1331927902.JPG': 'BLPED1967-12',\n",
       " 'image_dataset/Ethmia_laphamorum/11-SRNP-105665-DHJ666335+1331927914.JPG': 'BLPED2063-12',\n",
       " 'image_dataset/Ethmia_helenmillerae/11-SRNP-103927-DHJ664597+1332184900.jpg': 'BLPED325-11',\n",
       " 'image_dataset/Ethmia_miriamschulmanae/12-SRNP-102025-DHJ668958+1344956490.JPG': 'BLPEE2026-12',\n",
       " 'image_dataset/Ethmia_randyjonesi/12-SRNP-103635-DHJ670568+1364927922.JPG': 'BLPEF1451-12',\n",
       " 'image_dataset/Ethmia_scythropa/05-SRNP-22148-DHJ338824+1365544650.jpg': 'MHAYA137-06',\n",
       " 'image_dataset/Ethmia_scythropa/05-SRNP-22148-DHJ338825+1365544650.jpg': 'MHAYA137-06',\n",
       " 'image_dataset/Ethmia_scythropa/06-SRNP-31571-DHJ354380+1175950422.jpg': 'MHMXF072-07',\n",
       " 'image_dataset/Ethmia_lichyi/06-SRNP-5343-DHJ354391+1175950440.jpg': 'MHMXF083-07',\n",
       " 'image_dataset/Eublemma_anachoresis/BIOUG18346-A01+1421460240.JPG': 'WALPB5700-15',\n",
       " 'image_dataset/Ethmia_hammella/INB0004263681-EPR000750+1327350040.JPG': 'ASARD374-11',\n",
       " 'image_dataset/Ethmia_scythropa/07-SRNP-100481_DHJ610445+1179495200.jpg': 'BLPBD482-07',\n",
       " 'image_dataset/Ethmia_laphamorum/07-SRNP-105354_DHJ615318+1342713374.jpg': 'BLPCA749-08',\n",
       " 'image_dataset/Ethmia_laphamorum/07-SRNP-112632_DHJ622596+1203104718.jpg': 'BLPCI507-08',\n",
       " 'image_dataset/Ethmia_laphamorum/08-SRNP-108647-DHJ632711+1364926686.jpg': 'BLPDD752-09',\n",
       " 'image_dataset/Ethmia_laphamorum/09-SRNP-104659_DHJ637894+1245342296.JPG': 'BLPDJ277-09',\n",
       " 'image_dataset/Ethmia_helenmillerae/09-SRNP-104718_DHJ637953+1245427868.JPG': 'BLPDJ336-09',\n",
       " 'image_dataset/Ethmia_helenmillerae/09-SRNP-107864_DHJ641099+1252772582.jpg': 'BLPDL482-10',\n",
       " 'image_dataset/Ethmia_helenmillerae/09-SRNP-107963_DHJ641198+1254839108.jpg': 'BLPDL581-10',\n",
       " 'image_dataset/Ethmia_hammella/10-SRNP-106253_DHJ651128+1274989924.jpg': 'BLPDR628-10',\n",
       " 'image_dataset/Ethmia_lichyi/10-SRNP-109148_DHJ654023+1309969248.jpg': 'BLPDT1721-10',\n",
       " 'image_dataset/Ethmia_stephenrumseyi/10-SRNP-111145_DHJ656020+1309192990.jpg': 'BLPDV488-11',\n",
       " 'image_dataset/Ethmia_stephenrumseyi/10-SRNP-111145_DHJ656020+1309874820.jpg': 'BLPDV488-11',\n",
       " 'image_dataset/Ethmia_stephenrumseyi/10-SRNP-111509_DHJ656384+1309193104.jpg': 'BLPDV852-11',\n",
       " 'image_dataset/Ethmia_stephenrumseyi/10-SRNP-111509_DHJ656384+1309874930.jpg': 'BLPDV852-11',\n",
       " 'image_dataset/Ethmia_stephenrumseyi/10-SRNP-112788_DHJ657663+1309806356.jpg': 'BLPDW896-11',\n",
       " 'image_dataset/Ethmia_stephenrumseyi/10-SRNP-112788_DHJ657663+1309896452.jpg': 'BLPDW896-11',\n",
       " 'image_dataset/Ethmia_laphamorum/11-SRNP-103654-DHJ664324+1332184486.jpg': 'BLPED052-11',\n",
       " 'image_dataset/Ethmia_helenmillerae/11-SRNP-103738-DHJ664408+1332184878.jpg': 'BLPED136-11',\n",
       " 'image_dataset/Ethmia_laphamorum/11-SRNP-105667-DHJ666337+1331927914.JPG': 'BLPED2065-12',\n",
       " 'image_dataset/Ethmia_laphamorum/11-SRNP-104110-DHJ664780+1332184926.jpg': 'BLPED508-11',\n",
       " 'image_dataset/Ethmia_hammella/11-SRNP-104246-DHJ664916+1332185332.JPG': 'BLPED644-11',\n",
       " 'image_dataset/Ethmia_laphamorum/11-SRNP-104252-DHJ664922+1332185332.JPG': 'BLPED650-11',\n",
       " 'image_dataset/Ethmia_lichyi/05-SRNP-3595-DHJ338871+1365544652.jpg': 'MHAYA160-06',\n",
       " 'image_dataset/Ethmia_lichyi/05-SRNP-3595-DHJ338870+1365544652.jpg': 'MHAYA160-06',\n",
       " 'image_dataset/Ethmia_lichyi/05-SRNP-22648-DHJ338879+1365544654.jpg': 'MHAYA164-06',\n",
       " 'image_dataset/Ethmia_lichyi/05-SRNP-22648-DHJ338878+1365544654.jpg': 'MHAYA164-06',\n",
       " 'image_dataset/Ethmia_lichyi/07-SRNP-31214-DHJ372053+1190650056.jpg': 'MHMXL755-07',\n",
       " 'image_dataset/Ethmia_lichyi/07-SRNP-31214-DHJ372052+1190649864.jpg': 'MHMXL755-07',\n",
       " 'image_dataset/Ethmia_lichyi/09-SRNP-23036-DHJ520142+1274984200.jpg': 'MHMYG2175-10',\n",
       " 'image_dataset/Ethmia_lichyi/09-SRNP-23036-DHJ520143+1274984222.jpg': 'MHMYG2175-10',\n",
       " 'image_dataset/Eublemma_anachoresis/BIOUG08829-D10+1385745162.jpg': 'WALPB331-13',\n",
       " 'image_dataset/Ethmia_hammella/INB0004166236-EPR000350+1327348782.JPG': 'ASARD175-11',\n",
       " 'image_dataset/Ethmia_hammella/INB0004166236-EPR000351+1327348782.JPG': 'ASARD175-11',\n",
       " 'image_dataset/Ethmia_lichyi/INB0003230743-EPR000371+1327348772.JPG': 'ASARD185-11',\n",
       " 'image_dataset/Ethmia_lichyi/INB0003230743-EPR000370+1327348772.JPG': 'ASARD185-11',\n",
       " 'image_dataset/Ethmia_hammella/INB0004263682-EPR000752+1327350040.JPG': 'ASARD375-11',\n",
       " 'image_dataset/Ethmia_scythropa/07-SRNP-109611_DHJ619575+1199756222.jpg': 'BLPCF306-08',\n",
       " 'image_dataset/Ethmia_laphamorum/07-SRNP-112359_DHJ622323+1203012758.jpg': 'BLPCI234-08',\n",
       " 'image_dataset/Ethmia_scythropa/08-SRNP-101760_DHJ625824+1219415922.jpg': 'BLPCM163-08',\n",
       " 'image_dataset/Ethmia_laphamorum/09-SRNP-104663_DHJ637898+1245342598.JPG': 'BLPDJ281-09',\n",
       " 'image_dataset/Ethmia_hammella/10-SRNP-105523-DHJ650398+1274374216.jpg': 'BLPDQ897-10',\n",
       " 'image_dataset/Ethmia_hammella/10-SRNP-107360_DHJ652235+1277571822.jpg': 'BLPDS736-10',\n",
       " 'image_dataset/Ethmia_stephenrumseyi/10-SRNP-111146_DHJ656021+1309192990.jpg': 'BLPDV489-11',\n",
       " 'image_dataset/Ethmia_stephenrumseyi/10-SRNP-111146_DHJ656021+1309874820.jpg': 'BLPDV489-11',\n",
       " 'image_dataset/Ethmia_hammella/11-SRNP-102543_DHJ663213+1305594864.jpg': 'BLPEB1031-11',\n",
       " 'image_dataset/Ethmia_laphamorum/11-SRNP-103565_DHJ664235+1349455214.jpg': 'BLPEC1008-11',\n",
       " 'image_dataset/Ethmia_laphamorum/11-SRNP-103658-DHJ664328+1332184486.jpg': 'BLPED056-11',\n",
       " 'image_dataset/Ethmia_laphamorum/11-SRNP-105670-DHJ666340+1331927914.JPG': 'BLPED2068-12',\n",
       " 'image_dataset/Ethmia_laphamorum/11-SRNP-105671-DHJ666341+1331927914.JPG': 'BLPED2069-12',\n",
       " 'image_dataset/Ethmia_helenmillerae/11-SRNP-104007-DHJ664677+1332184910.jpg': 'BLPED405-11',\n",
       " 'image_dataset/Ethmia_miriamschulmanae/11-SRNP-104082-DHJ664752+1332184922.jpg': 'BLPED480-11',\n",
       " 'image_dataset/Ethmia_scythropa/05-SRNP-22063-DHJ338839+1365544652.jpg': 'MHAYA144-06',\n",
       " 'image_dataset/Ethmia_scythropa/05-SRNP-22063-DHJ338838+1365544652.jpg': 'MHAYA144-06',\n",
       " 'image_dataset/Ethmia_mnesicosma/04-SRNP-45698-DHJ338849+1365544652.jpg': 'MHAYA149-06',\n",
       " 'image_dataset/Ethmia_mnesicosma/04-SRNP-45698-DHJ338848+1365544652.jpg': 'MHAYA149-06',\n",
       " 'image_dataset/Ethmia_lichyi/03-SRNP-29318-DHJ338876+1365544654.jpg': 'MHAYA163-06',\n",
       " 'image_dataset/Ethmia_lichyi/03-SRNP-29318-DHJ338877+1365544654.jpg': 'MHAYA163-06',\n",
       " 'image_dataset/Ethmia_lichyi/07-SRNP-31216-DHJ372045+1190650062.jpg': 'MHMXL748-07',\n",
       " 'image_dataset/Eublemma_anachoresis/BIOUG08829-C11+1385737662.jpg': 'WALPB320-13',\n",
       " 'image_dataset/Eublemma_anachoresis/BIOUG17529-E02+1419020820.JPG': 'WALPC1326-14',\n",
       " 'image_dataset/Ethmia_laphamorum/07-SRNP-104583_DHJ614547+1183222782.jpg': 'BLPBH824-07',\n",
       " 'image_dataset/Ethmia_scythropa/07-SRNP-108186_DHJ618150+1191609652.jpg': 'BLPCD761-08',\n",
       " 'image_dataset/Ethmia_randyjonesi/08-SRNP-104951_DHJ629015+1225141656.jpg': 'BLPCP534-08',\n",
       " 'image_dataset/Ethmia_scythropa/08-SRNP-106235-DHJ630299+1364926064.jpg': 'BLPDB220-09',\n",
       " 'image_dataset/Ethmia_scythropa/08-SRNP-107095-DHJ631159+1364926286.jpg': 'BLPDC140-09',\n",
       " 'image_dataset/Ethmia_scythropa/08-SRNP-107759-DHJ631823+1364926440.jpg': 'BLPDC804-09',\n",
       " 'image_dataset/Ethmia_stephenrumseyi/09-SRNP-106458_DHJ639693+1250100242.jpg': 'BLPDK1530-09',\n",
       " 'image_dataset/Ethmia_helenmillerae/09-SRNP-107868_DHJ641103+1252772804.jpg': 'BLPDL486-10',\n",
       " 'image_dataset/Ethmia_miriamschulmanae/09-SRNP-109518-DHJ642753+1364926902.jpg': 'BLPDM141-10',\n",
       " 'image_dataset/Ethmia_hammella/10-SRNP-102476-DHJ647351+1364927528.jpg': 'BLPDN2301-10',\n",
       " 'image_dataset/Ethmia_hammella/10-SRNP-103124-DHJ647999+1269380168.jpg': 'BLPDO542-10',\n",
       " 'image_dataset/Ethmia_lichyi/10-SRNP-109046_DHJ653921+1309969244.jpg': 'BLPDT1619-10',\n",
       " 'image_dataset/Ethmia_stephenrumseyi/10-SRNP-109722_DHJ654597+1309874362.jpg': 'BLPDU300-11',\n",
       " 'image_dataset/Ethmia_stephenrumseyi/10-SRNP-109722_DHJ654597+1309192516.jpg': 'BLPDU300-11',\n",
       " 'image_dataset/Ethmia_scythropa/10-SRNP-109780_DHJ654655+1309192520.jpg': 'BLPDU358-11',\n",
       " 'image_dataset/Ethmia_scythropa/10-SRNP-109780_DHJ654655+1309874364.jpg': 'BLPDU358-11',\n",
       " 'image_dataset/Ethmia_stephenrumseyi/10-SRNP-109882_DHJ654757+1309192632.jpg': 'BLPDU460-11',\n",
       " 'image_dataset/Ethmia_scythropa/10-SRNP-110089_DHJ654964+1309192638.jpg': 'BLPDU667-11',\n",
       " 'image_dataset/Ethmia_hammella/10-SRNP-111816_DHJ656691+1309875040.jpg': 'BLPDV1159-11',\n",
       " 'image_dataset/Ethmia_hammella/10-SRNP-111816_DHJ656691+1309193216.jpg': 'BLPDV1159-11',\n",
       " 'image_dataset/Ethmia_stephenrumseyi/10-SRNP-111508_DHJ656383+1309193104.jpg': 'BLPDV851-11',\n",
       " 'image_dataset/Ethmia_stephenrumseyi/10-SRNP-111508_DHJ656383+1309874930.jpg': 'BLPDV851-11',\n",
       " 'image_dataset/Ethmia_stephenrumseyi/10-SRNP-112265_DHJ657140+1309896330.jpg': 'BLPDW373-11',\n",
       " 'image_dataset/Ethmia_stephenrumseyi/10-SRNP-112265_DHJ657140+1309806226.jpg': 'BLPDW373-11',\n",
       " 'image_dataset/Ethmia_mnesicosma/10-SRNP-115520_DHJ660395+1309189954.jpg': 'BLPDZ113-11',\n",
       " 'image_dataset/Ethmia_scythropa/11-SRNP-102267_DHJ662937+1303937784.jpg': 'BLPEB755-11',\n",
       " 'image_dataset/Ethmia_laphamorum/11-SRNP-105929-DHJ666599+1331928318.JPG': 'BLPED2327-12',\n",
       " 'image_dataset/Ethmia_helenmillerae/11-SRNP-103895-DHJ664565+1332184896.jpg': 'BLPED293-11',\n",
       " 'image_dataset/Ethmia_hammella/11-SRNP-104288-DHJ664958+1332185338.JPG': 'BLPED686-11',\n",
       " 'image_dataset/Ethmia_hammella/INB0003231100-EPR000352+1327348774.JPG': 'ASARD176-11',\n",
       " 'image_dataset/Ethmia_scythropa/07-SRNP-100480_DHJ610444+1179495106.jpg': 'BLPBD481-07',\n",
       " 'image_dataset/Ethmia_scythropa/08-SRNP-104677_DHJ628741+1224781200.jpg': 'BLPCP260-08',\n",
       " 'image_dataset/Ethmia_laphamorum/09-SRNP-104302_DHJ637537+1244134042.JPG': 'BLPDI870-09',\n",
       " 'image_dataset/Ethmia_mnesicosma/09-SRNP-105559_DHJ638794+1247684924.jpg': 'BLPDK631-09',\n",
       " 'image_dataset/Ethmia_miriamschulmanae/09-SRNP-108939_DHJ642174+1256848754.jpg': 'BLPDL1557-10',\n",
       " 'image_dataset/Ethmia_laphamorum/09-SRNP-110089-DHJ643324+1364926994.jpg': 'BLPDM712-10',\n",
       " 'image_dataset/Ethmia_lichyi/09-SRNP-110143-DHJ643378+1364926996.jpg': 'BLPDM766-10',\n",
       " 'image_dataset/Ethmia_randyjonesi/09-SRNP-110144-DHJ643379+1364926996.jpg': 'BLPDM767-10',\n",
       " 'image_dataset/Ethmia_scythropa/09-SRNP-110145-DHJ643380+1364926996.jpg': 'BLPDM768-10',\n",
       " 'image_dataset/Ethmia_hammella/10-SRNP-102295-DHJ647170+1364927522.jpg': 'BLPDN2120-10',\n",
       " 'image_dataset/Ethmia_scythropa/10-SRNP-107205_DHJ652080+1277488458.jpg': 'BLPDS581-10',\n",
       " 'image_dataset/Ethmia_scythropa/10-SRNP-107206_DHJ652081+1277488486.jpg': 'BLPDS582-10',\n",
       " 'image_dataset/Ethmia_stephenrumseyi/10-SRNP-110929_DHJ655804+1309874710.jpg': 'BLPDV272-11',\n",
       " 'image_dataset/Ethmia_stephenrumseyi/10-SRNP-110929_DHJ655804+1309192874.jpg': 'BLPDV272-11',\n",
       " 'image_dataset/Ethmia_stephenrumseyi/10-SRNP-112267_DHJ657142+1309896330.jpg': 'BLPDW375-11',\n",
       " 'image_dataset/Ethmia_stephenrumseyi/10-SRNP-112267_DHJ657142+1309806226.jpg': 'BLPDW375-11',\n",
       " 'image_dataset/Ethmia_helenmillerae/11-SRNP-103265_DHJ663935+1349455160.jpg': 'BLPEC708-11',\n",
       " 'image_dataset/Ethmia_laphamorum/11-SRNP-105664-DHJ666334+1331927914.JPG': 'BLPED2062-12',\n",
       " 'image_dataset/Ethmia_randyjonesi/12-SRNP-101744-DHJ668677+1344956438.JPG': 'BLPEE1745-12',\n",
       " 'image_dataset/Ethmia_randyjonesi/12-SRNP-102167-DHJ669100+1344956552.JPG': 'BLPEE2168-12',\n",
       " 'image_dataset/Ethmia_randyjonesi/12-SRNP-102376-DHJ669309+1364927618.JPG': 'BLPEF192-12',\n",
       " 'image_dataset/Ethmia_hammella/CCDB-23274-D05+1416356580.JPG': 'LNAUT2511-14',\n",
       " 'image_dataset/Ethmia_lichyi/05-SRNP-46876-DHJ344280+1365545274.jpg': 'MHMXD139-06',\n",
       " 'image_dataset/Ethmia_lichyi/05-SRNP-46876-DHJ344281+1365545274.jpg': 'MHMXD139-06',\n",
       " 'image_dataset/Ethmia_scythropa/06-SRNP-31481-DHJ354379+1175950418.jpg': 'MHMXF071-07',\n",
       " 'image_dataset/Eublemma_anachoresis/BIOUG18084-B07+1420765080.JPG': 'WALPC1390-14',\n",
       " 'image_dataset/Ethmia_hammella/INB0004263680-EPR000748+1327350038.JPG': 'ASARD373-11',\n",
       " 'image_dataset/Ethmia_scythropa/06-SRNP-103085_DHJ603085+1197404760.JPG': 'BLPAD266-06',\n",
       " 'image_dataset/Ethmia_laphamorum/06-SRNP-104468_DHJ604468+1197404880.jpg': 'BLPAE709-06',\n",
       " 'image_dataset/Ethmia_laphamorum/09-SRNP-104427_DHJ637662+1244472122.JPG': 'BLPDJ045-09',\n",
       " 'image_dataset/Ethmia_helenmillerae/09-SRNP-105795_DHJ639030+1249396700.jpg': 'BLPDK867-09',\n",
       " 'image_dataset/Ethmia_miriamschulmanae/09-SRNP-109077_DHJ642312+1257278060.jpg': 'BLPDL1695-10',\n",
       " 'image_dataset/Ethmia_scythropa/09-SRNP-110774-DHJ644009+1364927114.jpg': 'BLPDM1397-10',\n",
       " 'image_dataset/Ethmia_laphamorum/09-SRNP-111288-DHJ644523+1364927208.jpg': 'BLPDM1911-10',\n",
       " 'image_dataset/Ethmia_scythropa/10-SRNP-102464-DHJ647339+1364927526.jpg': 'BLPDN2289-10',\n",
       " 'image_dataset/Ethmia_hammella/10-SRNP-106755_DHJ651630+1275601416.jpg': 'BLPDS131-10',\n",
       " 'image_dataset/Ethmia_hammella/10-SRNP-106848_DHJ651723+1275663982.jpg': 'BLPDS224-10',\n",
       " 'image_dataset/Ethmia_scythropa/10-SRNP-107283_DHJ652158+1277496910.jpg': 'BLPDS659-10',\n",
       " 'image_dataset/Ethmia_lichyi/10-SRNP-115291_DHJ660166+1309189818.jpg': 'BLPDY739-11',\n",
       " 'image_dataset/Ethmia_laphamorum/11-SRNP-103656-DHJ664326+1332184486.jpg': 'BLPED054-11',\n",
       " 'image_dataset/Ethmia_mnesicosma/11-SRNP-104651-DHJ665321+1331927060.JPG': 'BLPED1049-12',\n",
       " 'image_dataset/Ethmia_miriamschulmanae/11-SRNP-103729-DHJ664399+1332184876.jpg': 'BLPED127-11',\n",
       " 'image_dataset/Ethmia_laphamorum/11-SRNP-105731-DHJ666401+1331927922.JPG': 'BLPED2129-12',\n",
       " 'image_dataset/Ethmia_laphamorum/11-SRNP-104472-DHJ665142+1331926662.JPG': 'BLPED870-11',\n",
       " 'image_dataset/Ethmia_randyjonesi/12-SRNP-102377-DHJ669310+1364927618.JPG': 'BLPEF193-12',\n",
       " 'image_dataset/Ethmia_randyjonesi/12-SRNP-102379-DHJ669312+1364927618.JPG': 'BLPEF195-12',\n",
       " 'image_dataset/Ethmia_scythropa/02-SRNP-16119-DHJ338830+1365105668.jpg': 'MHAYA140-06',\n",
       " 'image_dataset/Ethmia_scythropa/02-SRNP-16119-DHJ338831+1365105668.jpg': 'MHAYA140-06',\n",
       " 'image_dataset/Ethmia_lichyi/06-SRNP-5348-DHJ354389+1175950444.jpg': 'MHMXF081-07',\n",
       " 'image_dataset/Ethmia_mnesicosma/06-SRNP-16307-DHJ354400+1175950410.jpg': 'MHMXF092-07',\n",
       " 'image_dataset/Ethmia_lichyi/07-SRNP-1750-DHJ372043+1190649742.jpg': 'MHMXL746-07',\n",
       " 'image_dataset/Ethmia_lichyi/07-SRNP-31215-DHJ372054+1190650060.jpg': 'MHMXL756-07',\n",
       " 'image_dataset/Ethmia_lichyi/07-SRNP-31215-DHJ372055+1190650062.jpg': 'MHMXL756-07',\n",
       " 'image_dataset/Ethmia_hammella/INB0004238424-EPR000280+1327348798.JPG': 'ASARD140-11',\n",
       " 'image_dataset/Ethmia_laphamorum/06-SRNP-100141_DHJ600141+1140706010.jpg': 'BLPAA142-06',\n",
       " 'image_dataset/Ethmia_scythropa/06-SRNP-103002_DHJ603002+1197404700.JPG': 'BLPAD183-06',\n",
       " 'image_dataset/Ethmia_laphamorum/06-SRNP-104473_DHJ604473+1197404880.jpg': 'BLPAE714-06',\n",
       " 'image_dataset/Ethmia_mnesicosma/09-SRNP-101923_DHJ635158+1237385316.jpg': 'BLPDG379-09',\n",
       " 'image_dataset/Ethmia_laphamorum/09-SRNP-104303_DHJ637538+1244134032.JPG': 'BLPDI871-09',\n",
       " 'image_dataset/Ethmia_laphamorum/09-SRNP-105753_DHJ638988+1249321698.jpg': 'BLPDK825-09',\n",
       " 'image_dataset/Ethmia_scythropa/09-SRNP-110146-DHJ643381+1364926996.jpg': 'BLPDM769-10',\n",
       " 'image_dataset/Ethmia_hammella/10-SRNP-102359-DHJ647234+1364927524.jpg': 'BLPDN2184-10',\n",
       " 'image_dataset/Ethmia_hammella/10-SRNP-102757-DHJ647632+1268239930.jpg': 'BLPDO175-10',\n",
       " 'image_dataset/Ethmia_hammella/10-SRNP-106266_DHJ651141+1274990452.jpg': 'BLPDR641-10',\n",
       " 'image_dataset/Ethmia_scythropa/10-SRNP-107207_DHJ652082+1277488510.jpg': 'BLPDS583-10',\n",
       " 'image_dataset/Ethmia_hammella/10-SRNP-107303_DHJ652178+1277501438.jpg': 'BLPDS679-10',\n",
       " 'image_dataset/Ethmia_hammella/10-SRNP-109753_DHJ654628+1309192518.jpg': 'BLPDU331-11',\n",
       " 'image_dataset/Ethmia_hammella/10-SRNP-109753_DHJ654628+1309874364.jpg': 'BLPDU331-11',\n",
       " 'image_dataset/Ethmia_stephenrumseyi/10-SRNP-110349_DHJ655224+1309192748.jpg': 'BLPDU927-11',\n",
       " 'image_dataset/Ethmia_stephenrumseyi/10-SRNP-110349_DHJ655224+1309874590.jpg': 'BLPDU927-11',\n",
       " 'image_dataset/Ethmia_stephenrumseyi/10-SRNP-112269_DHJ657144+1309896330.jpg': 'BLPDW377-11',\n",
       " 'image_dataset/Ethmia_stephenrumseyi/10-SRNP-112269_DHJ657144+1309806226.jpg': 'BLPDW377-11',\n",
       " 'image_dataset/Ethmia_mnesicosma/10-SRNP-114769_DHJ659644+1309189678.jpg': 'BLPDY217-11',\n",
       " 'image_dataset/Ethmia_helenmillerae/11-SRNP-103264_DHJ663934+1349455160.jpg': 'BLPEC707-11',\n",
       " 'image_dataset/Ethmia_helenmillerae/11-SRNP-103266_DHJ663936+1349455160.jpg': 'BLPEC709-11',\n",
       " 'image_dataset/Ethmia_laphamorum/11-SRNP-103657-DHJ664327+1332184486.jpg': 'BLPED055-11',\n",
       " 'image_dataset/Ethmia_helenmillerae/11-SRNP-103739-DHJ664409+1332184878.jpg': 'BLPED137-11',\n",
       " 'image_dataset/Ethmia_laphamorum/11-SRNP-104251-DHJ664921+1332185332.JPG': 'BLPED649-11',\n",
       " 'image_dataset/Ethmia_scythropa/05-SRNP-22159-DHJ338837+1365544652.jpg': 'MHAYA143-06',\n",
       " 'image_dataset/Ethmia_scythropa/05-SRNP-22159-DHJ338836+1365544652.jpg': 'MHAYA143-06',\n",
       " 'image_dataset/Ethmia_scythropa/03-SRNP-15570-DHJ338842+1365106026.jpg': 'MHAYA146-06',\n",
       " 'image_dataset/Ethmia_scythropa/03-SRNP-15570-DHJ338843+1365106026.jpg': 'MHAYA146-06',\n",
       " 'image_dataset/Ethmia_mnesicosma/04-SRNP-45699-DHJ338846+1365544652.jpg': 'MHAYA148-06',\n",
       " 'image_dataset/Ethmia_mnesicosma/04-SRNP-45699-DHJ338847+1365544652.jpg': 'MHAYA148-06',\n",
       " 'image_dataset/Ethmia_scythropa/06-SRNP-106171_DHJ606171+1201560840.jpg': 'BLPAG532-07',\n",
       " 'image_dataset/Ethmia_scythropa/09-SRNP-100619-DHJ633854+1364926894.jpg': 'BLPDF015-09',\n",
       " 'image_dataset/Ethmia_laphamorum/09-SRNP-104662_DHJ637897+1245342578.JPG': 'BLPDJ280-09',\n",
       " 'image_dataset/Ethmia_laphamorum/09-SRNP-104843_DHJ638078+1245682738.JPG': 'BLPDJ461-09',\n",
       " 'image_dataset/Ethmia_miriamschulmanae/09-SRNP-104888_DHJ638123+1245688392.JPG': 'BLPDJ506-09',\n",
       " 'image_dataset/Ethmia_helenmillerae/09-SRNP-107975_DHJ641210+1254839872.jpg': 'BLPDL593-10',\n",
       " 'image_dataset/Ethmia_scythropa/09-SRNP-110389-DHJ643624+1364927004.jpg': 'BLPDM1012-10',\n",
       " 'image_dataset/Ethmia_scythropa/09-SRNP-110524-DHJ643759+1364927008.jpg': 'BLPDM1147-10',\n",
       " 'image_dataset/Ethmia_randyjonesi/09-SRNP-109980-DHJ643215+1364926992.jpg': 'BLPDM603-10',\n",
       " 'image_dataset/Ethmia_scythropa/10-SRNP-106189_DHJ651064+1274976604.jpg': 'BLPDR564-10',\n",
       " 'image_dataset/Ethmia_stephenrumseyi/10-SRNP-111147_DHJ656022+1309192990.jpg': 'BLPDV490-11',\n",
       " 'image_dataset/Ethmia_stephenrumseyi/10-SRNP-111147_DHJ656022+1309874820.jpg': 'BLPDV490-11',\n",
       " 'image_dataset/Ethmia_stephenrumseyi/10-SRNP-112266_DHJ657141+1309896330.jpg': 'BLPDW374-11',\n",
       " 'image_dataset/Ethmia_stephenrumseyi/10-SRNP-112266_DHJ657141+1309806226.jpg': 'BLPDW374-11',\n",
       " 'image_dataset/Ethmia_stephenrumseyi/11-SRNP-100049_DHJ660719+1309185556.jpg': 'BLPDZ437-11',\n",
       " 'image_dataset/Ethmia_laphamorum/11-SRNP-103653-DHJ664323+1332184486.jpg': 'BLPED051-11',\n",
       " 'image_dataset/Ethmia_miriamschulmanae/11-SRNP-103731-DHJ664401+1332184876.jpg': 'BLPED129-11',\n",
       " 'image_dataset/Ethmia_laphamorum/11-SRNP-105668-DHJ666338+1331927914.JPG': 'BLPED2066-12',\n",
       " 'image_dataset/Ethmia_laphamorum/11-SRNP-105732-DHJ666402+1331927922.JPG': 'BLPED2130-12',\n",
       " 'image_dataset/Ethmia_scythropa/11-SRNP-104165-DHJ664835+1332185324.jpg': 'BLPED563-11',\n",
       " 'image_dataset/Ethmia_miriamschulmanae/12-SRNP-102646-DHJ669579+1364927690.JPG': 'BLPEF462-12',\n",
       " 'image_dataset/Ethmia_lichyi/06-SRNP-30523-DHJ338554+1365544650.jpg': 'MHAYA002-06',\n",
       " 'image_dataset/Ethmia_lichyi/06-SRNP-30523-DHJ338555+1365544650.jpg': 'MHAYA002-06',\n",
       " 'image_dataset/Ethmia_lichyi/06-SRNP-30720-DHJ338556+1365544650.jpg': 'MHAYA003-06',\n",
       " 'image_dataset/Ethmia_lichyi/06-SRNP-30720-DHJ338557+1365544650.jpg': 'MHAYA003-06',\n",
       " 'image_dataset/Ethmia_lichyi/05-SRNP-45034-DHJ407893+1365550032.jpg': 'MHAYA159-06',\n",
       " 'image_dataset/Ethmia_lichyi/05-SRNP-45034-DHJ338868+1365544652.jpg': 'MHAYA159-06',\n",
       " 'image_dataset/Ethmia_lichyi/05-SRNP-45034-DHJ407894+1365550032.jpg': 'MHAYA159-06',\n",
       " 'image_dataset/Ethmia_lichyi/05-SRNP-45034-DHJ407892+1365550032.jpg': 'MHAYA159-06',\n",
       " 'image_dataset/Ethmia_lichyi/05-SRNP-45034-DHJ338869+1365544652.jpg': 'MHAYA159-06',\n",
       " 'image_dataset/Ethmia_lichyi/05-SRNP-46875-DHJ344282+1365545274.jpg': 'MHMXD140-06',\n",
       " 'image_dataset/Ethmia_lichyi/05-SRNP-46875-DHJ344283+1365545274.jpg': 'MHMXD140-06',\n",
       " 'image_dataset/Ethmia_mnesicosma/06-SRNP-16314-DHJ354403+1175950412.jpg': 'MHMXF095-07',\n",
       " 'image_dataset/Ethmia_laphamorum/06-SRNP-104471_DHJ604471+1197404880.jpg': 'BLPAE712-06',\n",
       " 'image_dataset/Ethmia_scythropa/07-SRNP-101026_DHJ610990+1173901962.jpg': 'BLPBE087-07',\n",
       " 'image_dataset/Ethmia_laphamorum/07-SRNP-104585_DHJ614549+1183222838.jpg': 'BLPBH826-07',\n",
       " 'image_dataset/Ethmia_laphamorum/08-SRNP-109048-DHJ633112+1364926788.jpg': 'BLPDE213-09',\n",
       " 'image_dataset/Ethmia_helenmillerae/09-SRNP-104554_DHJ637789+1245424508.JPG': 'BLPDJ172-09',\n",
       " 'image_dataset/Ethmia_stephenrumseyi/09-SRNP-106457_DHJ639692+1250100206.jpg': 'BLPDK1529-09',\n",
       " 'image_dataset/Ethmia_miriamschulmanae/09-SRNP-105899_DHJ639134+1249661456.jpg': 'BLPDK971-09',\n",
       " 'image_dataset/Ethmia_lichyi/09-SRNP-111487-DHJ644722+1364927214.jpg': 'BLPDM2110-10',\n",
       " 'image_dataset/Ethmia_laphamorum/09-SRNP-110088-DHJ643323+1364926994.jpg': 'BLPDM711-10',\n",
       " 'image_dataset/Ethmia_lichyi/10-SRNP-102776-DHJ647651+1268241008.jpg': 'BLPDO194-10',\n",
       " 'image_dataset/Ethmia_hammella/10-SRNP-103031-DHJ647906+1268345002.jpg': 'BLPDO449-10',\n",
       " 'image_dataset/Ethmia_hammella/10-SRNP-112364_DHJ657239+1309896334.jpg': 'BLPDW472-11',\n",
       " 'image_dataset/Ethmia_hammella/10-SRNP-112364_DHJ657239+1309806230.jpg': 'BLPDW472-11',\n",
       " 'image_dataset/Ethmia_hammella/10-SRNP-112370_DHJ657245+1309896334.jpg': 'BLPDW478-11',\n",
       " 'image_dataset/Ethmia_hammella/10-SRNP-112370_DHJ657245+1309806230.jpg': 'BLPDW478-11',\n",
       " 'image_dataset/Ethmia_scythropa/10-SRNP-112789_DHJ657664+1309896452.jpg': 'BLPDW897-11',\n",
       " 'image_dataset/Ethmia_scythropa/10-SRNP-112789_DHJ657664+1309806356.jpg': 'BLPDW897-11',\n",
       " 'image_dataset/Ethmia_scythropa/11-SRNP-102660_DHJ663330+1305681546.jpg': 'BLPEC103-11',\n",
       " 'image_dataset/Ethmia_laphamorum/11-SRNP-103440_DHJ664110+1349455212.jpg': 'BLPEC883-11',\n",
       " 'image_dataset/Ethmia_randyjonesi/11-SRNP-104713-DHJ665383+1331927064.JPG': 'BLPED1111-12',\n",
       " 'image_dataset/Ethmia_miriamschulmanae/11-SRNP-105282-DHJ665952+1331927500.JPG': 'BLPED1680-12',\n",
       " 'image_dataset/Ethmia_mnesicosma/12-SRNP-102301-DHJ669234+1364927616.JPG': 'BLPEF117-12',\n",
       " 'image_dataset/Ethmia_lichyi/06-SRNP-30526-DHJ338558+1365544650.jpg': 'MHAYA004-06',\n",
       " 'image_dataset/Ethmia_lichyi/06-SRNP-30526-DHJ338559+1365544650.jpg': 'MHAYA004-06',\n",
       " 'image_dataset/Ethmia_scythropa/05-SRNP-22416.1-DHJ338840+1365544652.jpg': 'MHAYA145-06',\n",
       " 'image_dataset/Ethmia_scythropa/05-SRNP-22416.1-DHJ338841+1365544652.jpg': 'MHAYA145-06',\n",
       " 'image_dataset/Ethmia_lichyi/05-SRNP-22361-DHJ338864+1365544652.jpg': 'MHAYA157-06',\n",
       " 'image_dataset/Ethmia_lichyi/05-SRNP-22361-DHJ338865+1365544652.jpg': 'MHAYA157-06',\n",
       " 'image_dataset/Ethmia_lichyi/07-SRNP-30826-DHJ367605+1190649778.jpg': 'MHMXI896-07',\n",
       " 'image_dataset/Ethmia_lichyi/07-SRNP-30826-DHJ367604+1190649776.jpg': 'MHMXI896-07',\n",
       " 'image_dataset/Ethmia_hammella/INB0004238428-EPR000288+1327348798.JPG': 'ASARD144-11',\n",
       " 'image_dataset/Ethmia_lichyi/07-SRNP-109613_DHJ619577+1199756266.jpg': 'BLPCF308-08',\n",
       " 'image_dataset/Ethmia_mnesicosma/07-SRNP-110961_DHJ620925+1200952956.jpg': 'BLPCG716-08',\n",
       " 'image_dataset/Ethmia_mnesicosma/08-SRNP-108697-DHJ632761+1364926688.jpg': 'BLPDD802-09',\n",
       " 'image_dataset/Ethmia_lichyi/09-SRNP-105561_DHJ638796+1247685004.jpg': 'BLPDK633-09',\n",
       " 'image_dataset/Ethmia_miriamschulmanae/09-SRNP-109122_DHJ642357+1257351204.jpg': 'BLPDL1740-10',\n",
       " 'image_dataset/Ethmia_scythropa/10-SRNP-104634-DHJ649509+1273023128.jpg': 'BLPDQ008-10',\n",
       " 'image_dataset/Ethmia_hammella/10-SRNP-105006-DHJ649881+1273192620.jpg': 'BLPDQ380-10',\n",
       " 'image_dataset/Ethmia_hammella/10-SRNP-106240_DHJ651115+1274989428.jpg': 'BLPDR615-10',\n",
       " 'image_dataset/Ethmia_hammella/10-SRNP-106267_DHJ651142+1274990490.jpg': 'BLPDR642-10',\n",
       " 'image_dataset/Ethmia_scythropa/10-SRNP-106837_DHJ651712+1275663588.jpg': 'BLPDS213-10',\n",
       " 'image_dataset/Ethmia_scythropa/10-SRNP-110067_DHJ654942+1309192638.jpg': 'BLPDU645-11',\n",
       " 'image_dataset/Ethmia_stephenrumseyi/10-SRNP-112787_DHJ657662+1309896452.jpg': 'BLPDW895-11',\n",
       " 'image_dataset/Ethmia_stephenrumseyi/10-SRNP-112787_DHJ657662+1309806356.jpg': 'BLPDW895-11',\n",
       " 'image_dataset/Ethmia_randyjonesi/10-SRNP-114011_DHJ658886+1309896922.jpg': 'BLPDX884-11',\n",
       " 'image_dataset/Ethmia_hammella/11-SRNP-100394_DHJ661064+1309185668.jpg': 'BLPDZ782-11',\n",
       " 'image_dataset/Ethmia_helenmillerae/11-SRNP-103736-DHJ664406+1332184876.jpg': 'BLPED134-11',\n",
       " 'image_dataset/Ethmia_laphamorum/11-SRNP-105669-DHJ666339+1331927914.JPG': 'BLPED2067-12',\n",
       " 'image_dataset/Ethmia_laphamorum/11-SRNP-105733-DHJ666403+1331927922.JPG': 'BLPED2131-12',\n",
       " 'image_dataset/Ethmia_laphamorum/11-SRNP-105835-DHJ666505+1331928312.JPG': 'BLPED2233-12',\n",
       " 'image_dataset/Ethmia_helenmillerae/11-SRNP-103888-DHJ664558+1332184894.jpg': 'BLPED286-11',\n",
       " 'image_dataset/Ethmia_randyjonesi/12-SRNP-101745-DHJ668678+1344956438.JPG': 'BLPEE1746-12',\n",
       " 'image_dataset/Ethmia_mnesicosma/04-SRNP-45695-DHJ338844+1365544652.jpg': 'MHAYA147-06',\n",
       " 'image_dataset/Ethmia_mnesicosma/04-SRNP-45695-DHJ338845+1365544652.jpg': 'MHAYA147-06',\n",
       " 'image_dataset/Ethmia_lichyi/06-SRNP-31744-DHJ349994+1175950422.jpg': 'MHMXD1156-06',\n",
       " 'image_dataset/Ethmia_lichyi/06-SRNP-31744-DHJ349995+1175950422.jpg': 'MHMXD1156-06',\n",
       " 'image_dataset/Ethmia_lichyi/06-SRNP-5347-DHJ354390+1175950444.jpg': 'MHMXF082-07',\n",
       " 'image_dataset/Ethmia_hammella/INB0004263679-EPR000746+1327350038.JPG': 'ASARD372-11',\n",
       " 'image_dataset/Ethmia_laphamorum/07-SRNP-112629_DHJ622593+1203104644.jpg': 'BLPCI504-08',\n",
       " 'image_dataset/Ethmia_laphamorum/07-SRNP-112631_DHJ622595+1203104696.jpg': 'BLPCI506-08',\n",
       " 'image_dataset/Ethmia_scythropa/09-SRNP-100617-DHJ633852+1364926894.jpg': 'BLPDF013-09',\n",
       " 'image_dataset/Ethmia_scythropa/09-SRNP-107083_DHJ640318+1251920182.jpg': 'BLPDK2155-09',\n",
       " 'image_dataset/Ethmia_mnesicosma/09-SRNP-105307_DHJ638542+1247254826.jpg': 'BLPDK379-09',\n",
       " 'image_dataset/Ethmia_laphamorum/09-SRNP-111273-DHJ644508+1364927208.jpg': 'BLPDM1896-10',\n",
       " 'image_dataset/Ethmia_hammella/10-SRNP-107256_DHJ652131+1277495390.jpg': 'BLPDS632-10',\n",
       " 'image_dataset/Ethmia_randyjonesi/10-SRNP-109304_DHJ654179+1309969254.jpg': 'BLPDT1877-10',\n",
       " 'image_dataset/Ethmia_stephenrumseyi/10-SRNP-111810_DHJ656685+1309193216.jpg': 'BLPDV1153-11',\n",
       " 'image_dataset/Ethmia_stephenrumseyi/10-SRNP-111810_DHJ656685+1309875040.jpg': 'BLPDV1153-11',\n",
       " 'image_dataset/Ethmia_stephenrumseyi/10-SRNP-111811_DHJ656686+1309193216.jpg': 'BLPDV1154-11',\n",
       " 'image_dataset/Ethmia_stephenrumseyi/10-SRNP-111811_DHJ656686+1309875040.jpg': 'BLPDV1154-11',\n",
       " 'image_dataset/Ethmia_stephenrumseyi/10-SRNP-111812_DHJ656687+1309193216.jpg': 'BLPDV1155-11',\n",
       " 'image_dataset/Ethmia_stephenrumseyi/10-SRNP-111812_DHJ656687+1309875040.jpg': 'BLPDV1155-11',\n",
       " 'image_dataset/Ethmia_randyjonesi/10-SRNP-114012_DHJ658887+1309896922.jpg': 'BLPDX885-11',\n",
       " 'image_dataset/Ethmia_lichyi/10-SRNP-115548_DHJ660423+1309189954.jpg': 'BLPDZ141-11',\n",
       " 'image_dataset/Ethmia_lichyi/11-SRNP-100806_DHJ661476+1298484196.jpg': 'BLPEA339-11',\n",
       " 'image_dataset/Ethmia_hammella/11-SRNP-102544_DHJ663214+1305594904.jpg': 'BLPEB1032-11',\n",
       " 'image_dataset/Ethmia_stephenrumseyi/11-SRNP-102109_DHJ662779+1303919872.jpg': 'BLPEB597-11',\n",
       " 'image_dataset/Ethmia_scythropa/11-SRNP-104166-DHJ664836+1332185324.jpg': 'BLPED564-11',\n",
       " 'image_dataset/Ethmia_randyjonesi/12-SRNP-103207-DHJ670140+1364927774.JPG': 'BLPEF1023-12',\n",
       " 'image_dataset/Ethmia_scythropa/02-SRNP-16140-DHJ338828+1365105668.jpg': 'MHAYA139-06',\n",
       " 'image_dataset/Ethmia_scythropa/02-SRNP-16140-DHJ338829+1365105668.jpg': 'MHAYA139-06',\n",
       " 'image_dataset/Ethmia_lichyi/04-SRNP-23311-DHJ338867+1365544652.jpg': 'MHAYA158-06',\n",
       " 'image_dataset/Ethmia_lichyi/04-SRNP-23311-DHJ338866+1365544652.jpg': 'MHAYA158-06',\n",
       " 'image_dataset/Ethmia_scythropa/06-SRNP-31484-DHJ354381+1175950420.jpg': 'MHMXF073-07',\n",
       " 'image_dataset/Ethmia_lichyi/06-SRNP-5349-DHJ354392+1175950446.jpg': 'MHMXF084-07',\n",
       " 'image_dataset/Ethmia_mnesicosma/06-SRNP-16281-DHJ354401+1175950408.jpg': 'MHMXF093-07',\n",
       " 'image_dataset/Eublemma_anachoresis/10ANIC_06759+1287792278.jpg': 'ANICJ762-10',\n",
       " 'image_dataset/Ethmia_lichyi/INB0004222455-EPR002004+1327428536.JPG': 'ASARD992-11',\n",
       " 'image_dataset/Ethmia_lichyi/INB0004222455-EPR002005+1327428536.JPG': 'ASARD992-11',\n",
       " 'image_dataset/Ethmia_scythropa/06-SRNP-102759_DHJ602759+1197404700.JPG': 'BLPAC880-06',\n",
       " 'image_dataset/Ethmia_scythropa/06-SRNP-103001_DHJ603001+1197404700.JPG': 'BLPAD182-06',\n",
       " 'image_dataset/Ethmia_randyjonesi/07-SRNP-102811_DHJ612775+1178718022.jpg': 'BLPBF932-07',\n",
       " 'image_dataset/Ethmia_laphamorum/07-SRNP-112358_DHJ622322+1203012726.jpg': 'BLPCI233-08',\n",
       " 'image_dataset/Ethmia_randyjonesi/08-SRNP-101529_DHJ625593+1214577410.jpg': 'BLPCL430-08',\n",
       " 'image_dataset/Ethmia_laphamorum/09-SRNP-104517_DHJ637752+1245247556.JPG': 'BLPDJ135-09',\n",
       " 'image_dataset/Ethmia_helenmillerae/09-SRNP-105938_DHJ639173+1249506680.jpg': 'BLPDK1010-09',\n",
       " 'image_dataset/Ethmia_scythropa/10-SRNP-101553-DHJ646428+1364927390.jpg': 'BLPDN1378-10',\n",
       " 'image_dataset/Ethmia_scythropa/10-SRNP-101161-DHJ646036+1364927374.jpg': 'BLPDN986-10',\n",
       " 'image_dataset/Ethmia_lichyi/10-SRNP-109045_DHJ653920+1309969244.jpg': 'BLPDT1618-10',\n",
       " 'image_dataset/Ethmia_lichyi/10-SRNP-109305_DHJ654180+1309969254.jpg': 'BLPDT1878-10',\n",
       " 'image_dataset/Ethmia_stephenrumseyi/10-SRNP-111809_DHJ656684+1309193216.jpg': 'BLPDV1152-11',\n",
       " 'image_dataset/Ethmia_stephenrumseyi/10-SRNP-111809_DHJ656684+1309875040.jpg': 'BLPDV1152-11',\n",
       " 'image_dataset/Ethmia_randyjonesi/10-SRNP-111814_DHJ656689+1309193216.jpg': 'BLPDV1157-11',\n",
       " 'image_dataset/Ethmia_randyjonesi/10-SRNP-111814_DHJ656689+1309875040.jpg': 'BLPDV1157-11',\n",
       " 'image_dataset/Ethmia_helenmillerae/11-SRNP-103510_DHJ664180+1349455212.jpg': 'BLPEC953-11',\n",
       " 'image_dataset/Ethmia_laphamorum/11-SRNP-105838-DHJ666508+1331928312.JPG': 'BLPED2236-12',\n",
       " 'image_dataset/Ethmia_helenmillerae/11-SRNP-103902-DHJ664572+1332184896.jpg': 'BLPED300-11',\n",
       " 'image_dataset/Ethmia_miriamschulmanae/11-SRNP-103998-DHJ664668+1332184910.jpg': 'BLPED396-11',\n",
       " 'image_dataset/Ethmia_miriamschulmanae/12-SRNP-102147-DHJ669080+1344956492.JPG': 'BLPEE2148-12',\n",
       " 'image_dataset/Ethmia_scythropa/05-SRNP-22150-DHJ338826+1365544650.jpg': 'MHAYA138-06',\n",
       " 'image_dataset/Ethmia_scythropa/05-SRNP-22150-DHJ338827+1365544650.jpg': 'MHAYA138-06',\n",
       " 'image_dataset/Ethmia_mnesicosma/05-SRNP-34751-DHJ338550+1365544650.jpg': 'MHMXC376-06',\n",
       " 'image_dataset/Ethmia_mnesicosma/05-SRNP-34751-DHJ338551+1365544650.jpg': 'MHMXC376-06',\n",
       " 'image_dataset/Ethmia_mnesicosma/06-SRNP-16295-DHJ354399+1175950408.jpg': 'MHMXF091-07',\n",
       " 'image_dataset/Ethmia_lichyi/07-SRNP-31106-DHJ367607+1190649810.jpg': 'MHMXI897-07',\n",
       " 'image_dataset/Ethmia_lichyi/07-SRNP-31106-DHJ367606+1190649808.jpg': 'MHMXI897-07',\n",
       " 'image_dataset/Ethmia_stephenrumseyi/INB0004239174-EPR000398+1327349640.JPG': 'ASARD199-11',\n",
       " 'image_dataset/Ethmia_stephenrumseyi/INB0004239174-EPR000399+1327349640.JPG': 'ASARD199-11',\n",
       " 'image_dataset/Ethmia_laphamorum/06-SRNP-104282_DHJ604282+1197404880.jpg': 'BLPAE523-06',\n",
       " 'image_dataset/Ethmia_laphamorum/09-SRNP-104301_DHJ637536+1244134070.JPG': 'BLPDI869-09',\n",
       " 'image_dataset/Ethmia_hammella/10-SRNP-107407_DHJ652282+1277579166.jpg': 'BLPDS783-10',\n",
       " 'image_dataset/Ethmia_stephenrumseyi/10-SRNP-110495_DHJ655370+1309192754.jpg': 'BLPDU1073-11',\n",
       " 'image_dataset/Ethmia_stephenrumseyi/10-SRNP-110495_DHJ655370+1309874596.jpg': 'BLPDU1073-11',\n",
       " 'image_dataset/Ethmia_hammella/10-SRNP-112880_DHJ657755+1309896570.jpg': 'BLPDW988-11',\n",
       " 'image_dataset/Ethmia_randyjonesi/10-SRNP-114465_DHJ659340+1309897038.jpg': 'BLPDX1338-11',\n",
       " 'image_dataset/Ethmia_laphamorum/11-SRNP-103564_DHJ664234+1349455214.jpg': 'BLPEC1007-11',\n",
       " 'image_dataset/Ethmia_laphamorum/11-SRNP-106186-DHJ666856+1331928350.JPG': 'BLPED2584-12',\n",
       " 'image_dataset/Ethmia_scythropa/06-SRNP-31486-DHJ354382+1175950420.jpg': 'MHMXF074-07',\n",
       " 'image_dataset/Ethmia_lichyi/06-SRNP-5342-DHJ354384+1175950440.jpg': 'MHMXF076-07',\n",
       " 'image_dataset/Ethmia_lichyi/06-SRNP-6458-DHJ354398+1175950446.jpg': 'MHMXF090-07',\n",
       " 'image_dataset/Condica_cupentia/06-SRNP-100844_DHJ600844+2147483647.jpg': 'BLPAA845-06',\n",
       " 'image_dataset/Coleophora_serratella/IMG_1301+1238788212.JPG': 'CGUKC757-09',\n",
       " 'image_dataset/Colletes_cunicularius/BC_ZSM_HYM_13861+1341927840.jpg': 'GBACU1606-12',\n",
       " 'image_dataset/Colletes_daviesanus/BC_ZSM_HYM_17265+1362506154.jpg': 'GBACU3680-13',\n",
       " 'image_dataset/Coleophora_sylvaticella/TLMF_Lep_11697+1380722406.jpg': 'LEATE285-13',\n",
       " 'image_dataset/Coleophora_trifolii/TLMF_Lep_12102+1381247810.jpg': 'LEATE690-13',\n",
       " 'image_dataset/Coleophora_sylvaticella/TLMF_Lep_17881+1442524644.jpg': 'LEATJ306-15',\n",
       " 'image_dataset/Coleophora_prepostera/CNCLEP00008553+1169742938.jpg': 'LNAEM340-07',\n",
       " 'image_dataset/Coleophora_prepostera/CNCLEP00008566+1169743688.jpg': 'LNAEM353-07',\n",
       " 'image_dataset/Coleophora_serratella/CNCLEP00024801+1166538420.jpg': 'LNAEN944-07',\n",
       " 'image_dataset/Coleophora_trifolii/CNCLEP00020131+1161002122.jpg': 'LNEL203-06',\n",
       " 'image_dataset/Coleophora_texanella/BIOUG07782-B03+1380305050.jpg': 'LOCBF2698-13',\n",
       " 'image_dataset/Coleophora_texanella/BIOUG07782-C11+1380305480.jpg': 'LOCBF2718-13',\n",
       " 'image_dataset/Coleophora_texanella/BIOUG07782-E10+1380305940.jpg': 'LOCBF2741-13',\n",
       " 'image_dataset/Coleophora_texanella/BIOUG07782-F02+1380306036.jpg': 'LOCBF2745-13',\n",
       " 'image_dataset/Coleophora_texanella/BIOUG07782-F04+1380306078.jpg': 'LOCBF2747-13',\n",
       " 'image_dataset/Coleophora_texanella/BIOUG07782-G01+1380300910.jpg': 'LOCBF2756-13',\n",
       " 'image_dataset/Coleophora_texanella/BIOUG07782-G08+1380301890.jpg': 'LOCBF2763-13',\n",
       " 'image_dataset/Coleophora_texanella/bioug06257-f09+1371212398.jpg': 'LOCBF639-13',\n",
       " 'image_dataset/Coleophora_tiliaefoliella/CNCLEP00040689+1212698594.jpg': 'MNAF704-08',\n",
       " 'image_dataset/Coleophora_wyethiae/CNCLEP00000934+1248186555.JPG': 'MNAG905-08',\n",
       " 'image_dataset/Coleophora_wyethiae/CNCLEP00000969+1248186816.JPG': 'MNAG912-08',\n",
       " 'image_dataset/Colletes_cunicularius/NHMO_APO00040+1375712778.jpg': 'NOBEE040-09',\n",
       " 'image_dataset/Condica_aroana/IMG_9731+1231873750.JPG': 'NSWHH249-09',\n",
       " 'image_dataset/Condica_cupentia/06-SRNP-104640_DHJ604640+1197404940.jpg': 'BLPAE881-07',\n",
       " 'image_dataset/Coleophora_texanella/MM21630+1342195656.JPG': 'ELACA2076-12',\n",
       " 'image_dataset/Colletes_cunicularius/BC_ZSM_HYM00675+1243550580.JPG': 'FBHAP200-09',\n",
       " 'image_dataset/Colletes_cunicularius/BC_ZSM_HYM_13860+1341927678.jpg': 'GBACU1605-12',\n",
       " 'image_dataset/Colletes_fodiens/BC_ZSM_HYM_14926+1347049300.jpg': 'GBACU961-12',\n",
       " 'image_dataset/Coleophora_sylvaticella/15523+1413288370.JPG': 'LEATH311-14',\n",
       " 'image_dataset/Coleophora_sylvaticella/TLMF_Lep_18052+1442524672.jpg': 'LEATJ477-15',\n",
       " 'image_dataset/Coleophora_prepostera/CNCLEP00008550+1169742784.jpg': 'LNAEM337-07',\n",
       " 'image_dataset/Coleophora_prepostera/CNCLEP00008561+1169743356.jpg': 'LNAEM348-07',\n",
       " 'image_dataset/Coleophora_texanella/BIOUG06606-H07+1374865714.jpg': 'LOCBF1254-13',\n",
       " ...}"
      ]
     },
     "execution_count": 113,
     "metadata": {},
     "output_type": "execute_result"
    }
   ],
   "source": [
    "(img2dna)\n"
   ]
  },
  {
   "cell_type": "code",
   "execution_count": 167,
   "id": "ea1aa8dd-53c3-458a-bfa7-bf381fdcde1d",
   "metadata": {
    "scrolled": true
   },
   "outputs": [],
   "source": [
    "img2dna_indices = dict()\n",
    "for k,v in img2dna.items():\n",
    "    #print(k)\n",
    "    #print(v)\n",
    "    dna_index = np.where(X_train['processid'].values == v)\n",
    "    if dna_index[0].size > 0:\n",
    "        #print(dna_index)\n",
    "        dna_index = dna_index[0][0]\n",
    "        \n",
    "        for i,(name,_) in enumerate(image_dataset.imgs):\n",
    "            if name == k:\n",
    "                image_index = i\n",
    "                break\n",
    "        img2dna_indices[image_index] = dna_index"
   ]
  },
  {
   "cell_type": "code",
   "execution_count": 173,
   "id": "c637ede3-24bf-4f04-93c2-d442e74ef1ae",
   "metadata": {
    "scrolled": true
   },
   "outputs": [
    {
     "data": {
      "text/plain": [
       "10839"
      ]
     },
     "execution_count": 173,
     "metadata": {},
     "output_type": "execute_result"
    }
   ],
   "source": [
    "len(np.unique(list(img2dna_indices.values())))"
   ]
  },
  {
   "cell_type": "code",
   "execution_count": 176,
   "id": "3576dcd3-9c5d-41b5-bf20-e27cade35933",
   "metadata": {},
   "outputs": [
    {
     "data": {
      "text/plain": [
       "(array([1235., 1246., 1355., 1434., 1079., 1326., 1337., 1478., 1444.,\n",
       "        1105.]),\n",
       " array([    0. ,  3242.3,  6484.6,  9726.9, 12969.2, 16211.5, 19453.8,\n",
       "        22696.1, 25938.4, 29180.7, 32423. ]),\n",
       " <BarContainer object of 10 artists>)"
      ]
     },
     "execution_count": 176,
     "metadata": {},
     "output_type": "execute_result"
    },
    {
     "data": {
      "image/png": "[encoded data removed]",
      "text/plain": [
       "<Figure size 640x480 with 1 Axes>"
      ]
     },
     "metadata": {},
     "output_type": "display_data"
    }
   ],
   "source": [
    "\n",
    "plt.hist(np.unique(list(img2dna_indices.keys())))"
   ]
  },
  {
   "cell_type": "code",
   "execution_count": null,
   "id": "da092e66-8c27-4b22-ad87-4f880da5efcf",
   "metadata": {},
   "outputs": [],
   "source": []
  }
 ],
 "metadata": {
  "kernelspec": {
   "display_name": "Python 3 (ipykernel)",
   "language": "python",
   "name": "python3"
  },
  "language_info": {
   "codemirror_mode": {
    "name": "ipython",
    "version": 3
   },
   "file_extension": ".py",
   "mimetype": "text/x-python",
   "name": "python",
   "nbconvert_exporter": "python",
   "pygments_lexer": "ipython3",
   "version": "3.12.3"
  }
 },
 "nbformat": 4,
 "nbformat_minor": 5
}
