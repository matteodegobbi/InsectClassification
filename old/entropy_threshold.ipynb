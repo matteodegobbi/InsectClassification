{
 "cells": [
  {
   "cell_type": "code",
   "execution_count": 104,
   "id": "62a72cdf-4234-40a1-8b5b-07fd21beebc7",
   "metadata": {},
   "outputs": [],
   "source": [
    "import pandas as pd\n",
    "from torchvision import transforms\n",
    "import torch\n",
    "import torchvision\n",
    "import numpy as np\n",
    "import dataset_utils"
   ]
  },
  {
   "cell_type": "code",
   "execution_count": 105,
   "id": "b7687ceb-9a89-48ef-bd8f-03db5377cdcc",
   "metadata": {
    "scrolled": true
   },
   "outputs": [],
   "source": [
    "df = pd.read_csv('final_dataset.csv',index_col=0)\n",
    "tform = transforms.Compose([transforms.Resize((256,256)),transforms.PILToTensor(),transforms.ConvertImageDtype(torch.float),transforms.Normalize(0.5,0.5)])\n",
    "image_dataset = torchvision.datasets.ImageFolder(\"image_dataset/\",transform=tform)\n",
    "species2genus = dataset_utils.species_label_to_genus_label(df,image_dataset)"
   ]
  },
  {
   "cell_type": "code",
   "execution_count": 160,
   "id": "422763dd-55db-4602-8cbf-f425db25d870",
   "metadata": {
    "scrolled": true
   },
   "outputs": [
    {
     "name": "stderr",
     "output_type": "stream",
     "text": [
      "/tmp/ipykernel_5730/61449978.py:2: UserWarning: Implicit dimension choice for softmax has been deprecated. Change the call to include dim=X as an argument.\n",
      "  temp = torch.nn.functional.softmax(temp)\n"
     ]
    }
   ],
   "source": [
    "temp = torch.randn(1050)\n",
    "temp = torch.nn.functional.softmax(temp)\n",
    "label_best_specie = temp.argmax()\n",
    "label_genus_da_controllare = species2genus[label_best_specie.item()]\n",
    "species_same_genus = [k for k,v in species2genus.items() if v == label_genus_da_controllare]\n",
    "reduced_species = temp[species_same_genus]\n",
    "normalized_reduced_species = reduced_species/(reduced_species.sum())\n",
    "\n",
    "def entropy_per_symbol(v):\n",
    "    entropy = 0 \n",
    "    for p in normalized_reduced_species:\n",
    "        entropy-=p*math.log(p,2)\n",
    "    mean_symbol_entropy = entropy/math.log(len(normalized_reduced_species),2)\n",
    "    return mean_symbol_entropy\n",
    "    "
   ]
  },
  {
   "cell_type": "code",
   "execution_count": 107,
   "id": "69ed55ad-218a-430c-9e41-fb7188a7c172",
   "metadata": {
    "scrolled": true
   },
   "outputs": [],
   "source": []
  },
  {
   "cell_type": "code",
   "execution_count": 108,
   "id": "3fcb6893-2503-4cf3-96d8-457786a2f52e",
   "metadata": {},
   "outputs": [],
   "source": []
  },
  {
   "cell_type": "code",
   "execution_count": 109,
   "id": "cbb46ba5-fdcd-4b34-a8a3-49e432e0e883",
   "metadata": {},
   "outputs": [
    {
     "data": {
      "text/plain": [
       "tensor([0.0248, 0.0337, 0.1920, 0.1024, 0.6396, 0.0074])"
      ]
     },
     "execution_count": 109,
     "metadata": {},
     "output_type": "execute_result"
    }
   ],
   "source": [
    "normalized_reduced_species"
   ]
  },
  {
   "cell_type": "code",
   "execution_count": 158,
   "id": "dbaa013d-48af-4b74-80ef-f5193984515d",
   "metadata": {},
   "outputs": [],
   "source": [
    "import math\n"
   ]
  },
  {
   "cell_type": "code",
   "execution_count": 159,
   "id": "9b513650-6f42-4800-8a07-e0a5029df640",
   "metadata": {},
   "outputs": [
    {
     "name": "stdout",
     "output_type": "stream",
     "text": [
      "total entropy: 1.5559436082839966\n",
      "mean entropy per symbol: 0.6019211411476135\n"
     ]
    }
   ],
   "source": [
    "print(f\"total entropy: {entropy}\")\n",
    "print(f\"mean entropy per symbol: {mean_symbol_entropy}\")"
   ]
  },
  {
   "cell_type": "code",
   "execution_count": 163,
   "id": "1a8d71ad-b829-47d5-b1df-6b468d2d3c0d",
   "metadata": {},
   "outputs": [
    {
     "data": {
      "image/png": "[encoded data removed]",
      "text/plain": [
       "<Figure size 640x480 with 1 Axes>"
      ]
     },
     "metadata": {},
     "output_type": "display_data"
    }
   ],
   "source": [
    "import matplotlib.pyplot as plt\n",
    "def f(x):\n",
    "    y = list()\n",
    "    for xx in x:\n",
    "        reduced_species = torch.tensor([1]*int(xx),dtype = torch.float16)\n",
    "        #print(reduced_species)\n",
    "        normalized_reduced_species = reduced_species/(reduced_species.sum())\n",
    "        y.append(entropy_per_symbol(normalized_reduced_species))\n",
    "    return y\n",
    "x = np.linspace(2, 20,20-2+1)\n",
    "\n",
    "plt.plot(x, f(x), color='red')\n",
    "\n",
    "plt.show()"
   ]
  },
  {
   "cell_type": "code",
   "execution_count": null,
   "id": "d235e7ab-df96-4571-80b0-e0500d631b24",
   "metadata": {},
   "outputs": [],
   "source": []
  },
  {
   "cell_type": "code",
   "execution_count": null,
   "id": "66455473-7415-457d-9aca-3289b0e97b3f",
   "metadata": {},
   "outputs": [],
   "source": []
  },
  {
   "cell_type": "code",
   "execution_count": null,
   "id": "fa469160-838c-494c-a1ad-38df7a38f955",
   "metadata": {},
   "outputs": [],
   "source": []
  },
  {
   "cell_type": "code",
   "execution_count": null,
   "id": "72d0ae0e-5a68-4d3e-af28-9bd9e8bbd441",
   "metadata": {},
   "outputs": [],
   "source": []
  },
  {
   "cell_type": "code",
   "execution_count": null,
   "id": "3df8155d-014a-441f-82a0-e8c6ac910544",
   "metadata": {},
   "outputs": [],
   "source": []
  },
  {
   "cell_type": "code",
   "execution_count": null,
   "id": "3ef82388-1e20-41ae-b0af-0734f556ad70",
   "metadata": {},
   "outputs": [],
   "source": []
  },
  {
   "cell_type": "code",
   "execution_count": null,
   "id": "5343dde6-dd5f-4a99-be01-8271751f430b",
   "metadata": {},
   "outputs": [],
   "source": []
  },
  {
   "cell_type": "code",
   "execution_count": null,
   "id": "42406055-1e87-4623-9e13-ea8f15323ae7",
   "metadata": {},
   "outputs": [],
   "source": []
  }
 ],
 "metadata": {
  "kernelspec": {
   "display_name": "Python 3 (ipykernel)",
   "language": "python",
   "name": "python3"
  },
  "language_info": {
   "codemirror_mode": {
    "name": "ipython",
    "version": 3
   },
   "file_extension": ".py",
   "mimetype": "text/x-python",
   "name": "python",
   "nbconvert_exporter": "python",
   "pygments_lexer": "ipython3",
   "version": "3.12.3"
  }
 },
 "nbformat": 4,
 "nbformat_minor": 5
}
