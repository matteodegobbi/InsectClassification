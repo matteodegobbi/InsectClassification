{
 "cells": [
  {
   "cell_type": "code",
   "execution_count": 2,
   "id": "34a1219f-ad23-4058-8864-58dcf08d689a",
   "metadata": {},
   "outputs": [],
   "source": [
    "import pandas as pd\n",
    "df = pd.read_csv(\"only_five_missing.csv\",index_col=0)"
   ]
  },
  {
   "cell_type": "code",
   "execution_count": 3,
   "id": "fc8a8aed-24a5-49db-ab43-b4dbe5d77346",
   "metadata": {},
   "outputs": [
    {
     "data": {
      "text/plain": [
       "13015"
      ]
     },
     "execution_count": 3,
     "metadata": {},
     "output_type": "execute_result"
    }
   ],
   "source": [
    "df['nucleotide'].nunique() # number of unique nucleotide specimens (in matlab its 13007)"
   ]
  },
  {
   "cell_type": "code",
   "execution_count": 4,
   "id": "1a9eade6-743e-4ed3-b059-03c1d46e4dc6",
   "metadata": {},
   "outputs": [],
   "source": [
    "#drop missing data\n",
    "print(df.shape)\n",
    "df = df.dropna(subset=['image_urls','nucleotide','species_name','genus_name'])\n",
    "print(df.shape)\n",
    "print(df['species_name'].nunique())\n",
    "print(df['species_taxID'].nunique())\n",
    "df = df.drop(df[df['species_name']==' '].index)\n",
    "print(df.shape)\n",
    "print(df['species_name'].nunique())\n",
    "print(df['species_taxID'].nunique())\n",
    "df.to_csv(\"final_dataset.csv\")"
   ]
  },
  {
   "cell_type": "code",
   "execution_count": 1,
   "id": "217345cf-7729-4367-b601-fa0c15afbeb0",
   "metadata": {},
   "outputs": [
    {
     "ename": "NameError",
     "evalue": "name 'df' is not defined",
     "output_type": "error",
     "traceback": [
      "\u001b[0;31m---------------------------------------------------------------------------\u001b[0m",
      "\u001b[0;31mNameError\u001b[0m                                 Traceback (most recent call last)",
      "Cell \u001b[0;32mIn[1], line 1\u001b[0m\n\u001b[0;32m----> 1\u001b[0m df[\u001b[38;5;124m'\u001b[39m\u001b[38;5;124mnucleotide\u001b[39m\u001b[38;5;124m'\u001b[39m]\u001b[38;5;241m.\u001b[39misnull()\u001b[38;5;241m.\u001b[39many()\n",
      "\u001b[0;31mNameError\u001b[0m: name 'df' is not defined"
     ]
    }
   ],
   "source": [
    "df['nucleotide'].isnull().any()"
   ]
  },
  {
   "cell_type": "code",
   "execution_count": 6,
   "id": "cf37de22-2a83-4be4-9f4e-1fbade544495",
   "metadata": {},
   "outputs": [
    {
     "name": "stdout",
     "output_type": "stream",
     "text": [
      "Number of rows with dash:  6516\n"
     ]
    },
    {
     "data": {
      "text/plain": [
       "3        --AACTTTATATTTCATTTTTGGTATTTGAGCAGGTATAGTAGGAA...\n",
       "4        --AACTTTATATTTCATTTTTGGTATTTGAGCAGGTATAGTAGGAA...\n",
       "10       TACATTATATTTTATTTTTGGAATTTGAACTGGTATAGTAGGAACT...\n",
       "31       --AACTTTATATTTCATTTTTGGTATTTGAGCAGGTATAGTAGGAA...\n",
       "32       --AACTTTATATTTCATTTTTGGTATTTGAGCAGGTATAGTAGGAA...\n",
       "                               ...                        \n",
       "27324    -------------------------------------GTAGGAACT...\n",
       "27332    --AACATTATACTTTATTTTTGGAATTTGAGCCGGTATAGTTGGAA...\n",
       "27333    --AACATTATACTTTATTTTTGGAATTTGAGCCGGTATAGTTGGAA...\n",
       "27334    --AACATTATATTTTATTTTTGGAATTTGGGCAGGTATAGTAGGAA...\n",
       "27338    --AACATTATATTTTATTTTTGGAATTTGAGCAGGTATAGTAGGAA...\n",
       "Name: nucleotide, Length: 6516, dtype: object"
      ]
     },
     "execution_count": 6,
     "metadata": {},
     "output_type": "execute_result"
    }
   ],
   "source": [
    "rows_with_dash = df['nucleotide'].str.contains('-')\n",
    "print(\"Number of rows with dash: \",rows_with_dash.sum())\n",
    "df[rows_with_dash]['nucleotide']"
   ]
  },
  {
   "cell_type": "code",
   "execution_count": 38,
   "id": "9d7ba24a-889e-4e36-98e3-d3bfdbd926b8",
   "metadata": {},
   "outputs": [
    {
     "data": {
      "text/plain": [
       "0    658\n",
       "Name: nucleotide, dtype: int64"
      ]
     },
     "execution_count": 38,
     "metadata": {},
     "output_type": "execute_result"
    }
   ],
   "source": [
    "for i,row in enumerate(df[rows_with_dash]['nucleotide']):\n",
    "    pass\n",
    "#    print(len(row))\n",
    "df[rows_with_dash]['nucleotide'].apply(len).unique()\n",
    "df[rows_with_dash]['nucleotide'].apply(len).mode()\n"
   ]
  },
  {
   "cell_type": "code",
   "execution_count": 2,
   "id": "d3ae9871-4a8e-4b9f-9910-51adac67bd14",
   "metadata": {},
   "outputs": [
    {
     "ename": "NameError",
     "evalue": "name 'df' is not defined",
     "output_type": "error",
     "traceback": [
      "\u001b[0;31m---------------------------------------------------------------------------\u001b[0m",
      "\u001b[0;31mNameError\u001b[0m                                 Traceback (most recent call last)",
      "Cell \u001b[0;32mIn[2], line 1\u001b[0m\n\u001b[0;32m----> 1\u001b[0m df\u001b[38;5;241m.\u001b[39mhead()\n",
      "\u001b[0;31mNameError\u001b[0m: name 'df' is not defined"
     ]
    }
   ],
   "source": [
    "df.head()"
   ]
  },
  {
   "cell_type": "code",
   "execution_count": null,
   "id": "a9daeace-85b1-47ab-bbd2-20794be863ea",
   "metadata": {},
   "outputs": [],
   "source": [
    "import scipy.io as io\n",
    "matlab_data = io.loadmat('data/INSECTS/data.mat')\n",
    "matlab_species = set()\n",
    "missing_from_matlab = set()\n",
    "for specie in matlab_data['species']:\n",
    "    matlab_species.add(specie[0][0])\n",
    "    #print(specie[0][0])\n",
    "for i, row in df.iterrows():\n",
    "    if row['species_name'] not in matlab_species:\n",
    "        #print(row['species_name'])\n",
    "        missing_from_matlab.add(row['species_name'])"
   ]
  },
  {
   "cell_type": "code",
   "execution_count": 3,
   "id": "5e462e21-ab16-4760-8d47-ac3e07ad53c5",
   "metadata": {},
   "outputs": [
    {
     "data": {
      "text/plain": [
       "'f = open(\"cambiamenti.txt\",\"w\")\\nd = dict()\\nfor missing_spec in missing_from_matlab:\\n    missing_locs = df.loc[df[\\'species_name\\']== missing_spec]\\n    for i,row in missing_locs.iterrows():\\n        bold_id = row[\\'processid\\']\\n        d[missing_spec] = matlab_data[\\'species\\'][matlab_data[\\'bold_ids\\'] == bold_id][0][0]\\n        f.write(f\"{missing_spec}-->,{matlab_data[\\'species\\'][matlab_data[\\'bold_ids\\'] == bold_id][0][0]}\\n\")'"
      ]
     },
     "execution_count": 3,
     "metadata": {},
     "output_type": "execute_result"
    }
   ],
   "source": [
    "\n",
    "'''f = open(\"cambiamenti.txt\",\"w\")\n",
    "d = dict()\n",
    "for missing_spec in missing_from_matlab:\n",
    "    missing_locs = df.loc[df['species_name']== missing_spec]\n",
    "    for i,row in missing_locs.iterrows():\n",
    "        bold_id = row['processid']\n",
    "        d[missing_spec] = matlab_data['species'][matlab_data['bold_ids'] == bold_id][0][0]\n",
    "        f.write(f\"{missing_spec}-->,{matlab_data['species'][matlab_data['bold_ids'] == bold_id][0][0]}\\n\")'''"
   ]
  },
  {
   "cell_type": "code",
   "execution_count": null,
   "id": "051b5569-03c5-45ec-be84-8a57ea025ec9",
   "metadata": {},
   "outputs": [],
   "source": [
    "'''rev_dict = dict()\n",
    " \n",
    "for key, value in d.items():\n",
    "    rev_dict.setdefault(value, set()).add(key)\n",
    "     \n",
    "result = [key for key, values in rev_dict.items()\n",
    "                              if len(values) > 1]\n",
    " \n",
    "print(\"Old species that have been divided in multiple species:\", str(result))'''"
   ]
  }
 ],
 "metadata": {
  "kernelspec": {
   "display_name": "Python 3 (ipykernel)",
   "language": "python",
   "name": "python3"
  },
  "language_info": {
   "codemirror_mode": {
    "name": "ipython",
    "version": 3
   },
   "file_extension": ".py",
   "mimetype": "text/x-python",
   "name": "python",
   "nbconvert_exporter": "python",
   "pygments_lexer": "ipython3",
   "version": "3.12.2"
  }
 },
 "nbformat": 4,
 "nbformat_minor": 5
}
