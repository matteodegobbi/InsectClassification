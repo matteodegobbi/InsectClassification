{
 "cells": [
  {
   "cell_type": "code",
   "execution_count": 1,
   "metadata": {
    "collapsed": false,
    "jupyter": {
     "outputs_hidden": false
    }
   },
   "outputs": [],
   "source": [
    "# For tips on running notebooks in Google Colab, see\n",
    "# https://pytorch.org/tutorials/beginner/colab\n",
    "%matplotlib inline"
   ]
  },
  {
   "cell_type": "markdown",
   "metadata": {},
   "source": [
    "[Introduction](introyt1_tutorial.html) \\|\\|\n",
    "[Tensors](tensors_deeper_tutorial.html) \\|\\|\n",
    "[Autograd](autogradyt_tutorial.html) \\|\\| **Building Models** \\|\\|\n",
    "[TensorBoard Support](tensorboardyt_tutorial.html) \\|\\| [Training\n",
    "Models](trainingyt.html) \\|\\| [Model Understanding](captumyt.html)\n",
    "\n",
    "Building Models with PyTorch\n",
    "============================\n",
    "\n",
    "Follow along with the video below or on\n",
    "[youtube](https://www.youtube.com/watch?v=OSqIP-mOWOI).\n",
    "\n"
   ]
  },
  {
   "cell_type": "code",
   "execution_count": 2,
   "metadata": {},
   "outputs": [
    {
     "data": {
      "text/html": [
       "\n",
       "<div style=\"margin-top:10px; margin-bottom:10px;\">\n",
       "  <iframe width=\"560\" height=\"315\" src=\"https://www.youtube.com/embed/OSqIP-mOWOI\" frameborder=\"0\" allow=\"accelerometer; encrypted-media; gyroscope; picture-in-picture\" allowfullscreen></iframe>\n",
       "</div>\n"
      ],
      "text/plain": [
       "<IPython.core.display.HTML object>"
      ]
     },
     "metadata": {},
     "output_type": "display_data"
    }
   ],
   "source": [
    "# Run this cell to load the video\n",
    "from IPython.display import display, HTML\n",
    "html_code = \"\"\"\n",
    "<div style=\"margin-top:10px; margin-bottom:10px;\">\n",
    "  <iframe width=\"560\" height=\"315\" src=\"https://www.youtube.com/embed/OSqIP-mOWOI\" frameborder=\"0\" allow=\"accelerometer; encrypted-media; gyroscope; picture-in-picture\" allowfullscreen></iframe>\n",
    "</div>\n",
    "\"\"\"\n",
    "display(HTML(html_code))"
   ]
  },
  {
   "cell_type": "markdown",
   "metadata": {},
   "source": [
    "\n",
    "\n",
    "`torch.nn.Module` and `torch.nn.Parameter`\n",
    "------------------------------------------\n",
    "\n",
    "In this video, we'll be discussing some of the tools PyTorch makes\n",
    "available for building deep learning networks.\n",
    "\n",
    "Except for `Parameter`, the classes we discuss in this video are all\n",
    "subclasses of `torch.nn.Module`. This is the PyTorch base class meant to\n",
    "encapsulate behaviors specific to PyTorch Models and their components.\n",
    "\n",
    "One important behavior of `torch.nn.Module` is registering parameters.\n",
    "If a particular `Module` subclass has learning weights, these weights\n",
    "are expressed as instances of `torch.nn.Parameter`. The `Parameter`\n",
    "class is a subclass of `torch.Tensor`, with the special behavior that\n",
    "when they are assigned as attributes of a `Module`, they are added to\n",
    "the list of that modules parameters. These parameters may be accessed\n",
    "through the `parameters()` method on the `Module` class.\n",
    "\n",
    "As a simple example, here's a very simple model with two linear layers\n",
    "and an activation function. We'll create an instance of it and ask it to\n",
    "report on its parameters:\n"
   ]
  },
  {
   "cell_type": "code",
   "execution_count": 3,
   "metadata": {
    "collapsed": false,
    "jupyter": {
     "outputs_hidden": false
    }
   },
   "outputs": [
    {
     "name": "stdout",
     "output_type": "stream",
     "text": [
      "The model:\n",
      "TinyModel(\n",
      "  (linear1): Linear(in_features=100, out_features=200, bias=True)\n",
      "  (activation): ReLU()\n",
      "  (linear2): Linear(in_features=200, out_features=10, bias=True)\n",
      "  (softmax): Softmax(dim=None)\n",
      ")\n",
      "\n",
      "\n",
      "Just one layer:\n",
      "Linear(in_features=200, out_features=10, bias=True)\n",
      "\n",
      "\n",
      "Model params:\n",
      "Parameter containing:\n",
      "tensor([[ 0.0865,  0.0328,  0.0089,  ...,  0.0650,  0.0070, -0.0543],\n",
      "        [ 0.0863,  0.0235, -0.0817,  ..., -0.0660,  0.0086,  0.0238],\n",
      "        [-0.0853,  0.0530,  0.0452,  ...,  0.0559, -0.0306,  0.0541],\n",
      "        ...,\n",
      "        [ 0.0079,  0.0496, -0.0319,  ...,  0.0858, -0.0704,  0.0211],\n",
      "        [-0.0939,  0.0962, -0.0839,  ...,  0.0945, -0.0548,  0.0723],\n",
      "        [ 0.0442, -0.0087, -0.0166,  ..., -0.0032,  0.0374, -0.0598]],\n",
      "       requires_grad=True)\n",
      "Parameter containing:\n",
      "tensor([-8.0171e-02,  8.8401e-02, -5.7227e-02, -4.2371e-02, -9.4052e-03,\n",
      "        -4.7908e-02,  6.9456e-03, -3.6713e-02, -2.1285e-02,  3.1293e-02,\n",
      "        -1.1440e-02, -8.6002e-02, -6.1910e-02, -1.0798e-02, -8.1789e-02,\n",
      "        -9.1341e-02,  4.8559e-02, -1.1272e-03, -6.7295e-02,  5.1207e-02,\n",
      "         4.2580e-02,  7.2250e-02,  6.6141e-02, -1.4247e-02, -8.8504e-02,\n",
      "        -7.7086e-03,  2.0312e-03, -5.2965e-02,  6.3273e-02,  6.9957e-02,\n",
      "         1.1270e-02,  6.0688e-02,  7.0939e-02,  7.8307e-02,  8.4513e-02,\n",
      "         3.7205e-02,  6.2781e-02,  4.0095e-02, -2.2364e-02, -5.2036e-02,\n",
      "        -4.0802e-02,  8.3668e-02,  7.1306e-02, -6.4046e-02,  6.9194e-02,\n",
      "        -7.4632e-02, -6.4752e-02, -5.0753e-02, -4.4847e-02, -2.4869e-02,\n",
      "         7.3620e-02, -5.9613e-02,  7.2051e-02,  1.3226e-02, -7.0954e-02,\n",
      "         1.4814e-02,  3.7053e-02, -5.5533e-02,  8.0589e-02,  2.1836e-02,\n",
      "        -9.7021e-02, -5.7124e-02,  5.4251e-02,  9.2930e-02, -3.0340e-02,\n",
      "        -8.7270e-02, -1.3375e-02, -1.8199e-02, -5.8939e-02, -1.3424e-02,\n",
      "        -7.6849e-02,  7.2398e-02,  9.9012e-02,  1.9515e-02, -8.6650e-03,\n",
      "        -5.5878e-02, -2.3780e-02, -3.1066e-02,  6.2069e-02, -5.0699e-02,\n",
      "         7.3682e-02,  7.2380e-02,  8.8159e-02, -5.8233e-02,  4.4374e-02,\n",
      "        -3.9599e-02, -8.0975e-02, -5.6198e-02, -8.9483e-02, -1.5867e-02,\n",
      "         2.1707e-02, -4.8666e-02,  3.5700e-02,  5.7644e-02, -5.0402e-02,\n",
      "        -7.9176e-02, -3.6234e-02, -6.2740e-02,  2.1235e-02, -3.7068e-02,\n",
      "         3.7026e-02, -4.0453e-02,  3.4666e-02,  9.2899e-02,  4.9703e-03,\n",
      "         8.5101e-02,  8.9479e-02,  6.4778e-02,  1.0851e-03, -3.2059e-02,\n",
      "         4.2961e-02,  9.5901e-02,  7.9811e-02, -9.6849e-02,  7.9957e-02,\n",
      "        -6.7060e-02, -5.6869e-03, -5.5966e-02, -6.7048e-02, -6.4174e-02,\n",
      "         9.6750e-02, -3.4711e-02, -9.5091e-02, -7.4533e-02,  3.8933e-02,\n",
      "         2.8721e-02,  9.3495e-02, -5.2006e-02, -2.3428e-04, -5.1702e-02,\n",
      "        -7.3492e-02,  4.5484e-02,  7.2918e-02,  5.2989e-02, -9.1311e-02,\n",
      "        -2.7377e-02,  8.4297e-02,  9.9031e-02, -3.9229e-02, -8.1478e-04,\n",
      "         8.6702e-02, -5.6925e-03,  4.8535e-02,  2.4324e-02,  2.6965e-02,\n",
      "        -4.9226e-02,  3.5643e-02,  3.1308e-02, -4.1631e-02,  5.9736e-05,\n",
      "        -6.0651e-02,  6.5500e-02, -9.9135e-02, -9.2384e-02,  9.0314e-02,\n",
      "        -4.9547e-02, -5.7727e-02,  3.4816e-02, -5.1200e-02, -1.3226e-02,\n",
      "        -8.4677e-02, -8.0002e-02,  3.4768e-02, -4.8266e-03,  1.2419e-02,\n",
      "        -3.9630e-02, -7.9868e-02, -8.4164e-02,  7.1866e-02,  1.9582e-02,\n",
      "         3.7213e-03,  1.3804e-02, -6.3326e-02,  7.3361e-02,  6.8030e-02,\n",
      "         8.3576e-02,  1.2195e-02, -2.6984e-02,  3.9542e-02, -1.5113e-02,\n",
      "         5.9228e-02, -8.6778e-03,  5.7488e-02,  2.1794e-02,  1.8821e-02,\n",
      "        -7.5227e-02,  8.3954e-02, -8.9096e-03, -8.7741e-02, -6.6826e-02,\n",
      "        -7.6440e-02, -6.4951e-02, -5.0023e-02, -7.5181e-02, -6.6100e-02,\n",
      "         8.9410e-02, -2.4046e-02,  5.3343e-02, -3.2469e-02,  1.3929e-02],\n",
      "       requires_grad=True)\n",
      "Parameter containing:\n",
      "tensor([[ 0.0523, -0.0069, -0.0458,  ...,  0.0212,  0.0182,  0.0492],\n",
      "        [ 0.0505,  0.0227, -0.0020,  ..., -0.0050,  0.0381,  0.0007],\n",
      "        [-0.0017,  0.0452, -0.0552,  ...,  0.0538, -0.0056,  0.0387],\n",
      "        ...,\n",
      "        [ 0.0037, -0.0271, -0.0654,  ..., -0.0230, -0.0023,  0.0680],\n",
      "        [-0.0651,  0.0469, -0.0288,  ..., -0.0150,  0.0196, -0.0086],\n",
      "        [ 0.0041, -0.0210, -0.0535,  ..., -0.0165, -0.0686, -0.0517]],\n",
      "       requires_grad=True)\n",
      "Parameter containing:\n",
      "tensor([ 0.0317, -0.0330, -0.0417,  0.0706,  0.0082,  0.0570,  0.0425,  0.0168,\n",
      "        -0.0021, -0.0206], requires_grad=True)\n",
      "\n",
      "\n",
      "Layer params:\n",
      "Parameter containing:\n",
      "tensor([[ 0.0523, -0.0069, -0.0458,  ...,  0.0212,  0.0182,  0.0492],\n",
      "        [ 0.0505,  0.0227, -0.0020,  ..., -0.0050,  0.0381,  0.0007],\n",
      "        [-0.0017,  0.0452, -0.0552,  ...,  0.0538, -0.0056,  0.0387],\n",
      "        ...,\n",
      "        [ 0.0037, -0.0271, -0.0654,  ..., -0.0230, -0.0023,  0.0680],\n",
      "        [-0.0651,  0.0469, -0.0288,  ..., -0.0150,  0.0196, -0.0086],\n",
      "        [ 0.0041, -0.0210, -0.0535,  ..., -0.0165, -0.0686, -0.0517]],\n",
      "       requires_grad=True)\n",
      "Parameter containing:\n",
      "tensor([ 0.0317, -0.0330, -0.0417,  0.0706,  0.0082,  0.0570,  0.0425,  0.0168,\n",
      "        -0.0021, -0.0206], requires_grad=True)\n"
     ]
    }
   ],
   "source": [
    "import torch\n",
    "\n",
    "class TinyModel(torch.nn.Module):\n",
    "    \n",
    "    def __init__(self):\n",
    "        super(TinyModel, self).__init__()\n",
    "        \n",
    "        self.linear1 = torch.nn.Linear(100, 200)\n",
    "        self.activation = torch.nn.ReLU()\n",
    "        self.linear2 = torch.nn.Linear(200, 10)\n",
    "        self.softmax = torch.nn.Softmax()\n",
    "    \n",
    "    def forward(self, x):\n",
    "        x = self.linear1(x)\n",
    "        x = self.activation(x)\n",
    "        x = self.linear2(x)\n",
    "        x = self.softmax(x)\n",
    "        return x\n",
    "\n",
    "tinymodel = TinyModel()\n",
    "\n",
    "print('The model:')\n",
    "print(tinymodel)\n",
    "\n",
    "print('\\n\\nJust one layer:')\n",
    "print(tinymodel.linear2)\n",
    "\n",
    "print('\\n\\nModel params:')\n",
    "for param in tinymodel.parameters():\n",
    "    print(param)\n",
    "\n",
    "print('\\n\\nLayer params:')\n",
    "for param in tinymodel.linear2.parameters():\n",
    "    print(param)"
   ]
  },
  {
   "cell_type": "markdown",
   "metadata": {},
   "source": [
    "This shows the fundamental structure of a PyTorch model: there is an\n",
    "`__init__()` method that defines the layers and other components of a\n",
    "model, and a `forward()` method where the computation gets done. Note\n",
    "that we can print the model, or any of its submodules, to learn about\n",
    "its structure.\n",
    "\n",
    "Common Layer Types\n",
    "==================\n",
    "\n",
    "Linear Layers\n",
    "-------------\n",
    "\n",
    "The most basic type of neural network layer is a *linear* or *fully\n",
    "connected* layer. This is a layer where every input influences every\n",
    "output of the layer to a degree specified by the layer's weights. If a\n",
    "model has *m* inputs and *n* outputs, the weights will be an *m* x *n*\n",
    "matrix. For example:\n"
   ]
  },
  {
   "cell_type": "code",
   "execution_count": 4,
   "metadata": {
    "collapsed": false,
    "jupyter": {
     "outputs_hidden": false
    }
   },
   "outputs": [
    {
     "name": "stdout",
     "output_type": "stream",
     "text": [
      "Input:\n",
      "tensor([[0.9490, 0.8737, 0.6286]])\n",
      "\n",
      "\n",
      "Weight and Bias parameters:\n",
      "Parameter containing:\n",
      "tensor([[-0.3547, -0.4769, -0.5502],\n",
      "        [-0.2881,  0.0330,  0.3088]], requires_grad=True)\n",
      "Parameter containing:\n",
      "tensor([-0.2109,  0.2074], requires_grad=True)\n",
      "\n",
      "\n",
      "Output:\n",
      "tensor([[-1.3100,  0.1569]], grad_fn=<AddmmBackward0>)\n"
     ]
    }
   ],
   "source": [
    "lin = torch.nn.Linear(3, 2)\n",
    "x = torch.rand(1, 3)\n",
    "print('Input:')\n",
    "print(x)\n",
    "\n",
    "print('\\n\\nWeight and Bias parameters:')\n",
    "for param in lin.parameters():\n",
    "    print(param)\n",
    "\n",
    "y = lin(x)\n",
    "print('\\n\\nOutput:')\n",
    "print(y)"
   ]
  },
  {
   "cell_type": "markdown",
   "metadata": {},
   "source": [
    "If you do the matrix multiplication of `x` by the linear layer's\n",
    "weights, and add the biases, you'll find that you get the output vector\n",
    "`y`.\n",
    "\n",
    "One other important feature to note: When we checked the weights of our\n",
    "layer with `lin.weight`, it reported itself as a `Parameter` (which is a\n",
    "subclass of `Tensor`), and let us know that it's tracking gradients with\n",
    "autograd. This is a default behavior for `Parameter` that differs from\n",
    "`Tensor`.\n",
    "\n",
    "Linear layers are used widely in deep learning models. One of the most\n",
    "common places you'll see them is in classifier models, which will\n",
    "usually have one or more linear layers at the end, where the last layer\n",
    "will have *n* outputs, where *n* is the number of classes the classifier\n",
    "addresses.\n",
    "\n",
    "Convolutional Layers\n",
    "====================\n",
    "\n",
    "*Convolutional* layers are built to handle data with a high degree of\n",
    "spatial correlation. They are very commonly used in computer vision,\n",
    "where they detect close groupings of features which the compose into\n",
    "higher-level features. They pop up in other contexts too - for example,\n",
    "in NLP applications, where a word's immediate context (that is, the\n",
    "other words nearby in the sequence) can affect the meaning of a\n",
    "sentence.\n",
    "\n",
    "We saw convolutional layers in action in LeNet5 in an earlier video:\n"
   ]
  },
  {
   "cell_type": "code",
   "execution_count": 5,
   "metadata": {
    "collapsed": false,
    "jupyter": {
     "outputs_hidden": false
    }
   },
   "outputs": [],
   "source": [
    "import torch.functional as F\n",
    "\n",
    "\n",
    "class LeNet(torch.nn.Module):\n",
    "\n",
    "    def __init__(self):\n",
    "        super(LeNet, self).__init__()\n",
    "        # 1 input image channel (black & white), 6 output channels, 5x5 square convolution\n",
    "        # kernel\n",
    "        self.conv1 = torch.nn.Conv2d(1, 6, 5)\n",
    "        self.conv2 = torch.nn.Conv2d(6, 16, 3)\n",
    "        # an affine operation: y = Wx + b\n",
    "        self.fc1 = torch.nn.Linear(16 * 6 * 6, 120)  # 6*6 from image dimension\n",
    "        self.fc2 = torch.nn.Linear(120, 84)\n",
    "        self.fc3 = torch.nn.Linear(84, 10)\n",
    "\n",
    "    def forward(self, x):\n",
    "        # Max pooling over a (2, 2) window\n",
    "        x = F.max_pool2d(F.relu(self.conv1(x)), (2, 2))\n",
    "        # If the size is a square you can only specify a single number\n",
    "        x = F.max_pool2d(F.relu(self.conv2(x)), 2)\n",
    "        x = x.view(-1, self.num_flat_features(x))\n",
    "        x = F.relu(self.fc1(x))\n",
    "        x = F.relu(self.fc2(x))\n",
    "        x = self.fc3(x)\n",
    "        return x\n",
    "\n",
    "    def num_flat_features(self, x):\n",
    "        size = x.size()[1:]  # all dimensions except the batch dimension\n",
    "        num_features = 1\n",
    "        for s in size:\n",
    "            num_features *= s\n",
    "        return num_features"
   ]
  },
  {
   "cell_type": "markdown",
   "metadata": {},
   "source": [
    "Let's break down what's happening in the convolutional layers of this\n",
    "model. Starting with `conv1`:\n",
    "\n",
    "-   LeNet5 is meant to take in a 1x32x32 black & white image. **The\n",
    "    first argument to a convolutional layer's constructor is the number\n",
    "    of input channels.** Here, it is 1. If we were building this model\n",
    "    to look at 3-color channels, it would be 3.\n",
    "-   A convolutional layer is like a window that scans over the image,\n",
    "    looking for a pattern it recognizes. These patterns are called\n",
    "    *features,* and one of the parameters of a convolutional layer is\n",
    "    the number of features we would like it to learn. **This is the\n",
    "    second argument to the constructor is the number of output\n",
    "    features.** Here, we're asking our layer to learn 6 features.\n",
    "-   Just above, I likened the convolutional layer to a window - but how\n",
    "    big is the window? **The third argument is the window or kernel\n",
    "    size.** Here, the \"5\" means we've chosen a 5x5 kernel. (If you want\n",
    "    a kernel with height different from width, you can specify a tuple\n",
    "    for this argument - e.g., `(3, 5)` to get a 3x5 convolution kernel.)\n",
    "\n",
    "The output of a convolutional layer is an *activation map* - a spatial\n",
    "representation of the presence of features in the input tensor. `conv1`\n",
    "will give us an output tensor of 6x28x28; 6 is the number of features,\n",
    "and 28 is the height and width of our map. (The 28 comes from the fact\n",
    "that when scanning a 5-pixel window over a 32-pixel row, there are only\n",
    "28 valid positions.)\n",
    "\n",
    "We then pass the output of the convolution through a ReLU activation\n",
    "function (more on activation functions later), then through a max\n",
    "pooling layer. The max pooling layer takes features near each other in\n",
    "the activation map and groups them together. It does this by reducing\n",
    "the tensor, merging every 2x2 group of cells in the output into a single\n",
    "cell, and assigning that cell the maximum value of the 4 cells that went\n",
    "into it. This gives us a lower-resolution version of the activation map,\n",
    "with dimensions 6x14x14.\n",
    "\n",
    "Our next convolutional layer, `conv2`, expects 6 input channels\n",
    "(corresponding to the 6 features sought by the first layer), has 16\n",
    "output channels, and a 3x3 kernel. It puts out a 16x12x12 activation\n",
    "map, which is again reduced by a max pooling layer to 16x6x6. Prior to\n",
    "passing this output to the linear layers, it is reshaped to a 16 \\* 6 \\*\n",
    "6 = 576-element vector for consumption by the next layer.\n",
    "\n",
    "There are convolutional layers for addressing 1D, 2D, and 3D tensors.\n",
    "There are also many more optional arguments for a conv layer\n",
    "constructor, including stride length(e.g., only scanning every second or\n",
    "every third position) in the input, padding (so you can scan out to the\n",
    "edges of the input), and more. See the\n",
    "[documentation](https://pytorch.org/docs/stable/nn.html#convolution-layers)\n",
    "for more information.\n",
    "\n",
    "Recurrent Layers\n",
    "================\n",
    "\n",
    "*Recurrent neural networks* (or *RNNs)* are used for sequential data\n",
    "-anything from time-series measurements from a scientific instrument to\n",
    "natural language sentences to DNA nucleotides. An RNN does this by\n",
    "maintaining a *hidden state* that acts as a sort of memory for what it\n",
    "has seen in the sequence so far.\n",
    "\n",
    "The internal structure of an RNN layer - or its variants, the LSTM (long\n",
    "short-term memory) and GRU (gated recurrent unit) - is moderately\n",
    "complex and beyond the scope of this video, but we'll show you what one\n",
    "looks like in action with an LSTM-based part-of-speech tagger (a type of\n",
    "classifier that tells you if a word is a noun, verb, etc.):\n"
   ]
  },
  {
   "cell_type": "code",
   "execution_count": 6,
   "metadata": {
    "collapsed": false,
    "jupyter": {
     "outputs_hidden": false
    }
   },
   "outputs": [],
   "source": [
    "class LSTMTagger(torch.nn.Module):\n",
    "\n",
    "    def __init__(self, embedding_dim, hidden_dim, vocab_size, tagset_size):\n",
    "        super(LSTMTagger, self).__init__()\n",
    "        self.hidden_dim = hidden_dim\n",
    "\n",
    "        self.word_embeddings = torch.nn.Embedding(vocab_size, embedding_dim)\n",
    "\n",
    "        # The LSTM takes word embeddings as inputs, and outputs hidden states\n",
    "        # with dimensionality hidden_dim.\n",
    "        self.lstm = torch.nn.LSTM(embedding_dim, hidden_dim)\n",
    "\n",
    "        # The linear layer that maps from hidden state space to tag space\n",
    "        self.hidden2tag = torch.nn.Linear(hidden_dim, tagset_size)\n",
    "\n",
    "    def forward(self, sentence):\n",
    "        embeds = self.word_embeddings(sentence)\n",
    "        lstm_out, _ = self.lstm(embeds.view(len(sentence), 1, -1))\n",
    "        tag_space = self.hidden2tag(lstm_out.view(len(sentence), -1))\n",
    "        tag_scores = F.log_softmax(tag_space, dim=1)\n",
    "        return tag_scores"
   ]
  },
  {
   "cell_type": "markdown",
   "metadata": {},
   "source": [
    "The constructor has four arguments:\n",
    "\n",
    "-   `vocab_size` is the number of words in the input vocabulary. Each\n",
    "    word is a one-hot vector (or unit vector) in a\n",
    "    `vocab_size`-dimensional space.\n",
    "-   `tagset_size` is the number of tags in the output set.\n",
    "-   `embedding_dim` is the size of the *embedding* space for the\n",
    "    vocabulary. An embedding maps a vocabulary onto a low-dimensional\n",
    "    space, where words with similar meanings are close together in the\n",
    "    space.\n",
    "-   `hidden_dim` is the size of the LSTM's memory.\n",
    "\n",
    "The input will be a sentence with the words represented as indices of\n",
    "one-hot vectors. The embedding layer will then map these down to an\n",
    "`embedding_dim`-dimensional space. The LSTM takes this sequence of\n",
    "embeddings and iterates over it, fielding an output vector of length\n",
    "`hidden_dim`. The final linear layer acts as a classifier; applying\n",
    "`log_softmax()` to the output of the final layer converts the output\n",
    "into a normalized set of estimated probabilities that a given word maps\n",
    "to a given tag.\n",
    "\n",
    "If you'd like to see this network in action, check out the [Sequence\n",
    "Models and LSTM\n",
    "Networks](https://pytorch.org/tutorials/beginner/nlp/sequence_models_tutorial.html)\n",
    "tutorial on pytorch.org.\n",
    "\n",
    "Transformers\n",
    "============\n",
    "\n",
    "*Transformers* are multi-purpose networks that have taken over the state\n",
    "of the art in NLP with models like BERT. A discussion of transformer\n",
    "architecture is beyond the scope of this video, but PyTorch has a\n",
    "`Transformer` class that allows you to define the overall parameters of\n",
    "a transformer model - the number of attention heads, the number of\n",
    "encoder & decoder layers, dropout and activation functions, etc. (You\n",
    "can even build the BERT model from this single class, with the right\n",
    "parameters!) The `torch.nn.Transformer` class also has classes to\n",
    "encapsulate the individual components (`TransformerEncoder`,\n",
    "`TransformerDecoder`) and subcomponents (`TransformerEncoderLayer`,\n",
    "`TransformerDecoderLayer`). For details, check out the\n",
    "[documentation](https://pytorch.org/docs/stable/nn.html#transformer-layers)\n",
    "on transformer classes, and the relevant\n",
    "[tutorial](https://pytorch.org/tutorials/beginner/transformer_tutorial.html)\n",
    "on pytorch.org.\n",
    "\n",
    "Other Layers and Functions\n",
    "--------------------------\n",
    "\n",
    "Data Manipulation Layers\n",
    "========================\n",
    "\n",
    "There are other layer types that perform important functions in models,\n",
    "but don't participate in the learning process themselves.\n",
    "\n",
    "**Max pooling** (and its twin, min pooling) reduce a tensor by combining\n",
    "cells, and assigning the maximum value of the input cells to the output\n",
    "cell (we saw this). For example:\n"
   ]
  },
  {
   "cell_type": "code",
   "execution_count": 7,
   "metadata": {
    "collapsed": false,
    "jupyter": {
     "outputs_hidden": false
    }
   },
   "outputs": [
    {
     "name": "stdout",
     "output_type": "stream",
     "text": [
      "tensor([[[0.3001, 0.6753, 0.4909, 0.5609, 0.4653, 0.4702],\n",
      "         [0.2813, 0.5539, 0.7174, 0.2255, 0.6431, 0.7803],\n",
      "         [0.1899, 0.2825, 0.0765, 0.3875, 0.4514, 0.0789],\n",
      "         [0.9929, 0.3873, 0.2635, 0.9790, 0.9655, 0.0191],\n",
      "         [0.2465, 0.1760, 0.1235, 0.0803, 0.8506, 0.5236],\n",
      "         [0.4917, 0.1142, 0.8554, 0.4850, 0.9549, 0.0891]]])\n",
      "tensor([[[0.7174, 0.7803],\n",
      "         [0.9929, 0.9790]]])\n"
     ]
    }
   ],
   "source": [
    "my_tensor = torch.rand(1, 6, 6)\n",
    "print(my_tensor)\n",
    "\n",
    "maxpool_layer = torch.nn.MaxPool2d(3)\n",
    "print(maxpool_layer(my_tensor))"
   ]
  },
  {
   "cell_type": "markdown",
   "metadata": {},
   "source": [
    "If you look closely at the values above, you'll see that each of the\n",
    "values in the maxpooled output is the maximum value of each quadrant of\n",
    "the 6x6 input.\n",
    "\n",
    "**Normalization layers** re-center and normalize the output of one layer\n",
    "before feeding it to another. Centering and scaling the intermediate\n",
    "tensors has a number of beneficial effects, such as letting you use\n",
    "higher learning rates without exploding/vanishing gradients.\n"
   ]
  },
  {
   "cell_type": "code",
   "execution_count": 8,
   "metadata": {
    "collapsed": false,
    "jupyter": {
     "outputs_hidden": false
    }
   },
   "outputs": [
    {
     "name": "stdout",
     "output_type": "stream",
     "text": [
      "tensor([[[24.9021, 17.8260, 24.0870, 17.4388],\n",
      "         [12.9502, 19.1693, 10.3665, 12.9934],\n",
      "         [16.2859, 18.2746, 17.2249,  5.8785],\n",
      "         [14.3112,  9.7320, 19.1545, 13.7256]]])\n",
      "tensor(15.8950)\n",
      "tensor([[[ 1.1140, -0.9395,  0.8774, -1.0519],\n",
      "         [-0.2839,  1.6360, -1.0815, -0.2706],\n",
      "         [ 0.3756,  0.7750,  0.5642, -1.7147],\n",
      "         [ 0.0240, -1.3451,  1.4722, -0.1511]]],\n",
      "       grad_fn=<NativeBatchNormBackward0>)\n",
      "tensor(-2.4214e-08, grad_fn=<MeanBackward0>)\n"
     ]
    }
   ],
   "source": [
    "my_tensor = torch.rand(1, 4, 4) * 20 + 5\n",
    "print(my_tensor)\n",
    "\n",
    "print(my_tensor.mean())\n",
    "\n",
    "norm_layer = torch.nn.BatchNorm1d(4)\n",
    "normed_tensor = norm_layer(my_tensor)\n",
    "print(normed_tensor)\n",
    "\n",
    "print(normed_tensor.mean())"
   ]
  },
  {
   "cell_type": "markdown",
   "metadata": {},
   "source": [
    "Running the cell above, we've added a large scaling factor and offset to\n",
    "an input tensor; you should see the input tensor's `mean()` somewhere in\n",
    "the neighborhood of 15. After running it through the normalization\n",
    "layer, you can see that the values are smaller, and grouped around zero\n",
    "- in fact, the mean should be very small (\\> 1e-8).\n",
    "\n",
    "This is beneficial because many activation functions (discussed below)\n",
    "have their strongest gradients near 0, but sometimes suffer from\n",
    "vanishing or exploding gradients for inputs that drive them far away\n",
    "from zero. Keeping the data centered around the area of steepest\n",
    "gradient will tend to mean faster, better learning and higher feasible\n",
    "learning rates.\n",
    "\n",
    "**Dropout layers** are a tool for encouraging *sparse representations*\n",
    "in your model - that is, pushing it to do inference with less data.\n",
    "\n",
    "Dropout layers work by randomly setting parts of the input tensor\n",
    "*during training* - dropout layers are always turned off for inference.\n",
    "This forces the model to learn against this masked or reduced dataset.\n",
    "For example:\n"
   ]
  },
  {
   "cell_type": "code",
   "execution_count": 9,
   "metadata": {
    "collapsed": false,
    "jupyter": {
     "outputs_hidden": false
    }
   },
   "outputs": [
    {
     "name": "stdout",
     "output_type": "stream",
     "text": [
      "tensor([[[1.1686, 0.8506, 0.7386, 0.0000],\n",
      "         [1.4259, 0.0000, 0.0000, 0.0000],\n",
      "         [0.0000, 1.4393, 1.6483, 1.1152],\n",
      "         [1.6549, 0.0000, 0.0000, 0.0000]]])\n",
      "tensor([[[0.0000, 0.8506, 0.7386, 0.9317],\n",
      "         [0.0000, 0.0000, 0.0000, 0.0000],\n",
      "         [0.0000, 0.0000, 0.0000, 1.1152],\n",
      "         [1.6549, 0.0000, 0.0000, 0.0067]]])\n"
     ]
    }
   ],
   "source": [
    "my_tensor = torch.rand(1, 4, 4)\n",
    "\n",
    "dropout = torch.nn.Dropout(p=0.4)\n",
    "print(dropout(my_tensor))\n",
    "print(dropout(my_tensor))"
   ]
  },
  {
   "cell_type": "markdown",
   "metadata": {},
   "source": [
    "Above, you can see the effect of dropout on a sample tensor. You can use\n",
    "the optional `p` argument to set the probability of an individual weight\n",
    "dropping out; if you don't it defaults to 0.5.\n",
    "\n",
    "Activation Functions\n",
    "====================\n",
    "\n",
    "Activation functions make deep learning possible. A neural network is\n",
    "really a program - with many parameters - that *simulates a mathematical\n",
    "function*. If all we did was multiple tensors by layer weights\n",
    "repeatedly, we could only simulate *linear functions;* further, there\n",
    "would be no point to having many layers, as the whole network would\n",
    "reduce could be reduced to a single matrix multiplication. Inserting\n",
    "*non-linear* activation functions between layers is what allows a deep\n",
    "learning model to simulate any function, rather than just linear ones.\n",
    "\n",
    "`torch.nn.Module` has objects encapsulating all of the major activation\n",
    "functions including ReLU and its many variants, Tanh, Hardtanh, sigmoid,\n",
    "and more. It also includes other functions, such as Softmax, that are\n",
    "most useful at the output stage of a model.\n",
    "\n",
    "Loss Functions\n",
    "==============\n",
    "\n",
    "Loss functions tell us how far a model's prediction is from the correct\n",
    "answer. PyTorch contains a variety of loss functions, including common\n",
    "MSE (mean squared error = L2 norm), Cross Entropy Loss and Negative\n",
    "Likelihood Loss (useful for classifiers), and others.\n"
   ]
  },
  {
   "cell_type": "code",
   "execution_count": null,
   "metadata": {},
   "outputs": [],
   "source": []
  },
  {
   "cell_type": "code",
   "execution_count": null,
   "metadata": {},
   "outputs": [],
   "source": []
  }
 ],
 "metadata": {
  "kernelspec": {
   "display_name": "Python 3 (ipykernel)",
   "language": "python",
   "name": "python3"
  },
  "language_info": {
   "codemirror_mode": {
    "name": "ipython",
    "version": 3
   },
   "file_extension": ".py",
   "mimetype": "text/x-python",
   "name": "python",
   "nbconvert_exporter": "python",
   "pygments_lexer": "ipython3",
   "version": "3.12.2"
  }
 },
 "nbformat": 4,
 "nbformat_minor": 4
}
