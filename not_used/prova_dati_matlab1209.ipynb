{
 "cells": [
  {
   "cell_type": "code",
   "execution_count": 2,
   "id": "6bdf99db-e204-4d78-9d57-cbe5dcf88597",
   "metadata": {},
   "outputs": [],
   "source": [
    "import scipy.io as io\n",
    "import torch \n",
    "import numpy as np"
   ]
  },
  {
   "cell_type": "code",
   "execution_count": 3,
   "id": "96426c28-7b98-4ee0-b439-997c4daa144c",
   "metadata": {},
   "outputs": [],
   "source": [
    "dset = io.loadmat('matlab_dataset/insect_dataset.mat')"
   ]
  },
  {
   "cell_type": "code",
   "execution_count": 4,
   "id": "7b30d044-ba48-44bc-82fb-0d868cfd54eb",
   "metadata": {},
   "outputs": [],
   "source": [
    "all_dnas = dset['all_dnas']\n",
    "all_labels = dset['all_labels']-1\n",
    "all_dnas_torch = torch.load('tensor_dataset/all_dnas.pt')\n",
    "all_labels_torch = torch.load('tensor_dataset/all_labels.pt')\n",
    "\n",
    "train_loc = dset['train_loc']-1\n",
    "val_seen_loc = dset['val_seen_loc']-1\n",
    "val_seen_loc_torch = torch.load('tensor_dataset/val_seen_loc.pt').numpy()\n",
    "\n",
    "val_unseen_loc = dset['val_unseen_loc']-1\n"
   ]
  },
  {
   "cell_type": "code",
   "execution_count": 5,
   "id": "df9f1861-e72b-4e7b-a7fe-8e67b2b1a5bf",
   "metadata": {},
   "outputs": [],
   "source": [
    "for i,dna in enumerate(all_dnas):\n",
    "    assert (dna == all_dnas_torch[i].numpy()).all()\n",
    "    assert all_labels[0][i]== all_labels_torch[i],f\"error with index {i}\" \n",
    "    \n",
    "    "
   ]
  },
  {
   "cell_type": "code",
   "execution_count": 6,
   "id": "2b2e8c7c-c768-430e-814f-c11f18ee808d",
   "metadata": {},
   "outputs": [],
   "source": [
    "for locmat,loctorch in zip(val_seen_loc[0],val_seen_loc_torch):\n",
    "    assert(locmat==loctorch)"
   ]
  },
  {
   "cell_type": "code",
   "execution_count": 7,
   "id": "2a5294ac-72bb-4645-be24-3494c5a9166a",
   "metadata": {},
   "outputs": [],
   "source": [
    "all_dnas = np.reshape(all_dnas,(32424,658*5))\n",
    "all_dnas.shape\n",
    "train_dnas = all_dnas[train_loc].squeeze()\n",
    "train_labels = all_labels[0][train_loc].squeeze()\n",
    "\n",
    "valseen_dnas = all_dnas[val_seen_loc].squeeze()\n",
    "valseen_labels = all_labels[0][val_seen_loc].squeeze()\n",
    "\n",
    "valunseen_dnas = all_dnas[val_unseen_loc].squeeze()\n",
    "valunseen_labels = all_labels[0][val_unseen_loc].squeeze()"
   ]
  },
  {
   "cell_type": "code",
   "execution_count": 8,
   "id": "7ced51d0-1813-4de0-b02a-1a172e7e7682",
   "metadata": {},
   "outputs": [],
   "source": [
    "from sklearn.ensemble import RandomForestClassifier\n",
    "clf = RandomForestClassifier(min_samples_leaf=2,n_jobs=-1)\n",
    "clf = clf.fit(train_dnas, train_labels)"
   ]
  },
  {
   "cell_type": "code",
   "execution_count": 9,
   "id": "371403ef-f3c0-4d19-ae7e-5ef1f71eb03c",
   "metadata": {},
   "outputs": [
    {
     "name": "stdout",
     "output_type": "stream",
     "text": [
      "Training species accuracy:0.9990796840248485\n"
     ]
    }
   ],
   "source": [
    "train_predicted_labels = clf.predict(train_dnas)\n",
    "print(f\"Training species accuracy:{np.count_nonzero(train_predicted_labels==train_labels)/len(train_labels)}\")\n"
   ]
  },
  {
   "cell_type": "code",
   "execution_count": 10,
   "id": "beaa45dc-94ff-41ee-a3c2-c9d0164c6e22",
   "metadata": {},
   "outputs": [
    {
     "name": "stdout",
     "output_type": "stream",
     "text": [
      "Validation seen accuracy:0.9823747680890538\n"
     ]
    }
   ],
   "source": [
    "valseen_predicted_labels = clf.predict(valseen_dnas)\n",
    "print(f\"Validation seen accuracy:{np.count_nonzero(valseen_predicted_labels==valseen_labels)/len(valseen_labels)}\")"
   ]
  },
  {
   "cell_type": "code",
   "execution_count": 11,
   "id": "b38d9bf2-46de-4f6b-b475-2a42cff4047c",
   "metadata": {},
   "outputs": [
    {
     "name": "stdout",
     "output_type": "stream",
     "text": [
      "Validation unseen accuracy:0.0\n"
     ]
    }
   ],
   "source": [
    "valunseen_predicted_labels = clf.predict(valunseen_dnas)\n",
    "print(f\"Validation unseen accuracy:{np.count_nonzero(valunseen_predicted_labels==valunseen_labels)/len(valunseen_labels)}\")"
   ]
  },
  {
   "cell_type": "markdown",
   "id": "91013063-89ee-4e7d-ac5e-76f1a5a2415f",
   "metadata": {},
   "source": [
    "# prova features resnet101"
   ]
  },
  {
   "cell_type": "code",
   "execution_count": 12,
   "id": "fcffb412-d7f6-41a2-8e22-c8f1bf18ef28",
   "metadata": {},
   "outputs": [],
   "source": [
    "resfeatures = io.loadmat('resnet_features.mat')"
   ]
  },
  {
   "cell_type": "code",
   "execution_count": 41,
   "id": "027161a0-069f-4642-aceb-8d77462aa48c",
   "metadata": {},
   "outputs": [],
   "source": [
    "all_features = resfeatures['all_features']\n",
    "train_features = all_features[train_loc[0,:],:]\n",
    "val_seen_features = all_features[val_seen_loc[0,:],:]\n",
    "val_unseen_features = all_features[val_unseen_loc[0,:],:]"
   ]
  },
  {
   "cell_type": "code",
   "execution_count": 38,
   "id": "f710596b-21b1-4c31-b824-0a01e21297b1",
   "metadata": {},
   "outputs": [],
   "source": [
    "from sklearn.ensemble import RandomForestClassifier\n",
    "clf = RandomForestClassifier(min_samples_leaf=2,n_jobs=-1)\n",
    "clf = clf.fit(train_features, train_labels)"
   ]
  },
  {
   "cell_type": "code",
   "execution_count": 39,
   "id": "b2ec6019-33bf-4f8b-afd8-c7f76a2dea66",
   "metadata": {},
   "outputs": [
    {
     "name": "stdout",
     "output_type": "stream",
     "text": [
      "Training species accuracy:0.9996932280082829\n"
     ]
    }
   ],
   "source": [
    "train_predicted_labels = clf.predict(train_features)\n",
    "print(f\"Training species accuracy:{np.count_nonzero(train_predicted_labels==train_labels)/len(train_labels)}\")\n"
   ]
  },
  {
   "cell_type": "code",
   "execution_count": 45,
   "id": "5e4e2c66-1d82-4399-a1a1-f832251d654a",
   "metadata": {},
   "outputs": [
    {
     "name": "stdout",
     "output_type": "stream",
     "text": [
      "Validation seen accuracy:0.3002473716759431\n"
     ]
    }
   ],
   "source": [
    "valseen_predicted_labels = clf.predict(val_seen_features)\n",
    "print(f\"Validation seen accuracy:{np.count_nonzero(valseen_predicted_labels==valseen_labels)/len(valseen_labels)}\")"
   ]
  },
  {
   "cell_type": "code",
   "execution_count": 42,
   "id": "058156c8-436e-4714-b61c-af90c0dbd0b9",
   "metadata": {},
   "outputs": [
    {
     "name": "stdout",
     "output_type": "stream",
     "text": [
      "Validation unseen accuracy:0.0\n"
     ]
    }
   ],
   "source": [
    "valunseen_predicted_labels = clf.predict(val_unseen_features)\n",
    "print(f\"Validation unseen accuracy:{np.count_nonzero(valunseen_predicted_labels==valunseen_labels)/len(valunseen_labels)}\")"
   ]
  },
  {
   "cell_type": "code",
   "execution_count": 47,
   "id": "d673e20a-20bc-4dff-98d3-3db17998240f",
   "metadata": {},
   "outputs": [
    {
     "name": "stdout",
     "output_type": "stream",
     "text": [
      "Validation seen+unseen accuracy:0.1396117900790798\n"
     ]
    }
   ],
   "source": [
    "valseen_predicted_labels = clf.predict(np.concatenate((val_seen_features,val_unseen_features)))\n",
    "print(f\"Validation seen+unseen accuracy:{np.count_nonzero(\n",
    "    valseen_predicted_labels==np.concatenate((valseen_labels,valunseen_labels)))/len(np.concatenate((valseen_labels,valunseen_labels)))}\")\n"
   ]
  }
 ],
 "metadata": {
  "kernelspec": {
   "display_name": "Python 3 (ipykernel)",
   "language": "python",
   "name": "python3"
  },
  "language_info": {
   "codemirror_mode": {
    "name": "ipython",
    "version": 3
   },
   "file_extension": ".py",
   "mimetype": "text/x-python",
   "name": "python",
   "nbconvert_exporter": "python",
   "pygments_lexer": "ipython3",
   "version": "3.12.2"
  }
 },
 "nbformat": 4,
 "nbformat_minor": 5
}
