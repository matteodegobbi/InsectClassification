{
 "cells": [
  {
   "cell_type": "code",
   "execution_count": 1,
   "id": "984d61ab-6641-4682-9372-9198ae4ec6c8",
   "metadata": {},
   "outputs": [
    {
     "data": {
      "text/plain": [
       "<module 'dataset_utils' from '/home/fogliodicarta/Desktop/InsectClassification/dataset_utils.py'>"
      ]
     },
     "execution_count": 1,
     "metadata": {},
     "output_type": "execute_result"
    }
   ],
   "source": [
    "import torch\n",
    "import torchvision\n",
    "from torch import nn\n",
    "from torchvision import transforms\n",
    "import matplotlib.pyplot as plt\n",
    "import pandas as pd\n",
    "from IPython.display import Image \n",
    "import numpy as np\n",
    "import dataset_utils\n",
    "import importlib\n",
    "from sklearn.multioutput import MultiOutputClassifier\n",
    "from sklearn.svm import LinearSVC,SVC\n",
    "from sklearn.ensemble import RandomForestClassifier\n",
    "from sklearn.ensemble import BaggingClassifier \n",
    "from sklearn.preprocessing import StandardScaler\n",
    "\n",
    "importlib.reload(dataset_utils)"
   ]
  },
  {
   "cell_type": "code",
   "execution_count": 8,
   "id": "22ac3206-b7c0-440d-b053-29b65e0e2ee2",
   "metadata": {},
   "outputs": [],
   "source": [
    "csv_path='final_dataset.csv'\n",
    "image_path = 'image_dataset/'\n",
    "batch_size = 1000\n",
    "shuffle_loaders = False"
   ]
  },
  {
   "cell_type": "code",
   "execution_count": 9,
   "id": "cbf5d0f0-9d84-4229-b9c1-f9efed5179f4",
   "metadata": {},
   "outputs": [],
   "source": [
    "from dataset_utils import *"
   ]
  },
  {
   "cell_type": "code",
   "execution_count": 20,
   "id": "8b55fb02-445d-42ce-a4de-bdb21e78f42a",
   "metadata": {},
   "outputs": [],
   "source": [
    "df = pd.read_csv(csv_path,index_col=0)\n",
    "imsize = 64\n",
    "tform = transforms.Compose([transforms.Resize((imsize,imsize)),\n",
    "                            transforms.PILToTensor(),\n",
    "                            transforms.ConvertImageDtype(torch.float),\n",
    "                            transforms.Normalize(0.5,0.5)])\n",
    "image_dataset = torchvision.datasets.ImageFolder(image_path, transform=tform)\n",
    "\n",
    "img2dna = get_imgs_bold_id(image_dataset,df)\n",
    "\n",
    "nucleotides = df[['nucleotide','species_name','genus_name','processid','image_urls']]\n",
    "colonna_dna = df.loc[:,\"nucleotide\"]\n",
    "nucleotides.loc[:,'nucleotide'] = colonna_dna.apply(one_hot_encoding)\n",
    "random.seed(42)\n",
    "X_train_val, X_test, y_train_val, y_test = data_split(nucleotides,0.2,random_state=42)\n",
    "train_data = X_train_val\n",
    "train_data['species_name'] = y_train_val\n",
    "X_train, X_validation, y_train, y_validation = data_split(train_data,0.2,drop_labels=False,random_state=42)\n",
    "train_indices, val_indices, test_indices = image_splits_from_df(X_train,X_validation,X_test,image_dataset)\n",
    " \n",
    "class WholeDataset(Dataset):\n",
    "    def __init__(self, data, transform=None):\n",
    "        self.data = data\n",
    "        self.targets = data.targets            \n",
    "    def __getitem__(self, index):\n",
    "        x = self.data[index][0]\n",
    "        y = self.targets[index]\n",
    "        return x, y\n",
    "    \n",
    "    def __len__(self):\n",
    "        return len(self.data)\n",
    "        \n",
    "whole_dataset = WholeDataset(image_dataset)\n",
    "n_classes = np.unique(whole_dataset.targets).shape[0]\n",
    "train_imgs = torch.utils.data.Subset(whole_dataset, train_indices)\n",
    "val_imgs = torch.utils.data.Subset(whole_dataset, val_indices)\n",
    "train_val_imgs = torch.utils.data.Subset(whole_dataset, train_indices+val_indices)\n",
    "test_imgs = torch.utils.data.Subset(whole_dataset, test_indices)\n",
    "\n",
    "train_loader = torch.utils.data.DataLoader(train_imgs, batch_size=len(train_imgs),shuffle=shuffle_loaders, num_workers=2)\n",
    "val_loader = torch.utils.data.DataLoader(val_imgs, batch_size=len(val_imgs),shuffle=shuffle_loaders, num_workers=2)\n",
    "train_val_loader = torch.utils.data.DataLoader(train_val_imgs, batch_size=len(test_imgs),shuffle=shuffle_loaders, num_workers=2)\n",
    "test_loader = torch.utils.data.DataLoader(test_imgs, batch_size=batch_size,shuffle=shuffle_loaders, num_workers=2)\n",
    "dataloaders = {\"train\":train_loader,\"val\":val_loader,\"test\":test_loader,'train_val':train_val_loader}\n",
    "dataset_sizes = {'train': len(train_imgs.indices), 'val':len(val_imgs.indices),'test':len(test_imgs.indices),'train_val':len(train_val_imgs.indices)}\n",
    "\n",
    "described_species_labels = np.array([image_dataset.targets[i] for i in train_indices])\n",
    "described_species_labels = np.unique(described_species_labels)\n"
   ]
  },
  {
   "cell_type": "code",
   "execution_count": 21,
   "id": "15f3c934-469a-46d9-8eda-8cc501e6af35",
   "metadata": {},
   "outputs": [],
   "source": [
    "described_species_labels_train = set(np.array([image_dataset.targets[i] for i in train_indices]))\n",
    "described_species_labels_trainval = set(np.array([image_dataset.targets[i] for i in train_indices+val_indices]))"
   ]
  },
  {
   "cell_type": "code",
   "execution_count": 16,
   "id": "8b2a9fcb-1c0e-45d6-beac-b2ccc60e7d4e",
   "metadata": {},
   "outputs": [],
   "source": [
    "train_loc = train_indices\n",
    "trainval_loc = train_indices+val_indices\n",
    "\n",
    "n_seen_val = 0\n",
    "val_all_loc = set()\n",
    "val_seen_loc = set() \n",
    "for i in val_indices:\n",
    "    val_all_loc.add(i)\n",
    "    if image_dataset[i][1] in described_species_labels_train:\n",
    "        n_seen_val+=1\n",
    "        val_seen_loc.add(i)\n",
    "val_unseen_loc = val_all_loc - val_seen_loc\n",
    "\n",
    "n_seen_test = 0\n",
    "test_all_loc = set()\n",
    "test_seen_loc = set() \n",
    "for i in test_indices:\n",
    "    test_all_loc.add(i)\n",
    "    if image_dataset[i][1] in described_species_labels_trainval:\n",
    "        n_seen_test+=1\n",
    "        test_seen_loc.add(i)\n",
    "test_unseen_loc = test_all_loc - test_seen_loc"
   ]
  },
  {
   "cell_type": "code",
   "execution_count": null,
   "id": "64ae8aa1-284c-4e34-96d4-e384897f31cf",
   "metadata": {},
   "outputs": [],
   "source": []
  },
  {
   "cell_type": "code",
   "execution_count": 25,
   "id": "d40e4dd3-28c2-43cf-aaa2-dbf716ece5fc",
   "metadata": {},
   "outputs": [
    {
     "name": "stderr",
     "output_type": "stream",
     "text": [
      "Exception ignored in: <function _MultiProcessingDataLoaderIter.__del__ at 0x738a97786f20>\n",
      "Traceback (most recent call last):\n",
      "  File \"/home/fogliodicarta/miniconda3/envs/insetti/lib/python3.12/site-packages/torch/utils/data/dataloader.py\", line 1479, in __del__\n",
      "    self._shutdown_workers()\n",
      "  File \"/home/fogliodicarta/miniconda3/envs/insetti/lib/python3.12/site-packages/torch/utils/data/dataloader.py\", line 1462, in _shutdown_workers\n",
      "    if w.is_alive():\n",
      "       ^^^^^^^^^^^^\n",
      "  File \"/home/fogliodicarta/miniconda3/envs/insetti/lib/python3.12/multiprocessing/process.py\", line 160, in is_alive\n",
      "    assert self._parent_pid == os.getpid(), 'can only test a child process'\n",
      "AssertionError: can only test a child process\n",
      "Traceback (most recent call last):\n",
      "  File \"/home/fogliodicarta/miniconda3/envs/insetti/lib/python3.12/multiprocessing/queues.py\", line 259, in _feed\n",
      "    reader_close()\n",
      "  File \"/home/fogliodicarta/miniconda3/envs/insetti/lib/python3.12/multiprocessing/connection.py\", line 178, in close\n",
      "    self._close()\n",
      "  File \"/home/fogliodicarta/miniconda3/envs/insetti/lib/python3.12/multiprocessing/connection.py\", line 377, in _close\n",
      "    _close(self._handle)\n",
      "OSError: [Errno 9] Bad file descriptor\n"
     ]
    }
   ],
   "source": [
    "tt = None\n",
    "for x in train_loader:\n",
    "    tt = (x)"
   ]
  },
  {
   "cell_type": "code",
   "execution_count": 32,
   "id": "62d9bb83-017a-4e8d-aeef-e4e73a54106d",
   "metadata": {},
   "outputs": [
    {
     "data": {
      "text/plain": [
       "torch.Size([13039, 3, 64, 64])"
      ]
     },
     "execution_count": 32,
     "metadata": {},
     "output_type": "execute_result"
    }
   ],
   "source": [
    "tt[0].shape"
   ]
  }
 ],
 "metadata": {
  "kernelspec": {
   "display_name": "Python 3 (ipykernel)",
   "language": "python",
   "name": "python3"
  },
  "language_info": {
   "codemirror_mode": {
    "name": "ipython",
    "version": 3
   },
   "file_extension": ".py",
   "mimetype": "text/x-python",
   "name": "python",
   "nbconvert_exporter": "python",
   "pygments_lexer": "ipython3",
   "version": "3.12.2"
  }
 },
 "nbformat": 4,
 "nbformat_minor": 5
}
