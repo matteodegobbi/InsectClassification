{
 "cells": [
  {
   "cell_type": "code",
   "execution_count": 49,
   "id": "cc5db204-d5b2-4a08-a998-cd167de32a63",
   "metadata": {},
   "outputs": [],
   "source": [
    "import pandas as pd\n",
    "dataframe = pd.read_csv(\"outImage.csv\",sep=\"\\t\")\n",
    "\n"
   ]
  },
  {
   "cell_type": "code",
   "execution_count": 50,
   "id": "60eefef8-2f36-492f-888e-be0baacb6216",
   "metadata": {},
   "outputs": [
    {
     "ename": "KeyError",
     "evalue": "'sampleid'",
     "output_type": "error",
     "traceback": [
      "\u001b[0;31m---------------------------------------------------------------------------\u001b[0m",
      "\u001b[0;31mKeyError\u001b[0m                                  Traceback (most recent call last)",
      "File \u001b[0;32m~/miniconda3/envs/insetti/lib/python3.12/site-packages/pandas/core/indexes/base.py:3805\u001b[0m, in \u001b[0;36mIndex.get_loc\u001b[0;34m(self, key)\u001b[0m\n\u001b[1;32m   3804\u001b[0m \u001b[38;5;28;01mtry\u001b[39;00m:\n\u001b[0;32m-> 3805\u001b[0m     \u001b[38;5;28;01mreturn\u001b[39;00m \u001b[38;5;28mself\u001b[39m\u001b[38;5;241m.\u001b[39m_engine\u001b[38;5;241m.\u001b[39mget_loc(casted_key)\n\u001b[1;32m   3806\u001b[0m \u001b[38;5;28;01mexcept\u001b[39;00m \u001b[38;5;167;01mKeyError\u001b[39;00m \u001b[38;5;28;01mas\u001b[39;00m err:\n",
      "File \u001b[0;32mindex.pyx:167\u001b[0m, in \u001b[0;36mpandas._libs.index.IndexEngine.get_loc\u001b[0;34m()\u001b[0m\n",
      "File \u001b[0;32mindex.pyx:196\u001b[0m, in \u001b[0;36mpandas._libs.index.IndexEngine.get_loc\u001b[0;34m()\u001b[0m\n",
      "File \u001b[0;32mpandas/_libs/hashtable_class_helper.pxi:7081\u001b[0m, in \u001b[0;36mpandas._libs.hashtable.PyObjectHashTable.get_item\u001b[0;34m()\u001b[0m\n",
      "File \u001b[0;32mpandas/_libs/hashtable_class_helper.pxi:7089\u001b[0m, in \u001b[0;36mpandas._libs.hashtable.PyObjectHashTable.get_item\u001b[0;34m()\u001b[0m\n",
      "\u001b[0;31mKeyError\u001b[0m: 'sampleid'",
      "\nThe above exception was the direct cause of the following exception:\n",
      "\u001b[0;31mKeyError\u001b[0m                                  Traceback (most recent call last)",
      "Cell \u001b[0;32mIn[50], line 1\u001b[0m\n\u001b[0;32m----> 1\u001b[0m dataframe[\u001b[38;5;124m'\u001b[39m\u001b[38;5;124msampleid\u001b[39m\u001b[38;5;124m'\u001b[39m][\u001b[38;5;241m10\u001b[39m]\n",
      "File \u001b[0;32m~/miniconda3/envs/insetti/lib/python3.12/site-packages/pandas/core/frame.py:4090\u001b[0m, in \u001b[0;36mDataFrame.__getitem__\u001b[0;34m(self, key)\u001b[0m\n\u001b[1;32m   4088\u001b[0m \u001b[38;5;28;01mif\u001b[39;00m \u001b[38;5;28mself\u001b[39m\u001b[38;5;241m.\u001b[39mcolumns\u001b[38;5;241m.\u001b[39mnlevels \u001b[38;5;241m>\u001b[39m \u001b[38;5;241m1\u001b[39m:\n\u001b[1;32m   4089\u001b[0m     \u001b[38;5;28;01mreturn\u001b[39;00m \u001b[38;5;28mself\u001b[39m\u001b[38;5;241m.\u001b[39m_getitem_multilevel(key)\n\u001b[0;32m-> 4090\u001b[0m indexer \u001b[38;5;241m=\u001b[39m \u001b[38;5;28mself\u001b[39m\u001b[38;5;241m.\u001b[39mcolumns\u001b[38;5;241m.\u001b[39mget_loc(key)\n\u001b[1;32m   4091\u001b[0m \u001b[38;5;28;01mif\u001b[39;00m is_integer(indexer):\n\u001b[1;32m   4092\u001b[0m     indexer \u001b[38;5;241m=\u001b[39m [indexer]\n",
      "File \u001b[0;32m~/miniconda3/envs/insetti/lib/python3.12/site-packages/pandas/core/indexes/base.py:3812\u001b[0m, in \u001b[0;36mIndex.get_loc\u001b[0;34m(self, key)\u001b[0m\n\u001b[1;32m   3807\u001b[0m     \u001b[38;5;28;01mif\u001b[39;00m \u001b[38;5;28misinstance\u001b[39m(casted_key, \u001b[38;5;28mslice\u001b[39m) \u001b[38;5;129;01mor\u001b[39;00m (\n\u001b[1;32m   3808\u001b[0m         \u001b[38;5;28misinstance\u001b[39m(casted_key, abc\u001b[38;5;241m.\u001b[39mIterable)\n\u001b[1;32m   3809\u001b[0m         \u001b[38;5;129;01mand\u001b[39;00m \u001b[38;5;28many\u001b[39m(\u001b[38;5;28misinstance\u001b[39m(x, \u001b[38;5;28mslice\u001b[39m) \u001b[38;5;28;01mfor\u001b[39;00m x \u001b[38;5;129;01min\u001b[39;00m casted_key)\n\u001b[1;32m   3810\u001b[0m     ):\n\u001b[1;32m   3811\u001b[0m         \u001b[38;5;28;01mraise\u001b[39;00m InvalidIndexError(key)\n\u001b[0;32m-> 3812\u001b[0m     \u001b[38;5;28;01mraise\u001b[39;00m \u001b[38;5;167;01mKeyError\u001b[39;00m(key) \u001b[38;5;28;01mfrom\u001b[39;00m \u001b[38;5;21;01merr\u001b[39;00m\n\u001b[1;32m   3813\u001b[0m \u001b[38;5;28;01mexcept\u001b[39;00m \u001b[38;5;167;01mTypeError\u001b[39;00m:\n\u001b[1;32m   3814\u001b[0m     \u001b[38;5;66;03m# If we have a listlike key, _check_indexing_error will raise\u001b[39;00m\n\u001b[1;32m   3815\u001b[0m     \u001b[38;5;66;03m#  InvalidIndexError. Otherwise we fall through and re-raise\u001b[39;00m\n\u001b[1;32m   3816\u001b[0m     \u001b[38;5;66;03m#  the TypeError.\u001b[39;00m\n\u001b[1;32m   3817\u001b[0m     \u001b[38;5;28mself\u001b[39m\u001b[38;5;241m.\u001b[39m_check_indexing_error(key)\n",
      "\u001b[0;31mKeyError\u001b[0m: 'sampleid'"
     ]
    }
   ],
   "source": [
    "dataframe['sampleid'][10]"
   ]
  },
  {
   "cell_type": "code",
   "execution_count": 51,
   "id": "f00743ba-de62-436a-9f11-5a3df53e339f",
   "metadata": {},
   "outputs": [
    {
     "data": {
      "text/html": [
       "<div>\n",
       "<style scoped>\n",
       "    .dataframe tbody tr th:only-of-type {\n",
       "        vertical-align: middle;\n",
       "    }\n",
       "\n",
       "    .dataframe tbody tr th {\n",
       "        vertical-align: top;\n",
       "    }\n",
       "\n",
       "    .dataframe thead th {\n",
       "        text-align: right;\n",
       "    }\n",
       "</style>\n",
       "<table border=\"1\" class=\"dataframe\">\n",
       "  <thead>\n",
       "    <tr style=\"text-align: right;\">\n",
       "      <th></th>\n",
       "      <th>image_ids</th>\n",
       "      <th>image_urls</th>\n",
       "      <th>copyright_licenses</th>\n",
       "      <th>trace_ids</th>\n",
       "      <th>trace_links</th>\n",
       "      <th>run_dates</th>\n",
       "      <th>sequencing_centers</th>\n",
       "      <th>directions</th>\n",
       "      <th>seq_primers</th>\n",
       "      <th>marker_codes</th>\n",
       "    </tr>\n",
       "  </thead>\n",
       "  <tbody>\n",
       "    <tr>\n",
       "      <th>0</th>\n",
       "      <td>1465954</td>\n",
       "      <td>http://v3.boldsystems.org/pics/FBACB/BC_ZSM_HY...</td>\n",
       "      <td>CreativeCommons - Attribution Non-Commercial S...</td>\n",
       "      <td>3686975|3686875</td>\n",
       "      <td>http://trace.boldsystems.org/traceIO/bold.org/...</td>\n",
       "      <td>2012-01-10 16:52:59|2012-01-10 15:09:54</td>\n",
       "      <td>Centre for Biodiversity Genomics|Centre for Bi...</td>\n",
       "      <td>R|F</td>\n",
       "      <td>LepR1|LepF1</td>\n",
       "      <td>COI-5P|COI-5P</td>\n",
       "    </tr>\n",
       "    <tr>\n",
       "      <th>1</th>\n",
       "      <td>1187050</td>\n",
       "      <td>http://v3.boldsystems.org/pics/FBACB/BC_ZSM_HY...</td>\n",
       "      <td>CreativeCommons - Attribution Non-Commercial S...</td>\n",
       "      <td>2831408|2830643</td>\n",
       "      <td>http://trace.boldsystems.org/traceIO/bold.org/...</td>\n",
       "      <td>2011-03-27 09:07:35|2011-03-27 07:40:44</td>\n",
       "      <td>Centre for Biodiversity Genomics|Centre for Bi...</td>\n",
       "      <td>R|F</td>\n",
       "      <td>LepR1|LepF1</td>\n",
       "      <td>COI-5P|COI-5P</td>\n",
       "    </tr>\n",
       "    <tr>\n",
       "      <th>2</th>\n",
       "      <td>1187051</td>\n",
       "      <td>http://v3.boldsystems.org/pics/FBACB/BC_ZSM_HY...</td>\n",
       "      <td>CreativeCommons - Attribution Non-Commercial S...</td>\n",
       "      <td>2831410|2830644</td>\n",
       "      <td>http://trace.boldsystems.org/traceIO/bold.org/...</td>\n",
       "      <td>2011-03-27 09:07:35|2011-03-27 07:40:44</td>\n",
       "      <td>Centre for Biodiversity Genomics|Centre for Bi...</td>\n",
       "      <td>R|F</td>\n",
       "      <td>LepR1|LepF1</td>\n",
       "      <td>COI-5P|COI-5P</td>\n",
       "    </tr>\n",
       "    <tr>\n",
       "      <th>3</th>\n",
       "      <td>1187052</td>\n",
       "      <td>http://v3.boldsystems.org/pics/FBACB/BC_ZSM_HY...</td>\n",
       "      <td>CreativeCommons - Attribution Non-Commercial S...</td>\n",
       "      <td>2831412|2830684</td>\n",
       "      <td>http://trace.boldsystems.org/traceIO/bold.org/...</td>\n",
       "      <td>2011-03-27 09:07:35|2011-03-27 07:40:44</td>\n",
       "      <td>Centre for Biodiversity Genomics|Centre for Bi...</td>\n",
       "      <td>R|F</td>\n",
       "      <td>LepR1|LepF1</td>\n",
       "      <td>COI-5P|COI-5P</td>\n",
       "    </tr>\n",
       "    <tr>\n",
       "      <th>4</th>\n",
       "      <td>1187053</td>\n",
       "      <td>http://v3.boldsystems.org/pics/FBACB/BC_ZSM_HY...</td>\n",
       "      <td>CreativeCommons - Attribution Non-Commercial S...</td>\n",
       "      <td>2831414|2830784</td>\n",
       "      <td>http://trace.boldsystems.org/traceIO/bold.org/...</td>\n",
       "      <td>2011-03-27 09:07:35|2011-03-27 07:40:44</td>\n",
       "      <td>Centre for Biodiversity Genomics|Centre for Bi...</td>\n",
       "      <td>R|F</td>\n",
       "      <td>LepR1|LepF1</td>\n",
       "      <td>COI-5P|COI-5P</td>\n",
       "    </tr>\n",
       "  </tbody>\n",
       "</table>\n",
       "</div>"
      ],
      "text/plain": [
       "   image_ids  ...   marker_codes\n",
       "0    1465954  ...  COI-5P|COI-5P\n",
       "1    1187050  ...  COI-5P|COI-5P\n",
       "2    1187051  ...  COI-5P|COI-5P\n",
       "3    1187052  ...  COI-5P|COI-5P\n",
       "4    1187053  ...  COI-5P|COI-5P\n",
       "\n",
       "[5 rows x 10 columns]"
      ]
     },
     "execution_count": 51,
     "metadata": {},
     "output_type": "execute_result"
    }
   ],
   "source": [
    "dataframe.head()"
   ]
  },
  {
   "cell_type": "code",
   "execution_count": 33,
   "id": "975775fa-6374-4a9b-ba01-ced6e52744be",
   "metadata": {},
   "outputs": [
    {
     "data": {
      "text/plain": [
       "52"
      ]
     },
     "execution_count": 33,
     "metadata": {},
     "output_type": "execute_result"
    }
   ],
   "source": [
    "f = open(\"Cerceris interrupta.tsv\", \"r\")\n",
    "lines = f.readlines()\n",
    "#print(lines)\n",
    "len(lines)"
   ]
  },
  {
   "cell_type": "code",
   "execution_count": 47,
   "id": "b6a2c845-f688-46b5-b642-3d478dc56939",
   "metadata": {},
   "outputs": [
    {
     "name": "stdout",
     "output_type": "stream",
     "text": [
      "image_ids\timage_urls\tcopyright_licenses\ttrace_ids\ttrace_links\trun_dates\tsequencing_centers\tdirections\tseq_primers\tmarker_codes\n",
      "\n",
      "1465954\thttp://v3.boldsystems.org/pics/FBACB/BC_ZSM_HYM_09971+1324046466.jpg\tCreativeCommons - Attribution Non-Commercial Share-Alike\t3686975|3686875\thttp://trace.boldsystems.org/traceIO/bold.org/5566639|http://trace.boldsystems.org/traceIO/bold.org/5566539\t2012-01-10 16:52:59|2012-01-10 15:09:54\tCentre for Biodiversity Genomics|Centre for Biodiversity Genomics\tR|F\tLepR1|LepF1\tCOI-5P|COI-5P\n",
      "\n",
      "1187050\thttp://v3.boldsystems.org/pics/FBACB/BC_ZSM_HYM_06229+1309183690.jpg\tCreativeCommons - Attribution Non-Commercial Share-Alike\t2831408|2830643\thttp://trace.boldsystems.org/traceIO/bold.org/2508420|http://trace.boldsystems.org/traceIO/bold.org/2507765\t2011-03-27 09:07:35|2011-03-27 07:40:44\tCentre for Biodiversity Genomics|Centre for Biodiversity Genomics\tR|F\tLepR1|LepF1\tCOI-5P|COI-5P\n",
      "\n",
      "1187051\thttp://v3.boldsystems.org/pics/FBACB/BC_ZSM_HYM_06230+1309183686.jpg\tCreativeCommons - Attribution Non-Commercial Share-Alike\t2831410|2830644\thttp://trace.boldsystems.org/traceIO/bold.org/2508421|http://trace.boldsystems.org/traceIO/bold.org/2507766\t2011-03-27 09:07:35|2011-03-27 07:40:44\tCentre for Biodiversity Genomics|Centre for Biodiversity Genomics\tR|F\tLepR1|LepF1\tCOI-5P|COI-5P\n",
      "\n",
      "1187052\thttp://v3.boldsystems.org/pics/FBACB/BC_ZSM_HYM_06231+1309183686.jpg\tCreativeCommons - Attribution Non-Commercial Share-Alike\t2831412|2830684\thttp://trace.boldsystems.org/traceIO/bold.org/2508422|http://trace.boldsystems.org/traceIO/bold.org/2507805\t2011-03-27 09:07:35|2011-03-27 07:40:44\tCentre for Biodiversity Genomics|Centre for Biodiversity Genomics\tR|F\tLepR1|LepF1\tCOI-5P|COI-5P\n",
      "\n",
      "1187053\thttp://v3.boldsystems.org/pics/FBACB/BC_ZSM_HYM_06232+1309183684.jpg\tCreativeCommons - Attribution Non-Commercial Share-Alike\t2831414|2830784\thttp://trace.boldsystems.org/traceIO/bold.org/2508423|http://trace.boldsystems.org/traceIO/bold.org/2507904\t2011-03-27 09:07:35|2011-03-27 07:40:44\tCentre for Biodiversity Genomics|Centre for Biodiversity Genomics\tR|F\tLepR1|LepF1\tCOI-5P|COI-5P\n",
      "\n",
      "1243021\thttp://v3.boldsystems.org/pics/FBACB/BC_ZSM_HYM_08041+1312306018.jpg\tCreativeCommons - Attribution Non-Commercial Share-Alike\t3256292|3256197\thttp://trace.boldsystems.org/traceIO/bold.org/2918326|http://trace.boldsystems.org/traceIO/bold.org/2918231\t2011-08-04 14:27:54|2011-08-04 12:49:34\tCentre for Biodiversity Genomics|Centre for Biodiversity Genomics\tR|F\tLepR1|LepF1\tCOI-5P|COI-5P\n",
      "\n",
      "1243022\thttp://v3.boldsystems.org/pics/FBACB/BC_ZSM_HYM_08042+1312306018.jpg\tCreativeCommons - Attribution Non-Commercial Share-Alike\t3256293|3256198\thttp://trace.boldsystems.org/traceIO/bold.org/2918327|http://trace.boldsystems.org/traceIO/bold.org/2918232\t2011-08-04 14:27:54|2011-08-04 12:49:34\tCentre for Biodiversity Genomics|Centre for Biodiversity Genomics\tR|F\tLepR1|LepF1\tCOI-5P|COI-5P\n",
      "\n",
      "1243023\thttp://v3.boldsystems.org/pics/FBACB/BC_ZSM_HYM_08043+1312306018.jpg\tCreativeCommons - Attribution Non-Commercial Share-Alike\t3256294|3256199\thttp://trace.boldsystems.org/traceIO/bold.org/2918328|http://trace.boldsystems.org/traceIO/bold.org/2918233\t2011-08-04 14:27:54|2011-08-04 12:49:34\tCentre for Biodiversity Genomics|Centre for Biodiversity Genomics\tR|F\tLepR1|LepF1\tCOI-5P|COI-5P\n",
      "\n",
      "1243024\thttp://v3.boldsystems.org/pics/FBACB/BC_ZSM_HYM_08044+1312306018.jpg\tCreativeCommons - Attribution Non-Commercial Share-Alike\t3256295|3256200\thttp://trace.boldsystems.org/traceIO/bold.org/2918329|http://trace.boldsystems.org/traceIO/bold.org/2918234\t2011-08-04 14:27:54|2011-08-04 12:49:34\tCentre for Biodiversity Genomics|Centre for Biodiversity Genomics\tR|F\tLepR1|LepF1\tCOI-5P|COI-5P\n",
      "\n",
      "1835164\thttp://v3.boldsystems.org/pics/GBACU/BC_ZSM_HYM_14373+1345735118.jpg\tCreativeCommons - Attribution Non-Commercial Share-Alike\t4740133|4740038\thttp://trace.boldsystems.org/traceIO/bold.org/6587394|http://trace.boldsystems.org/traceIO/bold.org/6587299\t2012-12-13 21:11:51|2012-12-13 19:40:08\tCentre for Biodiversity Genomics|Centre for Biodiversity Genomics\tR|F\tLepR1|LepF1\tCOI-5P|COI-5P\n",
      "\n",
      "1835165\thttp://v3.boldsystems.org/pics/GBACU/BC_ZSM_HYM_14374+1345735140.jpg\tCreativeCommons - Attribution Non-Commercial Share-Alike\t4740134|4740039\thttp://trace.boldsystems.org/traceIO/bold.org/6587395|http://trace.boldsystems.org/traceIO/bold.org/6587300\t2012-12-13 21:11:51|2012-12-13 19:40:08\tCentre for Biodiversity Genomics|Centre for Biodiversity Genomics\tR|F\tLepR1|LepF1\tCOI-5P|COI-5P\n",
      "\n",
      "1835166\thttp://v3.boldsystems.org/pics/GBACU/BC_ZSM_HYM_14375+1345735162.jpg\tCreativeCommons - Attribution Non-Commercial Share-Alike\t4740135|4740040\thttp://trace.boldsystems.org/traceIO/bold.org/6587396|http://trace.boldsystems.org/traceIO/bold.org/6587301\t2012-12-13 21:11:51|2012-12-13 19:40:08\tCentre for Biodiversity Genomics|Centre for Biodiversity Genomics\tR|F\tLepR1|LepF1\tCOI-5P|COI-5P\n",
      "\n",
      "1835167\thttp://v3.boldsystems.org/pics/GBACU/BC_ZSM_HYM_14376+1345735186.jpg\tCreativeCommons - Attribution Non-Commercial Share-Alike\t4740136|4740041\thttp://trace.boldsystems.org/traceIO/bold.org/6587397|http://trace.boldsystems.org/traceIO/bold.org/6587302\t2012-12-13 21:11:51|2012-12-13 19:40:08\tCentre for Biodiversity Genomics|Centre for Biodiversity Genomics\tR|F\tLepR1|LepF1\tCOI-5P|COI-5P\n",
      "\n",
      "1899899\thttp://v3.boldsystems.org/pics/GBACU/BC_ZSM_HYM_15231+1353094950.jpg\tCreativeCommons - Attribution Non-Commercial Share-Alike\t5062943|5062848\thttp://trace.boldsystems.org/traceIO/bold.org/6909545|http://trace.boldsystems.org/traceIO/bold.org/6909450\t2013-03-21 03:25:40|2013-03-20 15:17:32\tCentre for Biodiversity Genomics|Centre for Biodiversity Genomics\tR|F\tLepR1|LepF1\tCOI-5P|COI-5P\n",
      "\n",
      "1937013\thttp://v3.boldsystems.org/pics/GBACU/BC_ZSM_HYM_17576+1362771298.jpg\tCreativeCommons - Attribution Non-Commercial Share-Alike\t5149689|5149594\thttp://trace.boldsystems.org/traceIO/bold.org/6996291|http://trace.boldsystems.org/traceIO/bold.org/6996196\t2013-05-03 13:44:46|2013-05-03 13:50:32\tCentre for Biodiversity Genomics|Centre for Biodiversity Genomics\tR|F\tLepR1|LepF1\tCOI-5P|COI-5P\n",
      "\n",
      "1937014\thttp://v3.boldsystems.org/pics/GBACU/BC_ZSM_HYM_17577+1362771478.jpg\tCreativeCommons - Attribution Non-Commercial Share-Alike\t5149690|5149595\thttp://trace.boldsystems.org/traceIO/bold.org/6996292|http://trace.boldsystems.org/traceIO/bold.org/6996197\t2013-05-03 13:44:46|2013-05-03 13:50:32\tCentre for Biodiversity Genomics|Centre for Biodiversity Genomics\tR|F\tLepR1|LepF1\tCOI-5P|COI-5P\n",
      "\n",
      "1937015\thttp://v3.boldsystems.org/pics/GBACU/BC_ZSM_HYM_17578+1362771510.jpg\tCreativeCommons - Attribution Non-Commercial Share-Alike\t5149691|5149596\thttp://trace.boldsystems.org/traceIO/bold.org/6996293|http://trace.boldsystems.org/traceIO/bold.org/6996198\t2013-05-03 13:44:46|2013-05-03 13:50:32\tCentre for Biodiversity Genomics|Centre for Biodiversity Genomics\tR|F\tLepR1|LepF1\tCOI-5P|COI-5P\n",
      "\n",
      "1937016\thttp://v3.boldsystems.org/pics/GBACU/BC_ZSM_HYM_17579+1362771548.jpg\tCreativeCommons - Attribution Non-Commercial Share-Alike\t5149692|5149597\thttp://trace.boldsystems.org/traceIO/bold.org/6996294|http://trace.boldsystems.org/traceIO/bold.org/6996199\t2013-05-03 13:44:46|2013-05-03 13:50:32\tCentre for Biodiversity Genomics|Centre for Biodiversity Genomics\tR|F\tLepR1|LepF1\tCOI-5P|COI-5P\n",
      "\n",
      "1937017\thttp://v3.boldsystems.org/pics/GBACU/BC_ZSM_HYM_17580+1362771584.jpg\tCreativeCommons - Attribution Non-Commercial Share-Alike\t5149693|5149598\thttp://trace.boldsystems.org/traceIO/bold.org/6996295|http://trace.boldsystems.org/traceIO/bold.org/6996200\t2013-05-03 13:44:46|2013-05-03 13:50:32\tCentre for Biodiversity Genomics|Centre for Biodiversity Genomics\tR|F\tLepR1|LepF1\tCOI-5P|COI-5P\n",
      "\n",
      "1825776\thttp://v3.boldsystems.org/pics/GBACU/BC_ZSM_HYM_13271+1338925798.jpg\tCreativeCommons - Attribution Non-Commercial Share-Alike\t\t\t\t\t\t\t\n",
      "\n",
      "1825777\thttp://v3.boldsystems.org/pics/GBACU/BC_ZSM_HYM_13272+1338925868.jpg\tCreativeCommons - Attribution Non-Commercial Share-Alike\t4815604|4815552\thttp://trace.boldsystems.org/traceIO/bold.org/6662866|http://trace.boldsystems.org/traceIO/bold.org/6662814\t2013-01-18 10:53:24|2013-01-18 09:13:47\tCentre for Biodiversity Genomics|Centre for Biodiversity Genomics\tR|F\tLepR1|LepF1\tCOI-5P|COI-5P\n",
      "\n",
      "1825778\thttp://v3.boldsystems.org/pics/GBACU/BC_ZSM_HYM_13273+1338925956.jpg\tCreativeCommons - Attribution Non-Commercial Share-Alike\t4815605|4815554\thttp://trace.boldsystems.org/traceIO/bold.org/6662867|http://trace.boldsystems.org/traceIO/bold.org/6662816\t2013-01-18 10:53:24|2013-01-18 09:13:47\tCentre for Biodiversity Genomics|Centre for Biodiversity Genomics\tR|F\tLepR1|LepF1\tCOI-5P|COI-5P\n",
      "\n",
      "1825779\thttp://v3.boldsystems.org/pics/GBACU/BC_ZSM_HYM_13274+1338926048.jpg\tCreativeCommons - Attribution Non-Commercial Share-Alike\t4815606|4815556\thttp://trace.boldsystems.org/traceIO/bold.org/6662868|http://trace.boldsystems.org/traceIO/bold.org/6662818\t2013-01-18 10:53:24|2013-01-18 09:13:47\tCentre for Biodiversity Genomics|Centre for Biodiversity Genomics\tR|F\tLepR1|LepF1\tCOI-5P|COI-5P\n",
      "\n",
      "\t\t\t\t\t\t\t\t\t\n",
      "\n",
      "\t\t\t\t\t\t\t\t\t\n",
      "\n"
     ]
    }
   ],
   "source": [
    "fout = open(\"outImage.csv\",\"w\")\n",
    "for i in range(1,len(lines),2):\n",
    "    fout.write(lines[i])\n",
    "    print(lines[i])"
   ]
  }
 ],
 "metadata": {
  "kernelspec": {
   "display_name": "Python 3 (ipykernel)",
   "language": "python",
   "name": "python3"
  },
  "language_info": {
   "codemirror_mode": {
    "name": "ipython",
    "version": 3
   },
   "file_extension": ".py",
   "mimetype": "text/x-python",
   "name": "python",
   "nbconvert_exporter": "python",
   "pygments_lexer": "ipython3",
   "version": "3.12.2"
  }
 },
 "nbformat": 4,
 "nbformat_minor": 5
}
