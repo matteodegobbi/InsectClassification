{
 "cells": [
  {
   "cell_type": "code",
   "execution_count": 80,
   "id": "87f64406-e732-4be4-b6de-8bb043a7fe62",
   "metadata": {},
   "outputs": [],
   "source": [
    "import torch\n",
    "import torchvision\n",
    "from torch import nn \n",
    "from torchvision import transforms\n",
    "import matplotlib.pyplot as plt\n",
    "import pandas as pd\n",
    "from IPython.display import Image \n",
    "import numpy as np\n",
    "from scipy.io import loadmat\n",
    "from scipy.io import savemat \n",
    "import dataset_utils"
   ]
  },
  {
   "cell_type": "code",
   "execution_count": 2,
   "id": "d1316d58-888a-4937-8a17-bc691350e765",
   "metadata": {},
   "outputs": [],
   "source": [
    "df = pd.read_csv('final_dataset.csv',index_col=0)\n",
    "tform = transforms.Compose([transforms.Resize((64,64)),transforms.PILToTensor(),transforms.ConvertImageDtype(torch.float),transforms.Normalize(0.5,0.5)])\n",
    "image_dataset = torchvision.datasets.ImageFolder(\"image_dataset/\",transform=tform)\n",
    "species2genus = dataset_utils.species_label_to_genus_label(df,image_dataset)\n",
    "batch_size = 1000 \n",
    "import random\n",
    "import dataset_utils\n",
    "img2dna = dataset_utils.get_imgs_bold_id(image_dataset,df)\n",
    "\n",
    "nucleotides = df[['nucleotide','species_name','genus_name','processid','image_urls']]\n",
    "colonna_dna = df.loc[:,\"nucleotide\"]\n",
    "nucleotides.loc[:,'nucleotide'] = colonna_dna.apply(dataset_utils.one_hot_encoding)\n",
    "random.seed(42)\n",
    "\n",
    "X_train_val, X_test, y_train_val, y_test = dataset_utils.data_split(nucleotides,0.2,random_state=42)\n",
    "train_data = X_train_val\n",
    "train_data['species_name'] = y_train_val\n",
    "X_train, X_validation, y_train, y_validation = dataset_utils.data_split(train_data,0.2,drop_labels=False,random_state=42)\n",
    "train_indices, val_indices, test_indices = dataset_utils.image_splits_from_df(X_train,X_validation,X_test,image_dataset)\n",
    "\n",
    "\n"
   ]
  },
  {
   "cell_type": "code",
   "execution_count": 3,
   "id": "ecff26f3-c2b8-484c-8f8d-5f09c9c37f1b",
   "metadata": {},
   "outputs": [
    {
     "name": "stdout",
     "output_type": "stream",
     "text": [
      "[234 234 235 ...  44  44 311]\n"
     ]
    },
    {
     "data": {
      "text/plain": [
       "(1050, 1)"
      ]
     },
     "execution_count": 3,
     "metadata": {},
     "output_type": "execute_result"
    }
   ],
   "source": [
    "sorted_keys = sorted(species2genus.keys())\n",
    "species2genus = np.array([species2genus[key] for key in sorted_keys])\n",
    "print(species2genus)\n",
    "species2genus = species2genus[...,np.newaxis]\n",
    "species2genus.shape"
   ]
  },
  {
   "cell_type": "code",
   "execution_count": 4,
   "id": "0beb942a-a498-4fe8-a662-0f093dc2df72",
   "metadata": {},
   "outputs": [],
   "source": [
    "described_species_labels_train = set(np.array([image_dataset.targets[i] for i in train_indices]))\n",
    "described_species_labels_trainval = set(np.array([image_dataset.targets[i] for i in train_indices+val_indices]))"
   ]
  },
  {
   "cell_type": "code",
   "execution_count": 5,
   "id": "24aa073e-511e-4d5f-acc8-9e64305f35de",
   "metadata": {},
   "outputs": [],
   "source": [
    "train_loc = train_indices\n",
    "trainval_loc = train_indices+val_indices\n",
    "\n",
    "n_seen_val = 0\n",
    "val_all_loc = set()\n",
    "val_seen_loc = set() \n",
    "for i in val_indices:\n",
    "    val_all_loc.add(i)\n",
    "    if image_dataset[i][1] in described_species_labels_train:\n",
    "        n_seen_val+=1\n",
    "        val_seen_loc.add(i)\n",
    "val_unseen_loc = val_all_loc - val_seen_loc\n",
    "\n",
    "\n",
    "n_seen_test = 0\n",
    "test_all_loc = set()\n",
    "test_seen_loc = set() \n",
    "for i in test_indices:\n",
    "    test_all_loc.add(i)\n",
    "    if image_dataset[i][1] in described_species_labels_trainval:\n",
    "        n_seen_test+=1\n",
    "        test_seen_loc.add(i)\n",
    "test_unseen_loc = test_all_loc - test_seen_loc"
   ]
  },
  {
   "cell_type": "code",
   "execution_count": 6,
   "id": "0b942d62-0365-45b9-8dc1-2af818111a42",
   "metadata": {},
   "outputs": [],
   "source": [
    "# element[1] takes the label\n",
    "all_labels = [element[1] for element in image_dataset.imgs]"
   ]
  },
  {
   "cell_type": "code",
   "execution_count": 7,
   "id": "f8ae5b1a-0249-4aa0-ac32-cbbcb5556472",
   "metadata": {},
   "outputs": [
    {
     "data": {
      "text/plain": [
       "(4990, 2)"
      ]
     },
     "execution_count": 7,
     "metadata": {},
     "output_type": "execute_result"
    }
   ],
   "source": [
    "xx = np.array(image_dataset.imgs)[np.array(list(test_seen_loc))]\n",
    "xx.shape"
   ]
  },
  {
   "cell_type": "code",
   "execution_count": 8,
   "id": "81a85075-5c86-4a50-8206-d4c1bb0ed168",
   "metadata": {},
   "outputs": [],
   "source": [
    "from torch.utils.data import Dataset, DataLoader\n",
    "batch_size = 1000\n",
    "class WholeDataset(Dataset):\n",
    "    def __init__(self, data, transform=None):\n",
    "        self.data = data\n",
    "        self.targets = data.targets#torch.tensor(targets)\n",
    "        #self.transform = transform\n",
    "        \n",
    "    def __getitem__(self, index):\n",
    "        x = self.data[index][0]\n",
    "        y = self.targets[index]\n",
    "        \n",
    "        return x, y\n",
    "    \n",
    "    def __len__(self):\n",
    "        return len(self.data)\n",
    "        \n",
    "whole_dataset = WholeDataset(image_dataset)\n",
    "n_classes = np.unique(whole_dataset.targets).shape[0]\n",
    "whole_loader = torch.utils.data.DataLoader(whole_dataset, batch_size=batch_size,shuffle=False, num_workers=2)\n",
    "\n",
    "\n"
   ]
  },
  {
   "cell_type": "code",
   "execution_count": 9,
   "id": "240ab1c8-9970-4ea7-a5a8-300030e92859",
   "metadata": {},
   "outputs": [],
   "source": [
    "batch_images_list = []\n",
    "batch_image_labels_list = []\n",
    "with torch.no_grad():\n",
    "    for batch, targets in whole_loader:\n",
    "        batch_images_list.append(batch.numpy())\n",
    "        batch_image_labels_list.append(targets.numpy()) \n",
    "all_images= np.concatenate(batch_images_list)\n",
    "all_labels= np.concatenate(batch_image_labels_list)"
   ]
  },
  {
   "cell_type": "code",
   "execution_count": 10,
   "id": "de56a8c5-1223-42cb-831e-5ba05c8c1f08",
   "metadata": {},
   "outputs": [
    {
     "data": {
      "text/plain": [
       "(32424,)"
      ]
     },
     "execution_count": 10,
     "metadata": {},
     "output_type": "execute_result"
    }
   ],
   "source": [
    "all_labels.shape"
   ]
  },
  {
   "cell_type": "code",
   "execution_count": 11,
   "id": "191b8d18-c58d-4ce0-8f1a-a7c57cd27955",
   "metadata": {},
   "outputs": [
    {
     "data": {
      "text/plain": [
       "(32424, 3, 64, 64)"
      ]
     },
     "execution_count": 11,
     "metadata": {},
     "output_type": "execute_result"
    }
   ],
   "source": [
    "all_images.shape"
   ]
  },
  {
   "cell_type": "code",
   "execution_count": 12,
   "id": "0df732ff-5eb6-4548-88ff-8d6b7e4a0872",
   "metadata": {
    "scrolled": true
   },
   "outputs": [],
   "source": [
    "img2dna_indices = dict()\n",
    "for k,v in img2dna.items():\n",
    "    #print(k)\n",
    "    #print(v)\n",
    "    dna_index = np.where(nucleotides['processid'].values == v)\n",
    "    if dna_index[0].size > 0:\n",
    "        #print(dna_index)\n",
    "        dna_index = dna_index[0][0]\n",
    "        \n",
    "        for i,(name,_) in enumerate(image_dataset.imgs):\n",
    "            if name == k:\n",
    "                image_index = i\n",
    "                break\n",
    "        img2dna_indices[image_index] = dna_index\n",
    "    else:\n",
    "        raise Exception\n",
    "                "
   ]
  },
  {
   "cell_type": "code",
   "execution_count": 13,
   "id": "c15e946a-7b05-406c-873c-aa6b9aefc12a",
   "metadata": {
    "scrolled": true
   },
   "outputs": [
    {
     "data": {
      "text/plain": [
       "26464"
      ]
     },
     "execution_count": 13,
     "metadata": {},
     "output_type": "execute_result"
    }
   ],
   "source": [
    "nucleotides['processid'].nunique()"
   ]
  },
  {
   "cell_type": "code",
   "execution_count": 14,
   "id": "469276d9-e9ec-47b4-a0a0-d56109f68984",
   "metadata": {},
   "outputs": [
    {
     "name": "stdout",
     "output_type": "stream",
     "text": [
      "32424\n"
     ]
    },
    {
     "data": {
      "text/plain": [
       "26475"
      ]
     },
     "execution_count": 14,
     "metadata": {},
     "output_type": "execute_result"
    }
   ],
   "source": [
    "print(len(img2dna_indices))\n",
    "max(list(img2dna_indices.values()))"
   ]
  },
  {
   "cell_type": "code",
   "execution_count": 15,
   "id": "f124347c-cfa2-44c4-90d0-389b6a19622c",
   "metadata": {
    "scrolled": true
   },
   "outputs": [],
   "source": [
    "#df.iloc[list(img2dna_indices.values())]"
   ]
  },
  {
   "cell_type": "code",
   "execution_count": 16,
   "id": "330aeafb-888e-4902-81dc-856042902ec4",
   "metadata": {},
   "outputs": [
    {
     "data": {
      "text/plain": [
       "(26476,)"
      ]
     },
     "execution_count": 16,
     "metadata": {},
     "output_type": "execute_result"
    }
   ],
   "source": [
    "all_not_expanded_one_hots = nucleotides['nucleotide'].to_numpy()\n",
    "all_not_expanded_one_hots.shape"
   ]
  },
  {
   "cell_type": "code",
   "execution_count": 17,
   "id": "30dca3e0-3f50-4e3d-a558-55e3118d08c9",
   "metadata": {},
   "outputs": [],
   "source": [
    "all_dnas = []\n",
    "all_dna_labels = []\n",
    "for i in range(len(image_dataset.imgs)):\n",
    "    all_dnas.append(torch.tensor(all_not_expanded_one_hots[img2dna_indices[i]]))\n",
    "    all_dna_labels.append(torch.tensor(image_dataset.imgs[i][1]))\n",
    "all_dnas = torch.stack(all_dnas)\n",
    "all_dna_labels = torch.stack(all_dna_labels)\n",
    "\n"
   ]
  },
  {
   "cell_type": "code",
   "execution_count": 18,
   "id": "63c350bb-a3ed-4e80-81a3-84262795ebcb",
   "metadata": {},
   "outputs": [
    {
     "data": {
      "text/plain": [
       "torch.Size([32424, 658, 5])"
      ]
     },
     "execution_count": 18,
     "metadata": {},
     "output_type": "execute_result"
    }
   ],
   "source": [
    "all_dnas.shape"
   ]
  },
  {
   "cell_type": "code",
   "execution_count": 19,
   "id": "3c2f6849-04db-467d-91cf-fd5951418cdf",
   "metadata": {},
   "outputs": [
    {
     "data": {
      "text/plain": [
       "torch.Size([32424])"
      ]
     },
     "execution_count": 19,
     "metadata": {},
     "output_type": "execute_result"
    }
   ],
   "source": [
    "all_dna_labels.shape"
   ]
  },
  {
   "cell_type": "code",
   "execution_count": 20,
   "id": "0469586b-5e38-4e3c-b8cf-d73ce4b68fb2",
   "metadata": {
    "scrolled": true
   },
   "outputs": [],
   "source": [
    "#to check if all dna labels match their corresponding image label\n",
    "for i in range(all_dna_labels.shape[0]):\n",
    "    #print(i)\n",
    "    assert(image_dataset.imgs[i][1]==all_labels[i])\n",
    "    assert(image_dataset.imgs[i][1]==all_dna_labels[i])\n",
    "    assert(all_dna_labels[i].item()==all_labels[i])"
   ]
  },
  {
   "cell_type": "code",
   "execution_count": 21,
   "id": "8a223a42-9846-4fc4-8393-c11bc74d6269",
   "metadata": {},
   "outputs": [
    {
     "data": {
      "text/plain": [
       "0"
      ]
     },
     "execution_count": 21,
     "metadata": {},
     "output_type": "execute_result"
    }
   ],
   "source": [
    "all_dna_labels[1].item()"
   ]
  },
  {
   "cell_type": "code",
   "execution_count": 22,
   "id": "0186d857-90ab-4542-a10f-1c43cb1d4003",
   "metadata": {},
   "outputs": [
    {
     "data": {
      "text/plain": [
       "0"
      ]
     },
     "execution_count": 22,
     "metadata": {},
     "output_type": "execute_result"
    }
   ],
   "source": [
    "all_labels[1]"
   ]
  },
  {
   "cell_type": "markdown",
   "id": "4439db5c-3d70-4af8-994c-f2a9dcd78f61",
   "metadata": {},
   "source": [
    "# Save torch data"
   ]
  },
  {
   "cell_type": "code",
   "execution_count": 45,
   "id": "af981d99-2b94-4daa-a018-0ddf20e022ce",
   "metadata": {},
   "outputs": [],
   "source": [
    "torch.save(torch.tensor(all_images),\"tensor_dataset/all_images.pt\")"
   ]
  },
  {
   "cell_type": "code",
   "execution_count": 46,
   "id": "c4d84a0b-da72-44de-8e6c-da89251f756b",
   "metadata": {},
   "outputs": [],
   "source": [
    "torch.save(all_dnas,\"tensor_dataset/all_dnas.pt\")"
   ]
  },
  {
   "cell_type": "code",
   "execution_count": 50,
   "id": "8714311d-afe2-40ff-8828-9877d6e386b2",
   "metadata": {},
   "outputs": [],
   "source": [
    "# should be assert(all_dna_labels==all_labels)\n",
    "torch.save(all_dna_labels,\"tensor_dataset/all_labels.pt\")"
   ]
  },
  {
   "cell_type": "code",
   "execution_count": 55,
   "id": "82bbbd99-2f5a-4800-8b87-714093960b38",
   "metadata": {},
   "outputs": [],
   "source": [
    "torch.save(torch.tensor(np.array(train_loc)),\"tensor_dataset/train_loc.pt\")\n",
    "torch.save(torch.tensor(np.array(list(val_seen_loc))),\"tensor_dataset/val_seen_loc.pt\")\n",
    "torch.save(torch.tensor(np.array(list(val_unseen_loc))),\"tensor_dataset/val_unseen_loc.pt\")\n",
    "torch.save(torch.tensor(np.array(list(test_seen_loc))),\"tensor_dataset/test_seen_loc.pt\")\n",
    "torch.save(torch.tensor(np.array(list(test_unseen_loc))),\"tensor_dataset/test_unseen_loc.pt\")"
   ]
  },
  {
   "cell_type": "code",
   "execution_count": 58,
   "id": "be87fd16-3b6c-4643-9d88-e1caffb93f66",
   "metadata": {},
   "outputs": [],
   "source": [
    "torch.save(torch.tensor(species2genus),\"tensor_dataset/species2genus.pt\")"
   ]
  },
  {
   "cell_type": "code",
   "execution_count": 66,
   "id": "99e4a997-3dbf-44f0-a6fc-c375062f7b19",
   "metadata": {},
   "outputs": [],
   "source": [
    "torch.save(torch.tensor(np.array(list(described_species_labels_train))),\"tensor_dataset/described_species_labels_train.pt\")\n",
    "torch.save(torch.tensor(np.array(list(described_species_labels_trainval))),\"tensor_dataset/described_species_labels_trainval.pt\")"
   ]
  },
  {
   "cell_type": "markdown",
   "id": "f6d42e58-c1e5-4180-a291-b25c84ae275a",
   "metadata": {},
   "source": [
    "# Save Matlab data"
   ]
  },
  {
   "cell_type": "code",
   "execution_count": 129,
   "id": "f8cd230e-6027-4612-886c-76bb2ea764db",
   "metadata": {},
   "outputs": [],
   "source": [
    "all_dataset = dict()\n",
    "all_dataset['all_images'] = all_images \n",
    "all_dataset['all_dnas'] = all_dnas.numpy()\n",
    "all_dataset['all_labels'] = (all_labels+1)\n",
    "all_dataset['train_loc']=np.array(train_loc)+1\n",
    "all_dataset['val_seen_loc']=np.array(list(val_seen_loc))+1\n",
    "all_dataset['val_unseen_loc']=np.array(list(val_unseen_loc))+1\n",
    "all_dataset['test_seen_loc']=np.array(list(test_seen_loc))+1\n",
    "all_dataset['test_unseen_loc']=np.array(list(test_unseen_loc))+1\n",
    "all_dataset['species2genus']= species2genus+1\n",
    "all_dataset['described_species_labels_train'] = np.array(list(described_species_labels_train))+1 \n",
    "all_dataset['described_species_labels_trainval'] = np.array(list(described_species_labels_trainval))+1 \n",
    "savemat('matlab_dataset/insect_dataset.mat',all_dataset)"
   ]
  },
  {
   "cell_type": "code",
   "execution_count": 126,
   "id": "2a579ec2-d1e9-48aa-a0e0-362f59fa03be",
   "metadata": {},
   "outputs": [
    {
     "data": {
      "text/plain": [
       "1"
      ]
     },
     "execution_count": 126,
     "metadata": {},
     "output_type": "execute_result"
    }
   ],
   "source": []
  },
  {
   "cell_type": "code",
   "execution_count": null,
   "id": "250c8608-1862-4a7c-b3cc-8c1c7e1d5d18",
   "metadata": {},
   "outputs": [],
   "source": []
  },
  {
   "cell_type": "code",
   "execution_count": null,
   "id": "673a3755-b81b-4552-b8bc-8d4e9dd943e9",
   "metadata": {},
   "outputs": [],
   "source": []
  },
  {
   "cell_type": "code",
   "execution_count": null,
   "id": "c54aee55-2adc-450a-b086-b915ee8c4595",
   "metadata": {},
   "outputs": [],
   "source": []
  },
  {
   "cell_type": "code",
   "execution_count": 106,
   "id": "413dd1cb-ab2f-4bda-a238-aba3a5181fb8",
   "metadata": {},
   "outputs": [
    {
     "data": {
      "text/plain": [
       "<matplotlib.image.AxesImage at 0x721f37e190a0>"
      ]
     },
     "execution_count": 106,
     "metadata": {},
     "output_type": "execute_result"
    },
    {
     "data": {
      "image/png": "[encoded data removed]",
      "text/plain": [
       "<Figure size 640x480 with 1 Axes>"
      ]
     },
     "metadata": {},
     "output_type": "display_data"
    }
   ],
   "source": [
    "ss  = torch.load(\"tensor_dataset/all_images.pt\")\n",
    "ss[1000].std()\n",
    "plt.imshow(torchvision.transforms.functional.to_pil_image(0.5*(ss[100]+1)))"
   ]
  },
  {
   "cell_type": "code",
   "execution_count": 107,
   "id": "5ea0203c-2436-4625-ad27-ac987428ecbf",
   "metadata": {},
   "outputs": [
    {
     "data": {
      "text/plain": [
       "tensor([[[1.1373, 1.2000, 1.2471,  ..., 1.7333, 1.7098, 1.6627],\n",
       "         [1.2235, 1.2627, 1.3255,  ..., 1.8039, 1.7804, 1.7490],\n",
       "         [1.3098, 1.3412, 1.3961,  ..., 1.8745, 1.8667, 1.8275],\n",
       "         ...,\n",
       "         [0.8784, 0.8784, 0.8941,  ..., 1.7333, 1.7176, 1.6863],\n",
       "         [0.8392, 0.8706, 0.8941,  ..., 1.6706, 1.6471, 1.6078],\n",
       "         [0.8078, 0.8392, 0.8549,  ..., 1.6000, 1.5686, 1.5451]],\n",
       "\n",
       "        [[1.1765, 1.2314, 1.2863,  ..., 1.7333, 1.6941, 1.6627],\n",
       "         [1.2627, 1.3020, 1.3569,  ..., 1.8196, 1.7882, 1.7490],\n",
       "         [1.3412, 1.3725, 1.4118,  ..., 1.8902, 1.8745, 1.8431],\n",
       "         ...,\n",
       "         [0.9569, 0.9569, 0.9725,  ..., 1.7490, 1.7255, 1.7098],\n",
       "         [0.9098, 0.9333, 0.9569,  ..., 1.6941, 1.6471, 1.6157],\n",
       "         [0.8549, 0.8863, 0.9176,  ..., 1.6157, 1.5686, 1.5294]],\n",
       "\n",
       "        [[1.0980, 1.1608, 1.2078,  ..., 1.7569, 1.7176, 1.6627],\n",
       "         [1.1843, 1.2235, 1.2784,  ..., 1.8353, 1.8196, 1.7569],\n",
       "         [1.2706, 1.3098, 1.3412,  ..., 1.9294, 1.9137, 1.8588],\n",
       "         ...,\n",
       "         [0.9490, 0.9804, 0.9961,  ..., 1.7961, 1.7804, 1.7647],\n",
       "         [0.8941, 0.9412, 0.9647,  ..., 1.7098, 1.6863, 1.6706],\n",
       "         [0.8235, 0.8863, 0.9176,  ..., 1.6471, 1.6000, 1.5608]]])"
      ]
     },
     "execution_count": 107,
     "metadata": {},
     "output_type": "execute_result"
    }
   ],
   "source": [
    "(ss[0]+1)"
   ]
  },
  {
   "cell_type": "code",
   "execution_count": null,
   "id": "d38853ce-5eae-4030-9ac8-1c2bc8ba7b3f",
   "metadata": {},
   "outputs": [],
   "source": []
  }
 ],
 "metadata": {
  "kernelspec": {
   "display_name": "Python 3 (ipykernel)",
   "language": "python",
   "name": "python3"
  },
  "language_info": {
   "codemirror_mode": {
    "name": "ipython",
    "version": 3
   },
   "file_extension": ".py",
   "mimetype": "text/x-python",
   "name": "python",
   "nbconvert_exporter": "python",
   "pygments_lexer": "ipython3",
   "version": "3.12.2"
  }
 },
 "nbformat": 4,
 "nbformat_minor": 5
}
