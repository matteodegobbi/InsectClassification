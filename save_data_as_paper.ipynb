{
 "cells": [
  {
   "cell_type": "code",
   "execution_count": 1,
   "id": "f145b0e4-bb19-4455-b041-f70478414afd",
   "metadata": {},
   "outputs": [],
   "source": [
    "import torch\n",
    "import torchvision\n",
    "from torch import nn \n",
    "from torchvision import transforms\n",
    "import matplotlib.pyplot as plt\n",
    "import pandas as pd\n",
    "from IPython.display import Image \n",
    "import numpy as np\n",
    "from scipy.io import loadmat\n",
    "import dataset_utils\n",
    "\n",
    "from bayesian_cls import *"
   ]
  },
  {
   "cell_type": "code",
   "execution_count": 2,
   "id": "5a9fa1f0-b5bc-448f-90c5-da3962c7f6a4",
   "metadata": {},
   "outputs": [],
   "source": [
    "df = pd.read_csv('final_dataset.csv',index_col=0)\n",
    "tform = transforms.Compose([transforms.Resize((64,64)),transforms.PILToTensor(),transforms.ConvertImageDtype(torch.float),transforms.Normalize(0.5,0.5)])\n",
    "image_dataset = torchvision.datasets.ImageFolder(\"image_dataset/\",transform=tform)\n",
    "species2genus = dataset_utils.species_label_to_genus_label(df,image_dataset)\n",
    "batch_size = 1000 \n",
    "import random\n",
    "import dataset_utils\n",
    "img2dna = dataset_utils.get_imgs_bold_id(image_dataset,df)\n",
    "\n",
    "nucleotides = df[['nucleotide','species_name','genus_name','processid','image_urls']]\n",
    "colonna_dna = df.loc[:,\"nucleotide\"]\n",
    "nucleotides.loc[:,'nucleotide'] = colonna_dna.apply(dataset_utils.one_hot_encoding)\n",
    "random.seed(42)\n",
    "\n",
    "X_train_1, X_test, y_train_1, y_test = dataset_utils.data_split(nucleotides,0.2,random_state=42)\n",
    "#print(y_test)\n",
    "train_data = X_train_1\n",
    "train_data['species_name'] = y_train_1\n",
    "\n",
    "X_train, X_validation, y_train, y_validation = dataset_utils.data_split(train_data,0.2,drop_labels=False,random_state=42)\n",
    "train_indices, val_indices, test_indices = dataset_utils.image_splits_from_df(X_train,X_validation,X_test,image_dataset)"
   ]
  },
  {
   "cell_type": "code",
   "execution_count": 3,
   "id": "c8fbd25e-772a-4cc2-9392-28405bfe7379",
   "metadata": {},
   "outputs": [],
   "source": [
    "all_labels = [element[1] for element in image_dataset.imgs]"
   ]
  },
  {
   "cell_type": "code",
   "execution_count": 4,
   "id": "9357b0e2-eb83-4616-adcb-ec813f73c66d",
   "metadata": {},
   "outputs": [],
   "source": [
    "paper_data = loadmat('data/INSECTS/data.mat')\n",
    "paper_splits = loadmat('data/INSECTS/splits.mat')"
   ]
  },
  {
   "cell_type": "code",
   "execution_count": 5,
   "id": "84397d5f-358b-46b2-8de7-8bdfabfe33bc",
   "metadata": {},
   "outputs": [],
   "source": [
    "expanded_train_dna_features = torch.load('new_features/dna_train_features.pt')\n",
    "expanded_train_dna_labels = torch.load('new_features/dna_train_labels.pt')\n",
    "image_train_features = torch.load('new_features/img_train_features.pt')\n",
    "image_train_labels= torch.load('new_features/img_train_labels.pt')\n",
    "assert((image_train_labels == expanded_train_dna_labels).all())"
   ]
  },
  {
   "cell_type": "code",
   "execution_count": 6,
   "id": "2ed548ae-2c22-45db-ab87-6ebd1bacd677",
   "metadata": {},
   "outputs": [],
   "source": [
    "expanded_val_dna_features = torch.load('new_features/dna_val_features.pt')\n",
    "expanded_val_dna_labels = torch.load('new_features/dna_val_labels.pt')\n",
    "image_val_features = torch.load('new_features/img_val_features.pt')\n",
    "image_val_labels = torch.load('new_features/img_val_labels.pt')\n",
    "assert((image_val_labels == expanded_val_dna_labels).all())"
   ]
  },
  {
   "cell_type": "code",
   "execution_count": 7,
   "id": "695dd57a-79a5-4c67-b341-1da3e7900753",
   "metadata": {},
   "outputs": [],
   "source": [
    "expanded_test_dna_features = torch.load('new_features/dna_test_features.pt')\n",
    "expanded_test_dna_labels = torch.load('new_features/dna_test_labels.pt')\n",
    "image_test_features = torch.load('new_features/img_test_features.pt')\n",
    "image_test_labels= torch.load('new_features/img_test_labels.pt')\n",
    "assert((image_test_labels == expanded_test_dna_labels).all())"
   ]
  },
  {
   "cell_type": "code",
   "execution_count": 8,
   "id": "4b710a75-bb97-4f0d-8e28-e78d9def121e",
   "metadata": {},
   "outputs": [],
   "source": [
    "complete_train_features = torch.cat((expanded_train_dna_features,image_train_features),dim=1)\n",
    "complete_val_features = torch.cat((expanded_val_dna_features,image_val_features),dim=1)"
   ]
  },
  {
   "cell_type": "code",
   "execution_count": 9,
   "id": "77effd2f-2d82-46ce-9fa0-e541f49896b9",
   "metadata": {},
   "outputs": [
    {
     "name": "stdout",
     "output_type": "stream",
     "text": [
      "[234 234 235 ...  44  44 311]\n"
     ]
    },
    {
     "data": {
      "text/plain": [
       "(1050, 1)"
      ]
     },
     "execution_count": 9,
     "metadata": {},
     "output_type": "execute_result"
    }
   ],
   "source": [
    "sorted_keys = sorted(species2genus.keys())\n",
    "species2genus = np.array([species2genus[key] for key in sorted_keys])\n",
    "print(species2genus)\n",
    "species2genus = species2genus[...,np.newaxis]\n",
    "species2genus.shape"
   ]
  },
  {
   "cell_type": "code",
   "execution_count": 10,
   "id": "b21ff674-4281-43a4-8108-f8834d9801fa",
   "metadata": {},
   "outputs": [],
   "source": [
    "described_species_labels_test = np.array([image_dataset.targets[i] for i in train_indices + val_indices])\n",
    "described_species_labels_test = np.unique(described_species_labels_test)"
   ]
  },
  {
   "cell_type": "code",
   "execution_count": 11,
   "id": "905fff1f-14ae-4099-b1de-9219d2be2fc1",
   "metadata": {},
   "outputs": [],
   "source": [
    "described_species_labels_val = np.array([image_dataset.targets[i] for i in train_indices])\n",
    "described_species_labels_val = np.unique(described_species_labels_val)"
   ]
  },
  {
   "cell_type": "code",
   "execution_count": 12,
   "id": "e2596265-b11b-47dc-bb38-72e13c8400fd",
   "metadata": {},
   "outputs": [
    {
     "data": {
      "text/plain": [
       "(703,)"
      ]
     },
     "execution_count": 12,
     "metadata": {},
     "output_type": "execute_result"
    }
   ],
   "source": [
    "described_species_labels_val.shape"
   ]
  },
  {
   "cell_type": "code",
   "execution_count": 13,
   "id": "29b76871-d23f-48e4-9ebf-6eb990f12cb9",
   "metadata": {},
   "outputs": [
    {
     "data": {
      "text/plain": [
       "(835,)"
      ]
     },
     "execution_count": 13,
     "metadata": {},
     "output_type": "execute_result"
    }
   ],
   "source": [
    "described_species_labels_test.shape"
   ]
  },
  {
   "cell_type": "code",
   "execution_count": 14,
   "id": "c9042a91-fa46-4462-b517-ec7a6c725503",
   "metadata": {},
   "outputs": [],
   "source": [
    "train_loc = train_indices\n",
    "train_loc = np.array(train_loc)[np.newaxis,...]"
   ]
  },
  {
   "cell_type": "code",
   "execution_count": 15,
   "id": "8e84bbaf-210b-48e1-a83b-4b2232c13485",
   "metadata": {},
   "outputs": [
    {
     "data": {
      "text/plain": [
       "(1, 13039)"
      ]
     },
     "execution_count": 15,
     "metadata": {},
     "output_type": "execute_result"
    }
   ],
   "source": [
    "train_loc.shape"
   ]
  },
  {
   "cell_type": "code",
   "execution_count": 16,
   "id": "e20e9fdf-44a2-4321-98ae-a729385dfeb9",
   "metadata": {},
   "outputs": [
    {
     "data": {
      "text/plain": [
       "(1, 12481)"
      ]
     },
     "execution_count": 16,
     "metadata": {},
     "output_type": "execute_result"
    }
   ],
   "source": [
    "paper_splits['train_loc'].shape"
   ]
  },
  {
   "cell_type": "code",
   "execution_count": 17,
   "id": "5670af55-120c-4c73-a89b-d5973d1b2ce8",
   "metadata": {},
   "outputs": [],
   "source": [
    "trainval_loc = train_indices + val_indices\n",
    "trainval_loc = np.array(trainval_loc)[np.newaxis,...]"
   ]
  },
  {
   "cell_type": "code",
   "execution_count": 18,
   "id": "002333bc-5942-4668-8edd-39b3abc10a11",
   "metadata": {},
   "outputs": [
    {
     "data": {
      "text/plain": [
       "(1, 19994)"
      ]
     },
     "execution_count": 18,
     "metadata": {},
     "output_type": "execute_result"
    }
   ],
   "source": [
    "trainval_loc.shape"
   ]
  },
  {
   "cell_type": "code",
   "execution_count": 19,
   "id": "21a70759-4f07-4178-b6f1-e2e0a30e614d",
   "metadata": {},
   "outputs": [],
   "source": [
    "test_seen_loc = []\n",
    "test_unseen_loc = []\n",
    "for element in range(len(test_indices)):\n",
    "    if element in described_species_labels_test:\n",
    "        test_seen_loc.append(element)\n",
    "    else:\n",
    "        test_unseen_loc.append(element)\n",
    "test_seen_loc = np.array(test_seen_loc)[np.newaxis,...]\n",
    "test_unseen_loc = np.array(test_unseen_loc)[np.newaxis,...]"
   ]
  },
  {
   "cell_type": "code",
   "execution_count": 20,
   "id": "6b20603b-3446-4210-8022-e1d5e47aaf19",
   "metadata": {},
   "outputs": [
    {
     "data": {
      "text/plain": [
       "(1, 835)"
      ]
     },
     "execution_count": 20,
     "metadata": {},
     "output_type": "execute_result"
    }
   ],
   "source": [
    "test_seen_loc.shape"
   ]
  },
  {
   "cell_type": "code",
   "execution_count": 21,
   "id": "836119b3-8603-4b05-9fbc-c22d2ea6a0a2",
   "metadata": {},
   "outputs": [
    {
     "data": {
      "text/plain": [
       "(1, 11595)"
      ]
     },
     "execution_count": 21,
     "metadata": {},
     "output_type": "execute_result"
    }
   ],
   "source": [
    "test_unseen_loc.shape"
   ]
  },
  {
   "cell_type": "code",
   "execution_count": 22,
   "id": "31cb120f-a71d-421a-a946-d8af9cada60a",
   "metadata": {},
   "outputs": [],
   "source": [
    "val_seen_loc = []\n",
    "val_unseen_loc = []\n",
    "for element in range(len(val_indices)):\n",
    "    if element in described_species_labels_val:\n",
    "        val_seen_loc.append(element)\n",
    "    else:\n",
    "        val_unseen_loc.append(element)\n",
    "val_seen_loc = np.array(val_seen_loc)[np.newaxis,...]\n",
    "val_unseen_loc = np.array(val_unseen_loc)[np.newaxis,...]\n",
    "    "
   ]
  },
  {
   "cell_type": "code",
   "execution_count": 23,
   "id": "da36615b-ab97-4a0a-a759-ded0263248f5",
   "metadata": {},
   "outputs": [],
   "source": [
    "train_dna_features = expanded_train_dna_features.numpy()\n",
    "train_image_features = image_train_features.numpy()"
   ]
  },
  {
   "cell_type": "code",
   "execution_count": 24,
   "id": "683bc589-dd29-4c2d-8316-c77335ed6245",
   "metadata": {},
   "outputs": [],
   "source": [
    "val_seen_dna_features = []\n",
    "val_unseen_dna_features = []\n",
    "\n",
    "val_seen_image_features = []\n",
    "val_unseen_image_features = []\n",
    "\n",
    "for index in val_seen_loc:\n",
    "    val_seen_dna_features.append(expanded_val_dna_features[index])\n",
    "    val_seen_image_features.append(image_val_features[index])\n",
    "\n",
    "for index in val_unseen_loc:\n",
    "    val_unseen_dna_features.append(expanded_val_dna_features[index])\n",
    "    val_unseen_image_features.append(image_val_features[index])\n",
    "\n",
    "val_seen_dna_features = np.squeeze(np.array(val_seen_dna_features), axis=0)\n",
    "val_unseen_dna_features = np.squeeze(np.array(val_unseen_dna_features), axis=0)\n",
    "\n",
    "val_seen_image_features = np.squeeze(np.array(val_seen_image_features), axis=0)\n",
    "val_unseen_image_features = np.squeeze(np.array(val_unseen_image_features), axis=0)"
   ]
  },
  {
   "cell_type": "code",
   "execution_count": 25,
   "id": "16a1ee23-653b-4323-92dd-ab1854a9c64d",
   "metadata": {},
   "outputs": [],
   "source": [
    "test_seen_dna_features = []\n",
    "test_unseen_dna_features = []\n",
    "\n",
    "test_seen_image_features = []\n",
    "test_unseen_image_features = []\n",
    "\n",
    "for index in test_seen_loc:\n",
    "    test_seen_dna_features.append(expanded_test_dna_features[index])\n",
    "    test_seen_image_features.append(image_test_features[index])\n",
    "\n",
    "for index in test_unseen_loc:\n",
    "    test_unseen_dna_features.append(expanded_test_dna_features[index])\n",
    "    test_unseen_image_features.append(image_test_features[index])\n",
    "\n",
    "test_seen_dna_features = np.squeeze(np.array(test_seen_dna_features), axis=0)\n",
    "test_unseen_dna_features = np.squeeze(np.array(test_unseen_dna_features), axis=0)\n",
    "\n",
    "test_seen_image_features = np.squeeze(np.array(test_seen_image_features), axis=0)\n",
    "test_unseen_image_features = np.squeeze(np.array(test_unseen_image_features), axis=0)"
   ]
  },
  {
   "cell_type": "code",
   "execution_count": 26,
   "id": "9692e589-8e95-4afa-860e-f059f6aa4cf0",
   "metadata": {},
   "outputs": [
    {
     "name": "stdout",
     "output_type": "stream",
     "text": [
      "(13039, 3250)\n",
      "(703, 3250)\n",
      "(6252, 3250)\n",
      "(835, 3250)\n",
      "(11595, 3250)\n"
     ]
    }
   ],
   "source": [
    "print(train_dna_features.shape)\n",
    "print(val_seen_dna_features.shape)\n",
    "print(val_unseen_dna_features.shape)\n",
    "print(test_seen_dna_features.shape)\n",
    "print(test_unseen_dna_features.shape)"
   ]
  },
  {
   "cell_type": "code",
   "execution_count": 27,
   "id": "5ecd561d-e841-48cc-9a73-5abf74efb371",
   "metadata": {},
   "outputs": [
    {
     "name": "stdout",
     "output_type": "stream",
     "text": [
      "(13039, 2048)\n",
      "(703, 2048)\n",
      "(6252, 2048)\n",
      "(835, 2048)\n",
      "(11595, 2048)\n"
     ]
    }
   ],
   "source": [
    "print(train_image_features.shape)\n",
    "print(val_seen_image_features.shape)\n",
    "print(val_unseen_image_features.shape)\n",
    "print(test_seen_image_features.shape)\n",
    "print(test_unseen_image_features.shape)"
   ]
  },
  {
   "cell_type": "code",
   "execution_count": 28,
   "id": "4e3aac47-4c70-4252-a63c-2b3555891af9",
   "metadata": {},
   "outputs": [
    {
     "data": {
      "text/plain": [
       "(32424, 1)"
      ]
     },
     "execution_count": 28,
     "metadata": {},
     "output_type": "execute_result"
    }
   ],
   "source": [
    "all_labels = np.array(all_labels)[...,np.newaxis]\n",
    "all_labels.shape"
   ]
  },
  {
   "cell_type": "code",
   "execution_count": 29,
   "id": "867fd529-2f9d-4b35-8d96-e28e766f62ad",
   "metadata": {},
   "outputs": [],
   "source": [
    "data = {\n",
    "    'G': species2genus+1,\n",
    "    'embeddings_dna': np.concatenate((train_dna_features, val_seen_dna_features, val_unseen_dna_features, test_seen_dna_features, test_unseen_dna_features)),\n",
    "    'embeddings_img': np.concatenate((train_image_features, val_seen_image_features, val_unseen_image_features, test_seen_image_features, test_unseen_image_features)),\n",
    "    'labels': np.array(all_labels)+1,\n",
    "}"
   ]
  },
  {
   "cell_type": "code",
   "execution_count": 30,
   "id": "32d28269-5bf0-473a-be17-07ae661291be",
   "metadata": {},
   "outputs": [
    {
     "name": "stdout",
     "output_type": "stream",
     "text": [
      "(1040, 1)\n",
      "(32848, 500)\n",
      "(32848, 2048)\n",
      "(32848, 1)\n",
      "\n",
      "\n",
      "(1050, 1)\n",
      "(32424, 3250)\n",
      "(32424, 2048)\n",
      "(32424, 1)\n"
     ]
    }
   ],
   "source": [
    "print(paper_data['G'].shape)\n",
    "print(paper_data['embeddings_dna'].shape)\n",
    "print(paper_data['embeddings_img'].shape)\n",
    "print(paper_data['labels'].shape)\n",
    "print('\\n')\n",
    "print(data['G'].shape)\n",
    "print(data['embeddings_dna'].shape)\n",
    "print(data['embeddings_img'].shape)\n",
    "print(data['labels'].shape)"
   ]
  },
  {
   "cell_type": "code",
   "execution_count": 31,
   "id": "e19ee4b7-8b72-4206-883e-7e7cc388f3f4",
   "metadata": {},
   "outputs": [],
   "source": [
    "splits = {\n",
    "    'train_loc': np.arange(0,len(train_dna_features))[np.newaxis,...]+1,\n",
    "    'trainval_loc': np.arange(0,len(train_dna_features)+len(val_seen_dna_features)+len(val_unseen_dna_features))[np.newaxis,...]+1,\n",
    "\n",
    "    'val_seen_loc': np.arange(len(train_dna_features),len(train_dna_features)+len(val_seen_dna_features))[np.newaxis,...]+1,\n",
    "    'val_unseen_loc': np.arange(len(train_dna_features)+len(val_seen_dna_features),len(train_dna_features)+len(val_seen_dna_features)+len(val_unseen_dna_features))[np.newaxis,...]+1,\n",
    "\n",
    "    'test_seen_loc': np.arange(len(train_dna_features)+len(val_seen_dna_features)+len(val_unseen_dna_features),len(train_dna_features)+len(val_seen_dna_features)+len(val_unseen_dna_features)+len(test_seen_dna_features))[np.newaxis,...]+1,\n",
    "    'test_unseen_loc': np.arange(len(train_dna_features)+len(val_seen_dna_features)+len(val_unseen_dna_features)+len(test_seen_dna_features),len(train_dna_features)+len(val_seen_dna_features)+len(val_unseen_dna_features)+len(test_seen_dna_features)+len(test_unseen_dna_features))[np.newaxis,...]+1,\n",
    "    \n",
    "}"
   ]
  },
  {
   "cell_type": "code",
   "execution_count": 32,
   "id": "f54b04ed-b497-4ee2-85ba-3d546ef17b29",
   "metadata": {},
   "outputs": [
    {
     "name": "stdout",
     "output_type": "stream",
     "text": [
      "(1, 12481)\n",
      "(1, 19420)\n",
      "(1, 2786)\n",
      "(1, 4153)\n",
      "(1, 4965)\n",
      "(1, 8463)\n",
      "\n",
      "\n",
      "(1, 13039)\n",
      "(1, 19994)\n",
      "(1, 703)\n",
      "(1, 6252)\n",
      "(1, 835)\n",
      "(1, 11595)\n"
     ]
    }
   ],
   "source": [
    "print(paper_splits['train_loc'].shape)\n",
    "print(paper_splits['trainval_loc'].shape)\n",
    "print(paper_splits['val_seen_loc'].shape)\n",
    "print(paper_splits['val_unseen_loc'].shape)\n",
    "print(paper_splits['test_seen_loc'].shape)\n",
    "print(paper_splits['test_unseen_loc'].shape)\n",
    "print('\\n')\n",
    "print(splits['train_loc'].shape)\n",
    "print(splits['trainval_loc'].shape)\n",
    "print(splits['val_seen_loc'].shape)\n",
    "print(splits['val_unseen_loc'].shape)\n",
    "print(splits['test_seen_loc'].shape)\n",
    "print(splits['test_unseen_loc'].shape)"
   ]
  },
  {
   "cell_type": "code",
   "execution_count": 275,
   "id": "a6e3b434-b4db-437b-ac36-0a4adcbbe86c",
   "metadata": {},
   "outputs": [],
   "source": [
    "from scipy.io import savemat\n",
    "\n",
    "savemat('data_f.mat', data)\n",
    "savemat('splits_f.mat', splits)"
   ]
  }
 ],
 "metadata": {
  "kernelspec": {
   "display_name": "Python 3 (ipykernel)",
   "language": "python",
   "name": "python3"
  },
  "language_info": {
   "codemirror_mode": {
    "name": "ipython",
    "version": 3
   },
   "file_extension": ".py",
   "mimetype": "text/x-python",
   "name": "python",
   "nbconvert_exporter": "python",
   "pygments_lexer": "ipython3",
   "version": "3.12.2"
  }
 },
 "nbformat": 4,
 "nbformat_minor": 5
}
