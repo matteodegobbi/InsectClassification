{
 "cells": [
  {
   "cell_type": "code",
   "execution_count": 1,
   "id": "c551020a-0df2-4a08-aae1-380763b7bfe8",
   "metadata": {},
   "outputs": [],
   "source": [
    "import torch\n",
    "from torch import nn \n",
    "import matplotlib.pyplot as plt\n",
    "from IPython.display import Image \n",
    "#%matplotlib inline\n",
    "import numpy as np\n",
    "import dataset_utils\n",
    "import time"
   ]
  },
  {
   "cell_type": "code",
   "execution_count": 2,
   "id": "3672650e-cfcf-4c1e-859e-785a1297d798",
   "metadata": {},
   "outputs": [],
   "source": [
    "torch.cuda.empty_cache()"
   ]
  },
  {
   "cell_type": "code",
   "execution_count": 3,
   "id": "a58a9ffc-0c37-4c10-a2f4-b5d8841f8c70",
   "metadata": {},
   "outputs": [
    {
     "data": {
      "text/plain": [
       "torch.Size([1000, 3, 64, 64])"
      ]
     },
     "execution_count": 3,
     "metadata": {},
     "output_type": "execute_result"
    }
   ],
   "source": [
    "import scipy.io as io\n",
    "matdataset = io.loadmat(\"matlab_dataset/insect_dataset.mat\")\n",
    "all_imgs= torch.tensor(matdataset['all_images']).float().squeeze()\n",
    "all_labels = torch.tensor(matdataset['all_labels']).float().squeeze()\n",
    "imgs_1000 = all_imgs[0:1000]\n",
    "imgs_1000.shape"
   ]
  },
  {
   "cell_type": "code",
   "execution_count": 4,
   "id": "51687959-b85e-4c8d-83dd-914d26336b37",
   "metadata": {},
   "outputs": [
    {
     "name": "stdout",
     "output_type": "stream",
     "text": [
      "6452761\n"
     ]
    },
    {
     "data": {
      "text/plain": [
       "<All keys matched successfully>"
      ]
     },
     "execution_count": 4,
     "metadata": {},
     "output_type": "execute_result"
    }
   ],
   "source": [
    "from DnaModel import TinyModel\n",
    "tinymodel = TinyModel()\n",
    "n_params = dataset_utils.count_trainable_parameters(tinymodel);\n",
    "print(n_params)\n",
    "state_dict = torch.load('checkpoints/CNN_DNA_weights_for_unseen')\n",
    "tinymodel.load_state_dict(state_dict['model_state_dict'])"
   ]
  },
  {
   "cell_type": "code",
   "execution_count": 5,
   "id": "dca4d84d-1173-4f26-a794-49fb40172f6b",
   "metadata": {
    "scrolled": true
   },
   "outputs": [
    {
     "data": {
      "text/plain": [
       "Discriminator(\n",
       "  (blocks): ModuleList(\n",
       "    (0): ModuleList(\n",
       "      (0): DiscOptBlock(\n",
       "        (conv2d0): Conv2d(3, 128, kernel_size=(1, 1), stride=(1, 1))\n",
       "        (conv2d1): Conv2d(3, 128, kernel_size=(3, 3), stride=(1, 1), padding=(1, 1))\n",
       "        (conv2d2): Conv2d(128, 128, kernel_size=(3, 3), stride=(1, 1), padding=(1, 1))\n",
       "        (activation): ReLU(inplace=True)\n",
       "        (average_pooling): AvgPool2d(kernel_size=2, stride=2, padding=0)\n",
       "      )\n",
       "    )\n",
       "    (1): ModuleList(\n",
       "      (0): SelfAttention(\n",
       "        (conv1x1_theta): Conv2d(128, 16, kernel_size=(1, 1), stride=(1, 1), bias=False)\n",
       "        (conv1x1_phi): Conv2d(128, 16, kernel_size=(1, 1), stride=(1, 1), bias=False)\n",
       "        (conv1x1_g): Conv2d(128, 64, kernel_size=(1, 1), stride=(1, 1), bias=False)\n",
       "        (conv1x1_attn): Conv2d(64, 128, kernel_size=(1, 1), stride=(1, 1), bias=False)\n",
       "        (maxpool): MaxPool2d(kernel_size=2, stride=2, padding=0, dilation=1, ceil_mode=False)\n",
       "        (softmax): Softmax(dim=-1)\n",
       "      )\n",
       "    )\n",
       "    (2): ModuleList(\n",
       "      (0): DiscBlock(\n",
       "        (activation): ReLU(inplace=True)\n",
       "        (conv2d0): Conv2d(128, 256, kernel_size=(1, 1), stride=(1, 1))\n",
       "        (conv2d1): Conv2d(128, 256, kernel_size=(3, 3), stride=(1, 1), padding=(1, 1))\n",
       "        (conv2d2): Conv2d(256, 256, kernel_size=(3, 3), stride=(1, 1), padding=(1, 1))\n",
       "        (average_pooling): AvgPool2d(kernel_size=2, stride=2, padding=0)\n",
       "      )\n",
       "    )\n",
       "    (3): ModuleList(\n",
       "      (0): DiscBlock(\n",
       "        (activation): ReLU(inplace=True)\n",
       "        (conv2d0): Conv2d(256, 512, kernel_size=(1, 1), stride=(1, 1))\n",
       "        (conv2d1): Conv2d(256, 512, kernel_size=(3, 3), stride=(1, 1), padding=(1, 1))\n",
       "        (conv2d2): Conv2d(512, 512, kernel_size=(3, 3), stride=(1, 1), padding=(1, 1))\n",
       "        (average_pooling): AvgPool2d(kernel_size=2, stride=2, padding=0)\n",
       "      )\n",
       "    )\n",
       "    (4): ModuleList(\n",
       "      (0): DiscBlock(\n",
       "        (activation): ReLU(inplace=True)\n",
       "        (conv2d0): Conv2d(512, 1024, kernel_size=(1, 1), stride=(1, 1))\n",
       "        (conv2d1): Conv2d(512, 1024, kernel_size=(3, 3), stride=(1, 1), padding=(1, 1))\n",
       "        (conv2d2): Conv2d(1024, 1024, kernel_size=(3, 3), stride=(1, 1), padding=(1, 1))\n",
       "        (average_pooling): AvgPool2d(kernel_size=2, stride=2, padding=0)\n",
       "      )\n",
       "    )\n",
       "    (5): ModuleList(\n",
       "      (0): DiscBlock(\n",
       "        (activation): ReLU(inplace=True)\n",
       "        (conv2d0): Conv2d(1024, 2048, kernel_size=(1, 1), stride=(1, 1))\n",
       "        (conv2d1): Conv2d(1024, 2048, kernel_size=(3, 3), stride=(1, 1), padding=(1, 1))\n",
       "        (conv2d2): Conv2d(2048, 2048, kernel_size=(3, 3), stride=(1, 1), padding=(1, 1))\n",
       "        (average_pooling): AvgPool2d(kernel_size=2, stride=2, padding=0)\n",
       "      )\n",
       "    )\n",
       "  )\n",
       "  (activation): ReLU(inplace=True)\n",
       "  (linear1): Linear(in_features=2048, out_features=1, bias=True)\n",
       "  (linear2): Linear(in_features=2048, out_features=2048, bias=True)\n",
       "  (embedding): Embedding(1050, 2048)\n",
       ")"
      ]
     },
     "execution_count": 5,
     "metadata": {},
     "output_type": "execute_result"
    }
   ],
   "source": [
    "import modelReACGAN as m\n",
    "from utils import ops\n",
    "import types\n",
    "# configurations for ReACGAN\n",
    "\n",
    "def define_modules(gan_config):\n",
    "    layers = types.SimpleNamespace()\n",
    "    if gan_config.apply_g_sn:\n",
    "        layers.g_conv2d = ops.snconv2d\n",
    "        layers.g_deconv2d = ops.sndeconv2d\n",
    "        layers.g_linear = ops.snlinear\n",
    "        layers.g_embedding = ops.sn_embedding\n",
    "    else:\n",
    "        layers.g_conv2d = ops.conv2d\n",
    "        layers.g_deconv2d = ops.deconv2d\n",
    "        layers.g_linear = ops.linear\n",
    "        layers.g_embedding = ops.embedding\n",
    "\n",
    "    if gan_config.apply_d_sn:\n",
    "        layers.d_conv2d = ops.snconv2d\n",
    "        layers.d_deconv2d = ops.sndeconv2d\n",
    "        layers.d_linear = ops.snlinear\n",
    "        layers.d_embedding = ops.sn_embedding\n",
    "    else:\n",
    "        layers.d_conv2d = ops.conv2d\n",
    "        layers.d_deconv2d = ops.deconv2d\n",
    "        layers.d_linear = ops.linear\n",
    "        layers.d_embedding = ops.embedding\n",
    "\n",
    "    if gan_config.g_cond_mtd == \"cBN\":\n",
    "        layers.g_bn = ops.ConditionalBatchNorm2d\n",
    "    elif gan_config.g_cond_mtd == \"W/O\":\n",
    "        layers.g_bn = ops.batchnorm_2d\n",
    "    else:\n",
    "        raise NotImplementedError\n",
    "\n",
    "    if not gan_config.apply_d_sn:\n",
    "        layers.d_bn = ops.batchnorm_2d\n",
    "\n",
    "    if gan_config.g_act_fn == \"ReLU\":\n",
    "        layers.g_act_fn = nn.ReLU(inplace=True)\n",
    "    elif gan_config.g_act_fn == \"Leaky_ReLU\":\n",
    "        layers.g_act_fn = nn.LeakyReLU(negative_slope=0.1, inplace=True)\n",
    "    elif gan_config.g_act_fn == \"ELU\":\n",
    "        layers.g_act_fn = nn.ELU(alpha=1.0, inplace=True)\n",
    "    elif gan_config.g_act_fn == \"GELU\":\n",
    "        layers.g_act_fn = nn.GELU()\n",
    "    elif gan_config.g_act_fn == \"Auto\":\n",
    "        pass\n",
    "    else:\n",
    "        raise NotImplementedError\n",
    "\n",
    "    if gan_config.d_act_fn == \"ReLU\":\n",
    "        layers.d_act_fn = nn.ReLU(inplace=True)\n",
    "    elif gan_config.d_act_fn == \"Leaky_ReLU\":\n",
    "        layers.d_act_fn = nn.LeakyReLU(negative_slope=0.1, inplace=True)\n",
    "    elif gan_config.d_act_fn == \"ELU\":\n",
    "        layers.d_act_fn = nn.ELU(alpha=1.0, inplace=True)\n",
    "    elif gan_config.d_act_fn == \"GELU\":\n",
    "        layers.d_act_fn = nn.GELU()\n",
    "    elif gan_config.g_act_fn == \"Auto\":\n",
    "        pass\n",
    "    else:\n",
    "        raise NotImplementedError\n",
    "    return layers\n",
    "    \n",
    "config = types.SimpleNamespace()\n",
    "config.d_act_fn = \"ReLU\"\n",
    "config.g_act_fn = \"ReLU\"\n",
    "config.apply_d_sn= True\n",
    "config.apply_g_sn= True\n",
    "config.g_cond_mtd= \"cBN\"\n",
    "\n",
    "l=define_modules(config)\n",
    "discriminator = m.Discriminator(imsize:=64,128,True,True,[1],\"D2DCE\",2048,True,num_classes=1050,d_init=\"ortho\",d_depth=2,mixed_precision=True,MODULES=l)\n",
    "discriminator.cuda()"
   ]
  },
  {
   "cell_type": "code",
   "execution_count": 6,
   "id": "36aa5f63-2020-46fa-a3ec-71f203fd219a",
   "metadata": {},
   "outputs": [],
   "source": [
    "import random\n",
    "inference_times = []\n",
    "for iteration in range(100):\n",
    "    index = random.randint(0,all_imgs.shape[0]-1000)\n",
    "    imgs_1000 = all_imgs[index:index+1000].cuda()\n",
    "    with torch.no_grad():\n",
    "        torch.cuda.synchronize()\n",
    "        start_time = time.time()\n",
    "        _ = discriminator.extract_features(imgs_1000,-1) # label is not needed because we're not training\n",
    "        torch.cuda.synchronize()\n",
    "        end_time = time.time()\n",
    "        inference_time = end_time - start_time\n",
    "        inference_times.append(inference_time)"
   ]
  },
  {
   "cell_type": "code",
   "execution_count": 7,
   "id": "60bed2d9-a17b-4015-99cb-7d0925245c7f",
   "metadata": {},
   "outputs": [
    {
     "data": {
      "text/plain": [
       "[<matplotlib.lines.Line2D at 0x716ef3f82d20>]"
      ]
     },
     "execution_count": 7,
     "metadata": {},
     "output_type": "execute_result"
    },
    {
     "data": {
      "image/png": "[encoded data removed]",
      "text/plain": [
       "<Figure size 640x480 with 1 Axes>"
      ]
     },
     "metadata": {},
     "output_type": "display_data"
    }
   ],
   "source": [
    "plt.plot(inference_times)"
   ]
  },
  {
   "cell_type": "code",
   "execution_count": 9,
   "id": "8a78cbe0-b92f-401f-9ecf-8a8b0ab5e356",
   "metadata": {},
   "outputs": [
    {
     "name": "stdout",
     "output_type": "stream",
     "text": [
      "mean of inference times:0.25604057047102186\n",
      "standard deviation of inference times:0.0051196577377117065\n"
     ]
    }
   ],
   "source": [
    "# discard first 10 runs to avoid JIT or cache effects\n",
    "print(f\"mean of inference times:{np.mean(inference_times[10:])}\")\n",
    "print(f\"standard deviation of inference times:{np.std(inference_times[10:])}\")"
   ]
  },
  {
   "cell_type": "code",
   "execution_count": 10,
   "id": "6d177ad5-b450-4f0e-8d8e-36f2becf1012",
   "metadata": {},
   "outputs": [
    {
     "data": {
      "text/plain": [
       "[0.42395639419555664,\n",
       " 0.25461339950561523,\n",
       " 0.2536125183105469,\n",
       " 0.27205514907836914,\n",
       " 0.26347851753234863,\n",
       " 0.25493836402893066,\n",
       " 0.2548367977142334,\n",
       " 0.2553904056549072,\n",
       " 0.25478315353393555,\n",
       " 0.25395965576171875,\n",
       " 0.25631117820739746,\n",
       " 0.25501275062561035,\n",
       " 0.2566182613372803,\n",
       " 0.2539181709289551,\n",
       " 0.2579464912414551,\n",
       " 0.25410962104797363,\n",
       " 0.25605201721191406,\n",
       " 0.25391077995300293,\n",
       " 0.256868839263916,\n",
       " 0.2539255619049072,\n",
       " 0.2555365562438965,\n",
       " 0.25533556938171387,\n",
       " 0.2540585994720459,\n",
       " 0.2553670406341553,\n",
       " 0.25391459465026855,\n",
       " 0.25652575492858887,\n",
       " 0.2541353702545166,\n",
       " 0.25519514083862305,\n",
       " 0.25400400161743164,\n",
       " 0.2578442096710205,\n",
       " 0.25391483306884766,\n",
       " 0.255434513092041,\n",
       " 0.25505971908569336,\n",
       " 0.25565361976623535,\n",
       " 0.2539970874786377,\n",
       " 0.25384020805358887,\n",
       " 0.25928497314453125,\n",
       " 0.253936767578125,\n",
       " 0.25528764724731445,\n",
       " 0.25393104553222656,\n",
       " 0.25676846504211426,\n",
       " 0.25400376319885254,\n",
       " 0.2553749084472656,\n",
       " 0.2553098201751709,\n",
       " 0.25687217712402344,\n",
       " 0.25420522689819336,\n",
       " 0.25545406341552734,\n",
       " 0.25518155097961426,\n",
       " 0.25534510612487793,\n",
       " 0.2538571357727051,\n",
       " 0.25506138801574707,\n",
       " 0.25544166564941406,\n",
       " 0.25404787063598633,\n",
       " 0.2558276653289795,\n",
       " 0.25637197494506836,\n",
       " 0.2557644844055176,\n",
       " 0.25432395935058594,\n",
       " 0.25705575942993164,\n",
       " 0.25434255599975586,\n",
       " 0.25615882873535156,\n",
       " 0.25455808639526367,\n",
       " 0.25681591033935547,\n",
       " 0.2544670104980469,\n",
       " 0.25467848777770996,\n",
       " 0.25444865226745605,\n",
       " 0.255756139755249,\n",
       " 0.25721144676208496,\n",
       " 0.2544221878051758,\n",
       " 0.25713014602661133,\n",
       " 0.25452232360839844,\n",
       " 0.2557077407836914,\n",
       " 0.2544989585876465,\n",
       " 0.256817102432251,\n",
       " 0.2544426918029785,\n",
       " 0.25597667694091797,\n",
       " 0.25551533699035645,\n",
       " 0.2566854953765869,\n",
       " 0.2541053295135498,\n",
       " 0.2555546760559082,\n",
       " 0.2553534507751465,\n",
       " 0.29932737350463867,\n",
       " 0.25397229194641113,\n",
       " 0.25663208961486816,\n",
       " 0.2541656494140625,\n",
       " 0.2552757263183594,\n",
       " 0.25405430793762207,\n",
       " 0.2540109157562256,\n",
       " 0.2561159133911133,\n",
       " 0.25539422035217285,\n",
       " 0.2607595920562744,\n",
       " 0.25403857231140137,\n",
       " 0.2555215358734131,\n",
       " 0.2580382823944092,\n",
       " 0.2565484046936035,\n",
       " 0.25394725799560547,\n",
       " 0.27312445640563965,\n",
       " 0.25525927543640137,\n",
       " 0.25548243522644043,\n",
       " 0.2541317939758301,\n",
       " 0.25548410415649414]"
      ]
     },
     "execution_count": 10,
     "metadata": {},
     "output_type": "execute_result"
    }
   ],
   "source": [
    "inference_times"
   ]
  },
  {
   "cell_type": "code",
   "execution_count": null,
   "id": "214640a5-fd7f-4d9d-8178-2cc424bc3c75",
   "metadata": {},
   "outputs": [],
   "source": []
  }
 ],
 "metadata": {
  "kernelspec": {
   "display_name": "Python 3 (ipykernel)",
   "language": "python",
   "name": "python3"
  },
  "language_info": {
   "codemirror_mode": {
    "name": "ipython",
    "version": 3
   },
   "file_extension": ".py",
   "mimetype": "text/x-python",
   "name": "python",
   "nbconvert_exporter": "python",
   "pygments_lexer": "ipython3",
   "version": "3.12.2"
  }
 },
 "nbformat": 4,
 "nbformat_minor": 5
}
