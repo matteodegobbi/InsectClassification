{
 "cells": [
  {
   "cell_type": "code",
   "execution_count": 1,
   "id": "c551020a-0df2-4a08-aae1-380763b7bfe8",
   "metadata": {},
   "outputs": [],
   "source": [
    "import torch\n",
    "from torch import nn \n",
    "import matplotlib.pyplot as plt\n",
    "from IPython.display import Image \n",
    "#%matplotlib inline\n",
    "import numpy as np\n",
    "import dataset_utils\n",
    "import time"
   ]
  },
  {
   "cell_type": "code",
   "execution_count": 2,
   "id": "3672650e-cfcf-4c1e-859e-785a1297d798",
   "metadata": {},
   "outputs": [],
   "source": [
    "torch.cuda.empty_cache()"
   ]
  },
  {
   "cell_type": "code",
   "execution_count": 3,
   "id": "a58a9ffc-0c37-4c10-a2f4-b5d8841f8c70",
   "metadata": {},
   "outputs": [
    {
     "data": {
      "text/plain": [
       "torch.Size([1000, 1, 658, 5])"
      ]
     },
     "execution_count": 3,
     "metadata": {},
     "output_type": "execute_result"
    }
   ],
   "source": [
    "import scipy.io as io\n",
    "matdataset = io.loadmat(\"matlab_dataset/insect_dataset.mat\")\n",
    "all_dnas = torch.tensor(matdataset['all_dnas']).float().squeeze()\n",
    "all_labels = torch.tensor(matdataset['all_labels']).float().squeeze()\n",
    "dnas_1000 = all_dnas[0:1000].unsqueeze(1)\n",
    "dnas_1000.shape"
   ]
  },
  {
   "cell_type": "code",
   "execution_count": 4,
   "id": "51687959-b85e-4c8d-83dd-914d26336b37",
   "metadata": {},
   "outputs": [
    {
     "name": "stdout",
     "output_type": "stream",
     "text": [
      "6452761\n"
     ]
    },
    {
     "data": {
      "text/plain": [
       "<All keys matched successfully>"
      ]
     },
     "execution_count": 4,
     "metadata": {},
     "output_type": "execute_result"
    }
   ],
   "source": [
    "from DnaModel import TinyModel\n",
    "tinymodel = TinyModel()\n",
    "n_params = dataset_utils.count_trainable_parameters(tinymodel);\n",
    "print(n_params)\n",
    "state_dict = torch.load('checkpoints/CNN_DNA_weights_for_unseen')\n",
    "tinymodel.load_state_dict(state_dict['model_state_dict'])"
   ]
  },
  {
   "cell_type": "code",
   "execution_count": 5,
   "id": "3f802b2a-971f-4a49-8d0d-358f11cd1489",
   "metadata": {
    "scrolled": true
   },
   "outputs": [
    {
     "data": {
      "text/plain": [
       "TinyModel(\n",
       "  (conv1): Conv2d(1, 16, kernel_size=(5, 1), stride=(1, 1))\n",
       "  (activation1): LeakyReLU(negative_slope=0.01)\n",
       "  (norm1): BatchNorm2d(16, eps=1e-05, momentum=0.1, affine=True, track_running_stats=True)\n",
       "  (conv2): Conv2d(16, 1, kernel_size=(5, 1), stride=(1, 1))\n",
       "  (activation2): LeakyReLU(negative_slope=0.01)\n",
       "  (norm2): BatchNorm2d(1, eps=1e-05, momentum=0.1, affine=True, track_running_stats=True)\n",
       "  (dropout1): Dropout(p=0.7, inplace=False)\n",
       "  (flat): Flatten(start_dim=1, end_dim=-1)\n",
       "  (linear): Linear(in_features=3250, out_features=1500, bias=True)\n",
       "  (dropout2): Dropout(p=0.7, inplace=False)\n",
       "  (activation3): LeakyReLU(negative_slope=0.01)\n",
       "  (linear2): Linear(in_features=1500, out_features=1050, bias=True)\n",
       ")"
      ]
     },
     "execution_count": 5,
     "metadata": {},
     "output_type": "execute_result"
    }
   ],
   "source": [
    "dnas_1000 = dnas_1000.cuda()\n",
    "tinymodel.cuda()"
   ]
  },
  {
   "cell_type": "code",
   "execution_count": 6,
   "id": "36aa5f63-2020-46fa-a3ec-71f203fd219a",
   "metadata": {},
   "outputs": [],
   "source": [
    "import random\n",
    "inference_times = []\n",
    "for iteration in range(1000):\n",
    "    index = random.randint(0,all_dnas.shape[0]-1000)\n",
    "    dnas_1000 = all_dnas[index:index+1000].unsqueeze(1).cuda()\n",
    "    with torch.no_grad():\n",
    "        torch.cuda.synchronize()\n",
    "        start_time = time.time()\n",
    "        _ = tinymodel.feature_extract(dnas_1000)\n",
    "        torch.cuda.synchronize()\n",
    "        end_time = time.time()\n",
    "        inference_time = end_time - start_time\n",
    "        inference_times.append(inference_time)"
   ]
  },
  {
   "cell_type": "code",
   "execution_count": 7,
   "id": "60bed2d9-a17b-4015-99cb-7d0925245c7f",
   "metadata": {},
   "outputs": [
    {
     "data": {
      "text/plain": [
       "[<matplotlib.lines.Line2D at 0x725776f001a0>]"
      ]
     },
     "execution_count": 7,
     "metadata": {},
     "output_type": "execute_result"
    },
    {
     "data": {
      "image/png": "[encoded data removed]",
      "text/plain": [
       "<Figure size 640x480 with 1 Axes>"
      ]
     },
     "metadata": {},
     "output_type": "display_data"
    }
   ],
   "source": [
    "plt.plot(inference_times)"
   ]
  },
  {
   "cell_type": "code",
   "execution_count": 8,
   "id": "8a78cbe0-b92f-401f-9ecf-8a8b0ab5e356",
   "metadata": {},
   "outputs": [
    {
     "name": "stdout",
     "output_type": "stream",
     "text": [
      "mean of inference times:0.00632237834159774\n",
      "standard deviation of inference times:0.00013514237366344674\n"
     ]
    }
   ],
   "source": [
    "# discard first 10 runs to avoid JIT or cache effects\n",
    "print(f\"mean of inference times:{np.mean(inference_times[10:])}\")\n",
    "print(f\"standard deviation of inference times:{np.std(inference_times[10:])}\")"
   ]
  },
  {
   "cell_type": "code",
   "execution_count": null,
   "id": "6d177ad5-b450-4f0e-8d8e-36f2becf1012",
   "metadata": {},
   "outputs": [],
   "source": []
  },
  {
   "cell_type": "code",
   "execution_count": null,
   "id": "214640a5-fd7f-4d9d-8178-2cc424bc3c75",
   "metadata": {},
   "outputs": [],
   "source": []
  }
 ],
 "metadata": {
  "kernelspec": {
   "display_name": "Python 3 (ipykernel)",
   "language": "python",
   "name": "python3"
  },
  "language_info": {
   "codemirror_mode": {
    "name": "ipython",
    "version": 3
   },
   "file_extension": ".py",
   "mimetype": "text/x-python",
   "name": "python",
   "nbconvert_exporter": "python",
   "pygments_lexer": "ipython3",
   "version": "3.12.2"
  }
 },
 "nbformat": 4,
 "nbformat_minor": 5
}
