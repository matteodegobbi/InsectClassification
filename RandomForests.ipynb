{
 "cells": [
  {
   "cell_type": "code",
   "execution_count": 49,
   "id": "09822d71-6a4a-4f62-b200-be619dd682d7",
   "metadata": {},
   "outputs": [],
   "source": [
    "import scipy.io as io\n",
    "import numpy as np\n",
    "import matplotlib.pyplot as plt\n",
    "from sklearn.ensemble import RandomForestClassifier"
   ]
  },
  {
   "cell_type": "markdown",
   "id": "68c8f1b8-33b9-4418-9f3d-9477dd58ee29",
   "metadata": {},
   "source": [
    "# unseen_dset = io.loadmat('get_unseen_fresh_samples/unseen_insect_dataset.mat')\n",
    "seen_dset = io.loadmat('matlab_dataset/insect_dataset.mat')\n"
   ]
  },
  {
   "cell_type": "markdown",
   "id": "6c20ff4c-1754-43a8-be33-d937d772a37a",
   "metadata": {},
   "source": [
    "## Read Seen Dataset"
   ]
  },
  {
   "cell_type": "code",
   "execution_count": 27,
   "id": "9ed4ab83-3db7-40d4-84c5-4ea84923b4b3",
   "metadata": {},
   "outputs": [],
   "source": [
    "trainval_loc=np.concatenate([seen_dset['train_loc'].squeeze()-1,seen_dset['val_unseen_loc'].squeeze()-1,seen_dset['val_seen_loc'].squeeze()-1])\n",
    "seen_dna_trainval_features = seen_dset['all_dna_features_cnn_new'][trainval_loc]\n",
    "seen_gan_trainval_features = seen_dset['all_image_features_gan'][trainval_loc]\n",
    "seen_trainval_labels= seen_dset['all_labels'].squeeze()[trainval_loc]-1\n",
    "species2genus = seen_dset['species2genus'].squeeze()\n",
    "seen_trainval_genus_labels = species2genus[seen_trainval_labels]"
   ]
  },
  {
   "cell_type": "markdown",
   "id": "893317ff-329f-43aa-a068-8237872af669",
   "metadata": {},
   "source": [
    "## Read Unseen Dataset\n"
   ]
  },
  {
   "cell_type": "code",
   "execution_count": 47,
   "id": "8976f4c8-4465-42e4-81b3-8ad631ac3750",
   "metadata": {},
   "outputs": [],
   "source": [
    "unseen_dna_features = unseen_dset['all_dna_features_cnn_new']\n",
    "unseen_gan_features = unseen_dset['all_image_features_gan']\n",
    "unseen_genus_labels= unseen_dset['all_genus_labels'].squeeze()"
   ]
  },
  {
   "cell_type": "code",
   "execution_count": 38,
   "id": "6cf4f2dd-c825-409d-ac72-1d45688fff7d",
   "metadata": {
    "scrolled": true
   },
   "outputs": [
    {
     "data": {
      "text/plain": [
       "<matplotlib.patches.StepPatch at 0x75aad84e18e0>"
      ]
     },
     "execution_count": 38,
     "metadata": {},
     "output_type": "execute_result"
    },
    {
     "data": {
      "image/png": "[encoded data removed]",
      "text/plain": [
       "<Figure size 640x480 with 1 Axes>"
      ]
     },
     "metadata": {},
     "output_type": "display_data"
    }
   ],
   "source": [
    "counts, bins = np.histogram(unseen_genus_labels)\n",
    "plt.stairs(counts, bins)"
   ]
  },
  {
   "cell_type": "code",
   "execution_count": 39,
   "id": "b87b9b4c-2e5e-4a95-90d4-ae4bbb6f3222",
   "metadata": {
    "scrolled": true
   },
   "outputs": [
    {
     "data": {
      "text/plain": [
       "<matplotlib.patches.StepPatch at 0x75aae1bdfef0>"
      ]
     },
     "execution_count": 39,
     "metadata": {},
     "output_type": "execute_result"
    },
    {
     "data": {
      "image/png": "[encoded data removed]",
      "text/plain": [
       "<Figure size 640x480 with 1 Axes>"
      ]
     },
     "metadata": {},
     "output_type": "display_data"
    }
   ],
   "source": [
    "counts, bins = np.histogram(seen_trainval_genus_labels)\n",
    "plt.stairs(counts, bins)\n"
   ]
  },
  {
   "cell_type": "markdown",
   "id": "bfe42a15-0fe4-4162-8ede-a3584034ab22",
   "metadata": {},
   "source": [
    "# Random Forests using genus labels"
   ]
  },
  {
   "cell_type": "markdown",
   "id": "4a0eef04-773c-42fe-b324-bf207bf68cee",
   "metadata": {},
   "source": [
    "## Only DNA CNN NEW FEATURES using genus labels"
   ]
  },
  {
   "cell_type": "code",
   "execution_count": 60,
   "id": "61a6556a-d8ad-48d1-9843-23c32ee25645",
   "metadata": {},
   "outputs": [
    {
     "name": "stdout",
     "output_type": "stream",
     "text": [
      "Training genus accuracy:0.999849954986496\n"
     ]
    }
   ],
   "source": [
    "clf = RandomForestClassifier(min_samples_leaf=2,n_jobs=-1)\n",
    "clf = clf.fit(seen_dna_trainval_features, seen_trainval_genus_labels)\n",
    "train_predicted_labels = clf.predict(seen_dna_trainval_features)\n",
    "print(f\"Training genus accuracy:{np.count_nonzero(train_predicted_labels==seen_trainval_genus_labels)/len(seen_trainval_genus_labels)}\")"
   ]
  },
  {
   "cell_type": "code",
   "execution_count": 61,
   "id": "a6bfac8b-ebfc-40e1-8a19-1e1fd04b50fa",
   "metadata": {},
   "outputs": [
    {
     "name": "stdout",
     "output_type": "stream",
     "text": [
      "Validation genus accuracy:0.24077403245942572\n"
     ]
    }
   ],
   "source": [
    "val_predicted_labels= clf.predict(unseen_dna_features)\n",
    "print(f\"Validation genus accuracy:{np.count_nonzero(val_predicted_labels==unseen_genus_labels)/len(unseen_genus_labels)}\")"
   ]
  },
  {
   "cell_type": "markdown",
   "id": "d543be21-3bf0-4c0f-bfde-246cac974e79",
   "metadata": {},
   "source": [
    "## Only GAN NEW FEATURES using genus labels"
   ]
  },
  {
   "cell_type": "code",
   "execution_count": 62,
   "id": "eae7d566-788a-460c-9083-2a8a935222f7",
   "metadata": {},
   "outputs": [
    {
     "name": "stdout",
     "output_type": "stream",
     "text": [
      "Training genus accuracy:0.9986996098829649\n"
     ]
    }
   ],
   "source": [
    "clf = RandomForestClassifier(min_samples_leaf=2,n_jobs=-1)\n",
    "clf = clf.fit(seen_gan_trainval_features, seen_trainval_genus_labels)\n",
    "train_predicted_labels = clf.predict(seen_gan_trainval_features)\n",
    "print(f\"Training genus accuracy:{np.count_nonzero(train_predicted_labels==seen_trainval_genus_labels)/len(seen_trainval_genus_labels)}\")"
   ]
  },
  {
   "cell_type": "code",
   "execution_count": 63,
   "id": "870309d9-5bf2-4981-8464-6fc021d00ce2",
   "metadata": {},
   "outputs": [
    {
     "name": "stdout",
     "output_type": "stream",
     "text": [
      "Validation genus accuracy:0.06856429463171036\n"
     ]
    }
   ],
   "source": [
    "val_predicted_labels= clf.predict(unseen_gan_features)\n",
    "print(f\"Validation genus accuracy:{np.count_nonzero(val_predicted_labels==unseen_genus_labels)/len(unseen_genus_labels)}\")"
   ]
  },
  {
   "cell_type": "markdown",
   "id": "b306b6e0-cacb-4b74-9819-a0a0bce9e94a",
   "metadata": {},
   "source": [
    "## DNA+GAN NEW FEATURES using genus labels"
   ]
  },
  {
   "cell_type": "code",
   "execution_count": 64,
   "id": "43140c18-8a8c-4161-b89c-dd9ce6fdd91b",
   "metadata": {},
   "outputs": [
    {
     "name": "stdout",
     "output_type": "stream",
     "text": [
      "Training genus accuracy:0.9999499849954987\n"
     ]
    }
   ],
   "source": [
    "clf = RandomForestClassifier(min_samples_leaf=2,n_jobs=-1)\n",
    "clf = clf.fit(np.concatenate([seen_dna_trainval_features,seen_gan_trainval_features],axis=1), seen_trainval_genus_labels)\n",
    "train_predicted_labels = clf.predict(np.concatenate([seen_dna_trainval_features,seen_gan_trainval_features],axis=1))\n",
    "print(f\"Training genus accuracy:{np.count_nonzero(train_predicted_labels==seen_trainval_genus_labels)/len(seen_trainval_genus_labels)}\")"
   ]
  },
  {
   "cell_type": "code",
   "execution_count": 65,
   "id": "25e6ee79-1b7c-4833-8112-e7de51b7f0a8",
   "metadata": {},
   "outputs": [
    {
     "name": "stdout",
     "output_type": "stream",
     "text": [
      "Validation genus accuracy:0.2486641697877653\n"
     ]
    }
   ],
   "source": [
    "val_predicted_labels= clf.predict(np.concatenate([unseen_dna_features,unseen_gan_features],axis=1))\n",
    "print(f\"Validation genus accuracy:{np.count_nonzero(val_predicted_labels==unseen_genus_labels)/len(unseen_genus_labels)}\")"
   ]
  },
  {
   "cell_type": "code",
   "execution_count": null,
   "id": "19554c45-45bd-431e-a7df-557cfac63b77",
   "metadata": {},
   "outputs": [],
   "source": []
  },
  {
   "cell_type": "markdown",
   "id": "65221436-8295-4bba-9bc0-62b36252ca52",
   "metadata": {},
   "source": [
    "# Random Forests using the top species' genus label"
   ]
  },
  {
   "cell_type": "markdown",
   "id": "b83f85af-a55d-4d7c-88b4-b1983cc0f948",
   "metadata": {},
   "source": [
    "## Only DNA CNN NEW FEATURES using top species' labels"
   ]
  },
  {
   "cell_type": "code",
   "execution_count": 69,
   "id": "19e7d4e5-333f-4c9e-aeb6-b3907b46b598",
   "metadata": {},
   "outputs": [
    {
     "name": "stdout",
     "output_type": "stream",
     "text": [
      "Training species accuracy:0.9997999399819946\n",
      "Training genus accuracy:1.0\n"
     ]
    }
   ],
   "source": [
    "clf = RandomForestClassifier(min_samples_leaf=2,n_jobs=-1)\n",
    "clf = clf.fit(seen_dna_trainval_features, seen_trainval_labels)\n",
    "train_predicted_labels = clf.predict(seen_dna_trainval_features)\n",
    "print(f\"Training species accuracy:{np.count_nonzero(train_predicted_labels==seen_trainval_labels)/len(seen_trainval_labels)}\")\n",
    "print(f\"Training genus accuracy:{np.count_nonzero(species2genus[train_predicted_labels]==seen_trainval_genus_labels)/len(seen_trainval_genus_labels)}\")"
   ]
  },
  {
   "cell_type": "code",
   "execution_count": 70,
   "id": "6a810817-b494-4653-bc0b-b744d46c7ba3",
   "metadata": {},
   "outputs": [
    {
     "name": "stdout",
     "output_type": "stream",
     "text": [
      "Validation genus accuracy:0.14958801498127342\n"
     ]
    }
   ],
   "source": [
    "val_predicted_labels= clf.predict(unseen_dna_features)\n",
    "print(f\"Validation genus accuracy:{np.count_nonzero(species2genus[val_predicted_labels]==unseen_genus_labels)/len(unseen_genus_labels)}\")"
   ]
  },
  {
   "cell_type": "code",
   "execution_count": null,
   "id": "e59d463f-a4b5-4851-8f11-560328e2e191",
   "metadata": {},
   "outputs": [],
   "source": []
  }
 ],
 "metadata": {
  "kernelspec": {
   "display_name": "Python 3 (ipykernel)",
   "language": "python",
   "name": "python3"
  },
  "language_info": {
   "codemirror_mode": {
    "name": "ipython",
    "version": 3
   },
   "file_extension": ".py",
   "mimetype": "text/x-python",
   "name": "python",
   "nbconvert_exporter": "python",
   "pygments_lexer": "ipython3",
   "version": "3.12.2"
  }
 },
 "nbformat": 4,
 "nbformat_minor": 5
}
