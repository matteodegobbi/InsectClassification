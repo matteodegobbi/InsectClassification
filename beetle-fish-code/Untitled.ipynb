{
 "cells": [
  {
   "cell_type": "code",
   "execution_count": 1,
   "id": "0c2d4108-95d5-4483-9b6b-0c4b31026f4e",
   "metadata": {},
   "outputs": [],
   "source": [
    "import scipy.io as io"
   ]
  },
  {
   "cell_type": "code",
   "execution_count": 2,
   "id": "5191d70b-c573-450e-ba0b-fb3423d8ba31",
   "metadata": {},
   "outputs": [],
   "source": [
    "dd = io.loadmat('beetle_features.mat')"
   ]
  },
  {
   "cell_type": "code",
   "execution_count": 8,
   "id": "5c272cc7-be2b-45ff-8c63-a254e05fbf0a",
   "metadata": {},
   "outputs": [
    {
     "data": {
      "text/plain": [
       "(615, 3250)"
      ]
     },
     "execution_count": 8,
     "metadata": {},
     "output_type": "execute_result"
    }
   ],
   "source": [
    "dd['all_dna_features_cnn_new'].shape"
   ]
  },
  {
   "cell_type": "code",
   "execution_count": null,
   "id": "cc57f896-dc1c-43a3-8961-5f846ac50f2b",
   "metadata": {},
   "outputs": [],
   "source": []
  }
 ],
 "metadata": {
  "kernelspec": {
   "display_name": "Python 3 (ipykernel)",
   "language": "python",
   "name": "python3"
  },
  "language_info": {
   "codemirror_mode": {
    "name": "ipython",
    "version": 3
   },
   "file_extension": ".py",
   "mimetype": "text/x-python",
   "name": "python",
   "nbconvert_exporter": "python",
   "pygments_lexer": "ipython3",
   "version": "3.12.2"
  }
 },
 "nbformat": 4,
 "nbformat_minor": 5
}
