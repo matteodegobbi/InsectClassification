{
 "cells": [
  {
   "cell_type": "code",
   "execution_count": 91,
   "id": "ead8b5ad-6c59-406f-b35d-850aefd4dd3e",
   "metadata": {},
   "outputs": [],
   "source": [
    "import scipy.io as io\n",
    "from sklearn.ensemble import RandomForestClassifier\n",
    "import numpy as np"
   ]
  },
  {
   "cell_type": "code",
   "execution_count": 92,
   "id": "795fbc8f-9571-44f5-948b-da1bdcdc4906",
   "metadata": {},
   "outputs": [],
   "source": [
    "dset = io.loadmat('fish_features.mat')"
   ]
  },
  {
   "cell_type": "code",
   "execution_count": 93,
   "id": "b4ee194d-e109-49d4-939c-b0278a1668ce",
   "metadata": {},
   "outputs": [],
   "source": [
    "stdfish = io.loadmat('standard_fish.mat')"
   ]
  },
  {
   "cell_type": "code",
   "execution_count": 94,
   "id": "0279f964-8fcc-4091-b812-bf0344350a93",
   "metadata": {},
   "outputs": [],
   "source": [
    "labels = stdfish['DAT'][0][1].squeeze()"
   ]
  },
  {
   "cell_type": "code",
   "execution_count": 95,
   "id": "dced2afc-4d92-46ed-a1af-4a696cae7d61",
   "metadata": {
    "scrolled": true
   },
   "outputs": [
    {
     "data": {
      "text/plain": [
       "{'__header__': b'MATLAB 5.0 MAT-file Platform: posix, Created on: Mon Nov 25 00:37:38 2024',\n",
       " '__version__': '1.0',\n",
       " '__globals__': [],\n",
       " 'all_dna_features_cnn_new': array([[ 0.74259937,  0.74259937,  0.74259937, ...,  0.27672687,\n",
       "          3.1490903 ,  0.74259937],\n",
       "        [ 0.74259937,  0.74259937,  0.74259937, ...,  0.27672687,\n",
       "          3.1490903 ,  0.74259937],\n",
       "        [ 0.74259937,  0.74259937,  0.74259937, ...,  0.27672687,\n",
       "          3.1490903 ,  0.74259937],\n",
       "        ...,\n",
       "        [ 0.74259937,  0.74259937,  0.74259937, ...,  0.27672687,\n",
       "         -0.45440736,  0.74259937],\n",
       "        [ 0.74259937,  0.74259937,  0.74259937, ...,  0.27672687,\n",
       "         -0.45440736,  0.74259937],\n",
       "        [ 0.74259937,  0.74259937,  0.74259937, ...,  0.27672687,\n",
       "         -0.45440736,  0.74259937]], dtype=float32),\n",
       " 'all_image_features_gan': array([[0.        , 0.        , 0.        , ..., 0.        , 0.        ,\n",
       "         0.        ],\n",
       "        [0.        , 0.        , 0.20602417, ..., 0.        , 0.        ,\n",
       "         0.        ],\n",
       "        [0.        , 0.        , 0.        , ..., 0.        , 0.        ,\n",
       "         0.        ],\n",
       "        ...,\n",
       "        [0.        , 0.        , 0.        , ..., 0.        , 0.        ,\n",
       "         0.        ],\n",
       "        [0.        , 0.        , 0.        , ..., 0.        , 0.        ,\n",
       "         0.        ],\n",
       "        [0.        , 0.        , 0.        , ..., 0.        , 0.        ,\n",
       "         0.        ]], dtype=float32),\n",
       " 'all_image_features_resnet': array([[0., 0., 0., ..., 0., 0., 0.],\n",
       "        [0., 0., 0., ..., 0., 0., 0.],\n",
       "        [0., 0., 0., ..., 0., 0., 0.],\n",
       "        ...,\n",
       "        [0., 0., 0., ..., 0., 0., 0.],\n",
       "        [0., 0., 0., ..., 0., 0., 0.],\n",
       "        [0., 0., 0., ..., 0., 0., 0.]], dtype=float32),\n",
       " 'all_dna_features_cnn_original': array([[-49.20441055, -19.94639397, -47.70833588, ..., -20.85678673,\n",
       "         -66.94672394, -30.20420456],\n",
       "        [-49.20441055, -19.94639397, -47.70833588, ..., -20.85678673,\n",
       "         -66.94672394, -30.20420456],\n",
       "        [-48.71385956, -19.88578415, -47.7721138 , ..., -20.83109283,\n",
       "         -66.81204224, -30.7436924 ],\n",
       "        ...,\n",
       "        [-58.07537842, -18.7996006 , -48.37882996, ..., -28.83546829,\n",
       "         -76.62012482, -10.74029732],\n",
       "        [-58.03794098, -18.96252632, -49.02939224, ..., -28.5049057 ,\n",
       "         -77.24198151, -12.49904823],\n",
       "        [-60.41152191, -20.62984848, -50.13162231, ..., -32.60776901,\n",
       "         -84.09666443, -16.32437325]])}"
      ]
     },
     "execution_count": 95,
     "metadata": {},
     "output_type": "execute_result"
    }
   ],
   "source": [
    "dset"
   ]
  },
  {
   "cell_type": "code",
   "execution_count": 96,
   "id": "69a986cf-191d-47f1-885d-4b078d5f371e",
   "metadata": {
    "scrolled": true
   },
   "outputs": [
    {
     "name": "stdout",
     "output_type": "stream",
     "text": [
      "Random array: [ 107  764  254  321  304  548  241  535 1052   78  306  613  206  792\n",
      "  264  884  796  939  751  688  780  915  541 1044  855  263  696 1002\n",
      "  813  910  440  978  946  332  682  953  103  346  781  383  478  921\n",
      "  243  127  191  202  455   72  502   60  918  397   79  245  444  143\n",
      "  886  842  988  560  378  730  973  769  484  354  382  720 1036  108\n",
      "  957  503  818  927  641 1056  625  905  581  945  161  895 1013  588\n",
      "  192  941   16  471   49  573 1039   19  723  423  271  834  875  671\n",
      "  817  363   33  804  278  498  109  151   51  480  497  116  333 1029\n",
      "  996  568 1003  220  213  266  731  338  330  385  176  298   91  226\n",
      "  998   95   23 1038   97 1015  361  174  725  426 1027  120  275  873\n",
      "   44  809  824  994  215  424  968  810  585  923  487  888  470  288\n",
      "  342  970  673  763   62  467  870   98  644  827  744  632  705    2\n",
      "  482  407  605  290  563  778  669 1066  719  198  936  872  767  365\n",
      "  835  571  373  284   57  825  463  295  398  302 1025  381    4  157\n",
      "  155  180  740  160  572  268  159  646 1001  954  932  214  171  680\n",
      "  303  916  454  164  326  746  846   66  602   48  791  419  247  749\n",
      "   74  520  958  715  269  903  917  262  177   75  135  265 1032  675\n",
      "  197   99  359  558  149  801 1004  603   11  184  559  501  672  308\n",
      "  350  153  234  595  635  141 1054  476 1014   22  393  630  112  830\n",
      "  995  274  565  955  406 1020  511  495  168  698  181   38   88  647\n",
      "  194  459  982  152 1010  657  100  142  768  856   90  348 1009  908\n",
      "  320  718  211  965  102  636  848   93  578  775  414 1000  163  877\n",
      "  325  735  633  993  803  876  351  822   24  976  533  106  788  863\n",
      "  357  814  172   37    1  975  126  500  555  258  785  732 1011  277\n",
      "  743  833   73  376  839  706  411  114  617  980  257  367  583  448\n",
      " 1035   13  430   71  248  362  777  847  984  328  331  750  316  627\n",
      "  894  728  739  203  686  433 1050  711  621  508  557   69  310  401\n",
      "  772   58  532  829 1031  279  119  574  771  826  852 1051  643   42\n",
      "  956  528  228  762  405  113  713  924]\n",
      "Remaining array: [   0    3    5    6    7    8    9   10   12   14   15   17   18   20\n",
      "   21   25   26   27   28   29   30   31   32   34   35   36   39   40\n",
      "   41   43   45   46   47   50   52   53   54   55   56   59   61   63\n",
      "   64   65   67   68   70   76   77   80   81   82   83   84   85   86\n",
      "   87   89   92   94   96  101  104  105  110  111  115  117  118  121\n",
      "  122  123  124  125  128  129  130  131  132  133  134  136  137  138\n",
      "  139  140  144  145  146  147  148  150  154  156  158  162  165  166\n",
      "  167  169  170  173  175  178  179  182  183  185  186  187  188  189\n",
      "  190  193  195  196  199  200  201  204  205  207  208  209  210  212\n",
      "  216  217  218  219  221  222  223  224  225  227  229  230  231  232\n",
      "  233  235  236  237  238  239  240  242  244  246  249  250  251  252\n",
      "  253  255  256  259  260  261  267  270  272  273  276  280  281  282\n",
      "  283  285  286  287  289  291  292  293  294  296  297  299  300  301\n",
      "  305  307  309  311  312  313  314  315  317  318  319  322  323  324\n",
      "  327  329  334  335  336  337  339  340  341  343  344  345  347  349\n",
      "  352  353  355  356  358  360  364  366  368  369  370  371  372  374\n",
      "  375  377  379  380  384  386  387  388  389  390  391  392  394  395\n",
      "  396  399  400  402  403  404  408  409  410  412  413  415  416  417\n",
      "  418  420  421  422  425  427  428  429  431  432  434  435  436  437\n",
      "  438  439  441  442  443  445  446  447  449  450  451  452  453  456\n",
      "  457  458  460  461  462  464  465  466  468  469  472  473  474  475\n",
      "  477  479  481  483  485  486  488  489  490  491  492  493  494  496\n",
      "  499  504  505  506  507  509  510  512  513  514  515  516  517  518\n",
      "  519  521  522  523  524  525  526  527  529  530  531  534  536  537\n",
      "  538  539  540  542  543  544  545  546  547  549  550  551  552  553\n",
      "  554  556  561  562  564  566  567  569  570  575  576  577  579  580\n",
      "  582  584  586  587  589  590  591  592  593  594  596  597  598  599\n",
      "  600  601  604  606  607  608  609  610  611  612  614  615  616  618\n",
      "  619  620  622  623  624  626  628  629  631  634  637  638  639  640\n",
      "  642  645  648  649  650  651  652  653  654  655  656  658  659  660\n",
      "  661  662  663  664  665  666  667  668  670  674  676  677  678  679\n",
      "  681  683  684  685  687  689  690  691  692  693  694  695  697  699\n",
      "  700  701  702  703  704  707  708  709  710  712  714  716  717  721\n",
      "  722  724  726  727  729  733  734  736  737  738  741  742  745  747\n",
      "  748  752  753  754  755  756  757  758  759  760  761  765  766  770\n",
      "  773  774  776  779  782  783  784  786  787  789  790  793  794  795\n",
      "  797  798  799  800  802  805  806  807  808  811  812  815  816  819\n",
      "  820  821  823  828  831  832  836  837  838  840  841  843  844  845\n",
      "  849  850  851  853  854  857  858  859  860  861  862  864  865  866\n",
      "  867  868  869  871  874  878  879  880  881  882  883  885  887  889\n",
      "  890  891  892  893  896  897  898  899  900  901  902  904  906  907\n",
      "  909  911  912  913  914  919  920  922  925  926  928  929  930  931\n",
      "  933  934  935  937  938  940  942  943  944  947  948  949  950  951\n",
      "  952  959  960  961  962  963  964  966  967  969  971  972  974  977\n",
      "  979  981  983  985  986  987  989  990  991  992  997  999 1005 1006\n",
      " 1007 1008 1012 1016 1017 1018 1019 1021 1022 1023 1024 1026 1028 1030\n",
      " 1033 1034 1037 1040 1041 1042 1043 1045 1046 1047 1048 1049 1053 1055\n",
      " 1057 1058 1059 1060 1061 1062 1063 1064 1065 1067 1068 1069]\n"
     ]
    }
   ],
   "source": [
    "import numpy as np\n",
    "\n",
    "# Define the range\n",
    "total_numbers = 1070  # 0 to 1070 inclusive\n",
    "selected_size = 700   # Adjust the size as needed\n",
    "\n",
    "# Generate a random array with unique numbers\n",
    "random_array = np.random.choice(total_numbers, size=selected_size, replace=False)\n",
    "\n",
    "# Get the remaining numbers\n",
    "all_numbers = np.arange(total_numbers)\n",
    "remaining_array = np.setdiff1d(all_numbers, random_array)\n",
    "\n",
    "# Print results\n",
    "print(\"Random array:\", random_array)\n",
    "print(\"Remaining array:\", remaining_array)\n",
    "\n",
    "tlocs = random_array\n",
    "vlocs = remaining_array"
   ]
  },
  {
   "cell_type": "code",
   "execution_count": 97,
   "id": "13b04586-4ab9-40be-ae4d-0f0bfc31f3c0",
   "metadata": {},
   "outputs": [
    {
     "data": {
      "text/plain": [
       "set()"
      ]
     },
     "execution_count": 97,
     "metadata": {},
     "output_type": "execute_result"
    }
   ],
   "source": [
    "\n",
    "set(tlocs).intersection(set(vlocs))"
   ]
  },
  {
   "cell_type": "markdown",
   "id": "b331730d-0849-4a79-bc18-ab003f86469c",
   "metadata": {},
   "source": [
    "# DNA NUOVO"
   ]
  },
  {
   "cell_type": "code",
   "execution_count": 98,
   "id": "0ca74904-a781-4e63-92b7-9dab778a84dd",
   "metadata": {},
   "outputs": [
    {
     "name": "stdout",
     "output_type": "stream",
     "text": [
      "Training genus accuracy:0.985\n"
     ]
    }
   ],
   "source": [
    "clf = RandomForestClassifier(min_samples_leaf=2,n_jobs=-1)\n",
    "clf = clf.fit(dset['all_dna_features_cnn_new'][tlocs], labels[tlocs])\n",
    "train_predicted_labels = clf.predict(dset['all_dna_features_cnn_new'][tlocs])\n",
    "print(f\"Training genus accuracy:{np.count_nonzero(train_predicted_labels==labels[tlocs])/len(labels[tlocs])}\")"
   ]
  },
  {
   "cell_type": "code",
   "execution_count": 99,
   "id": "22528cb8-16a8-4a3b-b0cd-42e557545fdc",
   "metadata": {},
   "outputs": [
    {
     "name": "stdout",
     "output_type": "stream",
     "text": [
      "Val genus accuracy:0.7701492537313432\n"
     ]
    }
   ],
   "source": [
    "val_predicted_labels = clf.predict(dset['all_dna_features_cnn_new'][vlocs])\n",
    "print(f\"Val genus accuracy:{np.count_nonzero(val_predicted_labels==labels[vlocs])/len(labels[vlocs])}\")"
   ]
  },
  {
   "cell_type": "markdown",
   "id": "d133d54f-af64-4c32-8a27-883b5bd8a639",
   "metadata": {},
   "source": [
    "\n",
    "# DNA VECCHIO"
   ]
  },
  {
   "cell_type": "code",
   "execution_count": 100,
   "id": "111ca450-95a2-492b-97e8-ae07b2974e83",
   "metadata": {},
   "outputs": [
    {
     "name": "stdout",
     "output_type": "stream",
     "text": [
      "Training genus accuracy:0.9925\n"
     ]
    }
   ],
   "source": [
    "clf = RandomForestClassifier(min_samples_leaf=2,n_jobs=-1)\n",
    "clf = clf.fit(dset['all_dna_features_cnn_original'][tlocs], labels[tlocs])\n",
    "train_predicted_labels = clf.predict(dset['all_dna_features_cnn_original'][tlocs])\n",
    "print(f\"Training genus accuracy:{np.count_nonzero(train_predicted_labels==labels[tlocs])/len(labels[tlocs])}\")"
   ]
  },
  {
   "cell_type": "code",
   "execution_count": 101,
   "id": "bea42564-30a1-4c62-8a93-627dd9bad477",
   "metadata": {},
   "outputs": [
    {
     "name": "stdout",
     "output_type": "stream",
     "text": [
      "Val genus accuracy:0.6805970149253732\n"
     ]
    }
   ],
   "source": [
    "val_predicted_labels = clf.predict(dset['all_dna_features_cnn_original'][vlocs])\n",
    "print(f\"Val genus accuracy:{np.count_nonzero(val_predicted_labels==labels[vlocs])/len(labels[vlocs])}\")"
   ]
  },
  {
   "cell_type": "markdown",
   "id": "46fdb5e5-ca7f-4b82-bc93-47e8ae006898",
   "metadata": {},
   "source": [
    "# GAN"
   ]
  },
  {
   "cell_type": "code",
   "execution_count": 102,
   "id": "1d967b1d-3202-45f7-9580-e7c42dc11929",
   "metadata": {},
   "outputs": [
    {
     "name": "stdout",
     "output_type": "stream",
     "text": [
      "Training genus accuracy:1.0\n"
     ]
    }
   ],
   "source": [
    "clf = RandomForestClassifier(min_samples_leaf=2,n_jobs=-1)\n",
    "clf = clf.fit(dset['all_image_features_gan'][tlocs], labels[tlocs])\n",
    "train_predicted_labels = clf.predict(dset['all_image_features_gan'][tlocs])\n",
    "print(f\"Training genus accuracy:{np.count_nonzero(train_predicted_labels==labels[tlocs])/len(labels[tlocs])}\")"
   ]
  },
  {
   "cell_type": "code",
   "execution_count": 103,
   "id": "55f01028-16f6-4ce7-aa4d-62ef31bf07aa",
   "metadata": {},
   "outputs": [
    {
     "name": "stdout",
     "output_type": "stream",
     "text": [
      "Val genus accuracy:0.2626865671641791\n"
     ]
    }
   ],
   "source": [
    "val_predicted_labels = clf.predict(dset['all_image_features_gan'][vlocs])\n",
    "print(f\"Val genus accuracy:{np.count_nonzero(val_predicted_labels==labels[vlocs])/len(labels[vlocs])}\")"
   ]
  },
  {
   "cell_type": "markdown",
   "id": "404b793b-25bf-485d-a9e2-ea2d5f1e10b9",
   "metadata": {},
   "source": [
    "# RESNET"
   ]
  },
  {
   "cell_type": "code",
   "execution_count": 104,
   "id": "64452e17-fffe-482a-a26a-e0c0ae97463f",
   "metadata": {},
   "outputs": [
    {
     "name": "stdout",
     "output_type": "stream",
     "text": [
      "Training genus accuracy:1.0\n"
     ]
    }
   ],
   "source": [
    "clf = RandomForestClassifier(min_samples_leaf=2,n_jobs=-1)\n",
    "clf = clf.fit(dset['all_image_features_resnet'][tlocs], labels[tlocs])\n",
    "train_predicted_labels = clf.predict(dset['all_image_features_resnet'][tlocs])\n",
    "print(f\"Training genus accuracy:{np.count_nonzero(train_predicted_labels==labels[tlocs])/len(labels[tlocs])}\")"
   ]
  },
  {
   "cell_type": "code",
   "execution_count": 105,
   "id": "13fdaee3-5601-4bcd-9529-97903de00407",
   "metadata": {},
   "outputs": [
    {
     "name": "stdout",
     "output_type": "stream",
     "text": [
      "Val genus accuracy:0.2\n"
     ]
    }
   ],
   "source": [
    "val_predicted_labels = clf.predict(dset['all_image_features_resnet'][vlocs])\n",
    "print(f\"Val genus accuracy:{np.count_nonzero(val_predicted_labels==labels[vlocs])/len(labels[vlocs])}\")"
   ]
  },
  {
   "cell_type": "code",
   "execution_count": null,
   "id": "931c23dc-cc5d-4f7a-b532-f0854ee8c0e3",
   "metadata": {},
   "outputs": [],
   "source": []
  },
  {
   "cell_type": "code",
   "execution_count": null,
   "id": "649d9306-2b35-48b9-b643-7ed7fa088d98",
   "metadata": {},
   "outputs": [],
   "source": []
  }
 ],
 "metadata": {
  "kernelspec": {
   "display_name": "Python 3 (ipykernel)",
   "language": "python",
   "name": "python3"
  },
  "language_info": {
   "codemirror_mode": {
    "name": "ipython",
    "version": 3
   },
   "file_extension": ".py",
   "mimetype": "text/x-python",
   "name": "python",
   "nbconvert_exporter": "python",
   "pygments_lexer": "ipython3",
   "version": "3.12.2"
  }
 },
 "nbformat": 4,
 "nbformat_minor": 5
}
