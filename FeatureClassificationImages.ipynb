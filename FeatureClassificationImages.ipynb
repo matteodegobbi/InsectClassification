{
 "cells": [
  {
   "cell_type": "code",
   "execution_count": 1,
   "id": "f6b94cb3-7047-49d6-b2d6-937692c7d536",
   "metadata": {},
   "outputs": [
    {
     "data": {
      "text/plain": [
       "<module 'dataset_utils' from '/home/fogliodicarta/Desktop/InsectClassification/dataset_utils.py'>"
      ]
     },
     "execution_count": 1,
     "metadata": {},
     "output_type": "execute_result"
    }
   ],
   "source": [
    "import torch\n",
    "import torchvision\n",
    "from torch import nn \n",
    "#from torch.utils.tensorboard import SummaryWriter\n",
    "from torchvision import transforms\n",
    "import matplotlib.pyplot as plt\n",
    "import pandas as pd\n",
    "from IPython.display import Image \n",
    "#%matplotlib inline\n",
    "import numpy as np\n",
    "import dataset_utils\n",
    "import importlib\n",
    "import pickle\n",
    "importlib.reload(dataset_utils)\n"
   ]
  },
  {
   "cell_type": "code",
   "execution_count": 2,
   "id": "29950691-4341-4247-a273-43e53ed45583",
   "metadata": {
    "scrolled": true
   },
   "outputs": [
    {
     "data": {
      "text/plain": [
       "Generator(\n",
       "  (embed): Embedding(1050, 1000)\n",
       "  (main): Sequential(\n",
       "    (0): Tpose(\n",
       "      (main): Sequential(\n",
       "        (0): ConvTranspose2d(1100, 1024, kernel_size=(4, 4), stride=(2, 2), padding=(1, 1), bias=False)\n",
       "        (1): BatchNorm2d(1024, eps=1e-05, momentum=0.1, affine=True, track_running_stats=True)\n",
       "        (2): LeakyReLU(negative_slope=0.2, inplace=True)\n",
       "      )\n",
       "    )\n",
       "    (1): Tpose(\n",
       "      (main): Sequential(\n",
       "        (0): ConvTranspose2d(1024, 512, kernel_size=(4, 4), stride=(2, 2), padding=(1, 1), bias=False)\n",
       "        (1): BatchNorm2d(512, eps=1e-05, momentum=0.1, affine=True, track_running_stats=True)\n",
       "        (2): LeakyReLU(negative_slope=0.2, inplace=True)\n",
       "      )\n",
       "    )\n",
       "    (2): Tpose(\n",
       "      (main): Sequential(\n",
       "        (0): ConvTranspose2d(512, 256, kernel_size=(4, 4), stride=(2, 2), padding=(1, 1), bias=False)\n",
       "        (1): BatchNorm2d(256, eps=1e-05, momentum=0.1, affine=True, track_running_stats=True)\n",
       "        (2): LeakyReLU(negative_slope=0.2, inplace=True)\n",
       "      )\n",
       "    )\n",
       "    (3): Tpose(\n",
       "      (main): Sequential(\n",
       "        (0): ConvTranspose2d(256, 128, kernel_size=(4, 4), stride=(2, 2), padding=(1, 1), bias=False)\n",
       "        (1): BatchNorm2d(128, eps=1e-05, momentum=0.1, affine=True, track_running_stats=True)\n",
       "        (2): LeakyReLU(negative_slope=0.2, inplace=True)\n",
       "      )\n",
       "    )\n",
       "    (4): Tpose(\n",
       "      (main): Sequential(\n",
       "        (0): ConvTranspose2d(128, 64, kernel_size=(4, 4), stride=(2, 2), padding=(1, 1), bias=False)\n",
       "        (1): BatchNorm2d(64, eps=1e-05, momentum=0.1, affine=True, track_running_stats=True)\n",
       "        (2): LeakyReLU(negative_slope=0.2, inplace=True)\n",
       "      )\n",
       "    )\n",
       "    (5): ConvTranspose2d(64, 3, kernel_size=(4, 4), stride=(2, 2), padding=(1, 1), bias=False)\n",
       "    (6): Tanh()\n",
       "  )\n",
       ")"
      ]
     },
     "execution_count": 2,
     "metadata": {},
     "output_type": "execute_result"
    }
   ],
   "source": [
    "import modelC as m\n",
    "def extract_features(self,x):\n",
    "    x = self.main(x)\n",
    "    x = self.flatten(x)\n",
    "    return x\n",
    "m.Discriminator.extract_features = extract_features\n",
    "\n",
    "discriminator = m.Discriminator()\n",
    "discriminator.cuda()\n",
    "generator = m.Generator(noise_size=100)\n",
    "generator.cuda()"
   ]
  },
  {
   "cell_type": "code",
   "execution_count": 3,
   "id": "e169b430-c943-4102-a623-f776f68c2778",
   "metadata": {},
   "outputs": [
    {
     "data": {
      "text/plain": [
       "<All keys matched successfully>"
      ]
     },
     "execution_count": 3,
     "metadata": {},
     "output_type": "execute_result"
    }
   ],
   "source": [
    "g_dict = torch.load('checkpoints/generatorC')\n",
    "generator.load_state_dict(g_dict['model_state_dict'])\n",
    "d_dict = torch.load('checkpoints/discriminatorC')\n",
    "discriminator.load_state_dict(d_dict['model_state_dict'])"
   ]
  },
  {
   "cell_type": "code",
   "execution_count": 4,
   "id": "22757b9b-7690-4912-bc5a-f2d2b27a1a79",
   "metadata": {},
   "outputs": [],
   "source": [
    "df = pd.read_csv('final_dataset.csv',index_col=0)\n",
    "tform = transforms.Compose([transforms.Resize((64,64)),transforms.PILToTensor(),transforms.ConvertImageDtype(torch.float),transforms.Normalize(0.5,0.5)])\n",
    "image_dataset = torchvision.datasets.ImageFolder(\"image_dataset/\",transform=tform)\n",
    "species2genus = dataset_utils.species_label_to_genus_label(df,image_dataset)\n"
   ]
  },
  {
   "cell_type": "code",
   "execution_count": 5,
   "id": "9eb75374-8087-4540-8210-6478414c3cf1",
   "metadata": {},
   "outputs": [
    {
     "name": "stdout",
     "output_type": "stream",
     "text": [
      "365    Bembidion normannum\n",
      "292       Bledius gallicus\n",
      "321       Praxis edwardsii\n",
      "352        Andrena pilipes\n",
      "18     Automeris managuana\n",
      "              ...         \n",
      "412         Hemiceras losa\n",
      "413         Hemiceras losa\n",
      "417     Hemiceras punctata\n",
      "418         Hemiceras losa\n",
      "421     Hemiceras punctata\n",
      "Name: species_name, Length: 9991, dtype: object\n",
      "32424\n"
     ]
    }
   ],
   "source": [
    "batch_size = 1000 \n",
    "import random\n",
    "import dataset_utils\n",
    "img2dna = dataset_utils.get_imgs_bold_id(image_dataset,df)\n",
    "\n",
    "nucleotides = df[['nucleotide','species_name','genus_name','processid','image_urls']]\n",
    "colonna_dna = df.loc[:,\"nucleotide\"]\n",
    "nucleotides.loc[:,'nucleotide'] = colonna_dna.apply(dataset_utils.one_hot_encoding)\n",
    "random.seed(42)\n",
    "\n",
    "X_train_1, X_test, y_train_1, y_test = dataset_utils.data_split(nucleotides,0.2,random_state=42)\n",
    "print(y_test)\n",
    "train_data = X_train_1\n",
    "train_data['species_name'] = y_train_1\n",
    "\n",
    "X_train, X_validation, y_train, y_validation = dataset_utils.data_split(train_data,0.2,drop_labels=False,random_state=42)\n",
    "train_indices, val_indices, test_indices = dataset_utils.image_splits_from_df(X_train,X_validation,X_test,image_dataset)\n",
    "from torch.utils.data import Dataset, DataLoader\n",
    " \n",
    "class WholeDataset(Dataset):\n",
    "    def __init__(self, data, transform=None):\n",
    "        self.data = data\n",
    "        self.targets = data.targets#torch.tensor(targets)\n",
    "        #self.transform = transform\n",
    "        \n",
    "    def __getitem__(self, index):\n",
    "        x = self.data[index][0]\n",
    "        y = self.targets[index]\n",
    "        \n",
    "        return x, y\n",
    "    \n",
    "    def __len__(self):\n",
    "        return len(self.data)\n",
    "        \n",
    "whole_dataset = WholeDataset(image_dataset)\n",
    "n_classes = np.unique(whole_dataset.targets).shape[0]\n",
    "print(len(test_indices+val_indices+train_indices))\n",
    "len(whole_dataset)\n",
    "\n",
    "train_imgs = torch.utils.data.Subset(whole_dataset, train_indices)\n",
    "val_imgs = torch.utils.data.Subset(whole_dataset, val_indices)\n",
    "test_imgs = torch.utils.data.Subset(whole_dataset, test_indices)\n",
    "len(train_imgs)+len(val_imgs)+len(test_imgs)\n",
    "train_loader = torch.utils.data.DataLoader(train_imgs, batch_size=batch_size,shuffle=False, num_workers=2)\n",
    "val_loader = torch.utils.data.DataLoader(val_imgs, batch_size=2000,shuffle=False, num_workers=2)\n",
    "test_loader = torch.utils.data.DataLoader(test_imgs, batch_size=4,shuffle=False, num_workers=2)\n",
    "#del test_loader\n",
    "dataloaders = {\"train\":train_loader,\"val\":val_loader}\n",
    "dataset_sizes = {'train': len(train_imgs.indices), 'val':len(val_imgs.indices)}\n",
    "\n",
    "described_species_labels = np.array([image_dataset.targets[i] for i in train_indices])\n",
    "described_species_labels = np.unique(described_species_labels)"
   ]
  },
  {
   "cell_type": "markdown",
   "id": "c2094cad-d26d-4bf5-ba8d-866f31c0e33c",
   "metadata": {},
   "source": [
    "## Extract features from training set and validation set"
   ]
  },
  {
   "cell_type": "code",
   "execution_count": 6,
   "id": "faa6ece7-7018-449f-a7b3-5f32fb8bd999",
   "metadata": {},
   "outputs": [],
   "source": [
    "discriminator.eval()\n",
    "train_features = []\n",
    "train_labels = np.array([]) \n",
    "with torch.no_grad():\n",
    "    for batch, targets in dataloaders['train']:\n",
    "        features_torch = discriminator.extract_features(batch.cuda()) \n",
    "        features_targets_torch = targets\n",
    "        train_labels = np.concatenate((train_labels, features_targets_torch.cpu().numpy()))\n",
    "        train_features.append(features_torch.cpu().numpy())\n",
    "        torch.cuda.empty_cache()\n",
    "\n",
    "train_features = np.concatenate(train_features)"
   ]
  },
  {
   "cell_type": "code",
   "execution_count": 7,
   "id": "7b7f67bc-bc04-4030-9c90-4e35413e24c5",
   "metadata": {},
   "outputs": [
    {
     "data": {
      "text/plain": [
       "(13039, 4096)"
      ]
     },
     "execution_count": 7,
     "metadata": {},
     "output_type": "execute_result"
    }
   ],
   "source": [
    "train_features.shape\n",
    "#train_labels.shape\n",
    "#train_labels= features_targets.cpu().numpy()\n",
    "#train_features = features.cpu().numpy()"
   ]
  },
  {
   "cell_type": "code",
   "execution_count": 8,
   "id": "b7b86019-eb53-4754-893f-3400ebd57952",
   "metadata": {},
   "outputs": [],
   "source": [
    "torch.save(torch.tensor(train_features),'image_train_features.pt')"
   ]
  },
  {
   "cell_type": "code",
   "execution_count": 9,
   "id": "54abb665-ad27-488b-88aa-e83e8f84b3c8",
   "metadata": {},
   "outputs": [],
   "source": [
    "torch.cuda.empty_cache()\n",
    "discriminator.eval()\n",
    "val_features = []\n",
    "val_labels = np.array([])\n",
    "with torch.no_grad():\n",
    "    for batch,targets in dataloaders['val']:\n",
    "        features_torch = discriminator.extract_features(batch.cuda()) \n",
    "        features_targets_torch = targets\n",
    "        val_labels = np.concatenate((val_labels, features_targets_torch.cpu().numpy()))\n",
    "        val_features.append(features_torch.cpu().numpy())\n",
    "        torch.cuda.empty_cache()\n",
    "\n",
    "val_features = np.concatenate(val_features)"
   ]
  },
  {
   "cell_type": "code",
   "execution_count": 10,
   "id": "c6646864-2685-4e7a-9a4c-61f7b928daf8",
   "metadata": {},
   "outputs": [],
   "source": [
    "torch.save(torch.tensor(val_features),'image_val_features.pt')"
   ]
  },
  {
   "cell_type": "code",
   "execution_count": 11,
   "id": "4ff43037-6424-4185-b8ae-4ddd447ca403",
   "metadata": {},
   "outputs": [],
   "source": [
    "torch.save(torch.tensor(train_labels),'image_train_labels.pt')\n",
    "torch.save(torch.tensor(val_labels),'image_val_labels.pt')"
   ]
  },
  {
   "cell_type": "markdown",
   "id": "492aa5cc-3d16-4e82-a862-550d199f8a94",
   "metadata": {},
   "source": [
    "## Train Random Forest on training set features"
   ]
  },
  {
   "cell_type": "code",
   "execution_count": 8,
   "id": "9d251111-5b29-4eb6-8e36-40468d82f23a",
   "metadata": {
    "scrolled": true
   },
   "outputs": [],
   "source": [
    "from sklearn.multioutput import MultiOutputClassifier\n",
    "from sklearn.svm import LinearSVC,SVC\n",
    "from sklearn.ensemble import RandomForestClassifier\n",
    "from sklearn.ensemble import BaggingClassifier \n",
    "#svm = LinearSVC(random_state=42)\n",
    "\n",
    "# Make it an Multilabel classifier\n",
    "#multilabel_classifier = MultiOutputClassifier(svm, n_jobs=-1)\n",
    "\n",
    "# Fit the data to the Multilabel classifier\n",
    "#svm = svm.fit(train_features, train_labels)\n",
    "\n",
    "# Get predictions for test data\n",
    "#y_test_pred = svm.predict(train_features)\n",
    "clf = RandomForestClassifier(min_samples_leaf=2,n_jobs=-1)\n",
    "clf = clf.fit(train_features, train_labels)\n",
    "#n_estimators = 1\n",
    "#clf = (BaggingClassifier(RandomForestClassifier(min_samples_leaf=50), max_samples=1.0 / n_estimators, n_estimators=n_estimators,n_jobs=10))\n",
    "#clf = clf.fit(train_features,train_labels)"
   ]
  },
  {
   "cell_type": "code",
   "execution_count": 9,
   "id": "a2bd1db3-fb83-4bdc-87d8-14168129cc2b",
   "metadata": {
    "scrolled": true
   },
   "outputs": [
    {
     "name": "stdout",
     "output_type": "stream",
     "text": [
      "Training species accuracy:0.9998466140041414\n"
     ]
    },
    {
     "data": {
      "text/plain": [
       "array([   0,    1,    2,    3,    4,    5,    6,    7,    9,   12,   13,\n",
       "         15,   16,   18,   19,   21,   22,   23,   26,   29,   30,   32,\n",
       "         33,   37,   39,   40,   42,   43,   45,   46,   47,   49,   50,\n",
       "         51,   52,   53,   54,   56,   57,   60,   63,   64,   69,   70,\n",
       "         73,   74,   75,   76,   77,   78,   79,   80,   82,   83,   84,\n",
       "         85,   86,   88,   91,   95,   96,   97,   98,  100,  101,  102,\n",
       "        103,  106,  108,  110,  111,  113,  116,  117,  118,  119,  120,\n",
       "        121,  122,  123,  124,  126,  127,  131,  132,  134,  135,  136,\n",
       "        138,  139,  140,  141,  142,  143,  145,  147,  148,  149,  151,\n",
       "        153,  154,  156,  158,  159,  160,  163,  164,  165,  167,  168,\n",
       "        170,  171,  172,  173,  174,  177,  178,  180,  181,  182,  184,\n",
       "        185,  191,  194,  195,  196,  199,  202,  203,  204,  205,  206,\n",
       "        207,  208,  209,  210,  211,  212,  213,  214,  215,  216,  217,\n",
       "        219,  220,  221,  222,  223,  224,  225,  227,  228,  231,  234,\n",
       "        236,  238,  240,  241,  243,  245,  246,  249,  250,  251,  252,\n",
       "        254,  256,  257,  258,  259,  260,  261,  263,  264,  265,  266,\n",
       "        267,  268,  270,  271,  274,  276,  278,  279,  281,  283,  285,\n",
       "        287,  291,  292,  293,  295,  296,  298,  299,  300,  301,  302,\n",
       "        303,  304,  305,  306,  307,  308,  311,  313,  315,  317,  318,\n",
       "        319,  320,  321,  322,  323,  324,  325,  326,  328,  329,  330,\n",
       "        334,  337,  338,  340,  342,  345,  346,  347,  348,  349,  353,\n",
       "        354,  358,  359,  360,  361,  362,  364,  365,  366,  367,  369,\n",
       "        370,  371,  372,  373,  375,  376,  377,  378,  380,  381,  382,\n",
       "        383,  384,  385,  387,  390,  391,  392,  393,  394,  397,  400,\n",
       "        401,  403,  404,  406,  407,  409,  411,  412,  413,  414,  417,\n",
       "        418,  419,  421,  423,  425,  426,  427,  429,  431,  432,  433,\n",
       "        434,  436,  437,  439,  440,  441,  442,  443,  444,  446,  449,\n",
       "        451,  453,  455,  457,  458,  459,  461,  466,  468,  469,  471,\n",
       "        472,  475,  476,  478,  479,  482,  483,  484,  485,  489,  490,\n",
       "        493,  495,  496,  497,  498,  499,  500,  502,  503,  505,  508,\n",
       "        511,  512,  513,  514,  515,  516,  518,  519,  520,  522,  523,\n",
       "        525,  526,  527,  528,  530,  533,  535,  537,  538,  539,  540,\n",
       "        541,  542,  543,  547,  549,  550,  552,  558,  559,  560,  561,\n",
       "        562,  563,  564,  566,  569,  574,  575,  576,  577,  578,  579,\n",
       "        580,  581,  584,  585,  587,  588,  589,  590,  591,  592,  593,\n",
       "        594,  595,  596,  597,  598,  604,  605,  607,  608,  609,  610,\n",
       "        611,  613,  614,  616,  617,  618,  619,  621,  622,  623,  624,\n",
       "        625,  627,  628,  632,  635,  636,  637,  638,  640,  641,  643,\n",
       "        645,  646,  648,  650,  651,  652,  653,  654,  655,  656,  657,\n",
       "        658,  659,  660,  661,  663,  666,  668,  670,  672,  674,  675,\n",
       "        676,  677,  680,  681,  682,  683,  684,  685,  686,  690,  691,\n",
       "        692,  693,  695,  696,  697,  698,  699,  700,  701,  702,  705,\n",
       "        706,  708,  709,  710,  711,  712,  713,  714,  715,  716,  717,\n",
       "        718,  719,  721,  723,  724,  725,  726,  729,  730,  731,  732,\n",
       "        734,  736,  737,  741,  742,  743,  745,  746,  748,  751,  752,\n",
       "        753,  754,  755,  758,  759,  760,  762,  764,  765,  766,  767,\n",
       "        768,  770,  772,  773,  774,  775,  777,  778,  779,  780,  783,\n",
       "        784,  785,  786,  787,  789,  791,  792,  793,  795,  797,  798,\n",
       "        799,  800,  801,  802,  805,  806,  807,  808,  809,  810,  811,\n",
       "        813,  814,  816,  818,  819,  821,  823,  824,  825,  826,  827,\n",
       "        828,  831,  834,  835,  836,  838,  839,  840,  843,  844,  847,\n",
       "        848,  849,  850,  852,  853,  854,  856,  857,  859,  860,  861,\n",
       "        862,  863,  864,  867,  869,  870,  871,  872,  873,  874,  875,\n",
       "        876,  877,  878,  881,  882,  885,  886,  888,  889,  891,  892,\n",
       "        893,  894,  895,  896,  897,  900,  901,  902,  904,  905,  906,\n",
       "        907,  908,  909,  910,  911,  912,  913,  914,  916,  917,  918,\n",
       "        919,  920,  921,  923,  925,  926,  927,  928,  929,  931,  932,\n",
       "        935,  937,  938,  939,  940,  942,  943,  944,  946,  948,  950,\n",
       "        951,  952,  954,  955,  957,  958,  959,  960,  961,  962,  963,\n",
       "        964,  965,  966,  967,  968,  970,  971,  972,  973,  975,  976,\n",
       "        977,  980,  983,  985,  986,  989,  991,  992,  995,  998,  999,\n",
       "       1000, 1003, 1004, 1006, 1007, 1008, 1012, 1013, 1016, 1017, 1018,\n",
       "       1019, 1020, 1021, 1022, 1025, 1027, 1028, 1030, 1031, 1032, 1033,\n",
       "       1034, 1038, 1039, 1040, 1041, 1042, 1045, 1047, 1048, 1049])"
      ]
     },
     "execution_count": 9,
     "metadata": {},
     "output_type": "execute_result"
    }
   ],
   "source": [
    "train_predicted_labels = clf.predict(train_features)\n",
    "print(f\"Training species accuracy:{np.count_nonzero(train_predicted_labels==train_labels)/len(train_labels)}\")\n",
    "\n",
    "\n",
    "np.unique(train_predicted_labels.astype(int))"
   ]
  },
  {
   "cell_type": "code",
   "execution_count": 45,
   "id": "67229acb-f4ff-4d31-bdef-5959645fe659",
   "metadata": {},
   "outputs": [
    {
     "name": "stdout",
     "output_type": "stream",
     "text": [
      "Validation species accuracy:0.002156721782890007\n"
     ]
    }
   ],
   "source": []
  },
  {
   "cell_type": "code",
   "execution_count": 42,
   "id": "61b87bef-8c23-42e8-a5bd-fd183e6c2869",
   "metadata": {},
   "outputs": [
    {
     "data": {
      "text/plain": [
       "(13039,)"
      ]
     },
     "execution_count": 42,
     "metadata": {},
     "output_type": "execute_result"
    }
   ],
   "source": [
    "train_labels.shape"
   ]
  },
  {
   "cell_type": "markdown",
   "id": "1b2f0beb-27a2-4ab1-952f-943d74518fa5",
   "metadata": {},
   "source": [
    "## Extract features from validation set"
   ]
  },
  {
   "cell_type": "code",
   "execution_count": 10,
   "id": "f580bfdc-2272-45ab-af5e-d70c66ad96ed",
   "metadata": {},
   "outputs": [],
   "source": []
  },
  {
   "cell_type": "code",
   "execution_count": 11,
   "id": "821b0267-a561-40ad-a324-74e676f3c534",
   "metadata": {},
   "outputs": [],
   "source": [
    "        "
   ]
  },
  {
   "cell_type": "code",
   "execution_count": 12,
   "id": "479095da-2afe-4f5f-aced-c3091cb50c07",
   "metadata": {},
   "outputs": [
    {
     "name": "stdout",
     "output_type": "stream",
     "text": [
      "Validation species accuracy:0.20891445003594536\n"
     ]
    }
   ],
   "source": [
    "val_predicted_labels= clf.predict(val_features)\n",
    "print(f\"Validation species accuracy:{np.count_nonzero(val_predicted_labels==val_labels)/len(val_labels)}\")\n"
   ]
  },
  {
   "cell_type": "code",
   "execution_count": 13,
   "id": "620d60d1-e5a6-4189-a4c8-168420b5b6e9",
   "metadata": {},
   "outputs": [],
   "source": [
    "temp_val_predicted_probs = clf.predict_proba(val_features)\n",
    "val_predicted_probs = np.zeros((len(temp_val_predicted_probs),n_classes))\n",
    "for i, cls in enumerate(np.arange(n_classes)):\n",
    "    if cls in clf.classes_:\n",
    "        val_predicted_probs[:, cls] = temp_val_predicted_probs[:, list(clf.classes_).index(cls)]"
   ]
  },
  {
   "cell_type": "code",
   "execution_count": 14,
   "id": "0b9caa92-b16f-4ef1-9356-107aa0b242bd",
   "metadata": {
    "scrolled": true
   },
   "outputs": [
    {
     "name": "stdout",
     "output_type": "stream",
     "text": [
      "Before adding zeroes to classes not in training set:  (6955, 703)\n",
      "After adding zeroes:  (6955, 1050)\n"
     ]
    }
   ],
   "source": [
    "print(\"Before adding zeroes to classes not in training set: \",temp_val_predicted_probs.shape)\n",
    "print(\"After adding zeroes: \",val_predicted_probs.shape)"
   ]
  },
  {
   "cell_type": "markdown",
   "id": "dcfac6d2-3f70-4b95-bace-56119972adcc",
   "metadata": {},
   "source": [
    "## Computing genus accuracy"
   ]
  },
  {
   "cell_type": "code",
   "execution_count": 15,
   "id": "04cf5073-b9c8-403c-ab0a-7516f8c06985",
   "metadata": {},
   "outputs": [
    {
     "name": "stdout",
     "output_type": "stream",
     "text": [
      "Validation genus accuracy: 0.5130122214234364\n"
     ]
    }
   ],
   "source": [
    "#i = 100\n",
    "import math\n",
    "n_correct_genus = 0\n",
    "for i in range(len(val_labels)):\n",
    "    #label_best_specie = val_predicted_probs[i].argmax()\n",
    "    label_best_specie = val_predicted_labels[i]\n",
    "    assert(val_predicted_labels[i]==val_predicted_probs[i].argmax())\n",
    "    genus_of_best_species = species2genus[label_best_specie.item()]\n",
    "    #species_same_genus = [k for k,v in species2genus.items() if v == genus_of_best_species]\n",
    "    #reduced_species = val_predicted_probs[i][species_same_genus]\n",
    "    #normalized_reduced_species = reduced_species/(reduced_species.sum())\n",
    "    \n",
    "    real_genus = species2genus[val_labels[i]]\n",
    "    predicted_genus = genus_of_best_species\n",
    "    if real_genus == predicted_genus:\n",
    "        n_correct_genus+=1\n",
    "print(f\"Validation genus accuracy: {n_correct_genus/len(val_labels)}\")\n",
    "\n"
   ]
  },
  {
   "cell_type": "code",
   "execution_count": 16,
   "id": "6bce4f8b-fc20-4cca-a13f-8146d9a6a81a",
   "metadata": {},
   "outputs": [
    {
     "name": "stdout",
     "output_type": "stream",
     "text": [
      "Training genus accuracy: 1.0\n"
     ]
    }
   ],
   "source": [
    "n_correct_genus = 0\n",
    "for i in range(len(train_labels)):\n",
    "    #label_best_specie = val_predicted_probs[i].argmax()\n",
    "    label_best_specie = train_predicted_labels[i]\n",
    "    genus_of_best_species = species2genus[label_best_specie.item()]\n",
    "    #species_same_genus = [k for k,v in species2genus.items() if v == genus_of_best_species]\n",
    "    #reduced_species = val_predicted_probs[i][species_same_genus]\n",
    "    #normalized_reduced_species = reduced_species/(reduced_species.sum())\n",
    "    \n",
    "    real_genus = species2genus[train_labels[i]]\n",
    "    predicted_genus = genus_of_best_species\n",
    "    if real_genus == predicted_genus:\n",
    "        n_correct_genus+=1\n",
    "print(f\"Training genus accuracy: {n_correct_genus/len(train_labels)}\")"
   ]
  },
  {
   "cell_type": "markdown",
   "id": "5198040a-0470-43c6-8b59-031e370d637f",
   "metadata": {},
   "source": [
    "## Compute wether we output genus or species based on average entropy per symbol $H_S$ of the species belonging to genus of the species with the highest likelihood "
   ]
  },
  {
   "cell_type": "code",
   "execution_count": 17,
   "id": "94f131af-064a-4aff-aa91-96a8dd06c0b9",
   "metadata": {},
   "outputs": [],
   "source": [
    "def entropy_per_symbol(v):\n",
    "    if len(v)==1:\n",
    "        return 0.0\n",
    "    entropy = 0 \n",
    "    n_zeros = 0\n",
    "    for p in v:\n",
    "        if p != 0:\n",
    "            entropy-=p*math.log(p,2)\n",
    "        else:\n",
    "            n_zeros +=1\n",
    "    #print(f\"n_zeros:{n_zeros}\")\n",
    "    #FORSE VA TOLTO N_ZEROS DALLA LENGTH\n",
    "    mean_symbol_entropy = entropy/math.log(len(normalized_reduced_species),2)\n",
    "    return mean_symbol_entropy"
   ]
  },
  {
   "cell_type": "markdown",
   "id": "24eff834-1ce3-46e1-9395-e1aa35d4837d",
   "metadata": {},
   "source": [
    "# Compute best validation threshold for entropy"
   ]
  },
  {
   "cell_type": "code",
   "execution_count": 18,
   "id": "f259fd04-2038-450f-8003-88f11d6b6092",
   "metadata": {
    "scrolled": true
   },
   "outputs": [],
   "source": [
    "tprs = []\n",
    "fprs = []\n",
    "for t in range(0,10,1):\n",
    "    entropy_threshold = t/10.0\n",
    "    #print(val_predicted_probs.shape)\n",
    "    n_undescribed_samples = 0\n",
    "    n_described_samples = 0\n",
    "    n_correct_undescribed_samples = 0\n",
    "    n_correct_described_samples = 0\n",
    "    for i in range(len(val_labels)):\n",
    "        #label_best_specie = val_predicted_probs[i].argmax()\n",
    "        label_best_specie = val_predicted_labels[i]\n",
    "        assert(val_predicted_labels[i]==val_predicted_probs[i].argmax())\n",
    "        genus_of_best_species = species2genus[label_best_specie.item()]\n",
    "        species_same_genus = [k for k,v in species2genus.items() if v == genus_of_best_species]\n",
    "        #print(val_labels[i])\n",
    "        #print(label_best_specie)\n",
    "        #print(species_same_genus)\n",
    "        reduced_species = val_predicted_probs[i][species_same_genus]\n",
    "        normalized_reduced_species = reduced_species/(reduced_species.sum())\n",
    "        #print(normalized_reduced_species)\n",
    "        H_s = entropy_per_symbol(normalized_reduced_species)\n",
    "        #print(H_s)\n",
    "        #print(\"Genus\" if H_s > entropy_threshold else \"Species\")\n",
    "        #input() \n",
    "        if val_labels[i] in described_species_labels:\n",
    "            #tn\n",
    "            n_described_samples +=1\n",
    "            if H_s < entropy_threshold:\n",
    "                n_correct_described_samples+=1\n",
    "        else:\n",
    "            #tp\n",
    "            n_undescribed_samples+=1\n",
    "            if H_s >= entropy_threshold:\n",
    "                n_correct_undescribed_samples+=1\n",
    "            \n",
    "        \n",
    "            \n",
    "    tprs.append(n_correct_undescribed_samples/n_undescribed_samples)#TPR = recall = sensitivity\n",
    "    fprs.append(1-n_correct_described_samples/n_described_samples)#1-TNR = 1 - specificity\n",
    "    "
   ]
  },
  {
   "cell_type": "code",
   "execution_count": 19,
   "id": "bb2758cb-c1cb-4a63-bde3-7d59727aadff",
   "metadata": {},
   "outputs": [
    {
     "data": {
      "text/plain": [
       "[<matplotlib.lines.Line2D at 0x771143dd4470>]"
      ]
     },
     "execution_count": 19,
     "metadata": {},
     "output_type": "execute_result"
    },
    {
     "data": {
      "image/png": "[encoded data removed]",
      "text/plain": [
       "<Figure size 640x480 with 1 Axes>"
      ]
     },
     "metadata": {},
     "output_type": "display_data"
    }
   ],
   "source": [
    "plt.plot(tprs)\n",
    "plt.plot(fprs)"
   ]
  },
  {
   "cell_type": "code",
   "execution_count": 20,
   "id": "c2789883-f160-4af1-9294-4b687f1cd92a",
   "metadata": {},
   "outputs": [
    {
     "data": {
      "text/plain": [
       "(0.0, 1.0)"
      ]
     },
     "execution_count": 20,
     "metadata": {},
     "output_type": "execute_result"
    },
    {
     "data": {
      "image/png": "[encoded data removed]",
      "text/plain": [
       "<Figure size 640x480 with 1 Axes>"
      ]
     },
     "metadata": {},
     "output_type": "display_data"
    }
   ],
   "source": [
    "plt.plot(fprs,tprs)\n",
    "plt.xlim([0, 1])\n",
    "plt.ylim([0, 1])"
   ]
  },
  {
   "cell_type": "code",
   "execution_count": 105,
   "id": "8d5bcabd-1fee-4e0f-8266-3998bcb7878e",
   "metadata": {},
   "outputs": [
    {
     "data": {
      "text/plain": [
       "(0.0, 1.0)"
      ]
     },
     "execution_count": 105,
     "metadata": {},
     "output_type": "execute_result"
    },
    {
     "data": {
      "image/png": "[encoded data removed]",
      "text/plain": [
       "<Figure size 640x480 with 1 Axes>"
      ]
     },
     "metadata": {},
     "output_type": "display_data"
    }
   ],
   "source": []
  },
  {
   "cell_type": "code",
   "execution_count": null,
   "id": "ca0ccbaa-dba4-4963-8dbe-e127e237c39d",
   "metadata": {},
   "outputs": [],
   "source": [
    "real_genus = species2genus[val_labels[i]]\n",
    "        predicted_genus = genus_of_best_species\n",
    "        if val_labels[i] not in described_species_labels:#TPR\n",
    "            n_undescribed_samples+=1\n",
    "            if real_genus == predicted_genus and H_s > entropy_threshold:\n",
    "                n_correct_genus+=1\n",
    "        else:#FPR\n",
    "            n_described_samples+=1\n",
    "            if H_s > entropy_threshold:\n",
    "                n_correct_genus+=1"
   ]
  }
 ],
 "metadata": {
  "kernelspec": {
   "display_name": "Python 3 (ipykernel)",
   "language": "python",
   "name": "python3"
  },
  "language_info": {
   "codemirror_mode": {
    "name": "ipython",
    "version": 3
   },
   "file_extension": ".py",
   "mimetype": "text/x-python",
   "name": "python",
   "nbconvert_exporter": "python",
   "pygments_lexer": "ipython3",
   "version": "3.12.3"
  }
 },
 "nbformat": 4,
 "nbformat_minor": 5
}
