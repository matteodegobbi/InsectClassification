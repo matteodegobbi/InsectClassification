{
 "cells": [
  {
   "cell_type": "code",
   "execution_count": 79,
   "id": "2d03e43d-2cd7-4017-a6bf-304aa84ecea3",
   "metadata": {},
   "outputs": [],
   "source": [
    "import torch\n",
    "import torchvision\n",
    "import matplotlib.pyplot as plt\n",
    "import pandas as pd\n",
    "im = torchvision.datasets.ImageFolder(\"image_dataset/\")"
   ]
  },
  {
   "cell_type": "code",
   "execution_count": 80,
   "id": "a33e3a57-6636-4f5c-a2b5-6dc80574645c",
   "metadata": {},
   "outputs": [],
   "source": [
    "df = pd.read_csv('final_dataset.csv',index_col=0)"
   ]
  },
  {
   "cell_type": "code",
   "execution_count": 81,
   "id": "2e07d447-96e9-4674-87e6-8ce3b27c864e",
   "metadata": {},
   "outputs": [],
   "source": [
    "lista = []\n",
    "for i in range(len(im.imgs)):\n",
    "    try:\n",
    "        #sample_idx = torch.randint(len(im), size=(1,)).item()\n",
    "        img, label = im[i]\n",
    "        #figure.add_subplot(rows, cols, i)\n",
    "        species_name = (list(im.class_to_idx.keys())[label]).replace('_',' ')\n",
    "        #plt.title(species_name)\n",
    "        #plt.axis(\"off\")\n",
    "        #plt.imshow(img, cmap=\"gray\")\n",
    "    #plt.show()\n",
    "    except:\n",
    "        lista.append(im.imgs[i])\n"
   ]
  },
  {
   "cell_type": "code",
   "execution_count": 82,
   "id": "d6dd0277-854d-419d-939f-bbb9bc3a2f9f",
   "metadata": {},
   "outputs": [
    {
     "data": {
      "text/plain": [
       "0"
      ]
     },
     "execution_count": 82,
     "metadata": {},
     "output_type": "execute_result"
    }
   ],
   "source": [
    "len(lista)"
   ]
  },
  {
   "cell_type": "code",
   "execution_count": null,
   "id": "fc719eb6-3774-4e1e-89b4-849ca6ab8030",
   "metadata": {},
   "outputs": [],
   "source": []
  }
 ],
 "metadata": {
  "kernelspec": {
   "display_name": "Python 3 (ipykernel)",
   "language": "python",
   "name": "python3"
  },
  "language_info": {
   "codemirror_mode": {
    "name": "ipython",
    "version": 3
   },
   "file_extension": ".py",
   "mimetype": "text/x-python",
   "name": "python",
   "nbconvert_exporter": "python",
   "pygments_lexer": "ipython3",
   "version": "3.12.2"
  }
 },
 "nbformat": 4,
 "nbformat_minor": 5
}
