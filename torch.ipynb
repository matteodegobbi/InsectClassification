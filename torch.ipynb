{
 "cells": [
  {
   "cell_type": "code",
   "execution_count": 5,
   "id": "4f9c83d1-b13c-45bf-842f-224524897f8f",
   "metadata": {},
   "outputs": [],
   "source": [
    "import torch\n",
    "torch.cuda.is_available()\n",
    "gpu = torch.device('cuda')"
   ]
  },
  {
   "cell_type": "code",
   "execution_count": 12,
   "id": "3afda985-e3fb-4e23-8868-0e0bdb2b812d",
   "metadata": {},
   "outputs": [],
   "source": [
    "TRAIN_DATA_PATH = 'data/INSECTS_Images_2021'\n",
    "train_loader = torch.utils.data.DataLoader(dataset=TRAIN_DATA_PATH,\n",
    "                                           batch_size=2,\n",
    "                                           shuffle=True)"
   ]
  },
  {
   "cell_type": "code",
   "execution_count": 20,
   "id": "0c725431-85b5-4069-80b7-2aec5b832788",
   "metadata": {},
   "outputs": [
    {
     "name": "stdout",
     "output_type": "stream",
     "text": [
      "_\n",
      "S\n",
      "I\n",
      "2\n",
      "t\n",
      "T\n",
      "a\n",
      "I\n",
      "m\n",
      "g\n",
      "1\n",
      "C\n"
     ]
    }
   ],
   "source": [
    "for (image,label) in train_loader:\n",
    "    print(image)"
   ]
  }
 ],
 "metadata": {
  "kernelspec": {
   "display_name": "Python 3 (ipykernel)",
   "language": "python",
   "name": "python3"
  },
  "language_info": {
   "codemirror_mode": {
    "name": "ipython",
    "version": 3
   },
   "file_extension": ".py",
   "mimetype": "text/x-python",
   "name": "python",
   "nbconvert_exporter": "python",
   "pygments_lexer": "ipython3",
   "version": "3.12.2"
  }
 },
 "nbformat": 4,
 "nbformat_minor": 5
}
