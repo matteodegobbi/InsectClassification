{
 "cells": [
  {
   "cell_type": "code",
   "execution_count": 27,
   "metadata": {},
   "outputs": [
    {
     "data": {
      "text/plain": [
       "<module 'dataset_utils' from '/home/fogliodicarta/Desktop/InsectClassification/dataset_utils.py'>"
      ]
     },
     "execution_count": 27,
     "metadata": {},
     "output_type": "execute_result"
    }
   ],
   "source": [
    "import torch\n",
    "import torchvision\n",
    "from torch import nn\n",
    "from torchvision import transforms\n",
    "import matplotlib.pyplot as plt\n",
    "import pandas as pd\n",
    "from IPython.display import Image \n",
    "import numpy as np\n",
    "import dataset_utils\n",
    "import importlib\n",
    "from sklearn.multioutput import MultiOutputClassifier\n",
    "from sklearn.svm import LinearSVC,SVC\n",
    "from sklearn.ensemble import RandomForestClassifier\n",
    "from sklearn.ensemble import BaggingClassifier \n",
    "from sklearn.preprocessing import StandardScaler\n",
    "\n",
    "importlib.reload(dataset_utils)"
   ]
  },
  {
   "cell_type": "markdown",
   "metadata": {},
   "source": [
    "# Dati nostri"
   ]
  },
  {
   "cell_type": "code",
   "execution_count": 28,
   "metadata": {},
   "outputs": [],
   "source": [
    "df = pd.read_csv('final_dataset.csv',index_col=0)\n",
    "tform = transforms.Compose([transforms.Resize((64,64)),transforms.PILToTensor(),transforms.ConvertImageDtype(torch.float),transforms.Normalize(0.5,0.5)])\n",
    "image_dataset = torchvision.datasets.ImageFolder(\"image_dataset/\",transform=tform)\n",
    "species2genus = dataset_utils.species_label_to_genus_label(df,image_dataset)\n",
    "batch_size = 1000 \n",
    "import random\n",
    "import dataset_utils\n",
    "img2dna = dataset_utils.get_imgs_bold_id(image_dataset,df)\n",
    "\n",
    "nucleotides = df[['nucleotide','species_name','genus_name','processid','image_urls']]\n",
    "colonna_dna = df.loc[:,\"nucleotide\"]\n",
    "nucleotides.loc[:,'nucleotide'] = colonna_dna.apply(dataset_utils.one_hot_encoding)\n",
    "random.seed(42)\n",
    "\n",
    "X_train_1, X_test, y_train_1, y_test = dataset_utils.data_split(nucleotides,0.2,random_state=42)\n",
    "#print(y_test)\n",
    "train_data = X_train_1\n",
    "train_data['species_name'] = y_train_1\n",
    "\n",
    "X_train, X_validation, y_train, y_validation = dataset_utils.data_split(train_data,0.2,drop_labels=False,random_state=42)\n",
    "train_indices, val_indices, test_indices = dataset_utils.image_splits_from_df(X_train,X_validation,X_test,image_dataset)\n",
    "\n",
    "described_species_labels = np.array([image_dataset.targets[i] for i in train_indices])\n",
    "described_species_labels = np.unique(described_species_labels)"
   ]
  },
  {
   "cell_type": "code",
   "execution_count": 29,
   "metadata": {},
   "outputs": [],
   "source": [
    "expanded_train_dna_features = torch.load('dna_train_features.pt')\n",
    "expanded_train_dna_labels = torch.load('dna_train_labels.pt')\n",
    "image_train_features = torch.load('img_train_features.pt')\n",
    "image_train_labels= torch.load('img_train_labels.pt')\n",
    "assert((image_train_labels == expanded_train_dna_labels).all())"
   ]
  },
  {
   "cell_type": "code",
   "execution_count": 30,
   "metadata": {},
   "outputs": [],
   "source": [
    "expanded_val_dna_features = torch.load('dna_val_features.pt')\n",
    "expanded_val_dna_labels = torch.load('dna_val_labels.pt')\n",
    "image_val_features = torch.load('img_val_features.pt')\n",
    "image_val_labels = torch.load('img_val_labels.pt')\n",
    "assert((image_val_labels == expanded_val_dna_labels).all())"
   ]
  },
  {
   "cell_type": "code",
   "execution_count": 31,
   "metadata": {},
   "outputs": [],
   "source": [
    "expanded_test_dna_features = torch.load('dna_test_features.pt')\n",
    "expanded_test_dna_labels = torch.load('dna_test_labels.pt')\n",
    "image_test_features = torch.load('img_test_features.pt')\n",
    "image_test_labels = torch.load('img_test_labels.pt')\n",
    "assert((image_test_labels == expanded_test_dna_labels).all())\n",
    "n_classes = 1050"
   ]
  },
  {
   "cell_type": "code",
   "execution_count": 124,
   "metadata": {},
   "outputs": [
    {
     "data": {
      "text/plain": [
       "'class InsectNet(torch.nn.Module):\\n    def __init__(self):\\n        super(InsectNet, self).__init__()\\n        self.dout0 = nn.Dropout()\\n        self.linear1 = nn.Linear(5298,5000)\\n        self.act1 = nn.LeakyReLU()\\n        self.dout1 = nn.Dropout()\\n\\n        self.linearG = nn.Linear(5000,372)\\n        self.linearS = nn.Linear(5000,n_classes)\\n    def forward(self, x):\\n        x = self.dout0(x)\\n        x = self.linear1(x)\\n        x = self.act1(x)\\n        x = self.dout1(x)\\n        x_species = self.linearS(x)\\n        x_genus = self.linearG(x)\\n\\n        x_species = nn.functional.softmax(x_species)\\n        x_genus = nn.functional.softmax(x_genus)\\n        return x_species,x_genus\\n\\n#species2genus = np.array(species2genus)'"
      ]
     },
     "execution_count": 124,
     "metadata": {},
     "output_type": "execute_result"
    }
   ],
   "source": [
    "'''class InsectNet(torch.nn.Module):\n",
    "    def __init__(self):\n",
    "        super(InsectNet, self).__init__()\n",
    "        #self.drop1 = nn.Dropout(p=0.7)\n",
    "        self.linear1 = nn.Linear(3250,3000)\n",
    "        self.act1 = nn.LeakyReLU()\n",
    "        self.linear2 = nn.Linear(3000,2000)\n",
    "        self.act2 = nn.LeakyReLU()\n",
    "        self.linearHeadGenus = nn.Linear(2000,372)\n",
    "        self.linearHeadSpecies = nn.Linear(2000,n_classes)\n",
    "    def forward(self, x):\n",
    "        #x = self.drop1(x)\n",
    "        x = self.linear1(x)\n",
    "        x = self.act1(x)\n",
    "        x = self.linear2(x)\n",
    "        x = self.act2(x)\n",
    "        x_species = self.linearHeadSpecies(x)\n",
    "        x_genus = self.linearHeadGenus(x)\n",
    "        x_species = torch.nn.functional.softmax(x_species)\n",
    "        x_genus = torch.nn.functional.softmax(x_genus)\n",
    "        return x_species,x_genus\n",
    "'''\n",
    "class InsectNet(torch.nn.Module):\n",
    "    def __init__(self):\n",
    "        super(InsectNet, self).__init__()\n",
    "        self.dout = nn.Dropout(p=0.8)\n",
    "        self.linear1 = nn.Linear(5298,372)\n",
    "        self.act1 = nn.LeakyReLU()\n",
    "        self.linear2 = nn.Linear(372,n_classes)\n",
    "        self.act2 = nn.Softmax()\n",
    "    def forward(self, x):\n",
    "        x = self.dout(x)\n",
    "        x = self.linear1(x)\n",
    "        x_genus = torch.nn.functional.softmax(x)\n",
    "        x = self.act1(x)\n",
    "        x = self.linear2(x)\n",
    "        x = self.act2(x)\n",
    "        return x,x_genus\n",
    "\n",
    "'''class InsectNet(torch.nn.Module):\n",
    "    def __init__(self):\n",
    "        super(InsectNet, self).__init__()\n",
    "        self.dout0 = nn.Dropout()\n",
    "        self.linear1 = nn.Linear(5298,5000)\n",
    "        self.act1 = nn.LeakyReLU()\n",
    "        self.dout1 = nn.Dropout()\n",
    "\n",
    "        self.linearG = nn.Linear(5000,372)\n",
    "        self.linearS = nn.Linear(5000,n_classes)\n",
    "    def forward(self, x):\n",
    "        x = self.dout0(x)\n",
    "        x = self.linear1(x)\n",
    "        x = self.act1(x)\n",
    "        x = self.dout1(x)\n",
    "        x_species = self.linearS(x)\n",
    "        x_genus = self.linearG(x)\n",
    "\n",
    "        x_species = nn.functional.softmax(x_species)\n",
    "        x_genus = nn.functional.softmax(x_genus)\n",
    "        return x_species,x_genus\n",
    "\n",
    "#species2genus = np.array(species2genus)'''"
   ]
  },
  {
   "cell_type": "code",
   "execution_count": 125,
   "metadata": {},
   "outputs": [
    {
     "ename": "AttributeError",
     "evalue": "'numpy.ndarray' object has no attribute 'keys'",
     "output_type": "error",
     "traceback": [
      "\u001b[0;31m---------------------------------------------------------------------------\u001b[0m",
      "\u001b[0;31mAttributeError\u001b[0m                            Traceback (most recent call last)",
      "Cell \u001b[0;32mIn[125], line 1\u001b[0m\n\u001b[0;32m----> 1\u001b[0m sorted_keys \u001b[38;5;241m=\u001b[39m \u001b[38;5;28msorted\u001b[39m(species2genus\u001b[38;5;241m.\u001b[39mkeys())\n\u001b[1;32m      2\u001b[0m species2genus \u001b[38;5;241m=\u001b[39m np\u001b[38;5;241m.\u001b[39marray([species2genus[key] \u001b[38;5;28;01mfor\u001b[39;00m key \u001b[38;5;129;01min\u001b[39;00m sorted_keys])\n\u001b[1;32m      3\u001b[0m \u001b[38;5;28mprint\u001b[39m(species2genus)\n",
      "\u001b[0;31mAttributeError\u001b[0m: 'numpy.ndarray' object has no attribute 'keys'"
     ]
    }
   ],
   "source": [
    "sorted_keys = sorted(species2genus.keys())\n",
    "species2genus = np.array([species2genus[key] for key in sorted_keys])\n",
    "print(species2genus)\n",
    "species2genus = species2genus[...,np.newaxis]\n",
    "species2genus.shape"
   ]
  },
  {
   "cell_type": "code",
   "execution_count": 126,
   "metadata": {},
   "outputs": [
    {
     "data": {
      "text/plain": [
       "array([[234],\n",
       "       [234],\n",
       "       [235],\n",
       "       ...,\n",
       "       [ 44],\n",
       "       [ 44],\n",
       "       [311]])"
      ]
     },
     "execution_count": 126,
     "metadata": {},
     "output_type": "execute_result"
    }
   ],
   "source": [
    "species2genus\n"
   ]
  },
  {
   "cell_type": "code",
   "execution_count": 127,
   "metadata": {},
   "outputs": [
    {
     "data": {
      "text/plain": [
       "torch.Size([13039, 2048])"
      ]
     },
     "execution_count": 127,
     "metadata": {},
     "output_type": "execute_result"
    }
   ],
   "source": [
    "image_train_features.shape"
   ]
  },
  {
   "cell_type": "code",
   "execution_count": 128,
   "metadata": {},
   "outputs": [
    {
     "data": {
      "text/plain": [
       "torch.Size([13039])"
      ]
     },
     "execution_count": 128,
     "metadata": {},
     "output_type": "execute_result"
    }
   ],
   "source": [
    "image_train_labels.shape"
   ]
  },
  {
   "cell_type": "code",
   "execution_count": 129,
   "metadata": {},
   "outputs": [
    {
     "data": {
      "text/plain": [
       "torch.Size([13039, 3250])"
      ]
     },
     "execution_count": 129,
     "metadata": {},
     "output_type": "execute_result"
    }
   ],
   "source": [
    "expanded_train_dna_features.shape"
   ]
  },
  {
   "cell_type": "code",
   "execution_count": 130,
   "metadata": {},
   "outputs": [
    {
     "data": {
      "text/plain": [
       "torch.Size([13039])"
      ]
     },
     "execution_count": 130,
     "metadata": {},
     "output_type": "execute_result"
    }
   ],
   "source": [
    "expanded_train_dna_labels.shape\n"
   ]
  },
  {
   "cell_type": "markdown",
   "metadata": {},
   "source": [
    "# CONTROLLARE STA ROBA DI TRAIN VAL PRIMA DELLO SCALER"
   ]
  },
  {
   "cell_type": "code",
   "execution_count": 131,
   "metadata": {},
   "outputs": [
    {
     "name": "stdout",
     "output_type": "stream",
     "text": [
      "ATTENZIONE A STA ROBA NON DIMENTICARE!!!!!!!!!!!!!!!!!!!!!!!!!!!!!!!\n"
     ]
    }
   ],
   "source": [
    "is_train_val = False \n",
    "print(\"ATTENZIONE A STA ROBA NON DIMENTICARE!!!!!!!!!!!!!!!!!!!!!!!!!!!!!!!\")\n",
    "complete_train_features = torch.cat((expanded_train_dna_features,image_train_features),dim=1)\n",
    "complete_val_features = torch.cat((expanded_val_dna_features,image_val_features),dim=1)\n",
    "complete_test_features = torch.cat((expanded_test_dna_features,image_test_features),dim=1)\n",
    "if is_train_val:\n",
    "    complete_train_features = torch.cat((complete_train_features,complete_val_features),dim=0)\n",
    "    complete_val_features = complete_test_features\n",
    "    image_train_labels = torch.cat((image_train_labels,image_val_labels),dim=0)\n",
    "    image_val_labels = image_test_labels\n",
    "\n",
    "scaler = StandardScaler()\n",
    "\n",
    "complete_train_features_scaled = scaler.fit_transform(complete_train_features)\n",
    "complete_val_features_scaled = scaler.transform(complete_val_features)"
   ]
  },
  {
   "cell_type": "code",
   "execution_count": 132,
   "metadata": {},
   "outputs": [
    {
     "data": {
      "text/plain": [
       "(13039, 5298)"
      ]
     },
     "execution_count": 132,
     "metadata": {},
     "output_type": "execute_result"
    }
   ],
   "source": [
    "complete_train_features_scaled.shape"
   ]
  },
  {
   "cell_type": "code",
   "execution_count": 133,
   "metadata": {},
   "outputs": [
    {
     "data": {
      "text/plain": [
       "(6955, 5298)"
      ]
     },
     "execution_count": 133,
     "metadata": {},
     "output_type": "execute_result"
    }
   ],
   "source": [
    "complete_val_features_scaled.shape"
   ]
  },
  {
   "cell_type": "code",
   "execution_count": 134,
   "metadata": {},
   "outputs": [],
   "source": [
    "from torch.utils.data import Dataset\n",
    "class FeatureDataset(Dataset):\n",
    "    def __init__(self, data, targets, transform=None):\n",
    "        self.data = data\n",
    "        self.targets = targets\n",
    "        \n",
    "    def __getitem__(self, index):\n",
    "        x = self.data[index]\n",
    "        y = self.targets[index].type(torch.LongTensor)\n",
    "        \n",
    "        #if self.transform:\n",
    "        #    x = Image.fromarray(self.data[index].astype(np.uint8).transpose(1,2,0))\n",
    "        #    x = self.transform(x)\n",
    "        \n",
    "        return x, y\n",
    "    \n",
    "    def __len__(self):\n",
    "        return len(self.data)\n",
    "complete_train_features_scaled = torch.tensor(complete_train_features_scaled,dtype=torch.float)\n",
    "complete_val_features_scaled = torch.tensor(complete_val_features_scaled,dtype=torch.float)\n",
    "\n",
    "d_train = FeatureDataset(complete_train_features_scaled,image_train_labels)\n",
    "d_val = FeatureDataset(complete_val_features_scaled,image_val_labels)"
   ]
  },
  {
   "cell_type": "code",
   "execution_count": 135,
   "metadata": {},
   "outputs": [
    {
     "data": {
      "text/plain": [
       "371"
      ]
     },
     "execution_count": 135,
     "metadata": {},
     "output_type": "execute_result"
    }
   ],
   "source": [
    "species2genus.min()\n",
    "species2genus.max()"
   ]
  },
  {
   "cell_type": "code",
   "execution_count": 136,
   "metadata": {},
   "outputs": [
    {
     "data": {
      "text/plain": [
       "(1050, 1)"
      ]
     },
     "execution_count": 136,
     "metadata": {},
     "output_type": "execute_result"
    }
   ],
   "source": [
    "species2genus.shape"
   ]
  },
  {
   "cell_type": "code",
   "execution_count": 137,
   "metadata": {},
   "outputs": [
    {
     "data": {
      "text/plain": [
       "(1040, 1, 1)"
      ]
     },
     "execution_count": 137,
     "metadata": {},
     "output_type": "execute_result"
    }
   ],
   "source": [
    "(1040, 1, 1)"
   ]
  },
  {
   "cell_type": "code",
   "execution_count": 138,
   "metadata": {},
   "outputs": [
    {
     "data": {
      "text/plain": [
       "torch.Size([13039, 5298])"
      ]
     },
     "execution_count": 138,
     "metadata": {},
     "output_type": "execute_result"
    }
   ],
   "source": [
    "complete_train_features_scaled.shape"
   ]
  },
  {
   "cell_type": "code",
   "execution_count": 139,
   "metadata": {},
   "outputs": [
    {
     "data": {
      "text/plain": [
       "torch.Size([5298])"
      ]
     },
     "execution_count": 139,
     "metadata": {},
     "output_type": "execute_result"
    }
   ],
   "source": [
    "d_train[0][0].shape"
   ]
  },
  {
   "cell_type": "markdown",
   "metadata": {},
   "source": [
    "## Classification"
   ]
  },
  {
   "cell_type": "code",
   "execution_count": null,
   "metadata": {},
   "outputs": [],
   "source": []
  },
  {
   "cell_type": "code",
   "execution_count": null,
   "metadata": {},
   "outputs": [],
   "source": []
  },
  {
   "cell_type": "markdown",
   "metadata": {},
   "source": [
    "# Fitting model"
   ]
  },
  {
   "cell_type": "code",
   "execution_count": 140,
   "metadata": {},
   "outputs": [],
   "source": [
    "from torch.utils.data import DataLoader\n",
    "batch_size = 1000\n",
    "train_loader = DataLoader(d_train,shuffle=True,batch_size = batch_size)\n",
    "val_loader = DataLoader(d_val,shuffle=True,batch_size = batch_size)\n",
    "dataloaders = {'train':train_loader,'val':val_loader}\n",
    "dataset_sizes = {'train':len(d_train.targets),'val':len(d_val.targets)}"
   ]
  },
  {
   "cell_type": "code",
   "execution_count": 141,
   "metadata": {},
   "outputs": [],
   "source": [
    "device = torch.device(\"cuda:0\" if torch.cuda.is_available() else \"cpu\")\n",
    "model = InsectNet().to(device)\n",
    "optimizer = torch.optim.Adam(model.parameters(),weight_decay=1e-5)\n",
    "scheduler = torch.optim.lr_scheduler.CosineAnnealingLR(optimizer,T_max=2*len(train_loader))"
   ]
  },
  {
   "cell_type": "code",
   "execution_count": null,
   "metadata": {},
   "outputs": [],
   "source": []
  },
  {
   "cell_type": "code",
   "execution_count": 142,
   "metadata": {},
   "outputs": [],
   "source": [
    "from tqdm.notebook import tqdm\n",
    "def fit(epochs,dataloaders,optimizer,model,start_idx=0):\n",
    "    criterion = torch.nn.NLLLoss()\n",
    "    if device == 'cuda:0':\n",
    "        torch.cuda.empty_cache()\n",
    "    \n",
    "    train_losses = []\n",
    "    train_scores = []\n",
    "    val_losses = []\n",
    "    val_scores = []\n",
    "    for epoch in range(epochs):\n",
    "        running_train_corrects = 0\n",
    "        for features,labels in tqdm(dataloaders['train']):\n",
    "            \n",
    "            model.train()\n",
    "            genus_labels = torch.tensor(species2genus[labels.int()]).squeeze().to(device)\n",
    "            features = features.to(device)\n",
    "            labels = labels.type(torch.LongTensor).to(device)\n",
    "            \n",
    "            optimizer.zero_grad()\n",
    "\n",
    "            #print(genus_labels.shape)\n",
    "            #print(labels.shape)\n",
    "            #break\n",
    "            predicted_labels,predicted_genus_labels = model(features)\n",
    "            train_loss = criterion(predicted_labels,labels)\n",
    "            train_genus_loss = criterion(predicted_genus_labels,genus_labels)\n",
    "            #print(train_genus_loss.shape)\n",
    "            #print(train_loss.shape)\n",
    "            \n",
    "            train_loss+=train_genus_loss\n",
    "            \n",
    "            train_loss.backward()\n",
    "            optimizer.step()\n",
    "            scheduler.step()\n",
    "            \n",
    "            _, preds = torch.max(predicted_labels, 1)\n",
    "            running_train_corrects += torch.sum(preds == labels.data)\n",
    "        train_losses.append(train_loss)\n",
    "        running_val_corrects = 0\n",
    "        for features,labels in tqdm(dataloaders['val']):\n",
    "            \n",
    "            model.eval()\n",
    "            with torch.no_grad():\n",
    "                features = features.to(device)\n",
    "                labels = labels.type(torch.LongTensor).to(device)\n",
    "                optimizer.zero_grad()\n",
    "                \n",
    "                predicted_labels,predicted_genus_labels = model(features)\n",
    "                val_loss = criterion(predicted_labels,labels)\n",
    "                \n",
    "                _, preds = torch.max(predicted_labels, 1)\n",
    "                running_val_corrects += torch.sum(preds == labels.data)\n",
    "        val_losses.append(val_loss)\n",
    "        epoch_train_acc = running_train_corrects.double() / dataset_sizes['train']\n",
    "        epoch_val_acc = running_val_corrects.double() / dataset_sizes['val']\n",
    "        print(\"Epoch [{}/{}], train_loss: {:.4f},  train_score: {:.4f},val_loss: {:.4f},  val_score: {:.4f}\".format(\n",
    "            epoch+1, epochs, train_loss, epoch_train_acc,val_loss,epoch_val_acc))\n",
    "    return train_losses"
   ]
  },
  {
   "cell_type": "code",
   "execution_count": 160,
   "metadata": {
    "scrolled": true
   },
   "outputs": [
    {
     "data": {
      "application/vnd.jupyter.widget-view+json": {
       "model_id": "3278512012024ed4bad086e14a32903a",
       "version_major": 2,
       "version_minor": 0
      },
      "text/plain": [
       "  0%|          | 0/14 [00:00<?, ?it/s]"
      ]
     },
     "metadata": {},
     "output_type": "display_data"
    },
    {
     "name": "stderr",
     "output_type": "stream",
     "text": [
      "/tmp/ipykernel_3949/509102700.py:34: UserWarning: Implicit dimension choice for softmax has been deprecated. Change the call to include dim=X as an argument.\n",
      "  x_genus = torch.nn.functional.softmax(x)\n"
     ]
    },
    {
     "data": {
      "application/vnd.jupyter.widget-view+json": {
       "model_id": "b8661fbbecc9417b9e1e149fa777e187",
       "version_major": 2,
       "version_minor": 0
      },
      "text/plain": [
       "  0%|          | 0/7 [00:00<?, ?it/s]"
      ]
     },
     "metadata": {},
     "output_type": "display_data"
    },
    {
     "name": "stdout",
     "output_type": "stream",
     "text": [
      "Epoch [1/100], train_loss: -1.9992,  train_score: 0.9626,val_loss: -0.4379,  val_score: 0.4393\n"
     ]
    },
    {
     "data": {
      "application/vnd.jupyter.widget-view+json": {
       "model_id": "3d556fdba3b84661bda43ebed258438f",
       "version_major": 2,
       "version_minor": 0
      },
      "text/plain": [
       "  0%|          | 0/14 [00:00<?, ?it/s]"
      ]
     },
     "metadata": {},
     "output_type": "display_data"
    },
    {
     "data": {
      "application/vnd.jupyter.widget-view+json": {
       "model_id": "ea0d9608612a40178be4b0af7339e979",
       "version_major": 2,
       "version_minor": 0
      },
      "text/plain": [
       "  0%|          | 0/7 [00:00<?, ?it/s]"
      ]
     },
     "metadata": {},
     "output_type": "display_data"
    },
    {
     "name": "stdout",
     "output_type": "stream",
     "text": [
      "Epoch [2/100], train_loss: -1.9724,  train_score: 0.9623,val_loss: -0.4407,  val_score: 0.4395\n"
     ]
    },
    {
     "data": {
      "application/vnd.jupyter.widget-view+json": {
       "model_id": "186ea6924997438eaca7b5b176700a39",
       "version_major": 2,
       "version_minor": 0
      },
      "text/plain": [
       "  0%|          | 0/14 [00:00<?, ?it/s]"
      ]
     },
     "metadata": {},
     "output_type": "display_data"
    },
    {
     "data": {
      "application/vnd.jupyter.widget-view+json": {
       "model_id": "ef0e74aeab5948f496ed7e2906edbb49",
       "version_major": 2,
       "version_minor": 0
      },
      "text/plain": [
       "  0%|          | 0/7 [00:00<?, ?it/s]"
      ]
     },
     "metadata": {},
     "output_type": "display_data"
    },
    {
     "name": "stdout",
     "output_type": "stream",
     "text": [
      "Epoch [3/100], train_loss: -1.9736,  train_score: 0.9631,val_loss: -0.4229,  val_score: 0.4400\n"
     ]
    },
    {
     "data": {
      "application/vnd.jupyter.widget-view+json": {
       "model_id": "22b5d508bc16480aa98b6947e6cff71b",
       "version_major": 2,
       "version_minor": 0
      },
      "text/plain": [
       "  0%|          | 0/14 [00:00<?, ?it/s]"
      ]
     },
     "metadata": {},
     "output_type": "display_data"
    },
    {
     "data": {
      "application/vnd.jupyter.widget-view+json": {
       "model_id": "7128f114ab0c47de8fd9ce7ff75ead66",
       "version_major": 2,
       "version_minor": 0
      },
      "text/plain": [
       "  0%|          | 0/7 [00:00<?, ?it/s]"
      ]
     },
     "metadata": {},
     "output_type": "display_data"
    },
    {
     "name": "stdout",
     "output_type": "stream",
     "text": [
      "Epoch [4/100], train_loss: -1.9258,  train_score: 0.9640,val_loss: -0.4322,  val_score: 0.4410\n"
     ]
    },
    {
     "data": {
      "application/vnd.jupyter.widget-view+json": {
       "model_id": "7f5b1bf49f924d05b59af3950cd033e9",
       "version_major": 2,
       "version_minor": 0
      },
      "text/plain": [
       "  0%|          | 0/14 [00:00<?, ?it/s]"
      ]
     },
     "metadata": {},
     "output_type": "display_data"
    },
    {
     "data": {
      "application/vnd.jupyter.widget-view+json": {
       "model_id": "23ebf2f8d66848669e992d958e456136",
       "version_major": 2,
       "version_minor": 0
      },
      "text/plain": [
       "  0%|          | 0/7 [00:00<?, ?it/s]"
      ]
     },
     "metadata": {},
     "output_type": "display_data"
    },
    {
     "name": "stdout",
     "output_type": "stream",
     "text": [
      "Epoch [5/100], train_loss: -1.9483,  train_score: 0.9643,val_loss: -0.4249,  val_score: 0.4411\n"
     ]
    },
    {
     "data": {
      "application/vnd.jupyter.widget-view+json": {
       "model_id": "0a196d7d7edd4739917f096a2d5f92d4",
       "version_major": 2,
       "version_minor": 0
      },
      "text/plain": [
       "  0%|          | 0/14 [00:00<?, ?it/s]"
      ]
     },
     "metadata": {},
     "output_type": "display_data"
    },
    {
     "data": {
      "application/vnd.jupyter.widget-view+json": {
       "model_id": "06354c62ded94aa5b190429dc02e587d",
       "version_major": 2,
       "version_minor": 0
      },
      "text/plain": [
       "  0%|          | 0/7 [00:00<?, ?it/s]"
      ]
     },
     "metadata": {},
     "output_type": "display_data"
    },
    {
     "name": "stdout",
     "output_type": "stream",
     "text": [
      "Epoch [6/100], train_loss: -1.8968,  train_score: 0.9660,val_loss: -0.4452,  val_score: 0.4423\n"
     ]
    },
    {
     "data": {
      "application/vnd.jupyter.widget-view+json": {
       "model_id": "3ceac682f722469f897aaf1dfc20f6e8",
       "version_major": 2,
       "version_minor": 0
      },
      "text/plain": [
       "  0%|          | 0/14 [00:00<?, ?it/s]"
      ]
     },
     "metadata": {},
     "output_type": "display_data"
    },
    {
     "data": {
      "application/vnd.jupyter.widget-view+json": {
       "model_id": "e841290ef70946cc8df0dc214177d05d",
       "version_major": 2,
       "version_minor": 0
      },
      "text/plain": [
       "  0%|          | 0/7 [00:00<?, ?it/s]"
      ]
     },
     "metadata": {},
     "output_type": "display_data"
    },
    {
     "name": "stdout",
     "output_type": "stream",
     "text": [
      "Epoch [7/100], train_loss: -1.9150,  train_score: 0.9659,val_loss: -0.4425,  val_score: 0.4423\n"
     ]
    },
    {
     "data": {
      "application/vnd.jupyter.widget-view+json": {
       "model_id": "cb798475f5234403802a034c506e35af",
       "version_major": 2,
       "version_minor": 0
      },
      "text/plain": [
       "  0%|          | 0/14 [00:00<?, ?it/s]"
      ]
     },
     "metadata": {},
     "output_type": "display_data"
    },
    {
     "data": {
      "application/vnd.jupyter.widget-view+json": {
       "model_id": "6d7ed2aa331b47679e0d3f9fac9a5a76",
       "version_major": 2,
       "version_minor": 0
      },
      "text/plain": [
       "  0%|          | 0/7 [00:00<?, ?it/s]"
      ]
     },
     "metadata": {},
     "output_type": "display_data"
    },
    {
     "name": "stdout",
     "output_type": "stream",
     "text": [
      "Epoch [8/100], train_loss: -1.9485,  train_score: 0.9648,val_loss: -0.4398,  val_score: 0.4418\n"
     ]
    },
    {
     "data": {
      "application/vnd.jupyter.widget-view+json": {
       "model_id": "e1692a54fa1c42d1be96c70f70b947c6",
       "version_major": 2,
       "version_minor": 0
      },
      "text/plain": [
       "  0%|          | 0/14 [00:00<?, ?it/s]"
      ]
     },
     "metadata": {},
     "output_type": "display_data"
    },
    {
     "data": {
      "application/vnd.jupyter.widget-view+json": {
       "model_id": "c5848ab0055d44d8b25932f2390afe0d",
       "version_major": 2,
       "version_minor": 0
      },
      "text/plain": [
       "  0%|          | 0/7 [00:00<?, ?it/s]"
      ]
     },
     "metadata": {},
     "output_type": "display_data"
    },
    {
     "name": "stdout",
     "output_type": "stream",
     "text": [
      "Epoch [9/100], train_loss: -1.8712,  train_score: 0.9659,val_loss: -0.4133,  val_score: 0.4421\n"
     ]
    },
    {
     "data": {
      "application/vnd.jupyter.widget-view+json": {
       "model_id": "1f2791b3376840dfa78c6a209ed869a7",
       "version_major": 2,
       "version_minor": 0
      },
      "text/plain": [
       "  0%|          | 0/14 [00:00<?, ?it/s]"
      ]
     },
     "metadata": {},
     "output_type": "display_data"
    },
    {
     "data": {
      "application/vnd.jupyter.widget-view+json": {
       "model_id": "e31d661ac70242cea8d8bb58e4aa76e6",
       "version_major": 2,
       "version_minor": 0
      },
      "text/plain": [
       "  0%|          | 0/7 [00:00<?, ?it/s]"
      ]
     },
     "metadata": {},
     "output_type": "display_data"
    },
    {
     "name": "stdout",
     "output_type": "stream",
     "text": [
      "Epoch [10/100], train_loss: -1.9998,  train_score: 0.9668,val_loss: -0.4331,  val_score: 0.4421\n"
     ]
    },
    {
     "data": {
      "application/vnd.jupyter.widget-view+json": {
       "model_id": "640d23e9b7704f20b8e45fddf2cc0ea4",
       "version_major": 2,
       "version_minor": 0
      },
      "text/plain": [
       "  0%|          | 0/14 [00:00<?, ?it/s]"
      ]
     },
     "metadata": {},
     "output_type": "display_data"
    },
    {
     "data": {
      "application/vnd.jupyter.widget-view+json": {
       "model_id": "de3527a47a5c41feb8cdbeb1379dee42",
       "version_major": 2,
       "version_minor": 0
      },
      "text/plain": [
       "  0%|          | 0/7 [00:00<?, ?it/s]"
      ]
     },
     "metadata": {},
     "output_type": "display_data"
    },
    {
     "name": "stdout",
     "output_type": "stream",
     "text": [
      "Epoch [11/100], train_loss: -1.9998,  train_score: 0.9663,val_loss: -0.4291,  val_score: 0.4421\n"
     ]
    },
    {
     "data": {
      "application/vnd.jupyter.widget-view+json": {
       "model_id": "a0ddb50912e8479c8740d31df1745d52",
       "version_major": 2,
       "version_minor": 0
      },
      "text/plain": [
       "  0%|          | 0/14 [00:00<?, ?it/s]"
      ]
     },
     "metadata": {},
     "output_type": "display_data"
    },
    {
     "data": {
      "application/vnd.jupyter.widget-view+json": {
       "model_id": "889a0cd9b06749009cde709ce2c73929",
       "version_major": 2,
       "version_minor": 0
      },
      "text/plain": [
       "  0%|          | 0/7 [00:00<?, ?it/s]"
      ]
     },
     "metadata": {},
     "output_type": "display_data"
    },
    {
     "name": "stdout",
     "output_type": "stream",
     "text": [
      "Epoch [12/100], train_loss: -1.9737,  train_score: 0.9667,val_loss: -0.4558,  val_score: 0.4424\n"
     ]
    },
    {
     "data": {
      "application/vnd.jupyter.widget-view+json": {
       "model_id": "d6b882aa319240e3b165dc1b0e11cc7f",
       "version_major": 2,
       "version_minor": 0
      },
      "text/plain": [
       "  0%|          | 0/14 [00:00<?, ?it/s]"
      ]
     },
     "metadata": {},
     "output_type": "display_data"
    },
    {
     "data": {
      "application/vnd.jupyter.widget-view+json": {
       "model_id": "6d18ee0557674ecd84b2aa2180076255",
       "version_major": 2,
       "version_minor": 0
      },
      "text/plain": [
       "  0%|          | 0/7 [00:00<?, ?it/s]"
      ]
     },
     "metadata": {},
     "output_type": "display_data"
    },
    {
     "name": "stdout",
     "output_type": "stream",
     "text": [
      "Epoch [13/100], train_loss: -1.9485,  train_score: 0.9679,val_loss: -0.4302,  val_score: 0.4431\n"
     ]
    },
    {
     "data": {
      "application/vnd.jupyter.widget-view+json": {
       "model_id": "3dff0aeac92b4277a97c75f1cf13ee00",
       "version_major": 2,
       "version_minor": 0
      },
      "text/plain": [
       "  0%|          | 0/14 [00:00<?, ?it/s]"
      ]
     },
     "metadata": {},
     "output_type": "display_data"
    },
    {
     "data": {
      "application/vnd.jupyter.widget-view+json": {
       "model_id": "a6ba08ff17e2433b8fb394bb4a475d1e",
       "version_major": 2,
       "version_minor": 0
      },
      "text/plain": [
       "  0%|          | 0/7 [00:00<?, ?it/s]"
      ]
     },
     "metadata": {},
     "output_type": "display_data"
    },
    {
     "name": "stdout",
     "output_type": "stream",
     "text": [
      "Epoch [14/100], train_loss: -1.8937,  train_score: 0.9689,val_loss: -0.4367,  val_score: 0.4434\n"
     ]
    },
    {
     "data": {
      "application/vnd.jupyter.widget-view+json": {
       "model_id": "6fcc551c30334b028cb753631741ad8a",
       "version_major": 2,
       "version_minor": 0
      },
      "text/plain": [
       "  0%|          | 0/14 [00:00<?, ?it/s]"
      ]
     },
     "metadata": {},
     "output_type": "display_data"
    },
    {
     "data": {
      "application/vnd.jupyter.widget-view+json": {
       "model_id": "4bf1b87165914d86affc9c5d87b85f0b",
       "version_major": 2,
       "version_minor": 0
      },
      "text/plain": [
       "  0%|          | 0/7 [00:00<?, ?it/s]"
      ]
     },
     "metadata": {},
     "output_type": "display_data"
    },
    {
     "name": "stdout",
     "output_type": "stream",
     "text": [
      "Epoch [15/100], train_loss: -1.9951,  train_score: 0.9689,val_loss: -0.4534,  val_score: 0.4436\n"
     ]
    },
    {
     "data": {
      "application/vnd.jupyter.widget-view+json": {
       "model_id": "304de91b56184c77ac5d6a6bc21b38ab",
       "version_major": 2,
       "version_minor": 0
      },
      "text/plain": [
       "  0%|          | 0/14 [00:00<?, ?it/s]"
      ]
     },
     "metadata": {},
     "output_type": "display_data"
    },
    {
     "data": {
      "application/vnd.jupyter.widget-view+json": {
       "model_id": "03f80d200aa74b229bb1a467624a9b8e",
       "version_major": 2,
       "version_minor": 0
      },
      "text/plain": [
       "  0%|          | 0/7 [00:00<?, ?it/s]"
      ]
     },
     "metadata": {},
     "output_type": "display_data"
    },
    {
     "name": "stdout",
     "output_type": "stream",
     "text": [
      "Epoch [16/100], train_loss: -1.9482,  train_score: 0.9689,val_loss: -0.4377,  val_score: 0.4428\n"
     ]
    },
    {
     "data": {
      "application/vnd.jupyter.widget-view+json": {
       "model_id": "64817adfd1a54c5da022d9b06d8ffaf4",
       "version_major": 2,
       "version_minor": 0
      },
      "text/plain": [
       "  0%|          | 0/14 [00:00<?, ?it/s]"
      ]
     },
     "metadata": {},
     "output_type": "display_data"
    },
    {
     "data": {
      "application/vnd.jupyter.widget-view+json": {
       "model_id": "dcd3909a34174ed6baecc2b1ce2fc9a8",
       "version_major": 2,
       "version_minor": 0
      },
      "text/plain": [
       "  0%|          | 0/7 [00:00<?, ?it/s]"
      ]
     },
     "metadata": {},
     "output_type": "display_data"
    },
    {
     "name": "stdout",
     "output_type": "stream",
     "text": [
      "Epoch [17/100], train_loss: -1.9483,  train_score: 0.9685,val_loss: -0.4485,  val_score: 0.4427\n"
     ]
    },
    {
     "data": {
      "application/vnd.jupyter.widget-view+json": {
       "model_id": "87e594728562470890036e0c2a594405",
       "version_major": 2,
       "version_minor": 0
      },
      "text/plain": [
       "  0%|          | 0/14 [00:00<?, ?it/s]"
      ]
     },
     "metadata": {},
     "output_type": "display_data"
    },
    {
     "data": {
      "application/vnd.jupyter.widget-view+json": {
       "model_id": "49747bea1e2b4f17aae4cbe2430386f1",
       "version_major": 2,
       "version_minor": 0
      },
      "text/plain": [
       "  0%|          | 0/7 [00:00<?, ?it/s]"
      ]
     },
     "metadata": {},
     "output_type": "display_data"
    },
    {
     "name": "stdout",
     "output_type": "stream",
     "text": [
      "Epoch [18/100], train_loss: -1.9419,  train_score: 0.9686,val_loss: -0.4516,  val_score: 0.4427\n"
     ]
    },
    {
     "data": {
      "application/vnd.jupyter.widget-view+json": {
       "model_id": "6155b893a24a4045b5086c16eed5224a",
       "version_major": 2,
       "version_minor": 0
      },
      "text/plain": [
       "  0%|          | 0/14 [00:00<?, ?it/s]"
      ]
     },
     "metadata": {},
     "output_type": "display_data"
    },
    {
     "data": {
      "application/vnd.jupyter.widget-view+json": {
       "model_id": "dc29557127254fa7ac7776d0f6883e23",
       "version_major": 2,
       "version_minor": 0
      },
      "text/plain": [
       "  0%|          | 0/7 [00:00<?, ?it/s]"
      ]
     },
     "metadata": {},
     "output_type": "display_data"
    },
    {
     "name": "stdout",
     "output_type": "stream",
     "text": [
      "Epoch [19/100], train_loss: -1.9388,  train_score: 0.9689,val_loss: -0.4293,  val_score: 0.4430\n"
     ]
    },
    {
     "data": {
      "application/vnd.jupyter.widget-view+json": {
       "model_id": "c2391860c6e147d8b11e0ad4b7581a1f",
       "version_major": 2,
       "version_minor": 0
      },
      "text/plain": [
       "  0%|          | 0/14 [00:00<?, ?it/s]"
      ]
     },
     "metadata": {},
     "output_type": "display_data"
    },
    {
     "data": {
      "application/vnd.jupyter.widget-view+json": {
       "model_id": "9cebf54ec1a343f5888146f96ed87574",
       "version_major": 2,
       "version_minor": 0
      },
      "text/plain": [
       "  0%|          | 0/7 [00:00<?, ?it/s]"
      ]
     },
     "metadata": {},
     "output_type": "display_data"
    },
    {
     "name": "stdout",
     "output_type": "stream",
     "text": [
      "Epoch [20/100], train_loss: -1.9742,  train_score: 0.9693,val_loss: -0.4871,  val_score: 0.4428\n"
     ]
    },
    {
     "data": {
      "application/vnd.jupyter.widget-view+json": {
       "model_id": "a0c912be96b148d3a4d3881c0149229f",
       "version_major": 2,
       "version_minor": 0
      },
      "text/plain": [
       "  0%|          | 0/14 [00:00<?, ?it/s]"
      ]
     },
     "metadata": {},
     "output_type": "display_data"
    },
    {
     "data": {
      "application/vnd.jupyter.widget-view+json": {
       "model_id": "15bd39b723da498eb3e0e6c368946efd",
       "version_major": 2,
       "version_minor": 0
      },
      "text/plain": [
       "  0%|          | 0/7 [00:00<?, ?it/s]"
      ]
     },
     "metadata": {},
     "output_type": "display_data"
    },
    {
     "name": "stdout",
     "output_type": "stream",
     "text": [
      "Epoch [21/100], train_loss: -1.9228,  train_score: 0.9696,val_loss: -0.4401,  val_score: 0.4440\n"
     ]
    },
    {
     "data": {
      "application/vnd.jupyter.widget-view+json": {
       "model_id": "54462244e3ac47dc84160301af0f8d5c",
       "version_major": 2,
       "version_minor": 0
      },
      "text/plain": [
       "  0%|          | 0/14 [00:00<?, ?it/s]"
      ]
     },
     "metadata": {},
     "output_type": "display_data"
    },
    {
     "data": {
      "application/vnd.jupyter.widget-view+json": {
       "model_id": "88803cc6ba1b424d9df9587dc3784b0a",
       "version_major": 2,
       "version_minor": 0
      },
      "text/plain": [
       "  0%|          | 0/7 [00:00<?, ?it/s]"
      ]
     },
     "metadata": {},
     "output_type": "display_data"
    },
    {
     "name": "stdout",
     "output_type": "stream",
     "text": [
      "Epoch [22/100], train_loss: -1.8965,  train_score: 0.9702,val_loss: -0.4573,  val_score: 0.4439\n"
     ]
    },
    {
     "data": {
      "application/vnd.jupyter.widget-view+json": {
       "model_id": "c972a15525174b07a80db33fc487e7c7",
       "version_major": 2,
       "version_minor": 0
      },
      "text/plain": [
       "  0%|          | 0/14 [00:00<?, ?it/s]"
      ]
     },
     "metadata": {},
     "output_type": "display_data"
    },
    {
     "data": {
      "application/vnd.jupyter.widget-view+json": {
       "model_id": "05574d75f0f84dddbef24adcaa14c45f",
       "version_major": 2,
       "version_minor": 0
      },
      "text/plain": [
       "  0%|          | 0/7 [00:00<?, ?it/s]"
      ]
     },
     "metadata": {},
     "output_type": "display_data"
    },
    {
     "name": "stdout",
     "output_type": "stream",
     "text": [
      "Epoch [23/100], train_loss: -1.9482,  train_score: 0.9702,val_loss: -0.4801,  val_score: 0.4437\n"
     ]
    },
    {
     "data": {
      "application/vnd.jupyter.widget-view+json": {
       "model_id": "deec64d706594b70ac640c209ce56670",
       "version_major": 2,
       "version_minor": 0
      },
      "text/plain": [
       "  0%|          | 0/14 [00:00<?, ?it/s]"
      ]
     },
     "metadata": {},
     "output_type": "display_data"
    },
    {
     "data": {
      "application/vnd.jupyter.widget-view+json": {
       "model_id": "0e45ed493c1f442796e6c30b13fdb0d4",
       "version_major": 2,
       "version_minor": 0
      },
      "text/plain": [
       "  0%|          | 0/7 [00:00<?, ?it/s]"
      ]
     },
     "metadata": {},
     "output_type": "display_data"
    },
    {
     "name": "stdout",
     "output_type": "stream",
     "text": [
      "Epoch [24/100], train_loss: -1.9485,  train_score: 0.9705,val_loss: -0.4518,  val_score: 0.4439\n"
     ]
    },
    {
     "data": {
      "application/vnd.jupyter.widget-view+json": {
       "model_id": "2bf4b746b30d48d284db84f1d26c0d91",
       "version_major": 2,
       "version_minor": 0
      },
      "text/plain": [
       "  0%|          | 0/14 [00:00<?, ?it/s]"
      ]
     },
     "metadata": {},
     "output_type": "display_data"
    },
    {
     "data": {
      "application/vnd.jupyter.widget-view+json": {
       "model_id": "71d0f4625fe64f118b10fc2d13358188",
       "version_major": 2,
       "version_minor": 0
      },
      "text/plain": [
       "  0%|          | 0/7 [00:00<?, ?it/s]"
      ]
     },
     "metadata": {},
     "output_type": "display_data"
    },
    {
     "name": "stdout",
     "output_type": "stream",
     "text": [
      "Epoch [25/100], train_loss: -1.9479,  train_score: 0.9708,val_loss: -0.4505,  val_score: 0.4444\n"
     ]
    },
    {
     "data": {
      "application/vnd.jupyter.widget-view+json": {
       "model_id": "2dbe7898e50e4302893ebae515db4fb5",
       "version_major": 2,
       "version_minor": 0
      },
      "text/plain": [
       "  0%|          | 0/14 [00:00<?, ?it/s]"
      ]
     },
     "metadata": {},
     "output_type": "display_data"
    },
    {
     "data": {
      "application/vnd.jupyter.widget-view+json": {
       "model_id": "8d9e53fcee0740fd9cd2aa2c4af5bf47",
       "version_major": 2,
       "version_minor": 0
      },
      "text/plain": [
       "  0%|          | 0/7 [00:00<?, ?it/s]"
      ]
     },
     "metadata": {},
     "output_type": "display_data"
    },
    {
     "name": "stdout",
     "output_type": "stream",
     "text": [
      "Epoch [26/100], train_loss: -1.8315,  train_score: 0.9711,val_loss: -0.4354,  val_score: 0.4450\n"
     ]
    },
    {
     "data": {
      "application/vnd.jupyter.widget-view+json": {
       "model_id": "e708b97794c1409baf525121b1f6d34f",
       "version_major": 2,
       "version_minor": 0
      },
      "text/plain": [
       "  0%|          | 0/14 [00:00<?, ?it/s]"
      ]
     },
     "metadata": {},
     "output_type": "display_data"
    },
    {
     "data": {
      "application/vnd.jupyter.widget-view+json": {
       "model_id": "e5f601ef37fc4f1799b53e9d1ba2b4ad",
       "version_major": 2,
       "version_minor": 0
      },
      "text/plain": [
       "  0%|          | 0/7 [00:00<?, ?it/s]"
      ]
     },
     "metadata": {},
     "output_type": "display_data"
    },
    {
     "name": "stdout",
     "output_type": "stream",
     "text": [
      "Epoch [27/100], train_loss: -1.9740,  train_score: 0.9722,val_loss: -0.4348,  val_score: 0.4441\n"
     ]
    },
    {
     "data": {
      "application/vnd.jupyter.widget-view+json": {
       "model_id": "21ad3a9e1e884135aa9506c5d45c33b7",
       "version_major": 2,
       "version_minor": 0
      },
      "text/plain": [
       "  0%|          | 0/14 [00:00<?, ?it/s]"
      ]
     },
     "metadata": {},
     "output_type": "display_data"
    },
    {
     "data": {
      "application/vnd.jupyter.widget-view+json": {
       "model_id": "4461245653274a73a48301f980eecf54",
       "version_major": 2,
       "version_minor": 0
      },
      "text/plain": [
       "  0%|          | 0/7 [00:00<?, ?it/s]"
      ]
     },
     "metadata": {},
     "output_type": "display_data"
    },
    {
     "name": "stdout",
     "output_type": "stream",
     "text": [
      "Epoch [28/100], train_loss: -1.9190,  train_score: 0.9719,val_loss: -0.4388,  val_score: 0.4460\n"
     ]
    },
    {
     "data": {
      "application/vnd.jupyter.widget-view+json": {
       "model_id": "3c559e57fa834caba75c917777f5aca3",
       "version_major": 2,
       "version_minor": 0
      },
      "text/plain": [
       "  0%|          | 0/14 [00:00<?, ?it/s]"
      ]
     },
     "metadata": {},
     "output_type": "display_data"
    },
    {
     "data": {
      "application/vnd.jupyter.widget-view+json": {
       "model_id": "34df5cc7f7c9440098ff4331af5de01e",
       "version_major": 2,
       "version_minor": 0
      },
      "text/plain": [
       "  0%|          | 0/7 [00:00<?, ?it/s]"
      ]
     },
     "metadata": {},
     "output_type": "display_data"
    },
    {
     "name": "stdout",
     "output_type": "stream",
     "text": [
      "Epoch [29/100], train_loss: -1.9486,  train_score: 0.9725,val_loss: -0.4471,  val_score: 0.4454\n"
     ]
    },
    {
     "data": {
      "application/vnd.jupyter.widget-view+json": {
       "model_id": "46eeecc268f545cb84783abf82ece761",
       "version_major": 2,
       "version_minor": 0
      },
      "text/plain": [
       "  0%|          | 0/14 [00:00<?, ?it/s]"
      ]
     },
     "metadata": {},
     "output_type": "display_data"
    },
    {
     "data": {
      "application/vnd.jupyter.widget-view+json": {
       "model_id": "ecdf07cd65134114826f01955b5ba1d3",
       "version_major": 2,
       "version_minor": 0
      },
      "text/plain": [
       "  0%|          | 0/7 [00:00<?, ?it/s]"
      ]
     },
     "metadata": {},
     "output_type": "display_data"
    },
    {
     "name": "stdout",
     "output_type": "stream",
     "text": [
      "Epoch [30/100], train_loss: -1.9485,  train_score: 0.9743,val_loss: -0.4396,  val_score: 0.4459\n"
     ]
    },
    {
     "data": {
      "application/vnd.jupyter.widget-view+json": {
       "model_id": "9ca3333d4a5f4da8bdae1f99a1d220ec",
       "version_major": 2,
       "version_minor": 0
      },
      "text/plain": [
       "  0%|          | 0/14 [00:00<?, ?it/s]"
      ]
     },
     "metadata": {},
     "output_type": "display_data"
    },
    {
     "data": {
      "application/vnd.jupyter.widget-view+json": {
       "model_id": "f990573e4494441a917cdd26af4a6ffb",
       "version_major": 2,
       "version_minor": 0
      },
      "text/plain": [
       "  0%|          | 0/7 [00:00<?, ?it/s]"
      ]
     },
     "metadata": {},
     "output_type": "display_data"
    },
    {
     "name": "stdout",
     "output_type": "stream",
     "text": [
      "Epoch [31/100], train_loss: -1.9210,  train_score: 0.9745,val_loss: -0.4222,  val_score: 0.4466\n"
     ]
    },
    {
     "data": {
      "application/vnd.jupyter.widget-view+json": {
       "model_id": "8439689adbfc4be9be8a54b04059f284",
       "version_major": 2,
       "version_minor": 0
      },
      "text/plain": [
       "  0%|          | 0/14 [00:00<?, ?it/s]"
      ]
     },
     "metadata": {},
     "output_type": "display_data"
    },
    {
     "data": {
      "application/vnd.jupyter.widget-view+json": {
       "model_id": "a25532a608a74f3b8bcd56a30ab8a561",
       "version_major": 2,
       "version_minor": 0
      },
      "text/plain": [
       "  0%|          | 0/7 [00:00<?, ?it/s]"
      ]
     },
     "metadata": {},
     "output_type": "display_data"
    },
    {
     "name": "stdout",
     "output_type": "stream",
     "text": [
      "Epoch [32/100], train_loss: -1.9996,  train_score: 0.9745,val_loss: -0.4438,  val_score: 0.4466\n"
     ]
    },
    {
     "data": {
      "application/vnd.jupyter.widget-view+json": {
       "model_id": "d25a98f0dbd24aa583e80695d56003b6",
       "version_major": 2,
       "version_minor": 0
      },
      "text/plain": [
       "  0%|          | 0/14 [00:00<?, ?it/s]"
      ]
     },
     "metadata": {},
     "output_type": "display_data"
    },
    {
     "data": {
      "application/vnd.jupyter.widget-view+json": {
       "model_id": "577fc9a2c05c426bb594c744416ba91d",
       "version_major": 2,
       "version_minor": 0
      },
      "text/plain": [
       "  0%|          | 0/7 [00:00<?, ?it/s]"
      ]
     },
     "metadata": {},
     "output_type": "display_data"
    },
    {
     "name": "stdout",
     "output_type": "stream",
     "text": [
      "Epoch [33/100], train_loss: -1.9738,  train_score: 0.9750,val_loss: -0.4337,  val_score: 0.4469\n"
     ]
    },
    {
     "data": {
      "application/vnd.jupyter.widget-view+json": {
       "model_id": "40ef6c98650148688dbafb280d0a954f",
       "version_major": 2,
       "version_minor": 0
      },
      "text/plain": [
       "  0%|          | 0/14 [00:00<?, ?it/s]"
      ]
     },
     "metadata": {},
     "output_type": "display_data"
    },
    {
     "data": {
      "application/vnd.jupyter.widget-view+json": {
       "model_id": "ea26ec889c1c4d8dad465db5870acd7e",
       "version_major": 2,
       "version_minor": 0
      },
      "text/plain": [
       "  0%|          | 0/7 [00:00<?, ?it/s]"
      ]
     },
     "metadata": {},
     "output_type": "display_data"
    },
    {
     "name": "stdout",
     "output_type": "stream",
     "text": [
      "Epoch [34/100], train_loss: -1.9738,  train_score: 0.9762,val_loss: -0.4383,  val_score: 0.4469\n"
     ]
    },
    {
     "data": {
      "application/vnd.jupyter.widget-view+json": {
       "model_id": "14747c9172104956a697e98c6db86972",
       "version_major": 2,
       "version_minor": 0
      },
      "text/plain": [
       "  0%|          | 0/14 [00:00<?, ?it/s]"
      ]
     },
     "metadata": {},
     "output_type": "display_data"
    },
    {
     "data": {
      "application/vnd.jupyter.widget-view+json": {
       "model_id": "481098c640b24ad8b0f12c258f72eae8",
       "version_major": 2,
       "version_minor": 0
      },
      "text/plain": [
       "  0%|          | 0/7 [00:00<?, ?it/s]"
      ]
     },
     "metadata": {},
     "output_type": "display_data"
    },
    {
     "name": "stdout",
     "output_type": "stream",
     "text": [
      "Epoch [35/100], train_loss: -1.9908,  train_score: 0.9755,val_loss: -0.4331,  val_score: 0.4470\n"
     ]
    },
    {
     "data": {
      "application/vnd.jupyter.widget-view+json": {
       "model_id": "1c885c23dc3845c083ddb77a13998dfb",
       "version_major": 2,
       "version_minor": 0
      },
      "text/plain": [
       "  0%|          | 0/14 [00:00<?, ?it/s]"
      ]
     },
     "metadata": {},
     "output_type": "display_data"
    },
    {
     "data": {
      "application/vnd.jupyter.widget-view+json": {
       "model_id": "ae3daea3b84743cf927842af91a24ceb",
       "version_major": 2,
       "version_minor": 0
      },
      "text/plain": [
       "  0%|          | 0/7 [00:00<?, ?it/s]"
      ]
     },
     "metadata": {},
     "output_type": "display_data"
    },
    {
     "name": "stdout",
     "output_type": "stream",
     "text": [
      "Epoch [36/100], train_loss: -1.9437,  train_score: 0.9758,val_loss: -0.4208,  val_score: 0.4469\n"
     ]
    },
    {
     "data": {
      "application/vnd.jupyter.widget-view+json": {
       "model_id": "9d49cdb712134b9ea2522b7a2b7d1125",
       "version_major": 2,
       "version_minor": 0
      },
      "text/plain": [
       "  0%|          | 0/14 [00:00<?, ?it/s]"
      ]
     },
     "metadata": {},
     "output_type": "display_data"
    },
    {
     "data": {
      "application/vnd.jupyter.widget-view+json": {
       "model_id": "1242784ada0943009d849304a48aae72",
       "version_major": 2,
       "version_minor": 0
      },
      "text/plain": [
       "  0%|          | 0/7 [00:00<?, ?it/s]"
      ]
     },
     "metadata": {},
     "output_type": "display_data"
    },
    {
     "name": "stdout",
     "output_type": "stream",
     "text": [
      "Epoch [37/100], train_loss: -1.9199,  train_score: 0.9738,val_loss: -0.4383,  val_score: 0.4469\n"
     ]
    },
    {
     "data": {
      "application/vnd.jupyter.widget-view+json": {
       "model_id": "20596e37526e4e1885cde2c243c6f321",
       "version_major": 2,
       "version_minor": 0
      },
      "text/plain": [
       "  0%|          | 0/14 [00:00<?, ?it/s]"
      ]
     },
     "metadata": {},
     "output_type": "display_data"
    },
    {
     "data": {
      "application/vnd.jupyter.widget-view+json": {
       "model_id": "85a8c48f619d43bc9f20aba9c67fcef2",
       "version_major": 2,
       "version_minor": 0
      },
      "text/plain": [
       "  0%|          | 0/7 [00:00<?, ?it/s]"
      ]
     },
     "metadata": {},
     "output_type": "display_data"
    },
    {
     "name": "stdout",
     "output_type": "stream",
     "text": [
      "Epoch [38/100], train_loss: -1.9652,  train_score: 0.9761,val_loss: -0.4519,  val_score: 0.4476\n"
     ]
    },
    {
     "data": {
      "application/vnd.jupyter.widget-view+json": {
       "model_id": "296657a44e6e4f26b97cc84cbfa84b8f",
       "version_major": 2,
       "version_minor": 0
      },
      "text/plain": [
       "  0%|          | 0/14 [00:00<?, ?it/s]"
      ]
     },
     "metadata": {},
     "output_type": "display_data"
    },
    {
     "data": {
      "application/vnd.jupyter.widget-view+json": {
       "model_id": "f18de1241d9f4ecab0f31218d62b0137",
       "version_major": 2,
       "version_minor": 0
      },
      "text/plain": [
       "  0%|          | 0/7 [00:00<?, ?it/s]"
      ]
     },
     "metadata": {},
     "output_type": "display_data"
    },
    {
     "name": "stdout",
     "output_type": "stream",
     "text": [
      "Epoch [39/100], train_loss: -1.9484,  train_score: 0.9766,val_loss: -0.4628,  val_score: 0.4476\n"
     ]
    },
    {
     "data": {
      "application/vnd.jupyter.widget-view+json": {
       "model_id": "08538c2c11294ede82d577a257c4b565",
       "version_major": 2,
       "version_minor": 0
      },
      "text/plain": [
       "  0%|          | 0/14 [00:00<?, ?it/s]"
      ]
     },
     "metadata": {},
     "output_type": "display_data"
    },
    {
     "data": {
      "application/vnd.jupyter.widget-view+json": {
       "model_id": "e71bb1e12a684111bb540c1404a94296",
       "version_major": 2,
       "version_minor": 0
      },
      "text/plain": [
       "  0%|          | 0/7 [00:00<?, ?it/s]"
      ]
     },
     "metadata": {},
     "output_type": "display_data"
    },
    {
     "name": "stdout",
     "output_type": "stream",
     "text": [
      "Epoch [40/100], train_loss: -1.9475,  train_score: 0.9765,val_loss: -0.4680,  val_score: 0.4477\n"
     ]
    },
    {
     "data": {
      "application/vnd.jupyter.widget-view+json": {
       "model_id": "9fcd584ca83442179f2f5281450a5165",
       "version_major": 2,
       "version_minor": 0
      },
      "text/plain": [
       "  0%|          | 0/14 [00:00<?, ?it/s]"
      ]
     },
     "metadata": {},
     "output_type": "display_data"
    },
    {
     "data": {
      "application/vnd.jupyter.widget-view+json": {
       "model_id": "a453082360e54930b25090f6ad810725",
       "version_major": 2,
       "version_minor": 0
      },
      "text/plain": [
       "  0%|          | 0/7 [00:00<?, ?it/s]"
      ]
     },
     "metadata": {},
     "output_type": "display_data"
    },
    {
     "name": "stdout",
     "output_type": "stream",
     "text": [
      "Epoch [41/100], train_loss: -1.9977,  train_score: 0.9765,val_loss: -0.4690,  val_score: 0.4472\n"
     ]
    },
    {
     "data": {
      "application/vnd.jupyter.widget-view+json": {
       "model_id": "5195a58132ad412a881e221c85cbbd5e",
       "version_major": 2,
       "version_minor": 0
      },
      "text/plain": [
       "  0%|          | 0/14 [00:00<?, ?it/s]"
      ]
     },
     "metadata": {},
     "output_type": "display_data"
    },
    {
     "data": {
      "application/vnd.jupyter.widget-view+json": {
       "model_id": "b8a437791e78458f9bc7ae7ee174a55e",
       "version_major": 2,
       "version_minor": 0
      },
      "text/plain": [
       "  0%|          | 0/7 [00:00<?, ?it/s]"
      ]
     },
     "metadata": {},
     "output_type": "display_data"
    },
    {
     "name": "stdout",
     "output_type": "stream",
     "text": [
      "Epoch [42/100], train_loss: -1.9458,  train_score: 0.9768,val_loss: -0.4684,  val_score: 0.4474\n"
     ]
    },
    {
     "data": {
      "application/vnd.jupyter.widget-view+json": {
       "model_id": "b99a6612d237450f816ceb14a783b6cf",
       "version_major": 2,
       "version_minor": 0
      },
      "text/plain": [
       "  0%|          | 0/14 [00:00<?, ?it/s]"
      ]
     },
     "metadata": {},
     "output_type": "display_data"
    },
    {
     "data": {
      "application/vnd.jupyter.widget-view+json": {
       "model_id": "5e54bd3d42854992ada7918aa7b0460b",
       "version_major": 2,
       "version_minor": 0
      },
      "text/plain": [
       "  0%|          | 0/7 [00:00<?, ?it/s]"
      ]
     },
     "metadata": {},
     "output_type": "display_data"
    },
    {
     "name": "stdout",
     "output_type": "stream",
     "text": [
      "Epoch [43/100], train_loss: -1.9431,  train_score: 0.9771,val_loss: -0.4402,  val_score: 0.4477\n"
     ]
    },
    {
     "data": {
      "application/vnd.jupyter.widget-view+json": {
       "model_id": "75e417c603d64876b0d0a6f4d9979607",
       "version_major": 2,
       "version_minor": 0
      },
      "text/plain": [
       "  0%|          | 0/14 [00:00<?, ?it/s]"
      ]
     },
     "metadata": {},
     "output_type": "display_data"
    },
    {
     "data": {
      "application/vnd.jupyter.widget-view+json": {
       "model_id": "a90da304ad404473ab391cc2022597e0",
       "version_major": 2,
       "version_minor": 0
      },
      "text/plain": [
       "  0%|          | 0/7 [00:00<?, ?it/s]"
      ]
     },
     "metadata": {},
     "output_type": "display_data"
    },
    {
     "name": "stdout",
     "output_type": "stream",
     "text": [
      "Epoch [44/100], train_loss: -1.9998,  train_score: 0.9773,val_loss: -0.4654,  val_score: 0.4476\n"
     ]
    },
    {
     "data": {
      "application/vnd.jupyter.widget-view+json": {
       "model_id": "efc162cd75f1422294f51290264458a4",
       "version_major": 2,
       "version_minor": 0
      },
      "text/plain": [
       "  0%|          | 0/14 [00:00<?, ?it/s]"
      ]
     },
     "metadata": {},
     "output_type": "display_data"
    },
    {
     "data": {
      "application/vnd.jupyter.widget-view+json": {
       "model_id": "70db126c811841ebaddd42b465039c61",
       "version_major": 2,
       "version_minor": 0
      },
      "text/plain": [
       "  0%|          | 0/7 [00:00<?, ?it/s]"
      ]
     },
     "metadata": {},
     "output_type": "display_data"
    },
    {
     "name": "stdout",
     "output_type": "stream",
     "text": [
      "Epoch [45/100], train_loss: -1.9997,  train_score: 0.9772,val_loss: -0.4238,  val_score: 0.4479\n"
     ]
    },
    {
     "data": {
      "application/vnd.jupyter.widget-view+json": {
       "model_id": "f2671bcab1ab4958aeac5fb02b5933cb",
       "version_major": 2,
       "version_minor": 0
      },
      "text/plain": [
       "  0%|          | 0/14 [00:00<?, ?it/s]"
      ]
     },
     "metadata": {},
     "output_type": "display_data"
    },
    {
     "data": {
      "application/vnd.jupyter.widget-view+json": {
       "model_id": "a780ca478c3941dc894c64380dbb18e4",
       "version_major": 2,
       "version_minor": 0
      },
      "text/plain": [
       "  0%|          | 0/7 [00:00<?, ?it/s]"
      ]
     },
     "metadata": {},
     "output_type": "display_data"
    },
    {
     "name": "stdout",
     "output_type": "stream",
     "text": [
      "Epoch [46/100], train_loss: -1.9995,  train_score: 0.9772,val_loss: -0.4208,  val_score: 0.4479\n"
     ]
    },
    {
     "data": {
      "application/vnd.jupyter.widget-view+json": {
       "model_id": "d24e4c9d7e414c748db954d62b4f3b5c",
       "version_major": 2,
       "version_minor": 0
      },
      "text/plain": [
       "  0%|          | 0/14 [00:00<?, ?it/s]"
      ]
     },
     "metadata": {},
     "output_type": "display_data"
    },
    {
     "data": {
      "application/vnd.jupyter.widget-view+json": {
       "model_id": "a0167c0e924842419e592dbf1e489047",
       "version_major": 2,
       "version_minor": 0
      },
      "text/plain": [
       "  0%|          | 0/7 [00:00<?, ?it/s]"
      ]
     },
     "metadata": {},
     "output_type": "display_data"
    },
    {
     "name": "stdout",
     "output_type": "stream",
     "text": [
      "Epoch [47/100], train_loss: -1.8716,  train_score: 0.9773,val_loss: -0.4827,  val_score: 0.4477\n"
     ]
    },
    {
     "data": {
      "application/vnd.jupyter.widget-view+json": {
       "model_id": "7a9a45c7c321486294510bd13c788ff7",
       "version_major": 2,
       "version_minor": 0
      },
      "text/plain": [
       "  0%|          | 0/14 [00:00<?, ?it/s]"
      ]
     },
     "metadata": {},
     "output_type": "display_data"
    },
    {
     "data": {
      "application/vnd.jupyter.widget-view+json": {
       "model_id": "c37941df6ed94e8b9395ceed14513e89",
       "version_major": 2,
       "version_minor": 0
      },
      "text/plain": [
       "  0%|          | 0/7 [00:00<?, ?it/s]"
      ]
     },
     "metadata": {},
     "output_type": "display_data"
    },
    {
     "name": "stdout",
     "output_type": "stream",
     "text": [
      "Epoch [48/100], train_loss: -1.9999,  train_score: 0.9773,val_loss: -0.4677,  val_score: 0.4482\n"
     ]
    },
    {
     "data": {
      "application/vnd.jupyter.widget-view+json": {
       "model_id": "2e4d9bef4ea3455fb58e62ce58f9ef0e",
       "version_major": 2,
       "version_minor": 0
      },
      "text/plain": [
       "  0%|          | 0/14 [00:00<?, ?it/s]"
      ]
     },
     "metadata": {},
     "output_type": "display_data"
    },
    {
     "data": {
      "application/vnd.jupyter.widget-view+json": {
       "model_id": "bf7947ef00984b389b26d0fef1542b69",
       "version_major": 2,
       "version_minor": 0
      },
      "text/plain": [
       "  0%|          | 0/7 [00:00<?, ?it/s]"
      ]
     },
     "metadata": {},
     "output_type": "display_data"
    },
    {
     "name": "stdout",
     "output_type": "stream",
     "text": [
      "Epoch [49/100], train_loss: -1.9997,  train_score: 0.9774,val_loss: -0.4596,  val_score: 0.4483\n"
     ]
    },
    {
     "data": {
      "application/vnd.jupyter.widget-view+json": {
       "model_id": "f934e884daa346bbbd017eda4b1da7aa",
       "version_major": 2,
       "version_minor": 0
      },
      "text/plain": [
       "  0%|          | 0/14 [00:00<?, ?it/s]"
      ]
     },
     "metadata": {},
     "output_type": "display_data"
    },
    {
     "data": {
      "application/vnd.jupyter.widget-view+json": {
       "model_id": "23e23bad9b494343b22d953086cde62f",
       "version_major": 2,
       "version_minor": 0
      },
      "text/plain": [
       "  0%|          | 0/7 [00:00<?, ?it/s]"
      ]
     },
     "metadata": {},
     "output_type": "display_data"
    },
    {
     "name": "stdout",
     "output_type": "stream",
     "text": [
      "Epoch [50/100], train_loss: -1.9994,  train_score: 0.9778,val_loss: -0.4378,  val_score: 0.4483\n"
     ]
    },
    {
     "data": {
      "application/vnd.jupyter.widget-view+json": {
       "model_id": "8ae1f6e08e26453a96e3fe5463b05833",
       "version_major": 2,
       "version_minor": 0
      },
      "text/plain": [
       "  0%|          | 0/14 [00:00<?, ?it/s]"
      ]
     },
     "metadata": {},
     "output_type": "display_data"
    },
    {
     "data": {
      "application/vnd.jupyter.widget-view+json": {
       "model_id": "254e9491fa404bfc855a198f7a8b840f",
       "version_major": 2,
       "version_minor": 0
      },
      "text/plain": [
       "  0%|          | 0/7 [00:00<?, ?it/s]"
      ]
     },
     "metadata": {},
     "output_type": "display_data"
    },
    {
     "name": "stdout",
     "output_type": "stream",
     "text": [
      "Epoch [51/100], train_loss: -1.9987,  train_score: 0.9780,val_loss: -0.4604,  val_score: 0.4483\n"
     ]
    },
    {
     "data": {
      "application/vnd.jupyter.widget-view+json": {
       "model_id": "dd264bc2647c407eb95bc45d3723bff2",
       "version_major": 2,
       "version_minor": 0
      },
      "text/plain": [
       "  0%|          | 0/14 [00:00<?, ?it/s]"
      ]
     },
     "metadata": {},
     "output_type": "display_data"
    },
    {
     "data": {
      "application/vnd.jupyter.widget-view+json": {
       "model_id": "c4ff59a862014feb9c4cfbd3aaad6308",
       "version_major": 2,
       "version_minor": 0
      },
      "text/plain": [
       "  0%|          | 0/7 [00:00<?, ?it/s]"
      ]
     },
     "metadata": {},
     "output_type": "display_data"
    },
    {
     "name": "stdout",
     "output_type": "stream",
     "text": [
      "Epoch [52/100], train_loss: -1.9487,  train_score: 0.9783,val_loss: -0.4513,  val_score: 0.4487\n"
     ]
    },
    {
     "data": {
      "application/vnd.jupyter.widget-view+json": {
       "model_id": "1a52f2faa0a84fb881d93b0c03fe9e0c",
       "version_major": 2,
       "version_minor": 0
      },
      "text/plain": [
       "  0%|          | 0/14 [00:00<?, ?it/s]"
      ]
     },
     "metadata": {},
     "output_type": "display_data"
    },
    {
     "data": {
      "application/vnd.jupyter.widget-view+json": {
       "model_id": "ac14e5892a3d4c14beeb2cee789cbae7",
       "version_major": 2,
       "version_minor": 0
      },
      "text/plain": [
       "  0%|          | 0/7 [00:00<?, ?it/s]"
      ]
     },
     "metadata": {},
     "output_type": "display_data"
    },
    {
     "name": "stdout",
     "output_type": "stream",
     "text": [
      "Epoch [53/100], train_loss: -1.9735,  train_score: 0.9784,val_loss: -0.4671,  val_score: 0.4485\n"
     ]
    },
    {
     "data": {
      "application/vnd.jupyter.widget-view+json": {
       "model_id": "b1849b87d0764028804f76b4887deae9",
       "version_major": 2,
       "version_minor": 0
      },
      "text/plain": [
       "  0%|          | 0/14 [00:00<?, ?it/s]"
      ]
     },
     "metadata": {},
     "output_type": "display_data"
    },
    {
     "data": {
      "application/vnd.jupyter.widget-view+json": {
       "model_id": "25620c757bc14aa48ecad4a0653e2498",
       "version_major": 2,
       "version_minor": 0
      },
      "text/plain": [
       "  0%|          | 0/7 [00:00<?, ?it/s]"
      ]
     },
     "metadata": {},
     "output_type": "display_data"
    },
    {
     "name": "stdout",
     "output_type": "stream",
     "text": [
      "Epoch [54/100], train_loss: -1.9479,  train_score: 0.9785,val_loss: -0.4541,  val_score: 0.4486\n"
     ]
    },
    {
     "data": {
      "application/vnd.jupyter.widget-view+json": {
       "model_id": "5eab210121144c1fa8dd453f4a999ce7",
       "version_major": 2,
       "version_minor": 0
      },
      "text/plain": [
       "  0%|          | 0/14 [00:00<?, ?it/s]"
      ]
     },
     "metadata": {},
     "output_type": "display_data"
    },
    {
     "data": {
      "application/vnd.jupyter.widget-view+json": {
       "model_id": "f0edd9f9f024444dbfdc4a92536bdf43",
       "version_major": 2,
       "version_minor": 0
      },
      "text/plain": [
       "  0%|          | 0/7 [00:00<?, ?it/s]"
      ]
     },
     "metadata": {},
     "output_type": "display_data"
    },
    {
     "name": "stdout",
     "output_type": "stream",
     "text": [
      "Epoch [55/100], train_loss: -1.9481,  train_score: 0.9784,val_loss: -0.4763,  val_score: 0.4486\n"
     ]
    },
    {
     "data": {
      "application/vnd.jupyter.widget-view+json": {
       "model_id": "91c1a9af06e14833b65f8c39f17e49fd",
       "version_major": 2,
       "version_minor": 0
      },
      "text/plain": [
       "  0%|          | 0/14 [00:00<?, ?it/s]"
      ]
     },
     "metadata": {},
     "output_type": "display_data"
    },
    {
     "data": {
      "application/vnd.jupyter.widget-view+json": {
       "model_id": "cc263f2e672d4463881794040813a257",
       "version_major": 2,
       "version_minor": 0
      },
      "text/plain": [
       "  0%|          | 0/7 [00:00<?, ?it/s]"
      ]
     },
     "metadata": {},
     "output_type": "display_data"
    },
    {
     "name": "stdout",
     "output_type": "stream",
     "text": [
      "Epoch [56/100], train_loss: -1.9460,  train_score: 0.9787,val_loss: -0.4456,  val_score: 0.4489\n"
     ]
    },
    {
     "data": {
      "application/vnd.jupyter.widget-view+json": {
       "model_id": "8ffb0b4d7b2d4510ac0080cca90381b0",
       "version_major": 2,
       "version_minor": 0
      },
      "text/plain": [
       "  0%|          | 0/14 [00:00<?, ?it/s]"
      ]
     },
     "metadata": {},
     "output_type": "display_data"
    },
    {
     "data": {
      "application/vnd.jupyter.widget-view+json": {
       "model_id": "d6bad33cbfc04bb6a9c7048de5289e34",
       "version_major": 2,
       "version_minor": 0
      },
      "text/plain": [
       "  0%|          | 0/7 [00:00<?, ?it/s]"
      ]
     },
     "metadata": {},
     "output_type": "display_data"
    },
    {
     "name": "stdout",
     "output_type": "stream",
     "text": [
      "Epoch [57/100], train_loss: -1.9229,  train_score: 0.9784,val_loss: -0.4690,  val_score: 0.4487\n"
     ]
    },
    {
     "data": {
      "application/vnd.jupyter.widget-view+json": {
       "model_id": "1ee3a59e0ca144c08a6ad1afb54176e0",
       "version_major": 2,
       "version_minor": 0
      },
      "text/plain": [
       "  0%|          | 0/14 [00:00<?, ?it/s]"
      ]
     },
     "metadata": {},
     "output_type": "display_data"
    },
    {
     "data": {
      "application/vnd.jupyter.widget-view+json": {
       "model_id": "08c165f8d53344649eb6f54edae4d64f",
       "version_major": 2,
       "version_minor": 0
      },
      "text/plain": [
       "  0%|          | 0/7 [00:00<?, ?it/s]"
      ]
     },
     "metadata": {},
     "output_type": "display_data"
    },
    {
     "name": "stdout",
     "output_type": "stream",
     "text": [
      "Epoch [58/100], train_loss: -1.9230,  train_score: 0.9789,val_loss: -0.4565,  val_score: 0.4487\n"
     ]
    },
    {
     "data": {
      "application/vnd.jupyter.widget-view+json": {
       "model_id": "c20e0a07ad8f4fc2ab49db84381dfffb",
       "version_major": 2,
       "version_minor": 0
      },
      "text/plain": [
       "  0%|          | 0/14 [00:00<?, ?it/s]"
      ]
     },
     "metadata": {},
     "output_type": "display_data"
    },
    {
     "data": {
      "application/vnd.jupyter.widget-view+json": {
       "model_id": "5660d16097244b2dba443f034818276a",
       "version_major": 2,
       "version_minor": 0
      },
      "text/plain": [
       "  0%|          | 0/7 [00:00<?, ?it/s]"
      ]
     },
     "metadata": {},
     "output_type": "display_data"
    },
    {
     "name": "stdout",
     "output_type": "stream",
     "text": [
      "Epoch [59/100], train_loss: -1.9449,  train_score: 0.9781,val_loss: -0.4584,  val_score: 0.4489\n"
     ]
    },
    {
     "data": {
      "application/vnd.jupyter.widget-view+json": {
       "model_id": "718a7c18641e43558e9ffa1de8046f58",
       "version_major": 2,
       "version_minor": 0
      },
      "text/plain": [
       "  0%|          | 0/14 [00:00<?, ?it/s]"
      ]
     },
     "metadata": {},
     "output_type": "display_data"
    },
    {
     "data": {
      "application/vnd.jupyter.widget-view+json": {
       "model_id": "269f28397acc4f3894a8a5aa08dee385",
       "version_major": 2,
       "version_minor": 0
      },
      "text/plain": [
       "  0%|          | 0/7 [00:00<?, ?it/s]"
      ]
     },
     "metadata": {},
     "output_type": "display_data"
    },
    {
     "name": "stdout",
     "output_type": "stream",
     "text": [
      "Epoch [60/100], train_loss: -1.9230,  train_score: 0.9789,val_loss: -0.4422,  val_score: 0.4487\n"
     ]
    },
    {
     "data": {
      "application/vnd.jupyter.widget-view+json": {
       "model_id": "dc674ae3d4004129bf71d642ae5faad2",
       "version_major": 2,
       "version_minor": 0
      },
      "text/plain": [
       "  0%|          | 0/14 [00:00<?, ?it/s]"
      ]
     },
     "metadata": {},
     "output_type": "display_data"
    },
    {
     "data": {
      "application/vnd.jupyter.widget-view+json": {
       "model_id": "930f7342e055442f9306ac8dbf045b77",
       "version_major": 2,
       "version_minor": 0
      },
      "text/plain": [
       "  0%|          | 0/7 [00:00<?, ?it/s]"
      ]
     },
     "metadata": {},
     "output_type": "display_data"
    },
    {
     "name": "stdout",
     "output_type": "stream",
     "text": [
      "Epoch [61/100], train_loss: -1.9485,  train_score: 0.9784,val_loss: -0.4532,  val_score: 0.4485\n"
     ]
    },
    {
     "data": {
      "application/vnd.jupyter.widget-view+json": {
       "model_id": "f1d153ea6bfc431da4381b500e613128",
       "version_major": 2,
       "version_minor": 0
      },
      "text/plain": [
       "  0%|          | 0/14 [00:00<?, ?it/s]"
      ]
     },
     "metadata": {},
     "output_type": "display_data"
    },
    {
     "data": {
      "application/vnd.jupyter.widget-view+json": {
       "model_id": "7757939757c1429fb953402fbe65cff3",
       "version_major": 2,
       "version_minor": 0
      },
      "text/plain": [
       "  0%|          | 0/7 [00:00<?, ?it/s]"
      ]
     },
     "metadata": {},
     "output_type": "display_data"
    },
    {
     "name": "stdout",
     "output_type": "stream",
     "text": [
      "Epoch [62/100], train_loss: -1.8717,  train_score: 0.9786,val_loss: -0.4402,  val_score: 0.4485\n"
     ]
    },
    {
     "data": {
      "application/vnd.jupyter.widget-view+json": {
       "model_id": "a3a83b98f5c34a899967da0ac53370d3",
       "version_major": 2,
       "version_minor": 0
      },
      "text/plain": [
       "  0%|          | 0/14 [00:00<?, ?it/s]"
      ]
     },
     "metadata": {},
     "output_type": "display_data"
    },
    {
     "data": {
      "application/vnd.jupyter.widget-view+json": {
       "model_id": "f850e8bca62049cca5fd978365bb1e91",
       "version_major": 2,
       "version_minor": 0
      },
      "text/plain": [
       "  0%|          | 0/7 [00:00<?, ?it/s]"
      ]
     },
     "metadata": {},
     "output_type": "display_data"
    },
    {
     "name": "stdout",
     "output_type": "stream",
     "text": [
      "Epoch [63/100], train_loss: -1.9833,  train_score: 0.9782,val_loss: -0.4754,  val_score: 0.4487\n"
     ]
    },
    {
     "data": {
      "application/vnd.jupyter.widget-view+json": {
       "model_id": "1f692970a66240b98304dfb8a008a3a8",
       "version_major": 2,
       "version_minor": 0
      },
      "text/plain": [
       "  0%|          | 0/14 [00:00<?, ?it/s]"
      ]
     },
     "metadata": {},
     "output_type": "display_data"
    },
    {
     "data": {
      "application/vnd.jupyter.widget-view+json": {
       "model_id": "b48b8d80c24a49f7b102e9ae0b62b2e3",
       "version_major": 2,
       "version_minor": 0
      },
      "text/plain": [
       "  0%|          | 0/7 [00:00<?, ?it/s]"
      ]
     },
     "metadata": {},
     "output_type": "display_data"
    },
    {
     "name": "stdout",
     "output_type": "stream",
     "text": [
      "Epoch [64/100], train_loss: -1.9741,  train_score: 0.9790,val_loss: -0.4417,  val_score: 0.4485\n"
     ]
    },
    {
     "data": {
      "application/vnd.jupyter.widget-view+json": {
       "model_id": "8e4f6e46a07548499175552864bca31d",
       "version_major": 2,
       "version_minor": 0
      },
      "text/plain": [
       "  0%|          | 0/14 [00:00<?, ?it/s]"
      ]
     },
     "metadata": {},
     "output_type": "display_data"
    },
    {
     "data": {
      "application/vnd.jupyter.widget-view+json": {
       "model_id": "5fe5706ee68447939908d1a9e29c116b",
       "version_major": 2,
       "version_minor": 0
      },
      "text/plain": [
       "  0%|          | 0/7 [00:00<?, ?it/s]"
      ]
     },
     "metadata": {},
     "output_type": "display_data"
    },
    {
     "name": "stdout",
     "output_type": "stream",
     "text": [
      "Epoch [65/100], train_loss: -1.9985,  train_score: 0.9791,val_loss: -0.4701,  val_score: 0.4492\n"
     ]
    },
    {
     "data": {
      "application/vnd.jupyter.widget-view+json": {
       "model_id": "d09e735febda4962aae0b91d22cbd4b6",
       "version_major": 2,
       "version_minor": 0
      },
      "text/plain": [
       "  0%|          | 0/14 [00:00<?, ?it/s]"
      ]
     },
     "metadata": {},
     "output_type": "display_data"
    },
    {
     "data": {
      "application/vnd.jupyter.widget-view+json": {
       "model_id": "d884305029a94900bdfcecbd9b6592b8",
       "version_major": 2,
       "version_minor": 0
      },
      "text/plain": [
       "  0%|          | 0/7 [00:00<?, ?it/s]"
      ]
     },
     "metadata": {},
     "output_type": "display_data"
    },
    {
     "name": "stdout",
     "output_type": "stream",
     "text": [
      "Epoch [66/100], train_loss: -1.9486,  train_score: 0.9793,val_loss: -0.4496,  val_score: 0.4492\n"
     ]
    },
    {
     "data": {
      "application/vnd.jupyter.widget-view+json": {
       "model_id": "adc277c931bf4964b0d6513f6748d645",
       "version_major": 2,
       "version_minor": 0
      },
      "text/plain": [
       "  0%|          | 0/14 [00:00<?, ?it/s]"
      ]
     },
     "metadata": {},
     "output_type": "display_data"
    },
    {
     "data": {
      "application/vnd.jupyter.widget-view+json": {
       "model_id": "6f29a8db3721460c8e5e083534b50cd4",
       "version_major": 2,
       "version_minor": 0
      },
      "text/plain": [
       "  0%|          | 0/7 [00:00<?, ?it/s]"
      ]
     },
     "metadata": {},
     "output_type": "display_data"
    },
    {
     "name": "stdout",
     "output_type": "stream",
     "text": [
      "Epoch [67/100], train_loss: -1.9997,  train_score: 0.9795,val_loss: -0.4345,  val_score: 0.4492\n"
     ]
    },
    {
     "data": {
      "application/vnd.jupyter.widget-view+json": {
       "model_id": "352f6b07465a49639dd4645faeaa00e2",
       "version_major": 2,
       "version_minor": 0
      },
      "text/plain": [
       "  0%|          | 0/14 [00:00<?, ?it/s]"
      ]
     },
     "metadata": {},
     "output_type": "display_data"
    },
    {
     "data": {
      "application/vnd.jupyter.widget-view+json": {
       "model_id": "43f878f443504170a29dbe1d44fb2fac",
       "version_major": 2,
       "version_minor": 0
      },
      "text/plain": [
       "  0%|          | 0/7 [00:00<?, ?it/s]"
      ]
     },
     "metadata": {},
     "output_type": "display_data"
    },
    {
     "name": "stdout",
     "output_type": "stream",
     "text": [
      "Epoch [68/100], train_loss: -1.9484,  train_score: 0.9797,val_loss: -0.4660,  val_score: 0.4490\n"
     ]
    },
    {
     "data": {
      "application/vnd.jupyter.widget-view+json": {
       "model_id": "963d4706265b4c6bb07b2b036ad11f50",
       "version_major": 2,
       "version_minor": 0
      },
      "text/plain": [
       "  0%|          | 0/14 [00:00<?, ?it/s]"
      ]
     },
     "metadata": {},
     "output_type": "display_data"
    },
    {
     "data": {
      "application/vnd.jupyter.widget-view+json": {
       "model_id": "23654045175440a39b8af055240f6305",
       "version_major": 2,
       "version_minor": 0
      },
      "text/plain": [
       "  0%|          | 0/7 [00:00<?, ?it/s]"
      ]
     },
     "metadata": {},
     "output_type": "display_data"
    },
    {
     "name": "stdout",
     "output_type": "stream",
     "text": [
      "Epoch [69/100], train_loss: -1.9743,  train_score: 0.9792,val_loss: -0.4609,  val_score: 0.4490\n"
     ]
    },
    {
     "data": {
      "application/vnd.jupyter.widget-view+json": {
       "model_id": "f1b591a01414405f9ecbb8a8fc41a70e",
       "version_major": 2,
       "version_minor": 0
      },
      "text/plain": [
       "  0%|          | 0/14 [00:00<?, ?it/s]"
      ]
     },
     "metadata": {},
     "output_type": "display_data"
    },
    {
     "data": {
      "application/vnd.jupyter.widget-view+json": {
       "model_id": "b4326610f4f64a259ed35ce59b93b2e0",
       "version_major": 2,
       "version_minor": 0
      },
      "text/plain": [
       "  0%|          | 0/7 [00:00<?, ?it/s]"
      ]
     },
     "metadata": {},
     "output_type": "display_data"
    },
    {
     "name": "stdout",
     "output_type": "stream",
     "text": [
      "Epoch [70/100], train_loss: -1.9741,  train_score: 0.9798,val_loss: -0.4605,  val_score: 0.4492\n"
     ]
    },
    {
     "data": {
      "application/vnd.jupyter.widget-view+json": {
       "model_id": "fd557ee2014045ca9c403ca098ff3c44",
       "version_major": 2,
       "version_minor": 0
      },
      "text/plain": [
       "  0%|          | 0/14 [00:00<?, ?it/s]"
      ]
     },
     "metadata": {},
     "output_type": "display_data"
    },
    {
     "data": {
      "application/vnd.jupyter.widget-view+json": {
       "model_id": "e24374ae0bea47229690466ecfa329a6",
       "version_major": 2,
       "version_minor": 0
      },
      "text/plain": [
       "  0%|          | 0/7 [00:00<?, ?it/s]"
      ]
     },
     "metadata": {},
     "output_type": "display_data"
    },
    {
     "name": "stdout",
     "output_type": "stream",
     "text": [
      "Epoch [71/100], train_loss: -1.9486,  train_score: 0.9792,val_loss: -0.4847,  val_score: 0.4490\n"
     ]
    },
    {
     "data": {
      "application/vnd.jupyter.widget-view+json": {
       "model_id": "3ca1051228a3463892793764efab5498",
       "version_major": 2,
       "version_minor": 0
      },
      "text/plain": [
       "  0%|          | 0/14 [00:00<?, ?it/s]"
      ]
     },
     "metadata": {},
     "output_type": "display_data"
    },
    {
     "data": {
      "application/vnd.jupyter.widget-view+json": {
       "model_id": "583daab6c64a4b638f8446b18570c843",
       "version_major": 2,
       "version_minor": 0
      },
      "text/plain": [
       "  0%|          | 0/7 [00:00<?, ?it/s]"
      ]
     },
     "metadata": {},
     "output_type": "display_data"
    },
    {
     "name": "stdout",
     "output_type": "stream",
     "text": [
      "Epoch [72/100], train_loss: -1.9741,  train_score: 0.9804,val_loss: -0.4628,  val_score: 0.4495\n"
     ]
    },
    {
     "data": {
      "application/vnd.jupyter.widget-view+json": {
       "model_id": "3947b52fe3ce4b5d8a1fade3a35ee9ec",
       "version_major": 2,
       "version_minor": 0
      },
      "text/plain": [
       "  0%|          | 0/14 [00:00<?, ?it/s]"
      ]
     },
     "metadata": {},
     "output_type": "display_data"
    },
    {
     "data": {
      "application/vnd.jupyter.widget-view+json": {
       "model_id": "018e57b20cf140ecbfe56d0fe7e2291d",
       "version_major": 2,
       "version_minor": 0
      },
      "text/plain": [
       "  0%|          | 0/7 [00:00<?, ?it/s]"
      ]
     },
     "metadata": {},
     "output_type": "display_data"
    },
    {
     "name": "stdout",
     "output_type": "stream",
     "text": [
      "Epoch [73/100], train_loss: -1.9293,  train_score: 0.9800,val_loss: -0.4597,  val_score: 0.4495\n"
     ]
    },
    {
     "data": {
      "application/vnd.jupyter.widget-view+json": {
       "model_id": "f6f5b91987bc4cb6bbf2baf6e97c68fa",
       "version_major": 2,
       "version_minor": 0
      },
      "text/plain": [
       "  0%|          | 0/14 [00:00<?, ?it/s]"
      ]
     },
     "metadata": {},
     "output_type": "display_data"
    },
    {
     "data": {
      "application/vnd.jupyter.widget-view+json": {
       "model_id": "bb7731c9ef4f4d80802f21b2b16fd72a",
       "version_major": 2,
       "version_minor": 0
      },
      "text/plain": [
       "  0%|          | 0/7 [00:00<?, ?it/s]"
      ]
     },
     "metadata": {},
     "output_type": "display_data"
    },
    {
     "name": "stdout",
     "output_type": "stream",
     "text": [
      "Epoch [74/100], train_loss: -1.9993,  train_score: 0.9798,val_loss: -0.4690,  val_score: 0.4493\n"
     ]
    },
    {
     "data": {
      "application/vnd.jupyter.widget-view+json": {
       "model_id": "3063f72c8eb540faaa79db3f1a475df2",
       "version_major": 2,
       "version_minor": 0
      },
      "text/plain": [
       "  0%|          | 0/14 [00:00<?, ?it/s]"
      ]
     },
     "metadata": {},
     "output_type": "display_data"
    },
    {
     "data": {
      "application/vnd.jupyter.widget-view+json": {
       "model_id": "228f0d0b94d84f3e9020832a95f64d70",
       "version_major": 2,
       "version_minor": 0
      },
      "text/plain": [
       "  0%|          | 0/7 [00:00<?, ?it/s]"
      ]
     },
     "metadata": {},
     "output_type": "display_data"
    },
    {
     "name": "stdout",
     "output_type": "stream",
     "text": [
      "Epoch [75/100], train_loss: -1.9482,  train_score: 0.9804,val_loss: -0.4441,  val_score: 0.4493\n"
     ]
    },
    {
     "data": {
      "application/vnd.jupyter.widget-view+json": {
       "model_id": "b76a8b0966ed4a219455e53a76c1d33f",
       "version_major": 2,
       "version_minor": 0
      },
      "text/plain": [
       "  0%|          | 0/14 [00:00<?, ?it/s]"
      ]
     },
     "metadata": {},
     "output_type": "display_data"
    },
    {
     "data": {
      "application/vnd.jupyter.widget-view+json": {
       "model_id": "bd026034b6bc44a88a2e78cdc8054e56",
       "version_major": 2,
       "version_minor": 0
      },
      "text/plain": [
       "  0%|          | 0/7 [00:00<?, ?it/s]"
      ]
     },
     "metadata": {},
     "output_type": "display_data"
    },
    {
     "name": "stdout",
     "output_type": "stream",
     "text": [
      "Epoch [76/100], train_loss: -1.9740,  train_score: 0.9802,val_loss: -0.4429,  val_score: 0.4500\n"
     ]
    },
    {
     "data": {
      "application/vnd.jupyter.widget-view+json": {
       "model_id": "e774eb59b2a640449c9aff9c64e0a69e",
       "version_major": 2,
       "version_minor": 0
      },
      "text/plain": [
       "  0%|          | 0/14 [00:00<?, ?it/s]"
      ]
     },
     "metadata": {},
     "output_type": "display_data"
    },
    {
     "data": {
      "application/vnd.jupyter.widget-view+json": {
       "model_id": "7b5633086a8241808b8bbd33d7207c68",
       "version_major": 2,
       "version_minor": 0
      },
      "text/plain": [
       "  0%|          | 0/7 [00:00<?, ?it/s]"
      ]
     },
     "metadata": {},
     "output_type": "display_data"
    },
    {
     "name": "stdout",
     "output_type": "stream",
     "text": [
      "Epoch [77/100], train_loss: -1.9738,  train_score: 0.9805,val_loss: -0.4293,  val_score: 0.4500\n"
     ]
    },
    {
     "data": {
      "application/vnd.jupyter.widget-view+json": {
       "model_id": "ff46b75688e140a0a5a139584efb469f",
       "version_major": 2,
       "version_minor": 0
      },
      "text/plain": [
       "  0%|          | 0/14 [00:00<?, ?it/s]"
      ]
     },
     "metadata": {},
     "output_type": "display_data"
    },
    {
     "data": {
      "application/vnd.jupyter.widget-view+json": {
       "model_id": "c76557c0def54d55aa645104e9ed1737",
       "version_major": 2,
       "version_minor": 0
      },
      "text/plain": [
       "  0%|          | 0/7 [00:00<?, ?it/s]"
      ]
     },
     "metadata": {},
     "output_type": "display_data"
    },
    {
     "name": "stdout",
     "output_type": "stream",
     "text": [
      "Epoch [78/100], train_loss: -1.9997,  train_score: 0.9804,val_loss: -0.4397,  val_score: 0.4500\n"
     ]
    },
    {
     "data": {
      "application/vnd.jupyter.widget-view+json": {
       "model_id": "71d8306d3e6547459fd3af76e1993213",
       "version_major": 2,
       "version_minor": 0
      },
      "text/plain": [
       "  0%|          | 0/14 [00:00<?, ?it/s]"
      ]
     },
     "metadata": {},
     "output_type": "display_data"
    },
    {
     "data": {
      "application/vnd.jupyter.widget-view+json": {
       "model_id": "4ef8a52a9f9348cebdd73348945812a9",
       "version_major": 2,
       "version_minor": 0
      },
      "text/plain": [
       "  0%|          | 0/7 [00:00<?, ?it/s]"
      ]
     },
     "metadata": {},
     "output_type": "display_data"
    },
    {
     "name": "stdout",
     "output_type": "stream",
     "text": [
      "Epoch [79/100], train_loss: -1.9742,  train_score: 0.9805,val_loss: -0.4511,  val_score: 0.4500\n"
     ]
    },
    {
     "data": {
      "application/vnd.jupyter.widget-view+json": {
       "model_id": "bbb0e6eb07b74149baa9730de912b4d8",
       "version_major": 2,
       "version_minor": 0
      },
      "text/plain": [
       "  0%|          | 0/14 [00:00<?, ?it/s]"
      ]
     },
     "metadata": {},
     "output_type": "display_data"
    },
    {
     "data": {
      "application/vnd.jupyter.widget-view+json": {
       "model_id": "7d875ecb56824092b5bee84c57a80c62",
       "version_major": 2,
       "version_minor": 0
      },
      "text/plain": [
       "  0%|          | 0/7 [00:00<?, ?it/s]"
      ]
     },
     "metadata": {},
     "output_type": "display_data"
    },
    {
     "name": "stdout",
     "output_type": "stream",
     "text": [
      "Epoch [80/100], train_loss: -1.9729,  train_score: 0.9804,val_loss: -0.4565,  val_score: 0.4500\n"
     ]
    },
    {
     "data": {
      "application/vnd.jupyter.widget-view+json": {
       "model_id": "8898a852b57a45bc8dbef583deeac077",
       "version_major": 2,
       "version_minor": 0
      },
      "text/plain": [
       "  0%|          | 0/14 [00:00<?, ?it/s]"
      ]
     },
     "metadata": {},
     "output_type": "display_data"
    },
    {
     "data": {
      "application/vnd.jupyter.widget-view+json": {
       "model_id": "97cec40528e34119a47d53242dcecd90",
       "version_major": 2,
       "version_minor": 0
      },
      "text/plain": [
       "  0%|          | 0/7 [00:00<?, ?it/s]"
      ]
     },
     "metadata": {},
     "output_type": "display_data"
    },
    {
     "name": "stdout",
     "output_type": "stream",
     "text": [
      "Epoch [81/100], train_loss: -1.9471,  train_score: 0.9804,val_loss: -0.4425,  val_score: 0.4500\n"
     ]
    },
    {
     "data": {
      "application/vnd.jupyter.widget-view+json": {
       "model_id": "4996358f090b45e9a82eab54a25adad4",
       "version_major": 2,
       "version_minor": 0
      },
      "text/plain": [
       "  0%|          | 0/14 [00:00<?, ?it/s]"
      ]
     },
     "metadata": {},
     "output_type": "display_data"
    },
    {
     "data": {
      "application/vnd.jupyter.widget-view+json": {
       "model_id": "f0abb90fbc4e48a199b8438df8189377",
       "version_major": 2,
       "version_minor": 0
      },
      "text/plain": [
       "  0%|          | 0/7 [00:00<?, ?it/s]"
      ]
     },
     "metadata": {},
     "output_type": "display_data"
    },
    {
     "name": "stdout",
     "output_type": "stream",
     "text": [
      "Epoch [82/100], train_loss: -1.9483,  train_score: 0.9805,val_loss: -0.4457,  val_score: 0.4505\n"
     ]
    },
    {
     "data": {
      "application/vnd.jupyter.widget-view+json": {
       "model_id": "55661c6301294c0f8ece26cf05a3c5f0",
       "version_major": 2,
       "version_minor": 0
      },
      "text/plain": [
       "  0%|          | 0/14 [00:00<?, ?it/s]"
      ]
     },
     "metadata": {},
     "output_type": "display_data"
    },
    {
     "data": {
      "application/vnd.jupyter.widget-view+json": {
       "model_id": "bd7fc67b39934c4a85c69d3751cd3f43",
       "version_major": 2,
       "version_minor": 0
      },
      "text/plain": [
       "  0%|          | 0/7 [00:00<?, ?it/s]"
      ]
     },
     "metadata": {},
     "output_type": "display_data"
    },
    {
     "name": "stdout",
     "output_type": "stream",
     "text": [
      "Epoch [83/100], train_loss: -1.9466,  train_score: 0.9808,val_loss: -0.4461,  val_score: 0.4505\n"
     ]
    },
    {
     "data": {
      "application/vnd.jupyter.widget-view+json": {
       "model_id": "6309fe7c82944681b71637f744e65ef2",
       "version_major": 2,
       "version_minor": 0
      },
      "text/plain": [
       "  0%|          | 0/14 [00:00<?, ?it/s]"
      ]
     },
     "metadata": {},
     "output_type": "display_data"
    },
    {
     "data": {
      "application/vnd.jupyter.widget-view+json": {
       "model_id": "c3af46b55b8c47f3b3370ac8228c9f2e",
       "version_major": 2,
       "version_minor": 0
      },
      "text/plain": [
       "  0%|          | 0/7 [00:00<?, ?it/s]"
      ]
     },
     "metadata": {},
     "output_type": "display_data"
    },
    {
     "name": "stdout",
     "output_type": "stream",
     "text": [
      "Epoch [84/100], train_loss: -1.9738,  train_score: 0.9817,val_loss: -0.4551,  val_score: 0.4505\n"
     ]
    },
    {
     "data": {
      "application/vnd.jupyter.widget-view+json": {
       "model_id": "2b70445661d64869b1633db2611e0e9d",
       "version_major": 2,
       "version_minor": 0
      },
      "text/plain": [
       "  0%|          | 0/14 [00:00<?, ?it/s]"
      ]
     },
     "metadata": {},
     "output_type": "display_data"
    },
    {
     "data": {
      "application/vnd.jupyter.widget-view+json": {
       "model_id": "2e64155d2df44bf3bf301af54dd424e5",
       "version_major": 2,
       "version_minor": 0
      },
      "text/plain": [
       "  0%|          | 0/7 [00:00<?, ?it/s]"
      ]
     },
     "metadata": {},
     "output_type": "display_data"
    },
    {
     "name": "stdout",
     "output_type": "stream",
     "text": [
      "Epoch [85/100], train_loss: -1.9482,  train_score: 0.9815,val_loss: -0.4103,  val_score: 0.4506\n"
     ]
    },
    {
     "data": {
      "application/vnd.jupyter.widget-view+json": {
       "model_id": "df503c7c52c24c2bae0e69691d541532",
       "version_major": 2,
       "version_minor": 0
      },
      "text/plain": [
       "  0%|          | 0/14 [00:00<?, ?it/s]"
      ]
     },
     "metadata": {},
     "output_type": "display_data"
    },
    {
     "data": {
      "application/vnd.jupyter.widget-view+json": {
       "model_id": "4090abd980434c3c8dee6291c33a4e38",
       "version_major": 2,
       "version_minor": 0
      },
      "text/plain": [
       "  0%|          | 0/7 [00:00<?, ?it/s]"
      ]
     },
     "metadata": {},
     "output_type": "display_data"
    },
    {
     "name": "stdout",
     "output_type": "stream",
     "text": [
      "Epoch [86/100], train_loss: -1.9239,  train_score: 0.9816,val_loss: -0.4721,  val_score: 0.4506\n"
     ]
    },
    {
     "data": {
      "application/vnd.jupyter.widget-view+json": {
       "model_id": "412eb2b6cc5143df994c57ce6ef5a9a2",
       "version_major": 2,
       "version_minor": 0
      },
      "text/plain": [
       "  0%|          | 0/14 [00:00<?, ?it/s]"
      ]
     },
     "metadata": {},
     "output_type": "display_data"
    },
    {
     "data": {
      "application/vnd.jupyter.widget-view+json": {
       "model_id": "5ffe19e11445438d889e5af4b35be416",
       "version_major": 2,
       "version_minor": 0
      },
      "text/plain": [
       "  0%|          | 0/7 [00:00<?, ?it/s]"
      ]
     },
     "metadata": {},
     "output_type": "display_data"
    },
    {
     "name": "stdout",
     "output_type": "stream",
     "text": [
      "Epoch [87/100], train_loss: -1.9486,  train_score: 0.9817,val_loss: -0.4710,  val_score: 0.4508\n"
     ]
    },
    {
     "data": {
      "application/vnd.jupyter.widget-view+json": {
       "model_id": "adfe9a886d3148f0a1dbdb7b1e33effd",
       "version_major": 2,
       "version_minor": 0
      },
      "text/plain": [
       "  0%|          | 0/14 [00:00<?, ?it/s]"
      ]
     },
     "metadata": {},
     "output_type": "display_data"
    },
    {
     "data": {
      "application/vnd.jupyter.widget-view+json": {
       "model_id": "a9f8eab142f54fa6be6e6bd30fe1e9ca",
       "version_major": 2,
       "version_minor": 0
      },
      "text/plain": [
       "  0%|          | 0/7 [00:00<?, ?it/s]"
      ]
     },
     "metadata": {},
     "output_type": "display_data"
    },
    {
     "name": "stdout",
     "output_type": "stream",
     "text": [
      "Epoch [88/100], train_loss: -1.9739,  train_score: 0.9817,val_loss: -0.4364,  val_score: 0.4508\n"
     ]
    },
    {
     "data": {
      "application/vnd.jupyter.widget-view+json": {
       "model_id": "3e5ff79f15f3439eb92169764c606f1b",
       "version_major": 2,
       "version_minor": 0
      },
      "text/plain": [
       "  0%|          | 0/14 [00:00<?, ?it/s]"
      ]
     },
     "metadata": {},
     "output_type": "display_data"
    },
    {
     "data": {
      "application/vnd.jupyter.widget-view+json": {
       "model_id": "15055d07b0ca4b3290cadc8af911fa1b",
       "version_major": 2,
       "version_minor": 0
      },
      "text/plain": [
       "  0%|          | 0/7 [00:00<?, ?it/s]"
      ]
     },
     "metadata": {},
     "output_type": "display_data"
    },
    {
     "name": "stdout",
     "output_type": "stream",
     "text": [
      "Epoch [89/100], train_loss: -1.9985,  train_score: 0.9811,val_loss: -0.4637,  val_score: 0.4508\n"
     ]
    },
    {
     "data": {
      "application/vnd.jupyter.widget-view+json": {
       "model_id": "e3fd1e870fc14f40ae8462f33b6c51c6",
       "version_major": 2,
       "version_minor": 0
      },
      "text/plain": [
       "  0%|          | 0/14 [00:00<?, ?it/s]"
      ]
     },
     "metadata": {},
     "output_type": "display_data"
    },
    {
     "data": {
      "application/vnd.jupyter.widget-view+json": {
       "model_id": "ca9c45325fbe4154b41a613e9d478719",
       "version_major": 2,
       "version_minor": 0
      },
      "text/plain": [
       "  0%|          | 0/7 [00:00<?, ?it/s]"
      ]
     },
     "metadata": {},
     "output_type": "display_data"
    },
    {
     "name": "stdout",
     "output_type": "stream",
     "text": [
      "Epoch [90/100], train_loss: -1.9994,  train_score: 0.9817,val_loss: -0.4269,  val_score: 0.4508\n"
     ]
    },
    {
     "data": {
      "application/vnd.jupyter.widget-view+json": {
       "model_id": "62b2d592eb884f638f972399a2cc883e",
       "version_major": 2,
       "version_minor": 0
      },
      "text/plain": [
       "  0%|          | 0/14 [00:00<?, ?it/s]"
      ]
     },
     "metadata": {},
     "output_type": "display_data"
    },
    {
     "data": {
      "application/vnd.jupyter.widget-view+json": {
       "model_id": "6e9d95f5dc3440609cda9d915d15b557",
       "version_major": 2,
       "version_minor": 0
      },
      "text/plain": [
       "  0%|          | 0/7 [00:00<?, ?it/s]"
      ]
     },
     "metadata": {},
     "output_type": "display_data"
    },
    {
     "name": "stdout",
     "output_type": "stream",
     "text": [
      "Epoch [91/100], train_loss: -1.9995,  train_score: 0.9818,val_loss: -0.4103,  val_score: 0.4508\n"
     ]
    },
    {
     "data": {
      "application/vnd.jupyter.widget-view+json": {
       "model_id": "292dd52432d443dd8e1641858e287b38",
       "version_major": 2,
       "version_minor": 0
      },
      "text/plain": [
       "  0%|          | 0/14 [00:00<?, ?it/s]"
      ]
     },
     "metadata": {},
     "output_type": "display_data"
    },
    {
     "data": {
      "application/vnd.jupyter.widget-view+json": {
       "model_id": "43991acb90824040870c2f8b5d291aff",
       "version_major": 2,
       "version_minor": 0
      },
      "text/plain": [
       "  0%|          | 0/7 [00:00<?, ?it/s]"
      ]
     },
     "metadata": {},
     "output_type": "display_data"
    },
    {
     "name": "stdout",
     "output_type": "stream",
     "text": [
      "Epoch [92/100], train_loss: -1.8964,  train_score: 0.9821,val_loss: -0.4419,  val_score: 0.4508\n"
     ]
    },
    {
     "data": {
      "application/vnd.jupyter.widget-view+json": {
       "model_id": "2d849a50fdcf43c784a070eac74c5260",
       "version_major": 2,
       "version_minor": 0
      },
      "text/plain": [
       "  0%|          | 0/14 [00:00<?, ?it/s]"
      ]
     },
     "metadata": {},
     "output_type": "display_data"
    },
    {
     "data": {
      "application/vnd.jupyter.widget-view+json": {
       "model_id": "aa4954ba7d10405394728903e68b891e",
       "version_major": 2,
       "version_minor": 0
      },
      "text/plain": [
       "  0%|          | 0/7 [00:00<?, ?it/s]"
      ]
     },
     "metadata": {},
     "output_type": "display_data"
    },
    {
     "name": "stdout",
     "output_type": "stream",
     "text": [
      "Epoch [93/100], train_loss: -1.9482,  train_score: 0.9822,val_loss: -0.4788,  val_score: 0.4509\n"
     ]
    },
    {
     "data": {
      "application/vnd.jupyter.widget-view+json": {
       "model_id": "1d14992da6f947ee9fc76432c19e8955",
       "version_major": 2,
       "version_minor": 0
      },
      "text/plain": [
       "  0%|          | 0/14 [00:00<?, ?it/s]"
      ]
     },
     "metadata": {},
     "output_type": "display_data"
    },
    {
     "data": {
      "application/vnd.jupyter.widget-view+json": {
       "model_id": "05b97df7be11440aaeca3df161c0690b",
       "version_major": 2,
       "version_minor": 0
      },
      "text/plain": [
       "  0%|          | 0/7 [00:00<?, ?it/s]"
      ]
     },
     "metadata": {},
     "output_type": "display_data"
    },
    {
     "name": "stdout",
     "output_type": "stream",
     "text": [
      "Epoch [94/100], train_loss: -1.9740,  train_score: 0.9822,val_loss: -0.4574,  val_score: 0.4509\n"
     ]
    },
    {
     "data": {
      "application/vnd.jupyter.widget-view+json": {
       "model_id": "e16d788e54db4c0094664d5995aff221",
       "version_major": 2,
       "version_minor": 0
      },
      "text/plain": [
       "  0%|          | 0/14 [00:00<?, ?it/s]"
      ]
     },
     "metadata": {},
     "output_type": "display_data"
    },
    {
     "data": {
      "application/vnd.jupyter.widget-view+json": {
       "model_id": "eb0a5809998f4578a5a6b17fae840807",
       "version_major": 2,
       "version_minor": 0
      },
      "text/plain": [
       "  0%|          | 0/7 [00:00<?, ?it/s]"
      ]
     },
     "metadata": {},
     "output_type": "display_data"
    },
    {
     "name": "stdout",
     "output_type": "stream",
     "text": [
      "Epoch [95/100], train_loss: -1.9997,  train_score: 0.9821,val_loss: -0.4598,  val_score: 0.4509\n"
     ]
    },
    {
     "data": {
      "application/vnd.jupyter.widget-view+json": {
       "model_id": "d6a9fc3c62f646618024d8af438ac4a7",
       "version_major": 2,
       "version_minor": 0
      },
      "text/plain": [
       "  0%|          | 0/14 [00:00<?, ?it/s]"
      ]
     },
     "metadata": {},
     "output_type": "display_data"
    },
    {
     "data": {
      "application/vnd.jupyter.widget-view+json": {
       "model_id": "2959af3b72cf41829c7ad692d7e185f8",
       "version_major": 2,
       "version_minor": 0
      },
      "text/plain": [
       "  0%|          | 0/7 [00:00<?, ?it/s]"
      ]
     },
     "metadata": {},
     "output_type": "display_data"
    },
    {
     "name": "stdout",
     "output_type": "stream",
     "text": [
      "Epoch [96/100], train_loss: -1.9227,  train_score: 0.9827,val_loss: -0.4624,  val_score: 0.4509\n"
     ]
    },
    {
     "data": {
      "application/vnd.jupyter.widget-view+json": {
       "model_id": "66c5b157c7ae4ed5b743322790f474d9",
       "version_major": 2,
       "version_minor": 0
      },
      "text/plain": [
       "  0%|          | 0/14 [00:00<?, ?it/s]"
      ]
     },
     "metadata": {},
     "output_type": "display_data"
    },
    {
     "data": {
      "application/vnd.jupyter.widget-view+json": {
       "model_id": "1c2782e128b447d19e01cfdca9275232",
       "version_major": 2,
       "version_minor": 0
      },
      "text/plain": [
       "  0%|          | 0/7 [00:00<?, ?it/s]"
      ]
     },
     "metadata": {},
     "output_type": "display_data"
    },
    {
     "name": "stdout",
     "output_type": "stream",
     "text": [
      "Epoch [97/100], train_loss: -1.9230,  train_score: 0.9827,val_loss: -0.4415,  val_score: 0.4509\n"
     ]
    },
    {
     "data": {
      "application/vnd.jupyter.widget-view+json": {
       "model_id": "660b07d824a54a6ab1a57baf6e674356",
       "version_major": 2,
       "version_minor": 0
      },
      "text/plain": [
       "  0%|          | 0/14 [00:00<?, ?it/s]"
      ]
     },
     "metadata": {},
     "output_type": "display_data"
    },
    {
     "data": {
      "application/vnd.jupyter.widget-view+json": {
       "model_id": "09655d7149f54eb48d3766d0e2b31bc5",
       "version_major": 2,
       "version_minor": 0
      },
      "text/plain": [
       "  0%|          | 0/7 [00:00<?, ?it/s]"
      ]
     },
     "metadata": {},
     "output_type": "display_data"
    },
    {
     "name": "stdout",
     "output_type": "stream",
     "text": [
      "Epoch [98/100], train_loss: -1.9743,  train_score: 0.9824,val_loss: -0.4672,  val_score: 0.4509\n"
     ]
    },
    {
     "data": {
      "application/vnd.jupyter.widget-view+json": {
       "model_id": "6c0b5849ab0b4803af6ecb111d5bfb78",
       "version_major": 2,
       "version_minor": 0
      },
      "text/plain": [
       "  0%|          | 0/14 [00:00<?, ?it/s]"
      ]
     },
     "metadata": {},
     "output_type": "display_data"
    },
    {
     "data": {
      "application/vnd.jupyter.widget-view+json": {
       "model_id": "f51025241f034fe898ce271355aae12c",
       "version_major": 2,
       "version_minor": 0
      },
      "text/plain": [
       "  0%|          | 0/7 [00:00<?, ?it/s]"
      ]
     },
     "metadata": {},
     "output_type": "display_data"
    },
    {
     "name": "stdout",
     "output_type": "stream",
     "text": [
      "Epoch [99/100], train_loss: -1.9743,  train_score: 0.9825,val_loss: -0.4533,  val_score: 0.4509\n"
     ]
    },
    {
     "data": {
      "application/vnd.jupyter.widget-view+json": {
       "model_id": "0815c657757a4914b28a9fdfa3671b42",
       "version_major": 2,
       "version_minor": 0
      },
      "text/plain": [
       "  0%|          | 0/14 [00:00<?, ?it/s]"
      ]
     },
     "metadata": {},
     "output_type": "display_data"
    },
    {
     "data": {
      "application/vnd.jupyter.widget-view+json": {
       "model_id": "5f690068a2ec438890f43e61a2f6dbb0",
       "version_major": 2,
       "version_minor": 0
      },
      "text/plain": [
       "  0%|          | 0/7 [00:00<?, ?it/s]"
      ]
     },
     "metadata": {},
     "output_type": "display_data"
    },
    {
     "name": "stdout",
     "output_type": "stream",
     "text": [
      "Epoch [100/100], train_loss: -1.9890,  train_score: 0.9830,val_loss: -0.4553,  val_score: 0.4513\n"
     ]
    }
   ],
   "source": [
    "\n",
    "_ = fit(100,dataloaders,optimizer,model)"
   ]
  },
  {
   "cell_type": "code",
   "execution_count": 161,
   "metadata": {},
   "outputs": [
    {
     "name": "stderr",
     "output_type": "stream",
     "text": [
      "/tmp/ipykernel_3949/509102700.py:34: UserWarning: Implicit dimension choice for softmax has been deprecated. Change the call to include dim=X as an argument.\n",
      "  x_genus = torch.nn.functional.softmax(x)\n"
     ]
    }
   ],
   "source": [
    "with torch.no_grad():\n",
    "    model.eval()\n",
    "    val_predicted_probs,val_predicted_probs_genus = model(d_val.data.cuda())"
   ]
  },
  {
   "cell_type": "code",
   "execution_count": 162,
   "metadata": {},
   "outputs": [
    {
     "data": {
      "text/plain": [
       "tensor([8.4906e-05, 9.9973e-01, 1.0059e-09,  ..., 2.4708e-12, 6.3747e-12,\n",
       "        7.1933e-14], device='cuda:0')"
      ]
     },
     "execution_count": 162,
     "metadata": {},
     "output_type": "execute_result"
    }
   ],
   "source": [
    "val_predicted_probs[0]"
   ]
  },
  {
   "cell_type": "code",
   "execution_count": 163,
   "metadata": {},
   "outputs": [],
   "source": [
    "val_predicted_probs = val_predicted_probs.cpu()\n",
    "val_predicted_probs_genus = val_predicted_probs_genus.cpu()"
   ]
  },
  {
   "cell_type": "code",
   "execution_count": 164,
   "metadata": {},
   "outputs": [
    {
     "data": {
      "text/plain": [
       "tensor(1.0000)"
      ]
     },
     "execution_count": 164,
     "metadata": {},
     "output_type": "execute_result"
    }
   ],
   "source": [
    "val_predicted_probs[4].max()"
   ]
  },
  {
   "cell_type": "code",
   "execution_count": 165,
   "metadata": {},
   "outputs": [
    {
     "data": {
      "text/plain": [
       "torch.return_types.topk(\n",
       "values=tensor([9.9998e-01, 4.1270e-06, 1.9110e-06]),\n",
       "indices=tensor([  2,   3, 380]))"
      ]
     },
     "execution_count": 165,
     "metadata": {},
     "output_type": "execute_result"
    }
   ],
   "source": [
    "val_predicted_probs[4].topk(3)"
   ]
  },
  {
   "cell_type": "code",
   "execution_count": 166,
   "metadata": {},
   "outputs": [
    {
     "data": {
      "text/plain": [
       "tensor(2)"
      ]
     },
     "execution_count": 166,
     "metadata": {},
     "output_type": "execute_result"
    }
   ],
   "source": [
    "image_val_labels[4]"
   ]
  },
  {
   "cell_type": "code",
   "execution_count": 167,
   "metadata": {},
   "outputs": [
    {
     "data": {
      "text/plain": [
       "[<matplotlib.lines.Line2D at 0x7de5105cf5c0>]"
      ]
     },
     "execution_count": 167,
     "metadata": {},
     "output_type": "execute_result"
    },
    {
     "data": {
      "image/png": "[encoded data removed]",
      "text/plain": [
       "<Figure size 640x480 with 1 Axes>"
      ]
     },
     "metadata": {},
     "output_type": "display_data"
    }
   ],
   "source": [
    "plt.plot(val_predicted_probs[4].cpu())"
   ]
  },
  {
   "cell_type": "code",
   "execution_count": 168,
   "metadata": {},
   "outputs": [],
   "source": [
    "\n",
    "val_predicted_labels = val_predicted_probs.argmax(axis=1)\n",
    "val_predicted_labels_genus = val_predicted_probs_genus.argmax(axis=1)"
   ]
  },
  {
   "cell_type": "code",
   "execution_count": 169,
   "metadata": {},
   "outputs": [
    {
     "name": "stdout",
     "output_type": "stream",
     "text": [
      "tensor(2)\n",
      "tensor(2)\n"
     ]
    }
   ],
   "source": [
    "print(val_predicted_labels[4])\n",
    "print(image_val_labels[4])"
   ]
  },
  {
   "cell_type": "code",
   "execution_count": null,
   "metadata": {},
   "outputs": [],
   "source": []
  },
  {
   "cell_type": "code",
   "execution_count": 170,
   "metadata": {},
   "outputs": [],
   "source": [
    "    #val_predicted_probs -= val_predicted_probs.min(dim=1).values.unsqueeze(1)\n",
    "    \n",
    "    #val_predicted_probs = val_predicted_probs/(val_predicted_probs.sum(dim=1).unsqueeze(1))\n",
    "    #val_predicted_probs = val_predicted_probs.cpu().numpy()"
   ]
  },
  {
   "cell_type": "code",
   "execution_count": 171,
   "metadata": {},
   "outputs": [
    {
     "name": "stdout",
     "output_type": "stream",
     "text": [
      "tensor(9.7920e-16)\n",
      "tensor(1.0000)\n"
     ]
    }
   ],
   "source": [
    "print(val_predicted_probs[10].min())\n",
    "print(val_predicted_probs[10].sum())"
   ]
  },
  {
   "cell_type": "code",
   "execution_count": 172,
   "metadata": {},
   "outputs": [],
   "source": [
    "image_val_labels = image_val_labels.type(torch.LongTensor)"
   ]
  },
  {
   "cell_type": "code",
   "execution_count": 173,
   "metadata": {},
   "outputs": [
    {
     "data": {
      "text/plain": [
       "tensor([   1,    1,    2,  ..., 1049, 1049, 1049])"
      ]
     },
     "execution_count": 173,
     "metadata": {},
     "output_type": "execute_result"
    }
   ],
   "source": [
    "val_predicted_labels"
   ]
  },
  {
   "cell_type": "markdown",
   "metadata": {},
   "source": [
    "# Secondo top2 method"
   ]
  },
  {
   "cell_type": "code",
   "execution_count": 174,
   "metadata": {},
   "outputs": [
    {
     "name": "stderr",
     "output_type": "stream",
     "text": [
      "/tmp/ipykernel_3949/3974386884.py:23: UserWarning: To copy construct from a tensor, it is recommended to use sourceTensor.clone().detach() or sourceTensor.clone().detach().requires_grad_(True), rather than torch.tensor(sourceTensor).\n",
      "  top2 = torch.tensor(val_predicted_probs[i]).topk(2)#ATTENZIONE QUA E' DIVERSO\n"
     ]
    }
   ],
   "source": [
    "tprs = []\n",
    "fprs = []\n",
    "correct_genus_rate = []\n",
    "correct_species_rate = []\n",
    "thresholds = []\n",
    "possible_thresholds = [x / 1000 for x in range(900, 1000, 1)]\n",
    "for t in possible_thresholds:#ATTENZIONE QUA E' DIVERSO\n",
    "    entropy_threshold = t\n",
    "    thresholds.append(entropy_threshold)\n",
    "    #print(val_predicted_probs.shape)\n",
    "    n_undescribed_samples = 0\n",
    "    n_described_samples = 0\n",
    "    n_correct_undescribed_samples = 0\n",
    "    n_correct_described_samples = 0\n",
    "    n_correct_genus = 0 \n",
    "    n_correct_species = 0 \n",
    "    for i in range(len(image_val_labels)):\n",
    "        label_best_specie = val_predicted_labels[i]\n",
    "       \n",
    "        #assert(val_predicted_labels[i]==val_predicted_probs[i].argmax())\n",
    "        genus_of_best_species = species2genus[label_best_specie.item()]\n",
    "\n",
    "        top2 = torch.tensor(val_predicted_probs[i]).topk(2)#ATTENZIONE QUA E' DIVERSO\n",
    "        #print(top2)\n",
    "        if (top2.values[0]-top2.values[1]) > 1.01*entropy_threshold*top2.values[0]:#species \n",
    "            if image_val_labels[i].item() in described_species_labels:#i needed to guess species\n",
    "                n_described_samples +=1\n",
    "                if label_best_specie == image_val_labels[i]:#guessed species is correct\n",
    "                    #n_correct_described_samples+=1\n",
    "                    n_correct_species+=1\n",
    "            else:# i needed to guess genus\n",
    "                n_undescribed_samples+=1\n",
    "        else:#genus\n",
    "            if image_val_labels[i].item() in described_species_labels:#i needed to guess species\n",
    "                n_described_samples +=1\n",
    "            else:# i needed to guess genus\n",
    "                n_undescribed_samples+=1\n",
    "                #if genus_of_best_species == species2genus[image_val_labels[i]]:#guessed genus is correct\n",
    "                #ATTENZIONE QUA E' DIVERSO\n",
    "                if val_predicted_labels_genus[i].item() == species2genus[image_val_labels[i]].item():#guessed genus is correct\n",
    "                    #n_correct_described_samples+=1\n",
    "                    n_correct_genus+=1\n",
    "            \n",
    "    tprs.append(n_correct_undescribed_samples/n_undescribed_samples) # TPR = recall = sensitivity\n",
    "    fprs.append(1-n_correct_described_samples/n_described_samples) # 1-TNR = 1 - specificity\n",
    "    correct_genus_rate.append(n_correct_genus/n_undescribed_samples)\n",
    "    correct_species_rate.append(n_correct_species/n_described_samples)"
   ]
  },
  {
   "cell_type": "code",
   "execution_count": 175,
   "metadata": {
    "scrolled": true
   },
   "outputs": [
    {
     "name": "stdout",
     "output_type": "stream",
     "text": [
      "0\n",
      "0.5159903251814029\n",
      "0.9696969696969697\n",
      "\n",
      "\n",
      "\n",
      "1\n",
      "0.5165278151034668\n",
      "0.9696969696969697\n",
      "\n",
      "\n",
      "\n",
      "2\n",
      "0.5181402848696587\n",
      "0.9696969696969697\n",
      "\n",
      "\n",
      "\n",
      "3\n",
      "0.5184090298306907\n",
      "0.9696969696969697\n",
      "\n",
      "\n",
      "\n",
      "4\n",
      "0.5189465197527546\n",
      "0.9696969696969697\n",
      "\n",
      "\n",
      "\n",
      "5\n",
      "0.5192152647137867\n",
      "0.9696969696969697\n",
      "\n",
      "\n",
      "\n",
      "6\n",
      "0.5200214995968826\n",
      "0.9696969696969697\n",
      "\n",
      "\n",
      "\n",
      "7\n",
      "0.5219027143241064\n",
      "0.9696969696969697\n",
      "\n",
      "\n",
      "\n",
      "8\n",
      "0.5232464391292663\n",
      "0.9696969696969697\n",
      "\n",
      "\n",
      "\n",
      "9\n",
      "0.5237839290513303\n",
      "0.9696969696969697\n",
      "\n",
      "\n",
      "\n",
      "10\n",
      "0.5243214189733942\n",
      "0.9696969696969697\n",
      "\n",
      "\n",
      "\n",
      "11\n",
      "0.5256651437785541\n",
      "0.9693877551020408\n",
      "\n",
      "\n",
      "\n",
      "12\n",
      "0.5267401236226821\n",
      "0.9693877551020408\n",
      "\n",
      "\n",
      "\n",
      "13\n",
      "0.5270088685837141\n",
      "0.9693877551020408\n",
      "\n",
      "\n",
      "\n",
      "14\n",
      "0.528083848427842\n",
      "0.9693877551020408\n",
      "\n",
      "\n",
      "\n",
      "15\n",
      "0.5302338081160978\n",
      "0.9693877551020408\n",
      "\n",
      "\n",
      "\n",
      "16\n",
      "0.5315775329212578\n",
      "0.9693877551020408\n",
      "\n",
      "\n",
      "\n",
      "17\n",
      "0.5323837678043537\n",
      "0.9693877551020408\n",
      "\n",
      "\n",
      "\n",
      "18\n",
      "0.5350712174146735\n",
      "0.969078540507112\n",
      "\n",
      "\n",
      "\n",
      "19\n",
      "0.5366836871808653\n",
      "0.969078540507112\n",
      "\n",
      "\n",
      "\n",
      "20\n",
      "0.5388336468691212\n",
      "0.969078540507112\n",
      "\n",
      "\n",
      "\n",
      "21\n",
      "0.541521096479441\n",
      "0.969078540507112\n",
      "\n",
      "\n",
      "\n",
      "22\n",
      "0.542596076323569\n",
      "0.969078540507112\n",
      "\n",
      "\n",
      "\n",
      "23\n",
      "0.5436710561676968\n",
      "0.969078540507112\n",
      "\n",
      "\n",
      "\n",
      "24\n",
      "0.5463585057780167\n",
      "0.969078540507112\n",
      "\n",
      "\n",
      "\n",
      "25\n",
      "0.5479709755442086\n",
      "0.968769325912183\n",
      "\n",
      "\n",
      "\n",
      "26\n",
      "0.5501209352324644\n",
      "0.968769325912183\n",
      "\n",
      "\n",
      "\n",
      "27\n",
      "0.5517334049986563\n",
      "0.968769325912183\n",
      "\n",
      "\n",
      "\n",
      "28\n",
      "0.5530771298038162\n",
      "0.968769325912183\n",
      "\n",
      "\n",
      "\n",
      "29\n",
      "0.555227089492072\n",
      "0.968769325912183\n",
      "\n",
      "\n",
      "\n",
      "30\n",
      "0.5571083042192959\n",
      "0.968769325912183\n",
      "\n",
      "\n",
      "\n",
      "31\n",
      "0.5597957538296157\n",
      "0.968769325912183\n",
      "\n",
      "\n",
      "\n",
      "32\n",
      "0.5619457135178716\n",
      "0.968769325912183\n",
      "\n",
      "\n",
      "\n",
      "33\n",
      "0.5638269282450954\n",
      "0.968769325912183\n",
      "\n",
      "\n",
      "\n",
      "34\n",
      "0.5662456328943832\n",
      "0.968769325912183\n",
      "\n",
      "\n",
      "\n",
      "35\n",
      "0.5665143778554153\n",
      "0.9684601113172542\n",
      "\n",
      "\n",
      "\n",
      "36\n",
      "0.5689330825047031\n",
      "0.9684601113172542\n",
      "\n",
      "\n",
      "\n",
      "37\n",
      "0.5708142972319269\n",
      "0.9681508967223253\n",
      "\n",
      "\n",
      "\n",
      "38\n",
      "0.5726955119591508\n",
      "0.9681508967223253\n",
      "\n",
      "\n",
      "\n",
      "39\n",
      "0.5743079817253427\n",
      "0.9681508967223253\n",
      "\n",
      "\n",
      "\n",
      "40\n",
      "0.5761891964525665\n",
      "0.9681508967223253\n",
      "\n",
      "\n",
      "\n",
      "41\n",
      "0.5791453910239183\n",
      "0.9678416821273964\n",
      "\n",
      "\n",
      "\n",
      "42\n",
      "0.5812953507121742\n",
      "0.9678416821273964\n",
      "\n",
      "\n",
      "\n",
      "43\n",
      "0.583176565439398\n",
      "0.9678416821273964\n",
      "\n",
      "\n",
      "\n",
      "44\n",
      "0.5847890352055899\n",
      "0.9678416821273964\n",
      "\n",
      "\n",
      "\n",
      "45\n",
      "0.5864015049717818\n",
      "0.9678416821273964\n",
      "\n",
      "\n",
      "\n",
      "46\n",
      "0.5880139747379737\n",
      "0.9678416821273964\n",
      "\n",
      "\n",
      "\n",
      "47\n",
      "0.5901639344262295\n",
      "0.9678416821273964\n",
      "\n",
      "\n",
      "\n",
      "48\n",
      "0.5925826390755173\n",
      "0.9678416821273964\n",
      "\n",
      "\n",
      "\n",
      "49\n",
      "0.5947325987637732\n",
      "0.9678416821273964\n",
      "\n",
      "\n",
      "\n",
      "50\n",
      "0.597151303413061\n",
      "0.9678416821273964\n",
      "\n",
      "\n",
      "\n",
      "51\n",
      "0.6006449879064768\n",
      "0.9675324675324676\n",
      "\n",
      "\n",
      "\n",
      "52\n",
      "0.6025262026337006\n",
      "0.9675324675324676\n",
      "\n",
      "\n",
      "\n",
      "53\n",
      "0.6046761623219564\n",
      "0.9675324675324676\n",
      "\n",
      "\n",
      "\n",
      "54\n",
      "0.6057511421660844\n",
      "0.9675324675324676\n",
      "\n",
      "\n",
      "\n",
      "55\n",
      "0.6081698468153722\n",
      "0.9675324675324676\n",
      "\n",
      "\n",
      "\n",
      "56\n",
      "0.611394786347756\n",
      "0.9675324675324676\n",
      "\n",
      "\n",
      "\n",
      "57\n",
      "0.6130072561139479\n",
      "0.9675324675324676\n",
      "\n",
      "\n",
      "\n",
      "58\n",
      "0.6162321956463316\n",
      "0.9675324675324676\n",
      "\n",
      "\n",
      "\n",
      "59\n",
      "0.6194571351787154\n",
      "0.9675324675324676\n",
      "\n",
      "\n",
      "\n",
      "60\n",
      "0.6221445847890352\n",
      "0.9675324675324676\n",
      "\n",
      "\n",
      "\n",
      "61\n",
      "0.6245632894383231\n",
      "0.9675324675324676\n",
      "\n",
      "\n",
      "\n",
      "62\n",
      "0.6277882289707069\n",
      "0.9675324675324676\n",
      "\n",
      "\n",
      "\n",
      "63\n",
      "0.6310131685030905\n",
      "0.9675324675324676\n",
      "\n",
      "\n",
      "\n",
      "64\n",
      "0.6337006181134104\n",
      "0.9675324675324676\n",
      "\n",
      "\n",
      "\n",
      "65\n",
      "0.6377317925288901\n",
      "0.9675324675324676\n",
      "\n",
      "\n",
      "\n",
      "66\n",
      "0.6423004568664338\n",
      "0.9669140383426098\n",
      "\n",
      "\n",
      "\n",
      "67\n",
      "0.6447191615157216\n",
      "0.9666048237476809\n",
      "\n",
      "\n",
      "\n",
      "68\n",
      "0.6506315506584252\n",
      "0.9666048237476809\n",
      "\n",
      "\n",
      "\n",
      "69\n",
      "0.6535877452297769\n",
      "0.9666048237476809\n",
      "\n",
      "\n",
      "\n",
      "70\n",
      "0.6576189196452566\n",
      "0.9666048237476809\n",
      "\n",
      "\n",
      "\n",
      "71\n",
      "0.6600376242945445\n",
      "0.966295609152752\n",
      "\n",
      "\n",
      "\n",
      "72\n",
      "0.6648750335931202\n",
      "0.966295609152752\n",
      "\n",
      "\n",
      "\n",
      "73\n",
      "0.6702499328137598\n",
      "0.9659863945578231\n",
      "\n",
      "\n",
      "\n",
      "74\n",
      "0.6753560870733674\n",
      "0.9653679653679653\n",
      "\n",
      "\n",
      "\n",
      "75\n",
      "0.680999731255039\n",
      "0.9653679653679653\n",
      "\n",
      "\n",
      "\n",
      "76\n",
      "0.6852996506315506\n",
      "0.9653679653679653\n",
      "\n",
      "\n",
      "\n",
      "77\n",
      "0.6895995700080624\n",
      "0.9650587507730365\n",
      "\n",
      "\n",
      "\n",
      "78\n",
      "0.69470572426767\n",
      "0.9647495361781077\n",
      "\n",
      "\n",
      "\n",
      "79\n",
      "0.7046492878258532\n",
      "0.9641311069882499\n",
      "\n",
      "\n",
      "\n",
      "80\n",
      "0.7113679118516528\n",
      "0.9635126777983921\n",
      "\n",
      "\n",
      "\n",
      "81\n",
      "0.7159365761891965\n",
      "0.9622758194186766\n",
      "\n",
      "\n",
      "\n",
      "82\n",
      "0.7218489653319\n",
      "0.9619666048237476\n",
      "\n",
      "\n",
      "\n",
      "83\n",
      "0.7280300994356356\n",
      "0.961038961038961\n",
      "\n",
      "\n",
      "\n",
      "84\n",
      "0.7317925288900833\n",
      "0.9604205318491033\n",
      "\n",
      "\n",
      "\n",
      "85\n",
      "0.7385111529158829\n",
      "0.9601113172541744\n",
      "\n",
      "\n",
      "\n",
      "86\n",
      "0.7444235420585864\n",
      "0.9598021026592455\n",
      "\n",
      "\n",
      "\n",
      "87\n",
      "0.750604676162322\n",
      "0.9594928880643167\n",
      "\n",
      "\n",
      "\n",
      "88\n",
      "0.7600107497984413\n",
      "0.9582560296846011\n",
      "\n",
      "\n",
      "\n",
      "89\n",
      "0.7772104273044881\n",
      "0.95578231292517\n",
      "\n",
      "\n",
      "\n",
      "90\n",
      "0.8341843590432679\n",
      "0.9267161410018553\n",
      "\n",
      "\n",
      "\n",
      "91\n",
      "0.8903520558989519\n",
      "0.0\n",
      "\n",
      "\n",
      "\n",
      "92\n",
      "0.8903520558989519\n",
      "0.0\n",
      "\n",
      "\n",
      "\n",
      "93\n",
      "0.8903520558989519\n",
      "0.0\n",
      "\n",
      "\n",
      "\n",
      "94\n",
      "0.8903520558989519\n",
      "0.0\n",
      "\n",
      "\n",
      "\n",
      "95\n",
      "0.8903520558989519\n",
      "0.0\n",
      "\n",
      "\n",
      "\n",
      "96\n",
      "0.8903520558989519\n",
      "0.0\n",
      "\n",
      "\n",
      "\n",
      "97\n",
      "0.8903520558989519\n",
      "0.0\n",
      "\n",
      "\n",
      "\n",
      "98\n",
      "0.8903520558989519\n",
      "0.0\n",
      "\n",
      "\n",
      "\n",
      "99\n",
      "0.8903520558989519\n",
      "0.0\n",
      "\n",
      "\n",
      "\n"
     ]
    }
   ],
   "source": [
    "for index in range(0,len(correct_genus_rate),1):\n",
    "    print(index)\n",
    "    print(correct_genus_rate[index])\n",
    "    print(correct_species_rate[index])\n",
    "    print('\\n\\n')"
   ]
  },
  {
   "cell_type": "code",
   "execution_count": 176,
   "metadata": {},
   "outputs": [
    {
     "data": {
      "text/plain": [
       "[<matplotlib.lines.Line2D at 0x7de634df3b60>]"
      ]
     },
     "execution_count": 176,
     "metadata": {},
     "output_type": "execute_result"
    },
    {
     "data": {
      "image/png": "[encoded data removed]",
      "text/plain": [
       "<Figure size 640x480 with 1 Axes>"
      ]
     },
     "metadata": {},
     "output_type": "display_data"
    }
   ],
   "source": [
    "plt.plot(correct_genus_rate[-20:])\n",
    "plt.plot(correct_species_rate[-20:])"
   ]
  },
  {
   "cell_type": "code",
   "execution_count": 177,
   "metadata": {},
   "outputs": [
    {
     "data": {
      "text/plain": [
       "3721"
      ]
     },
     "execution_count": 177,
     "metadata": {},
     "output_type": "execute_result"
    }
   ],
   "source": [
    "n_undescribed_samples"
   ]
  },
  {
   "cell_type": "code",
   "execution_count": 52,
   "metadata": {},
   "outputs": [
    {
     "ename": "Exception",
     "evalue": "",
     "output_type": "error",
     "traceback": [
      "\u001b[0;31m---------------------------------------------------------------------------\u001b[0m",
      "\u001b[0;31mException\u001b[0m                                 Traceback (most recent call last)",
      "Cell \u001b[0;32mIn[52], line 1\u001b[0m\n\u001b[0;32m----> 1\u001b[0m \u001b[38;5;28;01mraise\u001b[39;00m \u001b[38;5;167;01mException\u001b[39;00m\n",
      "\u001b[0;31mException\u001b[0m: "
     ]
    }
   ],
   "source": [
    "raise Exception"
   ]
  },
  {
   "cell_type": "code",
   "execution_count": 53,
   "metadata": {
    "scrolled": true
   },
   "outputs": [
    {
     "data": {
      "text/plain": [
       "[0.0,\n",
       " 0.001,\n",
       " 0.002,\n",
       " 0.003,\n",
       " 0.004,\n",
       " 0.005,\n",
       " 0.006,\n",
       " 0.007,\n",
       " 0.008,\n",
       " 0.009,\n",
       " 0.01,\n",
       " 0.011,\n",
       " 0.012,\n",
       " 0.013,\n",
       " 0.014,\n",
       " 0.015,\n",
       " 0.016,\n",
       " 0.017,\n",
       " 0.018,\n",
       " 0.019,\n",
       " 0.02,\n",
       " 0.021,\n",
       " 0.022,\n",
       " 0.023,\n",
       " 0.024,\n",
       " 0.025,\n",
       " 0.026,\n",
       " 0.027,\n",
       " 0.028,\n",
       " 0.029,\n",
       " 0.03,\n",
       " 0.031,\n",
       " 0.032,\n",
       " 0.033,\n",
       " 0.034,\n",
       " 0.035,\n",
       " 0.036,\n",
       " 0.037,\n",
       " 0.038,\n",
       " 0.039,\n",
       " 0.04,\n",
       " 0.041,\n",
       " 0.042,\n",
       " 0.043,\n",
       " 0.044,\n",
       " 0.045,\n",
       " 0.046,\n",
       " 0.047,\n",
       " 0.048,\n",
       " 0.049,\n",
       " 0.05,\n",
       " 0.051,\n",
       " 0.052,\n",
       " 0.053,\n",
       " 0.054,\n",
       " 0.055,\n",
       " 0.056,\n",
       " 0.057,\n",
       " 0.058,\n",
       " 0.059,\n",
       " 0.06,\n",
       " 0.061,\n",
       " 0.062,\n",
       " 0.063,\n",
       " 0.064,\n",
       " 0.065,\n",
       " 0.066,\n",
       " 0.067,\n",
       " 0.068,\n",
       " 0.069,\n",
       " 0.07,\n",
       " 0.071,\n",
       " 0.072,\n",
       " 0.073,\n",
       " 0.074,\n",
       " 0.075,\n",
       " 0.076,\n",
       " 0.077,\n",
       " 0.078,\n",
       " 0.079,\n",
       " 0.08,\n",
       " 0.081,\n",
       " 0.082,\n",
       " 0.083,\n",
       " 0.084,\n",
       " 0.085,\n",
       " 0.086,\n",
       " 0.087,\n",
       " 0.088,\n",
       " 0.089,\n",
       " 0.09,\n",
       " 0.091,\n",
       " 0.092,\n",
       " 0.093,\n",
       " 0.094,\n",
       " 0.095,\n",
       " 0.096,\n",
       " 0.097,\n",
       " 0.098,\n",
       " 0.099,\n",
       " 0.1,\n",
       " 0.101,\n",
       " 0.102,\n",
       " 0.103,\n",
       " 0.104,\n",
       " 0.105,\n",
       " 0.106,\n",
       " 0.107,\n",
       " 0.108,\n",
       " 0.109,\n",
       " 0.11,\n",
       " 0.111,\n",
       " 0.112,\n",
       " 0.113,\n",
       " 0.114,\n",
       " 0.115,\n",
       " 0.116,\n",
       " 0.117,\n",
       " 0.118,\n",
       " 0.119,\n",
       " 0.12,\n",
       " 0.121,\n",
       " 0.122,\n",
       " 0.123,\n",
       " 0.124,\n",
       " 0.125,\n",
       " 0.126,\n",
       " 0.127,\n",
       " 0.128,\n",
       " 0.129,\n",
       " 0.13,\n",
       " 0.131,\n",
       " 0.132,\n",
       " 0.133,\n",
       " 0.134,\n",
       " 0.135,\n",
       " 0.136,\n",
       " 0.137,\n",
       " 0.138,\n",
       " 0.139,\n",
       " 0.14,\n",
       " 0.141,\n",
       " 0.142,\n",
       " 0.143,\n",
       " 0.144,\n",
       " 0.145,\n",
       " 0.146,\n",
       " 0.147,\n",
       " 0.148,\n",
       " 0.149,\n",
       " 0.15,\n",
       " 0.151,\n",
       " 0.152,\n",
       " 0.153,\n",
       " 0.154,\n",
       " 0.155,\n",
       " 0.156,\n",
       " 0.157,\n",
       " 0.158,\n",
       " 0.159,\n",
       " 0.16,\n",
       " 0.161,\n",
       " 0.162,\n",
       " 0.163,\n",
       " 0.164,\n",
       " 0.165,\n",
       " 0.166,\n",
       " 0.167,\n",
       " 0.168,\n",
       " 0.169,\n",
       " 0.17,\n",
       " 0.171,\n",
       " 0.172,\n",
       " 0.173,\n",
       " 0.174,\n",
       " 0.175,\n",
       " 0.176,\n",
       " 0.177,\n",
       " 0.178,\n",
       " 0.179,\n",
       " 0.18,\n",
       " 0.181,\n",
       " 0.182,\n",
       " 0.183,\n",
       " 0.184,\n",
       " 0.185,\n",
       " 0.186,\n",
       " 0.187,\n",
       " 0.188,\n",
       " 0.189,\n",
       " 0.19,\n",
       " 0.191,\n",
       " 0.192,\n",
       " 0.193,\n",
       " 0.194,\n",
       " 0.195,\n",
       " 0.196,\n",
       " 0.197,\n",
       " 0.198,\n",
       " 0.199,\n",
       " 0.2,\n",
       " 0.201,\n",
       " 0.202,\n",
       " 0.203,\n",
       " 0.204,\n",
       " 0.205,\n",
       " 0.206,\n",
       " 0.207,\n",
       " 0.208,\n",
       " 0.209,\n",
       " 0.21,\n",
       " 0.211,\n",
       " 0.212,\n",
       " 0.213,\n",
       " 0.214,\n",
       " 0.215,\n",
       " 0.216,\n",
       " 0.217,\n",
       " 0.218,\n",
       " 0.219,\n",
       " 0.22,\n",
       " 0.221,\n",
       " 0.222,\n",
       " 0.223,\n",
       " 0.224,\n",
       " 0.225,\n",
       " 0.226,\n",
       " 0.227,\n",
       " 0.228,\n",
       " 0.229,\n",
       " 0.23,\n",
       " 0.231,\n",
       " 0.232,\n",
       " 0.233,\n",
       " 0.234,\n",
       " 0.235,\n",
       " 0.236,\n",
       " 0.237,\n",
       " 0.238,\n",
       " 0.239,\n",
       " 0.24,\n",
       " 0.241,\n",
       " 0.242,\n",
       " 0.243,\n",
       " 0.244,\n",
       " 0.245,\n",
       " 0.246,\n",
       " 0.247,\n",
       " 0.248,\n",
       " 0.249,\n",
       " 0.25,\n",
       " 0.251,\n",
       " 0.252,\n",
       " 0.253,\n",
       " 0.254,\n",
       " 0.255,\n",
       " 0.256,\n",
       " 0.257,\n",
       " 0.258,\n",
       " 0.259,\n",
       " 0.26,\n",
       " 0.261,\n",
       " 0.262,\n",
       " 0.263,\n",
       " 0.264,\n",
       " 0.265,\n",
       " 0.266,\n",
       " 0.267,\n",
       " 0.268,\n",
       " 0.269,\n",
       " 0.27,\n",
       " 0.271,\n",
       " 0.272,\n",
       " 0.273,\n",
       " 0.274,\n",
       " 0.275,\n",
       " 0.276,\n",
       " 0.277,\n",
       " 0.278,\n",
       " 0.279,\n",
       " 0.28,\n",
       " 0.281,\n",
       " 0.282,\n",
       " 0.283,\n",
       " 0.284,\n",
       " 0.285,\n",
       " 0.286,\n",
       " 0.287,\n",
       " 0.288,\n",
       " 0.289,\n",
       " 0.29,\n",
       " 0.291,\n",
       " 0.292,\n",
       " 0.293,\n",
       " 0.294,\n",
       " 0.295,\n",
       " 0.296,\n",
       " 0.297,\n",
       " 0.298,\n",
       " 0.299,\n",
       " 0.3,\n",
       " 0.301,\n",
       " 0.302,\n",
       " 0.303,\n",
       " 0.304,\n",
       " 0.305,\n",
       " 0.306,\n",
       " 0.307,\n",
       " 0.308,\n",
       " 0.309,\n",
       " 0.31,\n",
       " 0.311,\n",
       " 0.312,\n",
       " 0.313,\n",
       " 0.314,\n",
       " 0.315,\n",
       " 0.316,\n",
       " 0.317,\n",
       " 0.318,\n",
       " 0.319,\n",
       " 0.32,\n",
       " 0.321,\n",
       " 0.322,\n",
       " 0.323,\n",
       " 0.324,\n",
       " 0.325,\n",
       " 0.326,\n",
       " 0.327,\n",
       " 0.328,\n",
       " 0.329,\n",
       " 0.33,\n",
       " 0.331,\n",
       " 0.332,\n",
       " 0.333,\n",
       " 0.334,\n",
       " 0.335,\n",
       " 0.336,\n",
       " 0.337,\n",
       " 0.338,\n",
       " 0.339,\n",
       " 0.34,\n",
       " 0.341,\n",
       " 0.342,\n",
       " 0.343,\n",
       " 0.344,\n",
       " 0.345,\n",
       " 0.346,\n",
       " 0.347,\n",
       " 0.348,\n",
       " 0.349,\n",
       " 0.35,\n",
       " 0.351,\n",
       " 0.352,\n",
       " 0.353,\n",
       " 0.354,\n",
       " 0.355,\n",
       " 0.356,\n",
       " 0.357,\n",
       " 0.358,\n",
       " 0.359,\n",
       " 0.36,\n",
       " 0.361,\n",
       " 0.362,\n",
       " 0.363,\n",
       " 0.364,\n",
       " 0.365,\n",
       " 0.366,\n",
       " 0.367,\n",
       " 0.368,\n",
       " 0.369,\n",
       " 0.37,\n",
       " 0.371,\n",
       " 0.372,\n",
       " 0.373,\n",
       " 0.374,\n",
       " 0.375,\n",
       " 0.376,\n",
       " 0.377,\n",
       " 0.378,\n",
       " 0.379,\n",
       " 0.38,\n",
       " 0.381,\n",
       " 0.382,\n",
       " 0.383,\n",
       " 0.384,\n",
       " 0.385,\n",
       " 0.386,\n",
       " 0.387,\n",
       " 0.388,\n",
       " 0.389,\n",
       " 0.39,\n",
       " 0.391,\n",
       " 0.392,\n",
       " 0.393,\n",
       " 0.394,\n",
       " 0.395,\n",
       " 0.396,\n",
       " 0.397,\n",
       " 0.398,\n",
       " 0.399,\n",
       " 0.4,\n",
       " 0.401,\n",
       " 0.402,\n",
       " 0.403,\n",
       " 0.404,\n",
       " 0.405,\n",
       " 0.406,\n",
       " 0.407,\n",
       " 0.408,\n",
       " 0.409,\n",
       " 0.41,\n",
       " 0.411,\n",
       " 0.412,\n",
       " 0.413,\n",
       " 0.414,\n",
       " 0.415,\n",
       " 0.416,\n",
       " 0.417,\n",
       " 0.418,\n",
       " 0.419,\n",
       " 0.42,\n",
       " 0.421,\n",
       " 0.422,\n",
       " 0.423,\n",
       " 0.424,\n",
       " 0.425,\n",
       " 0.426,\n",
       " 0.427,\n",
       " 0.428,\n",
       " 0.429,\n",
       " 0.43,\n",
       " 0.431,\n",
       " 0.432,\n",
       " 0.433,\n",
       " 0.434,\n",
       " 0.435,\n",
       " 0.436,\n",
       " 0.437,\n",
       " 0.438,\n",
       " 0.439,\n",
       " 0.44,\n",
       " 0.441,\n",
       " 0.442,\n",
       " 0.443,\n",
       " 0.444,\n",
       " 0.445,\n",
       " 0.446,\n",
       " 0.447,\n",
       " 0.448,\n",
       " 0.449,\n",
       " 0.45,\n",
       " 0.451,\n",
       " 0.452,\n",
       " 0.453,\n",
       " 0.454,\n",
       " 0.455,\n",
       " 0.456,\n",
       " 0.457,\n",
       " 0.458,\n",
       " 0.459,\n",
       " 0.46,\n",
       " 0.461,\n",
       " 0.462,\n",
       " 0.463,\n",
       " 0.464,\n",
       " 0.465,\n",
       " 0.466,\n",
       " 0.467,\n",
       " 0.468,\n",
       " 0.469,\n",
       " 0.47,\n",
       " 0.471,\n",
       " 0.472,\n",
       " 0.473,\n",
       " 0.474,\n",
       " 0.475,\n",
       " 0.476,\n",
       " 0.477,\n",
       " 0.478,\n",
       " 0.479,\n",
       " 0.48,\n",
       " 0.481,\n",
       " 0.482,\n",
       " 0.483,\n",
       " 0.484,\n",
       " 0.485,\n",
       " 0.486,\n",
       " 0.487,\n",
       " 0.488,\n",
       " 0.489,\n",
       " 0.49,\n",
       " 0.491,\n",
       " 0.492,\n",
       " 0.493,\n",
       " 0.494,\n",
       " 0.495,\n",
       " 0.496,\n",
       " 0.497,\n",
       " 0.498,\n",
       " 0.499,\n",
       " 0.5,\n",
       " 0.501,\n",
       " 0.502,\n",
       " 0.503,\n",
       " 0.504,\n",
       " 0.505,\n",
       " 0.506,\n",
       " 0.507,\n",
       " 0.508,\n",
       " 0.509,\n",
       " 0.51,\n",
       " 0.511,\n",
       " 0.512,\n",
       " 0.513,\n",
       " 0.514,\n",
       " 0.515,\n",
       " 0.516,\n",
       " 0.517,\n",
       " 0.518,\n",
       " 0.519,\n",
       " 0.52,\n",
       " 0.521,\n",
       " 0.522,\n",
       " 0.523,\n",
       " 0.524,\n",
       " 0.525,\n",
       " 0.526,\n",
       " 0.527,\n",
       " 0.528,\n",
       " 0.529,\n",
       " 0.53,\n",
       " 0.531,\n",
       " 0.532,\n",
       " 0.533,\n",
       " 0.534,\n",
       " 0.535,\n",
       " 0.536,\n",
       " 0.537,\n",
       " 0.538,\n",
       " 0.539,\n",
       " 0.54,\n",
       " 0.541,\n",
       " 0.542,\n",
       " 0.543,\n",
       " 0.544,\n",
       " 0.545,\n",
       " 0.546,\n",
       " 0.547,\n",
       " 0.548,\n",
       " 0.549,\n",
       " 0.55,\n",
       " 0.551,\n",
       " 0.552,\n",
       " 0.553,\n",
       " 0.554,\n",
       " 0.555,\n",
       " 0.556,\n",
       " 0.557,\n",
       " 0.558,\n",
       " 0.559,\n",
       " 0.56,\n",
       " 0.561,\n",
       " 0.562,\n",
       " 0.563,\n",
       " 0.564,\n",
       " 0.565,\n",
       " 0.566,\n",
       " 0.567,\n",
       " 0.568,\n",
       " 0.569,\n",
       " 0.57,\n",
       " 0.571,\n",
       " 0.572,\n",
       " 0.573,\n",
       " 0.574,\n",
       " 0.575,\n",
       " 0.576,\n",
       " 0.577,\n",
       " 0.578,\n",
       " 0.579,\n",
       " 0.58,\n",
       " 0.581,\n",
       " 0.582,\n",
       " 0.583,\n",
       " 0.584,\n",
       " 0.585,\n",
       " 0.586,\n",
       " 0.587,\n",
       " 0.588,\n",
       " 0.589,\n",
       " 0.59,\n",
       " 0.591,\n",
       " 0.592,\n",
       " 0.593,\n",
       " 0.594,\n",
       " 0.595,\n",
       " 0.596,\n",
       " 0.597,\n",
       " 0.598,\n",
       " 0.599,\n",
       " 0.6,\n",
       " 0.601,\n",
       " 0.602,\n",
       " 0.603,\n",
       " 0.604,\n",
       " 0.605,\n",
       " 0.606,\n",
       " 0.607,\n",
       " 0.608,\n",
       " 0.609,\n",
       " 0.61,\n",
       " 0.611,\n",
       " 0.612,\n",
       " 0.613,\n",
       " 0.614,\n",
       " 0.615,\n",
       " 0.616,\n",
       " 0.617,\n",
       " 0.618,\n",
       " 0.619,\n",
       " 0.62,\n",
       " 0.621,\n",
       " 0.622,\n",
       " 0.623,\n",
       " 0.624,\n",
       " 0.625,\n",
       " 0.626,\n",
       " 0.627,\n",
       " 0.628,\n",
       " 0.629,\n",
       " 0.63,\n",
       " 0.631,\n",
       " 0.632,\n",
       " 0.633,\n",
       " 0.634,\n",
       " 0.635,\n",
       " 0.636,\n",
       " 0.637,\n",
       " 0.638,\n",
       " 0.639,\n",
       " 0.64,\n",
       " 0.641,\n",
       " 0.642,\n",
       " 0.643,\n",
       " 0.644,\n",
       " 0.645,\n",
       " 0.646,\n",
       " 0.647,\n",
       " 0.648,\n",
       " 0.649,\n",
       " 0.65,\n",
       " 0.651,\n",
       " 0.652,\n",
       " 0.653,\n",
       " 0.654,\n",
       " 0.655,\n",
       " 0.656,\n",
       " 0.657,\n",
       " 0.658,\n",
       " 0.659,\n",
       " 0.66,\n",
       " 0.661,\n",
       " 0.662,\n",
       " 0.663,\n",
       " 0.664,\n",
       " 0.665,\n",
       " 0.666,\n",
       " 0.667,\n",
       " 0.668,\n",
       " 0.669,\n",
       " 0.67,\n",
       " 0.671,\n",
       " 0.672,\n",
       " 0.673,\n",
       " 0.674,\n",
       " 0.675,\n",
       " 0.676,\n",
       " 0.677,\n",
       " 0.678,\n",
       " 0.679,\n",
       " 0.68,\n",
       " 0.681,\n",
       " 0.682,\n",
       " 0.683,\n",
       " 0.684,\n",
       " 0.685,\n",
       " 0.686,\n",
       " 0.687,\n",
       " 0.688,\n",
       " 0.689,\n",
       " 0.69,\n",
       " 0.691,\n",
       " 0.692,\n",
       " 0.693,\n",
       " 0.694,\n",
       " 0.695,\n",
       " 0.696,\n",
       " 0.697,\n",
       " 0.698,\n",
       " 0.699,\n",
       " 0.7,\n",
       " 0.701,\n",
       " 0.702,\n",
       " 0.703,\n",
       " 0.704,\n",
       " 0.705,\n",
       " 0.706,\n",
       " 0.707,\n",
       " 0.708,\n",
       " 0.709,\n",
       " 0.71,\n",
       " 0.711,\n",
       " 0.712,\n",
       " 0.713,\n",
       " 0.714,\n",
       " 0.715,\n",
       " 0.716,\n",
       " 0.717,\n",
       " 0.718,\n",
       " 0.719,\n",
       " 0.72,\n",
       " 0.721,\n",
       " 0.722,\n",
       " 0.723,\n",
       " 0.724,\n",
       " 0.725,\n",
       " 0.726,\n",
       " 0.727,\n",
       " 0.728,\n",
       " 0.729,\n",
       " 0.73,\n",
       " 0.731,\n",
       " 0.732,\n",
       " 0.733,\n",
       " 0.734,\n",
       " 0.735,\n",
       " 0.736,\n",
       " 0.737,\n",
       " 0.738,\n",
       " 0.739,\n",
       " 0.74,\n",
       " 0.741,\n",
       " 0.742,\n",
       " 0.743,\n",
       " 0.744,\n",
       " 0.745,\n",
       " 0.746,\n",
       " 0.747,\n",
       " 0.748,\n",
       " 0.749,\n",
       " 0.75,\n",
       " 0.751,\n",
       " 0.752,\n",
       " 0.753,\n",
       " 0.754,\n",
       " 0.755,\n",
       " 0.756,\n",
       " 0.757,\n",
       " 0.758,\n",
       " 0.759,\n",
       " 0.76,\n",
       " 0.761,\n",
       " 0.762,\n",
       " 0.763,\n",
       " 0.764,\n",
       " 0.765,\n",
       " 0.766,\n",
       " 0.767,\n",
       " 0.768,\n",
       " 0.769,\n",
       " 0.77,\n",
       " 0.771,\n",
       " 0.772,\n",
       " 0.773,\n",
       " 0.774,\n",
       " 0.775,\n",
       " 0.776,\n",
       " 0.777,\n",
       " 0.778,\n",
       " 0.779,\n",
       " 0.78,\n",
       " 0.781,\n",
       " 0.782,\n",
       " 0.783,\n",
       " 0.784,\n",
       " 0.785,\n",
       " 0.786,\n",
       " 0.787,\n",
       " 0.788,\n",
       " 0.789,\n",
       " 0.79,\n",
       " 0.791,\n",
       " 0.792,\n",
       " 0.793,\n",
       " 0.794,\n",
       " 0.795,\n",
       " 0.796,\n",
       " 0.797,\n",
       " 0.798,\n",
       " 0.799,\n",
       " 0.8,\n",
       " 0.801,\n",
       " 0.802,\n",
       " 0.803,\n",
       " 0.804,\n",
       " 0.805,\n",
       " 0.806,\n",
       " 0.807,\n",
       " 0.808,\n",
       " 0.809,\n",
       " 0.81,\n",
       " 0.811,\n",
       " 0.812,\n",
       " 0.813,\n",
       " 0.814,\n",
       " 0.815,\n",
       " 0.816,\n",
       " 0.817,\n",
       " 0.818,\n",
       " 0.819,\n",
       " 0.82,\n",
       " 0.821,\n",
       " 0.822,\n",
       " 0.823,\n",
       " 0.824,\n",
       " 0.825,\n",
       " 0.826,\n",
       " 0.827,\n",
       " 0.828,\n",
       " 0.829,\n",
       " 0.83,\n",
       " 0.831,\n",
       " 0.832,\n",
       " 0.833,\n",
       " 0.834,\n",
       " 0.835,\n",
       " 0.836,\n",
       " 0.837,\n",
       " 0.838,\n",
       " 0.839,\n",
       " 0.84,\n",
       " 0.841,\n",
       " 0.842,\n",
       " 0.843,\n",
       " 0.844,\n",
       " 0.845,\n",
       " 0.846,\n",
       " 0.847,\n",
       " 0.848,\n",
       " 0.849,\n",
       " 0.85,\n",
       " 0.851,\n",
       " 0.852,\n",
       " 0.853,\n",
       " 0.854,\n",
       " 0.855,\n",
       " 0.856,\n",
       " 0.857,\n",
       " 0.858,\n",
       " 0.859,\n",
       " 0.86,\n",
       " 0.861,\n",
       " 0.862,\n",
       " 0.863,\n",
       " 0.864,\n",
       " 0.865,\n",
       " 0.866,\n",
       " 0.867,\n",
       " 0.868,\n",
       " 0.869,\n",
       " 0.87,\n",
       " 0.871,\n",
       " 0.872,\n",
       " 0.873,\n",
       " 0.874,\n",
       " 0.875,\n",
       " 0.876,\n",
       " 0.877,\n",
       " 0.878,\n",
       " 0.879,\n",
       " 0.88,\n",
       " 0.881,\n",
       " 0.882,\n",
       " 0.883,\n",
       " 0.884,\n",
       " 0.885,\n",
       " 0.886,\n",
       " 0.887,\n",
       " 0.888,\n",
       " 0.889,\n",
       " 0.89,\n",
       " 0.891,\n",
       " 0.892,\n",
       " 0.893,\n",
       " 0.894,\n",
       " 0.895,\n",
       " 0.896,\n",
       " 0.897,\n",
       " 0.898,\n",
       " 0.899,\n",
       " 0.9,\n",
       " 0.901,\n",
       " 0.902,\n",
       " 0.903,\n",
       " 0.904,\n",
       " 0.905,\n",
       " 0.906,\n",
       " 0.907,\n",
       " 0.908,\n",
       " 0.909,\n",
       " 0.91,\n",
       " 0.911,\n",
       " 0.912,\n",
       " 0.913,\n",
       " 0.914,\n",
       " 0.915,\n",
       " 0.916,\n",
       " 0.917,\n",
       " 0.918,\n",
       " 0.919,\n",
       " 0.92,\n",
       " 0.921,\n",
       " 0.922,\n",
       " 0.923,\n",
       " 0.924,\n",
       " 0.925,\n",
       " 0.926,\n",
       " 0.927,\n",
       " 0.928,\n",
       " 0.929,\n",
       " 0.93,\n",
       " 0.931,\n",
       " 0.932,\n",
       " 0.933,\n",
       " 0.934,\n",
       " 0.935,\n",
       " 0.936,\n",
       " 0.937,\n",
       " 0.938,\n",
       " 0.939,\n",
       " 0.94,\n",
       " 0.941,\n",
       " 0.942,\n",
       " 0.943,\n",
       " 0.944,\n",
       " 0.945,\n",
       " 0.946,\n",
       " 0.947,\n",
       " 0.948,\n",
       " 0.949,\n",
       " 0.95,\n",
       " 0.951,\n",
       " 0.952,\n",
       " 0.953,\n",
       " 0.954,\n",
       " 0.955,\n",
       " 0.956,\n",
       " 0.957,\n",
       " 0.958,\n",
       " 0.959,\n",
       " 0.96,\n",
       " 0.961,\n",
       " 0.962,\n",
       " 0.963,\n",
       " 0.964,\n",
       " 0.965,\n",
       " 0.966,\n",
       " 0.967,\n",
       " 0.968,\n",
       " 0.969,\n",
       " 0.97,\n",
       " 0.971,\n",
       " 0.972,\n",
       " 0.973,\n",
       " 0.974,\n",
       " 0.975,\n",
       " 0.976,\n",
       " 0.977,\n",
       " 0.978,\n",
       " 0.979,\n",
       " 0.98,\n",
       " 0.981,\n",
       " 0.982,\n",
       " 0.983,\n",
       " 0.984,\n",
       " 0.985,\n",
       " 0.986,\n",
       " 0.987,\n",
       " 0.988,\n",
       " 0.989,\n",
       " 0.99,\n",
       " 0.991,\n",
       " 0.992,\n",
       " 0.993,\n",
       " 0.994,\n",
       " 0.995,\n",
       " 0.996,\n",
       " 0.997,\n",
       " 0.998,\n",
       " 0.999]"
      ]
     },
     "execution_count": 53,
     "metadata": {},
     "output_type": "execute_result"
    }
   ],
   "source": [
    "thresholds"
   ]
  },
  {
   "cell_type": "code",
   "execution_count": null,
   "metadata": {},
   "outputs": [],
   "source": []
  },
  {
   "cell_type": "markdown",
   "metadata": {},
   "source": [
    "# Random Forest"
   ]
  },
  {
   "cell_type": "code",
   "execution_count": 20,
   "metadata": {},
   "outputs": [
    {
     "name": "stdout",
     "output_type": "stream",
     "text": [
      "train\n",
      "val\n",
      "proba\n"
     ]
    }
   ],
   "source": [
    "clf = RandomForestClassifier(min_samples_leaf=2,n_jobs=-1)\n",
    "clf = clf.fit(complete_train_features_scaled, image_train_labels)\n",
    "\n",
    "train_predicted_labels = clf.predict(complete_train_features_scaled)\n",
    "print('train')\n",
    "val_predicted_labels= clf.predict(complete_val_features_scaled)\n",
    "print('val')\n",
    "temp_val_predicted_probs = clf.predict_proba(complete_val_features_scaled)\n",
    "print('proba')\n",
    "val_predicted_probs = np.zeros((len(temp_val_predicted_probs),n_classes))\n",
    "for i, cls in enumerate(np.arange(n_classes)):\n",
    "    if cls in clf.classes_:\n",
    "        val_predicted_probs[:, cls] = temp_val_predicted_probs[:, list(clf.classes_).index(cls)]"
   ]
  },
  {
   "cell_type": "code",
   "execution_count": 21,
   "metadata": {},
   "outputs": [
    {
     "data": {
      "text/plain": [
       "array([[0.        , 0.89183333, 0.        , ..., 0.        , 0.        ,\n",
       "        0.        ],\n",
       "       [0.        , 0.90766667, 0.        , ..., 0.        , 0.        ,\n",
       "        0.        ],\n",
       "       [0.        , 0.        , 0.7425    , ..., 0.        , 0.01      ,\n",
       "        0.        ],\n",
       "       ...,\n",
       "       [0.        , 0.        , 0.        , ..., 0.        , 0.        ,\n",
       "        1.        ],\n",
       "       [0.        , 0.        , 0.        , ..., 0.        , 0.        ,\n",
       "        0.8675    ],\n",
       "       [0.        , 0.        , 0.        , ..., 0.        , 0.        ,\n",
       "        0.9625    ]])"
      ]
     },
     "execution_count": 21,
     "metadata": {},
     "output_type": "execute_result"
    }
   ],
   "source": [
    "temp_val_predicted_probs"
   ]
  },
  {
   "cell_type": "code",
   "execution_count": 22,
   "metadata": {},
   "outputs": [
    {
     "data": {
      "text/plain": [
       "array([0.00012523, 0.00010174, 0.00011856, ..., 0.        , 0.        ,\n",
       "       0.        ])"
      ]
     },
     "execution_count": 22,
     "metadata": {},
     "output_type": "execute_result"
    }
   ],
   "source": [
    "feature_importances = clf.feature_importances_\n",
    "feature_importances"
   ]
  },
  {
   "cell_type": "code",
   "execution_count": 23,
   "metadata": {},
   "outputs": [
    {
     "data": {
      "image/png": "[encoded data removed]",
      "text/plain": [
       "<Figure size 1000x600 with 1 Axes>"
      ]
     },
     "metadata": {},
     "output_type": "display_data"
    }
   ],
   "source": [
    "feature_names = [f'Feature {i+1}' for i in range(complete_train_features.shape[1])]\n",
    "\n",
    "plt.figure(figsize=(10, 6))\n",
    "plt.bar(range(len(feature_importances)), feature_importances, align='center')\n",
    "plt.ylabel('Features Importances')\n",
    "plt.show()"
   ]
  },
  {
   "cell_type": "markdown",
   "metadata": {},
   "source": [
    "# Accuracies"
   ]
  },
  {
   "cell_type": "code",
   "execution_count": 24,
   "metadata": {},
   "outputs": [
    {
     "name": "stdout",
     "output_type": "stream",
     "text": [
      "Training species accuracy:0.9999233070020707\n",
      "Validation species accuracy:0.45751258087706687\n"
     ]
    }
   ],
   "source": [
    "print(f\"Training species accuracy:{np.count_nonzero(train_predicted_labels==image_train_labels.numpy())/len(image_train_labels)}\")\n",
    "\n",
    "print(f\"Validation species accuracy:{np.count_nonzero(val_predicted_labels==image_val_labels.numpy())/len(image_val_labels)}\")"
   ]
  },
  {
   "cell_type": "code",
   "execution_count": 25,
   "metadata": {},
   "outputs": [
    {
     "ename": "IndexError",
     "evalue": "only integers, slices (`:`), ellipsis (`...`), numpy.newaxis (`None`) and integer or boolean arrays are valid indices",
     "output_type": "error",
     "traceback": [
      "\u001b[0;31m---------------------------------------------------------------------------\u001b[0m",
      "\u001b[0;31mIndexError\u001b[0m                                Traceback (most recent call last)",
      "Cell \u001b[0;32mIn[25], line 9\u001b[0m\n\u001b[1;32m      5\u001b[0m label_best_specie \u001b[38;5;241m=\u001b[39m val_predicted_labels[i]\n\u001b[1;32m      6\u001b[0m \u001b[38;5;66;03m#print(val_predicted_labels[i])\u001b[39;00m\n\u001b[1;32m      7\u001b[0m \u001b[38;5;66;03m#print(val_predicted_probs[i].argmax())\u001b[39;00m\n\u001b[1;32m      8\u001b[0m \u001b[38;5;66;03m#assert(val_predicted_labels[i]==val_predicted_probs[i].argmax())\u001b[39;00m\n\u001b[0;32m----> 9\u001b[0m genus_of_best_species \u001b[38;5;241m=\u001b[39m species2genus[label_best_specie\u001b[38;5;241m.\u001b[39mitem()]\n\u001b[1;32m     10\u001b[0m \u001b[38;5;66;03m#species_same_genus = [k for k,v in species2genus.items() if v == genus_of_best_species]\u001b[39;00m\n\u001b[1;32m     11\u001b[0m \u001b[38;5;66;03m#reduced_species = val_predicted_probs[i][species_same_genus]\u001b[39;00m\n\u001b[1;32m     12\u001b[0m \u001b[38;5;66;03m#normalized_reduced_species = reduced_species/(reduced_species.sum())\u001b[39;00m\n\u001b[1;32m     14\u001b[0m real_genus \u001b[38;5;241m=\u001b[39m species2genus[image_val_labels[i]\u001b[38;5;241m.\u001b[39mitem()]\n",
      "\u001b[0;31mIndexError\u001b[0m: only integers, slices (`:`), ellipsis (`...`), numpy.newaxis (`None`) and integer or boolean arrays are valid indices"
     ]
    }
   ],
   "source": [
    "import math\n",
    "n_correct_genus = 0\n",
    "for i in range(len(image_val_labels)):\n",
    "    #label_best_specie = val_predicted_probs[i].argmax()\n",
    "    label_best_specie = val_predicted_labels[i]\n",
    "    #print(val_predicted_labels[i])\n",
    "    #print(val_predicted_probs[i].argmax())\n",
    "    #assert(val_predicted_labels[i]==val_predicted_probs[i].argmax())\n",
    "    genus_of_best_species = species2genus[label_best_specie.item()]\n",
    "    #species_same_genus = [k for k,v in species2genus.items() if v == genus_of_best_species]\n",
    "    #reduced_species = val_predicted_probs[i][species_same_genus]\n",
    "    #normalized_reduced_species = reduced_species/(reduced_species.sum())\n",
    "    \n",
    "    real_genus = species2genus[image_val_labels[i].item()]\n",
    "    predicted_genus = genus_of_best_species\n",
    "    if real_genus == predicted_genus:\n",
    "        n_correct_genus+=1\n",
    "print(f\"Validation genus accuracy: {n_correct_genus/len(image_val_labels)}\")"
   ]
  },
  {
   "cell_type": "code",
   "execution_count": null,
   "metadata": {},
   "outputs": [],
   "source": []
  },
  {
   "cell_type": "code",
   "execution_count": null,
   "metadata": {},
   "outputs": [],
   "source": []
  },
  {
   "cell_type": "code",
   "execution_count": 26,
   "metadata": {},
   "outputs": [
    {
     "data": {
      "text/plain": [
       "tensor(366)"
      ]
     },
     "execution_count": 26,
     "metadata": {},
     "output_type": "execute_result"
    }
   ],
   "source": [
    "val_predicted_labels_genus[i]"
   ]
  },
  {
   "cell_type": "code",
   "execution_count": 27,
   "metadata": {
    "scrolled": true
   },
   "outputs": [],
   "source": []
  },
  {
   "cell_type": "code",
   "execution_count": null,
   "metadata": {},
   "outputs": [],
   "source": []
  },
  {
   "cell_type": "code",
   "execution_count": 28,
   "metadata": {
    "scrolled": true
   },
   "outputs": [
    {
     "name": "stdout",
     "output_type": "stream",
     "text": [
      "0\n",
      "0.0\n",
      "0.9904666332162569\n",
      "\n",
      "\n",
      "\n",
      "1\n",
      "0.004448210124973522\n",
      "0.9904666332162569\n",
      "\n",
      "\n",
      "\n",
      "2\n",
      "0.009425969074348655\n",
      "0.9904666332162569\n",
      "\n",
      "\n",
      "\n",
      "3\n",
      "0.013238720610040246\n",
      "0.9904666332162569\n",
      "\n",
      "\n",
      "\n",
      "4\n",
      "0.01779284049989409\n",
      "0.9904666332162569\n",
      "\n",
      "\n",
      "\n",
      "5\n",
      "0.02160559203558568\n",
      "0.9904666332162569\n",
      "\n",
      "\n",
      "\n",
      "6\n",
      "0.025630163101037915\n",
      "0.9904666332162569\n",
      "\n",
      "\n",
      "\n",
      "7\n",
      "0.030502012285532724\n",
      "0.9904666332162569\n",
      "\n",
      "\n",
      "\n",
      "8\n",
      "0.03526795170514722\n",
      "0.9904666332162569\n",
      "\n",
      "\n",
      "\n",
      "9\n",
      "0.039504342300360096\n",
      "0.9902157551430005\n",
      "\n",
      "\n",
      "\n",
      "10\n",
      "0.04363482313069265\n",
      "0.9902157551430005\n",
      "\n",
      "\n",
      "\n",
      "11\n",
      "0.047553484431264566\n",
      "0.9902157551430005\n",
      "\n",
      "\n",
      "\n",
      "12\n",
      "0.05242533361575937\n",
      "0.9902157551430005\n",
      "\n",
      "\n",
      "\n",
      "13\n",
      "0.05708536327049354\n",
      "0.9902157551430005\n",
      "\n",
      "\n",
      "\n",
      "14\n",
      "0.06163948316034738\n",
      "0.9902157551430005\n",
      "\n",
      "\n",
      "\n",
      "15\n",
      "0.06619360305020122\n",
      "0.9902157551430005\n",
      "\n",
      "\n",
      "\n",
      "16\n",
      "0.0699004448210125\n",
      "0.9902157551430005\n",
      "\n",
      "\n",
      "\n",
      "17\n",
      "0.07487820377038763\n",
      "0.9902157551430005\n",
      "\n",
      "\n",
      "\n",
      "18\n",
      "0.08027960177928405\n",
      "0.9902157551430005\n",
      "\n",
      "\n",
      "\n",
      "19\n",
      "0.08652827790722305\n",
      "0.9902157551430005\n",
      "\n",
      "\n",
      "\n",
      "20\n",
      "0.09087057826731625\n",
      "0.9902157551430005\n",
      "\n",
      "\n",
      "\n",
      "21\n",
      "0.09563651768693074\n",
      "0.9902157551430005\n",
      "\n",
      "\n",
      "\n",
      "22\n",
      "0.10040245710654522\n",
      "0.9902157551430005\n",
      "\n",
      "\n",
      "\n",
      "23\n",
      "0.10601567464520228\n",
      "0.9902157551430005\n",
      "\n",
      "\n",
      "\n",
      "24\n",
      "0.11131116288921838\n",
      "0.9902157551430005\n",
      "\n",
      "\n",
      "\n",
      "25\n",
      "0.11575937301419191\n",
      "0.9902157551430005\n",
      "\n",
      "\n",
      "\n",
      "26\n",
      "0.12063122219868672\n",
      "0.9902157551430005\n",
      "\n",
      "\n",
      "\n",
      "27\n",
      "0.12592671044270282\n",
      "0.9902157551430005\n",
      "\n",
      "\n",
      "\n",
      "28\n",
      "0.13048083033255667\n",
      "0.9902157551430005\n",
      "\n",
      "\n",
      "\n",
      "29\n",
      "0.13418767210336793\n",
      "0.9902157551430005\n",
      "\n",
      "\n",
      "\n",
      "30\n",
      "0.13905952128786275\n",
      "0.9902157551430005\n",
      "\n",
      "\n",
      "\n",
      "31\n",
      "0.1442490997669985\n",
      "0.9902157551430005\n",
      "\n",
      "\n",
      "\n",
      "32\n",
      "0.1494386782461343\n",
      "0.9902157551430005\n",
      "\n",
      "\n",
      "\n",
      "33\n",
      "0.15558144460919296\n",
      "0.9902157551430005\n",
      "\n",
      "\n",
      "\n",
      "34\n",
      "0.1596060156746452\n",
      "0.9902157551430005\n",
      "\n",
      "\n",
      "\n",
      "35\n",
      "0.1653251429781826\n",
      "0.9902157551430005\n",
      "\n",
      "\n",
      "\n",
      "36\n",
      "0.170726540987079\n",
      "0.9902157551430005\n",
      "\n",
      "\n",
      "\n",
      "37\n",
      "0.17559839017157383\n",
      "0.9902157551430005\n",
      "\n",
      "\n",
      "\n",
      "38\n",
      "0.18099978818047024\n",
      "0.9899648770697441\n",
      "\n",
      "\n",
      "\n",
      "39\n",
      "0.1860834568947257\n",
      "0.9899648770697441\n",
      "\n",
      "\n",
      "\n",
      "40\n",
      "0.19127303537386148\n",
      "0.9899648770697441\n",
      "\n",
      "\n",
      "\n",
      "41\n",
      "0.19699216267739886\n",
      "0.9899648770697441\n",
      "\n",
      "\n",
      "\n",
      "42\n",
      "0.20239356068629527\n",
      "0.9899648770697441\n",
      "\n",
      "\n",
      "\n",
      "43\n",
      "0.20790086846007202\n",
      "0.9899648770697441\n",
      "\n",
      "\n",
      "\n",
      "44\n",
      "0.2121372590552849\n",
      "0.9899648770697441\n",
      "\n",
      "\n",
      "\n",
      "45\n",
      "0.21743274729930098\n",
      "0.9897139989964877\n",
      "\n",
      "\n",
      "\n",
      "46\n",
      "0.22368142342723998\n",
      "0.9897139989964877\n",
      "\n",
      "\n",
      "\n",
      "47\n",
      "0.22908282143613642\n",
      "0.9897139989964877\n",
      "\n",
      "\n",
      "\n",
      "48\n",
      "0.23469603897479346\n",
      "0.9897139989964877\n",
      "\n",
      "\n",
      "\n",
      "49\n",
      "0.23956788815928828\n",
      "0.9897139989964877\n",
      "\n",
      "\n",
      "\n",
      "50\n",
      "0.24560474475746663\n",
      "0.9897139989964877\n",
      "\n",
      "\n",
      "\n",
      "51\n",
      "0.2507943232366024\n",
      "0.9897139989964877\n",
      "\n",
      "\n",
      "\n",
      "52\n",
      "0.2567252700699004\n",
      "0.9897139989964877\n",
      "\n",
      "\n",
      "\n",
      "53\n",
      "0.2629739461978394\n",
      "0.9897139989964877\n",
      "\n",
      "\n",
      "\n",
      "54\n",
      "0.26943444185553905\n",
      "0.9897139989964877\n",
      "\n",
      "\n",
      "\n",
      "55\n",
      "0.2745181105697945\n",
      "0.9897139989964877\n",
      "\n",
      "\n",
      "\n",
      "56\n",
      "0.2801313281084516\n",
      "0.9897139989964877\n",
      "\n",
      "\n",
      "\n",
      "57\n",
      "0.28616818470662997\n",
      "0.9897139989964877\n",
      "\n",
      "\n",
      "\n",
      "58\n",
      "0.29442914636729506\n",
      "0.9894631209232313\n",
      "\n",
      "\n",
      "\n",
      "59\n",
      "0.3003600932005931\n",
      "0.9894631209232313\n",
      "\n",
      "\n",
      "\n",
      "60\n",
      "0.30671467909341243\n",
      "0.9892122428499749\n",
      "\n",
      "\n",
      "\n",
      "61\n",
      "0.31222198686718916\n",
      "0.9892122428499749\n",
      "\n",
      "\n",
      "\n",
      "62\n",
      "0.3192120313492904\n",
      "0.9892122428499749\n",
      "\n",
      "\n",
      "\n",
      "63\n",
      "0.326307985596272\n",
      "0.9892122428499749\n",
      "\n",
      "\n",
      "\n",
      "64\n",
      "0.3330862105486126\n",
      "0.9892122428499749\n",
      "\n",
      "\n",
      "\n",
      "65\n",
      "0.34018216479559416\n",
      "0.9889613647767185\n",
      "\n",
      "\n",
      "\n",
      "66\n",
      "0.34600720186401185\n",
      "0.9889613647767185\n",
      "\n",
      "\n",
      "\n",
      "67\n",
      "0.35373861470027534\n",
      "0.9889613647767185\n",
      "\n",
      "\n",
      "\n",
      "68\n",
      "0.3593518322389324\n",
      "0.9889613647767185\n",
      "\n",
      "\n",
      "\n",
      "69\n",
      "0.3663418767210337\n",
      "0.9884596086302058\n",
      "\n",
      "\n",
      "\n",
      "70\n",
      "0.3736496504977759\n",
      "0.9884596086302058\n",
      "\n",
      "\n",
      "\n",
      "71\n",
      "0.3795805973310739\n",
      "0.9884596086302058\n",
      "\n",
      "\n",
      "\n",
      "72\n",
      "0.38699428087269644\n",
      "0.9882087305569494\n",
      "\n",
      "\n",
      "\n",
      "73\n",
      "0.3958907011226435\n",
      "0.9882087305569494\n",
      "\n",
      "\n",
      "\n",
      "74\n",
      "0.40425757254818895\n",
      "0.9882087305569494\n",
      "\n",
      "\n",
      "\n",
      "75\n",
      "0.41315399279813597\n",
      "0.9882087305569494\n",
      "\n",
      "\n",
      "\n",
      "76\n",
      "0.41993221775047657\n",
      "0.9882087305569494\n",
      "\n",
      "\n",
      "\n",
      "77\n",
      "0.42692226223257784\n",
      "0.9882087305569494\n",
      "\n",
      "\n",
      "\n",
      "78\n",
      "0.4340182164795594\n",
      "0.9877069744104365\n",
      "\n",
      "\n",
      "\n",
      "79\n",
      "0.4429146367295065\n",
      "0.9877069744104365\n",
      "\n",
      "\n",
      "\n",
      "80\n",
      "0.45106968862529123\n",
      "0.9877069744104365\n",
      "\n",
      "\n",
      "\n",
      "81\n",
      "0.45975428934547763\n",
      "0.9874560963371801\n",
      "\n",
      "\n",
      "\n",
      "82\n",
      "0.46790934124126243\n",
      "0.9872052182639237\n",
      "\n",
      "\n",
      "\n",
      "83\n",
      "0.4758525736072866\n",
      "0.9869543401906673\n",
      "\n",
      "\n",
      "\n",
      "84\n",
      "0.4841135352679517\n",
      "0.9864525840441546\n",
      "\n",
      "\n",
      "\n",
      "85\n",
      "0.49195085786909554\n",
      "0.9864525840441546\n",
      "\n",
      "\n",
      "\n",
      "86\n",
      "0.5026477441220081\n",
      "0.9859508278976418\n",
      "\n",
      "\n",
      "\n",
      "87\n",
      "0.512179622961237\n",
      "0.985449071751129\n",
      "\n",
      "\n",
      "\n",
      "88\n",
      "0.5216055920355857\n",
      "0.9849473156046161\n",
      "\n",
      "\n",
      "\n",
      "89\n",
      "0.5325142978182589\n",
      "0.984194681384847\n",
      "\n",
      "\n",
      "\n",
      "90\n",
      "0.5428934547765304\n",
      "0.984194681384847\n",
      "\n",
      "\n",
      "\n",
      "91\n",
      "0.5521076043211184\n",
      "0.9834420471650778\n",
      "\n",
      "\n",
      "\n",
      "92\n",
      "0.5628044905740309\n",
      "0.982940291018565\n",
      "\n",
      "\n",
      "\n",
      "93\n",
      "0.5749841135352679\n",
      "0.9819367787255394\n",
      "\n",
      "\n",
      "\n",
      "94\n",
      "0.5877991950857869\n",
      "0.980431510286001\n",
      "\n",
      "\n",
      "\n",
      "95\n",
      "0.6034738402880746\n",
      "0.9799297541394882\n",
      "\n",
      "\n",
      "\n",
      "96\n",
      "0.620419402668926\n",
      "0.9771700953336678\n",
      "\n",
      "\n",
      "\n",
      "97\n",
      "0.6387417919932218\n",
      "0.9708981435022579\n",
      "\n",
      "\n",
      "\n",
      "98\n",
      "0.6644778648591401\n",
      "0.9661314601103863\n",
      "\n",
      "\n",
      "\n",
      "99\n",
      "0.6996399067994069\n",
      "0.9548419468138485\n",
      "\n",
      "\n",
      "\n"
     ]
    }
   ],
   "source": []
  },
  {
   "cell_type": "markdown",
   "metadata": {},
   "source": [
    "# Top-2 Method"
   ]
  },
  {
   "cell_type": "code",
   "execution_count": 31,
   "metadata": {},
   "outputs": [],
   "source": [
    "tprs = []\n",
    "fprs = []\n",
    "correct_genus_rate = []\n",
    "correct_species_rate = []\n",
    "for t in range(0,100,1):\n",
    "    entropy_threshold = t/100.0\n",
    "    #print(val_predicted_probs.shape)\n",
    "    n_undescribed_samples = 0\n",
    "    n_described_samples = 0\n",
    "    n_correct_undescribed_samples = 0\n",
    "    n_correct_described_samples = 0\n",
    "    n_correct_genus = 0 \n",
    "    n_correct_species = 0 \n",
    "    for i in range(len(image_val_labels)):\n",
    "        \n",
    "        label_best_specie = val_predicted_labels[i]\n",
    "       \n",
    "        #assert(val_predicted_labels[i]==val_predicted_probs[i].argmax())\n",
    "        genus_of_best_species = species2genus[label_best_specie.item()]\n",
    "        \n",
    "        sorted_probs = np.sort(val_predicted_probs[i])\n",
    "        sorted_probs = sorted_probs[::-1]\n",
    "        \n",
    "        prob_diff = abs(sorted_probs[0] - sorted_probs[1])\n",
    "        #print(prob_diff)\n",
    "        if image_val_labels[i].item() in described_species_labels:\n",
    "            #tn\n",
    "            n_described_samples +=1\n",
    "            if prob_diff >= entropy_threshold:\n",
    "                n_correct_described_samples+=1\n",
    "                if label_best_specie == image_val_labels[i]:\n",
    "                    n_correct_species+=1\n",
    "        else:\n",
    "            #tp\n",
    "            n_undescribed_samples+=1\n",
    "            if prob_diff < entropy_threshold:\n",
    "                n_correct_undescribed_samples+=1\n",
    "                real_genus = species2genus[image_val_labels[i].item()]\n",
    "                predicted_genus = genus_of_best_species\n",
    "                if real_genus == predicted_genus:\n",
    "                    n_correct_genus+=1\n",
    "        \n",
    "            \n",
    "    tprs.append(n_correct_undescribed_samples/n_undescribed_samples) # TPR = recall = sensitivity\n",
    "    fprs.append(1-n_correct_described_samples/n_described_samples) # 1-TNR = 1 - specificity\n",
    "    correct_genus_rate.append(n_correct_genus/n_undescribed_samples)\n",
    "    correct_species_rate.append(n_correct_species/n_described_samples)"
   ]
  },
  {
   "cell_type": "code",
   "execution_count": 42,
   "metadata": {},
   "outputs": [
    {
     "data": {
      "image/png": "[encoded data removed]",
      "text/plain": [
       "<Figure size 640x480 with 1 Axes>"
      ]
     },
     "metadata": {},
     "output_type": "display_data"
    }
   ],
   "source": [
    "from sklearn.metrics import roc_curve, auc\n",
    "\n",
    "roc_auc = auc(fprs, tprs)\n",
    "\n",
    "plt.figure()\n",
    "plt.plot(fprs, tprs, color='black', lw=2, label='ROC curve (area = %0.2f)' % roc_auc)\n",
    "plt.plot([0, 1], [0, 1], color='navy', lw=1, linestyle='--')\n",
    "plt.xlim([0, 1])\n",
    "plt.ylim([0, 1])\n",
    "plt.xlabel(\"False Positive Rate\")\n",
    "plt.ylabel(\"True Positive Rate\")\n",
    "plt.title('ROC Curve')\n",
    "plt.legend(loc=\"lower right\")\n",
    "plt.show()"
   ]
  },
  {
   "cell_type": "code",
   "execution_count": 52,
   "metadata": {},
   "outputs": [
    {
     "data": {
      "text/plain": [
       "[<matplotlib.lines.Line2D at 0x7e2610060ef0>]"
      ]
     },
     "execution_count": 52,
     "metadata": {},
     "output_type": "execute_result"
    },
    {
     "data": {
      "image/png": "[encoded data removed]",
      "text/plain": [
       "<Figure size 640x480 with 1 Axes>"
      ]
     },
     "metadata": {},
     "output_type": "display_data"
    }
   ],
   "source": [
    "plt.plot(correct_genus_rate)"
   ]
  },
  {
   "cell_type": "code",
   "execution_count": 53,
   "metadata": {},
   "outputs": [
    {
     "name": "stdout",
     "output_type": "stream",
     "text": [
      "0.04986902625680434\n"
     ]
    },
    {
     "data": {
      "text/plain": [
       "Text(0, 0.5, 'Correct Genus Rate')"
      ]
     },
     "execution_count": 53,
     "metadata": {},
     "output_type": "execute_result"
    },
    {
     "data": {
      "image/png": "[encoded data removed]",
      "text/plain": [
       "<Figure size 640x480 with 1 Axes>"
      ]
     },
     "metadata": {},
     "output_type": "display_data"
    }
   ],
   "source": [
    "area_correct = auc(correct_species_rate,correct_genus_rate)\n",
    "print(area_correct)\n",
    "\n",
    "plt.plot(correct_species_rate,correct_genus_rate)\n",
    "plt.xlabel(\"Correct Species Rate\")\n",
    "plt.ylabel(\"Correct Genus Rate\")"
   ]
  },
  {
   "cell_type": "code",
   "execution_count": 54,
   "metadata": {
    "scrolled": true
   },
   "outputs": [
    {
     "name": "stdout",
     "output_type": "stream",
     "text": [
      "0\n",
      "0.0\n",
      "0.9913854989231874\n",
      "\n",
      "\n",
      "\n",
      "1\n",
      "0.004815795810257645\n",
      "0.9913854989231874\n",
      "\n",
      "\n",
      "\n",
      "2\n",
      "0.007946063086925114\n",
      "0.9910265613783201\n",
      "\n",
      "\n",
      "\n",
      "3\n",
      "0.010835540573079701\n",
      "0.9910265613783201\n",
      "\n",
      "\n",
      "\n",
      "4\n",
      "0.01396580784974717\n",
      "0.990667623833453\n",
      "\n",
      "\n",
      "\n",
      "5\n",
      "0.01709607512641464\n",
      "0.990667623833453\n",
      "\n",
      "\n",
      "\n",
      "6\n",
      "0.019022393450517698\n",
      "0.990667623833453\n",
      "\n",
      "\n",
      "\n",
      "7\n",
      "0.020948711774620755\n",
      "0.990667623833453\n",
      "\n",
      "\n",
      "\n",
      "8\n",
      "0.02335660967974958\n",
      "0.990667623833453\n",
      "\n",
      "\n",
      "\n",
      "9\n",
      "0.027450036118468576\n",
      "0.990667623833453\n",
      "\n",
      "\n",
      "\n",
      "10\n",
      "0.031543462557187575\n",
      "0.990667623833453\n",
      "\n",
      "\n",
      "\n",
      "11\n",
      "0.036118468576932336\n",
      "0.990667623833453\n",
      "\n",
      "\n",
      "\n",
      "12\n",
      "0.03852636648206116\n",
      "0.9903086862885858\n",
      "\n",
      "\n",
      "\n",
      "13\n",
      "0.042379003130267275\n",
      "0.9903086862885858\n",
      "\n",
      "\n",
      "\n",
      "14\n",
      "0.04695400915001204\n",
      "0.9903086862885858\n",
      "\n",
      "\n",
      "\n",
      "15\n",
      "0.05249217433180833\n",
      "0.9903086862885858\n",
      "\n",
      "\n",
      "\n",
      "16\n",
      "0.05634481098001445\n",
      "0.9903086862885858\n",
      "\n",
      "\n",
      "\n",
      "17\n",
      "0.059956657837707684\n",
      "0.9899497487437185\n",
      "\n",
      "\n",
      "\n",
      "18\n",
      "0.06260534553334939\n",
      "0.9899497487437185\n",
      "\n",
      "\n",
      "\n",
      "19\n",
      "0.06501324343847821\n",
      "0.9895908111988514\n",
      "\n",
      "\n",
      "\n",
      "20\n",
      "0.06886588008668433\n",
      "0.9895908111988514\n",
      "\n",
      "\n",
      "\n",
      "21\n",
      "0.07271851673489044\n",
      "0.9895908111988514\n",
      "\n",
      "\n",
      "\n",
      "22\n",
      "0.07657115338309656\n",
      "0.9895908111988514\n",
      "\n",
      "\n",
      "\n",
      "23\n",
      "0.07970142065976403\n",
      "0.9895908111988514\n",
      "\n",
      "\n",
      "\n",
      "24\n",
      "0.08210931856489286\n",
      "0.9895908111988514\n",
      "\n",
      "\n",
      "\n",
      "25\n",
      "0.08644353479412473\n",
      "0.9895908111988514\n",
      "\n",
      "\n",
      "\n",
      "26\n",
      "0.0910185408138695\n",
      "0.9895908111988514\n",
      "\n",
      "\n",
      "\n",
      "27\n",
      "0.09535275704310137\n",
      "0.9895908111988514\n",
      "\n",
      "\n",
      "\n",
      "28\n",
      "0.0989646039007946\n",
      "0.9895908111988514\n",
      "\n",
      "\n",
      "\n",
      "29\n",
      "0.10329882013002649\n",
      "0.9895908111988514\n",
      "\n",
      "\n",
      "\n",
      "30\n",
      "0.10883698531182277\n",
      "0.9895908111988514\n",
      "\n",
      "\n",
      "\n",
      "31\n",
      "0.1126896219600289\n",
      "0.9895908111988514\n",
      "\n",
      "\n",
      "\n",
      "32\n",
      "0.11581988923669637\n",
      "0.9895908111988514\n",
      "\n",
      "\n",
      "\n",
      "33\n",
      "0.120635685046954\n",
      "0.9895908111988514\n",
      "\n",
      "\n",
      "\n",
      "34\n",
      "0.12400674211413436\n",
      "0.9895908111988514\n",
      "\n",
      "\n",
      "\n",
      "35\n",
      "0.13098964603900795\n",
      "0.988872936109117\n",
      "\n",
      "\n",
      "\n",
      "36\n",
      "0.13628702143029137\n",
      "0.988872936109117\n",
      "\n",
      "\n",
      "\n",
      "37\n",
      "0.14206597640260052\n",
      "0.988872936109117\n",
      "\n",
      "\n",
      "\n",
      "38\n",
      "0.14615940284131954\n",
      "0.988872936109117\n",
      "\n",
      "\n",
      "\n",
      "39\n",
      "0.15025282928003852\n",
      "0.988872936109117\n",
      "\n",
      "\n",
      "\n",
      "40\n",
      "0.15530941488080904\n",
      "0.988872936109117\n",
      "\n",
      "\n",
      "\n",
      "41\n",
      "0.15940284131952806\n",
      "0.988872936109117\n",
      "\n",
      "\n",
      "\n",
      "42\n",
      "0.16373705754875995\n",
      "0.988872936109117\n",
      "\n",
      "\n",
      "\n",
      "43\n",
      "0.169756802311582\n",
      "0.988872936109117\n",
      "\n",
      "\n",
      "\n",
      "44\n",
      "0.1748133879123525\n",
      "0.9885139985642498\n",
      "\n",
      "\n",
      "\n",
      "45\n",
      "0.18155550204671322\n",
      "0.9885139985642498\n",
      "\n",
      "\n",
      "\n",
      "46\n",
      "0.18540813869491934\n",
      "0.9885139985642498\n",
      "\n",
      "\n",
      "\n",
      "47\n",
      "0.1899831447146641\n",
      "0.9885139985642498\n",
      "\n",
      "\n",
      "\n",
      "48\n",
      "0.19503973031543462\n",
      "0.9885139985642498\n",
      "\n",
      "\n",
      "\n",
      "49\n",
      "0.20154105465928246\n",
      "0.9885139985642498\n",
      "\n",
      "\n",
      "\n",
      "50\n",
      "0.20635685046954008\n",
      "0.9885139985642498\n",
      "\n",
      "\n",
      "\n",
      "51\n",
      "0.21141343607031063\n",
      "0.9885139985642498\n",
      "\n",
      "\n",
      "\n",
      "52\n",
      "0.21671081146159402\n",
      "0.9877961234745154\n",
      "\n",
      "\n",
      "\n",
      "53\n",
      "0.22321213580544186\n",
      "0.9877961234745154\n",
      "\n",
      "\n",
      "\n",
      "54\n",
      "0.22995424993980254\n",
      "0.9877961234745154\n",
      "\n",
      "\n",
      "\n",
      "55\n",
      "0.23669636407416325\n",
      "0.9877961234745154\n",
      "\n",
      "\n",
      "\n",
      "56\n",
      "0.241271370093908\n",
      "0.9877961234745154\n",
      "\n",
      "\n",
      "\n",
      "57\n",
      "0.24680953527570432\n",
      "0.9877961234745154\n",
      "\n",
      "\n",
      "\n",
      "58\n",
      "0.25307006982903923\n",
      "0.9877961234745154\n",
      "\n",
      "\n",
      "\n",
      "59\n",
      "0.25692270647724536\n",
      "0.9877961234745154\n",
      "\n",
      "\n",
      "\n",
      "60\n",
      "0.2622200818685288\n",
      "0.9870782483847811\n",
      "\n",
      "\n",
      "\n",
      "61\n",
      "0.2679990368408379\n",
      "0.9870782483847811\n",
      "\n",
      "\n",
      "\n",
      "62\n",
      "0.2752227305562244\n",
      "0.9870782483847811\n",
      "\n",
      "\n",
      "\n",
      "63\n",
      "0.28172405490007224\n",
      "0.9870782483847811\n",
      "\n",
      "\n",
      "\n",
      "64\n",
      "0.2865398507103299\n",
      "0.9870782483847811\n",
      "\n",
      "\n",
      "\n",
      "65\n",
      "0.2930411750541777\n",
      "0.9870782483847811\n",
      "\n",
      "\n",
      "\n",
      "66\n",
      "0.3012280279316157\n",
      "0.9867193108399138\n",
      "\n",
      "\n",
      "\n",
      "67\n",
      "0.30700698290392486\n",
      "0.9867193108399138\n",
      "\n",
      "\n",
      "\n",
      "68\n",
      "0.31302672766674694\n",
      "0.9867193108399138\n",
      "\n",
      "\n",
      "\n",
      "69\n",
      "0.3200096315916205\n",
      "0.9860014357501795\n",
      "\n",
      "\n",
      "\n",
      "70\n",
      "0.3296412232121358\n",
      "0.9856424982053122\n",
      "\n",
      "\n",
      "\n",
      "71\n",
      "0.3361425475559836\n",
      "0.9849246231155779\n",
      "\n",
      "\n",
      "\n",
      "72\n",
      "0.3448109800144474\n",
      "0.9845656855707107\n",
      "\n",
      "\n",
      "\n",
      "73\n",
      "0.35034914519624366\n",
      "0.9842067480258435\n",
      "\n",
      "\n",
      "\n",
      "74\n",
      "0.3582952082831688\n",
      "0.9831299353912419\n",
      "\n",
      "\n",
      "\n",
      "75\n",
      "0.36672285095111967\n",
      "0.9827709978463748\n",
      "\n",
      "\n",
      "\n",
      "76\n",
      "0.37515049361907055\n",
      "0.9824120603015075\n",
      "\n",
      "\n",
      "\n",
      "77\n",
      "0.3833373464965085\n",
      "0.9824120603015075\n",
      "\n",
      "\n",
      "\n",
      "78\n",
      "0.3908018300024079\n",
      "0.9813352476669059\n",
      "\n",
      "\n",
      "\n",
      "79\n",
      "0.39802552371779437\n",
      "0.9813352476669059\n",
      "\n",
      "\n",
      "\n",
      "80\n",
      "0.40669395617625814\n",
      "0.9813352476669059\n",
      "\n",
      "\n",
      "\n",
      "81\n",
      "0.41849265591138934\n",
      "0.9809763101220388\n",
      "\n",
      "\n",
      "\n",
      "82\n",
      "0.42860582711293044\n",
      "0.9806173725771715\n",
      "\n",
      "\n",
      "\n",
      "83\n",
      "0.4394413676860101\n",
      "0.9798994974874372\n",
      "\n",
      "\n",
      "\n",
      "84\n",
      "0.4483505899349868\n",
      "0.9791816223977028\n",
      "\n",
      "\n",
      "\n",
      "85\n",
      "0.4611124488321695\n",
      "0.9777458722182341\n",
      "\n",
      "\n",
      "\n",
      "86\n",
      "0.47531904647242956\n",
      "0.9766690595836325\n",
      "\n",
      "\n",
      "\n",
      "87\n",
      "0.48735853599807366\n",
      "0.9763101220387652\n",
      "\n",
      "\n",
      "\n",
      "88\n",
      "0.498916445942692\n",
      "0.9759511844938981\n",
      "\n",
      "\n",
      "\n",
      "89\n",
      "0.5116783048398748\n",
      "0.9755922469490309\n",
      "\n",
      "\n",
      "\n",
      "90\n",
      "0.5268480616421863\n",
      "0.9745154343144293\n",
      "\n",
      "\n",
      "\n",
      "91\n",
      "0.5408138694919336\n",
      "0.9734386216798278\n",
      "\n",
      "\n",
      "\n",
      "92\n",
      "0.5528533590175777\n",
      "0.9712849964106246\n",
      "\n",
      "\n",
      "\n",
      "93\n",
      "0.5713941728870696\n",
      "0.9698492462311558\n",
      "\n",
      "\n",
      "\n",
      "94\n",
      "0.5875270888514327\n",
      "0.968413496051687\n",
      "\n",
      "\n",
      "\n",
      "95\n",
      "0.6065494823019504\n",
      "0.9655419956927495\n",
      "\n",
      "\n",
      "\n",
      "96\n",
      "0.6250902961714423\n",
      "0.9583632447954056\n",
      "\n",
      "\n",
      "\n",
      "97\n",
      "0.6498916445942692\n",
      "0.9508255563531945\n",
      "\n",
      "\n",
      "\n",
      "98\n",
      "0.676860101131712\n",
      "0.9407753050969131\n",
      "\n",
      "\n",
      "\n",
      "99\n",
      "0.7093667228509511\n",
      "0.9073941134242641\n",
      "\n",
      "\n",
      "\n"
     ]
    }
   ],
   "source": [
    "for index in range(0,100,1):\n",
    "    print(index)\n",
    "    print(correct_genus_rate[index])\n",
    "    print(correct_species_rate[index])\n",
    "    print('\\n\\n')"
   ]
  },
  {
   "cell_type": "code",
   "execution_count": 56,
   "metadata": {},
   "outputs": [
    {
     "name": "stdout",
     "output_type": "stream",
     "text": [
      "0.20635685046954008\n"
     ]
    },
    {
     "data": {
      "text/plain": [
       "0.9885139985642498"
      ]
     },
     "execution_count": 56,
     "metadata": {},
     "output_type": "execute_result"
    }
   ],
   "source": [
    "print(correct_genus_rate[50])\n",
    "correct_species_rate[50]"
   ]
  },
  {
   "cell_type": "code",
   "execution_count": null,
   "metadata": {},
   "outputs": [],
   "source": []
  },
  {
   "cell_type": "code",
   "execution_count": null,
   "metadata": {},
   "outputs": [],
   "source": []
  },
  {
   "cell_type": "code",
   "execution_count": null,
   "metadata": {},
   "outputs": [],
   "source": []
  },
  {
   "cell_type": "code",
   "execution_count": null,
   "metadata": {},
   "outputs": [],
   "source": []
  }
 ],
 "metadata": {
  "kernelspec": {
   "display_name": "Python 3 (ipykernel)",
   "language": "python",
   "name": "python3"
  },
  "language_info": {
   "codemirror_mode": {
    "name": "ipython",
    "version": 3
   },
   "file_extension": ".py",
   "mimetype": "text/x-python",
   "name": "python",
   "nbconvert_exporter": "python",
   "pygments_lexer": "ipython3",
   "version": "3.12.2"
  }
 },
 "nbformat": 4,
 "nbformat_minor": 4
}
