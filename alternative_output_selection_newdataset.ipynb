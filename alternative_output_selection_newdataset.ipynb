{
 "cells": [
  {
   "cell_type": "code",
   "execution_count": 1,
   "metadata": {},
   "outputs": [
    {
     "data": {
      "text/plain": [
       "<module 'dataset_utils' from '/home/fogliodicarta/Desktop/InsectClassification/dataset_utils.py'>"
      ]
     },
     "execution_count": 1,
     "metadata": {},
     "output_type": "execute_result"
    }
   ],
   "source": [
    "import torch\n",
    "import torchvision\n",
    "from torch import nn\n",
    "from torchvision import transforms\n",
    "import matplotlib.pyplot as plt\n",
    "import pandas as pd\n",
    "from IPython.display import Image \n",
    "import numpy as np\n",
    "import dataset_utils\n",
    "import importlib\n",
    "from sklearn.multioutput import MultiOutputClassifier\n",
    "from sklearn.svm import LinearSVC,SVC\n",
    "from sklearn.ensemble import RandomForestClassifier\n",
    "from sklearn.ensemble import BaggingClassifier \n",
    "from sklearn.preprocessing import StandardScaler\n",
    "\n",
    "importlib.reload(dataset_utils)"
   ]
  },
  {
   "cell_type": "markdown",
   "metadata": {},
   "source": [
    "# Dati nostri"
   ]
  },
  {
   "cell_type": "code",
   "execution_count": 2,
   "metadata": {},
   "outputs": [],
   "source": [
    "df = pd.read_csv('final_dataset.csv',index_col=0)\n",
    "tform = transforms.Compose([transforms.Resize((64,64)),transforms.PILToTensor(),transforms.ConvertImageDtype(torch.float),transforms.Normalize(0.5,0.5)])\n",
    "image_dataset = torchvision.datasets.ImageFolder(\"image_dataset/\",transform=tform)\n",
    "species2genus = dataset_utils.species_label_to_genus_label(df,image_dataset)\n",
    "batch_size = 1000 \n",
    "import random\n",
    "import dataset_utils\n",
    "img2dna = dataset_utils.get_imgs_bold_id(image_dataset,df)\n",
    "\n",
    "nucleotides = df[['nucleotide','species_name','genus_name','processid','image_urls']]\n",
    "colonna_dna = df.loc[:,\"nucleotide\"]\n",
    "nucleotides.loc[:,'nucleotide'] = colonna_dna.apply(dataset_utils.one_hot_encoding)\n",
    "random.seed(42)\n",
    "\n",
    "X_train_1, X_test, y_train_1, y_test = dataset_utils.data_split(nucleotides,0.2,random_state=42)\n",
    "#print(y_test)\n",
    "train_data = X_train_1\n",
    "train_data['species_name'] = y_train_1\n",
    "\n",
    "X_train, X_validation, y_train, y_validation = dataset_utils.data_split(train_data,0.2,drop_labels=False,random_state=42)\n",
    "train_indices, val_indices, test_indices = dataset_utils.image_splits_from_df(X_train,X_validation,X_test,image_dataset)\n",
    "\n",
    "described_species_labels = np.array([image_dataset.targets[i] for i in train_indices])\n",
    "described_species_labels = np.unique(described_species_labels)"
   ]
  },
  {
   "cell_type": "code",
   "execution_count": 3,
   "metadata": {},
   "outputs": [],
   "source": [
    "expanded_train_dna_features = torch.load('dna_train_features.pt')\n",
    "expanded_train_dna_labels = torch.load('dna_train_labels.pt')\n",
    "image_train_features = torch.load('img_train_features.pt')\n",
    "image_train_labels= torch.load('img_train_labels.pt')\n",
    "assert((image_train_labels == expanded_train_dna_labels).all())"
   ]
  },
  {
   "cell_type": "code",
   "execution_count": 4,
   "metadata": {},
   "outputs": [],
   "source": [
    "expanded_val_dna_features = torch.load('dna_val_features.pt')\n",
    "expanded_val_dna_labels = torch.load('dna_val_labels.pt')\n",
    "image_val_features = torch.load('img_val_features.pt')\n",
    "image_val_labels = torch.load('img_val_labels.pt')\n",
    "assert((image_val_labels == expanded_val_dna_labels).all())"
   ]
  },
  {
   "cell_type": "code",
   "execution_count": 5,
   "metadata": {},
   "outputs": [],
   "source": [
    "expanded_test_dna_features = torch.load('dna_test_features.pt')\n",
    "expanded_test_dna_labels = torch.load('dna_test_labels.pt')\n",
    "image_test_features = torch.load('img_test_features.pt')\n",
    "image_test_labels = torch.load('img_test_labels.pt')\n",
    "assert((image_test_labels == expanded_test_dna_labels).all())\n",
    "n_classes = 1050"
   ]
  },
  {
   "cell_type": "code",
   "execution_count": 6,
   "metadata": {},
   "outputs": [
    {
     "data": {
      "text/plain": [
       "'class InsectNet(torch.nn.Module):\\n    def __init__(self):\\n        super(InsectNet, self).__init__()\\n        self.dout0 = nn.Dropout()\\n        self.linear1 = nn.Linear(5298,5000)\\n        self.act1 = nn.LeakyReLU()\\n        self.dout1 = nn.Dropout()\\n\\n        self.linearG = nn.Linear(5000,372)\\n        self.linearS = nn.Linear(5000,n_classes)\\n    def forward(self, x):\\n        x = self.dout0(x)\\n        x = self.linear1(x)\\n        x = self.act1(x)\\n        x = self.dout1(x)\\n        x_species = self.linearS(x)\\n        x_genus = self.linearG(x)\\n\\n        x_species = nn.functional.softmax(x_species)\\n        x_genus = nn.functional.softmax(x_genus)\\n        return x_species,x_genus\\n\\n#species2genus = np.array(species2genus)'"
      ]
     },
     "execution_count": 6,
     "metadata": {},
     "output_type": "execute_result"
    }
   ],
   "source": [
    "'''class InsectNet(torch.nn.Module):\n",
    "    def __init__(self):\n",
    "        super(InsectNet, self).__init__()\n",
    "        #self.drop1 = nn.Dropout(p=0.7)\n",
    "        self.linear1 = nn.Linear(3250,3000)\n",
    "        self.act1 = nn.LeakyReLU()\n",
    "        self.linear2 = nn.Linear(3000,2000)\n",
    "        self.act2 = nn.LeakyReLU()\n",
    "        self.linearHeadGenus = nn.Linear(2000,372)\n",
    "        self.linearHeadSpecies = nn.Linear(2000,n_classes)\n",
    "    def forward(self, x):\n",
    "        #x = self.drop1(x)\n",
    "        x = self.linear1(x)\n",
    "        x = self.act1(x)\n",
    "        x = self.linear2(x)\n",
    "        x = self.act2(x)\n",
    "        x_species = self.linearHeadSpecies(x)\n",
    "        x_genus = self.linearHeadGenus(x)\n",
    "        x_species = torch.nn.functional.softmax(x_species)\n",
    "        x_genus = torch.nn.functional.softmax(x_genus)\n",
    "        return x_species,x_genus\n",
    "'''\n",
    "class InsectNet(torch.nn.Module):\n",
    "    def __init__(self):\n",
    "        super(InsectNet, self).__init__()\n",
    "        self.dout = nn.Dropout(p=0.8)\n",
    "        self.linear1 = nn.Linear(5298,372)\n",
    "        self.act1 = nn.LeakyReLU()\n",
    "        self.linear2 = nn.Linear(372,n_classes)\n",
    "        self.act2 = nn.Softmax()\n",
    "    def forward(self, x):\n",
    "        x = self.dout(x)\n",
    "        x = self.linear1(x)\n",
    "        x_genus = torch.nn.functional.softmax(x)\n",
    "        x = self.act1(x)\n",
    "        x = self.linear2(x)\n",
    "        x = self.act2(x)\n",
    "        return x,x_genus\n",
    "\n",
    "'''class InsectNet(torch.nn.Module):\n",
    "    def __init__(self):\n",
    "        super(InsectNet, self).__init__()\n",
    "        self.dout0 = nn.Dropout()\n",
    "        self.linear1 = nn.Linear(5298,5000)\n",
    "        self.act1 = nn.LeakyReLU()\n",
    "        self.dout1 = nn.Dropout()\n",
    "\n",
    "        self.linearG = nn.Linear(5000,372)\n",
    "        self.linearS = nn.Linear(5000,n_classes)\n",
    "    def forward(self, x):\n",
    "        x = self.dout0(x)\n",
    "        x = self.linear1(x)\n",
    "        x = self.act1(x)\n",
    "        x = self.dout1(x)\n",
    "        x_species = self.linearS(x)\n",
    "        x_genus = self.linearG(x)\n",
    "\n",
    "        x_species = nn.functional.softmax(x_species)\n",
    "        x_genus = nn.functional.softmax(x_genus)\n",
    "        return x_species,x_genus\n",
    "\n",
    "#species2genus = np.array(species2genus)'''"
   ]
  },
  {
   "cell_type": "code",
   "execution_count": 7,
   "metadata": {},
   "outputs": [
    {
     "name": "stdout",
     "output_type": "stream",
     "text": [
      "[234 234 235 ...  44  44 311]\n"
     ]
    },
    {
     "data": {
      "text/plain": [
       "(1050, 1)"
      ]
     },
     "execution_count": 7,
     "metadata": {},
     "output_type": "execute_result"
    }
   ],
   "source": [
    "sorted_keys = sorted(species2genus.keys())\n",
    "species2genus = np.array([species2genus[key] for key in sorted_keys])\n",
    "print(species2genus)\n",
    "species2genus = species2genus[...,np.newaxis]\n",
    "species2genus.shape"
   ]
  },
  {
   "cell_type": "code",
   "execution_count": 8,
   "metadata": {},
   "outputs": [
    {
     "data": {
      "text/plain": [
       "torch.Size([13039, 2048])"
      ]
     },
     "execution_count": 8,
     "metadata": {},
     "output_type": "execute_result"
    }
   ],
   "source": [
    "image_train_features.shape"
   ]
  },
  {
   "cell_type": "code",
   "execution_count": 9,
   "metadata": {},
   "outputs": [
    {
     "data": {
      "text/plain": [
       "torch.Size([13039])"
      ]
     },
     "execution_count": 9,
     "metadata": {},
     "output_type": "execute_result"
    }
   ],
   "source": [
    "image_train_labels.shape"
   ]
  },
  {
   "cell_type": "code",
   "execution_count": 10,
   "metadata": {},
   "outputs": [
    {
     "data": {
      "text/plain": [
       "torch.Size([13039, 3250])"
      ]
     },
     "execution_count": 10,
     "metadata": {},
     "output_type": "execute_result"
    }
   ],
   "source": [
    "expanded_train_dna_features.shape"
   ]
  },
  {
   "cell_type": "code",
   "execution_count": 11,
   "metadata": {},
   "outputs": [
    {
     "data": {
      "text/plain": [
       "torch.Size([13039])"
      ]
     },
     "execution_count": 11,
     "metadata": {},
     "output_type": "execute_result"
    }
   ],
   "source": [
    "expanded_train_dna_labels.shape\n"
   ]
  },
  {
   "cell_type": "markdown",
   "metadata": {},
   "source": [
    "# CONTROLLARE STA ROBA DI TRAIN VAL PRIMA DELLO SCALER"
   ]
  },
  {
   "cell_type": "code",
   "execution_count": 12,
   "metadata": {},
   "outputs": [
    {
     "name": "stdout",
     "output_type": "stream",
     "text": [
      "ATTENZIONE A STA ROBA NON DIMENTICARE!!!!!!!!!!!!!!!!!!!!!!!!!!!!!!!\n"
     ]
    }
   ],
   "source": [
    "is_train_val = False \n",
    "print(\"ATTENZIONE A STA ROBA NON DIMENTICARE!!!!!!!!!!!!!!!!!!!!!!!!!!!!!!!\")\n",
    "complete_train_features = torch.cat((expanded_train_dna_features,image_train_features),dim=1)\n",
    "complete_val_features = torch.cat((expanded_val_dna_features,image_val_features),dim=1)\n",
    "complete_test_features = torch.cat((expanded_test_dna_features,image_test_features),dim=1)\n",
    "if is_train_val:\n",
    "    complete_train_features = torch.cat((complete_train_features,complete_val_features),dim=0)\n",
    "    complete_val_features = complete_test_features\n",
    "    image_train_labels = torch.cat((image_train_labels,image_val_labels),dim=0)\n",
    "    image_val_labels = image_test_labels\n",
    "\n",
    "scaler = StandardScaler()\n",
    "\n",
    "complete_train_features_scaled = scaler.fit_transform(complete_train_features)\n",
    "complete_val_features_scaled = scaler.transform(complete_val_features)"
   ]
  },
  {
   "cell_type": "code",
   "execution_count": 13,
   "metadata": {},
   "outputs": [
    {
     "data": {
      "text/plain": [
       "(13039, 5298)"
      ]
     },
     "execution_count": 13,
     "metadata": {},
     "output_type": "execute_result"
    }
   ],
   "source": [
    "complete_train_features_scaled.shape"
   ]
  },
  {
   "cell_type": "code",
   "execution_count": 14,
   "metadata": {},
   "outputs": [
    {
     "data": {
      "text/plain": [
       "(6955, 5298)"
      ]
     },
     "execution_count": 14,
     "metadata": {},
     "output_type": "execute_result"
    }
   ],
   "source": [
    "complete_val_features_scaled.shape"
   ]
  },
  {
   "cell_type": "code",
   "execution_count": 15,
   "metadata": {},
   "outputs": [],
   "source": [
    "from torch.utils.data import Dataset\n",
    "class FeatureDataset(Dataset):\n",
    "    def __init__(self, data, targets, transform=None):\n",
    "        self.data = data\n",
    "        self.targets = targets\n",
    "        \n",
    "    def __getitem__(self, index):\n",
    "        x = self.data[index]\n",
    "        y = self.targets[index].type(torch.LongTensor)\n",
    "        \n",
    "        #if self.transform:\n",
    "        #    x = Image.fromarray(self.data[index].astype(np.uint8).transpose(1,2,0))\n",
    "        #    x = self.transform(x)\n",
    "        \n",
    "        return x, y\n",
    "    \n",
    "    def __len__(self):\n",
    "        return len(self.data)\n",
    "complete_train_features_scaled = torch.tensor(complete_train_features_scaled,dtype=torch.float)\n",
    "complete_val_features_scaled = torch.tensor(complete_val_features_scaled,dtype=torch.float)\n",
    "\n",
    "d_train = FeatureDataset(complete_train_features_scaled,image_train_labels)\n",
    "d_val = FeatureDataset(complete_val_features_scaled,image_val_labels)"
   ]
  },
  {
   "cell_type": "code",
   "execution_count": 16,
   "metadata": {},
   "outputs": [
    {
     "data": {
      "text/plain": [
       "371"
      ]
     },
     "execution_count": 16,
     "metadata": {},
     "output_type": "execute_result"
    }
   ],
   "source": [
    "species2genus.min()\n",
    "species2genus.max()"
   ]
  },
  {
   "cell_type": "code",
   "execution_count": 17,
   "metadata": {},
   "outputs": [
    {
     "data": {
      "text/plain": [
       "(1050, 1)"
      ]
     },
     "execution_count": 17,
     "metadata": {},
     "output_type": "execute_result"
    }
   ],
   "source": [
    "species2genus.shape"
   ]
  },
  {
   "cell_type": "code",
   "execution_count": 18,
   "metadata": {},
   "outputs": [
    {
     "data": {
      "text/plain": [
       "torch.Size([13039, 5298])"
      ]
     },
     "execution_count": 18,
     "metadata": {},
     "output_type": "execute_result"
    }
   ],
   "source": [
    "complete_train_features_scaled.shape"
   ]
  },
  {
   "cell_type": "markdown",
   "metadata": {},
   "source": [
    "# Fitting model"
   ]
  },
  {
   "cell_type": "code",
   "execution_count": 19,
   "metadata": {},
   "outputs": [],
   "source": [
    "from torch.utils.data import DataLoader\n",
    "batch_size = 1000\n",
    "train_loader = DataLoader(d_train,shuffle=True,batch_size = batch_size)\n",
    "val_loader = DataLoader(d_val,shuffle=True,batch_size = batch_size)\n",
    "dataloaders = {'train':train_loader,'val':val_loader}\n",
    "dataset_sizes = {'train':len(d_train.targets),'val':len(d_val.targets)}"
   ]
  },
  {
   "cell_type": "code",
   "execution_count": 20,
   "metadata": {},
   "outputs": [],
   "source": [
    "device = torch.device(\"cuda:0\" if torch.cuda.is_available() else \"cpu\")\n",
    "model = InsectNet().to(device)\n",
    "optimizer = torch.optim.Adam(model.parameters(),weight_decay=1e-5)\n",
    "scheduler = torch.optim.lr_scheduler.CosineAnnealingLR(optimizer,T_max=2*len(train_loader))"
   ]
  },
  {
   "cell_type": "code",
   "execution_count": 21,
   "metadata": {},
   "outputs": [],
   "source": [
    "from tqdm.notebook import tqdm\n",
    "def fit(epochs,dataloaders,optimizer,model,start_idx=0):\n",
    "    criterion = torch.nn.NLLLoss()\n",
    "    if device == 'cuda:0':\n",
    "        torch.cuda.empty_cache()\n",
    "    \n",
    "    train_losses = []\n",
    "    train_scores = []\n",
    "    val_losses = []\n",
    "    val_scores = []\n",
    "    for epoch in range(epochs):\n",
    "        running_train_corrects = 0\n",
    "        running_train_corrects_genus = 0\n",
    "        for features,labels in tqdm(dataloaders['train']):\n",
    "            model.train()\n",
    "            genus_labels = torch.tensor(species2genus[labels.int()]).squeeze().to(device)\n",
    "            features = features.to(device)\n",
    "            labels = labels.type(torch.LongTensor).to(device)\n",
    "            \n",
    "            optimizer.zero_grad()\n",
    "            predicted_labels,predicted_genus_labels = model(features)\n",
    "            \n",
    "            train_loss = criterion(predicted_labels,labels)\n",
    "            train_genus_loss = criterion(predicted_genus_labels,genus_labels)\n",
    "            train_loss+=train_genus_loss\n",
    "            train_loss.backward()\n",
    "            optimizer.step()\n",
    "            scheduler.step()\n",
    "            \n",
    "            _, preds = torch.max(predicted_labels, 1)\n",
    "            _, genus_preds = torch.max(predicted_genus_labels, 1)\n",
    "            running_train_corrects += torch.sum(preds == labels.data)\n",
    "            running_train_corrects_genus += torch.sum(genus_preds == genus_labels)\n",
    "        train_losses.append(train_loss)\n",
    "        running_val_corrects = 0\n",
    "        running_val_corrects_genus = 0\n",
    "        for features,labels in tqdm(dataloaders['val']):\n",
    "            \n",
    "            model.eval()\n",
    "            with torch.no_grad():\n",
    "                genus_labels = torch.tensor(species2genus[labels.int()]).squeeze().to(device)\n",
    "                features = features.to(device)\n",
    "                labels = labels.type(torch.LongTensor).to(device)\n",
    "                optimizer.zero_grad()\n",
    "                \n",
    "                predicted_labels,predicted_genus_labels = model(features)\n",
    "                val_loss = criterion(predicted_labels,labels)\n",
    "                \n",
    "                _, preds = torch.max(predicted_labels, 1)\n",
    "                _, genus_preds = torch.max(predicted_genus_labels, 1)\n",
    "                running_val_corrects += torch.sum(preds == labels.data)\n",
    "                running_val_corrects_genus += torch.sum(genus_preds == genus_labels)\n",
    "        val_losses.append(val_loss)\n",
    "        epoch_train_acc = running_train_corrects.double() / dataset_sizes['train']\n",
    "        epoch_train_acc_genus = running_train_corrects_genus.double() / dataset_sizes['train']\n",
    "        epoch_val_acc = running_val_corrects.double() / dataset_sizes['val']\n",
    "        epoch_val_acc_genus = running_val_corrects_genus.double() / dataset_sizes['val']\n",
    "        print(\"Epoch [{}/{}], train_loss: {:.4f},  train_score: {:.4f},val_loss: {:.4f},  val_score: {:.4f}, genus train_score{:.4f}, genus val_score{:.4f}\".format(\n",
    "            epoch+1, epochs, train_loss, epoch_train_acc,val_loss,epoch_val_acc,epoch_train_acc_genus,epoch_val_acc_genus))\n",
    "    return train_losses"
   ]
  },
  {
   "cell_type": "code",
   "execution_count": 46,
   "metadata": {
    "scrolled": true
   },
   "outputs": [
    {
     "data": {
      "application/vnd.jupyter.widget-view+json": {
       "model_id": "004e7451e4b44180a1c3786677175b63",
       "version_major": 2,
       "version_minor": 0
      },
      "text/plain": [
       "  0%|          | 0/14 [00:00<?, ?it/s]"
      ]
     },
     "metadata": {},
     "output_type": "display_data"
    },
    {
     "name": "stderr",
     "output_type": "stream",
     "text": [
      "/tmp/ipykernel_26875/509102700.py:34: UserWarning: Implicit dimension choice for softmax has been deprecated. Change the call to include dim=X as an argument.\n",
      "  x_genus = torch.nn.functional.softmax(x)\n"
     ]
    },
    {
     "data": {
      "application/vnd.jupyter.widget-view+json": {
       "model_id": "7680ad3c7b2b4169ac67c74c62501453",
       "version_major": 2,
       "version_minor": 0
      },
      "text/plain": [
       "  0%|          | 0/7 [00:00<?, ?it/s]"
      ]
     },
     "metadata": {},
     "output_type": "display_data"
    },
    {
     "name": "stdout",
     "output_type": "stream",
     "text": [
      "Epoch [1/200], train_loss: -1.9741,  train_score: 0.9815,val_loss: -0.4543,  val_score: 0.4482, genus train_score0.9880, genus val_score0.9249\n"
     ]
    },
    {
     "data": {
      "application/vnd.jupyter.widget-view+json": {
       "model_id": "735879732cd14b34870d66834360a77f",
       "version_major": 2,
       "version_minor": 0
      },
      "text/plain": [
       "  0%|          | 0/14 [00:00<?, ?it/s]"
      ]
     },
     "metadata": {},
     "output_type": "display_data"
    },
    {
     "data": {
      "application/vnd.jupyter.widget-view+json": {
       "model_id": "a667f2c8b9624b26932cecb36548a80c",
       "version_major": 2,
       "version_minor": 0
      },
      "text/plain": [
       "  0%|          | 0/7 [00:00<?, ?it/s]"
      ]
     },
     "metadata": {},
     "output_type": "display_data"
    },
    {
     "name": "stdout",
     "output_type": "stream",
     "text": [
      "Epoch [2/200], train_loss: -1.9733,  train_score: 0.9810,val_loss: -0.4562,  val_score: 0.4482, genus train_score0.9880, genus val_score0.9245\n"
     ]
    },
    {
     "data": {
      "application/vnd.jupyter.widget-view+json": {
       "model_id": "1b9f691bbda541a29c0f3ae6fa496229",
       "version_major": 2,
       "version_minor": 0
      },
      "text/plain": [
       "  0%|          | 0/14 [00:00<?, ?it/s]"
      ]
     },
     "metadata": {},
     "output_type": "display_data"
    },
    {
     "data": {
      "application/vnd.jupyter.widget-view+json": {
       "model_id": "99d244ee256045dfb9ec0eacead57032",
       "version_major": 2,
       "version_minor": 0
      },
      "text/plain": [
       "  0%|          | 0/7 [00:00<?, ?it/s]"
      ]
     },
     "metadata": {},
     "output_type": "display_data"
    },
    {
     "name": "stdout",
     "output_type": "stream",
     "text": [
      "Epoch [3/200], train_loss: -1.9999,  train_score: 0.9809,val_loss: -0.4496,  val_score: 0.4479, genus train_score0.9881, genus val_score0.9242\n"
     ]
    },
    {
     "data": {
      "application/vnd.jupyter.widget-view+json": {
       "model_id": "c5003de1c4b240f184dd1e147361fc05",
       "version_major": 2,
       "version_minor": 0
      },
      "text/plain": [
       "  0%|          | 0/14 [00:00<?, ?it/s]"
      ]
     },
     "metadata": {},
     "output_type": "display_data"
    },
    {
     "data": {
      "application/vnd.jupyter.widget-view+json": {
       "model_id": "2dc2141f9598408598c0249741216788",
       "version_major": 2,
       "version_minor": 0
      },
      "text/plain": [
       "  0%|          | 0/7 [00:00<?, ?it/s]"
      ]
     },
     "metadata": {},
     "output_type": "display_data"
    },
    {
     "name": "stdout",
     "output_type": "stream",
     "text": [
      "Epoch [4/200], train_loss: -1.9477,  train_score: 0.9817,val_loss: -0.4570,  val_score: 0.4482, genus train_score0.9880, genus val_score0.9239\n"
     ]
    },
    {
     "data": {
      "application/vnd.jupyter.widget-view+json": {
       "model_id": "a7da84021d324b8d945860b67359f643",
       "version_major": 2,
       "version_minor": 0
      },
      "text/plain": [
       "  0%|          | 0/14 [00:00<?, ?it/s]"
      ]
     },
     "metadata": {},
     "output_type": "display_data"
    },
    {
     "data": {
      "application/vnd.jupyter.widget-view+json": {
       "model_id": "8ea3f96df5f74f70801a1e53970f658f",
       "version_major": 2,
       "version_minor": 0
      },
      "text/plain": [
       "  0%|          | 0/7 [00:00<?, ?it/s]"
      ]
     },
     "metadata": {},
     "output_type": "display_data"
    },
    {
     "name": "stdout",
     "output_type": "stream",
     "text": [
      "Epoch [5/200], train_loss: -1.9741,  train_score: 0.9812,val_loss: -0.4615,  val_score: 0.4482, genus train_score0.9881, genus val_score0.9237\n"
     ]
    },
    {
     "data": {
      "application/vnd.jupyter.widget-view+json": {
       "model_id": "175edbd1901a45ca84819c3cb4c51f09",
       "version_major": 2,
       "version_minor": 0
      },
      "text/plain": [
       "  0%|          | 0/14 [00:00<?, ?it/s]"
      ]
     },
     "metadata": {},
     "output_type": "display_data"
    },
    {
     "data": {
      "application/vnd.jupyter.widget-view+json": {
       "model_id": "bdaf4c321d4143e39658450cce9aad8a",
       "version_major": 2,
       "version_minor": 0
      },
      "text/plain": [
       "  0%|          | 0/7 [00:00<?, ?it/s]"
      ]
     },
     "metadata": {},
     "output_type": "display_data"
    },
    {
     "name": "stdout",
     "output_type": "stream",
     "text": [
      "Epoch [6/200], train_loss: -1.9995,  train_score: 0.9814,val_loss: -0.4386,  val_score: 0.4482, genus train_score0.9878, genus val_score0.9229\n"
     ]
    },
    {
     "data": {
      "application/vnd.jupyter.widget-view+json": {
       "model_id": "a3e82a244f9e42ecb7903402edbc21fd",
       "version_major": 2,
       "version_minor": 0
      },
      "text/plain": [
       "  0%|          | 0/14 [00:00<?, ?it/s]"
      ]
     },
     "metadata": {},
     "output_type": "display_data"
    },
    {
     "data": {
      "application/vnd.jupyter.widget-view+json": {
       "model_id": "a90bf67734ab46cf9dadc5bf49918127",
       "version_major": 2,
       "version_minor": 0
      },
      "text/plain": [
       "  0%|          | 0/7 [00:00<?, ?it/s]"
      ]
     },
     "metadata": {},
     "output_type": "display_data"
    },
    {
     "name": "stdout",
     "output_type": "stream",
     "text": [
      "Epoch [7/200], train_loss: -1.9741,  train_score: 0.9814,val_loss: -0.4250,  val_score: 0.4483, genus train_score0.9880, genus val_score0.9235\n"
     ]
    },
    {
     "data": {
      "application/vnd.jupyter.widget-view+json": {
       "model_id": "692f017c9b2b4be2a2a3193e26c86693",
       "version_major": 2,
       "version_minor": 0
      },
      "text/plain": [
       "  0%|          | 0/14 [00:00<?, ?it/s]"
      ]
     },
     "metadata": {},
     "output_type": "display_data"
    },
    {
     "data": {
      "application/vnd.jupyter.widget-view+json": {
       "model_id": "0fdcfa015185431cac9c0b1fee236aa5",
       "version_major": 2,
       "version_minor": 0
      },
      "text/plain": [
       "  0%|          | 0/7 [00:00<?, ?it/s]"
      ]
     },
     "metadata": {},
     "output_type": "display_data"
    },
    {
     "name": "stdout",
     "output_type": "stream",
     "text": [
      "Epoch [8/200], train_loss: -1.9486,  train_score: 0.9817,val_loss: -0.4386,  val_score: 0.4485, genus train_score0.9879, genus val_score0.9249\n"
     ]
    },
    {
     "data": {
      "application/vnd.jupyter.widget-view+json": {
       "model_id": "be101f0b15b14f6eaf344a51e3c375fb",
       "version_major": 2,
       "version_minor": 0
      },
      "text/plain": [
       "  0%|          | 0/14 [00:00<?, ?it/s]"
      ]
     },
     "metadata": {},
     "output_type": "display_data"
    },
    {
     "data": {
      "application/vnd.jupyter.widget-view+json": {
       "model_id": "a9974f7cdecd46aa90abe44aac479d01",
       "version_major": 2,
       "version_minor": 0
      },
      "text/plain": [
       "  0%|          | 0/7 [00:00<?, ?it/s]"
      ]
     },
     "metadata": {},
     "output_type": "display_data"
    },
    {
     "name": "stdout",
     "output_type": "stream",
     "text": [
      "Epoch [9/200], train_loss: -1.9484,  train_score: 0.9820,val_loss: -0.4434,  val_score: 0.4482, genus train_score0.9880, genus val_score0.9241\n"
     ]
    },
    {
     "data": {
      "application/vnd.jupyter.widget-view+json": {
       "model_id": "b87195fa7c084ea98f28ebbfe600c36a",
       "version_major": 2,
       "version_minor": 0
      },
      "text/plain": [
       "  0%|          | 0/14 [00:00<?, ?it/s]"
      ]
     },
     "metadata": {},
     "output_type": "display_data"
    },
    {
     "data": {
      "application/vnd.jupyter.widget-view+json": {
       "model_id": "33302d5201c24230a3cc3eb54c38127b",
       "version_major": 2,
       "version_minor": 0
      },
      "text/plain": [
       "  0%|          | 0/7 [00:00<?, ?it/s]"
      ]
     },
     "metadata": {},
     "output_type": "display_data"
    },
    {
     "name": "stdout",
     "output_type": "stream",
     "text": [
      "Epoch [10/200], train_loss: -1.9741,  train_score: 0.9821,val_loss: -0.4741,  val_score: 0.4485, genus train_score0.9880, genus val_score0.9242\n"
     ]
    },
    {
     "data": {
      "application/vnd.jupyter.widget-view+json": {
       "model_id": "2e931e5730a848fba7e3fdd7750b50eb",
       "version_major": 2,
       "version_minor": 0
      },
      "text/plain": [
       "  0%|          | 0/14 [00:00<?, ?it/s]"
      ]
     },
     "metadata": {},
     "output_type": "display_data"
    },
    {
     "data": {
      "application/vnd.jupyter.widget-view+json": {
       "model_id": "8b14472ed17547fd8e250fcbbe4dabb9",
       "version_major": 2,
       "version_minor": 0
      },
      "text/plain": [
       "  0%|          | 0/7 [00:00<?, ?it/s]"
      ]
     },
     "metadata": {},
     "output_type": "display_data"
    },
    {
     "name": "stdout",
     "output_type": "stream",
     "text": [
      "Epoch [11/200], train_loss: -1.9997,  train_score: 0.9824,val_loss: -0.4586,  val_score: 0.4485, genus train_score0.9880, genus val_score0.9245\n"
     ]
    },
    {
     "data": {
      "application/vnd.jupyter.widget-view+json": {
       "model_id": "189f5f960dbf4e73972c03c7c8f904ca",
       "version_major": 2,
       "version_minor": 0
      },
      "text/plain": [
       "  0%|          | 0/14 [00:00<?, ?it/s]"
      ]
     },
     "metadata": {},
     "output_type": "display_data"
    },
    {
     "data": {
      "application/vnd.jupyter.widget-view+json": {
       "model_id": "7639303fbe584380a798f66342a1f4da",
       "version_major": 2,
       "version_minor": 0
      },
      "text/plain": [
       "  0%|          | 0/7 [00:00<?, ?it/s]"
      ]
     },
     "metadata": {},
     "output_type": "display_data"
    },
    {
     "name": "stdout",
     "output_type": "stream",
     "text": [
      "Epoch [12/200], train_loss: -1.9874,  train_score: 0.9823,val_loss: -0.4545,  val_score: 0.4485, genus train_score0.9880, genus val_score0.9208\n"
     ]
    },
    {
     "data": {
      "application/vnd.jupyter.widget-view+json": {
       "model_id": "19a06882efc04d2291baa29539a25442",
       "version_major": 2,
       "version_minor": 0
      },
      "text/plain": [
       "  0%|          | 0/14 [00:00<?, ?it/s]"
      ]
     },
     "metadata": {},
     "output_type": "display_data"
    },
    {
     "data": {
      "application/vnd.jupyter.widget-view+json": {
       "model_id": "0740b6e2e5a24ac19f2af82901bdde5a",
       "version_major": 2,
       "version_minor": 0
      },
      "text/plain": [
       "  0%|          | 0/7 [00:00<?, ?it/s]"
      ]
     },
     "metadata": {},
     "output_type": "display_data"
    },
    {
     "name": "stdout",
     "output_type": "stream",
     "text": [
      "Epoch [13/200], train_loss: -1.9998,  train_score: 0.9810,val_loss: -0.4709,  val_score: 0.4479, genus train_score0.9879, genus val_score0.9209\n"
     ]
    },
    {
     "data": {
      "application/vnd.jupyter.widget-view+json": {
       "model_id": "d046ed2681484abdabf557e99e19829a",
       "version_major": 2,
       "version_minor": 0
      },
      "text/plain": [
       "  0%|          | 0/14 [00:00<?, ?it/s]"
      ]
     },
     "metadata": {},
     "output_type": "display_data"
    },
    {
     "data": {
      "application/vnd.jupyter.widget-view+json": {
       "model_id": "4d5b32c65515435f85e3ff26610c87fc",
       "version_major": 2,
       "version_minor": 0
      },
      "text/plain": [
       "  0%|          | 0/7 [00:00<?, ?it/s]"
      ]
     },
     "metadata": {},
     "output_type": "display_data"
    },
    {
     "name": "stdout",
     "output_type": "stream",
     "text": [
      "Epoch [14/200], train_loss: -1.9485,  train_score: 0.9811,val_loss: -0.4609,  val_score: 0.4482, genus train_score0.9878, genus val_score0.9225\n"
     ]
    },
    {
     "data": {
      "application/vnd.jupyter.widget-view+json": {
       "model_id": "71beaa44a7fc44768d97799a769f1864",
       "version_major": 2,
       "version_minor": 0
      },
      "text/plain": [
       "  0%|          | 0/14 [00:00<?, ?it/s]"
      ]
     },
     "metadata": {},
     "output_type": "display_data"
    },
    {
     "data": {
      "application/vnd.jupyter.widget-view+json": {
       "model_id": "2a42cbe230c64828b5a6fffc83f41746",
       "version_major": 2,
       "version_minor": 0
      },
      "text/plain": [
       "  0%|          | 0/7 [00:00<?, ?it/s]"
      ]
     },
     "metadata": {},
     "output_type": "display_data"
    },
    {
     "name": "stdout",
     "output_type": "stream",
     "text": [
      "Epoch [15/200], train_loss: -1.9764,  train_score: 0.9811,val_loss: -0.4439,  val_score: 0.4483, genus train_score0.9883, genus val_score0.9224\n"
     ]
    },
    {
     "data": {
      "application/vnd.jupyter.widget-view+json": {
       "model_id": "10a6ebe2e6554f11a2ff54c3c4cee4f2",
       "version_major": 2,
       "version_minor": 0
      },
      "text/plain": [
       "  0%|          | 0/14 [00:00<?, ?it/s]"
      ]
     },
     "metadata": {},
     "output_type": "display_data"
    },
    {
     "data": {
      "application/vnd.jupyter.widget-view+json": {
       "model_id": "579c7247e03748b4b10fab746986c25a",
       "version_major": 2,
       "version_minor": 0
      },
      "text/plain": [
       "  0%|          | 0/7 [00:00<?, ?it/s]"
      ]
     },
     "metadata": {},
     "output_type": "display_data"
    },
    {
     "name": "stdout",
     "output_type": "stream",
     "text": [
      "Epoch [16/200], train_loss: -1.9997,  train_score: 0.9815,val_loss: -0.4395,  val_score: 0.4482, genus train_score0.9880, genus val_score0.9248\n"
     ]
    },
    {
     "data": {
      "application/vnd.jupyter.widget-view+json": {
       "model_id": "eb19968c6b6a42c281d477ff87b09148",
       "version_major": 2,
       "version_minor": 0
      },
      "text/plain": [
       "  0%|          | 0/14 [00:00<?, ?it/s]"
      ]
     },
     "metadata": {},
     "output_type": "display_data"
    },
    {
     "data": {
      "application/vnd.jupyter.widget-view+json": {
       "model_id": "87037055ea714719816bfc30893c270b",
       "version_major": 2,
       "version_minor": 0
      },
      "text/plain": [
       "  0%|          | 0/7 [00:00<?, ?it/s]"
      ]
     },
     "metadata": {},
     "output_type": "display_data"
    },
    {
     "name": "stdout",
     "output_type": "stream",
     "text": [
      "Epoch [17/200], train_loss: -1.9740,  train_score: 0.9813,val_loss: -0.4601,  val_score: 0.4482, genus train_score0.9878, genus val_score0.9275\n"
     ]
    },
    {
     "data": {
      "application/vnd.jupyter.widget-view+json": {
       "model_id": "dd71a22107f44948848130fecdbb8d5a",
       "version_major": 2,
       "version_minor": 0
      },
      "text/plain": [
       "  0%|          | 0/14 [00:00<?, ?it/s]"
      ]
     },
     "metadata": {},
     "output_type": "display_data"
    },
    {
     "data": {
      "application/vnd.jupyter.widget-view+json": {
       "model_id": "67448ea8fa654590bbc9bbe8baaca4ff",
       "version_major": 2,
       "version_minor": 0
      },
      "text/plain": [
       "  0%|          | 0/7 [00:00<?, ?it/s]"
      ]
     },
     "metadata": {},
     "output_type": "display_data"
    },
    {
     "name": "stdout",
     "output_type": "stream",
     "text": [
      "Epoch [18/200], train_loss: -1.9994,  train_score: 0.9820,val_loss: -0.4549,  val_score: 0.4483, genus train_score0.9882, genus val_score0.9280\n"
     ]
    },
    {
     "data": {
      "application/vnd.jupyter.widget-view+json": {
       "model_id": "a99a1e50bd6b415290d5a7a8d66089a5",
       "version_major": 2,
       "version_minor": 0
      },
      "text/plain": [
       "  0%|          | 0/14 [00:00<?, ?it/s]"
      ]
     },
     "metadata": {},
     "output_type": "display_data"
    },
    {
     "data": {
      "application/vnd.jupyter.widget-view+json": {
       "model_id": "9eceb01dc95d45bd9a7d410562e549bc",
       "version_major": 2,
       "version_minor": 0
      },
      "text/plain": [
       "  0%|          | 0/7 [00:00<?, ?it/s]"
      ]
     },
     "metadata": {},
     "output_type": "display_data"
    },
    {
     "name": "stdout",
     "output_type": "stream",
     "text": [
      "Epoch [19/200], train_loss: -1.8973,  train_score: 0.9817,val_loss: -0.4564,  val_score: 0.4483, genus train_score0.9880, genus val_score0.9281\n"
     ]
    },
    {
     "data": {
      "application/vnd.jupyter.widget-view+json": {
       "model_id": "aa320cd08d354372b2b3a7348accd604",
       "version_major": 2,
       "version_minor": 0
      },
      "text/plain": [
       "  0%|          | 0/14 [00:00<?, ?it/s]"
      ]
     },
     "metadata": {},
     "output_type": "display_data"
    },
    {
     "data": {
      "application/vnd.jupyter.widget-view+json": {
       "model_id": "a5c82d3f9ac3465bbc411aedb58c1814",
       "version_major": 2,
       "version_minor": 0
      },
      "text/plain": [
       "  0%|          | 0/7 [00:00<?, ?it/s]"
      ]
     },
     "metadata": {},
     "output_type": "display_data"
    },
    {
     "name": "stdout",
     "output_type": "stream",
     "text": [
      "Epoch [20/200], train_loss: -1.9995,  train_score: 0.9817,val_loss: -0.4666,  val_score: 0.4485, genus train_score0.9886, genus val_score0.9281\n"
     ]
    },
    {
     "data": {
      "application/vnd.jupyter.widget-view+json": {
       "model_id": "263d91c1108e4ff29db6603d9ae423d2",
       "version_major": 2,
       "version_minor": 0
      },
      "text/plain": [
       "  0%|          | 0/14 [00:00<?, ?it/s]"
      ]
     },
     "metadata": {},
     "output_type": "display_data"
    },
    {
     "data": {
      "application/vnd.jupyter.widget-view+json": {
       "model_id": "be6cb07f2abc41ea869b2487c4ff73f9",
       "version_major": 2,
       "version_minor": 0
      },
      "text/plain": [
       "  0%|          | 0/7 [00:00<?, ?it/s]"
      ]
     },
     "metadata": {},
     "output_type": "display_data"
    },
    {
     "name": "stdout",
     "output_type": "stream",
     "text": [
      "Epoch [21/200], train_loss: -1.9737,  train_score: 0.9820,val_loss: -0.4434,  val_score: 0.4485, genus train_score0.9886, genus val_score0.9277\n"
     ]
    },
    {
     "data": {
      "application/vnd.jupyter.widget-view+json": {
       "model_id": "cc7b7aa06ed84a86821feb0bd5a7b865",
       "version_major": 2,
       "version_minor": 0
      },
      "text/plain": [
       "  0%|          | 0/14 [00:00<?, ?it/s]"
      ]
     },
     "metadata": {},
     "output_type": "display_data"
    },
    {
     "data": {
      "application/vnd.jupyter.widget-view+json": {
       "model_id": "21999c87dafc4a75b8fda9f2185c25f9",
       "version_major": 2,
       "version_minor": 0
      },
      "text/plain": [
       "  0%|          | 0/7 [00:00<?, ?it/s]"
      ]
     },
     "metadata": {},
     "output_type": "display_data"
    },
    {
     "name": "stdout",
     "output_type": "stream",
     "text": [
      "Epoch [22/200], train_loss: -1.9737,  train_score: 0.9823,val_loss: -0.4260,  val_score: 0.4485, genus train_score0.9886, genus val_score0.9271\n"
     ]
    },
    {
     "data": {
      "application/vnd.jupyter.widget-view+json": {
       "model_id": "2a3e877024a6425db65490428388053d",
       "version_major": 2,
       "version_minor": 0
      },
      "text/plain": [
       "  0%|          | 0/14 [00:00<?, ?it/s]"
      ]
     },
     "metadata": {},
     "output_type": "display_data"
    },
    {
     "data": {
      "application/vnd.jupyter.widget-view+json": {
       "model_id": "71d13e219d524187a82a89bcc5f69865",
       "version_major": 2,
       "version_minor": 0
      },
      "text/plain": [
       "  0%|          | 0/7 [00:00<?, ?it/s]"
      ]
     },
     "metadata": {},
     "output_type": "display_data"
    },
    {
     "name": "stdout",
     "output_type": "stream",
     "text": [
      "Epoch [23/200], train_loss: -1.9482,  train_score: 0.9822,val_loss: -0.4694,  val_score: 0.4483, genus train_score0.9886, genus val_score0.9281\n"
     ]
    },
    {
     "data": {
      "application/vnd.jupyter.widget-view+json": {
       "model_id": "54c00aba22464e7ea0f932b20bb7671a",
       "version_major": 2,
       "version_minor": 0
      },
      "text/plain": [
       "  0%|          | 0/14 [00:00<?, ?it/s]"
      ]
     },
     "metadata": {},
     "output_type": "display_data"
    },
    {
     "data": {
      "application/vnd.jupyter.widget-view+json": {
       "model_id": "4a8f7d7abdfc4ae4a5a7f30b4c8a27fc",
       "version_major": 2,
       "version_minor": 0
      },
      "text/plain": [
       "  0%|          | 0/7 [00:00<?, ?it/s]"
      ]
     },
     "metadata": {},
     "output_type": "display_data"
    },
    {
     "name": "stdout",
     "output_type": "stream",
     "text": [
      "Epoch [24/200], train_loss: -1.9733,  train_score: 0.9822,val_loss: -0.4522,  val_score: 0.4483, genus train_score0.9888, genus val_score0.9298\n"
     ]
    },
    {
     "data": {
      "application/vnd.jupyter.widget-view+json": {
       "model_id": "84d091f1ec3848f1bcb924a13b34d0cb",
       "version_major": 2,
       "version_minor": 0
      },
      "text/plain": [
       "  0%|          | 0/14 [00:00<?, ?it/s]"
      ]
     },
     "metadata": {},
     "output_type": "display_data"
    },
    {
     "data": {
      "application/vnd.jupyter.widget-view+json": {
       "model_id": "b2dabc08a9a84a74afd8032cc14804e1",
       "version_major": 2,
       "version_minor": 0
      },
      "text/plain": [
       "  0%|          | 0/7 [00:00<?, ?it/s]"
      ]
     },
     "metadata": {},
     "output_type": "display_data"
    },
    {
     "name": "stdout",
     "output_type": "stream",
     "text": [
      "Epoch [25/200], train_loss: -1.9743,  train_score: 0.9815,val_loss: -0.4491,  val_score: 0.4479, genus train_score0.9884, genus val_score0.9278\n"
     ]
    },
    {
     "data": {
      "application/vnd.jupyter.widget-view+json": {
       "model_id": "fbd4d7a97d2c430ab86690d51fd4987b",
       "version_major": 2,
       "version_minor": 0
      },
      "text/plain": [
       "  0%|          | 0/14 [00:00<?, ?it/s]"
      ]
     },
     "metadata": {},
     "output_type": "display_data"
    },
    {
     "data": {
      "application/vnd.jupyter.widget-view+json": {
       "model_id": "e7596afc45bb485c90446edac198a5e3",
       "version_major": 2,
       "version_minor": 0
      },
      "text/plain": [
       "  0%|          | 0/7 [00:00<?, ?it/s]"
      ]
     },
     "metadata": {},
     "output_type": "display_data"
    },
    {
     "name": "stdout",
     "output_type": "stream",
     "text": [
      "Epoch [26/200], train_loss: -1.9741,  train_score: 0.9827,val_loss: -0.4761,  val_score: 0.4477, genus train_score0.9886, genus val_score0.9277\n"
     ]
    },
    {
     "data": {
      "application/vnd.jupyter.widget-view+json": {
       "model_id": "b2eb74110d2e4a809061c55d96f014a2",
       "version_major": 2,
       "version_minor": 0
      },
      "text/plain": [
       "  0%|          | 0/14 [00:00<?, ?it/s]"
      ]
     },
     "metadata": {},
     "output_type": "display_data"
    },
    {
     "data": {
      "application/vnd.jupyter.widget-view+json": {
       "model_id": "a5694b82f53a45efa00ec8ed18bab35c",
       "version_major": 2,
       "version_minor": 0
      },
      "text/plain": [
       "  0%|          | 0/7 [00:00<?, ?it/s]"
      ]
     },
     "metadata": {},
     "output_type": "display_data"
    },
    {
     "name": "stdout",
     "output_type": "stream",
     "text": [
      "Epoch [27/200], train_loss: -1.9457,  train_score: 0.9821,val_loss: -0.4495,  val_score: 0.4480, genus train_score0.9886, genus val_score0.9275\n"
     ]
    },
    {
     "data": {
      "application/vnd.jupyter.widget-view+json": {
       "model_id": "82a474d1a9cb466da125e40ad80a92f9",
       "version_major": 2,
       "version_minor": 0
      },
      "text/plain": [
       "  0%|          | 0/14 [00:00<?, ?it/s]"
      ]
     },
     "metadata": {},
     "output_type": "display_data"
    },
    {
     "data": {
      "application/vnd.jupyter.widget-view+json": {
       "model_id": "e8dc80bfda8d4a8cbc894b369076631d",
       "version_major": 2,
       "version_minor": 0
      },
      "text/plain": [
       "  0%|          | 0/7 [00:00<?, ?it/s]"
      ]
     },
     "metadata": {},
     "output_type": "display_data"
    },
    {
     "name": "stdout",
     "output_type": "stream",
     "text": [
      "Epoch [28/200], train_loss: -1.9482,  train_score: 0.9821,val_loss: -0.4654,  val_score: 0.4480, genus train_score0.9887, genus val_score0.9284\n"
     ]
    },
    {
     "data": {
      "application/vnd.jupyter.widget-view+json": {
       "model_id": "5cdd350bbd854fff9a41c9865804d5ee",
       "version_major": 2,
       "version_minor": 0
      },
      "text/plain": [
       "  0%|          | 0/14 [00:00<?, ?it/s]"
      ]
     },
     "metadata": {},
     "output_type": "display_data"
    },
    {
     "data": {
      "application/vnd.jupyter.widget-view+json": {
       "model_id": "50942266f35e4e938e536d45b02a855c",
       "version_major": 2,
       "version_minor": 0
      },
      "text/plain": [
       "  0%|          | 0/7 [00:00<?, ?it/s]"
      ]
     },
     "metadata": {},
     "output_type": "display_data"
    },
    {
     "name": "stdout",
     "output_type": "stream",
     "text": [
      "Epoch [29/200], train_loss: -1.9740,  train_score: 0.9817,val_loss: -0.4585,  val_score: 0.4483, genus train_score0.9886, genus val_score0.9268\n"
     ]
    },
    {
     "data": {
      "application/vnd.jupyter.widget-view+json": {
       "model_id": "d1fab189139e488eb1abe894603fd9e0",
       "version_major": 2,
       "version_minor": 0
      },
      "text/plain": [
       "  0%|          | 0/14 [00:00<?, ?it/s]"
      ]
     },
     "metadata": {},
     "output_type": "display_data"
    },
    {
     "data": {
      "application/vnd.jupyter.widget-view+json": {
       "model_id": "3bd90c9dd18a4e1e868a0caf5c0ee3a4",
       "version_major": 2,
       "version_minor": 0
      },
      "text/plain": [
       "  0%|          | 0/7 [00:00<?, ?it/s]"
      ]
     },
     "metadata": {},
     "output_type": "display_data"
    },
    {
     "name": "stdout",
     "output_type": "stream",
     "text": [
      "Epoch [30/200], train_loss: -1.9741,  train_score: 0.9821,val_loss: -0.4420,  val_score: 0.4483, genus train_score0.9886, genus val_score0.9278\n"
     ]
    },
    {
     "data": {
      "application/vnd.jupyter.widget-view+json": {
       "model_id": "b34bd198ad8a454eabc39a1962974065",
       "version_major": 2,
       "version_minor": 0
      },
      "text/plain": [
       "  0%|          | 0/14 [00:00<?, ?it/s]"
      ]
     },
     "metadata": {},
     "output_type": "display_data"
    },
    {
     "ename": "KeyboardInterrupt",
     "evalue": "",
     "output_type": "error",
     "traceback": [
      "\u001b[0;31m---------------------------------------------------------------------------\u001b[0m",
      "\u001b[0;31mKeyboardInterrupt\u001b[0m                         Traceback (most recent call last)",
      "Cell \u001b[0;32mIn[46], line 1\u001b[0m\n\u001b[0;32m----> 1\u001b[0m _ \u001b[38;5;241m=\u001b[39m fit(\u001b[38;5;241m200\u001b[39m,dataloaders,optimizer,model)\n",
      "Cell \u001b[0;32mIn[21], line 14\u001b[0m, in \u001b[0;36mfit\u001b[0;34m(epochs, dataloaders, optimizer, model, start_idx)\u001b[0m\n\u001b[1;32m     12\u001b[0m running_train_corrects \u001b[38;5;241m=\u001b[39m \u001b[38;5;241m0\u001b[39m\n\u001b[1;32m     13\u001b[0m running_train_corrects_genus \u001b[38;5;241m=\u001b[39m \u001b[38;5;241m0\u001b[39m\n\u001b[0;32m---> 14\u001b[0m \u001b[38;5;28;01mfor\u001b[39;00m features,labels \u001b[38;5;129;01min\u001b[39;00m tqdm(dataloaders[\u001b[38;5;124m'\u001b[39m\u001b[38;5;124mtrain\u001b[39m\u001b[38;5;124m'\u001b[39m]):\n\u001b[1;32m     15\u001b[0m     model\u001b[38;5;241m.\u001b[39mtrain()\n\u001b[1;32m     16\u001b[0m     genus_labels \u001b[38;5;241m=\u001b[39m torch\u001b[38;5;241m.\u001b[39mtensor(species2genus[labels\u001b[38;5;241m.\u001b[39mint()])\u001b[38;5;241m.\u001b[39msqueeze()\u001b[38;5;241m.\u001b[39mto(device)\n",
      "File \u001b[0;32m~/miniconda3/envs/insetti/lib/python3.12/site-packages/tqdm/notebook.py:254\u001b[0m, in \u001b[0;36mtqdm_notebook.__iter__\u001b[0;34m(self)\u001b[0m\n\u001b[1;32m    252\u001b[0m \u001b[38;5;28;01mtry\u001b[39;00m:\n\u001b[1;32m    253\u001b[0m     it \u001b[38;5;241m=\u001b[39m \u001b[38;5;28msuper\u001b[39m(tqdm_notebook, \u001b[38;5;28mself\u001b[39m)\u001b[38;5;241m.\u001b[39m\u001b[38;5;21m__iter__\u001b[39m()\n\u001b[0;32m--> 254\u001b[0m     \u001b[38;5;28;01mfor\u001b[39;00m obj \u001b[38;5;129;01min\u001b[39;00m it:\n\u001b[1;32m    255\u001b[0m         \u001b[38;5;66;03m# return super(tqdm...) will not catch exception\u001b[39;00m\n\u001b[1;32m    256\u001b[0m         \u001b[38;5;28;01myield\u001b[39;00m obj\n\u001b[1;32m    257\u001b[0m \u001b[38;5;66;03m# NB: except ... [ as ...] breaks IPython async KeyboardInterrupt\u001b[39;00m\n",
      "File \u001b[0;32m~/miniconda3/envs/insetti/lib/python3.12/site-packages/tqdm/std.py:1178\u001b[0m, in \u001b[0;36mtqdm.__iter__\u001b[0;34m(self)\u001b[0m\n\u001b[1;32m   1175\u001b[0m time \u001b[38;5;241m=\u001b[39m \u001b[38;5;28mself\u001b[39m\u001b[38;5;241m.\u001b[39m_time\n\u001b[1;32m   1177\u001b[0m \u001b[38;5;28;01mtry\u001b[39;00m:\n\u001b[0;32m-> 1178\u001b[0m     \u001b[38;5;28;01mfor\u001b[39;00m obj \u001b[38;5;129;01min\u001b[39;00m iterable:\n\u001b[1;32m   1179\u001b[0m         \u001b[38;5;28;01myield\u001b[39;00m obj\n\u001b[1;32m   1180\u001b[0m         \u001b[38;5;66;03m# Update and possibly print the progressbar.\u001b[39;00m\n\u001b[1;32m   1181\u001b[0m         \u001b[38;5;66;03m# Note: does not call self.update(1) for speed optimisation.\u001b[39;00m\n",
      "File \u001b[0;32m~/miniconda3/envs/insetti/lib/python3.12/site-packages/torch/utils/data/dataloader.py:631\u001b[0m, in \u001b[0;36m_BaseDataLoaderIter.__next__\u001b[0;34m(self)\u001b[0m\n\u001b[1;32m    628\u001b[0m \u001b[38;5;28;01mif\u001b[39;00m \u001b[38;5;28mself\u001b[39m\u001b[38;5;241m.\u001b[39m_sampler_iter \u001b[38;5;129;01mis\u001b[39;00m \u001b[38;5;28;01mNone\u001b[39;00m:\n\u001b[1;32m    629\u001b[0m     \u001b[38;5;66;03m# TODO(https://github.com/pytorch/pytorch/issues/76750)\u001b[39;00m\n\u001b[1;32m    630\u001b[0m     \u001b[38;5;28mself\u001b[39m\u001b[38;5;241m.\u001b[39m_reset()  \u001b[38;5;66;03m# type: ignore[call-arg]\u001b[39;00m\n\u001b[0;32m--> 631\u001b[0m data \u001b[38;5;241m=\u001b[39m \u001b[38;5;28mself\u001b[39m\u001b[38;5;241m.\u001b[39m_next_data()\n\u001b[1;32m    632\u001b[0m \u001b[38;5;28mself\u001b[39m\u001b[38;5;241m.\u001b[39m_num_yielded \u001b[38;5;241m+\u001b[39m\u001b[38;5;241m=\u001b[39m \u001b[38;5;241m1\u001b[39m\n\u001b[1;32m    633\u001b[0m \u001b[38;5;28;01mif\u001b[39;00m \u001b[38;5;28mself\u001b[39m\u001b[38;5;241m.\u001b[39m_dataset_kind \u001b[38;5;241m==\u001b[39m _DatasetKind\u001b[38;5;241m.\u001b[39mIterable \u001b[38;5;129;01mand\u001b[39;00m \\\n\u001b[1;32m    634\u001b[0m         \u001b[38;5;28mself\u001b[39m\u001b[38;5;241m.\u001b[39m_IterableDataset_len_called \u001b[38;5;129;01mis\u001b[39;00m \u001b[38;5;129;01mnot\u001b[39;00m \u001b[38;5;28;01mNone\u001b[39;00m \u001b[38;5;129;01mand\u001b[39;00m \\\n\u001b[1;32m    635\u001b[0m         \u001b[38;5;28mself\u001b[39m\u001b[38;5;241m.\u001b[39m_num_yielded \u001b[38;5;241m>\u001b[39m \u001b[38;5;28mself\u001b[39m\u001b[38;5;241m.\u001b[39m_IterableDataset_len_called:\n",
      "File \u001b[0;32m~/miniconda3/envs/insetti/lib/python3.12/site-packages/torch/utils/data/dataloader.py:675\u001b[0m, in \u001b[0;36m_SingleProcessDataLoaderIter._next_data\u001b[0;34m(self)\u001b[0m\n\u001b[1;32m    673\u001b[0m \u001b[38;5;28;01mdef\u001b[39;00m \u001b[38;5;21m_next_data\u001b[39m(\u001b[38;5;28mself\u001b[39m):\n\u001b[1;32m    674\u001b[0m     index \u001b[38;5;241m=\u001b[39m \u001b[38;5;28mself\u001b[39m\u001b[38;5;241m.\u001b[39m_next_index()  \u001b[38;5;66;03m# may raise StopIteration\u001b[39;00m\n\u001b[0;32m--> 675\u001b[0m     data \u001b[38;5;241m=\u001b[39m \u001b[38;5;28mself\u001b[39m\u001b[38;5;241m.\u001b[39m_dataset_fetcher\u001b[38;5;241m.\u001b[39mfetch(index)  \u001b[38;5;66;03m# may raise StopIteration\u001b[39;00m\n\u001b[1;32m    676\u001b[0m     \u001b[38;5;28;01mif\u001b[39;00m \u001b[38;5;28mself\u001b[39m\u001b[38;5;241m.\u001b[39m_pin_memory:\n\u001b[1;32m    677\u001b[0m         data \u001b[38;5;241m=\u001b[39m _utils\u001b[38;5;241m.\u001b[39mpin_memory\u001b[38;5;241m.\u001b[39mpin_memory(data, \u001b[38;5;28mself\u001b[39m\u001b[38;5;241m.\u001b[39m_pin_memory_device)\n",
      "File \u001b[0;32m~/miniconda3/envs/insetti/lib/python3.12/site-packages/torch/utils/data/_utils/fetch.py:51\u001b[0m, in \u001b[0;36m_MapDatasetFetcher.fetch\u001b[0;34m(self, possibly_batched_index)\u001b[0m\n\u001b[1;32m     49\u001b[0m         data \u001b[38;5;241m=\u001b[39m \u001b[38;5;28mself\u001b[39m\u001b[38;5;241m.\u001b[39mdataset\u001b[38;5;241m.\u001b[39m__getitems__(possibly_batched_index)\n\u001b[1;32m     50\u001b[0m     \u001b[38;5;28;01melse\u001b[39;00m:\n\u001b[0;32m---> 51\u001b[0m         data \u001b[38;5;241m=\u001b[39m [\u001b[38;5;28mself\u001b[39m\u001b[38;5;241m.\u001b[39mdataset[idx] \u001b[38;5;28;01mfor\u001b[39;00m idx \u001b[38;5;129;01min\u001b[39;00m possibly_batched_index]\n\u001b[1;32m     52\u001b[0m \u001b[38;5;28;01melse\u001b[39;00m:\n\u001b[1;32m     53\u001b[0m     data \u001b[38;5;241m=\u001b[39m \u001b[38;5;28mself\u001b[39m\u001b[38;5;241m.\u001b[39mdataset[possibly_batched_index]\n",
      "Cell \u001b[0;32mIn[15], line 9\u001b[0m, in \u001b[0;36mFeatureDataset.__getitem__\u001b[0;34m(self, index)\u001b[0m\n\u001b[1;32m      7\u001b[0m \u001b[38;5;28;01mdef\u001b[39;00m \u001b[38;5;21m__getitem__\u001b[39m(\u001b[38;5;28mself\u001b[39m, index):\n\u001b[1;32m      8\u001b[0m     x \u001b[38;5;241m=\u001b[39m \u001b[38;5;28mself\u001b[39m\u001b[38;5;241m.\u001b[39mdata[index]\n\u001b[0;32m----> 9\u001b[0m     y \u001b[38;5;241m=\u001b[39m \u001b[38;5;28mself\u001b[39m\u001b[38;5;241m.\u001b[39mtargets[index]\u001b[38;5;241m.\u001b[39mtype(torch\u001b[38;5;241m.\u001b[39mLongTensor)\n\u001b[1;32m     11\u001b[0m     \u001b[38;5;66;03m#if self.transform:\u001b[39;00m\n\u001b[1;32m     12\u001b[0m     \u001b[38;5;66;03m#    x = Image.fromarray(self.data[index].astype(np.uint8).transpose(1,2,0))\u001b[39;00m\n\u001b[1;32m     13\u001b[0m     \u001b[38;5;66;03m#    x = self.transform(x)\u001b[39;00m\n\u001b[1;32m     15\u001b[0m     \u001b[38;5;28;01mreturn\u001b[39;00m x, y\n",
      "\u001b[0;31mKeyboardInterrupt\u001b[0m: "
     ]
    }
   ],
   "source": [
    "\n",
    "_ = fit(200,dataloaders,optimizer,model)"
   ]
  },
  {
   "cell_type": "code",
   "execution_count": 47,
   "metadata": {},
   "outputs": [
    {
     "name": "stderr",
     "output_type": "stream",
     "text": [
      "/tmp/ipykernel_26875/509102700.py:34: UserWarning: Implicit dimension choice for softmax has been deprecated. Change the call to include dim=X as an argument.\n",
      "  x_genus = torch.nn.functional.softmax(x)\n"
     ]
    }
   ],
   "source": [
    "with torch.no_grad():\n",
    "    model.eval()\n",
    "    val_predicted_probs,val_predicted_probs_genus = model(d_val.data.cuda())\n",
    "val_predicted_probs = val_predicted_probs.cpu()\n",
    "val_predicted_probs_genus = val_predicted_probs_genus.cpu()"
   ]
  },
  {
   "cell_type": "code",
   "execution_count": 48,
   "metadata": {},
   "outputs": [],
   "source": [
    "val_predicted_labels = val_predicted_probs.argmax(axis=1)\n",
    "val_predicted_labels_genus = val_predicted_probs_genus.argmax(axis=1)\n",
    "image_val_labels = image_val_labels.type(torch.LongTensor)"
   ]
  },
  {
   "cell_type": "code",
   "execution_count": null,
   "metadata": {},
   "outputs": [],
   "source": []
  },
  {
   "cell_type": "code",
   "execution_count": 49,
   "metadata": {},
   "outputs": [
    {
     "data": {
      "text/plain": [
       "'Automeris_celata'"
      ]
     },
     "execution_count": 49,
     "metadata": {},
     "output_type": "execute_result"
    }
   ],
   "source": [
    "list(image_dataset.class_to_idx.keys())[172]"
   ]
  },
  {
   "cell_type": "code",
   "execution_count": 50,
   "metadata": {},
   "outputs": [
    {
     "data": {
      "text/plain": [
       "tensor([ 15, 172])"
      ]
     },
     "execution_count": 50,
     "metadata": {},
     "output_type": "execute_result"
    }
   ],
   "source": [
    "val_predicted_probs[1000].topk(2).indices"
   ]
  },
  {
   "cell_type": "code",
   "execution_count": 51,
   "metadata": {},
   "outputs": [
    {
     "data": {
      "text/plain": [
       "tensor(176)"
      ]
     },
     "execution_count": 51,
     "metadata": {},
     "output_type": "execute_result"
    }
   ],
   "source": [
    "image_val_labels[1000]"
   ]
  },
  {
   "cell_type": "code",
   "execution_count": 52,
   "metadata": {},
   "outputs": [
    {
     "data": {
      "text/plain": [
       "array([187])"
      ]
     },
     "execution_count": 52,
     "metadata": {},
     "output_type": "execute_result"
    }
   ],
   "source": [
    "species2genus[172]"
   ]
  },
  {
   "cell_type": "code",
   "execution_count": 53,
   "metadata": {},
   "outputs": [
    {
     "data": {
      "text/plain": [
       "tensor(187)"
      ]
     },
     "execution_count": 53,
     "metadata": {},
     "output_type": "execute_result"
    }
   ],
   "source": [
    "val_predicted_labels_genus[1000]"
   ]
  },
  {
   "cell_type": "code",
   "execution_count": 54,
   "metadata": {},
   "outputs": [
    {
     "data": {
      "text/plain": [
       "[<matplotlib.lines.Line2D at 0x70804b105c70>]"
      ]
     },
     "execution_count": 54,
     "metadata": {},
     "output_type": "execute_result"
    },
    {
     "data": {
      "image/png": "[encoded data removed]",
      "text/plain": [
       "<Figure size 640x480 with 1 Axes>"
      ]
     },
     "metadata": {},
     "output_type": "display_data"
    }
   ],
   "source": [
    "plt.plot(val_predicted_probs_genus[1000].cpu())\n"
   ]
  },
  {
   "cell_type": "code",
   "execution_count": null,
   "metadata": {},
   "outputs": [],
   "source": []
  },
  {
   "cell_type": "code",
   "execution_count": null,
   "metadata": {},
   "outputs": [],
   "source": []
  },
  {
   "cell_type": "markdown",
   "metadata": {},
   "source": [
    "# Secondo top2 method"
   ]
  },
  {
   "cell_type": "code",
   "execution_count": 75,
   "metadata": {},
   "outputs": [
    {
     "name": "stderr",
     "output_type": "stream",
     "text": [
      "/tmp/ipykernel_26875/3867016436.py:23: UserWarning: To copy construct from a tensor, it is recommended to use sourceTensor.clone().detach() or sourceTensor.clone().detach().requires_grad_(True), rather than torch.tensor(sourceTensor).\n",
      "  top2 = torch.tensor(val_predicted_probs[i]).topk(2)#ATTENZIONE QUA E' DIVERSO\n"
     ]
    }
   ],
   "source": [
    "tprs = []\n",
    "fprs = []\n",
    "correct_genus_rate = []\n",
    "correct_species_rate = []\n",
    "thresholds = []\n",
    "possible_thresholds = [x / 10000 for x in range(9800, 10000, 1)]\n",
    "for t in possible_thresholds:#ATTENZIONE QUA E' DIVERSO\n",
    "    t = t * 1.005\n",
    "    thresholds.append(t)\n",
    "    #print(val_predicted_probs.shape)\n",
    "    n_undescribed_samples = 0\n",
    "    n_described_samples = 0\n",
    "    n_correct_undescribed_samples = 0\n",
    "    n_correct_described_samples = 0\n",
    "    n_correct_genus = 0 \n",
    "    n_correct_species = 0 \n",
    "    for i in range(len(image_val_labels)):\n",
    "        label_best_specie = val_predicted_labels[i]\n",
    "       \n",
    "        #assert(val_predicted_labels[i]==val_predicted_probs[i].argmax())\n",
    "        genus_of_best_species = species2genus[label_best_specie.item()]\n",
    "\n",
    "        top2 = torch.tensor(val_predicted_probs[i]).topk(2)#ATTENZIONE QUA E' DIVERSO\n",
    "        #print(top2)\n",
    "        if (top2.values[0]-top2.values[1]) >t*top2.values[0]:#species \n",
    "            if image_val_labels[i].item() in described_species_labels:#i needed to guess species\n",
    "                n_described_samples +=1\n",
    "                if label_best_specie == image_val_labels[i]:#guessed species is correct\n",
    "                    #n_correct_described_samples+=1\n",
    "                    n_correct_species+=1\n",
    "            else:# i needed to guess genus\n",
    "                n_undescribed_samples+=1\n",
    "        else:#genus\n",
    "            if image_val_labels[i].item() in described_species_labels:#i needed to guess species\n",
    "                n_described_samples +=1\n",
    "            else:# i needed to guess genus\n",
    "                n_undescribed_samples+=1\n",
    "                #if genus_of_best_species == species2genus[image_val_labels[i]]:#guessed genus is correct\n",
    "                #ATTENZIONE QUA E' DIVERSO\n",
    "                if val_predicted_labels_genus[i].item() == species2genus[image_val_labels[i]].item():#guessed genus is correct\n",
    "                    #n_correct_described_samples+=1\n",
    "                    n_correct_genus+=1\n",
    "            \n",
    "    tprs.append(n_correct_undescribed_samples/n_undescribed_samples) # TPR = recall = sensitivity\n",
    "    fprs.append(1-n_correct_described_samples/n_described_samples) # 1-TNR = 1 - specificity\n",
    "    correct_genus_rate.append(n_correct_genus/n_undescribed_samples)\n",
    "    correct_species_rate.append(n_correct_species/n_described_samples)"
   ]
  },
  {
   "cell_type": "code",
   "execution_count": 76,
   "metadata": {
    "scrolled": true
   },
   "outputs": [
    {
     "name": "stdout",
     "output_type": "stream",
     "text": [
      "0\n",
      "0.6785810266057511\n",
      "0.9594928880643167\n",
      "\n",
      "\n",
      "\n",
      "1\n",
      "0.6793872614888471\n",
      "0.9594928880643167\n",
      "\n",
      "\n",
      "\n",
      "2\n",
      "0.6804622413329751\n",
      "0.9594928880643167\n",
      "\n",
      "\n",
      "\n",
      "3\n",
      "0.6804622413329751\n",
      "0.9594928880643167\n",
      "\n",
      "\n",
      "\n",
      "4\n",
      "0.6804622413329751\n",
      "0.9594928880643167\n",
      "\n",
      "\n",
      "\n",
      "5\n",
      "0.680730986294007\n",
      "0.9594928880643167\n",
      "\n",
      "\n",
      "\n",
      "6\n",
      "0.680730986294007\n",
      "0.9591836734693877\n",
      "\n",
      "\n",
      "\n",
      "7\n",
      "0.680730986294007\n",
      "0.9591836734693877\n",
      "\n",
      "\n",
      "\n",
      "8\n",
      "0.6812684762160709\n",
      "0.9591836734693877\n",
      "\n",
      "\n",
      "\n",
      "9\n",
      "0.6815372211771029\n",
      "0.9588744588744589\n",
      "\n",
      "\n",
      "\n",
      "10\n",
      "0.6815372211771029\n",
      "0.9588744588744589\n",
      "\n",
      "\n",
      "\n",
      "11\n",
      "0.6820747110991668\n",
      "0.9588744588744589\n",
      "\n",
      "\n",
      "\n",
      "12\n",
      "0.6823434560601989\n",
      "0.9588744588744589\n",
      "\n",
      "\n",
      "\n",
      "13\n",
      "0.6828809459822628\n",
      "0.9588744588744589\n",
      "\n",
      "\n",
      "\n",
      "14\n",
      "0.6834184359043268\n",
      "0.9588744588744589\n",
      "\n",
      "\n",
      "\n",
      "15\n",
      "0.6834184359043268\n",
      "0.9588744588744589\n",
      "\n",
      "\n",
      "\n",
      "16\n",
      "0.6839559258263908\n",
      "0.95856524427953\n",
      "\n",
      "\n",
      "\n",
      "17\n",
      "0.6842246707874228\n",
      "0.95856524427953\n",
      "\n",
      "\n",
      "\n",
      "18\n",
      "0.6847621607094867\n",
      "0.95856524427953\n",
      "\n",
      "\n",
      "\n",
      "19\n",
      "0.6850309056705187\n",
      "0.95856524427953\n",
      "\n",
      "\n",
      "\n",
      "20\n",
      "0.6852996506315506\n",
      "0.95856524427953\n",
      "\n",
      "\n",
      "\n",
      "21\n",
      "0.6855683955925826\n",
      "0.95856524427953\n",
      "\n",
      "\n",
      "\n",
      "22\n",
      "0.6855683955925826\n",
      "0.95856524427953\n",
      "\n",
      "\n",
      "\n",
      "23\n",
      "0.6855683955925826\n",
      "0.95856524427953\n",
      "\n",
      "\n",
      "\n",
      "24\n",
      "0.6858371405536147\n",
      "0.95856524427953\n",
      "\n",
      "\n",
      "\n",
      "25\n",
      "0.6858371405536147\n",
      "0.95856524427953\n",
      "\n",
      "\n",
      "\n",
      "26\n",
      "0.6861058855146466\n",
      "0.95856524427953\n",
      "\n",
      "\n",
      "\n",
      "27\n",
      "0.6863746304756786\n",
      "0.95856524427953\n",
      "\n",
      "\n",
      "\n",
      "28\n",
      "0.6869121203977425\n",
      "0.95856524427953\n",
      "\n",
      "\n",
      "\n",
      "29\n",
      "0.6874496103198066\n",
      "0.95856524427953\n",
      "\n",
      "\n",
      "\n",
      "30\n",
      "0.6882558452029024\n",
      "0.95856524427953\n",
      "\n",
      "\n",
      "\n",
      "31\n",
      "0.6882558452029024\n",
      "0.95856524427953\n",
      "\n",
      "\n",
      "\n",
      "32\n",
      "0.6882558452029024\n",
      "0.95856524427953\n",
      "\n",
      "\n",
      "\n",
      "33\n",
      "0.6887933351249664\n",
      "0.95856524427953\n",
      "\n",
      "\n",
      "\n",
      "34\n",
      "0.6890620800859983\n",
      "0.9582560296846011\n",
      "\n",
      "\n",
      "\n",
      "35\n",
      "0.6895995700080624\n",
      "0.9582560296846011\n",
      "\n",
      "\n",
      "\n",
      "36\n",
      "0.6909432948132223\n",
      "0.9582560296846011\n",
      "\n",
      "\n",
      "\n",
      "37\n",
      "0.6914807847352862\n",
      "0.9582560296846011\n",
      "\n",
      "\n",
      "\n",
      "38\n",
      "0.6914807847352862\n",
      "0.9582560296846011\n",
      "\n",
      "\n",
      "\n",
      "39\n",
      "0.6920182746573502\n",
      "0.9582560296846011\n",
      "\n",
      "\n",
      "\n",
      "40\n",
      "0.6920182746573502\n",
      "0.9582560296846011\n",
      "\n",
      "\n",
      "\n",
      "41\n",
      "0.6922870196183821\n",
      "0.9582560296846011\n",
      "\n",
      "\n",
      "\n",
      "42\n",
      "0.6925557645794141\n",
      "0.9582560296846011\n",
      "\n",
      "\n",
      "\n",
      "43\n",
      "0.6933619994625101\n",
      "0.9582560296846011\n",
      "\n",
      "\n",
      "\n",
      "44\n",
      "0.6936307444235421\n",
      "0.9582560296846011\n",
      "\n",
      "\n",
      "\n",
      "45\n",
      "0.6957807041117979\n",
      "0.9582560296846011\n",
      "\n",
      "\n",
      "\n",
      "46\n",
      "0.6957807041117979\n",
      "0.9582560296846011\n",
      "\n",
      "\n",
      "\n",
      "47\n",
      "0.6963181940338619\n",
      "0.9582560296846011\n",
      "\n",
      "\n",
      "\n",
      "48\n",
      "0.6968556839559258\n",
      "0.9582560296846011\n",
      "\n",
      "\n",
      "\n",
      "49\n",
      "0.6971244289169578\n",
      "0.9582560296846011\n",
      "\n",
      "\n",
      "\n",
      "50\n",
      "0.6971244289169578\n",
      "0.9582560296846011\n",
      "\n",
      "\n",
      "\n",
      "51\n",
      "0.6976619188390217\n",
      "0.9582560296846011\n",
      "\n",
      "\n",
      "\n",
      "52\n",
      "0.6984681537221177\n",
      "0.9582560296846011\n",
      "\n",
      "\n",
      "\n",
      "53\n",
      "0.6984681537221177\n",
      "0.9582560296846011\n",
      "\n",
      "\n",
      "\n",
      "54\n",
      "0.6998118785272777\n",
      "0.9582560296846011\n",
      "\n",
      "\n",
      "\n",
      "55\n",
      "0.7006181134103736\n",
      "0.9579468150896723\n",
      "\n",
      "\n",
      "\n",
      "56\n",
      "0.7016930932545015\n",
      "0.9579468150896723\n",
      "\n",
      "\n",
      "\n",
      "57\n",
      "0.7024993281375974\n",
      "0.9579468150896723\n",
      "\n",
      "\n",
      "\n",
      "58\n",
      "0.7043805428648213\n",
      "0.9579468150896723\n",
      "\n",
      "\n",
      "\n",
      "59\n",
      "0.7043805428648213\n",
      "0.9579468150896723\n",
      "\n",
      "\n",
      "\n",
      "60\n",
      "0.7046492878258532\n",
      "0.9579468150896723\n",
      "\n",
      "\n",
      "\n",
      "61\n",
      "0.7051867777479173\n",
      "0.9579468150896723\n",
      "\n",
      "\n",
      "\n",
      "62\n",
      "0.7065305025530771\n",
      "0.9579468150896723\n",
      "\n",
      "\n",
      "\n",
      "63\n",
      "0.7065305025530771\n",
      "0.9579468150896723\n",
      "\n",
      "\n",
      "\n",
      "64\n",
      "0.7070679924751411\n",
      "0.9579468150896723\n",
      "\n",
      "\n",
      "\n",
      "65\n",
      "0.707874227358237\n",
      "0.9579468150896723\n",
      "\n",
      "\n",
      "\n",
      "66\n",
      "0.708680462241333\n",
      "0.9579468150896723\n",
      "\n",
      "\n",
      "\n",
      "67\n",
      "0.708949207202365\n",
      "0.9579468150896723\n",
      "\n",
      "\n",
      "\n",
      "68\n",
      "0.708949207202365\n",
      "0.9579468150896723\n",
      "\n",
      "\n",
      "\n",
      "69\n",
      "0.708949207202365\n",
      "0.9579468150896723\n",
      "\n",
      "\n",
      "\n",
      "70\n",
      "0.7100241870464928\n",
      "0.9579468150896723\n",
      "\n",
      "\n",
      "\n",
      "71\n",
      "0.7105616769685569\n",
      "0.9579468150896723\n",
      "\n",
      "\n",
      "\n",
      "72\n",
      "0.7110991668906208\n",
      "0.9579468150896723\n",
      "\n",
      "\n",
      "\n",
      "73\n",
      "0.7124428916957807\n",
      "0.9579468150896723\n",
      "\n",
      "\n",
      "\n",
      "74\n",
      "0.7135178715399086\n",
      "0.9579468150896723\n",
      "\n",
      "\n",
      "\n",
      "75\n",
      "0.7137866165009407\n",
      "0.9579468150896723\n",
      "\n",
      "\n",
      "\n",
      "76\n",
      "0.7143241064230046\n",
      "0.9576376004947433\n",
      "\n",
      "\n",
      "\n",
      "77\n",
      "0.7148615963450685\n",
      "0.9576376004947433\n",
      "\n",
      "\n",
      "\n",
      "78\n",
      "0.7151303413061005\n",
      "0.9576376004947433\n",
      "\n",
      "\n",
      "\n",
      "79\n",
      "0.7162053211502284\n",
      "0.9576376004947433\n",
      "\n",
      "\n",
      "\n",
      "80\n",
      "0.7172803009943564\n",
      "0.9576376004947433\n",
      "\n",
      "\n",
      "\n",
      "81\n",
      "0.7186240257995162\n",
      "0.9576376004947433\n",
      "\n",
      "\n",
      "\n",
      "82\n",
      "0.7194302606826122\n",
      "0.9576376004947433\n",
      "\n",
      "\n",
      "\n",
      "83\n",
      "0.7196990056436442\n",
      "0.9576376004947433\n",
      "\n",
      "\n",
      "\n",
      "84\n",
      "0.7205052405267401\n",
      "0.9576376004947433\n",
      "\n",
      "\n",
      "\n",
      "85\n",
      "0.720773985487772\n",
      "0.9576376004947433\n",
      "\n",
      "\n",
      "\n",
      "86\n",
      "0.7213114754098361\n",
      "0.9573283858998145\n",
      "\n",
      "\n",
      "\n",
      "87\n",
      "0.721580220370868\n",
      "0.9573283858998145\n",
      "\n",
      "\n",
      "\n",
      "88\n",
      "0.7218489653319\n",
      "0.9573283858998145\n",
      "\n",
      "\n",
      "\n",
      "89\n",
      "0.7223864552539639\n",
      "0.9573283858998145\n",
      "\n",
      "\n",
      "\n",
      "90\n",
      "0.7234614350980919\n",
      "0.9573283858998145\n",
      "\n",
      "\n",
      "\n",
      "91\n",
      "0.7242676699811879\n",
      "0.9573283858998145\n",
      "\n",
      "\n",
      "\n",
      "92\n",
      "0.7242676699811879\n",
      "0.9573283858998145\n",
      "\n",
      "\n",
      "\n",
      "93\n",
      "0.7264176296694437\n",
      "0.9573283858998145\n",
      "\n",
      "\n",
      "\n",
      "94\n",
      "0.7266863746304757\n",
      "0.9573283858998145\n",
      "\n",
      "\n",
      "\n",
      "95\n",
      "0.7269551195915077\n",
      "0.9573283858998145\n",
      "\n",
      "\n",
      "\n",
      "96\n",
      "0.7274926095135716\n",
      "0.9573283858998145\n",
      "\n",
      "\n",
      "\n",
      "97\n",
      "0.7280300994356356\n",
      "0.9573283858998145\n",
      "\n",
      "\n",
      "\n",
      "98\n",
      "0.7285675893576995\n",
      "0.9573283858998145\n",
      "\n",
      "\n",
      "\n",
      "99\n",
      "0.7299113141628595\n",
      "0.9573283858998145\n",
      "\n",
      "\n",
      "\n",
      "100\n",
      "0.7307175490459554\n",
      "0.9573283858998145\n",
      "\n",
      "\n",
      "\n",
      "101\n",
      "0.7315237839290514\n",
      "0.9573283858998145\n",
      "\n",
      "\n",
      "\n",
      "102\n",
      "0.7325987637731792\n",
      "0.9573283858998145\n",
      "\n",
      "\n",
      "\n",
      "103\n",
      "0.7328675087342112\n",
      "0.9573283858998145\n",
      "\n",
      "\n",
      "\n",
      "104\n",
      "0.7339424885783391\n",
      "0.9573283858998145\n",
      "\n",
      "\n",
      "\n",
      "105\n",
      "0.7344799785004031\n",
      "0.9573283858998145\n",
      "\n",
      "\n",
      "\n",
      "106\n",
      "0.7350174684224671\n",
      "0.9573283858998145\n",
      "\n",
      "\n",
      "\n",
      "107\n",
      "0.735554958344531\n",
      "0.9573283858998145\n",
      "\n",
      "\n",
      "\n",
      "108\n",
      "0.736629938188659\n",
      "0.9573283858998145\n",
      "\n",
      "\n",
      "\n",
      "109\n",
      "0.7390486428379468\n",
      "0.9573283858998145\n",
      "\n",
      "\n",
      "\n",
      "110\n",
      "0.7398548777210427\n",
      "0.9573283858998145\n",
      "\n",
      "\n",
      "\n",
      "111\n",
      "0.7403923676431067\n",
      "0.9573283858998145\n",
      "\n",
      "\n",
      "\n",
      "112\n",
      "0.7403923676431067\n",
      "0.9573283858998145\n",
      "\n",
      "\n",
      "\n",
      "113\n",
      "0.7411986025262026\n",
      "0.9573283858998145\n",
      "\n",
      "\n",
      "\n",
      "114\n",
      "0.7420048374092986\n",
      "0.9573283858998145\n",
      "\n",
      "\n",
      "\n",
      "115\n",
      "0.7430798172534265\n",
      "0.9570191713048856\n",
      "\n",
      "\n",
      "\n",
      "116\n",
      "0.7436173071754905\n",
      "0.9570191713048856\n",
      "\n",
      "\n",
      "\n",
      "117\n",
      "0.7444235420585864\n",
      "0.9570191713048856\n",
      "\n",
      "\n",
      "\n",
      "118\n",
      "0.7449610319806503\n",
      "0.9564007421150278\n",
      "\n",
      "\n",
      "\n",
      "119\n",
      "0.7452297769416824\n",
      "0.9564007421150278\n",
      "\n",
      "\n",
      "\n",
      "120\n",
      "0.7454985219027144\n",
      "0.9564007421150278\n",
      "\n",
      "\n",
      "\n",
      "121\n",
      "0.7476484815909702\n",
      "0.9564007421150278\n",
      "\n",
      "\n",
      "\n",
      "122\n",
      "0.7489922063961301\n",
      "0.9564007421150278\n",
      "\n",
      "\n",
      "\n",
      "123\n",
      "0.749798441279226\n",
      "0.9564007421150278\n",
      "\n",
      "\n",
      "\n",
      "124\n",
      "0.7511421660843859\n",
      "0.9564007421150278\n",
      "\n",
      "\n",
      "\n",
      "125\n",
      "0.7516796560064499\n",
      "0.956091527520099\n",
      "\n",
      "\n",
      "\n",
      "126\n",
      "0.7519484009674818\n",
      "0.9554730983302412\n",
      "\n",
      "\n",
      "\n",
      "127\n",
      "0.7535608707336737\n",
      "0.9551638837353124\n",
      "\n",
      "\n",
      "\n",
      "128\n",
      "0.7538296156947057\n",
      "0.9551638837353124\n",
      "\n",
      "\n",
      "\n",
      "129\n",
      "0.7567858102660575\n",
      "0.9548546691403834\n",
      "\n",
      "\n",
      "\n",
      "130\n",
      "0.7589357699543133\n",
      "0.9545454545454546\n",
      "\n",
      "\n",
      "\n",
      "131\n",
      "0.7616232195646332\n",
      "0.9545454545454546\n",
      "\n",
      "\n",
      "\n",
      "132\n",
      "0.7624294544477291\n",
      "0.9545454545454546\n",
      "\n",
      "\n",
      "\n",
      "133\n",
      "0.7653856490190809\n",
      "0.9542362399505256\n",
      "\n",
      "\n",
      "\n",
      "134\n",
      "0.7688793335124966\n",
      "0.9536178107606679\n",
      "\n",
      "\n",
      "\n",
      "135\n",
      "0.7699543133566246\n",
      "0.9536178107606679\n",
      "\n",
      "\n",
      "\n",
      "136\n",
      "0.7710292932007525\n",
      "0.953308596165739\n",
      "\n",
      "\n",
      "\n",
      "137\n",
      "0.7729105079279763\n",
      "0.9529993815708101\n",
      "\n",
      "\n",
      "\n",
      "138\n",
      "0.7737167428110723\n",
      "0.9520717377860235\n",
      "\n",
      "\n",
      "\n",
      "139\n",
      "0.7764041924213921\n",
      "0.9517625231910947\n",
      "\n",
      "\n",
      "\n",
      "140\n",
      "0.7793603869927439\n",
      "0.9514533085961657\n",
      "\n",
      "\n",
      "\n",
      "141\n",
      "0.7828540714861596\n",
      "0.9511440940012369\n",
      "\n",
      "\n",
      "\n",
      "142\n",
      "0.7850040311744155\n",
      "0.9502164502164502\n",
      "\n",
      "\n",
      "\n",
      "143\n",
      "0.7890352055898951\n",
      "0.9495980210265924\n",
      "\n",
      "\n",
      "\n",
      "144\n",
      "0.7922601451222789\n",
      "0.948051948051948\n",
      "\n",
      "\n",
      "\n",
      "145\n",
      "0.7976350443429185\n",
      "0.9468150896722325\n",
      "\n",
      "\n",
      "\n",
      "146\n",
      "0.8040849234076861\n",
      "0.9458874458874459\n",
      "\n",
      "\n",
      "\n",
      "147\n",
      "0.8083848427841978\n",
      "0.943104514533086\n",
      "\n",
      "\n",
      "\n",
      "148\n",
      "0.8140284869658694\n",
      "0.9397031539888683\n",
      "\n",
      "\n",
      "\n",
      "149\n",
      "0.8228970706799248\n",
      "0.9304267161410018\n",
      "\n",
      "\n",
      "\n",
      "150\n",
      "0.846546627250739\n",
      "0.8871366728509585\n",
      "\n",
      "\n",
      "\n",
      "151\n",
      "0.889545821015856\n",
      "0.0\n",
      "\n",
      "\n",
      "\n",
      "152\n",
      "0.889545821015856\n",
      "0.0\n",
      "\n",
      "\n",
      "\n",
      "153\n",
      "0.889545821015856\n",
      "0.0\n",
      "\n",
      "\n",
      "\n",
      "154\n",
      "0.889545821015856\n",
      "0.0\n",
      "\n",
      "\n",
      "\n",
      "155\n",
      "0.889545821015856\n",
      "0.0\n",
      "\n",
      "\n",
      "\n",
      "156\n",
      "0.889545821015856\n",
      "0.0\n",
      "\n",
      "\n",
      "\n",
      "157\n",
      "0.889545821015856\n",
      "0.0\n",
      "\n",
      "\n",
      "\n",
      "158\n",
      "0.889545821015856\n",
      "0.0\n",
      "\n",
      "\n",
      "\n",
      "159\n",
      "0.889545821015856\n",
      "0.0\n",
      "\n",
      "\n",
      "\n",
      "160\n",
      "0.889545821015856\n",
      "0.0\n",
      "\n",
      "\n",
      "\n",
      "161\n",
      "0.889545821015856\n",
      "0.0\n",
      "\n",
      "\n",
      "\n",
      "162\n",
      "0.889545821015856\n",
      "0.0\n",
      "\n",
      "\n",
      "\n",
      "163\n",
      "0.889545821015856\n",
      "0.0\n",
      "\n",
      "\n",
      "\n",
      "164\n",
      "0.889545821015856\n",
      "0.0\n",
      "\n",
      "\n",
      "\n",
      "165\n",
      "0.889545821015856\n",
      "0.0\n",
      "\n",
      "\n",
      "\n",
      "166\n",
      "0.889545821015856\n",
      "0.0\n",
      "\n",
      "\n",
      "\n",
      "167\n",
      "0.889545821015856\n",
      "0.0\n",
      "\n",
      "\n",
      "\n",
      "168\n",
      "0.889545821015856\n",
      "0.0\n",
      "\n",
      "\n",
      "\n",
      "169\n",
      "0.889545821015856\n",
      "0.0\n",
      "\n",
      "\n",
      "\n",
      "170\n",
      "0.889545821015856\n",
      "0.0\n",
      "\n",
      "\n",
      "\n",
      "171\n",
      "0.889545821015856\n",
      "0.0\n",
      "\n",
      "\n",
      "\n",
      "172\n",
      "0.889545821015856\n",
      "0.0\n",
      "\n",
      "\n",
      "\n",
      "173\n",
      "0.889545821015856\n",
      "0.0\n",
      "\n",
      "\n",
      "\n",
      "174\n",
      "0.889545821015856\n",
      "0.0\n",
      "\n",
      "\n",
      "\n",
      "175\n",
      "0.889545821015856\n",
      "0.0\n",
      "\n",
      "\n",
      "\n",
      "176\n",
      "0.889545821015856\n",
      "0.0\n",
      "\n",
      "\n",
      "\n",
      "177\n",
      "0.889545821015856\n",
      "0.0\n",
      "\n",
      "\n",
      "\n",
      "178\n",
      "0.889545821015856\n",
      "0.0\n",
      "\n",
      "\n",
      "\n",
      "179\n",
      "0.889545821015856\n",
      "0.0\n",
      "\n",
      "\n",
      "\n",
      "180\n",
      "0.889545821015856\n",
      "0.0\n",
      "\n",
      "\n",
      "\n",
      "181\n",
      "0.889545821015856\n",
      "0.0\n",
      "\n",
      "\n",
      "\n",
      "182\n",
      "0.889545821015856\n",
      "0.0\n",
      "\n",
      "\n",
      "\n",
      "183\n",
      "0.889545821015856\n",
      "0.0\n",
      "\n",
      "\n",
      "\n",
      "184\n",
      "0.889545821015856\n",
      "0.0\n",
      "\n",
      "\n",
      "\n",
      "185\n",
      "0.889545821015856\n",
      "0.0\n",
      "\n",
      "\n",
      "\n",
      "186\n",
      "0.889545821015856\n",
      "0.0\n",
      "\n",
      "\n",
      "\n",
      "187\n",
      "0.889545821015856\n",
      "0.0\n",
      "\n",
      "\n",
      "\n",
      "188\n",
      "0.889545821015856\n",
      "0.0\n",
      "\n",
      "\n",
      "\n",
      "189\n",
      "0.889545821015856\n",
      "0.0\n",
      "\n",
      "\n",
      "\n",
      "190\n",
      "0.889545821015856\n",
      "0.0\n",
      "\n",
      "\n",
      "\n",
      "191\n",
      "0.889545821015856\n",
      "0.0\n",
      "\n",
      "\n",
      "\n",
      "192\n",
      "0.889545821015856\n",
      "0.0\n",
      "\n",
      "\n",
      "\n",
      "193\n",
      "0.889545821015856\n",
      "0.0\n",
      "\n",
      "\n",
      "\n",
      "194\n",
      "0.889545821015856\n",
      "0.0\n",
      "\n",
      "\n",
      "\n",
      "195\n",
      "0.889545821015856\n",
      "0.0\n",
      "\n",
      "\n",
      "\n",
      "196\n",
      "0.889545821015856\n",
      "0.0\n",
      "\n",
      "\n",
      "\n",
      "197\n",
      "0.889545821015856\n",
      "0.0\n",
      "\n",
      "\n",
      "\n",
      "198\n",
      "0.889545821015856\n",
      "0.0\n",
      "\n",
      "\n",
      "\n",
      "199\n",
      "0.889545821015856\n",
      "0.0\n",
      "\n",
      "\n",
      "\n"
     ]
    }
   ],
   "source": [
    "for index in range(0,len(correct_genus_rate),1):\n",
    "    print(index)\n",
    "    print(correct_genus_rate[index])\n",
    "    print(correct_species_rate[index])\n",
    "    print('\\n\\n')"
   ]
  },
  {
   "cell_type": "code",
   "execution_count": 78,
   "metadata": {},
   "outputs": [
    {
     "data": {
      "text/plain": [
       "[<matplotlib.lines.Line2D at 0x707ffc224fb0>]"
      ]
     },
     "execution_count": 78,
     "metadata": {},
     "output_type": "execute_result"
    },
    {
     "data": {
      "image/png": "[encoded data removed]",
      "text/plain": [
       "<Figure size 640x480 with 1 Axes>"
      ]
     },
     "metadata": {},
     "output_type": "display_data"
    }
   ],
   "source": [
    "plt.plot(thresholds,correct_genus_rate[-200:])\n",
    "plt.plot(thresholds,correct_species_rate[-200:])"
   ]
  },
  {
   "cell_type": "code",
   "execution_count": 79,
   "metadata": {},
   "outputs": [
    {
     "data": {
      "text/plain": [
       "0.9996734999999999"
      ]
     },
     "execution_count": 79,
     "metadata": {},
     "output_type": "execute_result"
    }
   ],
   "source": [
    "thresholds[147]"
   ]
  },
  {
   "cell_type": "code",
   "execution_count": 52,
   "metadata": {},
   "outputs": [
    {
     "ename": "Exception",
     "evalue": "",
     "output_type": "error",
     "traceback": [
      "\u001b[0;31m---------------------------------------------------------------------------\u001b[0m",
      "\u001b[0;31mException\u001b[0m                                 Traceback (most recent call last)",
      "Cell \u001b[0;32mIn[52], line 1\u001b[0m\n\u001b[0;32m----> 1\u001b[0m \u001b[38;5;28;01mraise\u001b[39;00m \u001b[38;5;167;01mException\u001b[39;00m\n",
      "\u001b[0;31mException\u001b[0m: "
     ]
    }
   ],
   "source": []
  },
  {
   "cell_type": "code",
   "execution_count": 79,
   "metadata": {
    "scrolled": true
   },
   "outputs": [
    {
     "data": {
      "text/plain": [
       "0.988"
      ]
     },
     "execution_count": 79,
     "metadata": {},
     "output_type": "execute_result"
    }
   ],
   "source": [
    "thresholds[88]"
   ]
  },
  {
   "cell_type": "code",
   "execution_count": null,
   "metadata": {},
   "outputs": [],
   "source": []
  },
  {
   "cell_type": "markdown",
   "metadata": {},
   "source": [
    "# Random Forest"
   ]
  },
  {
   "cell_type": "code",
   "execution_count": 20,
   "metadata": {},
   "outputs": [
    {
     "name": "stdout",
     "output_type": "stream",
     "text": [
      "train\n",
      "val\n",
      "proba\n"
     ]
    }
   ],
   "source": [
    "clf = RandomForestClassifier(min_samples_leaf=2,n_jobs=-1)\n",
    "clf = clf.fit(complete_train_features_scaled, image_train_labels)\n",
    "\n",
    "train_predicted_labels = clf.predict(complete_train_features_scaled)\n",
    "print('train')\n",
    "val_predicted_labels= clf.predict(complete_val_features_scaled)\n",
    "print('val')\n",
    "temp_val_predicted_probs = clf.predict_proba(complete_val_features_scaled)\n",
    "print('proba')\n",
    "val_predicted_probs = np.zeros((len(temp_val_predicted_probs),n_classes))\n",
    "for i, cls in enumerate(np.arange(n_classes)):\n",
    "    if cls in clf.classes_:\n",
    "        val_predicted_probs[:, cls] = temp_val_predicted_probs[:, list(clf.classes_).index(cls)]"
   ]
  },
  {
   "cell_type": "code",
   "execution_count": 21,
   "metadata": {},
   "outputs": [
    {
     "data": {
      "text/plain": [
       "array([[0.        , 0.89183333, 0.        , ..., 0.        , 0.        ,\n",
       "        0.        ],\n",
       "       [0.        , 0.90766667, 0.        , ..., 0.        , 0.        ,\n",
       "        0.        ],\n",
       "       [0.        , 0.        , 0.7425    , ..., 0.        , 0.01      ,\n",
       "        0.        ],\n",
       "       ...,\n",
       "       [0.        , 0.        , 0.        , ..., 0.        , 0.        ,\n",
       "        1.        ],\n",
       "       [0.        , 0.        , 0.        , ..., 0.        , 0.        ,\n",
       "        0.8675    ],\n",
       "       [0.        , 0.        , 0.        , ..., 0.        , 0.        ,\n",
       "        0.9625    ]])"
      ]
     },
     "execution_count": 21,
     "metadata": {},
     "output_type": "execute_result"
    }
   ],
   "source": [
    "temp_val_predicted_probs"
   ]
  },
  {
   "cell_type": "code",
   "execution_count": 22,
   "metadata": {},
   "outputs": [
    {
     "data": {
      "text/plain": [
       "array([0.00012523, 0.00010174, 0.00011856, ..., 0.        , 0.        ,\n",
       "       0.        ])"
      ]
     },
     "execution_count": 22,
     "metadata": {},
     "output_type": "execute_result"
    }
   ],
   "source": [
    "feature_importances = clf.feature_importances_\n",
    "feature_importances"
   ]
  },
  {
   "cell_type": "code",
   "execution_count": 23,
   "metadata": {},
   "outputs": [
    {
     "data": {
      "image/png": "[encoded data removed]",
      "text/plain": [
       "<Figure size 1000x600 with 1 Axes>"
      ]
     },
     "metadata": {},
     "output_type": "display_data"
    }
   ],
   "source": [
    "feature_names = [f'Feature {i+1}' for i in range(complete_train_features.shape[1])]\n",
    "\n",
    "plt.figure(figsize=(10, 6))\n",
    "plt.bar(range(len(feature_importances)), feature_importances, align='center')\n",
    "plt.ylabel('Features Importances')\n",
    "plt.show()"
   ]
  },
  {
   "cell_type": "markdown",
   "metadata": {},
   "source": [
    "# Accuracies"
   ]
  },
  {
   "cell_type": "code",
   "execution_count": 24,
   "metadata": {},
   "outputs": [
    {
     "name": "stdout",
     "output_type": "stream",
     "text": [
      "Training species accuracy:0.9999233070020707\n",
      "Validation species accuracy:0.45751258087706687\n"
     ]
    }
   ],
   "source": [
    "print(f\"Training species accuracy:{np.count_nonzero(train_predicted_labels==image_train_labels.numpy())/len(image_train_labels)}\")\n",
    "\n",
    "print(f\"Validation species accuracy:{np.count_nonzero(val_predicted_labels==image_val_labels.numpy())/len(image_val_labels)}\")"
   ]
  },
  {
   "cell_type": "code",
   "execution_count": 25,
   "metadata": {},
   "outputs": [
    {
     "ename": "IndexError",
     "evalue": "only integers, slices (`:`), ellipsis (`...`), numpy.newaxis (`None`) and integer or boolean arrays are valid indices",
     "output_type": "error",
     "traceback": [
      "\u001b[0;31m---------------------------------------------------------------------------\u001b[0m",
      "\u001b[0;31mIndexError\u001b[0m                                Traceback (most recent call last)",
      "Cell \u001b[0;32mIn[25], line 9\u001b[0m\n\u001b[1;32m      5\u001b[0m label_best_specie \u001b[38;5;241m=\u001b[39m val_predicted_labels[i]\n\u001b[1;32m      6\u001b[0m \u001b[38;5;66;03m#print(val_predicted_labels[i])\u001b[39;00m\n\u001b[1;32m      7\u001b[0m \u001b[38;5;66;03m#print(val_predicted_probs[i].argmax())\u001b[39;00m\n\u001b[1;32m      8\u001b[0m \u001b[38;5;66;03m#assert(val_predicted_labels[i]==val_predicted_probs[i].argmax())\u001b[39;00m\n\u001b[0;32m----> 9\u001b[0m genus_of_best_species \u001b[38;5;241m=\u001b[39m species2genus[label_best_specie\u001b[38;5;241m.\u001b[39mitem()]\n\u001b[1;32m     10\u001b[0m \u001b[38;5;66;03m#species_same_genus = [k for k,v in species2genus.items() if v == genus_of_best_species]\u001b[39;00m\n\u001b[1;32m     11\u001b[0m \u001b[38;5;66;03m#reduced_species = val_predicted_probs[i][species_same_genus]\u001b[39;00m\n\u001b[1;32m     12\u001b[0m \u001b[38;5;66;03m#normalized_reduced_species = reduced_species/(reduced_species.sum())\u001b[39;00m\n\u001b[1;32m     14\u001b[0m real_genus \u001b[38;5;241m=\u001b[39m species2genus[image_val_labels[i]\u001b[38;5;241m.\u001b[39mitem()]\n",
      "\u001b[0;31mIndexError\u001b[0m: only integers, slices (`:`), ellipsis (`...`), numpy.newaxis (`None`) and integer or boolean arrays are valid indices"
     ]
    }
   ],
   "source": [
    "import math\n",
    "n_correct_genus = 0\n",
    "for i in range(len(image_val_labels)):\n",
    "    #label_best_specie = val_predicted_probs[i].argmax()\n",
    "    label_best_specie = val_predicted_labels[i]\n",
    "    #print(val_predicted_labels[i])\n",
    "    #print(val_predicted_probs[i].argmax())\n",
    "    #assert(val_predicted_labels[i]==val_predicted_probs[i].argmax())\n",
    "    genus_of_best_species = species2genus[label_best_specie.item()]\n",
    "    #species_same_genus = [k for k,v in species2genus.items() if v == genus_of_best_species]\n",
    "    #reduced_species = val_predicted_probs[i][species_same_genus]\n",
    "    #normalized_reduced_species = reduced_species/(reduced_species.sum())\n",
    "    \n",
    "    real_genus = species2genus[image_val_labels[i].item()]\n",
    "    predicted_genus = genus_of_best_species\n",
    "    if real_genus == predicted_genus:\n",
    "        n_correct_genus+=1\n",
    "print(f\"Validation genus accuracy: {n_correct_genus/len(image_val_labels)}\")"
   ]
  },
  {
   "cell_type": "code",
   "execution_count": null,
   "metadata": {},
   "outputs": [],
   "source": []
  },
  {
   "cell_type": "code",
   "execution_count": null,
   "metadata": {},
   "outputs": [],
   "source": []
  },
  {
   "cell_type": "code",
   "execution_count": 26,
   "metadata": {},
   "outputs": [
    {
     "data": {
      "text/plain": [
       "tensor(366)"
      ]
     },
     "execution_count": 26,
     "metadata": {},
     "output_type": "execute_result"
    }
   ],
   "source": [
    "val_predicted_labels_genus[i]"
   ]
  },
  {
   "cell_type": "code",
   "execution_count": 27,
   "metadata": {
    "scrolled": true
   },
   "outputs": [],
   "source": []
  },
  {
   "cell_type": "code",
   "execution_count": null,
   "metadata": {},
   "outputs": [],
   "source": []
  },
  {
   "cell_type": "code",
   "execution_count": 28,
   "metadata": {
    "scrolled": true
   },
   "outputs": [
    {
     "name": "stdout",
     "output_type": "stream",
     "text": [
      "0\n",
      "0.0\n",
      "0.9904666332162569\n",
      "\n",
      "\n",
      "\n",
      "1\n",
      "0.004448210124973522\n",
      "0.9904666332162569\n",
      "\n",
      "\n",
      "\n",
      "2\n",
      "0.009425969074348655\n",
      "0.9904666332162569\n",
      "\n",
      "\n",
      "\n",
      "3\n",
      "0.013238720610040246\n",
      "0.9904666332162569\n",
      "\n",
      "\n",
      "\n",
      "4\n",
      "0.01779284049989409\n",
      "0.9904666332162569\n",
      "\n",
      "\n",
      "\n",
      "5\n",
      "0.02160559203558568\n",
      "0.9904666332162569\n",
      "\n",
      "\n",
      "\n",
      "6\n",
      "0.025630163101037915\n",
      "0.9904666332162569\n",
      "\n",
      "\n",
      "\n",
      "7\n",
      "0.030502012285532724\n",
      "0.9904666332162569\n",
      "\n",
      "\n",
      "\n",
      "8\n",
      "0.03526795170514722\n",
      "0.9904666332162569\n",
      "\n",
      "\n",
      "\n",
      "9\n",
      "0.039504342300360096\n",
      "0.9902157551430005\n",
      "\n",
      "\n",
      "\n",
      "10\n",
      "0.04363482313069265\n",
      "0.9902157551430005\n",
      "\n",
      "\n",
      "\n",
      "11\n",
      "0.047553484431264566\n",
      "0.9902157551430005\n",
      "\n",
      "\n",
      "\n",
      "12\n",
      "0.05242533361575937\n",
      "0.9902157551430005\n",
      "\n",
      "\n",
      "\n",
      "13\n",
      "0.05708536327049354\n",
      "0.9902157551430005\n",
      "\n",
      "\n",
      "\n",
      "14\n",
      "0.06163948316034738\n",
      "0.9902157551430005\n",
      "\n",
      "\n",
      "\n",
      "15\n",
      "0.06619360305020122\n",
      "0.9902157551430005\n",
      "\n",
      "\n",
      "\n",
      "16\n",
      "0.0699004448210125\n",
      "0.9902157551430005\n",
      "\n",
      "\n",
      "\n",
      "17\n",
      "0.07487820377038763\n",
      "0.9902157551430005\n",
      "\n",
      "\n",
      "\n",
      "18\n",
      "0.08027960177928405\n",
      "0.9902157551430005\n",
      "\n",
      "\n",
      "\n",
      "19\n",
      "0.08652827790722305\n",
      "0.9902157551430005\n",
      "\n",
      "\n",
      "\n",
      "20\n",
      "0.09087057826731625\n",
      "0.9902157551430005\n",
      "\n",
      "\n",
      "\n",
      "21\n",
      "0.09563651768693074\n",
      "0.9902157551430005\n",
      "\n",
      "\n",
      "\n",
      "22\n",
      "0.10040245710654522\n",
      "0.9902157551430005\n",
      "\n",
      "\n",
      "\n",
      "23\n",
      "0.10601567464520228\n",
      "0.9902157551430005\n",
      "\n",
      "\n",
      "\n",
      "24\n",
      "0.11131116288921838\n",
      "0.9902157551430005\n",
      "\n",
      "\n",
      "\n",
      "25\n",
      "0.11575937301419191\n",
      "0.9902157551430005\n",
      "\n",
      "\n",
      "\n",
      "26\n",
      "0.12063122219868672\n",
      "0.9902157551430005\n",
      "\n",
      "\n",
      "\n",
      "27\n",
      "0.12592671044270282\n",
      "0.9902157551430005\n",
      "\n",
      "\n",
      "\n",
      "28\n",
      "0.13048083033255667\n",
      "0.9902157551430005\n",
      "\n",
      "\n",
      "\n",
      "29\n",
      "0.13418767210336793\n",
      "0.9902157551430005\n",
      "\n",
      "\n",
      "\n",
      "30\n",
      "0.13905952128786275\n",
      "0.9902157551430005\n",
      "\n",
      "\n",
      "\n",
      "31\n",
      "0.1442490997669985\n",
      "0.9902157551430005\n",
      "\n",
      "\n",
      "\n",
      "32\n",
      "0.1494386782461343\n",
      "0.9902157551430005\n",
      "\n",
      "\n",
      "\n",
      "33\n",
      "0.15558144460919296\n",
      "0.9902157551430005\n",
      "\n",
      "\n",
      "\n",
      "34\n",
      "0.1596060156746452\n",
      "0.9902157551430005\n",
      "\n",
      "\n",
      "\n",
      "35\n",
      "0.1653251429781826\n",
      "0.9902157551430005\n",
      "\n",
      "\n",
      "\n",
      "36\n",
      "0.170726540987079\n",
      "0.9902157551430005\n",
      "\n",
      "\n",
      "\n",
      "37\n",
      "0.17559839017157383\n",
      "0.9902157551430005\n",
      "\n",
      "\n",
      "\n",
      "38\n",
      "0.18099978818047024\n",
      "0.9899648770697441\n",
      "\n",
      "\n",
      "\n",
      "39\n",
      "0.1860834568947257\n",
      "0.9899648770697441\n",
      "\n",
      "\n",
      "\n",
      "40\n",
      "0.19127303537386148\n",
      "0.9899648770697441\n",
      "\n",
      "\n",
      "\n",
      "41\n",
      "0.19699216267739886\n",
      "0.9899648770697441\n",
      "\n",
      "\n",
      "\n",
      "42\n",
      "0.20239356068629527\n",
      "0.9899648770697441\n",
      "\n",
      "\n",
      "\n",
      "43\n",
      "0.20790086846007202\n",
      "0.9899648770697441\n",
      "\n",
      "\n",
      "\n",
      "44\n",
      "0.2121372590552849\n",
      "0.9899648770697441\n",
      "\n",
      "\n",
      "\n",
      "45\n",
      "0.21743274729930098\n",
      "0.9897139989964877\n",
      "\n",
      "\n",
      "\n",
      "46\n",
      "0.22368142342723998\n",
      "0.9897139989964877\n",
      "\n",
      "\n",
      "\n",
      "47\n",
      "0.22908282143613642\n",
      "0.9897139989964877\n",
      "\n",
      "\n",
      "\n",
      "48\n",
      "0.23469603897479346\n",
      "0.9897139989964877\n",
      "\n",
      "\n",
      "\n",
      "49\n",
      "0.23956788815928828\n",
      "0.9897139989964877\n",
      "\n",
      "\n",
      "\n",
      "50\n",
      "0.24560474475746663\n",
      "0.9897139989964877\n",
      "\n",
      "\n",
      "\n",
      "51\n",
      "0.2507943232366024\n",
      "0.9897139989964877\n",
      "\n",
      "\n",
      "\n",
      "52\n",
      "0.2567252700699004\n",
      "0.9897139989964877\n",
      "\n",
      "\n",
      "\n",
      "53\n",
      "0.2629739461978394\n",
      "0.9897139989964877\n",
      "\n",
      "\n",
      "\n",
      "54\n",
      "0.26943444185553905\n",
      "0.9897139989964877\n",
      "\n",
      "\n",
      "\n",
      "55\n",
      "0.2745181105697945\n",
      "0.9897139989964877\n",
      "\n",
      "\n",
      "\n",
      "56\n",
      "0.2801313281084516\n",
      "0.9897139989964877\n",
      "\n",
      "\n",
      "\n",
      "57\n",
      "0.28616818470662997\n",
      "0.9897139989964877\n",
      "\n",
      "\n",
      "\n",
      "58\n",
      "0.29442914636729506\n",
      "0.9894631209232313\n",
      "\n",
      "\n",
      "\n",
      "59\n",
      "0.3003600932005931\n",
      "0.9894631209232313\n",
      "\n",
      "\n",
      "\n",
      "60\n",
      "0.30671467909341243\n",
      "0.9892122428499749\n",
      "\n",
      "\n",
      "\n",
      "61\n",
      "0.31222198686718916\n",
      "0.9892122428499749\n",
      "\n",
      "\n",
      "\n",
      "62\n",
      "0.3192120313492904\n",
      "0.9892122428499749\n",
      "\n",
      "\n",
      "\n",
      "63\n",
      "0.326307985596272\n",
      "0.9892122428499749\n",
      "\n",
      "\n",
      "\n",
      "64\n",
      "0.3330862105486126\n",
      "0.9892122428499749\n",
      "\n",
      "\n",
      "\n",
      "65\n",
      "0.34018216479559416\n",
      "0.9889613647767185\n",
      "\n",
      "\n",
      "\n",
      "66\n",
      "0.34600720186401185\n",
      "0.9889613647767185\n",
      "\n",
      "\n",
      "\n",
      "67\n",
      "0.35373861470027534\n",
      "0.9889613647767185\n",
      "\n",
      "\n",
      "\n",
      "68\n",
      "0.3593518322389324\n",
      "0.9889613647767185\n",
      "\n",
      "\n",
      "\n",
      "69\n",
      "0.3663418767210337\n",
      "0.9884596086302058\n",
      "\n",
      "\n",
      "\n",
      "70\n",
      "0.3736496504977759\n",
      "0.9884596086302058\n",
      "\n",
      "\n",
      "\n",
      "71\n",
      "0.3795805973310739\n",
      "0.9884596086302058\n",
      "\n",
      "\n",
      "\n",
      "72\n",
      "0.38699428087269644\n",
      "0.9882087305569494\n",
      "\n",
      "\n",
      "\n",
      "73\n",
      "0.3958907011226435\n",
      "0.9882087305569494\n",
      "\n",
      "\n",
      "\n",
      "74\n",
      "0.40425757254818895\n",
      "0.9882087305569494\n",
      "\n",
      "\n",
      "\n",
      "75\n",
      "0.41315399279813597\n",
      "0.9882087305569494\n",
      "\n",
      "\n",
      "\n",
      "76\n",
      "0.41993221775047657\n",
      "0.9882087305569494\n",
      "\n",
      "\n",
      "\n",
      "77\n",
      "0.42692226223257784\n",
      "0.9882087305569494\n",
      "\n",
      "\n",
      "\n",
      "78\n",
      "0.4340182164795594\n",
      "0.9877069744104365\n",
      "\n",
      "\n",
      "\n",
      "79\n",
      "0.4429146367295065\n",
      "0.9877069744104365\n",
      "\n",
      "\n",
      "\n",
      "80\n",
      "0.45106968862529123\n",
      "0.9877069744104365\n",
      "\n",
      "\n",
      "\n",
      "81\n",
      "0.45975428934547763\n",
      "0.9874560963371801\n",
      "\n",
      "\n",
      "\n",
      "82\n",
      "0.46790934124126243\n",
      "0.9872052182639237\n",
      "\n",
      "\n",
      "\n",
      "83\n",
      "0.4758525736072866\n",
      "0.9869543401906673\n",
      "\n",
      "\n",
      "\n",
      "84\n",
      "0.4841135352679517\n",
      "0.9864525840441546\n",
      "\n",
      "\n",
      "\n",
      "85\n",
      "0.49195085786909554\n",
      "0.9864525840441546\n",
      "\n",
      "\n",
      "\n",
      "86\n",
      "0.5026477441220081\n",
      "0.9859508278976418\n",
      "\n",
      "\n",
      "\n",
      "87\n",
      "0.512179622961237\n",
      "0.985449071751129\n",
      "\n",
      "\n",
      "\n",
      "88\n",
      "0.5216055920355857\n",
      "0.9849473156046161\n",
      "\n",
      "\n",
      "\n",
      "89\n",
      "0.5325142978182589\n",
      "0.984194681384847\n",
      "\n",
      "\n",
      "\n",
      "90\n",
      "0.5428934547765304\n",
      "0.984194681384847\n",
      "\n",
      "\n",
      "\n",
      "91\n",
      "0.5521076043211184\n",
      "0.9834420471650778\n",
      "\n",
      "\n",
      "\n",
      "92\n",
      "0.5628044905740309\n",
      "0.982940291018565\n",
      "\n",
      "\n",
      "\n",
      "93\n",
      "0.5749841135352679\n",
      "0.9819367787255394\n",
      "\n",
      "\n",
      "\n",
      "94\n",
      "0.5877991950857869\n",
      "0.980431510286001\n",
      "\n",
      "\n",
      "\n",
      "95\n",
      "0.6034738402880746\n",
      "0.9799297541394882\n",
      "\n",
      "\n",
      "\n",
      "96\n",
      "0.620419402668926\n",
      "0.9771700953336678\n",
      "\n",
      "\n",
      "\n",
      "97\n",
      "0.6387417919932218\n",
      "0.9708981435022579\n",
      "\n",
      "\n",
      "\n",
      "98\n",
      "0.6644778648591401\n",
      "0.9661314601103863\n",
      "\n",
      "\n",
      "\n",
      "99\n",
      "0.6996399067994069\n",
      "0.9548419468138485\n",
      "\n",
      "\n",
      "\n"
     ]
    }
   ],
   "source": []
  },
  {
   "cell_type": "markdown",
   "metadata": {},
   "source": [
    "# Top-2 Method"
   ]
  },
  {
   "cell_type": "code",
   "execution_count": 31,
   "metadata": {},
   "outputs": [],
   "source": [
    "tprs = []\n",
    "fprs = []\n",
    "correct_genus_rate = []\n",
    "correct_species_rate = []\n",
    "for t in range(0,100,1):\n",
    "    entropy_threshold = t/100.0\n",
    "    #print(val_predicted_probs.shape)\n",
    "    n_undescribed_samples = 0\n",
    "    n_described_samples = 0\n",
    "    n_correct_undescribed_samples = 0\n",
    "    n_correct_described_samples = 0\n",
    "    n_correct_genus = 0 \n",
    "    n_correct_species = 0 \n",
    "    for i in range(len(image_val_labels)):\n",
    "        \n",
    "        label_best_specie = val_predicted_labels[i]\n",
    "       \n",
    "        #assert(val_predicted_labels[i]==val_predicted_probs[i].argmax())\n",
    "        genus_of_best_species = species2genus[label_best_specie.item()]\n",
    "        \n",
    "        sorted_probs = np.sort(val_predicted_probs[i])\n",
    "        sorted_probs = sorted_probs[::-1]\n",
    "        \n",
    "        prob_diff = abs(sorted_probs[0] - sorted_probs[1])\n",
    "        #print(prob_diff)\n",
    "        if image_val_labels[i].item() in described_species_labels:\n",
    "            #tn\n",
    "            n_described_samples +=1\n",
    "            if prob_diff >= entropy_threshold:\n",
    "                n_correct_described_samples+=1\n",
    "                if label_best_specie == image_val_labels[i]:\n",
    "                    n_correct_species+=1\n",
    "        else:\n",
    "            #tp\n",
    "            n_undescribed_samples+=1\n",
    "            if prob_diff < entropy_threshold:\n",
    "                n_correct_undescribed_samples+=1\n",
    "                real_genus = species2genus[image_val_labels[i].item()]\n",
    "                predicted_genus = genus_of_best_species\n",
    "                if real_genus == predicted_genus:\n",
    "                    n_correct_genus+=1\n",
    "        \n",
    "            \n",
    "    tprs.append(n_correct_undescribed_samples/n_undescribed_samples) # TPR = recall = sensitivity\n",
    "    fprs.append(1-n_correct_described_samples/n_described_samples) # 1-TNR = 1 - specificity\n",
    "    correct_genus_rate.append(n_correct_genus/n_undescribed_samples)\n",
    "    correct_species_rate.append(n_correct_species/n_described_samples)"
   ]
  },
  {
   "cell_type": "code",
   "execution_count": 42,
   "metadata": {},
   "outputs": [
    {
     "data": {
      "image/png": "[encoded data removed]",
      "text/plain": [
       "<Figure size 640x480 with 1 Axes>"
      ]
     },
     "metadata": {},
     "output_type": "display_data"
    }
   ],
   "source": [
    "from sklearn.metrics import roc_curve, auc\n",
    "\n",
    "roc_auc = auc(fprs, tprs)\n",
    "\n",
    "plt.figure()\n",
    "plt.plot(fprs, tprs, color='black', lw=2, label='ROC curve (area = %0.2f)' % roc_auc)\n",
    "plt.plot([0, 1], [0, 1], color='navy', lw=1, linestyle='--')\n",
    "plt.xlim([0, 1])\n",
    "plt.ylim([0, 1])\n",
    "plt.xlabel(\"False Positive Rate\")\n",
    "plt.ylabel(\"True Positive Rate\")\n",
    "plt.title('ROC Curve')\n",
    "plt.legend(loc=\"lower right\")\n",
    "plt.show()"
   ]
  },
  {
   "cell_type": "code",
   "execution_count": 52,
   "metadata": {},
   "outputs": [
    {
     "data": {
      "text/plain": [
       "[<matplotlib.lines.Line2D at 0x7e2610060ef0>]"
      ]
     },
     "execution_count": 52,
     "metadata": {},
     "output_type": "execute_result"
    },
    {
     "data": {
      "image/png": "[encoded data removed]",
      "text/plain": [
       "<Figure size 640x480 with 1 Axes>"
      ]
     },
     "metadata": {},
     "output_type": "display_data"
    }
   ],
   "source": [
    "plt.plot(correct_genus_rate)"
   ]
  },
  {
   "cell_type": "code",
   "execution_count": 53,
   "metadata": {},
   "outputs": [
    {
     "name": "stdout",
     "output_type": "stream",
     "text": [
      "0.04986902625680434\n"
     ]
    },
    {
     "data": {
      "text/plain": [
       "Text(0, 0.5, 'Correct Genus Rate')"
      ]
     },
     "execution_count": 53,
     "metadata": {},
     "output_type": "execute_result"
    },
    {
     "data": {
      "image/png": "[encoded data removed]",
      "text/plain": [
       "<Figure size 640x480 with 1 Axes>"
      ]
     },
     "metadata": {},
     "output_type": "display_data"
    }
   ],
   "source": [
    "area_correct = auc(correct_species_rate,correct_genus_rate)\n",
    "print(area_correct)\n",
    "\n",
    "plt.plot(correct_species_rate,correct_genus_rate)\n",
    "plt.xlabel(\"Correct Species Rate\")\n",
    "plt.ylabel(\"Correct Genus Rate\")"
   ]
  },
  {
   "cell_type": "code",
   "execution_count": 54,
   "metadata": {
    "scrolled": true
   },
   "outputs": [
    {
     "name": "stdout",
     "output_type": "stream",
     "text": [
      "0\n",
      "0.0\n",
      "0.9913854989231874\n",
      "\n",
      "\n",
      "\n",
      "1\n",
      "0.004815795810257645\n",
      "0.9913854989231874\n",
      "\n",
      "\n",
      "\n",
      "2\n",
      "0.007946063086925114\n",
      "0.9910265613783201\n",
      "\n",
      "\n",
      "\n",
      "3\n",
      "0.010835540573079701\n",
      "0.9910265613783201\n",
      "\n",
      "\n",
      "\n",
      "4\n",
      "0.01396580784974717\n",
      "0.990667623833453\n",
      "\n",
      "\n",
      "\n",
      "5\n",
      "0.01709607512641464\n",
      "0.990667623833453\n",
      "\n",
      "\n",
      "\n",
      "6\n",
      "0.019022393450517698\n",
      "0.990667623833453\n",
      "\n",
      "\n",
      "\n",
      "7\n",
      "0.020948711774620755\n",
      "0.990667623833453\n",
      "\n",
      "\n",
      "\n",
      "8\n",
      "0.02335660967974958\n",
      "0.990667623833453\n",
      "\n",
      "\n",
      "\n",
      "9\n",
      "0.027450036118468576\n",
      "0.990667623833453\n",
      "\n",
      "\n",
      "\n",
      "10\n",
      "0.031543462557187575\n",
      "0.990667623833453\n",
      "\n",
      "\n",
      "\n",
      "11\n",
      "0.036118468576932336\n",
      "0.990667623833453\n",
      "\n",
      "\n",
      "\n",
      "12\n",
      "0.03852636648206116\n",
      "0.9903086862885858\n",
      "\n",
      "\n",
      "\n",
      "13\n",
      "0.042379003130267275\n",
      "0.9903086862885858\n",
      "\n",
      "\n",
      "\n",
      "14\n",
      "0.04695400915001204\n",
      "0.9903086862885858\n",
      "\n",
      "\n",
      "\n",
      "15\n",
      "0.05249217433180833\n",
      "0.9903086862885858\n",
      "\n",
      "\n",
      "\n",
      "16\n",
      "0.05634481098001445\n",
      "0.9903086862885858\n",
      "\n",
      "\n",
      "\n",
      "17\n",
      "0.059956657837707684\n",
      "0.9899497487437185\n",
      "\n",
      "\n",
      "\n",
      "18\n",
      "0.06260534553334939\n",
      "0.9899497487437185\n",
      "\n",
      "\n",
      "\n",
      "19\n",
      "0.06501324343847821\n",
      "0.9895908111988514\n",
      "\n",
      "\n",
      "\n",
      "20\n",
      "0.06886588008668433\n",
      "0.9895908111988514\n",
      "\n",
      "\n",
      "\n",
      "21\n",
      "0.07271851673489044\n",
      "0.9895908111988514\n",
      "\n",
      "\n",
      "\n",
      "22\n",
      "0.07657115338309656\n",
      "0.9895908111988514\n",
      "\n",
      "\n",
      "\n",
      "23\n",
      "0.07970142065976403\n",
      "0.9895908111988514\n",
      "\n",
      "\n",
      "\n",
      "24\n",
      "0.08210931856489286\n",
      "0.9895908111988514\n",
      "\n",
      "\n",
      "\n",
      "25\n",
      "0.08644353479412473\n",
      "0.9895908111988514\n",
      "\n",
      "\n",
      "\n",
      "26\n",
      "0.0910185408138695\n",
      "0.9895908111988514\n",
      "\n",
      "\n",
      "\n",
      "27\n",
      "0.09535275704310137\n",
      "0.9895908111988514\n",
      "\n",
      "\n",
      "\n",
      "28\n",
      "0.0989646039007946\n",
      "0.9895908111988514\n",
      "\n",
      "\n",
      "\n",
      "29\n",
      "0.10329882013002649\n",
      "0.9895908111988514\n",
      "\n",
      "\n",
      "\n",
      "30\n",
      "0.10883698531182277\n",
      "0.9895908111988514\n",
      "\n",
      "\n",
      "\n",
      "31\n",
      "0.1126896219600289\n",
      "0.9895908111988514\n",
      "\n",
      "\n",
      "\n",
      "32\n",
      "0.11581988923669637\n",
      "0.9895908111988514\n",
      "\n",
      "\n",
      "\n",
      "33\n",
      "0.120635685046954\n",
      "0.9895908111988514\n",
      "\n",
      "\n",
      "\n",
      "34\n",
      "0.12400674211413436\n",
      "0.9895908111988514\n",
      "\n",
      "\n",
      "\n",
      "35\n",
      "0.13098964603900795\n",
      "0.988872936109117\n",
      "\n",
      "\n",
      "\n",
      "36\n",
      "0.13628702143029137\n",
      "0.988872936109117\n",
      "\n",
      "\n",
      "\n",
      "37\n",
      "0.14206597640260052\n",
      "0.988872936109117\n",
      "\n",
      "\n",
      "\n",
      "38\n",
      "0.14615940284131954\n",
      "0.988872936109117\n",
      "\n",
      "\n",
      "\n",
      "39\n",
      "0.15025282928003852\n",
      "0.988872936109117\n",
      "\n",
      "\n",
      "\n",
      "40\n",
      "0.15530941488080904\n",
      "0.988872936109117\n",
      "\n",
      "\n",
      "\n",
      "41\n",
      "0.15940284131952806\n",
      "0.988872936109117\n",
      "\n",
      "\n",
      "\n",
      "42\n",
      "0.16373705754875995\n",
      "0.988872936109117\n",
      "\n",
      "\n",
      "\n",
      "43\n",
      "0.169756802311582\n",
      "0.988872936109117\n",
      "\n",
      "\n",
      "\n",
      "44\n",
      "0.1748133879123525\n",
      "0.9885139985642498\n",
      "\n",
      "\n",
      "\n",
      "45\n",
      "0.18155550204671322\n",
      "0.9885139985642498\n",
      "\n",
      "\n",
      "\n",
      "46\n",
      "0.18540813869491934\n",
      "0.9885139985642498\n",
      "\n",
      "\n",
      "\n",
      "47\n",
      "0.1899831447146641\n",
      "0.9885139985642498\n",
      "\n",
      "\n",
      "\n",
      "48\n",
      "0.19503973031543462\n",
      "0.9885139985642498\n",
      "\n",
      "\n",
      "\n",
      "49\n",
      "0.20154105465928246\n",
      "0.9885139985642498\n",
      "\n",
      "\n",
      "\n",
      "50\n",
      "0.20635685046954008\n",
      "0.9885139985642498\n",
      "\n",
      "\n",
      "\n",
      "51\n",
      "0.21141343607031063\n",
      "0.9885139985642498\n",
      "\n",
      "\n",
      "\n",
      "52\n",
      "0.21671081146159402\n",
      "0.9877961234745154\n",
      "\n",
      "\n",
      "\n",
      "53\n",
      "0.22321213580544186\n",
      "0.9877961234745154\n",
      "\n",
      "\n",
      "\n",
      "54\n",
      "0.22995424993980254\n",
      "0.9877961234745154\n",
      "\n",
      "\n",
      "\n",
      "55\n",
      "0.23669636407416325\n",
      "0.9877961234745154\n",
      "\n",
      "\n",
      "\n",
      "56\n",
      "0.241271370093908\n",
      "0.9877961234745154\n",
      "\n",
      "\n",
      "\n",
      "57\n",
      "0.24680953527570432\n",
      "0.9877961234745154\n",
      "\n",
      "\n",
      "\n",
      "58\n",
      "0.25307006982903923\n",
      "0.9877961234745154\n",
      "\n",
      "\n",
      "\n",
      "59\n",
      "0.25692270647724536\n",
      "0.9877961234745154\n",
      "\n",
      "\n",
      "\n",
      "60\n",
      "0.2622200818685288\n",
      "0.9870782483847811\n",
      "\n",
      "\n",
      "\n",
      "61\n",
      "0.2679990368408379\n",
      "0.9870782483847811\n",
      "\n",
      "\n",
      "\n",
      "62\n",
      "0.2752227305562244\n",
      "0.9870782483847811\n",
      "\n",
      "\n",
      "\n",
      "63\n",
      "0.28172405490007224\n",
      "0.9870782483847811\n",
      "\n",
      "\n",
      "\n",
      "64\n",
      "0.2865398507103299\n",
      "0.9870782483847811\n",
      "\n",
      "\n",
      "\n",
      "65\n",
      "0.2930411750541777\n",
      "0.9870782483847811\n",
      "\n",
      "\n",
      "\n",
      "66\n",
      "0.3012280279316157\n",
      "0.9867193108399138\n",
      "\n",
      "\n",
      "\n",
      "67\n",
      "0.30700698290392486\n",
      "0.9867193108399138\n",
      "\n",
      "\n",
      "\n",
      "68\n",
      "0.31302672766674694\n",
      "0.9867193108399138\n",
      "\n",
      "\n",
      "\n",
      "69\n",
      "0.3200096315916205\n",
      "0.9860014357501795\n",
      "\n",
      "\n",
      "\n",
      "70\n",
      "0.3296412232121358\n",
      "0.9856424982053122\n",
      "\n",
      "\n",
      "\n",
      "71\n",
      "0.3361425475559836\n",
      "0.9849246231155779\n",
      "\n",
      "\n",
      "\n",
      "72\n",
      "0.3448109800144474\n",
      "0.9845656855707107\n",
      "\n",
      "\n",
      "\n",
      "73\n",
      "0.35034914519624366\n",
      "0.9842067480258435\n",
      "\n",
      "\n",
      "\n",
      "74\n",
      "0.3582952082831688\n",
      "0.9831299353912419\n",
      "\n",
      "\n",
      "\n",
      "75\n",
      "0.36672285095111967\n",
      "0.9827709978463748\n",
      "\n",
      "\n",
      "\n",
      "76\n",
      "0.37515049361907055\n",
      "0.9824120603015075\n",
      "\n",
      "\n",
      "\n",
      "77\n",
      "0.3833373464965085\n",
      "0.9824120603015075\n",
      "\n",
      "\n",
      "\n",
      "78\n",
      "0.3908018300024079\n",
      "0.9813352476669059\n",
      "\n",
      "\n",
      "\n",
      "79\n",
      "0.39802552371779437\n",
      "0.9813352476669059\n",
      "\n",
      "\n",
      "\n",
      "80\n",
      "0.40669395617625814\n",
      "0.9813352476669059\n",
      "\n",
      "\n",
      "\n",
      "81\n",
      "0.41849265591138934\n",
      "0.9809763101220388\n",
      "\n",
      "\n",
      "\n",
      "82\n",
      "0.42860582711293044\n",
      "0.9806173725771715\n",
      "\n",
      "\n",
      "\n",
      "83\n",
      "0.4394413676860101\n",
      "0.9798994974874372\n",
      "\n",
      "\n",
      "\n",
      "84\n",
      "0.4483505899349868\n",
      "0.9791816223977028\n",
      "\n",
      "\n",
      "\n",
      "85\n",
      "0.4611124488321695\n",
      "0.9777458722182341\n",
      "\n",
      "\n",
      "\n",
      "86\n",
      "0.47531904647242956\n",
      "0.9766690595836325\n",
      "\n",
      "\n",
      "\n",
      "87\n",
      "0.48735853599807366\n",
      "0.9763101220387652\n",
      "\n",
      "\n",
      "\n",
      "88\n",
      "0.498916445942692\n",
      "0.9759511844938981\n",
      "\n",
      "\n",
      "\n",
      "89\n",
      "0.5116783048398748\n",
      "0.9755922469490309\n",
      "\n",
      "\n",
      "\n",
      "90\n",
      "0.5268480616421863\n",
      "0.9745154343144293\n",
      "\n",
      "\n",
      "\n",
      "91\n",
      "0.5408138694919336\n",
      "0.9734386216798278\n",
      "\n",
      "\n",
      "\n",
      "92\n",
      "0.5528533590175777\n",
      "0.9712849964106246\n",
      "\n",
      "\n",
      "\n",
      "93\n",
      "0.5713941728870696\n",
      "0.9698492462311558\n",
      "\n",
      "\n",
      "\n",
      "94\n",
      "0.5875270888514327\n",
      "0.968413496051687\n",
      "\n",
      "\n",
      "\n",
      "95\n",
      "0.6065494823019504\n",
      "0.9655419956927495\n",
      "\n",
      "\n",
      "\n",
      "96\n",
      "0.6250902961714423\n",
      "0.9583632447954056\n",
      "\n",
      "\n",
      "\n",
      "97\n",
      "0.6498916445942692\n",
      "0.9508255563531945\n",
      "\n",
      "\n",
      "\n",
      "98\n",
      "0.676860101131712\n",
      "0.9407753050969131\n",
      "\n",
      "\n",
      "\n",
      "99\n",
      "0.7093667228509511\n",
      "0.9073941134242641\n",
      "\n",
      "\n",
      "\n"
     ]
    }
   ],
   "source": [
    "for index in range(0,100,1):\n",
    "    print(index)\n",
    "    print(correct_genus_rate[index])\n",
    "    print(correct_species_rate[index])\n",
    "    print('\\n\\n')"
   ]
  },
  {
   "cell_type": "code",
   "execution_count": 56,
   "metadata": {},
   "outputs": [
    {
     "name": "stdout",
     "output_type": "stream",
     "text": [
      "0.20635685046954008\n"
     ]
    },
    {
     "data": {
      "text/plain": [
       "0.9885139985642498"
      ]
     },
     "execution_count": 56,
     "metadata": {},
     "output_type": "execute_result"
    }
   ],
   "source": [
    "print(correct_genus_rate[50])\n",
    "correct_species_rate[50]"
   ]
  },
  {
   "cell_type": "code",
   "execution_count": null,
   "metadata": {},
   "outputs": [],
   "source": []
  },
  {
   "cell_type": "code",
   "execution_count": null,
   "metadata": {},
   "outputs": [],
   "source": []
  },
  {
   "cell_type": "code",
   "execution_count": null,
   "metadata": {},
   "outputs": [],
   "source": []
  },
  {
   "cell_type": "code",
   "execution_count": null,
   "metadata": {},
   "outputs": [],
   "source": []
  }
 ],
 "metadata": {
  "kernelspec": {
   "display_name": "Python 3 (ipykernel)",
   "language": "python",
   "name": "python3"
  },
  "language_info": {
   "codemirror_mode": {
    "name": "ipython",
    "version": 3
   },
   "file_extension": ".py",
   "mimetype": "text/x-python",
   "name": "python",
   "nbconvert_exporter": "python",
   "pygments_lexer": "ipython3",
   "version": "3.12.2"
  }
 },
 "nbformat": 4,
 "nbformat_minor": 4
}
