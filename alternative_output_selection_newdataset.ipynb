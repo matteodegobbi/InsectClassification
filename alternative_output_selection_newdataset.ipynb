{
 "cells": [
  {
   "cell_type": "code",
   "execution_count": 1,
   "metadata": {},
   "outputs": [
    {
     "data": {
      "text/plain": [
       "<module 'dataset_utils' from '/home/fogliodicarta/Desktop/InsectClassification/dataset_utils.py'>"
      ]
     },
     "execution_count": 1,
     "metadata": {},
     "output_type": "execute_result"
    }
   ],
   "source": [
    "import torch\n",
    "import torchvision\n",
    "from torch import nn\n",
    "from torchvision import transforms\n",
    "import matplotlib.pyplot as plt\n",
    "import pandas as pd\n",
    "from IPython.display import Image \n",
    "import numpy as np\n",
    "import dataset_utils\n",
    "import importlib\n",
    "from sklearn.multioutput import MultiOutputClassifier\n",
    "from sklearn.svm import LinearSVC,SVC\n",
    "from sklearn.ensemble import RandomForestClassifier\n",
    "from sklearn.ensemble import BaggingClassifier \n",
    "from sklearn.preprocessing import StandardScaler\n",
    "\n",
    "importlib.reload(dataset_utils)"
   ]
  },
  {
   "cell_type": "markdown",
   "metadata": {},
   "source": [
    "# Dati nostri"
   ]
  },
  {
   "cell_type": "code",
   "execution_count": 48,
   "metadata": {},
   "outputs": [],
   "source": [
    "df = pd.read_csv('final_dataset.csv',index_col=0)\n",
    "tform = transforms.Compose([transforms.Resize((64,64)),transforms.PILToTensor(),transforms.ConvertImageDtype(torch.float),transforms.Normalize(0.5,0.5)])\n",
    "image_dataset = torchvision.datasets.ImageFolder(\"image_dataset/\",transform=tform)\n",
    "species2genus = dataset_utils.species_label_to_genus_label(df,image_dataset)\n",
    "batch_size = 1000 \n",
    "import random\n",
    "import dataset_utils\n",
    "img2dna = dataset_utils.get_imgs_bold_id(image_dataset,df)\n",
    "\n",
    "nucleotides = df[['nucleotide','species_name','genus_name','processid','image_urls']]\n",
    "colonna_dna = df.loc[:,\"nucleotide\"]\n",
    "nucleotides.loc[:,'nucleotide'] = colonna_dna.apply(dataset_utils.one_hot_encoding)\n",
    "random.seed(42)\n",
    "\n",
    "X_train_1, X_test, y_train_1, y_test = dataset_utils.data_split(nucleotides,0.2,random_state=42)\n",
    "#print(y_test)\n",
    "train_data = X_train_1\n",
    "train_data['species_name'] = y_train_1\n",
    "\n",
    "X_train, X_validation, y_train, y_validation = dataset_utils.data_split(train_data,0.2,drop_labels=False,random_state=42)\n",
    "train_indices, val_indices, test_indices = dataset_utils.image_splits_from_df(X_train,X_validation,X_test,image_dataset)\n",
    "\n",
    "described_species_labels = np.array([image_dataset.targets[i] for i in train_indices])\n",
    "described_species_labels = np.unique(described_species_labels)"
   ]
  },
  {
   "cell_type": "code",
   "execution_count": 49,
   "metadata": {},
   "outputs": [
    {
     "data": {
      "text/plain": [
       "371"
      ]
     },
     "execution_count": 49,
     "metadata": {},
     "output_type": "execute_result"
    }
   ],
   "source": [
    "max(list(species2genus.values()))"
   ]
  },
  {
   "cell_type": "code",
   "execution_count": 50,
   "metadata": {},
   "outputs": [],
   "source": [
    "expanded_train_dna_features = torch.load('dna_train_features.pt')\n",
    "expanded_train_dna_labels = torch.load('dna_train_labels.pt')\n",
    "image_train_features = torch.load('img_train_features.pt')\n",
    "image_train_labels= torch.load('img_train_labels.pt')\n",
    "assert((image_train_labels == expanded_train_dna_labels).all())"
   ]
  },
  {
   "cell_type": "code",
   "execution_count": 51,
   "metadata": {},
   "outputs": [],
   "source": [
    "expanded_val_dna_features = torch.load('dna_val_features.pt')\n",
    "expanded_val_dna_labels = torch.load('dna_val_labels.pt')\n",
    "image_val_features = torch.load('img_val_features.pt')\n",
    "image_val_labels = torch.load('img_val_labels.pt')\n",
    "assert((image_val_labels == expanded_val_dna_labels).all())"
   ]
  },
  {
   "cell_type": "code",
   "execution_count": 52,
   "metadata": {},
   "outputs": [],
   "source": [
    "expanded_test_dna_features = torch.load('dna_test_features.pt')\n",
    "expanded_test_dna_labels = torch.load('dna_test_labels.pt')\n",
    "image_test_features = torch.load('img_test_features.pt')\n",
    "image_test_labels = torch.load('img_test_labels.pt')\n",
    "assert((image_test_labels == expanded_test_dna_labels).all())\n",
    "n_classes = 1050"
   ]
  },
  {
   "cell_type": "code",
   "execution_count": 53,
   "metadata": {},
   "outputs": [
    {
     "data": {
      "text/plain": [
       "'class InsectNet(torch.nn.Module):\\n    def __init__(self):\\n        super(InsectNet, self).__init__()\\n        self.dout0 = nn.Dropout()\\n        self.linear1 = nn.Linear(5298,5000)\\n        self.act1 = nn.LeakyReLU()\\n        self.dout1 = nn.Dropout()\\n\\n        self.linearG = nn.Linear(5000,372)\\n        self.linearS = nn.Linear(5000,n_classes)\\n    def forward(self, x):\\n        x = self.dout0(x)\\n        x = self.linear1(x)\\n        x = self.act1(x)\\n        x = self.dout1(x)\\n        x_species = self.linearS(x)\\n        x_genus = self.linearG(x)\\n\\n        x_species = nn.functional.softmax(x_species)\\n        x_genus = nn.functional.softmax(x_genus)\\n        return x_species,x_genus\\n\\n#species2genus = np.array(species2genus)'"
      ]
     },
     "execution_count": 53,
     "metadata": {},
     "output_type": "execute_result"
    }
   ],
   "source": [
    "'''class InsectNet(torch.nn.Module):\n",
    "    def __init__(self):\n",
    "        super(InsectNet, self).__init__()\n",
    "        #self.drop1 = nn.Dropout(p=0.7)\n",
    "        self.linear1 = nn.Linear(3250,3000)\n",
    "        self.act1 = nn.LeakyReLU()\n",
    "        self.linear2 = nn.Linear(3000,2000)\n",
    "        self.act2 = nn.LeakyReLU()\n",
    "        self.linearHeadGenus = nn.Linear(2000,372)\n",
    "        self.linearHeadSpecies = nn.Linear(2000,n_classes)\n",
    "    def forward(self, x):\n",
    "        #x = self.drop1(x)\n",
    "        x = self.linear1(x)\n",
    "        x = self.act1(x)\n",
    "        x = self.linear2(x)\n",
    "        x = self.act2(x)\n",
    "        x_species = self.linearHeadSpecies(x)\n",
    "        x_genus = self.linearHeadGenus(x)\n",
    "        x_species = torch.nn.functional.softmax(x_species)\n",
    "        x_genus = torch.nn.functional.softmax(x_genus)\n",
    "        return x_species,x_genus\n",
    "'''\n",
    "class InsectNet(torch.nn.Module):\n",
    "    def __init__(self):\n",
    "        super(InsectNet, self).__init__()\n",
    "        self.dout = nn.Dropout(p=0.8)\n",
    "        self.linear1 = nn.Linear(5298,372)\n",
    "        self.act1 = nn.LeakyReLU()\n",
    "        self.linear2 = nn.Linear(372,n_classes)\n",
    "        self.act2 = nn.Softmax()\n",
    "    def forward(self, x):\n",
    "        x = self.dout(x)\n",
    "        x = self.linear1(x)\n",
    "        x_genus = torch.nn.functional.softmax(x)\n",
    "        x = self.act1(x)\n",
    "        x = self.linear2(x)\n",
    "        x = self.act2(x)\n",
    "        return x,x_genus\n",
    "\n",
    "'''class InsectNet(torch.nn.Module):\n",
    "    def __init__(self):\n",
    "        super(InsectNet, self).__init__()\n",
    "        self.dout0 = nn.Dropout()\n",
    "        self.linear1 = nn.Linear(5298,5000)\n",
    "        self.act1 = nn.LeakyReLU()\n",
    "        self.dout1 = nn.Dropout()\n",
    "\n",
    "        self.linearG = nn.Linear(5000,372)\n",
    "        self.linearS = nn.Linear(5000,n_classes)\n",
    "    def forward(self, x):\n",
    "        x = self.dout0(x)\n",
    "        x = self.linear1(x)\n",
    "        x = self.act1(x)\n",
    "        x = self.dout1(x)\n",
    "        x_species = self.linearS(x)\n",
    "        x_genus = self.linearG(x)\n",
    "\n",
    "        x_species = nn.functional.softmax(x_species)\n",
    "        x_genus = nn.functional.softmax(x_genus)\n",
    "        return x_species,x_genus\n",
    "\n",
    "#species2genus = np.array(species2genus)'''"
   ]
  },
  {
   "cell_type": "code",
   "execution_count": 54,
   "metadata": {},
   "outputs": [
    {
     "name": "stdout",
     "output_type": "stream",
     "text": [
      "[234 234 235 ...  44  44 311]\n"
     ]
    },
    {
     "data": {
      "text/plain": [
       "(1050, 1)"
      ]
     },
     "execution_count": 54,
     "metadata": {},
     "output_type": "execute_result"
    }
   ],
   "source": [
    "sorted_keys = sorted(species2genus.keys())\n",
    "species2genus = np.array([species2genus[key] for key in sorted_keys])\n",
    "print(species2genus)\n",
    "species2genus = species2genus[...,np.newaxis]\n",
    "species2genus.shape"
   ]
  },
  {
   "cell_type": "code",
   "execution_count": 55,
   "metadata": {},
   "outputs": [
    {
     "data": {
      "text/plain": [
       "torch.Size([13039, 2048])"
      ]
     },
     "execution_count": 55,
     "metadata": {},
     "output_type": "execute_result"
    }
   ],
   "source": [
    "image_train_features.shape"
   ]
  },
  {
   "cell_type": "code",
   "execution_count": 56,
   "metadata": {},
   "outputs": [
    {
     "data": {
      "text/plain": [
       "torch.Size([13039])"
      ]
     },
     "execution_count": 56,
     "metadata": {},
     "output_type": "execute_result"
    }
   ],
   "source": [
    "image_train_labels.shape"
   ]
  },
  {
   "cell_type": "code",
   "execution_count": 57,
   "metadata": {},
   "outputs": [
    {
     "data": {
      "text/plain": [
       "torch.Size([13039, 3250])"
      ]
     },
     "execution_count": 57,
     "metadata": {},
     "output_type": "execute_result"
    }
   ],
   "source": [
    "expanded_train_dna_features.shape"
   ]
  },
  {
   "cell_type": "code",
   "execution_count": 58,
   "metadata": {},
   "outputs": [
    {
     "data": {
      "text/plain": [
       "torch.Size([13039])"
      ]
     },
     "execution_count": 58,
     "metadata": {},
     "output_type": "execute_result"
    }
   ],
   "source": [
    "expanded_train_dna_labels.shape\n"
   ]
  },
  {
   "cell_type": "markdown",
   "metadata": {},
   "source": [
    "# CONTROLLARE STA ROBA DI TRAIN VAL PRIMA DELLO SCALER"
   ]
  },
  {
   "cell_type": "code",
   "execution_count": 59,
   "metadata": {},
   "outputs": [
    {
     "name": "stdout",
     "output_type": "stream",
     "text": [
      "ATTENZIONE A STA ROBA NON DIMENTICARE!!!!!!!!!!!!!!!!!!!!!!!!!!!!!!!\n"
     ]
    }
   ],
   "source": [
    "is_train_val = False \n",
    "print(\"ATTENZIONE A STA ROBA NON DIMENTICARE!!!!!!!!!!!!!!!!!!!!!!!!!!!!!!!\")\n",
    "complete_train_features = torch.cat((expanded_train_dna_features,image_train_features),dim=1)\n",
    "complete_val_features = torch.cat((expanded_val_dna_features,image_val_features),dim=1)\n",
    "complete_test_features = torch.cat((expanded_test_dna_features,image_test_features),dim=1)\n",
    "if is_train_val:\n",
    "    complete_train_features = torch.cat((complete_train_features,complete_val_features),dim=0)\n",
    "    complete_val_features = complete_test_features\n",
    "    image_train_labels = torch.cat((image_train_labels,image_val_labels),dim=0)\n",
    "    image_val_labels = image_test_labels\n",
    "\n",
    "scaler = StandardScaler()\n",
    "\n",
    "complete_train_features_scaled = scaler.fit_transform(complete_train_features)\n",
    "complete_val_features_scaled = scaler.transform(complete_val_features)"
   ]
  },
  {
   "cell_type": "code",
   "execution_count": 60,
   "metadata": {},
   "outputs": [
    {
     "data": {
      "text/plain": [
       "(13039, 5298)"
      ]
     },
     "execution_count": 60,
     "metadata": {},
     "output_type": "execute_result"
    }
   ],
   "source": [
    "complete_train_features_scaled.shape"
   ]
  },
  {
   "cell_type": "code",
   "execution_count": 61,
   "metadata": {},
   "outputs": [
    {
     "data": {
      "text/plain": [
       "(6955, 5298)"
      ]
     },
     "execution_count": 61,
     "metadata": {},
     "output_type": "execute_result"
    }
   ],
   "source": [
    "complete_val_features_scaled.shape"
   ]
  },
  {
   "cell_type": "code",
   "execution_count": 62,
   "metadata": {},
   "outputs": [],
   "source": [
    "from torch.utils.data import Dataset\n",
    "class FeatureDataset(Dataset):\n",
    "    def __init__(self, data, targets, transform=None):\n",
    "        self.data = data\n",
    "        self.targets = targets\n",
    "        \n",
    "    def __getitem__(self, index):\n",
    "        x = self.data[index]\n",
    "        y = self.targets[index].type(torch.LongTensor)\n",
    "        \n",
    "        #if self.transform:\n",
    "        #    x = Image.fromarray(self.data[index].astype(np.uint8).transpose(1,2,0))\n",
    "        #    x = self.transform(x)\n",
    "        \n",
    "        return x, y\n",
    "    \n",
    "    def __len__(self):\n",
    "        return len(self.data)\n",
    "complete_train_features_scaled = torch.tensor(complete_train_features_scaled,dtype=torch.float)\n",
    "complete_val_features_scaled = torch.tensor(complete_val_features_scaled,dtype=torch.float)\n",
    "\n",
    "d_train = FeatureDataset(complete_train_features_scaled,image_train_labels)\n",
    "d_val = FeatureDataset(complete_val_features_scaled,image_val_labels)"
   ]
  },
  {
   "cell_type": "code",
   "execution_count": 63,
   "metadata": {},
   "outputs": [
    {
     "data": {
      "text/plain": [
       "371"
      ]
     },
     "execution_count": 63,
     "metadata": {},
     "output_type": "execute_result"
    }
   ],
   "source": [
    "species2genus.min()\n",
    "species2genus.max()"
   ]
  },
  {
   "cell_type": "code",
   "execution_count": 64,
   "metadata": {},
   "outputs": [
    {
     "data": {
      "text/plain": [
       "(1050, 1)"
      ]
     },
     "execution_count": 64,
     "metadata": {},
     "output_type": "execute_result"
    }
   ],
   "source": [
    "species2genus.shape"
   ]
  },
  {
   "cell_type": "code",
   "execution_count": 65,
   "metadata": {},
   "outputs": [
    {
     "data": {
      "text/plain": [
       "torch.Size([13039, 5298])"
      ]
     },
     "execution_count": 65,
     "metadata": {},
     "output_type": "execute_result"
    }
   ],
   "source": [
    "complete_train_features_scaled.shape"
   ]
  },
  {
   "cell_type": "markdown",
   "metadata": {},
   "source": [
    "# Fitting model"
   ]
  },
  {
   "cell_type": "code",
   "execution_count": 66,
   "metadata": {},
   "outputs": [],
   "source": [
    "from torch.utils.data import DataLoader\n",
    "batch_size = 1000\n",
    "train_loader = DataLoader(d_train,shuffle=True,batch_size = batch_size)\n",
    "val_loader = DataLoader(d_val,shuffle=True,batch_size = batch_size)\n",
    "dataloaders = {'train':train_loader,'val':val_loader}\n",
    "dataset_sizes = {'train':len(d_train.targets),'val':len(d_val.targets)}"
   ]
  },
  {
   "cell_type": "code",
   "execution_count": 67,
   "metadata": {},
   "outputs": [],
   "source": [
    "device = torch.device(\"cuda:0\" if torch.cuda.is_available() else \"cpu\")\n",
    "model = InsectNet().to(device)\n",
    "optimizer = torch.optim.Adam(model.parameters(),weight_decay=1e-5)\n",
    "scheduler = torch.optim.lr_scheduler.CosineAnnealingLR(optimizer,T_max=2*len(train_loader))"
   ]
  },
  {
   "cell_type": "code",
   "execution_count": 68,
   "metadata": {},
   "outputs": [],
   "source": [
    "from tqdm.notebook import tqdm\n",
    "def fit(epochs,dataloaders,optimizer,model,start_idx=0):\n",
    "    criterion = torch.nn.NLLLoss()\n",
    "    if device == 'cuda:0':\n",
    "        torch.cuda.empty_cache()\n",
    "    \n",
    "    train_losses = []\n",
    "    train_scores = []\n",
    "    val_losses = []\n",
    "    val_scores = []\n",
    "    for epoch in range(epochs):\n",
    "        running_train_corrects = 0\n",
    "        running_train_corrects_genus = 0\n",
    "        for features,labels in tqdm(dataloaders['train']):\n",
    "            model.train()\n",
    "            genus_labels = torch.tensor(species2genus[labels.int()]).squeeze().to(device)\n",
    "            features = features.to(device)\n",
    "            labels = labels.type(torch.LongTensor).to(device)\n",
    "            \n",
    "            optimizer.zero_grad()\n",
    "            predicted_labels,predicted_genus_labels = model(features)\n",
    "            \n",
    "            train_loss = criterion(predicted_labels,labels)\n",
    "            train_genus_loss = criterion(predicted_genus_labels,genus_labels)\n",
    "            train_loss+=train_genus_loss\n",
    "            train_loss.backward()\n",
    "            optimizer.step()\n",
    "            scheduler.step()\n",
    "            \n",
    "            _, preds = torch.max(predicted_labels, 1)\n",
    "            _, genus_preds = torch.max(predicted_genus_labels, 1)\n",
    "            running_train_corrects += torch.sum(preds == labels.data)\n",
    "            running_train_corrects_genus += torch.sum(genus_preds == genus_labels)\n",
    "        train_losses.append(train_loss)\n",
    "        running_val_corrects = 0\n",
    "        running_val_corrects_genus = 0\n",
    "        for features,labels in tqdm(dataloaders['val']):\n",
    "            \n",
    "            model.eval()\n",
    "            with torch.no_grad():\n",
    "                genus_labels = torch.tensor(species2genus[labels.int()]).squeeze().to(device)\n",
    "                features = features.to(device)\n",
    "                labels = labels.type(torch.LongTensor).to(device)\n",
    "                optimizer.zero_grad()\n",
    "                \n",
    "                predicted_labels,predicted_genus_labels = model(features)\n",
    "                val_loss = criterion(predicted_labels,labels)\n",
    "                \n",
    "                _, preds = torch.max(predicted_labels, 1)\n",
    "                _, genus_preds = torch.max(predicted_genus_labels, 1)\n",
    "                running_val_corrects += torch.sum(preds == labels.data)\n",
    "                running_val_corrects_genus += torch.sum(genus_preds == genus_labels)\n",
    "        val_losses.append(val_loss)\n",
    "        epoch_train_acc = running_train_corrects.double() / dataset_sizes['train']\n",
    "        epoch_train_acc_genus = running_train_corrects_genus.double() / dataset_sizes['train']\n",
    "        epoch_val_acc = running_val_corrects.double() / dataset_sizes['val']\n",
    "        epoch_val_acc_genus = running_val_corrects_genus.double() / dataset_sizes['val']\n",
    "        print(\"Epoch [{}/{}], train_loss: {:.4f},  train_score: {:.4f},val_loss: {:.4f},  val_score: {:.4f}, genus train_score{:.4f}, genus val_score{:.4f}\".format(\n",
    "            epoch+1, epochs, train_loss, epoch_train_acc,val_loss,epoch_val_acc,epoch_train_acc_genus,epoch_val_acc_genus))\n",
    "    return train_losses"
   ]
  },
  {
   "cell_type": "code",
   "execution_count": 69,
   "metadata": {
    "scrolled": true
   },
   "outputs": [
    {
     "data": {
      "application/vnd.jupyter.widget-view+json": {
       "model_id": "68503f6c702848e7bea55efa4c298772",
       "version_major": 2,
       "version_minor": 0
      },
      "text/plain": [
       "  0%|          | 0/14 [00:00<?, ?it/s]"
      ]
     },
     "metadata": {},
     "output_type": "display_data"
    },
    {
     "name": "stderr",
     "output_type": "stream",
     "text": [
      "/tmp/ipykernel_115766/509102700.py:34: UserWarning: Implicit dimension choice for softmax has been deprecated. Change the call to include dim=X as an argument.\n",
      "  x_genus = torch.nn.functional.softmax(x)\n",
      "/home/fogliodicarta/miniconda3/envs/insetti/lib/python3.12/site-packages/torch/nn/modules/module.py:1511: UserWarning: Implicit dimension choice for softmax has been deprecated. Change the call to include dim=X as an argument.\n",
      "  return self._call_impl(*args, **kwargs)\n"
     ]
    },
    {
     "data": {
      "application/vnd.jupyter.widget-view+json": {
       "model_id": "7fa6bc7dffaf4a66a51f308a42141f7f",
       "version_major": 2,
       "version_minor": 0
      },
      "text/plain": [
       "  0%|          | 0/7 [00:00<?, ?it/s]"
      ]
     },
     "metadata": {},
     "output_type": "display_data"
    },
    {
     "name": "stdout",
     "output_type": "stream",
     "text": [
      "Epoch [1/200], train_loss: -0.5871,  train_score: 0.0836,val_loss: -0.0453,  val_score: 0.0505, genus train_score0.3132, genus val_score0.5780\n"
     ]
    },
    {
     "data": {
      "application/vnd.jupyter.widget-view+json": {
       "model_id": "8f707120c17e40ecb88b54f62219ec13",
       "version_major": 2,
       "version_minor": 0
      },
      "text/plain": [
       "  0%|          | 0/14 [00:00<?, ?it/s]"
      ]
     },
     "metadata": {},
     "output_type": "display_data"
    },
    {
     "data": {
      "application/vnd.jupyter.widget-view+json": {
       "model_id": "53c3ccf11ddc47768bae30c017876add",
       "version_major": 2,
       "version_minor": 0
      },
      "text/plain": [
       "  0%|          | 0/7 [00:00<?, ?it/s]"
      ]
     },
     "metadata": {},
     "output_type": "display_data"
    },
    {
     "name": "stdout",
     "output_type": "stream",
     "text": [
      "Epoch [2/200], train_loss: -0.6188,  train_score: 0.1382,val_loss: -0.0601,  val_score: 0.0643, genus train_score0.6173, genus val_score0.6374\n"
     ]
    },
    {
     "data": {
      "application/vnd.jupyter.widget-view+json": {
       "model_id": "c3ea8940bfa04a8d8987c16cb9ecf548",
       "version_major": 2,
       "version_minor": 0
      },
      "text/plain": [
       "  0%|          | 0/14 [00:00<?, ?it/s]"
      ]
     },
     "metadata": {},
     "output_type": "display_data"
    },
    {
     "data": {
      "application/vnd.jupyter.widget-view+json": {
       "model_id": "4c13ff6783b1497eac2f23a1d1c68fb9",
       "version_major": 2,
       "version_minor": 0
      },
      "text/plain": [
       "  0%|          | 0/7 [00:00<?, ?it/s]"
      ]
     },
     "metadata": {},
     "output_type": "display_data"
    },
    {
     "name": "stdout",
     "output_type": "stream",
     "text": [
      "Epoch [3/200], train_loss: -0.7954,  train_score: 0.1558,val_loss: -0.0668,  val_score: 0.0719, genus train_score0.6542, genus val_score0.6883\n"
     ]
    },
    {
     "data": {
      "application/vnd.jupyter.widget-view+json": {
       "model_id": "cb040e04363d49aea1760e3dac6e8bfe",
       "version_major": 2,
       "version_minor": 0
      },
      "text/plain": [
       "  0%|          | 0/14 [00:00<?, ?it/s]"
      ]
     },
     "metadata": {},
     "output_type": "display_data"
    },
    {
     "data": {
      "application/vnd.jupyter.widget-view+json": {
       "model_id": "5a5171b3c6184228a128c1d3df3a8511",
       "version_major": 2,
       "version_minor": 0
      },
      "text/plain": [
       "  0%|          | 0/7 [00:00<?, ?it/s]"
      ]
     },
     "metadata": {},
     "output_type": "display_data"
    },
    {
     "name": "stdout",
     "output_type": "stream",
     "text": [
      "Epoch [4/200], train_loss: -0.8812,  train_score: 0.1930,val_loss: -0.0901,  val_score: 0.1005, genus train_score0.7501, genus val_score0.7790\n"
     ]
    },
    {
     "data": {
      "application/vnd.jupyter.widget-view+json": {
       "model_id": "faa4e5d43fb74e37b4ecad4411e7828b",
       "version_major": 2,
       "version_minor": 0
      },
      "text/plain": [
       "  0%|          | 0/14 [00:00<?, ?it/s]"
      ]
     },
     "metadata": {},
     "output_type": "display_data"
    },
    {
     "data": {
      "application/vnd.jupyter.widget-view+json": {
       "model_id": "d440a977e28b4dfbae2b6ad478874aeb",
       "version_major": 2,
       "version_minor": 0
      },
      "text/plain": [
       "  0%|          | 0/7 [00:00<?, ?it/s]"
      ]
     },
     "metadata": {},
     "output_type": "display_data"
    },
    {
     "name": "stdout",
     "output_type": "stream",
     "text": [
      "Epoch [5/200], train_loss: -1.0666,  train_score: 0.2621,val_loss: -0.1061,  val_score: 0.1261, genus train_score0.8408, genus val_score0.8466\n"
     ]
    },
    {
     "data": {
      "application/vnd.jupyter.widget-view+json": {
       "model_id": "7a1466bcdc4f415180961ed793cb5bc1",
       "version_major": 2,
       "version_minor": 0
      },
      "text/plain": [
       "  0%|          | 0/14 [00:00<?, ?it/s]"
      ]
     },
     "metadata": {},
     "output_type": "display_data"
    },
    {
     "data": {
      "application/vnd.jupyter.widget-view+json": {
       "model_id": "4d2d17ce5eec48e7bdf97bc7c731971b",
       "version_major": 2,
       "version_minor": 0
      },
      "text/plain": [
       "  0%|          | 0/7 [00:00<?, ?it/s]"
      ]
     },
     "metadata": {},
     "output_type": "display_data"
    },
    {
     "name": "stdout",
     "output_type": "stream",
     "text": [
      "Epoch [6/200], train_loss: -1.3901,  train_score: 0.3145,val_loss: -0.1293,  val_score: 0.1363, genus train_score0.8853, genus val_score0.8502\n"
     ]
    },
    {
     "data": {
      "application/vnd.jupyter.widget-view+json": {
       "model_id": "686d0e8e41df462d9a1effb94bdb21e5",
       "version_major": 2,
       "version_minor": 0
      },
      "text/plain": [
       "  0%|          | 0/14 [00:00<?, ?it/s]"
      ]
     },
     "metadata": {},
     "output_type": "display_data"
    },
    {
     "data": {
      "application/vnd.jupyter.widget-view+json": {
       "model_id": "eea6076bdb7342b69b3168a1cc494291",
       "version_major": 2,
       "version_minor": 0
      },
      "text/plain": [
       "  0%|          | 0/7 [00:00<?, ?it/s]"
      ]
     },
     "metadata": {},
     "output_type": "display_data"
    },
    {
     "name": "stdout",
     "output_type": "stream",
     "text": [
      "Epoch [7/200], train_loss: -1.1968,  train_score: 0.3223,val_loss: -0.1378,  val_score: 0.1393, genus train_score0.8911, genus val_score0.8533\n"
     ]
    },
    {
     "data": {
      "application/vnd.jupyter.widget-view+json": {
       "model_id": "95e468dad0e04cb59cb7d84e765f436f",
       "version_major": 2,
       "version_minor": 0
      },
      "text/plain": [
       "  0%|          | 0/14 [00:00<?, ?it/s]"
      ]
     },
     "metadata": {},
     "output_type": "display_data"
    },
    {
     "data": {
      "application/vnd.jupyter.widget-view+json": {
       "model_id": "770acb4d220947fcb7c8938cb60f90f4",
       "version_major": 2,
       "version_minor": 0
      },
      "text/plain": [
       "  0%|          | 0/7 [00:00<?, ?it/s]"
      ]
     },
     "metadata": {},
     "output_type": "display_data"
    },
    {
     "name": "stdout",
     "output_type": "stream",
     "text": [
      "Epoch [8/200], train_loss: -1.2824,  train_score: 0.3470,val_loss: -0.1554,  val_score: 0.1570, genus train_score0.9034, genus val_score0.8618\n"
     ]
    },
    {
     "data": {
      "application/vnd.jupyter.widget-view+json": {
       "model_id": "283a1030925d4bf597ca9968810a8309",
       "version_major": 2,
       "version_minor": 0
      },
      "text/plain": [
       "  0%|          | 0/14 [00:00<?, ?it/s]"
      ]
     },
     "metadata": {},
     "output_type": "display_data"
    },
    {
     "data": {
      "application/vnd.jupyter.widget-view+json": {
       "model_id": "639f7b0650bd4a6499ec2805bcd9d04a",
       "version_major": 2,
       "version_minor": 0
      },
      "text/plain": [
       "  0%|          | 0/7 [00:00<?, ?it/s]"
      ]
     },
     "metadata": {},
     "output_type": "display_data"
    },
    {
     "name": "stdout",
     "output_type": "stream",
     "text": [
      "Epoch [9/200], train_loss: -1.3000,  train_score: 0.3896,val_loss: -0.1691,  val_score: 0.1734, genus train_score0.9248, genus val_score0.8834\n"
     ]
    },
    {
     "data": {
      "application/vnd.jupyter.widget-view+json": {
       "model_id": "f6b93ce817f54b079dc4e6d2499b7b85",
       "version_major": 2,
       "version_minor": 0
      },
      "text/plain": [
       "  0%|          | 0/14 [00:00<?, ?it/s]"
      ]
     },
     "metadata": {},
     "output_type": "display_data"
    },
    {
     "data": {
      "application/vnd.jupyter.widget-view+json": {
       "model_id": "1f40c5e2c1ed491c821d538669bd82a9",
       "version_major": 2,
       "version_minor": 0
      },
      "text/plain": [
       "  0%|          | 0/7 [00:00<?, ?it/s]"
      ]
     },
     "metadata": {},
     "output_type": "display_data"
    },
    {
     "name": "stdout",
     "output_type": "stream",
     "text": [
      "Epoch [10/200], train_loss: -1.3978,  train_score: 0.4108,val_loss: -0.1633,  val_score: 0.1769, genus train_score0.9335, genus val_score0.8873\n"
     ]
    },
    {
     "data": {
      "application/vnd.jupyter.widget-view+json": {
       "model_id": "6c794fe2ed5c46e4af83a9c4d2c61194",
       "version_major": 2,
       "version_minor": 0
      },
      "text/plain": [
       "  0%|          | 0/14 [00:00<?, ?it/s]"
      ]
     },
     "metadata": {},
     "output_type": "display_data"
    },
    {
     "data": {
      "application/vnd.jupyter.widget-view+json": {
       "model_id": "c5df97d5f0f244e9990973daac982977",
       "version_major": 2,
       "version_minor": 0
      },
      "text/plain": [
       "  0%|          | 0/7 [00:00<?, ?it/s]"
      ]
     },
     "metadata": {},
     "output_type": "display_data"
    },
    {
     "name": "stdout",
     "output_type": "stream",
     "text": [
      "Epoch [11/200], train_loss: -1.4103,  train_score: 0.4126,val_loss: -0.1714,  val_score: 0.1796, genus train_score0.9339, genus val_score0.8906\n"
     ]
    },
    {
     "data": {
      "application/vnd.jupyter.widget-view+json": {
       "model_id": "6b957b14312442f4a23cd4bcafd96ccc",
       "version_major": 2,
       "version_minor": 0
      },
      "text/plain": [
       "  0%|          | 0/14 [00:00<?, ?it/s]"
      ]
     },
     "metadata": {},
     "output_type": "display_data"
    },
    {
     "data": {
      "application/vnd.jupyter.widget-view+json": {
       "model_id": "e8fd20d6ee7041f6857cc6102bd7977b",
       "version_major": 2,
       "version_minor": 0
      },
      "text/plain": [
       "  0%|          | 0/7 [00:00<?, ?it/s]"
      ]
     },
     "metadata": {},
     "output_type": "display_data"
    },
    {
     "name": "stdout",
     "output_type": "stream",
     "text": [
      "Epoch [12/200], train_loss: -1.3552,  train_score: 0.4284,val_loss: -0.2027,  val_score: 0.1922, genus train_score0.9383, genus val_score0.8982\n"
     ]
    },
    {
     "data": {
      "application/vnd.jupyter.widget-view+json": {
       "model_id": "f8677bd5a67243a28ac6746e5f93068c",
       "version_major": 2,
       "version_minor": 0
      },
      "text/plain": [
       "  0%|          | 0/14 [00:00<?, ?it/s]"
      ]
     },
     "metadata": {},
     "output_type": "display_data"
    },
    {
     "data": {
      "application/vnd.jupyter.widget-view+json": {
       "model_id": "88a0dee6a9744edaa3883f6c1627ddcf",
       "version_major": 2,
       "version_minor": 0
      },
      "text/plain": [
       "  0%|          | 0/7 [00:00<?, ?it/s]"
      ]
     },
     "metadata": {},
     "output_type": "display_data"
    },
    {
     "name": "stdout",
     "output_type": "stream",
     "text": [
      "Epoch [13/200], train_loss: -1.2530,  train_score: 0.4589,val_loss: -0.1869,  val_score: 0.2053, genus train_score0.9449, genus val_score0.9025\n"
     ]
    },
    {
     "data": {
      "application/vnd.jupyter.widget-view+json": {
       "model_id": "078e757ebb604ffe9777f11be89f4953",
       "version_major": 2,
       "version_minor": 0
      },
      "text/plain": [
       "  0%|          | 0/14 [00:00<?, ?it/s]"
      ]
     },
     "metadata": {},
     "output_type": "display_data"
    },
    {
     "data": {
      "application/vnd.jupyter.widget-view+json": {
       "model_id": "26a106982f364c9ea1b6bb6ecde39bdc",
       "version_major": 2,
       "version_minor": 0
      },
      "text/plain": [
       "  0%|          | 0/7 [00:00<?, ?it/s]"
      ]
     },
     "metadata": {},
     "output_type": "display_data"
    },
    {
     "name": "stdout",
     "output_type": "stream",
     "text": [
      "Epoch [14/200], train_loss: -1.5292,  train_score: 0.4868,val_loss: -0.2143,  val_score: 0.2085, genus train_score0.9502, genus val_score0.9044\n"
     ]
    },
    {
     "data": {
      "application/vnd.jupyter.widget-view+json": {
       "model_id": "a98b4e51cd674889976e0d6d08ce78c5",
       "version_major": 2,
       "version_minor": 0
      },
      "text/plain": [
       "  0%|          | 0/14 [00:00<?, ?it/s]"
      ]
     },
     "metadata": {},
     "output_type": "display_data"
    },
    {
     "data": {
      "application/vnd.jupyter.widget-view+json": {
       "model_id": "c48998b921d9428885445d2f29162b19",
       "version_major": 2,
       "version_minor": 0
      },
      "text/plain": [
       "  0%|          | 0/7 [00:00<?, ?it/s]"
      ]
     },
     "metadata": {},
     "output_type": "display_data"
    },
    {
     "name": "stdout",
     "output_type": "stream",
     "text": [
      "Epoch [15/200], train_loss: -1.4473,  train_score: 0.4901,val_loss: -0.2065,  val_score: 0.2118, genus train_score0.9506, genus val_score0.9063\n"
     ]
    },
    {
     "data": {
      "application/vnd.jupyter.widget-view+json": {
       "model_id": "8de4d05d18c547c987bd1857a13e2619",
       "version_major": 2,
       "version_minor": 0
      },
      "text/plain": [
       "  0%|          | 0/14 [00:00<?, ?it/s]"
      ]
     },
     "metadata": {},
     "output_type": "display_data"
    },
    {
     "data": {
      "application/vnd.jupyter.widget-view+json": {
       "model_id": "86e6d44f84334d799759ddb48ad8c481",
       "version_major": 2,
       "version_minor": 0
      },
      "text/plain": [
       "  0%|          | 0/7 [00:00<?, ?it/s]"
      ]
     },
     "metadata": {},
     "output_type": "display_data"
    },
    {
     "name": "stdout",
     "output_type": "stream",
     "text": [
      "Epoch [16/200], train_loss: -1.4873,  train_score: 0.5042,val_loss: -0.2357,  val_score: 0.2233, genus train_score0.9523, genus val_score0.9065\n"
     ]
    },
    {
     "data": {
      "application/vnd.jupyter.widget-view+json": {
       "model_id": "4aa2ff04874a477fb0ad896da29cc4bf",
       "version_major": 2,
       "version_minor": 0
      },
      "text/plain": [
       "  0%|          | 0/14 [00:00<?, ?it/s]"
      ]
     },
     "metadata": {},
     "output_type": "display_data"
    },
    {
     "data": {
      "application/vnd.jupyter.widget-view+json": {
       "model_id": "aac213499f15410ea9bfaea4bd8a7d78",
       "version_major": 2,
       "version_minor": 0
      },
      "text/plain": [
       "  0%|          | 0/7 [00:00<?, ?it/s]"
      ]
     },
     "metadata": {},
     "output_type": "display_data"
    },
    {
     "name": "stdout",
     "output_type": "stream",
     "text": [
      "Epoch [17/200], train_loss: -1.6205,  train_score: 0.5361,val_loss: -0.2221,  val_score: 0.2416, genus train_score0.9548, genus val_score0.9075\n"
     ]
    },
    {
     "data": {
      "application/vnd.jupyter.widget-view+json": {
       "model_id": "0003325c8a444d218a74ca64afdb78fc",
       "version_major": 2,
       "version_minor": 0
      },
      "text/plain": [
       "  0%|          | 0/14 [00:00<?, ?it/s]"
      ]
     },
     "metadata": {},
     "output_type": "display_data"
    },
    {
     "data": {
      "application/vnd.jupyter.widget-view+json": {
       "model_id": "ac24ca60f73045cd9bda9877e51dbd71",
       "version_major": 2,
       "version_minor": 0
      },
      "text/plain": [
       "  0%|          | 0/7 [00:00<?, ?it/s]"
      ]
     },
     "metadata": {},
     "output_type": "display_data"
    },
    {
     "name": "stdout",
     "output_type": "stream",
     "text": [
      "Epoch [18/200], train_loss: -1.6353,  train_score: 0.5570,val_loss: -0.2110,  val_score: 0.2449, genus train_score0.9567, genus val_score0.9093\n"
     ]
    },
    {
     "data": {
      "application/vnd.jupyter.widget-view+json": {
       "model_id": "f53801c616b540d8a20117f412c61807",
       "version_major": 2,
       "version_minor": 0
      },
      "text/plain": [
       "  0%|          | 0/14 [00:00<?, ?it/s]"
      ]
     },
     "metadata": {},
     "output_type": "display_data"
    },
    {
     "data": {
      "application/vnd.jupyter.widget-view+json": {
       "model_id": "8b0c414c1e8c47e88ac1446693115ba4",
       "version_major": 2,
       "version_minor": 0
      },
      "text/plain": [
       "  0%|          | 0/7 [00:00<?, ?it/s]"
      ]
     },
     "metadata": {},
     "output_type": "display_data"
    },
    {
     "name": "stdout",
     "output_type": "stream",
     "text": [
      "Epoch [19/200], train_loss: -1.5085,  train_score: 0.5612,val_loss: -0.2535,  val_score: 0.2495, genus train_score0.9573, genus val_score0.9116\n"
     ]
    },
    {
     "data": {
      "application/vnd.jupyter.widget-view+json": {
       "model_id": "8afa6759d73a42708f489c233ae8f34d",
       "version_major": 2,
       "version_minor": 0
      },
      "text/plain": [
       "  0%|          | 0/14 [00:00<?, ?it/s]"
      ]
     },
     "metadata": {},
     "output_type": "display_data"
    },
    {
     "data": {
      "application/vnd.jupyter.widget-view+json": {
       "model_id": "57f7fae3c3a24f4a821b50f05128c6c6",
       "version_major": 2,
       "version_minor": 0
      },
      "text/plain": [
       "  0%|          | 0/7 [00:00<?, ?it/s]"
      ]
     },
     "metadata": {},
     "output_type": "display_data"
    },
    {
     "name": "stdout",
     "output_type": "stream",
     "text": [
      "Epoch [20/200], train_loss: -1.4413,  train_score: 0.5750,val_loss: -0.2508,  val_score: 0.2581, genus train_score0.9593, genus val_score0.9116\n"
     ]
    },
    {
     "data": {
      "application/vnd.jupyter.widget-view+json": {
       "model_id": "0247fba7c169485a85e516f45300fdfd",
       "version_major": 2,
       "version_minor": 0
      },
      "text/plain": [
       "  0%|          | 0/14 [00:00<?, ?it/s]"
      ]
     },
     "metadata": {},
     "output_type": "display_data"
    },
    {
     "data": {
      "application/vnd.jupyter.widget-view+json": {
       "model_id": "d42ac226f27149af9d4104815e3e6a8b",
       "version_major": 2,
       "version_minor": 0
      },
      "text/plain": [
       "  0%|          | 0/7 [00:00<?, ?it/s]"
      ]
     },
     "metadata": {},
     "output_type": "display_data"
    },
    {
     "name": "stdout",
     "output_type": "stream",
     "text": [
      "Epoch [21/200], train_loss: -1.5818,  train_score: 0.5975,val_loss: -0.2338,  val_score: 0.2659, genus train_score0.9618, genus val_score0.9147\n"
     ]
    },
    {
     "data": {
      "application/vnd.jupyter.widget-view+json": {
       "model_id": "924dae8a3cb44a7e9238941892622631",
       "version_major": 2,
       "version_minor": 0
      },
      "text/plain": [
       "  0%|          | 0/14 [00:00<?, ?it/s]"
      ]
     },
     "metadata": {},
     "output_type": "display_data"
    },
    {
     "data": {
      "application/vnd.jupyter.widget-view+json": {
       "model_id": "528bf43995724961920e8fbcc49b6910",
       "version_major": 2,
       "version_minor": 0
      },
      "text/plain": [
       "  0%|          | 0/7 [00:00<?, ?it/s]"
      ]
     },
     "metadata": {},
     "output_type": "display_data"
    },
    {
     "name": "stdout",
     "output_type": "stream",
     "text": [
      "Epoch [22/200], train_loss: -1.5950,  train_score: 0.6054,val_loss: -0.2613,  val_score: 0.2687, genus train_score0.9627, genus val_score0.9146\n"
     ]
    },
    {
     "data": {
      "application/vnd.jupyter.widget-view+json": {
       "model_id": "0c1e218faaff4e219775e5db9e9e6ed6",
       "version_major": 2,
       "version_minor": 0
      },
      "text/plain": [
       "  0%|          | 0/14 [00:00<?, ?it/s]"
      ]
     },
     "metadata": {},
     "output_type": "display_data"
    },
    {
     "data": {
      "application/vnd.jupyter.widget-view+json": {
       "model_id": "e4fc88fc8c52459f9f1654a82244d228",
       "version_major": 2,
       "version_minor": 0
      },
      "text/plain": [
       "  0%|          | 0/7 [00:00<?, ?it/s]"
      ]
     },
     "metadata": {},
     "output_type": "display_data"
    },
    {
     "name": "stdout",
     "output_type": "stream",
     "text": [
      "Epoch [23/200], train_loss: -1.5368,  train_score: 0.6083,val_loss: -0.2626,  val_score: 0.2703, genus train_score0.9627, genus val_score0.9168\n"
     ]
    },
    {
     "data": {
      "application/vnd.jupyter.widget-view+json": {
       "model_id": "56bb3877231c4368a6fa5cf8fb28c749",
       "version_major": 2,
       "version_minor": 0
      },
      "text/plain": [
       "  0%|          | 0/14 [00:00<?, ?it/s]"
      ]
     },
     "metadata": {},
     "output_type": "display_data"
    },
    {
     "data": {
      "application/vnd.jupyter.widget-view+json": {
       "model_id": "24a5e463343d4dbcb3c7d3a33a972431",
       "version_major": 2,
       "version_minor": 0
      },
      "text/plain": [
       "  0%|          | 0/7 [00:00<?, ?it/s]"
      ]
     },
     "metadata": {},
     "output_type": "display_data"
    },
    {
     "name": "stdout",
     "output_type": "stream",
     "text": [
      "Epoch [24/200], train_loss: -1.5560,  train_score: 0.6224,val_loss: -0.2671,  val_score: 0.2835, genus train_score0.9643, genus val_score0.9202\n"
     ]
    },
    {
     "data": {
      "application/vnd.jupyter.widget-view+json": {
       "model_id": "d08044eaca6648148527bbb73a486613",
       "version_major": 2,
       "version_minor": 0
      },
      "text/plain": [
       "  0%|          | 0/14 [00:00<?, ?it/s]"
      ]
     },
     "metadata": {},
     "output_type": "display_data"
    },
    {
     "data": {
      "application/vnd.jupyter.widget-view+json": {
       "model_id": "068d1ed70aa546eca7972c3a12f55747",
       "version_major": 2,
       "version_minor": 0
      },
      "text/plain": [
       "  0%|          | 0/7 [00:00<?, ?it/s]"
      ]
     },
     "metadata": {},
     "output_type": "display_data"
    },
    {
     "name": "stdout",
     "output_type": "stream",
     "text": [
      "Epoch [25/200], train_loss: -1.5046,  train_score: 0.6547,val_loss: -0.2670,  val_score: 0.2963, genus train_score0.9647, genus val_score0.9202\n"
     ]
    },
    {
     "data": {
      "application/vnd.jupyter.widget-view+json": {
       "model_id": "ccef7c12207b411f9ef9a2a62c8652e9",
       "version_major": 2,
       "version_minor": 0
      },
      "text/plain": [
       "  0%|          | 0/14 [00:00<?, ?it/s]"
      ]
     },
     "metadata": {},
     "output_type": "display_data"
    },
    {
     "data": {
      "application/vnd.jupyter.widget-view+json": {
       "model_id": "468cb8b3dd1f4b9097d847724334645e",
       "version_major": 2,
       "version_minor": 0
      },
      "text/plain": [
       "  0%|          | 0/7 [00:00<?, ?it/s]"
      ]
     },
     "metadata": {},
     "output_type": "display_data"
    },
    {
     "name": "stdout",
     "output_type": "stream",
     "text": [
      "Epoch [26/200], train_loss: -1.6806,  train_score: 0.6688,val_loss: -0.3235,  val_score: 0.2982, genus train_score0.9653, genus val_score0.9201\n"
     ]
    },
    {
     "data": {
      "application/vnd.jupyter.widget-view+json": {
       "model_id": "154da6373505418994e1cd1ff40b08de",
       "version_major": 2,
       "version_minor": 0
      },
      "text/plain": [
       "  0%|          | 0/14 [00:00<?, ?it/s]"
      ]
     },
     "metadata": {},
     "output_type": "display_data"
    },
    {
     "data": {
      "application/vnd.jupyter.widget-view+json": {
       "model_id": "3f5e8010a543491bbe705d12ebaedbd4",
       "version_major": 2,
       "version_minor": 0
      },
      "text/plain": [
       "  0%|          | 0/7 [00:00<?, ?it/s]"
      ]
     },
     "metadata": {},
     "output_type": "display_data"
    },
    {
     "name": "stdout",
     "output_type": "stream",
     "text": [
      "Epoch [27/200], train_loss: -1.7755,  train_score: 0.6737,val_loss: -0.2947,  val_score: 0.3014, genus train_score0.9656, genus val_score0.9199\n"
     ]
    },
    {
     "data": {
      "application/vnd.jupyter.widget-view+json": {
       "model_id": "6cf2b1892f034ea1be77cb57f2a4e722",
       "version_major": 2,
       "version_minor": 0
      },
      "text/plain": [
       "  0%|          | 0/14 [00:00<?, ?it/s]"
      ]
     },
     "metadata": {},
     "output_type": "display_data"
    },
    {
     "data": {
      "application/vnd.jupyter.widget-view+json": {
       "model_id": "610fa275ccfe4b0ab363968d0304b426",
       "version_major": 2,
       "version_minor": 0
      },
      "text/plain": [
       "  0%|          | 0/7 [00:00<?, ?it/s]"
      ]
     },
     "metadata": {},
     "output_type": "display_data"
    },
    {
     "name": "stdout",
     "output_type": "stream",
     "text": [
      "Epoch [28/200], train_loss: -1.6376,  train_score: 0.6845,val_loss: -0.3165,  val_score: 0.3078, genus train_score0.9660, genus val_score0.9205\n"
     ]
    },
    {
     "data": {
      "application/vnd.jupyter.widget-view+json": {
       "model_id": "ab990169645b400cb4de4d6779c77789",
       "version_major": 2,
       "version_minor": 0
      },
      "text/plain": [
       "  0%|          | 0/14 [00:00<?, ?it/s]"
      ]
     },
     "metadata": {},
     "output_type": "display_data"
    },
    {
     "data": {
      "application/vnd.jupyter.widget-view+json": {
       "model_id": "1d841b3e95c842179e4f256fc141154c",
       "version_major": 2,
       "version_minor": 0
      },
      "text/plain": [
       "  0%|          | 0/7 [00:00<?, ?it/s]"
      ]
     },
     "metadata": {},
     "output_type": "display_data"
    },
    {
     "name": "stdout",
     "output_type": "stream",
     "text": [
      "Epoch [29/200], train_loss: -1.7043,  train_score: 0.7047,val_loss: -0.2993,  val_score: 0.3159, genus train_score0.9663, genus val_score0.9218\n"
     ]
    },
    {
     "data": {
      "application/vnd.jupyter.widget-view+json": {
       "model_id": "4de1aac8bcd047d8a10d87defa022b06",
       "version_major": 2,
       "version_minor": 0
      },
      "text/plain": [
       "  0%|          | 0/14 [00:00<?, ?it/s]"
      ]
     },
     "metadata": {},
     "output_type": "display_data"
    },
    {
     "data": {
      "application/vnd.jupyter.widget-view+json": {
       "model_id": "5591607ae81a47d0bb10cccc47ffb1c6",
       "version_major": 2,
       "version_minor": 0
      },
      "text/plain": [
       "  0%|          | 0/7 [00:00<?, ?it/s]"
      ]
     },
     "metadata": {},
     "output_type": "display_data"
    },
    {
     "name": "stdout",
     "output_type": "stream",
     "text": [
      "Epoch [30/200], train_loss: -1.5561,  train_score: 0.7155,val_loss: -0.3204,  val_score: 0.3179, genus train_score0.9671, genus val_score0.9215\n"
     ]
    },
    {
     "data": {
      "application/vnd.jupyter.widget-view+json": {
       "model_id": "c15111c3f9f84f73a72d05e518ed4726",
       "version_major": 2,
       "version_minor": 0
      },
      "text/plain": [
       "  0%|          | 0/14 [00:00<?, ?it/s]"
      ]
     },
     "metadata": {},
     "output_type": "display_data"
    },
    {
     "data": {
      "application/vnd.jupyter.widget-view+json": {
       "model_id": "5f02276c0134486780d9d3e99371ad51",
       "version_major": 2,
       "version_minor": 0
      },
      "text/plain": [
       "  0%|          | 0/7 [00:00<?, ?it/s]"
      ]
     },
     "metadata": {},
     "output_type": "display_data"
    },
    {
     "name": "stdout",
     "output_type": "stream",
     "text": [
      "Epoch [31/200], train_loss: -1.7307,  train_score: 0.7185,val_loss: -0.3266,  val_score: 0.3211, genus train_score0.9674, genus val_score0.9224\n"
     ]
    },
    {
     "data": {
      "application/vnd.jupyter.widget-view+json": {
       "model_id": "cafd2d4501c34a1db451a7c2dff82561",
       "version_major": 2,
       "version_minor": 0
      },
      "text/plain": [
       "  0%|          | 0/14 [00:00<?, ?it/s]"
      ]
     },
     "metadata": {},
     "output_type": "display_data"
    },
    {
     "data": {
      "application/vnd.jupyter.widget-view+json": {
       "model_id": "dd7336a723ed469785da852587cc711d",
       "version_major": 2,
       "version_minor": 0
      },
      "text/plain": [
       "  0%|          | 0/7 [00:00<?, ?it/s]"
      ]
     },
     "metadata": {},
     "output_type": "display_data"
    },
    {
     "name": "stdout",
     "output_type": "stream",
     "text": [
      "Epoch [32/200], train_loss: -1.5860,  train_score: 0.7238,val_loss: -0.3219,  val_score: 0.3264, genus train_score0.9669, genus val_score0.9214\n"
     ]
    },
    {
     "data": {
      "application/vnd.jupyter.widget-view+json": {
       "model_id": "00e35dd0aeed4efabd7b1369906d5a23",
       "version_major": 2,
       "version_minor": 0
      },
      "text/plain": [
       "  0%|          | 0/14 [00:00<?, ?it/s]"
      ]
     },
     "metadata": {},
     "output_type": "display_data"
    },
    {
     "data": {
      "application/vnd.jupyter.widget-view+json": {
       "model_id": "5d8c8a9cb24b4255aa2e5e533f71e3ec",
       "version_major": 2,
       "version_minor": 0
      },
      "text/plain": [
       "  0%|          | 0/7 [00:00<?, ?it/s]"
      ]
     },
     "metadata": {},
     "output_type": "display_data"
    },
    {
     "name": "stdout",
     "output_type": "stream",
     "text": [
      "Epoch [33/200], train_loss: -1.7403,  train_score: 0.7364,val_loss: -0.2959,  val_score: 0.3307, genus train_score0.9681, genus val_score0.9216\n"
     ]
    },
    {
     "data": {
      "application/vnd.jupyter.widget-view+json": {
       "model_id": "8f32bdac8b0e41a7ab092d0139ebd366",
       "version_major": 2,
       "version_minor": 0
      },
      "text/plain": [
       "  0%|          | 0/14 [00:00<?, ?it/s]"
      ]
     },
     "metadata": {},
     "output_type": "display_data"
    },
    {
     "data": {
      "application/vnd.jupyter.widget-view+json": {
       "model_id": "9b37f307050a4235931011aac0b06e25",
       "version_major": 2,
       "version_minor": 0
      },
      "text/plain": [
       "  0%|          | 0/7 [00:00<?, ?it/s]"
      ]
     },
     "metadata": {},
     "output_type": "display_data"
    },
    {
     "name": "stdout",
     "output_type": "stream",
     "text": [
      "Epoch [34/200], train_loss: -1.6731,  train_score: 0.7447,val_loss: -0.3317,  val_score: 0.3313, genus train_score0.9687, genus val_score0.9232\n"
     ]
    },
    {
     "data": {
      "application/vnd.jupyter.widget-view+json": {
       "model_id": "dbe8e1ff71f34632a49588f5bc60023b",
       "version_major": 2,
       "version_minor": 0
      },
      "text/plain": [
       "  0%|          | 0/14 [00:00<?, ?it/s]"
      ]
     },
     "metadata": {},
     "output_type": "display_data"
    },
    {
     "data": {
      "application/vnd.jupyter.widget-view+json": {
       "model_id": "e68b12a3a1ce4da7996b2885c41043d5",
       "version_major": 2,
       "version_minor": 0
      },
      "text/plain": [
       "  0%|          | 0/7 [00:00<?, ?it/s]"
      ]
     },
     "metadata": {},
     "output_type": "display_data"
    },
    {
     "name": "stdout",
     "output_type": "stream",
     "text": [
      "Epoch [35/200], train_loss: -1.6143,  train_score: 0.7465,val_loss: -0.3313,  val_score: 0.3320, genus train_score0.9698, genus val_score0.9229\n"
     ]
    },
    {
     "data": {
      "application/vnd.jupyter.widget-view+json": {
       "model_id": "08cba30b1bd3406aa1d6cdbfb0398609",
       "version_major": 2,
       "version_minor": 0
      },
      "text/plain": [
       "  0%|          | 0/14 [00:00<?, ?it/s]"
      ]
     },
     "metadata": {},
     "output_type": "display_data"
    },
    {
     "data": {
      "application/vnd.jupyter.widget-view+json": {
       "model_id": "7882994ceda4420db6281ef4d367b6d0",
       "version_major": 2,
       "version_minor": 0
      },
      "text/plain": [
       "  0%|          | 0/7 [00:00<?, ?it/s]"
      ]
     },
     "metadata": {},
     "output_type": "display_data"
    },
    {
     "name": "stdout",
     "output_type": "stream",
     "text": [
      "Epoch [36/200], train_loss: -1.7644,  train_score: 0.7553,val_loss: -0.3248,  val_score: 0.3408, genus train_score0.9701, genus val_score0.9226\n"
     ]
    },
    {
     "data": {
      "application/vnd.jupyter.widget-view+json": {
       "model_id": "4664855c12674d83a4ed6a811070cbe5",
       "version_major": 2,
       "version_minor": 0
      },
      "text/plain": [
       "  0%|          | 0/14 [00:00<?, ?it/s]"
      ]
     },
     "metadata": {},
     "output_type": "display_data"
    },
    {
     "data": {
      "application/vnd.jupyter.widget-view+json": {
       "model_id": "3b92f5ecc09240e38b782dd3a96e78d2",
       "version_major": 2,
       "version_minor": 0
      },
      "text/plain": [
       "  0%|          | 0/7 [00:00<?, ?it/s]"
      ]
     },
     "metadata": {},
     "output_type": "display_data"
    },
    {
     "name": "stdout",
     "output_type": "stream",
     "text": [
      "Epoch [37/200], train_loss: -1.6860,  train_score: 0.7735,val_loss: -0.3527,  val_score: 0.3475, genus train_score0.9705, genus val_score0.9224\n"
     ]
    },
    {
     "data": {
      "application/vnd.jupyter.widget-view+json": {
       "model_id": "054013f79ace48f9928d3ef8f414ce12",
       "version_major": 2,
       "version_minor": 0
      },
      "text/plain": [
       "  0%|          | 0/14 [00:00<?, ?it/s]"
      ]
     },
     "metadata": {},
     "output_type": "display_data"
    },
    {
     "data": {
      "application/vnd.jupyter.widget-view+json": {
       "model_id": "cd4ff2f1c4d740288b1e3c839261c8ec",
       "version_major": 2,
       "version_minor": 0
      },
      "text/plain": [
       "  0%|          | 0/7 [00:00<?, ?it/s]"
      ]
     },
     "metadata": {},
     "output_type": "display_data"
    },
    {
     "name": "stdout",
     "output_type": "stream",
     "text": [
      "Epoch [38/200], train_loss: -1.6377,  train_score: 0.7854,val_loss: -0.3517,  val_score: 0.3497, genus train_score0.9700, genus val_score0.9229\n"
     ]
    },
    {
     "data": {
      "application/vnd.jupyter.widget-view+json": {
       "model_id": "a91f652e68d742acba4f239633be7292",
       "version_major": 2,
       "version_minor": 0
      },
      "text/plain": [
       "  0%|          | 0/14 [00:00<?, ?it/s]"
      ]
     },
     "metadata": {},
     "output_type": "display_data"
    },
    {
     "data": {
      "application/vnd.jupyter.widget-view+json": {
       "model_id": "8b37ecc3d2294eec9093ec639b33a3cc",
       "version_major": 2,
       "version_minor": 0
      },
      "text/plain": [
       "  0%|          | 0/7 [00:00<?, ?it/s]"
      ]
     },
     "metadata": {},
     "output_type": "display_data"
    },
    {
     "name": "stdout",
     "output_type": "stream",
     "text": [
      "Epoch [39/200], train_loss: -1.8447,  train_score: 0.7880,val_loss: -0.3552,  val_score: 0.3497, genus train_score0.9709, genus val_score0.9234\n"
     ]
    },
    {
     "data": {
      "application/vnd.jupyter.widget-view+json": {
       "model_id": "ade7f77481324b37abefe6da149fc4f7",
       "version_major": 2,
       "version_minor": 0
      },
      "text/plain": [
       "  0%|          | 0/14 [00:00<?, ?it/s]"
      ]
     },
     "metadata": {},
     "output_type": "display_data"
    },
    {
     "data": {
      "application/vnd.jupyter.widget-view+json": {
       "model_id": "d93cc7a0adb74325b00fdfb3ec2c0f1b",
       "version_major": 2,
       "version_minor": 0
      },
      "text/plain": [
       "  0%|          | 0/7 [00:00<?, ?it/s]"
      ]
     },
     "metadata": {},
     "output_type": "display_data"
    },
    {
     "name": "stdout",
     "output_type": "stream",
     "text": [
      "Epoch [40/200], train_loss: -1.7057,  train_score: 0.7945,val_loss: -0.3556,  val_score: 0.3576, genus train_score0.9708, genus val_score0.9239\n"
     ]
    },
    {
     "data": {
      "application/vnd.jupyter.widget-view+json": {
       "model_id": "6bbaa420a91144c0838eefe516251bda",
       "version_major": 2,
       "version_minor": 0
      },
      "text/plain": [
       "  0%|          | 0/14 [00:00<?, ?it/s]"
      ]
     },
     "metadata": {},
     "output_type": "display_data"
    },
    {
     "data": {
      "application/vnd.jupyter.widget-view+json": {
       "model_id": "c47a968d266f4b80b942e87bbcfb1e5f",
       "version_major": 2,
       "version_minor": 0
      },
      "text/plain": [
       "  0%|          | 0/7 [00:00<?, ?it/s]"
      ]
     },
     "metadata": {},
     "output_type": "display_data"
    },
    {
     "name": "stdout",
     "output_type": "stream",
     "text": [
      "Epoch [41/200], train_loss: -1.8950,  train_score: 0.8057,val_loss: -0.3527,  val_score: 0.3599, genus train_score0.9715, genus val_score0.9242\n"
     ]
    },
    {
     "data": {
      "application/vnd.jupyter.widget-view+json": {
       "model_id": "92db2550679842e79020e3f58f2267cd",
       "version_major": 2,
       "version_minor": 0
      },
      "text/plain": [
       "  0%|          | 0/14 [00:00<?, ?it/s]"
      ]
     },
     "metadata": {},
     "output_type": "display_data"
    },
    {
     "data": {
      "application/vnd.jupyter.widget-view+json": {
       "model_id": "79bf95a9d7b748b88944b4e5ab53c99c",
       "version_major": 2,
       "version_minor": 0
      },
      "text/plain": [
       "  0%|          | 0/7 [00:00<?, ?it/s]"
      ]
     },
     "metadata": {},
     "output_type": "display_data"
    },
    {
     "name": "stdout",
     "output_type": "stream",
     "text": [
      "Epoch [42/200], train_loss: -1.8243,  train_score: 0.8110,val_loss: -0.3760,  val_score: 0.3619, genus train_score0.9725, genus val_score0.9244\n"
     ]
    },
    {
     "data": {
      "application/vnd.jupyter.widget-view+json": {
       "model_id": "316cc50e835b4227a494efd4bb00fe1f",
       "version_major": 2,
       "version_minor": 0
      },
      "text/plain": [
       "  0%|          | 0/14 [00:00<?, ?it/s]"
      ]
     },
     "metadata": {},
     "output_type": "display_data"
    },
    {
     "data": {
      "application/vnd.jupyter.widget-view+json": {
       "model_id": "2ee22ac542f341b4a972e82479397135",
       "version_major": 2,
       "version_minor": 0
      },
      "text/plain": [
       "  0%|          | 0/7 [00:00<?, ?it/s]"
      ]
     },
     "metadata": {},
     "output_type": "display_data"
    },
    {
     "name": "stdout",
     "output_type": "stream",
     "text": [
      "Epoch [43/200], train_loss: -1.7945,  train_score: 0.8161,val_loss: -0.3538,  val_score: 0.3664, genus train_score0.9723, genus val_score0.9248\n"
     ]
    },
    {
     "data": {
      "application/vnd.jupyter.widget-view+json": {
       "model_id": "ee41d6fdd37842e5a08f6f0a2394192f",
       "version_major": 2,
       "version_minor": 0
      },
      "text/plain": [
       "  0%|          | 0/14 [00:00<?, ?it/s]"
      ]
     },
     "metadata": {},
     "output_type": "display_data"
    },
    {
     "data": {
      "application/vnd.jupyter.widget-view+json": {
       "model_id": "e2ebb1da549d4e8a901c2c88563e4369",
       "version_major": 2,
       "version_minor": 0
      },
      "text/plain": [
       "  0%|          | 0/7 [00:00<?, ?it/s]"
      ]
     },
     "metadata": {},
     "output_type": "display_data"
    },
    {
     "name": "stdout",
     "output_type": "stream",
     "text": [
      "Epoch [44/200], train_loss: -1.8137,  train_score: 0.8263,val_loss: -0.3612,  val_score: 0.3718, genus train_score0.9732, genus val_score0.9249\n"
     ]
    },
    {
     "data": {
      "application/vnd.jupyter.widget-view+json": {
       "model_id": "f0fb76702d56409aaa2beec637c10d38",
       "version_major": 2,
       "version_minor": 0
      },
      "text/plain": [
       "  0%|          | 0/14 [00:00<?, ?it/s]"
      ]
     },
     "metadata": {},
     "output_type": "display_data"
    },
    {
     "data": {
      "application/vnd.jupyter.widget-view+json": {
       "model_id": "781ed26492ff41a19355eece56ee2619",
       "version_major": 2,
       "version_minor": 0
      },
      "text/plain": [
       "  0%|          | 0/7 [00:00<?, ?it/s]"
      ]
     },
     "metadata": {},
     "output_type": "display_data"
    },
    {
     "name": "stdout",
     "output_type": "stream",
     "text": [
      "Epoch [45/200], train_loss: -1.7388,  train_score: 0.8353,val_loss: -0.3661,  val_score: 0.3751, genus train_score0.9732, genus val_score0.9248\n"
     ]
    },
    {
     "data": {
      "application/vnd.jupyter.widget-view+json": {
       "model_id": "cbbc5ab943804301b117b8802ef5f9ac",
       "version_major": 2,
       "version_minor": 0
      },
      "text/plain": [
       "  0%|          | 0/14 [00:00<?, ?it/s]"
      ]
     },
     "metadata": {},
     "output_type": "display_data"
    },
    {
     "data": {
      "application/vnd.jupyter.widget-view+json": {
       "model_id": "e5234b4cadeb4c70bf7b15f49871d765",
       "version_major": 2,
       "version_minor": 0
      },
      "text/plain": [
       "  0%|          | 0/7 [00:00<?, ?it/s]"
      ]
     },
     "metadata": {},
     "output_type": "display_data"
    },
    {
     "name": "stdout",
     "output_type": "stream",
     "text": [
      "Epoch [46/200], train_loss: -1.7685,  train_score: 0.8431,val_loss: -0.3700,  val_score: 0.3770, genus train_score0.9738, genus val_score0.9249\n"
     ]
    },
    {
     "data": {
      "application/vnd.jupyter.widget-view+json": {
       "model_id": "ad11b50941184fd9adbfbd10047e779c",
       "version_major": 2,
       "version_minor": 0
      },
      "text/plain": [
       "  0%|          | 0/14 [00:00<?, ?it/s]"
      ]
     },
     "metadata": {},
     "output_type": "display_data"
    },
    {
     "data": {
      "application/vnd.jupyter.widget-view+json": {
       "model_id": "e8d5d32bf06b42a08f2eca6a83930c52",
       "version_major": 2,
       "version_minor": 0
      },
      "text/plain": [
       "  0%|          | 0/7 [00:00<?, ?it/s]"
      ]
     },
     "metadata": {},
     "output_type": "display_data"
    },
    {
     "name": "stdout",
     "output_type": "stream",
     "text": [
      "Epoch [47/200], train_loss: -1.8689,  train_score: 0.8444,val_loss: -0.3639,  val_score: 0.3787, genus train_score0.9738, genus val_score0.9249\n"
     ]
    },
    {
     "data": {
      "application/vnd.jupyter.widget-view+json": {
       "model_id": "a5ebb2635d254a4b97c1f8d52437c273",
       "version_major": 2,
       "version_minor": 0
      },
      "text/plain": [
       "  0%|          | 0/14 [00:00<?, ?it/s]"
      ]
     },
     "metadata": {},
     "output_type": "display_data"
    },
    {
     "data": {
      "application/vnd.jupyter.widget-view+json": {
       "model_id": "bc9ee6e26864464e8b3c16801d64e563",
       "version_major": 2,
       "version_minor": 0
      },
      "text/plain": [
       "  0%|          | 0/7 [00:00<?, ?it/s]"
      ]
     },
     "metadata": {},
     "output_type": "display_data"
    },
    {
     "name": "stdout",
     "output_type": "stream",
     "text": [
      "Epoch [48/200], train_loss: -1.8349,  train_score: 0.8494,val_loss: -0.3788,  val_score: 0.3822, genus train_score0.9749, genus val_score0.9247\n"
     ]
    },
    {
     "data": {
      "application/vnd.jupyter.widget-view+json": {
       "model_id": "f10a05eb89fa47f2aee4ece3893a72ca",
       "version_major": 2,
       "version_minor": 0
      },
      "text/plain": [
       "  0%|          | 0/14 [00:00<?, ?it/s]"
      ]
     },
     "metadata": {},
     "output_type": "display_data"
    },
    {
     "data": {
      "application/vnd.jupyter.widget-view+json": {
       "model_id": "a0a010fc6c0548e2a6fec93561cd2137",
       "version_major": 2,
       "version_minor": 0
      },
      "text/plain": [
       "  0%|          | 0/7 [00:00<?, ?it/s]"
      ]
     },
     "metadata": {},
     "output_type": "display_data"
    },
    {
     "name": "stdout",
     "output_type": "stream",
     "text": [
      "Epoch [49/200], train_loss: -1.7924,  train_score: 0.8536,val_loss: -0.3456,  val_score: 0.3850, genus train_score0.9746, genus val_score0.9234\n"
     ]
    },
    {
     "data": {
      "application/vnd.jupyter.widget-view+json": {
       "model_id": "b2ecf136a7f5476fb4801ffc716723e3",
       "version_major": 2,
       "version_minor": 0
      },
      "text/plain": [
       "  0%|          | 0/14 [00:00<?, ?it/s]"
      ]
     },
     "metadata": {},
     "output_type": "display_data"
    },
    {
     "data": {
      "application/vnd.jupyter.widget-view+json": {
       "model_id": "295c4723a34f4bcaafdc45afdddab028",
       "version_major": 2,
       "version_minor": 0
      },
      "text/plain": [
       "  0%|          | 0/7 [00:00<?, ?it/s]"
      ]
     },
     "metadata": {},
     "output_type": "display_data"
    },
    {
     "name": "stdout",
     "output_type": "stream",
     "text": [
      "Epoch [50/200], train_loss: -1.8542,  train_score: 0.8607,val_loss: -0.3579,  val_score: 0.3862, genus train_score0.9752, genus val_score0.9218\n"
     ]
    },
    {
     "data": {
      "application/vnd.jupyter.widget-view+json": {
       "model_id": "cf0573f7f216477aa0a3ed6a06626e20",
       "version_major": 2,
       "version_minor": 0
      },
      "text/plain": [
       "  0%|          | 0/14 [00:00<?, ?it/s]"
      ]
     },
     "metadata": {},
     "output_type": "display_data"
    },
    {
     "data": {
      "application/vnd.jupyter.widget-view+json": {
       "model_id": "2c211ba507604a14a8be3c858c2ae117",
       "version_major": 2,
       "version_minor": 0
      },
      "text/plain": [
       "  0%|          | 0/7 [00:00<?, ?it/s]"
      ]
     },
     "metadata": {},
     "output_type": "display_data"
    },
    {
     "name": "stdout",
     "output_type": "stream",
     "text": [
      "Epoch [51/200], train_loss: -1.9214,  train_score: 0.8628,val_loss: -0.3788,  val_score: 0.3882, genus train_score0.9750, genus val_score0.9221\n"
     ]
    },
    {
     "data": {
      "application/vnd.jupyter.widget-view+json": {
       "model_id": "8d0bb4fe95fc4f9b8e80bc04ad6ffe13",
       "version_major": 2,
       "version_minor": 0
      },
      "text/plain": [
       "  0%|          | 0/14 [00:00<?, ?it/s]"
      ]
     },
     "metadata": {},
     "output_type": "display_data"
    },
    {
     "data": {
      "application/vnd.jupyter.widget-view+json": {
       "model_id": "4ba352743cbd4efcb82c7b731c0fbdb5",
       "version_major": 2,
       "version_minor": 0
      },
      "text/plain": [
       "  0%|          | 0/7 [00:00<?, ?it/s]"
      ]
     },
     "metadata": {},
     "output_type": "display_data"
    },
    {
     "name": "stdout",
     "output_type": "stream",
     "text": [
      "Epoch [52/200], train_loss: -1.8517,  train_score: 0.8712,val_loss: -0.4011,  val_score: 0.3951, genus train_score0.9750, genus val_score0.9247\n"
     ]
    },
    {
     "data": {
      "application/vnd.jupyter.widget-view+json": {
       "model_id": "4b6f78f711c04fba85185625425da068",
       "version_major": 2,
       "version_minor": 0
      },
      "text/plain": [
       "  0%|          | 0/14 [00:00<?, ?it/s]"
      ]
     },
     "metadata": {},
     "output_type": "display_data"
    },
    {
     "data": {
      "application/vnd.jupyter.widget-view+json": {
       "model_id": "3c5b0f18629f4196ae88fa5ca7694fc3",
       "version_major": 2,
       "version_minor": 0
      },
      "text/plain": [
       "  0%|          | 0/7 [00:00<?, ?it/s]"
      ]
     },
     "metadata": {},
     "output_type": "display_data"
    },
    {
     "name": "stdout",
     "output_type": "stream",
     "text": [
      "Epoch [53/200], train_loss: -1.7922,  train_score: 0.8787,val_loss: -0.3877,  val_score: 0.3981, genus train_score0.9755, genus val_score0.9258\n"
     ]
    },
    {
     "data": {
      "application/vnd.jupyter.widget-view+json": {
       "model_id": "e0ac8ff68d7043739498cc93a31d629b",
       "version_major": 2,
       "version_minor": 0
      },
      "text/plain": [
       "  0%|          | 0/14 [00:00<?, ?it/s]"
      ]
     },
     "metadata": {},
     "output_type": "display_data"
    },
    {
     "data": {
      "application/vnd.jupyter.widget-view+json": {
       "model_id": "f637781bac7d4c8095e3c02c7a977923",
       "version_major": 2,
       "version_minor": 0
      },
      "text/plain": [
       "  0%|          | 0/7 [00:00<?, ?it/s]"
      ]
     },
     "metadata": {},
     "output_type": "display_data"
    },
    {
     "name": "stdout",
     "output_type": "stream",
     "text": [
      "Epoch [54/200], train_loss: -1.8672,  train_score: 0.8872,val_loss: -0.3924,  val_score: 0.4004, genus train_score0.9760, genus val_score0.9260\n"
     ]
    },
    {
     "data": {
      "application/vnd.jupyter.widget-view+json": {
       "model_id": "2f5c20207341402e8dde38140b7fab09",
       "version_major": 2,
       "version_minor": 0
      },
      "text/plain": [
       "  0%|          | 0/14 [00:00<?, ?it/s]"
      ]
     },
     "metadata": {},
     "output_type": "display_data"
    },
    {
     "data": {
      "application/vnd.jupyter.widget-view+json": {
       "model_id": "f663ed38315346159e5fca35e78bb7bf",
       "version_major": 2,
       "version_minor": 0
      },
      "text/plain": [
       "  0%|          | 0/7 [00:00<?, ?it/s]"
      ]
     },
     "metadata": {},
     "output_type": "display_data"
    },
    {
     "name": "stdout",
     "output_type": "stream",
     "text": [
      "Epoch [55/200], train_loss: -1.8378,  train_score: 0.8896,val_loss: -0.4035,  val_score: 0.4019, genus train_score0.9759, genus val_score0.9261\n"
     ]
    },
    {
     "data": {
      "application/vnd.jupyter.widget-view+json": {
       "model_id": "d4f3241500df4a93b258c48deba1625e",
       "version_major": 2,
       "version_minor": 0
      },
      "text/plain": [
       "  0%|          | 0/14 [00:00<?, ?it/s]"
      ]
     },
     "metadata": {},
     "output_type": "display_data"
    },
    {
     "data": {
      "application/vnd.jupyter.widget-view+json": {
       "model_id": "69433a81c4ec405e9e044edd2b2c56c7",
       "version_major": 2,
       "version_minor": 0
      },
      "text/plain": [
       "  0%|          | 0/7 [00:00<?, ?it/s]"
      ]
     },
     "metadata": {},
     "output_type": "display_data"
    },
    {
     "name": "stdout",
     "output_type": "stream",
     "text": [
      "Epoch [56/200], train_loss: -1.9043,  train_score: 0.8915,val_loss: -0.4007,  val_score: 0.4024, genus train_score0.9764, genus val_score0.9274\n"
     ]
    },
    {
     "data": {
      "application/vnd.jupyter.widget-view+json": {
       "model_id": "f92db50a7886419f85f0a23bd28dd5da",
       "version_major": 2,
       "version_minor": 0
      },
      "text/plain": [
       "  0%|          | 0/14 [00:00<?, ?it/s]"
      ]
     },
     "metadata": {},
     "output_type": "display_data"
    },
    {
     "data": {
      "application/vnd.jupyter.widget-view+json": {
       "model_id": "56cbcfe0b1a144b4870e10576cddf051",
       "version_major": 2,
       "version_minor": 0
      },
      "text/plain": [
       "  0%|          | 0/7 [00:00<?, ?it/s]"
      ]
     },
     "metadata": {},
     "output_type": "display_data"
    },
    {
     "name": "stdout",
     "output_type": "stream",
     "text": [
      "Epoch [57/200], train_loss: -1.8957,  train_score: 0.8929,val_loss: -0.4209,  val_score: 0.4058, genus train_score0.9769, genus val_score0.9241\n"
     ]
    },
    {
     "data": {
      "application/vnd.jupyter.widget-view+json": {
       "model_id": "750239f030bf4873970b208b3cfa7340",
       "version_major": 2,
       "version_minor": 0
      },
      "text/plain": [
       "  0%|          | 0/14 [00:00<?, ?it/s]"
      ]
     },
     "metadata": {},
     "output_type": "display_data"
    },
    {
     "data": {
      "application/vnd.jupyter.widget-view+json": {
       "model_id": "7d0852b64e75453c84a01d33c332765f",
       "version_major": 2,
       "version_minor": 0
      },
      "text/plain": [
       "  0%|          | 0/7 [00:00<?, ?it/s]"
      ]
     },
     "metadata": {},
     "output_type": "display_data"
    },
    {
     "name": "stdout",
     "output_type": "stream",
     "text": [
      "Epoch [58/200], train_loss: -1.7686,  train_score: 0.9038,val_loss: -0.3943,  val_score: 0.4079, genus train_score0.9766, genus val_score0.9245\n"
     ]
    },
    {
     "data": {
      "application/vnd.jupyter.widget-view+json": {
       "model_id": "ee739436ec4647bea8ecbaa2af27e38f",
       "version_major": 2,
       "version_minor": 0
      },
      "text/plain": [
       "  0%|          | 0/14 [00:00<?, ?it/s]"
      ]
     },
     "metadata": {},
     "output_type": "display_data"
    },
    {
     "data": {
      "application/vnd.jupyter.widget-view+json": {
       "model_id": "55328b5ddf2f4b0da6f2658f6f9fc37c",
       "version_major": 2,
       "version_minor": 0
      },
      "text/plain": [
       "  0%|          | 0/7 [00:00<?, ?it/s]"
      ]
     },
     "metadata": {},
     "output_type": "display_data"
    },
    {
     "name": "stdout",
     "output_type": "stream",
     "text": [
      "Epoch [59/200], train_loss: -1.8444,  train_score: 0.9045,val_loss: -0.4198,  val_score: 0.4081, genus train_score0.9764, genus val_score0.9244\n"
     ]
    },
    {
     "data": {
      "application/vnd.jupyter.widget-view+json": {
       "model_id": "2c6808431a1b4314a6b61d235d0a3c49",
       "version_major": 2,
       "version_minor": 0
      },
      "text/plain": [
       "  0%|          | 0/14 [00:00<?, ?it/s]"
      ]
     },
     "metadata": {},
     "output_type": "display_data"
    },
    {
     "data": {
      "application/vnd.jupyter.widget-view+json": {
       "model_id": "29a3337481f649629618cdb483c32129",
       "version_major": 2,
       "version_minor": 0
      },
      "text/plain": [
       "  0%|          | 0/7 [00:00<?, ?it/s]"
      ]
     },
     "metadata": {},
     "output_type": "display_data"
    },
    {
     "name": "stdout",
     "output_type": "stream",
     "text": [
      "Epoch [60/200], train_loss: -1.9480,  train_score: 0.9071,val_loss: -0.4071,  val_score: 0.4091, genus train_score0.9767, genus val_score0.9260\n"
     ]
    },
    {
     "data": {
      "application/vnd.jupyter.widget-view+json": {
       "model_id": "fc806e9a442c48c0985d4117be06d9fc",
       "version_major": 2,
       "version_minor": 0
      },
      "text/plain": [
       "  0%|          | 0/14 [00:00<?, ?it/s]"
      ]
     },
     "metadata": {},
     "output_type": "display_data"
    },
    {
     "data": {
      "application/vnd.jupyter.widget-view+json": {
       "model_id": "c3ee009dac5e438dba16dd9e8754b6b4",
       "version_major": 2,
       "version_minor": 0
      },
      "text/plain": [
       "  0%|          | 0/7 [00:00<?, ?it/s]"
      ]
     },
     "metadata": {},
     "output_type": "display_data"
    },
    {
     "name": "stdout",
     "output_type": "stream",
     "text": [
      "Epoch [61/200], train_loss: -1.8969,  train_score: 0.9089,val_loss: -0.3918,  val_score: 0.4115, genus train_score0.9769, genus val_score0.9255\n"
     ]
    },
    {
     "data": {
      "application/vnd.jupyter.widget-view+json": {
       "model_id": "3061483001c54d5fa801a391a15df9e8",
       "version_major": 2,
       "version_minor": 0
      },
      "text/plain": [
       "  0%|          | 0/14 [00:00<?, ?it/s]"
      ]
     },
     "metadata": {},
     "output_type": "display_data"
    },
    {
     "data": {
      "application/vnd.jupyter.widget-view+json": {
       "model_id": "ed2d8103abcc4e01b69da8e99679222f",
       "version_major": 2,
       "version_minor": 0
      },
      "text/plain": [
       "  0%|          | 0/7 [00:00<?, ?it/s]"
      ]
     },
     "metadata": {},
     "output_type": "display_data"
    },
    {
     "name": "stdout",
     "output_type": "stream",
     "text": [
      "Epoch [62/200], train_loss: -1.9216,  train_score: 0.9126,val_loss: -0.4406,  val_score: 0.4125, genus train_score0.9768, genus val_score0.9268\n"
     ]
    },
    {
     "data": {
      "application/vnd.jupyter.widget-view+json": {
       "model_id": "e920c62665cd444da05f07ed689cadf2",
       "version_major": 2,
       "version_minor": 0
      },
      "text/plain": [
       "  0%|          | 0/14 [00:00<?, ?it/s]"
      ]
     },
     "metadata": {},
     "output_type": "display_data"
    },
    {
     "data": {
      "application/vnd.jupyter.widget-view+json": {
       "model_id": "7f4513abbbd24eecb107fd1cb87d2e7d",
       "version_major": 2,
       "version_minor": 0
      },
      "text/plain": [
       "  0%|          | 0/7 [00:00<?, ?it/s]"
      ]
     },
     "metadata": {},
     "output_type": "display_data"
    },
    {
     "name": "stdout",
     "output_type": "stream",
     "text": [
      "Epoch [63/200], train_loss: -1.9463,  train_score: 0.9138,val_loss: -0.3926,  val_score: 0.4131, genus train_score0.9771, genus val_score0.9270\n"
     ]
    },
    {
     "data": {
      "application/vnd.jupyter.widget-view+json": {
       "model_id": "80d39aee6b5046ad907acce8e1122005",
       "version_major": 2,
       "version_minor": 0
      },
      "text/plain": [
       "  0%|          | 0/14 [00:00<?, ?it/s]"
      ]
     },
     "metadata": {},
     "output_type": "display_data"
    },
    {
     "data": {
      "application/vnd.jupyter.widget-view+json": {
       "model_id": "c798773162304b798c1961a3a78477d0",
       "version_major": 2,
       "version_minor": 0
      },
      "text/plain": [
       "  0%|          | 0/7 [00:00<?, ?it/s]"
      ]
     },
     "metadata": {},
     "output_type": "display_data"
    },
    {
     "name": "stdout",
     "output_type": "stream",
     "text": [
      "Epoch [64/200], train_loss: -1.8220,  train_score: 0.9153,val_loss: -0.4217,  val_score: 0.4139, genus train_score0.9773, genus val_score0.9291\n"
     ]
    },
    {
     "data": {
      "application/vnd.jupyter.widget-view+json": {
       "model_id": "0101f7d4973e4fe9b5d2a091ac126aab",
       "version_major": 2,
       "version_minor": 0
      },
      "text/plain": [
       "  0%|          | 0/14 [00:00<?, ?it/s]"
      ]
     },
     "metadata": {},
     "output_type": "display_data"
    },
    {
     "data": {
      "application/vnd.jupyter.widget-view+json": {
       "model_id": "cc3b1077f55a4c1b8c5dc89864ef28e0",
       "version_major": 2,
       "version_minor": 0
      },
      "text/plain": [
       "  0%|          | 0/7 [00:00<?, ?it/s]"
      ]
     },
     "metadata": {},
     "output_type": "display_data"
    },
    {
     "name": "stdout",
     "output_type": "stream",
     "text": [
      "Epoch [65/200], train_loss: -1.8969,  train_score: 0.9168,val_loss: -0.4158,  val_score: 0.4155, genus train_score0.9776, genus val_score0.9291\n"
     ]
    },
    {
     "data": {
      "application/vnd.jupyter.widget-view+json": {
       "model_id": "bd3d511e957e4565bd85519fcb2cdda2",
       "version_major": 2,
       "version_minor": 0
      },
      "text/plain": [
       "  0%|          | 0/14 [00:00<?, ?it/s]"
      ]
     },
     "metadata": {},
     "output_type": "display_data"
    },
    {
     "data": {
      "application/vnd.jupyter.widget-view+json": {
       "model_id": "d04a8279ae744ab9b1904a77d407d21f",
       "version_major": 2,
       "version_minor": 0
      },
      "text/plain": [
       "  0%|          | 0/7 [00:00<?, ?it/s]"
      ]
     },
     "metadata": {},
     "output_type": "display_data"
    },
    {
     "name": "stdout",
     "output_type": "stream",
     "text": [
      "Epoch [66/200], train_loss: -1.9468,  train_score: 0.9194,val_loss: -0.4201,  val_score: 0.4161, genus train_score0.9778, genus val_score0.9290\n"
     ]
    },
    {
     "data": {
      "application/vnd.jupyter.widget-view+json": {
       "model_id": "17b8783e09244cd2b5e1fbe22a080c6f",
       "version_major": 2,
       "version_minor": 0
      },
      "text/plain": [
       "  0%|          | 0/14 [00:00<?, ?it/s]"
      ]
     },
     "metadata": {},
     "output_type": "display_data"
    },
    {
     "data": {
      "application/vnd.jupyter.widget-view+json": {
       "model_id": "2bcd88af5de9483bb40885471c4fb917",
       "version_major": 2,
       "version_minor": 0
      },
      "text/plain": [
       "  0%|          | 0/7 [00:00<?, ?it/s]"
      ]
     },
     "metadata": {},
     "output_type": "display_data"
    },
    {
     "name": "stdout",
     "output_type": "stream",
     "text": [
      "Epoch [67/200], train_loss: -1.7940,  train_score: 0.9199,val_loss: -0.4233,  val_score: 0.4173, genus train_score0.9779, genus val_score0.9294\n"
     ]
    },
    {
     "data": {
      "application/vnd.jupyter.widget-view+json": {
       "model_id": "f9f0f48c404343688295c0b47324b209",
       "version_major": 2,
       "version_minor": 0
      },
      "text/plain": [
       "  0%|          | 0/14 [00:00<?, ?it/s]"
      ]
     },
     "metadata": {},
     "output_type": "display_data"
    },
    {
     "data": {
      "application/vnd.jupyter.widget-view+json": {
       "model_id": "272aa85b149f4e82b6459c225aef8ef3",
       "version_major": 2,
       "version_minor": 0
      },
      "text/plain": [
       "  0%|          | 0/7 [00:00<?, ?it/s]"
      ]
     },
     "metadata": {},
     "output_type": "display_data"
    },
    {
     "name": "stdout",
     "output_type": "stream",
     "text": [
      "Epoch [68/200], train_loss: -1.9219,  train_score: 0.9230,val_loss: -0.4110,  val_score: 0.4196, genus train_score0.9781, genus val_score0.9301\n"
     ]
    },
    {
     "data": {
      "application/vnd.jupyter.widget-view+json": {
       "model_id": "c7b0792bf8d84949969e3ddbdcfdae48",
       "version_major": 2,
       "version_minor": 0
      },
      "text/plain": [
       "  0%|          | 0/14 [00:00<?, ?it/s]"
      ]
     },
     "metadata": {},
     "output_type": "display_data"
    },
    {
     "data": {
      "application/vnd.jupyter.widget-view+json": {
       "model_id": "5a6eff5f2dab4886b3dc6687c14bb7e8",
       "version_major": 2,
       "version_minor": 0
      },
      "text/plain": [
       "  0%|          | 0/7 [00:00<?, ?it/s]"
      ]
     },
     "metadata": {},
     "output_type": "display_data"
    },
    {
     "name": "stdout",
     "output_type": "stream",
     "text": [
      "Epoch [69/200], train_loss: -1.9469,  train_score: 0.9277,val_loss: -0.4094,  val_score: 0.4227, genus train_score0.9780, genus val_score0.9288\n"
     ]
    },
    {
     "data": {
      "application/vnd.jupyter.widget-view+json": {
       "model_id": "636ad297f8ab4b10bfd94890713aa02e",
       "version_major": 2,
       "version_minor": 0
      },
      "text/plain": [
       "  0%|          | 0/14 [00:00<?, ?it/s]"
      ]
     },
     "metadata": {},
     "output_type": "display_data"
    },
    {
     "data": {
      "application/vnd.jupyter.widget-view+json": {
       "model_id": "592f428e3d544c73a7f00a7f99a2e00f",
       "version_major": 2,
       "version_minor": 0
      },
      "text/plain": [
       "  0%|          | 0/7 [00:00<?, ?it/s]"
      ]
     },
     "metadata": {},
     "output_type": "display_data"
    },
    {
     "name": "stdout",
     "output_type": "stream",
     "text": [
      "Epoch [70/200], train_loss: -1.8705,  train_score: 0.9307,val_loss: -0.4220,  val_score: 0.4233, genus train_score0.9784, genus val_score0.9283\n"
     ]
    },
    {
     "data": {
      "application/vnd.jupyter.widget-view+json": {
       "model_id": "5f7dbba5c6e24a18822e3afa8ad8a165",
       "version_major": 2,
       "version_minor": 0
      },
      "text/plain": [
       "  0%|          | 0/14 [00:00<?, ?it/s]"
      ]
     },
     "metadata": {},
     "output_type": "display_data"
    },
    {
     "data": {
      "application/vnd.jupyter.widget-view+json": {
       "model_id": "eebf3031152a46a99ed114febdd559fd",
       "version_major": 2,
       "version_minor": 0
      },
      "text/plain": [
       "  0%|          | 0/7 [00:00<?, ?it/s]"
      ]
     },
     "metadata": {},
     "output_type": "display_data"
    },
    {
     "name": "stdout",
     "output_type": "stream",
     "text": [
      "Epoch [71/200], train_loss: -1.8429,  train_score: 0.9310,val_loss: -0.4388,  val_score: 0.4249, genus train_score0.9781, genus val_score0.9285\n"
     ]
    },
    {
     "data": {
      "application/vnd.jupyter.widget-view+json": {
       "model_id": "b6d18eec4ac944989a21c9a98759bed3",
       "version_major": 2,
       "version_minor": 0
      },
      "text/plain": [
       "  0%|          | 0/14 [00:00<?, ?it/s]"
      ]
     },
     "metadata": {},
     "output_type": "display_data"
    },
    {
     "data": {
      "application/vnd.jupyter.widget-view+json": {
       "model_id": "a29a13e7149a4926b638061f40e46ec1",
       "version_major": 2,
       "version_minor": 0
      },
      "text/plain": [
       "  0%|          | 0/7 [00:00<?, ?it/s]"
      ]
     },
     "metadata": {},
     "output_type": "display_data"
    },
    {
     "name": "stdout",
     "output_type": "stream",
     "text": [
      "Epoch [72/200], train_loss: -1.9739,  train_score: 0.9344,val_loss: -0.4413,  val_score: 0.4266, genus train_score0.9784, genus val_score0.9311\n"
     ]
    },
    {
     "data": {
      "application/vnd.jupyter.widget-view+json": {
       "model_id": "9e71ae3797c54dd4ba44c79e607bff46",
       "version_major": 2,
       "version_minor": 0
      },
      "text/plain": [
       "  0%|          | 0/14 [00:00<?, ?it/s]"
      ]
     },
     "metadata": {},
     "output_type": "display_data"
    },
    {
     "data": {
      "application/vnd.jupyter.widget-view+json": {
       "model_id": "8bcea7564be547c8b46f8e8ab6df3617",
       "version_major": 2,
       "version_minor": 0
      },
      "text/plain": [
       "  0%|          | 0/7 [00:00<?, ?it/s]"
      ]
     },
     "metadata": {},
     "output_type": "display_data"
    },
    {
     "name": "stdout",
     "output_type": "stream",
     "text": [
      "Epoch [73/200], train_loss: -1.9284,  train_score: 0.9356,val_loss: -0.4202,  val_score: 0.4276, genus train_score0.9780, genus val_score0.9300\n"
     ]
    },
    {
     "data": {
      "application/vnd.jupyter.widget-view+json": {
       "model_id": "503042fc3b9042d8ab30c23e24cfd94a",
       "version_major": 2,
       "version_minor": 0
      },
      "text/plain": [
       "  0%|          | 0/14 [00:00<?, ?it/s]"
      ]
     },
     "metadata": {},
     "output_type": "display_data"
    },
    {
     "data": {
      "application/vnd.jupyter.widget-view+json": {
       "model_id": "92249d2d49b84333bea4d7648a0c1df0",
       "version_major": 2,
       "version_minor": 0
      },
      "text/plain": [
       "  0%|          | 0/7 [00:00<?, ?it/s]"
      ]
     },
     "metadata": {},
     "output_type": "display_data"
    },
    {
     "name": "stdout",
     "output_type": "stream",
     "text": [
      "Epoch [74/200], train_loss: -1.8705,  train_score: 0.9361,val_loss: -0.4435,  val_score: 0.4280, genus train_score0.9781, genus val_score0.9301\n"
     ]
    },
    {
     "data": {
      "application/vnd.jupyter.widget-view+json": {
       "model_id": "4a2f8182f4cc452aa25f223d6242d2b3",
       "version_major": 2,
       "version_minor": 0
      },
      "text/plain": [
       "  0%|          | 0/14 [00:00<?, ?it/s]"
      ]
     },
     "metadata": {},
     "output_type": "display_data"
    },
    {
     "data": {
      "application/vnd.jupyter.widget-view+json": {
       "model_id": "8e84202c230544eb86ba38627769f64d",
       "version_major": 2,
       "version_minor": 0
      },
      "text/plain": [
       "  0%|          | 0/7 [00:00<?, ?it/s]"
      ]
     },
     "metadata": {},
     "output_type": "display_data"
    },
    {
     "name": "stdout",
     "output_type": "stream",
     "text": [
      "Epoch [75/200], train_loss: -1.8198,  train_score: 0.9368,val_loss: -0.4146,  val_score: 0.4283, genus train_score0.9783, genus val_score0.9297\n"
     ]
    },
    {
     "data": {
      "application/vnd.jupyter.widget-view+json": {
       "model_id": "85b865440e394518bb51e51ad963587a",
       "version_major": 2,
       "version_minor": 0
      },
      "text/plain": [
       "  0%|          | 0/14 [00:00<?, ?it/s]"
      ]
     },
     "metadata": {},
     "output_type": "display_data"
    },
    {
     "data": {
      "application/vnd.jupyter.widget-view+json": {
       "model_id": "48c9c040b8cc4168b17c2005907bce01",
       "version_major": 2,
       "version_minor": 0
      },
      "text/plain": [
       "  0%|          | 0/7 [00:00<?, ?it/s]"
      ]
     },
     "metadata": {},
     "output_type": "display_data"
    },
    {
     "name": "stdout",
     "output_type": "stream",
     "text": [
      "Epoch [76/200], train_loss: -1.8964,  train_score: 0.9393,val_loss: -0.4381,  val_score: 0.4292, genus train_score0.9784, genus val_score0.9304\n"
     ]
    },
    {
     "data": {
      "application/vnd.jupyter.widget-view+json": {
       "model_id": "cf8ac253b5bc412094454a5eb0a60cf5",
       "version_major": 2,
       "version_minor": 0
      },
      "text/plain": [
       "  0%|          | 0/14 [00:00<?, ?it/s]"
      ]
     },
     "metadata": {},
     "output_type": "display_data"
    },
    {
     "data": {
      "application/vnd.jupyter.widget-view+json": {
       "model_id": "68043bf12e644d23a3b2e5735cc6bd48",
       "version_major": 2,
       "version_minor": 0
      },
      "text/plain": [
       "  0%|          | 0/7 [00:00<?, ?it/s]"
      ]
     },
     "metadata": {},
     "output_type": "display_data"
    },
    {
     "name": "stdout",
     "output_type": "stream",
     "text": [
      "Epoch [77/200], train_loss: -1.8443,  train_score: 0.9403,val_loss: -0.4481,  val_score: 0.4303, genus train_score0.9784, genus val_score0.9310\n"
     ]
    },
    {
     "data": {
      "application/vnd.jupyter.widget-view+json": {
       "model_id": "fffb22907a7e4f04a50ef67b0cc80465",
       "version_major": 2,
       "version_minor": 0
      },
      "text/plain": [
       "  0%|          | 0/14 [00:00<?, ?it/s]"
      ]
     },
     "metadata": {},
     "output_type": "display_data"
    },
    {
     "data": {
      "application/vnd.jupyter.widget-view+json": {
       "model_id": "43344d7da3b7400ea3def1c4312a1890",
       "version_major": 2,
       "version_minor": 0
      },
      "text/plain": [
       "  0%|          | 0/7 [00:00<?, ?it/s]"
      ]
     },
     "metadata": {},
     "output_type": "display_data"
    },
    {
     "name": "stdout",
     "output_type": "stream",
     "text": [
      "Epoch [78/200], train_loss: -1.9480,  train_score: 0.9426,val_loss: -0.4232,  val_score: 0.4305, genus train_score0.9783, genus val_score0.9311\n"
     ]
    },
    {
     "data": {
      "application/vnd.jupyter.widget-view+json": {
       "model_id": "02df56859ca046e9b3341f7eae2d372e",
       "version_major": 2,
       "version_minor": 0
      },
      "text/plain": [
       "  0%|          | 0/14 [00:00<?, ?it/s]"
      ]
     },
     "metadata": {},
     "output_type": "display_data"
    },
    {
     "data": {
      "application/vnd.jupyter.widget-view+json": {
       "model_id": "2e563fd805e24d7f8cc0457fb06745a9",
       "version_major": 2,
       "version_minor": 0
      },
      "text/plain": [
       "  0%|          | 0/7 [00:00<?, ?it/s]"
      ]
     },
     "metadata": {},
     "output_type": "display_data"
    },
    {
     "name": "stdout",
     "output_type": "stream",
     "text": [
      "Epoch [79/200], train_loss: -1.9480,  train_score: 0.9430,val_loss: -0.4144,  val_score: 0.4308, genus train_score0.9780, genus val_score0.9304\n"
     ]
    },
    {
     "data": {
      "application/vnd.jupyter.widget-view+json": {
       "model_id": "d676e29d5570472a9380ba1c42d4433d",
       "version_major": 2,
       "version_minor": 0
      },
      "text/plain": [
       "  0%|          | 0/14 [00:00<?, ?it/s]"
      ]
     },
     "metadata": {},
     "output_type": "display_data"
    },
    {
     "data": {
      "application/vnd.jupyter.widget-view+json": {
       "model_id": "f8b70ba343e34497ada16ab400d90e50",
       "version_major": 2,
       "version_minor": 0
      },
      "text/plain": [
       "  0%|          | 0/7 [00:00<?, ?it/s]"
      ]
     },
     "metadata": {},
     "output_type": "display_data"
    },
    {
     "name": "stdout",
     "output_type": "stream",
     "text": [
      "Epoch [80/200], train_loss: -1.9436,  train_score: 0.9451,val_loss: -0.4491,  val_score: 0.4318, genus train_score0.9783, genus val_score0.9294\n"
     ]
    },
    {
     "data": {
      "application/vnd.jupyter.widget-view+json": {
       "model_id": "d55286e9e4794abaa77575dd29ffe0f0",
       "version_major": 2,
       "version_minor": 0
      },
      "text/plain": [
       "  0%|          | 0/14 [00:00<?, ?it/s]"
      ]
     },
     "metadata": {},
     "output_type": "display_data"
    },
    {
     "data": {
      "application/vnd.jupyter.widget-view+json": {
       "model_id": "66bb23da5e18470593452cb956eb6034",
       "version_major": 2,
       "version_minor": 0
      },
      "text/plain": [
       "  0%|          | 0/7 [00:00<?, ?it/s]"
      ]
     },
     "metadata": {},
     "output_type": "display_data"
    },
    {
     "name": "stdout",
     "output_type": "stream",
     "text": [
      "Epoch [81/200], train_loss: -1.9481,  train_score: 0.9476,val_loss: -0.3982,  val_score: 0.4311, genus train_score0.9784, genus val_score0.9291\n"
     ]
    },
    {
     "data": {
      "application/vnd.jupyter.widget-view+json": {
       "model_id": "39779ad1b5bf42d0a7eb60a8b3a5fb19",
       "version_major": 2,
       "version_minor": 0
      },
      "text/plain": [
       "  0%|          | 0/14 [00:00<?, ?it/s]"
      ]
     },
     "metadata": {},
     "output_type": "display_data"
    },
    {
     "data": {
      "application/vnd.jupyter.widget-view+json": {
       "model_id": "99ea0b95ab5b4126a1309839fd83f06a",
       "version_major": 2,
       "version_minor": 0
      },
      "text/plain": [
       "  0%|          | 0/7 [00:00<?, ?it/s]"
      ]
     },
     "metadata": {},
     "output_type": "display_data"
    },
    {
     "name": "stdout",
     "output_type": "stream",
     "text": [
      "Epoch [82/200], train_loss: -1.8457,  train_score: 0.9477,val_loss: -0.4467,  val_score: 0.4318, genus train_score0.9781, genus val_score0.9288\n"
     ]
    },
    {
     "data": {
      "application/vnd.jupyter.widget-view+json": {
       "model_id": "ce70be9d69a84cabb30af243a5ee1965",
       "version_major": 2,
       "version_minor": 0
      },
      "text/plain": [
       "  0%|          | 0/14 [00:00<?, ?it/s]"
      ]
     },
     "metadata": {},
     "output_type": "display_data"
    },
    {
     "data": {
      "application/vnd.jupyter.widget-view+json": {
       "model_id": "3065a2eb868b45a494475ad7b9e337a5",
       "version_major": 2,
       "version_minor": 0
      },
      "text/plain": [
       "  0%|          | 0/7 [00:00<?, ?it/s]"
      ]
     },
     "metadata": {},
     "output_type": "display_data"
    },
    {
     "name": "stdout",
     "output_type": "stream",
     "text": [
      "Epoch [83/200], train_loss: -1.9217,  train_score: 0.9485,val_loss: -0.4329,  val_score: 0.4324, genus train_score0.9782, genus val_score0.9290\n"
     ]
    },
    {
     "data": {
      "application/vnd.jupyter.widget-view+json": {
       "model_id": "3183f8fce70d437395c2f42addcec4ed",
       "version_major": 2,
       "version_minor": 0
      },
      "text/plain": [
       "  0%|          | 0/14 [00:00<?, ?it/s]"
      ]
     },
     "metadata": {},
     "output_type": "display_data"
    },
    {
     "data": {
      "application/vnd.jupyter.widget-view+json": {
       "model_id": "f32ab6f6c0e6494d9363d978f5b52f44",
       "version_major": 2,
       "version_minor": 0
      },
      "text/plain": [
       "  0%|          | 0/7 [00:00<?, ?it/s]"
      ]
     },
     "metadata": {},
     "output_type": "display_data"
    },
    {
     "name": "stdout",
     "output_type": "stream",
     "text": [
      "Epoch [84/200], train_loss: -1.8702,  train_score: 0.9498,val_loss: -0.4343,  val_score: 0.4336, genus train_score0.9783, genus val_score0.9295\n"
     ]
    },
    {
     "data": {
      "application/vnd.jupyter.widget-view+json": {
       "model_id": "4194f24b7b1945cfb6ea2dd716a6e0e6",
       "version_major": 2,
       "version_minor": 0
      },
      "text/plain": [
       "  0%|          | 0/14 [00:00<?, ?it/s]"
      ]
     },
     "metadata": {},
     "output_type": "display_data"
    },
    {
     "data": {
      "application/vnd.jupyter.widget-view+json": {
       "model_id": "816b4273298e47ce835960c1633547c5",
       "version_major": 2,
       "version_minor": 0
      },
      "text/plain": [
       "  0%|          | 0/7 [00:00<?, ?it/s]"
      ]
     },
     "metadata": {},
     "output_type": "display_data"
    },
    {
     "name": "stdout",
     "output_type": "stream",
     "text": [
      "Epoch [85/200], train_loss: -1.8663,  train_score: 0.9524,val_loss: -0.4391,  val_score: 0.4349, genus train_score0.9786, genus val_score0.9301\n"
     ]
    },
    {
     "data": {
      "application/vnd.jupyter.widget-view+json": {
       "model_id": "587ff74986d3455db58cd9d67190fa70",
       "version_major": 2,
       "version_minor": 0
      },
      "text/plain": [
       "  0%|          | 0/14 [00:00<?, ?it/s]"
      ]
     },
     "metadata": {},
     "output_type": "display_data"
    },
    {
     "data": {
      "application/vnd.jupyter.widget-view+json": {
       "model_id": "8a6f4474d5bb4ed29a4710b8cfbcc36c",
       "version_major": 2,
       "version_minor": 0
      },
      "text/plain": [
       "  0%|          | 0/7 [00:00<?, ?it/s]"
      ]
     },
     "metadata": {},
     "output_type": "display_data"
    },
    {
     "name": "stdout",
     "output_type": "stream",
     "text": [
      "Epoch [86/200], train_loss: -1.9737,  train_score: 0.9540,val_loss: -0.4583,  val_score: 0.4351, genus train_score0.9785, genus val_score0.9294\n"
     ]
    },
    {
     "data": {
      "application/vnd.jupyter.widget-view+json": {
       "model_id": "d6cc23c71b5a4aa8a77621ad168d5dcc",
       "version_major": 2,
       "version_minor": 0
      },
      "text/plain": [
       "  0%|          | 0/14 [00:00<?, ?it/s]"
      ]
     },
     "metadata": {},
     "output_type": "display_data"
    },
    {
     "data": {
      "application/vnd.jupyter.widget-view+json": {
       "model_id": "725b567aadbb47aa960e7bc2f27666e1",
       "version_major": 2,
       "version_minor": 0
      },
      "text/plain": [
       "  0%|          | 0/7 [00:00<?, ?it/s]"
      ]
     },
     "metadata": {},
     "output_type": "display_data"
    },
    {
     "name": "stdout",
     "output_type": "stream",
     "text": [
      "Epoch [87/200], train_loss: -1.8698,  train_score: 0.9547,val_loss: -0.4116,  val_score: 0.4354, genus train_score0.9783, genus val_score0.9293\n"
     ]
    },
    {
     "data": {
      "application/vnd.jupyter.widget-view+json": {
       "model_id": "bf3463a463784f2c9970b0da0079ad38",
       "version_major": 2,
       "version_minor": 0
      },
      "text/plain": [
       "  0%|          | 0/14 [00:00<?, ?it/s]"
      ]
     },
     "metadata": {},
     "output_type": "display_data"
    },
    {
     "data": {
      "application/vnd.jupyter.widget-view+json": {
       "model_id": "28fe7ee1c5334ca295486a85ed48dcaa",
       "version_major": 2,
       "version_minor": 0
      },
      "text/plain": [
       "  0%|          | 0/7 [00:00<?, ?it/s]"
      ]
     },
     "metadata": {},
     "output_type": "display_data"
    },
    {
     "name": "stdout",
     "output_type": "stream",
     "text": [
      "Epoch [88/200], train_loss: -1.9477,  train_score: 0.9554,val_loss: -0.4349,  val_score: 0.4364, genus train_score0.9788, genus val_score0.9280\n"
     ]
    },
    {
     "data": {
      "application/vnd.jupyter.widget-view+json": {
       "model_id": "4bcc7f555a58421593ca651bc78c48b2",
       "version_major": 2,
       "version_minor": 0
      },
      "text/plain": [
       "  0%|          | 0/14 [00:00<?, ?it/s]"
      ]
     },
     "metadata": {},
     "output_type": "display_data"
    },
    {
     "data": {
      "application/vnd.jupyter.widget-view+json": {
       "model_id": "9826454205d8403aa4869fa7b461bf2b",
       "version_major": 2,
       "version_minor": 0
      },
      "text/plain": [
       "  0%|          | 0/7 [00:00<?, ?it/s]"
      ]
     },
     "metadata": {},
     "output_type": "display_data"
    },
    {
     "name": "stdout",
     "output_type": "stream",
     "text": [
      "Epoch [89/200], train_loss: -1.9478,  train_score: 0.9571,val_loss: -0.4208,  val_score: 0.4375, genus train_score0.9786, genus val_score0.9265\n"
     ]
    },
    {
     "data": {
      "application/vnd.jupyter.widget-view+json": {
       "model_id": "3276397de8ae4ac299121a2e3f5dc7a7",
       "version_major": 2,
       "version_minor": 0
      },
      "text/plain": [
       "  0%|          | 0/14 [00:00<?, ?it/s]"
      ]
     },
     "metadata": {},
     "output_type": "display_data"
    },
    {
     "data": {
      "application/vnd.jupyter.widget-view+json": {
       "model_id": "86db3bc39f6f4d30bfefcf90bd4b7eae",
       "version_major": 2,
       "version_minor": 0
      },
      "text/plain": [
       "  0%|          | 0/7 [00:00<?, ?it/s]"
      ]
     },
     "metadata": {},
     "output_type": "display_data"
    },
    {
     "name": "stdout",
     "output_type": "stream",
     "text": [
      "Epoch [90/200], train_loss: -1.9227,  train_score: 0.9581,val_loss: -0.4218,  val_score: 0.4374, genus train_score0.9787, genus val_score0.9257\n"
     ]
    },
    {
     "data": {
      "application/vnd.jupyter.widget-view+json": {
       "model_id": "5d9521a2f093428e9e023c12c4aeeffa",
       "version_major": 2,
       "version_minor": 0
      },
      "text/plain": [
       "  0%|          | 0/14 [00:00<?, ?it/s]"
      ]
     },
     "metadata": {},
     "output_type": "display_data"
    },
    {
     "data": {
      "application/vnd.jupyter.widget-view+json": {
       "model_id": "3ee814d164c74c44ad30034a50f49f3f",
       "version_major": 2,
       "version_minor": 0
      },
      "text/plain": [
       "  0%|          | 0/7 [00:00<?, ?it/s]"
      ]
     },
     "metadata": {},
     "output_type": "display_data"
    },
    {
     "name": "stdout",
     "output_type": "stream",
     "text": [
      "Epoch [91/200], train_loss: -1.8454,  train_score: 0.9586,val_loss: -0.4364,  val_score: 0.4378, genus train_score0.9790, genus val_score0.9262\n"
     ]
    },
    {
     "data": {
      "application/vnd.jupyter.widget-view+json": {
       "model_id": "3ca3bde29ba5494097be7987e2b93b23",
       "version_major": 2,
       "version_minor": 0
      },
      "text/plain": [
       "  0%|          | 0/14 [00:00<?, ?it/s]"
      ]
     },
     "metadata": {},
     "output_type": "display_data"
    },
    {
     "data": {
      "application/vnd.jupyter.widget-view+json": {
       "model_id": "7a63bff2df56425d9742bca88a4a512c",
       "version_major": 2,
       "version_minor": 0
      },
      "text/plain": [
       "  0%|          | 0/7 [00:00<?, ?it/s]"
      ]
     },
     "metadata": {},
     "output_type": "display_data"
    },
    {
     "name": "stdout",
     "output_type": "stream",
     "text": [
      "Epoch [92/200], train_loss: -1.8956,  train_score: 0.9596,val_loss: -0.4311,  val_score: 0.4382, genus train_score0.9788, genus val_score0.9284\n"
     ]
    },
    {
     "data": {
      "application/vnd.jupyter.widget-view+json": {
       "model_id": "073da48299d849c8b8872e79c664e6ee",
       "version_major": 2,
       "version_minor": 0
      },
      "text/plain": [
       "  0%|          | 0/14 [00:00<?, ?it/s]"
      ]
     },
     "metadata": {},
     "output_type": "display_data"
    },
    {
     "data": {
      "application/vnd.jupyter.widget-view+json": {
       "model_id": "d6a7a9da331a492e88f55e157956b11b",
       "version_major": 2,
       "version_minor": 0
      },
      "text/plain": [
       "  0%|          | 0/7 [00:00<?, ?it/s]"
      ]
     },
     "metadata": {},
     "output_type": "display_data"
    },
    {
     "name": "stdout",
     "output_type": "stream",
     "text": [
      "Epoch [93/200], train_loss: -1.8934,  train_score: 0.9602,val_loss: -0.4467,  val_score: 0.4387, genus train_score0.9788, genus val_score0.9290\n"
     ]
    },
    {
     "data": {
      "application/vnd.jupyter.widget-view+json": {
       "model_id": "f0f1546a50a14cffa4f1fc75dac3d229",
       "version_major": 2,
       "version_minor": 0
      },
      "text/plain": [
       "  0%|          | 0/14 [00:00<?, ?it/s]"
      ]
     },
     "metadata": {},
     "output_type": "display_data"
    },
    {
     "data": {
      "application/vnd.jupyter.widget-view+json": {
       "model_id": "07d1f473935c48eb855904a514b0a57b",
       "version_major": 2,
       "version_minor": 0
      },
      "text/plain": [
       "  0%|          | 0/7 [00:00<?, ?it/s]"
      ]
     },
     "metadata": {},
     "output_type": "display_data"
    },
    {
     "name": "stdout",
     "output_type": "stream",
     "text": [
      "Epoch [94/200], train_loss: -1.9995,  train_score: 0.9613,val_loss: -0.4262,  val_score: 0.4393, genus train_score0.9793, genus val_score0.9284\n"
     ]
    },
    {
     "data": {
      "application/vnd.jupyter.widget-view+json": {
       "model_id": "ea0e012c28894afbb5a573089aad1bf4",
       "version_major": 2,
       "version_minor": 0
      },
      "text/plain": [
       "  0%|          | 0/14 [00:00<?, ?it/s]"
      ]
     },
     "metadata": {},
     "output_type": "display_data"
    },
    {
     "data": {
      "application/vnd.jupyter.widget-view+json": {
       "model_id": "d68b20ab317447e6b8aa3771f24eced3",
       "version_major": 2,
       "version_minor": 0
      },
      "text/plain": [
       "  0%|          | 0/7 [00:00<?, ?it/s]"
      ]
     },
     "metadata": {},
     "output_type": "display_data"
    },
    {
     "name": "stdout",
     "output_type": "stream",
     "text": [
      "Epoch [95/200], train_loss: -1.9226,  train_score: 0.9619,val_loss: -0.4104,  val_score: 0.4395, genus train_score0.9792, genus val_score0.9285\n"
     ]
    },
    {
     "data": {
      "application/vnd.jupyter.widget-view+json": {
       "model_id": "deee1d43f3d54fe1b2158e7dc81190a4",
       "version_major": 2,
       "version_minor": 0
      },
      "text/plain": [
       "  0%|          | 0/14 [00:00<?, ?it/s]"
      ]
     },
     "metadata": {},
     "output_type": "display_data"
    },
    {
     "data": {
      "application/vnd.jupyter.widget-view+json": {
       "model_id": "c2dd6c2e03f04eb6ab88481cc58b03ec",
       "version_major": 2,
       "version_minor": 0
      },
      "text/plain": [
       "  0%|          | 0/7 [00:00<?, ?it/s]"
      ]
     },
     "metadata": {},
     "output_type": "display_data"
    },
    {
     "name": "stdout",
     "output_type": "stream",
     "text": [
      "Epoch [96/200], train_loss: -1.9485,  train_score: 0.9625,val_loss: -0.4407,  val_score: 0.4401, genus train_score0.9796, genus val_score0.9300\n"
     ]
    },
    {
     "data": {
      "application/vnd.jupyter.widget-view+json": {
       "model_id": "a562c8c05ae643e4829be4dd38d19273",
       "version_major": 2,
       "version_minor": 0
      },
      "text/plain": [
       "  0%|          | 0/14 [00:00<?, ?it/s]"
      ]
     },
     "metadata": {},
     "output_type": "display_data"
    },
    {
     "data": {
      "application/vnd.jupyter.widget-view+json": {
       "model_id": "f9abcf75fdc049aeb0a5e766bf904c9f",
       "version_major": 2,
       "version_minor": 0
      },
      "text/plain": [
       "  0%|          | 0/7 [00:00<?, ?it/s]"
      ]
     },
     "metadata": {},
     "output_type": "display_data"
    },
    {
     "name": "stdout",
     "output_type": "stream",
     "text": [
      "Epoch [97/200], train_loss: -1.9981,  train_score: 0.9628,val_loss: -0.3988,  val_score: 0.4401, genus train_score0.9804, genus val_score0.9284\n"
     ]
    },
    {
     "data": {
      "application/vnd.jupyter.widget-view+json": {
       "model_id": "a38ebfeaa0da44b8a4950853e250f596",
       "version_major": 2,
       "version_minor": 0
      },
      "text/plain": [
       "  0%|          | 0/14 [00:00<?, ?it/s]"
      ]
     },
     "metadata": {},
     "output_type": "display_data"
    },
    {
     "data": {
      "application/vnd.jupyter.widget-view+json": {
       "model_id": "f38b470d16b44abe86803abc18dee24c",
       "version_major": 2,
       "version_minor": 0
      },
      "text/plain": [
       "  0%|          | 0/7 [00:00<?, ?it/s]"
      ]
     },
     "metadata": {},
     "output_type": "display_data"
    },
    {
     "name": "stdout",
     "output_type": "stream",
     "text": [
      "Epoch [98/200], train_loss: -1.9732,  train_score: 0.9627,val_loss: -0.4435,  val_score: 0.4401, genus train_score0.9804, genus val_score0.9285\n"
     ]
    },
    {
     "data": {
      "application/vnd.jupyter.widget-view+json": {
       "model_id": "3e67b04fb75e49df83aa7662e14a99ce",
       "version_major": 2,
       "version_minor": 0
      },
      "text/plain": [
       "  0%|          | 0/14 [00:00<?, ?it/s]"
      ]
     },
     "metadata": {},
     "output_type": "display_data"
    },
    {
     "data": {
      "application/vnd.jupyter.widget-view+json": {
       "model_id": "59408381e8d84cf3afc6921a451f0578",
       "version_major": 2,
       "version_minor": 0
      },
      "text/plain": [
       "  0%|          | 0/7 [00:00<?, ?it/s]"
      ]
     },
     "metadata": {},
     "output_type": "display_data"
    },
    {
     "name": "stdout",
     "output_type": "stream",
     "text": [
      "Epoch [99/200], train_loss: -1.9739,  train_score: 0.9632,val_loss: -0.4314,  val_score: 0.4401, genus train_score0.9803, genus val_score0.9288\n"
     ]
    },
    {
     "data": {
      "application/vnd.jupyter.widget-view+json": {
       "model_id": "56a8de59c7e74469baaf0c4da0b71128",
       "version_major": 2,
       "version_minor": 0
      },
      "text/plain": [
       "  0%|          | 0/14 [00:00<?, ?it/s]"
      ]
     },
     "metadata": {},
     "output_type": "display_data"
    },
    {
     "data": {
      "application/vnd.jupyter.widget-view+json": {
       "model_id": "a792c17d0d0e49feac3832fa9198c989",
       "version_major": 2,
       "version_minor": 0
      },
      "text/plain": [
       "  0%|          | 0/7 [00:00<?, ?it/s]"
      ]
     },
     "metadata": {},
     "output_type": "display_data"
    },
    {
     "name": "stdout",
     "output_type": "stream",
     "text": [
      "Epoch [100/200], train_loss: -1.9477,  train_score: 0.9637,val_loss: -0.4296,  val_score: 0.4401, genus train_score0.9804, genus val_score0.9318\n"
     ]
    },
    {
     "data": {
      "application/vnd.jupyter.widget-view+json": {
       "model_id": "3f8fbc09d3aa488c826e18748662120d",
       "version_major": 2,
       "version_minor": 0
      },
      "text/plain": [
       "  0%|          | 0/14 [00:00<?, ?it/s]"
      ]
     },
     "metadata": {},
     "output_type": "display_data"
    },
    {
     "data": {
      "application/vnd.jupyter.widget-view+json": {
       "model_id": "ee358753f42241c2afb4a51559f6aab2",
       "version_major": 2,
       "version_minor": 0
      },
      "text/plain": [
       "  0%|          | 0/7 [00:00<?, ?it/s]"
      ]
     },
     "metadata": {},
     "output_type": "display_data"
    },
    {
     "name": "stdout",
     "output_type": "stream",
     "text": [
      "Epoch [101/200], train_loss: -1.9481,  train_score: 0.9636,val_loss: -0.4250,  val_score: 0.4414, genus train_score0.9805, genus val_score0.9313\n"
     ]
    },
    {
     "data": {
      "application/vnd.jupyter.widget-view+json": {
       "model_id": "2e1f3ca536ab4892bd88d608f709393e",
       "version_major": 2,
       "version_minor": 0
      },
      "text/plain": [
       "  0%|          | 0/14 [00:00<?, ?it/s]"
      ]
     },
     "metadata": {},
     "output_type": "display_data"
    },
    {
     "data": {
      "application/vnd.jupyter.widget-view+json": {
       "model_id": "925745b158554b4497a9ee2b341472f0",
       "version_major": 2,
       "version_minor": 0
      },
      "text/plain": [
       "  0%|          | 0/7 [00:00<?, ?it/s]"
      ]
     },
     "metadata": {},
     "output_type": "display_data"
    },
    {
     "name": "stdout",
     "output_type": "stream",
     "text": [
      "Epoch [102/200], train_loss: -1.9388,  train_score: 0.9651,val_loss: -0.4555,  val_score: 0.4417, genus train_score0.9806, genus val_score0.9311\n"
     ]
    },
    {
     "data": {
      "application/vnd.jupyter.widget-view+json": {
       "model_id": "b06675fae206411e91a7f4d393cdde07",
       "version_major": 2,
       "version_minor": 0
      },
      "text/plain": [
       "  0%|          | 0/14 [00:00<?, ?it/s]"
      ]
     },
     "metadata": {},
     "output_type": "display_data"
    },
    {
     "data": {
      "application/vnd.jupyter.widget-view+json": {
       "model_id": "d53ac611f0444e27a8c3518afde52178",
       "version_major": 2,
       "version_minor": 0
      },
      "text/plain": [
       "  0%|          | 0/7 [00:00<?, ?it/s]"
      ]
     },
     "metadata": {},
     "output_type": "display_data"
    },
    {
     "name": "stdout",
     "output_type": "stream",
     "text": [
      "Epoch [103/200], train_loss: -1.9741,  train_score: 0.9653,val_loss: -0.4529,  val_score: 0.4414, genus train_score0.9806, genus val_score0.9310\n"
     ]
    },
    {
     "data": {
      "application/vnd.jupyter.widget-view+json": {
       "model_id": "a696ef7b11954689940fefdcb64587b3",
       "version_major": 2,
       "version_minor": 0
      },
      "text/plain": [
       "  0%|          | 0/14 [00:00<?, ?it/s]"
      ]
     },
     "metadata": {},
     "output_type": "display_data"
    },
    {
     "data": {
      "application/vnd.jupyter.widget-view+json": {
       "model_id": "f39166d57ee84072b11e1065696a9ba4",
       "version_major": 2,
       "version_minor": 0
      },
      "text/plain": [
       "  0%|          | 0/7 [00:00<?, ?it/s]"
      ]
     },
     "metadata": {},
     "output_type": "display_data"
    },
    {
     "name": "stdout",
     "output_type": "stream",
     "text": [
      "Epoch [104/200], train_loss: -1.9734,  train_score: 0.9652,val_loss: -0.4641,  val_score: 0.4414, genus train_score0.9811, genus val_score0.9303\n"
     ]
    },
    {
     "data": {
      "application/vnd.jupyter.widget-view+json": {
       "model_id": "1c64d391da72461489a3a49791c62b97",
       "version_major": 2,
       "version_minor": 0
      },
      "text/plain": [
       "  0%|          | 0/14 [00:00<?, ?it/s]"
      ]
     },
     "metadata": {},
     "output_type": "display_data"
    },
    {
     "data": {
      "application/vnd.jupyter.widget-view+json": {
       "model_id": "834263dc2409447489d08eb1e2027ae1",
       "version_major": 2,
       "version_minor": 0
      },
      "text/plain": [
       "  0%|          | 0/7 [00:00<?, ?it/s]"
      ]
     },
     "metadata": {},
     "output_type": "display_data"
    },
    {
     "name": "stdout",
     "output_type": "stream",
     "text": [
      "Epoch [105/200], train_loss: -1.9738,  train_score: 0.9656,val_loss: -0.4272,  val_score: 0.4416, genus train_score0.9814, genus val_score0.9295\n"
     ]
    },
    {
     "data": {
      "application/vnd.jupyter.widget-view+json": {
       "model_id": "1f48e550e6204b2fb4b1c29adf9deffe",
       "version_major": 2,
       "version_minor": 0
      },
      "text/plain": [
       "  0%|          | 0/14 [00:00<?, ?it/s]"
      ]
     },
     "metadata": {},
     "output_type": "display_data"
    },
    {
     "data": {
      "application/vnd.jupyter.widget-view+json": {
       "model_id": "e2317e55bce347ae853dcc83880bffc1",
       "version_major": 2,
       "version_minor": 0
      },
      "text/plain": [
       "  0%|          | 0/7 [00:00<?, ?it/s]"
      ]
     },
     "metadata": {},
     "output_type": "display_data"
    },
    {
     "name": "stdout",
     "output_type": "stream",
     "text": [
      "Epoch [106/200], train_loss: -1.9996,  train_score: 0.9656,val_loss: -0.4502,  val_score: 0.4418, genus train_score0.9810, genus val_score0.9303\n"
     ]
    },
    {
     "data": {
      "application/vnd.jupyter.widget-view+json": {
       "model_id": "a27415973d354ca7945abe3441456ec1",
       "version_major": 2,
       "version_minor": 0
      },
      "text/plain": [
       "  0%|          | 0/14 [00:00<?, ?it/s]"
      ]
     },
     "metadata": {},
     "output_type": "display_data"
    },
    {
     "data": {
      "application/vnd.jupyter.widget-view+json": {
       "model_id": "e04e8acf15d24e82bb25cc627cec1f18",
       "version_major": 2,
       "version_minor": 0
      },
      "text/plain": [
       "  0%|          | 0/7 [00:00<?, ?it/s]"
      ]
     },
     "metadata": {},
     "output_type": "display_data"
    },
    {
     "name": "stdout",
     "output_type": "stream",
     "text": [
      "Epoch [107/200], train_loss: -1.9225,  train_score: 0.9659,val_loss: -0.4487,  val_score: 0.4418, genus train_score0.9811, genus val_score0.9301\n"
     ]
    },
    {
     "data": {
      "application/vnd.jupyter.widget-view+json": {
       "model_id": "34dac4e4facb406f8e8f941541ff8354",
       "version_major": 2,
       "version_minor": 0
      },
      "text/plain": [
       "  0%|          | 0/14 [00:00<?, ?it/s]"
      ]
     },
     "metadata": {},
     "output_type": "display_data"
    },
    {
     "data": {
      "application/vnd.jupyter.widget-view+json": {
       "model_id": "27ff82207f3d46a2b44d0f419d0875d2",
       "version_major": 2,
       "version_minor": 0
      },
      "text/plain": [
       "  0%|          | 0/7 [00:00<?, ?it/s]"
      ]
     },
     "metadata": {},
     "output_type": "display_data"
    },
    {
     "name": "stdout",
     "output_type": "stream",
     "text": [
      "Epoch [108/200], train_loss: -1.9993,  train_score: 0.9668,val_loss: -0.4346,  val_score: 0.4420, genus train_score0.9811, genus val_score0.9295\n"
     ]
    },
    {
     "data": {
      "application/vnd.jupyter.widget-view+json": {
       "model_id": "697d86f8b3ff4cb4a2c02a1aff8ef67e",
       "version_major": 2,
       "version_minor": 0
      },
      "text/plain": [
       "  0%|          | 0/14 [00:00<?, ?it/s]"
      ]
     },
     "metadata": {},
     "output_type": "display_data"
    },
    {
     "data": {
      "application/vnd.jupyter.widget-view+json": {
       "model_id": "0e20661fa6e641ffad3e4c7010a0d1b4",
       "version_major": 2,
       "version_minor": 0
      },
      "text/plain": [
       "  0%|          | 0/7 [00:00<?, ?it/s]"
      ]
     },
     "metadata": {},
     "output_type": "display_data"
    },
    {
     "name": "stdout",
     "output_type": "stream",
     "text": [
      "Epoch [109/200], train_loss: -1.9742,  train_score: 0.9666,val_loss: -0.4421,  val_score: 0.4421, genus train_score0.9815, genus val_score0.9281\n"
     ]
    },
    {
     "data": {
      "application/vnd.jupyter.widget-view+json": {
       "model_id": "fca0bc3475d3497aac15cee5f38ad7f8",
       "version_major": 2,
       "version_minor": 0
      },
      "text/plain": [
       "  0%|          | 0/14 [00:00<?, ?it/s]"
      ]
     },
     "metadata": {},
     "output_type": "display_data"
    },
    {
     "data": {
      "application/vnd.jupyter.widget-view+json": {
       "model_id": "9028142e459f415d9729516e532275e5",
       "version_major": 2,
       "version_minor": 0
      },
      "text/plain": [
       "  0%|          | 0/7 [00:00<?, ?it/s]"
      ]
     },
     "metadata": {},
     "output_type": "display_data"
    },
    {
     "name": "stdout",
     "output_type": "stream",
     "text": [
      "Epoch [110/200], train_loss: -1.9730,  train_score: 0.9668,val_loss: -0.4531,  val_score: 0.4421, genus train_score0.9816, genus val_score0.9291\n"
     ]
    },
    {
     "data": {
      "application/vnd.jupyter.widget-view+json": {
       "model_id": "e3143a2aea00488cbdc2790d6bb0a8ef",
       "version_major": 2,
       "version_minor": 0
      },
      "text/plain": [
       "  0%|          | 0/14 [00:00<?, ?it/s]"
      ]
     },
     "metadata": {},
     "output_type": "display_data"
    },
    {
     "data": {
      "application/vnd.jupyter.widget-view+json": {
       "model_id": "b10868792a494f7090e264637af10659",
       "version_major": 2,
       "version_minor": 0
      },
      "text/plain": [
       "  0%|          | 0/7 [00:00<?, ?it/s]"
      ]
     },
     "metadata": {},
     "output_type": "display_data"
    },
    {
     "name": "stdout",
     "output_type": "stream",
     "text": [
      "Epoch [111/200], train_loss: -1.9474,  train_score: 0.9673,val_loss: -0.4460,  val_score: 0.4420, genus train_score0.9812, genus val_score0.9290\n"
     ]
    },
    {
     "data": {
      "application/vnd.jupyter.widget-view+json": {
       "model_id": "fa4b760ebc1545adadebbfbcf8ad72f4",
       "version_major": 2,
       "version_minor": 0
      },
      "text/plain": [
       "  0%|          | 0/14 [00:00<?, ?it/s]"
      ]
     },
     "metadata": {},
     "output_type": "display_data"
    },
    {
     "data": {
      "application/vnd.jupyter.widget-view+json": {
       "model_id": "b6d4ea6253d347c4a76c3327d2e735a1",
       "version_major": 2,
       "version_minor": 0
      },
      "text/plain": [
       "  0%|          | 0/7 [00:00<?, ?it/s]"
      ]
     },
     "metadata": {},
     "output_type": "display_data"
    },
    {
     "name": "stdout",
     "output_type": "stream",
     "text": [
      "Epoch [112/200], train_loss: -1.8715,  train_score: 0.9676,val_loss: -0.4404,  val_score: 0.4426, genus train_score0.9815, genus val_score0.9283\n"
     ]
    },
    {
     "data": {
      "application/vnd.jupyter.widget-view+json": {
       "model_id": "239584c1069d4ca8acfc64efd8802b2a",
       "version_major": 2,
       "version_minor": 0
      },
      "text/plain": [
       "  0%|          | 0/14 [00:00<?, ?it/s]"
      ]
     },
     "metadata": {},
     "output_type": "display_data"
    },
    {
     "data": {
      "application/vnd.jupyter.widget-view+json": {
       "model_id": "85ad4a2c7a314255bd004ae9f12ca8eb",
       "version_major": 2,
       "version_minor": 0
      },
      "text/plain": [
       "  0%|          | 0/7 [00:00<?, ?it/s]"
      ]
     },
     "metadata": {},
     "output_type": "display_data"
    },
    {
     "name": "stdout",
     "output_type": "stream",
     "text": [
      "Epoch [113/200], train_loss: -1.9256,  train_score: 0.9678,val_loss: -0.4530,  val_score: 0.4427, genus train_score0.9815, genus val_score0.9281\n"
     ]
    },
    {
     "data": {
      "application/vnd.jupyter.widget-view+json": {
       "model_id": "3ef7de0c1dea4fd083606ea29402f685",
       "version_major": 2,
       "version_minor": 0
      },
      "text/plain": [
       "  0%|          | 0/14 [00:00<?, ?it/s]"
      ]
     },
     "metadata": {},
     "output_type": "display_data"
    },
    {
     "data": {
      "application/vnd.jupyter.widget-view+json": {
       "model_id": "4aa80e369c7c490e889bc6b95b0a583e",
       "version_major": 2,
       "version_minor": 0
      },
      "text/plain": [
       "  0%|          | 0/7 [00:00<?, ?it/s]"
      ]
     },
     "metadata": {},
     "output_type": "display_data"
    },
    {
     "name": "stdout",
     "output_type": "stream",
     "text": [
      "Epoch [114/200], train_loss: -1.9738,  train_score: 0.9677,val_loss: -0.4508,  val_score: 0.4427, genus train_score0.9814, genus val_score0.9275\n"
     ]
    },
    {
     "data": {
      "application/vnd.jupyter.widget-view+json": {
       "model_id": "09b2c1e218f0443290cd34b73674f5fc",
       "version_major": 2,
       "version_minor": 0
      },
      "text/plain": [
       "  0%|          | 0/14 [00:00<?, ?it/s]"
      ]
     },
     "metadata": {},
     "output_type": "display_data"
    },
    {
     "data": {
      "application/vnd.jupyter.widget-view+json": {
       "model_id": "061740cc3307407c90d7e6c464e2a4ec",
       "version_major": 2,
       "version_minor": 0
      },
      "text/plain": [
       "  0%|          | 0/7 [00:00<?, ?it/s]"
      ]
     },
     "metadata": {},
     "output_type": "display_data"
    },
    {
     "name": "stdout",
     "output_type": "stream",
     "text": [
      "Epoch [115/200], train_loss: -1.9481,  train_score: 0.9685,val_loss: -0.4371,  val_score: 0.4431, genus train_score0.9816, genus val_score0.9274\n"
     ]
    },
    {
     "data": {
      "application/vnd.jupyter.widget-view+json": {
       "model_id": "5556fda034c24274a5244914f8a7c0c3",
       "version_major": 2,
       "version_minor": 0
      },
      "text/plain": [
       "  0%|          | 0/14 [00:00<?, ?it/s]"
      ]
     },
     "metadata": {},
     "output_type": "display_data"
    },
    {
     "data": {
      "application/vnd.jupyter.widget-view+json": {
       "model_id": "4dbd0e09daa54a6fa5a63d057f953ab7",
       "version_major": 2,
       "version_minor": 0
      },
      "text/plain": [
       "  0%|          | 0/7 [00:00<?, ?it/s]"
      ]
     },
     "metadata": {},
     "output_type": "display_data"
    },
    {
     "name": "stdout",
     "output_type": "stream",
     "text": [
      "Epoch [116/200], train_loss: -1.9997,  train_score: 0.9696,val_loss: -0.4405,  val_score: 0.4434, genus train_score0.9816, genus val_score0.9277\n"
     ]
    },
    {
     "data": {
      "application/vnd.jupyter.widget-view+json": {
       "model_id": "f074831ed1024b4bae98856da0b590c0",
       "version_major": 2,
       "version_minor": 0
      },
      "text/plain": [
       "  0%|          | 0/14 [00:00<?, ?it/s]"
      ]
     },
     "metadata": {},
     "output_type": "display_data"
    },
    {
     "data": {
      "application/vnd.jupyter.widget-view+json": {
       "model_id": "096cc44df38845ddbc06ec096c8edd87",
       "version_major": 2,
       "version_minor": 0
      },
      "text/plain": [
       "  0%|          | 0/7 [00:00<?, ?it/s]"
      ]
     },
     "metadata": {},
     "output_type": "display_data"
    },
    {
     "name": "stdout",
     "output_type": "stream",
     "text": [
      "Epoch [117/200], train_loss: -1.9741,  train_score: 0.9693,val_loss: -0.4439,  val_score: 0.4434, genus train_score0.9815, genus val_score0.9284\n"
     ]
    },
    {
     "data": {
      "application/vnd.jupyter.widget-view+json": {
       "model_id": "29a883f1c9cd4bfcb6de640a243046ec",
       "version_major": 2,
       "version_minor": 0
      },
      "text/plain": [
       "  0%|          | 0/14 [00:00<?, ?it/s]"
      ]
     },
     "metadata": {},
     "output_type": "display_data"
    },
    {
     "data": {
      "application/vnd.jupyter.widget-view+json": {
       "model_id": "49c53e7f64084a129dd346140ce5587d",
       "version_major": 2,
       "version_minor": 0
      },
      "text/plain": [
       "  0%|          | 0/7 [00:00<?, ?it/s]"
      ]
     },
     "metadata": {},
     "output_type": "display_data"
    },
    {
     "name": "stdout",
     "output_type": "stream",
     "text": [
      "Epoch [118/200], train_loss: -1.9118,  train_score: 0.9702,val_loss: -0.4297,  val_score: 0.4444, genus train_score0.9817, genus val_score0.9285\n"
     ]
    },
    {
     "data": {
      "application/vnd.jupyter.widget-view+json": {
       "model_id": "a3ce5c6131244b1b81c96dedbf4a9055",
       "version_major": 2,
       "version_minor": 0
      },
      "text/plain": [
       "  0%|          | 0/14 [00:00<?, ?it/s]"
      ]
     },
     "metadata": {},
     "output_type": "display_data"
    },
    {
     "data": {
      "application/vnd.jupyter.widget-view+json": {
       "model_id": "e71d690860ff47b582d4b92009017827",
       "version_major": 2,
       "version_minor": 0
      },
      "text/plain": [
       "  0%|          | 0/7 [00:00<?, ?it/s]"
      ]
     },
     "metadata": {},
     "output_type": "display_data"
    },
    {
     "name": "stdout",
     "output_type": "stream",
     "text": [
      "Epoch [119/200], train_loss: -1.9992,  train_score: 0.9714,val_loss: -0.4731,  val_score: 0.4449, genus train_score0.9817, genus val_score0.9284\n"
     ]
    },
    {
     "data": {
      "application/vnd.jupyter.widget-view+json": {
       "model_id": "212346340ee4420ea9e77eeba878d4f1",
       "version_major": 2,
       "version_minor": 0
      },
      "text/plain": [
       "  0%|          | 0/14 [00:00<?, ?it/s]"
      ]
     },
     "metadata": {},
     "output_type": "display_data"
    },
    {
     "data": {
      "application/vnd.jupyter.widget-view+json": {
       "model_id": "f173712390c14d5980c5d24524ebdc74",
       "version_major": 2,
       "version_minor": 0
      },
      "text/plain": [
       "  0%|          | 0/7 [00:00<?, ?it/s]"
      ]
     },
     "metadata": {},
     "output_type": "display_data"
    },
    {
     "name": "stdout",
     "output_type": "stream",
     "text": [
      "Epoch [120/200], train_loss: -1.9732,  train_score: 0.9720,val_loss: -0.4422,  val_score: 0.4449, genus train_score0.9817, genus val_score0.9311\n"
     ]
    },
    {
     "data": {
      "application/vnd.jupyter.widget-view+json": {
       "model_id": "73e3bb538bda4ee7ae0c248150b1fbb8",
       "version_major": 2,
       "version_minor": 0
      },
      "text/plain": [
       "  0%|          | 0/14 [00:00<?, ?it/s]"
      ]
     },
     "metadata": {},
     "output_type": "display_data"
    },
    {
     "data": {
      "application/vnd.jupyter.widget-view+json": {
       "model_id": "e3d15ac3ac954f27bcfc1514e6174542",
       "version_major": 2,
       "version_minor": 0
      },
      "text/plain": [
       "  0%|          | 0/7 [00:00<?, ?it/s]"
      ]
     },
     "metadata": {},
     "output_type": "display_data"
    },
    {
     "name": "stdout",
     "output_type": "stream",
     "text": [
      "Epoch [121/200], train_loss: -1.9998,  train_score: 0.9712,val_loss: -0.4293,  val_score: 0.4447, genus train_score0.9817, genus val_score0.9290\n"
     ]
    },
    {
     "data": {
      "application/vnd.jupyter.widget-view+json": {
       "model_id": "af843734f3654db9a09f986b87533d41",
       "version_major": 2,
       "version_minor": 0
      },
      "text/plain": [
       "  0%|          | 0/14 [00:00<?, ?it/s]"
      ]
     },
     "metadata": {},
     "output_type": "display_data"
    },
    {
     "data": {
      "application/vnd.jupyter.widget-view+json": {
       "model_id": "9f8f79968c5f4bc4bf8137e4dfb72d71",
       "version_major": 2,
       "version_minor": 0
      },
      "text/plain": [
       "  0%|          | 0/7 [00:00<?, ?it/s]"
      ]
     },
     "metadata": {},
     "output_type": "display_data"
    },
    {
     "name": "stdout",
     "output_type": "stream",
     "text": [
      "Epoch [122/200], train_loss: -1.9992,  train_score: 0.9714,val_loss: -0.4434,  val_score: 0.4447, genus train_score0.9818, genus val_score0.9288\n"
     ]
    },
    {
     "data": {
      "application/vnd.jupyter.widget-view+json": {
       "model_id": "46afaf4769d44782b5172b3f22d495fb",
       "version_major": 2,
       "version_minor": 0
      },
      "text/plain": [
       "  0%|          | 0/14 [00:00<?, ?it/s]"
      ]
     },
     "metadata": {},
     "output_type": "display_data"
    },
    {
     "data": {
      "application/vnd.jupyter.widget-view+json": {
       "model_id": "e836c50fd20e45989a77b47e07b40791",
       "version_major": 2,
       "version_minor": 0
      },
      "text/plain": [
       "  0%|          | 0/7 [00:00<?, ?it/s]"
      ]
     },
     "metadata": {},
     "output_type": "display_data"
    },
    {
     "name": "stdout",
     "output_type": "stream",
     "text": [
      "Epoch [123/200], train_loss: -1.9701,  train_score: 0.9712,val_loss: -0.4430,  val_score: 0.4447, genus train_score0.9818, genus val_score0.9287\n"
     ]
    },
    {
     "data": {
      "application/vnd.jupyter.widget-view+json": {
       "model_id": "53509ed6d3874612b298cf761b2008d9",
       "version_major": 2,
       "version_minor": 0
      },
      "text/plain": [
       "  0%|          | 0/14 [00:00<?, ?it/s]"
      ]
     },
     "metadata": {},
     "output_type": "display_data"
    },
    {
     "data": {
      "application/vnd.jupyter.widget-view+json": {
       "model_id": "e36c518c75cb412b8549425fb04ec24f",
       "version_major": 2,
       "version_minor": 0
      },
      "text/plain": [
       "  0%|          | 0/7 [00:00<?, ?it/s]"
      ]
     },
     "metadata": {},
     "output_type": "display_data"
    },
    {
     "name": "stdout",
     "output_type": "stream",
     "text": [
      "Epoch [124/200], train_loss: -1.8967,  train_score: 0.9719,val_loss: -0.4384,  val_score: 0.4454, genus train_score0.9819, genus val_score0.9272\n"
     ]
    },
    {
     "data": {
      "application/vnd.jupyter.widget-view+json": {
       "model_id": "ad9a0137b2af4f27a206af174b639b55",
       "version_major": 2,
       "version_minor": 0
      },
      "text/plain": [
       "  0%|          | 0/14 [00:00<?, ?it/s]"
      ]
     },
     "metadata": {},
     "output_type": "display_data"
    },
    {
     "data": {
      "application/vnd.jupyter.widget-view+json": {
       "model_id": "cc84f379916f4132a023b300824719a2",
       "version_major": 2,
       "version_minor": 0
      },
      "text/plain": [
       "  0%|          | 0/7 [00:00<?, ?it/s]"
      ]
     },
     "metadata": {},
     "output_type": "display_data"
    },
    {
     "name": "stdout",
     "output_type": "stream",
     "text": [
      "Epoch [125/200], train_loss: -1.9739,  train_score: 0.9717,val_loss: -0.4491,  val_score: 0.4459, genus train_score0.9817, genus val_score0.9287\n"
     ]
    },
    {
     "data": {
      "application/vnd.jupyter.widget-view+json": {
       "model_id": "fae3a65636b044cfb63c5e2ff4bc60d1",
       "version_major": 2,
       "version_minor": 0
      },
      "text/plain": [
       "  0%|          | 0/14 [00:00<?, ?it/s]"
      ]
     },
     "metadata": {},
     "output_type": "display_data"
    },
    {
     "data": {
      "application/vnd.jupyter.widget-view+json": {
       "model_id": "10e3167dc65144a0a3c0ab6938a3f755",
       "version_major": 2,
       "version_minor": 0
      },
      "text/plain": [
       "  0%|          | 0/7 [00:00<?, ?it/s]"
      ]
     },
     "metadata": {},
     "output_type": "display_data"
    },
    {
     "name": "stdout",
     "output_type": "stream",
     "text": [
      "Epoch [126/200], train_loss: -1.9483,  train_score: 0.9723,val_loss: -0.4575,  val_score: 0.4457, genus train_score0.9819, genus val_score0.9300\n"
     ]
    },
    {
     "data": {
      "application/vnd.jupyter.widget-view+json": {
       "model_id": "2efbceb4ca844cb19ef9c6c865441212",
       "version_major": 2,
       "version_minor": 0
      },
      "text/plain": [
       "  0%|          | 0/14 [00:00<?, ?it/s]"
      ]
     },
     "metadata": {},
     "output_type": "display_data"
    },
    {
     "data": {
      "application/vnd.jupyter.widget-view+json": {
       "model_id": "e967052b23b44727bfc38fb3bcfd157b",
       "version_major": 2,
       "version_minor": 0
      },
      "text/plain": [
       "  0%|          | 0/7 [00:00<?, ?it/s]"
      ]
     },
     "metadata": {},
     "output_type": "display_data"
    },
    {
     "name": "stdout",
     "output_type": "stream",
     "text": [
      "Epoch [127/200], train_loss: -1.8934,  train_score: 0.9734,val_loss: -0.4427,  val_score: 0.4463, genus train_score0.9816, genus val_score0.9295\n"
     ]
    },
    {
     "data": {
      "application/vnd.jupyter.widget-view+json": {
       "model_id": "ab558eeba0b545e0934fe4dd87b2be48",
       "version_major": 2,
       "version_minor": 0
      },
      "text/plain": [
       "  0%|          | 0/14 [00:00<?, ?it/s]"
      ]
     },
     "metadata": {},
     "output_type": "display_data"
    },
    {
     "data": {
      "application/vnd.jupyter.widget-view+json": {
       "model_id": "daeeb2cdcc534892a8900dad6ab51b8a",
       "version_major": 2,
       "version_minor": 0
      },
      "text/plain": [
       "  0%|          | 0/7 [00:00<?, ?it/s]"
      ]
     },
     "metadata": {},
     "output_type": "display_data"
    },
    {
     "name": "stdout",
     "output_type": "stream",
     "text": [
      "Epoch [128/200], train_loss: -1.9129,  train_score: 0.9744,val_loss: -0.4266,  val_score: 0.4464, genus train_score0.9821, genus val_score0.9310\n"
     ]
    },
    {
     "data": {
      "application/vnd.jupyter.widget-view+json": {
       "model_id": "cc0496e7dd654740a2b07d9b1ab3be6a",
       "version_major": 2,
       "version_minor": 0
      },
      "text/plain": [
       "  0%|          | 0/14 [00:00<?, ?it/s]"
      ]
     },
     "metadata": {},
     "output_type": "display_data"
    },
    {
     "data": {
      "application/vnd.jupyter.widget-view+json": {
       "model_id": "074ac84f2258402bbb768b3c557fd58a",
       "version_major": 2,
       "version_minor": 0
      },
      "text/plain": [
       "  0%|          | 0/7 [00:00<?, ?it/s]"
      ]
     },
     "metadata": {},
     "output_type": "display_data"
    },
    {
     "name": "stdout",
     "output_type": "stream",
     "text": [
      "Epoch [129/200], train_loss: -1.8649,  train_score: 0.9730,val_loss: -0.4389,  val_score: 0.4463, genus train_score0.9819, genus val_score0.9226\n"
     ]
    },
    {
     "data": {
      "application/vnd.jupyter.widget-view+json": {
       "model_id": "c44a630b6c2a46cc9b08aed3a7f9e0b5",
       "version_major": 2,
       "version_minor": 0
      },
      "text/plain": [
       "  0%|          | 0/14 [00:00<?, ?it/s]"
      ]
     },
     "metadata": {},
     "output_type": "display_data"
    },
    {
     "data": {
      "application/vnd.jupyter.widget-view+json": {
       "model_id": "617afd52d27548868f18bedf61b72a8f",
       "version_major": 2,
       "version_minor": 0
      },
      "text/plain": [
       "  0%|          | 0/7 [00:00<?, ?it/s]"
      ]
     },
     "metadata": {},
     "output_type": "display_data"
    },
    {
     "name": "stdout",
     "output_type": "stream",
     "text": [
      "Epoch [130/200], train_loss: -1.9530,  train_score: 0.9736,val_loss: -0.4369,  val_score: 0.4464, genus train_score0.9817, genus val_score0.9234\n"
     ]
    },
    {
     "data": {
      "application/vnd.jupyter.widget-view+json": {
       "model_id": "21abc4a4a3604c33b946e0c5e357b3ce",
       "version_major": 2,
       "version_minor": 0
      },
      "text/plain": [
       "  0%|          | 0/14 [00:00<?, ?it/s]"
      ]
     },
     "metadata": {},
     "output_type": "display_data"
    },
    {
     "data": {
      "application/vnd.jupyter.widget-view+json": {
       "model_id": "72493bf463b346b4ae589159b247de69",
       "version_major": 2,
       "version_minor": 0
      },
      "text/plain": [
       "  0%|          | 0/7 [00:00<?, ?it/s]"
      ]
     },
     "metadata": {},
     "output_type": "display_data"
    },
    {
     "name": "stdout",
     "output_type": "stream",
     "text": [
      "Epoch [131/200], train_loss: -1.9737,  train_score: 0.9738,val_loss: -0.4615,  val_score: 0.4464, genus train_score0.9821, genus val_score0.9242\n"
     ]
    },
    {
     "data": {
      "application/vnd.jupyter.widget-view+json": {
       "model_id": "6fa2515732ab49f687402fa8a90ce857",
       "version_major": 2,
       "version_minor": 0
      },
      "text/plain": [
       "  0%|          | 0/14 [00:00<?, ?it/s]"
      ]
     },
     "metadata": {},
     "output_type": "display_data"
    },
    {
     "data": {
      "application/vnd.jupyter.widget-view+json": {
       "model_id": "acb232bac4be4025ab0b5c7b8b445fe1",
       "version_major": 2,
       "version_minor": 0
      },
      "text/plain": [
       "  0%|          | 0/7 [00:00<?, ?it/s]"
      ]
     },
     "metadata": {},
     "output_type": "display_data"
    },
    {
     "name": "stdout",
     "output_type": "stream",
     "text": [
      "Epoch [132/200], train_loss: -1.8967,  train_score: 0.9752,val_loss: -0.4377,  val_score: 0.4462, genus train_score0.9821, genus val_score0.9242\n"
     ]
    },
    {
     "data": {
      "application/vnd.jupyter.widget-view+json": {
       "model_id": "d604a3b623e2424a8e5b2a56e567453f",
       "version_major": 2,
       "version_minor": 0
      },
      "text/plain": [
       "  0%|          | 0/14 [00:00<?, ?it/s]"
      ]
     },
     "metadata": {},
     "output_type": "display_data"
    },
    {
     "data": {
      "application/vnd.jupyter.widget-view+json": {
       "model_id": "3a317f315a6e41c5bf01a216a5813f2c",
       "version_major": 2,
       "version_minor": 0
      },
      "text/plain": [
       "  0%|          | 0/7 [00:00<?, ?it/s]"
      ]
     },
     "metadata": {},
     "output_type": "display_data"
    },
    {
     "name": "stdout",
     "output_type": "stream",
     "text": [
      "Epoch [133/200], train_loss: -1.9741,  train_score: 0.9768,val_loss: -0.4510,  val_score: 0.4469, genus train_score0.9827, genus val_score0.9277\n"
     ]
    },
    {
     "data": {
      "application/vnd.jupyter.widget-view+json": {
       "model_id": "e9b1f7d89a6446eda255352d5d3a246d",
       "version_major": 2,
       "version_minor": 0
      },
      "text/plain": [
       "  0%|          | 0/14 [00:00<?, ?it/s]"
      ]
     },
     "metadata": {},
     "output_type": "display_data"
    },
    {
     "data": {
      "application/vnd.jupyter.widget-view+json": {
       "model_id": "bb0bc2ad886948a4a2fc0668b88e73e1",
       "version_major": 2,
       "version_minor": 0
      },
      "text/plain": [
       "  0%|          | 0/7 [00:00<?, ?it/s]"
      ]
     },
     "metadata": {},
     "output_type": "display_data"
    },
    {
     "name": "stdout",
     "output_type": "stream",
     "text": [
      "Epoch [134/200], train_loss: -1.9736,  train_score: 0.9761,val_loss: -0.4440,  val_score: 0.4466, genus train_score0.9827, genus val_score0.9281\n"
     ]
    },
    {
     "data": {
      "application/vnd.jupyter.widget-view+json": {
       "model_id": "9d26876544f54077aec8501d52687704",
       "version_major": 2,
       "version_minor": 0
      },
      "text/plain": [
       "  0%|          | 0/14 [00:00<?, ?it/s]"
      ]
     },
     "metadata": {},
     "output_type": "display_data"
    },
    {
     "data": {
      "application/vnd.jupyter.widget-view+json": {
       "model_id": "9a223fe79987433e9c1469d00b6dfac0",
       "version_major": 2,
       "version_minor": 0
      },
      "text/plain": [
       "  0%|          | 0/7 [00:00<?, ?it/s]"
      ]
     },
     "metadata": {},
     "output_type": "display_data"
    },
    {
     "name": "stdout",
     "output_type": "stream",
     "text": [
      "Epoch [135/200], train_loss: -1.9478,  train_score: 0.9766,val_loss: -0.4623,  val_score: 0.4473, genus train_score0.9827, genus val_score0.9272\n"
     ]
    },
    {
     "data": {
      "application/vnd.jupyter.widget-view+json": {
       "model_id": "7c9867b9e898465fb3b379f08065c22b",
       "version_major": 2,
       "version_minor": 0
      },
      "text/plain": [
       "  0%|          | 0/14 [00:00<?, ?it/s]"
      ]
     },
     "metadata": {},
     "output_type": "display_data"
    },
    {
     "data": {
      "application/vnd.jupyter.widget-view+json": {
       "model_id": "9885029b6461428aa3d0b66cd06dbb8a",
       "version_major": 2,
       "version_minor": 0
      },
      "text/plain": [
       "  0%|          | 0/7 [00:00<?, ?it/s]"
      ]
     },
     "metadata": {},
     "output_type": "display_data"
    },
    {
     "name": "stdout",
     "output_type": "stream",
     "text": [
      "Epoch [136/200], train_loss: -1.9961,  train_score: 0.9768,val_loss: -0.4625,  val_score: 0.4474, genus train_score0.9827, genus val_score0.9290\n"
     ]
    },
    {
     "data": {
      "application/vnd.jupyter.widget-view+json": {
       "model_id": "9bacee3d856545cc8407fe9d997154ed",
       "version_major": 2,
       "version_minor": 0
      },
      "text/plain": [
       "  0%|          | 0/14 [00:00<?, ?it/s]"
      ]
     },
     "metadata": {},
     "output_type": "display_data"
    },
    {
     "data": {
      "application/vnd.jupyter.widget-view+json": {
       "model_id": "ac848eefe70e4c34aef8f4873cce2890",
       "version_major": 2,
       "version_minor": 0
      },
      "text/plain": [
       "  0%|          | 0/7 [00:00<?, ?it/s]"
      ]
     },
     "metadata": {},
     "output_type": "display_data"
    },
    {
     "name": "stdout",
     "output_type": "stream",
     "text": [
      "Epoch [137/200], train_loss: -1.9738,  train_score: 0.9771,val_loss: -0.4293,  val_score: 0.4477, genus train_score0.9831, genus val_score0.9293\n"
     ]
    },
    {
     "data": {
      "application/vnd.jupyter.widget-view+json": {
       "model_id": "775bbd33796f49358586624a3062f821",
       "version_major": 2,
       "version_minor": 0
      },
      "text/plain": [
       "  0%|          | 0/14 [00:00<?, ?it/s]"
      ]
     },
     "metadata": {},
     "output_type": "display_data"
    },
    {
     "data": {
      "application/vnd.jupyter.widget-view+json": {
       "model_id": "9ce9bffcdf7c467a91fc9500503f8a8e",
       "version_major": 2,
       "version_minor": 0
      },
      "text/plain": [
       "  0%|          | 0/7 [00:00<?, ?it/s]"
      ]
     },
     "metadata": {},
     "output_type": "display_data"
    },
    {
     "name": "stdout",
     "output_type": "stream",
     "text": [
      "Epoch [138/200], train_loss: -1.9943,  train_score: 0.9767,val_loss: -0.4275,  val_score: 0.4479, genus train_score0.9827, genus val_score0.9293\n"
     ]
    },
    {
     "data": {
      "application/vnd.jupyter.widget-view+json": {
       "model_id": "84fed1ad0de6488bb3a80347ff99f127",
       "version_major": 2,
       "version_minor": 0
      },
      "text/plain": [
       "  0%|          | 0/14 [00:00<?, ?it/s]"
      ]
     },
     "metadata": {},
     "output_type": "display_data"
    },
    {
     "data": {
      "application/vnd.jupyter.widget-view+json": {
       "model_id": "c319e43b56fe4157b8bf04c9d874fe94",
       "version_major": 2,
       "version_minor": 0
      },
      "text/plain": [
       "  0%|          | 0/7 [00:00<?, ?it/s]"
      ]
     },
     "metadata": {},
     "output_type": "display_data"
    },
    {
     "name": "stdout",
     "output_type": "stream",
     "text": [
      "Epoch [139/200], train_loss: -1.9691,  train_score: 0.9775,val_loss: -0.4639,  val_score: 0.4479, genus train_score0.9831, genus val_score0.9301\n"
     ]
    },
    {
     "data": {
      "application/vnd.jupyter.widget-view+json": {
       "model_id": "8ac036b43df64067a2002fa500ff0f8d",
       "version_major": 2,
       "version_minor": 0
      },
      "text/plain": [
       "  0%|          | 0/14 [00:00<?, ?it/s]"
      ]
     },
     "metadata": {},
     "output_type": "display_data"
    },
    {
     "data": {
      "application/vnd.jupyter.widget-view+json": {
       "model_id": "7d3bb13465c7455ba621732c945dbabc",
       "version_major": 2,
       "version_minor": 0
      },
      "text/plain": [
       "  0%|          | 0/7 [00:00<?, ?it/s]"
      ]
     },
     "metadata": {},
     "output_type": "display_data"
    },
    {
     "name": "stdout",
     "output_type": "stream",
     "text": [
      "Epoch [140/200], train_loss: -1.9469,  train_score: 0.9778,val_loss: -0.4463,  val_score: 0.4485, genus train_score0.9831, genus val_score0.9294\n"
     ]
    },
    {
     "data": {
      "application/vnd.jupyter.widget-view+json": {
       "model_id": "c73d9435506444e88ab4b5a4c0d8f39a",
       "version_major": 2,
       "version_minor": 0
      },
      "text/plain": [
       "  0%|          | 0/14 [00:00<?, ?it/s]"
      ]
     },
     "metadata": {},
     "output_type": "display_data"
    },
    {
     "data": {
      "application/vnd.jupyter.widget-view+json": {
       "model_id": "2ee5472502ab41d1af96a0efbdf59e48",
       "version_major": 2,
       "version_minor": 0
      },
      "text/plain": [
       "  0%|          | 0/7 [00:00<?, ?it/s]"
      ]
     },
     "metadata": {},
     "output_type": "display_data"
    },
    {
     "name": "stdout",
     "output_type": "stream",
     "text": [
      "Epoch [141/200], train_loss: -1.9978,  train_score: 0.9786,val_loss: -0.4370,  val_score: 0.4483, genus train_score0.9831, genus val_score0.9278\n"
     ]
    },
    {
     "data": {
      "application/vnd.jupyter.widget-view+json": {
       "model_id": "677f1b3864fa41079e541c66fc171cb5",
       "version_major": 2,
       "version_minor": 0
      },
      "text/plain": [
       "  0%|          | 0/14 [00:00<?, ?it/s]"
      ]
     },
     "metadata": {},
     "output_type": "display_data"
    },
    {
     "data": {
      "application/vnd.jupyter.widget-view+json": {
       "model_id": "739459ae49194542a06b72c425e51949",
       "version_major": 2,
       "version_minor": 0
      },
      "text/plain": [
       "  0%|          | 0/7 [00:00<?, ?it/s]"
      ]
     },
     "metadata": {},
     "output_type": "display_data"
    },
    {
     "name": "stdout",
     "output_type": "stream",
     "text": [
      "Epoch [142/200], train_loss: -1.9729,  train_score: 0.9784,val_loss: -0.4490,  val_score: 0.4483, genus train_score0.9829, genus val_score0.9283\n"
     ]
    },
    {
     "data": {
      "application/vnd.jupyter.widget-view+json": {
       "model_id": "34edd912a3684b32a09bbbe363c5c343",
       "version_major": 2,
       "version_minor": 0
      },
      "text/plain": [
       "  0%|          | 0/14 [00:00<?, ?it/s]"
      ]
     },
     "metadata": {},
     "output_type": "display_data"
    },
    {
     "data": {
      "application/vnd.jupyter.widget-view+json": {
       "model_id": "7a92a579299446c58e6514d919d4b249",
       "version_major": 2,
       "version_minor": 0
      },
      "text/plain": [
       "  0%|          | 0/7 [00:00<?, ?it/s]"
      ]
     },
     "metadata": {},
     "output_type": "display_data"
    },
    {
     "name": "stdout",
     "output_type": "stream",
     "text": [
      "Epoch [143/200], train_loss: -1.9226,  train_score: 0.9782,val_loss: -0.4379,  val_score: 0.4485, genus train_score0.9833, genus val_score0.9281\n"
     ]
    },
    {
     "data": {
      "application/vnd.jupyter.widget-view+json": {
       "model_id": "0448a0c387d64489a681dcc8e2c076df",
       "version_major": 2,
       "version_minor": 0
      },
      "text/plain": [
       "  0%|          | 0/14 [00:00<?, ?it/s]"
      ]
     },
     "metadata": {},
     "output_type": "display_data"
    },
    {
     "data": {
      "application/vnd.jupyter.widget-view+json": {
       "model_id": "5c4830dbff8c46ed9ea3963c1c57860a",
       "version_major": 2,
       "version_minor": 0
      },
      "text/plain": [
       "  0%|          | 0/7 [00:00<?, ?it/s]"
      ]
     },
     "metadata": {},
     "output_type": "display_data"
    },
    {
     "name": "stdout",
     "output_type": "stream",
     "text": [
      "Epoch [144/200], train_loss: -1.9736,  train_score: 0.9790,val_loss: -0.4328,  val_score: 0.4486, genus train_score0.9833, genus val_score0.9306\n"
     ]
    },
    {
     "data": {
      "application/vnd.jupyter.widget-view+json": {
       "model_id": "1812ba9db0104efd85c55113c6db7e84",
       "version_major": 2,
       "version_minor": 0
      },
      "text/plain": [
       "  0%|          | 0/14 [00:00<?, ?it/s]"
      ]
     },
     "metadata": {},
     "output_type": "display_data"
    },
    {
     "data": {
      "application/vnd.jupyter.widget-view+json": {
       "model_id": "7e8618dcc86d466d9b7a34584973fd3b",
       "version_major": 2,
       "version_minor": 0
      },
      "text/plain": [
       "  0%|          | 0/7 [00:00<?, ?it/s]"
      ]
     },
     "metadata": {},
     "output_type": "display_data"
    },
    {
     "name": "stdout",
     "output_type": "stream",
     "text": [
      "Epoch [145/200], train_loss: -1.9984,  train_score: 0.9788,val_loss: -0.4680,  val_score: 0.4487, genus train_score0.9831, genus val_score0.9306\n"
     ]
    },
    {
     "data": {
      "application/vnd.jupyter.widget-view+json": {
       "model_id": "2a48dde8d54c4db68082f4681f2e1807",
       "version_major": 2,
       "version_minor": 0
      },
      "text/plain": [
       "  0%|          | 0/14 [00:00<?, ?it/s]"
      ]
     },
     "metadata": {},
     "output_type": "display_data"
    },
    {
     "data": {
      "application/vnd.jupyter.widget-view+json": {
       "model_id": "e2849993f88942898eaaf61cd0c88168",
       "version_major": 2,
       "version_minor": 0
      },
      "text/plain": [
       "  0%|          | 0/7 [00:00<?, ?it/s]"
      ]
     },
     "metadata": {},
     "output_type": "display_data"
    },
    {
     "name": "stdout",
     "output_type": "stream",
     "text": [
      "Epoch [146/200], train_loss: -1.9486,  train_score: 0.9791,val_loss: -0.4464,  val_score: 0.4487, genus train_score0.9830, genus val_score0.9301\n"
     ]
    },
    {
     "data": {
      "application/vnd.jupyter.widget-view+json": {
       "model_id": "6ecb90e7344d442b92d4ec60152d5829",
       "version_major": 2,
       "version_minor": 0
      },
      "text/plain": [
       "  0%|          | 0/14 [00:00<?, ?it/s]"
      ]
     },
     "metadata": {},
     "output_type": "display_data"
    },
    {
     "data": {
      "application/vnd.jupyter.widget-view+json": {
       "model_id": "2e26ff00e53c4e44bc0867937db8a814",
       "version_major": 2,
       "version_minor": 0
      },
      "text/plain": [
       "  0%|          | 0/7 [00:00<?, ?it/s]"
      ]
     },
     "metadata": {},
     "output_type": "display_data"
    },
    {
     "name": "stdout",
     "output_type": "stream",
     "text": [
      "Epoch [147/200], train_loss: -1.9480,  train_score: 0.9790,val_loss: -0.4357,  val_score: 0.4486, genus train_score0.9832, genus val_score0.9298\n"
     ]
    },
    {
     "data": {
      "application/vnd.jupyter.widget-view+json": {
       "model_id": "ffa0380b043f46bfb814eed403ae9b47",
       "version_major": 2,
       "version_minor": 0
      },
      "text/plain": [
       "  0%|          | 0/14 [00:00<?, ?it/s]"
      ]
     },
     "metadata": {},
     "output_type": "display_data"
    },
    {
     "data": {
      "application/vnd.jupyter.widget-view+json": {
       "model_id": "ccbc228379fb4f999ac50108d8e91b8f",
       "version_major": 2,
       "version_minor": 0
      },
      "text/plain": [
       "  0%|          | 0/7 [00:00<?, ?it/s]"
      ]
     },
     "metadata": {},
     "output_type": "display_data"
    },
    {
     "name": "stdout",
     "output_type": "stream",
     "text": [
      "Epoch [148/200], train_loss: -1.9124,  train_score: 0.9791,val_loss: -0.4668,  val_score: 0.4486, genus train_score0.9829, genus val_score0.9306\n"
     ]
    },
    {
     "data": {
      "application/vnd.jupyter.widget-view+json": {
       "model_id": "97c2ed3965ae45e5921184016150c3cd",
       "version_major": 2,
       "version_minor": 0
      },
      "text/plain": [
       "  0%|          | 0/14 [00:00<?, ?it/s]"
      ]
     },
     "metadata": {},
     "output_type": "display_data"
    },
    {
     "data": {
      "application/vnd.jupyter.widget-view+json": {
       "model_id": "0dbce19b001a4438b4baa7b65970a8a5",
       "version_major": 2,
       "version_minor": 0
      },
      "text/plain": [
       "  0%|          | 0/7 [00:00<?, ?it/s]"
      ]
     },
     "metadata": {},
     "output_type": "display_data"
    },
    {
     "name": "stdout",
     "output_type": "stream",
     "text": [
      "Epoch [149/200], train_loss: -1.9482,  train_score: 0.9769,val_loss: -0.4385,  val_score: 0.4482, genus train_score0.9831, genus val_score0.9277\n"
     ]
    },
    {
     "data": {
      "application/vnd.jupyter.widget-view+json": {
       "model_id": "a8e1f5f5797d4c7599b6fdfe5ad5bedf",
       "version_major": 2,
       "version_minor": 0
      },
      "text/plain": [
       "  0%|          | 0/14 [00:00<?, ?it/s]"
      ]
     },
     "metadata": {},
     "output_type": "display_data"
    },
    {
     "data": {
      "application/vnd.jupyter.widget-view+json": {
       "model_id": "735e66d5781741d0978ad36145889716",
       "version_major": 2,
       "version_minor": 0
      },
      "text/plain": [
       "  0%|          | 0/7 [00:00<?, ?it/s]"
      ]
     },
     "metadata": {},
     "output_type": "display_data"
    },
    {
     "name": "stdout",
     "output_type": "stream",
     "text": [
      "Epoch [150/200], train_loss: -1.9738,  train_score: 0.9791,val_loss: -0.4584,  val_score: 0.4483, genus train_score0.9833, genus val_score0.9277\n"
     ]
    },
    {
     "data": {
      "application/vnd.jupyter.widget-view+json": {
       "model_id": "8996732f3b744e4a9174df5f208c8c87",
       "version_major": 2,
       "version_minor": 0
      },
      "text/plain": [
       "  0%|          | 0/14 [00:00<?, ?it/s]"
      ]
     },
     "metadata": {},
     "output_type": "display_data"
    },
    {
     "data": {
      "application/vnd.jupyter.widget-view+json": {
       "model_id": "65ca885928874181adf998cc2bb9b761",
       "version_major": 2,
       "version_minor": 0
      },
      "text/plain": [
       "  0%|          | 0/7 [00:00<?, ?it/s]"
      ]
     },
     "metadata": {},
     "output_type": "display_data"
    },
    {
     "name": "stdout",
     "output_type": "stream",
     "text": [
      "Epoch [151/200], train_loss: -1.9104,  train_score: 0.9790,val_loss: -0.4359,  val_score: 0.4482, genus train_score0.9832, genus val_score0.9287\n"
     ]
    },
    {
     "data": {
      "application/vnd.jupyter.widget-view+json": {
       "model_id": "399fd199832d4d30a2ab58d6f1a6dd50",
       "version_major": 2,
       "version_minor": 0
      },
      "text/plain": [
       "  0%|          | 0/14 [00:00<?, ?it/s]"
      ]
     },
     "metadata": {},
     "output_type": "display_data"
    },
    {
     "data": {
      "application/vnd.jupyter.widget-view+json": {
       "model_id": "89b554070fb44e58aedd81e71e29a755",
       "version_major": 2,
       "version_minor": 0
      },
      "text/plain": [
       "  0%|          | 0/7 [00:00<?, ?it/s]"
      ]
     },
     "metadata": {},
     "output_type": "display_data"
    },
    {
     "name": "stdout",
     "output_type": "stream",
     "text": [
      "Epoch [152/200], train_loss: -1.9472,  train_score: 0.9783,val_loss: -0.4187,  val_score: 0.4483, genus train_score0.9830, genus val_score0.9287\n"
     ]
    },
    {
     "data": {
      "application/vnd.jupyter.widget-view+json": {
       "model_id": "e8955695e64c4d7491ace66cf61c5f09",
       "version_major": 2,
       "version_minor": 0
      },
      "text/plain": [
       "  0%|          | 0/14 [00:00<?, ?it/s]"
      ]
     },
     "metadata": {},
     "output_type": "display_data"
    },
    {
     "data": {
      "application/vnd.jupyter.widget-view+json": {
       "model_id": "66fc08e218b74cbba4ec3fcd94f04938",
       "version_major": 2,
       "version_minor": 0
      },
      "text/plain": [
       "  0%|          | 0/7 [00:00<?, ?it/s]"
      ]
     },
     "metadata": {},
     "output_type": "display_data"
    },
    {
     "name": "stdout",
     "output_type": "stream",
     "text": [
      "Epoch [153/200], train_loss: -1.9485,  train_score: 0.9776,val_loss: -0.4536,  val_score: 0.4483, genus train_score0.9831, genus val_score0.9270\n"
     ]
    },
    {
     "data": {
      "application/vnd.jupyter.widget-view+json": {
       "model_id": "3ec41042cee8436ea4a83782317bf2de",
       "version_major": 2,
       "version_minor": 0
      },
      "text/plain": [
       "  0%|          | 0/14 [00:00<?, ?it/s]"
      ]
     },
     "metadata": {},
     "output_type": "display_data"
    },
    {
     "data": {
      "application/vnd.jupyter.widget-view+json": {
       "model_id": "562a74b069df467abf62df1e2b3d5cb1",
       "version_major": 2,
       "version_minor": 0
      },
      "text/plain": [
       "  0%|          | 0/7 [00:00<?, ?it/s]"
      ]
     },
     "metadata": {},
     "output_type": "display_data"
    },
    {
     "name": "stdout",
     "output_type": "stream",
     "text": [
      "Epoch [154/200], train_loss: -1.9996,  train_score: 0.9785,val_loss: -0.4347,  val_score: 0.4485, genus train_score0.9831, genus val_score0.9274\n"
     ]
    },
    {
     "data": {
      "application/vnd.jupyter.widget-view+json": {
       "model_id": "42a4772ce361420292dd652d6cf2b544",
       "version_major": 2,
       "version_minor": 0
      },
      "text/plain": [
       "  0%|          | 0/14 [00:00<?, ?it/s]"
      ]
     },
     "metadata": {},
     "output_type": "display_data"
    },
    {
     "data": {
      "application/vnd.jupyter.widget-view+json": {
       "model_id": "1bc37518e1604f3b8b4cffb6a7c9a1ab",
       "version_major": 2,
       "version_minor": 0
      },
      "text/plain": [
       "  0%|          | 0/7 [00:00<?, ?it/s]"
      ]
     },
     "metadata": {},
     "output_type": "display_data"
    },
    {
     "name": "stdout",
     "output_type": "stream",
     "text": [
      "Epoch [155/200], train_loss: -1.9972,  train_score: 0.9784,val_loss: -0.4616,  val_score: 0.4487, genus train_score0.9832, genus val_score0.9280\n"
     ]
    },
    {
     "data": {
      "application/vnd.jupyter.widget-view+json": {
       "model_id": "efb3b6c0a2314ffab14d8ec23c1906ff",
       "version_major": 2,
       "version_minor": 0
      },
      "text/plain": [
       "  0%|          | 0/14 [00:00<?, ?it/s]"
      ]
     },
     "metadata": {},
     "output_type": "display_data"
    },
    {
     "data": {
      "application/vnd.jupyter.widget-view+json": {
       "model_id": "263fd24c6a3449089727768daabc7181",
       "version_major": 2,
       "version_minor": 0
      },
      "text/plain": [
       "  0%|          | 0/7 [00:00<?, ?it/s]"
      ]
     },
     "metadata": {},
     "output_type": "display_data"
    },
    {
     "name": "stdout",
     "output_type": "stream",
     "text": [
      "Epoch [156/200], train_loss: -1.9485,  train_score: 0.9797,val_loss: -0.4494,  val_score: 0.4487, genus train_score0.9833, genus val_score0.9294\n"
     ]
    },
    {
     "data": {
      "application/vnd.jupyter.widget-view+json": {
       "model_id": "2a0660f0dece429a83a7f627ef9ce86e",
       "version_major": 2,
       "version_minor": 0
      },
      "text/plain": [
       "  0%|          | 0/14 [00:00<?, ?it/s]"
      ]
     },
     "metadata": {},
     "output_type": "display_data"
    },
    {
     "data": {
      "application/vnd.jupyter.widget-view+json": {
       "model_id": "95cdc112db0f406d839f57a21aeba996",
       "version_major": 2,
       "version_minor": 0
      },
      "text/plain": [
       "  0%|          | 0/7 [00:00<?, ?it/s]"
      ]
     },
     "metadata": {},
     "output_type": "display_data"
    },
    {
     "name": "stdout",
     "output_type": "stream",
     "text": [
      "Epoch [157/200], train_loss: -1.9740,  train_score: 0.9799,val_loss: -0.4575,  val_score: 0.4489, genus train_score0.9837, genus val_score0.9280\n"
     ]
    },
    {
     "data": {
      "application/vnd.jupyter.widget-view+json": {
       "model_id": "07844730b24e492685b06878a53a23ea",
       "version_major": 2,
       "version_minor": 0
      },
      "text/plain": [
       "  0%|          | 0/14 [00:00<?, ?it/s]"
      ]
     },
     "metadata": {},
     "output_type": "display_data"
    },
    {
     "data": {
      "application/vnd.jupyter.widget-view+json": {
       "model_id": "e513bcbb37e3469690f3e9da00d9175f",
       "version_major": 2,
       "version_minor": 0
      },
      "text/plain": [
       "  0%|          | 0/7 [00:00<?, ?it/s]"
      ]
     },
     "metadata": {},
     "output_type": "display_data"
    },
    {
     "name": "stdout",
     "output_type": "stream",
     "text": [
      "Epoch [158/200], train_loss: -1.9505,  train_score: 0.9800,val_loss: -0.4272,  val_score: 0.4489, genus train_score0.9835, genus val_score0.9277\n"
     ]
    },
    {
     "data": {
      "application/vnd.jupyter.widget-view+json": {
       "model_id": "362f16ad4c5f4800974f16857ac160d1",
       "version_major": 2,
       "version_minor": 0
      },
      "text/plain": [
       "  0%|          | 0/14 [00:00<?, ?it/s]"
      ]
     },
     "metadata": {},
     "output_type": "display_data"
    },
    {
     "data": {
      "application/vnd.jupyter.widget-view+json": {
       "model_id": "2c63ce92339a4059a610a73debf1d0ae",
       "version_major": 2,
       "version_minor": 0
      },
      "text/plain": [
       "  0%|          | 0/7 [00:00<?, ?it/s]"
      ]
     },
     "metadata": {},
     "output_type": "display_data"
    },
    {
     "name": "stdout",
     "output_type": "stream",
     "text": [
      "Epoch [159/200], train_loss: -1.9485,  train_score: 0.9804,val_loss: -0.4586,  val_score: 0.4489, genus train_score0.9836, genus val_score0.9281\n"
     ]
    },
    {
     "data": {
      "application/vnd.jupyter.widget-view+json": {
       "model_id": "2f8cd2989dc34c2e9e35d03a0e4652ad",
       "version_major": 2,
       "version_minor": 0
      },
      "text/plain": [
       "  0%|          | 0/14 [00:00<?, ?it/s]"
      ]
     },
     "metadata": {},
     "output_type": "display_data"
    },
    {
     "data": {
      "application/vnd.jupyter.widget-view+json": {
       "model_id": "7506965ac81a4d1ebabd5ad5bf3a1b33",
       "version_major": 2,
       "version_minor": 0
      },
      "text/plain": [
       "  0%|          | 0/7 [00:00<?, ?it/s]"
      ]
     },
     "metadata": {},
     "output_type": "display_data"
    },
    {
     "name": "stdout",
     "output_type": "stream",
     "text": [
      "Epoch [160/200], train_loss: -1.9484,  train_score: 0.9804,val_loss: -0.4397,  val_score: 0.4486, genus train_score0.9840, genus val_score0.9293\n"
     ]
    },
    {
     "data": {
      "application/vnd.jupyter.widget-view+json": {
       "model_id": "6d15a729e93b49c6b11092dd55c243bc",
       "version_major": 2,
       "version_minor": 0
      },
      "text/plain": [
       "  0%|          | 0/14 [00:00<?, ?it/s]"
      ]
     },
     "metadata": {},
     "output_type": "display_data"
    },
    {
     "data": {
      "application/vnd.jupyter.widget-view+json": {
       "model_id": "b3f23a9c33b64e56aa85593d02ddf01d",
       "version_major": 2,
       "version_minor": 0
      },
      "text/plain": [
       "  0%|          | 0/7 [00:00<?, ?it/s]"
      ]
     },
     "metadata": {},
     "output_type": "display_data"
    },
    {
     "name": "stdout",
     "output_type": "stream",
     "text": [
      "Epoch [161/200], train_loss: -1.9471,  train_score: 0.9802,val_loss: -0.4465,  val_score: 0.4487, genus train_score0.9838, genus val_score0.9290\n"
     ]
    },
    {
     "data": {
      "application/vnd.jupyter.widget-view+json": {
       "model_id": "30a331a6d48941398478a13020beee14",
       "version_major": 2,
       "version_minor": 0
      },
      "text/plain": [
       "  0%|          | 0/14 [00:00<?, ?it/s]"
      ]
     },
     "metadata": {},
     "output_type": "display_data"
    },
    {
     "data": {
      "application/vnd.jupyter.widget-view+json": {
       "model_id": "63e46cb607c3498ba71218cac5ec6b3f",
       "version_major": 2,
       "version_minor": 0
      },
      "text/plain": [
       "  0%|          | 0/7 [00:00<?, ?it/s]"
      ]
     },
     "metadata": {},
     "output_type": "display_data"
    },
    {
     "name": "stdout",
     "output_type": "stream",
     "text": [
      "Epoch [162/200], train_loss: -1.9999,  train_score: 0.9799,val_loss: -0.4680,  val_score: 0.4487, genus train_score0.9840, genus val_score0.9295\n"
     ]
    },
    {
     "data": {
      "application/vnd.jupyter.widget-view+json": {
       "model_id": "593ba5efe3014b6c96b85782dd93d2dc",
       "version_major": 2,
       "version_minor": 0
      },
      "text/plain": [
       "  0%|          | 0/14 [00:00<?, ?it/s]"
      ]
     },
     "metadata": {},
     "output_type": "display_data"
    },
    {
     "data": {
      "application/vnd.jupyter.widget-view+json": {
       "model_id": "8339bc3094a24a32aab042df1848e6bf",
       "version_major": 2,
       "version_minor": 0
      },
      "text/plain": [
       "  0%|          | 0/7 [00:00<?, ?it/s]"
      ]
     },
     "metadata": {},
     "output_type": "display_data"
    },
    {
     "name": "stdout",
     "output_type": "stream",
     "text": [
      "Epoch [163/200], train_loss: -1.9485,  train_score: 0.9800,val_loss: -0.4683,  val_score: 0.4487, genus train_score0.9840, genus val_score0.9304\n"
     ]
    },
    {
     "data": {
      "application/vnd.jupyter.widget-view+json": {
       "model_id": "a76194cb7ed94c7d9261433245c0798e",
       "version_major": 2,
       "version_minor": 0
      },
      "text/plain": [
       "  0%|          | 0/14 [00:00<?, ?it/s]"
      ]
     },
     "metadata": {},
     "output_type": "display_data"
    },
    {
     "data": {
      "application/vnd.jupyter.widget-view+json": {
       "model_id": "5ae2fe52d8a2449abc08f4dba343ae64",
       "version_major": 2,
       "version_minor": 0
      },
      "text/plain": [
       "  0%|          | 0/7 [00:00<?, ?it/s]"
      ]
     },
     "metadata": {},
     "output_type": "display_data"
    },
    {
     "name": "stdout",
     "output_type": "stream",
     "text": [
      "Epoch [164/200], train_loss: -1.9533,  train_score: 0.9802,val_loss: -0.4386,  val_score: 0.4487, genus train_score0.9839, genus val_score0.9295\n"
     ]
    },
    {
     "data": {
      "application/vnd.jupyter.widget-view+json": {
       "model_id": "fd89926e26be481bb974d0dab2c3ccbe",
       "version_major": 2,
       "version_minor": 0
      },
      "text/plain": [
       "  0%|          | 0/14 [00:00<?, ?it/s]"
      ]
     },
     "metadata": {},
     "output_type": "display_data"
    },
    {
     "data": {
      "application/vnd.jupyter.widget-view+json": {
       "model_id": "39db17a1a1a14498ac3e7f07611c7598",
       "version_major": 2,
       "version_minor": 0
      },
      "text/plain": [
       "  0%|          | 0/7 [00:00<?, ?it/s]"
      ]
     },
     "metadata": {},
     "output_type": "display_data"
    },
    {
     "name": "stdout",
     "output_type": "stream",
     "text": [
      "Epoch [165/200], train_loss: -1.9228,  train_score: 0.9800,val_loss: -0.4132,  val_score: 0.4487, genus train_score0.9847, genus val_score0.9300\n"
     ]
    },
    {
     "data": {
      "application/vnd.jupyter.widget-view+json": {
       "model_id": "85a9c3b6284d48e48340cebc6bfe62c1",
       "version_major": 2,
       "version_minor": 0
      },
      "text/plain": [
       "  0%|          | 0/14 [00:00<?, ?it/s]"
      ]
     },
     "metadata": {},
     "output_type": "display_data"
    },
    {
     "data": {
      "application/vnd.jupyter.widget-view+json": {
       "model_id": "fdfd9b8fbe8748ec88ac417802e51132",
       "version_major": 2,
       "version_minor": 0
      },
      "text/plain": [
       "  0%|          | 0/7 [00:00<?, ?it/s]"
      ]
     },
     "metadata": {},
     "output_type": "display_data"
    },
    {
     "name": "stdout",
     "output_type": "stream",
     "text": [
      "Epoch [166/200], train_loss: -1.9733,  train_score: 0.9804,val_loss: -0.4388,  val_score: 0.4487, genus train_score0.9850, genus val_score0.9298\n"
     ]
    },
    {
     "data": {
      "application/vnd.jupyter.widget-view+json": {
       "model_id": "3f9a53c0bd57483c94bc2569385450ed",
       "version_major": 2,
       "version_minor": 0
      },
      "text/plain": [
       "  0%|          | 0/14 [00:00<?, ?it/s]"
      ]
     },
     "metadata": {},
     "output_type": "display_data"
    },
    {
     "data": {
      "application/vnd.jupyter.widget-view+json": {
       "model_id": "7548c9453db94cd1b45c1a03c7ced222",
       "version_major": 2,
       "version_minor": 0
      },
      "text/plain": [
       "  0%|          | 0/7 [00:00<?, ?it/s]"
      ]
     },
     "metadata": {},
     "output_type": "display_data"
    },
    {
     "name": "stdout",
     "output_type": "stream",
     "text": [
      "Epoch [167/200], train_loss: -1.9994,  train_score: 0.9803,val_loss: -0.4282,  val_score: 0.4489, genus train_score0.9851, genus val_score0.9300\n"
     ]
    },
    {
     "data": {
      "application/vnd.jupyter.widget-view+json": {
       "model_id": "290efe91aa934d039903c1b825638891",
       "version_major": 2,
       "version_minor": 0
      },
      "text/plain": [
       "  0%|          | 0/14 [00:00<?, ?it/s]"
      ]
     },
     "metadata": {},
     "output_type": "display_data"
    },
    {
     "data": {
      "application/vnd.jupyter.widget-view+json": {
       "model_id": "de805be6103b4a69a8546ad61bf48ef4",
       "version_major": 2,
       "version_minor": 0
      },
      "text/plain": [
       "  0%|          | 0/7 [00:00<?, ?it/s]"
      ]
     },
     "metadata": {},
     "output_type": "display_data"
    },
    {
     "name": "stdout",
     "output_type": "stream",
     "text": [
      "Epoch [168/200], train_loss: -1.9998,  train_score: 0.9804,val_loss: -0.4293,  val_score: 0.4489, genus train_score0.9850, genus val_score0.9317\n"
     ]
    },
    {
     "data": {
      "application/vnd.jupyter.widget-view+json": {
       "model_id": "c2e44f920086417bb90755af458ed6a3",
       "version_major": 2,
       "version_minor": 0
      },
      "text/plain": [
       "  0%|          | 0/14 [00:00<?, ?it/s]"
      ]
     },
     "metadata": {},
     "output_type": "display_data"
    },
    {
     "data": {
      "application/vnd.jupyter.widget-view+json": {
       "model_id": "60e5905844ce4be288f274daf3f7e2d6",
       "version_major": 2,
       "version_minor": 0
      },
      "text/plain": [
       "  0%|          | 0/7 [00:00<?, ?it/s]"
      ]
     },
     "metadata": {},
     "output_type": "display_data"
    },
    {
     "name": "stdout",
     "output_type": "stream",
     "text": [
      "Epoch [169/200], train_loss: -1.9111,  train_score: 0.9801,val_loss: -0.4584,  val_score: 0.4486, genus train_score0.9847, genus val_score0.9288\n"
     ]
    },
    {
     "data": {
      "application/vnd.jupyter.widget-view+json": {
       "model_id": "01e9e5b355d640b684de7742b4b6b2af",
       "version_major": 2,
       "version_minor": 0
      },
      "text/plain": [
       "  0%|          | 0/14 [00:00<?, ?it/s]"
      ]
     },
     "metadata": {},
     "output_type": "display_data"
    },
    {
     "data": {
      "application/vnd.jupyter.widget-view+json": {
       "model_id": "eaf5beacd94543dfbbed175bd11658b4",
       "version_major": 2,
       "version_minor": 0
      },
      "text/plain": [
       "  0%|          | 0/7 [00:00<?, ?it/s]"
      ]
     },
     "metadata": {},
     "output_type": "display_data"
    },
    {
     "name": "stdout",
     "output_type": "stream",
     "text": [
      "Epoch [170/200], train_loss: -1.9955,  train_score: 0.9800,val_loss: -0.4407,  val_score: 0.4486, genus train_score0.9849, genus val_score0.9285\n"
     ]
    },
    {
     "data": {
      "application/vnd.jupyter.widget-view+json": {
       "model_id": "eb7253ca08cf4445959331c1f364d71e",
       "version_major": 2,
       "version_minor": 0
      },
      "text/plain": [
       "  0%|          | 0/14 [00:00<?, ?it/s]"
      ]
     },
     "metadata": {},
     "output_type": "display_data"
    },
    {
     "data": {
      "application/vnd.jupyter.widget-view+json": {
       "model_id": "3831ee55a8e34b10a6067e089d0733cf",
       "version_major": 2,
       "version_minor": 0
      },
      "text/plain": [
       "  0%|          | 0/7 [00:00<?, ?it/s]"
      ]
     },
     "metadata": {},
     "output_type": "display_data"
    },
    {
     "name": "stdout",
     "output_type": "stream",
     "text": [
      "Epoch [171/200], train_loss: -1.9475,  train_score: 0.9798,val_loss: -0.4654,  val_score: 0.4489, genus train_score0.9849, genus val_score0.9278\n"
     ]
    },
    {
     "data": {
      "application/vnd.jupyter.widget-view+json": {
       "model_id": "d3d1d71dd4914b33aeff227429ac76c3",
       "version_major": 2,
       "version_minor": 0
      },
      "text/plain": [
       "  0%|          | 0/14 [00:00<?, ?it/s]"
      ]
     },
     "metadata": {},
     "output_type": "display_data"
    },
    {
     "data": {
      "application/vnd.jupyter.widget-view+json": {
       "model_id": "0f79ad0c5ab247a6b13ecd9f895c902f",
       "version_major": 2,
       "version_minor": 0
      },
      "text/plain": [
       "  0%|          | 0/7 [00:00<?, ?it/s]"
      ]
     },
     "metadata": {},
     "output_type": "display_data"
    },
    {
     "name": "stdout",
     "output_type": "stream",
     "text": [
      "Epoch [172/200], train_loss: -1.9486,  train_score: 0.9804,val_loss: -0.4393,  val_score: 0.4492, genus train_score0.9850, genus val_score0.9290\n"
     ]
    },
    {
     "data": {
      "application/vnd.jupyter.widget-view+json": {
       "model_id": "a456093c5d2149118de19f64c56ff15a",
       "version_major": 2,
       "version_minor": 0
      },
      "text/plain": [
       "  0%|          | 0/14 [00:00<?, ?it/s]"
      ]
     },
     "metadata": {},
     "output_type": "display_data"
    },
    {
     "data": {
      "application/vnd.jupyter.widget-view+json": {
       "model_id": "b4da97099b21409aac7ab4a6a274ae88",
       "version_major": 2,
       "version_minor": 0
      },
      "text/plain": [
       "  0%|          | 0/7 [00:00<?, ?it/s]"
      ]
     },
     "metadata": {},
     "output_type": "display_data"
    },
    {
     "name": "stdout",
     "output_type": "stream",
     "text": [
      "Epoch [173/200], train_loss: -1.9484,  train_score: 0.9805,val_loss: -0.4230,  val_score: 0.4492, genus train_score0.9849, genus val_score0.9290\n"
     ]
    },
    {
     "data": {
      "application/vnd.jupyter.widget-view+json": {
       "model_id": "7d059ce7b1674b9496a819c4c929c1d2",
       "version_major": 2,
       "version_minor": 0
      },
      "text/plain": [
       "  0%|          | 0/14 [00:00<?, ?it/s]"
      ]
     },
     "metadata": {},
     "output_type": "display_data"
    },
    {
     "data": {
      "application/vnd.jupyter.widget-view+json": {
       "model_id": "42260aa63806482fa3a4f95a7979a1a3",
       "version_major": 2,
       "version_minor": 0
      },
      "text/plain": [
       "  0%|          | 0/7 [00:00<?, ?it/s]"
      ]
     },
     "metadata": {},
     "output_type": "display_data"
    },
    {
     "name": "stdout",
     "output_type": "stream",
     "text": [
      "Epoch [174/200], train_loss: -1.9190,  train_score: 0.9807,val_loss: -0.4456,  val_score: 0.4490, genus train_score0.9851, genus val_score0.9291\n"
     ]
    },
    {
     "data": {
      "application/vnd.jupyter.widget-view+json": {
       "model_id": "3b5056035cef4fb8995929a36724e42d",
       "version_major": 2,
       "version_minor": 0
      },
      "text/plain": [
       "  0%|          | 0/14 [00:00<?, ?it/s]"
      ]
     },
     "metadata": {},
     "output_type": "display_data"
    },
    {
     "data": {
      "application/vnd.jupyter.widget-view+json": {
       "model_id": "188819333379402687265dcf4f3d7044",
       "version_major": 2,
       "version_minor": 0
      },
      "text/plain": [
       "  0%|          | 0/7 [00:00<?, ?it/s]"
      ]
     },
     "metadata": {},
     "output_type": "display_data"
    },
    {
     "name": "stdout",
     "output_type": "stream",
     "text": [
      "Epoch [175/200], train_loss: -1.9380,  train_score: 0.9810,val_loss: -0.4455,  val_score: 0.4492, genus train_score0.9851, genus val_score0.9300\n"
     ]
    },
    {
     "data": {
      "application/vnd.jupyter.widget-view+json": {
       "model_id": "28976561809249b2839579aff7b82e43",
       "version_major": 2,
       "version_minor": 0
      },
      "text/plain": [
       "  0%|          | 0/14 [00:00<?, ?it/s]"
      ]
     },
     "metadata": {},
     "output_type": "display_data"
    },
    {
     "data": {
      "application/vnd.jupyter.widget-view+json": {
       "model_id": "6a62f5c619714fcc88f32494fbecbcdb",
       "version_major": 2,
       "version_minor": 0
      },
      "text/plain": [
       "  0%|          | 0/7 [00:00<?, ?it/s]"
      ]
     },
     "metadata": {},
     "output_type": "display_data"
    },
    {
     "name": "stdout",
     "output_type": "stream",
     "text": [
      "Epoch [176/200], train_loss: -1.9483,  train_score: 0.9798,val_loss: -0.4367,  val_score: 0.4493, genus train_score0.9848, genus val_score0.9307\n"
     ]
    },
    {
     "data": {
      "application/vnd.jupyter.widget-view+json": {
       "model_id": "fe6e7b3fb66249d79cef08ae70c0bb7e",
       "version_major": 2,
       "version_minor": 0
      },
      "text/plain": [
       "  0%|          | 0/14 [00:00<?, ?it/s]"
      ]
     },
     "metadata": {},
     "output_type": "display_data"
    },
    {
     "data": {
      "application/vnd.jupyter.widget-view+json": {
       "model_id": "1af3923a66c54431aa435daf77d2b9e6",
       "version_major": 2,
       "version_minor": 0
      },
      "text/plain": [
       "  0%|          | 0/7 [00:00<?, ?it/s]"
      ]
     },
     "metadata": {},
     "output_type": "display_data"
    },
    {
     "name": "stdout",
     "output_type": "stream",
     "text": [
      "Epoch [177/200], train_loss: -1.8972,  train_score: 0.9803,val_loss: -0.4375,  val_score: 0.4492, genus train_score0.9848, genus val_score0.9300\n"
     ]
    },
    {
     "data": {
      "application/vnd.jupyter.widget-view+json": {
       "model_id": "09b14c3692274b658f5b315b340d85b5",
       "version_major": 2,
       "version_minor": 0
      },
      "text/plain": [
       "  0%|          | 0/14 [00:00<?, ?it/s]"
      ]
     },
     "metadata": {},
     "output_type": "display_data"
    },
    {
     "data": {
      "application/vnd.jupyter.widget-view+json": {
       "model_id": "19e31e1756634855bf4d2ab39e4ca920",
       "version_major": 2,
       "version_minor": 0
      },
      "text/plain": [
       "  0%|          | 0/7 [00:00<?, ?it/s]"
      ]
     },
     "metadata": {},
     "output_type": "display_data"
    },
    {
     "name": "stdout",
     "output_type": "stream",
     "text": [
      "Epoch [178/200], train_loss: -1.9486,  train_score: 0.9808,val_loss: -0.4564,  val_score: 0.4492, genus train_score0.9847, genus val_score0.9303\n"
     ]
    },
    {
     "data": {
      "application/vnd.jupyter.widget-view+json": {
       "model_id": "bafa87250f22489fb40d8a17f1600b55",
       "version_major": 2,
       "version_minor": 0
      },
      "text/plain": [
       "  0%|          | 0/14 [00:00<?, ?it/s]"
      ]
     },
     "metadata": {},
     "output_type": "display_data"
    },
    {
     "data": {
      "application/vnd.jupyter.widget-view+json": {
       "model_id": "40587acbd98a40cf849f2b7d91cbf8c7",
       "version_major": 2,
       "version_minor": 0
      },
      "text/plain": [
       "  0%|          | 0/7 [00:00<?, ?it/s]"
      ]
     },
     "metadata": {},
     "output_type": "display_data"
    },
    {
     "name": "stdout",
     "output_type": "stream",
     "text": [
      "Epoch [179/200], train_loss: -1.9742,  train_score: 0.9807,val_loss: -0.4683,  val_score: 0.4492, genus train_score0.9847, genus val_score0.9303\n"
     ]
    },
    {
     "data": {
      "application/vnd.jupyter.widget-view+json": {
       "model_id": "ef39d936b1234e08800357bdc0b5a377",
       "version_major": 2,
       "version_minor": 0
      },
      "text/plain": [
       "  0%|          | 0/14 [00:00<?, ?it/s]"
      ]
     },
     "metadata": {},
     "output_type": "display_data"
    },
    {
     "data": {
      "application/vnd.jupyter.widget-view+json": {
       "model_id": "94d04dd0cde3483f87f85e730268d23a",
       "version_major": 2,
       "version_minor": 0
      },
      "text/plain": [
       "  0%|          | 0/7 [00:00<?, ?it/s]"
      ]
     },
     "metadata": {},
     "output_type": "display_data"
    },
    {
     "name": "stdout",
     "output_type": "stream",
     "text": [
      "Epoch [180/200], train_loss: -1.9997,  train_score: 0.9809,val_loss: -0.4608,  val_score: 0.4487, genus train_score0.9850, genus val_score0.9313\n"
     ]
    },
    {
     "data": {
      "application/vnd.jupyter.widget-view+json": {
       "model_id": "fcabb941530445d4b4732ed603d9a727",
       "version_major": 2,
       "version_minor": 0
      },
      "text/plain": [
       "  0%|          | 0/14 [00:00<?, ?it/s]"
      ]
     },
     "metadata": {},
     "output_type": "display_data"
    },
    {
     "data": {
      "application/vnd.jupyter.widget-view+json": {
       "model_id": "7d5f8a78a44947d4a4e3bb5b21ae488e",
       "version_major": 2,
       "version_minor": 0
      },
      "text/plain": [
       "  0%|          | 0/7 [00:00<?, ?it/s]"
      ]
     },
     "metadata": {},
     "output_type": "display_data"
    },
    {
     "name": "stdout",
     "output_type": "stream",
     "text": [
      "Epoch [181/200], train_loss: -1.9480,  train_score: 0.9811,val_loss: -0.4447,  val_score: 0.4492, genus train_score0.9849, genus val_score0.9308\n"
     ]
    },
    {
     "data": {
      "application/vnd.jupyter.widget-view+json": {
       "model_id": "d5f99168a7974215b0124e770192565f",
       "version_major": 2,
       "version_minor": 0
      },
      "text/plain": [
       "  0%|          | 0/14 [00:00<?, ?it/s]"
      ]
     },
     "metadata": {},
     "output_type": "display_data"
    },
    {
     "data": {
      "application/vnd.jupyter.widget-view+json": {
       "model_id": "48575ac358bb4c14926a13f7decbf639",
       "version_major": 2,
       "version_minor": 0
      },
      "text/plain": [
       "  0%|          | 0/7 [00:00<?, ?it/s]"
      ]
     },
     "metadata": {},
     "output_type": "display_data"
    },
    {
     "name": "stdout",
     "output_type": "stream",
     "text": [
      "Epoch [182/200], train_loss: -1.9480,  train_score: 0.9808,val_loss: -0.4737,  val_score: 0.4489, genus train_score0.9850, genus val_score0.9304\n"
     ]
    },
    {
     "data": {
      "application/vnd.jupyter.widget-view+json": {
       "model_id": "cc2317cb964049d0ae7b5e4565735e80",
       "version_major": 2,
       "version_minor": 0
      },
      "text/plain": [
       "  0%|          | 0/14 [00:00<?, ?it/s]"
      ]
     },
     "metadata": {},
     "output_type": "display_data"
    },
    {
     "data": {
      "application/vnd.jupyter.widget-view+json": {
       "model_id": "9d0b42550a284424b30f947295d2cb1f",
       "version_major": 2,
       "version_minor": 0
      },
      "text/plain": [
       "  0%|          | 0/7 [00:00<?, ?it/s]"
      ]
     },
     "metadata": {},
     "output_type": "display_data"
    },
    {
     "name": "stdout",
     "output_type": "stream",
     "text": [
      "Epoch [183/200], train_loss: -1.9742,  train_score: 0.9812,val_loss: -0.4615,  val_score: 0.4492, genus train_score0.9850, genus val_score0.9303\n"
     ]
    },
    {
     "data": {
      "application/vnd.jupyter.widget-view+json": {
       "model_id": "c49ca0d41fe6445484693748ff9cee97",
       "version_major": 2,
       "version_minor": 0
      },
      "text/plain": [
       "  0%|          | 0/14 [00:00<?, ?it/s]"
      ]
     },
     "metadata": {},
     "output_type": "display_data"
    },
    {
     "data": {
      "application/vnd.jupyter.widget-view+json": {
       "model_id": "8b427992044946baa3d0e4205c498ebb",
       "version_major": 2,
       "version_minor": 0
      },
      "text/plain": [
       "  0%|          | 0/7 [00:00<?, ?it/s]"
      ]
     },
     "metadata": {},
     "output_type": "display_data"
    },
    {
     "name": "stdout",
     "output_type": "stream",
     "text": [
      "Epoch [184/200], train_loss: -1.8960,  train_score: 0.9811,val_loss: -0.4576,  val_score: 0.4492, genus train_score0.9851, genus val_score0.9287\n"
     ]
    },
    {
     "data": {
      "application/vnd.jupyter.widget-view+json": {
       "model_id": "541811160c824be2a6c203cacff2edb8",
       "version_major": 2,
       "version_minor": 0
      },
      "text/plain": [
       "  0%|          | 0/14 [00:00<?, ?it/s]"
      ]
     },
     "metadata": {},
     "output_type": "display_data"
    },
    {
     "data": {
      "application/vnd.jupyter.widget-view+json": {
       "model_id": "a0d3f4e318d24c03861cc7dbd1cf17f8",
       "version_major": 2,
       "version_minor": 0
      },
      "text/plain": [
       "  0%|          | 0/7 [00:00<?, ?it/s]"
      ]
     },
     "metadata": {},
     "output_type": "display_data"
    },
    {
     "name": "stdout",
     "output_type": "stream",
     "text": [
      "Epoch [185/200], train_loss: -1.9742,  train_score: 0.9811,val_loss: -0.4655,  val_score: 0.4492, genus train_score0.9849, genus val_score0.9278\n"
     ]
    },
    {
     "data": {
      "application/vnd.jupyter.widget-view+json": {
       "model_id": "3ee575dc22e743cf9fce93e1350ae768",
       "version_major": 2,
       "version_minor": 0
      },
      "text/plain": [
       "  0%|          | 0/14 [00:00<?, ?it/s]"
      ]
     },
     "metadata": {},
     "output_type": "display_data"
    },
    {
     "data": {
      "application/vnd.jupyter.widget-view+json": {
       "model_id": "04d31086cae34c0bb8b8aef87b497e81",
       "version_major": 2,
       "version_minor": 0
      },
      "text/plain": [
       "  0%|          | 0/7 [00:00<?, ?it/s]"
      ]
     },
     "metadata": {},
     "output_type": "display_data"
    },
    {
     "name": "stdout",
     "output_type": "stream",
     "text": [
      "Epoch [186/200], train_loss: -1.9238,  train_score: 0.9806,val_loss: -0.4676,  val_score: 0.4492, genus train_score0.9850, genus val_score0.9287\n"
     ]
    },
    {
     "data": {
      "application/vnd.jupyter.widget-view+json": {
       "model_id": "e9d29cf8dab141208a8ca0f25522b3d6",
       "version_major": 2,
       "version_minor": 0
      },
      "text/plain": [
       "  0%|          | 0/14 [00:00<?, ?it/s]"
      ]
     },
     "metadata": {},
     "output_type": "display_data"
    },
    {
     "data": {
      "application/vnd.jupyter.widget-view+json": {
       "model_id": "1a29655ac6ec47688ff755d08fa84c15",
       "version_major": 2,
       "version_minor": 0
      },
      "text/plain": [
       "  0%|          | 0/7 [00:00<?, ?it/s]"
      ]
     },
     "metadata": {},
     "output_type": "display_data"
    },
    {
     "name": "stdout",
     "output_type": "stream",
     "text": [
      "Epoch [187/200], train_loss: -1.9741,  train_score: 0.9813,val_loss: -0.4082,  val_score: 0.4493, genus train_score0.9849, genus val_score0.9285\n"
     ]
    },
    {
     "data": {
      "application/vnd.jupyter.widget-view+json": {
       "model_id": "4278d66e59904e88bce8d69bdb62320e",
       "version_major": 2,
       "version_minor": 0
      },
      "text/plain": [
       "  0%|          | 0/14 [00:00<?, ?it/s]"
      ]
     },
     "metadata": {},
     "output_type": "display_data"
    },
    {
     "data": {
      "application/vnd.jupyter.widget-view+json": {
       "model_id": "529b30818b3c44b59fa12b66a1c1821c",
       "version_major": 2,
       "version_minor": 0
      },
      "text/plain": [
       "  0%|          | 0/7 [00:00<?, ?it/s]"
      ]
     },
     "metadata": {},
     "output_type": "display_data"
    },
    {
     "name": "stdout",
     "output_type": "stream",
     "text": [
      "Epoch [188/200], train_loss: -1.9485,  train_score: 0.9808,val_loss: -0.4440,  val_score: 0.4490, genus train_score0.9850, genus val_score0.9274\n"
     ]
    },
    {
     "data": {
      "application/vnd.jupyter.widget-view+json": {
       "model_id": "72b463961bd6498fa1fca08d9160d3fc",
       "version_major": 2,
       "version_minor": 0
      },
      "text/plain": [
       "  0%|          | 0/14 [00:00<?, ?it/s]"
      ]
     },
     "metadata": {},
     "output_type": "display_data"
    },
    {
     "data": {
      "application/vnd.jupyter.widget-view+json": {
       "model_id": "def739bbb854494ca8bd5d91df81285a",
       "version_major": 2,
       "version_minor": 0
      },
      "text/plain": [
       "  0%|          | 0/7 [00:00<?, ?it/s]"
      ]
     },
     "metadata": {},
     "output_type": "display_data"
    },
    {
     "name": "stdout",
     "output_type": "stream",
     "text": [
      "Epoch [189/200], train_loss: -1.9998,  train_score: 0.9809,val_loss: -0.4618,  val_score: 0.4493, genus train_score0.9851, genus val_score0.9278\n"
     ]
    },
    {
     "data": {
      "application/vnd.jupyter.widget-view+json": {
       "model_id": "46cc926cc164495dad0ef23cfe6acd83",
       "version_major": 2,
       "version_minor": 0
      },
      "text/plain": [
       "  0%|          | 0/14 [00:00<?, ?it/s]"
      ]
     },
     "metadata": {},
     "output_type": "display_data"
    },
    {
     "data": {
      "application/vnd.jupyter.widget-view+json": {
       "model_id": "26cb4088a8ef49c3879162f2a9a09bbb",
       "version_major": 2,
       "version_minor": 0
      },
      "text/plain": [
       "  0%|          | 0/7 [00:00<?, ?it/s]"
      ]
     },
     "metadata": {},
     "output_type": "display_data"
    },
    {
     "name": "stdout",
     "output_type": "stream",
     "text": [
      "Epoch [190/200], train_loss: -1.9999,  train_score: 0.9807,val_loss: -0.4503,  val_score: 0.4496, genus train_score0.9851, genus val_score0.9283\n"
     ]
    },
    {
     "data": {
      "application/vnd.jupyter.widget-view+json": {
       "model_id": "3e2181856c614d44b3c734b333c9373a",
       "version_major": 2,
       "version_minor": 0
      },
      "text/plain": [
       "  0%|          | 0/14 [00:00<?, ?it/s]"
      ]
     },
     "metadata": {},
     "output_type": "display_data"
    },
    {
     "data": {
      "application/vnd.jupyter.widget-view+json": {
       "model_id": "0f16eb019f6d4df4b8a7a2246e680ac3",
       "version_major": 2,
       "version_minor": 0
      },
      "text/plain": [
       "  0%|          | 0/7 [00:00<?, ?it/s]"
      ]
     },
     "metadata": {},
     "output_type": "display_data"
    },
    {
     "name": "stdout",
     "output_type": "stream",
     "text": [
      "Epoch [191/200], train_loss: -1.9960,  train_score: 0.9811,val_loss: -0.4313,  val_score: 0.4496, genus train_score0.9850, genus val_score0.9277\n"
     ]
    },
    {
     "data": {
      "application/vnd.jupyter.widget-view+json": {
       "model_id": "a4ba8e8012754d508826581fd0fb45d7",
       "version_major": 2,
       "version_minor": 0
      },
      "text/plain": [
       "  0%|          | 0/14 [00:00<?, ?it/s]"
      ]
     },
     "metadata": {},
     "output_type": "display_data"
    },
    {
     "data": {
      "application/vnd.jupyter.widget-view+json": {
       "model_id": "4906aba1563f42908bfc2c0f8cfff524",
       "version_major": 2,
       "version_minor": 0
      },
      "text/plain": [
       "  0%|          | 0/7 [00:00<?, ?it/s]"
      ]
     },
     "metadata": {},
     "output_type": "display_data"
    },
    {
     "name": "stdout",
     "output_type": "stream",
     "text": [
      "Epoch [192/200], train_loss: -1.9731,  train_score: 0.9801,val_loss: -0.4738,  val_score: 0.4485, genus train_score0.9850, genus val_score0.9264\n"
     ]
    },
    {
     "data": {
      "application/vnd.jupyter.widget-view+json": {
       "model_id": "a3efc329c66341b0b1f7679b57808e60",
       "version_major": 2,
       "version_minor": 0
      },
      "text/plain": [
       "  0%|          | 0/14 [00:00<?, ?it/s]"
      ]
     },
     "metadata": {},
     "output_type": "display_data"
    },
    {
     "data": {
      "application/vnd.jupyter.widget-view+json": {
       "model_id": "5b232abdaf9a448f9e03dd6e22b78cd8",
       "version_major": 2,
       "version_minor": 0
      },
      "text/plain": [
       "  0%|          | 0/7 [00:00<?, ?it/s]"
      ]
     },
     "metadata": {},
     "output_type": "display_data"
    },
    {
     "name": "stdout",
     "output_type": "stream",
     "text": [
      "Epoch [193/200], train_loss: -1.9739,  train_score: 0.9801,val_loss: -0.4564,  val_score: 0.4490, genus train_score0.9850, genus val_score0.9267\n"
     ]
    },
    {
     "data": {
      "application/vnd.jupyter.widget-view+json": {
       "model_id": "11aab31875a04411a12a0bd0905eb862",
       "version_major": 2,
       "version_minor": 0
      },
      "text/plain": [
       "  0%|          | 0/14 [00:00<?, ?it/s]"
      ]
     },
     "metadata": {},
     "output_type": "display_data"
    },
    {
     "data": {
      "application/vnd.jupyter.widget-view+json": {
       "model_id": "8fbc0c9b71f341c887777494491049f6",
       "version_major": 2,
       "version_minor": 0
      },
      "text/plain": [
       "  0%|          | 0/7 [00:00<?, ?it/s]"
      ]
     },
     "metadata": {},
     "output_type": "display_data"
    },
    {
     "name": "stdout",
     "output_type": "stream",
     "text": [
      "Epoch [194/200], train_loss: -1.9996,  train_score: 0.9811,val_loss: -0.4247,  val_score: 0.4492, genus train_score0.9850, genus val_score0.9280\n"
     ]
    },
    {
     "data": {
      "application/vnd.jupyter.widget-view+json": {
       "model_id": "77c325ae9f18435d9fb5330bba6d6b38",
       "version_major": 2,
       "version_minor": 0
      },
      "text/plain": [
       "  0%|          | 0/14 [00:00<?, ?it/s]"
      ]
     },
     "metadata": {},
     "output_type": "display_data"
    },
    {
     "data": {
      "application/vnd.jupyter.widget-view+json": {
       "model_id": "0e4b75a3d5c6492797ac76dca1ffde6a",
       "version_major": 2,
       "version_minor": 0
      },
      "text/plain": [
       "  0%|          | 0/7 [00:00<?, ?it/s]"
      ]
     },
     "metadata": {},
     "output_type": "display_data"
    },
    {
     "name": "stdout",
     "output_type": "stream",
     "text": [
      "Epoch [195/200], train_loss: -1.9999,  train_score: 0.9808,val_loss: -0.4419,  val_score: 0.4492, genus train_score0.9849, genus val_score0.9288\n"
     ]
    },
    {
     "data": {
      "application/vnd.jupyter.widget-view+json": {
       "model_id": "133312b9d5a04c94b03d651ebbbe323d",
       "version_major": 2,
       "version_minor": 0
      },
      "text/plain": [
       "  0%|          | 0/14 [00:00<?, ?it/s]"
      ]
     },
     "metadata": {},
     "output_type": "display_data"
    },
    {
     "data": {
      "application/vnd.jupyter.widget-view+json": {
       "model_id": "ea1c748e1e244f629bb9213403c87797",
       "version_major": 2,
       "version_minor": 0
      },
      "text/plain": [
       "  0%|          | 0/7 [00:00<?, ?it/s]"
      ]
     },
     "metadata": {},
     "output_type": "display_data"
    },
    {
     "name": "stdout",
     "output_type": "stream",
     "text": [
      "Epoch [196/200], train_loss: -1.9228,  train_score: 0.9812,val_loss: -0.4576,  val_score: 0.4493, genus train_score0.9849, genus val_score0.9300\n"
     ]
    },
    {
     "data": {
      "application/vnd.jupyter.widget-view+json": {
       "model_id": "65ccbaf8afa745678ddeb0a8b76748b7",
       "version_major": 2,
       "version_minor": 0
      },
      "text/plain": [
       "  0%|          | 0/14 [00:00<?, ?it/s]"
      ]
     },
     "metadata": {},
     "output_type": "display_data"
    },
    {
     "data": {
      "application/vnd.jupyter.widget-view+json": {
       "model_id": "4682e9e19de149eda4f81802580a05ad",
       "version_major": 2,
       "version_minor": 0
      },
      "text/plain": [
       "  0%|          | 0/7 [00:00<?, ?it/s]"
      ]
     },
     "metadata": {},
     "output_type": "display_data"
    },
    {
     "name": "stdout",
     "output_type": "stream",
     "text": [
      "Epoch [197/200], train_loss: -1.9738,  train_score: 0.9808,val_loss: -0.4444,  val_score: 0.4495, genus train_score0.9850, genus val_score0.9304\n"
     ]
    },
    {
     "data": {
      "application/vnd.jupyter.widget-view+json": {
       "model_id": "29c918c7bba34ac6bc2bdf15c08e10ed",
       "version_major": 2,
       "version_minor": 0
      },
      "text/plain": [
       "  0%|          | 0/14 [00:00<?, ?it/s]"
      ]
     },
     "metadata": {},
     "output_type": "display_data"
    },
    {
     "data": {
      "application/vnd.jupyter.widget-view+json": {
       "model_id": "61e1d0a25a7d4d508ed2b1dac08ef339",
       "version_major": 2,
       "version_minor": 0
      },
      "text/plain": [
       "  0%|          | 0/7 [00:00<?, ?it/s]"
      ]
     },
     "metadata": {},
     "output_type": "display_data"
    },
    {
     "name": "stdout",
     "output_type": "stream",
     "text": [
      "Epoch [198/200], train_loss: -1.9400,  train_score: 0.9814,val_loss: -0.4376,  val_score: 0.4493, genus train_score0.9849, genus val_score0.9294\n"
     ]
    },
    {
     "data": {
      "application/vnd.jupyter.widget-view+json": {
       "model_id": "b319ff6a512c4eac9d01ffda9180beee",
       "version_major": 2,
       "version_minor": 0
      },
      "text/plain": [
       "  0%|          | 0/14 [00:00<?, ?it/s]"
      ]
     },
     "metadata": {},
     "output_type": "display_data"
    },
    {
     "data": {
      "application/vnd.jupyter.widget-view+json": {
       "model_id": "d6f4a633e11543cbb5903aafd44e20d6",
       "version_major": 2,
       "version_minor": 0
      },
      "text/plain": [
       "  0%|          | 0/7 [00:00<?, ?it/s]"
      ]
     },
     "metadata": {},
     "output_type": "display_data"
    },
    {
     "name": "stdout",
     "output_type": "stream",
     "text": [
      "Epoch [199/200], train_loss: -1.9213,  train_score: 0.9815,val_loss: -0.4643,  val_score: 0.4492, genus train_score0.9850, genus val_score0.9301\n"
     ]
    },
    {
     "data": {
      "application/vnd.jupyter.widget-view+json": {
       "model_id": "4317c8c2f43b463cbb7175cd9d115070",
       "version_major": 2,
       "version_minor": 0
      },
      "text/plain": [
       "  0%|          | 0/14 [00:00<?, ?it/s]"
      ]
     },
     "metadata": {},
     "output_type": "display_data"
    },
    {
     "data": {
      "application/vnd.jupyter.widget-view+json": {
       "model_id": "410404962c684aceb7bf0b146aaeae50",
       "version_major": 2,
       "version_minor": 0
      },
      "text/plain": [
       "  0%|          | 0/7 [00:00<?, ?it/s]"
      ]
     },
     "metadata": {},
     "output_type": "display_data"
    },
    {
     "name": "stdout",
     "output_type": "stream",
     "text": [
      "Epoch [200/200], train_loss: -1.9995,  train_score: 0.9814,val_loss: -0.4440,  val_score: 0.4492, genus train_score0.9851, genus val_score0.9294\n"
     ]
    }
   ],
   "source": [
    "\n",
    "_ = fit(200,dataloaders,optimizer,model)"
   ]
  },
  {
   "cell_type": "code",
   "execution_count": 70,
   "metadata": {},
   "outputs": [
    {
     "name": "stderr",
     "output_type": "stream",
     "text": [
      "/tmp/ipykernel_115766/509102700.py:34: UserWarning: Implicit dimension choice for softmax has been deprecated. Change the call to include dim=X as an argument.\n",
      "  x_genus = torch.nn.functional.softmax(x)\n"
     ]
    }
   ],
   "source": [
    "with torch.no_grad():\n",
    "    model.eval()\n",
    "    val_predicted_probs,val_predicted_probs_genus = model(d_val.data.cuda())\n",
    "val_predicted_probs = val_predicted_probs.cpu()\n",
    "val_predicted_probs_genus = val_predicted_probs_genus.cpu()"
   ]
  },
  {
   "cell_type": "code",
   "execution_count": 71,
   "metadata": {},
   "outputs": [],
   "source": [
    "val_predicted_labels = val_predicted_probs.argmax(axis=1)\n",
    "val_predicted_labels_genus = val_predicted_probs_genus.argmax(axis=1)\n",
    "image_val_labels = image_val_labels.type(torch.LongTensor)"
   ]
  },
  {
   "cell_type": "code",
   "execution_count": null,
   "metadata": {},
   "outputs": [],
   "source": []
  },
  {
   "cell_type": "code",
   "execution_count": 72,
   "metadata": {},
   "outputs": [
    {
     "data": {
      "text/plain": [
       "'Automeris_celata'"
      ]
     },
     "execution_count": 72,
     "metadata": {},
     "output_type": "execute_result"
    }
   ],
   "source": [
    "list(image_dataset.class_to_idx.keys())[172]"
   ]
  },
  {
   "cell_type": "code",
   "execution_count": 73,
   "metadata": {},
   "outputs": [
    {
     "data": {
      "text/plain": [
       "tensor([482, 173])"
      ]
     },
     "execution_count": 73,
     "metadata": {},
     "output_type": "execute_result"
    }
   ],
   "source": [
    "val_predicted_probs[1000].topk(2).indices"
   ]
  },
  {
   "cell_type": "code",
   "execution_count": 74,
   "metadata": {},
   "outputs": [
    {
     "data": {
      "text/plain": [
       "tensor(176)"
      ]
     },
     "execution_count": 74,
     "metadata": {},
     "output_type": "execute_result"
    }
   ],
   "source": [
    "image_val_labels[1000]"
   ]
  },
  {
   "cell_type": "code",
   "execution_count": 75,
   "metadata": {},
   "outputs": [
    {
     "data": {
      "text/plain": [
       "array([187])"
      ]
     },
     "execution_count": 75,
     "metadata": {},
     "output_type": "execute_result"
    }
   ],
   "source": [
    "species2genus[172]"
   ]
  },
  {
   "cell_type": "code",
   "execution_count": 76,
   "metadata": {},
   "outputs": [
    {
     "data": {
      "text/plain": [
       "tensor(187)"
      ]
     },
     "execution_count": 76,
     "metadata": {},
     "output_type": "execute_result"
    }
   ],
   "source": [
    "val_predicted_labels_genus[1000]"
   ]
  },
  {
   "cell_type": "code",
   "execution_count": 77,
   "metadata": {},
   "outputs": [
    {
     "data": {
      "text/plain": [
       "[<matplotlib.lines.Line2D at 0x79b94c6e6d20>]"
      ]
     },
     "execution_count": 77,
     "metadata": {},
     "output_type": "execute_result"
    },
    {
     "data": {
      "image/png": "[encoded data removed]",
      "text/plain": [
       "<Figure size 640x480 with 1 Axes>"
      ]
     },
     "metadata": {},
     "output_type": "display_data"
    }
   ],
   "source": [
    "plt.plot(val_predicted_probs_genus[1000].cpu())\n"
   ]
  },
  {
   "cell_type": "code",
   "execution_count": null,
   "metadata": {},
   "outputs": [],
   "source": []
  },
  {
   "cell_type": "code",
   "execution_count": null,
   "metadata": {},
   "outputs": [],
   "source": []
  },
  {
   "cell_type": "markdown",
   "metadata": {},
   "source": [
    "# Secondo top2 method"
   ]
  },
  {
   "cell_type": "code",
   "execution_count": 84,
   "metadata": {},
   "outputs": [
    {
     "name": "stderr",
     "output_type": "stream",
     "text": [
      "/tmp/ipykernel_115766/3867016436.py:23: UserWarning: To copy construct from a tensor, it is recommended to use sourceTensor.clone().detach() or sourceTensor.clone().detach().requires_grad_(True), rather than torch.tensor(sourceTensor).\n",
      "  top2 = torch.tensor(val_predicted_probs[i]).topk(2)#ATTENZIONE QUA E' DIVERSO\n"
     ]
    }
   ],
   "source": [
    "tprs = []\n",
    "fprs = []\n",
    "correct_genus_rate = []\n",
    "correct_species_rate = []\n",
    "thresholds = []\n",
    "possible_thresholds = [x / 10000 for x in range(9800, 10000, 1)]\n",
    "for t in possible_thresholds:#ATTENZIONE QUA E' DIVERSO\n",
    "    t = t * 1.005\n",
    "    thresholds.append(t)\n",
    "    #print(val_predicted_probs.shape)\n",
    "    n_undescribed_samples = 0\n",
    "    n_described_samples = 0\n",
    "    n_correct_undescribed_samples = 0\n",
    "    n_correct_described_samples = 0\n",
    "    n_correct_genus = 0 \n",
    "    n_correct_species = 0 \n",
    "    for i in range(len(image_val_labels)):\n",
    "        label_best_specie = val_predicted_labels[i]\n",
    "       \n",
    "        #assert(val_predicted_labels[i]==val_predicted_probs[i].argmax())\n",
    "        genus_of_best_species = species2genus[label_best_specie.item()]\n",
    "\n",
    "        top2 = torch.tensor(val_predicted_probs[i]).topk(2)#ATTENZIONE QUA E' DIVERSO\n",
    "        #print(top2)\n",
    "        if (top2.values[0]-top2.values[1]) >t*top2.values[0]:#species \n",
    "            if image_val_labels[i].item() in described_species_labels:#i needed to guess species\n",
    "                n_described_samples +=1\n",
    "                if label_best_specie == image_val_labels[i]:#guessed species is correct\n",
    "                    #n_correct_described_samples+=1\n",
    "                    n_correct_species+=1\n",
    "            else:# i needed to guess genus\n",
    "                n_undescribed_samples+=1\n",
    "        else:#genus\n",
    "            if image_val_labels[i].item() in described_species_labels:#i needed to guess species\n",
    "                n_described_samples +=1\n",
    "            else:# i needed to guess genus\n",
    "                n_undescribed_samples+=1\n",
    "                #if genus_of_best_species == species2genus[image_val_labels[i]]:#guessed genus is correct\n",
    "                #ATTENZIONE QUA E' DIVERSO\n",
    "                if val_predicted_labels_genus[i].item() == species2genus[image_val_labels[i]].item():#guessed genus is correct\n",
    "                    #n_correct_described_samples+=1\n",
    "                    n_correct_genus+=1\n",
    "            \n",
    "    tprs.append(n_correct_undescribed_samples/n_undescribed_samples) # TPR = recall = sensitivity\n",
    "    fprs.append(1-n_correct_described_samples/n_described_samples) # 1-TNR = 1 - specificity\n",
    "    correct_genus_rate.append(n_correct_genus/n_undescribed_samples)\n",
    "    correct_species_rate.append(n_correct_species/n_described_samples)"
   ]
  },
  {
   "cell_type": "code",
   "execution_count": 85,
   "metadata": {
    "scrolled": true
   },
   "outputs": [
    {
     "name": "stdout",
     "output_type": "stream",
     "text": [
      "0\n",
      "0.6847621607094867\n",
      "0.9616573902288188\n",
      "\n",
      "\n",
      "\n",
      "1\n",
      "0.6852996506315506\n",
      "0.9616573902288188\n",
      "\n",
      "\n",
      "\n",
      "2\n",
      "0.6858371405536147\n",
      "0.9616573902288188\n",
      "\n",
      "\n",
      "\n",
      "3\n",
      "0.6863746304756786\n",
      "0.9616573902288188\n",
      "\n",
      "\n",
      "\n",
      "4\n",
      "0.6877183552808385\n",
      "0.9616573902288188\n",
      "\n",
      "\n",
      "\n",
      "5\n",
      "0.6885245901639344\n",
      "0.9616573902288188\n",
      "\n",
      "\n",
      "\n",
      "6\n",
      "0.6901370599301263\n",
      "0.96134817563389\n",
      "\n",
      "\n",
      "\n",
      "7\n",
      "0.6906745498521902\n",
      "0.96134817563389\n",
      "\n",
      "\n",
      "\n",
      "8\n",
      "0.6917495296963182\n",
      "0.96134817563389\n",
      "\n",
      "\n",
      "\n",
      "9\n",
      "0.6922870196183821\n",
      "0.96134817563389\n",
      "\n",
      "\n",
      "\n",
      "10\n",
      "0.6933619994625101\n",
      "0.96134817563389\n",
      "\n",
      "\n",
      "\n",
      "11\n",
      "0.69470572426767\n",
      "0.96134817563389\n",
      "\n",
      "\n",
      "\n",
      "12\n",
      "0.6952432141897339\n",
      "0.96134817563389\n",
      "\n",
      "\n",
      "\n",
      "13\n",
      "0.6957807041117979\n",
      "0.96134817563389\n",
      "\n",
      "\n",
      "\n",
      "14\n",
      "0.6963181940338619\n",
      "0.96134817563389\n",
      "\n",
      "\n",
      "\n",
      "15\n",
      "0.6971244289169578\n",
      "0.96134817563389\n",
      "\n",
      "\n",
      "\n",
      "16\n",
      "0.6976619188390217\n",
      "0.96134817563389\n",
      "\n",
      "\n",
      "\n",
      "17\n",
      "0.6979306638000538\n",
      "0.96134817563389\n",
      "\n",
      "\n",
      "\n",
      "18\n",
      "0.6981994087610858\n",
      "0.96134817563389\n",
      "\n",
      "\n",
      "\n",
      "19\n",
      "0.6987368986831497\n",
      "0.96134817563389\n",
      "\n",
      "\n",
      "\n",
      "20\n",
      "0.6995431335662456\n",
      "0.96134817563389\n",
      "\n",
      "\n",
      "\n",
      "21\n",
      "0.7006181134103736\n",
      "0.96134817563389\n",
      "\n",
      "\n",
      "\n",
      "22\n",
      "0.7016930932545015\n",
      "0.96134817563389\n",
      "\n",
      "\n",
      "\n",
      "23\n",
      "0.7024993281375974\n",
      "0.96134817563389\n",
      "\n",
      "\n",
      "\n",
      "24\n",
      "0.7033055630206934\n",
      "0.961038961038961\n",
      "\n",
      "\n",
      "\n",
      "25\n",
      "0.7038430529427573\n",
      "0.961038961038961\n",
      "\n",
      "\n",
      "\n",
      "26\n",
      "0.7046492878258532\n",
      "0.961038961038961\n",
      "\n",
      "\n",
      "\n",
      "27\n",
      "0.7051867777479173\n",
      "0.961038961038961\n",
      "\n",
      "\n",
      "\n",
      "28\n",
      "0.7062617575920451\n",
      "0.961038961038961\n",
      "\n",
      "\n",
      "\n",
      "29\n",
      "0.7062617575920451\n",
      "0.961038961038961\n",
      "\n",
      "\n",
      "\n",
      "30\n",
      "0.7065305025530771\n",
      "0.961038961038961\n",
      "\n",
      "\n",
      "\n",
      "31\n",
      "0.7070679924751411\n",
      "0.961038961038961\n",
      "\n",
      "\n",
      "\n",
      "32\n",
      "0.707874227358237\n",
      "0.961038961038961\n",
      "\n",
      "\n",
      "\n",
      "33\n",
      "0.707874227358237\n",
      "0.961038961038961\n",
      "\n",
      "\n",
      "\n",
      "34\n",
      "0.708680462241333\n",
      "0.961038961038961\n",
      "\n",
      "\n",
      "\n",
      "35\n",
      "0.708949207202365\n",
      "0.961038961038961\n",
      "\n",
      "\n",
      "\n",
      "36\n",
      "0.7097554420854609\n",
      "0.961038961038961\n",
      "\n",
      "\n",
      "\n",
      "37\n",
      "0.7102929320075249\n",
      "0.961038961038961\n",
      "\n",
      "\n",
      "\n",
      "38\n",
      "0.7108304219295888\n",
      "0.961038961038961\n",
      "\n",
      "\n",
      "\n",
      "39\n",
      "0.7110991668906208\n",
      "0.961038961038961\n",
      "\n",
      "\n",
      "\n",
      "40\n",
      "0.7113679118516528\n",
      "0.961038961038961\n",
      "\n",
      "\n",
      "\n",
      "41\n",
      "0.7127116366568127\n",
      "0.961038961038961\n",
      "\n",
      "\n",
      "\n",
      "42\n",
      "0.7137866165009407\n",
      "0.961038961038961\n",
      "\n",
      "\n",
      "\n",
      "43\n",
      "0.7137866165009407\n",
      "0.961038961038961\n",
      "\n",
      "\n",
      "\n",
      "44\n",
      "0.7140553614619726\n",
      "0.961038961038961\n",
      "\n",
      "\n",
      "\n",
      "45\n",
      "0.7143241064230046\n",
      "0.961038961038961\n",
      "\n",
      "\n",
      "\n",
      "46\n",
      "0.7145928513840365\n",
      "0.961038961038961\n",
      "\n",
      "\n",
      "\n",
      "47\n",
      "0.7148615963450685\n",
      "0.961038961038961\n",
      "\n",
      "\n",
      "\n",
      "48\n",
      "0.7151303413061005\n",
      "0.961038961038961\n",
      "\n",
      "\n",
      "\n",
      "49\n",
      "0.7153990862671324\n",
      "0.961038961038961\n",
      "\n",
      "\n",
      "\n",
      "50\n",
      "0.7159365761891965\n",
      "0.9607297464440322\n",
      "\n",
      "\n",
      "\n",
      "51\n",
      "0.7162053211502284\n",
      "0.9607297464440322\n",
      "\n",
      "\n",
      "\n",
      "52\n",
      "0.7167428110722924\n",
      "0.9607297464440322\n",
      "\n",
      "\n",
      "\n",
      "53\n",
      "0.7178177909164203\n",
      "0.9607297464440322\n",
      "\n",
      "\n",
      "\n",
      "54\n",
      "0.7191615157215803\n",
      "0.9607297464440322\n",
      "\n",
      "\n",
      "\n",
      "55\n",
      "0.7199677506046762\n",
      "0.9607297464440322\n",
      "\n",
      "\n",
      "\n",
      "56\n",
      "0.720773985487772\n",
      "0.9607297464440322\n",
      "\n",
      "\n",
      "\n",
      "57\n",
      "0.7210427304488041\n",
      "0.9607297464440322\n",
      "\n",
      "\n",
      "\n",
      "58\n",
      "0.7218489653319\n",
      "0.9607297464440322\n",
      "\n",
      "\n",
      "\n",
      "59\n",
      "0.7218489653319\n",
      "0.9607297464440322\n",
      "\n",
      "\n",
      "\n",
      "60\n",
      "0.722117710292932\n",
      "0.9607297464440322\n",
      "\n",
      "\n",
      "\n",
      "61\n",
      "0.7223864552539639\n",
      "0.9607297464440322\n",
      "\n",
      "\n",
      "\n",
      "62\n",
      "0.7223864552539639\n",
      "0.9607297464440322\n",
      "\n",
      "\n",
      "\n",
      "63\n",
      "0.7231926901370599\n",
      "0.9607297464440322\n",
      "\n",
      "\n",
      "\n",
      "64\n",
      "0.7239989250201558\n",
      "0.9607297464440322\n",
      "\n",
      "\n",
      "\n",
      "65\n",
      "0.7245364149422199\n",
      "0.9607297464440322\n",
      "\n",
      "\n",
      "\n",
      "66\n",
      "0.7248051599032518\n",
      "0.9607297464440322\n",
      "\n",
      "\n",
      "\n",
      "67\n",
      "0.7253426498253158\n",
      "0.9607297464440322\n",
      "\n",
      "\n",
      "\n",
      "68\n",
      "0.7261488847084118\n",
      "0.9607297464440322\n",
      "\n",
      "\n",
      "\n",
      "69\n",
      "0.7269551195915077\n",
      "0.9607297464440322\n",
      "\n",
      "\n",
      "\n",
      "70\n",
      "0.7272238645525396\n",
      "0.9607297464440322\n",
      "\n",
      "\n",
      "\n",
      "71\n",
      "0.7280300994356356\n",
      "0.9607297464440322\n",
      "\n",
      "\n",
      "\n",
      "72\n",
      "0.7285675893576995\n",
      "0.9604205318491033\n",
      "\n",
      "\n",
      "\n",
      "73\n",
      "0.7288363343187315\n",
      "0.9601113172541744\n",
      "\n",
      "\n",
      "\n",
      "74\n",
      "0.7299113141628595\n",
      "0.9601113172541744\n",
      "\n",
      "\n",
      "\n",
      "75\n",
      "0.7301800591238914\n",
      "0.9601113172541744\n",
      "\n",
      "\n",
      "\n",
      "76\n",
      "0.7307175490459554\n",
      "0.9601113172541744\n",
      "\n",
      "\n",
      "\n",
      "77\n",
      "0.7317925288900833\n",
      "0.9601113172541744\n",
      "\n",
      "\n",
      "\n",
      "78\n",
      "0.7331362536952433\n",
      "0.9598021026592455\n",
      "\n",
      "\n",
      "\n",
      "79\n",
      "0.7339424885783391\n",
      "0.9598021026592455\n",
      "\n",
      "\n",
      "\n",
      "80\n",
      "0.7339424885783391\n",
      "0.9598021026592455\n",
      "\n",
      "\n",
      "\n",
      "81\n",
      "0.734748723461435\n",
      "0.9598021026592455\n",
      "\n",
      "\n",
      "\n",
      "82\n",
      "0.7350174684224671\n",
      "0.9594928880643167\n",
      "\n",
      "\n",
      "\n",
      "83\n",
      "0.735554958344531\n",
      "0.9594928880643167\n",
      "\n",
      "\n",
      "\n",
      "84\n",
      "0.735823703305563\n",
      "0.9594928880643167\n",
      "\n",
      "\n",
      "\n",
      "85\n",
      "0.736092448266595\n",
      "0.9594928880643167\n",
      "\n",
      "\n",
      "\n",
      "86\n",
      "0.736629938188659\n",
      "0.9594928880643167\n",
      "\n",
      "\n",
      "\n",
      "87\n",
      "0.7374361730717549\n",
      "0.9594928880643167\n",
      "\n",
      "\n",
      "\n",
      "88\n",
      "0.7377049180327869\n",
      "0.9594928880643167\n",
      "\n",
      "\n",
      "\n",
      "89\n",
      "0.7387798978769148\n",
      "0.9594928880643167\n",
      "\n",
      "\n",
      "\n",
      "90\n",
      "0.7390486428379468\n",
      "0.9594928880643167\n",
      "\n",
      "\n",
      "\n",
      "91\n",
      "0.7398548777210427\n",
      "0.9594928880643167\n",
      "\n",
      "\n",
      "\n",
      "92\n",
      "0.7406611126041387\n",
      "0.9594928880643167\n",
      "\n",
      "\n",
      "\n",
      "93\n",
      "0.7411986025262026\n",
      "0.9594928880643167\n",
      "\n",
      "\n",
      "\n",
      "94\n",
      "0.7420048374092986\n",
      "0.9594928880643167\n",
      "\n",
      "\n",
      "\n",
      "95\n",
      "0.7420048374092986\n",
      "0.9594928880643167\n",
      "\n",
      "\n",
      "\n",
      "96\n",
      "0.7428110722923945\n",
      "0.9591836734693877\n",
      "\n",
      "\n",
      "\n",
      "97\n",
      "0.7430798172534265\n",
      "0.9591836734693877\n",
      "\n",
      "\n",
      "\n",
      "98\n",
      "0.7438860521365225\n",
      "0.9588744588744589\n",
      "\n",
      "\n",
      "\n",
      "99\n",
      "0.7444235420585864\n",
      "0.9582560296846011\n",
      "\n",
      "\n",
      "\n",
      "100\n",
      "0.7449610319806503\n",
      "0.9582560296846011\n",
      "\n",
      "\n",
      "\n",
      "101\n",
      "0.7452297769416824\n",
      "0.9582560296846011\n",
      "\n",
      "\n",
      "\n",
      "102\n",
      "0.7457672668637463\n",
      "0.9582560296846011\n",
      "\n",
      "\n",
      "\n",
      "103\n",
      "0.7463047567858103\n",
      "0.9582560296846011\n",
      "\n",
      "\n",
      "\n",
      "104\n",
      "0.7465735017468422\n",
      "0.9582560296846011\n",
      "\n",
      "\n",
      "\n",
      "105\n",
      "0.7471109916689062\n",
      "0.9582560296846011\n",
      "\n",
      "\n",
      "\n",
      "106\n",
      "0.7479172265520021\n",
      "0.9576376004947433\n",
      "\n",
      "\n",
      "\n",
      "107\n",
      "0.7489922063961301\n",
      "0.9576376004947433\n",
      "\n",
      "\n",
      "\n",
      "108\n",
      "0.750067186240258\n",
      "0.9576376004947433\n",
      "\n",
      "\n",
      "\n",
      "109\n",
      "0.7514109110454179\n",
      "0.9576376004947433\n",
      "\n",
      "\n",
      "\n",
      "110\n",
      "0.7540983606557377\n",
      "0.9570191713048856\n",
      "\n",
      "\n",
      "\n",
      "111\n",
      "0.7546358505778017\n",
      "0.9570191713048856\n",
      "\n",
      "\n",
      "\n",
      "112\n",
      "0.7565170653050255\n",
      "0.9570191713048856\n",
      "\n",
      "\n",
      "\n",
      "113\n",
      "0.7583982800322494\n",
      "0.9570191713048856\n",
      "\n",
      "\n",
      "\n",
      "114\n",
      "0.7586670249932814\n",
      "0.9567099567099567\n",
      "\n",
      "\n",
      "\n",
      "115\n",
      "0.7597420048374093\n",
      "0.9567099567099567\n",
      "\n",
      "\n",
      "\n",
      "116\n",
      "0.7608169846815372\n",
      "0.9567099567099567\n",
      "\n",
      "\n",
      "\n",
      "117\n",
      "0.7613544746036012\n",
      "0.9564007421150278\n",
      "\n",
      "\n",
      "\n",
      "118\n",
      "0.763504434291857\n",
      "0.956091527520099\n",
      "\n",
      "\n",
      "\n",
      "119\n",
      "0.764041924213921\n",
      "0.956091527520099\n",
      "\n",
      "\n",
      "\n",
      "120\n",
      "0.7659231389411448\n",
      "0.956091527520099\n",
      "\n",
      "\n",
      "\n",
      "121\n",
      "0.7669981187852728\n",
      "0.956091527520099\n",
      "\n",
      "\n",
      "\n",
      "122\n",
      "0.7680730986294007\n",
      "0.956091527520099\n",
      "\n",
      "\n",
      "\n",
      "123\n",
      "0.7704918032786885\n",
      "0.956091527520099\n",
      "\n",
      "\n",
      "\n",
      "124\n",
      "0.7715667831228165\n",
      "0.956091527520099\n",
      "\n",
      "\n",
      "\n",
      "125\n",
      "0.7729105079279763\n",
      "0.95578231292517\n",
      "\n",
      "\n",
      "\n",
      "126\n",
      "0.7737167428110723\n",
      "0.95578231292517\n",
      "\n",
      "\n",
      "\n",
      "127\n",
      "0.777747917226552\n",
      "0.95578231292517\n",
      "\n",
      "\n",
      "\n",
      "128\n",
      "0.7804353668368718\n",
      "0.9554730983302412\n",
      "\n",
      "\n",
      "\n",
      "129\n",
      "0.7823165815640957\n",
      "0.9551638837353124\n",
      "\n",
      "\n",
      "\n",
      "130\n",
      "0.7860790110185434\n",
      "0.9551638837353124\n",
      "\n",
      "\n",
      "\n",
      "131\n",
      "0.7893039505509272\n",
      "0.9548546691403834\n",
      "\n",
      "\n",
      "\n",
      "132\n",
      "0.791991400161247\n",
      "0.9545454545454546\n",
      "\n",
      "\n",
      "\n",
      "133\n",
      "0.7944101048105348\n",
      "0.9542362399505256\n",
      "\n",
      "\n",
      "\n",
      "134\n",
      "0.7962913195377587\n",
      "0.9542362399505256\n",
      "\n",
      "\n",
      "\n",
      "135\n",
      "0.7979037893039506\n",
      "0.9542362399505256\n",
      "\n",
      "\n",
      "\n",
      "136\n",
      "0.8000537489922064\n",
      "0.9539270253555968\n",
      "\n",
      "\n",
      "\n",
      "137\n",
      "0.8019349637194303\n",
      "0.9536178107606679\n",
      "\n",
      "\n",
      "\n",
      "138\n",
      "0.8032786885245902\n",
      "0.953308596165739\n",
      "\n",
      "\n",
      "\n",
      "139\n",
      "0.8067723730180059\n",
      "0.9529993815708101\n",
      "\n",
      "\n",
      "\n",
      "140\n",
      "0.8078473528621338\n",
      "0.9517625231910947\n",
      "\n",
      "\n",
      "\n",
      "141\n",
      "0.8118785272776136\n",
      "0.9514533085961657\n",
      "\n",
      "\n",
      "\n",
      "142\n",
      "0.8161784466541252\n",
      "0.9514533085961657\n",
      "\n",
      "\n",
      "\n",
      "143\n",
      "0.8207471109916689\n",
      "0.9502164502164502\n",
      "\n",
      "\n",
      "\n",
      "144\n",
      "0.8237033055630207\n",
      "0.9492888064316636\n",
      "\n",
      "\n",
      "\n",
      "145\n",
      "0.8277344799785004\n",
      "0.948051948051948\n",
      "\n",
      "\n",
      "\n",
      "146\n",
      "0.8317656543939801\n",
      "0.9458874458874459\n",
      "\n",
      "\n",
      "\n",
      "147\n",
      "0.8374092985756517\n",
      "0.943104514533086\n",
      "\n",
      "\n",
      "\n",
      "148\n",
      "0.8452029024455792\n",
      "0.9387755102040817\n",
      "\n",
      "\n",
      "\n",
      "149\n",
      "0.8535339962375705\n",
      "0.9294990723562152\n",
      "\n",
      "\n",
      "\n",
      "150\n",
      "0.8669712442891696\n",
      "0.8673469387755102\n",
      "\n",
      "\n",
      "\n",
      "151\n",
      "0.8914270357430798\n",
      "0.0\n",
      "\n",
      "\n",
      "\n",
      "152\n",
      "0.8914270357430798\n",
      "0.0\n",
      "\n",
      "\n",
      "\n",
      "153\n",
      "0.8914270357430798\n",
      "0.0\n",
      "\n",
      "\n",
      "\n",
      "154\n",
      "0.8914270357430798\n",
      "0.0\n",
      "\n",
      "\n",
      "\n",
      "155\n",
      "0.8914270357430798\n",
      "0.0\n",
      "\n",
      "\n",
      "\n",
      "156\n",
      "0.8914270357430798\n",
      "0.0\n",
      "\n",
      "\n",
      "\n",
      "157\n",
      "0.8914270357430798\n",
      "0.0\n",
      "\n",
      "\n",
      "\n",
      "158\n",
      "0.8914270357430798\n",
      "0.0\n",
      "\n",
      "\n",
      "\n",
      "159\n",
      "0.8914270357430798\n",
      "0.0\n",
      "\n",
      "\n",
      "\n",
      "160\n",
      "0.8914270357430798\n",
      "0.0\n",
      "\n",
      "\n",
      "\n",
      "161\n",
      "0.8914270357430798\n",
      "0.0\n",
      "\n",
      "\n",
      "\n",
      "162\n",
      "0.8914270357430798\n",
      "0.0\n",
      "\n",
      "\n",
      "\n",
      "163\n",
      "0.8914270357430798\n",
      "0.0\n",
      "\n",
      "\n",
      "\n",
      "164\n",
      "0.8914270357430798\n",
      "0.0\n",
      "\n",
      "\n",
      "\n",
      "165\n",
      "0.8914270357430798\n",
      "0.0\n",
      "\n",
      "\n",
      "\n",
      "166\n",
      "0.8914270357430798\n",
      "0.0\n",
      "\n",
      "\n",
      "\n",
      "167\n",
      "0.8914270357430798\n",
      "0.0\n",
      "\n",
      "\n",
      "\n",
      "168\n",
      "0.8914270357430798\n",
      "0.0\n",
      "\n",
      "\n",
      "\n",
      "169\n",
      "0.8914270357430798\n",
      "0.0\n",
      "\n",
      "\n",
      "\n",
      "170\n",
      "0.8914270357430798\n",
      "0.0\n",
      "\n",
      "\n",
      "\n",
      "171\n",
      "0.8914270357430798\n",
      "0.0\n",
      "\n",
      "\n",
      "\n",
      "172\n",
      "0.8914270357430798\n",
      "0.0\n",
      "\n",
      "\n",
      "\n",
      "173\n",
      "0.8914270357430798\n",
      "0.0\n",
      "\n",
      "\n",
      "\n",
      "174\n",
      "0.8914270357430798\n",
      "0.0\n",
      "\n",
      "\n",
      "\n",
      "175\n",
      "0.8914270357430798\n",
      "0.0\n",
      "\n",
      "\n",
      "\n",
      "176\n",
      "0.8914270357430798\n",
      "0.0\n",
      "\n",
      "\n",
      "\n",
      "177\n",
      "0.8914270357430798\n",
      "0.0\n",
      "\n",
      "\n",
      "\n",
      "178\n",
      "0.8914270357430798\n",
      "0.0\n",
      "\n",
      "\n",
      "\n",
      "179\n",
      "0.8914270357430798\n",
      "0.0\n",
      "\n",
      "\n",
      "\n",
      "180\n",
      "0.8914270357430798\n",
      "0.0\n",
      "\n",
      "\n",
      "\n",
      "181\n",
      "0.8914270357430798\n",
      "0.0\n",
      "\n",
      "\n",
      "\n",
      "182\n",
      "0.8914270357430798\n",
      "0.0\n",
      "\n",
      "\n",
      "\n",
      "183\n",
      "0.8914270357430798\n",
      "0.0\n",
      "\n",
      "\n",
      "\n",
      "184\n",
      "0.8914270357430798\n",
      "0.0\n",
      "\n",
      "\n",
      "\n",
      "185\n",
      "0.8914270357430798\n",
      "0.0\n",
      "\n",
      "\n",
      "\n",
      "186\n",
      "0.8914270357430798\n",
      "0.0\n",
      "\n",
      "\n",
      "\n",
      "187\n",
      "0.8914270357430798\n",
      "0.0\n",
      "\n",
      "\n",
      "\n",
      "188\n",
      "0.8914270357430798\n",
      "0.0\n",
      "\n",
      "\n",
      "\n",
      "189\n",
      "0.8914270357430798\n",
      "0.0\n",
      "\n",
      "\n",
      "\n",
      "190\n",
      "0.8914270357430798\n",
      "0.0\n",
      "\n",
      "\n",
      "\n",
      "191\n",
      "0.8914270357430798\n",
      "0.0\n",
      "\n",
      "\n",
      "\n",
      "192\n",
      "0.8914270357430798\n",
      "0.0\n",
      "\n",
      "\n",
      "\n",
      "193\n",
      "0.8914270357430798\n",
      "0.0\n",
      "\n",
      "\n",
      "\n",
      "194\n",
      "0.8914270357430798\n",
      "0.0\n",
      "\n",
      "\n",
      "\n",
      "195\n",
      "0.8914270357430798\n",
      "0.0\n",
      "\n",
      "\n",
      "\n",
      "196\n",
      "0.8914270357430798\n",
      "0.0\n",
      "\n",
      "\n",
      "\n",
      "197\n",
      "0.8914270357430798\n",
      "0.0\n",
      "\n",
      "\n",
      "\n",
      "198\n",
      "0.8914270357430798\n",
      "0.0\n",
      "\n",
      "\n",
      "\n",
      "199\n",
      "0.8914270357430798\n",
      "0.0\n",
      "\n",
      "\n",
      "\n"
     ]
    }
   ],
   "source": [
    "for index in range(0,len(correct_genus_rate),1):\n",
    "    print(index)\n",
    "    print(correct_genus_rate[index])\n",
    "    print(correct_species_rate[index])\n",
    "    print('\\n\\n')"
   ]
  },
  {
   "cell_type": "code",
   "execution_count": 86,
   "metadata": {},
   "outputs": [
    {
     "data": {
      "text/plain": [
       "[<matplotlib.lines.Line2D at 0x79b94ad6ba70>]"
      ]
     },
     "execution_count": 86,
     "metadata": {},
     "output_type": "execute_result"
    },
    {
     "data": {
      "image/png": "[encoded data removed]",
      "text/plain": [
       "<Figure size 640x480 with 1 Axes>"
      ]
     },
     "metadata": {},
     "output_type": "display_data"
    }
   ],
   "source": [
    "plt.plot(thresholds,correct_genus_rate[-200:])\n",
    "plt.plot(thresholds,correct_species_rate[-200:])"
   ]
  },
  {
   "cell_type": "code",
   "execution_count": 87,
   "metadata": {},
   "outputs": [
    {
     "data": {
      "text/plain": [
       "0.9996734999999999"
      ]
     },
     "execution_count": 87,
     "metadata": {},
     "output_type": "execute_result"
    }
   ],
   "source": [
    "thresholds[147]"
   ]
  },
  {
   "cell_type": "code",
   "execution_count": 88,
   "metadata": {},
   "outputs": [
    {
     "data": {
      "image/png": "[encoded data removed]",
      "text/plain": [
       "<Figure size 640x480 with 1 Axes>"
      ]
     },
     "metadata": {},
     "output_type": "display_data"
    }
   ],
   "source": [
    "plt.plot(thresholds[-100:], correct_genus_rate[-100:], \"-b\", label=\"Genus correct rate\")\n",
    "plt.plot(thresholds[-100:], correct_species_rate[-100:], \"-r\", label=\"Species correct rate\")\n",
    "\n",
    "plt.xlabel(\"Threshold\")\n",
    "plt.ylabel(\"True Positive Rate\")\n",
    "plt.legend()\n",
    "plt.savefig(\"GenusSpeciesCorrectRate.png\")"
   ]
  },
  {
   "cell_type": "code",
   "execution_count": 83,
   "metadata": {
    "scrolled": true
   },
   "outputs": [
    {
     "data": {
      "text/plain": [
       "0.8932439999999999"
      ]
     },
     "execution_count": 83,
     "metadata": {},
     "output_type": "execute_result"
    }
   ],
   "source": [
    "thresholds[88]"
   ]
  },
  {
   "cell_type": "code",
   "execution_count": null,
   "metadata": {},
   "outputs": [],
   "source": []
  },
  {
   "cell_type": "markdown",
   "metadata": {},
   "source": [
    "# Random Forest"
   ]
  },
  {
   "cell_type": "code",
   "execution_count": 20,
   "metadata": {},
   "outputs": [
    {
     "name": "stdout",
     "output_type": "stream",
     "text": [
      "train\n",
      "val\n",
      "proba\n"
     ]
    }
   ],
   "source": [
    "clf = RandomForestClassifier(min_samples_leaf=2,n_jobs=-1)\n",
    "clf = clf.fit(complete_train_features_scaled, image_train_labels)\n",
    "\n",
    "train_predicted_labels = clf.predict(complete_train_features_scaled)\n",
    "print('train')\n",
    "val_predicted_labels= clf.predict(complete_val_features_scaled)\n",
    "print('val')\n",
    "temp_val_predicted_probs = clf.predict_proba(complete_val_features_scaled)\n",
    "print('proba')\n",
    "val_predicted_probs = np.zeros((len(temp_val_predicted_probs),n_classes))\n",
    "for i, cls in enumerate(np.arange(n_classes)):\n",
    "    if cls in clf.classes_:\n",
    "        val_predicted_probs[:, cls] = temp_val_predicted_probs[:, list(clf.classes_).index(cls)]"
   ]
  },
  {
   "cell_type": "code",
   "execution_count": 21,
   "metadata": {},
   "outputs": [
    {
     "data": {
      "text/plain": [
       "array([[0.        , 0.89183333, 0.        , ..., 0.        , 0.        ,\n",
       "        0.        ],\n",
       "       [0.        , 0.90766667, 0.        , ..., 0.        , 0.        ,\n",
       "        0.        ],\n",
       "       [0.        , 0.        , 0.7425    , ..., 0.        , 0.01      ,\n",
       "        0.        ],\n",
       "       ...,\n",
       "       [0.        , 0.        , 0.        , ..., 0.        , 0.        ,\n",
       "        1.        ],\n",
       "       [0.        , 0.        , 0.        , ..., 0.        , 0.        ,\n",
       "        0.8675    ],\n",
       "       [0.        , 0.        , 0.        , ..., 0.        , 0.        ,\n",
       "        0.9625    ]])"
      ]
     },
     "execution_count": 21,
     "metadata": {},
     "output_type": "execute_result"
    }
   ],
   "source": [
    "temp_val_predicted_probs"
   ]
  },
  {
   "cell_type": "code",
   "execution_count": 22,
   "metadata": {},
   "outputs": [
    {
     "data": {
      "text/plain": [
       "array([0.00012523, 0.00010174, 0.00011856, ..., 0.        , 0.        ,\n",
       "       0.        ])"
      ]
     },
     "execution_count": 22,
     "metadata": {},
     "output_type": "execute_result"
    }
   ],
   "source": [
    "feature_importances = clf.feature_importances_\n",
    "feature_importances"
   ]
  },
  {
   "cell_type": "code",
   "execution_count": 23,
   "metadata": {},
   "outputs": [
    {
     "data": {
      "image/png": "[encoded data removed]",
      "text/plain": [
       "<Figure size 1000x600 with 1 Axes>"
      ]
     },
     "metadata": {},
     "output_type": "display_data"
    }
   ],
   "source": [
    "feature_names = [f'Feature {i+1}' for i in range(complete_train_features.shape[1])]\n",
    "\n",
    "plt.figure(figsize=(10, 6))\n",
    "plt.bar(range(len(feature_importances)), feature_importances, align='center')\n",
    "plt.ylabel('Features Importances')\n",
    "plt.show()"
   ]
  },
  {
   "cell_type": "markdown",
   "metadata": {},
   "source": [
    "# Accuracies"
   ]
  },
  {
   "cell_type": "code",
   "execution_count": 24,
   "metadata": {},
   "outputs": [
    {
     "name": "stdout",
     "output_type": "stream",
     "text": [
      "Training species accuracy:0.9999233070020707\n",
      "Validation species accuracy:0.45751258087706687\n"
     ]
    }
   ],
   "source": [
    "print(f\"Training species accuracy:{np.count_nonzero(train_predicted_labels==image_train_labels.numpy())/len(image_train_labels)}\")\n",
    "\n",
    "print(f\"Validation species accuracy:{np.count_nonzero(val_predicted_labels==image_val_labels.numpy())/len(image_val_labels)}\")"
   ]
  },
  {
   "cell_type": "code",
   "execution_count": 25,
   "metadata": {},
   "outputs": [
    {
     "ename": "IndexError",
     "evalue": "only integers, slices (`:`), ellipsis (`...`), numpy.newaxis (`None`) and integer or boolean arrays are valid indices",
     "output_type": "error",
     "traceback": [
      "\u001b[0;31m---------------------------------------------------------------------------\u001b[0m",
      "\u001b[0;31mIndexError\u001b[0m                                Traceback (most recent call last)",
      "Cell \u001b[0;32mIn[25], line 9\u001b[0m\n\u001b[1;32m      5\u001b[0m label_best_specie \u001b[38;5;241m=\u001b[39m val_predicted_labels[i]\n\u001b[1;32m      6\u001b[0m \u001b[38;5;66;03m#print(val_predicted_labels[i])\u001b[39;00m\n\u001b[1;32m      7\u001b[0m \u001b[38;5;66;03m#print(val_predicted_probs[i].argmax())\u001b[39;00m\n\u001b[1;32m      8\u001b[0m \u001b[38;5;66;03m#assert(val_predicted_labels[i]==val_predicted_probs[i].argmax())\u001b[39;00m\n\u001b[0;32m----> 9\u001b[0m genus_of_best_species \u001b[38;5;241m=\u001b[39m species2genus[label_best_specie\u001b[38;5;241m.\u001b[39mitem()]\n\u001b[1;32m     10\u001b[0m \u001b[38;5;66;03m#species_same_genus = [k for k,v in species2genus.items() if v == genus_of_best_species]\u001b[39;00m\n\u001b[1;32m     11\u001b[0m \u001b[38;5;66;03m#reduced_species = val_predicted_probs[i][species_same_genus]\u001b[39;00m\n\u001b[1;32m     12\u001b[0m \u001b[38;5;66;03m#normalized_reduced_species = reduced_species/(reduced_species.sum())\u001b[39;00m\n\u001b[1;32m     14\u001b[0m real_genus \u001b[38;5;241m=\u001b[39m species2genus[image_val_labels[i]\u001b[38;5;241m.\u001b[39mitem()]\n",
      "\u001b[0;31mIndexError\u001b[0m: only integers, slices (`:`), ellipsis (`...`), numpy.newaxis (`None`) and integer or boolean arrays are valid indices"
     ]
    }
   ],
   "source": [
    "import math\n",
    "n_correct_genus = 0\n",
    "for i in range(len(image_val_labels)):\n",
    "    #label_best_specie = val_predicted_probs[i].argmax()\n",
    "    label_best_specie = val_predicted_labels[i]\n",
    "    #print(val_predicted_labels[i])\n",
    "    #print(val_predicted_probs[i].argmax())\n",
    "    #assert(val_predicted_labels[i]==val_predicted_probs[i].argmax())\n",
    "    genus_of_best_species = species2genus[label_best_specie.item()]\n",
    "    #species_same_genus = [k for k,v in species2genus.items() if v == genus_of_best_species]\n",
    "    #reduced_species = val_predicted_probs[i][species_same_genus]\n",
    "    #normalized_reduced_species = reduced_species/(reduced_species.sum())\n",
    "    \n",
    "    real_genus = species2genus[image_val_labels[i].item()]\n",
    "    predicted_genus = genus_of_best_species\n",
    "    if real_genus == predicted_genus:\n",
    "        n_correct_genus+=1\n",
    "print(f\"Validation genus accuracy: {n_correct_genus/len(image_val_labels)}\")"
   ]
  },
  {
   "cell_type": "code",
   "execution_count": null,
   "metadata": {},
   "outputs": [],
   "source": []
  },
  {
   "cell_type": "code",
   "execution_count": null,
   "metadata": {},
   "outputs": [],
   "source": []
  },
  {
   "cell_type": "code",
   "execution_count": 26,
   "metadata": {},
   "outputs": [
    {
     "data": {
      "text/plain": [
       "tensor(366)"
      ]
     },
     "execution_count": 26,
     "metadata": {},
     "output_type": "execute_result"
    }
   ],
   "source": [
    "val_predicted_labels_genus[i]"
   ]
  },
  {
   "cell_type": "code",
   "execution_count": 27,
   "metadata": {
    "scrolled": true
   },
   "outputs": [],
   "source": []
  },
  {
   "cell_type": "code",
   "execution_count": null,
   "metadata": {},
   "outputs": [],
   "source": []
  },
  {
   "cell_type": "code",
   "execution_count": 28,
   "metadata": {
    "scrolled": true
   },
   "outputs": [
    {
     "name": "stdout",
     "output_type": "stream",
     "text": [
      "0\n",
      "0.0\n",
      "0.9904666332162569\n",
      "\n",
      "\n",
      "\n",
      "1\n",
      "0.004448210124973522\n",
      "0.9904666332162569\n",
      "\n",
      "\n",
      "\n",
      "2\n",
      "0.009425969074348655\n",
      "0.9904666332162569\n",
      "\n",
      "\n",
      "\n",
      "3\n",
      "0.013238720610040246\n",
      "0.9904666332162569\n",
      "\n",
      "\n",
      "\n",
      "4\n",
      "0.01779284049989409\n",
      "0.9904666332162569\n",
      "\n",
      "\n",
      "\n",
      "5\n",
      "0.02160559203558568\n",
      "0.9904666332162569\n",
      "\n",
      "\n",
      "\n",
      "6\n",
      "0.025630163101037915\n",
      "0.9904666332162569\n",
      "\n",
      "\n",
      "\n",
      "7\n",
      "0.030502012285532724\n",
      "0.9904666332162569\n",
      "\n",
      "\n",
      "\n",
      "8\n",
      "0.03526795170514722\n",
      "0.9904666332162569\n",
      "\n",
      "\n",
      "\n",
      "9\n",
      "0.039504342300360096\n",
      "0.9902157551430005\n",
      "\n",
      "\n",
      "\n",
      "10\n",
      "0.04363482313069265\n",
      "0.9902157551430005\n",
      "\n",
      "\n",
      "\n",
      "11\n",
      "0.047553484431264566\n",
      "0.9902157551430005\n",
      "\n",
      "\n",
      "\n",
      "12\n",
      "0.05242533361575937\n",
      "0.9902157551430005\n",
      "\n",
      "\n",
      "\n",
      "13\n",
      "0.05708536327049354\n",
      "0.9902157551430005\n",
      "\n",
      "\n",
      "\n",
      "14\n",
      "0.06163948316034738\n",
      "0.9902157551430005\n",
      "\n",
      "\n",
      "\n",
      "15\n",
      "0.06619360305020122\n",
      "0.9902157551430005\n",
      "\n",
      "\n",
      "\n",
      "16\n",
      "0.0699004448210125\n",
      "0.9902157551430005\n",
      "\n",
      "\n",
      "\n",
      "17\n",
      "0.07487820377038763\n",
      "0.9902157551430005\n",
      "\n",
      "\n",
      "\n",
      "18\n",
      "0.08027960177928405\n",
      "0.9902157551430005\n",
      "\n",
      "\n",
      "\n",
      "19\n",
      "0.08652827790722305\n",
      "0.9902157551430005\n",
      "\n",
      "\n",
      "\n",
      "20\n",
      "0.09087057826731625\n",
      "0.9902157551430005\n",
      "\n",
      "\n",
      "\n",
      "21\n",
      "0.09563651768693074\n",
      "0.9902157551430005\n",
      "\n",
      "\n",
      "\n",
      "22\n",
      "0.10040245710654522\n",
      "0.9902157551430005\n",
      "\n",
      "\n",
      "\n",
      "23\n",
      "0.10601567464520228\n",
      "0.9902157551430005\n",
      "\n",
      "\n",
      "\n",
      "24\n",
      "0.11131116288921838\n",
      "0.9902157551430005\n",
      "\n",
      "\n",
      "\n",
      "25\n",
      "0.11575937301419191\n",
      "0.9902157551430005\n",
      "\n",
      "\n",
      "\n",
      "26\n",
      "0.12063122219868672\n",
      "0.9902157551430005\n",
      "\n",
      "\n",
      "\n",
      "27\n",
      "0.12592671044270282\n",
      "0.9902157551430005\n",
      "\n",
      "\n",
      "\n",
      "28\n",
      "0.13048083033255667\n",
      "0.9902157551430005\n",
      "\n",
      "\n",
      "\n",
      "29\n",
      "0.13418767210336793\n",
      "0.9902157551430005\n",
      "\n",
      "\n",
      "\n",
      "30\n",
      "0.13905952128786275\n",
      "0.9902157551430005\n",
      "\n",
      "\n",
      "\n",
      "31\n",
      "0.1442490997669985\n",
      "0.9902157551430005\n",
      "\n",
      "\n",
      "\n",
      "32\n",
      "0.1494386782461343\n",
      "0.9902157551430005\n",
      "\n",
      "\n",
      "\n",
      "33\n",
      "0.15558144460919296\n",
      "0.9902157551430005\n",
      "\n",
      "\n",
      "\n",
      "34\n",
      "0.1596060156746452\n",
      "0.9902157551430005\n",
      "\n",
      "\n",
      "\n",
      "35\n",
      "0.1653251429781826\n",
      "0.9902157551430005\n",
      "\n",
      "\n",
      "\n",
      "36\n",
      "0.170726540987079\n",
      "0.9902157551430005\n",
      "\n",
      "\n",
      "\n",
      "37\n",
      "0.17559839017157383\n",
      "0.9902157551430005\n",
      "\n",
      "\n",
      "\n",
      "38\n",
      "0.18099978818047024\n",
      "0.9899648770697441\n",
      "\n",
      "\n",
      "\n",
      "39\n",
      "0.1860834568947257\n",
      "0.9899648770697441\n",
      "\n",
      "\n",
      "\n",
      "40\n",
      "0.19127303537386148\n",
      "0.9899648770697441\n",
      "\n",
      "\n",
      "\n",
      "41\n",
      "0.19699216267739886\n",
      "0.9899648770697441\n",
      "\n",
      "\n",
      "\n",
      "42\n",
      "0.20239356068629527\n",
      "0.9899648770697441\n",
      "\n",
      "\n",
      "\n",
      "43\n",
      "0.20790086846007202\n",
      "0.9899648770697441\n",
      "\n",
      "\n",
      "\n",
      "44\n",
      "0.2121372590552849\n",
      "0.9899648770697441\n",
      "\n",
      "\n",
      "\n",
      "45\n",
      "0.21743274729930098\n",
      "0.9897139989964877\n",
      "\n",
      "\n",
      "\n",
      "46\n",
      "0.22368142342723998\n",
      "0.9897139989964877\n",
      "\n",
      "\n",
      "\n",
      "47\n",
      "0.22908282143613642\n",
      "0.9897139989964877\n",
      "\n",
      "\n",
      "\n",
      "48\n",
      "0.23469603897479346\n",
      "0.9897139989964877\n",
      "\n",
      "\n",
      "\n",
      "49\n",
      "0.23956788815928828\n",
      "0.9897139989964877\n",
      "\n",
      "\n",
      "\n",
      "50\n",
      "0.24560474475746663\n",
      "0.9897139989964877\n",
      "\n",
      "\n",
      "\n",
      "51\n",
      "0.2507943232366024\n",
      "0.9897139989964877\n",
      "\n",
      "\n",
      "\n",
      "52\n",
      "0.2567252700699004\n",
      "0.9897139989964877\n",
      "\n",
      "\n",
      "\n",
      "53\n",
      "0.2629739461978394\n",
      "0.9897139989964877\n",
      "\n",
      "\n",
      "\n",
      "54\n",
      "0.26943444185553905\n",
      "0.9897139989964877\n",
      "\n",
      "\n",
      "\n",
      "55\n",
      "0.2745181105697945\n",
      "0.9897139989964877\n",
      "\n",
      "\n",
      "\n",
      "56\n",
      "0.2801313281084516\n",
      "0.9897139989964877\n",
      "\n",
      "\n",
      "\n",
      "57\n",
      "0.28616818470662997\n",
      "0.9897139989964877\n",
      "\n",
      "\n",
      "\n",
      "58\n",
      "0.29442914636729506\n",
      "0.9894631209232313\n",
      "\n",
      "\n",
      "\n",
      "59\n",
      "0.3003600932005931\n",
      "0.9894631209232313\n",
      "\n",
      "\n",
      "\n",
      "60\n",
      "0.30671467909341243\n",
      "0.9892122428499749\n",
      "\n",
      "\n",
      "\n",
      "61\n",
      "0.31222198686718916\n",
      "0.9892122428499749\n",
      "\n",
      "\n",
      "\n",
      "62\n",
      "0.3192120313492904\n",
      "0.9892122428499749\n",
      "\n",
      "\n",
      "\n",
      "63\n",
      "0.326307985596272\n",
      "0.9892122428499749\n",
      "\n",
      "\n",
      "\n",
      "64\n",
      "0.3330862105486126\n",
      "0.9892122428499749\n",
      "\n",
      "\n",
      "\n",
      "65\n",
      "0.34018216479559416\n",
      "0.9889613647767185\n",
      "\n",
      "\n",
      "\n",
      "66\n",
      "0.34600720186401185\n",
      "0.9889613647767185\n",
      "\n",
      "\n",
      "\n",
      "67\n",
      "0.35373861470027534\n",
      "0.9889613647767185\n",
      "\n",
      "\n",
      "\n",
      "68\n",
      "0.3593518322389324\n",
      "0.9889613647767185\n",
      "\n",
      "\n",
      "\n",
      "69\n",
      "0.3663418767210337\n",
      "0.9884596086302058\n",
      "\n",
      "\n",
      "\n",
      "70\n",
      "0.3736496504977759\n",
      "0.9884596086302058\n",
      "\n",
      "\n",
      "\n",
      "71\n",
      "0.3795805973310739\n",
      "0.9884596086302058\n",
      "\n",
      "\n",
      "\n",
      "72\n",
      "0.38699428087269644\n",
      "0.9882087305569494\n",
      "\n",
      "\n",
      "\n",
      "73\n",
      "0.3958907011226435\n",
      "0.9882087305569494\n",
      "\n",
      "\n",
      "\n",
      "74\n",
      "0.40425757254818895\n",
      "0.9882087305569494\n",
      "\n",
      "\n",
      "\n",
      "75\n",
      "0.41315399279813597\n",
      "0.9882087305569494\n",
      "\n",
      "\n",
      "\n",
      "76\n",
      "0.41993221775047657\n",
      "0.9882087305569494\n",
      "\n",
      "\n",
      "\n",
      "77\n",
      "0.42692226223257784\n",
      "0.9882087305569494\n",
      "\n",
      "\n",
      "\n",
      "78\n",
      "0.4340182164795594\n",
      "0.9877069744104365\n",
      "\n",
      "\n",
      "\n",
      "79\n",
      "0.4429146367295065\n",
      "0.9877069744104365\n",
      "\n",
      "\n",
      "\n",
      "80\n",
      "0.45106968862529123\n",
      "0.9877069744104365\n",
      "\n",
      "\n",
      "\n",
      "81\n",
      "0.45975428934547763\n",
      "0.9874560963371801\n",
      "\n",
      "\n",
      "\n",
      "82\n",
      "0.46790934124126243\n",
      "0.9872052182639237\n",
      "\n",
      "\n",
      "\n",
      "83\n",
      "0.4758525736072866\n",
      "0.9869543401906673\n",
      "\n",
      "\n",
      "\n",
      "84\n",
      "0.4841135352679517\n",
      "0.9864525840441546\n",
      "\n",
      "\n",
      "\n",
      "85\n",
      "0.49195085786909554\n",
      "0.9864525840441546\n",
      "\n",
      "\n",
      "\n",
      "86\n",
      "0.5026477441220081\n",
      "0.9859508278976418\n",
      "\n",
      "\n",
      "\n",
      "87\n",
      "0.512179622961237\n",
      "0.985449071751129\n",
      "\n",
      "\n",
      "\n",
      "88\n",
      "0.5216055920355857\n",
      "0.9849473156046161\n",
      "\n",
      "\n",
      "\n",
      "89\n",
      "0.5325142978182589\n",
      "0.984194681384847\n",
      "\n",
      "\n",
      "\n",
      "90\n",
      "0.5428934547765304\n",
      "0.984194681384847\n",
      "\n",
      "\n",
      "\n",
      "91\n",
      "0.5521076043211184\n",
      "0.9834420471650778\n",
      "\n",
      "\n",
      "\n",
      "92\n",
      "0.5628044905740309\n",
      "0.982940291018565\n",
      "\n",
      "\n",
      "\n",
      "93\n",
      "0.5749841135352679\n",
      "0.9819367787255394\n",
      "\n",
      "\n",
      "\n",
      "94\n",
      "0.5877991950857869\n",
      "0.980431510286001\n",
      "\n",
      "\n",
      "\n",
      "95\n",
      "0.6034738402880746\n",
      "0.9799297541394882\n",
      "\n",
      "\n",
      "\n",
      "96\n",
      "0.620419402668926\n",
      "0.9771700953336678\n",
      "\n",
      "\n",
      "\n",
      "97\n",
      "0.6387417919932218\n",
      "0.9708981435022579\n",
      "\n",
      "\n",
      "\n",
      "98\n",
      "0.6644778648591401\n",
      "0.9661314601103863\n",
      "\n",
      "\n",
      "\n",
      "99\n",
      "0.6996399067994069\n",
      "0.9548419468138485\n",
      "\n",
      "\n",
      "\n"
     ]
    }
   ],
   "source": []
  },
  {
   "cell_type": "markdown",
   "metadata": {},
   "source": [
    "# Top-2 Method"
   ]
  },
  {
   "cell_type": "code",
   "execution_count": 31,
   "metadata": {},
   "outputs": [],
   "source": [
    "tprs = []\n",
    "fprs = []\n",
    "correct_genus_rate = []\n",
    "correct_species_rate = []\n",
    "for t in range(0,100,1):\n",
    "    entropy_threshold = t/100.0\n",
    "    #print(val_predicted_probs.shape)\n",
    "    n_undescribed_samples = 0\n",
    "    n_described_samples = 0\n",
    "    n_correct_undescribed_samples = 0\n",
    "    n_correct_described_samples = 0\n",
    "    n_correct_genus = 0 \n",
    "    n_correct_species = 0 \n",
    "    for i in range(len(image_val_labels)):\n",
    "        \n",
    "        label_best_specie = val_predicted_labels[i]\n",
    "       \n",
    "        #assert(val_predicted_labels[i]==val_predicted_probs[i].argmax())\n",
    "        genus_of_best_species = species2genus[label_best_specie.item()]\n",
    "        \n",
    "        sorted_probs = np.sort(val_predicted_probs[i])\n",
    "        sorted_probs = sorted_probs[::-1]\n",
    "        \n",
    "        prob_diff = abs(sorted_probs[0] - sorted_probs[1])\n",
    "        #print(prob_diff)\n",
    "        if image_val_labels[i].item() in described_species_labels:\n",
    "            #tn\n",
    "            n_described_samples +=1\n",
    "            if prob_diff >= entropy_threshold:\n",
    "                n_correct_described_samples+=1\n",
    "                if label_best_specie == image_val_labels[i]:\n",
    "                    n_correct_species+=1\n",
    "        else:\n",
    "            #tp\n",
    "            n_undescribed_samples+=1\n",
    "            if prob_diff < entropy_threshold:\n",
    "                n_correct_undescribed_samples+=1\n",
    "                real_genus = species2genus[image_val_labels[i].item()]\n",
    "                predicted_genus = genus_of_best_species\n",
    "                if real_genus == predicted_genus:\n",
    "                    n_correct_genus+=1\n",
    "        \n",
    "            \n",
    "    tprs.append(n_correct_undescribed_samples/n_undescribed_samples) # TPR = recall = sensitivity\n",
    "    fprs.append(1-n_correct_described_samples/n_described_samples) # 1-TNR = 1 - specificity\n",
    "    correct_genus_rate.append(n_correct_genus/n_undescribed_samples)\n",
    "    correct_species_rate.append(n_correct_species/n_described_samples)"
   ]
  },
  {
   "cell_type": "code",
   "execution_count": 42,
   "metadata": {},
   "outputs": [
    {
     "data": {
      "image/png": "[encoded data removed]",
      "text/plain": [
       "<Figure size 640x480 with 1 Axes>"
      ]
     },
     "metadata": {},
     "output_type": "display_data"
    }
   ],
   "source": [
    "from sklearn.metrics import roc_curve, auc\n",
    "\n",
    "roc_auc = auc(fprs, tprs)\n",
    "\n",
    "plt.figure()\n",
    "plt.plot(fprs, tprs, color='black', lw=2, label='ROC curve (area = %0.2f)' % roc_auc)\n",
    "plt.plot([0, 1], [0, 1], color='navy', lw=1, linestyle='--')\n",
    "plt.xlim([0, 1])\n",
    "plt.ylim([0, 1])\n",
    "plt.xlabel(\"False Positive Rate\")\n",
    "plt.ylabel(\"True Positive Rate\")\n",
    "plt.title('ROC Curve')\n",
    "plt.legend(loc=\"lower right\")\n",
    "plt.show()"
   ]
  },
  {
   "cell_type": "code",
   "execution_count": 52,
   "metadata": {},
   "outputs": [
    {
     "data": {
      "text/plain": [
       "[<matplotlib.lines.Line2D at 0x7e2610060ef0>]"
      ]
     },
     "execution_count": 52,
     "metadata": {},
     "output_type": "execute_result"
    },
    {
     "data": {
      "image/png": "[encoded data removed]",
      "text/plain": [
       "<Figure size 640x480 with 1 Axes>"
      ]
     },
     "metadata": {},
     "output_type": "display_data"
    }
   ],
   "source": [
    "plt.plot(correct_genus_rate)"
   ]
  },
  {
   "cell_type": "code",
   "execution_count": 53,
   "metadata": {},
   "outputs": [
    {
     "name": "stdout",
     "output_type": "stream",
     "text": [
      "0.04986902625680434\n"
     ]
    },
    {
     "data": {
      "text/plain": [
       "Text(0, 0.5, 'Correct Genus Rate')"
      ]
     },
     "execution_count": 53,
     "metadata": {},
     "output_type": "execute_result"
    },
    {
     "data": {
      "image/png": "[encoded data removed]",
      "text/plain": [
       "<Figure size 640x480 with 1 Axes>"
      ]
     },
     "metadata": {},
     "output_type": "display_data"
    }
   ],
   "source": [
    "area_correct = auc(correct_species_rate,correct_genus_rate)\n",
    "print(area_correct)\n",
    "\n",
    "plt.plot(correct_species_rate,correct_genus_rate)\n",
    "plt.xlabel(\"Correct Species Rate\")\n",
    "plt.ylabel(\"Correct Genus Rate\")"
   ]
  },
  {
   "cell_type": "code",
   "execution_count": 54,
   "metadata": {
    "scrolled": true
   },
   "outputs": [
    {
     "name": "stdout",
     "output_type": "stream",
     "text": [
      "0\n",
      "0.0\n",
      "0.9913854989231874\n",
      "\n",
      "\n",
      "\n",
      "1\n",
      "0.004815795810257645\n",
      "0.9913854989231874\n",
      "\n",
      "\n",
      "\n",
      "2\n",
      "0.007946063086925114\n",
      "0.9910265613783201\n",
      "\n",
      "\n",
      "\n",
      "3\n",
      "0.010835540573079701\n",
      "0.9910265613783201\n",
      "\n",
      "\n",
      "\n",
      "4\n",
      "0.01396580784974717\n",
      "0.990667623833453\n",
      "\n",
      "\n",
      "\n",
      "5\n",
      "0.01709607512641464\n",
      "0.990667623833453\n",
      "\n",
      "\n",
      "\n",
      "6\n",
      "0.019022393450517698\n",
      "0.990667623833453\n",
      "\n",
      "\n",
      "\n",
      "7\n",
      "0.020948711774620755\n",
      "0.990667623833453\n",
      "\n",
      "\n",
      "\n",
      "8\n",
      "0.02335660967974958\n",
      "0.990667623833453\n",
      "\n",
      "\n",
      "\n",
      "9\n",
      "0.027450036118468576\n",
      "0.990667623833453\n",
      "\n",
      "\n",
      "\n",
      "10\n",
      "0.031543462557187575\n",
      "0.990667623833453\n",
      "\n",
      "\n",
      "\n",
      "11\n",
      "0.036118468576932336\n",
      "0.990667623833453\n",
      "\n",
      "\n",
      "\n",
      "12\n",
      "0.03852636648206116\n",
      "0.9903086862885858\n",
      "\n",
      "\n",
      "\n",
      "13\n",
      "0.042379003130267275\n",
      "0.9903086862885858\n",
      "\n",
      "\n",
      "\n",
      "14\n",
      "0.04695400915001204\n",
      "0.9903086862885858\n",
      "\n",
      "\n",
      "\n",
      "15\n",
      "0.05249217433180833\n",
      "0.9903086862885858\n",
      "\n",
      "\n",
      "\n",
      "16\n",
      "0.05634481098001445\n",
      "0.9903086862885858\n",
      "\n",
      "\n",
      "\n",
      "17\n",
      "0.059956657837707684\n",
      "0.9899497487437185\n",
      "\n",
      "\n",
      "\n",
      "18\n",
      "0.06260534553334939\n",
      "0.9899497487437185\n",
      "\n",
      "\n",
      "\n",
      "19\n",
      "0.06501324343847821\n",
      "0.9895908111988514\n",
      "\n",
      "\n",
      "\n",
      "20\n",
      "0.06886588008668433\n",
      "0.9895908111988514\n",
      "\n",
      "\n",
      "\n",
      "21\n",
      "0.07271851673489044\n",
      "0.9895908111988514\n",
      "\n",
      "\n",
      "\n",
      "22\n",
      "0.07657115338309656\n",
      "0.9895908111988514\n",
      "\n",
      "\n",
      "\n",
      "23\n",
      "0.07970142065976403\n",
      "0.9895908111988514\n",
      "\n",
      "\n",
      "\n",
      "24\n",
      "0.08210931856489286\n",
      "0.9895908111988514\n",
      "\n",
      "\n",
      "\n",
      "25\n",
      "0.08644353479412473\n",
      "0.9895908111988514\n",
      "\n",
      "\n",
      "\n",
      "26\n",
      "0.0910185408138695\n",
      "0.9895908111988514\n",
      "\n",
      "\n",
      "\n",
      "27\n",
      "0.09535275704310137\n",
      "0.9895908111988514\n",
      "\n",
      "\n",
      "\n",
      "28\n",
      "0.0989646039007946\n",
      "0.9895908111988514\n",
      "\n",
      "\n",
      "\n",
      "29\n",
      "0.10329882013002649\n",
      "0.9895908111988514\n",
      "\n",
      "\n",
      "\n",
      "30\n",
      "0.10883698531182277\n",
      "0.9895908111988514\n",
      "\n",
      "\n",
      "\n",
      "31\n",
      "0.1126896219600289\n",
      "0.9895908111988514\n",
      "\n",
      "\n",
      "\n",
      "32\n",
      "0.11581988923669637\n",
      "0.9895908111988514\n",
      "\n",
      "\n",
      "\n",
      "33\n",
      "0.120635685046954\n",
      "0.9895908111988514\n",
      "\n",
      "\n",
      "\n",
      "34\n",
      "0.12400674211413436\n",
      "0.9895908111988514\n",
      "\n",
      "\n",
      "\n",
      "35\n",
      "0.13098964603900795\n",
      "0.988872936109117\n",
      "\n",
      "\n",
      "\n",
      "36\n",
      "0.13628702143029137\n",
      "0.988872936109117\n",
      "\n",
      "\n",
      "\n",
      "37\n",
      "0.14206597640260052\n",
      "0.988872936109117\n",
      "\n",
      "\n",
      "\n",
      "38\n",
      "0.14615940284131954\n",
      "0.988872936109117\n",
      "\n",
      "\n",
      "\n",
      "39\n",
      "0.15025282928003852\n",
      "0.988872936109117\n",
      "\n",
      "\n",
      "\n",
      "40\n",
      "0.15530941488080904\n",
      "0.988872936109117\n",
      "\n",
      "\n",
      "\n",
      "41\n",
      "0.15940284131952806\n",
      "0.988872936109117\n",
      "\n",
      "\n",
      "\n",
      "42\n",
      "0.16373705754875995\n",
      "0.988872936109117\n",
      "\n",
      "\n",
      "\n",
      "43\n",
      "0.169756802311582\n",
      "0.988872936109117\n",
      "\n",
      "\n",
      "\n",
      "44\n",
      "0.1748133879123525\n",
      "0.9885139985642498\n",
      "\n",
      "\n",
      "\n",
      "45\n",
      "0.18155550204671322\n",
      "0.9885139985642498\n",
      "\n",
      "\n",
      "\n",
      "46\n",
      "0.18540813869491934\n",
      "0.9885139985642498\n",
      "\n",
      "\n",
      "\n",
      "47\n",
      "0.1899831447146641\n",
      "0.9885139985642498\n",
      "\n",
      "\n",
      "\n",
      "48\n",
      "0.19503973031543462\n",
      "0.9885139985642498\n",
      "\n",
      "\n",
      "\n",
      "49\n",
      "0.20154105465928246\n",
      "0.9885139985642498\n",
      "\n",
      "\n",
      "\n",
      "50\n",
      "0.20635685046954008\n",
      "0.9885139985642498\n",
      "\n",
      "\n",
      "\n",
      "51\n",
      "0.21141343607031063\n",
      "0.9885139985642498\n",
      "\n",
      "\n",
      "\n",
      "52\n",
      "0.21671081146159402\n",
      "0.9877961234745154\n",
      "\n",
      "\n",
      "\n",
      "53\n",
      "0.22321213580544186\n",
      "0.9877961234745154\n",
      "\n",
      "\n",
      "\n",
      "54\n",
      "0.22995424993980254\n",
      "0.9877961234745154\n",
      "\n",
      "\n",
      "\n",
      "55\n",
      "0.23669636407416325\n",
      "0.9877961234745154\n",
      "\n",
      "\n",
      "\n",
      "56\n",
      "0.241271370093908\n",
      "0.9877961234745154\n",
      "\n",
      "\n",
      "\n",
      "57\n",
      "0.24680953527570432\n",
      "0.9877961234745154\n",
      "\n",
      "\n",
      "\n",
      "58\n",
      "0.25307006982903923\n",
      "0.9877961234745154\n",
      "\n",
      "\n",
      "\n",
      "59\n",
      "0.25692270647724536\n",
      "0.9877961234745154\n",
      "\n",
      "\n",
      "\n",
      "60\n",
      "0.2622200818685288\n",
      "0.9870782483847811\n",
      "\n",
      "\n",
      "\n",
      "61\n",
      "0.2679990368408379\n",
      "0.9870782483847811\n",
      "\n",
      "\n",
      "\n",
      "62\n",
      "0.2752227305562244\n",
      "0.9870782483847811\n",
      "\n",
      "\n",
      "\n",
      "63\n",
      "0.28172405490007224\n",
      "0.9870782483847811\n",
      "\n",
      "\n",
      "\n",
      "64\n",
      "0.2865398507103299\n",
      "0.9870782483847811\n",
      "\n",
      "\n",
      "\n",
      "65\n",
      "0.2930411750541777\n",
      "0.9870782483847811\n",
      "\n",
      "\n",
      "\n",
      "66\n",
      "0.3012280279316157\n",
      "0.9867193108399138\n",
      "\n",
      "\n",
      "\n",
      "67\n",
      "0.30700698290392486\n",
      "0.9867193108399138\n",
      "\n",
      "\n",
      "\n",
      "68\n",
      "0.31302672766674694\n",
      "0.9867193108399138\n",
      "\n",
      "\n",
      "\n",
      "69\n",
      "0.3200096315916205\n",
      "0.9860014357501795\n",
      "\n",
      "\n",
      "\n",
      "70\n",
      "0.3296412232121358\n",
      "0.9856424982053122\n",
      "\n",
      "\n",
      "\n",
      "71\n",
      "0.3361425475559836\n",
      "0.9849246231155779\n",
      "\n",
      "\n",
      "\n",
      "72\n",
      "0.3448109800144474\n",
      "0.9845656855707107\n",
      "\n",
      "\n",
      "\n",
      "73\n",
      "0.35034914519624366\n",
      "0.9842067480258435\n",
      "\n",
      "\n",
      "\n",
      "74\n",
      "0.3582952082831688\n",
      "0.9831299353912419\n",
      "\n",
      "\n",
      "\n",
      "75\n",
      "0.36672285095111967\n",
      "0.9827709978463748\n",
      "\n",
      "\n",
      "\n",
      "76\n",
      "0.37515049361907055\n",
      "0.9824120603015075\n",
      "\n",
      "\n",
      "\n",
      "77\n",
      "0.3833373464965085\n",
      "0.9824120603015075\n",
      "\n",
      "\n",
      "\n",
      "78\n",
      "0.3908018300024079\n",
      "0.9813352476669059\n",
      "\n",
      "\n",
      "\n",
      "79\n",
      "0.39802552371779437\n",
      "0.9813352476669059\n",
      "\n",
      "\n",
      "\n",
      "80\n",
      "0.40669395617625814\n",
      "0.9813352476669059\n",
      "\n",
      "\n",
      "\n",
      "81\n",
      "0.41849265591138934\n",
      "0.9809763101220388\n",
      "\n",
      "\n",
      "\n",
      "82\n",
      "0.42860582711293044\n",
      "0.9806173725771715\n",
      "\n",
      "\n",
      "\n",
      "83\n",
      "0.4394413676860101\n",
      "0.9798994974874372\n",
      "\n",
      "\n",
      "\n",
      "84\n",
      "0.4483505899349868\n",
      "0.9791816223977028\n",
      "\n",
      "\n",
      "\n",
      "85\n",
      "0.4611124488321695\n",
      "0.9777458722182341\n",
      "\n",
      "\n",
      "\n",
      "86\n",
      "0.47531904647242956\n",
      "0.9766690595836325\n",
      "\n",
      "\n",
      "\n",
      "87\n",
      "0.48735853599807366\n",
      "0.9763101220387652\n",
      "\n",
      "\n",
      "\n",
      "88\n",
      "0.498916445942692\n",
      "0.9759511844938981\n",
      "\n",
      "\n",
      "\n",
      "89\n",
      "0.5116783048398748\n",
      "0.9755922469490309\n",
      "\n",
      "\n",
      "\n",
      "90\n",
      "0.5268480616421863\n",
      "0.9745154343144293\n",
      "\n",
      "\n",
      "\n",
      "91\n",
      "0.5408138694919336\n",
      "0.9734386216798278\n",
      "\n",
      "\n",
      "\n",
      "92\n",
      "0.5528533590175777\n",
      "0.9712849964106246\n",
      "\n",
      "\n",
      "\n",
      "93\n",
      "0.5713941728870696\n",
      "0.9698492462311558\n",
      "\n",
      "\n",
      "\n",
      "94\n",
      "0.5875270888514327\n",
      "0.968413496051687\n",
      "\n",
      "\n",
      "\n",
      "95\n",
      "0.6065494823019504\n",
      "0.9655419956927495\n",
      "\n",
      "\n",
      "\n",
      "96\n",
      "0.6250902961714423\n",
      "0.9583632447954056\n",
      "\n",
      "\n",
      "\n",
      "97\n",
      "0.6498916445942692\n",
      "0.9508255563531945\n",
      "\n",
      "\n",
      "\n",
      "98\n",
      "0.676860101131712\n",
      "0.9407753050969131\n",
      "\n",
      "\n",
      "\n",
      "99\n",
      "0.7093667228509511\n",
      "0.9073941134242641\n",
      "\n",
      "\n",
      "\n"
     ]
    }
   ],
   "source": [
    "for index in range(0,100,1):\n",
    "    print(index)\n",
    "    print(correct_genus_rate[index])\n",
    "    print(correct_species_rate[index])\n",
    "    print('\\n\\n')"
   ]
  },
  {
   "cell_type": "code",
   "execution_count": 56,
   "metadata": {},
   "outputs": [
    {
     "name": "stdout",
     "output_type": "stream",
     "text": [
      "0.20635685046954008\n"
     ]
    },
    {
     "data": {
      "text/plain": [
       "0.9885139985642498"
      ]
     },
     "execution_count": 56,
     "metadata": {},
     "output_type": "execute_result"
    }
   ],
   "source": [
    "print(correct_genus_rate[50])\n",
    "correct_species_rate[50]"
   ]
  },
  {
   "cell_type": "code",
   "execution_count": null,
   "metadata": {},
   "outputs": [],
   "source": []
  },
  {
   "cell_type": "code",
   "execution_count": null,
   "metadata": {},
   "outputs": [],
   "source": []
  },
  {
   "cell_type": "code",
   "execution_count": null,
   "metadata": {},
   "outputs": [],
   "source": []
  },
  {
   "cell_type": "code",
   "execution_count": null,
   "metadata": {},
   "outputs": [],
   "source": []
  }
 ],
 "metadata": {
  "kernelspec": {
   "display_name": "Python 3 (ipykernel)",
   "language": "python",
   "name": "python3"
  },
  "language_info": {
   "codemirror_mode": {
    "name": "ipython",
    "version": 3
   },
   "file_extension": ".py",
   "mimetype": "text/x-python",
   "name": "python",
   "nbconvert_exporter": "python",
   "pygments_lexer": "ipython3",
   "version": "3.12.2"
  }
 },
 "nbformat": 4,
 "nbformat_minor": 4
}
