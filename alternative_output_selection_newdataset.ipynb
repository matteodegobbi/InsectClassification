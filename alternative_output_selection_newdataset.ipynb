{
 "cells": [
  {
   "cell_type": "code",
   "execution_count": 1,
   "metadata": {},
   "outputs": [
    {
     "data": {
      "text/plain": [
       "<module 'dataset_utils' from '/home/fogliodicarta/Desktop/InsectClassification/dataset_utils.py'>"
      ]
     },
     "execution_count": 1,
     "metadata": {},
     "output_type": "execute_result"
    }
   ],
   "source": [
    "import torch\n",
    "import torchvision\n",
    "from torch import nn\n",
    "from torchvision import transforms\n",
    "import matplotlib.pyplot as plt\n",
    "import pandas as pd\n",
    "from IPython.display import Image \n",
    "import numpy as np\n",
    "import dataset_utils\n",
    "import importlib\n",
    "from sklearn.multioutput import MultiOutputClassifier\n",
    "from sklearn.svm import LinearSVC,SVC\n",
    "from sklearn.ensemble import RandomForestClassifier\n",
    "from sklearn.ensemble import BaggingClassifier \n",
    "from sklearn.preprocessing import StandardScaler\n",
    "\n",
    "importlib.reload(dataset_utils)"
   ]
  },
  {
   "cell_type": "markdown",
   "metadata": {},
   "source": [
    "# Dati nostri"
   ]
  },
  {
   "cell_type": "code",
   "execution_count": 2,
   "metadata": {},
   "outputs": [],
   "source": [
    "species2genus = torch.load('tensor_dataset/species2genus.pt')\n",
    "described_species_train = torch.load('tensor_dataset/described_species_labels_train.pt')\n",
    "described_species_trainval = torch.load('tensor_dataset/described_species_labels_trainval.pt')\n",
    "described_species_labels = described_species_train"
   ]
  },
  {
   "cell_type": "code",
   "execution_count": 3,
   "metadata": {},
   "outputs": [],
   "source": [
    "expanded_train_dna_features = torch.load('dna_train_features.pt')\n",
    "expanded_train_dna_labels = torch.load('dna_train_labels.pt')\n",
    "image_train_features = torch.load('img_train_features.pt')\n",
    "image_train_labels= torch.load('img_train_labels.pt')\n",
    "assert((image_train_labels == expanded_train_dna_labels).all())"
   ]
  },
  {
   "cell_type": "code",
   "execution_count": 4,
   "metadata": {},
   "outputs": [],
   "source": [
    "expanded_val_dna_features = torch.load('dna_val_features.pt')\n",
    "expanded_val_dna_labels = torch.load('dna_val_labels.pt')\n",
    "image_val_features = torch.load('img_val_features.pt')\n",
    "image_val_labels = torch.load('img_val_labels.pt')\n",
    "assert((image_val_labels == expanded_val_dna_labels).all())"
   ]
  },
  {
   "cell_type": "code",
   "execution_count": 5,
   "metadata": {},
   "outputs": [],
   "source": [
    "expanded_test_dna_features = torch.load('dna_test_features.pt')\n",
    "expanded_test_dna_labels = torch.load('dna_test_labels.pt')\n",
    "image_test_features = torch.load('img_test_features.pt')\n",
    "image_test_labels = torch.load('img_test_labels.pt')\n",
    "assert((image_test_labels == expanded_test_dna_labels).all())\n",
    "n_classes = 1050"
   ]
  },
  {
   "cell_type": "code",
   "execution_count": 6,
   "metadata": {},
   "outputs": [],
   "source": [
    "import scipy.io as io\n",
    "using_matlab_dataset  = False\n",
    "if using_matlab_dataset:\n",
    "    dset = io.loadmat('matlab_dataset/insect_dataset.mat') \n",
    "    all_dna_features_cnn_original = dset['all_dna_features_cnn_original']\n",
    "    all_image_features_resnet = dset['all_image_features_resnet']\n",
    "    train_loc = np.squeeze(dset['train_loc']-1)\n",
    "    val_seen_loc = np.squeeze(dset['val_seen_loc']-1)\n",
    "    val_unseen_loc = np.squeeze(dset['val_unseen_loc']-1)\n",
    "    test_seen_loc = np.squeeze(dset['test_seen_loc']-1)\n",
    "    test_unseen_loc = np.squeeze(dset['test_unseen_loc']-1)\n",
    "    expanded_train_dna_features = torch.tensor(all_dna_features_cnn_original[train_loc])\n",
    "    expanded_val_dna_features = torch.tensor(all_dna_features_cnn_original[np.concatenate((val_seen_loc,val_unseen_loc))])\n",
    "    expanded_test_dna_features = torch.tensor(all_dna_features_cnn_original[np.concatenate((test_seen_loc,test_unseen_loc))])\n",
    "    \n",
    "    image_train_features = torch.tensor(all_image_features_resnet[train_loc])\n",
    "    image_val_features = torch.tensor(all_image_features_resnet[np.concatenate((val_seen_loc,val_unseen_loc))])\n",
    "    image_test_features = torch.tensor(all_image_features_resnet[np.concatenate((test_seen_loc,test_unseen_loc))])\n",
    "    first_layer_size = image_train_features.shape[1] + expanded_train_dna_features.shape[1]\n",
    " "
   ]
  },
  {
   "cell_type": "code",
   "execution_count": 7,
   "metadata": {},
   "outputs": [],
   "source": [
    "first_layer_size = 5298 if not using_matlab_dataset else first_layer_size"
   ]
  },
  {
   "cell_type": "code",
   "execution_count": 8,
   "metadata": {},
   "outputs": [
    {
     "data": {
      "text/plain": [
       "'class InsectNet(torch.nn.Module):\\n    def __init__(self):\\n        super(InsectNet, self).__init__()\\n        self.dout0 = nn.Dropout()\\n        self.linear1 = nn.Linear(5298,5000)\\n        self.act1 = nn.LeakyReLU()\\n        self.dout1 = nn.Dropout()\\n\\n        self.linearG = nn.Linear(5000,372)\\n        self.linearS = nn.Linear(5000,n_classes)\\n    def forward(self, x):\\n        x = self.dout0(x)\\n        x = self.linear1(x)\\n        x = self.act1(x)\\n        x = self.dout1(x)\\n        x_species = self.linearS(x)\\n        x_genus = self.linearG(x)\\n\\n        x_species = nn.functional.softmax(x_species)\\n        x_genus = nn.functional.softmax(x_genus)\\n        return x_species,x_genus\\n\\n#species2genus = np.array(species2genus)'"
      ]
     },
     "execution_count": 8,
     "metadata": {},
     "output_type": "execute_result"
    }
   ],
   "source": [
    "'''class InsectNet(torch.nn.Module):\n",
    "    def __init__(self):\n",
    "        super(InsectNet, self).__init__()\n",
    "        #self.drop1 = nn.Dropout(p=0.7)\n",
    "        self.linear1 = nn.Linear(3250,3000)\n",
    "        self.act1 = nn.LeakyReLU()\n",
    "        self.linear2 = nn.Linear(3000,2000)\n",
    "        self.act2 = nn.LeakyReLU()\n",
    "        self.linearHeadGenus = nn.Linear(2000,372)\n",
    "        self.linearHeadSpecies = nn.Linear(2000,n_classes)\n",
    "    def forward(self, x):\n",
    "        #x = self.drop1(x)\n",
    "        x = self.linear1(x)\n",
    "        x = self.act1(x)\n",
    "        x = self.linear2(x)\n",
    "        x = self.act2(x)\n",
    "        x_species = self.linearHeadSpecies(x)\n",
    "        x_genus = self.linearHeadGenus(x)\n",
    "        x_species = torch.nn.functional.softmax(x_species)\n",
    "        x_genus = torch.nn.functional.softmax(x_genus)\n",
    "        return x_species,x_genus\n",
    "'''\n",
    "class InsectNet(torch.nn.Module):\n",
    "    def __init__(self):\n",
    "        super(InsectNet, self).__init__()\n",
    "        self.dout = nn.Dropout(p=0.8)\n",
    "        self.linear1 = nn.Linear(first_layer_size,372)\n",
    "        self.act1 = nn.LeakyReLU()\n",
    "        self.linear2 = nn.Linear(372,n_classes)\n",
    "        self.act2 = nn.LogSoftmax()\n",
    "    def forward(self, x, temperature = 1):\n",
    "        x = self.dout(x)\n",
    "        x = self.linear1(x)\n",
    "        x_genus = torch.nn.functional.log_softmax(x/temperature)\n",
    "        x = self.act1(x)\n",
    "        x = self.linear2(x)\n",
    "        x = self.act2(x/temperature)\n",
    "        return x,x_genus\n",
    "\n",
    "'''class InsectNet(torch.nn.Module):\n",
    "    def __init__(self):\n",
    "        super(InsectNet, self).__init__()\n",
    "        self.dout0 = nn.Dropout()\n",
    "        self.linear1 = nn.Linear(5298,5000)\n",
    "        self.act1 = nn.LeakyReLU()\n",
    "        self.dout1 = nn.Dropout()\n",
    "\n",
    "        self.linearG = nn.Linear(5000,372)\n",
    "        self.linearS = nn.Linear(5000,n_classes)\n",
    "    def forward(self, x):\n",
    "        x = self.dout0(x)\n",
    "        x = self.linear1(x)\n",
    "        x = self.act1(x)\n",
    "        x = self.dout1(x)\n",
    "        x_species = self.linearS(x)\n",
    "        x_genus = self.linearG(x)\n",
    "\n",
    "        x_species = nn.functional.softmax(x_species)\n",
    "        x_genus = nn.functional.softmax(x_genus)\n",
    "        return x_species,x_genus\n",
    "\n",
    "#species2genus = np.array(species2genus)'''"
   ]
  },
  {
   "cell_type": "code",
   "execution_count": null,
   "metadata": {},
   "outputs": [],
   "source": []
  },
  {
   "cell_type": "code",
   "execution_count": 9,
   "metadata": {},
   "outputs": [
    {
     "data": {
      "text/plain": [
       "torch.Size([13039, 2048])"
      ]
     },
     "execution_count": 9,
     "metadata": {},
     "output_type": "execute_result"
    }
   ],
   "source": [
    "image_train_features.shape"
   ]
  },
  {
   "cell_type": "code",
   "execution_count": 10,
   "metadata": {},
   "outputs": [
    {
     "data": {
      "text/plain": [
       "torch.Size([13039])"
      ]
     },
     "execution_count": 10,
     "metadata": {},
     "output_type": "execute_result"
    }
   ],
   "source": [
    "image_train_labels.shape"
   ]
  },
  {
   "cell_type": "code",
   "execution_count": 11,
   "metadata": {},
   "outputs": [
    {
     "data": {
      "text/plain": [
       "torch.Size([13039, 3250])"
      ]
     },
     "execution_count": 11,
     "metadata": {},
     "output_type": "execute_result"
    }
   ],
   "source": [
    "expanded_train_dna_features.shape"
   ]
  },
  {
   "cell_type": "code",
   "execution_count": 12,
   "metadata": {},
   "outputs": [
    {
     "data": {
      "text/plain": [
       "torch.Size([13039])"
      ]
     },
     "execution_count": 12,
     "metadata": {},
     "output_type": "execute_result"
    }
   ],
   "source": [
    "expanded_train_dna_labels.shape\n"
   ]
  },
  {
   "cell_type": "markdown",
   "metadata": {},
   "source": [
    "# CONTROLLARE STA ROBA DI TRAIN VAL PRIMA DELLO SCALER"
   ]
  },
  {
   "cell_type": "code",
   "execution_count": 13,
   "metadata": {},
   "outputs": [
    {
     "name": "stdout",
     "output_type": "stream",
     "text": [
      "ATTENZIONE A STA ROBA NON DIMENTICARE!!!!!!!!!!!!!!!!!!!!!!!!!!!!!!!\n"
     ]
    }
   ],
   "source": [
    "is_train_val = False\n",
    "print(\"ATTENZIONE A STA ROBA NON DIMENTICARE!!!!!!!!!!!!!!!!!!!!!!!!!!!!!!!\")\n",
    "complete_train_features = torch.cat((expanded_train_dna_features,image_train_features),dim=1)\n",
    "complete_val_features = torch.cat((expanded_val_dna_features,image_val_features),dim=1)\n",
    "complete_test_features = torch.cat((expanded_test_dna_features,image_test_features),dim=1)\n",
    "if is_train_val:\n",
    "    complete_train_features = torch.cat((complete_train_features,complete_val_features),dim=0)\n",
    "    complete_val_features = complete_test_features\n",
    "    image_train_labels = torch.cat((image_train_labels,image_val_labels),dim=0)\n",
    "    image_val_labels = image_test_labels\n",
    "    described_species_labels = described_species_trainval\n",
    "\n",
    "scaler = StandardScaler()\n",
    "complete_train_features_scaled = scaler.fit_transform(complete_train_features)\n",
    "complete_val_features_scaled = scaler.transform(complete_val_features)"
   ]
  },
  {
   "cell_type": "code",
   "execution_count": 14,
   "metadata": {},
   "outputs": [
    {
     "data": {
      "text/plain": [
       "(13039, 5298)"
      ]
     },
     "execution_count": 14,
     "metadata": {},
     "output_type": "execute_result"
    }
   ],
   "source": [
    "complete_train_features_scaled.shape"
   ]
  },
  {
   "cell_type": "code",
   "execution_count": 15,
   "metadata": {},
   "outputs": [
    {
     "data": {
      "text/plain": [
       "(6955, 5298)"
      ]
     },
     "execution_count": 15,
     "metadata": {},
     "output_type": "execute_result"
    }
   ],
   "source": [
    "complete_val_features_scaled.shape"
   ]
  },
  {
   "cell_type": "code",
   "execution_count": 16,
   "metadata": {},
   "outputs": [],
   "source": [
    "from torch.utils.data import Dataset\n",
    "class FeatureDataset(Dataset):\n",
    "    def __init__(self, data, targets, transform=None):\n",
    "        self.data = data\n",
    "        self.targets = targets\n",
    "        \n",
    "    def __getitem__(self, index):\n",
    "        x = self.data[index]\n",
    "        y = self.targets[index].type(torch.LongTensor)\n",
    "        \n",
    "        #if self.transform:\n",
    "        #    x = Image.fromarray(self.data[index].astype(np.uint8).transpose(1,2,0))\n",
    "        #    x = self.transform(x)\n",
    "        \n",
    "        return x, y\n",
    "    \n",
    "    def __len__(self):\n",
    "        return len(self.data)\n",
    "complete_train_features_scaled = torch.tensor(complete_train_features_scaled,dtype=torch.float)\n",
    "complete_val_features_scaled = torch.tensor(complete_val_features_scaled,dtype=torch.float)\n",
    "\n",
    "d_train = FeatureDataset(complete_train_features_scaled,image_train_labels)\n",
    "d_val = FeatureDataset(complete_val_features_scaled,image_val_labels)"
   ]
  },
  {
   "cell_type": "code",
   "execution_count": 17,
   "metadata": {},
   "outputs": [
    {
     "data": {
      "text/plain": [
       "tensor(371)"
      ]
     },
     "execution_count": 17,
     "metadata": {},
     "output_type": "execute_result"
    }
   ],
   "source": [
    "species2genus.min()\n",
    "species2genus.max()"
   ]
  },
  {
   "cell_type": "code",
   "execution_count": 18,
   "metadata": {},
   "outputs": [
    {
     "data": {
      "text/plain": [
       "torch.Size([1050, 1])"
      ]
     },
     "execution_count": 18,
     "metadata": {},
     "output_type": "execute_result"
    }
   ],
   "source": [
    "species2genus.shape"
   ]
  },
  {
   "cell_type": "code",
   "execution_count": 19,
   "metadata": {},
   "outputs": [
    {
     "data": {
      "text/plain": [
       "torch.Size([13039, 5298])"
      ]
     },
     "execution_count": 19,
     "metadata": {},
     "output_type": "execute_result"
    }
   ],
   "source": [
    "complete_train_features_scaled.shape"
   ]
  },
  {
   "cell_type": "markdown",
   "metadata": {},
   "source": [
    "# Fitting model"
   ]
  },
  {
   "cell_type": "code",
   "execution_count": 20,
   "metadata": {},
   "outputs": [],
   "source": [
    "from torch.utils.data import DataLoader\n",
    "batch_size = 1000\n",
    "train_loader = DataLoader(d_train,shuffle=True,batch_size = batch_size)\n",
    "val_loader = DataLoader(d_val,shuffle=True,batch_size = batch_size)\n",
    "dataloaders = {'train':train_loader,'val':val_loader}\n",
    "dataset_sizes = {'train':len(d_train.targets),'val':len(d_val.targets)}"
   ]
  },
  {
   "cell_type": "code",
   "execution_count": 21,
   "metadata": {},
   "outputs": [],
   "source": [
    "device = torch.device(\"cuda:0\" if torch.cuda.is_available() else \"cpu\")\n",
    "model = InsectNet().to(device)\n",
    "optimizer = torch.optim.Adam(model.parameters(),weight_decay=1e-5)\n",
    "scheduler = torch.optim.lr_scheduler.CosineAnnealingLR(optimizer,T_max=5)"
   ]
  },
  {
   "cell_type": "code",
   "execution_count": 22,
   "metadata": {},
   "outputs": [],
   "source": [
    "from tqdm.notebook import tqdm\n",
    "def fit(epochs,dataloaders,optimizer,model,start_idx=0):\n",
    "    criterion = torch.nn.NLLLoss()\n",
    "    if device == 'cuda:0':\n",
    "        torch.cuda.empty_cache()\n",
    "    \n",
    "    train_losses = []\n",
    "    train_scores = []\n",
    "    val_losses = []\n",
    "    val_scores = []\n",
    "    for epoch in range(epochs):\n",
    "        running_train_corrects = 0\n",
    "        running_train_corrects_genus = 0\n",
    "        for features,labels in tqdm(dataloaders['train']):\n",
    "            model.train()\n",
    "            genus_labels = torch.tensor(species2genus[labels.int()]).squeeze().to(device)\n",
    "            features = features.to(device)\n",
    "            labels = labels.type(torch.LongTensor).to(device)\n",
    "            \n",
    "            optimizer.zero_grad()\n",
    "            predicted_labels,predicted_genus_labels = model(features)\n",
    "            \n",
    "            train_loss = criterion(predicted_labels,labels)\n",
    "            train_genus_loss = criterion(predicted_genus_labels,genus_labels)\n",
    "            train_loss+=train_genus_loss\n",
    "            train_loss.backward()\n",
    "            optimizer.step()\n",
    "            scheduler.step()\n",
    "            \n",
    "            _, preds = torch.max(predicted_labels, 1)\n",
    "            _, genus_preds = torch.max(predicted_genus_labels, 1)\n",
    "            running_train_corrects += torch.sum(preds == labels.data)\n",
    "            running_train_corrects_genus += torch.sum(genus_preds == genus_labels)\n",
    "        train_losses.append(train_loss)\n",
    "        running_val_corrects = 0\n",
    "        running_val_corrects_genus = 0\n",
    "        for features,labels in tqdm(dataloaders['val']):\n",
    "            \n",
    "            model.eval()\n",
    "            with torch.no_grad():\n",
    "                genus_labels = torch.tensor(species2genus[labels.int()]).squeeze().to(device)\n",
    "                features = features.to(device)\n",
    "                labels = labels.type(torch.LongTensor).to(device)\n",
    "                optimizer.zero_grad()\n",
    "                \n",
    "                predicted_labels,predicted_genus_labels = model(features)\n",
    "                val_loss = criterion(predicted_labels,labels)\n",
    "                \n",
    "                _, preds = torch.max(predicted_labels, 1)\n",
    "                _, genus_preds = torch.max(predicted_genus_labels, 1)\n",
    "                running_val_corrects += torch.sum(preds == labels.data)\n",
    "                running_val_corrects_genus += torch.sum(genus_preds == genus_labels)\n",
    "        val_losses.append(val_loss)\n",
    "        epoch_train_acc = running_train_corrects.double() / dataset_sizes['train']\n",
    "        epoch_train_acc_genus = running_train_corrects_genus.double() / dataset_sizes['train']\n",
    "        epoch_val_acc = running_val_corrects.double() / dataset_sizes['val']\n",
    "        epoch_val_acc_genus = running_val_corrects_genus.double() / dataset_sizes['val']\n",
    "        print(\"Epoch [{}/{}], train_loss: {:.4f},  train_score: {:.4f},val_loss: {:.4f},  val_score: {:.4f}, genus train_score{:.4f}, genus val_score{:.4f}\".format(\n",
    "            epoch+1, epochs, train_loss, epoch_train_acc,val_loss,epoch_val_acc,epoch_train_acc_genus,epoch_val_acc_genus))\n",
    "    return train_losses"
   ]
  },
  {
   "cell_type": "code",
   "execution_count": 23,
   "metadata": {
    "scrolled": true
   },
   "outputs": [
    {
     "data": {
      "application/vnd.jupyter.widget-view+json": {
       "model_id": "92b8d6a970014f4f9912b1935d44393b",
       "version_major": 2,
       "version_minor": 0
      },
      "text/plain": [
       "  0%|          | 0/14 [00:00<?, ?it/s]"
      ]
     },
     "metadata": {},
     "output_type": "display_data"
    },
    {
     "name": "stderr",
     "output_type": "stream",
     "text": [
      "/tmp/ipykernel_19202/2367995586.py:16: UserWarning: To copy construct from a tensor, it is recommended to use sourceTensor.clone().detach() or sourceTensor.clone().detach().requires_grad_(True), rather than torch.tensor(sourceTensor).\n",
      "  genus_labels = torch.tensor(species2genus[labels.int()]).squeeze().to(device)\n",
      "/tmp/ipykernel_19202/1407773025.py:34: UserWarning: Implicit dimension choice for log_softmax has been deprecated. Change the call to include dim=X as an argument.\n",
      "  x_genus = torch.nn.functional.log_softmax(x/temperature)\n",
      "/home/fogliodicarta/miniconda3/envs/insetti/lib/python3.12/site-packages/torch/nn/modules/module.py:1511: UserWarning: Implicit dimension choice for log_softmax has been deprecated. Change the call to include dim=X as an argument.\n",
      "  return self._call_impl(*args, **kwargs)\n"
     ]
    },
    {
     "data": {
      "application/vnd.jupyter.widget-view+json": {
       "model_id": "9363aa4a442c45bd9bf5f5d07175c541",
       "version_major": 2,
       "version_minor": 0
      },
      "text/plain": [
       "  0%|          | 0/7 [00:00<?, ?it/s]"
      ]
     },
     "metadata": {},
     "output_type": "display_data"
    },
    {
     "name": "stdout",
     "output_type": "stream",
     "text": [
      "Epoch [1/100], train_loss: 7.8368,  train_score: 0.1726,val_loss: 6.6930,  val_score: 0.1455, genus train_score0.2884, genus val_score0.6848\n"
     ]
    },
    {
     "name": "stderr",
     "output_type": "stream",
     "text": [
      "/tmp/ipykernel_19202/2367995586.py:41: UserWarning: To copy construct from a tensor, it is recommended to use sourceTensor.clone().detach() or sourceTensor.clone().detach().requires_grad_(True), rather than torch.tensor(sourceTensor).\n",
      "  genus_labels = torch.tensor(species2genus[labels.int()]).squeeze().to(device)\n"
     ]
    },
    {
     "data": {
      "application/vnd.jupyter.widget-view+json": {
       "model_id": "2c46543770804aa99549592896d7f7eb",
       "version_major": 2,
       "version_minor": 0
      },
      "text/plain": [
       "  0%|          | 0/14 [00:00<?, ?it/s]"
      ]
     },
     "metadata": {},
     "output_type": "display_data"
    },
    {
     "data": {
      "application/vnd.jupyter.widget-view+json": {
       "model_id": "a3b81dc04e214f9aa5e61e14e4ee4adc",
       "version_major": 2,
       "version_minor": 0
      },
      "text/plain": [
       "  0%|          | 0/7 [00:00<?, ?it/s]"
      ]
     },
     "metadata": {},
     "output_type": "display_data"
    },
    {
     "name": "stdout",
     "output_type": "stream",
     "text": [
      "Epoch [2/100], train_loss: 4.8610,  train_score: 0.3493,val_loss: 7.0295,  val_score: 0.2066, genus train_score0.7605, genus val_score0.8282\n"
     ]
    },
    {
     "data": {
      "application/vnd.jupyter.widget-view+json": {
       "model_id": "d4161ca0ba904ea8932c541b6775f74c",
       "version_major": 2,
       "version_minor": 0
      },
      "text/plain": [
       "  0%|          | 0/14 [00:00<?, ?it/s]"
      ]
     },
     "metadata": {},
     "output_type": "display_data"
    },
    {
     "data": {
      "application/vnd.jupyter.widget-view+json": {
       "model_id": "d038fbf8bbf64c89afaa6684ea94a41b",
       "version_major": 2,
       "version_minor": 0
      },
      "text/plain": [
       "  0%|          | 0/7 [00:00<?, ?it/s]"
      ]
     },
     "metadata": {},
     "output_type": "display_data"
    },
    {
     "name": "stdout",
     "output_type": "stream",
     "text": [
      "Epoch [3/100], train_loss: 2.7726,  train_score: 0.5303,val_loss: 7.6191,  val_score: 0.3117, genus train_score0.8923, genus val_score0.8867\n"
     ]
    },
    {
     "data": {
      "application/vnd.jupyter.widget-view+json": {
       "model_id": "b593981391d0418d8e6e6e5b161c1eba",
       "version_major": 2,
       "version_minor": 0
      },
      "text/plain": [
       "  0%|          | 0/14 [00:00<?, ?it/s]"
      ]
     },
     "metadata": {},
     "output_type": "display_data"
    },
    {
     "data": {
      "application/vnd.jupyter.widget-view+json": {
       "model_id": "d1e176df2d6b462b83e5494e11cd4ac9",
       "version_major": 2,
       "version_minor": 0
      },
      "text/plain": [
       "  0%|          | 0/7 [00:00<?, ?it/s]"
      ]
     },
     "metadata": {},
     "output_type": "display_data"
    },
    {
     "name": "stdout",
     "output_type": "stream",
     "text": [
      "Epoch [4/100], train_loss: 2.1446,  train_score: 0.6968,val_loss: 7.4385,  val_score: 0.3531, genus train_score0.9415, genus val_score0.8950\n"
     ]
    },
    {
     "data": {
      "application/vnd.jupyter.widget-view+json": {
       "model_id": "0272f4290cb740ffb9a43eebb1598654",
       "version_major": 2,
       "version_minor": 0
      },
      "text/plain": [
       "  0%|          | 0/14 [00:00<?, ?it/s]"
      ]
     },
     "metadata": {},
     "output_type": "display_data"
    },
    {
     "data": {
      "application/vnd.jupyter.widget-view+json": {
       "model_id": "79756cc7aeee4d6cbfec24bf21280674",
       "version_major": 2,
       "version_minor": 0
      },
      "text/plain": [
       "  0%|          | 0/7 [00:00<?, ?it/s]"
      ]
     },
     "metadata": {},
     "output_type": "display_data"
    },
    {
     "name": "stdout",
     "output_type": "stream",
     "text": [
      "Epoch [5/100], train_loss: 1.5138,  train_score: 0.8106,val_loss: 7.8459,  val_score: 0.3944, genus train_score0.9607, genus val_score0.9064\n"
     ]
    },
    {
     "data": {
      "application/vnd.jupyter.widget-view+json": {
       "model_id": "911d66bb171a41de9a15ac7c557a5ea9",
       "version_major": 2,
       "version_minor": 0
      },
      "text/plain": [
       "  0%|          | 0/14 [00:00<?, ?it/s]"
      ]
     },
     "metadata": {},
     "output_type": "display_data"
    },
    {
     "data": {
      "application/vnd.jupyter.widget-view+json": {
       "model_id": "531be5e7370b40f0a06ef710f2bb1abc",
       "version_major": 2,
       "version_minor": 0
      },
      "text/plain": [
       "  0%|          | 0/7 [00:00<?, ?it/s]"
      ]
     },
     "metadata": {},
     "output_type": "display_data"
    },
    {
     "name": "stdout",
     "output_type": "stream",
     "text": [
      "Epoch [6/100], train_loss: 0.6138,  train_score: 0.8877,val_loss: 7.8194,  val_score: 0.4230, genus train_score0.9680, genus val_score0.9097\n"
     ]
    },
    {
     "data": {
      "application/vnd.jupyter.widget-view+json": {
       "model_id": "769fa51bf4bb4395b9cdce4ec368ab97",
       "version_major": 2,
       "version_minor": 0
      },
      "text/plain": [
       "  0%|          | 0/14 [00:00<?, ?it/s]"
      ]
     },
     "metadata": {},
     "output_type": "display_data"
    },
    {
     "data": {
      "application/vnd.jupyter.widget-view+json": {
       "model_id": "1a9a72ccbd104279a63eb6a44ada7473",
       "version_major": 2,
       "version_minor": 0
      },
      "text/plain": [
       "  0%|          | 0/7 [00:00<?, ?it/s]"
      ]
     },
     "metadata": {},
     "output_type": "display_data"
    },
    {
     "name": "stdout",
     "output_type": "stream",
     "text": [
      "Epoch [7/100], train_loss: 0.9369,  train_score: 0.9299,val_loss: 7.9034,  val_score: 0.4348, genus train_score0.9728, genus val_score0.9146\n"
     ]
    },
    {
     "data": {
      "application/vnd.jupyter.widget-view+json": {
       "model_id": "98777f4a8b9b4de99ff194e4ae11ddd9",
       "version_major": 2,
       "version_minor": 0
      },
      "text/plain": [
       "  0%|          | 0/14 [00:00<?, ?it/s]"
      ]
     },
     "metadata": {},
     "output_type": "display_data"
    },
    {
     "data": {
      "application/vnd.jupyter.widget-view+json": {
       "model_id": "c69e42c1c52e4cb7a6ddc38f3503316c",
       "version_major": 2,
       "version_minor": 0
      },
      "text/plain": [
       "  0%|          | 0/7 [00:00<?, ?it/s]"
      ]
     },
     "metadata": {},
     "output_type": "display_data"
    },
    {
     "name": "stdout",
     "output_type": "stream",
     "text": [
      "Epoch [8/100], train_loss: 0.3353,  train_score: 0.9520,val_loss: 7.6050,  val_score: 0.4443, genus train_score0.9761, genus val_score0.9163\n"
     ]
    },
    {
     "data": {
      "application/vnd.jupyter.widget-view+json": {
       "model_id": "3f052e68da844886b18f36c45a0aad6b",
       "version_major": 2,
       "version_minor": 0
      },
      "text/plain": [
       "  0%|          | 0/14 [00:00<?, ?it/s]"
      ]
     },
     "metadata": {},
     "output_type": "display_data"
    },
    {
     "data": {
      "application/vnd.jupyter.widget-view+json": {
       "model_id": "c2469413d2924613927d50f2113b3de5",
       "version_major": 2,
       "version_minor": 0
      },
      "text/plain": [
       "  0%|          | 0/7 [00:00<?, ?it/s]"
      ]
     },
     "metadata": {},
     "output_type": "display_data"
    },
    {
     "name": "stdout",
     "output_type": "stream",
     "text": [
      "Epoch [9/100], train_loss: 0.6877,  train_score: 0.9679,val_loss: 7.6955,  val_score: 0.4477, genus train_score0.9810, genus val_score0.9178\n"
     ]
    },
    {
     "data": {
      "application/vnd.jupyter.widget-view+json": {
       "model_id": "905160b60cd64fed89f47fb65ebe7286",
       "version_major": 2,
       "version_minor": 0
      },
      "text/plain": [
       "  0%|          | 0/14 [00:00<?, ?it/s]"
      ]
     },
     "metadata": {},
     "output_type": "display_data"
    },
    {
     "data": {
      "application/vnd.jupyter.widget-view+json": {
       "model_id": "6c9dc0cccb2741359a79910b89a95e57",
       "version_major": 2,
       "version_minor": 0
      },
      "text/plain": [
       "  0%|          | 0/7 [00:00<?, ?it/s]"
      ]
     },
     "metadata": {},
     "output_type": "display_data"
    },
    {
     "name": "stdout",
     "output_type": "stream",
     "text": [
      "Epoch [10/100], train_loss: 0.4333,  train_score: 0.9695,val_loss: 7.9718,  val_score: 0.4500, genus train_score0.9824, genus val_score0.9147\n"
     ]
    },
    {
     "data": {
      "application/vnd.jupyter.widget-view+json": {
       "model_id": "12a999dcf2c3432395d504f91b4f0e78",
       "version_major": 2,
       "version_minor": 0
      },
      "text/plain": [
       "  0%|          | 0/14 [00:00<?, ?it/s]"
      ]
     },
     "metadata": {},
     "output_type": "display_data"
    },
    {
     "data": {
      "application/vnd.jupyter.widget-view+json": {
       "model_id": "69f3f80a920f43f7ad90d36b3ecd3666",
       "version_major": 2,
       "version_minor": 0
      },
      "text/plain": [
       "  0%|          | 0/7 [00:00<?, ?it/s]"
      ]
     },
     "metadata": {},
     "output_type": "display_data"
    },
    {
     "name": "stdout",
     "output_type": "stream",
     "text": [
      "Epoch [11/100], train_loss: 0.2111,  train_score: 0.9748,val_loss: 7.6830,  val_score: 0.4512, genus train_score0.9854, genus val_score0.9139\n"
     ]
    },
    {
     "data": {
      "application/vnd.jupyter.widget-view+json": {
       "model_id": "604c1f98b3324f30b52d40cc561a80ec",
       "version_major": 2,
       "version_minor": 0
      },
      "text/plain": [
       "  0%|          | 0/14 [00:00<?, ?it/s]"
      ]
     },
     "metadata": {},
     "output_type": "display_data"
    },
    {
     "data": {
      "application/vnd.jupyter.widget-view+json": {
       "model_id": "8a2c248841434b7aa97ae00ad73c5a97",
       "version_major": 2,
       "version_minor": 0
      },
      "text/plain": [
       "  0%|          | 0/7 [00:00<?, ?it/s]"
      ]
     },
     "metadata": {},
     "output_type": "display_data"
    },
    {
     "name": "stdout",
     "output_type": "stream",
     "text": [
      "Epoch [12/100], train_loss: 0.4383,  train_score: 0.9788,val_loss: 7.6752,  val_score: 0.4513, genus train_score0.9846, genus val_score0.9176\n"
     ]
    },
    {
     "data": {
      "application/vnd.jupyter.widget-view+json": {
       "model_id": "12747249a86244b0bbd01cfa35f15d19",
       "version_major": 2,
       "version_minor": 0
      },
      "text/plain": [
       "  0%|          | 0/14 [00:00<?, ?it/s]"
      ]
     },
     "metadata": {},
     "output_type": "display_data"
    },
    {
     "data": {
      "application/vnd.jupyter.widget-view+json": {
       "model_id": "1ccf28fd0c4e4037ad00ae7656086f59",
       "version_major": 2,
       "version_minor": 0
      },
      "text/plain": [
       "  0%|          | 0/7 [00:00<?, ?it/s]"
      ]
     },
     "metadata": {},
     "output_type": "display_data"
    },
    {
     "name": "stdout",
     "output_type": "stream",
     "text": [
      "Epoch [13/100], train_loss: 0.6160,  train_score: 0.9805,val_loss: 7.9889,  val_score: 0.4539, genus train_score0.9875, genus val_score0.9208\n"
     ]
    },
    {
     "data": {
      "application/vnd.jupyter.widget-view+json": {
       "model_id": "54202008be4b46199dd7d590ed6b64c1",
       "version_major": 2,
       "version_minor": 0
      },
      "text/plain": [
       "  0%|          | 0/14 [00:00<?, ?it/s]"
      ]
     },
     "metadata": {},
     "output_type": "display_data"
    },
    {
     "data": {
      "application/vnd.jupyter.widget-view+json": {
       "model_id": "89e3d6ac9074484f94bdc974dcba946e",
       "version_major": 2,
       "version_minor": 0
      },
      "text/plain": [
       "  0%|          | 0/7 [00:00<?, ?it/s]"
      ]
     },
     "metadata": {},
     "output_type": "display_data"
    },
    {
     "name": "stdout",
     "output_type": "stream",
     "text": [
      "Epoch [14/100], train_loss: 0.1659,  train_score: 0.9848,val_loss: 7.7051,  val_score: 0.4526, genus train_score0.9886, genus val_score0.9191\n"
     ]
    },
    {
     "data": {
      "application/vnd.jupyter.widget-view+json": {
       "model_id": "3285dbd7d75e4160866d7e278370b3f3",
       "version_major": 2,
       "version_minor": 0
      },
      "text/plain": [
       "  0%|          | 0/14 [00:00<?, ?it/s]"
      ]
     },
     "metadata": {},
     "output_type": "display_data"
    },
    {
     "data": {
      "application/vnd.jupyter.widget-view+json": {
       "model_id": "cbaba94b65be4ecda734c4c733b19dc1",
       "version_major": 2,
       "version_minor": 0
      },
      "text/plain": [
       "  0%|          | 0/7 [00:00<?, ?it/s]"
      ]
     },
     "metadata": {},
     "output_type": "display_data"
    },
    {
     "name": "stdout",
     "output_type": "stream",
     "text": [
      "Epoch [15/100], train_loss: 0.0767,  train_score: 0.9848,val_loss: 8.2438,  val_score: 0.4542, genus train_score0.9894, genus val_score0.9202\n"
     ]
    },
    {
     "data": {
      "application/vnd.jupyter.widget-view+json": {
       "model_id": "39f07778a604443fbdb2403fd7cac303",
       "version_major": 2,
       "version_minor": 0
      },
      "text/plain": [
       "  0%|          | 0/14 [00:00<?, ?it/s]"
      ]
     },
     "metadata": {},
     "output_type": "display_data"
    },
    {
     "data": {
      "application/vnd.jupyter.widget-view+json": {
       "model_id": "f0d28499e50841e5a931352b42979b54",
       "version_major": 2,
       "version_minor": 0
      },
      "text/plain": [
       "  0%|          | 0/7 [00:00<?, ?it/s]"
      ]
     },
     "metadata": {},
     "output_type": "display_data"
    },
    {
     "name": "stdout",
     "output_type": "stream",
     "text": [
      "Epoch [16/100], train_loss: 0.0408,  train_score: 0.9848,val_loss: 8.1699,  val_score: 0.4541, genus train_score0.9908, genus val_score0.9192\n"
     ]
    },
    {
     "data": {
      "application/vnd.jupyter.widget-view+json": {
       "model_id": "6635826c9b144afa9793495c7df5d1e6",
       "version_major": 2,
       "version_minor": 0
      },
      "text/plain": [
       "  0%|          | 0/14 [00:00<?, ?it/s]"
      ]
     },
     "metadata": {},
     "output_type": "display_data"
    },
    {
     "data": {
      "application/vnd.jupyter.widget-view+json": {
       "model_id": "11148909c4244adba5f964b3f61e40aa",
       "version_major": 2,
       "version_minor": 0
      },
      "text/plain": [
       "  0%|          | 0/7 [00:00<?, ?it/s]"
      ]
     },
     "metadata": {},
     "output_type": "display_data"
    },
    {
     "name": "stdout",
     "output_type": "stream",
     "text": [
      "Epoch [17/100], train_loss: 0.0874,  train_score: 0.9880,val_loss: 7.7464,  val_score: 0.4546, genus train_score0.9898, genus val_score0.9214\n"
     ]
    },
    {
     "data": {
      "application/vnd.jupyter.widget-view+json": {
       "model_id": "1949fad1cac345888596fe3785f5b464",
       "version_major": 2,
       "version_minor": 0
      },
      "text/plain": [
       "  0%|          | 0/14 [00:00<?, ?it/s]"
      ]
     },
     "metadata": {},
     "output_type": "display_data"
    },
    {
     "data": {
      "application/vnd.jupyter.widget-view+json": {
       "model_id": "d75f1d264a174226981be37d0170c83b",
       "version_major": 2,
       "version_minor": 0
      },
      "text/plain": [
       "  0%|          | 0/7 [00:00<?, ?it/s]"
      ]
     },
     "metadata": {},
     "output_type": "display_data"
    },
    {
     "name": "stdout",
     "output_type": "stream",
     "text": [
      "Epoch [18/100], train_loss: 0.1282,  train_score: 0.9867,val_loss: 7.7950,  val_score: 0.4538, genus train_score0.9921, genus val_score0.9228\n"
     ]
    },
    {
     "data": {
      "application/vnd.jupyter.widget-view+json": {
       "model_id": "0eff385468304a5d90815b80888f96c5",
       "version_major": 2,
       "version_minor": 0
      },
      "text/plain": [
       "  0%|          | 0/14 [00:00<?, ?it/s]"
      ]
     },
     "metadata": {},
     "output_type": "display_data"
    },
    {
     "data": {
      "application/vnd.jupyter.widget-view+json": {
       "model_id": "7ebb9a1ebee0434e947b896df079933d",
       "version_major": 2,
       "version_minor": 0
      },
      "text/plain": [
       "  0%|          | 0/7 [00:00<?, ?it/s]"
      ]
     },
     "metadata": {},
     "output_type": "display_data"
    },
    {
     "name": "stdout",
     "output_type": "stream",
     "text": [
      "Epoch [19/100], train_loss: 0.4805,  train_score: 0.9870,val_loss: 8.3573,  val_score: 0.4558, genus train_score0.9913, genus val_score0.9226\n"
     ]
    },
    {
     "data": {
      "application/vnd.jupyter.widget-view+json": {
       "model_id": "eeb6588f61bf4191b7d7cea4d7a19135",
       "version_major": 2,
       "version_minor": 0
      },
      "text/plain": [
       "  0%|          | 0/14 [00:00<?, ?it/s]"
      ]
     },
     "metadata": {},
     "output_type": "display_data"
    },
    {
     "data": {
      "application/vnd.jupyter.widget-view+json": {
       "model_id": "0077e77b55af421896ce9dc6ed37d6bc",
       "version_major": 2,
       "version_minor": 0
      },
      "text/plain": [
       "  0%|          | 0/7 [00:00<?, ?it/s]"
      ]
     },
     "metadata": {},
     "output_type": "display_data"
    },
    {
     "name": "stdout",
     "output_type": "stream",
     "text": [
      "Epoch [20/100], train_loss: 0.0641,  train_score: 0.9887,val_loss: 7.9052,  val_score: 0.4548, genus train_score0.9920, genus val_score0.9247\n"
     ]
    },
    {
     "data": {
      "application/vnd.jupyter.widget-view+json": {
       "model_id": "a156b79318c84c7789262e1eec898c6d",
       "version_major": 2,
       "version_minor": 0
      },
      "text/plain": [
       "  0%|          | 0/14 [00:00<?, ?it/s]"
      ]
     },
     "metadata": {},
     "output_type": "display_data"
    },
    {
     "data": {
      "application/vnd.jupyter.widget-view+json": {
       "model_id": "f3ce9fc2efe64b5a9e1837c353b35ba8",
       "version_major": 2,
       "version_minor": 0
      },
      "text/plain": [
       "  0%|          | 0/7 [00:00<?, ?it/s]"
      ]
     },
     "metadata": {},
     "output_type": "display_data"
    },
    {
     "name": "stdout",
     "output_type": "stream",
     "text": [
      "Epoch [21/100], train_loss: 0.0492,  train_score: 0.9893,val_loss: 8.3542,  val_score: 0.4551, genus train_score0.9929, genus val_score0.9262\n"
     ]
    },
    {
     "data": {
      "application/vnd.jupyter.widget-view+json": {
       "model_id": "1edbc97db3e24df0aca95c8b99298a21",
       "version_major": 2,
       "version_minor": 0
      },
      "text/plain": [
       "  0%|          | 0/14 [00:00<?, ?it/s]"
      ]
     },
     "metadata": {},
     "output_type": "display_data"
    },
    {
     "data": {
      "application/vnd.jupyter.widget-view+json": {
       "model_id": "9682fa7594ec46708be272d671495a3b",
       "version_major": 2,
       "version_minor": 0
      },
      "text/plain": [
       "  0%|          | 0/7 [00:00<?, ?it/s]"
      ]
     },
     "metadata": {},
     "output_type": "display_data"
    },
    {
     "name": "stdout",
     "output_type": "stream",
     "text": [
      "Epoch [22/100], train_loss: 0.0490,  train_score: 0.9921,val_loss: 7.8856,  val_score: 0.4552, genus train_score0.9936, genus val_score0.9258\n"
     ]
    },
    {
     "data": {
      "application/vnd.jupyter.widget-view+json": {
       "model_id": "025c9756a4c44ac3b20084f7679fb6c6",
       "version_major": 2,
       "version_minor": 0
      },
      "text/plain": [
       "  0%|          | 0/14 [00:00<?, ?it/s]"
      ]
     },
     "metadata": {},
     "output_type": "display_data"
    },
    {
     "data": {
      "application/vnd.jupyter.widget-view+json": {
       "model_id": "0dce774283514eb0b83bc59035be2385",
       "version_major": 2,
       "version_minor": 0
      },
      "text/plain": [
       "  0%|          | 0/7 [00:00<?, ?it/s]"
      ]
     },
     "metadata": {},
     "output_type": "display_data"
    },
    {
     "name": "stdout",
     "output_type": "stream",
     "text": [
      "Epoch [23/100], train_loss: 0.0692,  train_score: 0.9916,val_loss: 8.3206,  val_score: 0.4552, genus train_score0.9931, genus val_score0.9264\n"
     ]
    },
    {
     "data": {
      "application/vnd.jupyter.widget-view+json": {
       "model_id": "194c0839e9c84385bf865e86b535ff75",
       "version_major": 2,
       "version_minor": 0
      },
      "text/plain": [
       "  0%|          | 0/14 [00:00<?, ?it/s]"
      ]
     },
     "metadata": {},
     "output_type": "display_data"
    },
    {
     "data": {
      "application/vnd.jupyter.widget-view+json": {
       "model_id": "c284fc4a4fba40b4bfbd766ddeba4498",
       "version_major": 2,
       "version_minor": 0
      },
      "text/plain": [
       "  0%|          | 0/7 [00:00<?, ?it/s]"
      ]
     },
     "metadata": {},
     "output_type": "display_data"
    },
    {
     "name": "stdout",
     "output_type": "stream",
     "text": [
      "Epoch [24/100], train_loss: 0.0493,  train_score: 0.9923,val_loss: 8.2322,  val_score: 0.4555, genus train_score0.9943, genus val_score0.9257\n"
     ]
    },
    {
     "data": {
      "application/vnd.jupyter.widget-view+json": {
       "model_id": "bfb35accdd324bdfad833b096e757461",
       "version_major": 2,
       "version_minor": 0
      },
      "text/plain": [
       "  0%|          | 0/14 [00:00<?, ?it/s]"
      ]
     },
     "metadata": {},
     "output_type": "display_data"
    },
    {
     "data": {
      "application/vnd.jupyter.widget-view+json": {
       "model_id": "7e2f9d2232df48b283c4f07988d46a6c",
       "version_major": 2,
       "version_minor": 0
      },
      "text/plain": [
       "  0%|          | 0/7 [00:00<?, ?it/s]"
      ]
     },
     "metadata": {},
     "output_type": "display_data"
    },
    {
     "name": "stdout",
     "output_type": "stream",
     "text": [
      "Epoch [25/100], train_loss: 0.4281,  train_score: 0.9914,val_loss: 8.4620,  val_score: 0.4562, genus train_score0.9939, genus val_score0.9252\n"
     ]
    },
    {
     "data": {
      "application/vnd.jupyter.widget-view+json": {
       "model_id": "17bca2605b024b3ea6f9ea924c821d0a",
       "version_major": 2,
       "version_minor": 0
      },
      "text/plain": [
       "  0%|          | 0/14 [00:00<?, ?it/s]"
      ]
     },
     "metadata": {},
     "output_type": "display_data"
    },
    {
     "data": {
      "application/vnd.jupyter.widget-view+json": {
       "model_id": "b40ebebae91643c097259ec6be85c97b",
       "version_major": 2,
       "version_minor": 0
      },
      "text/plain": [
       "  0%|          | 0/7 [00:00<?, ?it/s]"
      ]
     },
     "metadata": {},
     "output_type": "display_data"
    },
    {
     "name": "stdout",
     "output_type": "stream",
     "text": [
      "Epoch [26/100], train_loss: 0.0480,  train_score: 0.9925,val_loss: 8.6773,  val_score: 0.4566, genus train_score0.9947, genus val_score0.9251\n"
     ]
    },
    {
     "data": {
      "application/vnd.jupyter.widget-view+json": {
       "model_id": "2e7aeaa47c6a45428b02e0835c6b9411",
       "version_major": 2,
       "version_minor": 0
      },
      "text/plain": [
       "  0%|          | 0/14 [00:00<?, ?it/s]"
      ]
     },
     "metadata": {},
     "output_type": "display_data"
    },
    {
     "data": {
      "application/vnd.jupyter.widget-view+json": {
       "model_id": "40850f74232f48e3a6bdb044b0213873",
       "version_major": 2,
       "version_minor": 0
      },
      "text/plain": [
       "  0%|          | 0/7 [00:00<?, ?it/s]"
      ]
     },
     "metadata": {},
     "output_type": "display_data"
    },
    {
     "name": "stdout",
     "output_type": "stream",
     "text": [
      "Epoch [27/100], train_loss: 0.0962,  train_score: 0.9939,val_loss: 8.4261,  val_score: 0.4561, genus train_score0.9953, genus val_score0.9247\n"
     ]
    },
    {
     "data": {
      "application/vnd.jupyter.widget-view+json": {
       "model_id": "e805566bb1be4cec9c4f8a5482ae874c",
       "version_major": 2,
       "version_minor": 0
      },
      "text/plain": [
       "  0%|          | 0/14 [00:00<?, ?it/s]"
      ]
     },
     "metadata": {},
     "output_type": "display_data"
    },
    {
     "data": {
      "application/vnd.jupyter.widget-view+json": {
       "model_id": "b533793a87a04bfb85decbc20ec74f0b",
       "version_major": 2,
       "version_minor": 0
      },
      "text/plain": [
       "  0%|          | 0/7 [00:00<?, ?it/s]"
      ]
     },
     "metadata": {},
     "output_type": "display_data"
    },
    {
     "name": "stdout",
     "output_type": "stream",
     "text": [
      "Epoch [28/100], train_loss: 0.1355,  train_score: 0.9916,val_loss: 8.6131,  val_score: 0.4562, genus train_score0.9946, genus val_score0.9280\n"
     ]
    },
    {
     "data": {
      "application/vnd.jupyter.widget-view+json": {
       "model_id": "3faaed3162954d0b9087f86aeea2eb8a",
       "version_major": 2,
       "version_minor": 0
      },
      "text/plain": [
       "  0%|          | 0/14 [00:00<?, ?it/s]"
      ]
     },
     "metadata": {},
     "output_type": "display_data"
    },
    {
     "data": {
      "application/vnd.jupyter.widget-view+json": {
       "model_id": "bce474e1a2604a91a2b3156e0a32cb19",
       "version_major": 2,
       "version_minor": 0
      },
      "text/plain": [
       "  0%|          | 0/7 [00:00<?, ?it/s]"
      ]
     },
     "metadata": {},
     "output_type": "display_data"
    },
    {
     "name": "stdout",
     "output_type": "stream",
     "text": [
      "Epoch [29/100], train_loss: 0.0280,  train_score: 0.9944,val_loss: 8.4102,  val_score: 0.4555, genus train_score0.9951, genus val_score0.9290\n"
     ]
    },
    {
     "data": {
      "application/vnd.jupyter.widget-view+json": {
       "model_id": "0e62d0c1efd949f1ae0e407f6127e204",
       "version_major": 2,
       "version_minor": 0
      },
      "text/plain": [
       "  0%|          | 0/14 [00:00<?, ?it/s]"
      ]
     },
     "metadata": {},
     "output_type": "display_data"
    },
    {
     "data": {
      "application/vnd.jupyter.widget-view+json": {
       "model_id": "2d545290a8bd4f6390d82f034eb35144",
       "version_major": 2,
       "version_minor": 0
      },
      "text/plain": [
       "  0%|          | 0/7 [00:00<?, ?it/s]"
      ]
     },
     "metadata": {},
     "output_type": "display_data"
    },
    {
     "name": "stdout",
     "output_type": "stream",
     "text": [
      "Epoch [30/100], train_loss: 0.0153,  train_score: 0.9939,val_loss: 8.1972,  val_score: 0.4559, genus train_score0.9954, genus val_score0.9281\n"
     ]
    },
    {
     "data": {
      "application/vnd.jupyter.widget-view+json": {
       "model_id": "0cad27564f614f7f89925dc941f0aa09",
       "version_major": 2,
       "version_minor": 0
      },
      "text/plain": [
       "  0%|          | 0/14 [00:00<?, ?it/s]"
      ]
     },
     "metadata": {},
     "output_type": "display_data"
    },
    {
     "data": {
      "application/vnd.jupyter.widget-view+json": {
       "model_id": "5bb6e67c77e24f8d9ab1d325b20f1f33",
       "version_major": 2,
       "version_minor": 0
      },
      "text/plain": [
       "  0%|          | 0/7 [00:00<?, ?it/s]"
      ]
     },
     "metadata": {},
     "output_type": "display_data"
    },
    {
     "name": "stdout",
     "output_type": "stream",
     "text": [
      "Epoch [31/100], train_loss: 0.0226,  train_score: 0.9944,val_loss: 8.6632,  val_score: 0.4562, genus train_score0.9953, genus val_score0.9277\n"
     ]
    },
    {
     "data": {
      "application/vnd.jupyter.widget-view+json": {
       "model_id": "a4c1a422cbcb41c8abc60405997e8008",
       "version_major": 2,
       "version_minor": 0
      },
      "text/plain": [
       "  0%|          | 0/14 [00:00<?, ?it/s]"
      ]
     },
     "metadata": {},
     "output_type": "display_data"
    },
    {
     "data": {
      "application/vnd.jupyter.widget-view+json": {
       "model_id": "6919e74fd92443af85a737cf1b59f806",
       "version_major": 2,
       "version_minor": 0
      },
      "text/plain": [
       "  0%|          | 0/7 [00:00<?, ?it/s]"
      ]
     },
     "metadata": {},
     "output_type": "display_data"
    },
    {
     "name": "stdout",
     "output_type": "stream",
     "text": [
      "Epoch [32/100], train_loss: 0.0212,  train_score: 0.9952,val_loss: 8.1754,  val_score: 0.4562, genus train_score0.9963, genus val_score0.9268\n"
     ]
    },
    {
     "data": {
      "application/vnd.jupyter.widget-view+json": {
       "model_id": "ce253bb36f2c4f5490b508c569cc552f",
       "version_major": 2,
       "version_minor": 0
      },
      "text/plain": [
       "  0%|          | 0/14 [00:00<?, ?it/s]"
      ]
     },
     "metadata": {},
     "output_type": "display_data"
    },
    {
     "data": {
      "application/vnd.jupyter.widget-view+json": {
       "model_id": "7669a689d1ad4b74b26882c33e214257",
       "version_major": 2,
       "version_minor": 0
      },
      "text/plain": [
       "  0%|          | 0/7 [00:00<?, ?it/s]"
      ]
     },
     "metadata": {},
     "output_type": "display_data"
    },
    {
     "name": "stdout",
     "output_type": "stream",
     "text": [
      "Epoch [33/100], train_loss: 0.0223,  train_score: 0.9959,val_loss: 8.5723,  val_score: 0.4559, genus train_score0.9959, genus val_score0.9260\n"
     ]
    },
    {
     "data": {
      "application/vnd.jupyter.widget-view+json": {
       "model_id": "25136e2ada3c4224a8b6643dc40dcf18",
       "version_major": 2,
       "version_minor": 0
      },
      "text/plain": [
       "  0%|          | 0/14 [00:00<?, ?it/s]"
      ]
     },
     "metadata": {},
     "output_type": "display_data"
    },
    {
     "data": {
      "application/vnd.jupyter.widget-view+json": {
       "model_id": "2a9d801e27f04208bfbc9c9044b1068b",
       "version_major": 2,
       "version_minor": 0
      },
      "text/plain": [
       "  0%|          | 0/7 [00:00<?, ?it/s]"
      ]
     },
     "metadata": {},
     "output_type": "display_data"
    },
    {
     "name": "stdout",
     "output_type": "stream",
     "text": [
      "Epoch [34/100], train_loss: 0.0238,  train_score: 0.9955,val_loss: 8.6651,  val_score: 0.4556, genus train_score0.9956, genus val_score0.9208\n"
     ]
    },
    {
     "data": {
      "application/vnd.jupyter.widget-view+json": {
       "model_id": "64c3a540f8c545b0b4f750b84027312e",
       "version_major": 2,
       "version_minor": 0
      },
      "text/plain": [
       "  0%|          | 0/14 [00:00<?, ?it/s]"
      ]
     },
     "metadata": {},
     "output_type": "display_data"
    },
    {
     "data": {
      "application/vnd.jupyter.widget-view+json": {
       "model_id": "b1ef19fd0dc44f6da9013661402d30f7",
       "version_major": 2,
       "version_minor": 0
      },
      "text/plain": [
       "  0%|          | 0/7 [00:00<?, ?it/s]"
      ]
     },
     "metadata": {},
     "output_type": "display_data"
    },
    {
     "name": "stdout",
     "output_type": "stream",
     "text": [
      "Epoch [35/100], train_loss: 0.0582,  train_score: 0.9964,val_loss: 8.1394,  val_score: 0.4562, genus train_score0.9965, genus val_score0.9212\n"
     ]
    },
    {
     "data": {
      "application/vnd.jupyter.widget-view+json": {
       "model_id": "4c3300c00e704ad0875d5ab77cbe7101",
       "version_major": 2,
       "version_minor": 0
      },
      "text/plain": [
       "  0%|          | 0/14 [00:00<?, ?it/s]"
      ]
     },
     "metadata": {},
     "output_type": "display_data"
    },
    {
     "data": {
      "application/vnd.jupyter.widget-view+json": {
       "model_id": "197beada45f54bfe8cb2d011b1173be4",
       "version_major": 2,
       "version_minor": 0
      },
      "text/plain": [
       "  0%|          | 0/7 [00:00<?, ?it/s]"
      ]
     },
     "metadata": {},
     "output_type": "display_data"
    },
    {
     "name": "stdout",
     "output_type": "stream",
     "text": [
      "Epoch [36/100], train_loss: 0.0172,  train_score: 0.9950,val_loss: 8.6048,  val_score: 0.4562, genus train_score0.9966, genus val_score0.9229\n"
     ]
    },
    {
     "data": {
      "application/vnd.jupyter.widget-view+json": {
       "model_id": "7e85e816568f4c3899c4a1aef7162124",
       "version_major": 2,
       "version_minor": 0
      },
      "text/plain": [
       "  0%|          | 0/14 [00:00<?, ?it/s]"
      ]
     },
     "metadata": {},
     "output_type": "display_data"
    },
    {
     "data": {
      "application/vnd.jupyter.widget-view+json": {
       "model_id": "71e5d2bdb6fc4c3386b8f0be29d138f1",
       "version_major": 2,
       "version_minor": 0
      },
      "text/plain": [
       "  0%|          | 0/7 [00:00<?, ?it/s]"
      ]
     },
     "metadata": {},
     "output_type": "display_data"
    },
    {
     "name": "stdout",
     "output_type": "stream",
     "text": [
      "Epoch [37/100], train_loss: 0.2571,  train_score: 0.9959,val_loss: 8.3124,  val_score: 0.4571, genus train_score0.9965, genus val_score0.9238\n"
     ]
    },
    {
     "data": {
      "application/vnd.jupyter.widget-view+json": {
       "model_id": "5f1335d18a2a439ab88d217701292097",
       "version_major": 2,
       "version_minor": 0
      },
      "text/plain": [
       "  0%|          | 0/14 [00:00<?, ?it/s]"
      ]
     },
     "metadata": {},
     "output_type": "display_data"
    },
    {
     "data": {
      "application/vnd.jupyter.widget-view+json": {
       "model_id": "96a1df96e923421eae0090a131dab3d3",
       "version_major": 2,
       "version_minor": 0
      },
      "text/plain": [
       "  0%|          | 0/7 [00:00<?, ?it/s]"
      ]
     },
     "metadata": {},
     "output_type": "display_data"
    },
    {
     "name": "stdout",
     "output_type": "stream",
     "text": [
      "Epoch [38/100], train_loss: 0.0819,  train_score: 0.9949,val_loss: 8.0539,  val_score: 0.4574, genus train_score0.9960, genus val_score0.9261\n"
     ]
    },
    {
     "data": {
      "application/vnd.jupyter.widget-view+json": {
       "model_id": "280bdf31472d467883bd9084b8511c3b",
       "version_major": 2,
       "version_minor": 0
      },
      "text/plain": [
       "  0%|          | 0/14 [00:00<?, ?it/s]"
      ]
     },
     "metadata": {},
     "output_type": "display_data"
    },
    {
     "data": {
      "application/vnd.jupyter.widget-view+json": {
       "model_id": "0c3d752e70bb48aa87d3fa0244ca1cd4",
       "version_major": 2,
       "version_minor": 0
      },
      "text/plain": [
       "  0%|          | 0/7 [00:00<?, ?it/s]"
      ]
     },
     "metadata": {},
     "output_type": "display_data"
    },
    {
     "name": "stdout",
     "output_type": "stream",
     "text": [
      "Epoch [39/100], train_loss: 0.0158,  train_score: 0.9959,val_loss: 8.2190,  val_score: 0.4574, genus train_score0.9966, genus val_score0.9254\n"
     ]
    },
    {
     "data": {
      "application/vnd.jupyter.widget-view+json": {
       "model_id": "cfd743e17d654f9bbf2fbdc8d0ce9ac4",
       "version_major": 2,
       "version_minor": 0
      },
      "text/plain": [
       "  0%|          | 0/14 [00:00<?, ?it/s]"
      ]
     },
     "metadata": {},
     "output_type": "display_data"
    },
    {
     "data": {
      "application/vnd.jupyter.widget-view+json": {
       "model_id": "d9444783ea654e748b4e06fec77510e1",
       "version_major": 2,
       "version_minor": 0
      },
      "text/plain": [
       "  0%|          | 0/7 [00:00<?, ?it/s]"
      ]
     },
     "metadata": {},
     "output_type": "display_data"
    },
    {
     "name": "stdout",
     "output_type": "stream",
     "text": [
      "Epoch [40/100], train_loss: 0.0281,  train_score: 0.9952,val_loss: 8.1558,  val_score: 0.4574, genus train_score0.9966, genus val_score0.9249\n"
     ]
    },
    {
     "data": {
      "application/vnd.jupyter.widget-view+json": {
       "model_id": "9bd12db099cd4faeb29269e75af2c8d1",
       "version_major": 2,
       "version_minor": 0
      },
      "text/plain": [
       "  0%|          | 0/14 [00:00<?, ?it/s]"
      ]
     },
     "metadata": {},
     "output_type": "display_data"
    },
    {
     "data": {
      "application/vnd.jupyter.widget-view+json": {
       "model_id": "05bda3d484ee43d9981972bd059a2855",
       "version_major": 2,
       "version_minor": 0
      },
      "text/plain": [
       "  0%|          | 0/7 [00:00<?, ?it/s]"
      ]
     },
     "metadata": {},
     "output_type": "display_data"
    },
    {
     "name": "stdout",
     "output_type": "stream",
     "text": [
      "Epoch [41/100], train_loss: 0.0468,  train_score: 0.9963,val_loss: 8.8373,  val_score: 0.4572, genus train_score0.9972, genus val_score0.9288\n"
     ]
    },
    {
     "data": {
      "application/vnd.jupyter.widget-view+json": {
       "model_id": "551e71ca68f141aa9ab13f1687a96241",
       "version_major": 2,
       "version_minor": 0
      },
      "text/plain": [
       "  0%|          | 0/14 [00:00<?, ?it/s]"
      ]
     },
     "metadata": {},
     "output_type": "display_data"
    },
    {
     "data": {
      "application/vnd.jupyter.widget-view+json": {
       "model_id": "f1cc3597e9bf4690a113c47219f838c2",
       "version_major": 2,
       "version_minor": 0
      },
      "text/plain": [
       "  0%|          | 0/7 [00:00<?, ?it/s]"
      ]
     },
     "metadata": {},
     "output_type": "display_data"
    },
    {
     "name": "stdout",
     "output_type": "stream",
     "text": [
      "Epoch [42/100], train_loss: 0.0341,  train_score: 0.9962,val_loss: 8.5641,  val_score: 0.4568, genus train_score0.9970, genus val_score0.9285\n"
     ]
    },
    {
     "data": {
      "application/vnd.jupyter.widget-view+json": {
       "model_id": "b6ac58e2beeb4ddfa21147828446c833",
       "version_major": 2,
       "version_minor": 0
      },
      "text/plain": [
       "  0%|          | 0/14 [00:00<?, ?it/s]"
      ]
     },
     "metadata": {},
     "output_type": "display_data"
    },
    {
     "data": {
      "application/vnd.jupyter.widget-view+json": {
       "model_id": "d748b0bb9dea4e36b0ee059e1d847ecf",
       "version_major": 2,
       "version_minor": 0
      },
      "text/plain": [
       "  0%|          | 0/7 [00:00<?, ?it/s]"
      ]
     },
     "metadata": {},
     "output_type": "display_data"
    },
    {
     "name": "stdout",
     "output_type": "stream",
     "text": [
      "Epoch [43/100], train_loss: 0.0223,  train_score: 0.9949,val_loss: 8.0704,  val_score: 0.4569, genus train_score0.9970, genus val_score0.9272\n"
     ]
    },
    {
     "data": {
      "application/vnd.jupyter.widget-view+json": {
       "model_id": "fe7e49fa13c24ba38cbfb42e3e7d73cf",
       "version_major": 2,
       "version_minor": 0
      },
      "text/plain": [
       "  0%|          | 0/14 [00:00<?, ?it/s]"
      ]
     },
     "metadata": {},
     "output_type": "display_data"
    },
    {
     "data": {
      "application/vnd.jupyter.widget-view+json": {
       "model_id": "6d41d09edd154b04bc22011f4cd83fa7",
       "version_major": 2,
       "version_minor": 0
      },
      "text/plain": [
       "  0%|          | 0/7 [00:00<?, ?it/s]"
      ]
     },
     "metadata": {},
     "output_type": "display_data"
    },
    {
     "name": "stdout",
     "output_type": "stream",
     "text": [
      "Epoch [44/100], train_loss: 0.0162,  train_score: 0.9968,val_loss: 8.4353,  val_score: 0.4571, genus train_score0.9976, genus val_score0.9262\n"
     ]
    },
    {
     "data": {
      "application/vnd.jupyter.widget-view+json": {
       "model_id": "87885edaee2348f7af56b6640e4a747a",
       "version_major": 2,
       "version_minor": 0
      },
      "text/plain": [
       "  0%|          | 0/14 [00:00<?, ?it/s]"
      ]
     },
     "metadata": {},
     "output_type": "display_data"
    },
    {
     "data": {
      "application/vnd.jupyter.widget-view+json": {
       "model_id": "85fd2e52cf5049609b3d1f48bb28f41b",
       "version_major": 2,
       "version_minor": 0
      },
      "text/plain": [
       "  0%|          | 0/7 [00:00<?, ?it/s]"
      ]
     },
     "metadata": {},
     "output_type": "display_data"
    },
    {
     "name": "stdout",
     "output_type": "stream",
     "text": [
      "Epoch [45/100], train_loss: 0.0131,  train_score: 0.9972,val_loss: 8.3819,  val_score: 0.4574, genus train_score0.9972, genus val_score0.9270\n"
     ]
    },
    {
     "data": {
      "application/vnd.jupyter.widget-view+json": {
       "model_id": "c5090e4d98444e1e858af32b6b7fd7e0",
       "version_major": 2,
       "version_minor": 0
      },
      "text/plain": [
       "  0%|          | 0/14 [00:00<?, ?it/s]"
      ]
     },
     "metadata": {},
     "output_type": "display_data"
    },
    {
     "data": {
      "application/vnd.jupyter.widget-view+json": {
       "model_id": "f0181da99a1d4af1b66a1b8c1978b245",
       "version_major": 2,
       "version_minor": 0
      },
      "text/plain": [
       "  0%|          | 0/7 [00:00<?, ?it/s]"
      ]
     },
     "metadata": {},
     "output_type": "display_data"
    },
    {
     "name": "stdout",
     "output_type": "stream",
     "text": [
      "Epoch [46/100], train_loss: 0.0146,  train_score: 0.9975,val_loss: 8.5018,  val_score: 0.4572, genus train_score0.9980, genus val_score0.9267\n"
     ]
    },
    {
     "data": {
      "application/vnd.jupyter.widget-view+json": {
       "model_id": "169c53f77a6945eca8186591fafab410",
       "version_major": 2,
       "version_minor": 0
      },
      "text/plain": [
       "  0%|          | 0/14 [00:00<?, ?it/s]"
      ]
     },
     "metadata": {},
     "output_type": "display_data"
    },
    {
     "data": {
      "application/vnd.jupyter.widget-view+json": {
       "model_id": "8f0d174cd11f435db48e052ce9102b3c",
       "version_major": 2,
       "version_minor": 0
      },
      "text/plain": [
       "  0%|          | 0/7 [00:00<?, ?it/s]"
      ]
     },
     "metadata": {},
     "output_type": "display_data"
    },
    {
     "name": "stdout",
     "output_type": "stream",
     "text": [
      "Epoch [47/100], train_loss: 0.0074,  train_score: 0.9982,val_loss: 8.4930,  val_score: 0.4566, genus train_score0.9978, genus val_score0.9267\n"
     ]
    },
    {
     "data": {
      "application/vnd.jupyter.widget-view+json": {
       "model_id": "dbec5698e9e940f799ab9e7682bce52a",
       "version_major": 2,
       "version_minor": 0
      },
      "text/plain": [
       "  0%|          | 0/14 [00:00<?, ?it/s]"
      ]
     },
     "metadata": {},
     "output_type": "display_data"
    },
    {
     "data": {
      "application/vnd.jupyter.widget-view+json": {
       "model_id": "19c09d3f7759423f9fbdd2d5239973e2",
       "version_major": 2,
       "version_minor": 0
      },
      "text/plain": [
       "  0%|          | 0/7 [00:00<?, ?it/s]"
      ]
     },
     "metadata": {},
     "output_type": "display_data"
    },
    {
     "name": "stdout",
     "output_type": "stream",
     "text": [
      "Epoch [48/100], train_loss: 0.0133,  train_score: 0.9975,val_loss: 8.2687,  val_score: 0.4571, genus train_score0.9971, genus val_score0.9274\n"
     ]
    },
    {
     "data": {
      "application/vnd.jupyter.widget-view+json": {
       "model_id": "39f19443d71c4d79a0efba75151d145f",
       "version_major": 2,
       "version_minor": 0
      },
      "text/plain": [
       "  0%|          | 0/14 [00:00<?, ?it/s]"
      ]
     },
     "metadata": {},
     "output_type": "display_data"
    },
    {
     "data": {
      "application/vnd.jupyter.widget-view+json": {
       "model_id": "9d339e6941554bfca71ebd94fa38ebf8",
       "version_major": 2,
       "version_minor": 0
      },
      "text/plain": [
       "  0%|          | 0/7 [00:00<?, ?it/s]"
      ]
     },
     "metadata": {},
     "output_type": "display_data"
    },
    {
     "name": "stdout",
     "output_type": "stream",
     "text": [
      "Epoch [49/100], train_loss: 0.0191,  train_score: 0.9975,val_loss: 8.2622,  val_score: 0.4571, genus train_score0.9978, genus val_score0.9291\n"
     ]
    },
    {
     "data": {
      "application/vnd.jupyter.widget-view+json": {
       "model_id": "184a199efead48bb8a0592202360585a",
       "version_major": 2,
       "version_minor": 0
      },
      "text/plain": [
       "  0%|          | 0/14 [00:00<?, ?it/s]"
      ]
     },
     "metadata": {},
     "output_type": "display_data"
    },
    {
     "data": {
      "application/vnd.jupyter.widget-view+json": {
       "model_id": "f0621c257107460d922146dea5c710dc",
       "version_major": 2,
       "version_minor": 0
      },
      "text/plain": [
       "  0%|          | 0/7 [00:00<?, ?it/s]"
      ]
     },
     "metadata": {},
     "output_type": "display_data"
    },
    {
     "name": "stdout",
     "output_type": "stream",
     "text": [
      "Epoch [50/100], train_loss: 0.0145,  train_score: 0.9982,val_loss: 8.0425,  val_score: 0.4569, genus train_score0.9985, genus val_score0.9293\n"
     ]
    },
    {
     "data": {
      "application/vnd.jupyter.widget-view+json": {
       "model_id": "4e5b3e646fa24e439c6b8f82f42c4790",
       "version_major": 2,
       "version_minor": 0
      },
      "text/plain": [
       "  0%|          | 0/14 [00:00<?, ?it/s]"
      ]
     },
     "metadata": {},
     "output_type": "display_data"
    },
    {
     "data": {
      "application/vnd.jupyter.widget-view+json": {
       "model_id": "dcdfb27996914ebfa3dfe7763cb78d08",
       "version_major": 2,
       "version_minor": 0
      },
      "text/plain": [
       "  0%|          | 0/7 [00:00<?, ?it/s]"
      ]
     },
     "metadata": {},
     "output_type": "display_data"
    },
    {
     "name": "stdout",
     "output_type": "stream",
     "text": [
      "Epoch [51/100], train_loss: 0.0050,  train_score: 0.9986,val_loss: 8.4514,  val_score: 0.4571, genus train_score0.9974, genus val_score0.9278\n"
     ]
    },
    {
     "data": {
      "application/vnd.jupyter.widget-view+json": {
       "model_id": "2fa164f1188a45cbbab40b34c2598e19",
       "version_major": 2,
       "version_minor": 0
      },
      "text/plain": [
       "  0%|          | 0/14 [00:00<?, ?it/s]"
      ]
     },
     "metadata": {},
     "output_type": "display_data"
    },
    {
     "data": {
      "application/vnd.jupyter.widget-view+json": {
       "model_id": "15189c28d2544db0baf5ea66e69af703",
       "version_major": 2,
       "version_minor": 0
      },
      "text/plain": [
       "  0%|          | 0/7 [00:00<?, ?it/s]"
      ]
     },
     "metadata": {},
     "output_type": "display_data"
    },
    {
     "name": "stdout",
     "output_type": "stream",
     "text": [
      "Epoch [52/100], train_loss: 0.1468,  train_score: 0.9969,val_loss: 8.4526,  val_score: 0.4566, genus train_score0.9977, genus val_score0.9262\n"
     ]
    },
    {
     "data": {
      "application/vnd.jupyter.widget-view+json": {
       "model_id": "72546b45cf764875afb81d1155e5d599",
       "version_major": 2,
       "version_minor": 0
      },
      "text/plain": [
       "  0%|          | 0/14 [00:00<?, ?it/s]"
      ]
     },
     "metadata": {},
     "output_type": "display_data"
    },
    {
     "data": {
      "application/vnd.jupyter.widget-view+json": {
       "model_id": "a74d3843c5784164bc6112ac41c8b34d",
       "version_major": 2,
       "version_minor": 0
      },
      "text/plain": [
       "  0%|          | 0/7 [00:00<?, ?it/s]"
      ]
     },
     "metadata": {},
     "output_type": "display_data"
    },
    {
     "name": "stdout",
     "output_type": "stream",
     "text": [
      "Epoch [53/100], train_loss: 0.0069,  train_score: 0.9937,val_loss: 8.7649,  val_score: 0.4558, genus train_score0.9974, genus val_score0.9268\n"
     ]
    },
    {
     "data": {
      "application/vnd.jupyter.widget-view+json": {
       "model_id": "f17f87c5f49c46c99fa6f55110a22d6e",
       "version_major": 2,
       "version_minor": 0
      },
      "text/plain": [
       "  0%|          | 0/14 [00:00<?, ?it/s]"
      ]
     },
     "metadata": {},
     "output_type": "display_data"
    },
    {
     "data": {
      "application/vnd.jupyter.widget-view+json": {
       "model_id": "3c3820797a184224b2f2386ce6973e41",
       "version_major": 2,
       "version_minor": 0
      },
      "text/plain": [
       "  0%|          | 0/7 [00:00<?, ?it/s]"
      ]
     },
     "metadata": {},
     "output_type": "display_data"
    },
    {
     "name": "stdout",
     "output_type": "stream",
     "text": [
      "Epoch [54/100], train_loss: 0.0144,  train_score: 0.9965,val_loss: 8.7216,  val_score: 0.4571, genus train_score0.9975, genus val_score0.9275\n"
     ]
    },
    {
     "data": {
      "application/vnd.jupyter.widget-view+json": {
       "model_id": "82301f2ea17643849dfa2c3acb66a4be",
       "version_major": 2,
       "version_minor": 0
      },
      "text/plain": [
       "  0%|          | 0/14 [00:00<?, ?it/s]"
      ]
     },
     "metadata": {},
     "output_type": "display_data"
    },
    {
     "data": {
      "application/vnd.jupyter.widget-view+json": {
       "model_id": "450c5fb30a7044d79850be2c520f356f",
       "version_major": 2,
       "version_minor": 0
      },
      "text/plain": [
       "  0%|          | 0/7 [00:00<?, ?it/s]"
      ]
     },
     "metadata": {},
     "output_type": "display_data"
    },
    {
     "name": "stdout",
     "output_type": "stream",
     "text": [
      "Epoch [55/100], train_loss: 0.0916,  train_score: 0.9975,val_loss: 8.2441,  val_score: 0.4574, genus train_score0.9984, genus val_score0.9275\n"
     ]
    },
    {
     "data": {
      "application/vnd.jupyter.widget-view+json": {
       "model_id": "89c8337384614b49a101498acc2b9457",
       "version_major": 2,
       "version_minor": 0
      },
      "text/plain": [
       "  0%|          | 0/14 [00:00<?, ?it/s]"
      ]
     },
     "metadata": {},
     "output_type": "display_data"
    },
    {
     "data": {
      "application/vnd.jupyter.widget-view+json": {
       "model_id": "be46115a877d43819b94ef57c48b2c53",
       "version_major": 2,
       "version_minor": 0
      },
      "text/plain": [
       "  0%|          | 0/7 [00:00<?, ?it/s]"
      ]
     },
     "metadata": {},
     "output_type": "display_data"
    },
    {
     "name": "stdout",
     "output_type": "stream",
     "text": [
      "Epoch [56/100], train_loss: 0.0063,  train_score: 0.9973,val_loss: 8.5473,  val_score: 0.4568, genus train_score0.9988, genus val_score0.9278\n"
     ]
    },
    {
     "data": {
      "application/vnd.jupyter.widget-view+json": {
       "model_id": "c5f1da9e3dd4418ab111b162e43a8861",
       "version_major": 2,
       "version_minor": 0
      },
      "text/plain": [
       "  0%|          | 0/14 [00:00<?, ?it/s]"
      ]
     },
     "metadata": {},
     "output_type": "display_data"
    },
    {
     "data": {
      "application/vnd.jupyter.widget-view+json": {
       "model_id": "ba5e4c5939fc43e787421eddc88b1acf",
       "version_major": 2,
       "version_minor": 0
      },
      "text/plain": [
       "  0%|          | 0/7 [00:00<?, ?it/s]"
      ]
     },
     "metadata": {},
     "output_type": "display_data"
    },
    {
     "name": "stdout",
     "output_type": "stream",
     "text": [
      "Epoch [57/100], train_loss: 0.0093,  train_score: 0.9977,val_loss: 8.1878,  val_score: 0.4566, genus train_score0.9980, genus val_score0.9265\n"
     ]
    },
    {
     "data": {
      "application/vnd.jupyter.widget-view+json": {
       "model_id": "72823a3c2260472086b583ddff021a56",
       "version_major": 2,
       "version_minor": 0
      },
      "text/plain": [
       "  0%|          | 0/14 [00:00<?, ?it/s]"
      ]
     },
     "metadata": {},
     "output_type": "display_data"
    },
    {
     "data": {
      "application/vnd.jupyter.widget-view+json": {
       "model_id": "fbca2b195eaa4783ae193e406fc889a9",
       "version_major": 2,
       "version_minor": 0
      },
      "text/plain": [
       "  0%|          | 0/7 [00:00<?, ?it/s]"
      ]
     },
     "metadata": {},
     "output_type": "display_data"
    },
    {
     "name": "stdout",
     "output_type": "stream",
     "text": [
      "Epoch [58/100], train_loss: 0.0059,  train_score: 0.9988,val_loss: 8.0671,  val_score: 0.4564, genus train_score0.9981, genus val_score0.9291\n"
     ]
    },
    {
     "data": {
      "application/vnd.jupyter.widget-view+json": {
       "model_id": "f640b2b6c9364b42aef40eaba1753a02",
       "version_major": 2,
       "version_minor": 0
      },
      "text/plain": [
       "  0%|          | 0/14 [00:00<?, ?it/s]"
      ]
     },
     "metadata": {},
     "output_type": "display_data"
    },
    {
     "data": {
      "application/vnd.jupyter.widget-view+json": {
       "model_id": "cc54129a82f44b17a60346ed3ea79fe7",
       "version_major": 2,
       "version_minor": 0
      },
      "text/plain": [
       "  0%|          | 0/7 [00:00<?, ?it/s]"
      ]
     },
     "metadata": {},
     "output_type": "display_data"
    },
    {
     "name": "stdout",
     "output_type": "stream",
     "text": [
      "Epoch [59/100], train_loss: 0.0179,  train_score: 0.9989,val_loss: 8.2679,  val_score: 0.4566, genus train_score0.9980, genus val_score0.9291\n"
     ]
    },
    {
     "data": {
      "application/vnd.jupyter.widget-view+json": {
       "model_id": "4dc36fa22fa34a3cb88fe554634609ff",
       "version_major": 2,
       "version_minor": 0
      },
      "text/plain": [
       "  0%|          | 0/14 [00:00<?, ?it/s]"
      ]
     },
     "metadata": {},
     "output_type": "display_data"
    },
    {
     "data": {
      "application/vnd.jupyter.widget-view+json": {
       "model_id": "699bd71788214a789864798ea08afd79",
       "version_major": 2,
       "version_minor": 0
      },
      "text/plain": [
       "  0%|          | 0/7 [00:00<?, ?it/s]"
      ]
     },
     "metadata": {},
     "output_type": "display_data"
    },
    {
     "name": "stdout",
     "output_type": "stream",
     "text": [
      "Epoch [60/100], train_loss: 0.0088,  train_score: 0.9991,val_loss: 8.7167,  val_score: 0.4566, genus train_score0.9981, genus val_score0.9294\n"
     ]
    },
    {
     "data": {
      "application/vnd.jupyter.widget-view+json": {
       "model_id": "530188eaa60c43cba9221617ec62422f",
       "version_major": 2,
       "version_minor": 0
      },
      "text/plain": [
       "  0%|          | 0/14 [00:00<?, ?it/s]"
      ]
     },
     "metadata": {},
     "output_type": "display_data"
    },
    {
     "data": {
      "application/vnd.jupyter.widget-view+json": {
       "model_id": "86da0b2b9d7c425887a8270ac27046f8",
       "version_major": 2,
       "version_minor": 0
      },
      "text/plain": [
       "  0%|          | 0/7 [00:00<?, ?it/s]"
      ]
     },
     "metadata": {},
     "output_type": "display_data"
    },
    {
     "name": "stdout",
     "output_type": "stream",
     "text": [
      "Epoch [61/100], train_loss: 0.0042,  train_score: 0.9983,val_loss: 7.7340,  val_score: 0.4571, genus train_score0.9985, genus val_score0.9288\n"
     ]
    },
    {
     "data": {
      "application/vnd.jupyter.widget-view+json": {
       "model_id": "779bff9abc1445dfa03f2af54b23412a",
       "version_major": 2,
       "version_minor": 0
      },
      "text/plain": [
       "  0%|          | 0/14 [00:00<?, ?it/s]"
      ]
     },
     "metadata": {},
     "output_type": "display_data"
    },
    {
     "data": {
      "application/vnd.jupyter.widget-view+json": {
       "model_id": "247b4957018246f9829574ced69ad56d",
       "version_major": 2,
       "version_minor": 0
      },
      "text/plain": [
       "  0%|          | 0/7 [00:00<?, ?it/s]"
      ]
     },
     "metadata": {},
     "output_type": "display_data"
    },
    {
     "name": "stdout",
     "output_type": "stream",
     "text": [
      "Epoch [62/100], train_loss: 0.0049,  train_score: 0.9979,val_loss: 8.6046,  val_score: 0.4569, genus train_score0.9982, genus val_score0.9290\n"
     ]
    },
    {
     "data": {
      "application/vnd.jupyter.widget-view+json": {
       "model_id": "8783080dbb4c46a38ce9fa4b159c4944",
       "version_major": 2,
       "version_minor": 0
      },
      "text/plain": [
       "  0%|          | 0/14 [00:00<?, ?it/s]"
      ]
     },
     "metadata": {},
     "output_type": "display_data"
    },
    {
     "data": {
      "application/vnd.jupyter.widget-view+json": {
       "model_id": "73623eafed444f97a94399a3a9a972e9",
       "version_major": 2,
       "version_minor": 0
      },
      "text/plain": [
       "  0%|          | 0/7 [00:00<?, ?it/s]"
      ]
     },
     "metadata": {},
     "output_type": "display_data"
    },
    {
     "name": "stdout",
     "output_type": "stream",
     "text": [
      "Epoch [63/100], train_loss: 0.0107,  train_score: 0.9983,val_loss: 8.3900,  val_score: 0.4571, genus train_score0.9985, genus val_score0.9291\n"
     ]
    },
    {
     "data": {
      "application/vnd.jupyter.widget-view+json": {
       "model_id": "83140d3d548e4ee99446040a5e13b39f",
       "version_major": 2,
       "version_minor": 0
      },
      "text/plain": [
       "  0%|          | 0/14 [00:00<?, ?it/s]"
      ]
     },
     "metadata": {},
     "output_type": "display_data"
    },
    {
     "data": {
      "application/vnd.jupyter.widget-view+json": {
       "model_id": "4a4d72731d424a81b002ff4b077edeed",
       "version_major": 2,
       "version_minor": 0
      },
      "text/plain": [
       "  0%|          | 0/7 [00:00<?, ?it/s]"
      ]
     },
     "metadata": {},
     "output_type": "display_data"
    },
    {
     "name": "stdout",
     "output_type": "stream",
     "text": [
      "Epoch [64/100], train_loss: 0.0113,  train_score: 0.9988,val_loss: 8.0145,  val_score: 0.4569, genus train_score0.9985, genus val_score0.9293\n"
     ]
    },
    {
     "data": {
      "application/vnd.jupyter.widget-view+json": {
       "model_id": "100e5f265c1e4f8a8afca730427fd0a8",
       "version_major": 2,
       "version_minor": 0
      },
      "text/plain": [
       "  0%|          | 0/14 [00:00<?, ?it/s]"
      ]
     },
     "metadata": {},
     "output_type": "display_data"
    },
    {
     "data": {
      "application/vnd.jupyter.widget-view+json": {
       "model_id": "bc69f0456fc14e5cbb2a42db15e2a15c",
       "version_major": 2,
       "version_minor": 0
      },
      "text/plain": [
       "  0%|          | 0/7 [00:00<?, ?it/s]"
      ]
     },
     "metadata": {},
     "output_type": "display_data"
    },
    {
     "name": "stdout",
     "output_type": "stream",
     "text": [
      "Epoch [65/100], train_loss: 0.0077,  train_score: 0.9985,val_loss: 8.3381,  val_score: 0.4568, genus train_score0.9982, genus val_score0.9295\n"
     ]
    },
    {
     "data": {
      "application/vnd.jupyter.widget-view+json": {
       "model_id": "b69308e209464e8da6384efb02ff32ae",
       "version_major": 2,
       "version_minor": 0
      },
      "text/plain": [
       "  0%|          | 0/14 [00:00<?, ?it/s]"
      ]
     },
     "metadata": {},
     "output_type": "display_data"
    },
    {
     "data": {
      "application/vnd.jupyter.widget-view+json": {
       "model_id": "f893eae3513648b6a8b0d249bcd0c55a",
       "version_major": 2,
       "version_minor": 0
      },
      "text/plain": [
       "  0%|          | 0/7 [00:00<?, ?it/s]"
      ]
     },
     "metadata": {},
     "output_type": "display_data"
    },
    {
     "name": "stdout",
     "output_type": "stream",
     "text": [
      "Epoch [66/100], train_loss: 0.0549,  train_score: 0.9979,val_loss: 9.1428,  val_score: 0.4569, genus train_score0.9981, genus val_score0.9298\n"
     ]
    },
    {
     "data": {
      "application/vnd.jupyter.widget-view+json": {
       "model_id": "8c3fc9f1bfd54f3cbd1071a8e4b43188",
       "version_major": 2,
       "version_minor": 0
      },
      "text/plain": [
       "  0%|          | 0/14 [00:00<?, ?it/s]"
      ]
     },
     "metadata": {},
     "output_type": "display_data"
    },
    {
     "data": {
      "application/vnd.jupyter.widget-view+json": {
       "model_id": "f6f4d0838109430d86e36479cba76db4",
       "version_major": 2,
       "version_minor": 0
      },
      "text/plain": [
       "  0%|          | 0/7 [00:00<?, ?it/s]"
      ]
     },
     "metadata": {},
     "output_type": "display_data"
    },
    {
     "name": "stdout",
     "output_type": "stream",
     "text": [
      "Epoch [67/100], train_loss: 0.0080,  train_score: 0.9983,val_loss: 8.1466,  val_score: 0.4571, genus train_score0.9988, genus val_score0.9307\n"
     ]
    },
    {
     "data": {
      "application/vnd.jupyter.widget-view+json": {
       "model_id": "07780713e19f4ae1bb79ad67c688516d",
       "version_major": 2,
       "version_minor": 0
      },
      "text/plain": [
       "  0%|          | 0/14 [00:00<?, ?it/s]"
      ]
     },
     "metadata": {},
     "output_type": "display_data"
    },
    {
     "data": {
      "application/vnd.jupyter.widget-view+json": {
       "model_id": "97c5b52e40b441a4bc3893fa8d493625",
       "version_major": 2,
       "version_minor": 0
      },
      "text/plain": [
       "  0%|          | 0/7 [00:00<?, ?it/s]"
      ]
     },
     "metadata": {},
     "output_type": "display_data"
    },
    {
     "name": "stdout",
     "output_type": "stream",
     "text": [
      "Epoch [68/100], train_loss: 0.0134,  train_score: 0.9986,val_loss: 8.1839,  val_score: 0.4569, genus train_score0.9985, genus val_score0.9303\n"
     ]
    },
    {
     "data": {
      "application/vnd.jupyter.widget-view+json": {
       "model_id": "49be4d9d4f8a46fe8a9d3606397eee7a",
       "version_major": 2,
       "version_minor": 0
      },
      "text/plain": [
       "  0%|          | 0/14 [00:00<?, ?it/s]"
      ]
     },
     "metadata": {},
     "output_type": "display_data"
    },
    {
     "data": {
      "application/vnd.jupyter.widget-view+json": {
       "model_id": "4e1446aed7724c68b1f2d4236c137172",
       "version_major": 2,
       "version_minor": 0
      },
      "text/plain": [
       "  0%|          | 0/7 [00:00<?, ?it/s]"
      ]
     },
     "metadata": {},
     "output_type": "display_data"
    },
    {
     "name": "stdout",
     "output_type": "stream",
     "text": [
      "Epoch [69/100], train_loss: 0.0751,  train_score: 0.9988,val_loss: 8.3274,  val_score: 0.4568, genus train_score0.9983, genus val_score0.9304\n"
     ]
    },
    {
     "data": {
      "application/vnd.jupyter.widget-view+json": {
       "model_id": "2f645178c9e049f5a224000ffd1bac04",
       "version_major": 2,
       "version_minor": 0
      },
      "text/plain": [
       "  0%|          | 0/14 [00:00<?, ?it/s]"
      ]
     },
     "metadata": {},
     "output_type": "display_data"
    },
    {
     "data": {
      "application/vnd.jupyter.widget-view+json": {
       "model_id": "42b8fba4e96c47b8bad07fae406152e5",
       "version_major": 2,
       "version_minor": 0
      },
      "text/plain": [
       "  0%|          | 0/7 [00:00<?, ?it/s]"
      ]
     },
     "metadata": {},
     "output_type": "display_data"
    },
    {
     "name": "stdout",
     "output_type": "stream",
     "text": [
      "Epoch [70/100], train_loss: 0.0692,  train_score: 0.9982,val_loss: 8.1147,  val_score: 0.4569, genus train_score0.9990, genus val_score0.9330\n"
     ]
    },
    {
     "data": {
      "application/vnd.jupyter.widget-view+json": {
       "model_id": "da8f32b1d00f4c408ee5e784c04eef74",
       "version_major": 2,
       "version_minor": 0
      },
      "text/plain": [
       "  0%|          | 0/14 [00:00<?, ?it/s]"
      ]
     },
     "metadata": {},
     "output_type": "display_data"
    },
    {
     "data": {
      "application/vnd.jupyter.widget-view+json": {
       "model_id": "c36e4eef8a9e4e2abd8186f2278bba24",
       "version_major": 2,
       "version_minor": 0
      },
      "text/plain": [
       "  0%|          | 0/7 [00:00<?, ?it/s]"
      ]
     },
     "metadata": {},
     "output_type": "display_data"
    },
    {
     "name": "stdout",
     "output_type": "stream",
     "text": [
      "Epoch [71/100], train_loss: 0.0950,  train_score: 0.9982,val_loss: 8.4830,  val_score: 0.4569, genus train_score0.9988, genus val_score0.9318\n"
     ]
    },
    {
     "data": {
      "application/vnd.jupyter.widget-view+json": {
       "model_id": "48bf528d34584b20aaecc3bf4c7247ba",
       "version_major": 2,
       "version_minor": 0
      },
      "text/plain": [
       "  0%|          | 0/14 [00:00<?, ?it/s]"
      ]
     },
     "metadata": {},
     "output_type": "display_data"
    },
    {
     "data": {
      "application/vnd.jupyter.widget-view+json": {
       "model_id": "9c954aeb67d540979f366bc6adaf2bc7",
       "version_major": 2,
       "version_minor": 0
      },
      "text/plain": [
       "  0%|          | 0/7 [00:00<?, ?it/s]"
      ]
     },
     "metadata": {},
     "output_type": "display_data"
    },
    {
     "name": "stdout",
     "output_type": "stream",
     "text": [
      "Epoch [72/100], train_loss: 0.0110,  train_score: 0.9980,val_loss: 7.9370,  val_score: 0.4571, genus train_score0.9989, genus val_score0.9280\n"
     ]
    },
    {
     "data": {
      "application/vnd.jupyter.widget-view+json": {
       "model_id": "dcefa214befa43a5a15587de2b704759",
       "version_major": 2,
       "version_minor": 0
      },
      "text/plain": [
       "  0%|          | 0/14 [00:00<?, ?it/s]"
      ]
     },
     "metadata": {},
     "output_type": "display_data"
    },
    {
     "data": {
      "application/vnd.jupyter.widget-view+json": {
       "model_id": "108919ef0a214211a371133f86919f2e",
       "version_major": 2,
       "version_minor": 0
      },
      "text/plain": [
       "  0%|          | 0/7 [00:00<?, ?it/s]"
      ]
     },
     "metadata": {},
     "output_type": "display_data"
    },
    {
     "name": "stdout",
     "output_type": "stream",
     "text": [
      "Epoch [73/100], train_loss: 0.1911,  train_score: 0.9983,val_loss: 8.2048,  val_score: 0.4569, genus train_score0.9984, genus val_score0.9294\n"
     ]
    },
    {
     "data": {
      "application/vnd.jupyter.widget-view+json": {
       "model_id": "c0b6e51523974981bfcb554ed947e2eb",
       "version_major": 2,
       "version_minor": 0
      },
      "text/plain": [
       "  0%|          | 0/14 [00:00<?, ?it/s]"
      ]
     },
     "metadata": {},
     "output_type": "display_data"
    },
    {
     "data": {
      "application/vnd.jupyter.widget-view+json": {
       "model_id": "f8defe44b4b247659d7940ba2a247160",
       "version_major": 2,
       "version_minor": 0
      },
      "text/plain": [
       "  0%|          | 0/7 [00:00<?, ?it/s]"
      ]
     },
     "metadata": {},
     "output_type": "display_data"
    },
    {
     "name": "stdout",
     "output_type": "stream",
     "text": [
      "Epoch [74/100], train_loss: 0.0036,  train_score: 0.9987,val_loss: 8.2110,  val_score: 0.4572, genus train_score0.9990, genus val_score0.9287\n"
     ]
    },
    {
     "data": {
      "application/vnd.jupyter.widget-view+json": {
       "model_id": "efdcd2c598aa4a3d8244ab55075cf799",
       "version_major": 2,
       "version_minor": 0
      },
      "text/plain": [
       "  0%|          | 0/14 [00:00<?, ?it/s]"
      ]
     },
     "metadata": {},
     "output_type": "display_data"
    },
    {
     "data": {
      "application/vnd.jupyter.widget-view+json": {
       "model_id": "724f878104084a3d96f95e7d8dfdf5e6",
       "version_major": 2,
       "version_minor": 0
      },
      "text/plain": [
       "  0%|          | 0/7 [00:00<?, ?it/s]"
      ]
     },
     "metadata": {},
     "output_type": "display_data"
    },
    {
     "name": "stdout",
     "output_type": "stream",
     "text": [
      "Epoch [75/100], train_loss: 0.0069,  train_score: 0.9989,val_loss: 8.3632,  val_score: 0.4571, genus train_score0.9991, genus val_score0.9288\n"
     ]
    },
    {
     "data": {
      "application/vnd.jupyter.widget-view+json": {
       "model_id": "47429cc95890459295f6f6f8bb343271",
       "version_major": 2,
       "version_minor": 0
      },
      "text/plain": [
       "  0%|          | 0/14 [00:00<?, ?it/s]"
      ]
     },
     "metadata": {},
     "output_type": "display_data"
    },
    {
     "data": {
      "application/vnd.jupyter.widget-view+json": {
       "model_id": "41a65b922eaa41ad8becade622e83fa6",
       "version_major": 2,
       "version_minor": 0
      },
      "text/plain": [
       "  0%|          | 0/7 [00:00<?, ?it/s]"
      ]
     },
     "metadata": {},
     "output_type": "display_data"
    },
    {
     "name": "stdout",
     "output_type": "stream",
     "text": [
      "Epoch [76/100], train_loss: 0.0057,  train_score: 0.9988,val_loss: 8.1968,  val_score: 0.4572, genus train_score0.9983, genus val_score0.9278\n"
     ]
    },
    {
     "data": {
      "application/vnd.jupyter.widget-view+json": {
       "model_id": "740a31c306654a66ad20118229174ab2",
       "version_major": 2,
       "version_minor": 0
      },
      "text/plain": [
       "  0%|          | 0/14 [00:00<?, ?it/s]"
      ]
     },
     "metadata": {},
     "output_type": "display_data"
    },
    {
     "data": {
      "application/vnd.jupyter.widget-view+json": {
       "model_id": "64d8c16219a4425e8c0b931c8e3a2627",
       "version_major": 2,
       "version_minor": 0
      },
      "text/plain": [
       "  0%|          | 0/7 [00:00<?, ?it/s]"
      ]
     },
     "metadata": {},
     "output_type": "display_data"
    },
    {
     "name": "stdout",
     "output_type": "stream",
     "text": [
      "Epoch [77/100], train_loss: 0.0125,  train_score: 0.9993,val_loss: 8.2715,  val_score: 0.4571, genus train_score0.9988, genus val_score0.9274\n"
     ]
    },
    {
     "data": {
      "application/vnd.jupyter.widget-view+json": {
       "model_id": "ed289c51ebd64dd09c010c877f394243",
       "version_major": 2,
       "version_minor": 0
      },
      "text/plain": [
       "  0%|          | 0/14 [00:00<?, ?it/s]"
      ]
     },
     "metadata": {},
     "output_type": "display_data"
    },
    {
     "data": {
      "application/vnd.jupyter.widget-view+json": {
       "model_id": "bc7402f4f25541089637359b613d59ed",
       "version_major": 2,
       "version_minor": 0
      },
      "text/plain": [
       "  0%|          | 0/7 [00:00<?, ?it/s]"
      ]
     },
     "metadata": {},
     "output_type": "display_data"
    },
    {
     "name": "stdout",
     "output_type": "stream",
     "text": [
      "Epoch [78/100], train_loss: 0.0052,  train_score: 0.9986,val_loss: 8.2336,  val_score: 0.4572, genus train_score0.9987, genus val_score0.9277\n"
     ]
    },
    {
     "data": {
      "application/vnd.jupyter.widget-view+json": {
       "model_id": "ff3655c3613b484e80edb352bf4e9dbe",
       "version_major": 2,
       "version_minor": 0
      },
      "text/plain": [
       "  0%|          | 0/14 [00:00<?, ?it/s]"
      ]
     },
     "metadata": {},
     "output_type": "display_data"
    },
    {
     "data": {
      "application/vnd.jupyter.widget-view+json": {
       "model_id": "f856b206b2d4479094c1862ad75f5e64",
       "version_major": 2,
       "version_minor": 0
      },
      "text/plain": [
       "  0%|          | 0/7 [00:00<?, ?it/s]"
      ]
     },
     "metadata": {},
     "output_type": "display_data"
    },
    {
     "name": "stdout",
     "output_type": "stream",
     "text": [
      "Epoch [79/100], train_loss: 0.0028,  train_score: 0.9988,val_loss: 8.3741,  val_score: 0.4574, genus train_score0.9988, genus val_score0.9275\n"
     ]
    },
    {
     "data": {
      "application/vnd.jupyter.widget-view+json": {
       "model_id": "cfc03f93f5ca487ba782e2688042b564",
       "version_major": 2,
       "version_minor": 0
      },
      "text/plain": [
       "  0%|          | 0/14 [00:00<?, ?it/s]"
      ]
     },
     "metadata": {},
     "output_type": "display_data"
    },
    {
     "data": {
      "application/vnd.jupyter.widget-view+json": {
       "model_id": "1a7bdc58d88244869b2852027c7d5ef3",
       "version_major": 2,
       "version_minor": 0
      },
      "text/plain": [
       "  0%|          | 0/7 [00:00<?, ?it/s]"
      ]
     },
     "metadata": {},
     "output_type": "display_data"
    },
    {
     "name": "stdout",
     "output_type": "stream",
     "text": [
      "Epoch [80/100], train_loss: 0.0204,  train_score: 0.9987,val_loss: 8.1396,  val_score: 0.4572, genus train_score0.9989, genus val_score0.9267\n"
     ]
    },
    {
     "data": {
      "application/vnd.jupyter.widget-view+json": {
       "model_id": "4e6fa61c839e489b95a6f25ead527c03",
       "version_major": 2,
       "version_minor": 0
      },
      "text/plain": [
       "  0%|          | 0/14 [00:00<?, ?it/s]"
      ]
     },
     "metadata": {},
     "output_type": "display_data"
    },
    {
     "data": {
      "application/vnd.jupyter.widget-view+json": {
       "model_id": "667df7e51128480c936710cf62e3a828",
       "version_major": 2,
       "version_minor": 0
      },
      "text/plain": [
       "  0%|          | 0/7 [00:00<?, ?it/s]"
      ]
     },
     "metadata": {},
     "output_type": "display_data"
    },
    {
     "name": "stdout",
     "output_type": "stream",
     "text": [
      "Epoch [81/100], train_loss: 0.0832,  train_score: 0.9985,val_loss: 8.2786,  val_score: 0.4574, genus train_score0.9986, genus val_score0.9262\n"
     ]
    },
    {
     "data": {
      "application/vnd.jupyter.widget-view+json": {
       "model_id": "aa5eeeeac11540d5beea1dcf55686f0a",
       "version_major": 2,
       "version_minor": 0
      },
      "text/plain": [
       "  0%|          | 0/14 [00:00<?, ?it/s]"
      ]
     },
     "metadata": {},
     "output_type": "display_data"
    },
    {
     "data": {
      "application/vnd.jupyter.widget-view+json": {
       "model_id": "9a5e96ca615c41218912d578591a79ed",
       "version_major": 2,
       "version_minor": 0
      },
      "text/plain": [
       "  0%|          | 0/7 [00:00<?, ?it/s]"
      ]
     },
     "metadata": {},
     "output_type": "display_data"
    },
    {
     "name": "stdout",
     "output_type": "stream",
     "text": [
      "Epoch [82/100], train_loss: 0.0039,  train_score: 0.9983,val_loss: 8.4964,  val_score: 0.4572, genus train_score0.9989, genus val_score0.9275\n"
     ]
    },
    {
     "data": {
      "application/vnd.jupyter.widget-view+json": {
       "model_id": "686ea1db98fe48e78018831e07fdae98",
       "version_major": 2,
       "version_minor": 0
      },
      "text/plain": [
       "  0%|          | 0/14 [00:00<?, ?it/s]"
      ]
     },
     "metadata": {},
     "output_type": "display_data"
    },
    {
     "data": {
      "application/vnd.jupyter.widget-view+json": {
       "model_id": "9cd157fbca114a27928edce45dcec1d6",
       "version_major": 2,
       "version_minor": 0
      },
      "text/plain": [
       "  0%|          | 0/7 [00:00<?, ?it/s]"
      ]
     },
     "metadata": {},
     "output_type": "display_data"
    },
    {
     "name": "stdout",
     "output_type": "stream",
     "text": [
      "Epoch [83/100], train_loss: 0.0047,  train_score: 0.9986,val_loss: 8.3150,  val_score: 0.4574, genus train_score0.9990, genus val_score0.9303\n"
     ]
    },
    {
     "data": {
      "application/vnd.jupyter.widget-view+json": {
       "model_id": "602cfa36b6ef4ea384695ee07bad0e11",
       "version_major": 2,
       "version_minor": 0
      },
      "text/plain": [
       "  0%|          | 0/14 [00:00<?, ?it/s]"
      ]
     },
     "metadata": {},
     "output_type": "display_data"
    },
    {
     "data": {
      "application/vnd.jupyter.widget-view+json": {
       "model_id": "a9d9f4424b064bdbaa79c5c128f5af19",
       "version_major": 2,
       "version_minor": 0
      },
      "text/plain": [
       "  0%|          | 0/7 [00:00<?, ?it/s]"
      ]
     },
     "metadata": {},
     "output_type": "display_data"
    },
    {
     "name": "stdout",
     "output_type": "stream",
     "text": [
      "Epoch [84/100], train_loss: 0.0073,  train_score: 0.9987,val_loss: 8.3554,  val_score: 0.4575, genus train_score0.9988, genus val_score0.9304\n"
     ]
    },
    {
     "data": {
      "application/vnd.jupyter.widget-view+json": {
       "model_id": "8c4399668db64ea99637488948a99fc0",
       "version_major": 2,
       "version_minor": 0
      },
      "text/plain": [
       "  0%|          | 0/14 [00:00<?, ?it/s]"
      ]
     },
     "metadata": {},
     "output_type": "display_data"
    },
    {
     "data": {
      "application/vnd.jupyter.widget-view+json": {
       "model_id": "9b2e010c88af4fa8b1ba9a7cf1f8c85f",
       "version_major": 2,
       "version_minor": 0
      },
      "text/plain": [
       "  0%|          | 0/7 [00:00<?, ?it/s]"
      ]
     },
     "metadata": {},
     "output_type": "display_data"
    },
    {
     "name": "stdout",
     "output_type": "stream",
     "text": [
      "Epoch [85/100], train_loss: 0.0079,  train_score: 0.9985,val_loss: 7.8517,  val_score: 0.4575, genus train_score0.9989, genus val_score0.9306\n"
     ]
    },
    {
     "data": {
      "application/vnd.jupyter.widget-view+json": {
       "model_id": "e307901301a14b919f6a8d4c6937aa94",
       "version_major": 2,
       "version_minor": 0
      },
      "text/plain": [
       "  0%|          | 0/14 [00:00<?, ?it/s]"
      ]
     },
     "metadata": {},
     "output_type": "display_data"
    },
    {
     "data": {
      "application/vnd.jupyter.widget-view+json": {
       "model_id": "e5fd167b4c5e46adbf03c38228a181b0",
       "version_major": 2,
       "version_minor": 0
      },
      "text/plain": [
       "  0%|          | 0/7 [00:00<?, ?it/s]"
      ]
     },
     "metadata": {},
     "output_type": "display_data"
    },
    {
     "name": "stdout",
     "output_type": "stream",
     "text": [
      "Epoch [86/100], train_loss: 0.0035,  train_score: 0.9987,val_loss: 8.4697,  val_score: 0.4575, genus train_score0.9985, genus val_score0.9303\n"
     ]
    },
    {
     "data": {
      "application/vnd.jupyter.widget-view+json": {
       "model_id": "8f3e8b48ca3240c6be246921e1fad534",
       "version_major": 2,
       "version_minor": 0
      },
      "text/plain": [
       "  0%|          | 0/14 [00:00<?, ?it/s]"
      ]
     },
     "metadata": {},
     "output_type": "display_data"
    },
    {
     "data": {
      "application/vnd.jupyter.widget-view+json": {
       "model_id": "8ffb6ffef7764eaebc9ff6d7ce884c6d",
       "version_major": 2,
       "version_minor": 0
      },
      "text/plain": [
       "  0%|          | 0/7 [00:00<?, ?it/s]"
      ]
     },
     "metadata": {},
     "output_type": "display_data"
    },
    {
     "name": "stdout",
     "output_type": "stream",
     "text": [
      "Epoch [87/100], train_loss: 0.0035,  train_score: 0.9989,val_loss: 8.4811,  val_score: 0.4574, genus train_score0.9985, genus val_score0.9304\n"
     ]
    },
    {
     "data": {
      "application/vnd.jupyter.widget-view+json": {
       "model_id": "fac967c206b44b6db564cfa07e1315aa",
       "version_major": 2,
       "version_minor": 0
      },
      "text/plain": [
       "  0%|          | 0/14 [00:00<?, ?it/s]"
      ]
     },
     "metadata": {},
     "output_type": "display_data"
    },
    {
     "data": {
      "application/vnd.jupyter.widget-view+json": {
       "model_id": "af0be82f17894c809d2b5afbf6e1eb64",
       "version_major": 2,
       "version_minor": 0
      },
      "text/plain": [
       "  0%|          | 0/7 [00:00<?, ?it/s]"
      ]
     },
     "metadata": {},
     "output_type": "display_data"
    },
    {
     "name": "stdout",
     "output_type": "stream",
     "text": [
      "Epoch [88/100], train_loss: 0.0041,  train_score: 0.9987,val_loss: 8.2864,  val_score: 0.4572, genus train_score0.9988, genus val_score0.9306\n"
     ]
    },
    {
     "data": {
      "application/vnd.jupyter.widget-view+json": {
       "model_id": "fea26933dba94458832d26ce2870e107",
       "version_major": 2,
       "version_minor": 0
      },
      "text/plain": [
       "  0%|          | 0/14 [00:00<?, ?it/s]"
      ]
     },
     "metadata": {},
     "output_type": "display_data"
    },
    {
     "data": {
      "application/vnd.jupyter.widget-view+json": {
       "model_id": "c7689ced16f64319855cb6fe26c23883",
       "version_major": 2,
       "version_minor": 0
      },
      "text/plain": [
       "  0%|          | 0/7 [00:00<?, ?it/s]"
      ]
     },
     "metadata": {},
     "output_type": "display_data"
    },
    {
     "name": "stdout",
     "output_type": "stream",
     "text": [
      "Epoch [89/100], train_loss: 0.0070,  train_score: 0.9988,val_loss: 8.1948,  val_score: 0.4574, genus train_score0.9989, genus val_score0.9304\n"
     ]
    },
    {
     "data": {
      "application/vnd.jupyter.widget-view+json": {
       "model_id": "54636dfb096b468aaff14adde10343ad",
       "version_major": 2,
       "version_minor": 0
      },
      "text/plain": [
       "  0%|          | 0/14 [00:00<?, ?it/s]"
      ]
     },
     "metadata": {},
     "output_type": "display_data"
    },
    {
     "data": {
      "application/vnd.jupyter.widget-view+json": {
       "model_id": "f572b437bc2d4b398d1d876cfc2e0bd1",
       "version_major": 2,
       "version_minor": 0
      },
      "text/plain": [
       "  0%|          | 0/7 [00:00<?, ?it/s]"
      ]
     },
     "metadata": {},
     "output_type": "display_data"
    },
    {
     "name": "stdout",
     "output_type": "stream",
     "text": [
      "Epoch [90/100], train_loss: 0.0138,  train_score: 0.9988,val_loss: 7.9733,  val_score: 0.4574, genus train_score0.9992, genus val_score0.9297\n"
     ]
    },
    {
     "data": {
      "application/vnd.jupyter.widget-view+json": {
       "model_id": "39637570d1954bd980c90aec486e68dc",
       "version_major": 2,
       "version_minor": 0
      },
      "text/plain": [
       "  0%|          | 0/14 [00:00<?, ?it/s]"
      ]
     },
     "metadata": {},
     "output_type": "display_data"
    },
    {
     "data": {
      "application/vnd.jupyter.widget-view+json": {
       "model_id": "ddef831c0ff14c06ab79d8250c0d054a",
       "version_major": 2,
       "version_minor": 0
      },
      "text/plain": [
       "  0%|          | 0/7 [00:00<?, ?it/s]"
      ]
     },
     "metadata": {},
     "output_type": "display_data"
    },
    {
     "name": "stdout",
     "output_type": "stream",
     "text": [
      "Epoch [91/100], train_loss: 0.0042,  train_score: 0.9994,val_loss: 8.4990,  val_score: 0.4574, genus train_score0.9989, genus val_score0.9290\n"
     ]
    },
    {
     "data": {
      "application/vnd.jupyter.widget-view+json": {
       "model_id": "e56ebc6f31224c3ea5ad54bce2e31ad7",
       "version_major": 2,
       "version_minor": 0
      },
      "text/plain": [
       "  0%|          | 0/14 [00:00<?, ?it/s]"
      ]
     },
     "metadata": {},
     "output_type": "display_data"
    },
    {
     "data": {
      "application/vnd.jupyter.widget-view+json": {
       "model_id": "3d7e87c9fb7c4d99a41f94f9e4742859",
       "version_major": 2,
       "version_minor": 0
      },
      "text/plain": [
       "  0%|          | 0/7 [00:00<?, ?it/s]"
      ]
     },
     "metadata": {},
     "output_type": "display_data"
    },
    {
     "name": "stdout",
     "output_type": "stream",
     "text": [
      "Epoch [92/100], train_loss: 0.0057,  train_score: 0.9993,val_loss: 8.0226,  val_score: 0.4575, genus train_score0.9993, genus val_score0.9295\n"
     ]
    },
    {
     "data": {
      "application/vnd.jupyter.widget-view+json": {
       "model_id": "41464558f12343bcbcb2b61bf54c7fc0",
       "version_major": 2,
       "version_minor": 0
      },
      "text/plain": [
       "  0%|          | 0/14 [00:00<?, ?it/s]"
      ]
     },
     "metadata": {},
     "output_type": "display_data"
    },
    {
     "data": {
      "application/vnd.jupyter.widget-view+json": {
       "model_id": "e40feacac2294bd2ad0d7b0ecd44154d",
       "version_major": 2,
       "version_minor": 0
      },
      "text/plain": [
       "  0%|          | 0/7 [00:00<?, ?it/s]"
      ]
     },
     "metadata": {},
     "output_type": "display_data"
    },
    {
     "name": "stdout",
     "output_type": "stream",
     "text": [
      "Epoch [93/100], train_loss: 0.0072,  train_score: 0.9994,val_loss: 8.0612,  val_score: 0.4574, genus train_score0.9993, genus val_score0.9300\n"
     ]
    },
    {
     "data": {
      "application/vnd.jupyter.widget-view+json": {
       "model_id": "b8029a63cb2b416abfe465243a0aa975",
       "version_major": 2,
       "version_minor": 0
      },
      "text/plain": [
       "  0%|          | 0/14 [00:00<?, ?it/s]"
      ]
     },
     "metadata": {},
     "output_type": "display_data"
    },
    {
     "data": {
      "application/vnd.jupyter.widget-view+json": {
       "model_id": "a270816637b04d93b6994419ce2284e6",
       "version_major": 2,
       "version_minor": 0
      },
      "text/plain": [
       "  0%|          | 0/7 [00:00<?, ?it/s]"
      ]
     },
     "metadata": {},
     "output_type": "display_data"
    },
    {
     "name": "stdout",
     "output_type": "stream",
     "text": [
      "Epoch [94/100], train_loss: 0.0040,  train_score: 0.9994,val_loss: 8.2391,  val_score: 0.4575, genus train_score0.9995, genus val_score0.9304\n"
     ]
    },
    {
     "data": {
      "application/vnd.jupyter.widget-view+json": {
       "model_id": "c3046d3949b14de49c11bde38628c91d",
       "version_major": 2,
       "version_minor": 0
      },
      "text/plain": [
       "  0%|          | 0/14 [00:00<?, ?it/s]"
      ]
     },
     "metadata": {},
     "output_type": "display_data"
    },
    {
     "data": {
      "application/vnd.jupyter.widget-view+json": {
       "model_id": "6f65fbfbada54a79930c5117813a009c",
       "version_major": 2,
       "version_minor": 0
      },
      "text/plain": [
       "  0%|          | 0/7 [00:00<?, ?it/s]"
      ]
     },
     "metadata": {},
     "output_type": "display_data"
    },
    {
     "name": "stdout",
     "output_type": "stream",
     "text": [
      "Epoch [95/100], train_loss: 0.0043,  train_score: 0.9992,val_loss: 8.4384,  val_score: 0.4575, genus train_score0.9993, genus val_score0.9306\n"
     ]
    },
    {
     "data": {
      "application/vnd.jupyter.widget-view+json": {
       "model_id": "2f85a295f7e54d4380e5128bc2f1277c",
       "version_major": 2,
       "version_minor": 0
      },
      "text/plain": [
       "  0%|          | 0/14 [00:00<?, ?it/s]"
      ]
     },
     "metadata": {},
     "output_type": "display_data"
    },
    {
     "data": {
      "application/vnd.jupyter.widget-view+json": {
       "model_id": "b0493974b4144f568e0696bdf97517b9",
       "version_major": 2,
       "version_minor": 0
      },
      "text/plain": [
       "  0%|          | 0/7 [00:00<?, ?it/s]"
      ]
     },
     "metadata": {},
     "output_type": "display_data"
    },
    {
     "name": "stdout",
     "output_type": "stream",
     "text": [
      "Epoch [96/100], train_loss: 0.0033,  train_score: 0.9991,val_loss: 7.9849,  val_score: 0.4575, genus train_score0.9993, genus val_score0.9313\n"
     ]
    },
    {
     "data": {
      "application/vnd.jupyter.widget-view+json": {
       "model_id": "c644804721914b3f9797ec3b278b12c9",
       "version_major": 2,
       "version_minor": 0
      },
      "text/plain": [
       "  0%|          | 0/14 [00:00<?, ?it/s]"
      ]
     },
     "metadata": {},
     "output_type": "display_data"
    },
    {
     "data": {
      "application/vnd.jupyter.widget-view+json": {
       "model_id": "5214d0cd27b84fa9b2f39cde3d935076",
       "version_major": 2,
       "version_minor": 0
      },
      "text/plain": [
       "  0%|          | 0/7 [00:00<?, ?it/s]"
      ]
     },
     "metadata": {},
     "output_type": "display_data"
    },
    {
     "name": "stdout",
     "output_type": "stream",
     "text": [
      "Epoch [97/100], train_loss: 0.0053,  train_score: 0.9992,val_loss: 8.1658,  val_score: 0.4577, genus train_score0.9992, genus val_score0.9307\n"
     ]
    },
    {
     "data": {
      "application/vnd.jupyter.widget-view+json": {
       "model_id": "5b8156171625487b95043e159279d84b",
       "version_major": 2,
       "version_minor": 0
      },
      "text/plain": [
       "  0%|          | 0/14 [00:00<?, ?it/s]"
      ]
     },
     "metadata": {},
     "output_type": "display_data"
    },
    {
     "data": {
      "application/vnd.jupyter.widget-view+json": {
       "model_id": "0d9078575fdf4480aca2e6d0d1336c6f",
       "version_major": 2,
       "version_minor": 0
      },
      "text/plain": [
       "  0%|          | 0/7 [00:00<?, ?it/s]"
      ]
     },
     "metadata": {},
     "output_type": "display_data"
    },
    {
     "name": "stdout",
     "output_type": "stream",
     "text": [
      "Epoch [98/100], train_loss: 0.0036,  train_score: 0.9992,val_loss: 8.4753,  val_score: 0.4575, genus train_score0.9988, genus val_score0.9307\n"
     ]
    },
    {
     "data": {
      "application/vnd.jupyter.widget-view+json": {
       "model_id": "d54f65b952824cb3a255fc627dc3645b",
       "version_major": 2,
       "version_minor": 0
      },
      "text/plain": [
       "  0%|          | 0/14 [00:00<?, ?it/s]"
      ]
     },
     "metadata": {},
     "output_type": "display_data"
    },
    {
     "data": {
      "application/vnd.jupyter.widget-view+json": {
       "model_id": "5033402196d140318b5803b51df3cdc9",
       "version_major": 2,
       "version_minor": 0
      },
      "text/plain": [
       "  0%|          | 0/7 [00:00<?, ?it/s]"
      ]
     },
     "metadata": {},
     "output_type": "display_data"
    },
    {
     "name": "stdout",
     "output_type": "stream",
     "text": [
      "Epoch [99/100], train_loss: 0.0107,  train_score: 0.9993,val_loss: 8.0875,  val_score: 0.4574, genus train_score0.9981, genus val_score0.9306\n"
     ]
    },
    {
     "data": {
      "application/vnd.jupyter.widget-view+json": {
       "model_id": "2b1c4ee336cc4a6488d7b60359171574",
       "version_major": 2,
       "version_minor": 0
      },
      "text/plain": [
       "  0%|          | 0/14 [00:00<?, ?it/s]"
      ]
     },
     "metadata": {},
     "output_type": "display_data"
    },
    {
     "data": {
      "application/vnd.jupyter.widget-view+json": {
       "model_id": "4d09fec3a48a4be1861848a90601acc1",
       "version_major": 2,
       "version_minor": 0
      },
      "text/plain": [
       "  0%|          | 0/7 [00:00<?, ?it/s]"
      ]
     },
     "metadata": {},
     "output_type": "display_data"
    },
    {
     "name": "stdout",
     "output_type": "stream",
     "text": [
      "Epoch [100/100], train_loss: 0.0028,  train_score: 0.9988,val_loss: 8.4806,  val_score: 0.4572, genus train_score0.9993, genus val_score0.9307\n"
     ]
    }
   ],
   "source": [
    "\n",
    "_ = fit(100,dataloaders,optimizer,model)"
   ]
  },
  {
   "cell_type": "code",
   "execution_count": 39,
   "metadata": {},
   "outputs": [
    {
     "name": "stderr",
     "output_type": "stream",
     "text": [
      "/tmp/ipykernel_19202/1407773025.py:34: UserWarning: Implicit dimension choice for log_softmax has been deprecated. Change the call to include dim=X as an argument.\n",
      "  x_genus = torch.nn.functional.log_softmax(x/temperature)\n"
     ]
    }
   ],
   "source": [
    "with torch.no_grad():\n",
    "    model.eval()\n",
    "    val_predicted_probs,val_predicted_probs_genus = (model(d_val.data.cuda(),temperature=3))\n",
    "    val_predicted_probs = torch.exp(val_predicted_probs)\n",
    "    val_predicted_probs_genus = torch.exp(val_predicted_probs_genus)\n",
    "val_predicted_probs = val_predicted_probs.cpu()\n",
    "val_predicted_probs_genus = val_predicted_probs_genus.cpu()"
   ]
  },
  {
   "cell_type": "code",
   "execution_count": 40,
   "metadata": {},
   "outputs": [],
   "source": [
    "val_predicted_labels = val_predicted_probs.argmax(axis=1)\n",
    "val_predicted_labels_genus = val_predicted_probs_genus.argmax(axis=1)\n",
    "image_val_labels = image_val_labels.type(torch.LongTensor)"
   ]
  },
  {
   "cell_type": "code",
   "execution_count": null,
   "metadata": {},
   "outputs": [],
   "source": []
  },
  {
   "cell_type": "code",
   "execution_count": null,
   "metadata": {},
   "outputs": [],
   "source": []
  },
  {
   "cell_type": "code",
   "execution_count": 41,
   "metadata": {},
   "outputs": [
    {
     "data": {
      "text/plain": [
       "tensor([975, 973])"
      ]
     },
     "execution_count": 41,
     "metadata": {},
     "output_type": "execute_result"
    }
   ],
   "source": [
    "val_predicted_probs[1000].topk(2).indices"
   ]
  },
  {
   "cell_type": "code",
   "execution_count": 42,
   "metadata": {},
   "outputs": [
    {
     "data": {
      "text/plain": [
       "tensor(975)"
      ]
     },
     "execution_count": 42,
     "metadata": {},
     "output_type": "execute_result"
    }
   ],
   "source": [
    "image_val_labels[1000]"
   ]
  },
  {
   "cell_type": "code",
   "execution_count": 43,
   "metadata": {},
   "outputs": [
    {
     "data": {
      "text/plain": [
       "tensor([187])"
      ]
     },
     "execution_count": 43,
     "metadata": {},
     "output_type": "execute_result"
    }
   ],
   "source": [
    "species2genus[172]"
   ]
  },
  {
   "cell_type": "code",
   "execution_count": 44,
   "metadata": {},
   "outputs": [
    {
     "data": {
      "text/plain": [
       "tensor(58)"
      ]
     },
     "execution_count": 44,
     "metadata": {},
     "output_type": "execute_result"
    }
   ],
   "source": [
    "val_predicted_labels_genus[1000]"
   ]
  },
  {
   "cell_type": "code",
   "execution_count": 45,
   "metadata": {},
   "outputs": [
    {
     "data": {
      "image/png": "[encoded data removed]",
      "text/plain": [
       "<Figure size 640x480 with 1 Axes>"
      ]
     },
     "metadata": {},
     "output_type": "display_data"
    }
   ],
   "source": [
    "plt.plot(val_predicted_probs_genus[-1].cpu())\n",
    "plt.savefig(\"peaks10.png\")"
   ]
  },
  {
   "cell_type": "code",
   "execution_count": null,
   "metadata": {},
   "outputs": [],
   "source": []
  },
  {
   "cell_type": "code",
   "execution_count": null,
   "metadata": {},
   "outputs": [],
   "source": []
  },
  {
   "cell_type": "markdown",
   "metadata": {},
   "source": [
    "# Secondo top2 method"
   ]
  },
  {
   "cell_type": "code",
   "execution_count": 249,
   "metadata": {},
   "outputs": [
    {
     "name": "stderr",
     "output_type": "stream",
     "text": [
      "/tmp/ipykernel_11717/3866402163.py:23: UserWarning: To copy construct from a tensor, it is recommended to use sourceTensor.clone().detach() or sourceTensor.clone().detach().requires_grad_(True), rather than torch.tensor(sourceTensor).\n",
      "  top2 = torch.tensor(val_predicted_probs[i]).topk(2)#ATTENZIONE QUA E' DIVERSO\n"
     ]
    }
   ],
   "source": [
    "tprs = []\n",
    "fprs = []\n",
    "correct_genus_rate = []\n",
    "correct_species_rate = []\n",
    "thresholds = []\n",
    "possible_thresholds = [x / 10000 for x in range(5000, 10000, 10)]\n",
    "for t in possible_thresholds:#ATTENZIONE QUA E' DIVERSO\n",
    "    #t = t * 1.005\n",
    "    thresholds.append(t)\n",
    "    #print(val_predicted_probs.shape)\n",
    "    n_undescribed_samples = 0\n",
    "    n_described_samples = 0\n",
    "    n_correct_undescribed_samples = 0\n",
    "    n_correct_described_samples = 0\n",
    "    n_correct_genus = 0 \n",
    "    n_correct_species = 0 \n",
    "    for i in range(len(image_val_labels)):\n",
    "        label_best_specie = val_predicted_labels[i]\n",
    "       \n",
    "        #assert(val_predicted_labels[i]==val_predicted_probs[i].argmax())\n",
    "        genus_of_best_species = species2genus[label_best_specie.item()]\n",
    "\n",
    "        top2 = torch.tensor(val_predicted_probs[i]).topk(2)#ATTENZIONE QUA E' DIVERSO\n",
    "        #print(top2)\n",
    "        if (top2.values[0]-top2.values[1]) >t*top2.values[0]:#species \n",
    "            if image_val_labels[i].item() in described_species_labels:#i needed to guess species\n",
    "                n_described_samples +=1\n",
    "                if label_best_specie == image_val_labels[i]:#guessed species is correct\n",
    "                    #n_correct_described_samples+=1\n",
    "                    n_correct_species+=1\n",
    "            else:# i needed to guess genus\n",
    "                n_undescribed_samples+=1\n",
    "        else:#genus\n",
    "            if image_val_labels[i].item() in described_species_labels:#i needed to guess species\n",
    "                n_described_samples +=1\n",
    "            else:# i needed to guess genus\n",
    "                n_undescribed_samples+=1\n",
    "                #if genus_of_best_species == species2genus[image_val_labels[i]]:#guessed genus is correct\n",
    "                #ATTENZIONE QUA E' DIVERSO\n",
    "                if val_predicted_labels_genus[i].item() == species2genus[image_val_labels[i]].item():#guessed genus is correct\n",
    "                    #n_correct_described_samples+=1\n",
    "                    n_correct_genus+=1\n",
    "            \n",
    "    tprs.append(n_correct_undescribed_samples/n_undescribed_samples) # TPR = recall = sensitivity\n",
    "    fprs.append(1-n_correct_described_samples/n_described_samples) # 1-TNR = 1 - specificity\n",
    "    correct_genus_rate.append(n_correct_genus/n_undescribed_samples)\n",
    "    correct_species_rate.append(n_correct_species/n_described_samples)"
   ]
  },
  {
   "cell_type": "code",
   "execution_count": 250,
   "metadata": {
    "scrolled": true
   },
   "outputs": [
    {
     "name": "stdout",
     "output_type": "stream",
     "text": [
      "0\n",
      "0.5228494623655914\n",
      "0.9681362725450902\n",
      "\n",
      "\n",
      "\n",
      "1\n",
      "0.5233870967741936\n",
      "0.9681362725450902\n",
      "\n",
      "\n",
      "\n",
      "2\n",
      "0.5239247311827957\n",
      "0.9681362725450902\n",
      "\n",
      "\n",
      "\n",
      "3\n",
      "0.5245967741935483\n",
      "0.9681362725450902\n",
      "\n",
      "\n",
      "\n",
      "4\n",
      "0.5254032258064516\n",
      "0.9681362725450902\n",
      "\n",
      "\n",
      "\n",
      "5\n",
      "0.5260752688172043\n",
      "0.9681362725450902\n",
      "\n",
      "\n",
      "\n",
      "6\n",
      "0.527016129032258\n",
      "0.9681362725450902\n",
      "\n",
      "\n",
      "\n",
      "7\n",
      "0.5275537634408602\n",
      "0.9677354709418837\n",
      "\n",
      "\n",
      "\n",
      "8\n",
      "0.5287634408602151\n",
      "0.9677354709418837\n",
      "\n",
      "\n",
      "\n",
      "9\n",
      "0.5298387096774193\n",
      "0.9677354709418837\n",
      "\n",
      "\n",
      "\n",
      "10\n",
      "0.530241935483871\n",
      "0.9677354709418837\n",
      "\n",
      "\n",
      "\n",
      "11\n",
      "0.5310483870967742\n",
      "0.9677354709418837\n",
      "\n",
      "\n",
      "\n",
      "12\n",
      "0.5318548387096774\n",
      "0.9677354709418837\n",
      "\n",
      "\n",
      "\n",
      "13\n",
      "0.5325268817204301\n",
      "0.9677354709418837\n",
      "\n",
      "\n",
      "\n",
      "14\n",
      "0.5337365591397849\n",
      "0.9677354709418837\n",
      "\n",
      "\n",
      "\n",
      "15\n",
      "0.5352150537634408\n",
      "0.9677354709418837\n",
      "\n",
      "\n",
      "\n",
      "16\n",
      "0.5360215053763441\n",
      "0.9675350701402805\n",
      "\n",
      "\n",
      "\n",
      "17\n",
      "0.5369623655913979\n",
      "0.9675350701402805\n",
      "\n",
      "\n",
      "\n",
      "18\n",
      "0.5372311827956989\n",
      "0.9675350701402805\n",
      "\n",
      "\n",
      "\n",
      "19\n",
      "0.5380376344086022\n",
      "0.9675350701402805\n",
      "\n",
      "\n",
      "\n",
      "20\n",
      "0.5388440860215054\n",
      "0.9675350701402805\n",
      "\n",
      "\n",
      "\n",
      "21\n",
      "0.5400537634408602\n",
      "0.9673346693386774\n",
      "\n",
      "\n",
      "\n",
      "22\n",
      "0.540725806451613\n",
      "0.9671342685370742\n",
      "\n",
      "\n",
      "\n",
      "23\n",
      "0.540994623655914\n",
      "0.9671342685370742\n",
      "\n",
      "\n",
      "\n",
      "24\n",
      "0.5420698924731183\n",
      "0.9671342685370742\n",
      "\n",
      "\n",
      "\n",
      "25\n",
      "0.5431451612903225\n",
      "0.966933867735471\n",
      "\n",
      "\n",
      "\n",
      "26\n",
      "0.5440860215053763\n",
      "0.966933867735471\n",
      "\n",
      "\n",
      "\n",
      "27\n",
      "0.5447580645161291\n",
      "0.966933867735471\n",
      "\n",
      "\n",
      "\n",
      "28\n",
      "0.5454301075268817\n",
      "0.966933867735471\n",
      "\n",
      "\n",
      "\n",
      "29\n",
      "0.5461021505376344\n",
      "0.966933867735471\n",
      "\n",
      "\n",
      "\n",
      "30\n",
      "0.5474462365591398\n",
      "0.9667334669338677\n",
      "\n",
      "\n",
      "\n",
      "31\n",
      "0.5479838709677419\n",
      "0.9667334669338677\n",
      "\n",
      "\n",
      "\n",
      "32\n",
      "0.5486559139784947\n",
      "0.9665330661322645\n",
      "\n",
      "\n",
      "\n",
      "33\n",
      "0.5494623655913978\n",
      "0.9665330661322645\n",
      "\n",
      "\n",
      "\n",
      "34\n",
      "0.5504032258064516\n",
      "0.9665330661322645\n",
      "\n",
      "\n",
      "\n",
      "35\n",
      "0.5509408602150537\n",
      "0.9661322645290581\n",
      "\n",
      "\n",
      "\n",
      "36\n",
      "0.5513440860215054\n",
      "0.9661322645290581\n",
      "\n",
      "\n",
      "\n",
      "37\n",
      "0.5522849462365591\n",
      "0.9661322645290581\n",
      "\n",
      "\n",
      "\n",
      "38\n",
      "0.5529569892473118\n",
      "0.9661322645290581\n",
      "\n",
      "\n",
      "\n",
      "39\n",
      "0.5530913978494624\n",
      "0.9661322645290581\n",
      "\n",
      "\n",
      "\n",
      "40\n",
      "0.553763440860215\n",
      "0.9661322645290581\n",
      "\n",
      "\n",
      "\n",
      "41\n",
      "0.5541666666666667\n",
      "0.9661322645290581\n",
      "\n",
      "\n",
      "\n",
      "42\n",
      "0.5548387096774193\n",
      "0.9661322645290581\n",
      "\n",
      "\n",
      "\n",
      "43\n",
      "0.5553763440860215\n",
      "0.9661322645290581\n",
      "\n",
      "\n",
      "\n",
      "44\n",
      "0.5563172043010752\n",
      "0.9659318637274549\n",
      "\n",
      "\n",
      "\n",
      "45\n",
      "0.5577956989247311\n",
      "0.9659318637274549\n",
      "\n",
      "\n",
      "\n",
      "46\n",
      "0.5587365591397849\n",
      "0.9659318637274549\n",
      "\n",
      "\n",
      "\n",
      "47\n",
      "0.5596774193548387\n",
      "0.9657314629258517\n",
      "\n",
      "\n",
      "\n",
      "48\n",
      "0.5602150537634408\n",
      "0.9655310621242486\n",
      "\n",
      "\n",
      "\n",
      "49\n",
      "0.5614247311827957\n",
      "0.9655310621242486\n",
      "\n",
      "\n",
      "\n",
      "50\n",
      "0.562231182795699\n",
      "0.9647294589178357\n",
      "\n",
      "\n",
      "\n",
      "51\n",
      "0.5631720430107527\n",
      "0.9645290581162325\n",
      "\n",
      "\n",
      "\n",
      "52\n",
      "0.5634408602150538\n",
      "0.964128256513026\n",
      "\n",
      "\n",
      "\n",
      "53\n",
      "0.5638440860215054\n",
      "0.964128256513026\n",
      "\n",
      "\n",
      "\n",
      "54\n",
      "0.5649193548387097\n",
      "0.9639278557114228\n",
      "\n",
      "\n",
      "\n",
      "55\n",
      "0.5666666666666667\n",
      "0.9639278557114228\n",
      "\n",
      "\n",
      "\n",
      "56\n",
      "0.5674731182795699\n",
      "0.9639278557114228\n",
      "\n",
      "\n",
      "\n",
      "57\n",
      "0.5682795698924731\n",
      "0.9635270541082165\n",
      "\n",
      "\n",
      "\n",
      "58\n",
      "0.5688172043010753\n",
      "0.9633266533066133\n",
      "\n",
      "\n",
      "\n",
      "59\n",
      "0.5696236559139785\n",
      "0.96312625250501\n",
      "\n",
      "\n",
      "\n",
      "60\n",
      "0.5702956989247312\n",
      "0.9629258517034068\n",
      "\n",
      "\n",
      "\n",
      "61\n",
      "0.5708333333333333\n",
      "0.9627254509018036\n",
      "\n",
      "\n",
      "\n",
      "62\n",
      "0.5716397849462366\n",
      "0.9627254509018036\n",
      "\n",
      "\n",
      "\n",
      "63\n",
      "0.5717741935483871\n",
      "0.9627254509018036\n",
      "\n",
      "\n",
      "\n",
      "64\n",
      "0.5723118279569892\n",
      "0.9625250501002004\n",
      "\n",
      "\n",
      "\n",
      "65\n",
      "0.573521505376344\n",
      "0.9625250501002004\n",
      "\n",
      "\n",
      "\n",
      "66\n",
      "0.5748655913978494\n",
      "0.9623246492985972\n",
      "\n",
      "\n",
      "\n",
      "67\n",
      "0.5755376344086022\n",
      "0.9623246492985972\n",
      "\n",
      "\n",
      "\n",
      "68\n",
      "0.576747311827957\n",
      "0.9619238476953907\n",
      "\n",
      "\n",
      "\n",
      "69\n",
      "0.5775537634408602\n",
      "0.9615230460921844\n",
      "\n",
      "\n",
      "\n",
      "70\n",
      "0.5783602150537634\n",
      "0.9615230460921844\n",
      "\n",
      "\n",
      "\n",
      "71\n",
      "0.5791666666666667\n",
      "0.9613226452905812\n",
      "\n",
      "\n",
      "\n",
      "72\n",
      "0.5797043010752688\n",
      "0.961122244488978\n",
      "\n",
      "\n",
      "\n",
      "73\n",
      "0.5803763440860215\n",
      "0.9607214428857715\n",
      "\n",
      "\n",
      "\n",
      "74\n",
      "0.5810483870967742\n",
      "0.9605210420841683\n",
      "\n",
      "\n",
      "\n",
      "75\n",
      "0.5813172043010753\n",
      "0.9605210420841683\n",
      "\n",
      "\n",
      "\n",
      "76\n",
      "0.581989247311828\n",
      "0.9603206412825651\n",
      "\n",
      "\n",
      "\n",
      "77\n",
      "0.5830645161290322\n",
      "0.9603206412825651\n",
      "\n",
      "\n",
      "\n",
      "78\n",
      "0.584005376344086\n",
      "0.9601202404809619\n",
      "\n",
      "\n",
      "\n",
      "79\n",
      "0.584274193548387\n",
      "0.9599198396793587\n",
      "\n",
      "\n",
      "\n",
      "80\n",
      "0.5845430107526882\n",
      "0.9599198396793587\n",
      "\n",
      "\n",
      "\n",
      "81\n",
      "0.5854838709677419\n",
      "0.9597194388777555\n",
      "\n",
      "\n",
      "\n",
      "82\n",
      "0.5865591397849462\n",
      "0.9597194388777555\n",
      "\n",
      "\n",
      "\n",
      "83\n",
      "0.5870967741935483\n",
      "0.9597194388777555\n",
      "\n",
      "\n",
      "\n",
      "84\n",
      "0.5879032258064516\n",
      "0.9597194388777555\n",
      "\n",
      "\n",
      "\n",
      "85\n",
      "0.5885752688172043\n",
      "0.9595190380761524\n",
      "\n",
      "\n",
      "\n",
      "86\n",
      "0.589516129032258\n",
      "0.9595190380761524\n",
      "\n",
      "\n",
      "\n",
      "87\n",
      "0.5903225806451613\n",
      "0.9593186372745491\n",
      "\n",
      "\n",
      "\n",
      "88\n",
      "0.5911290322580646\n",
      "0.9591182364729459\n",
      "\n",
      "\n",
      "\n",
      "89\n",
      "0.5923387096774193\n",
      "0.9591182364729459\n",
      "\n",
      "\n",
      "\n",
      "90\n",
      "0.5934139784946236\n",
      "0.9591182364729459\n",
      "\n",
      "\n",
      "\n",
      "91\n",
      "0.5939516129032258\n",
      "0.9589178356713427\n",
      "\n",
      "\n",
      "\n",
      "92\n",
      "0.5951612903225807\n",
      "0.9585170340681363\n",
      "\n",
      "\n",
      "\n",
      "93\n",
      "0.5961021505376344\n",
      "0.9585170340681363\n",
      "\n",
      "\n",
      "\n",
      "94\n",
      "0.5969086021505376\n",
      "0.9585170340681363\n",
      "\n",
      "\n",
      "\n",
      "95\n",
      "0.598252688172043\n",
      "0.9585170340681363\n",
      "\n",
      "\n",
      "\n",
      "96\n",
      "0.5986559139784946\n",
      "0.9585170340681363\n",
      "\n",
      "\n",
      "\n",
      "97\n",
      "0.5990591397849462\n",
      "0.9585170340681363\n",
      "\n",
      "\n",
      "\n",
      "98\n",
      "0.5994623655913979\n",
      "0.9585170340681363\n",
      "\n",
      "\n",
      "\n",
      "99\n",
      "0.6001344086021505\n",
      "0.9585170340681363\n",
      "\n",
      "\n",
      "\n",
      "100\n",
      "0.6005376344086022\n",
      "0.958316633266533\n",
      "\n",
      "\n",
      "\n",
      "101\n",
      "0.6018817204301076\n",
      "0.958316633266533\n",
      "\n",
      "\n",
      "\n",
      "102\n",
      "0.6030913978494624\n",
      "0.9579158316633266\n",
      "\n",
      "\n",
      "\n",
      "103\n",
      "0.6041666666666666\n",
      "0.9579158316633266\n",
      "\n",
      "\n",
      "\n",
      "104\n",
      "0.605241935483871\n",
      "0.9579158316633266\n",
      "\n",
      "\n",
      "\n",
      "105\n",
      "0.6060483870967742\n",
      "0.9579158316633266\n",
      "\n",
      "\n",
      "\n",
      "106\n",
      "0.6067204301075269\n",
      "0.9577154308617234\n",
      "\n",
      "\n",
      "\n",
      "107\n",
      "0.6081989247311828\n",
      "0.9573146292585171\n",
      "\n",
      "\n",
      "\n",
      "108\n",
      "0.6091397849462366\n",
      "0.9571142284569139\n",
      "\n",
      "\n",
      "\n",
      "109\n",
      "0.6095430107526881\n",
      "0.9571142284569139\n",
      "\n",
      "\n",
      "\n",
      "110\n",
      "0.6100806451612903\n",
      "0.9571142284569139\n",
      "\n",
      "\n",
      "\n",
      "111\n",
      "0.610752688172043\n",
      "0.9571142284569139\n",
      "\n",
      "\n",
      "\n",
      "112\n",
      "0.6116935483870968\n",
      "0.9569138276553106\n",
      "\n",
      "\n",
      "\n",
      "113\n",
      "0.6125\n",
      "0.9569138276553106\n",
      "\n",
      "\n",
      "\n",
      "114\n",
      "0.6131720430107527\n",
      "0.9569138276553106\n",
      "\n",
      "\n",
      "\n",
      "115\n",
      "0.6137096774193549\n",
      "0.9569138276553106\n",
      "\n",
      "\n",
      "\n",
      "116\n",
      "0.6150537634408603\n",
      "0.9567134268537074\n",
      "\n",
      "\n",
      "\n",
      "117\n",
      "0.616263440860215\n",
      "0.9565130260521042\n",
      "\n",
      "\n",
      "\n",
      "118\n",
      "0.6174731182795699\n",
      "0.9565130260521042\n",
      "\n",
      "\n",
      "\n",
      "119\n",
      "0.6181451612903226\n",
      "0.956312625250501\n",
      "\n",
      "\n",
      "\n",
      "120\n",
      "0.6192204301075269\n",
      "0.956312625250501\n",
      "\n",
      "\n",
      "\n",
      "121\n",
      "0.619758064516129\n",
      "0.9561122244488978\n",
      "\n",
      "\n",
      "\n",
      "122\n",
      "0.6205645161290323\n",
      "0.9561122244488978\n",
      "\n",
      "\n",
      "\n",
      "123\n",
      "0.6209677419354839\n",
      "0.9561122244488978\n",
      "\n",
      "\n",
      "\n",
      "124\n",
      "0.621505376344086\n",
      "0.9561122244488978\n",
      "\n",
      "\n",
      "\n",
      "125\n",
      "0.6219086021505377\n",
      "0.9557114228456913\n",
      "\n",
      "\n",
      "\n",
      "126\n",
      "0.6225806451612903\n",
      "0.9555110220440882\n",
      "\n",
      "\n",
      "\n",
      "127\n",
      "0.6229838709677419\n",
      "0.9551102204408818\n",
      "\n",
      "\n",
      "\n",
      "128\n",
      "0.6237903225806452\n",
      "0.9551102204408818\n",
      "\n",
      "\n",
      "\n",
      "129\n",
      "0.6241935483870967\n",
      "0.9543086172344689\n",
      "\n",
      "\n",
      "\n",
      "130\n",
      "0.625268817204301\n",
      "0.9541082164328657\n",
      "\n",
      "\n",
      "\n",
      "131\n",
      "0.6259408602150538\n",
      "0.9539078156312625\n",
      "\n",
      "\n",
      "\n",
      "132\n",
      "0.626747311827957\n",
      "0.9539078156312625\n",
      "\n",
      "\n",
      "\n",
      "133\n",
      "0.6274193548387097\n",
      "0.9537074148296594\n",
      "\n",
      "\n",
      "\n",
      "134\n",
      "0.6276881720430108\n",
      "0.9537074148296594\n",
      "\n",
      "\n",
      "\n",
      "135\n",
      "0.6288978494623656\n",
      "0.9537074148296594\n",
      "\n",
      "\n",
      "\n",
      "136\n",
      "0.6291666666666667\n",
      "0.9531062124248497\n",
      "\n",
      "\n",
      "\n",
      "137\n",
      "0.6306451612903226\n",
      "0.9531062124248497\n",
      "\n",
      "\n",
      "\n",
      "138\n",
      "0.6311827956989248\n",
      "0.9529058116232465\n",
      "\n",
      "\n",
      "\n",
      "139\n",
      "0.6321236559139785\n",
      "0.9529058116232465\n",
      "\n",
      "\n",
      "\n",
      "140\n",
      "0.6327956989247312\n",
      "0.9527054108216433\n",
      "\n",
      "\n",
      "\n",
      "141\n",
      "0.6334677419354838\n",
      "0.9527054108216433\n",
      "\n",
      "\n",
      "\n",
      "142\n",
      "0.6338709677419355\n",
      "0.9527054108216433\n",
      "\n",
      "\n",
      "\n",
      "143\n",
      "0.6345430107526882\n",
      "0.9523046092184368\n",
      "\n",
      "\n",
      "\n",
      "144\n",
      "0.6349462365591397\n",
      "0.9523046092184368\n",
      "\n",
      "\n",
      "\n",
      "145\n",
      "0.6350806451612904\n",
      "0.9523046092184368\n",
      "\n",
      "\n",
      "\n",
      "146\n",
      "0.6353494623655914\n",
      "0.9521042084168336\n",
      "\n",
      "\n",
      "\n",
      "147\n",
      "0.6361559139784946\n",
      "0.9521042084168336\n",
      "\n",
      "\n",
      "\n",
      "148\n",
      "0.6372311827956989\n",
      "0.9517034068136273\n",
      "\n",
      "\n",
      "\n",
      "149\n",
      "0.6377688172043011\n",
      "0.9515030060120241\n",
      "\n",
      "\n",
      "\n",
      "150\n",
      "0.6381720430107527\n",
      "0.9513026052104209\n",
      "\n",
      "\n",
      "\n",
      "151\n",
      "0.6385752688172043\n",
      "0.9513026052104209\n",
      "\n",
      "\n",
      "\n",
      "152\n",
      "0.6391129032258065\n",
      "0.9511022044088177\n",
      "\n",
      "\n",
      "\n",
      "153\n",
      "0.6400537634408602\n",
      "0.9511022044088177\n",
      "\n",
      "\n",
      "\n",
      "154\n",
      "0.6407258064516129\n",
      "0.9509018036072144\n",
      "\n",
      "\n",
      "\n",
      "155\n",
      "0.6413978494623656\n",
      "0.9509018036072144\n",
      "\n",
      "\n",
      "\n",
      "156\n",
      "0.6419354838709678\n",
      "0.9507014028056112\n",
      "\n",
      "\n",
      "\n",
      "157\n",
      "0.6423387096774194\n",
      "0.9501002004008016\n",
      "\n",
      "\n",
      "\n",
      "158\n",
      "0.6430107526881721\n",
      "0.9496993987975952\n",
      "\n",
      "\n",
      "\n",
      "159\n",
      "0.6443548387096775\n",
      "0.9496993987975952\n",
      "\n",
      "\n",
      "\n",
      "160\n",
      "0.6446236559139785\n",
      "0.9490981963927856\n",
      "\n",
      "\n",
      "\n",
      "161\n",
      "0.6455645161290322\n",
      "0.9490981963927856\n",
      "\n",
      "\n",
      "\n",
      "162\n",
      "0.6458333333333334\n",
      "0.9486973947895792\n",
      "\n",
      "\n",
      "\n",
      "163\n",
      "0.6471774193548387\n",
      "0.9480961923847695\n",
      "\n",
      "\n",
      "\n",
      "164\n",
      "0.6477150537634409\n",
      "0.9478957915831663\n",
      "\n",
      "\n",
      "\n",
      "165\n",
      "0.6481182795698924\n",
      "0.9478957915831663\n",
      "\n",
      "\n",
      "\n",
      "166\n",
      "0.6486559139784946\n",
      "0.9478957915831663\n",
      "\n",
      "\n",
      "\n",
      "167\n",
      "0.6491935483870968\n",
      "0.9476953907815632\n",
      "\n",
      "\n",
      "\n",
      "168\n",
      "0.6498655913978495\n",
      "0.9476953907815632\n",
      "\n",
      "\n",
      "\n",
      "169\n",
      "0.6508064516129032\n",
      "0.94749498997996\n",
      "\n",
      "\n",
      "\n",
      "170\n",
      "0.6514784946236559\n",
      "0.94749498997996\n",
      "\n",
      "\n",
      "\n",
      "171\n",
      "0.6521505376344086\n",
      "0.94749498997996\n",
      "\n",
      "\n",
      "\n",
      "172\n",
      "0.6525537634408602\n",
      "0.9472945891783567\n",
      "\n",
      "\n",
      "\n",
      "173\n",
      "0.6534946236559139\n",
      "0.9472945891783567\n",
      "\n",
      "\n",
      "\n",
      "174\n",
      "0.6543010752688172\n",
      "0.9472945891783567\n",
      "\n",
      "\n",
      "\n",
      "175\n",
      "0.655241935483871\n",
      "0.9472945891783567\n",
      "\n",
      "\n",
      "\n",
      "176\n",
      "0.6564516129032258\n",
      "0.9472945891783567\n",
      "\n",
      "\n",
      "\n",
      "177\n",
      "0.6575268817204301\n",
      "0.9470941883767535\n",
      "\n",
      "\n",
      "\n",
      "178\n",
      "0.6579301075268817\n",
      "0.9468937875751503\n",
      "\n",
      "\n",
      "\n",
      "179\n",
      "0.6581989247311828\n",
      "0.9468937875751503\n",
      "\n",
      "\n",
      "\n",
      "180\n",
      "0.6588709677419354\n",
      "0.9466933867735471\n",
      "\n",
      "\n",
      "\n",
      "181\n",
      "0.6592741935483871\n",
      "0.9466933867735471\n",
      "\n",
      "\n",
      "\n",
      "182\n",
      "0.6598118279569892\n",
      "0.9464929859719439\n",
      "\n",
      "\n",
      "\n",
      "183\n",
      "0.6606182795698925\n",
      "0.9462925851703406\n",
      "\n",
      "\n",
      "\n",
      "184\n",
      "0.6608870967741935\n",
      "0.9462925851703406\n",
      "\n",
      "\n",
      "\n",
      "185\n",
      "0.6614247311827957\n",
      "0.9462925851703406\n",
      "\n",
      "\n",
      "\n",
      "186\n",
      "0.662768817204301\n",
      "0.9460921843687374\n",
      "\n",
      "\n",
      "\n",
      "187\n",
      "0.6639784946236559\n",
      "0.9456913827655311\n",
      "\n",
      "\n",
      "\n",
      "188\n",
      "0.664247311827957\n",
      "0.9454909819639279\n",
      "\n",
      "\n",
      "\n",
      "189\n",
      "0.6646505376344086\n",
      "0.9452905811623247\n",
      "\n",
      "\n",
      "\n",
      "190\n",
      "0.6651881720430107\n",
      "0.9452905811623247\n",
      "\n",
      "\n",
      "\n",
      "191\n",
      "0.6658602150537635\n",
      "0.9450901803607215\n",
      "\n",
      "\n",
      "\n",
      "192\n",
      "0.6668010752688172\n",
      "0.9448897795591182\n",
      "\n",
      "\n",
      "\n",
      "193\n",
      "0.6674731182795699\n",
      "0.9448897795591182\n",
      "\n",
      "\n",
      "\n",
      "194\n",
      "0.6678763440860215\n",
      "0.9448897795591182\n",
      "\n",
      "\n",
      "\n",
      "195\n",
      "0.6688172043010753\n",
      "0.944689378757515\n",
      "\n",
      "\n",
      "\n",
      "196\n",
      "0.6698924731182796\n",
      "0.9444889779559118\n",
      "\n",
      "\n",
      "\n",
      "197\n",
      "0.6702956989247312\n",
      "0.9442885771543086\n",
      "\n",
      "\n",
      "\n",
      "198\n",
      "0.6711021505376344\n",
      "0.9440881763527054\n",
      "\n",
      "\n",
      "\n",
      "199\n",
      "0.6716397849462366\n",
      "0.9440881763527054\n",
      "\n",
      "\n",
      "\n",
      "200\n",
      "0.6724462365591398\n",
      "0.9438877755511023\n",
      "\n",
      "\n",
      "\n",
      "201\n",
      "0.673252688172043\n",
      "0.9434869739478958\n",
      "\n",
      "\n",
      "\n",
      "202\n",
      "0.673252688172043\n",
      "0.9434869739478958\n",
      "\n",
      "\n",
      "\n",
      "203\n",
      "0.6739247311827957\n",
      "0.9428857715430862\n",
      "\n",
      "\n",
      "\n",
      "204\n",
      "0.6743279569892473\n",
      "0.9428857715430862\n",
      "\n",
      "\n",
      "\n",
      "205\n",
      "0.6745967741935484\n",
      "0.9424849699398797\n",
      "\n",
      "\n",
      "\n",
      "206\n",
      "0.6751344086021506\n",
      "0.9422845691382765\n",
      "\n",
      "\n",
      "\n",
      "207\n",
      "0.6758064516129032\n",
      "0.9420841683366733\n",
      "\n",
      "\n",
      "\n",
      "208\n",
      "0.6759408602150537\n",
      "0.9418837675350702\n",
      "\n",
      "\n",
      "\n",
      "209\n",
      "0.676747311827957\n",
      "0.9410821643286573\n",
      "\n",
      "\n",
      "\n",
      "210\n",
      "0.677016129032258\n",
      "0.9406813627254509\n",
      "\n",
      "\n",
      "\n",
      "211\n",
      "0.6786290322580645\n",
      "0.9402805611222445\n",
      "\n",
      "\n",
      "\n",
      "212\n",
      "0.6791666666666667\n",
      "0.9402805611222445\n",
      "\n",
      "\n",
      "\n",
      "213\n",
      "0.6803763440860215\n",
      "0.9400801603206412\n",
      "\n",
      "\n",
      "\n",
      "214\n",
      "0.6809139784946237\n",
      "0.9400801603206412\n",
      "\n",
      "\n",
      "\n",
      "215\n",
      "0.6817204301075269\n",
      "0.9394789579158317\n",
      "\n",
      "\n",
      "\n",
      "216\n",
      "0.6825268817204301\n",
      "0.9394789579158317\n",
      "\n",
      "\n",
      "\n",
      "217\n",
      "0.6830645161290323\n",
      "0.9390781563126253\n",
      "\n",
      "\n",
      "\n",
      "218\n",
      "0.6834677419354839\n",
      "0.9386773547094188\n",
      "\n",
      "\n",
      "\n",
      "219\n",
      "0.6844086021505377\n",
      "0.9380761523046092\n",
      "\n",
      "\n",
      "\n",
      "220\n",
      "0.6853494623655914\n",
      "0.9376753507014028\n",
      "\n",
      "\n",
      "\n",
      "221\n",
      "0.6862903225806452\n",
      "0.9372745490981964\n",
      "\n",
      "\n",
      "\n",
      "222\n",
      "0.6870967741935484\n",
      "0.93687374749499\n",
      "\n",
      "\n",
      "\n",
      "223\n",
      "0.6881720430107527\n",
      "0.9366733466933868\n",
      "\n",
      "\n",
      "\n",
      "224\n",
      "0.6893817204301075\n",
      "0.9364729458917835\n",
      "\n",
      "\n",
      "\n",
      "225\n",
      "0.6899193548387097\n",
      "0.9360721442885771\n",
      "\n",
      "\n",
      "\n",
      "226\n",
      "0.6905913978494623\n",
      "0.935871743486974\n",
      "\n",
      "\n",
      "\n",
      "227\n",
      "0.6912634408602151\n",
      "0.9356713426853708\n",
      "\n",
      "\n",
      "\n",
      "228\n",
      "0.6919354838709677\n",
      "0.9356713426853708\n",
      "\n",
      "\n",
      "\n",
      "229\n",
      "0.6924731182795699\n",
      "0.9354709418837676\n",
      "\n",
      "\n",
      "\n",
      "230\n",
      "0.6931451612903226\n",
      "0.9350701402805611\n",
      "\n",
      "\n",
      "\n",
      "231\n",
      "0.6936827956989248\n",
      "0.9348697394789579\n",
      "\n",
      "\n",
      "\n",
      "232\n",
      "0.6944892473118279\n",
      "0.9346693386773547\n",
      "\n",
      "\n",
      "\n",
      "233\n",
      "0.6950268817204301\n",
      "0.9344689378757515\n",
      "\n",
      "\n",
      "\n",
      "234\n",
      "0.6954301075268817\n",
      "0.9342685370741483\n",
      "\n",
      "\n",
      "\n",
      "235\n",
      "0.6959677419354838\n",
      "0.9338677354709419\n",
      "\n",
      "\n",
      "\n",
      "236\n",
      "0.696236559139785\n",
      "0.9332665330661323\n",
      "\n",
      "\n",
      "\n",
      "237\n",
      "0.6966397849462366\n",
      "0.9332665330661323\n",
      "\n",
      "\n",
      "\n",
      "238\n",
      "0.6967741935483871\n",
      "0.9330661322645291\n",
      "\n",
      "\n",
      "\n",
      "239\n",
      "0.6975806451612904\n",
      "0.9326653306613226\n",
      "\n",
      "\n",
      "\n",
      "240\n",
      "0.6983870967741935\n",
      "0.9326653306613226\n",
      "\n",
      "\n",
      "\n",
      "241\n",
      "0.6989247311827957\n",
      "0.9324649298597194\n",
      "\n",
      "\n",
      "\n",
      "242\n",
      "0.6995967741935484\n",
      "0.9322645290581162\n",
      "\n",
      "\n",
      "\n",
      "243\n",
      "0.7004032258064516\n",
      "0.9316633266533066\n",
      "\n",
      "\n",
      "\n",
      "244\n",
      "0.7010752688172043\n",
      "0.931062124248497\n",
      "\n",
      "\n",
      "\n",
      "245\n",
      "0.7016129032258065\n",
      "0.9308617234468938\n",
      "\n",
      "\n",
      "\n",
      "246\n",
      "0.7018817204301075\n",
      "0.9306613226452906\n",
      "\n",
      "\n",
      "\n",
      "247\n",
      "0.7021505376344086\n",
      "0.9306613226452906\n",
      "\n",
      "\n",
      "\n",
      "248\n",
      "0.7030913978494624\n",
      "0.930060120240481\n",
      "\n",
      "\n",
      "\n",
      "249\n",
      "0.703494623655914\n",
      "0.9296593186372746\n",
      "\n",
      "\n",
      "\n",
      "250\n",
      "0.7036290322580645\n",
      "0.9292585170340681\n",
      "\n",
      "\n",
      "\n",
      "251\n",
      "0.7041666666666667\n",
      "0.9290581162324649\n",
      "\n",
      "\n",
      "\n",
      "252\n",
      "0.7045698924731183\n",
      "0.9288577154308617\n",
      "\n",
      "\n",
      "\n",
      "253\n",
      "0.7051075268817204\n",
      "0.9284569138276553\n",
      "\n",
      "\n",
      "\n",
      "254\n",
      "0.7056451612903226\n",
      "0.928256513026052\n",
      "\n",
      "\n",
      "\n",
      "255\n",
      "0.7063172043010753\n",
      "0.9276553106212425\n",
      "\n",
      "\n",
      "\n",
      "256\n",
      "0.7068548387096775\n",
      "0.9276553106212425\n",
      "\n",
      "\n",
      "\n",
      "257\n",
      "0.7073924731182796\n",
      "0.9270541082164329\n",
      "\n",
      "\n",
      "\n",
      "258\n",
      "0.7081989247311828\n",
      "0.9266533066132264\n",
      "\n",
      "\n",
      "\n",
      "259\n",
      "0.7094086021505376\n",
      "0.9258517034068137\n",
      "\n",
      "\n",
      "\n",
      "260\n",
      "0.7103494623655914\n",
      "0.9256513026052104\n",
      "\n",
      "\n",
      "\n",
      "261\n",
      "0.710752688172043\n",
      "0.9250501002004008\n",
      "\n",
      "\n",
      "\n",
      "262\n",
      "0.7112903225806452\n",
      "0.9248496993987976\n",
      "\n",
      "\n",
      "\n",
      "263\n",
      "0.7118279569892473\n",
      "0.9246492985971944\n",
      "\n",
      "\n",
      "\n",
      "264\n",
      "0.7126344086021505\n",
      "0.9242484969939879\n",
      "\n",
      "\n",
      "\n",
      "265\n",
      "0.7130376344086021\n",
      "0.9234468937875752\n",
      "\n",
      "\n",
      "\n",
      "266\n",
      "0.7135752688172043\n",
      "0.9230460921843687\n",
      "\n",
      "\n",
      "\n",
      "267\n",
      "0.7139784946236559\n",
      "0.9226452905811623\n",
      "\n",
      "\n",
      "\n",
      "268\n",
      "0.7146505376344086\n",
      "0.9220440881763527\n",
      "\n",
      "\n",
      "\n",
      "269\n",
      "0.7153225806451613\n",
      "0.9212424849699399\n",
      "\n",
      "\n",
      "\n",
      "270\n",
      "0.7155913978494624\n",
      "0.9208416833667334\n",
      "\n",
      "\n",
      "\n",
      "271\n",
      "0.7162634408602151\n",
      "0.9208416833667334\n",
      "\n",
      "\n",
      "\n",
      "272\n",
      "0.7166666666666667\n",
      "0.9206412825651302\n",
      "\n",
      "\n",
      "\n",
      "273\n",
      "0.7170698924731183\n",
      "0.920440881763527\n",
      "\n",
      "\n",
      "\n",
      "274\n",
      "0.718010752688172\n",
      "0.9200400801603207\n",
      "\n",
      "\n",
      "\n",
      "275\n",
      "0.7184139784946236\n",
      "0.9196392785571142\n",
      "\n",
      "\n",
      "\n",
      "276\n",
      "0.7190860215053764\n",
      "0.9190380761523046\n",
      "\n",
      "\n",
      "\n",
      "277\n",
      "0.7196236559139785\n",
      "0.9184368737474949\n",
      "\n",
      "\n",
      "\n",
      "278\n",
      "0.7202956989247312\n",
      "0.9180360721442886\n",
      "\n",
      "\n",
      "\n",
      "279\n",
      "0.7205645161290323\n",
      "0.9176352705410822\n",
      "\n",
      "\n",
      "\n",
      "280\n",
      "0.7208333333333333\n",
      "0.9176352705410822\n",
      "\n",
      "\n",
      "\n",
      "281\n",
      "0.7211021505376344\n",
      "0.9172344689378757\n",
      "\n",
      "\n",
      "\n",
      "282\n",
      "0.7219086021505376\n",
      "0.9172344689378757\n",
      "\n",
      "\n",
      "\n",
      "283\n",
      "0.722983870967742\n",
      "0.9172344689378757\n",
      "\n",
      "\n",
      "\n",
      "284\n",
      "0.7237903225806451\n",
      "0.9166332665330661\n",
      "\n",
      "\n",
      "\n",
      "285\n",
      "0.7241935483870968\n",
      "0.9162324649298598\n",
      "\n",
      "\n",
      "\n",
      "286\n",
      "0.725\n",
      "0.9158316633266533\n",
      "\n",
      "\n",
      "\n",
      "287\n",
      "0.7262096774193548\n",
      "0.9158316633266533\n",
      "\n",
      "\n",
      "\n",
      "288\n",
      "0.7268817204301076\n",
      "0.9152304609218437\n",
      "\n",
      "\n",
      "\n",
      "289\n",
      "0.7275537634408602\n",
      "0.9148296593186372\n",
      "\n",
      "\n",
      "\n",
      "290\n",
      "0.728225806451613\n",
      "0.9144288577154308\n",
      "\n",
      "\n",
      "\n",
      "291\n",
      "0.7283602150537635\n",
      "0.9138276553106213\n",
      "\n",
      "\n",
      "\n",
      "292\n",
      "0.7290322580645161\n",
      "0.9134268537074148\n",
      "\n",
      "\n",
      "\n",
      "293\n",
      "0.7294354838709678\n",
      "0.912625250501002\n",
      "\n",
      "\n",
      "\n",
      "294\n",
      "0.7299731182795699\n",
      "0.9122244488977956\n",
      "\n",
      "\n",
      "\n",
      "295\n",
      "0.7301075268817204\n",
      "0.9112224448897795\n",
      "\n",
      "\n",
      "\n",
      "296\n",
      "0.7303763440860215\n",
      "0.9100200400801604\n",
      "\n",
      "\n",
      "\n",
      "297\n",
      "0.7313172043010753\n",
      "0.9094188376753507\n",
      "\n",
      "\n",
      "\n",
      "298\n",
      "0.7319892473118279\n",
      "0.9086172344689378\n",
      "\n",
      "\n",
      "\n",
      "299\n",
      "0.7326612903225806\n",
      "0.9082164328657315\n",
      "\n",
      "\n",
      "\n",
      "300\n",
      "0.7333333333333333\n",
      "0.9080160320641283\n",
      "\n",
      "\n",
      "\n",
      "301\n",
      "0.7336021505376344\n",
      "0.9074148296593186\n",
      "\n",
      "\n",
      "\n",
      "302\n",
      "0.7341397849462366\n",
      "0.9064128256513027\n",
      "\n",
      "\n",
      "\n",
      "303\n",
      "0.7349462365591398\n",
      "0.9062124248496994\n",
      "\n",
      "\n",
      "\n",
      "304\n",
      "0.7352150537634409\n",
      "0.9054108216432866\n",
      "\n",
      "\n",
      "\n",
      "305\n",
      "0.7362903225806452\n",
      "0.9048096192384769\n",
      "\n",
      "\n",
      "\n",
      "306\n",
      "0.7370967741935484\n",
      "0.9038076152304609\n",
      "\n",
      "\n",
      "\n",
      "307\n",
      "0.7377688172043011\n",
      "0.9030060120240481\n",
      "\n",
      "\n",
      "\n",
      "308\n",
      "0.7384408602150537\n",
      "0.9020040080160321\n",
      "\n",
      "\n",
      "\n",
      "309\n",
      "0.7385752688172043\n",
      "0.9018036072144289\n",
      "\n",
      "\n",
      "\n",
      "310\n",
      "0.7393817204301075\n",
      "0.9004008016032065\n",
      "\n",
      "\n",
      "\n",
      "311\n",
      "0.7397849462365591\n",
      "0.8987975951903807\n",
      "\n",
      "\n",
      "\n",
      "312\n",
      "0.7401881720430108\n",
      "0.8983967935871744\n",
      "\n",
      "\n",
      "\n",
      "313\n",
      "0.7411290322580645\n",
      "0.8973947895791583\n",
      "\n",
      "\n",
      "\n",
      "314\n",
      "0.7418010752688172\n",
      "0.8969939879759519\n",
      "\n",
      "\n",
      "\n",
      "315\n",
      "0.7422043010752688\n",
      "0.8961923847695391\n",
      "\n",
      "\n",
      "\n",
      "316\n",
      "0.7428763440860215\n",
      "0.8957915831663327\n",
      "\n",
      "\n",
      "\n",
      "317\n",
      "0.7438172043010752\n",
      "0.8957915831663327\n",
      "\n",
      "\n",
      "\n",
      "318\n",
      "0.7442204301075269\n",
      "0.8953907815631262\n",
      "\n",
      "\n",
      "\n",
      "319\n",
      "0.744489247311828\n",
      "0.8947895791583166\n",
      "\n",
      "\n",
      "\n",
      "320\n",
      "0.7448924731182796\n",
      "0.894188376753507\n",
      "\n",
      "\n",
      "\n",
      "321\n",
      "0.7450268817204301\n",
      "0.8935871743486974\n",
      "\n",
      "\n",
      "\n",
      "322\n",
      "0.7454301075268818\n",
      "0.8935871743486974\n",
      "\n",
      "\n",
      "\n",
      "323\n",
      "0.7462365591397849\n",
      "0.893186372745491\n",
      "\n",
      "\n",
      "\n",
      "324\n",
      "0.7471774193548387\n",
      "0.892184368737475\n",
      "\n",
      "\n",
      "\n",
      "325\n",
      "0.7478494623655914\n",
      "0.8911823647294589\n",
      "\n",
      "\n",
      "\n",
      "326\n",
      "0.7483870967741936\n",
      "0.8901803607214429\n",
      "\n",
      "\n",
      "\n",
      "327\n",
      "0.7493279569892473\n",
      "0.8895791583166333\n",
      "\n",
      "\n",
      "\n",
      "328\n",
      "0.7498655913978495\n",
      "0.8885771543086173\n",
      "\n",
      "\n",
      "\n",
      "329\n",
      "0.7501344086021505\n",
      "0.8883767535070141\n",
      "\n",
      "\n",
      "\n",
      "330\n",
      "0.7509408602150538\n",
      "0.8877755511022044\n",
      "\n",
      "\n",
      "\n",
      "331\n",
      "0.7513440860215054\n",
      "0.8871743486973948\n",
      "\n",
      "\n",
      "\n",
      "332\n",
      "0.7516129032258064\n",
      "0.8869739478957915\n",
      "\n",
      "\n",
      "\n",
      "333\n",
      "0.7524193548387097\n",
      "0.8861723446893788\n",
      "\n",
      "\n",
      "\n",
      "334\n",
      "0.7526881720430108\n",
      "0.8859719438877756\n",
      "\n",
      "\n",
      "\n",
      "335\n",
      "0.7537634408602151\n",
      "0.8857715430861723\n",
      "\n",
      "\n",
      "\n",
      "336\n",
      "0.7543010752688172\n",
      "0.8851703406813627\n",
      "\n",
      "\n",
      "\n",
      "337\n",
      "0.7549731182795699\n",
      "0.8841683366733467\n",
      "\n",
      "\n",
      "\n",
      "338\n",
      "0.7553763440860215\n",
      "0.8835671342685371\n",
      "\n",
      "\n",
      "\n",
      "339\n",
      "0.7557795698924731\n",
      "0.8825651302605211\n",
      "\n",
      "\n",
      "\n",
      "340\n",
      "0.7559139784946236\n",
      "0.8817635270541082\n",
      "\n",
      "\n",
      "\n",
      "341\n",
      "0.7565860215053763\n",
      "0.880561122244489\n",
      "\n",
      "\n",
      "\n",
      "342\n",
      "0.7569892473118279\n",
      "0.8795591182364729\n",
      "\n",
      "\n",
      "\n",
      "343\n",
      "0.7571236559139785\n",
      "0.8789579158316633\n",
      "\n",
      "\n",
      "\n",
      "344\n",
      "0.7576612903225807\n",
      "0.8779559118236473\n",
      "\n",
      "\n",
      "\n",
      "345\n",
      "0.7586021505376344\n",
      "0.8771543086172344\n",
      "\n",
      "\n",
      "\n",
      "346\n",
      "0.7594086021505376\n",
      "0.875751503006012\n",
      "\n",
      "\n",
      "\n",
      "347\n",
      "0.7598118279569892\n",
      "0.8743486973947896\n",
      "\n",
      "\n",
      "\n",
      "348\n",
      "0.760483870967742\n",
      "0.8735470941883767\n",
      "\n",
      "\n",
      "\n",
      "349\n",
      "0.7615591397849463\n",
      "0.8723446893787575\n",
      "\n",
      "\n",
      "\n",
      "350\n",
      "0.7622311827956989\n",
      "0.8717434869739479\n",
      "\n",
      "\n",
      "\n",
      "351\n",
      "0.7633064516129032\n",
      "0.8705410821643287\n",
      "\n",
      "\n",
      "\n",
      "352\n",
      "0.764247311827957\n",
      "0.869939879759519\n",
      "\n",
      "\n",
      "\n",
      "353\n",
      "0.7646505376344086\n",
      "0.8695390781563126\n",
      "\n",
      "\n",
      "\n",
      "354\n",
      "0.7651881720430107\n",
      "0.8681362725450902\n",
      "\n",
      "\n",
      "\n",
      "355\n",
      "0.7658602150537634\n",
      "0.8675350701402805\n",
      "\n",
      "\n",
      "\n",
      "356\n",
      "0.7668010752688172\n",
      "0.8655310621242485\n",
      "\n",
      "\n",
      "\n",
      "357\n",
      "0.7676075268817204\n",
      "0.8649298597194389\n",
      "\n",
      "\n",
      "\n",
      "358\n",
      "0.7688172043010753\n",
      "0.8643286573146293\n",
      "\n",
      "\n",
      "\n",
      "359\n",
      "0.7696236559139785\n",
      "0.8635270541082164\n",
      "\n",
      "\n",
      "\n",
      "360\n",
      "0.7702956989247312\n",
      "0.8619238476953908\n",
      "\n",
      "\n",
      "\n",
      "361\n",
      "0.771236559139785\n",
      "0.8609218436873748\n",
      "\n",
      "\n",
      "\n",
      "362\n",
      "0.7728494623655914\n",
      "0.8597194388777555\n",
      "\n",
      "\n",
      "\n",
      "363\n",
      "0.7739247311827957\n",
      "0.8589178356713427\n",
      "\n",
      "\n",
      "\n",
      "364\n",
      "0.7743279569892473\n",
      "0.8579158316633266\n",
      "\n",
      "\n",
      "\n",
      "365\n",
      "0.7754032258064516\n",
      "0.8571142284569139\n",
      "\n",
      "\n",
      "\n",
      "366\n",
      "0.7756720430107527\n",
      "0.8561122244488978\n",
      "\n",
      "\n",
      "\n",
      "367\n",
      "0.7760752688172043\n",
      "0.8549098196392786\n",
      "\n",
      "\n",
      "\n",
      "368\n",
      "0.7768817204301075\n",
      "0.8543086172344689\n",
      "\n",
      "\n",
      "\n",
      "369\n",
      "0.7779569892473118\n",
      "0.8531062124248497\n",
      "\n",
      "\n",
      "\n",
      "370\n",
      "0.7784946236559139\n",
      "0.8521042084168337\n",
      "\n",
      "\n",
      "\n",
      "371\n",
      "0.7788978494623656\n",
      "0.850501002004008\n",
      "\n",
      "\n",
      "\n",
      "372\n",
      "0.7791666666666667\n",
      "0.8488977955911824\n",
      "\n",
      "\n",
      "\n",
      "373\n",
      "0.7798387096774193\n",
      "0.8482965931863727\n",
      "\n",
      "\n",
      "\n",
      "374\n",
      "0.7809139784946236\n",
      "0.8476953907815631\n",
      "\n",
      "\n",
      "\n",
      "375\n",
      "0.7817204301075269\n",
      "0.8472945891783568\n",
      "\n",
      "\n",
      "\n",
      "376\n",
      "0.781989247311828\n",
      "0.8454909819639278\n",
      "\n",
      "\n",
      "\n",
      "377\n",
      "0.7825268817204301\n",
      "0.8450901803607215\n",
      "\n",
      "\n",
      "\n",
      "378\n",
      "0.7836021505376344\n",
      "0.8432865731462926\n",
      "\n",
      "\n",
      "\n",
      "379\n",
      "0.7845430107526882\n",
      "0.8406813627254509\n",
      "\n",
      "\n",
      "\n",
      "380\n",
      "0.7850806451612903\n",
      "0.839879759519038\n",
      "\n",
      "\n",
      "\n",
      "381\n",
      "0.7860215053763441\n",
      "0.8386773547094188\n",
      "\n",
      "\n",
      "\n",
      "382\n",
      "0.7866935483870968\n",
      "0.837875751503006\n",
      "\n",
      "\n",
      "\n",
      "383\n",
      "0.7876344086021505\n",
      "0.8362725450901803\n",
      "\n",
      "\n",
      "\n",
      "384\n",
      "0.7884408602150538\n",
      "0.8356713426853707\n",
      "\n",
      "\n",
      "\n",
      "385\n",
      "0.7893817204301076\n",
      "0.8346693386773547\n",
      "\n",
      "\n",
      "\n",
      "386\n",
      "0.7896505376344086\n",
      "0.8326653306613226\n",
      "\n",
      "\n",
      "\n",
      "387\n",
      "0.7903225806451613\n",
      "0.8322645290581162\n",
      "\n",
      "\n",
      "\n",
      "388\n",
      "0.7908602150537635\n",
      "0.8302605210420841\n",
      "\n",
      "\n",
      "\n",
      "389\n",
      "0.7913978494623656\n",
      "0.8278557114228456\n",
      "\n",
      "\n",
      "\n",
      "390\n",
      "0.7918010752688172\n",
      "0.8266533066132264\n",
      "\n",
      "\n",
      "\n",
      "391\n",
      "0.7920698924731183\n",
      "0.8260521042084168\n",
      "\n",
      "\n",
      "\n",
      "392\n",
      "0.7926075268817204\n",
      "0.8244488977955912\n",
      "\n",
      "\n",
      "\n",
      "393\n",
      "0.7932795698924732\n",
      "0.8224448897795591\n",
      "\n",
      "\n",
      "\n",
      "394\n",
      "0.7944892473118279\n",
      "0.8198396793587175\n",
      "\n",
      "\n",
      "\n",
      "395\n",
      "0.7952956989247312\n",
      "0.818436873747495\n",
      "\n",
      "\n",
      "\n",
      "396\n",
      "0.7963709677419355\n",
      "0.8164328657314629\n",
      "\n",
      "\n",
      "\n",
      "397\n",
      "0.7969086021505376\n",
      "0.8154308617234469\n",
      "\n",
      "\n",
      "\n",
      "398\n",
      "0.7977150537634409\n",
      "0.8140280561122244\n",
      "\n",
      "\n",
      "\n",
      "399\n",
      "0.798252688172043\n",
      "0.8130260521042084\n",
      "\n",
      "\n",
      "\n",
      "400\n",
      "0.7997311827956989\n",
      "0.8108216432865731\n",
      "\n",
      "\n",
      "\n",
      "401\n",
      "0.8\n",
      "0.8094188376753507\n",
      "\n",
      "\n",
      "\n",
      "402\n",
      "0.8006720430107527\n",
      "0.8080160320641283\n",
      "\n",
      "\n",
      "\n",
      "403\n",
      "0.8013440860215054\n",
      "0.8062124248496993\n",
      "\n",
      "\n",
      "\n",
      "404\n",
      "0.802016129032258\n",
      "0.8046092184368737\n",
      "\n",
      "\n",
      "\n",
      "405\n",
      "0.8025537634408603\n",
      "0.8008016032064128\n",
      "\n",
      "\n",
      "\n",
      "406\n",
      "0.803494623655914\n",
      "0.7975951903807615\n",
      "\n",
      "\n",
      "\n",
      "407\n",
      "0.803763440860215\n",
      "0.7959919839679359\n",
      "\n",
      "\n",
      "\n",
      "408\n",
      "0.8047043010752688\n",
      "0.7933867735470942\n",
      "\n",
      "\n",
      "\n",
      "409\n",
      "0.8051075268817204\n",
      "0.7899799599198397\n",
      "\n",
      "\n",
      "\n",
      "410\n",
      "0.8055107526881721\n",
      "0.786372745490982\n",
      "\n",
      "\n",
      "\n",
      "411\n",
      "0.8057795698924731\n",
      "0.7831663326653306\n",
      "\n",
      "\n",
      "\n",
      "412\n",
      "0.8064516129032258\n",
      "0.7809619238476954\n",
      "\n",
      "\n",
      "\n",
      "413\n",
      "0.8077956989247311\n",
      "0.7789579158316633\n",
      "\n",
      "\n",
      "\n",
      "414\n",
      "0.8080645161290323\n",
      "0.775751503006012\n",
      "\n",
      "\n",
      "\n",
      "415\n",
      "0.8083333333333333\n",
      "0.7729458917835671\n",
      "\n",
      "\n",
      "\n",
      "416\n",
      "0.8088709677419355\n",
      "0.7695390781563126\n",
      "\n",
      "\n",
      "\n",
      "417\n",
      "0.8096774193548387\n",
      "0.7667334669338677\n",
      "\n",
      "\n",
      "\n",
      "418\n",
      "0.8103494623655914\n",
      "0.7643286573146293\n",
      "\n",
      "\n",
      "\n",
      "419\n",
      "0.8104838709677419\n",
      "0.7619238476953908\n",
      "\n",
      "\n",
      "\n",
      "420\n",
      "0.8111559139784946\n",
      "0.7597194388777555\n",
      "\n",
      "\n",
      "\n",
      "421\n",
      "0.8112903225806452\n",
      "0.7575150300601202\n",
      "\n",
      "\n",
      "\n",
      "422\n",
      "0.812768817204301\n",
      "0.7545090180360722\n",
      "\n",
      "\n",
      "\n",
      "423\n",
      "0.8134408602150538\n",
      "0.7519038076152305\n",
      "\n",
      "\n",
      "\n",
      "424\n",
      "0.8138440860215054\n",
      "0.7488977955911824\n",
      "\n",
      "\n",
      "\n",
      "425\n",
      "0.8147849462365592\n",
      "0.7454909819639278\n",
      "\n",
      "\n",
      "\n",
      "426\n",
      "0.8151881720430108\n",
      "0.7422845691382766\n",
      "\n",
      "\n",
      "\n",
      "427\n",
      "0.815994623655914\n",
      "0.7384769539078156\n",
      "\n",
      "\n",
      "\n",
      "428\n",
      "0.8168010752688172\n",
      "0.7346693386773547\n",
      "\n",
      "\n",
      "\n",
      "429\n",
      "0.8173387096774194\n",
      "0.7316633266533066\n",
      "\n",
      "\n",
      "\n",
      "430\n",
      "0.817741935483871\n",
      "0.7294589178356713\n",
      "\n",
      "\n",
      "\n",
      "431\n",
      "0.8182795698924731\n",
      "0.7266533066132265\n",
      "\n",
      "\n",
      "\n",
      "432\n",
      "0.8185483870967742\n",
      "0.7240480961923847\n",
      "\n",
      "\n",
      "\n",
      "433\n",
      "0.8188172043010753\n",
      "0.7192384769539079\n",
      "\n",
      "\n",
      "\n",
      "434\n",
      "0.8190860215053763\n",
      "0.7138276553106212\n",
      "\n",
      "\n",
      "\n",
      "435\n",
      "0.8193548387096774\n",
      "0.7090180360721443\n",
      "\n",
      "\n",
      "\n",
      "436\n",
      "0.8201612903225807\n",
      "0.7062124248496994\n",
      "\n",
      "\n",
      "\n",
      "437\n",
      "0.8205645161290323\n",
      "0.7014028056112225\n",
      "\n",
      "\n",
      "\n",
      "438\n",
      "0.8205645161290323\n",
      "0.6969939879759519\n",
      "\n",
      "\n",
      "\n",
      "439\n",
      "0.8211021505376344\n",
      "0.6929859719438878\n",
      "\n",
      "\n",
      "\n",
      "440\n",
      "0.8219086021505376\n",
      "0.6877755511022045\n",
      "\n",
      "\n",
      "\n",
      "441\n",
      "0.8223118279569892\n",
      "0.682565130260521\n",
      "\n",
      "\n",
      "\n",
      "442\n",
      "0.8225806451612904\n",
      "0.6761523046092185\n",
      "\n",
      "\n",
      "\n",
      "443\n",
      "0.822983870967742\n",
      "0.6707414829659318\n",
      "\n",
      "\n",
      "\n",
      "444\n",
      "0.8237903225806451\n",
      "0.6653306613226453\n",
      "\n",
      "\n",
      "\n",
      "445\n",
      "0.8241935483870968\n",
      "0.6613226452905812\n",
      "\n",
      "\n",
      "\n",
      "446\n",
      "0.8245967741935484\n",
      "0.6567134268537074\n",
      "\n",
      "\n",
      "\n",
      "447\n",
      "0.8248655913978494\n",
      "0.649498997995992\n",
      "\n",
      "\n",
      "\n",
      "448\n",
      "0.8252688172043011\n",
      "0.6448897795591182\n",
      "\n",
      "\n",
      "\n",
      "449\n",
      "0.8254032258064516\n",
      "0.6396793587174349\n",
      "\n",
      "\n",
      "\n",
      "450\n",
      "0.8256720430107527\n",
      "0.6324649298597195\n",
      "\n",
      "\n",
      "\n",
      "451\n",
      "0.826478494623656\n",
      "0.6268537074148297\n",
      "\n",
      "\n",
      "\n",
      "452\n",
      "0.8268817204301075\n",
      "0.621442885771543\n",
      "\n",
      "\n",
      "\n",
      "453\n",
      "0.8270161290322581\n",
      "0.6150300601202405\n",
      "\n",
      "\n",
      "\n",
      "454\n",
      "0.8271505376344086\n",
      "0.6074148296593186\n",
      "\n",
      "\n",
      "\n",
      "455\n",
      "0.8272849462365591\n",
      "0.5965931863727455\n",
      "\n",
      "\n",
      "\n",
      "456\n",
      "0.8276881720430107\n",
      "0.5899799599198396\n",
      "\n",
      "\n",
      "\n",
      "457\n",
      "0.8278225806451613\n",
      "0.5811623246492986\n",
      "\n",
      "\n",
      "\n",
      "458\n",
      "0.8282258064516129\n",
      "0.57374749498998\n",
      "\n",
      "\n",
      "\n",
      "459\n",
      "0.8283602150537634\n",
      "0.5651302605210421\n",
      "\n",
      "\n",
      "\n",
      "460\n",
      "0.828763440860215\n",
      "0.5549098196392785\n",
      "\n",
      "\n",
      "\n",
      "461\n",
      "0.8291666666666667\n",
      "0.5466933867735471\n",
      "\n",
      "\n",
      "\n",
      "462\n",
      "0.8293010752688172\n",
      "0.5384769539078156\n",
      "\n",
      "\n",
      "\n",
      "463\n",
      "0.8294354838709678\n",
      "0.5292585170340681\n",
      "\n",
      "\n",
      "\n",
      "464\n",
      "0.8294354838709678\n",
      "0.5186372745490982\n",
      "\n",
      "\n",
      "\n",
      "465\n",
      "0.8297043010752688\n",
      "0.5082164328657315\n",
      "\n",
      "\n",
      "\n",
      "466\n",
      "0.8297043010752688\n",
      "0.49599198396793587\n",
      "\n",
      "\n",
      "\n",
      "467\n",
      "0.8297043010752688\n",
      "0.4875751503006012\n",
      "\n",
      "\n",
      "\n",
      "468\n",
      "0.8299731182795699\n",
      "0.4753507014028056\n",
      "\n",
      "\n",
      "\n",
      "469\n",
      "0.8305107526881721\n",
      "0.4627254509018036\n",
      "\n",
      "\n",
      "\n",
      "470\n",
      "0.8309139784946237\n",
      "0.45170340681362725\n",
      "\n",
      "\n",
      "\n",
      "471\n",
      "0.8310483870967742\n",
      "0.43587174348697394\n",
      "\n",
      "\n",
      "\n",
      "472\n",
      "0.8311827956989247\n",
      "0.42104208416833666\n",
      "\n",
      "\n",
      "\n",
      "473\n",
      "0.8311827956989247\n",
      "0.40801603206412823\n",
      "\n",
      "\n",
      "\n",
      "474\n",
      "0.8313172043010753\n",
      "0.39418837675350704\n",
      "\n",
      "\n",
      "\n",
      "475\n",
      "0.8314516129032258\n",
      "0.3785571142284569\n",
      "\n",
      "\n",
      "\n",
      "476\n",
      "0.8318548387096775\n",
      "0.36412825651302605\n",
      "\n",
      "\n",
      "\n",
      "477\n",
      "0.8318548387096775\n",
      "0.34789579158316636\n",
      "\n",
      "\n",
      "\n",
      "478\n",
      "0.8318548387096775\n",
      "0.33326653306613224\n",
      "\n",
      "\n",
      "\n",
      "479\n",
      "0.8318548387096775\n",
      "0.3128256513026052\n",
      "\n",
      "\n",
      "\n",
      "480\n",
      "0.8318548387096775\n",
      "0.2925851703406814\n",
      "\n",
      "\n",
      "\n",
      "481\n",
      "0.8318548387096775\n",
      "0.27014028056112227\n",
      "\n",
      "\n",
      "\n",
      "482\n",
      "0.831989247311828\n",
      "0.24829659318637273\n",
      "\n",
      "\n",
      "\n",
      "483\n",
      "0.831989247311828\n",
      "0.22545090180360722\n",
      "\n",
      "\n",
      "\n",
      "484\n",
      "0.831989247311828\n",
      "0.2036072144288577\n",
      "\n",
      "\n",
      "\n",
      "485\n",
      "0.831989247311828\n",
      "0.18597194388777555\n",
      "\n",
      "\n",
      "\n",
      "486\n",
      "0.831989247311828\n",
      "0.16492985971943888\n",
      "\n",
      "\n",
      "\n",
      "487\n",
      "0.8321236559139785\n",
      "0.143687374749499\n",
      "\n",
      "\n",
      "\n",
      "488\n",
      "0.8321236559139785\n",
      "0.12324649298597194\n",
      "\n",
      "\n",
      "\n",
      "489\n",
      "0.8321236559139785\n",
      "0.10100200400801604\n",
      "\n",
      "\n",
      "\n",
      "490\n",
      "0.8321236559139785\n",
      "0.08016032064128256\n",
      "\n",
      "\n",
      "\n",
      "491\n",
      "0.8321236559139785\n",
      "0.06232464929859719\n",
      "\n",
      "\n",
      "\n",
      "492\n",
      "0.8321236559139785\n",
      "0.045691382765531065\n",
      "\n",
      "\n",
      "\n",
      "493\n",
      "0.8321236559139785\n",
      "0.031663326653306616\n",
      "\n",
      "\n",
      "\n",
      "494\n",
      "0.832258064516129\n",
      "0.02004008016032064\n",
      "\n",
      "\n",
      "\n",
      "495\n",
      "0.832258064516129\n",
      "0.01282565130260521\n",
      "\n",
      "\n",
      "\n",
      "496\n",
      "0.832258064516129\n",
      "0.004208416833667334\n",
      "\n",
      "\n",
      "\n",
      "497\n",
      "0.832258064516129\n",
      "0.001002004008016032\n",
      "\n",
      "\n",
      "\n",
      "498\n",
      "0.832258064516129\n",
      "0.0002004008016032064\n",
      "\n",
      "\n",
      "\n",
      "499\n",
      "0.832258064516129\n",
      "0.0002004008016032064\n",
      "\n",
      "\n",
      "\n"
     ]
    }
   ],
   "source": [
    "for index in range(0,len(correct_genus_rate),1):\n",
    "    print(index)\n",
    "    print(correct_genus_rate[index])\n",
    "    print(correct_species_rate[index])\n",
    "    print('\\n\\n')"
   ]
  },
  {
   "cell_type": "code",
   "execution_count": null,
   "metadata": {},
   "outputs": [],
   "source": []
  },
  {
   "cell_type": "code",
   "execution_count": 252,
   "metadata": {},
   "outputs": [
    {
     "name": "stdout",
     "output_type": "stream",
     "text": [
      "Best harmonic mean 0.8145124498984332\n",
      "Best threshold 0.836\n"
     ]
    },
    {
     "data": {
      "image/png": "[encoded data removed]",
      "text/plain": [
       "<Figure size 640x480 with 1 Axes>"
      ]
     },
     "metadata": {},
     "output_type": "display_data"
    }
   ],
   "source": [
    "numerator = [2*a*b for a,b in zip(correct_genus_rate,correct_species_rate)]\n",
    "denominator = [a+b for a,b in zip(correct_genus_rate,correct_species_rate)]\n",
    "harmonic_mean = [a/b for a,b in zip(numerator,denominator)]\n",
    "plt.plot(thresholds,harmonic_mean)\n",
    "print(\"Best harmonic mean\",max(harmonic_mean))\n",
    "print(\"Best threshold\",thresholds[harmonic_mean.index(max(harmonic_mean))])\n",
    "plt.axvline(x=thresholds[harmonic_mean.index(max(harmonic_mean))],c='red',label=\"optimal threshold\")\n",
    "plt.axvline(x=thresholds[297],c='purple',label=\"threshold found in validation\")\n",
    "plt.title(\"Harmonic mean of species and genus correct rate\")\n",
    "plt.xlabel(\"threshold\")\n",
    "plt.ylabel(\"Harmonic mean\")\n",
    "plt.legend()\n",
    "#plt.savefig(\"testoldfeatures.png\")"
   ]
  },
  {
   "cell_type": "code",
   "execution_count": 253,
   "metadata": {},
   "outputs": [
    {
     "data": {
      "image/png": "[encoded data removed]",
      "text/plain": [
       "<Figure size 640x480 with 1 Axes>"
      ]
     },
     "metadata": {},
     "output_type": "display_data"
    }
   ],
   "source": [
    "plt.plot(thresholds,correct_genus_rate[:],label=\"genus correct rate\")\n",
    "plt.plot(thresholds,correct_species_rate[:],label=\"species correct rate\")\n",
    "plt.axvline(x=thresholds[harmonic_mean.index(max(harmonic_mean))],c='red',label=\"optimal threshold\")\n",
    "plt.axvline(x=thresholds[297],c='purple',label=\"threshold found in validation\")\n",
    "plt.title(\"Species and genus correct rates\")\n",
    "plt.xlabel(\"threshold\")\n",
    "plt.ylabel(\"Correct rate\")\n",
    "plt.legend()\n",
    "#plt.savefig(\"testoldfeaturesCR.png\")"
   ]
  },
  {
   "cell_type": "code",
   "execution_count": 210,
   "metadata": {},
   "outputs": [],
   "source": [
    "\n",
    "index_of_threshold = 297#thresholds.index(thresholds[harmonic_mean.index(max(harmonic_mean))])"
   ]
  },
  {
   "cell_type": "code",
   "execution_count": 254,
   "metadata": {},
   "outputs": [
    {
     "data": {
      "text/plain": [
       "0.797"
      ]
     },
     "execution_count": 254,
     "metadata": {},
     "output_type": "execute_result"
    }
   ],
   "source": [
    "possible_thresholds[index_of_threshold]"
   ]
  },
  {
   "cell_type": "code",
   "execution_count": 255,
   "metadata": {},
   "outputs": [
    {
     "data": {
      "text/plain": [
       "297"
      ]
     },
     "execution_count": 255,
     "metadata": {},
     "output_type": "execute_result"
    }
   ],
   "source": [
    "index_of_threshold"
   ]
  },
  {
   "cell_type": "code",
   "execution_count": 256,
   "metadata": {},
   "outputs": [
    {
     "data": {
      "text/plain": [
       "0.7313172043010753"
      ]
     },
     "execution_count": 256,
     "metadata": {},
     "output_type": "execute_result"
    }
   ],
   "source": [
    "correct_genus_rate[index_of_threshold]"
   ]
  },
  {
   "cell_type": "code",
   "execution_count": 257,
   "metadata": {},
   "outputs": [
    {
     "data": {
      "text/plain": [
       "0.9094188376753507"
      ]
     },
     "execution_count": 257,
     "metadata": {},
     "output_type": "execute_result"
    }
   ],
   "source": [
    "correct_species_rate[index_of_threshold]"
   ]
  },
  {
   "cell_type": "code",
   "execution_count": 258,
   "metadata": {},
   "outputs": [
    {
     "data": {
      "text/plain": [
       "0.8107015691644405"
      ]
     },
     "execution_count": 258,
     "metadata": {},
     "output_type": "execute_result"
    }
   ],
   "source": [
    "harmonic_mean[index_of_threshold]"
   ]
  },
  {
   "cell_type": "code",
   "execution_count": 259,
   "metadata": {},
   "outputs": [],
   "source": [
    "#np.save(\"correct_rates/oldTestCGR.npy\",correct_genus_rate)\n",
    "#np.save(\"correct_rates/oldTestCSR.npy\",correct_species_rate)"
   ]
  },
  {
   "cell_type": "code",
   "execution_count": 268,
   "metadata": {},
   "outputs": [
    {
     "data": {
      "image/png": "[encoded data removed]",
      "text/plain": [
       "<Figure size 640x480 with 1 Axes>"
      ]
     },
     "metadata": {},
     "output_type": "display_data"
    }
   ],
   "source": [
    "plt.plot(1-np.load(\"correct_rates/oldTestCGR.npy\"),np.load(\"correct_rates/oldTestCSR.npy\"),label='original features')\n",
    "plt.plot(1-np.load(\"correct_rates/ourTestCGR.npy\"),np.load(\"correct_rates/ourTestCSR.npy\"),label=\"new features\")\n",
    "plt.title(\"Comparison of test performance original vs new features\")\n",
    "plt.xlabel(\"1-Correct Genus Rate\")\n",
    "plt.ylabel(\"Correct Species Rate\")\n",
    "\n",
    "plt.legend()\n",
    "plt.savefig(\"test_comparison.png\")"
   ]
  },
  {
   "cell_type": "code",
   "execution_count": null,
   "metadata": {},
   "outputs": [],
   "source": []
  },
  {
   "cell_type": "code",
   "execution_count": null,
   "metadata": {},
   "outputs": [],
   "source": []
  },
  {
   "cell_type": "code",
   "execution_count": 208,
   "metadata": {},
   "outputs": [
    {
     "data": {
      "image/png": "[encoded data removed]",
      "text/plain": [
       "<Figure size 640x480 with 1 Axes>"
      ]
     },
     "metadata": {},
     "output_type": "display_data"
    }
   ],
   "source": [
    "plt.plot(thresholds[-100:], correct_genus_rate[-100:], \"-b\", label=\"Genus correct rate\")\n",
    "plt.plot(thresholds[-100:], correct_species_rate[-100:], \"-r\", label=\"Species correct rate\")\n",
    "\n",
    "plt.xlabel(\"Threshold\")\n",
    "plt.ylabel(\"True Positive Rate\")\n",
    "plt.legend()\n",
    "plt.savefig(\"GenusSpeciesCorrectRate.png\")"
   ]
  },
  {
   "cell_type": "code",
   "execution_count": null,
   "metadata": {},
   "outputs": [],
   "source": []
  },
  {
   "cell_type": "markdown",
   "metadata": {},
   "source": [
    "# Random Forest"
   ]
  },
  {
   "cell_type": "code",
   "execution_count": 20,
   "metadata": {},
   "outputs": [
    {
     "name": "stdout",
     "output_type": "stream",
     "text": [
      "train\n",
      "val\n",
      "proba\n"
     ]
    }
   ],
   "source": [
    "clf = RandomForestClassifier(min_samples_leaf=2,n_jobs=-1)\n",
    "clf = clf.fit(complete_train_features_scaled, image_train_labels)\n",
    "\n",
    "train_predicted_labels = clf.predict(complete_train_features_scaled)\n",
    "print('train')\n",
    "val_predicted_labels= clf.predict(complete_val_features_scaled)\n",
    "print('val')\n",
    "temp_val_predicted_probs = clf.predict_proba(complete_val_features_scaled)\n",
    "print('proba')\n",
    "val_predicted_probs = np.zeros((len(temp_val_predicted_probs),n_classes))\n",
    "for i, cls in enumerate(np.arange(n_classes)):\n",
    "    if cls in clf.classes_:\n",
    "        val_predicted_probs[:, cls] = temp_val_predicted_probs[:, list(clf.classes_).index(cls)]"
   ]
  },
  {
   "cell_type": "code",
   "execution_count": 21,
   "metadata": {},
   "outputs": [
    {
     "data": {
      "text/plain": [
       "array([[0.        , 0.89183333, 0.        , ..., 0.        , 0.        ,\n",
       "        0.        ],\n",
       "       [0.        , 0.90766667, 0.        , ..., 0.        , 0.        ,\n",
       "        0.        ],\n",
       "       [0.        , 0.        , 0.7425    , ..., 0.        , 0.01      ,\n",
       "        0.        ],\n",
       "       ...,\n",
       "       [0.        , 0.        , 0.        , ..., 0.        , 0.        ,\n",
       "        1.        ],\n",
       "       [0.        , 0.        , 0.        , ..., 0.        , 0.        ,\n",
       "        0.8675    ],\n",
       "       [0.        , 0.        , 0.        , ..., 0.        , 0.        ,\n",
       "        0.9625    ]])"
      ]
     },
     "execution_count": 21,
     "metadata": {},
     "output_type": "execute_result"
    }
   ],
   "source": [
    "temp_val_predicted_probs"
   ]
  },
  {
   "cell_type": "code",
   "execution_count": 22,
   "metadata": {},
   "outputs": [
    {
     "data": {
      "text/plain": [
       "array([0.00012523, 0.00010174, 0.00011856, ..., 0.        , 0.        ,\n",
       "       0.        ])"
      ]
     },
     "execution_count": 22,
     "metadata": {},
     "output_type": "execute_result"
    }
   ],
   "source": [
    "feature_importances = clf.feature_importances_\n",
    "feature_importances"
   ]
  },
  {
   "cell_type": "code",
   "execution_count": 23,
   "metadata": {},
   "outputs": [
    {
     "data": {
      "image/png": "[encoded data removed]",
      "text/plain": [
       "<Figure size 1000x600 with 1 Axes>"
      ]
     },
     "metadata": {},
     "output_type": "display_data"
    }
   ],
   "source": [
    "feature_names = [f'Feature {i+1}' for i in range(complete_train_features.shape[1])]\n",
    "\n",
    "plt.figure(figsize=(10, 6))\n",
    "plt.bar(range(len(feature_importances)), feature_importances, align='center')\n",
    "plt.ylabel('Features Importances')\n",
    "plt.show()"
   ]
  },
  {
   "cell_type": "markdown",
   "metadata": {},
   "source": [
    "# Accuracies"
   ]
  },
  {
   "cell_type": "code",
   "execution_count": 24,
   "metadata": {},
   "outputs": [
    {
     "name": "stdout",
     "output_type": "stream",
     "text": [
      "Training species accuracy:0.9999233070020707\n",
      "Validation species accuracy:0.45751258087706687\n"
     ]
    }
   ],
   "source": [
    "print(f\"Training species accuracy:{np.count_nonzero(train_predicted_labels==image_train_labels.numpy())/len(image_train_labels)}\")\n",
    "\n",
    "print(f\"Validation species accuracy:{np.count_nonzero(val_predicted_labels==image_val_labels.numpy())/len(image_val_labels)}\")"
   ]
  },
  {
   "cell_type": "code",
   "execution_count": 25,
   "metadata": {},
   "outputs": [
    {
     "ename": "IndexError",
     "evalue": "only integers, slices (`:`), ellipsis (`...`), numpy.newaxis (`None`) and integer or boolean arrays are valid indices",
     "output_type": "error",
     "traceback": [
      "\u001b[0;31m---------------------------------------------------------------------------\u001b[0m",
      "\u001b[0;31mIndexError\u001b[0m                                Traceback (most recent call last)",
      "Cell \u001b[0;32mIn[25], line 9\u001b[0m\n\u001b[1;32m      5\u001b[0m label_best_specie \u001b[38;5;241m=\u001b[39m val_predicted_labels[i]\n\u001b[1;32m      6\u001b[0m \u001b[38;5;66;03m#print(val_predicted_labels[i])\u001b[39;00m\n\u001b[1;32m      7\u001b[0m \u001b[38;5;66;03m#print(val_predicted_probs[i].argmax())\u001b[39;00m\n\u001b[1;32m      8\u001b[0m \u001b[38;5;66;03m#assert(val_predicted_labels[i]==val_predicted_probs[i].argmax())\u001b[39;00m\n\u001b[0;32m----> 9\u001b[0m genus_of_best_species \u001b[38;5;241m=\u001b[39m species2genus[label_best_specie\u001b[38;5;241m.\u001b[39mitem()]\n\u001b[1;32m     10\u001b[0m \u001b[38;5;66;03m#species_same_genus = [k for k,v in species2genus.items() if v == genus_of_best_species]\u001b[39;00m\n\u001b[1;32m     11\u001b[0m \u001b[38;5;66;03m#reduced_species = val_predicted_probs[i][species_same_genus]\u001b[39;00m\n\u001b[1;32m     12\u001b[0m \u001b[38;5;66;03m#normalized_reduced_species = reduced_species/(reduced_species.sum())\u001b[39;00m\n\u001b[1;32m     14\u001b[0m real_genus \u001b[38;5;241m=\u001b[39m species2genus[image_val_labels[i]\u001b[38;5;241m.\u001b[39mitem()]\n",
      "\u001b[0;31mIndexError\u001b[0m: only integers, slices (`:`), ellipsis (`...`), numpy.newaxis (`None`) and integer or boolean arrays are valid indices"
     ]
    }
   ],
   "source": [
    "import math\n",
    "n_correct_genus = 0\n",
    "for i in range(len(image_val_labels)):\n",
    "    #label_best_specie = val_predicted_probs[i].argmax()\n",
    "    label_best_specie = val_predicted_labels[i]\n",
    "    #print(val_predicted_labels[i])\n",
    "    #print(val_predicted_probs[i].argmax())\n",
    "    #assert(val_predicted_labels[i]==val_predicted_probs[i].argmax())\n",
    "    genus_of_best_species = species2genus[label_best_specie.item()]\n",
    "    #species_same_genus = [k for k,v in species2genus.items() if v == genus_of_best_species]\n",
    "    #reduced_species = val_predicted_probs[i][species_same_genus]\n",
    "    #normalized_reduced_species = reduced_species/(reduced_species.sum())\n",
    "    \n",
    "    real_genus = species2genus[image_val_labels[i].item()]\n",
    "    predicted_genus = genus_of_best_species\n",
    "    if real_genus == predicted_genus:\n",
    "        n_correct_genus+=1\n",
    "print(f\"Validation genus accuracy: {n_correct_genus/len(image_val_labels)}\")"
   ]
  },
  {
   "cell_type": "code",
   "execution_count": null,
   "metadata": {},
   "outputs": [],
   "source": []
  },
  {
   "cell_type": "code",
   "execution_count": null,
   "metadata": {},
   "outputs": [],
   "source": []
  },
  {
   "cell_type": "code",
   "execution_count": 26,
   "metadata": {},
   "outputs": [
    {
     "data": {
      "text/plain": [
       "tensor(366)"
      ]
     },
     "execution_count": 26,
     "metadata": {},
     "output_type": "execute_result"
    }
   ],
   "source": [
    "val_predicted_labels_genus[i]"
   ]
  },
  {
   "cell_type": "code",
   "execution_count": 27,
   "metadata": {
    "scrolled": true
   },
   "outputs": [],
   "source": []
  },
  {
   "cell_type": "code",
   "execution_count": null,
   "metadata": {},
   "outputs": [],
   "source": []
  },
  {
   "cell_type": "code",
   "execution_count": 28,
   "metadata": {
    "scrolled": true
   },
   "outputs": [
    {
     "name": "stdout",
     "output_type": "stream",
     "text": [
      "0\n",
      "0.0\n",
      "0.9904666332162569\n",
      "\n",
      "\n",
      "\n",
      "1\n",
      "0.004448210124973522\n",
      "0.9904666332162569\n",
      "\n",
      "\n",
      "\n",
      "2\n",
      "0.009425969074348655\n",
      "0.9904666332162569\n",
      "\n",
      "\n",
      "\n",
      "3\n",
      "0.013238720610040246\n",
      "0.9904666332162569\n",
      "\n",
      "\n",
      "\n",
      "4\n",
      "0.01779284049989409\n",
      "0.9904666332162569\n",
      "\n",
      "\n",
      "\n",
      "5\n",
      "0.02160559203558568\n",
      "0.9904666332162569\n",
      "\n",
      "\n",
      "\n",
      "6\n",
      "0.025630163101037915\n",
      "0.9904666332162569\n",
      "\n",
      "\n",
      "\n",
      "7\n",
      "0.030502012285532724\n",
      "0.9904666332162569\n",
      "\n",
      "\n",
      "\n",
      "8\n",
      "0.03526795170514722\n",
      "0.9904666332162569\n",
      "\n",
      "\n",
      "\n",
      "9\n",
      "0.039504342300360096\n",
      "0.9902157551430005\n",
      "\n",
      "\n",
      "\n",
      "10\n",
      "0.04363482313069265\n",
      "0.9902157551430005\n",
      "\n",
      "\n",
      "\n",
      "11\n",
      "0.047553484431264566\n",
      "0.9902157551430005\n",
      "\n",
      "\n",
      "\n",
      "12\n",
      "0.05242533361575937\n",
      "0.9902157551430005\n",
      "\n",
      "\n",
      "\n",
      "13\n",
      "0.05708536327049354\n",
      "0.9902157551430005\n",
      "\n",
      "\n",
      "\n",
      "14\n",
      "0.06163948316034738\n",
      "0.9902157551430005\n",
      "\n",
      "\n",
      "\n",
      "15\n",
      "0.06619360305020122\n",
      "0.9902157551430005\n",
      "\n",
      "\n",
      "\n",
      "16\n",
      "0.0699004448210125\n",
      "0.9902157551430005\n",
      "\n",
      "\n",
      "\n",
      "17\n",
      "0.07487820377038763\n",
      "0.9902157551430005\n",
      "\n",
      "\n",
      "\n",
      "18\n",
      "0.08027960177928405\n",
      "0.9902157551430005\n",
      "\n",
      "\n",
      "\n",
      "19\n",
      "0.08652827790722305\n",
      "0.9902157551430005\n",
      "\n",
      "\n",
      "\n",
      "20\n",
      "0.09087057826731625\n",
      "0.9902157551430005\n",
      "\n",
      "\n",
      "\n",
      "21\n",
      "0.09563651768693074\n",
      "0.9902157551430005\n",
      "\n",
      "\n",
      "\n",
      "22\n",
      "0.10040245710654522\n",
      "0.9902157551430005\n",
      "\n",
      "\n",
      "\n",
      "23\n",
      "0.10601567464520228\n",
      "0.9902157551430005\n",
      "\n",
      "\n",
      "\n",
      "24\n",
      "0.11131116288921838\n",
      "0.9902157551430005\n",
      "\n",
      "\n",
      "\n",
      "25\n",
      "0.11575937301419191\n",
      "0.9902157551430005\n",
      "\n",
      "\n",
      "\n",
      "26\n",
      "0.12063122219868672\n",
      "0.9902157551430005\n",
      "\n",
      "\n",
      "\n",
      "27\n",
      "0.12592671044270282\n",
      "0.9902157551430005\n",
      "\n",
      "\n",
      "\n",
      "28\n",
      "0.13048083033255667\n",
      "0.9902157551430005\n",
      "\n",
      "\n",
      "\n",
      "29\n",
      "0.13418767210336793\n",
      "0.9902157551430005\n",
      "\n",
      "\n",
      "\n",
      "30\n",
      "0.13905952128786275\n",
      "0.9902157551430005\n",
      "\n",
      "\n",
      "\n",
      "31\n",
      "0.1442490997669985\n",
      "0.9902157551430005\n",
      "\n",
      "\n",
      "\n",
      "32\n",
      "0.1494386782461343\n",
      "0.9902157551430005\n",
      "\n",
      "\n",
      "\n",
      "33\n",
      "0.15558144460919296\n",
      "0.9902157551430005\n",
      "\n",
      "\n",
      "\n",
      "34\n",
      "0.1596060156746452\n",
      "0.9902157551430005\n",
      "\n",
      "\n",
      "\n",
      "35\n",
      "0.1653251429781826\n",
      "0.9902157551430005\n",
      "\n",
      "\n",
      "\n",
      "36\n",
      "0.170726540987079\n",
      "0.9902157551430005\n",
      "\n",
      "\n",
      "\n",
      "37\n",
      "0.17559839017157383\n",
      "0.9902157551430005\n",
      "\n",
      "\n",
      "\n",
      "38\n",
      "0.18099978818047024\n",
      "0.9899648770697441\n",
      "\n",
      "\n",
      "\n",
      "39\n",
      "0.1860834568947257\n",
      "0.9899648770697441\n",
      "\n",
      "\n",
      "\n",
      "40\n",
      "0.19127303537386148\n",
      "0.9899648770697441\n",
      "\n",
      "\n",
      "\n",
      "41\n",
      "0.19699216267739886\n",
      "0.9899648770697441\n",
      "\n",
      "\n",
      "\n",
      "42\n",
      "0.20239356068629527\n",
      "0.9899648770697441\n",
      "\n",
      "\n",
      "\n",
      "43\n",
      "0.20790086846007202\n",
      "0.9899648770697441\n",
      "\n",
      "\n",
      "\n",
      "44\n",
      "0.2121372590552849\n",
      "0.9899648770697441\n",
      "\n",
      "\n",
      "\n",
      "45\n",
      "0.21743274729930098\n",
      "0.9897139989964877\n",
      "\n",
      "\n",
      "\n",
      "46\n",
      "0.22368142342723998\n",
      "0.9897139989964877\n",
      "\n",
      "\n",
      "\n",
      "47\n",
      "0.22908282143613642\n",
      "0.9897139989964877\n",
      "\n",
      "\n",
      "\n",
      "48\n",
      "0.23469603897479346\n",
      "0.9897139989964877\n",
      "\n",
      "\n",
      "\n",
      "49\n",
      "0.23956788815928828\n",
      "0.9897139989964877\n",
      "\n",
      "\n",
      "\n",
      "50\n",
      "0.24560474475746663\n",
      "0.9897139989964877\n",
      "\n",
      "\n",
      "\n",
      "51\n",
      "0.2507943232366024\n",
      "0.9897139989964877\n",
      "\n",
      "\n",
      "\n",
      "52\n",
      "0.2567252700699004\n",
      "0.9897139989964877\n",
      "\n",
      "\n",
      "\n",
      "53\n",
      "0.2629739461978394\n",
      "0.9897139989964877\n",
      "\n",
      "\n",
      "\n",
      "54\n",
      "0.26943444185553905\n",
      "0.9897139989964877\n",
      "\n",
      "\n",
      "\n",
      "55\n",
      "0.2745181105697945\n",
      "0.9897139989964877\n",
      "\n",
      "\n",
      "\n",
      "56\n",
      "0.2801313281084516\n",
      "0.9897139989964877\n",
      "\n",
      "\n",
      "\n",
      "57\n",
      "0.28616818470662997\n",
      "0.9897139989964877\n",
      "\n",
      "\n",
      "\n",
      "58\n",
      "0.29442914636729506\n",
      "0.9894631209232313\n",
      "\n",
      "\n",
      "\n",
      "59\n",
      "0.3003600932005931\n",
      "0.9894631209232313\n",
      "\n",
      "\n",
      "\n",
      "60\n",
      "0.30671467909341243\n",
      "0.9892122428499749\n",
      "\n",
      "\n",
      "\n",
      "61\n",
      "0.31222198686718916\n",
      "0.9892122428499749\n",
      "\n",
      "\n",
      "\n",
      "62\n",
      "0.3192120313492904\n",
      "0.9892122428499749\n",
      "\n",
      "\n",
      "\n",
      "63\n",
      "0.326307985596272\n",
      "0.9892122428499749\n",
      "\n",
      "\n",
      "\n",
      "64\n",
      "0.3330862105486126\n",
      "0.9892122428499749\n",
      "\n",
      "\n",
      "\n",
      "65\n",
      "0.34018216479559416\n",
      "0.9889613647767185\n",
      "\n",
      "\n",
      "\n",
      "66\n",
      "0.34600720186401185\n",
      "0.9889613647767185\n",
      "\n",
      "\n",
      "\n",
      "67\n",
      "0.35373861470027534\n",
      "0.9889613647767185\n",
      "\n",
      "\n",
      "\n",
      "68\n",
      "0.3593518322389324\n",
      "0.9889613647767185\n",
      "\n",
      "\n",
      "\n",
      "69\n",
      "0.3663418767210337\n",
      "0.9884596086302058\n",
      "\n",
      "\n",
      "\n",
      "70\n",
      "0.3736496504977759\n",
      "0.9884596086302058\n",
      "\n",
      "\n",
      "\n",
      "71\n",
      "0.3795805973310739\n",
      "0.9884596086302058\n",
      "\n",
      "\n",
      "\n",
      "72\n",
      "0.38699428087269644\n",
      "0.9882087305569494\n",
      "\n",
      "\n",
      "\n",
      "73\n",
      "0.3958907011226435\n",
      "0.9882087305569494\n",
      "\n",
      "\n",
      "\n",
      "74\n",
      "0.40425757254818895\n",
      "0.9882087305569494\n",
      "\n",
      "\n",
      "\n",
      "75\n",
      "0.41315399279813597\n",
      "0.9882087305569494\n",
      "\n",
      "\n",
      "\n",
      "76\n",
      "0.41993221775047657\n",
      "0.9882087305569494\n",
      "\n",
      "\n",
      "\n",
      "77\n",
      "0.42692226223257784\n",
      "0.9882087305569494\n",
      "\n",
      "\n",
      "\n",
      "78\n",
      "0.4340182164795594\n",
      "0.9877069744104365\n",
      "\n",
      "\n",
      "\n",
      "79\n",
      "0.4429146367295065\n",
      "0.9877069744104365\n",
      "\n",
      "\n",
      "\n",
      "80\n",
      "0.45106968862529123\n",
      "0.9877069744104365\n",
      "\n",
      "\n",
      "\n",
      "81\n",
      "0.45975428934547763\n",
      "0.9874560963371801\n",
      "\n",
      "\n",
      "\n",
      "82\n",
      "0.46790934124126243\n",
      "0.9872052182639237\n",
      "\n",
      "\n",
      "\n",
      "83\n",
      "0.4758525736072866\n",
      "0.9869543401906673\n",
      "\n",
      "\n",
      "\n",
      "84\n",
      "0.4841135352679517\n",
      "0.9864525840441546\n",
      "\n",
      "\n",
      "\n",
      "85\n",
      "0.49195085786909554\n",
      "0.9864525840441546\n",
      "\n",
      "\n",
      "\n",
      "86\n",
      "0.5026477441220081\n",
      "0.9859508278976418\n",
      "\n",
      "\n",
      "\n",
      "87\n",
      "0.512179622961237\n",
      "0.985449071751129\n",
      "\n",
      "\n",
      "\n",
      "88\n",
      "0.5216055920355857\n",
      "0.9849473156046161\n",
      "\n",
      "\n",
      "\n",
      "89\n",
      "0.5325142978182589\n",
      "0.984194681384847\n",
      "\n",
      "\n",
      "\n",
      "90\n",
      "0.5428934547765304\n",
      "0.984194681384847\n",
      "\n",
      "\n",
      "\n",
      "91\n",
      "0.5521076043211184\n",
      "0.9834420471650778\n",
      "\n",
      "\n",
      "\n",
      "92\n",
      "0.5628044905740309\n",
      "0.982940291018565\n",
      "\n",
      "\n",
      "\n",
      "93\n",
      "0.5749841135352679\n",
      "0.9819367787255394\n",
      "\n",
      "\n",
      "\n",
      "94\n",
      "0.5877991950857869\n",
      "0.980431510286001\n",
      "\n",
      "\n",
      "\n",
      "95\n",
      "0.6034738402880746\n",
      "0.9799297541394882\n",
      "\n",
      "\n",
      "\n",
      "96\n",
      "0.620419402668926\n",
      "0.9771700953336678\n",
      "\n",
      "\n",
      "\n",
      "97\n",
      "0.6387417919932218\n",
      "0.9708981435022579\n",
      "\n",
      "\n",
      "\n",
      "98\n",
      "0.6644778648591401\n",
      "0.9661314601103863\n",
      "\n",
      "\n",
      "\n",
      "99\n",
      "0.6996399067994069\n",
      "0.9548419468138485\n",
      "\n",
      "\n",
      "\n"
     ]
    }
   ],
   "source": []
  },
  {
   "cell_type": "markdown",
   "metadata": {},
   "source": [
    "# Top-2 Method"
   ]
  },
  {
   "cell_type": "code",
   "execution_count": 31,
   "metadata": {},
   "outputs": [],
   "source": [
    "tprs = []\n",
    "fprs = []\n",
    "correct_genus_rate = []\n",
    "correct_species_rate = []\n",
    "for t in range(0,100,1):\n",
    "    entropy_threshold = t/100.0\n",
    "    #print(val_predicted_probs.shape)\n",
    "    n_undescribed_samples = 0\n",
    "    n_described_samples = 0\n",
    "    n_correct_undescribed_samples = 0\n",
    "    n_correct_described_samples = 0\n",
    "    n_correct_genus = 0 \n",
    "    n_correct_species = 0 \n",
    "    for i in range(len(image_val_labels)):\n",
    "        \n",
    "        label_best_specie = val_predicted_labels[i]\n",
    "       \n",
    "        #assert(val_predicted_labels[i]==val_predicted_probs[i].argmax())\n",
    "        genus_of_best_species = species2genus[label_best_specie.item()]\n",
    "        \n",
    "        sorted_probs = np.sort(val_predicted_probs[i])\n",
    "        sorted_probs = sorted_probs[::-1]\n",
    "        \n",
    "        prob_diff = abs(sorted_probs[0] - sorted_probs[1])\n",
    "        #print(prob_diff)\n",
    "        if image_val_labels[i].item() in described_species_labels:\n",
    "            #tn\n",
    "            n_described_samples +=1\n",
    "            if prob_diff >= entropy_threshold:\n",
    "                n_correct_described_samples+=1\n",
    "                if label_best_specie == image_val_labels[i]:\n",
    "                    n_correct_species+=1\n",
    "        else:\n",
    "            #tp\n",
    "            n_undescribed_samples+=1\n",
    "            if prob_diff < entropy_threshold:\n",
    "                n_correct_undescribed_samples+=1\n",
    "                real_genus = species2genus[image_val_labels[i].item()]\n",
    "                predicted_genus = genus_of_best_species\n",
    "                if real_genus == predicted_genus:\n",
    "                    n_correct_genus+=1\n",
    "        \n",
    "            \n",
    "    tprs.append(n_correct_undescribed_samples/n_undescribed_samples) # TPR = recall = sensitivity\n",
    "    fprs.append(1-n_correct_described_samples/n_described_samples) # 1-TNR = 1 - specificity\n",
    "    correct_genus_rate.append(n_correct_genus/n_undescribed_samples)\n",
    "    correct_species_rate.append(n_correct_species/n_described_samples)"
   ]
  },
  {
   "cell_type": "code",
   "execution_count": 42,
   "metadata": {},
   "outputs": [
    {
     "data": {
      "image/png": "[encoded data removed]",
      "text/plain": [
       "<Figure size 640x480 with 1 Axes>"
      ]
     },
     "metadata": {},
     "output_type": "display_data"
    }
   ],
   "source": [
    "from sklearn.metrics import roc_curve, auc\n",
    "\n",
    "roc_auc = auc(fprs, tprs)\n",
    "\n",
    "plt.figure()\n",
    "plt.plot(fprs, tprs, color='black', lw=2, label='ROC curve (area = %0.2f)' % roc_auc)\n",
    "plt.plot([0, 1], [0, 1], color='navy', lw=1, linestyle='--')\n",
    "plt.xlim([0, 1])\n",
    "plt.ylim([0, 1])\n",
    "plt.xlabel(\"False Positive Rate\")\n",
    "plt.ylabel(\"True Positive Rate\")\n",
    "plt.title('ROC Curve')\n",
    "plt.legend(loc=\"lower right\")\n",
    "plt.show()"
   ]
  },
  {
   "cell_type": "code",
   "execution_count": 52,
   "metadata": {},
   "outputs": [
    {
     "data": {
      "text/plain": [
       "[<matplotlib.lines.Line2D at 0x7e2610060ef0>]"
      ]
     },
     "execution_count": 52,
     "metadata": {},
     "output_type": "execute_result"
    },
    {
     "data": {
      "image/png": "[encoded data removed]",
      "text/plain": [
       "<Figure size 640x480 with 1 Axes>"
      ]
     },
     "metadata": {},
     "output_type": "display_data"
    }
   ],
   "source": [
    "plt.plot(correct_genus_rate)"
   ]
  },
  {
   "cell_type": "code",
   "execution_count": 53,
   "metadata": {},
   "outputs": [
    {
     "name": "stdout",
     "output_type": "stream",
     "text": [
      "0.04986902625680434\n"
     ]
    },
    {
     "data": {
      "text/plain": [
       "Text(0, 0.5, 'Correct Genus Rate')"
      ]
     },
     "execution_count": 53,
     "metadata": {},
     "output_type": "execute_result"
    },
    {
     "data": {
      "image/png": "[encoded data removed]",
      "text/plain": [
       "<Figure size 640x480 with 1 Axes>"
      ]
     },
     "metadata": {},
     "output_type": "display_data"
    }
   ],
   "source": [
    "area_correct = auc(correct_species_rate,correct_genus_rate)\n",
    "print(area_correct)\n",
    "\n",
    "plt.plot(correct_species_rate,correct_genus_rate)\n",
    "plt.xlabel(\"Correct Species Rate\")\n",
    "plt.ylabel(\"Correct Genus Rate\")"
   ]
  },
  {
   "cell_type": "code",
   "execution_count": 54,
   "metadata": {
    "scrolled": true
   },
   "outputs": [
    {
     "name": "stdout",
     "output_type": "stream",
     "text": [
      "0\n",
      "0.0\n",
      "0.9913854989231874\n",
      "\n",
      "\n",
      "\n",
      "1\n",
      "0.004815795810257645\n",
      "0.9913854989231874\n",
      "\n",
      "\n",
      "\n",
      "2\n",
      "0.007946063086925114\n",
      "0.9910265613783201\n",
      "\n",
      "\n",
      "\n",
      "3\n",
      "0.010835540573079701\n",
      "0.9910265613783201\n",
      "\n",
      "\n",
      "\n",
      "4\n",
      "0.01396580784974717\n",
      "0.990667623833453\n",
      "\n",
      "\n",
      "\n",
      "5\n",
      "0.01709607512641464\n",
      "0.990667623833453\n",
      "\n",
      "\n",
      "\n",
      "6\n",
      "0.019022393450517698\n",
      "0.990667623833453\n",
      "\n",
      "\n",
      "\n",
      "7\n",
      "0.020948711774620755\n",
      "0.990667623833453\n",
      "\n",
      "\n",
      "\n",
      "8\n",
      "0.02335660967974958\n",
      "0.990667623833453\n",
      "\n",
      "\n",
      "\n",
      "9\n",
      "0.027450036118468576\n",
      "0.990667623833453\n",
      "\n",
      "\n",
      "\n",
      "10\n",
      "0.031543462557187575\n",
      "0.990667623833453\n",
      "\n",
      "\n",
      "\n",
      "11\n",
      "0.036118468576932336\n",
      "0.990667623833453\n",
      "\n",
      "\n",
      "\n",
      "12\n",
      "0.03852636648206116\n",
      "0.9903086862885858\n",
      "\n",
      "\n",
      "\n",
      "13\n",
      "0.042379003130267275\n",
      "0.9903086862885858\n",
      "\n",
      "\n",
      "\n",
      "14\n",
      "0.04695400915001204\n",
      "0.9903086862885858\n",
      "\n",
      "\n",
      "\n",
      "15\n",
      "0.05249217433180833\n",
      "0.9903086862885858\n",
      "\n",
      "\n",
      "\n",
      "16\n",
      "0.05634481098001445\n",
      "0.9903086862885858\n",
      "\n",
      "\n",
      "\n",
      "17\n",
      "0.059956657837707684\n",
      "0.9899497487437185\n",
      "\n",
      "\n",
      "\n",
      "18\n",
      "0.06260534553334939\n",
      "0.9899497487437185\n",
      "\n",
      "\n",
      "\n",
      "19\n",
      "0.06501324343847821\n",
      "0.9895908111988514\n",
      "\n",
      "\n",
      "\n",
      "20\n",
      "0.06886588008668433\n",
      "0.9895908111988514\n",
      "\n",
      "\n",
      "\n",
      "21\n",
      "0.07271851673489044\n",
      "0.9895908111988514\n",
      "\n",
      "\n",
      "\n",
      "22\n",
      "0.07657115338309656\n",
      "0.9895908111988514\n",
      "\n",
      "\n",
      "\n",
      "23\n",
      "0.07970142065976403\n",
      "0.9895908111988514\n",
      "\n",
      "\n",
      "\n",
      "24\n",
      "0.08210931856489286\n",
      "0.9895908111988514\n",
      "\n",
      "\n",
      "\n",
      "25\n",
      "0.08644353479412473\n",
      "0.9895908111988514\n",
      "\n",
      "\n",
      "\n",
      "26\n",
      "0.0910185408138695\n",
      "0.9895908111988514\n",
      "\n",
      "\n",
      "\n",
      "27\n",
      "0.09535275704310137\n",
      "0.9895908111988514\n",
      "\n",
      "\n",
      "\n",
      "28\n",
      "0.0989646039007946\n",
      "0.9895908111988514\n",
      "\n",
      "\n",
      "\n",
      "29\n",
      "0.10329882013002649\n",
      "0.9895908111988514\n",
      "\n",
      "\n",
      "\n",
      "30\n",
      "0.10883698531182277\n",
      "0.9895908111988514\n",
      "\n",
      "\n",
      "\n",
      "31\n",
      "0.1126896219600289\n",
      "0.9895908111988514\n",
      "\n",
      "\n",
      "\n",
      "32\n",
      "0.11581988923669637\n",
      "0.9895908111988514\n",
      "\n",
      "\n",
      "\n",
      "33\n",
      "0.120635685046954\n",
      "0.9895908111988514\n",
      "\n",
      "\n",
      "\n",
      "34\n",
      "0.12400674211413436\n",
      "0.9895908111988514\n",
      "\n",
      "\n",
      "\n",
      "35\n",
      "0.13098964603900795\n",
      "0.988872936109117\n",
      "\n",
      "\n",
      "\n",
      "36\n",
      "0.13628702143029137\n",
      "0.988872936109117\n",
      "\n",
      "\n",
      "\n",
      "37\n",
      "0.14206597640260052\n",
      "0.988872936109117\n",
      "\n",
      "\n",
      "\n",
      "38\n",
      "0.14615940284131954\n",
      "0.988872936109117\n",
      "\n",
      "\n",
      "\n",
      "39\n",
      "0.15025282928003852\n",
      "0.988872936109117\n",
      "\n",
      "\n",
      "\n",
      "40\n",
      "0.15530941488080904\n",
      "0.988872936109117\n",
      "\n",
      "\n",
      "\n",
      "41\n",
      "0.15940284131952806\n",
      "0.988872936109117\n",
      "\n",
      "\n",
      "\n",
      "42\n",
      "0.16373705754875995\n",
      "0.988872936109117\n",
      "\n",
      "\n",
      "\n",
      "43\n",
      "0.169756802311582\n",
      "0.988872936109117\n",
      "\n",
      "\n",
      "\n",
      "44\n",
      "0.1748133879123525\n",
      "0.9885139985642498\n",
      "\n",
      "\n",
      "\n",
      "45\n",
      "0.18155550204671322\n",
      "0.9885139985642498\n",
      "\n",
      "\n",
      "\n",
      "46\n",
      "0.18540813869491934\n",
      "0.9885139985642498\n",
      "\n",
      "\n",
      "\n",
      "47\n",
      "0.1899831447146641\n",
      "0.9885139985642498\n",
      "\n",
      "\n",
      "\n",
      "48\n",
      "0.19503973031543462\n",
      "0.9885139985642498\n",
      "\n",
      "\n",
      "\n",
      "49\n",
      "0.20154105465928246\n",
      "0.9885139985642498\n",
      "\n",
      "\n",
      "\n",
      "50\n",
      "0.20635685046954008\n",
      "0.9885139985642498\n",
      "\n",
      "\n",
      "\n",
      "51\n",
      "0.21141343607031063\n",
      "0.9885139985642498\n",
      "\n",
      "\n",
      "\n",
      "52\n",
      "0.21671081146159402\n",
      "0.9877961234745154\n",
      "\n",
      "\n",
      "\n",
      "53\n",
      "0.22321213580544186\n",
      "0.9877961234745154\n",
      "\n",
      "\n",
      "\n",
      "54\n",
      "0.22995424993980254\n",
      "0.9877961234745154\n",
      "\n",
      "\n",
      "\n",
      "55\n",
      "0.23669636407416325\n",
      "0.9877961234745154\n",
      "\n",
      "\n",
      "\n",
      "56\n",
      "0.241271370093908\n",
      "0.9877961234745154\n",
      "\n",
      "\n",
      "\n",
      "57\n",
      "0.24680953527570432\n",
      "0.9877961234745154\n",
      "\n",
      "\n",
      "\n",
      "58\n",
      "0.25307006982903923\n",
      "0.9877961234745154\n",
      "\n",
      "\n",
      "\n",
      "59\n",
      "0.25692270647724536\n",
      "0.9877961234745154\n",
      "\n",
      "\n",
      "\n",
      "60\n",
      "0.2622200818685288\n",
      "0.9870782483847811\n",
      "\n",
      "\n",
      "\n",
      "61\n",
      "0.2679990368408379\n",
      "0.9870782483847811\n",
      "\n",
      "\n",
      "\n",
      "62\n",
      "0.2752227305562244\n",
      "0.9870782483847811\n",
      "\n",
      "\n",
      "\n",
      "63\n",
      "0.28172405490007224\n",
      "0.9870782483847811\n",
      "\n",
      "\n",
      "\n",
      "64\n",
      "0.2865398507103299\n",
      "0.9870782483847811\n",
      "\n",
      "\n",
      "\n",
      "65\n",
      "0.2930411750541777\n",
      "0.9870782483847811\n",
      "\n",
      "\n",
      "\n",
      "66\n",
      "0.3012280279316157\n",
      "0.9867193108399138\n",
      "\n",
      "\n",
      "\n",
      "67\n",
      "0.30700698290392486\n",
      "0.9867193108399138\n",
      "\n",
      "\n",
      "\n",
      "68\n",
      "0.31302672766674694\n",
      "0.9867193108399138\n",
      "\n",
      "\n",
      "\n",
      "69\n",
      "0.3200096315916205\n",
      "0.9860014357501795\n",
      "\n",
      "\n",
      "\n",
      "70\n",
      "0.3296412232121358\n",
      "0.9856424982053122\n",
      "\n",
      "\n",
      "\n",
      "71\n",
      "0.3361425475559836\n",
      "0.9849246231155779\n",
      "\n",
      "\n",
      "\n",
      "72\n",
      "0.3448109800144474\n",
      "0.9845656855707107\n",
      "\n",
      "\n",
      "\n",
      "73\n",
      "0.35034914519624366\n",
      "0.9842067480258435\n",
      "\n",
      "\n",
      "\n",
      "74\n",
      "0.3582952082831688\n",
      "0.9831299353912419\n",
      "\n",
      "\n",
      "\n",
      "75\n",
      "0.36672285095111967\n",
      "0.9827709978463748\n",
      "\n",
      "\n",
      "\n",
      "76\n",
      "0.37515049361907055\n",
      "0.9824120603015075\n",
      "\n",
      "\n",
      "\n",
      "77\n",
      "0.3833373464965085\n",
      "0.9824120603015075\n",
      "\n",
      "\n",
      "\n",
      "78\n",
      "0.3908018300024079\n",
      "0.9813352476669059\n",
      "\n",
      "\n",
      "\n",
      "79\n",
      "0.39802552371779437\n",
      "0.9813352476669059\n",
      "\n",
      "\n",
      "\n",
      "80\n",
      "0.40669395617625814\n",
      "0.9813352476669059\n",
      "\n",
      "\n",
      "\n",
      "81\n",
      "0.41849265591138934\n",
      "0.9809763101220388\n",
      "\n",
      "\n",
      "\n",
      "82\n",
      "0.42860582711293044\n",
      "0.9806173725771715\n",
      "\n",
      "\n",
      "\n",
      "83\n",
      "0.4394413676860101\n",
      "0.9798994974874372\n",
      "\n",
      "\n",
      "\n",
      "84\n",
      "0.4483505899349868\n",
      "0.9791816223977028\n",
      "\n",
      "\n",
      "\n",
      "85\n",
      "0.4611124488321695\n",
      "0.9777458722182341\n",
      "\n",
      "\n",
      "\n",
      "86\n",
      "0.47531904647242956\n",
      "0.9766690595836325\n",
      "\n",
      "\n",
      "\n",
      "87\n",
      "0.48735853599807366\n",
      "0.9763101220387652\n",
      "\n",
      "\n",
      "\n",
      "88\n",
      "0.498916445942692\n",
      "0.9759511844938981\n",
      "\n",
      "\n",
      "\n",
      "89\n",
      "0.5116783048398748\n",
      "0.9755922469490309\n",
      "\n",
      "\n",
      "\n",
      "90\n",
      "0.5268480616421863\n",
      "0.9745154343144293\n",
      "\n",
      "\n",
      "\n",
      "91\n",
      "0.5408138694919336\n",
      "0.9734386216798278\n",
      "\n",
      "\n",
      "\n",
      "92\n",
      "0.5528533590175777\n",
      "0.9712849964106246\n",
      "\n",
      "\n",
      "\n",
      "93\n",
      "0.5713941728870696\n",
      "0.9698492462311558\n",
      "\n",
      "\n",
      "\n",
      "94\n",
      "0.5875270888514327\n",
      "0.968413496051687\n",
      "\n",
      "\n",
      "\n",
      "95\n",
      "0.6065494823019504\n",
      "0.9655419956927495\n",
      "\n",
      "\n",
      "\n",
      "96\n",
      "0.6250902961714423\n",
      "0.9583632447954056\n",
      "\n",
      "\n",
      "\n",
      "97\n",
      "0.6498916445942692\n",
      "0.9508255563531945\n",
      "\n",
      "\n",
      "\n",
      "98\n",
      "0.676860101131712\n",
      "0.9407753050969131\n",
      "\n",
      "\n",
      "\n",
      "99\n",
      "0.7093667228509511\n",
      "0.9073941134242641\n",
      "\n",
      "\n",
      "\n"
     ]
    }
   ],
   "source": [
    "for index in range(0,100,1):\n",
    "    print(index)\n",
    "    print(correct_genus_rate[index])\n",
    "    print(correct_species_rate[index])\n",
    "    print('\\n\\n')"
   ]
  },
  {
   "cell_type": "code",
   "execution_count": 56,
   "metadata": {},
   "outputs": [
    {
     "name": "stdout",
     "output_type": "stream",
     "text": [
      "0.20635685046954008\n"
     ]
    },
    {
     "data": {
      "text/plain": [
       "0.9885139985642498"
      ]
     },
     "execution_count": 56,
     "metadata": {},
     "output_type": "execute_result"
    }
   ],
   "source": [
    "print(correct_genus_rate[50])\n",
    "correct_species_rate[50]"
   ]
  },
  {
   "cell_type": "code",
   "execution_count": null,
   "metadata": {},
   "outputs": [],
   "source": []
  },
  {
   "cell_type": "code",
   "execution_count": null,
   "metadata": {},
   "outputs": [],
   "source": []
  },
  {
   "cell_type": "code",
   "execution_count": null,
   "metadata": {},
   "outputs": [],
   "source": []
  },
  {
   "cell_type": "code",
   "execution_count": null,
   "metadata": {},
   "outputs": [],
   "source": []
  }
 ],
 "metadata": {
  "kernelspec": {
   "display_name": "Python 3 (ipykernel)",
   "language": "python",
   "name": "python3"
  },
  "language_info": {
   "codemirror_mode": {
    "name": "ipython",
    "version": 3
   },
   "file_extension": ".py",
   "mimetype": "text/x-python",
   "name": "python",
   "nbconvert_exporter": "python",
   "pygments_lexer": "ipython3",
   "version": "3.12.2"
  }
 },
 "nbformat": 4,
 "nbformat_minor": 4
}
