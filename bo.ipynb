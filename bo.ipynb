{
 "cells": [
  {
   "cell_type": "code",
   "execution_count": 1,
   "id": "49990e84-12ce-43d4-8120-1447e55c6e3a",
   "metadata": {},
   "outputs": [],
   "source": [
    "import scipy.io as io"
   ]
  },
  {
   "cell_type": "code",
   "execution_count": 3,
   "id": "2f50939d-18d3-4e41-97d3-80eca79363b0",
   "metadata": {
    "scrolled": true
   },
   "outputs": [],
   "source": [
    "dset = io.loadmat('matlab_dataset/insect_dataset.mat')"
   ]
  },
  {
   "cell_type": "code",
   "execution_count": 6,
   "id": "1201f58f-df6d-4e34-9e3e-ba04d5492f08",
   "metadata": {},
   "outputs": [
    {
     "data": {
      "text/plain": [
       "dict_keys(['__header__', '__version__', '__globals__', 'all_images', 'all_dnas', 'all_labels', 'all_dnas_norepeat', 'all_dna_labels_norepeat', 'all_boldids', 'train_loc', 'val_seen_loc', 'val_unseen_loc', 'test_seen_loc', 'test_unseen_loc', 'species2genus', 'described_species_labels_train', 'described_species_labels_trainval', 'all_dna_features_cnn_original', 'all_image_features_resnet', 'all_image_features_gan', 'all_dna_features_cnn_new', 'all_string_dnas'])"
      ]
     },
     "execution_count": 6,
     "metadata": {},
     "output_type": "execute_result"
    }
   ],
   "source": [
    "dset.keys()"
   ]
  },
  {
   "cell_type": "code",
   "execution_count": 7,
   "id": "e1a54b34-424d-403c-88ff-634db2a754b5",
   "metadata": {},
   "outputs": [
    {
     "data": {
      "text/plain": [
       "'FBCOA785-10  '"
      ]
     },
     "execution_count": 7,
     "metadata": {},
     "output_type": "execute_result"
    }
   ],
   "source": [
    "dset['all_boldids'][0]"
   ]
  },
  {
   "cell_type": "code",
   "execution_count": 9,
   "id": "aaa9b2b8-4c73-4119-be96-2b9b1ea564a3",
   "metadata": {},
   "outputs": [
    {
     "data": {
      "text/plain": [
       "array([[   1,    1,    1, ..., 1050, 1050, 1050]])"
      ]
     },
     "execution_count": 9,
     "metadata": {},
     "output_type": "execute_result"
    }
   ],
   "source": [
    "dset['all_labels']"
   ]
  },
  {
   "cell_type": "code",
   "execution_count": 14,
   "id": "82a1b95d-9c4d-43ea-bbef-86cf5331c1e3",
   "metadata": {},
   "outputs": [
    {
     "data": {
      "text/plain": [
       "array([235])"
      ]
     },
     "execution_count": 14,
     "metadata": {},
     "output_type": "execute_result"
    }
   ],
   "source": [
    "\n",
    "dset['species2genus'][0]"
   ]
  },
  {
   "cell_type": "code",
   "execution_count": 12,
   "id": "d60570e1-5d76-44f2-9c20-a7be1c0cf680",
   "metadata": {},
   "outputs": [],
   "source": [
    "import pickle \n",
    "with open('get_unseen_fresh_samples/genusname2genuslabel.pickle', 'rb') as handle:\n",
    "    genusname2genuslabel = pickle.load(handle)"
   ]
  },
  {
   "cell_type": "code",
   "execution_count": 13,
   "id": "d650ff8f-21f3-496e-b85a-ecd53e899c29",
   "metadata": {},
   "outputs": [
    {
     "data": {
      "text/plain": [
       "234"
      ]
     },
     "execution_count": 13,
     "metadata": {},
     "output_type": "execute_result"
    }
   ],
   "source": [
    "genusname2genuslabel['Abax']"
   ]
  },
  {
   "cell_type": "code",
   "execution_count": 15,
   "id": "adce8e4c-d26a-4d65-9df3-3e1386841926",
   "metadata": {},
   "outputs": [
    {
     "data": {
      "text/plain": [
       "0.3448458"
      ]
     },
     "execution_count": 15,
     "metadata": {},
     "output_type": "execute_result"
    }
   ],
   "source": [
    "dset['all_images'].mean()"
   ]
  },
  {
   "cell_type": "code",
   "execution_count": 16,
   "id": "bbf34954-7180-405e-8936-c9c6180bcb3a",
   "metadata": {},
   "outputs": [
    {
     "data": {
      "text/plain": [
       "0.466251"
      ]
     },
     "execution_count": 16,
     "metadata": {},
     "output_type": "execute_result"
    }
   ],
   "source": [
    "newdset = io.loadmat('get_unseen_fresh_samples/unseen_insect_dataset.mat')\n",
    "newdset['all_images'].mean()"
   ]
  },
  {
   "cell_type": "code",
   "execution_count": 18,
   "id": "e5f014a8-8b6f-47a1-b1ef-95cdb2333598",
   "metadata": {},
   "outputs": [
    {
     "data": {
      "text/plain": [
       "0.19966082949550673"
      ]
     },
     "execution_count": 18,
     "metadata": {},
     "output_type": "execute_result"
    }
   ],
   "source": [
    "dset['all_dnas'].mean()"
   ]
  },
  {
   "cell_type": "code",
   "execution_count": 19,
   "id": "30f2cf0d-f235-4bbd-9708-00c145cacc2a",
   "metadata": {},
   "outputs": [
    {
     "data": {
      "text/plain": [
       "0.19815148996884593"
      ]
     },
     "execution_count": 19,
     "metadata": {},
     "output_type": "execute_result"
    }
   ],
   "source": [
    "newdset['all_dnas'].mean()"
   ]
  },
  {
   "cell_type": "code",
   "execution_count": null,
   "id": "a210388c-2fc7-4523-9652-ebac7829f6f3",
   "metadata": {},
   "outputs": [],
   "source": []
  }
 ],
 "metadata": {
  "kernelspec": {
   "display_name": "Python 3 (ipykernel)",
   "language": "python",
   "name": "python3"
  },
  "language_info": {
   "codemirror_mode": {
    "name": "ipython",
    "version": 3
   },
   "file_extension": ".py",
   "mimetype": "text/x-python",
   "name": "python",
   "nbconvert_exporter": "python",
   "pygments_lexer": "ipython3",
   "version": "3.12.2"
  }
 },
 "nbformat": 4,
 "nbformat_minor": 5
}
